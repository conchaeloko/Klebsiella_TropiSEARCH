{
 "cells": [
  {
   "cell_type": "markdown",
   "metadata": {},
   "source": [
    "# Running Affinity Propagation on the depolymerase dataset \n",
    "***"
   ]
  },
  {
   "cell_type": "markdown",
   "metadata": {},
   "source": [
    "> Pre work : moving the files to local"
   ]
  },
  {
   "cell_type": "markdown",
   "metadata": {},
   "source": [
    "### 1. Importing the modules "
   ]
  },
  {
   "cell_type": "markdown",
   "metadata": {},
   "source": [
    "> Local "
   ]
  },
  {
   "cell_type": "code",
   "execution_count": 10,
   "metadata": {},
   "outputs": [
    {
     "name": "stderr",
     "output_type": "stream",
     "text": [
      "/home/concha-eloko/.local/lib/python3.8/site-packages/Bio/pairwise2.py:278: BiopythonDeprecationWarning: Bio.pairwise2 has been deprecated, and we intend to remove it in a future release of Biopython. As an alternative, please consider using Bio.Align.PairwiseAligner as a replacement, and contact the Biopython developers if you still need the Bio.pairwise2 module.\n",
      "  warnings.warn(\n"
     ]
    }
   ],
   "source": [
    "import pandas as pd\n",
    "import numpy as np\n",
    "import os\n",
    "import seaborn as sns\n",
    "import scipy as sp\n",
    "import subprocess\n",
    "from scipy.spatial import distance\n",
    "from tqdm import tqdm\n",
    "from collections import Counter\n",
    "import math\n",
    "import datetime as dt\n",
    "import matplotlib.pyplot as plt\n",
    "from Bio import SeqIO, Entrez, pairwise2\n",
    "from sklearn.decomposition import PCA"
   ]
  },
  {
   "cell_type": "markdown",
   "metadata": {},
   "source": [
    "> Remote"
   ]
  },
  {
   "cell_type": "code",
   "execution_count": null,
   "metadata": {},
   "outputs": [],
   "source": [
    "import pandas as pd\n",
    "import numpy as np\n",
    "import os\n",
    "import scipy as sp\n",
    "import subprocess\n",
    "from scipy.spatial import distance\n",
    "from tqdm import tqdm\n",
    "from collections import Counter\n",
    "import math\n",
    "import datetime as dt\n",
    "from Bio import SeqIO, Entrez, pairwise2\n",
    "from sklearn.decomposition import PCA"
   ]
  },
  {
   "cell_type": "markdown",
   "metadata": {},
   "source": [
    "***\n",
    "### 2. Loading the Dataframes "
   ]
  },
  {
   "cell_type": "code",
   "execution_count": 1,
   "metadata": {},
   "outputs": [
    {
     "name": "stderr",
     "output_type": "stream",
     "text": [
      "/home/concha-eloko/.local/lib/python3.8/site-packages/tqdm/auto.py:22: TqdmWarning: IProgress not found. Please update jupyter and ipywidgets. See https://ipywidgets.readthedocs.io/en/stable/user_install.html\n",
      "  from .autonotebook import tqdm as notebook_tqdm\n"
     ]
    }
   ],
   "source": [
    "#import torch\n",
    "import os \n",
    "import pandas as pd\n",
    "from tqdm import tqdm \n",
    "\n",
    "# remote :\n",
    "path_project = \"/home/conchae/prediction_depolymerase_tropism/prophage_prediction/depolymerase_decipher/ficheros_28032023\"\n",
    "path_similarity = \"/home/conchae/prediction_depolymerase_tropism/prophage_prediction/prophage_similarity/phageboost/fastANI_20102022_out\"\n",
    "path_db = \"/home/conchae/prediction_depolymerase_tropism/prophage_prediction/depolymerase_decipher/15122022_session\"\n",
    "\n",
    "esm2_depo = pd.read_csv(f\"{path_project}/Dpo.0805.embeddings.ultimate.csv\" , header = None, sep = \",\" , index_col = 0)\n",
    "#esm2_depo = esm2_depo.drop([1281], axis = 1)\n",
    "\n",
    "family_df = pd.read_csv(f\"{path_similarity}/clusters_99_80.extra_clean.2004.v2.tsv\", sep = \"\\t\", header = 0)\n",
    "df_info = pd.read_csv(f\"{path_db}/DF_Dpo.final.1005.tsv\" , sep = \"\\t\", header =0)\n",
    "\n",
    "# local :\n",
    "#path_project = \"/media/concha-eloko/Linux/PPT_clean\"\n",
    "#path_esm = f\"{path_project}/Dpo_domains.0805.final.multi.out\"\n",
    "#esm2_depo = pd.read_csv(f\"{path_project}/Dpo.0805.embeddings.csv\" , header = None, sep = \",\" , index_col = 0)"
   ]
  },
  {
   "cell_type": "code",
   "execution_count": 14,
   "metadata": {},
   "outputs": [
    {
     "data": {
      "text/html": [
       "<div>\n",
       "<style scoped>\n",
       "    .dataframe tbody tr th:only-of-type {\n",
       "        vertical-align: middle;\n",
       "    }\n",
       "\n",
       "    .dataframe tbody tr th {\n",
       "        vertical-align: top;\n",
       "    }\n",
       "\n",
       "    .dataframe thead th {\n",
       "        text-align: right;\n",
       "    }\n",
       "</style>\n",
       "<table border=\"1\" class=\"dataframe\">\n",
       "  <thead>\n",
       "    <tr style=\"text-align: right;\">\n",
       "      <th></th>\n",
       "      <th>1</th>\n",
       "      <th>2</th>\n",
       "      <th>3</th>\n",
       "      <th>4</th>\n",
       "      <th>5</th>\n",
       "      <th>6</th>\n",
       "      <th>7</th>\n",
       "      <th>8</th>\n",
       "      <th>9</th>\n",
       "      <th>10</th>\n",
       "      <th>...</th>\n",
       "      <th>1271</th>\n",
       "      <th>1272</th>\n",
       "      <th>1273</th>\n",
       "      <th>1274</th>\n",
       "      <th>1275</th>\n",
       "      <th>1276</th>\n",
       "      <th>1277</th>\n",
       "      <th>1278</th>\n",
       "      <th>1279</th>\n",
       "      <th>1280</th>\n",
       "    </tr>\n",
       "    <tr>\n",
       "      <th>0</th>\n",
       "      <th></th>\n",
       "      <th></th>\n",
       "      <th></th>\n",
       "      <th></th>\n",
       "      <th></th>\n",
       "      <th></th>\n",
       "      <th></th>\n",
       "      <th></th>\n",
       "      <th></th>\n",
       "      <th></th>\n",
       "      <th></th>\n",
       "      <th></th>\n",
       "      <th></th>\n",
       "      <th></th>\n",
       "      <th></th>\n",
       "      <th></th>\n",
       "      <th></th>\n",
       "      <th></th>\n",
       "      <th></th>\n",
       "      <th></th>\n",
       "      <th></th>\n",
       "    </tr>\n",
       "  </thead>\n",
       "  <tbody>\n",
       "    <tr>\n",
       "      <th>ppt__2930</th>\n",
       "      <td>-0.000061</td>\n",
       "      <td>-0.017329</td>\n",
       "      <td>0.012884</td>\n",
       "      <td>0.037123</td>\n",
       "      <td>-0.123747</td>\n",
       "      <td>0.004186</td>\n",
       "      <td>-0.061367</td>\n",
       "      <td>-0.056718</td>\n",
       "      <td>-0.037215</td>\n",
       "      <td>0.017796</td>\n",
       "      <td>...</td>\n",
       "      <td>0.098806</td>\n",
       "      <td>0.012989</td>\n",
       "      <td>-0.001155</td>\n",
       "      <td>0.139749</td>\n",
       "      <td>-0.030987</td>\n",
       "      <td>0.059306</td>\n",
       "      <td>0.107041</td>\n",
       "      <td>-0.041463</td>\n",
       "      <td>-0.085581</td>\n",
       "      <td>0.114973</td>\n",
       "    </tr>\n",
       "    <tr>\n",
       "      <th>ppt__3300</th>\n",
       "      <td>0.004044</td>\n",
       "      <td>0.040011</td>\n",
       "      <td>-0.001234</td>\n",
       "      <td>-0.095745</td>\n",
       "      <td>-0.058056</td>\n",
       "      <td>-0.002394</td>\n",
       "      <td>0.007648</td>\n",
       "      <td>-0.059740</td>\n",
       "      <td>0.060850</td>\n",
       "      <td>0.027698</td>\n",
       "      <td>...</td>\n",
       "      <td>-0.020369</td>\n",
       "      <td>0.016287</td>\n",
       "      <td>0.062586</td>\n",
       "      <td>-0.024336</td>\n",
       "      <td>0.019276</td>\n",
       "      <td>0.069623</td>\n",
       "      <td>0.035261</td>\n",
       "      <td>-0.118962</td>\n",
       "      <td>0.035672</td>\n",
       "      <td>0.085582</td>\n",
       "    </tr>\n",
       "    <tr>\n",
       "      <th>ppt__1182</th>\n",
       "      <td>0.018767</td>\n",
       "      <td>0.068116</td>\n",
       "      <td>-0.009109</td>\n",
       "      <td>-0.012598</td>\n",
       "      <td>-0.107001</td>\n",
       "      <td>0.011569</td>\n",
       "      <td>-0.030943</td>\n",
       "      <td>-0.045359</td>\n",
       "      <td>0.048923</td>\n",
       "      <td>0.032816</td>\n",
       "      <td>...</td>\n",
       "      <td>0.014524</td>\n",
       "      <td>-0.024645</td>\n",
       "      <td>0.071878</td>\n",
       "      <td>0.018206</td>\n",
       "      <td>0.042790</td>\n",
       "      <td>0.088410</td>\n",
       "      <td>0.031970</td>\n",
       "      <td>-0.124592</td>\n",
       "      <td>0.070040</td>\n",
       "      <td>0.065348</td>\n",
       "    </tr>\n",
       "    <tr>\n",
       "      <th>ppt__3540</th>\n",
       "      <td>-0.028261</td>\n",
       "      <td>-0.047253</td>\n",
       "      <td>-0.027340</td>\n",
       "      <td>-0.052824</td>\n",
       "      <td>-0.089644</td>\n",
       "      <td>-0.023079</td>\n",
       "      <td>0.094861</td>\n",
       "      <td>0.026104</td>\n",
       "      <td>0.024001</td>\n",
       "      <td>0.089394</td>\n",
       "      <td>...</td>\n",
       "      <td>0.051728</td>\n",
       "      <td>0.005634</td>\n",
       "      <td>-0.077874</td>\n",
       "      <td>0.030336</td>\n",
       "      <td>-0.037648</td>\n",
       "      <td>0.050625</td>\n",
       "      <td>0.046142</td>\n",
       "      <td>-0.158841</td>\n",
       "      <td>-0.007670</td>\n",
       "      <td>0.034556</td>\n",
       "    </tr>\n",
       "    <tr>\n",
       "      <th>ppt__942</th>\n",
       "      <td>0.014863</td>\n",
       "      <td>0.028030</td>\n",
       "      <td>0.014927</td>\n",
       "      <td>-0.025997</td>\n",
       "      <td>-0.096138</td>\n",
       "      <td>0.016290</td>\n",
       "      <td>0.015008</td>\n",
       "      <td>-0.066254</td>\n",
       "      <td>0.077959</td>\n",
       "      <td>0.057165</td>\n",
       "      <td>...</td>\n",
       "      <td>0.008521</td>\n",
       "      <td>-0.019820</td>\n",
       "      <td>0.123201</td>\n",
       "      <td>-0.040306</td>\n",
       "      <td>0.030893</td>\n",
       "      <td>0.051362</td>\n",
       "      <td>0.047316</td>\n",
       "      <td>-0.102698</td>\n",
       "      <td>0.044830</td>\n",
       "      <td>0.084530</td>\n",
       "    </tr>\n",
       "    <tr>\n",
       "      <th>...</th>\n",
       "      <td>...</td>\n",
       "      <td>...</td>\n",
       "      <td>...</td>\n",
       "      <td>...</td>\n",
       "      <td>...</td>\n",
       "      <td>...</td>\n",
       "      <td>...</td>\n",
       "      <td>...</td>\n",
       "      <td>...</td>\n",
       "      <td>...</td>\n",
       "      <td>...</td>\n",
       "      <td>...</td>\n",
       "      <td>...</td>\n",
       "      <td>...</td>\n",
       "      <td>...</td>\n",
       "      <td>...</td>\n",
       "      <td>...</td>\n",
       "      <td>...</td>\n",
       "      <td>...</td>\n",
       "      <td>...</td>\n",
       "      <td>...</td>\n",
       "    </tr>\n",
       "    <tr>\n",
       "      <th>minibatch__1547</th>\n",
       "      <td>0.005586</td>\n",
       "      <td>0.022056</td>\n",
       "      <td>0.009792</td>\n",
       "      <td>-0.036183</td>\n",
       "      <td>-0.103171</td>\n",
       "      <td>0.028859</td>\n",
       "      <td>0.023063</td>\n",
       "      <td>-0.054788</td>\n",
       "      <td>0.088813</td>\n",
       "      <td>0.042841</td>\n",
       "      <td>...</td>\n",
       "      <td>-0.002956</td>\n",
       "      <td>-0.022535</td>\n",
       "      <td>0.096137</td>\n",
       "      <td>-0.023147</td>\n",
       "      <td>0.028822</td>\n",
       "      <td>0.064896</td>\n",
       "      <td>0.046402</td>\n",
       "      <td>-0.103289</td>\n",
       "      <td>0.030545</td>\n",
       "      <td>0.080931</td>\n",
       "    </tr>\n",
       "    <tr>\n",
       "      <th>ppt__2719</th>\n",
       "      <td>0.008973</td>\n",
       "      <td>-0.036172</td>\n",
       "      <td>0.024278</td>\n",
       "      <td>-0.005935</td>\n",
       "      <td>-0.089380</td>\n",
       "      <td>0.007263</td>\n",
       "      <td>0.032040</td>\n",
       "      <td>-0.216239</td>\n",
       "      <td>0.071972</td>\n",
       "      <td>0.054308</td>\n",
       "      <td>...</td>\n",
       "      <td>0.066656</td>\n",
       "      <td>0.034687</td>\n",
       "      <td>-0.021256</td>\n",
       "      <td>-0.080038</td>\n",
       "      <td>-0.082435</td>\n",
       "      <td>0.010141</td>\n",
       "      <td>0.103680</td>\n",
       "      <td>-0.086817</td>\n",
       "      <td>-0.067720</td>\n",
       "      <td>0.096804</td>\n",
       "    </tr>\n",
       "    <tr>\n",
       "      <th>minibatch__752</th>\n",
       "      <td>-0.007236</td>\n",
       "      <td>0.063871</td>\n",
       "      <td>-0.010960</td>\n",
       "      <td>-0.047293</td>\n",
       "      <td>-0.074936</td>\n",
       "      <td>0.014609</td>\n",
       "      <td>0.007950</td>\n",
       "      <td>-0.075715</td>\n",
       "      <td>0.072990</td>\n",
       "      <td>0.066386</td>\n",
       "      <td>...</td>\n",
       "      <td>0.008046</td>\n",
       "      <td>-0.022476</td>\n",
       "      <td>0.103217</td>\n",
       "      <td>-0.005581</td>\n",
       "      <td>0.036304</td>\n",
       "      <td>0.078642</td>\n",
       "      <td>0.037012</td>\n",
       "      <td>-0.096549</td>\n",
       "      <td>0.055382</td>\n",
       "      <td>0.070137</td>\n",
       "    </tr>\n",
       "    <tr>\n",
       "      <th>minibatch__670</th>\n",
       "      <td>0.031380</td>\n",
       "      <td>0.057855</td>\n",
       "      <td>0.000624</td>\n",
       "      <td>-0.037998</td>\n",
       "      <td>-0.121193</td>\n",
       "      <td>-0.013395</td>\n",
       "      <td>-0.014228</td>\n",
       "      <td>-0.074131</td>\n",
       "      <td>0.028255</td>\n",
       "      <td>0.015987</td>\n",
       "      <td>...</td>\n",
       "      <td>0.000497</td>\n",
       "      <td>-0.020798</td>\n",
       "      <td>0.084236</td>\n",
       "      <td>0.024419</td>\n",
       "      <td>0.002759</td>\n",
       "      <td>0.055592</td>\n",
       "      <td>0.084443</td>\n",
       "      <td>-0.081453</td>\n",
       "      <td>0.058807</td>\n",
       "      <td>0.077090</td>\n",
       "    </tr>\n",
       "    <tr>\n",
       "      <th>ppt__3402</th>\n",
       "      <td>-0.016418</td>\n",
       "      <td>0.036180</td>\n",
       "      <td>0.000740</td>\n",
       "      <td>-0.034794</td>\n",
       "      <td>-0.077590</td>\n",
       "      <td>0.018976</td>\n",
       "      <td>0.059639</td>\n",
       "      <td>-0.106567</td>\n",
       "      <td>0.081609</td>\n",
       "      <td>0.020246</td>\n",
       "      <td>...</td>\n",
       "      <td>0.003633</td>\n",
       "      <td>-0.023323</td>\n",
       "      <td>0.116824</td>\n",
       "      <td>-0.034831</td>\n",
       "      <td>0.026487</td>\n",
       "      <td>0.082494</td>\n",
       "      <td>0.045719</td>\n",
       "      <td>-0.109192</td>\n",
       "      <td>0.037012</td>\n",
       "      <td>0.113752</td>\n",
       "    </tr>\n",
       "  </tbody>\n",
       "</table>\n",
       "<p>1763 rows × 1280 columns</p>\n",
       "</div>"
      ],
      "text/plain": [
       "                     1         2         3         4         5         6     \\\n",
       "0                                                                             \n",
       "ppt__2930       -0.000061 -0.017329  0.012884  0.037123 -0.123747  0.004186   \n",
       "ppt__3300        0.004044  0.040011 -0.001234 -0.095745 -0.058056 -0.002394   \n",
       "ppt__1182        0.018767  0.068116 -0.009109 -0.012598 -0.107001  0.011569   \n",
       "ppt__3540       -0.028261 -0.047253 -0.027340 -0.052824 -0.089644 -0.023079   \n",
       "ppt__942         0.014863  0.028030  0.014927 -0.025997 -0.096138  0.016290   \n",
       "...                   ...       ...       ...       ...       ...       ...   \n",
       "minibatch__1547  0.005586  0.022056  0.009792 -0.036183 -0.103171  0.028859   \n",
       "ppt__2719        0.008973 -0.036172  0.024278 -0.005935 -0.089380  0.007263   \n",
       "minibatch__752  -0.007236  0.063871 -0.010960 -0.047293 -0.074936  0.014609   \n",
       "minibatch__670   0.031380  0.057855  0.000624 -0.037998 -0.121193 -0.013395   \n",
       "ppt__3402       -0.016418  0.036180  0.000740 -0.034794 -0.077590  0.018976   \n",
       "\n",
       "                     7         8         9         10    ...      1271  \\\n",
       "0                                                        ...             \n",
       "ppt__2930       -0.061367 -0.056718 -0.037215  0.017796  ...  0.098806   \n",
       "ppt__3300        0.007648 -0.059740  0.060850  0.027698  ... -0.020369   \n",
       "ppt__1182       -0.030943 -0.045359  0.048923  0.032816  ...  0.014524   \n",
       "ppt__3540        0.094861  0.026104  0.024001  0.089394  ...  0.051728   \n",
       "ppt__942         0.015008 -0.066254  0.077959  0.057165  ...  0.008521   \n",
       "...                   ...       ...       ...       ...  ...       ...   \n",
       "minibatch__1547  0.023063 -0.054788  0.088813  0.042841  ... -0.002956   \n",
       "ppt__2719        0.032040 -0.216239  0.071972  0.054308  ...  0.066656   \n",
       "minibatch__752   0.007950 -0.075715  0.072990  0.066386  ...  0.008046   \n",
       "minibatch__670  -0.014228 -0.074131  0.028255  0.015987  ...  0.000497   \n",
       "ppt__3402        0.059639 -0.106567  0.081609  0.020246  ...  0.003633   \n",
       "\n",
       "                     1272      1273      1274      1275      1276      1277  \\\n",
       "0                                                                             \n",
       "ppt__2930        0.012989 -0.001155  0.139749 -0.030987  0.059306  0.107041   \n",
       "ppt__3300        0.016287  0.062586 -0.024336  0.019276  0.069623  0.035261   \n",
       "ppt__1182       -0.024645  0.071878  0.018206  0.042790  0.088410  0.031970   \n",
       "ppt__3540        0.005634 -0.077874  0.030336 -0.037648  0.050625  0.046142   \n",
       "ppt__942        -0.019820  0.123201 -0.040306  0.030893  0.051362  0.047316   \n",
       "...                   ...       ...       ...       ...       ...       ...   \n",
       "minibatch__1547 -0.022535  0.096137 -0.023147  0.028822  0.064896  0.046402   \n",
       "ppt__2719        0.034687 -0.021256 -0.080038 -0.082435  0.010141  0.103680   \n",
       "minibatch__752  -0.022476  0.103217 -0.005581  0.036304  0.078642  0.037012   \n",
       "minibatch__670  -0.020798  0.084236  0.024419  0.002759  0.055592  0.084443   \n",
       "ppt__3402       -0.023323  0.116824 -0.034831  0.026487  0.082494  0.045719   \n",
       "\n",
       "                     1278      1279      1280  \n",
       "0                                              \n",
       "ppt__2930       -0.041463 -0.085581  0.114973  \n",
       "ppt__3300       -0.118962  0.035672  0.085582  \n",
       "ppt__1182       -0.124592  0.070040  0.065348  \n",
       "ppt__3540       -0.158841 -0.007670  0.034556  \n",
       "ppt__942        -0.102698  0.044830  0.084530  \n",
       "...                   ...       ...       ...  \n",
       "minibatch__1547 -0.103289  0.030545  0.080931  \n",
       "ppt__2719       -0.086817 -0.067720  0.096804  \n",
       "minibatch__752  -0.096549  0.055382  0.070137  \n",
       "minibatch__670  -0.081453  0.058807  0.077090  \n",
       "ppt__3402       -0.109192  0.037012  0.113752  \n",
       "\n",
       "[1763 rows x 1280 columns]"
      ]
     },
     "execution_count": 14,
     "metadata": {},
     "output_type": "execute_result"
    }
   ],
   "source": [
    "esm2_depo = esm2_depo[0:1000]"
   ]
  },
  {
   "cell_type": "markdown",
   "metadata": {},
   "source": [
    "***\n",
    "# 3. Affinity propagation\n"
   ]
  },
  {
   "cell_type": "code",
   "execution_count": 30,
   "metadata": {
    "collapsed": true,
    "jupyter": {
     "outputs_hidden": true,
     "source_hidden": true
    }
   },
   "outputs": [
    {
     "data": {
      "image/png": "[encoded data removed]",
      "text/plain": [
       "<Figure size 800x600 with 1 Axes>"
      ]
     },
     "metadata": {},
     "output_type": "display_data"
    }
   ],
   "source": [
    "pca = PCA(.95)\n",
    "pca_scaled_x = pca.fit_transform(esm2_depo)\n",
    "\n",
    "\n",
    "    # Writing the figures :\n",
    "features = range(pca.n_components_)\n",
    "plt.figure(figsize=(8, 6))\n",
    "plt.bar(features, pca.explained_variance_)\n",
    "plt.xlabel('PCA feature')\n",
    "plt.ylabel('variance')\n",
    "plt.xticks(features)\n",
    "#plt.savefig(f\"{path_fig}/PCA.features.jpeg\")\n",
    "plt.show()"
   ]
  },
  {
   "cell_type": "markdown",
   "metadata": {},
   "source": [
    "## b. Affinity Propagation "
   ]
  },
  {
   "cell_type": "code",
   "execution_count": 30,
   "metadata": {},
   "outputs": [
    {
     "name": "stdout",
     "output_type": "stream",
     "text": [
      "Converged after 738 iterations.\n"
     ]
    },
    {
     "data": {
      "text/plain": [
       "890"
      ]
     },
     "execution_count": 30,
     "metadata": {},
     "output_type": "execute_result"
    }
   ],
   "source": [
    "from sklearn.cluster import AffinityPropagation\n",
    "from sklearn import metrics\n",
    "\n",
    "pref = -0.04\n",
    "af = AffinityPropagation(damping=0.95, preference=pref, random_state=123, max_iter=1000,verbose=True).fit(esm2_depo)\n",
    "cluster_centers_indices = af.cluster_centers_indices_\n",
    "labels = af.labels_\n",
    "\n",
    "n_clusters_ = len(cluster_centers_indices)\n",
    "n_clusters_"
   ]
  },
  {
   "cell_type": "code",
   "execution_count": 25,
   "metadata": {},
   "outputs": [],
   "source": [
    "import json\n",
    "\n",
    "dico_df = {\"Dpo\" : esm2_depo.index , \"Label\" : labels}\n",
    "df_results = pd.DataFrame(dico_df)\n",
    "\n",
    "dico_cluster = {}\n",
    "for index , row in df_results.iterrows() :\n",
    "    if row[\"Label\"] not in dico_cluster :\n",
    "        tmp_list = []\n",
    "        tmp_list.append(row[\"Dpo\"])\n",
    "        dico_cluster[row[\"Label\"]] = tmp_list\n",
    "    else :\n",
    "        dico_cluster[row[\"Label\"]].append(row[\"Dpo\"])\n",
    "        \n",
    "with open(f\"{path_project}/dico_cluster.ultimate.pref_{pref}.ultimate.json\", \"w\") as outfile:\n",
    "    json.dump(dico_cluster, outfile)\n",
    "    "
   ]
  },
  {
   "cell_type": "markdown",
   "metadata": {},
   "source": [
    "> The prophage vs Dpo DF"
   ]
  },
  {
   "cell_type": "code",
   "execution_count": 27,
   "metadata": {
    "collapsed": true,
    "jupyter": {
     "outputs_hidden": true
    }
   },
   "outputs": [
    {
     "name": "stderr",
     "output_type": "stream",
     "text": [
      "  0%|                                                  | 0/1359 [00:00<?, ?it/s]\n"
     ]
    },
    {
     "ename": "NameError",
     "evalue": "name 'df_info' is not defined",
     "output_type": "error",
     "traceback": [
      "\u001b[0;31m---------------------------------------------------------------------------\u001b[0m",
      "\u001b[0;31mNameError\u001b[0m                                 Traceback (most recent call last)",
      "\u001b[0;32m/tmp/ipykernel_88818/2034212054.py\u001b[0m in \u001b[0;36m<cell line: 2>\u001b[0;34m()\u001b[0m\n\u001b[1;32m      3\u001b[0m     \u001b[0mprophages_carrying\u001b[0m \u001b[0;34m=\u001b[0m \u001b[0mset\u001b[0m\u001b[0;34m(\u001b[0m\u001b[0;34m)\u001b[0m\u001b[0;34m\u001b[0m\u001b[0;34m\u001b[0m\u001b[0m\n\u001b[1;32m      4\u001b[0m     \u001b[0;32mfor\u001b[0m \u001b[0m_\u001b[0m\u001b[0;34m,\u001b[0m\u001b[0mdpo\u001b[0m \u001b[0;32min\u001b[0m \u001b[0menumerate\u001b[0m\u001b[0;34m(\u001b[0m\u001b[0mDpo_list\u001b[0m\u001b[0;34m)\u001b[0m \u001b[0;34m:\u001b[0m\u001b[0;34m\u001b[0m\u001b[0;34m\u001b[0m\u001b[0m\n\u001b[0;32m----> 5\u001b[0;31m         \u001b[0mprophages_df\u001b[0m \u001b[0;34m=\u001b[0m \u001b[0mdf_info\u001b[0m\u001b[0;34m[\u001b[0m\u001b[0mdf_info\u001b[0m\u001b[0;34m[\u001b[0m\u001b[0;34m\"index\"\u001b[0m\u001b[0;34m]\u001b[0m \u001b[0;34m==\u001b[0m \u001b[0mdpo\u001b[0m\u001b[0;34m]\u001b[0m\u001b[0;34m\u001b[0m\u001b[0;34m\u001b[0m\u001b[0m\n\u001b[0m\u001b[1;32m      6\u001b[0m         \u001b[0;32mfor\u001b[0m \u001b[0mphage\u001b[0m \u001b[0;32min\u001b[0m \u001b[0mprophages_df\u001b[0m\u001b[0;34m[\u001b[0m\u001b[0;34m\"Phage\"\u001b[0m\u001b[0;34m]\u001b[0m\u001b[0;34m.\u001b[0m\u001b[0mto_list\u001b[0m\u001b[0;34m(\u001b[0m\u001b[0;34m)\u001b[0m \u001b[0;34m:\u001b[0m\u001b[0;34m\u001b[0m\u001b[0;34m\u001b[0m\u001b[0m\n\u001b[1;32m      7\u001b[0m             \u001b[0mfamily\u001b[0m \u001b[0;34m=\u001b[0m \u001b[0mfamily_df\u001b[0m\u001b[0;34m[\u001b[0m\u001b[0mfamily_df\u001b[0m\u001b[0;34m[\u001b[0m\u001b[0;34m\"prophage\"\u001b[0m\u001b[0;34m]\u001b[0m \u001b[0;34m==\u001b[0m \u001b[0;34mf\"{phage}.fasta\"\u001b[0m\u001b[0;34m]\u001b[0m\u001b[0;34m[\u001b[0m\u001b[0;34m\"prophage_id\"\u001b[0m\u001b[0;34m]\u001b[0m\u001b[0;34m.\u001b[0m\u001b[0mvalues\u001b[0m\u001b[0;34m[\u001b[0m\u001b[0;36m0\u001b[0m\u001b[0;34m]\u001b[0m\u001b[0;34m\u001b[0m\u001b[0;34m\u001b[0m\u001b[0m\n",
      "\u001b[0;31mNameError\u001b[0m: name 'df_info' is not defined"
     ]
    }
   ],
   "source": [
    "dico_prophage_id = {}\n",
    "for Dpo_label , Dpo_list in tqdm(dico_cluster.items()) :\n",
    "    prophages_carrying = set()\n",
    "    for _,dpo in enumerate(Dpo_list) :\n",
    "        prophages_df = df_info[df_info[\"index\"] == dpo]\n",
    "        for phage in prophages_df[\"Phage\"].to_list() :\n",
    "            family = family_df[family_df[\"prophage\"] == f\"{phage}.fasta\"][\"prophage_id\"].values[0]\n",
    "            prophages_carrying.add(family)\n",
    "    dico_prophage_id[f\"Dpo__{Dpo_label}\"] = prophages_carrying"
   ]
  },
  {
   "cell_type": "code",
   "execution_count": null,
   "metadata": {},
   "outputs": [],
   "source": [
    "def build_dataframe(dico):\n",
    "    # First, let's get a list of all unique prophages across all Dpo's.\n",
    "    prophages = set(prophage for prophages in dico.values() for prophage in prophages)\n",
    "    # Now we'll create a list of lists that represents our matrix.\n",
    "    # Each sublist will be a row in the matrix and represents one prophage.\n",
    "    # The entries in the sublist will be 1 if the prophage is in the Dpo, and 0 if not.\n",
    "    matrix = [[1 if prophage in dico[dpo] else 0 for dpo in dico.keys()] for prophage in prophages]\n",
    "    # Now we'll convert the matrix to a DataFrame.\n",
    "    df = pd.DataFrame(matrix, index=prophages, columns=dico.keys())\n",
    "    return df"
   ]
  },
  {
   "cell_type": "code",
   "execution_count": null,
   "metadata": {},
   "outputs": [],
   "source": [
    "df = build_dataframe(dico_prophage_id)\n",
    "df.sort_index(inplace = True, ascending=True)\n",
    "df.to_csv(f\"{path_project}/DF_optimization/tmp/prophage_Dpo.pref_{pref}.ultimate.csv\", sep = \"\\t\")"
   ]
  },
  {
   "cell_type": "markdown",
   "metadata": {},
   "source": [
    "> The prophage vs Strains DF"
   ]
  },
  {
   "cell_type": "code",
   "execution_count": null,
   "metadata": {},
   "outputs": [],
   "source": [
    "dico_prophage_strains = {}\n",
    "for prophage_id,row in tqdm(df.iterrows()) :\n",
    "    strains = set()\n",
    "    phages = family_df[family_df[\"prophage_id\"] == prophage_id]\n",
    "    for phage in phages[\"prophage\"].to_list() :\n",
    "        strains.add(phage.split(\"__\")[0])\n",
    "    dico_prophage_strains[prophage_id] = strains"
   ]
  },
  {
   "cell_type": "code",
   "execution_count": null,
   "metadata": {},
   "outputs": [],
   "source": [
    "def dict_to_dataframe(input_dict):\n",
    "    # Create a set of all unique strains\n",
    "    all_strains = set().union(*input_dict.values())\n",
    "    # Initialize a nested dictionary with zeros\n",
    "    data = {prophage: {strain: 0 for strain in all_strains} for prophage in input_dict}\n",
    "    # Iterate over prophages and strains\n",
    "    for prophage, strains in input_dict.items():\n",
    "        for strain in strains:\n",
    "            data[prophage][strain] = 1\n",
    "    # Convert nested dictionary to DataFrame\n",
    "    df = pd.DataFrame.from_dict(data, orient='index')\n",
    "    # Convert to int\n",
    "    df = df.astype(int)\n",
    "    return df"
   ]
  },
  {
   "cell_type": "code",
   "execution_count": null,
   "metadata": {},
   "outputs": [],
   "source": [
    "df_2 = dict_to_dataframe(dico_prophage_strains)\n",
    "df_2.sort_index(inplace = True, ascending=True)\n",
    "df_2.to_csv(f\"{path_project}/prophage_strains.pref_{pref}.ultimate.csv\", sep = \"\\t\")"
   ]
  },
  {
   "cell_type": "markdown",
   "metadata": {},
   "source": [
    "> the prophage and the K_types"
   ]
  },
  {
   "cell_type": "code",
   "execution_count": null,
   "metadata": {},
   "outputs": [],
   "source": [
    "dico_prophage_k_types = {}\n",
    "for prophage_id,row in tqdm(df.iterrows()) :\n",
    "    ktypes = set()\n",
    "    phages = family_df[family_df[\"prophage_id\"] == prophage_id]\n",
    "    saved_ones = set()\n",
    "    for phage in phages[\"prophage\"].to_list() :\n",
    "        try : \n",
    "            K_type = df_info[df_info[\"Phage\"] == phage.split(\".fasta\")[0]][\"KL_type_LCA\"].values[0]\n",
    "            if len(K_type.split(\"|\")) < 4 :\n",
    "                ktypes.add(K_type)\n",
    "            else :\n",
    "                saved_ones.add(K_type)\n",
    "        except Exception as e :\n",
    "            pass\n",
    "    if len(ktypes) == 0 :\n",
    "        print(\"something is wrong here :\",prophage_id)\n",
    "        if len(saved_ones) > 0:\n",
    "            ktypes = saved_ones\n",
    "            print(saved_ones)\n",
    "        else :\n",
    "            print(\"Alright, can't be saved\")\n",
    "    dico_prophage_k_types[prophage_id] = ktypes\n"
   ]
  },
  {
   "cell_type": "code",
   "execution_count": null,
   "metadata": {},
   "outputs": [],
   "source": [
    "def dict_to_dataframe(input_dict):\n",
    "    # Create a set of all unique strains\n",
    "    all_strains = set().union(*input_dict.values())\n",
    "    # Initialize a nested dictionary with zeros\n",
    "    data = {prophage: {strain: 0 for strain in all_strains} for prophage in input_dict}\n",
    "    # Iterate over prophages and strains\n",
    "    for prophage, strains in input_dict.items():\n",
    "        for strain in strains:\n",
    "            data[prophage][strain] = 1\n",
    "    # Convert nested dictionary to DataFrame\n",
    "    df = pd.DataFrame.from_dict(data, orient='index')\n",
    "    # Convert to int\n",
    "    df = df.astype(int)\n",
    "    return df"
   ]
  },
  {
   "cell_type": "code",
   "execution_count": null,
   "metadata": {},
   "outputs": [],
   "source": [
    "df_3 = dict_to_dataframe(dico_prophage_k_types)\n",
    "df_3.sort_index(inplace = True, ascending=True)\n",
    "df_3.to_csv(f\"{path_project}/DF_optimization/prophage_K_types.ultimate.csv\", sep = \"\\t\")"
   ]
  },
  {
   "cell_type": "markdown",
   "metadata": {},
   "source": [
    "***\n",
    "# Make a RF for each K-type"
   ]
  },
  {
   "cell_type": "code",
   "execution_count": 8,
   "metadata": {
    "collapsed": true,
    "jupyter": {
     "outputs_hidden": true
    }
   },
   "outputs": [
    {
     "ename": "FileNotFoundError",
     "evalue": "[Errno 2] No such file or directory: '/home/conchae/prediction_depolymerase_tropism/prophage_prediction/depolymerase_decipher/ficheros_28032023/DF_Rafa/prophage_Dpo.pref_-0.04.csv'",
     "output_type": "error",
     "traceback": [
      "\u001b[0;31m---------------------------------------------------------------------------\u001b[0m",
      "\u001b[0;31mFileNotFoundError\u001b[0m                         Traceback (most recent call last)",
      "\u001b[0;32m/tmp/ipykernel_131008/3718382776.py\u001b[0m in \u001b[0;36m<cell line: 12>\u001b[0;34m()\u001b[0m\n\u001b[1;32m     10\u001b[0m \u001b[0mpath_DF\u001b[0m \u001b[0;34m=\u001b[0m \u001b[0;34mf\"{path_project}/DF_Rafa\"\u001b[0m\u001b[0;34m\u001b[0m\u001b[0;34m\u001b[0m\u001b[0m\n\u001b[1;32m     11\u001b[0m \u001b[0;34m\u001b[0m\u001b[0m\n\u001b[0;32m---> 12\u001b[0;31m \u001b[0mprophage_dpo_df\u001b[0m \u001b[0;34m=\u001b[0m \u001b[0mpd\u001b[0m\u001b[0;34m.\u001b[0m\u001b[0mread_csv\u001b[0m\u001b[0;34m(\u001b[0m\u001b[0;34mf\"{path_DF}/prophage_Dpo.pref_-0.04.csv\"\u001b[0m\u001b[0;34m,\u001b[0m \u001b[0mheader\u001b[0m \u001b[0;34m=\u001b[0m \u001b[0;36m0\u001b[0m \u001b[0;34m,\u001b[0m \u001b[0msep\u001b[0m \u001b[0;34m=\u001b[0m \u001b[0;34m\"\\t\"\u001b[0m \u001b[0;34m,\u001b[0m \u001b[0mindex_col\u001b[0m \u001b[0;34m=\u001b[0m \u001b[0;36m0\u001b[0m\u001b[0;34m)\u001b[0m\u001b[0;34m\u001b[0m\u001b[0;34m\u001b[0m\u001b[0m\n\u001b[0m\u001b[1;32m     13\u001b[0m \u001b[0mprophage_ktype_df\u001b[0m \u001b[0;34m=\u001b[0m \u001b[0mpd\u001b[0m\u001b[0;34m.\u001b[0m\u001b[0mread_csv\u001b[0m\u001b[0;34m(\u001b[0m\u001b[0;34mf\"{path_DF}/prophage_K_types.pref_-0.01.csv\"\u001b[0m\u001b[0;34m,\u001b[0m \u001b[0mheader\u001b[0m \u001b[0;34m=\u001b[0m \u001b[0;36m0\u001b[0m \u001b[0;34m,\u001b[0m \u001b[0msep\u001b[0m \u001b[0;34m=\u001b[0m \u001b[0;34m\"\\t\"\u001b[0m\u001b[0;34m,\u001b[0m \u001b[0mindex_col\u001b[0m \u001b[0;34m=\u001b[0m \u001b[0;36m0\u001b[0m\u001b[0;34m)\u001b[0m\u001b[0;34m\u001b[0m\u001b[0;34m\u001b[0m\u001b[0m\n",
      "\u001b[0;32m~/.local/lib/python3.8/site-packages/pandas/util/_decorators.py\u001b[0m in \u001b[0;36mwrapper\u001b[0;34m(*args, **kwargs)\u001b[0m\n\u001b[1;32m    209\u001b[0m                 \u001b[0;32melse\u001b[0m\u001b[0;34m:\u001b[0m\u001b[0;34m\u001b[0m\u001b[0;34m\u001b[0m\u001b[0m\n\u001b[1;32m    210\u001b[0m                     \u001b[0mkwargs\u001b[0m\u001b[0;34m[\u001b[0m\u001b[0mnew_arg_name\u001b[0m\u001b[0;34m]\u001b[0m \u001b[0;34m=\u001b[0m \u001b[0mnew_arg_value\u001b[0m\u001b[0;34m\u001b[0m\u001b[0;34m\u001b[0m\u001b[0m\n\u001b[0;32m--> 211\u001b[0;31m             \u001b[0;32mreturn\u001b[0m \u001b[0mfunc\u001b[0m\u001b[0;34m(\u001b[0m\u001b[0;34m*\u001b[0m\u001b[0margs\u001b[0m\u001b[0;34m,\u001b[0m \u001b[0;34m**\u001b[0m\u001b[0mkwargs\u001b[0m\u001b[0;34m)\u001b[0m\u001b[0;34m\u001b[0m\u001b[0;34m\u001b[0m\u001b[0m\n\u001b[0m\u001b[1;32m    212\u001b[0m \u001b[0;34m\u001b[0m\u001b[0m\n\u001b[1;32m    213\u001b[0m         \u001b[0;32mreturn\u001b[0m \u001b[0mcast\u001b[0m\u001b[0;34m(\u001b[0m\u001b[0mF\u001b[0m\u001b[0;34m,\u001b[0m \u001b[0mwrapper\u001b[0m\u001b[0;34m)\u001b[0m\u001b[0;34m\u001b[0m\u001b[0;34m\u001b[0m\u001b[0m\n",
      "\u001b[0;32m~/.local/lib/python3.8/site-packages/pandas/util/_decorators.py\u001b[0m in \u001b[0;36mwrapper\u001b[0;34m(*args, **kwargs)\u001b[0m\n\u001b[1;32m    329\u001b[0m                     \u001b[0mstacklevel\u001b[0m\u001b[0;34m=\u001b[0m\u001b[0mfind_stack_level\u001b[0m\u001b[0;34m(\u001b[0m\u001b[0;34m)\u001b[0m\u001b[0;34m,\u001b[0m\u001b[0;34m\u001b[0m\u001b[0;34m\u001b[0m\u001b[0m\n\u001b[1;32m    330\u001b[0m                 )\n\u001b[0;32m--> 331\u001b[0;31m             \u001b[0;32mreturn\u001b[0m \u001b[0mfunc\u001b[0m\u001b[0;34m(\u001b[0m\u001b[0;34m*\u001b[0m\u001b[0margs\u001b[0m\u001b[0;34m,\u001b[0m \u001b[0;34m**\u001b[0m\u001b[0mkwargs\u001b[0m\u001b[0;34m)\u001b[0m\u001b[0;34m\u001b[0m\u001b[0;34m\u001b[0m\u001b[0m\n\u001b[0m\u001b[1;32m    332\u001b[0m \u001b[0;34m\u001b[0m\u001b[0m\n\u001b[1;32m    333\u001b[0m         \u001b[0;31m# error: \"Callable[[VarArg(Any), KwArg(Any)], Any]\" has no\u001b[0m\u001b[0;34m\u001b[0m\u001b[0;34m\u001b[0m\u001b[0;34m\u001b[0m\u001b[0m\n",
      "\u001b[0;32m~/.local/lib/python3.8/site-packages/pandas/io/parsers/readers.py\u001b[0m in \u001b[0;36mread_csv\u001b[0;34m(filepath_or_buffer, sep, delimiter, header, names, index_col, usecols, squeeze, prefix, mangle_dupe_cols, dtype, engine, converters, true_values, false_values, skipinitialspace, skiprows, skipfooter, nrows, na_values, keep_default_na, na_filter, verbose, skip_blank_lines, parse_dates, infer_datetime_format, keep_date_col, date_parser, dayfirst, cache_dates, iterator, chunksize, compression, thousands, decimal, lineterminator, quotechar, quoting, doublequote, escapechar, comment, encoding, encoding_errors, dialect, error_bad_lines, warn_bad_lines, on_bad_lines, delim_whitespace, low_memory, memory_map, float_precision, storage_options)\u001b[0m\n\u001b[1;32m    948\u001b[0m     \u001b[0mkwds\u001b[0m\u001b[0;34m.\u001b[0m\u001b[0mupdate\u001b[0m\u001b[0;34m(\u001b[0m\u001b[0mkwds_defaults\u001b[0m\u001b[0;34m)\u001b[0m\u001b[0;34m\u001b[0m\u001b[0;34m\u001b[0m\u001b[0m\n\u001b[1;32m    949\u001b[0m \u001b[0;34m\u001b[0m\u001b[0m\n\u001b[0;32m--> 950\u001b[0;31m     \u001b[0;32mreturn\u001b[0m \u001b[0m_read\u001b[0m\u001b[0;34m(\u001b[0m\u001b[0mfilepath_or_buffer\u001b[0m\u001b[0;34m,\u001b[0m \u001b[0mkwds\u001b[0m\u001b[0;34m)\u001b[0m\u001b[0;34m\u001b[0m\u001b[0;34m\u001b[0m\u001b[0m\n\u001b[0m\u001b[1;32m    951\u001b[0m \u001b[0;34m\u001b[0m\u001b[0m\n\u001b[1;32m    952\u001b[0m \u001b[0;34m\u001b[0m\u001b[0m\n",
      "\u001b[0;32m~/.local/lib/python3.8/site-packages/pandas/io/parsers/readers.py\u001b[0m in \u001b[0;36m_read\u001b[0;34m(filepath_or_buffer, kwds)\u001b[0m\n\u001b[1;32m    603\u001b[0m \u001b[0;34m\u001b[0m\u001b[0m\n\u001b[1;32m    604\u001b[0m     \u001b[0;31m# Create the parser.\u001b[0m\u001b[0;34m\u001b[0m\u001b[0;34m\u001b[0m\u001b[0;34m\u001b[0m\u001b[0m\n\u001b[0;32m--> 605\u001b[0;31m     \u001b[0mparser\u001b[0m \u001b[0;34m=\u001b[0m \u001b[0mTextFileReader\u001b[0m\u001b[0;34m(\u001b[0m\u001b[0mfilepath_or_buffer\u001b[0m\u001b[0;34m,\u001b[0m \u001b[0;34m**\u001b[0m\u001b[0mkwds\u001b[0m\u001b[0;34m)\u001b[0m\u001b[0;34m\u001b[0m\u001b[0;34m\u001b[0m\u001b[0m\n\u001b[0m\u001b[1;32m    606\u001b[0m \u001b[0;34m\u001b[0m\u001b[0m\n\u001b[1;32m    607\u001b[0m     \u001b[0;32mif\u001b[0m \u001b[0mchunksize\u001b[0m \u001b[0;32mor\u001b[0m \u001b[0miterator\u001b[0m\u001b[0;34m:\u001b[0m\u001b[0;34m\u001b[0m\u001b[0;34m\u001b[0m\u001b[0m\n",
      "\u001b[0;32m~/.local/lib/python3.8/site-packages/pandas/io/parsers/readers.py\u001b[0m in \u001b[0;36m__init__\u001b[0;34m(self, f, engine, **kwds)\u001b[0m\n\u001b[1;32m   1440\u001b[0m \u001b[0;34m\u001b[0m\u001b[0m\n\u001b[1;32m   1441\u001b[0m         \u001b[0mself\u001b[0m\u001b[0;34m.\u001b[0m\u001b[0mhandles\u001b[0m\u001b[0;34m:\u001b[0m \u001b[0mIOHandles\u001b[0m \u001b[0;34m|\u001b[0m \u001b[0;32mNone\u001b[0m \u001b[0;34m=\u001b[0m \u001b[0;32mNone\u001b[0m\u001b[0;34m\u001b[0m\u001b[0;34m\u001b[0m\u001b[0m\n\u001b[0;32m-> 1442\u001b[0;31m         \u001b[0mself\u001b[0m\u001b[0;34m.\u001b[0m\u001b[0m_engine\u001b[0m \u001b[0;34m=\u001b[0m \u001b[0mself\u001b[0m\u001b[0;34m.\u001b[0m\u001b[0m_make_engine\u001b[0m\u001b[0;34m(\u001b[0m\u001b[0mf\u001b[0m\u001b[0;34m,\u001b[0m \u001b[0mself\u001b[0m\u001b[0;34m.\u001b[0m\u001b[0mengine\u001b[0m\u001b[0;34m)\u001b[0m\u001b[0;34m\u001b[0m\u001b[0;34m\u001b[0m\u001b[0m\n\u001b[0m\u001b[1;32m   1443\u001b[0m \u001b[0;34m\u001b[0m\u001b[0m\n\u001b[1;32m   1444\u001b[0m     \u001b[0;32mdef\u001b[0m \u001b[0mclose\u001b[0m\u001b[0;34m(\u001b[0m\u001b[0mself\u001b[0m\u001b[0;34m)\u001b[0m \u001b[0;34m->\u001b[0m \u001b[0;32mNone\u001b[0m\u001b[0;34m:\u001b[0m\u001b[0;34m\u001b[0m\u001b[0;34m\u001b[0m\u001b[0m\n",
      "\u001b[0;32m~/.local/lib/python3.8/site-packages/pandas/io/parsers/readers.py\u001b[0m in \u001b[0;36m_make_engine\u001b[0;34m(self, f, engine)\u001b[0m\n\u001b[1;32m   1733\u001b[0m                 \u001b[0;32mif\u001b[0m \u001b[0;34m\"b\"\u001b[0m \u001b[0;32mnot\u001b[0m \u001b[0;32min\u001b[0m \u001b[0mmode\u001b[0m\u001b[0;34m:\u001b[0m\u001b[0;34m\u001b[0m\u001b[0;34m\u001b[0m\u001b[0m\n\u001b[1;32m   1734\u001b[0m                     \u001b[0mmode\u001b[0m \u001b[0;34m+=\u001b[0m \u001b[0;34m\"b\"\u001b[0m\u001b[0;34m\u001b[0m\u001b[0;34m\u001b[0m\u001b[0m\n\u001b[0;32m-> 1735\u001b[0;31m             self.handles = get_handle(\n\u001b[0m\u001b[1;32m   1736\u001b[0m                 \u001b[0mf\u001b[0m\u001b[0;34m,\u001b[0m\u001b[0;34m\u001b[0m\u001b[0;34m\u001b[0m\u001b[0m\n\u001b[1;32m   1737\u001b[0m                 \u001b[0mmode\u001b[0m\u001b[0;34m,\u001b[0m\u001b[0;34m\u001b[0m\u001b[0;34m\u001b[0m\u001b[0m\n",
      "\u001b[0;32m~/.local/lib/python3.8/site-packages/pandas/io/common.py\u001b[0m in \u001b[0;36mget_handle\u001b[0;34m(path_or_buf, mode, encoding, compression, memory_map, is_text, errors, storage_options)\u001b[0m\n\u001b[1;32m    854\u001b[0m         \u001b[0;32mif\u001b[0m \u001b[0mioargs\u001b[0m\u001b[0;34m.\u001b[0m\u001b[0mencoding\u001b[0m \u001b[0;32mand\u001b[0m \u001b[0;34m\"b\"\u001b[0m \u001b[0;32mnot\u001b[0m \u001b[0;32min\u001b[0m \u001b[0mioargs\u001b[0m\u001b[0;34m.\u001b[0m\u001b[0mmode\u001b[0m\u001b[0;34m:\u001b[0m\u001b[0;34m\u001b[0m\u001b[0;34m\u001b[0m\u001b[0m\n\u001b[1;32m    855\u001b[0m             \u001b[0;31m# Encoding\u001b[0m\u001b[0;34m\u001b[0m\u001b[0;34m\u001b[0m\u001b[0;34m\u001b[0m\u001b[0m\n\u001b[0;32m--> 856\u001b[0;31m             handle = open(\n\u001b[0m\u001b[1;32m    857\u001b[0m                 \u001b[0mhandle\u001b[0m\u001b[0;34m,\u001b[0m\u001b[0;34m\u001b[0m\u001b[0;34m\u001b[0m\u001b[0m\n\u001b[1;32m    858\u001b[0m                 \u001b[0mioargs\u001b[0m\u001b[0;34m.\u001b[0m\u001b[0mmode\u001b[0m\u001b[0;34m,\u001b[0m\u001b[0;34m\u001b[0m\u001b[0;34m\u001b[0m\u001b[0m\n",
      "\u001b[0;31mFileNotFoundError\u001b[0m: [Errno 2] No such file or directory: '/home/conchae/prediction_depolymerase_tropism/prophage_prediction/depolymerase_decipher/ficheros_28032023/DF_Rafa/prophage_Dpo.pref_-0.04.csv'"
     ]
    }
   ],
   "source": [
    "import os \n",
    "import pandas as pd\n",
    "from tqdm import tqdm \n",
    "from multiprocessing.pool import ThreadPool\n",
    "\n",
    "# remote :\n",
    "path_project = \"/home/conchae/prediction_depolymerase_tropism/prophage_prediction/depolymerase_decipher/ficheros_28032023\"\n",
    "path_similarity = \"/home/conchae/prediction_depolymerase_tropism/prophage_prediction/prophage_similarity/phageboost/fastANI_20102022_out\"\n",
    "path_db = \"/home/conchae/prediction_depolymerase_tropism/prophage_prediction/depolymerase_decipher/15122022_session\"\n",
    "path_DF = f\"{path_project}/DF_Rafa\"\n",
    "\n",
    "prophage_dpo_df = pd.read_csv(f\"{path_DF}/prophage_Dpo.pref_-0.04.csv\", header = 0 , sep = \"\\t\" , index_col = 0)\n",
    "prophage_ktype_df = pd.read_csv(f\"{path_DF}/prophage_K_types.pref_-0.01.csv\", header = 0 , sep = \"\\t\", index_col = 0) \n"
   ]
  },
  {
   "cell_type": "code",
   "execution_count": 7,
   "metadata": {
    "collapsed": true,
    "jupyter": {
     "outputs_hidden": true
    }
   },
   "outputs": [
    {
     "ename": "NameError",
     "evalue": "name 'prophage_dpo_df' is not defined",
     "output_type": "error",
     "traceback": [
      "\u001b[0;31m---------------------------------------------------------------------------\u001b[0m",
      "\u001b[0;31mNameError\u001b[0m                                 Traceback (most recent call last)",
      "\u001b[0;32m/tmp/ipykernel_131008/2748260278.py\u001b[0m in \u001b[0;36m<cell line: 1>\u001b[0;34m()\u001b[0m\n\u001b[0;32m----> 1\u001b[0;31m \u001b[0mprophage_dpo_df\u001b[0m\u001b[0;34m\u001b[0m\u001b[0;34m\u001b[0m\u001b[0m\n\u001b[0m",
      "\u001b[0;31mNameError\u001b[0m: name 'prophage_dpo_df' is not defined"
     ]
    }
   ],
   "source": [
    "prophage_dpo_df\n",
    "\n",
    "for phage,row in prophage_dpo_df.iterrows() :\n",
    "    if row.sum() == 0 :\n",
    "        print(phage)\n",
    "    else :\n",
    "        print(row.sum())"
   ]
  },
  {
   "cell_type": "code",
   "execution_count": null,
   "metadata": {},
   "outputs": [],
   "source": [
    "from sklearn.ensemble import RandomForestClassifier\n",
    "from sklearn.model_selection import train_test_split, RandomizedSearchCV\n",
    "from sklearn.metrics import classification_report\n",
    "from scipy.stats import fisher_exact\n",
    "import pandas as pd\n",
    "import numpy as np\n",
    "from collections import Counter\n",
    "\n",
    "def fit_rf_model_random_search(label):\n",
    "    label_series = prophage_ktype_df[label]\n",
    "    dic_count = dict(Counter(label_series))\n",
    "    if 1 in dic_count:\n",
    "        n_infection = dic_count[1]\n",
    "        df = prophage_dpo_df\n",
    "        n_iter=3\n",
    "        X_train, X_test, y_train, y_test = train_test_split(df, label_series, test_size=0.2, random_state=42)\n",
    "        param_grid = {\n",
    "            'bootstrap': [True, False],\n",
    "            'max_depth': [10, 20, 30, 40, 50, 60, 70, 80, 90, 100, None],\n",
    "            'max_features': ['auto', 'sqrt'],\n",
    "            'min_samples_leaf': [1, 2, 4],\n",
    "            'min_samples_split': [2, 5, 10],\n",
    "            'n_estimators': [200, 400, 600, 800]\n",
    "        }\n",
    "        rf = RandomForestClassifier()\n",
    "        rf_random = RandomizedSearchCV(estimator=rf, param_distributions=param_grid, \n",
    "                                       n_iter=n_iter, cv=3, verbose=2, random_state=42, n_jobs=-1)\n",
    "        rf_random.fit(X_train, y_train)\n",
    "        # Print the best parameters from the Randomized Search\n",
    "        predictions = rf_random.predict(X_test)\n",
    "        report = classification_report(y_test, predictions, output_dict=True)\n",
    "        # Extract relevant metrics\n",
    "        try : \n",
    "            precision, recall, f1_score = report['1']['precision'], report['1']['recall'], report['1']['f1-score']\n",
    "            # Calculate p-values for features\n",
    "            significant_features = []\n",
    "            for feature in df.columns:\n",
    "                contingency_table = pd.crosstab(df[feature], label_series)\n",
    "                _, p_value = fisher_exact(contingency_table)\n",
    "                if p_value < 0.05:\n",
    "                    significant_features.append(feature)\n",
    "            with open(f\"{path_DF}/RF_results.1605.tsv\", \"a+\") as outfile :\n",
    "                outfile.write(f\"{label}\\t{n_infection}\\t{f1_score}\\t{precision}\\t{recall}\\t{len(significant_features)}\\t{','.join(significant_features)}\\n\")\n",
    "        except Exception as e :\n",
    "            print(e, label, n_infection)\n"
   ]
  },
  {
   "cell_type": "code",
   "execution_count": null,
   "metadata": {},
   "outputs": [],
   "source": [
    "labels = list(prophage_ktype_df.columns)\n",
    "if __name__ == '__main__':\n",
    "    with ThreadPool(5) as pool:\n",
    "        pool.map(fit_rf_model_random_search,labels)\n"
   ]
  },
  {
   "cell_type": "code",
   "execution_count": null,
   "metadata": {},
   "outputs": [],
   "source": [
    "#!/bin/bash\n",
    "#BATCH --job-name=RF__\n",
    "#SBATCH --qos=short\n",
    "#SBATCH --ntasks=1 \n",
    "#SBATCH --cpus-per-task=30 \n",
    "#SBATCH --mem=20gb \n",
    "#SBATCH --time=1-00:00:00 \n",
    "#SBATCH --output=RF__%j.log \n",
    "\n",
    "source /storage/apps/ANACONDA/anaconda3/etc/profile.d/conda.sh\n",
    "conda activate embeddings\n",
    "\n",
    "\n",
    "python /home/conchae/prediction_depolymerase_tropism/prophage_prediction/depolymerase_decipher/ficheros_28032023/script_files/RF_1505.py"
   ]
  },
  {
   "cell_type": "markdown",
   "metadata": {},
   "source": [
    "***\n",
    "# Plot the distribution of F1 score"
   ]
  },
  {
   "cell_type": "code",
   "execution_count": null,
   "metadata": {},
   "outputs": [],
   "source": [
    "outfile.write(f\"{label}\\t{n_infection}\\t{f1_score}\\t{precision}\\t{recall}\\t{len(significant_features)}\\t{','.join(significant_features)}\\n\")\n"
   ]
  },
  {
   "cell_type": "code",
   "execution_count": 3,
   "metadata": {},
   "outputs": [],
   "source": [
    "import pandas as pd \n",
    "import os \n",
    "path_project = \"/media/concha-eloko/Linux/PPT_clean\"\n",
    "df_RF = pd.read_csv(f\"{path_project}/RF_results.1605.tsv\", names = [\"KL_type\",\"Number_infection\",\"F1_score\",\"Precision\",\"Recall\",\"N_Dpos\",\"Dpos_list\"], sep = \"\\t\")"
   ]
  },
  {
   "cell_type": "code",
   "execution_count": 4,
   "metadata": {},
   "outputs": [
    {
     "data": {
      "text/html": [
       "<div>\n",
       "<style scoped>\n",
       "    .dataframe tbody tr th:only-of-type {\n",
       "        vertical-align: middle;\n",
       "    }\n",
       "\n",
       "    .dataframe tbody tr th {\n",
       "        vertical-align: top;\n",
       "    }\n",
       "\n",
       "    .dataframe thead th {\n",
       "        text-align: right;\n",
       "    }\n",
       "</style>\n",
       "<table border=\"1\" class=\"dataframe\">\n",
       "  <thead>\n",
       "    <tr style=\"text-align: right;\">\n",
       "      <th></th>\n",
       "      <th>KL_type</th>\n",
       "      <th>Number_infection</th>\n",
       "      <th>F1_score</th>\n",
       "      <th>Precision</th>\n",
       "      <th>Recall</th>\n",
       "      <th>N_Dpos</th>\n",
       "      <th>Dpos_list</th>\n",
       "    </tr>\n",
       "  </thead>\n",
       "  <tbody>\n",
       "    <tr>\n",
       "      <th>0</th>\n",
       "      <td>KL52|KL2</td>\n",
       "      <td>1</td>\n",
       "      <td>0.000000</td>\n",
       "      <td>0.00</td>\n",
       "      <td>0.000000</td>\n",
       "      <td>2</td>\n",
       "      <td>Dpo__169,Dpo__425</td>\n",
       "    </tr>\n",
       "    <tr>\n",
       "      <th>1</th>\n",
       "      <td>KL130</td>\n",
       "      <td>1</td>\n",
       "      <td>0.000000</td>\n",
       "      <td>0.00</td>\n",
       "      <td>0.000000</td>\n",
       "      <td>1</td>\n",
       "      <td>Dpo__247</td>\n",
       "    </tr>\n",
       "    <tr>\n",
       "      <th>2</th>\n",
       "      <td>KL17|KL106</td>\n",
       "      <td>2</td>\n",
       "      <td>0.000000</td>\n",
       "      <td>0.00</td>\n",
       "      <td>0.000000</td>\n",
       "      <td>19</td>\n",
       "      <td>Dpo__57,Dpo__27,Dpo__687,Dpo__49,Dpo__302,Dpo_...</td>\n",
       "    </tr>\n",
       "    <tr>\n",
       "      <th>3</th>\n",
       "      <td>KL24|KL48</td>\n",
       "      <td>1</td>\n",
       "      <td>0.000000</td>\n",
       "      <td>0.00</td>\n",
       "      <td>0.000000</td>\n",
       "      <td>1</td>\n",
       "      <td>Dpo__36</td>\n",
       "    </tr>\n",
       "    <tr>\n",
       "      <th>4</th>\n",
       "      <td>KL64|KL111</td>\n",
       "      <td>4</td>\n",
       "      <td>0.000000</td>\n",
       "      <td>0.00</td>\n",
       "      <td>0.000000</td>\n",
       "      <td>8</td>\n",
       "      <td>Dpo__448,Dpo__601,Dpo__438,Dpo__190,Dpo__709,D...</td>\n",
       "    </tr>\n",
       "    <tr>\n",
       "      <th>...</th>\n",
       "      <td>...</td>\n",
       "      <td>...</td>\n",
       "      <td>...</td>\n",
       "      <td>...</td>\n",
       "      <td>...</td>\n",
       "      <td>...</td>\n",
       "      <td>...</td>\n",
       "    </tr>\n",
       "    <tr>\n",
       "      <th>99</th>\n",
       "      <td>KL29</td>\n",
       "      <td>18</td>\n",
       "      <td>0.222222</td>\n",
       "      <td>1.00</td>\n",
       "      <td>0.125000</td>\n",
       "      <td>19</td>\n",
       "      <td>Dpo__120,Dpo__145,Dpo__161,Dpo__173,Dpo__199,D...</td>\n",
       "    </tr>\n",
       "    <tr>\n",
       "      <th>100</th>\n",
       "      <td>KL2</td>\n",
       "      <td>84</td>\n",
       "      <td>0.545455</td>\n",
       "      <td>0.75</td>\n",
       "      <td>0.428571</td>\n",
       "      <td>34</td>\n",
       "      <td>Dpo__9,Dpo__678,Dpo__649,Dpo__27,Dpo__853,Dpo_...</td>\n",
       "    </tr>\n",
       "    <tr>\n",
       "      <th>101</th>\n",
       "      <td>KL53</td>\n",
       "      <td>13</td>\n",
       "      <td>0.000000</td>\n",
       "      <td>0.00</td>\n",
       "      <td>0.000000</td>\n",
       "      <td>20</td>\n",
       "      <td>Dpo__212,Dpo__38,Dpo__188,Dpo__99,Dpo__129,Dpo...</td>\n",
       "    </tr>\n",
       "    <tr>\n",
       "      <th>102</th>\n",
       "      <td>KL14</td>\n",
       "      <td>42</td>\n",
       "      <td>1.000000</td>\n",
       "      <td>1.00</td>\n",
       "      <td>1.000000</td>\n",
       "      <td>44</td>\n",
       "      <td>Dpo__448,Dpo__687,Dpo__329,Dpo__323,Dpo__352,D...</td>\n",
       "    </tr>\n",
       "    <tr>\n",
       "      <th>103</th>\n",
       "      <td>KL102</td>\n",
       "      <td>39</td>\n",
       "      <td>0.000000</td>\n",
       "      <td>0.00</td>\n",
       "      <td>0.000000</td>\n",
       "      <td>36</td>\n",
       "      <td>Dpo__16,Dpo__24,Dpo__234,Dpo__352,Dpo__49,Dpo_...</td>\n",
       "    </tr>\n",
       "  </tbody>\n",
       "</table>\n",
       "<p>104 rows × 7 columns</p>\n",
       "</div>"
      ],
      "text/plain": [
       "        KL_type  Number_infection  F1_score  Precision    Recall  N_Dpos  \\\n",
       "0      KL52|KL2                 1  0.000000       0.00  0.000000       2   \n",
       "1         KL130                 1  0.000000       0.00  0.000000       1   \n",
       "2    KL17|KL106                 2  0.000000       0.00  0.000000      19   \n",
       "3     KL24|KL48                 1  0.000000       0.00  0.000000       1   \n",
       "4    KL64|KL111                 4  0.000000       0.00  0.000000       8   \n",
       "..          ...               ...       ...        ...       ...     ...   \n",
       "99         KL29                18  0.222222       1.00  0.125000      19   \n",
       "100         KL2                84  0.545455       0.75  0.428571      34   \n",
       "101        KL53                13  0.000000       0.00  0.000000      20   \n",
       "102        KL14                42  1.000000       1.00  1.000000      44   \n",
       "103       KL102                39  0.000000       0.00  0.000000      36   \n",
       "\n",
       "                                             Dpos_list  \n",
       "0                                    Dpo__169,Dpo__425  \n",
       "1                                             Dpo__247  \n",
       "2    Dpo__57,Dpo__27,Dpo__687,Dpo__49,Dpo__302,Dpo_...  \n",
       "3                                              Dpo__36  \n",
       "4    Dpo__448,Dpo__601,Dpo__438,Dpo__190,Dpo__709,D...  \n",
       "..                                                 ...  \n",
       "99   Dpo__120,Dpo__145,Dpo__161,Dpo__173,Dpo__199,D...  \n",
       "100  Dpo__9,Dpo__678,Dpo__649,Dpo__27,Dpo__853,Dpo_...  \n",
       "101  Dpo__212,Dpo__38,Dpo__188,Dpo__99,Dpo__129,Dpo...  \n",
       "102  Dpo__448,Dpo__687,Dpo__329,Dpo__323,Dpo__352,D...  \n",
       "103  Dpo__16,Dpo__24,Dpo__234,Dpo__352,Dpo__49,Dpo_...  \n",
       "\n",
       "[104 rows x 7 columns]"
      ]
     },
     "execution_count": 4,
     "metadata": {},
     "output_type": "execute_result"
    }
   ],
   "source": [
    "df_RF"
   ]
  },
  {
   "cell_type": "code",
   "execution_count": 13,
   "metadata": {},
   "outputs": [
    {
     "data": {
      "image/png": "[encoded data removed]",
      "text/plain": [
       "<Figure size 1200x600 with 1 Axes>"
      ]
     },
     "metadata": {},
     "output_type": "display_data"
    }
   ],
   "source": [
    "import seaborn as sns\n",
    "import matplotlib.pyplot as plt\n",
    "\n",
    "# Assuming your DataFrame is called df\n",
    "df_filtered = df_RF[df_RF['F1_score'] != 0]\n",
    "\n",
    "plt.figure(figsize=(12, 6))\n",
    "\n",
    "# Use stripplot to add individual data points\n",
    "sns.boxplot(x='KL_type', y='F1_score', data=df_filtered, color='skyblue')\n",
    "sns.stripplot(x='KL_type', y='F1_score', data=df_filtered, color='darkblue', size=6, jitter=True)\n",
    "\n",
    "plt.title('F1_score of the RF model by KL_type', fontsize=16)\n",
    "plt.xlabel('KL_type', fontsize=14)\n",
    "plt.ylabel('F1_score', fontsize=14)\n",
    "plt.xticks(rotation=90, fontsize=12)  # Rotates x-axis labels to be vertical\n",
    "\n",
    "# Make the grid visible\n",
    "plt.grid(True)\n",
    "\n",
    "plt.tight_layout()\n",
    "plt.savefig(f\"{path_project}/F1_score.KLtype.RF.png\", dpi =300)\n",
    "plt.show()"
   ]
  },
  {
   "cell_type": "code",
   "execution_count": 5,
   "metadata": {},
   "outputs": [
    {
     "name": "stdout",
     "output_type": "stream",
     "text": [
      "The correlation between Number_infection and F1_score is 0.5551281661551912\n"
     ]
    }
   ],
   "source": [
    "correlation = df_RF['Number_infection'].corr(df_RF['F1_score'])\n",
    "print(f'The correlation between Number_infection and F1_score is {correlation}')"
   ]
  },
  {
   "cell_type": "code",
   "execution_count": 6,
   "metadata": {},
   "outputs": [
    {
     "name": "stdout",
     "output_type": "stream",
     "text": [
      "The correlation between Number_infection and F1_score is 0.3886957990464831\n"
     ]
    }
   ],
   "source": [
    "correlation = df_RF['N_Dpos'].corr(df_RF['F1_score'])\n",
    "print(f'The correlation between Number_infection and F1_score is {correlation}')"
   ]
  },
  {
   "cell_type": "markdown",
   "metadata": {},
   "source": [
    "> How many prophages without a Dpo ?"
   ]
  },
  {
   "cell_type": "code",
   "execution_count": null,
   "metadata": {},
   "outputs": [],
   "source": [
    "import os \n",
    "import pandas as pd\n",
    "\n",
    "path_df = \"/home/conchae/prediction_depolymerase_tropism/prophage_prediction/depolymerase_decipher/15122022_session\"\n",
    "\n",
    "df_f = pd.read_csv(f\"{path_df}/DF_Dpo.final.1005.tsv\", header = 0, sep = \"\\t\") \n",
    "\n",
    "phages = df_f.drop_duplicates(subset = [\"Phage\"], keep = \"first\")\n",
    "\n"
   ]
  }
 ],
 "metadata": {
  "kernelspec": {
   "display_name": "sklearn-env",
   "language": "python",
   "name": "sklearn-env"
  },
  "language_info": {
   "codemirror_mode": {
    "name": "ipython",
    "version": 3
   },
   "file_extension": ".py",
   "mimetype": "text/x-python",
   "name": "python",
   "nbconvert_exporter": "python",
   "pygments_lexer": "ipython3",
   "version": "3.8.16"
  }
 },
 "nbformat": 4,
 "nbformat_minor": 4
}
