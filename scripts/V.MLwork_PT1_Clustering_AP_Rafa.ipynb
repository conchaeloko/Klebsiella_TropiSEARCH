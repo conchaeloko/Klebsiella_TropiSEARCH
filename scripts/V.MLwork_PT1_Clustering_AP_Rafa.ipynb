{
 "cells": [
  {
   "cell_type": "markdown",
   "metadata": {},
   "source": [
    "# Running Affinity Propagation on the depolymerase dataset \n",
    "***"
   ]
  },
  {
   "cell_type": "markdown",
   "metadata": {},
   "source": [
    "> Pre work : moving the files to local"
   ]
  },
  {
   "cell_type": "markdown",
   "metadata": {},
   "source": [
    "### 1. Importing the modules "
   ]
  },
  {
   "cell_type": "markdown",
   "metadata": {},
   "source": [
    "> Local "
   ]
  },
  {
   "cell_type": "code",
   "execution_count": 10,
   "metadata": {},
   "outputs": [
    {
     "name": "stderr",
     "output_type": "stream",
     "text": [
      "/home/concha-eloko/.local/lib/python3.8/site-packages/Bio/pairwise2.py:278: BiopythonDeprecationWarning: Bio.pairwise2 has been deprecated, and we intend to remove it in a future release of Biopython. As an alternative, please consider using Bio.Align.PairwiseAligner as a replacement, and contact the Biopython developers if you still need the Bio.pairwise2 module.\n",
      "  warnings.warn(\n"
     ]
    }
   ],
   "source": [
    "import pandas as pd\n",
    "import numpy as np\n",
    "import os\n",
    "import seaborn as sns\n",
    "import scipy as sp\n",
    "import subprocess\n",
    "from scipy.spatial import distance\n",
    "from tqdm import tqdm\n",
    "from collections import Counter\n",
    "import math\n",
    "import datetime as dt\n",
    "import matplotlib.pyplot as plt\n",
    "from Bio import SeqIO, Entrez, pairwise2\n",
    "from sklearn.decomposition import PCA"
   ]
  },
  {
   "cell_type": "markdown",
   "metadata": {},
   "source": [
    "> Remote"
   ]
  },
  {
   "cell_type": "code",
   "execution_count": null,
   "metadata": {},
   "outputs": [],
   "source": [
    "import pandas as pd\n",
    "import numpy as np\n",
    "import os\n",
    "import scipy as sp\n",
    "import subprocess\n",
    "from scipy.spatial import distance\n",
    "from tqdm import tqdm\n",
    "from collections import Counter\n",
    "import math\n",
    "import datetime as dt\n",
    "from Bio import SeqIO, Entrez, pairwise2\n",
    "from sklearn.decomposition import PCA"
   ]
  },
  {
   "cell_type": "markdown",
   "metadata": {},
   "source": [
    "***\n",
    "### 2. Loading the Dataframes "
   ]
  },
  {
   "cell_type": "code",
   "execution_count": 1,
   "metadata": {
    "collapsed": true,
    "jupyter": {
     "outputs_hidden": true
    }
   },
   "outputs": [
    {
     "name": "stderr",
     "output_type": "stream",
     "text": [
      "/home/concha-eloko/.local/lib/python3.8/site-packages/tqdm/auto.py:22: TqdmWarning: IProgress not found. Please update jupyter and ipywidgets. See https://ipywidgets.readthedocs.io/en/stable/user_install.html\n",
      "  from .autonotebook import tqdm as notebook_tqdm\n"
     ]
    }
   ],
   "source": [
    "#import torch\n",
    "import os \n",
    "import pandas as pd\n",
    "from tqdm import tqdm \n",
    "\n",
    "# remote :\n",
    "path_project = \"/home/conchae/prediction_depolymerase_tropism/prophage_prediction/depolymerase_decipher/ficheros_28032023\"\n",
    "path_similarity = \"/home/conchae/prediction_depolymerase_tropism/prophage_prediction/prophage_similarity/phageboost/fastANI_20102022_out\"\n",
    "path_db = \"/home/conchae/prediction_depolymerase_tropism/prophage_prediction/depolymerase_decipher/15122022_session\"\n",
    "\n",
    "esm2_depo = pd.read_csv(f\"{path_project}/Dpo.0805.embeddings.csv\" , header = None, sep = \",\" , index_col = 0)\n",
    "esm2_depo = esm2_depo.drop([1281], axis = 1)\n",
    "\n",
    "family_df = pd.read_csv(f\"{path_similarity}/clusters_99_80.extra_clean.2004.v2.tsv\", sep = \"\\t\", header = 0)\n",
    "df_info = pd.read_csv(f\"{path_db}/DF_Dpo.final.1005.tsv\" , sep = \"\\t\", header =0)\n",
    "\n",
    "# local :\n",
    "#path_project = \"/media/concha-eloko/Linux/PPT_clean\"\n",
    "#path_esm = f\"{path_project}/Dpo_domains.0805.final.multi.out\"\n",
    "#esm2_depo = pd.read_csv(f\"{path_project}/Dpo.0805.embeddings.csv\" , header = None, sep = \",\" , index_col = 0)"
   ]
  },
  {
   "cell_type": "code",
   "execution_count": 14,
   "metadata": {
    "collapsed": true,
    "jupyter": {
     "outputs_hidden": true,
     "source_hidden": true
    }
   },
   "outputs": [
    {
     "data": {
      "text/html": [
       "<div>\n",
       "<style scoped>\n",
       "    .dataframe tbody tr th:only-of-type {\n",
       "        vertical-align: middle;\n",
       "    }\n",
       "\n",
       "    .dataframe tbody tr th {\n",
       "        vertical-align: top;\n",
       "    }\n",
       "\n",
       "    .dataframe thead th {\n",
       "        text-align: right;\n",
       "    }\n",
       "</style>\n",
       "<table border=\"1\" class=\"dataframe\">\n",
       "  <thead>\n",
       "    <tr style=\"text-align: right;\">\n",
       "      <th></th>\n",
       "      <th>1</th>\n",
       "      <th>2</th>\n",
       "      <th>3</th>\n",
       "      <th>4</th>\n",
       "      <th>5</th>\n",
       "      <th>6</th>\n",
       "      <th>7</th>\n",
       "      <th>8</th>\n",
       "      <th>9</th>\n",
       "      <th>10</th>\n",
       "      <th>...</th>\n",
       "      <th>1271</th>\n",
       "      <th>1272</th>\n",
       "      <th>1273</th>\n",
       "      <th>1274</th>\n",
       "      <th>1275</th>\n",
       "      <th>1276</th>\n",
       "      <th>1277</th>\n",
       "      <th>1278</th>\n",
       "      <th>1279</th>\n",
       "      <th>1280</th>\n",
       "    </tr>\n",
       "    <tr>\n",
       "      <th>0</th>\n",
       "      <th></th>\n",
       "      <th></th>\n",
       "      <th></th>\n",
       "      <th></th>\n",
       "      <th></th>\n",
       "      <th></th>\n",
       "      <th></th>\n",
       "      <th></th>\n",
       "      <th></th>\n",
       "      <th></th>\n",
       "      <th></th>\n",
       "      <th></th>\n",
       "      <th></th>\n",
       "      <th></th>\n",
       "      <th></th>\n",
       "      <th></th>\n",
       "      <th></th>\n",
       "      <th></th>\n",
       "      <th></th>\n",
       "      <th></th>\n",
       "      <th></th>\n",
       "    </tr>\n",
       "  </thead>\n",
       "  <tbody>\n",
       "    <tr>\n",
       "      <th>ppt__2930</th>\n",
       "      <td>-0.000061</td>\n",
       "      <td>-0.017329</td>\n",
       "      <td>0.012884</td>\n",
       "      <td>0.037123</td>\n",
       "      <td>-0.123747</td>\n",
       "      <td>0.004186</td>\n",
       "      <td>-0.061367</td>\n",
       "      <td>-0.056718</td>\n",
       "      <td>-0.037215</td>\n",
       "      <td>0.017796</td>\n",
       "      <td>...</td>\n",
       "      <td>0.098806</td>\n",
       "      <td>0.012989</td>\n",
       "      <td>-0.001155</td>\n",
       "      <td>0.139749</td>\n",
       "      <td>-0.030987</td>\n",
       "      <td>0.059306</td>\n",
       "      <td>0.107041</td>\n",
       "      <td>-0.041463</td>\n",
       "      <td>-0.085581</td>\n",
       "      <td>0.114973</td>\n",
       "    </tr>\n",
       "    <tr>\n",
       "      <th>ppt__3300</th>\n",
       "      <td>0.004044</td>\n",
       "      <td>0.040011</td>\n",
       "      <td>-0.001234</td>\n",
       "      <td>-0.095745</td>\n",
       "      <td>-0.058056</td>\n",
       "      <td>-0.002394</td>\n",
       "      <td>0.007648</td>\n",
       "      <td>-0.059740</td>\n",
       "      <td>0.060850</td>\n",
       "      <td>0.027698</td>\n",
       "      <td>...</td>\n",
       "      <td>-0.020369</td>\n",
       "      <td>0.016287</td>\n",
       "      <td>0.062586</td>\n",
       "      <td>-0.024336</td>\n",
       "      <td>0.019276</td>\n",
       "      <td>0.069623</td>\n",
       "      <td>0.035261</td>\n",
       "      <td>-0.118962</td>\n",
       "      <td>0.035672</td>\n",
       "      <td>0.085582</td>\n",
       "    </tr>\n",
       "    <tr>\n",
       "      <th>ppt__1182</th>\n",
       "      <td>0.018767</td>\n",
       "      <td>0.068116</td>\n",
       "      <td>-0.009109</td>\n",
       "      <td>-0.012598</td>\n",
       "      <td>-0.107001</td>\n",
       "      <td>0.011569</td>\n",
       "      <td>-0.030943</td>\n",
       "      <td>-0.045359</td>\n",
       "      <td>0.048923</td>\n",
       "      <td>0.032816</td>\n",
       "      <td>...</td>\n",
       "      <td>0.014524</td>\n",
       "      <td>-0.024645</td>\n",
       "      <td>0.071878</td>\n",
       "      <td>0.018206</td>\n",
       "      <td>0.042790</td>\n",
       "      <td>0.088410</td>\n",
       "      <td>0.031970</td>\n",
       "      <td>-0.124592</td>\n",
       "      <td>0.070040</td>\n",
       "      <td>0.065348</td>\n",
       "    </tr>\n",
       "    <tr>\n",
       "      <th>ppt__3540</th>\n",
       "      <td>-0.028261</td>\n",
       "      <td>-0.047253</td>\n",
       "      <td>-0.027340</td>\n",
       "      <td>-0.052824</td>\n",
       "      <td>-0.089644</td>\n",
       "      <td>-0.023079</td>\n",
       "      <td>0.094861</td>\n",
       "      <td>0.026104</td>\n",
       "      <td>0.024001</td>\n",
       "      <td>0.089394</td>\n",
       "      <td>...</td>\n",
       "      <td>0.051728</td>\n",
       "      <td>0.005634</td>\n",
       "      <td>-0.077874</td>\n",
       "      <td>0.030336</td>\n",
       "      <td>-0.037648</td>\n",
       "      <td>0.050625</td>\n",
       "      <td>0.046142</td>\n",
       "      <td>-0.158841</td>\n",
       "      <td>-0.007670</td>\n",
       "      <td>0.034556</td>\n",
       "    </tr>\n",
       "    <tr>\n",
       "      <th>ppt__942</th>\n",
       "      <td>0.014863</td>\n",
       "      <td>0.028030</td>\n",
       "      <td>0.014927</td>\n",
       "      <td>-0.025997</td>\n",
       "      <td>-0.096138</td>\n",
       "      <td>0.016290</td>\n",
       "      <td>0.015008</td>\n",
       "      <td>-0.066254</td>\n",
       "      <td>0.077959</td>\n",
       "      <td>0.057165</td>\n",
       "      <td>...</td>\n",
       "      <td>0.008521</td>\n",
       "      <td>-0.019820</td>\n",
       "      <td>0.123201</td>\n",
       "      <td>-0.040306</td>\n",
       "      <td>0.030893</td>\n",
       "      <td>0.051362</td>\n",
       "      <td>0.047316</td>\n",
       "      <td>-0.102698</td>\n",
       "      <td>0.044830</td>\n",
       "      <td>0.084530</td>\n",
       "    </tr>\n",
       "    <tr>\n",
       "      <th>...</th>\n",
       "      <td>...</td>\n",
       "      <td>...</td>\n",
       "      <td>...</td>\n",
       "      <td>...</td>\n",
       "      <td>...</td>\n",
       "      <td>...</td>\n",
       "      <td>...</td>\n",
       "      <td>...</td>\n",
       "      <td>...</td>\n",
       "      <td>...</td>\n",
       "      <td>...</td>\n",
       "      <td>...</td>\n",
       "      <td>...</td>\n",
       "      <td>...</td>\n",
       "      <td>...</td>\n",
       "      <td>...</td>\n",
       "      <td>...</td>\n",
       "      <td>...</td>\n",
       "      <td>...</td>\n",
       "      <td>...</td>\n",
       "      <td>...</td>\n",
       "    </tr>\n",
       "    <tr>\n",
       "      <th>minibatch__1547</th>\n",
       "      <td>0.005586</td>\n",
       "      <td>0.022056</td>\n",
       "      <td>0.009792</td>\n",
       "      <td>-0.036183</td>\n",
       "      <td>-0.103171</td>\n",
       "      <td>0.028859</td>\n",
       "      <td>0.023063</td>\n",
       "      <td>-0.054788</td>\n",
       "      <td>0.088813</td>\n",
       "      <td>0.042841</td>\n",
       "      <td>...</td>\n",
       "      <td>-0.002956</td>\n",
       "      <td>-0.022535</td>\n",
       "      <td>0.096137</td>\n",
       "      <td>-0.023147</td>\n",
       "      <td>0.028822</td>\n",
       "      <td>0.064896</td>\n",
       "      <td>0.046402</td>\n",
       "      <td>-0.103289</td>\n",
       "      <td>0.030545</td>\n",
       "      <td>0.080931</td>\n",
       "    </tr>\n",
       "    <tr>\n",
       "      <th>ppt__2719</th>\n",
       "      <td>0.008973</td>\n",
       "      <td>-0.036172</td>\n",
       "      <td>0.024278</td>\n",
       "      <td>-0.005935</td>\n",
       "      <td>-0.089380</td>\n",
       "      <td>0.007263</td>\n",
       "      <td>0.032040</td>\n",
       "      <td>-0.216239</td>\n",
       "      <td>0.071972</td>\n",
       "      <td>0.054308</td>\n",
       "      <td>...</td>\n",
       "      <td>0.066656</td>\n",
       "      <td>0.034687</td>\n",
       "      <td>-0.021256</td>\n",
       "      <td>-0.080038</td>\n",
       "      <td>-0.082435</td>\n",
       "      <td>0.010141</td>\n",
       "      <td>0.103680</td>\n",
       "      <td>-0.086817</td>\n",
       "      <td>-0.067720</td>\n",
       "      <td>0.096804</td>\n",
       "    </tr>\n",
       "    <tr>\n",
       "      <th>minibatch__752</th>\n",
       "      <td>-0.007236</td>\n",
       "      <td>0.063871</td>\n",
       "      <td>-0.010960</td>\n",
       "      <td>-0.047293</td>\n",
       "      <td>-0.074936</td>\n",
       "      <td>0.014609</td>\n",
       "      <td>0.007950</td>\n",
       "      <td>-0.075715</td>\n",
       "      <td>0.072990</td>\n",
       "      <td>0.066386</td>\n",
       "      <td>...</td>\n",
       "      <td>0.008046</td>\n",
       "      <td>-0.022476</td>\n",
       "      <td>0.103217</td>\n",
       "      <td>-0.005581</td>\n",
       "      <td>0.036304</td>\n",
       "      <td>0.078642</td>\n",
       "      <td>0.037012</td>\n",
       "      <td>-0.096549</td>\n",
       "      <td>0.055382</td>\n",
       "      <td>0.070137</td>\n",
       "    </tr>\n",
       "    <tr>\n",
       "      <th>minibatch__670</th>\n",
       "      <td>0.031380</td>\n",
       "      <td>0.057855</td>\n",
       "      <td>0.000624</td>\n",
       "      <td>-0.037998</td>\n",
       "      <td>-0.121193</td>\n",
       "      <td>-0.013395</td>\n",
       "      <td>-0.014228</td>\n",
       "      <td>-0.074131</td>\n",
       "      <td>0.028255</td>\n",
       "      <td>0.015987</td>\n",
       "      <td>...</td>\n",
       "      <td>0.000497</td>\n",
       "      <td>-0.020798</td>\n",
       "      <td>0.084236</td>\n",
       "      <td>0.024419</td>\n",
       "      <td>0.002759</td>\n",
       "      <td>0.055592</td>\n",
       "      <td>0.084443</td>\n",
       "      <td>-0.081453</td>\n",
       "      <td>0.058807</td>\n",
       "      <td>0.077090</td>\n",
       "    </tr>\n",
       "    <tr>\n",
       "      <th>ppt__3402</th>\n",
       "      <td>-0.016418</td>\n",
       "      <td>0.036180</td>\n",
       "      <td>0.000740</td>\n",
       "      <td>-0.034794</td>\n",
       "      <td>-0.077590</td>\n",
       "      <td>0.018976</td>\n",
       "      <td>0.059639</td>\n",
       "      <td>-0.106567</td>\n",
       "      <td>0.081609</td>\n",
       "      <td>0.020246</td>\n",
       "      <td>...</td>\n",
       "      <td>0.003633</td>\n",
       "      <td>-0.023323</td>\n",
       "      <td>0.116824</td>\n",
       "      <td>-0.034831</td>\n",
       "      <td>0.026487</td>\n",
       "      <td>0.082494</td>\n",
       "      <td>0.045719</td>\n",
       "      <td>-0.109192</td>\n",
       "      <td>0.037012</td>\n",
       "      <td>0.113752</td>\n",
       "    </tr>\n",
       "  </tbody>\n",
       "</table>\n",
       "<p>1763 rows × 1280 columns</p>\n",
       "</div>"
      ],
      "text/plain": [
       "                     1         2         3         4         5         6     \\\n",
       "0                                                                             \n",
       "ppt__2930       -0.000061 -0.017329  0.012884  0.037123 -0.123747  0.004186   \n",
       "ppt__3300        0.004044  0.040011 -0.001234 -0.095745 -0.058056 -0.002394   \n",
       "ppt__1182        0.018767  0.068116 -0.009109 -0.012598 -0.107001  0.011569   \n",
       "ppt__3540       -0.028261 -0.047253 -0.027340 -0.052824 -0.089644 -0.023079   \n",
       "ppt__942         0.014863  0.028030  0.014927 -0.025997 -0.096138  0.016290   \n",
       "...                   ...       ...       ...       ...       ...       ...   \n",
       "minibatch__1547  0.005586  0.022056  0.009792 -0.036183 -0.103171  0.028859   \n",
       "ppt__2719        0.008973 -0.036172  0.024278 -0.005935 -0.089380  0.007263   \n",
       "minibatch__752  -0.007236  0.063871 -0.010960 -0.047293 -0.074936  0.014609   \n",
       "minibatch__670   0.031380  0.057855  0.000624 -0.037998 -0.121193 -0.013395   \n",
       "ppt__3402       -0.016418  0.036180  0.000740 -0.034794 -0.077590  0.018976   \n",
       "\n",
       "                     7         8         9         10    ...      1271  \\\n",
       "0                                                        ...             \n",
       "ppt__2930       -0.061367 -0.056718 -0.037215  0.017796  ...  0.098806   \n",
       "ppt__3300        0.007648 -0.059740  0.060850  0.027698  ... -0.020369   \n",
       "ppt__1182       -0.030943 -0.045359  0.048923  0.032816  ...  0.014524   \n",
       "ppt__3540        0.094861  0.026104  0.024001  0.089394  ...  0.051728   \n",
       "ppt__942         0.015008 -0.066254  0.077959  0.057165  ...  0.008521   \n",
       "...                   ...       ...       ...       ...  ...       ...   \n",
       "minibatch__1547  0.023063 -0.054788  0.088813  0.042841  ... -0.002956   \n",
       "ppt__2719        0.032040 -0.216239  0.071972  0.054308  ...  0.066656   \n",
       "minibatch__752   0.007950 -0.075715  0.072990  0.066386  ...  0.008046   \n",
       "minibatch__670  -0.014228 -0.074131  0.028255  0.015987  ...  0.000497   \n",
       "ppt__3402        0.059639 -0.106567  0.081609  0.020246  ...  0.003633   \n",
       "\n",
       "                     1272      1273      1274      1275      1276      1277  \\\n",
       "0                                                                             \n",
       "ppt__2930        0.012989 -0.001155  0.139749 -0.030987  0.059306  0.107041   \n",
       "ppt__3300        0.016287  0.062586 -0.024336  0.019276  0.069623  0.035261   \n",
       "ppt__1182       -0.024645  0.071878  0.018206  0.042790  0.088410  0.031970   \n",
       "ppt__3540        0.005634 -0.077874  0.030336 -0.037648  0.050625  0.046142   \n",
       "ppt__942        -0.019820  0.123201 -0.040306  0.030893  0.051362  0.047316   \n",
       "...                   ...       ...       ...       ...       ...       ...   \n",
       "minibatch__1547 -0.022535  0.096137 -0.023147  0.028822  0.064896  0.046402   \n",
       "ppt__2719        0.034687 -0.021256 -0.080038 -0.082435  0.010141  0.103680   \n",
       "minibatch__752  -0.022476  0.103217 -0.005581  0.036304  0.078642  0.037012   \n",
       "minibatch__670  -0.020798  0.084236  0.024419  0.002759  0.055592  0.084443   \n",
       "ppt__3402       -0.023323  0.116824 -0.034831  0.026487  0.082494  0.045719   \n",
       "\n",
       "                     1278      1279      1280  \n",
       "0                                              \n",
       "ppt__2930       -0.041463 -0.085581  0.114973  \n",
       "ppt__3300       -0.118962  0.035672  0.085582  \n",
       "ppt__1182       -0.124592  0.070040  0.065348  \n",
       "ppt__3540       -0.158841 -0.007670  0.034556  \n",
       "ppt__942        -0.102698  0.044830  0.084530  \n",
       "...                   ...       ...       ...  \n",
       "minibatch__1547 -0.103289  0.030545  0.080931  \n",
       "ppt__2719       -0.086817 -0.067720  0.096804  \n",
       "minibatch__752  -0.096549  0.055382  0.070137  \n",
       "minibatch__670  -0.081453  0.058807  0.077090  \n",
       "ppt__3402       -0.109192  0.037012  0.113752  \n",
       "\n",
       "[1763 rows x 1280 columns]"
      ]
     },
     "execution_count": 14,
     "metadata": {},
     "output_type": "execute_result"
    }
   ],
   "source": [
    "esm2_depo"
   ]
  },
  {
   "cell_type": "code",
   "execution_count": 17,
   "metadata": {
    "jupyter": {
     "source_hidden": true
    }
   },
   "outputs": [],
   "source": []
  },
  {
   "cell_type": "markdown",
   "metadata": {},
   "source": [
    "***\n",
    "# 3. Affinity propagation\n"
   ]
  },
  {
   "cell_type": "code",
   "execution_count": 30,
   "metadata": {
    "collapsed": true,
    "jupyter": {
     "outputs_hidden": true,
     "source_hidden": true
    }
   },
   "outputs": [
    {
     "data": {
      "image/png": "[encoded data removed]",
      "text/plain": [
       "<Figure size 800x600 with 1 Axes>"
      ]
     },
     "metadata": {},
     "output_type": "display_data"
    }
   ],
   "source": [
    "pca = PCA(.95)\n",
    "pca_scaled_x = pca.fit_transform(esm2_depo)\n",
    "\n",
    "\n",
    "    # Writing the figures :\n",
    "features = range(pca.n_components_)\n",
    "plt.figure(figsize=(8, 6))\n",
    "plt.bar(features, pca.explained_variance_)\n",
    "plt.xlabel('PCA feature')\n",
    "plt.ylabel('variance')\n",
    "plt.xticks(features)\n",
    "#plt.savefig(f\"{path_fig}/PCA.features.jpeg\")\n",
    "plt.show()"
   ]
  },
  {
   "cell_type": "markdown",
   "metadata": {},
   "source": [
    "## b. Affinity Propagation "
   ]
  },
  {
   "cell_type": "code",
   "execution_count": 30,
   "metadata": {},
   "outputs": [
    {
     "name": "stdout",
     "output_type": "stream",
     "text": [
      "Converged after 738 iterations.\n"
     ]
    },
    {
     "data": {
      "text/plain": [
       "890"
      ]
     },
     "execution_count": 30,
     "metadata": {},
     "output_type": "execute_result"
    }
   ],
   "source": [
    "from sklearn.cluster import AffinityPropagation\n",
    "from sklearn import metrics\n",
    "\n",
    "pref = -0.02\n",
    "af = AffinityPropagation(damping=0.95, preference=pref, random_state=123, max_iter=1000,verbose=True).fit(esm2_depo)\n",
    "cluster_centers_indices = af.cluster_centers_indices_\n",
    "labels = af.labels_\n",
    "\n",
    "n_clusters_ = len(cluster_centers_indices)\n",
    "n_clusters_"
   ]
  },
  {
   "cell_type": "code",
   "execution_count": 25,
   "metadata": {},
   "outputs": [],
   "source": [
    "dico_df = {\"Dpo\" : esm2_depo.index , \"Label\" : labels}\n",
    "df_results = pd.DataFrame(dico_df)\n",
    "\n",
    "dico_cluster = {}\n",
    "for index , row in df_results.iterrows() :\n",
    "    if row[\"Label\"] not in dico_cluster :\n",
    "        tmp_list = []\n",
    "        tmp_list.append(row[\"Dpo\"])\n",
    "        dico_cluster[row[\"Label\"]] = tmp_list\n",
    "    else :\n",
    "        dico_cluster[row[\"Label\"]].append(row[\"Dpo\"])\n",
    "        \n",
    "with open(f\"{path_project}/dico_cluster.pref_{pref}.json\", \"w\") as outfile:\n",
    "    json.dump(dico_cluster, outfile)\n",
    "    "
   ]
  },
  {
   "cell_type": "markdown",
   "metadata": {},
   "source": [
    "> The prophage vs Dpo DF"
   ]
  },
  {
   "cell_type": "code",
   "execution_count": 27,
   "metadata": {
    "collapsed": true,
    "jupyter": {
     "outputs_hidden": true
    }
   },
   "outputs": [
    {
     "name": "stderr",
     "output_type": "stream",
     "text": [
      "  0%|                                                  | 0/1359 [00:00<?, ?it/s]\n"
     ]
    },
    {
     "ename": "NameError",
     "evalue": "name 'df_info' is not defined",
     "output_type": "error",
     "traceback": [
      "\u001b[0;31m---------------------------------------------------------------------------\u001b[0m",
      "\u001b[0;31mNameError\u001b[0m                                 Traceback (most recent call last)",
      "\u001b[0;32m/tmp/ipykernel_88818/2034212054.py\u001b[0m in \u001b[0;36m<cell line: 2>\u001b[0;34m()\u001b[0m\n\u001b[1;32m      3\u001b[0m     \u001b[0mprophages_carrying\u001b[0m \u001b[0;34m=\u001b[0m \u001b[0mset\u001b[0m\u001b[0;34m(\u001b[0m\u001b[0;34m)\u001b[0m\u001b[0;34m\u001b[0m\u001b[0;34m\u001b[0m\u001b[0m\n\u001b[1;32m      4\u001b[0m     \u001b[0;32mfor\u001b[0m \u001b[0m_\u001b[0m\u001b[0;34m,\u001b[0m\u001b[0mdpo\u001b[0m \u001b[0;32min\u001b[0m \u001b[0menumerate\u001b[0m\u001b[0;34m(\u001b[0m\u001b[0mDpo_list\u001b[0m\u001b[0;34m)\u001b[0m \u001b[0;34m:\u001b[0m\u001b[0;34m\u001b[0m\u001b[0;34m\u001b[0m\u001b[0m\n\u001b[0;32m----> 5\u001b[0;31m         \u001b[0mprophages_df\u001b[0m \u001b[0;34m=\u001b[0m \u001b[0mdf_info\u001b[0m\u001b[0;34m[\u001b[0m\u001b[0mdf_info\u001b[0m\u001b[0;34m[\u001b[0m\u001b[0;34m\"index\"\u001b[0m\u001b[0;34m]\u001b[0m \u001b[0;34m==\u001b[0m \u001b[0mdpo\u001b[0m\u001b[0;34m]\u001b[0m\u001b[0;34m\u001b[0m\u001b[0;34m\u001b[0m\u001b[0m\n\u001b[0m\u001b[1;32m      6\u001b[0m         \u001b[0;32mfor\u001b[0m \u001b[0mphage\u001b[0m \u001b[0;32min\u001b[0m \u001b[0mprophages_df\u001b[0m\u001b[0;34m[\u001b[0m\u001b[0;34m\"Phage\"\u001b[0m\u001b[0;34m]\u001b[0m\u001b[0;34m.\u001b[0m\u001b[0mto_list\u001b[0m\u001b[0;34m(\u001b[0m\u001b[0;34m)\u001b[0m \u001b[0;34m:\u001b[0m\u001b[0;34m\u001b[0m\u001b[0;34m\u001b[0m\u001b[0m\n\u001b[1;32m      7\u001b[0m             \u001b[0mfamily\u001b[0m \u001b[0;34m=\u001b[0m \u001b[0mfamily_df\u001b[0m\u001b[0;34m[\u001b[0m\u001b[0mfamily_df\u001b[0m\u001b[0;34m[\u001b[0m\u001b[0;34m\"prophage\"\u001b[0m\u001b[0;34m]\u001b[0m \u001b[0;34m==\u001b[0m \u001b[0;34mf\"{phage}.fasta\"\u001b[0m\u001b[0;34m]\u001b[0m\u001b[0;34m[\u001b[0m\u001b[0;34m\"prophage_id\"\u001b[0m\u001b[0;34m]\u001b[0m\u001b[0;34m.\u001b[0m\u001b[0mvalues\u001b[0m\u001b[0;34m[\u001b[0m\u001b[0;36m0\u001b[0m\u001b[0;34m]\u001b[0m\u001b[0;34m\u001b[0m\u001b[0;34m\u001b[0m\u001b[0m\n",
      "\u001b[0;31mNameError\u001b[0m: name 'df_info' is not defined"
     ]
    }
   ],
   "source": [
    "dico_prophage_id = {}\n",
    "for Dpo_label , Dpo_list in tqdm(dico_cluster.items()) :\n",
    "    prophages_carrying = set()\n",
    "    for _,dpo in enumerate(Dpo_list) :\n",
    "        prophages_df = df_info[df_info[\"index\"] == dpo]\n",
    "        for phage in prophages_df[\"Phage\"].to_list() :\n",
    "            family = family_df[family_df[\"prophage\"] == f\"{phage}.fasta\"][\"prophage_id\"].values[0]\n",
    "            prophages_carrying.add(family)\n",
    "    dico_prophage_id[f\"Dpo__{Dpo_label}\"] = prophages_carrying"
   ]
  },
  {
   "cell_type": "code",
   "execution_count": null,
   "metadata": {},
   "outputs": [],
   "source": [
    "def build_dataframe(dico):\n",
    "    # First, let's get a list of all unique prophages across all Dpo's.\n",
    "    prophages = set(prophage for prophages in dico.values() for prophage in prophages)\n",
    "    # Now we'll create a list of lists that represents our matrix.\n",
    "    # Each sublist will be a row in the matrix and represents one prophage.\n",
    "    # The entries in the sublist will be 1 if the prophage is in the Dpo, and 0 if not.\n",
    "    matrix = [[1 if prophage in dico[dpo] else 0 for dpo in dico.keys()] for prophage in prophages]\n",
    "    # Now we'll convert the matrix to a DataFrame.\n",
    "    df = pd.DataFrame(matrix, index=prophages, columns=dico.keys())\n",
    "    return df"
   ]
  },
  {
   "cell_type": "code",
   "execution_count": null,
   "metadata": {},
   "outputs": [],
   "source": [
    "df = build_dataframe(dico_prophage_id)\n",
    "df.sort_index(inplace = True, ascending=True)\n",
    "df.to_csv(f\"{path_project}/DF_Rafa/prophage_Dpo.pref_{pref}.csv\", sep = \"\\t\")"
   ]
  },
  {
   "cell_type": "markdown",
   "metadata": {},
   "source": [
    "> The prophage vs Strains DF"
   ]
  },
  {
   "cell_type": "code",
   "execution_count": null,
   "metadata": {},
   "outputs": [],
   "source": [
    "dico_prophage_strains = {}\n",
    "for prophage_id,row in tqdm(df.iterrows()) :\n",
    "    strains = set()\n",
    "    phages = family_df[family_df[\"prophage_id\"] == prophage_id]\n",
    "    for phage in phages[\"prophage\"].to_list() :\n",
    "        strains.add(phage.split(\"__\")[0])\n",
    "    dico_prophage_strains[prophage_id] = strains"
   ]
  },
  {
   "cell_type": "code",
   "execution_count": null,
   "metadata": {},
   "outputs": [],
   "source": [
    "def dict_to_dataframe(input_dict):\n",
    "    # Create a set of all unique strains\n",
    "    all_strains = set().union(*input_dict.values())\n",
    "    # Initialize a nested dictionary with zeros\n",
    "    data = {prophage: {strain: 0 for strain in all_strains} for prophage in input_dict}\n",
    "    # Iterate over prophages and strains\n",
    "    for prophage, strains in input_dict.items():\n",
    "        for strain in strains:\n",
    "            data[prophage][strain] = 1\n",
    "    # Convert nested dictionary to DataFrame\n",
    "    df = pd.DataFrame.from_dict(data, orient='index')\n",
    "    # Convert to int\n",
    "    df = df.astype(int)\n",
    "    return df"
   ]
  },
  {
   "cell_type": "code",
   "execution_count": null,
   "metadata": {},
   "outputs": [],
   "source": [
    "df_2 = dict_to_dataframe(dico_prophage_strains)\n",
    "df_2.sort_index(inplace = True, ascending=True)\n",
    "df_2.to_csv(f\"{path_project}/prophage_strains.pref_{pref}.csv\", sep = \"\\t\")"
   ]
  },
  {
   "cell_type": "markdown",
   "metadata": {},
   "source": [
    "> the prophage and the K_types"
   ]
  },
  {
   "cell_type": "code",
   "execution_count": null,
   "metadata": {},
   "outputs": [],
   "source": [
    "dico_prophage_k_types = {}\n",
    "for prophage_id,row in tqdm(df.iterrows()) :\n",
    "    ktypes = set()\n",
    "    phages = family_df[family_df[\"prophage_id\"] == prophage_id]\n",
    "    saved_ones = set()\n",
    "    for phage in phages[\"prophage\"].to_list() :\n",
    "        try : \n",
    "            K_type = df_info[df_info[\"Phage\"] == phage.split(\".fasta\")[0]][\"KL_type_LCA\"].values[0]\n",
    "            if len(K_type.split(\"|\")) < 4 :\n",
    "                ktypes.add(K_type)\n",
    "            else :\n",
    "                saved_ones.add(K_type)\n",
    "        except Exception as e :\n",
    "            pass\n",
    "    if len(ktypes) == 0 :\n",
    "        print(\"something is wrong here :\",prophage_id)\n",
    "        if len(saved_ones) > 0:\n",
    "            ktypes = saved_ones\n",
    "            print(saved_ones)\n",
    "        else :\n",
    "            print(\"Alright, can't be saved\")\n",
    "    dico_prophage_k_types[prophage_id] = ktypes\n"
   ]
  },
  {
   "cell_type": "code",
   "execution_count": null,
   "metadata": {},
   "outputs": [],
   "source": [
    "def dict_to_dataframe(input_dict):\n",
    "    # Create a set of all unique strains\n",
    "    all_strains = set().union(*input_dict.values())\n",
    "    # Initialize a nested dictionary with zeros\n",
    "    data = {prophage: {strain: 0 for strain in all_strains} for prophage in input_dict}\n",
    "    # Iterate over prophages and strains\n",
    "    for prophage, strains in input_dict.items():\n",
    "        for strain in strains:\n",
    "            data[prophage][strain] = 1\n",
    "    # Convert nested dictionary to DataFrame\n",
    "    df = pd.DataFrame.from_dict(data, orient='index')\n",
    "    # Convert to int\n",
    "    df = df.astype(int)\n",
    "    return df"
   ]
  },
  {
   "cell_type": "code",
   "execution_count": null,
   "metadata": {},
   "outputs": [],
   "source": [
    "df_3 = dict_to_dataframe(dico_prophage_k_types)\n",
    "df_3.sort_index(inplace = True, ascending=True)\n",
    "df_3.to_csv(f\"{path_project}/prophage_K_types.pref_{pref}.csv\", sep = \"\\t\")"
   ]
  }
 ],
 "metadata": {
  "kernelspec": {
   "display_name": "sklearn-env",
   "language": "python",
   "name": "sklearn-env"
  },
  "language_info": {
   "codemirror_mode": {
    "name": "ipython",
    "version": 3
   },
   "file_extension": ".py",
   "mimetype": "text/x-python",
   "name": "python",
   "nbconvert_exporter": "python",
   "pygments_lexer": "ipython3",
   "version": "3.8.16"
  }
 },
 "nbformat": 4,
 "nbformat_minor": 4
}
