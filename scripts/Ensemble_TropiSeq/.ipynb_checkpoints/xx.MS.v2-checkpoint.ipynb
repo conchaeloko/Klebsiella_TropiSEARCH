{
 "cells": [
  {
   "cell_type": "code",
   "execution_count": null,
   "id": "4bb3359d-2538-4635-ad48-17c962604212",
   "metadata": {},
   "outputs": [],
   "source": [
    "import pandas as pd \n",
    "import os \n",
    "\n",
    "path_seqbased = \"/media/concha-eloko/Linux/PPT_clean/RF_2912_models_info\"\n",
    "\n",
    "header_metric = [\"KL_type\", \"Effectifs\",\"MCC\",\"F1\",\"recall\",\"Accuracy\",\"AUC\"]\n",
    "seqbased_df = pd.read_csv(f\"{path_seqbased}/RF_report.0.75.2912.tsv\", sep = \"\\t\", names = header_metric)"
   ]
  },
  {
   "cell_type": "code",
   "execution_count": null,
   "id": "c751c88b-853f-4966-9eea-521ecebd7e7a",
   "metadata": {},
   "outputs": [],
   "source": [
    "df_metrics_sorted = seqbased_df.sort_values(by='KL_type', key=lambda x: x.str.split(\"KL\").str[1].astype(int))\n",
    "for col in df_metrics_sorted.columns : \n",
    "    if col not in [\"KL_type\",\"n_prophages\"] : \n",
    "        df_metrics_sorted[col] = round(df_metrics_sorted[col] , 4)"
   ]
  },
  {
   "cell_type": "code",
   "execution_count": null,
   "id": "dd9930ad-b773-4fc5-9088-6d244feb6437",
   "metadata": {},
   "outputs": [],
   "source": [
    "g1_group = [\"KL2\", \"KL17\", \"KL47\", \"KL64\", \"KL106\", \"KL107\"]\n",
    "g2_group = [\"KL1\", \"KL3\", \"KL14\", \"KL15\", \"KL23\", \"KL24\", \"KL25\", \"KL27\", \"KL51\", \"KL62\", \"KL102\"]\n",
    "\n",
    "big_groups = g1_group + g2_group\n",
    "\n",
    "g3_group = [kltype for kltype in df_metrics_sorted[\"KL_type\"].tolist() if kltype not in big_groups]"
   ]
  },
  {
   "cell_type": "code",
   "execution_count": null,
   "id": "7ca202cc-75c6-4e11-8eb3-add54e21edf3",
   "metadata": {},
   "outputs": [],
   "source": [
    "import statistics\n",
    "\n",
    "mcc_g1 = [float(row[\"MCC\"]) for _,row in df_metrics_sorted.iterrows() if row[\"KL_type\"] in g1_group]\n",
    "mcc_g1_dico = {row[\"KL_type\"] : float(row[\"MCC\"]) for _,row in df_metrics_sorted.iterrows() if row[\"KL_type\"] in g1_group}\n",
    "mean_g1 = statistics.mean(mcc_g1)\n",
    "std_g1 = statistics.stdev(mcc_g1)\n",
    "\n",
    "\n",
    "mcc_g2 = [float(row[\"MCC\"]) for _,row in df_metrics_sorted.iterrows() if row[\"KL_type\"] in g2_group]\n",
    "mcc_g2_dico = {row[\"KL_type\"] : float(row[\"MCC\"]) for _,row in df_metrics_sorted.iterrows() if row[\"KL_type\"] in g2_group}\n",
    "mean_g2 = statistics.mean(mcc_g2)\n",
    "std_g2 = statistics.stdev(mcc_g2)\n",
    "\n",
    "\n",
    "mcc_g3 = [float(row[\"MCC\"]) for _,row in df_metrics_sorted.iterrows() if row[\"KL_type\"] in g3_group]\n",
    "mcc_g3_dico = {row[\"KL_type\"] : float(row[\"MCC\"]) for _,row in df_metrics_sorted.iterrows() if row[\"KL_type\"] in g3_group}\n",
    "mean_g3 = statistics.mean(mcc_g3)\n",
    "std_g3 = statistics.stdev(mcc_g3)\n"
   ]
  },
  {
   "cell_type": "code",
   "execution_count": 3,
   "id": "4ad14fc2-6885-4f22-96fe-84d37a8952f5",
   "metadata": {},
   "outputs": [
    {
     "data": {
      "text/plain": [
       "34.798534798534796"
      ]
     },
     "execution_count": 3,
     "metadata": {},
     "output_type": "execute_result"
    }
   ],
   "source": [
    "95/273*100"
   ]
  },
  {
   "cell_type": "code",
   "execution_count": 2,
   "id": "27cbcd0e-60e6-43a9-95d2-95bfc65dd432",
   "metadata": {},
   "outputs": [
    {
     "data": {
      "text/plain": [
       "49.2063492063492"
      ]
     },
     "execution_count": 2,
     "metadata": {},
     "output_type": "execute_result"
    }
   ],
   "source": [
    "62/126*100"
   ]
  },
  {
   "cell_type": "code",
   "execution_count": null,
   "id": "cf30a7b8-d0f0-4dd8-9abf-24d8d004f0f7",
   "metadata": {},
   "outputs": [],
   "source": []
  }
 ],
 "metadata": {
  "kernelspec": {
   "display_name": "Python 3 (ipykernel)",
   "language": "python",
   "name": "python3"
  },
  "language_info": {
   "codemirror_mode": {
    "name": "ipython",
    "version": 3
   },
   "file_extension": ".py",
   "mimetype": "text/x-python",
   "name": "python",
   "nbconvert_exporter": "python",
   "pygments_lexer": "ipython3",
   "version": "3.11.4"
  },
  "widgets": {
   "application/vnd.jupyter.widget-state+json": {
    "state": {},
    "version_major": 2,
    "version_minor": 0
   }
  }
 },
 "nbformat": 4,
 "nbformat_minor": 5
}
