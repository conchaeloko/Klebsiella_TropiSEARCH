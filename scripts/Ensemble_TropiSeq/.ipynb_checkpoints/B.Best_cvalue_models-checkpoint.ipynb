{
 "cells": [
  {
   "cell_type": "code",
   "execution_count": null,
   "id": "7d9ad3df-def3-4180-a0c1-e531b8f948dc",
   "metadata": {},
   "outputs": [],
   "source": [
    "rsync -avzhe ssh \\\n",
    "conchae@garnatxa.srv.cpd:/home/conchae/prediction_depolymerase_tropism/prophage_prediction/depolymerase_decipher/ficheros_28032023/Seqbased_model/RF_1302_models \\\n",
    "/media/concha-eloko/Linux/PPT_clean/ficheros_28032023\n"
   ]
  },
  {
   "cell_type": "markdown",
   "id": "a1cab11f-4c71-44d2-9741-d720e3b2e7ab",
   "metadata": {},
   "source": [
    "***\n",
    "### Load Data :"
   ]
  },
  {
   "cell_type": "code",
   "execution_count": 25,
   "id": "b0f74dd6-84d6-46e0-9284-58dda610c393",
   "metadata": {},
   "outputs": [],
   "source": [
    "import os\n",
    "import pandas as pd\n",
    "import numpy as np\n",
    "from tqdm import tqdm\n",
    "from itertools import product\n",
    "import random\n",
    "from collections import Counter, defaultdict\n",
    "import warnings\n",
    "import logging\n",
    "import subprocess\n",
    "from multiprocessing.pool import ThreadPool\n",
    "import joblib\n",
    "\n",
    "# SCikitlearn modules :\n",
    "from sklearn.ensemble import RandomForestClassifier\n",
    "from sklearn.preprocessing import LabelEncoder\n",
    "from sklearn.model_selection import train_test_split, RandomizedSearchCV, StratifiedKFold\n",
    "from sklearn.metrics import classification_report , roc_auc_score, matthews_corrcoef\n",
    "from sklearn.metrics import roc_auc_score\n",
    "\n",
    "# Scipy modules : \n",
    "from scipy.stats import fisher_exact\n",
    "#from skopt import BayesSearchCV\n",
    "#from skopt.space import Real, Categorical, Integer\n",
    "from statistics import mean\n",
    "\n",
    "path_work = \"/media/concha-eloko/Linux/PPT_clean\"\n",
    "path_jobs = \"/media/concha-eloko/Linux/PPT_clean/ficheros_28032023/RF_1302_models\""
   ]
  },
  {
   "cell_type": "markdown",
   "id": "e331ff93-b220-4b91-b952-b4cc91488bb2",
   "metadata": {},
   "source": [
    "> Set the count prophage dico : "
   ]
  },
  {
   "cell_type": "code",
   "execution_count": 26,
   "id": "10d6ffed-4461-4de5-a33b-bc3f31b8a5ac",
   "metadata": {
    "jupyter": {
     "source_hidden": true
    }
   },
   "outputs": [
    {
     "name": "stderr",
     "output_type": "stream",
     "text": [
      "100%|████████████████████████████████████| 15981/15981 [00:25<00:00, 621.66it/s]\n"
     ]
    }
   ],
   "source": [
    "DF_info = pd.read_csv(f\"{path_work}/TropiGATv2.final_df_v2.tsv\", sep = \"\\t\" ,  header = 0)\n",
    "\n",
    "DF_info = DF_info.drop_duplicates(subset = [\"Protein_name\"])\n",
    "\n",
    "df_prophages = DF_info.drop_duplicates(subset = [\"Phage\"], keep = \"first\")\n",
    "dico_prophage_info = {row[\"Phage\"] : {\"prophage_strain\" : row[\"prophage_id\"] , \"ancestor\" : row[\"Infected_ancestor\"]} for _,row in df_prophages.iterrows()}\n",
    "\n",
    "def get_filtered_prophages(prophage) :\n",
    "    combinations = []\n",
    "    to_exclude = set()\n",
    "    to_keep = set()\n",
    "    to_keep.add(prophage)\n",
    "    df_prophage_group = DF_info[(DF_info[\"prophage_id\"] == dico_prophage_info[prophage][\"prophage_strain\"]) & (DF_info[\"Infected_ancestor\"] == dico_prophage_info[prophage][\"ancestor\"])]\n",
    "    if len(df_prophage_group) == 1 :\n",
    "        pass\n",
    "    else :\n",
    "        depo_set = set(df_prophage_group[df_prophage_group[\"Phage\"] == prophage][\"domain_seq\"].values)\n",
    "        for prophage_tmp in df_prophage_group[\"Phage\"].unique().tolist() :\n",
    "            if prophage_tmp != prophage :\n",
    "                tmp_depo_set = set(df_prophage_group[df_prophage_group[\"Phage\"] == prophage_tmp][\"domain_seq\"].values)\n",
    "                if depo_set == tmp_depo_set :\n",
    "                    to_exclude.add(prophage_tmp)\n",
    "                else :\n",
    "                    if tmp_depo_set not in combinations :\n",
    "                        to_keep.add(prophage_tmp)\n",
    "                        combinations.append(tmp_depo_set)\n",
    "                    else :\n",
    "                        to_exclude.add(prophage_tmp)\n",
    "    return df_prophage_group , to_exclude , to_keep\n",
    "\n",
    "good_prophages = set()\n",
    "excluded_prophages = set()\n",
    "\n",
    "for prophage, info_prophage in tqdm(dico_prophage_info.items()) :\n",
    "    if prophage not in excluded_prophages and prophage not in good_prophages:\n",
    "        _, excluded_members , kept_members = get_filtered_prophages(prophage)\n",
    "        good_prophages.update(kept_members)\n",
    "        excluded_prophages.update(excluded_members)\n",
    "\n",
    "DF_info_lvl_0_filtered = DF_info[DF_info[\"Phage\"].isin(good_prophages)]\n",
    "DF_info_lvl_0_final = DF_info_lvl_0_filtered[~DF_info_lvl_0_filtered[\"KL_type_LCA\"].str.contains(\"\\\\|\")]\n",
    "DF_info_lvl_0 = DF_info_lvl_0_final.copy()\n",
    "\n",
    "df_prophages = DF_info_lvl_0.drop_duplicates(subset = [\"Phage\"])\n",
    "dico_prophage_count = dict(Counter(df_prophages[\"KL_type_LCA\"]))\n"
   ]
  },
  {
   "cell_type": "code",
   "execution_count": 23,
   "id": "f781017b-6bf4-403e-aacc-bde95d9137fd",
   "metadata": {
    "scrolled": true
   },
   "outputs": [
    {
     "data": {
      "text/plain": [
       "{'KL41': ['/media/concha-eloko/Linux/PPT_clean/ficheros_28032023/RF_1302_models/0.75_RF_KL41.full_data.joblib',\n",
       "  '/media/concha-eloko/Linux/PPT_clean/ficheros_28032023/RF_1302_models/0.85_RF_KL41.full_data.joblib',\n",
       "  '/media/concha-eloko/Linux/PPT_clean/ficheros_28032023/RF_1302_models/0.65_RF_KL41.full_data.joblib',\n",
       "  '/media/concha-eloko/Linux/PPT_clean/ficheros_28032023/RF_1302_models/0.9_RF_KL41.full_data.joblib',\n",
       "  '/media/concha-eloko/Linux/PPT_clean/ficheros_28032023/RF_1302_models/0.8_RF_KL41.full_data.joblib',\n",
       "  '/media/concha-eloko/Linux/PPT_clean/ficheros_28032023/RF_1302_models/0.975_RF_KL41.full_data.joblib',\n",
       "  '/media/concha-eloko/Linux/PPT_clean/ficheros_28032023/RF_1302_models/0.7_RF_KL41.full_data.joblib',\n",
       "  '/media/concha-eloko/Linux/PPT_clean/ficheros_28032023/RF_1302_models/0.95_RF_KL41.full_data.joblib'],\n",
       " 'KL60': ['/media/concha-eloko/Linux/PPT_clean/ficheros_28032023/RF_1302_models/0.85_RF_KL60.full_data.joblib',\n",
       "  '/media/concha-eloko/Linux/PPT_clean/ficheros_28032023/RF_1302_models/0.8_RF_KL60.full_data.joblib',\n",
       "  '/media/concha-eloko/Linux/PPT_clean/ficheros_28032023/RF_1302_models/0.75_RF_KL60.full_data.joblib',\n",
       "  '/media/concha-eloko/Linux/PPT_clean/ficheros_28032023/RF_1302_models/0.7_RF_KL60.full_data.joblib',\n",
       "  '/media/concha-eloko/Linux/PPT_clean/ficheros_28032023/RF_1302_models/0.65_RF_KL60.full_data.joblib',\n",
       "  '/media/concha-eloko/Linux/PPT_clean/ficheros_28032023/RF_1302_models/0.9_RF_KL60.full_data.joblib',\n",
       "  '/media/concha-eloko/Linux/PPT_clean/ficheros_28032023/RF_1302_models/0.975_RF_KL60.full_data.joblib'],\n",
       " 'KL28': ['/media/concha-eloko/Linux/PPT_clean/ficheros_28032023/RF_1302_models/0.95_RF_KL28.full_data.joblib',\n",
       "  '/media/concha-eloko/Linux/PPT_clean/ficheros_28032023/RF_1302_models/0.65_RF_KL28.full_data.joblib',\n",
       "  '/media/concha-eloko/Linux/PPT_clean/ficheros_28032023/RF_1302_models/0.9_RF_KL28.full_data.joblib',\n",
       "  '/media/concha-eloko/Linux/PPT_clean/ficheros_28032023/RF_1302_models/0.975_RF_KL28.full_data.joblib',\n",
       "  '/media/concha-eloko/Linux/PPT_clean/ficheros_28032023/RF_1302_models/0.85_RF_KL28.full_data.joblib',\n",
       "  '/media/concha-eloko/Linux/PPT_clean/ficheros_28032023/RF_1302_models/0.8_RF_KL28.full_data.joblib',\n",
       "  '/media/concha-eloko/Linux/PPT_clean/ficheros_28032023/RF_1302_models/0.7_RF_KL28.full_data.joblib',\n",
       "  '/media/concha-eloko/Linux/PPT_clean/ficheros_28032023/RF_1302_models/0.75_RF_KL28.full_data.joblib'],\n",
       " 'KL6': ['/media/concha-eloko/Linux/PPT_clean/ficheros_28032023/RF_1302_models/0.65_RF_KL6.full_data.joblib',\n",
       "  '/media/concha-eloko/Linux/PPT_clean/ficheros_28032023/RF_1302_models/0.8_RF_KL6.full_data.joblib',\n",
       "  '/media/concha-eloko/Linux/PPT_clean/ficheros_28032023/RF_1302_models/0.7_RF_KL6.full_data.joblib',\n",
       "  '/media/concha-eloko/Linux/PPT_clean/ficheros_28032023/RF_1302_models/0.9_RF_KL6.full_data.joblib',\n",
       "  '/media/concha-eloko/Linux/PPT_clean/ficheros_28032023/RF_1302_models/0.975_RF_KL6.full_data.joblib',\n",
       "  '/media/concha-eloko/Linux/PPT_clean/ficheros_28032023/RF_1302_models/0.85_RF_KL6.full_data.joblib',\n",
       "  '/media/concha-eloko/Linux/PPT_clean/ficheros_28032023/RF_1302_models/0.75_RF_KL6.full_data.joblib',\n",
       "  '/media/concha-eloko/Linux/PPT_clean/ficheros_28032023/RF_1302_models/0.95_RF_KL6.full_data.joblib'],\n",
       " 'KL25': ['/media/concha-eloko/Linux/PPT_clean/ficheros_28032023/RF_1302_models/0.75_RF_KL25.full_data.joblib',\n",
       "  '/media/concha-eloko/Linux/PPT_clean/ficheros_28032023/RF_1302_models/0.8_RF_KL25.full_data.joblib',\n",
       "  '/media/concha-eloko/Linux/PPT_clean/ficheros_28032023/RF_1302_models/0.65_RF_KL25.full_data.joblib',\n",
       "  '/media/concha-eloko/Linux/PPT_clean/ficheros_28032023/RF_1302_models/0.85_RF_KL25.full_data.joblib',\n",
       "  '/media/concha-eloko/Linux/PPT_clean/ficheros_28032023/RF_1302_models/0.7_RF_KL25.full_data.joblib',\n",
       "  '/media/concha-eloko/Linux/PPT_clean/ficheros_28032023/RF_1302_models/0.95_RF_KL25.full_data.joblib',\n",
       "  '/media/concha-eloko/Linux/PPT_clean/ficheros_28032023/RF_1302_models/0.975_RF_KL25.full_data.joblib',\n",
       "  '/media/concha-eloko/Linux/PPT_clean/ficheros_28032023/RF_1302_models/0.9_RF_KL25.full_data.joblib'],\n",
       " 'KL2': ['/media/concha-eloko/Linux/PPT_clean/ficheros_28032023/RF_1302_models/0.7_RF_KL2.full_data.joblib',\n",
       "  '/media/concha-eloko/Linux/PPT_clean/ficheros_28032023/RF_1302_models/0.85_RF_KL2.full_data.joblib',\n",
       "  '/media/concha-eloko/Linux/PPT_clean/ficheros_28032023/RF_1302_models/0.75_RF_KL2.full_data.joblib',\n",
       "  '/media/concha-eloko/Linux/PPT_clean/ficheros_28032023/RF_1302_models/0.975_RF_KL2.full_data.joblib',\n",
       "  '/media/concha-eloko/Linux/PPT_clean/ficheros_28032023/RF_1302_models/0.9_RF_KL2.full_data.joblib',\n",
       "  '/media/concha-eloko/Linux/PPT_clean/ficheros_28032023/RF_1302_models/0.8_RF_KL2.full_data.joblib',\n",
       "  '/media/concha-eloko/Linux/PPT_clean/ficheros_28032023/RF_1302_models/0.65_RF_KL2.full_data.joblib',\n",
       "  '/media/concha-eloko/Linux/PPT_clean/ficheros_28032023/RF_1302_models/0.95_RF_KL2.full_data.joblib'],\n",
       " 'KL19': ['/media/concha-eloko/Linux/PPT_clean/ficheros_28032023/RF_1302_models/0.65_RF_KL19.full_data.joblib',\n",
       "  '/media/concha-eloko/Linux/PPT_clean/ficheros_28032023/RF_1302_models/0.975_RF_KL19.full_data.joblib',\n",
       "  '/media/concha-eloko/Linux/PPT_clean/ficheros_28032023/RF_1302_models/0.7_RF_KL19.full_data.joblib',\n",
       "  '/media/concha-eloko/Linux/PPT_clean/ficheros_28032023/RF_1302_models/0.8_RF_KL19.full_data.joblib',\n",
       "  '/media/concha-eloko/Linux/PPT_clean/ficheros_28032023/RF_1302_models/0.9_RF_KL19.full_data.joblib',\n",
       "  '/media/concha-eloko/Linux/PPT_clean/ficheros_28032023/RF_1302_models/0.95_RF_KL19.full_data.joblib',\n",
       "  '/media/concha-eloko/Linux/PPT_clean/ficheros_28032023/RF_1302_models/0.75_RF_KL19.full_data.joblib',\n",
       "  '/media/concha-eloko/Linux/PPT_clean/ficheros_28032023/RF_1302_models/0.85_RF_KL19.full_data.joblib'],\n",
       " 'KL1': ['/media/concha-eloko/Linux/PPT_clean/ficheros_28032023/RF_1302_models/0.95_RF_KL1.full_data.joblib',\n",
       "  '/media/concha-eloko/Linux/PPT_clean/ficheros_28032023/RF_1302_models/0.75_RF_KL1.full_data.joblib',\n",
       "  '/media/concha-eloko/Linux/PPT_clean/ficheros_28032023/RF_1302_models/0.65_RF_KL1.full_data.joblib',\n",
       "  '/media/concha-eloko/Linux/PPT_clean/ficheros_28032023/RF_1302_models/0.85_RF_KL1.full_data.joblib',\n",
       "  '/media/concha-eloko/Linux/PPT_clean/ficheros_28032023/RF_1302_models/0.975_RF_KL1.full_data.joblib',\n",
       "  '/media/concha-eloko/Linux/PPT_clean/ficheros_28032023/RF_1302_models/0.7_RF_KL1.full_data.joblib',\n",
       "  '/media/concha-eloko/Linux/PPT_clean/ficheros_28032023/RF_1302_models/0.8_RF_KL1.full_data.joblib',\n",
       "  '/media/concha-eloko/Linux/PPT_clean/ficheros_28032023/RF_1302_models/0.9_RF_KL1.full_data.joblib'],\n",
       " 'KL107': ['/media/concha-eloko/Linux/PPT_clean/ficheros_28032023/RF_1302_models/0.95_RF_KL107.full_data.joblib',\n",
       "  '/media/concha-eloko/Linux/PPT_clean/ficheros_28032023/RF_1302_models/0.9_RF_KL107.full_data.joblib',\n",
       "  '/media/concha-eloko/Linux/PPT_clean/ficheros_28032023/RF_1302_models/0.7_RF_KL107.full_data.joblib',\n",
       "  '/media/concha-eloko/Linux/PPT_clean/ficheros_28032023/RF_1302_models/0.85_RF_KL107.full_data.joblib',\n",
       "  '/media/concha-eloko/Linux/PPT_clean/ficheros_28032023/RF_1302_models/0.75_RF_KL107.full_data.joblib',\n",
       "  '/media/concha-eloko/Linux/PPT_clean/ficheros_28032023/RF_1302_models/0.975_RF_KL107.full_data.joblib',\n",
       "  '/media/concha-eloko/Linux/PPT_clean/ficheros_28032023/RF_1302_models/0.8_RF_KL107.full_data.joblib',\n",
       "  '/media/concha-eloko/Linux/PPT_clean/ficheros_28032023/RF_1302_models/0.65_RF_KL107.full_data.joblib'],\n",
       " 'KL24': ['/media/concha-eloko/Linux/PPT_clean/ficheros_28032023/RF_1302_models/0.75_RF_KL24.full_data.joblib',\n",
       "  '/media/concha-eloko/Linux/PPT_clean/ficheros_28032023/RF_1302_models/0.95_RF_KL24.full_data.joblib',\n",
       "  '/media/concha-eloko/Linux/PPT_clean/ficheros_28032023/RF_1302_models/0.7_RF_KL24.full_data.joblib',\n",
       "  '/media/concha-eloko/Linux/PPT_clean/ficheros_28032023/RF_1302_models/0.85_RF_KL24.full_data.joblib',\n",
       "  '/media/concha-eloko/Linux/PPT_clean/ficheros_28032023/RF_1302_models/0.65_RF_KL24.full_data.joblib',\n",
       "  '/media/concha-eloko/Linux/PPT_clean/ficheros_28032023/RF_1302_models/0.9_RF_KL24.full_data.joblib',\n",
       "  '/media/concha-eloko/Linux/PPT_clean/ficheros_28032023/RF_1302_models/0.975_RF_KL24.full_data.joblib',\n",
       "  '/media/concha-eloko/Linux/PPT_clean/ficheros_28032023/RF_1302_models/0.8_RF_KL24.full_data.joblib'],\n",
       " 'KL123': ['/media/concha-eloko/Linux/PPT_clean/ficheros_28032023/RF_1302_models/0.7_RF_KL123.full_data.joblib',\n",
       "  '/media/concha-eloko/Linux/PPT_clean/ficheros_28032023/RF_1302_models/0.95_RF_KL123.full_data.joblib',\n",
       "  '/media/concha-eloko/Linux/PPT_clean/ficheros_28032023/RF_1302_models/0.75_RF_KL123.full_data.joblib',\n",
       "  '/media/concha-eloko/Linux/PPT_clean/ficheros_28032023/RF_1302_models/0.85_RF_KL123.full_data.joblib',\n",
       "  '/media/concha-eloko/Linux/PPT_clean/ficheros_28032023/RF_1302_models/0.9_RF_KL123.full_data.joblib',\n",
       "  '/media/concha-eloko/Linux/PPT_clean/ficheros_28032023/RF_1302_models/0.975_RF_KL123.full_data.joblib',\n",
       "  '/media/concha-eloko/Linux/PPT_clean/ficheros_28032023/RF_1302_models/0.8_RF_KL123.full_data.joblib',\n",
       "  '/media/concha-eloko/Linux/PPT_clean/ficheros_28032023/RF_1302_models/0.65_RF_KL123.full_data.joblib'],\n",
       " 'KL106': ['/media/concha-eloko/Linux/PPT_clean/ficheros_28032023/RF_1302_models/0.9_RF_KL106.full_data.joblib',\n",
       "  '/media/concha-eloko/Linux/PPT_clean/ficheros_28032023/RF_1302_models/0.65_RF_KL106.full_data.joblib',\n",
       "  '/media/concha-eloko/Linux/PPT_clean/ficheros_28032023/RF_1302_models/0.8_RF_KL106.full_data.joblib',\n",
       "  '/media/concha-eloko/Linux/PPT_clean/ficheros_28032023/RF_1302_models/0.7_RF_KL106.full_data.joblib',\n",
       "  '/media/concha-eloko/Linux/PPT_clean/ficheros_28032023/RF_1302_models/0.85_RF_KL106.full_data.joblib',\n",
       "  '/media/concha-eloko/Linux/PPT_clean/ficheros_28032023/RF_1302_models/0.75_RF_KL106.full_data.joblib',\n",
       "  '/media/concha-eloko/Linux/PPT_clean/ficheros_28032023/RF_1302_models/0.975_RF_KL106.full_data.joblib',\n",
       "  '/media/concha-eloko/Linux/PPT_clean/ficheros_28032023/RF_1302_models/0.95_RF_KL106.full_data.joblib'],\n",
       " 'KL15': ['/media/concha-eloko/Linux/PPT_clean/ficheros_28032023/RF_1302_models/0.9_RF_KL15.full_data.joblib',\n",
       "  '/media/concha-eloko/Linux/PPT_clean/ficheros_28032023/RF_1302_models/0.975_RF_KL15.full_data.joblib',\n",
       "  '/media/concha-eloko/Linux/PPT_clean/ficheros_28032023/RF_1302_models/0.8_RF_KL15.full_data.joblib',\n",
       "  '/media/concha-eloko/Linux/PPT_clean/ficheros_28032023/RF_1302_models/0.65_RF_KL15.full_data.joblib',\n",
       "  '/media/concha-eloko/Linux/PPT_clean/ficheros_28032023/RF_1302_models/0.95_RF_KL15.full_data.joblib',\n",
       "  '/media/concha-eloko/Linux/PPT_clean/ficheros_28032023/RF_1302_models/0.75_RF_KL15.full_data.joblib',\n",
       "  '/media/concha-eloko/Linux/PPT_clean/ficheros_28032023/RF_1302_models/0.7_RF_KL15.full_data.joblib',\n",
       "  '/media/concha-eloko/Linux/PPT_clean/ficheros_28032023/RF_1302_models/0.85_RF_KL15.full_data.joblib'],\n",
       " 'KL30': ['/media/concha-eloko/Linux/PPT_clean/ficheros_28032023/RF_1302_models/0.9_RF_KL30.full_data.joblib',\n",
       "  '/media/concha-eloko/Linux/PPT_clean/ficheros_28032023/RF_1302_models/0.8_RF_KL30.full_data.joblib',\n",
       "  '/media/concha-eloko/Linux/PPT_clean/ficheros_28032023/RF_1302_models/0.975_RF_KL30.full_data.joblib',\n",
       "  '/media/concha-eloko/Linux/PPT_clean/ficheros_28032023/RF_1302_models/0.75_RF_KL30.full_data.joblib',\n",
       "  '/media/concha-eloko/Linux/PPT_clean/ficheros_28032023/RF_1302_models/0.7_RF_KL30.full_data.joblib',\n",
       "  '/media/concha-eloko/Linux/PPT_clean/ficheros_28032023/RF_1302_models/0.85_RF_KL30.full_data.joblib',\n",
       "  '/media/concha-eloko/Linux/PPT_clean/ficheros_28032023/RF_1302_models/0.65_RF_KL30.full_data.joblib',\n",
       "  '/media/concha-eloko/Linux/PPT_clean/ficheros_28032023/RF_1302_models/0.95_RF_KL30.full_data.joblib'],\n",
       " 'KL18': ['/media/concha-eloko/Linux/PPT_clean/ficheros_28032023/RF_1302_models/0.95_RF_KL18.full_data.joblib',\n",
       "  '/media/concha-eloko/Linux/PPT_clean/ficheros_28032023/RF_1302_models/0.8_RF_KL18.full_data.joblib',\n",
       "  '/media/concha-eloko/Linux/PPT_clean/ficheros_28032023/RF_1302_models/0.7_RF_KL18.full_data.joblib',\n",
       "  '/media/concha-eloko/Linux/PPT_clean/ficheros_28032023/RF_1302_models/0.85_RF_KL18.full_data.joblib',\n",
       "  '/media/concha-eloko/Linux/PPT_clean/ficheros_28032023/RF_1302_models/0.65_RF_KL18.full_data.joblib',\n",
       "  '/media/concha-eloko/Linux/PPT_clean/ficheros_28032023/RF_1302_models/0.75_RF_KL18.full_data.joblib',\n",
       "  '/media/concha-eloko/Linux/PPT_clean/ficheros_28032023/RF_1302_models/0.975_RF_KL18.full_data.joblib',\n",
       "  '/media/concha-eloko/Linux/PPT_clean/ficheros_28032023/RF_1302_models/0.9_RF_KL18.full_data.joblib'],\n",
       " 'KL81': ['/media/concha-eloko/Linux/PPT_clean/ficheros_28032023/RF_1302_models/0.9_RF_KL81.full_data.joblib'],\n",
       " 'KL23': ['/media/concha-eloko/Linux/PPT_clean/ficheros_28032023/RF_1302_models/0.975_RF_KL23.full_data.joblib',\n",
       "  '/media/concha-eloko/Linux/PPT_clean/ficheros_28032023/RF_1302_models/0.9_RF_KL23.full_data.joblib',\n",
       "  '/media/concha-eloko/Linux/PPT_clean/ficheros_28032023/RF_1302_models/0.8_RF_KL23.full_data.joblib',\n",
       "  '/media/concha-eloko/Linux/PPT_clean/ficheros_28032023/RF_1302_models/0.95_RF_KL23.full_data.joblib',\n",
       "  '/media/concha-eloko/Linux/PPT_clean/ficheros_28032023/RF_1302_models/0.85_RF_KL23.full_data.joblib',\n",
       "  '/media/concha-eloko/Linux/PPT_clean/ficheros_28032023/RF_1302_models/0.65_RF_KL23.full_data.joblib',\n",
       "  '/media/concha-eloko/Linux/PPT_clean/ficheros_28032023/RF_1302_models/0.75_RF_KL23.full_data.joblib',\n",
       "  '/media/concha-eloko/Linux/PPT_clean/ficheros_28032023/RF_1302_models/0.7_RF_KL23.full_data.joblib'],\n",
       " 'KL16': ['/media/concha-eloko/Linux/PPT_clean/ficheros_28032023/RF_1302_models/0.85_RF_KL16.full_data.joblib',\n",
       "  '/media/concha-eloko/Linux/PPT_clean/ficheros_28032023/RF_1302_models/0.975_RF_KL16.full_data.joblib',\n",
       "  '/media/concha-eloko/Linux/PPT_clean/ficheros_28032023/RF_1302_models/0.65_RF_KL16.full_data.joblib',\n",
       "  '/media/concha-eloko/Linux/PPT_clean/ficheros_28032023/RF_1302_models/0.95_RF_KL16.full_data.joblib',\n",
       "  '/media/concha-eloko/Linux/PPT_clean/ficheros_28032023/RF_1302_models/0.75_RF_KL16.full_data.joblib',\n",
       "  '/media/concha-eloko/Linux/PPT_clean/ficheros_28032023/RF_1302_models/0.9_RF_KL16.full_data.joblib',\n",
       "  '/media/concha-eloko/Linux/PPT_clean/ficheros_28032023/RF_1302_models/0.7_RF_KL16.full_data.joblib',\n",
       "  '/media/concha-eloko/Linux/PPT_clean/ficheros_28032023/RF_1302_models/0.8_RF_KL16.full_data.joblib'],\n",
       " 'KL22': ['/media/concha-eloko/Linux/PPT_clean/ficheros_28032023/RF_1302_models/0.9_RF_KL22.full_data.joblib'],\n",
       " 'KL38': ['/media/concha-eloko/Linux/PPT_clean/ficheros_28032023/RF_1302_models/0.95_RF_KL38.full_data.joblib',\n",
       "  '/media/concha-eloko/Linux/PPT_clean/ficheros_28032023/RF_1302_models/0.8_RF_KL38.full_data.joblib',\n",
       "  '/media/concha-eloko/Linux/PPT_clean/ficheros_28032023/RF_1302_models/0.9_RF_KL38.full_data.joblib',\n",
       "  '/media/concha-eloko/Linux/PPT_clean/ficheros_28032023/RF_1302_models/0.7_RF_KL38.full_data.joblib',\n",
       "  '/media/concha-eloko/Linux/PPT_clean/ficheros_28032023/RF_1302_models/0.65_RF_KL38.full_data.joblib',\n",
       "  '/media/concha-eloko/Linux/PPT_clean/ficheros_28032023/RF_1302_models/0.75_RF_KL38.full_data.joblib',\n",
       "  '/media/concha-eloko/Linux/PPT_clean/ficheros_28032023/RF_1302_models/0.975_RF_KL38.full_data.joblib',\n",
       "  '/media/concha-eloko/Linux/PPT_clean/ficheros_28032023/RF_1302_models/0.85_RF_KL38.full_data.joblib'],\n",
       " 'KL145': ['/media/concha-eloko/Linux/PPT_clean/ficheros_28032023/RF_1302_models/0.95_RF_KL145.full_data.joblib',\n",
       "  '/media/concha-eloko/Linux/PPT_clean/ficheros_28032023/RF_1302_models/0.7_RF_KL145.full_data.joblib',\n",
       "  '/media/concha-eloko/Linux/PPT_clean/ficheros_28032023/RF_1302_models/0.65_RF_KL145.full_data.joblib',\n",
       "  '/media/concha-eloko/Linux/PPT_clean/ficheros_28032023/RF_1302_models/0.8_RF_KL145.full_data.joblib',\n",
       "  '/media/concha-eloko/Linux/PPT_clean/ficheros_28032023/RF_1302_models/0.85_RF_KL145.full_data.joblib',\n",
       "  '/media/concha-eloko/Linux/PPT_clean/ficheros_28032023/RF_1302_models/0.9_RF_KL145.full_data.joblib',\n",
       "  '/media/concha-eloko/Linux/PPT_clean/ficheros_28032023/RF_1302_models/0.975_RF_KL145.full_data.joblib',\n",
       "  '/media/concha-eloko/Linux/PPT_clean/ficheros_28032023/RF_1302_models/0.75_RF_KL145.full_data.joblib'],\n",
       " 'KL47': ['/media/concha-eloko/Linux/PPT_clean/ficheros_28032023/RF_1302_models/0.85_RF_KL47.full_data.joblib',\n",
       "  '/media/concha-eloko/Linux/PPT_clean/ficheros_28032023/RF_1302_models/0.8_RF_KL47.full_data.joblib',\n",
       "  '/media/concha-eloko/Linux/PPT_clean/ficheros_28032023/RF_1302_models/0.7_RF_KL47.full_data.joblib',\n",
       "  '/media/concha-eloko/Linux/PPT_clean/ficheros_28032023/RF_1302_models/0.65_RF_KL47.full_data.joblib',\n",
       "  '/media/concha-eloko/Linux/PPT_clean/ficheros_28032023/RF_1302_models/0.95_RF_KL47.full_data.joblib',\n",
       "  '/media/concha-eloko/Linux/PPT_clean/ficheros_28032023/RF_1302_models/0.9_RF_KL47.full_data.joblib',\n",
       "  '/media/concha-eloko/Linux/PPT_clean/ficheros_28032023/RF_1302_models/0.975_RF_KL47.full_data.joblib',\n",
       "  '/media/concha-eloko/Linux/PPT_clean/ficheros_28032023/RF_1302_models/0.75_RF_KL47.full_data.joblib'],\n",
       " 'KL74': ['/media/concha-eloko/Linux/PPT_clean/ficheros_28032023/RF_1302_models/0.65_RF_KL74.full_data.joblib',\n",
       "  '/media/concha-eloko/Linux/PPT_clean/ficheros_28032023/RF_1302_models/0.975_RF_KL74.full_data.joblib',\n",
       "  '/media/concha-eloko/Linux/PPT_clean/ficheros_28032023/RF_1302_models/0.9_RF_KL74.full_data.joblib',\n",
       "  '/media/concha-eloko/Linux/PPT_clean/ficheros_28032023/RF_1302_models/0.85_RF_KL74.full_data.joblib',\n",
       "  '/media/concha-eloko/Linux/PPT_clean/ficheros_28032023/RF_1302_models/0.8_RF_KL74.full_data.joblib',\n",
       "  '/media/concha-eloko/Linux/PPT_clean/ficheros_28032023/RF_1302_models/0.95_RF_KL74.full_data.joblib',\n",
       "  '/media/concha-eloko/Linux/PPT_clean/ficheros_28032023/RF_1302_models/0.7_RF_KL74.full_data.joblib',\n",
       "  '/media/concha-eloko/Linux/PPT_clean/ficheros_28032023/RF_1302_models/0.75_RF_KL74.full_data.joblib'],\n",
       " 'KL125': ['/media/concha-eloko/Linux/PPT_clean/ficheros_28032023/RF_1302_models/0.65_RF_KL125.full_data.joblib',\n",
       "  '/media/concha-eloko/Linux/PPT_clean/ficheros_28032023/RF_1302_models/0.95_RF_KL125.full_data.joblib',\n",
       "  '/media/concha-eloko/Linux/PPT_clean/ficheros_28032023/RF_1302_models/0.975_RF_KL125.full_data.joblib',\n",
       "  '/media/concha-eloko/Linux/PPT_clean/ficheros_28032023/RF_1302_models/0.9_RF_KL125.full_data.joblib',\n",
       "  '/media/concha-eloko/Linux/PPT_clean/ficheros_28032023/RF_1302_models/0.75_RF_KL125.full_data.joblib',\n",
       "  '/media/concha-eloko/Linux/PPT_clean/ficheros_28032023/RF_1302_models/0.8_RF_KL125.full_data.joblib',\n",
       "  '/media/concha-eloko/Linux/PPT_clean/ficheros_28032023/RF_1302_models/0.7_RF_KL125.full_data.joblib',\n",
       "  '/media/concha-eloko/Linux/PPT_clean/ficheros_28032023/RF_1302_models/0.85_RF_KL125.full_data.joblib'],\n",
       " 'KL64': ['/media/concha-eloko/Linux/PPT_clean/ficheros_28032023/RF_1302_models/0.7_RF_KL64.full_data.joblib',\n",
       "  '/media/concha-eloko/Linux/PPT_clean/ficheros_28032023/RF_1302_models/0.975_RF_KL64.full_data.joblib',\n",
       "  '/media/concha-eloko/Linux/PPT_clean/ficheros_28032023/RF_1302_models/0.8_RF_KL64.full_data.joblib',\n",
       "  '/media/concha-eloko/Linux/PPT_clean/ficheros_28032023/RF_1302_models/0.65_RF_KL64.full_data.joblib',\n",
       "  '/media/concha-eloko/Linux/PPT_clean/ficheros_28032023/RF_1302_models/0.9_RF_KL64.full_data.joblib',\n",
       "  '/media/concha-eloko/Linux/PPT_clean/ficheros_28032023/RF_1302_models/0.95_RF_KL64.full_data.joblib',\n",
       "  '/media/concha-eloko/Linux/PPT_clean/ficheros_28032023/RF_1302_models/0.75_RF_KL64.full_data.joblib',\n",
       "  '/media/concha-eloko/Linux/PPT_clean/ficheros_28032023/RF_1302_models/0.85_RF_KL64.full_data.joblib']}"
      ]
     },
     "execution_count": 23,
     "metadata": {},
     "output_type": "execute_result"
    }
   ],
   "source": [
    "cluster_values = set([file.split(\"_\")[0] for file in os.listdir(path_jobs)])\n",
    "KLtypes = set([file.split(\"_RF_\")[1].split(\".full_data\")[0] for file in os.listdir(path_jobs)])\n",
    "\n",
    "KLtypes_paths = {kltype : [f\"{path_jobs}/{file}\" for file in os.listdir(path_jobs) if file.split(\"_RF_\")[1].split(\".full_data\")[0]==kltype]\n",
    "                for kltype in KLtypes}\n",
    "\n",
    "KLtypes_paths"
   ]
  },
  {
   "cell_type": "markdown",
   "id": "a5b6df37-a43a-4cd6-b108-e4191df886c0",
   "metadata": {},
   "source": [
    "***\n",
    "### Get the best cl value :"
   ]
  },
  {
   "cell_type": "markdown",
   "id": "873ae616-40ee-454c-b1b8-14805430e811",
   "metadata": {},
   "source": [
    "> Functions :"
   ]
  },
  {
   "cell_type": "code",
   "execution_count": 20,
   "id": "df6f4b64-5020-4507-8e14-fb94aa0de77d",
   "metadata": {},
   "outputs": [],
   "source": [
    "def get_mean_MCC(path_data_object) :\n",
    "    data_object = joblib.load(f\"{path_data_object}\")\n",
    "    mcc_values = []\n",
    "    for i in data_object :\n",
    "        y_test = data_object[i][\"test_data\"][0].values\n",
    "        predictions = data_object[i][\"test_data\"][1]\n",
    "        mcc = matthews_corrcoef(y_test, predictions)\n",
    "        mcc_values.append(mcc)\n",
    "    del data_object\n",
    "    mean_mcc = mean(mcc_values)\n",
    "    return mean_mcc\n",
    "\n",
    "    "
   ]
  },
  {
   "cell_type": "markdown",
   "id": "8f7f9f4c-7330-4e94-b2f4-54163d7ff1fa",
   "metadata": {},
   "source": [
    "> Get the best model : "
   ]
  },
  {
   "cell_type": "code",
   "execution_count": 39,
   "id": "129e981e-444c-4b80-9d55-c9bc686f778a",
   "metadata": {
    "scrolled": true
   },
   "outputs": [],
   "source": [
    "with open(f\"/media/concha-eloko/Linux/PPT_clean/Seqbased_model/Seqbased_models.prophages_metrics.tsv\", \"w\") as outfile :\n",
    "    for KLtype in KLtypes_paths : \n",
    "        for path in KLtypes_paths[KLtype] :\n",
    "            cl_value = path.split(\"/\")[-1].split(\"_RF\")[0]\n",
    "            mean_mcc = get_mean_MCC(path)\n",
    "            count_kltype = dico_prophage_count[KLtype]\n",
    "            outfile.write(f\"{KLtype}\\t{count_kltype}\\t{cl_value}\\t{mean_mcc}\\n\")\n"
   ]
  },
  {
   "cell_type": "code",
   "execution_count": 80,
   "id": "5efa9bd6-eeaf-40e8-bbfa-c0d037d4b161",
   "metadata": {},
   "outputs": [
    {
     "data": {
      "text/plain": [
       "{0.85: 0.7707948894513985,\n",
       " 0.8: 0.7584184893758646,\n",
       " 0.75: 0.7462727218238402,\n",
       " 0.7: 0.7398668014047561,\n",
       " 0.65: 0.7601878670678446,\n",
       " 0.9: 0.7701360467416041,\n",
       " 0.975: 0.7463814845203501,\n",
       " 0.95: 0.7491082544898822}"
      ]
     },
     "execution_count": 80,
     "metadata": {},
     "output_type": "execute_result"
    }
   ],
   "source": [
    "threshold = 15\n",
    "\n",
    "names_metric_col = [\"KL_type\", \"Count\", \"c_value\",\"mean_mcc\"]\n",
    "metric_df = pd.read_csv(f\"/media/concha-eloko/Linux/PPT_clean/Seqbased_model/Seqbased_models.prophages_metrics.tsv\", sep = \"\\t\", names = names_metric_col)\n",
    "\n",
    "metric_eval_df = metric_df[metric_df[\"Count\"] > threshold]\n",
    "\n",
    "weighted_mcc_dico = {}\n",
    "for cluster in metric_eval_df[\"c_value\"].unique().tolist() :\n",
    "    mcc_sum = 0\n",
    "    cl_df = metric_eval_df[metric_eval_df[\"c_value\"] == cluster]\n",
    "    for _,row in cl_df.iterrows() : \n",
    "        mcc_sum = mcc_sum + row[\"mean_mcc\"] * row[\"Count\"]\n",
    "    weighted_mcc = mcc_sum / (sum(cl_df[\"Count\"]))\n",
    "    weighted_mcc_dico[cluster] = weighted_mcc\n",
    "\n",
    "weighted_mcc_dico"
   ]
  },
  {
   "cell_type": "markdown",
   "id": "f2daa432-5c20-4b90-92b5-706cda91c757",
   "metadata": {},
   "source": [
    "***\n",
    "### Get the full metrics : "
   ]
  },
  {
   "cell_type": "markdown",
   "id": "b1956732-61e1-4aa6-8623-0486020f0435",
   "metadata": {},
   "source": [
    "> Relevant objects path :"
   ]
  },
  {
   "cell_type": "code",
   "execution_count": 79,
   "id": "616111fc-9b30-4b77-9793-69a60a3fef9b",
   "metadata": {},
   "outputs": [],
   "source": [
    "cl_value = \"0.85\"\n",
    "\n",
    "KLtypes = set([file.split(\"_RF_\")[1].split(\".full_data\")[0] for file in os.listdir(path_jobs)])\n",
    "\n",
    "KLtypes_paths = {kltype : [f\"{path_jobs}/{file}\" for file in os.listdir(path_jobs) if file.split(\"_\")[0] == cl_value if file.split(\"_RF_\")[1].split(\".full_data\")[0]==kltype]\n",
    "                for kltype in KLtypes if dico_prophage_count[kltype] > threshold}\n",
    "\n"
   ]
  },
  {
   "cell_type": "code",
   "execution_count": 64,
   "id": "68e1aa31-846b-4322-8f0e-61192d0c4db7",
   "metadata": {},
   "outputs": [
    {
     "data": {
      "text/plain": [
       "{'KL41': ['/media/concha-eloko/Linux/PPT_clean/ficheros_28032023/RF_1302_models/0.85_RF_KL41.full_data.joblib'],\n",
       " 'KL60': ['/media/concha-eloko/Linux/PPT_clean/ficheros_28032023/RF_1302_models/0.85_RF_KL60.full_data.joblib'],\n",
       " 'KL28': ['/media/concha-eloko/Linux/PPT_clean/ficheros_28032023/RF_1302_models/0.85_RF_KL28.full_data.joblib'],\n",
       " 'KL6': ['/media/concha-eloko/Linux/PPT_clean/ficheros_28032023/RF_1302_models/0.85_RF_KL6.full_data.joblib'],\n",
       " 'KL25': ['/media/concha-eloko/Linux/PPT_clean/ficheros_28032023/RF_1302_models/0.85_RF_KL25.full_data.joblib'],\n",
       " 'KL2': ['/media/concha-eloko/Linux/PPT_clean/ficheros_28032023/RF_1302_models/0.85_RF_KL2.full_data.joblib'],\n",
       " 'KL19': ['/media/concha-eloko/Linux/PPT_clean/ficheros_28032023/RF_1302_models/0.85_RF_KL19.full_data.joblib'],\n",
       " 'KL1': ['/media/concha-eloko/Linux/PPT_clean/ficheros_28032023/RF_1302_models/0.85_RF_KL1.full_data.joblib'],\n",
       " 'KL107': ['/media/concha-eloko/Linux/PPT_clean/ficheros_28032023/RF_1302_models/0.85_RF_KL107.full_data.joblib'],\n",
       " 'KL24': ['/media/concha-eloko/Linux/PPT_clean/ficheros_28032023/RF_1302_models/0.85_RF_KL24.full_data.joblib'],\n",
       " 'KL123': ['/media/concha-eloko/Linux/PPT_clean/ficheros_28032023/RF_1302_models/0.85_RF_KL123.full_data.joblib'],\n",
       " 'KL106': ['/media/concha-eloko/Linux/PPT_clean/ficheros_28032023/RF_1302_models/0.85_RF_KL106.full_data.joblib'],\n",
       " 'KL15': ['/media/concha-eloko/Linux/PPT_clean/ficheros_28032023/RF_1302_models/0.85_RF_KL15.full_data.joblib'],\n",
       " 'KL30': ['/media/concha-eloko/Linux/PPT_clean/ficheros_28032023/RF_1302_models/0.85_RF_KL30.full_data.joblib'],\n",
       " 'KL18': ['/media/concha-eloko/Linux/PPT_clean/ficheros_28032023/RF_1302_models/0.85_RF_KL18.full_data.joblib'],\n",
       " 'KL81': ['/media/concha-eloko/Linux/PPT_clean/ficheros_28032023/RF_1302_models/0.85_RF_KL81.full_data.joblib'],\n",
       " 'KL23': ['/media/concha-eloko/Linux/PPT_clean/ficheros_28032023/RF_1302_models/0.85_RF_KL23.full_data.joblib'],\n",
       " 'KL16': ['/media/concha-eloko/Linux/PPT_clean/ficheros_28032023/RF_1302_models/0.85_RF_KL16.full_data.joblib'],\n",
       " 'KL22': ['/media/concha-eloko/Linux/PPT_clean/ficheros_28032023/RF_1302_models/0.85_RF_KL22.full_data.joblib'],\n",
       " 'KL38': ['/media/concha-eloko/Linux/PPT_clean/ficheros_28032023/RF_1302_models/0.85_RF_KL38.full_data.joblib'],\n",
       " 'KL145': ['/media/concha-eloko/Linux/PPT_clean/ficheros_28032023/RF_1302_models/0.85_RF_KL145.full_data.joblib'],\n",
       " 'KL47': ['/media/concha-eloko/Linux/PPT_clean/ficheros_28032023/RF_1302_models/0.85_RF_KL47.full_data.joblib'],\n",
       " 'KL74': ['/media/concha-eloko/Linux/PPT_clean/ficheros_28032023/RF_1302_models/0.85_RF_KL74.full_data.joblib'],\n",
       " 'KL125': ['/media/concha-eloko/Linux/PPT_clean/ficheros_28032023/RF_1302_models/0.85_RF_KL125.full_data.joblib'],\n",
       " 'KL64': ['/media/concha-eloko/Linux/PPT_clean/ficheros_28032023/RF_1302_models/0.85_RF_KL64.full_data.joblib'],\n",
       " 'KL27': [],\n",
       " 'KL26': []}"
      ]
     },
     "execution_count": 64,
     "metadata": {},
     "output_type": "execute_result"
    }
   ],
   "source": [
    "KLtypes_paths"
   ]
  },
  {
   "cell_type": "code",
   "execution_count": 60,
   "id": "9db0bde3-e633-4a8c-96ee-c5ee1b671782",
   "metadata": {},
   "outputs": [],
   "source": [
    "def get_mean_MCC(path_data_object) :\n",
    "    data_object = joblib.load(f\"{path_data_object}\")\n",
    "    mcc_values = []\n",
    "    for i in data_object :\n",
    "        y_test = data_object[i][\"test_data\"][0].values\n",
    "        predictions = data_object[i][\"test_data\"][1]\n",
    "        mcc = matthews_corrcoef(y_test, predictions)\n",
    "        mcc_values.append(mcc)\n",
    "    del data_object\n",
    "    mean_mcc = mean(mcc_values)\n",
    "    return mean_mcc\n",
    "\n",
    "def get_mean_metrics(path_data_object) :\n",
    "    data_object = joblib.load(f\"{path_data_object}\")\n",
    "    mcc_values = []\n",
    "    auc_values = []\n",
    "    recall_values = []\n",
    "    f1_values = []\n",
    "    acc_values = []\n",
    "    prec_values = []\n",
    "    report_list = []\n",
    "    for i in data_object :\n",
    "        y_test = data_object[i][\"test_data\"][0].values\n",
    "        predictions = data_object[i][\"test_data\"][1]\n",
    "        mcc = matthews_corrcoef(y_test, predictions)\n",
    "        auc = roc_auc_score(y_test, predictions)\n",
    "        auc_values.append(auc)\n",
    "        mcc_values.append(mcc)\n",
    "        # Report : \n",
    "        report = classification_report(y_test, predictions, output_dict=True)\n",
    "        recall_values.append(report[\"1\"][\"recall\"])\n",
    "        f1_values.append(report[\"1\"][\"f1-score\"])\n",
    "        prec_values.append(report[\"1\"][\"precision\"])\n",
    "        acc_values.append(report[\"accuracy\"])\n",
    "        report_list.append(report)\n",
    "    del data_object\n",
    "    mean_mcc = mean(mcc_values)\n",
    "    mean_auc = mean(auc_values)\n",
    "    mean_recall = mean(recall_values)\n",
    "    mean_f1 = mean(f1_values)\n",
    "    mean_acc = mean(acc_values)\n",
    "    mean_prec = mean(prec_values)\n",
    "    return mean_mcc , mean_recall , mean_f1 , mean_acc , mean_prec , mean_auc\n",
    "\n"
   ]
  },
  {
   "cell_type": "code",
   "execution_count": 61,
   "id": "41f126c5-5b93-4983-b681-4ba58b7cdb89",
   "metadata": {},
   "outputs": [],
   "source": [
    "mean_mcc , mean_recall , mean_f1 , mean_acc , mean_prec , mean_auc = get_mean_metrics(KLtypes_paths[\"KL47\"][0])"
   ]
  },
  {
   "cell_type": "code",
   "execution_count": 62,
   "id": "225d8519-5afe-46b7-9907-7d9947dc587b",
   "metadata": {
    "scrolled": true
   },
   "outputs": [
    {
     "name": "stderr",
     "output_type": "stream",
     "text": [
      "/media/concha-eloko/Linux/conda_envs/ML_work_v2/lib/python3.9/site-packages/sklearn/metrics/_classification.py:1327: UndefinedMetricWarning: Precision and F-score are ill-defined and being set to 0.0 in labels with no predicted samples. Use `zero_division` parameter to control this behavior.\n",
      "  _warn_prf(average, modifier, msg_start, len(result))\n",
      "/media/concha-eloko/Linux/conda_envs/ML_work_v2/lib/python3.9/site-packages/sklearn/metrics/_classification.py:1327: UndefinedMetricWarning: Precision and F-score are ill-defined and being set to 0.0 in labels with no predicted samples. Use `zero_division` parameter to control this behavior.\n",
      "  _warn_prf(average, modifier, msg_start, len(result))\n",
      "/media/concha-eloko/Linux/conda_envs/ML_work_v2/lib/python3.9/site-packages/sklearn/metrics/_classification.py:1327: UndefinedMetricWarning: Precision and F-score are ill-defined and being set to 0.0 in labels with no predicted samples. Use `zero_division` parameter to control this behavior.\n",
      "  _warn_prf(average, modifier, msg_start, len(result))\n",
      "/media/concha-eloko/Linux/conda_envs/ML_work_v2/lib/python3.9/site-packages/sklearn/metrics/_classification.py:1327: UndefinedMetricWarning: Precision and F-score are ill-defined and being set to 0.0 in labels with no predicted samples. Use `zero_division` parameter to control this behavior.\n",
      "  _warn_prf(average, modifier, msg_start, len(result))\n",
      "/media/concha-eloko/Linux/conda_envs/ML_work_v2/lib/python3.9/site-packages/sklearn/metrics/_classification.py:1327: UndefinedMetricWarning: Precision and F-score are ill-defined and being set to 0.0 in labels with no predicted samples. Use `zero_division` parameter to control this behavior.\n",
      "  _warn_prf(average, modifier, msg_start, len(result))\n",
      "/media/concha-eloko/Linux/conda_envs/ML_work_v2/lib/python3.9/site-packages/sklearn/metrics/_classification.py:1327: UndefinedMetricWarning: Precision and F-score are ill-defined and being set to 0.0 in labels with no predicted samples. Use `zero_division` parameter to control this behavior.\n",
      "  _warn_prf(average, modifier, msg_start, len(result))\n",
      "/media/concha-eloko/Linux/conda_envs/ML_work_v2/lib/python3.9/site-packages/sklearn/metrics/_classification.py:1327: UndefinedMetricWarning: Precision and F-score are ill-defined and being set to 0.0 in labels with no predicted samples. Use `zero_division` parameter to control this behavior.\n",
      "  _warn_prf(average, modifier, msg_start, len(result))\n",
      "/media/concha-eloko/Linux/conda_envs/ML_work_v2/lib/python3.9/site-packages/sklearn/metrics/_classification.py:1327: UndefinedMetricWarning: Precision and F-score are ill-defined and being set to 0.0 in labels with no predicted samples. Use `zero_division` parameter to control this behavior.\n",
      "  _warn_prf(average, modifier, msg_start, len(result))\n",
      "/media/concha-eloko/Linux/conda_envs/ML_work_v2/lib/python3.9/site-packages/sklearn/metrics/_classification.py:1327: UndefinedMetricWarning: Precision and F-score are ill-defined and being set to 0.0 in labels with no predicted samples. Use `zero_division` parameter to control this behavior.\n",
      "  _warn_prf(average, modifier, msg_start, len(result))\n",
      "/media/concha-eloko/Linux/conda_envs/ML_work_v2/lib/python3.9/site-packages/sklearn/metrics/_classification.py:1327: UndefinedMetricWarning: Precision and F-score are ill-defined and being set to 0.0 in labels with no predicted samples. Use `zero_division` parameter to control this behavior.\n",
      "  _warn_prf(average, modifier, msg_start, len(result))\n",
      "/media/concha-eloko/Linux/conda_envs/ML_work_v2/lib/python3.9/site-packages/sklearn/metrics/_classification.py:1327: UndefinedMetricWarning: Precision and F-score are ill-defined and being set to 0.0 in labels with no predicted samples. Use `zero_division` parameter to control this behavior.\n",
      "  _warn_prf(average, modifier, msg_start, len(result))\n",
      "/media/concha-eloko/Linux/conda_envs/ML_work_v2/lib/python3.9/site-packages/sklearn/metrics/_classification.py:1327: UndefinedMetricWarning: Precision and F-score are ill-defined and being set to 0.0 in labels with no predicted samples. Use `zero_division` parameter to control this behavior.\n",
      "  _warn_prf(average, modifier, msg_start, len(result))\n",
      "/media/concha-eloko/Linux/conda_envs/ML_work_v2/lib/python3.9/site-packages/sklearn/metrics/_classification.py:1327: UndefinedMetricWarning: Precision and F-score are ill-defined and being set to 0.0 in labels with no predicted samples. Use `zero_division` parameter to control this behavior.\n",
      "  _warn_prf(average, modifier, msg_start, len(result))\n",
      "/media/concha-eloko/Linux/conda_envs/ML_work_v2/lib/python3.9/site-packages/sklearn/metrics/_classification.py:1327: UndefinedMetricWarning: Precision and F-score are ill-defined and being set to 0.0 in labels with no predicted samples. Use `zero_division` parameter to control this behavior.\n",
      "  _warn_prf(average, modifier, msg_start, len(result))\n",
      "/media/concha-eloko/Linux/conda_envs/ML_work_v2/lib/python3.9/site-packages/sklearn/metrics/_classification.py:1327: UndefinedMetricWarning: Precision and F-score are ill-defined and being set to 0.0 in labels with no predicted samples. Use `zero_division` parameter to control this behavior.\n",
      "  _warn_prf(average, modifier, msg_start, len(result))\n"
     ]
    },
    {
     "name": "stdout",
     "output_type": "stream",
     "text": [
      "KL41\t10\t0.0\t0.0\t0.0\t0.8333333333333334\t0.5\t0.0\n",
      "KL60\t68\t0.7656521739130434\t0.6472527472527473\t0.9492063492063492\t0.9362842517314062\t0.8206851971557855\t0.7511373779570631\n",
      "KL28\t112\t0.8571776630017277\t0.7692028985507247\t0.9787114845938375\t0.9589851163719908\t0.8829065340211251\t0.8446934684060952\n"
     ]
    },
    {
     "name": "stderr",
     "output_type": "stream",
     "text": [
      "/media/concha-eloko/Linux/conda_envs/ML_work_v2/lib/python3.9/site-packages/sklearn/metrics/_classification.py:1327: UndefinedMetricWarning: Precision and F-score are ill-defined and being set to 0.0 in labels with no predicted samples. Use `zero_division` parameter to control this behavior.\n",
      "  _warn_prf(average, modifier, msg_start, len(result))\n",
      "/media/concha-eloko/Linux/conda_envs/ML_work_v2/lib/python3.9/site-packages/sklearn/metrics/_classification.py:1327: UndefinedMetricWarning: Precision and F-score are ill-defined and being set to 0.0 in labels with no predicted samples. Use `zero_division` parameter to control this behavior.\n",
      "  _warn_prf(average, modifier, msg_start, len(result))\n",
      "/media/concha-eloko/Linux/conda_envs/ML_work_v2/lib/python3.9/site-packages/sklearn/metrics/_classification.py:1327: UndefinedMetricWarning: Precision and F-score are ill-defined and being set to 0.0 in labels with no predicted samples. Use `zero_division` parameter to control this behavior.\n",
      "  _warn_prf(average, modifier, msg_start, len(result))\n",
      "/media/concha-eloko/Linux/conda_envs/ML_work_v2/lib/python3.9/site-packages/sklearn/metrics/_classification.py:1327: UndefinedMetricWarning: Precision and F-score are ill-defined and being set to 0.0 in labels with no predicted samples. Use `zero_division` parameter to control this behavior.\n",
      "  _warn_prf(average, modifier, msg_start, len(result))\n",
      "/media/concha-eloko/Linux/conda_envs/ML_work_v2/lib/python3.9/site-packages/sklearn/metrics/_classification.py:1327: UndefinedMetricWarning: Precision and F-score are ill-defined and being set to 0.0 in labels with no predicted samples. Use `zero_division` parameter to control this behavior.\n",
      "  _warn_prf(average, modifier, msg_start, len(result))\n",
      "/media/concha-eloko/Linux/conda_envs/ML_work_v2/lib/python3.9/site-packages/sklearn/metrics/_classification.py:1327: UndefinedMetricWarning: Precision and F-score are ill-defined and being set to 0.0 in labels with no predicted samples. Use `zero_division` parameter to control this behavior.\n",
      "  _warn_prf(average, modifier, msg_start, len(result))\n",
      "/media/concha-eloko/Linux/conda_envs/ML_work_v2/lib/python3.9/site-packages/sklearn/metrics/_classification.py:1327: UndefinedMetricWarning: Precision and F-score are ill-defined and being set to 0.0 in labels with no predicted samples. Use `zero_division` parameter to control this behavior.\n",
      "  _warn_prf(average, modifier, msg_start, len(result))\n",
      "/media/concha-eloko/Linux/conda_envs/ML_work_v2/lib/python3.9/site-packages/sklearn/metrics/_classification.py:1327: UndefinedMetricWarning: Precision and F-score are ill-defined and being set to 0.0 in labels with no predicted samples. Use `zero_division` parameter to control this behavior.\n",
      "  _warn_prf(average, modifier, msg_start, len(result))\n",
      "/media/concha-eloko/Linux/conda_envs/ML_work_v2/lib/python3.9/site-packages/sklearn/metrics/_classification.py:1327: UndefinedMetricWarning: Precision and F-score are ill-defined and being set to 0.0 in labels with no predicted samples. Use `zero_division` parameter to control this behavior.\n",
      "  _warn_prf(average, modifier, msg_start, len(result))\n",
      "/media/concha-eloko/Linux/conda_envs/ML_work_v2/lib/python3.9/site-packages/sklearn/metrics/_classification.py:1327: UndefinedMetricWarning: Precision and F-score are ill-defined and being set to 0.0 in labels with no predicted samples. Use `zero_division` parameter to control this behavior.\n",
      "  _warn_prf(average, modifier, msg_start, len(result))\n",
      "/media/concha-eloko/Linux/conda_envs/ML_work_v2/lib/python3.9/site-packages/sklearn/metrics/_classification.py:1327: UndefinedMetricWarning: Precision and F-score are ill-defined and being set to 0.0 in labels with no predicted samples. Use `zero_division` parameter to control this behavior.\n",
      "  _warn_prf(average, modifier, msg_start, len(result))\n",
      "/media/concha-eloko/Linux/conda_envs/ML_work_v2/lib/python3.9/site-packages/sklearn/metrics/_classification.py:1327: UndefinedMetricWarning: Precision and F-score are ill-defined and being set to 0.0 in labels with no predicted samples. Use `zero_division` parameter to control this behavior.\n",
      "  _warn_prf(average, modifier, msg_start, len(result))\n",
      "/media/concha-eloko/Linux/conda_envs/ML_work_v2/lib/python3.9/site-packages/sklearn/metrics/_classification.py:1327: UndefinedMetricWarning: Precision and F-score are ill-defined and being set to 0.0 in labels with no predicted samples. Use `zero_division` parameter to control this behavior.\n",
      "  _warn_prf(average, modifier, msg_start, len(result))\n",
      "/media/concha-eloko/Linux/conda_envs/ML_work_v2/lib/python3.9/site-packages/sklearn/metrics/_classification.py:1327: UndefinedMetricWarning: Precision and F-score are ill-defined and being set to 0.0 in labels with no predicted samples. Use `zero_division` parameter to control this behavior.\n",
      "  _warn_prf(average, modifier, msg_start, len(result))\n",
      "/media/concha-eloko/Linux/conda_envs/ML_work_v2/lib/python3.9/site-packages/sklearn/metrics/_classification.py:1327: UndefinedMetricWarning: Precision and F-score are ill-defined and being set to 0.0 in labels with no predicted samples. Use `zero_division` parameter to control this behavior.\n",
      "  _warn_prf(average, modifier, msg_start, len(result))\n"
     ]
    },
    {
     "name": "stdout",
     "output_type": "stream",
     "text": [
      "KL6\t12\t0.0\t0.0\t0.0\t0.8342857142857143\t0.5\t0.0\n",
      "KL25\t269\t0.8380233762041729\t0.8104122990915443\t0.8712717446785647\t0.9479491567794166\t0.8929384915532071\t0.8090144660938176\n",
      "KL2\t351\t0.834817120753062\t0.7534406438631791\t0.9374125780431639\t0.9504248628395557\t0.8716211717899465\t0.8131165601721763\n",
      "KL19\t73\t0.844021164021164\t0.7516666666666667\t0.9666666666666667\t0.9544880785413745\t0.8732359307359308\t0.8278668631815479\n",
      "KL1\t190\t0.5279575510104982\t0.37894736842105264\t0.9261403508771929\t0.8903508771929824\t0.6857894736842105\t0.5444479817538865\n",
      "KL107\t1121\t0.8266579480598523\t0.8591785714285715\t0.7972308587597026\t0.9399890351240057\t0.9076641520244462\t0.79153889872206\n",
      "KL24\t288\t0.8177182385659331\t0.7750151240169388\t0.8672900649621551\t0.9423264646599256\t0.8753968353648708\t0.7859092373131645\n",
      "KL123\t29\t0.6266666666666667\t0.5\t0.9333333333333333\t0.9055555555555556\t0.7433333333333333\t0.6298843133197235\n",
      "KL106\t487\t0.7956232917703557\t0.8200294550810014\t0.772739221599344\t0.9297887680169311\t0.8858838481948975\t0.7538109845802491\n",
      "KL15\t204\t0.8114588070327643\t0.757026713124274\t0.8778850278850279\t0.9417461146663184\t0.8678337449116517\t0.781243516812687\n",
      "KL30\t93\t0.53952676439558\t0.4070175438596491\t0.8492307692307692\t0.887065637065637\t0.6949066213921902\t0.5324078684588002\n",
      "KL18\t22\t0.9555555555555556\t0.96\t0.96\t0.9849002849002849\t0.9754545454545455\t0.9497259894483203\n"
     ]
    },
    {
     "ename": "IndexError",
     "evalue": "list index out of range",
     "output_type": "error",
     "traceback": [
      "\u001b[0;31m---------------------------------------------------------------------------\u001b[0m",
      "\u001b[0;31mIndexError\u001b[0m                                Traceback (most recent call last)",
      "Cell \u001b[0;32mIn[62], line 5\u001b[0m\n\u001b[1;32m      3\u001b[0m \u001b[38;5;28;01mfor\u001b[39;00m kltype \u001b[38;5;129;01min\u001b[39;00m KLtypes_paths :\n\u001b[1;32m      4\u001b[0m     count_kltype \u001b[38;5;241m=\u001b[39m dico_prophage_count[kltype]\n\u001b[0;32m----> 5\u001b[0m     mean_mcc , mean_recall , mean_f1 , mean_acc , mean_prec , mean_auc \u001b[38;5;241m=\u001b[39m get_mean_metrics(\u001b[43mKLtypes_paths\u001b[49m\u001b[43m[\u001b[49m\u001b[43mkltype\u001b[49m\u001b[43m]\u001b[49m\u001b[43m[\u001b[49m\u001b[38;5;241;43m0\u001b[39;49m\u001b[43m]\u001b[49m)\n\u001b[1;32m      6\u001b[0m     outfile\u001b[38;5;241m.\u001b[39mwrite(\u001b[38;5;124mf\u001b[39m\u001b[38;5;124m\"\u001b[39m\u001b[38;5;132;01m{\u001b[39;00mkltype\u001b[38;5;132;01m}\u001b[39;00m\u001b[38;5;130;01m\\t\u001b[39;00m\u001b[38;5;132;01m{\u001b[39;00mcount_kltype\u001b[38;5;132;01m}\u001b[39;00m\u001b[38;5;130;01m\\t\u001b[39;00m\u001b[38;5;132;01m{\u001b[39;00mmean_f1\u001b[38;5;132;01m}\u001b[39;00m\u001b[38;5;130;01m\\t\u001b[39;00m\u001b[38;5;132;01m{\u001b[39;00mmean_recall\u001b[38;5;132;01m}\u001b[39;00m\u001b[38;5;130;01m\\t\u001b[39;00m\u001b[38;5;132;01m{\u001b[39;00mmean_prec\u001b[38;5;132;01m}\u001b[39;00m\u001b[38;5;130;01m\\t\u001b[39;00m\u001b[38;5;132;01m{\u001b[39;00mmean_acc\u001b[38;5;132;01m}\u001b[39;00m\u001b[38;5;130;01m\\t\u001b[39;00m\u001b[38;5;132;01m{\u001b[39;00mmean_auc\u001b[38;5;132;01m}\u001b[39;00m\u001b[38;5;130;01m\\t\u001b[39;00m\u001b[38;5;132;01m{\u001b[39;00mmean_mcc\u001b[38;5;132;01m}\u001b[39;00m\u001b[38;5;130;01m\\n\u001b[39;00m\u001b[38;5;124m\"\u001b[39m)\n\u001b[1;32m      7\u001b[0m     \u001b[38;5;28mprint\u001b[39m(\u001b[38;5;124mf\u001b[39m\u001b[38;5;124m\"\u001b[39m\u001b[38;5;132;01m{\u001b[39;00mkltype\u001b[38;5;132;01m}\u001b[39;00m\u001b[38;5;130;01m\\t\u001b[39;00m\u001b[38;5;132;01m{\u001b[39;00mcount_kltype\u001b[38;5;132;01m}\u001b[39;00m\u001b[38;5;130;01m\\t\u001b[39;00m\u001b[38;5;132;01m{\u001b[39;00mmean_f1\u001b[38;5;132;01m}\u001b[39;00m\u001b[38;5;130;01m\\t\u001b[39;00m\u001b[38;5;132;01m{\u001b[39;00mmean_recall\u001b[38;5;132;01m}\u001b[39;00m\u001b[38;5;130;01m\\t\u001b[39;00m\u001b[38;5;132;01m{\u001b[39;00mmean_prec\u001b[38;5;132;01m}\u001b[39;00m\u001b[38;5;130;01m\\t\u001b[39;00m\u001b[38;5;132;01m{\u001b[39;00mmean_acc\u001b[38;5;132;01m}\u001b[39;00m\u001b[38;5;130;01m\\t\u001b[39;00m\u001b[38;5;132;01m{\u001b[39;00mmean_auc\u001b[38;5;132;01m}\u001b[39;00m\u001b[38;5;130;01m\\t\u001b[39;00m\u001b[38;5;132;01m{\u001b[39;00mmean_mcc\u001b[38;5;132;01m}\u001b[39;00m\u001b[38;5;124m\"\u001b[39m)\n",
      "\u001b[0;31mIndexError\u001b[0m: list index out of range"
     ]
    }
   ],
   "source": [
    "with open(f\"/media/concha-eloko/Linux/PPT_clean/Seqbased_model/Seqbased_models.prophages_FULL_metrics.tsv\", \"w\") as outfile :\n",
    "    outfile.write(f\"KL_type\\tn_prophages\\tF1\\trecall\\tprecision\\taccuracy\\tAUC\\tMCC\\n\")\n",
    "    for kltype in KLtypes_paths :\n",
    "        count_kltype = dico_prophage_count[kltype]\n",
    "        mean_mcc , mean_recall , mean_f1 , mean_acc , mean_prec , mean_auc = get_mean_metrics(KLtypes_paths[kltype][0])\n",
    "        outfile.write(f\"{kltype}\\t{count_kltype}\\t{mean_f1}\\t{mean_recall}\\t{mean_prec}\\t{mean_acc}\\t{mean_auc}\\t{mean_mcc}\\n\")\n",
    "        print(f\"{kltype}\\t{count_kltype}\\t{mean_f1}\\t{mean_recall}\\t{mean_prec}\\t{mean_acc}\\t{mean_auc}\\t{mean_mcc}\")"
   ]
  },
  {
   "cell_type": "markdown",
   "id": "6bd6d4e2-797c-4e0a-be7c-927c01c3baad",
   "metadata": {},
   "source": [
    "***\n",
    "### Dump the best model for each KL types :"
   ]
  },
  {
   "cell_type": "code",
   "execution_count": 71,
   "id": "ec6b9111-a471-4bbb-b97d-87b8653fe47d",
   "metadata": {},
   "outputs": [],
   "source": [
    "path_models = \"/media/concha-eloko/Linux/PPT_clean/Seqbased_model/1702_models\"\n",
    "cl_value = \"0.85\"\n",
    "\n",
    "KLtypes = set([file.split(\"_RF_\")[1].split(\".full_data\")[0] for file in os.listdir(path_jobs)])\n",
    "\n",
    "KLtypes_paths = {kltype : [f\"{path_jobs}/{file}\" for file in os.listdir(path_jobs) if file.split(\"_\")[0] == cl_value if file.split(\"_RF_\")[1].split(\".full_data\")[0]==kltype]\n",
    "                for kltype in KLtypes}\n"
   ]
  },
  {
   "cell_type": "code",
   "execution_count": 78,
   "id": "86bc7dcf-de63-43b0-9a8b-4753d1ba7128",
   "metadata": {},
   "outputs": [
    {
     "name": "stdout",
     "output_type": "stream",
     "text": [
      "Model saved for KL41\n",
      "Model saved for KL60\n",
      "Model saved for KL28\n",
      "Model saved for KL6\n",
      "Model saved for KL25\n",
      "Model saved for KL2\n",
      "Model saved for KL19\n",
      "Model saved for KL1\n",
      "Model saved for KL107\n",
      "Model saved for KL24\n",
      "Model saved for KL123\n",
      "Model saved for KL106\n",
      "Model saved for KL15\n",
      "Model saved for KL30\n",
      "Model saved for KL18\n",
      "Model saved for KL81\n",
      "Model saved for KL23\n",
      "Model saved for KL16\n",
      "Model saved for KL22\n",
      "Model saved for KL38\n",
      "Model saved for KL145\n",
      "Model saved for KL47\n",
      "Model saved for KL74\n",
      "Model saved for KL125\n",
      "Model saved for KL64\n"
     ]
    },
    {
     "ename": "IndexError",
     "evalue": "list index out of range",
     "output_type": "error",
     "traceback": [
      "\u001b[0;31m---------------------------------------------------------------------------\u001b[0m",
      "\u001b[0;31mIndexError\u001b[0m                                Traceback (most recent call last)",
      "Cell \u001b[0;32mIn[78], line 21\u001b[0m\n\u001b[1;32m     18\u001b[0m     \u001b[38;5;28mprint\u001b[39m(\u001b[38;5;124mf\u001b[39m\u001b[38;5;124m\"\u001b[39m\u001b[38;5;124mModel saved for \u001b[39m\u001b[38;5;132;01m{\u001b[39;00mkltype\u001b[38;5;132;01m}\u001b[39;00m\u001b[38;5;124m\"\u001b[39m)\n\u001b[1;32m     20\u001b[0m \u001b[38;5;28;01mfor\u001b[39;00m kltype \u001b[38;5;129;01min\u001b[39;00m KLtypes_paths :\n\u001b[0;32m---> 21\u001b[0m     save_best_model(\u001b[43mKLtypes_paths\u001b[49m\u001b[43m[\u001b[49m\u001b[43mkltype\u001b[49m\u001b[43m]\u001b[49m\u001b[43m[\u001b[49m\u001b[38;5;241;43m0\u001b[39;49m\u001b[43m]\u001b[49m)\n",
      "\u001b[0;31mIndexError\u001b[0m: list index out of range"
     ]
    }
   ],
   "source": [
    "def save_best_model(path_data_object) :\n",
    "    data_object = joblib.load(f\"{path_data_object}\")\n",
    "    mcc_values = []\n",
    "    kltype = path_data_object.split(\"/\")[-1].split(\"RF_\")[1].split(\".full\")[0]\n",
    "    for i in range(0,5) :\n",
    "        y_test = data_object[i][\"test_data\"][0].values\n",
    "        predictions = data_object[i][\"test_data\"][1]\n",
    "        mcc = matthews_corrcoef(y_test, predictions)\n",
    "        mcc_values.append(mcc)\n",
    "    #print(kltype)\n",
    "    #print(mcc_values)\n",
    "    #print(np.argmax(mcc_values))\n",
    "    #print(data_object[np.argmax(mcc_values)])\n",
    "    #print(\"\\n\")\n",
    "    best_model = data_object[np.argmax(mcc_values)][\"model\"]\n",
    "    joblib.dump(best_model, f'{path_models}/{cl_value}_RF_{kltype}.best_RF_model.joblib')\n",
    "    del data_object\n",
    "    print(f\"Model saved for {kltype}\")\n",
    "\n",
    "for kltype in KLtypes_paths :\n",
    "    save_best_model(KLtypes_paths[kltype][0])\n",
    "    \n"
   ]
  },
  {
   "cell_type": "code",
   "execution_count": null,
   "id": "0db8cef1-302b-4792-ab67-67646ab5b4bb",
   "metadata": {},
   "outputs": [],
   "source": []
  }
 ],
 "metadata": {
  "kernelspec": {
   "display_name": "ML_work_v2",
   "language": "python",
   "name": "ml_work_v2"
  },
  "language_info": {
   "codemirror_mode": {
    "name": "ipython",
    "version": 3
   },
   "file_extension": ".py",
   "mimetype": "text/x-python",
   "name": "python",
   "nbconvert_exporter": "python",
   "pygments_lexer": "ipython3",
   "version": "3.9.18"
  },
  "widgets": {
   "application/vnd.jupyter.widget-state+json": {
    "state": {},
    "version_major": 2,
    "version_minor": 0
   }
  }
 },
 "nbformat": 4,
 "nbformat_minor": 5
}
