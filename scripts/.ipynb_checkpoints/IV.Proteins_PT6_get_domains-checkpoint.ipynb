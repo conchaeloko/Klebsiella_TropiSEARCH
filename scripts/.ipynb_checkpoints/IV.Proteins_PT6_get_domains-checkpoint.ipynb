{
 "cells": [
  {
   "cell_type": "markdown",
   "metadata": {},
   "source": [
    "# Screen the depolymerase Protein Units against the depolymerase database \n",
    "***"
   ]
  },
  {
   "cell_type": "markdown",
   "metadata": {},
   "source": [
    "### Get the SWORD2 predictions in the same file :"
   ]
  },
  {
   "cell_type": "code",
   "execution_count": 1,
   "metadata": {
    "jupyter": {
     "source_hidden": true
    }
   },
   "outputs": [],
   "source": [
    "path_project = \"/media/concha-eloko/Linux/PPT_clean/ficheros_28032023\"\n",
    "dir_out = f\"{path_project}/seekfold_PPT\"\n",
    "import pandas as pd\n",
    "import os \n",
    "\n",
    "path_info = f\"/media/concha-eloko/Linux/depolymerase_building/depolymerase_fold.csv\"\n",
    "info_df = pd.read_csv(path_info , sep = \"\\t\", header = 0)\n",
    "dico_folds = {\"jelly-roll\" : [],\n",
    "              \"alpha/alpha toroid\" : [],\n",
    "              \"right-handed beta-helix\" : [] ,\n",
    "              \"TIM beta/alpha-barrel\" : [],\n",
    "              \"6-bladed beta-propeller\" : [] ,\n",
    "              \"Flavodoxin-like\" : [] ,\n",
    "              \"Alpha/Beta hydrolase fold\" : [] ,\n",
    "              \"Other\" : [],\n",
    "             }\n",
    "\n",
    "outputs = [f\"{dir_out}/{file}\" for file in os.listdir(dir_out) if file[-3:]==\"out\"]\n",
    "header_seekfold = [\"query\",\"target\",\"pident\",\"alnlen\",\"gapopen\",\"qstart\",\"qend\",\"tstart\",\"tend\",\"bits\",\"prob\"]\n",
    "depo_results = {}\n",
    "for results in outputs :\n",
    "    results_df = pd.read_csv(f\"{results}\", sep = \"\\t\" , names = header_seekfold)\n",
    "    for _,row in results_df.iterrows() :\n",
    "        fold = info_df[info_df[\"ID\"] == row[\"target\"]][\"X_Group_Name\"].values[0]\n",
    "        if fold != \"jelly-roll\" :\n",
    "            if row[\"prob\"] >= 0.5 :\n",
    "                depo_results[row[\"query\"].split(\".pdb\")[0]] = {\"Fold\" : fold , \"Prob\" : row[\"prob\"]}\n",
    "            elif fold == \"right-handed beta-helix\" and row[\"prob\"] >= 0.2 :\n",
    "                depo_results[row[\"query\"].split(\".pdb\")[0]] = {\"Fold\" : fold , \"Prob\" : row[\"prob\"]}\n",
    "                \n"
   ]
  },
  {
   "cell_type": "code",
   "execution_count": 2,
   "metadata": {
    "collapsed": true,
    "jupyter": {
     "outputs_hidden": true,
     "source_hidden": true
    }
   },
   "outputs": [
    {
     "data": {
      "text/plain": [
       "1987"
      ]
     },
     "execution_count": 2,
     "metadata": {},
     "output_type": "execute_result"
    }
   ],
   "source": [
    "len(depo_results)\n",
    "\n",
    "# Apparently, all the good ppt are already in place. Let's check with minibatch "
   ]
  },
  {
   "cell_type": "code",
   "execution_count": 3,
   "metadata": {
    "jupyter": {
     "source_hidden": true
    }
   },
   "outputs": [],
   "source": [
    "path_project = \"/media/concha-eloko/Linux/PPT_clean/ficheros_28032023\"\n",
    "dir_out = f\"{path_project}/seekfold_minibatch\"\n",
    "import pandas as pd\n",
    "import os \n",
    "\n",
    "path_info = f\"/media/concha-eloko/Linux/depolymerase_building/depolymerase_fold.csv\"\n",
    "info_df = pd.read_csv(path_info , sep = \"\\t\", header = 0)\n",
    "dico_folds = {\"jelly-roll\" : [],\n",
    "              \"alpha/alpha toroid\" : [],\n",
    "              \"right-handed beta-helix\" : [] ,\n",
    "              \"TIM beta/alpha-barrel\" : [],\n",
    "              \"6-bladed beta-propeller\" : [] ,\n",
    "              \"Flavodoxin-like\" : [] ,\n",
    "              \"Alpha/Beta hydrolase fold\" : [] ,\n",
    "              \"Other\" : [],\n",
    "             }\n",
    "\n",
    "outputs = [f\"{dir_out}/{file}\" for file in os.listdir(dir_out) if file[-3:]==\"out\"]\n",
    "header_seekfold = [\"query\",\"target\",\"pident\",\"alnlen\",\"gapopen\",\"qstart\",\"qend\",\"tstart\",\"tend\",\"bits\",\"prob\"]\n",
    "depo_results = {}\n",
    "for results in outputs :\n",
    "    results_df = pd.read_csv(f\"{results}\", sep = \"\\t\" , names = header_seekfold)\n",
    "    for _,row in results_df.iterrows() :\n",
    "        fold = info_df[info_df[\"ID\"] == row[\"target\"]][\"X_Group_Name\"].values[0]\n",
    "        if fold != \"jelly-roll\" :\n",
    "            if row[\"prob\"] >= 0.5 :\n",
    "                depo_results[row[\"query\"].split(\".pdb\")[0]] = {\"Fold\" : fold , \"Prob\" : row[\"prob\"]}\n",
    "            elif fold == \"right-handed beta-helix\" and row[\"prob\"] >= 0.2 :\n",
    "                depo_results[row[\"query\"].split(\".pdb\")[0]] = {\"Fold\" : fold , \"Prob\" : row[\"prob\"]}\n",
    "                \n",
    "\n"
   ]
  },
  {
   "cell_type": "code",
   "execution_count": 4,
   "metadata": {
    "collapsed": true,
    "jupyter": {
     "outputs_hidden": true,
     "source_hidden": true
    }
   },
   "outputs": [
    {
     "data": {
      "text/plain": [
       "649"
      ]
     },
     "execution_count": 4,
     "metadata": {},
     "output_type": "execute_result"
    }
   ],
   "source": [
    "len(depo_results)\n",
    "\n",
    "# All the minibatch as well. Let's start the scan !"
   ]
  },
  {
   "cell_type": "markdown",
   "metadata": {},
   "source": [
    "***\n",
    "# The command : "
   ]
  },
  {
   "cell_type": "code",
   "execution_count": null,
   "metadata": {},
   "outputs": [],
   "source": [
    "foldseek createdb \\\n",
    "/home/conchae/depolymerase/pdb_depolymerase_domains \\\n",
    "/home/conchae/depolymerase/RefDepo_domains/RefDepo_domains_db\n",
    "\n",
    "# Generate index files : \n",
    "\n",
    "foldseek createindex \\\n",
    "/home/conchae/depolymerase/RefDepo_domains/RefDepo_domains_db \\ \n",
    "/home/conchae/depolymerase/tmp/tmp\n",
    "\n",
    "# *************************\n",
    "#!/bin/bash\n",
    "#BATCH --job-name=create_db\n",
    "#SBATCH --qos=short \n",
    "#SBATCH --ntasks=1 \n",
    "#SBATCH --cpus-per-task=5\n",
    "#SBATCH --mem=50gb \n",
    "#SBATCH --time=1-00:00:00 \n",
    "#SBATCH --output=create_db%j.log \n",
    "\n",
    "source /storage/apps/ANACONDA/anaconda3/etc/profile.d/conda.sh\n",
    "conda activate HH-suite3\n",
    "\n",
    "foldseek createdb \\\n",
    "/home/conchae/depolymerase/pdb_depolymerase_domains \\\n",
    "/home/conchae/depolymerase/RefDepo_domains/RefDepo_domains_db\n",
    "\n",
    "# Generate index files : \n",
    "\n",
    "foldseek createindex \\\n",
    "/home/conchae/depolymerase/RefDepo_domains/RefDepo_domains_db \\ \n",
    "/home/conchae/depolymerase/tmp\n"
   ]
  },
  {
   "cell_type": "markdown",
   "metadata": {},
   "source": [
    ">The PPT dataset"
   ]
  },
  {
   "cell_type": "markdown",
   "metadata": {},
   "source": [
    "Full proteins"
   ]
  },
  {
   "cell_type": "code",
   "execution_count": null,
   "metadata": {},
   "outputs": [],
   "source": [
    "from multiprocessing.pool import ThreadPool\n",
    "import subprocess\n",
    "import os\n",
    "\n",
    "path_project = \"/home/conchae/prediction_depolymerase_tropism/prophage_prediction/depolymerase_decipher/ficheros_28032023\"\n",
    "path_pdb = f\"{path_project}/output_ppt\"\n",
    "path_prot = f\"{path_project}/sword2_DepoSeq_pt2\"\n",
    "path_db = \"/home/conchae/depolymerase/RefDepo_domains/RefDepo_domains_db\"\n",
    "path_tmp = f\"{path_project}/tmp\"\n",
    "\n",
    "def seek_beta_helix(path_in) :\n",
    "    with open(f\"{path_project}/scan_domains.ppt.log\",\"a+\") as outfile : \n",
    "        dir_out = f\"{path_project}/seekfold_PPT_full\"\n",
    "        protein_id = path_in.split(\"/\")[-1].split(\".pdb\")[0]\n",
    "        path_out = f\"{dir_out}/{protein_id}.out\"\n",
    "        output_frmt = f\"query,target,pident,alnlen,gapopen,qstart,qend,tstart,tend,bits,prob,\"\n",
    "        seek = f\"foldseek easy-search {path_in} {path_db} {path_out} {path_tmp} --format-output {output_frmt}\"\n",
    "        seek_process = subprocess.Popen(seek, shell=True, stdout=subprocess.PIPE, stderr=subprocess.STDOUT)\n",
    "        press_out, press_err = seek_process.communicate()\n",
    "        print (press_out, press_err)\n",
    "        outfile.write(f\"{protein_id}\\n\")\n",
    "\n",
    "paths_domain = []\n",
    "for file in os.listdir(f\"{path_pdb}\") :\n",
    "    try : \n",
    "        for file_2 in os.listdir(f\"{path_pdb}/{file}/{file}_A/Protein_Units\") :\n",
    "            if file_2[-3:] == \"pdb\" :\n",
    "                path = f\"{path_pdb}/{file}/{file}_A/Protein_Units/{file_2}\"\n",
    "                paths_domain.append(path)\n",
    "    except Exception as e:\n",
    "        print(file)    \n",
    "\n",
    "if __name__ == '__main__':\n",
    "    with ThreadPool(2) as p:\n",
    "        p.map(seek_beta_helix, paths_domain)\n",
    "    \n",
    "# ******************************************************************************************\n",
    "#!/bin/bash\n",
    "#BATCH --job-name=seek_PPT__\n",
    "#SBATCH --partition=medium \n",
    "#SBATCH --ntasks=1\n",
    "#SBATCH --cpus-per-task=40\n",
    "#SBATCH --mem=90gb \n",
    "#SBATCH --time=2-00:00:00 \n",
    "#SBATCH --output=seek_PPT__%j.log \n",
    "\n",
    "source /storage/apps/ANACONDA/anaconda3/etc/profile.d/conda.sh\n",
    "conda activate HH-suite3\n",
    "\n",
    "python /home/conchae/prediction_depolymerase_tropism/prophage_prediction/depolymerase_decipher/ficheros_28032023/script_files/seek_betahelix.ppt.py"
   ]
  },
  {
   "cell_type": "markdown",
   "metadata": {},
   "source": [
    "The domains"
   ]
  },
  {
   "cell_type": "code",
   "execution_count": null,
   "metadata": {},
   "outputs": [],
   "source": [
    "from multiprocessing.pool import ThreadPool\n",
    "import subprocess\n",
    "import os\n",
    "\n",
    "path_project = \"/home/conchae/prediction_depolymerase_tropism/prophage_prediction/depolymerase_decipher/ficheros_28032023\"\n",
    "path_pdb = f\"{path_project}/sword2_DepoSeq_pt2\"\n",
    "path_db = \"/home/conchae/depolymerase/RefDepo_domains/RefDepo_domains_db\"\n",
    "path_tmp = f\"{path_project}/tmp\"\n",
    "\n",
    "def seek_beta_helix(path_in) :\n",
    "    with open(f\"{path_project}/scan_domains.ppt.log\",\"a+\") as outfile : \n",
    "        dir_out = f\"{path_project}/seekfold_PPT_domains\"\n",
    "        protein_id = path_in.split(\"/\")[-1].split(\".pdb\")[0]\n",
    "        path_out = f\"{dir_out}/{protein_id}.out\"\n",
    "        output_frmt = f\"query,target,pident,alnlen,gapopen,qstart,qend,tstart,tend,bits,prob\"\n",
    "        seek = f\"foldseek easy-search {path_in} {path_db} {path_out} {path_tmp} --format-output {output_frmt}\"\n",
    "        seek_process = subprocess.Popen(seek, shell=True, stdout=subprocess.PIPE, stderr=subprocess.STDOUT)\n",
    "        press_out, press_err = seek_process.communicate()\n",
    "        print (press_out, press_err)\n",
    "        outfile.write(f\"{protein_id}\\n\")\n",
    "\n",
    "paths_domain = []\n",
    "for file in os.listdir(f\"{path_pdb}\") :\n",
    "    try : \n",
    "        for file_2 in os.listdir(f\"{path_pdb}/{file}/{file}_A/Protein_Units\") :\n",
    "            if file_2[-3:] == \"pdb\" :\n",
    "                path = f\"{path_pdb}/{file}/{file}_A/Protein_Units/{file_2}\"\n",
    "                paths_domain.append(path)\n",
    "    except Exception as e:\n",
    "        print(file)    \n",
    "\n",
    "if __name__ == '__main__':\n",
    "    with ThreadPool(2) as p:\n",
    "        p.map(seek_beta_helix, paths_domain)\n",
    "    \n",
    "# ******************************************************************************************\n",
    "#!/bin/bash\n",
    "#BATCH --job-name=seek_PPT__\n",
    "#SBATCH --partition=medium \n",
    "#SBATCH --ntasks=1\n",
    "#SBATCH --cpus-per-task=40\n",
    "#SBATCH --mem=90gb \n",
    "#SBATCH --time=2-00:00:00 \n",
    "#SBATCH --output=seek_PPT__%j.log \n",
    "\n",
    "source /storage/apps/ANACONDA/anaconda3/etc/profile.d/conda.sh\n",
    "conda activate HH-suite3\n",
    "\n",
    "python /home/conchae/prediction_depolymerase_tropism/prophage_prediction/depolymerase_decipher/ficheros_28032023/script_files/seek_betahelix.ppt.py"
   ]
  },
  {
   "cell_type": "markdown",
   "metadata": {},
   "source": [
    "> The minibatch dataset"
   ]
  },
  {
   "cell_type": "code",
   "execution_count": null,
   "metadata": {},
   "outputs": [],
   "source": [
    "from multiprocessing.pool import ThreadPool\n",
    "import subprocess\n",
    "import os\n",
    "\n",
    "path_project = \"/home/conchae/prediction_depolymerase_tropism/prophage_prediction/depolymerase_decipher/ficheros_28032023\"\n",
    "path_pdb = f\"{path_project}/sword2_Minibatch_pt2\"\n",
    "path_db = \"/home/conchae/depolymerase/RefDepo_domains/RefDepo_domains_db\"\n",
    "path_tmp = f\"{path_project}/tmp\"\n",
    "\n",
    "def seek_beta_helix(path_in) :\n",
    "    with open(f\"{path_project}/scan_domains.minibatch.log\",\"a+\") as outfile : \n",
    "        dir_out = f\"{path_project}/seekfold_minibatch_domains\"\n",
    "        protein_id = path_in.split(\"/\")[-1].split(\".pdb\")[0]\n",
    "        path_out = f\"{dir_out}/{protein_id}.out\"\n",
    "        output_frmt = f\"query,target,pident,alnlen,gapopen,qstart,qend,tstart,tend,bits,prob\"\n",
    "        seek = f\"foldseek easy-search {path_in} {path_db} {path_out} {path_tmp} --format-output {output_frmt}\"\n",
    "        seek_process = subprocess.Popen(seek, shell=True, stdout=subprocess.PIPE, stderr=subprocess.STDOUT)\n",
    "        press_out, press_err = seek_process.communicate()\n",
    "        print (press_out, press_err)\n",
    "        outfile.write(f\"{protein_id}\\n\")\n",
    "\n",
    "    \n",
    "paths_domain = []\n",
    "for file in os.listdir(f\"{path_pdb}\") :\n",
    "    try : \n",
    "        for file_2 in os.listdir(f\"{path_pdb}/{file}/{file}_A/Protein_Units\") :\n",
    "            if file_2[-3:] == \"pdb\" :\n",
    "                path = f\"{path_pdb}/{file}/{file}_A/Protein_Units/{file_2}\"\n",
    "                paths_domain.append(path)\n",
    "    except Exception as e:\n",
    "        print(file)    \n",
    "\n",
    "if __name__ == '__main__':\n",
    "    with ThreadPool(30) as p:\n",
    "        p.map(sword2_pred, paths_domain)\n",
    "        \n",
    "        \n",
    "# ******************************************************************************************\n",
    "#!/bin/bash\n",
    "#BATCH --job-name=seek_PPT__\n",
    "#SBATCH --qos=medium \n",
    "#SBATCH --ntasks=1\n",
    "#SBATCH --cpus-per-task=40\n",
    "#SBATCH --mem=100gb \n",
    "#SBATCH --time=1-00:00:00 \n",
    "#SBATCH --output=seek_PPT__%j.log \n",
    "\n",
    "source /storage/apps/ANACONDA/anaconda3/etc/profile.d/conda.sh\n",
    "conda activate HH-suite3\n",
    "\n",
    "python /home/conchae/prediction_depolymerase_tropism/prophage_prediction/depolymerase_decipher/ficheros_28032023/script_files/seek_betahelix.minibatch.py\n",
    "\n",
    "\n"
   ]
  }
 ],
 "metadata": {
  "kernelspec": {
   "display_name": "sklearn-env",
   "language": "python",
   "name": "sklearn-env"
  },
  "language_info": {
   "codemirror_mode": {
    "name": "ipython",
    "version": 3
   },
   "file_extension": ".py",
   "mimetype": "text/x-python",
   "name": "python",
   "nbconvert_exporter": "python",
   "pygments_lexer": "ipython3",
   "version": "3.8.16"
  }
 },
 "nbformat": 4,
 "nbformat_minor": 4
}
