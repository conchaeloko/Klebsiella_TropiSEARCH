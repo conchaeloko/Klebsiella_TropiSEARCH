{
 "cells": [
  {
   "cell_type": "markdown",
   "metadata": {},
   "source": [
    "# Fiting a ML algorithm on the prophages Dpo profiles to predict the KL type \n",
    "## I. Load tha data\n",
    "> A. Sequence similarity <br>\n",
    "> B. 3D structure similarity<br>\n",
    "> C. Embeddings<br>\n",
    "## II. Build the clusters\n",
    "## III. Fit the algos on the data / Write performances\n",
    "## IV. Plot the data\n",
    "***"
   ]
  },
  {
   "cell_type": "markdown",
   "metadata": {},
   "source": [
    "> Import the modules"
   ]
  },
  {
   "cell_type": "code",
   "execution_count": null,
   "metadata": {},
   "outputs": [],
   "source": [
    "import pandas as pd\n",
    "import numpy as np\n",
    "import os\n",
    "import scipy as sp\n",
    "import subprocess\n",
    "from tqdm import tqdm\n",
    "from collections import Counter\n",
    "import datetime as dt\n",
    "from Bio import SeqIO, Entrez, pairwise2\n"
   ]
  },
  {
   "cell_type": "markdown",
   "metadata": {},
   "source": [
    "***\n",
    "### I. Loading the data "
   ]
  },
  {
   "cell_type": "code",
   "execution_count": 1,
   "metadata": {},
   "outputs": [
    {
     "name": "stderr",
     "output_type": "stream",
     "text": [
      "/home/concha-eloko/.local/lib/python3.8/site-packages/tqdm/auto.py:22: TqdmWarning: IProgress not found. Please update jupyter and ipywidgets. See https://ipywidgets.readthedocs.io/en/stable/user_install.html\n",
      "  from .autonotebook import tqdm as notebook_tqdm\n"
     ]
    }
   ],
   "source": [
    "#import torch\n",
    "import os \n",
    "import pandas as pd\n",
    "from tqdm import tqdm \n",
    "\n",
    "# remote :\n",
    "path_work = f\"/home/conchae/prediction_depolymerase_tropism/prophage_prediction/depolymerase_decipher/ficheros_28032023\"\n",
    "path_task = f\"{path_work}/Rafa_task\"\n",
    "path_tmp_cdhit = f\"{path_work}/tmp_cdhit\"\n",
    "\n",
    "multi_fasta = f\"{path_task}/Dpo_domains.0805.final.ultimate.multi.fasta\"\n",
    "df_info = pd.read_csv(f\"{path_task}/DF_Dpo.final.1005.tsv\" , sep = \"\\t\", header =0)\n",
    "df_family = pd.read_csv(f\"{path_task}/clusters_99_80.extra_clean.2004.v2.tsv\", sep = \"\\t\", header = 0)\n",
    "df_dpo_domain = pd.read_csv(f\"{path_task}/Dpo_domains.0805.final.ultimate.tsv\" , sep = \"\\t\", header =0)\n",
    "\n",
    "esm2_depo = pd.read_csv(f\"{path_project}/Dpo.0805.embeddings.ultimate.csv\" , header = None, sep = \",\" , index_col = 0)\n",
    "#esm2_depo = esm2_depo.drop([1281], axis = 1)\n",
    "\n",
    "family_df = pd.read_csv(f\"{path_similarity}/clusters_99_80.extra_clean.2004.v2.tsv\", sep = \"\\t\", header = 0)\n",
    "df_info = pd.read_csv(f\"{path_db}/DF_Dpo.final.1005.tsv\" , sep = \"\\t\", header =0)\n",
    "\n"
   ]
  },
  {
   "cell_type": "markdown",
   "metadata": {},
   "source": [
    "***\n",
    "# Sequence similarity"
   ]
  },
  {
   "cell_type": "markdown",
   "metadata": {},
   "source": [
    "> Load Data"
   ]
  },
  {
   "cell_type": "code",
   "execution_count": null,
   "metadata": {
    "jupyter": {
     "source_hidden": true
    }
   },
   "outputs": [],
   "source": [
    "import os \n",
    "import pandas as pd\n",
    "from tqdm import tqdm \n",
    "from Bio import SeqIO\n",
    "from multiprocessing.pool import ThreadPool\n",
    "\n",
    "# remote :\n",
    "path_work = f\"/home/conchae/prediction_depolymerase_tropism/prophage_prediction/depolymerase_decipher/ficheros_28032023\"\n",
    "path_task = f\"{path_work}/Rafa_task\"\n",
    "path_tmp_cdhit = f\"{path_task}/sequence_similarity/tmp_cdhit\"\n",
    "\n",
    "\n",
    "path_multi_fasta = f\"{path_task}/Dpo_domains.0805.final.ultimate.multi.fasta\"\n",
    "fasta_sequences = SeqIO.parse(path_multi_fasta, \"fasta\")\n",
    "\n",
    "df_info = pd.read_csv(f\"{path_task}/DF_Dpo.final.1005.tsv\" , sep = \"\\t\", header =0)\n",
    "df_family = pd.read_csv(f\"{path_task}/clusters_99_80.extra_clean.2004.v2.tsv\", sep = \"\\t\", header = 0)"
   ]
  },
  {
   "cell_type": "markdown",
   "metadata": {},
   "source": [
    "> Clustering "
   ]
  },
  {
   "cell_type": "code",
   "execution_count": 1,
   "metadata": {
    "jupyter": {
     "source_hidden": true
    }
   },
   "outputs": [],
   "source": [
    "import subprocess\n",
    "import numpy as np\n",
    "\n",
    "def make_cdhit_cluster(threshold) :\n",
    "    cdhit_command = f\"cd-hit -i {path_multi_fasta} -o {path_tmp_cdhit}/{threshold}.out -c {threshold} -G 0 -aL 0.8\"\n",
    "    cdhit_process = subprocess.Popen(cdhit_command, shell =True, stdout=subprocess.PIPE, stderr=subprocess.STDOUT) \n",
    "    scan_out, scan_err = cdhit_process.communicate()\n",
    "    print(scan_out, scan_err)\n",
    "    \n",
    "thresholds_1 = np.arange(0.40 , 0.95 , 0.05)\n",
    "thresholds_2 = np.arange(0.90 , 1.025 , 0.025)\n",
    "thresholds = np.concatenate((thresholds_1 , thresholds_2))\n",
    "\n",
    "list(map(make_cdhit_cluster , thresholds))"
   ]
  },
  {
   "cell_type": "markdown",
   "metadata": {},
   "source": [
    "> Make DataFrame"
   ]
  },
  {
   "cell_type": "code",
   "execution_count": null,
   "metadata": {
    "jupyter": {
     "source_hidden": true
    }
   },
   "outputs": [],
   "source": [
    "def make_cluster_dico(cdhit_out) :\n",
    "    import json\n",
    "    dico_cluster = {}\n",
    "    threshold = cdhit_out.split(\"/\")[-1].split(\".out\")[0]\n",
    "    cluster_out = open(cdhit_out).read().split(\">Cluster\")\n",
    "    for index,cluster in enumerate(cluster_out[1:]) :\n",
    "        tmp_dpo = []\n",
    "        id_cluster = f\"Dpo_cdhit_{index}\"\n",
    "        for _,line in enumerate(cluster.split(\"\\n\")[1:-1]) :\n",
    "            dpo = line.split(\">\")[1].split(\".\")[0]\n",
    "            tmp_dpo.append(dpo)\n",
    "        dico_cluster[id_cluster] = tmp_dpo\n",
    "    with open(f\"{path_task}/sequence_similarity/dico_cluster.cdhit__{threshold}.json\", \"w\") as outfile:\n",
    "        json.dump(dico_cluster, outfile)\n",
    "    return dico_cluster , threshold\n",
    "            \n",
    "def make_Dpo_prophage_dico(dico_cluster) :\n",
    "    dico_prophage_id = {}\n",
    "    for Dpo_label , Dpo_list in tqdm(dico_cluster.items()) :\n",
    "        prophages_carrying = set()\n",
    "        for _,dpo in enumerate(Dpo_list) :\n",
    "            prophages_df = df_info[df_info[\"index\"] == dpo]\n",
    "            for phage in prophages_df[\"Phage\"].to_list() :\n",
    "                family = df_family[df_family[\"prophage\"] == f\"{phage}.fasta\"][\"prophage_id\"].values[0]\n",
    "                prophages_carrying.add(family)\n",
    "        dico_prophage_id[f\"{Dpo_label}\"] = prophages_carrying\n",
    "    return dico_prophage_id\n",
    "    \n",
    "def build_dataframe(dico_prophage_id):\n",
    "    prophages = set(prophage for prophages in dico_prophage_id.values() for prophage in prophages)\n",
    "    matrix = [[1 if prophage in dico_prophage_id[dpo] else 0 for dpo in dico_prophage_id.keys()] for prophage in prophages]\n",
    "    df_dpo_prophages = pd.DataFrame(matrix, index=prophages, columns=dico_prophage_id.keys())\n",
    "    return df_dpo_prophages\n",
    "\n",
    "def seq_similarity_df(cdhit_out) :\n",
    "    dico_cluster , threshold = make_cluster_dico(cdhit_out)\n",
    "    prophage_dico = make_Dpo_prophage_dico(dico_cluster)\n",
    "    df_dpo_prophages = build_dataframe(prophage_dico)\n",
    "    df_dpo_prophages.sort_index(inplace = True, ascending=True)\n",
    "    df_dpo_prophages.to_csv(f\"{path_task}/sequence_similarity/prophage_Dpo.cdhit_{threshold}.csv\", sep = \"\\t\")\n",
    "    return df_dpo_prophages\n",
    "    \n",
    "path_cdhit = [f\"{path_tmp_cdhit}/{file}\" for file in os.listdir(path_tmp_cdhit) if file[-5:] == \"clstr\"]   \n",
    "    \n",
    "if __name__ == '__main__':\n",
    "    with ThreadPool(10) as p:\n",
    "        p.map(seq_similarity_df, path_cdhit)\n"
   ]
  },
  {
   "cell_type": "markdown",
   "metadata": {},
   "source": [
    "***\n",
    "# 3D structure similarity"
   ]
  },
  {
   "cell_type": "markdown",
   "metadata": {},
   "source": [
    "> Load data"
   ]
  },
  {
   "cell_type": "code",
   "execution_count": null,
   "metadata": {
    "jupyter": {
     "source_hidden": true
    }
   },
   "outputs": [],
   "source": [
    "import os \n",
    "import pandas as pd\n",
    "from tqdm import tqdm \n",
    "from Bio import SeqIO\n",
    "from multiprocessing.pool import ThreadPool\n",
    "\n",
    "# remote :\n",
    "path_work = f\"/home/conchae/prediction_depolymerase_tropism/prophage_prediction/depolymerase_decipher/ficheros_28032023\"\n",
    "path_task = f\"{path_work}/Rafa_task\"\n",
    "path_tmp = f\"{path_task}/3Dsequence_similarity/tmp_seekfold\"\n",
    "path_3D = f\"{path_task}/3Dsequence_similarity/structures\"\n",
    "\n",
    "names_df_domain = [\"index\" , \"index_seq\", \"fold\", \"prob\",\"domain\",\"dom_seq\",\"full_seq\"]\n",
    "df_dpo_domain = pd.read_csv(f\"{path_task}/Dpo_domains.0805.final.ultimate.tsv\" , sep = \"\\t\", names = names_df_domain)\n",
    "df_info = pd.read_csv(f\"{path_task}/DF_Dpo.final.1005.tsv\" , sep = \"\\t\", header =0)\n",
    "df_family = pd.read_csv(f\"{path_task}/clusters_99_80.extra_clean.2004.v2.tsv\", sep = \"\\t\", header = 0)\n"
   ]
  },
  {
   "cell_type": "markdown",
   "metadata": {},
   "source": [
    "> Move the 3D structures into a structure files"
   ]
  },
  {
   "cell_type": "code",
   "execution_count": null,
   "metadata": {
    "jupyter": {
     "source_hidden": true
    }
   },
   "outputs": [],
   "source": [
    "path_3D = f\"{path_task}/3Dsequence_similarity/structures\"\n",
    "dico_path = {\"ppt\" : \"sword2_DepoSeq_pt2\", \"minibatch\" : \"sword2_Minibatch_pt2\"} \n",
    "\n",
    "for _,row in df_dpo_domain.iterrows() :\n",
    "    try :\n",
    "        db = row[\"index_seq\"].split(\"__\")[0]\n",
    "        id_seq = row[\"index_seq\"].split(\"__\")[1]\n",
    "        if row.domain == \"full_protein\" : \n",
    "            path_dom = f\"{path_work}/{dico_path[db]}/{id_seq}/{id_seq}_A/SWORD/{id_seq}_A/{id_seq}_A.pdb\"\n",
    "        else :\n",
    "            path_dom = f\"{path_work}/{dico_path[db]}/{id_seq}/{id_seq}_A/Protein_Units/{row.domain}.pdb\"\n",
    "        cp_command = f\"cp {path_dom} {path_3D}/{db}__{id_seq}.pdb\"\n",
    "        os.system(cp_command)\n",
    "    except Exception as e :\n",
    "        print(e , row)\n",
    "        pass\n"
   ]
  },
  {
   "cell_type": "markdown",
   "metadata": {},
   "source": [
    "> Clustering "
   ]
  },
  {
   "cell_type": "code",
   "execution_count": null,
   "metadata": {
    "jupyter": {
     "source_hidden": true
    }
   },
   "outputs": [],
   "source": [
    "import subprocess\n",
    "import numpy as np\n",
    "\n",
    "path_3D = f\"{path_task}/3Dsequence_similarity/structures\"\n",
    "path_cluster = f\"{path_task}/3Dsequence_similarity/clusters\"\n",
    "\n",
    "def make_seekfold(threshold) :\n",
    "    foldseek_command = f\"foldseek easy-cluster {path_3D} {path_cluster} {path_tmp} --cov-mode 0 -c {threshold}\"    \n",
    "    foldseek_process = subprocess.Popen(foldseek_command, shell =True, stdout=subprocess.PIPE, stderr=subprocess.STDOUT) \n",
    "    scan_out, scan_err = foldseek_process.communicate()\n",
    "    print(scan_out, scan_err)\n",
    "    \n",
    "thresholds_1 = np.arange(0.40 , 0.95 , 0.05)\n",
    "thresholds_2 = np.arange(0.90 , 1.025 , 0.025)\n",
    "thresholds = np.concatenate((thresholds_1 , thresholds_2))\n",
    "\n",
    "list(map(make_seekfold , thresholds))\n",
    "\n",
    "# *********************************************************** \n",
    "#!/bin/bash\n",
    "#BATCH --job-name=foldseek__\n",
    "#SBATCH --qos=short\n",
    "#SBATCH --ntasks=1 \n",
    "#SBATCH --cpus-per-task=40 \n",
    "#SBATCH --mem=100gb \n",
    "#SBATCH --time=1-00:00:00 \n",
    "#SBATCH --output=foldseek__%j.log \n",
    "\n",
    "source /storage/apps/ANACONDA/anaconda3/etc/profile.d/conda.sh\n",
    "conda activate clustering\n",
    "\n",
    "python /home/conchae/prediction_depolymerase_tropism/prophage_prediction/depolymerase_decipher/ficheros_28032023/Rafa_task/3Dsequence_similarity/cluster.py"
   ]
  },
  {
   "cell_type": "markdown",
   "metadata": {},
   "source": [
    "> Make dataframe "
   ]
  },
  {
   "cell_type": "code",
   "execution_count": null,
   "metadata": {
    "jupyter": {
     "source_hidden": true
    }
   },
   "outputs": [],
   "source": [
    "def make_cluster_dico(foldseek_out) :\n",
    "    import json\n",
    "    dico_cluster = {}\n",
    "    threshold = foldseek_out.split(\"/\")[-1].split(\"_\")[1]\n",
    "    df_clusters = pd.read_csv(f\"{foldseek_out}\", sep = \"\\t\", names = [\"Leader\", \"Member\"])\n",
    "    clusters_leader = list(df_clusters[\"Leader\"].unique())\n",
    "    for index, leader in enumerate(clusters_leader) :\n",
    "        tmp_dpo = []\n",
    "        id_cluster = f\"Dpo_foldseek_{index}\"\n",
    "        df_cluster = df_clusters[df_clusters[\"Leader\"] == leader]\n",
    "        for _,row in df_cluster.iterrows() :\n",
    "            tmp_dpo.append(row[\"Member\"].split(\".pdb\")[0])\n",
    "        dico_cluster[id_cluster] = tmp_dpo\n",
    "    with open(f\"{path_task}/3Dsequence_similarity/dico_cluster.foldseek__{threshold}.json\", \"w\") as outfile:\n",
    "        json.dump(dico_cluster, outfile)\n",
    "    return dico_cluster , threshold\n",
    "            \n",
    "            \n",
    "def make_Dpo_prophage_dico(dico_cluster) :\n",
    "    dico_prophage_id = {}\n",
    "    for Dpo_label , Dpo_list in tqdm(dico_cluster.items()) :\n",
    "        prophages_carrying = set()\n",
    "        for _,dpo in enumerate(Dpo_list) :\n",
    "            prophages_df = df_info[df_info[\"index\"] == dpo]\n",
    "            for phage in prophages_df[\"Phage\"].to_list() :\n",
    "                family = df_family[df_family[\"prophage\"] == f\"{phage}.fasta\"][\"prophage_id\"].values[0]\n",
    "                prophages_carrying.add(family)\n",
    "        dico_prophage_id[f\"{Dpo_label}\"] = prophages_carrying\n",
    "    return dico_prophage_id\n",
    "    \n",
    "def build_dataframe(dico_prophage_id):\n",
    "    prophages = set(prophage for prophages in dico_prophage_id.values() for prophage in prophages)\n",
    "    matrix = [[1 if prophage in dico_prophage_id[dpo] else 0 for dpo in dico_prophage_id.keys()] for prophage in prophages]\n",
    "    df_dpo_prophages = pd.DataFrame(matrix, index=prophages, columns=dico_prophage_id.keys())\n",
    "    return df_dpo_prophages\n",
    "\n",
    "def seq_similarity_df(cdhit_out) :\n",
    "    dico_cluster , threshold = make_cluster_dico(cdhit_out)\n",
    "    prophage_dico = make_Dpo_prophage_dico(dico_cluster)\n",
    "    df_dpo_prophages = build_dataframe(prophage_dico)\n",
    "    df_dpo_prophages.sort_index(inplace = True, ascending=True)\n",
    "    df_dpo_prophages.to_csv(f\"{path_task}/3Dsequence_similarity/prophage_Dpo.foldseek_{threshold}.csv\", sep = \"\\t\")\n",
    "    return df_dpo_prophages\n",
    "    \n",
    "seq_similarity_df(path_foldseek[0])\n",
    "path_foldseek = [f\"{path_cluster}/{file}\" for file in os.listdir(path_cluster) if file[-11:] == \"cluster.tsv\"]   \n",
    "    \n",
    "if __name__ == '__main__':\n",
    "    with ThreadPool(10) as p:\n",
    "        p.map(seq_similarity_df, path_foldseek)"
   ]
  },
  {
   "cell_type": "markdown",
   "metadata": {},
   "source": [
    "***\n",
    "# Embeddings"
   ]
  },
  {
   "cell_type": "markdown",
   "metadata": {},
   "source": [
    "> Load data"
   ]
  },
  {
   "cell_type": "code",
   "execution_count": 14,
   "metadata": {
    "collapsed": true,
    "jupyter": {
     "outputs_hidden": true,
     "source_hidden": true
    }
   },
   "outputs": [
    {
     "data": {
      "text/html": [
       "<div>\n",
       "<style scoped>\n",
       "    .dataframe tbody tr th:only-of-type {\n",
       "        vertical-align: middle;\n",
       "    }\n",
       "\n",
       "    .dataframe tbody tr th {\n",
       "        vertical-align: top;\n",
       "    }\n",
       "\n",
       "    .dataframe thead th {\n",
       "        text-align: right;\n",
       "    }\n",
       "</style>\n",
       "<table border=\"1\" class=\"dataframe\">\n",
       "  <thead>\n",
       "    <tr style=\"text-align: right;\">\n",
       "      <th></th>\n",
       "      <th>1</th>\n",
       "      <th>2</th>\n",
       "      <th>3</th>\n",
       "      <th>4</th>\n",
       "      <th>5</th>\n",
       "      <th>6</th>\n",
       "      <th>7</th>\n",
       "      <th>8</th>\n",
       "      <th>9</th>\n",
       "      <th>10</th>\n",
       "      <th>...</th>\n",
       "      <th>1271</th>\n",
       "      <th>1272</th>\n",
       "      <th>1273</th>\n",
       "      <th>1274</th>\n",
       "      <th>1275</th>\n",
       "      <th>1276</th>\n",
       "      <th>1277</th>\n",
       "      <th>1278</th>\n",
       "      <th>1279</th>\n",
       "      <th>1280</th>\n",
       "    </tr>\n",
       "    <tr>\n",
       "      <th>0</th>\n",
       "      <th></th>\n",
       "      <th></th>\n",
       "      <th></th>\n",
       "      <th></th>\n",
       "      <th></th>\n",
       "      <th></th>\n",
       "      <th></th>\n",
       "      <th></th>\n",
       "      <th></th>\n",
       "      <th></th>\n",
       "      <th></th>\n",
       "      <th></th>\n",
       "      <th></th>\n",
       "      <th></th>\n",
       "      <th></th>\n",
       "      <th></th>\n",
       "      <th></th>\n",
       "      <th></th>\n",
       "      <th></th>\n",
       "      <th></th>\n",
       "      <th></th>\n",
       "    </tr>\n",
       "  </thead>\n",
       "  <tbody>\n",
       "    <tr>\n",
       "      <th>ppt__2930</th>\n",
       "      <td>-0.000061</td>\n",
       "      <td>-0.017329</td>\n",
       "      <td>0.012884</td>\n",
       "      <td>0.037123</td>\n",
       "      <td>-0.123747</td>\n",
       "      <td>0.004186</td>\n",
       "      <td>-0.061367</td>\n",
       "      <td>-0.056718</td>\n",
       "      <td>-0.037215</td>\n",
       "      <td>0.017796</td>\n",
       "      <td>...</td>\n",
       "      <td>0.098806</td>\n",
       "      <td>0.012989</td>\n",
       "      <td>-0.001155</td>\n",
       "      <td>0.139749</td>\n",
       "      <td>-0.030987</td>\n",
       "      <td>0.059306</td>\n",
       "      <td>0.107041</td>\n",
       "      <td>-0.041463</td>\n",
       "      <td>-0.085581</td>\n",
       "      <td>0.114973</td>\n",
       "    </tr>\n",
       "    <tr>\n",
       "      <th>ppt__3300</th>\n",
       "      <td>0.004044</td>\n",
       "      <td>0.040011</td>\n",
       "      <td>-0.001234</td>\n",
       "      <td>-0.095745</td>\n",
       "      <td>-0.058056</td>\n",
       "      <td>-0.002394</td>\n",
       "      <td>0.007648</td>\n",
       "      <td>-0.059740</td>\n",
       "      <td>0.060850</td>\n",
       "      <td>0.027698</td>\n",
       "      <td>...</td>\n",
       "      <td>-0.020369</td>\n",
       "      <td>0.016287</td>\n",
       "      <td>0.062586</td>\n",
       "      <td>-0.024336</td>\n",
       "      <td>0.019276</td>\n",
       "      <td>0.069623</td>\n",
       "      <td>0.035261</td>\n",
       "      <td>-0.118962</td>\n",
       "      <td>0.035672</td>\n",
       "      <td>0.085582</td>\n",
       "    </tr>\n",
       "    <tr>\n",
       "      <th>ppt__1182</th>\n",
       "      <td>0.018767</td>\n",
       "      <td>0.068116</td>\n",
       "      <td>-0.009109</td>\n",
       "      <td>-0.012598</td>\n",
       "      <td>-0.107001</td>\n",
       "      <td>0.011569</td>\n",
       "      <td>-0.030943</td>\n",
       "      <td>-0.045359</td>\n",
       "      <td>0.048923</td>\n",
       "      <td>0.032816</td>\n",
       "      <td>...</td>\n",
       "      <td>0.014524</td>\n",
       "      <td>-0.024645</td>\n",
       "      <td>0.071878</td>\n",
       "      <td>0.018206</td>\n",
       "      <td>0.042790</td>\n",
       "      <td>0.088410</td>\n",
       "      <td>0.031970</td>\n",
       "      <td>-0.124592</td>\n",
       "      <td>0.070040</td>\n",
       "      <td>0.065348</td>\n",
       "    </tr>\n",
       "    <tr>\n",
       "      <th>ppt__3540</th>\n",
       "      <td>-0.028261</td>\n",
       "      <td>-0.047253</td>\n",
       "      <td>-0.027340</td>\n",
       "      <td>-0.052824</td>\n",
       "      <td>-0.089644</td>\n",
       "      <td>-0.023079</td>\n",
       "      <td>0.094861</td>\n",
       "      <td>0.026104</td>\n",
       "      <td>0.024001</td>\n",
       "      <td>0.089394</td>\n",
       "      <td>...</td>\n",
       "      <td>0.051728</td>\n",
       "      <td>0.005634</td>\n",
       "      <td>-0.077874</td>\n",
       "      <td>0.030336</td>\n",
       "      <td>-0.037648</td>\n",
       "      <td>0.050625</td>\n",
       "      <td>0.046142</td>\n",
       "      <td>-0.158841</td>\n",
       "      <td>-0.007670</td>\n",
       "      <td>0.034556</td>\n",
       "    </tr>\n",
       "    <tr>\n",
       "      <th>ppt__942</th>\n",
       "      <td>0.014863</td>\n",
       "      <td>0.028030</td>\n",
       "      <td>0.014927</td>\n",
       "      <td>-0.025997</td>\n",
       "      <td>-0.096138</td>\n",
       "      <td>0.016290</td>\n",
       "      <td>0.015008</td>\n",
       "      <td>-0.066254</td>\n",
       "      <td>0.077959</td>\n",
       "      <td>0.057165</td>\n",
       "      <td>...</td>\n",
       "      <td>0.008521</td>\n",
       "      <td>-0.019820</td>\n",
       "      <td>0.123201</td>\n",
       "      <td>-0.040306</td>\n",
       "      <td>0.030893</td>\n",
       "      <td>0.051362</td>\n",
       "      <td>0.047316</td>\n",
       "      <td>-0.102698</td>\n",
       "      <td>0.044830</td>\n",
       "      <td>0.084530</td>\n",
       "    </tr>\n",
       "    <tr>\n",
       "      <th>...</th>\n",
       "      <td>...</td>\n",
       "      <td>...</td>\n",
       "      <td>...</td>\n",
       "      <td>...</td>\n",
       "      <td>...</td>\n",
       "      <td>...</td>\n",
       "      <td>...</td>\n",
       "      <td>...</td>\n",
       "      <td>...</td>\n",
       "      <td>...</td>\n",
       "      <td>...</td>\n",
       "      <td>...</td>\n",
       "      <td>...</td>\n",
       "      <td>...</td>\n",
       "      <td>...</td>\n",
       "      <td>...</td>\n",
       "      <td>...</td>\n",
       "      <td>...</td>\n",
       "      <td>...</td>\n",
       "      <td>...</td>\n",
       "      <td>...</td>\n",
       "    </tr>\n",
       "    <tr>\n",
       "      <th>minibatch__1547</th>\n",
       "      <td>0.005586</td>\n",
       "      <td>0.022056</td>\n",
       "      <td>0.009792</td>\n",
       "      <td>-0.036183</td>\n",
       "      <td>-0.103171</td>\n",
       "      <td>0.028859</td>\n",
       "      <td>0.023063</td>\n",
       "      <td>-0.054788</td>\n",
       "      <td>0.088813</td>\n",
       "      <td>0.042841</td>\n",
       "      <td>...</td>\n",
       "      <td>-0.002956</td>\n",
       "      <td>-0.022535</td>\n",
       "      <td>0.096137</td>\n",
       "      <td>-0.023147</td>\n",
       "      <td>0.028822</td>\n",
       "      <td>0.064896</td>\n",
       "      <td>0.046402</td>\n",
       "      <td>-0.103289</td>\n",
       "      <td>0.030545</td>\n",
       "      <td>0.080931</td>\n",
       "    </tr>\n",
       "    <tr>\n",
       "      <th>ppt__2719</th>\n",
       "      <td>0.008973</td>\n",
       "      <td>-0.036172</td>\n",
       "      <td>0.024278</td>\n",
       "      <td>-0.005935</td>\n",
       "      <td>-0.089380</td>\n",
       "      <td>0.007263</td>\n",
       "      <td>0.032040</td>\n",
       "      <td>-0.216239</td>\n",
       "      <td>0.071972</td>\n",
       "      <td>0.054308</td>\n",
       "      <td>...</td>\n",
       "      <td>0.066656</td>\n",
       "      <td>0.034687</td>\n",
       "      <td>-0.021256</td>\n",
       "      <td>-0.080038</td>\n",
       "      <td>-0.082435</td>\n",
       "      <td>0.010141</td>\n",
       "      <td>0.103680</td>\n",
       "      <td>-0.086817</td>\n",
       "      <td>-0.067720</td>\n",
       "      <td>0.096804</td>\n",
       "    </tr>\n",
       "    <tr>\n",
       "      <th>minibatch__752</th>\n",
       "      <td>-0.007236</td>\n",
       "      <td>0.063871</td>\n",
       "      <td>-0.010960</td>\n",
       "      <td>-0.047293</td>\n",
       "      <td>-0.074936</td>\n",
       "      <td>0.014609</td>\n",
       "      <td>0.007950</td>\n",
       "      <td>-0.075715</td>\n",
       "      <td>0.072990</td>\n",
       "      <td>0.066386</td>\n",
       "      <td>...</td>\n",
       "      <td>0.008046</td>\n",
       "      <td>-0.022476</td>\n",
       "      <td>0.103217</td>\n",
       "      <td>-0.005581</td>\n",
       "      <td>0.036304</td>\n",
       "      <td>0.078642</td>\n",
       "      <td>0.037012</td>\n",
       "      <td>-0.096549</td>\n",
       "      <td>0.055382</td>\n",
       "      <td>0.070137</td>\n",
       "    </tr>\n",
       "    <tr>\n",
       "      <th>minibatch__670</th>\n",
       "      <td>0.031380</td>\n",
       "      <td>0.057855</td>\n",
       "      <td>0.000624</td>\n",
       "      <td>-0.037998</td>\n",
       "      <td>-0.121193</td>\n",
       "      <td>-0.013395</td>\n",
       "      <td>-0.014228</td>\n",
       "      <td>-0.074131</td>\n",
       "      <td>0.028255</td>\n",
       "      <td>0.015987</td>\n",
       "      <td>...</td>\n",
       "      <td>0.000497</td>\n",
       "      <td>-0.020798</td>\n",
       "      <td>0.084236</td>\n",
       "      <td>0.024419</td>\n",
       "      <td>0.002759</td>\n",
       "      <td>0.055592</td>\n",
       "      <td>0.084443</td>\n",
       "      <td>-0.081453</td>\n",
       "      <td>0.058807</td>\n",
       "      <td>0.077090</td>\n",
       "    </tr>\n",
       "    <tr>\n",
       "      <th>ppt__3402</th>\n",
       "      <td>-0.016418</td>\n",
       "      <td>0.036180</td>\n",
       "      <td>0.000740</td>\n",
       "      <td>-0.034794</td>\n",
       "      <td>-0.077590</td>\n",
       "      <td>0.018976</td>\n",
       "      <td>0.059639</td>\n",
       "      <td>-0.106567</td>\n",
       "      <td>0.081609</td>\n",
       "      <td>0.020246</td>\n",
       "      <td>...</td>\n",
       "      <td>0.003633</td>\n",
       "      <td>-0.023323</td>\n",
       "      <td>0.116824</td>\n",
       "      <td>-0.034831</td>\n",
       "      <td>0.026487</td>\n",
       "      <td>0.082494</td>\n",
       "      <td>0.045719</td>\n",
       "      <td>-0.109192</td>\n",
       "      <td>0.037012</td>\n",
       "      <td>0.113752</td>\n",
       "    </tr>\n",
       "  </tbody>\n",
       "</table>\n",
       "<p>1763 rows × 1280 columns</p>\n",
       "</div>"
      ],
      "text/plain": [
       "                     1         2         3         4         5         6     \\\n",
       "0                                                                             \n",
       "ppt__2930       -0.000061 -0.017329  0.012884  0.037123 -0.123747  0.004186   \n",
       "ppt__3300        0.004044  0.040011 -0.001234 -0.095745 -0.058056 -0.002394   \n",
       "ppt__1182        0.018767  0.068116 -0.009109 -0.012598 -0.107001  0.011569   \n",
       "ppt__3540       -0.028261 -0.047253 -0.027340 -0.052824 -0.089644 -0.023079   \n",
       "ppt__942         0.014863  0.028030  0.014927 -0.025997 -0.096138  0.016290   \n",
       "...                   ...       ...       ...       ...       ...       ...   \n",
       "minibatch__1547  0.005586  0.022056  0.009792 -0.036183 -0.103171  0.028859   \n",
       "ppt__2719        0.008973 -0.036172  0.024278 -0.005935 -0.089380  0.007263   \n",
       "minibatch__752  -0.007236  0.063871 -0.010960 -0.047293 -0.074936  0.014609   \n",
       "minibatch__670   0.031380  0.057855  0.000624 -0.037998 -0.121193 -0.013395   \n",
       "ppt__3402       -0.016418  0.036180  0.000740 -0.034794 -0.077590  0.018976   \n",
       "\n",
       "                     7         8         9         10    ...      1271  \\\n",
       "0                                                        ...             \n",
       "ppt__2930       -0.061367 -0.056718 -0.037215  0.017796  ...  0.098806   \n",
       "ppt__3300        0.007648 -0.059740  0.060850  0.027698  ... -0.020369   \n",
       "ppt__1182       -0.030943 -0.045359  0.048923  0.032816  ...  0.014524   \n",
       "ppt__3540        0.094861  0.026104  0.024001  0.089394  ...  0.051728   \n",
       "ppt__942         0.015008 -0.066254  0.077959  0.057165  ...  0.008521   \n",
       "...                   ...       ...       ...       ...  ...       ...   \n",
       "minibatch__1547  0.023063 -0.054788  0.088813  0.042841  ... -0.002956   \n",
       "ppt__2719        0.032040 -0.216239  0.071972  0.054308  ...  0.066656   \n",
       "minibatch__752   0.007950 -0.075715  0.072990  0.066386  ...  0.008046   \n",
       "minibatch__670  -0.014228 -0.074131  0.028255  0.015987  ...  0.000497   \n",
       "ppt__3402        0.059639 -0.106567  0.081609  0.020246  ...  0.003633   \n",
       "\n",
       "                     1272      1273      1274      1275      1276      1277  \\\n",
       "0                                                                             \n",
       "ppt__2930        0.012989 -0.001155  0.139749 -0.030987  0.059306  0.107041   \n",
       "ppt__3300        0.016287  0.062586 -0.024336  0.019276  0.069623  0.035261   \n",
       "ppt__1182       -0.024645  0.071878  0.018206  0.042790  0.088410  0.031970   \n",
       "ppt__3540        0.005634 -0.077874  0.030336 -0.037648  0.050625  0.046142   \n",
       "ppt__942        -0.019820  0.123201 -0.040306  0.030893  0.051362  0.047316   \n",
       "...                   ...       ...       ...       ...       ...       ...   \n",
       "minibatch__1547 -0.022535  0.096137 -0.023147  0.028822  0.064896  0.046402   \n",
       "ppt__2719        0.034687 -0.021256 -0.080038 -0.082435  0.010141  0.103680   \n",
       "minibatch__752  -0.022476  0.103217 -0.005581  0.036304  0.078642  0.037012   \n",
       "minibatch__670  -0.020798  0.084236  0.024419  0.002759  0.055592  0.084443   \n",
       "ppt__3402       -0.023323  0.116824 -0.034831  0.026487  0.082494  0.045719   \n",
       "\n",
       "                     1278      1279      1280  \n",
       "0                                              \n",
       "ppt__2930       -0.041463 -0.085581  0.114973  \n",
       "ppt__3300       -0.118962  0.035672  0.085582  \n",
       "ppt__1182       -0.124592  0.070040  0.065348  \n",
       "ppt__3540       -0.158841 -0.007670  0.034556  \n",
       "ppt__942        -0.102698  0.044830  0.084530  \n",
       "...                   ...       ...       ...  \n",
       "minibatch__1547 -0.103289  0.030545  0.080931  \n",
       "ppt__2719       -0.086817 -0.067720  0.096804  \n",
       "minibatch__752  -0.096549  0.055382  0.070137  \n",
       "minibatch__670  -0.081453  0.058807  0.077090  \n",
       "ppt__3402       -0.109192  0.037012  0.113752  \n",
       "\n",
       "[1763 rows x 1280 columns]"
      ]
     },
     "execution_count": 14,
     "metadata": {},
     "output_type": "execute_result"
    }
   ],
   "source": [
    "import os \n",
    "import pandas as pd\n",
    "from tqdm import tqdm \n",
    "from multiprocessing.pool import ThreadPool\n",
    "\n",
    "# remote :\n",
    "path_work = f\"/home/conchae/prediction_depolymerase_tropism/prophage_prediction/depolymerase_decipher/ficheros_28032023\"\n",
    "path_task = f\"{path_work}/Rafa_task\"\n",
    "path_embeddings = f\"{path_task}/embeddings\"\n",
    "\n",
    "esm2_depo = pd.read_csv(f\"{path_task}/Dpo.0805.embeddings.ultimate.csv\" , header = None, sep = \",\" , index_col = 0)\n"
   ]
  },
  {
   "cell_type": "markdown",
   "metadata": {},
   "source": [
    "> Clustering"
   ]
  },
  {
   "cell_type": "code",
   "execution_count": null,
   "metadata": {
    "jupyter": {
     "source_hidden": true
    }
   },
   "outputs": [],
   "source": [
    "# What range for the preference ? \n",
    "\n",
    "def make_aff_clustering_dico(preference) :\n",
    "    # Affinity propagation step :\n",
    "    af = AffinityPropagation(damping=0.95, preference=preference, random_state=123, max_iter=1000,verbose=True).fit(esm2_depo)\n",
    "    cluster_centers_indices = af.cluster_centers_indices_\n",
    "    labels = af.labels_\n",
    "    n_clusters_ = len(cluster_centers_indices)\n",
    "    print(f\"There are {n_clusters_} for the preference {preference}\")\n",
    "    \n",
    "make_aff_clustering_dico(-0.3)"
   ]
  },
  {
   "cell_type": "code",
   "execution_count": null,
   "metadata": {
    "jupyter": {
     "source_hidden": true
    }
   },
   "outputs": [],
   "source": [
    "from sklearn.cluster import AffinityPropagation\n",
    "from sklearn import metrics\n",
    "import json\n",
    "\n",
    "thresholds_1 = list(np.arange(-0.5 , 0.05 , 0.05).round(3))\n",
    "thresholds = thresholds_1 + [-0.01]\n",
    "\n",
    "\n",
    "def make_aff_clustering_dico(preference) :\n",
    "    # Affinity propagation step :\n",
    "    af = AffinityPropagation(damping=0.95, preference=preference, random_state=123, max_iter=1000,verbose=True).fit(esm2_depo)\n",
    "    cluster_centers_indices = af.cluster_centers_indices_\n",
    "    labels = af.labels_\n",
    "    # Make dico : \n",
    "    dico_df = {\"Dpo\" : esm2_depo.index , \"Label\" : labels}\n",
    "    df_results = pd.DataFrame(dico_df)\n",
    "    dico_cluster = {}\n",
    "    for index , row in df_results.iterrows() :\n",
    "        real_label = f\"Dpo_embeddings_{row['Label']}\"\n",
    "        if real_label not in dico_cluster :\n",
    "            tmp_list = []\n",
    "            tmp_list.append(row[\"Dpo\"])\n",
    "            dico_cluster[real_label] = tmp_list\n",
    "        else :\n",
    "            dico_cluster[real_label].append(row[\"Dpo\"])\n",
    "    with open(f\"{path_embeddings}/dico_cluster.embeddings_{preference}.json\", \"w\") as outfile:\n",
    "        json.dump(dico_cluster, outfile)\n",
    "    return dico_cluster , preference\n",
    "\n",
    "def make_Dpo_prophage_dico(dico_cluster) :\n",
    "    dico_prophage_id = {}\n",
    "    for Dpo_label , Dpo_list in tqdm(dico_cluster.items()) :\n",
    "        prophages_carrying = set()\n",
    "        for _,dpo in enumerate(Dpo_list) :\n",
    "            prophages_df = df_info[df_info[\"index\"] == dpo]\n",
    "            for phage in prophages_df[\"Phage\"].to_list() :\n",
    "                family = df_family[df_family[\"prophage\"] == f\"{phage}.fasta\"][\"prophage_id\"].values[0]\n",
    "                prophages_carrying.add(family)\n",
    "        dico_prophage_id[f\"{Dpo_label}\"] = prophages_carrying\n",
    "    return dico_prophage_id\n",
    "    \n",
    "def build_dataframe(dico_prophage_id):\n",
    "    prophages = set(prophage for prophages in dico_prophage_id.values() for prophage in prophages)\n",
    "    matrix = [[1 if prophage in dico_prophage_id[dpo] else 0 for dpo in dico_prophage_id.keys()] for prophage in prophages]\n",
    "    df_dpo_prophages = pd.DataFrame(matrix, index=prophages, columns=dico_prophage_id.keys())\n",
    "    return df_dpo_prophages\n",
    "\n",
    "def seq_similarity_df(preference) :\n",
    "    dico_cluster , preference = make_aff_clustering_dico(preference)\n",
    "    prophage_dico = make_Dpo_prophage_dico(dico_cluster)\n",
    "    df_dpo_prophages = build_dataframe(prophage_dico)\n",
    "    df_dpo_prophages.sort_index(inplace = True, ascending=True)\n",
    "    df_dpo_prophages.to_csv(f\"{path_task}/embeddings/prophage_Dpo.embeddings_{preference}.csv\", sep = \"\\t\")\n",
    "    return df_dpo_prophages\n",
    "    \n",
    "thresholds_1 = list(np.arange(-0.5 , 0.05 , 0.05).round(3))\n",
    "thresholds = thresholds_1 + [-0.01]\n",
    "\n",
    "if __name__ == '__main__':\n",
    "    with ThreadPool(10) as p:\n",
    "        p.map(seq_similarity_df, thresholds)\n",
    "        \n"
   ]
  },
  {
   "cell_type": "code",
   "execution_count": null,
   "metadata": {
    "jupyter": {
     "source_hidden": true
    }
   },
   "outputs": [],
   "source": [
    "# *********************************************************** \n",
    "#!/bin/bash\n",
    "#BATCH --job-name=embeddings_aff__\n",
    "#SBATCH --qos=short\n",
    "#SBATCH --ntasks=1 \n",
    "#SBATCH --cpus-per-task=40 \n",
    "#SBATCH --mem=100gb \n",
    "#SBATCH --time=1-00:00:00 \n",
    "#SBATCH --output=embeddings_aff__%j.log \n",
    "\n",
    "source /storage/apps/ANACONDA/anaconda3/etc/profile.d/conda.sh\n",
    "conda activate clustering\n",
    "\n",
    "python /home/conchae/prediction_depolymerase_tropism/prophage_prediction/depolymerase_decipher/ficheros_28032023/Rafa_task/embeddings/make_csv.py"
   ]
  },
  {
   "cell_type": "markdown",
   "metadata": {},
   "source": [
    "***\n",
    "# Running the algorithms : LR ; RF ; SVM ; NN ?"
   ]
  },
  {
   "cell_type": "code",
   "execution_count": null,
   "metadata": {
    "jupyter": {
     "source_hidden": true
    }
   },
   "outputs": [],
   "source": [
    "import os \n",
    "import pandas as pd\n",
    "import numpy as np\n",
    "import json\n",
    "from tqdm import tqdm \n",
    "from multiprocessing import Pool, cpu_count\n",
    "\n",
    "path_work = f\"/home/conchae/prediction_depolymerase_tropism/prophage_prediction/depolymerase_decipher/ficheros_28032023\"\n",
    "path_task = f\"{path_work}/Rafa_task\"\n",
    "path_embeddings = f\"{path_task}/embeddings\"\n",
    "path_3D = f\"{path_task}/3Dsequence_similarity\"\n",
    "path_aa_seq = f\"{path_task}/sequence_similarity\"\n",
    "\n",
    "df_info = pd.read_csv(f\"{path_task}/DF_Dpo.final.1005.tsv\" , sep = \"\\t\", header =0)\n",
    "df_family = pd.read_csv(f\"{path_task}/clusters_99_80.extra_clean.2004.v2.tsv\", sep = \"\\t\", header = 0)\n",
    "\n",
    "index_dico = {\"cdhit\" : \"seq_similarity\" , \"foldseek\" : \"3D_similarity\" , \"embeddings\" : \"embeddings_similarity\"}\n",
    "\n",
    "# create the auxiliary column without the \".fasta\" part\n",
    "df_family['prophage_aux'] = df_family['prophage'].str.split('.fasta').str[0]\n",
    "\n",
    "# merge the dataframes using the auxiliary column and Phage\n",
    "merged_df = pd.merge(df_family, df_info, left_on='prophage_aux', right_on='Phage', how='left')\n",
    "\n",
    "def process_prophage(prophage_id):\n",
    "    ktypes = set()\n",
    "    phages = merged_df[merged_df[\"prophage_id\"] == prophage_id]\n",
    "    ktypes.update(phages['KL_type_LCA'].dropna().apply(lambda x: x if \"|\" not in x else None))\n",
    "    return prophage_id, list(ktypes) if len(ktypes) > 0 else None\n",
    "\n",
    "# Utilizing multiprocessing to speed up the process\n",
    "with Pool(10) as p:\n",
    "    dico_KL_prophage_id = dict(filter(lambda x: x[1] is not None, p.map(process_prophage, tqdm(df_family[\"prophage_id\"].unique()))))\n",
    "\n",
    "with open(f\"{path_task}/dico_prophage_ID.KLtypes.json\", \"w\") as outfile:\n",
    "    json.dump(dico_KL_prophage_id, outfile) "
   ]
  },
  {
   "cell_type": "code",
   "execution_count": null,
   "metadata": {
    "jupyter": {
     "source_hidden": true
    }
   },
   "outputs": [],
   "source": [
    "from sklearn.ensemble import RandomForestClassifier\n",
    "from sklearn.preprocessing import LabelEncoder\n",
    "from sklearn.model_selection import train_test_split, RandomizedSearchCV\n",
    "from sklearn.metrics import classification_report , roc_auc_score\n",
    "from scipy.stats import fisher_exact\n",
    "import pandas as pd\n",
    "import numpy as np\n",
    "from collections import Counter\n",
    "\n",
    "import os \n",
    "import pandas as pd\n",
    "import numpy as np\n",
    "import json\n",
    "from tqdm import tqdm \n",
    "from multiprocessing.pool import ThreadPool \n",
    "\n",
    "path_work = f\"/home/conchae/prediction_depolymerase_tropism/prophage_prediction/depolymerase_decipher/ficheros_28032023\"\n",
    "path_task = f\"{path_work}/Rafa_task\"\n",
    "path_embeddings = f\"{path_task}/embeddings\"\n",
    "path_3D = f\"{path_task}/3Dsequence_similarity\"\n",
    "path_aa_seq = f\"{path_task}/sequence_similarity\"\n",
    "\n",
    "path_methods = [path_embeddings , path_3D , path_aa_seq]\n",
    "\n",
    "path_dfs = []\n",
    "for method in path_methods :\n",
    "    for file in os.listdir(method) :\n",
    "        if file[-3:] == \"csv\" :\n",
    "            f_path = f\"{method}/{file}\"\n",
    "            path_dfs.append(f_path)\n",
    "\n",
    "index_dico = {\"cdhit\" : \"seq_similarity\" , \"foldseek\" : \"3D_similarity\" , \"embeddings\" : \"embeddings_similarity\"}\n",
    "\n",
    "def make_df_type(path_df) :\n",
    "    df = pd.read_csv(f\"{path_df}\" , sep = \"\\t\" , header = 0 , index_col = 0)\n",
    "    method = index_dico[path_df.split(\"/\")[-1].split(\"_\")[1].split(\".\")[1]]\n",
    "    threshold = path_df.split(\"/\")[-1].split(\"_\")[-1].split(\".csv\")[0]\n",
    "    dico_KL_prophage_id = json.load(open(f\"{path_task}/dico_prophage_ID.KLtypes.json\"))\n",
    "    labels = []\n",
    "    for index in df.index:\n",
    "        label = dico_KL_prophage_id.get(index, np.nan)\n",
    "        if len(label) == 1 :\n",
    "            labels.append(label[0])\n",
    "        else :\n",
    "            labels.append(\"Multiple\")\n",
    "    df[\"label\"] = labels\n",
    "    df = df[df['label'] != 'Multiple']\n",
    "    return df , method , threshold\n",
    "\n",
    "    \n",
    "def fit_rf_model_random_search(df):\n",
    "    le = LabelEncoder()\n",
    "    df[\"label\"] = le.fit_transform(df[\"label\"])\n",
    "    n_iter=2\n",
    "    X_train, X_test, y_train, y_test = train_test_split(df, df[\"label\"], test_size=0.2, random_state=42)\n",
    "    param_grid = {\n",
    "        'bootstrap': [True, False],\n",
    "        'max_depth': [10, 20, 30, 40, 50, 60, 70, 80, 90, 100, None],\n",
    "        'max_features': ['auto', 'sqrt'],\n",
    "        'min_samples_leaf': [1, 2, 4],\n",
    "        'min_samples_split': [2, 5, 10],\n",
    "        'n_estimators': [200, 400, 600, 800]\n",
    "    }\n",
    "    rf = RandomForestClassifier()\n",
    "    rf_random = RandomizedSearchCV(estimator=rf, param_distributions=param_grid, \n",
    "                                   n_iter=n_iter, cv=4, verbose=2, random_state=42, n_jobs=-1)\n",
    "    rf_random.fit(X_train, y_train)\n",
    "    # Print the best parameters from the Randomized Search\n",
    "    predictions = rf_random.predict(X_test)\n",
    "    proba = rf_random.predict_proba(X_test)\n",
    "    report = classification_report(y_test, predictions, output_dict=True)\n",
    "    #auc = roc_auc_score(y_test, proba, multi_class='ovr')\n",
    "    accuracy = report[\"accuracy\"]\n",
    "    weighted_precision = report[\"weighted avg\"][\"precision\"]\n",
    "    weighted_recall = report[\"weighted avg\"][\"recall\"]\n",
    "    weighted_F1 = report[\"weighted avg\"][\"f1-score\"]\n",
    "    return weighted_precision ,  weighted_recall , weighted_F1\n",
    "    \n",
    "        \n",
    "\n",
    "def fit_RF_file(path_df) :\n",
    "    df , method , threshold = make_df_type(path_df)\n",
    "    weighted_precision ,  weighted_recall , weighted_F1  = fit_rf_model_random_search(df)\n",
    "    with open(f\"{path_task}/{method}_RF_report.tsv\", \"a+\") as outfile :\n",
    "        outfile.write(f\"{method}\\t{threshold}\\t{weighted_precision}\\t{weighted_recall}\\t{weighted_F1}\\n\")\n",
    "    #return weighted_precision ,  weighted_recall , weighted_F1  , method\n",
    "    \n",
    "\n",
    "if __name__ == '__main__':\n",
    "    with ThreadPool(10) as p:\n",
    "        p.map(fit_RF_file, path_dfs)\n",
    "        \n",
    "# ****************************************************************************************\n",
    "#!/bin/bash\n",
    "#BATCH --job-name=RF__\n",
    "#SBATCH --qos=short\n",
    "#SBATCH --ntasks=1 \n",
    "#SBATCH --cpus-per-task=30 \n",
    "#SBATCH --mem=100gb \n",
    "#SBATCH --time=1-00:00:00 \n",
    "#SBATCH --output=RF__%j.log \n",
    "\n",
    "source /storage/apps/ANACONDA/anaconda3/etc/profile.d/conda.sh\n",
    "conda activate python_311\n",
    "\n",
    "python /home/conchae/prediction_depolymerase_tropism/prophage_prediction/depolymerase_decipher/ficheros_28032023/Rafa_task/script_files/fit_RF.py"
   ]
  },
  {
   "cell_type": "markdown",
   "metadata": {},
   "source": [
    "***\n",
    "# Select the best model for each method :"
   ]
  },
  {
   "cell_type": "markdown",
   "metadata": {},
   "source": [
    "> Move the files around :"
   ]
  },
  {
   "cell_type": "code",
   "execution_count": null,
   "metadata": {
    "jupyter": {
     "source_hidden": true
    }
   },
   "outputs": [],
   "source": [
    "rsync -avzhe ssh \\\n",
    "conchae@garnatxa.srv.cpd:/home/conchae/prediction_depolymerase_tropism/prophage_prediction/depolymerase_decipher/ficheros_28032023/Rafa_task/3D_similarity_RF_report.tsv \\\n",
    "/media/concha-eloko/Linux/PPT_clean\n",
    "    \n",
    "rsync -avzhe ssh \\\n",
    "conchae@garnatxa.srv.cpd:/home/conchae/prediction_depolymerase_tropism/prophage_prediction/depolymerase_decipher/ficheros_28032023/Rafa_task/embeddings_similarity_RF_report.tsv \\\n",
    "/media/concha-eloko/Linux/PPT_clean   \n",
    "    \n",
    "    \n",
    "rsync -avzhe ssh \\\n",
    "conchae@garnatxa.srv.cpd:/home/conchae/prediction_depolymerase_tropism/prophage_prediction/depolymerase_decipher/ficheros_28032023/Rafa_task/seq_similarity_RF_report.tsv \\\n",
    "/media/concha-eloko/Linux/PPT_clean"
   ]
  },
  {
   "cell_type": "markdown",
   "metadata": {},
   "source": [
    "***\n",
    "# Plot the distribution of F1 score"
   ]
  },
  {
   "cell_type": "code",
   "execution_count": 13,
   "metadata": {
    "jupyter": {
     "source_hidden": true
    }
   },
   "outputs": [],
   "source": [
    "import pandas as pd \n",
    "import os \n",
    "path_project = \"/media/concha-eloko/Linux/PPT_clean\"\n",
    "\n",
    "names_report = [\"Method\" , \"Threshold\", \"Precision\",\"Recall\",\"F1_score\"]\n",
    "df_3D = pd.read_csv(f\"{path_project}/3D_similarity_RF_report.tsv\", names = names_report, sep = \"\\t\")\n",
    "df_3D.sort_values(by = [\"Threshold\"] , inplace = True)\n",
    "\n",
    "df_aa_seq = pd.read_csv(f\"{path_project}/seq_similarity_RF_report.tsv\", names = names_report, sep = \"\\t\")\n",
    "df_aa_seq.sort_values(by = [\"Threshold\"] , inplace = True)\n",
    "\n",
    "df_emb = pd.read_csv(f\"{path_project}/embeddings_similarity_RF_report.tsv\", names = names_report, sep = \"\\t\")\n",
    "df_emb.sort_values(by = [\"Threshold\"] , inplace = True)\n",
    "\n",
    "DFs = [df_emb , df_aa_seq , df_3D]"
   ]
  },
  {
   "cell_type": "code",
   "execution_count": 23,
   "metadata": {
    "collapsed": true,
    "jupyter": {
     "outputs_hidden": true,
     "source_hidden": true
    }
   },
   "outputs": [
    {
     "data": {
      "image/png": "[encoded data removed]",
      "text/plain": [
       "<Figure size 1000x600 with 1 Axes>"
      ]
     },
     "metadata": {},
     "output_type": "display_data"
    },
    {
     "data": {
      "image/png": "[encoded data removed]",
      "text/plain": [
       "<Figure size 1000x600 with 1 Axes>"
      ]
     },
     "metadata": {},
     "output_type": "display_data"
    },
    {
     "data": {
      "image/png": "[encoded data removed]",
      "text/plain": [
       "<Figure size 1000x600 with 1 Axes>"
      ]
     },
     "metadata": {},
     "output_type": "display_data"
    }
   ],
   "source": [
    "import matplotlib.pyplot as plt\n",
    "import seaborn as sns\n",
    "\n",
    "for df in DFs : \n",
    "    method = df[\"Method\"]\n",
    "    df['Threshold'] = df['Threshold'].apply(str)\n",
    "    plt.figure(figsize=(10, 6))\n",
    "    sns.barplot(x=\"Threshold\", y=\"F1_score\", data=df, ci=None)\n",
    "    # Set the limits of y-axis\n",
    "    plt.ylim(0.6, 0.9)\n",
    "    plt.title(f'Threshold vs F1 Score {df[\"Method\"][0]}')\n",
    "    plt.savefig(f\"{path_project}/{df['Method'][0]}_F1score_thesholds.png\")\n",
    "    plt.show()"
   ]
  },
  {
   "cell_type": "markdown",
   "metadata": {},
   "source": [
    "> Get the best DF for each method"
   ]
  },
  {
   "cell_type": "code",
   "execution_count": null,
   "metadata": {
    "jupyter": {
     "source_hidden": true
    }
   },
   "outputs": [],
   "source": [
    "rsync -avzhe ssh \\\n",
    "conchae@garnatxa.srv.cpd:/home/conchae/prediction_depolymerase_tropism/prophage_prediction/depolymerase_decipher/ficheros_28032023/Rafa_task/3Dsequence_similarity/prophage_Dpo.foldseek_0.45.csv \\\n",
    "/media/concha-eloko/Linux/PPT_clean\n",
    "    \n",
    "rsync -avzhe ssh \\\n",
    "conchae@garnatxa.srv.cpd:/home/conchae/prediction_depolymerase_tropism/prophage_prediction/depolymerase_decipher/ficheros_28032023/Rafa_task/embeddings/prophage_Dpo.embeddings_-0.25.csv \\\n",
    "/media/concha-eloko/Linux/PPT_clean   \n",
    "    \n",
    "    \n",
    "rsync -avzhe ssh \\\n",
    "conchae@garnatxa.srv.cpd:/home/conchae/prediction_depolymerase_tropism/prophage_prediction/depolymerase_decipher/ficheros_28032023/Rafa_task/sequence_similarity/prophage_Dpo.cdhit_0.75.csv \\\n",
    "/media/concha-eloko/Linux/PPT_clean\n",
    "    \n",
    "rsync -avzhe ssh \\\n",
    "conchae@garnatxa.srv.cpd:/home/conchae/prediction_depolymerase_tropism/prophage_prediction/depolymerase_decipher/ficheros_28032023/Rafa_task/dico_prophage_ID.KLtypes.json \\\n",
    "/media/concha-eloko/Linux/PPT_clean\n",
    "    "
   ]
  },
  {
   "cell_type": "markdown",
   "metadata": {},
   "source": [
    "> Fit the model locally : "
   ]
  },
  {
   "cell_type": "code",
   "execution_count": 38,
   "metadata": {
    "jupyter": {
     "source_hidden": true
    }
   },
   "outputs": [],
   "source": [
    "import pandas as pd \n",
    "import os \n",
    "import json\n",
    "\n",
    "path_project = \"/media/concha-eloko/Linux/PPT_clean\"\n",
    "\n",
    "df_3D = pd.read_csv(f\"{path_project}/prophage_Dpo.foldseek_0.45.csv\", sep = \"\\t\", index_col = 0)\n",
    "df_aa_seq = pd.read_csv(f\"{path_project}/prophage_Dpo.cdhit_0.75.csv\", sep = \"\\t\", index_col = 0)\n",
    "df_emb = pd.read_csv(f\"{path_project}/prophage_Dpo.embeddings_-0.25.csv\", sep = \"\\t\", index_col = 0)\n",
    "\n",
    "dico_KL_type = json.load(open(f\"{path_project}/dico_prophage_ID.KLtypes.json\"))\n",
    "KL_types = set(values[0] for values in dico_KL_type.values())\n"
   ]
  },
  {
   "cell_type": "code",
   "execution_count": 49,
   "metadata": {
    "collapsed": true,
    "jupyter": {
     "outputs_hidden": true,
     "source_hidden": true
    }
   },
   "outputs": [
    {
     "name": "stdout",
     "output_type": "stream",
     "text": [
      "Fitting 4 folds for each of 10 candidates, totalling 40 fits\n",
      "{'0': {'precision': 0.994750656167979, 'recall': 1.0, 'f1-score': 0.9973684210526316, 'support': 379}, '1': {'precision': 0.0, 'recall': 0.0, 'f1-score': 0.0, 'support': 2}, 'accuracy': 0.994750656167979, 'macro avg': {'precision': 0.4973753280839895, 'recall': 0.5, 'f1-score': 0.4986842105263158, 'support': 381}, 'weighted avg': {'precision': 0.9895288679466248, 'recall': 0.994750656167979, 'f1-score': 0.9921328912833265, 'support': 381}}\n"
     ]
    },
    {
     "name": "stderr",
     "output_type": "stream",
     "text": [
      "/home/concha-eloko/anaconda3/envs/sklearn-env/lib/python3.8/site-packages/sklearn/metrics/_classification.py:1344: UndefinedMetricWarning: Precision and F-score are ill-defined and being set to 0.0 in labels with no predicted samples. Use `zero_division` parameter to control this behavior.\n",
      "  _warn_prf(average, modifier, msg_start, len(result))\n",
      "/home/concha-eloko/anaconda3/envs/sklearn-env/lib/python3.8/site-packages/sklearn/metrics/_classification.py:1344: UndefinedMetricWarning: Precision and F-score are ill-defined and being set to 0.0 in labels with no predicted samples. Use `zero_division` parameter to control this behavior.\n",
      "  _warn_prf(average, modifier, msg_start, len(result))\n",
      "/home/concha-eloko/anaconda3/envs/sklearn-env/lib/python3.8/site-packages/sklearn/metrics/_classification.py:1344: UndefinedMetricWarning: Precision and F-score are ill-defined and being set to 0.0 in labels with no predicted samples. Use `zero_division` parameter to control this behavior.\n",
      "  _warn_prf(average, modifier, msg_start, len(result))\n"
     ]
    },
    {
     "name": "stdout",
     "output_type": "stream",
     "text": [
      "[CV] END bootstrap=False, max_depth=50, max_features=sqrt, min_samples_leaf=1, min_samples_split=10, n_estimators=600; total time=   0.6s\n",
      "[CV] END bootstrap=False, max_depth=100, max_features=auto, min_samples_leaf=2, min_samples_split=5, n_estimators=800; total time=   1.5s\n",
      "[CV] END bootstrap=False, max_depth=10, max_features=sqrt, min_samples_leaf=4, min_samples_split=10, n_estimators=200; total time=   0.6s\n",
      "[CV] END bootstrap=False, max_depth=50, max_features=sqrt, min_samples_leaf=2, min_samples_split=2, n_estimators=600; total time=   1.1s\n",
      "[CV] END bootstrap=False, max_depth=40, max_features=sqrt, min_samples_leaf=1, min_samples_split=2, n_estimators=200; total time=   0.4s\n",
      "[CV] END bootstrap=True, max_depth=20, max_features=sqrt, min_samples_leaf=2, min_samples_split=2, n_estimators=400; total time=   0.9s\n",
      "[CV] END bootstrap=False, max_depth=70, max_features=auto, min_samples_leaf=2, min_samples_split=2, n_estimators=600; total time=   1.1s\n",
      "[CV] END bootstrap=False, max_depth=50, max_features=sqrt, min_samples_leaf=1, min_samples_split=10, n_estimators=600; total time=   1.1s\n",
      "[CV] END bootstrap=False, max_depth=70, max_features=sqrt, min_samples_leaf=4, min_samples_split=10, n_estimators=600; total time=   1.0s\n",
      "[CV] END bootstrap=False, max_depth=50, max_features=auto, min_samples_leaf=2, min_samples_split=2, n_estimators=800; total time=   1.5s\n",
      "[CV] END bootstrap=False, max_depth=70, max_features=auto, min_samples_leaf=2, min_samples_split=2, n_estimators=600; total time=   1.1s\n"
     ]
    },
    {
     "name": "stderr",
     "output_type": "stream",
     "text": [
      "/home/concha-eloko/anaconda3/envs/sklearn-env/lib/python3.8/site-packages/sklearn/ensemble/_forest.py:425: FutureWarning: `max_features='auto'` has been deprecated in 1.1 and will be removed in 1.3. To keep the past behaviour, explicitly set `max_features='sqrt'` or remove this parameter as it is also the default value for RandomForestClassifiers and ExtraTreesClassifiers.\n",
      "  warn(\n",
      "/home/concha-eloko/anaconda3/envs/sklearn-env/lib/python3.8/site-packages/sklearn/ensemble/_forest.py:425: FutureWarning: `max_features='auto'` has been deprecated in 1.1 and will be removed in 1.3. To keep the past behaviour, explicitly set `max_features='sqrt'` or remove this parameter as it is also the default value for RandomForestClassifiers and ExtraTreesClassifiers.\n",
      "  warn(\n",
      "/home/concha-eloko/anaconda3/envs/sklearn-env/lib/python3.8/site-packages/sklearn/ensemble/_forest.py:425: FutureWarning: `max_features='auto'` has been deprecated in 1.1 and will be removed in 1.3. To keep the past behaviour, explicitly set `max_features='sqrt'` or remove this parameter as it is also the default value for RandomForestClassifiers and ExtraTreesClassifiers.\n",
      "  warn(\n",
      "/home/concha-eloko/anaconda3/envs/sklearn-env/lib/python3.8/site-packages/sklearn/ensemble/_forest.py:425: FutureWarning: `max_features='auto'` has been deprecated in 1.1 and will be removed in 1.3. To keep the past behaviour, explicitly set `max_features='sqrt'` or remove this parameter as it is also the default value for RandomForestClassifiers and ExtraTreesClassifiers.\n",
      "  warn(\n"
     ]
    },
    {
     "name": "stdout",
     "output_type": "stream",
     "text": [
      "[CV] END bootstrap=False, max_depth=50, max_features=sqrt, min_samples_leaf=1, min_samples_split=10, n_estimators=600; total time=   1.1s\n",
      "[CV] END bootstrap=False, max_depth=70, max_features=sqrt, min_samples_leaf=4, min_samples_split=10, n_estimators=600; total time=   1.0s\n",
      "[CV] END bootstrap=False, max_depth=50, max_features=auto, min_samples_leaf=2, min_samples_split=2, n_estimators=800; total time=   1.5s\n",
      "[CV] END bootstrap=False, max_depth=70, max_features=auto, min_samples_leaf=2, min_samples_split=2, n_estimators=600; total time=   1.1s\n",
      "[CV] END bootstrap=False, max_depth=50, max_features=sqrt, min_samples_leaf=1, min_samples_split=10, n_estimators=600; total time=   0.6s\n",
      "[CV] END bootstrap=False, max_depth=100, max_features=auto, min_samples_leaf=2, min_samples_split=5, n_estimators=800; total time=   1.5s\n",
      "[CV] END bootstrap=False, max_depth=10, max_features=sqrt, min_samples_leaf=4, min_samples_split=10, n_estimators=200; total time=   0.5s\n",
      "[CV] END bootstrap=False, max_depth=50, max_features=sqrt, min_samples_leaf=2, min_samples_split=2, n_estimators=600; total time=   1.1s\n",
      "[CV] END bootstrap=False, max_depth=40, max_features=sqrt, min_samples_leaf=1, min_samples_split=2, n_estimators=200; total time=   0.4s\n",
      "[CV] END bootstrap=True, max_depth=20, max_features=sqrt, min_samples_leaf=2, min_samples_split=2, n_estimators=400; total time=   0.9s\n",
      "[CV] END bootstrap=True, max_depth=70, max_features=auto, min_samples_leaf=4, min_samples_split=10, n_estimators=600; total time=   1.3s\n"
     ]
    },
    {
     "name": "stderr",
     "output_type": "stream",
     "text": [
      "/home/concha-eloko/anaconda3/envs/sklearn-env/lib/python3.8/site-packages/sklearn/ensemble/_forest.py:425: FutureWarning: `max_features='auto'` has been deprecated in 1.1 and will be removed in 1.3. To keep the past behaviour, explicitly set `max_features='sqrt'` or remove this parameter as it is also the default value for RandomForestClassifiers and ExtraTreesClassifiers.\n",
      "  warn(\n",
      "/home/concha-eloko/anaconda3/envs/sklearn-env/lib/python3.8/site-packages/sklearn/ensemble/_forest.py:425: FutureWarning: `max_features='auto'` has been deprecated in 1.1 and will be removed in 1.3. To keep the past behaviour, explicitly set `max_features='sqrt'` or remove this parameter as it is also the default value for RandomForestClassifiers and ExtraTreesClassifiers.\n",
      "  warn(\n",
      "/home/concha-eloko/anaconda3/envs/sklearn-env/lib/python3.8/site-packages/sklearn/ensemble/_forest.py:425: FutureWarning: `max_features='auto'` has been deprecated in 1.1 and will be removed in 1.3. To keep the past behaviour, explicitly set `max_features='sqrt'` or remove this parameter as it is also the default value for RandomForestClassifiers and ExtraTreesClassifiers.\n",
      "  warn(\n",
      "/home/concha-eloko/anaconda3/envs/sklearn-env/lib/python3.8/site-packages/sklearn/ensemble/_forest.py:425: FutureWarning: `max_features='auto'` has been deprecated in 1.1 and will be removed in 1.3. To keep the past behaviour, explicitly set `max_features='sqrt'` or remove this parameter as it is also the default value for RandomForestClassifiers and ExtraTreesClassifiers.\n",
      "  warn(\n"
     ]
    },
    {
     "name": "stdout",
     "output_type": "stream",
     "text": [
      "[CV] END bootstrap=False, max_depth=50, max_features=sqrt, min_samples_leaf=1, min_samples_split=10, n_estimators=600; total time=   0.6s\n",
      "[CV] END bootstrap=False, max_depth=100, max_features=auto, min_samples_leaf=2, min_samples_split=5, n_estimators=800; total time=   1.5s\n",
      "[CV] END bootstrap=False, max_depth=10, max_features=sqrt, min_samples_leaf=4, min_samples_split=10, n_estimators=200; total time=   0.4s\n",
      "[CV] END bootstrap=False, max_depth=70, max_features=sqrt, min_samples_leaf=4, min_samples_split=10, n_estimators=600; total time=   1.0s\n",
      "[CV] END bootstrap=False, max_depth=50, max_features=auto, min_samples_leaf=2, min_samples_split=2, n_estimators=800; total time=   1.5s\n",
      "[CV] END bootstrap=True, max_depth=70, max_features=auto, min_samples_leaf=4, min_samples_split=10, n_estimators=600; total time=   1.3s\n",
      "[CV] END bootstrap=False, max_depth=50, max_features=sqrt, min_samples_leaf=1, min_samples_split=10, n_estimators=600; total time=   1.2s\n",
      "[CV] END bootstrap=False, max_depth=50, max_features=sqrt, min_samples_leaf=2, min_samples_split=2, n_estimators=600; total time=   1.1s\n",
      "[CV] END bootstrap=False, max_depth=40, max_features=sqrt, min_samples_leaf=1, min_samples_split=2, n_estimators=200; total time=   0.4s\n",
      "[CV] END bootstrap=True, max_depth=20, max_features=sqrt, min_samples_leaf=2, min_samples_split=2, n_estimators=400; total time=   0.9s\n",
      "[CV] END bootstrap=True, max_depth=70, max_features=auto, min_samples_leaf=4, min_samples_split=10, n_estimators=600; total time=   1.3s\n"
     ]
    },
    {
     "name": "stderr",
     "output_type": "stream",
     "text": [
      "/home/concha-eloko/anaconda3/envs/sklearn-env/lib/python3.8/site-packages/sklearn/ensemble/_forest.py:425: FutureWarning: `max_features='auto'` has been deprecated in 1.1 and will be removed in 1.3. To keep the past behaviour, explicitly set `max_features='sqrt'` or remove this parameter as it is also the default value for RandomForestClassifiers and ExtraTreesClassifiers.\n",
      "  warn(\n",
      "/home/concha-eloko/anaconda3/envs/sklearn-env/lib/python3.8/site-packages/sklearn/ensemble/_forest.py:425: FutureWarning: `max_features='auto'` has been deprecated in 1.1 and will be removed in 1.3. To keep the past behaviour, explicitly set `max_features='sqrt'` or remove this parameter as it is also the default value for RandomForestClassifiers and ExtraTreesClassifiers.\n",
      "  warn(\n",
      "/home/concha-eloko/anaconda3/envs/sklearn-env/lib/python3.8/site-packages/sklearn/ensemble/_forest.py:425: FutureWarning: `max_features='auto'` has been deprecated in 1.1 and will be removed in 1.3. To keep the past behaviour, explicitly set `max_features='sqrt'` or remove this parameter as it is also the default value for RandomForestClassifiers and ExtraTreesClassifiers.\n",
      "  warn(\n",
      "/home/concha-eloko/anaconda3/envs/sklearn-env/lib/python3.8/site-packages/sklearn/ensemble/_forest.py:425: FutureWarning: `max_features='auto'` has been deprecated in 1.1 and will be removed in 1.3. To keep the past behaviour, explicitly set `max_features='sqrt'` or remove this parameter as it is also the default value for RandomForestClassifiers and ExtraTreesClassifiers.\n",
      "  warn(\n"
     ]
    },
    {
     "name": "stdout",
     "output_type": "stream",
     "text": [
      "[CV] END bootstrap=False, max_depth=50, max_features=sqrt, min_samples_leaf=1, min_samples_split=10, n_estimators=600; total time=   0.6s\n",
      "[CV] END bootstrap=False, max_depth=100, max_features=auto, min_samples_leaf=2, min_samples_split=5, n_estimators=800; total time=   1.5s\n",
      "[CV] END bootstrap=False, max_depth=10, max_features=sqrt, min_samples_leaf=4, min_samples_split=10, n_estimators=200; total time=   0.4s\n",
      "[CV] END bootstrap=False, max_depth=70, max_features=sqrt, min_samples_leaf=4, min_samples_split=10, n_estimators=600; total time=   1.0s\n",
      "[CV] END bootstrap=False, max_depth=50, max_features=auto, min_samples_leaf=2, min_samples_split=2, n_estimators=800; total time=   1.4s\n",
      "[CV] END bootstrap=True, max_depth=70, max_features=auto, min_samples_leaf=4, min_samples_split=10, n_estimators=600; total time=   1.3s\n",
      "[CV] END bootstrap=False, max_depth=50, max_features=sqrt, min_samples_leaf=1, min_samples_split=10, n_estimators=600; total time=   1.2s\n",
      "[CV] END bootstrap=False, max_depth=50, max_features=sqrt, min_samples_leaf=2, min_samples_split=2, n_estimators=600; total time=   1.1s\n",
      "[CV] END bootstrap=False, max_depth=40, max_features=sqrt, min_samples_leaf=1, min_samples_split=2, n_estimators=200; total time=   0.4s\n",
      "[CV] END bootstrap=True, max_depth=20, max_features=sqrt, min_samples_leaf=2, min_samples_split=2, n_estimators=400; total time=   0.9s\n",
      "[CV] END bootstrap=False, max_depth=70, max_features=auto, min_samples_leaf=2, min_samples_split=2, n_estimators=600; total time=   1.2s\n"
     ]
    },
    {
     "name": "stderr",
     "output_type": "stream",
     "text": [
      "/home/concha-eloko/anaconda3/envs/sklearn-env/lib/python3.8/site-packages/sklearn/ensemble/_forest.py:425: FutureWarning: `max_features='auto'` has been deprecated in 1.1 and will be removed in 1.3. To keep the past behaviour, explicitly set `max_features='sqrt'` or remove this parameter as it is also the default value for RandomForestClassifiers and ExtraTreesClassifiers.\n",
      "  warn(\n",
      "/home/concha-eloko/anaconda3/envs/sklearn-env/lib/python3.8/site-packages/sklearn/ensemble/_forest.py:425: FutureWarning: `max_features='auto'` has been deprecated in 1.1 and will be removed in 1.3. To keep the past behaviour, explicitly set `max_features='sqrt'` or remove this parameter as it is also the default value for RandomForestClassifiers and ExtraTreesClassifiers.\n",
      "  warn(\n",
      "/home/concha-eloko/anaconda3/envs/sklearn-env/lib/python3.8/site-packages/sklearn/ensemble/_forest.py:425: FutureWarning: `max_features='auto'` has been deprecated in 1.1 and will be removed in 1.3. To keep the past behaviour, explicitly set `max_features='sqrt'` or remove this parameter as it is also the default value for RandomForestClassifiers and ExtraTreesClassifiers.\n",
      "  warn(\n",
      "/home/concha-eloko/anaconda3/envs/sklearn-env/lib/python3.8/site-packages/sklearn/ensemble/_forest.py:425: FutureWarning: `max_features='auto'` has been deprecated in 1.1 and will be removed in 1.3. To keep the past behaviour, explicitly set `max_features='sqrt'` or remove this parameter as it is also the default value for RandomForestClassifiers and ExtraTreesClassifiers.\n",
      "  warn(\n"
     ]
    }
   ],
   "source": [
    "from sklearn.ensemble import RandomForestClassifier\n",
    "from sklearn.model_selection import train_test_split, RandomizedSearchCV\n",
    "from sklearn.metrics import classification_report\n",
    "from scipy.stats import fisher_exact\n",
    "import pandas as pd \n",
    "import os \n",
    "import json\n",
    "import numpy as np\n",
    "from collections import Counter\n",
    "from multiprocessing.pool import ThreadPool \n",
    "\n",
    "#path_project = \"/media/concha-eloko/Linux/PPT_clean\"\n",
    "path_project = \"/home/conchae/prediction_depolymerase_tropism/prophage_prediction/depolymerase_decipher/ficheros_28032023/Rafa_task\"\n",
    "\n",
    "dico_KL_type = json.load(open(f\"{path_project}/dico_prophage_ID.KLtypes.json\"))\n",
    "KL_types = set(values[0] for values in dico_KL_type.values())\n",
    "\n",
    "\n",
    "dico_names = {\"prophage_Dpo.cdhit_0.75.csv\" : \"aa_seq\" ,\n",
    "             \"prophage_Dpo.embeddings_-0.25.csv\" : \"embeddings\",\n",
    "             \"prophage_Dpo.foldseek_0.45.csv\" : \"3D\"}\n",
    "\n",
    "paths_df = [f\"{path_project}/prophage_Dpo.foldseek_0.45.csv\" , f\"{path_project}/prophage_Dpo.cdhit_0.75.csv\" , f\"{path_project}/prophage_Dpo.embeddings_-0.25.csv\"]\n",
    "\n",
    "\n",
    "def fit_rf_model_random_search(label):\n",
    "    for path_df in paths_df : \n",
    "        try : \n",
    "            file = path_df.split(\"/\")[-1]\n",
    "            df = pd.read_csv(f\"{path_df}\", sep = \"\\t\", index_col = 0)\n",
    "            df[\"Labels\"] = df.index.to_series().map(lambda x : 1 if label in dico_KL_type.get(x, []) else 0)\n",
    "            X = df.drop([\"Labels\"] , axis = 1)\n",
    "            n_iter=10\n",
    "            X_train, X_test, y_train, y_test = train_test_split(X, df[\"Labels\"], test_size=0.2, random_state=42)\n",
    "            param_grid = {\n",
    "                    'bootstrap': [True, False],\n",
    "                    'max_depth': [10, 20, 30, 40, 50, 60, 70, 80, 90, 100, None],\n",
    "                    'max_features': ['auto', 'sqrt'],\n",
    "                    'min_samples_leaf': [1, 2, 4],\n",
    "                    'min_samples_split': [2, 5, 10],\n",
    "                    'n_estimators': [200, 400, 600, 800]\n",
    "                }\n",
    "            rf = RandomForestClassifier()\n",
    "            rf_random = RandomizedSearchCV(estimator=rf, param_distributions=param_grid, \n",
    "                                           n_iter=n_iter, cv=4, verbose=2, random_state=42, n_jobs=-1)\n",
    "            rf_random.fit(X_train, y_train)\n",
    "            # Print the best parameters from the Randomized Search\n",
    "            predictions = rf_random.predict(X_test)\n",
    "            report = classification_report(y_test, predictions, output_dict=True)\n",
    "            with open(f\"{path_project}/{dico_names[file]}.KL_report.tsv\", \"a+\") as outfile : \n",
    "                outfile.write(f\"{label}\\t{report['1']['precision']}\\t{report['1']['recall']}\\t{report['1']['f1-score']}\\t{report['1']['support']}\\n\")\n",
    "        except Exception as e :\n",
    "            with open(f\"{path_project}/{dico_names[file]}.KL_report.tsv\", \"a+\") as outfile : \n",
    "                outfile.write(f\"{label}\\tFailed\\n\")\n",
    "\n",
    "\n",
    "if __name__ == '__main__':\n",
    "    with ThreadPool(15) as p:\n",
    "        p.map(fit_rf_model_random_search, KL_types)\n",
    "        \n",
    "# ****************************************************************************************\n",
    "#!/bin/bash\n",
    "#BATCH --job-name=RF__\n",
    "#SBATCH --qos=short\n",
    "#SBATCH --ntasks=1 \n",
    "#SBATCH --cpus-per-task=30 \n",
    "#SBATCH --mem=50gb \n",
    "#SBATCH --time=1-00:00:00 \n",
    "#SBATCH --output=RF__%j.log \n",
    "\n",
    "source /storage/apps/ANACONDA/anaconda3/etc/profile.d/conda.sh\n",
    "conda activate python_311\n",
    "\n",
    "python /home/conchae/prediction_depolymerase_tropism/prophage_prediction/depolymerase_decipher/ficheros_28032023/Rafa_task/script_files/report_KL.py"
   ]
  },
  {
   "cell_type": "markdown",
   "metadata": {},
   "source": [
    "***\n",
    "# Plot the F1 score for each KL type "
   ]
  },
  {
   "cell_type": "code",
   "execution_count": null,
   "metadata": {},
   "outputs": [],
   "source": [
    "rsync -avzhe ssh \\\n",
    "conchae@garnatxa.srv.cpd:/home/conchae/prediction_depolymerase_tropism/prophage_prediction/depolymerase_decipher/ficheros_28032023/Rafa_task/3D.KL_report.tsv \\\n",
    "/media/concha-eloko/Linux/PPT_clean\n",
    "    \n",
    "rsync -avzhe ssh \\\n",
    "conchae@garnatxa.srv.cpd:/home/conchae/prediction_depolymerase_tropism/prophage_prediction/depolymerase_decipher/ficheros_28032023/Rafa_task/embeddings.KL_report.tsv \\\n",
    "/media/concha-eloko/Linux/PPT_clean   \n",
    "\n",
    "rsync -avzhe ssh \\\n",
    "conchae@garnatxa.srv.cpd:/home/conchae/prediction_depolymerase_tropism/prophage_prediction/depolymerase_decipher/ficheros_28032023/Rafa_task/aa_seq.KL_report.tsv \\\n",
    "/media/concha-eloko/Linux/PPT_clean"
   ]
  },
  {
   "cell_type": "code",
   "execution_count": 54,
   "metadata": {},
   "outputs": [],
   "source": [
    "import pandas as pd \n",
    "import os \n",
    "import json\n",
    "\n",
    "path_project = \"/media/concha-eloko/Linux/PPT_clean\"\n",
    "\n",
    "names_report = [\"Label\" , \"Precision\", \"Recall\", \"F1_score\",\"Support\"]\n",
    "df_3D = pd.read_csv(f\"{path_project}/3D.KL_report.tsv\", sep = \"\\t\", names = names_report).fillna(0)\n",
    "df_3D.sort_values(by = [\"F1_score\"] , inplace = True , ascending = False)\n",
    "\n",
    "df_aa_seq = pd.read_csv(f\"{path_project}/aa_seq.KL_report.tsv\", sep = \"\\t\", names = names_report).fillna(0)\n",
    "df_aa_seq.sort_values(by = [\"F1_score\"] , inplace = True, ascending = False)\n",
    "\n",
    "df_emb = pd.read_csv(f\"{path_project}/embeddings.KL_report.tsv\", sep = \"\\t\", names = names_report).fillna(0)\n",
    "df_emb.sort_values(by = [\"F1_score\"] , inplace = True, ascending = False)\n",
    "\n",
    "DFs = [df_3D , df_aa_seq , df_emb]\n",
    "\n",
    "#method_dico = {df_3D : \"3D\" , df_aa_seq : \"aa_seq\", df_emb : \"embeddings\"}"
   ]
  },
  {
   "cell_type": "code",
   "execution_count": 55,
   "metadata": {},
   "outputs": [
    {
     "data": {
      "text/html": [
       "<div>\n",
       "<style scoped>\n",
       "    .dataframe tbody tr th:only-of-type {\n",
       "        vertical-align: middle;\n",
       "    }\n",
       "\n",
       "    .dataframe tbody tr th {\n",
       "        vertical-align: top;\n",
       "    }\n",
       "\n",
       "    .dataframe thead th {\n",
       "        text-align: right;\n",
       "    }\n",
       "</style>\n",
       "<table border=\"1\" class=\"dataframe\">\n",
       "  <thead>\n",
       "    <tr style=\"text-align: right;\">\n",
       "      <th></th>\n",
       "      <th>Label</th>\n",
       "      <th>Precision</th>\n",
       "      <th>Recall</th>\n",
       "      <th>F1_score</th>\n",
       "      <th>Support</th>\n",
       "    </tr>\n",
       "  </thead>\n",
       "  <tbody>\n",
       "    <tr>\n",
       "      <th>113</th>\n",
       "      <td>KL4</td>\n",
       "      <td>1.0</td>\n",
       "      <td>1.0</td>\n",
       "      <td>1.000000</td>\n",
       "      <td>1.0</td>\n",
       "    </tr>\n",
       "    <tr>\n",
       "      <th>80</th>\n",
       "      <td>KL150</td>\n",
       "      <td>1.0</td>\n",
       "      <td>1.0</td>\n",
       "      <td>1.000000</td>\n",
       "      <td>1.0</td>\n",
       "    </tr>\n",
       "    <tr>\n",
       "      <th>124</th>\n",
       "      <td>KL18</td>\n",
       "      <td>1.0</td>\n",
       "      <td>1.0</td>\n",
       "      <td>1.000000</td>\n",
       "      <td>2.0</td>\n",
       "    </tr>\n",
       "    <tr>\n",
       "      <th>63</th>\n",
       "      <td>KL149</td>\n",
       "      <td>1.0</td>\n",
       "      <td>0.75</td>\n",
       "      <td>0.857143</td>\n",
       "      <td>4.0</td>\n",
       "    </tr>\n",
       "    <tr>\n",
       "      <th>131</th>\n",
       "      <td>KL25</td>\n",
       "      <td>0.9047619047619048</td>\n",
       "      <td>0.7037037037037037</td>\n",
       "      <td>0.791667</td>\n",
       "      <td>27.0</td>\n",
       "    </tr>\n",
       "    <tr>\n",
       "      <th>...</th>\n",
       "      <td>...</td>\n",
       "      <td>...</td>\n",
       "      <td>...</td>\n",
       "      <td>...</td>\n",
       "      <td>...</td>\n",
       "    </tr>\n",
       "    <tr>\n",
       "      <th>43</th>\n",
       "      <td>KL49</td>\n",
       "      <td>0.0</td>\n",
       "      <td>0.0</td>\n",
       "      <td>0.000000</td>\n",
       "      <td>1.0</td>\n",
       "    </tr>\n",
       "    <tr>\n",
       "      <th>41</th>\n",
       "      <td>KL16</td>\n",
       "      <td>0.0</td>\n",
       "      <td>0.0</td>\n",
       "      <td>0.000000</td>\n",
       "      <td>3.0</td>\n",
       "    </tr>\n",
       "    <tr>\n",
       "      <th>38</th>\n",
       "      <td>KL13</td>\n",
       "      <td>0.0</td>\n",
       "      <td>0.0</td>\n",
       "      <td>0.000000</td>\n",
       "      <td>6.0</td>\n",
       "    </tr>\n",
       "    <tr>\n",
       "      <th>37</th>\n",
       "      <td>KL116</td>\n",
       "      <td>0.0</td>\n",
       "      <td>0.0</td>\n",
       "      <td>0.000000</td>\n",
       "      <td>1.0</td>\n",
       "    </tr>\n",
       "    <tr>\n",
       "      <th>133</th>\n",
       "      <td>KL9</td>\n",
       "      <td>0.0</td>\n",
       "      <td>0.0</td>\n",
       "      <td>0.000000</td>\n",
       "      <td>1.0</td>\n",
       "    </tr>\n",
       "  </tbody>\n",
       "</table>\n",
       "<p>134 rows × 5 columns</p>\n",
       "</div>"
      ],
      "text/plain": [
       "     Label           Precision              Recall  F1_score  Support\n",
       "113    KL4                 1.0                 1.0  1.000000      1.0\n",
       "80   KL150                 1.0                 1.0  1.000000      1.0\n",
       "124   KL18                 1.0                 1.0  1.000000      2.0\n",
       "63   KL149                 1.0                0.75  0.857143      4.0\n",
       "131   KL25  0.9047619047619048  0.7037037037037037  0.791667     27.0\n",
       "..     ...                 ...                 ...       ...      ...\n",
       "43    KL49                 0.0                 0.0  0.000000      1.0\n",
       "41    KL16                 0.0                 0.0  0.000000      3.0\n",
       "38    KL13                 0.0                 0.0  0.000000      6.0\n",
       "37   KL116                 0.0                 0.0  0.000000      1.0\n",
       "133    KL9                 0.0                 0.0  0.000000      1.0\n",
       "\n",
       "[134 rows x 5 columns]"
      ]
     },
     "execution_count": 55,
     "metadata": {},
     "output_type": "execute_result"
    }
   ],
   "source": [
    "df_emb"
   ]
  },
  {
   "cell_type": "code",
   "execution_count": 57,
   "metadata": {},
   "outputs": [],
   "source": [
    "import matplotlib.pyplot as plt\n",
    "import seaborn as sns\n",
    "\n",
    "def make_plot(method , df) :\n",
    "    df_filtered = df[df['F1_score'] != 0]\n",
    "    plt.figure(figsize=(12, 6))\n",
    "    # Use stripplot to add individual data points\n",
    "    sns.boxplot(x='Label', y='F1_score', data=df_filtered, color='skyblue')\n",
    "    sns.stripplot(x='Label', y='F1_score', data=df_filtered, color='darkblue', size=6, jitter=True)\n",
    "    plt.title('F1_score of the RF model by KL_type', fontsize=16)\n",
    "    plt.xlabel('KL_type', fontsize=14)\n",
    "    plt.ylabel('F1_score', fontsize=14)\n",
    "    plt.xticks(rotation=90, fontsize=12)  # Rotates x-axis labels to be vertical\n",
    "    # Make the grid visible\n",
    "    plt.grid(True)\n",
    "    plt.tight_layout()\n",
    "    plt.savefig(f\"{path_project}/F1_score.KLtype.{method}.png\", dpi =300)\n",
    "    plt.show()"
   ]
  },
  {
   "cell_type": "code",
   "execution_count": 60,
   "metadata": {},
   "outputs": [
    {
     "data": {
      "image/png": "[encoded data removed]",
      "text/plain": [
       "<Figure size 1200x600 with 1 Axes>"
      ]
     },
     "metadata": {},
     "output_type": "display_data"
    }
   ],
   "source": [
    "#method_dico = {df_3D : \"3D\" , df_aa_seq : \"aa_seq\", df_emb : \"embeddings\"}\n",
    "make_plot(\"aa_seq\" , df_aa_seq)"
   ]
  },
  {
   "cell_type": "code",
   "execution_count": null,
   "metadata": {},
   "outputs": [],
   "source": []
  }
 ],
 "metadata": {
  "kernelspec": {
   "display_name": "sklearn-env",
   "language": "python",
   "name": "sklearn-env"
  },
  "language_info": {
   "codemirror_mode": {
    "name": "ipython",
    "version": 3
   },
   "file_extension": ".py",
   "mimetype": "text/x-python",
   "name": "python",
   "nbconvert_exporter": "python",
   "pygments_lexer": "ipython3",
   "version": "3.8.16"
  }
 },
 "nbformat": 4,
 "nbformat_minor": 4
}
