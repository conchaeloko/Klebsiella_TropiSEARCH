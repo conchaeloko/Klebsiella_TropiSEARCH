{
 "cells": [
  {
   "cell_type": "markdown",
   "id": "a5bc6da9-6eb4-4988-a7b1-23d4fa6006fe",
   "metadata": {},
   "source": [
    "## TropiSeq metrics : "
   ]
  },
  {
   "cell_type": "code",
   "execution_count": 1,
   "id": "1265efbc-ac5a-4a58-94bd-ce1b279092e9",
   "metadata": {},
   "outputs": [],
   "source": [
    "import pandas as pd \n",
    "import os \n",
    "\n",
    "path_seqbased = \"/media/concha-eloko/Linux/PPT_clean/RF_2912_models_info\"\n",
    "\n",
    "header_metric = [\"KL_type\", \"Effectifs\",\"MCC\",\"F1\",\"recall\",\"Accuracy\",\"AUC\"]\n",
    "seqbased_df = pd.read_csv(f\"{path_seqbased}/RF_report.0.75.2912.tsv\", sep = \"\\t\", names = header_metric)"
   ]
  },
  {
   "cell_type": "code",
   "execution_count": 26,
   "id": "9cf1a0f7-7a3e-4002-bc79-5e25b277f8eb",
   "metadata": {
    "scrolled": true
   },
   "outputs": [],
   "source": [
    "mcc_tropiseq = {row[\"KL_type\"] : row[\"MCC\"] for _,row in seqbased_df.iterrows()}\n"
   ]
  },
  {
   "cell_type": "markdown",
   "id": "84b68c18-39d2-46eb-8bb8-0ebd1c875534",
   "metadata": {},
   "source": [
    "***\n",
    "## TropiGAT metrics :"
   ]
  },
  {
   "cell_type": "code",
   "execution_count": 3,
   "id": "00e7049d-acba-47bd-8099-aa5052a17b12",
   "metadata": {},
   "outputs": [],
   "source": [
    "import os \n",
    "import pandas as pd\n",
    "import matplotlib.pyplot as plt\n",
    "import seaborn as sns\n",
    "\n",
    "path_models = \"/media/concha-eloko/Linux/PPT_clean/ficheros_28032023/ensemble_2812\"\n",
    "path_metrics = \"/media/concha-eloko/Linux/PPT_clean/ficheros_28032023/ensemble_2812_log_files/\""
   ]
  },
  {
   "cell_type": "code",
   "execution_count": 4,
   "id": "e8e2b61f-8a2b-41b0-b736-9cd9efc75d2c",
   "metadata": {},
   "outputs": [],
   "source": [
    "metrics_names = [\"KL_type\" , \"n_prophages\", \"F1_score\", \"precision\" , \"recall\", \"MCC\", \"Accuracy\", \"AUC\"]\n",
    "df_metrics = pd.read_csv(f\"{path_models}/Metric_Report.2812.tsv\", sep = \"\\t\", names = metrics_names)\n",
    "\n",
    "df_metrics = df_metrics.drop_duplicates(subset = [\"KL_type\"], keep = \"last\")\n",
    "\n",
    "df_metrics_sorted = df_metrics.sort_values(by='KL_type', key=lambda x: x.str.split(\"KL\").str[1].astype(int))\n",
    "df_metrics_sorted.reset_index(drop=True, inplace=True)\n"
   ]
  },
  {
   "cell_type": "code",
   "execution_count": 27,
   "id": "b2c51f5f-3324-4920-98c9-6bfd6997b0ef",
   "metadata": {
    "scrolled": true
   },
   "outputs": [],
   "source": [
    "df_metrics_sorted\n",
    "mcc_tropigat = {row[\"KL_type\"] : row[\"MCC\"] for _,row in df_metrics_sorted.iterrows()}\n"
   ]
  },
  {
   "cell_type": "markdown",
   "id": "9a22d2f7-c7ab-4cc2-9091-c83c60b08e27",
   "metadata": {},
   "source": [
    "***"
   ]
  },
  {
   "cell_type": "code",
   "execution_count": 15,
   "id": "f50cbc8a-6a6d-40fb-a5c8-687cedcebd01",
   "metadata": {},
   "outputs": [],
   "source": [
    "g1_group = [\"KL2\", \"KL17\", \"KL47\", \"KL64\", \"KL106\", \"KL107\"]\n",
    "g2_group = [\"KL1\", \"KL3\", \"KL14\", \"KL15\", \"KL23\", \"KL24\", \"KL25\", \"KL27\", \"KL51\", \"KL62\", \"KL102\"]\n",
    "g3_group = [kltype for kltype in mcc_tropiseq if kltype not in g1_group + g2_group]\n",
    "g3_group = sorted(g3_group, key=lambda x: int(x.split(\"KL\")[1]))"
   ]
  },
  {
   "cell_type": "markdown",
   "id": "8a60a4c7-81f7-4f46-a368-7fdd911058e3",
   "metadata": {},
   "source": [
    "> gpt3.5 version : "
   ]
  },
  {
   "cell_type": "code",
   "execution_count": 59,
   "id": "b78d7c90-8911-4a2e-b624-da9c4e156171",
   "metadata": {
    "jupyter": {
     "source_hidden": true
    }
   },
   "outputs": [],
   "source": [
    "import pandas as pd\n",
    "import matplotlib.pyplot as plt\n",
    "import seaborn as sns\n",
    "\n",
    "group_name_dico = {\"group_a\" : g1_group, \"group_b\" : g2_group, \"group_c\" : g3_group}\n",
    "\n",
    "def plot_mcc_scores(group_name, color_tropigat, color_tropiseq, fontsize=10):\n",
    "    group = group_name_dico[group_name]\n",
    "    \n",
    "    # Extract labels and MCC scores for the given group\n",
    "    labels = group\n",
    "    mcc_tropigat_scores = [max(mcc_tropigat.get(label, 0), 0) for label in labels]\n",
    "    mcc_tropiseq_scores = [max(mcc_tropiseq.get(label, 0), 0) for label in labels]\n",
    "\n",
    "    # Combine the scores and labels for both models\n",
    "    all_labels = labels * 2\n",
    "    all_scores = mcc_tropigat_scores + mcc_tropiseq_scores\n",
    "    all_models = ['mcc_tropigat'] * len(labels) + ['mcc_tropiseq'] * len(labels)\n",
    "    all_colors = [color_tropigat] * len(labels) + [color_tropiseq] * len(labels)\n",
    "\n",
    "    # Calculate width proportionally based on the number of keys\n",
    "    total_keys = len(labels)\n",
    "    width_per_key = 0.8  # 0.8\n",
    "    total_width = total_keys * width_per_key\n",
    "    \n",
    "    # Create a DataFrame for seaborn\n",
    "    data = {'Label': all_labels, 'MCC Score': all_scores, 'Model': all_models, 'Color': all_colors}\n",
    "    df = pd.DataFrame(data)\n",
    "\n",
    "    # Plot using seaborn\n",
    "    plt.figure(figsize=(total_width, 6))\n",
    "    ax = sns.barplot(x='Label', y='MCC Score', hue='Model', palette={'mcc_tropigat': color_tropigat, 'mcc_tropiseq': color_tropiseq}, data=df)\n",
    "    \n",
    "    # Set x-axis label font size\n",
    "    ax.set_xticklabels(ax.get_xticklabels(), fontsize=fontsize)\n",
    "\n",
    "    plt.title('MCC Scores for Different Labels')\n",
    "    plt.xlabel('Labels')\n",
    "    plt.xticks(rotation=90)\n",
    "    plt.ylabel('MCC Score')\n",
    "    plt.legend(title='Model')\n",
    "    plt.savefig(f\"/media/concha-eloko/Linux/papers/PPT/figures_draft/plot_MCC_{group_name}.3001.svg\")\n",
    "    plt.show()\n",
    "\n",
    "    \n",
    "\n"
   ]
  },
  {
   "cell_type": "code",
   "execution_count": 71,
   "id": "7fce7ced-a9c6-48f0-b8eb-dfc0bf9f90f2",
   "metadata": {},
   "outputs": [],
   "source": [
    "def plot_mcc_scores(group_name, color_tropigat, color_tropiseq, fontsize_x=10,fontsize_y=10):\n",
    "    group = group_name_dico[group_name]\n",
    "    # Extract labels and MCC scores for the given group\n",
    "    labels = group\n",
    "    # Filter labels with non-zero MCC scores in at least one dictionary\n",
    "    filtered_labels = [label for label in labels if mcc_tropigat.get(label, 0) > 0 or mcc_tropiseq.get(label, 0) > 0]\n",
    "    mcc_tropigat_scores = [max(mcc_tropigat.get(label, 0), 0) for label in filtered_labels]\n",
    "    mcc_tropiseq_scores = [max(mcc_tropiseq.get(label, 0), 0) for label in filtered_labels]\n",
    "\n",
    "    # Combine the scores and labels for both models\n",
    "    all_labels = filtered_labels * 2\n",
    "    all_scores = mcc_tropigat_scores + mcc_tropiseq_scores\n",
    "    all_models = ['mcc_tropigat'] * len(filtered_labels) + ['mcc_tropiseq'] * len(filtered_labels)\n",
    "    all_colors = [color_tropigat] * len(filtered_labels) + [color_tropiseq] * len(filtered_labels)\n",
    "\n",
    "    # Calculate width proportionally based on the number of keys\n",
    "    total_keys = len(filtered_labels)\n",
    "    width_per_key = 1.5  # (a,1.5) (b,1.5) (c,0.5)\n",
    "    total_width = total_keys * width_per_key\n",
    "    \n",
    "    # Create a DataFrame for seaborn\n",
    "    data = {'Label': all_labels, 'MCC Score': all_scores, 'Model': all_models, 'Color': all_colors}\n",
    "    df = pd.DataFrame(data)\n",
    "\n",
    "    # Plot using seaborn\n",
    "    plt.figure(figsize=(total_width, 6))\n",
    "    ax = sns.barplot(x='Label', y='MCC Score', hue='Model', palette={'mcc_tropigat': color_tropigat, 'mcc_tropiseq': color_tropiseq}, data=df)\n",
    "    # Set x-axis label font size\n",
    "    ax.set_xticklabels(ax.get_xticklabels(), fontsize=fontsize_x)\n",
    "    # Set y-axis label font size\n",
    "    ax.set_yticklabels(ax.get_yticklabels(), fontsize=fontsize_y)\n",
    "\n",
    "    plt.title('MCC Scores for Different Labels')\n",
    "    plt.xlabel('Labels')\n",
    "    plt.xticks(rotation=90)\n",
    "    plt.ylabel('MCC Score')\n",
    "    plt.legend(title='Model')\n",
    "    plt.savefig(f\"/media/concha-eloko/Linux/papers/PPT/figures_draft/plot_MCC_{group_name}.3001.svg\")\n",
    "    plt.show()\n",
    "\n"
   ]
  },
  {
   "cell_type": "code",
   "execution_count": 73,
   "id": "571638d3-761f-41cf-a8d8-e76ddef5fe88",
   "metadata": {},
   "outputs": [
    {
     "name": "stderr",
     "output_type": "stream",
     "text": [
      "/tmp/ipykernel_26914/19048420.py:31: UserWarning: FixedFormatter should only be used together with FixedLocator\n",
      "  ax.set_yticklabels(ax.get_yticklabels(), fontsize=fontsize_y)\n"
     ]
    },
    {
     "data": {
      "image/png": "[encoded data removed]",
      "text/plain": [
       "<Figure size 1650x600 with 1 Axes>"
      ]
     },
     "metadata": {},
     "output_type": "display_data"
    }
   ],
   "source": [
    "group_a_color = '#000033'  \n",
    "group_b_color = '#8b6508'  \n",
    "group_c_color = '#eead0e'  \n",
    "others_color = '#dee2e6'  \n",
    "# Example usage:\n",
    "plot_mcc_scores(\"group_b\", group_a_color, group_b_color, fontsize_x=15, fontsize_y=15)"
   ]
  },
  {
   "cell_type": "code",
   "execution_count": null,
   "id": "a3a347c6-9be7-412b-87d9-d844ec82edc9",
   "metadata": {},
   "outputs": [],
   "source": []
  }
 ],
 "metadata": {
  "kernelspec": {
   "display_name": "ML_work",
   "language": "python",
   "name": "ml_work"
  },
  "language_info": {
   "codemirror_mode": {
    "name": "ipython",
    "version": 3
   },
   "file_extension": ".py",
   "mimetype": "text/x-python",
   "name": "python",
   "nbconvert_exporter": "python",
   "pygments_lexer": "ipython3",
   "version": "3.11.4"
  },
  "widgets": {
   "application/vnd.jupyter.widget-state+json": {
    "state": {},
    "version_major": 2,
    "version_minor": 0
   }
  }
 },
 "nbformat": 4,
 "nbformat_minor": 5
}
