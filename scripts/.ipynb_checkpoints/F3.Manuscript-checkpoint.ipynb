{
 "cells": [
  {
   "cell_type": "markdown",
   "id": "4e1b6796-d6a3-4297-8d21-38d4b749ac5c",
   "metadata": {},
   "source": [
    "# Goal : Generate the final Dataframe with the non redundant protein sequences, with all the relevant information\n",
    "***\n",
    "## I. DepoScope method (Anubis return)\n",
    "## II. HMM profile DB (PPT)\n",
    "## III. Blastp Bea DB (Minibatch)\n",
    "***"
   ]
  },
  {
   "cell_type": "markdown",
   "id": "cb45a9c8-50a9-4cce-a4c0-2c221fe13c65",
   "metadata": {},
   "source": [
    "### I. Deposcope method :"
   ]
  },
  {
   "cell_type": "markdown",
   "id": "b2807108-1022-44f9-b338-fee59364868d",
   "metadata": {},
   "source": [
    "> Anubis return"
   ]
  },
  {
   "cell_type": "code",
   "execution_count": 1,
   "id": "70aeda55-6bd1-4733-bbd3-e3410231519b",
   "metadata": {},
   "outputs": [],
   "source": [
    "import os \n",
    "import pandas as pd\n",
    "from tqdm import tqdm \n",
    "import warnings\n",
    "warnings.filterwarnings('ignore')\n",
    "\n",
    "# local :\n",
    "path_project = \"/media/concha-eloko/Linux/PPT_clean\"\n",
    "\n",
    "info_col = [\"prot_name\",\"start\",\"end\",\"domain_seq\",\"full_seq\",\"dpo_index\"]\n",
    "\n",
    "df_prophage_label = pd.read_csv(f\"{path_project}/prophage_data.clusters_80.phageboost_70.2504.tsv\" , sep = \"\\t\", skiprows=1)\n",
    "df_prophage_label.columns = [\"Prophage_name\",\"KL_type\",\"Infected_ancestor\",\"n_clades\",\"siblings\",\"n_ancestors\",\"n_KL_swaps\",\"old_KL_types\",\"all_old_KL_types\"]\n",
    "\n",
    "df_anubis_return_emb = pd.read_csv(f\"{path_project}/embeddings/anubis_return.esm2.embedding.csv\" , sep = \",\", header = None)\n",
    "df_anubis_return_info = pd.read_csv(f\"{path_project}/Anubis_return.predictions.0709.big.annotated.tsv\" , sep = \"\\t\", names = info_col)"
   ]
  }
 ],
 "metadata": {
  "kernelspec": {
   "display_name": "ML_work",
   "language": "python",
   "name": "ml_work"
  },
  "language_info": {
   "codemirror_mode": {
    "name": "ipython",
    "version": 3
   },
   "file_extension": ".py",
   "mimetype": "text/x-python",
   "name": "python",
   "nbconvert_exporter": "python",
   "pygments_lexer": "ipython3",
   "version": "3.11.4"
  },
  "widgets": {
   "application/vnd.jupyter.widget-state+json": {
    "state": {},
    "version_major": 2,
    "version_minor": 0
   }
  }
 },
 "nbformat": 4,
 "nbformat_minor": 5
}
