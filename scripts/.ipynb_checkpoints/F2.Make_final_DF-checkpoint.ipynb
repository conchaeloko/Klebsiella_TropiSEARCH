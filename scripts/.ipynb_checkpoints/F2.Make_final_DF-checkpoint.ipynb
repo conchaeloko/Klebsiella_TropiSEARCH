{
 "cells": [
  {
   "cell_type": "code",
   "execution_count": null,
   "id": "bfa50201-651c-40fa-a48b-f982b8c22acc",
   "metadata": {},
   "outputs": [],
   "source": [
    "rsync -avzhe ssh \\\n",
    "conchae@garnatxa.srv.cpd:/home/conchae/prediction_depolymerase_tropism/prophage_prediction/prophage_labeling/phageboost/info/prophage_data.clusters_80.phageboost_70.2504.tsv \\\n",
    "/media/concha-eloko/Linux/PPT_clean"
   ]
  },
  {
   "cell_type": "markdown",
   "id": "4e1b6796-d6a3-4297-8d21-38d4b749ac5c",
   "metadata": {},
   "source": [
    "# Goal : Generate the final Dataframe with the non redundant protein sequences, with all the relevant information\n",
    "***\n",
    "## I. DepoScope method (Anubis return)\n",
    "## II. HMM profile DB (PPT)\n",
    "## III. Blastp Bea DB (Minibatch)\n",
    "***"
   ]
  },
  {
   "cell_type": "markdown",
   "id": "cb45a9c8-50a9-4cce-a4c0-2c221fe13c65",
   "metadata": {},
   "source": [
    "### I. Deposcope method :"
   ]
  },
  {
   "cell_type": "markdown",
   "id": "b2807108-1022-44f9-b338-fee59364868d",
   "metadata": {},
   "source": [
    "> Anubis return"
   ]
  },
  {
   "cell_type": "code",
   "execution_count": 11,
   "id": "70aeda55-6bd1-4733-bbd3-e3410231519b",
   "metadata": {},
   "outputs": [],
   "source": [
    "import os \n",
    "import pandas as pd\n",
    "from tqdm import tqdm \n",
    "import warnings\n",
    "warnings.filterwarnings('ignore')\n",
    "\n",
    "# local :\n",
    "path_project = \"/media/concha-eloko/Linux/PPT_clean\"\n",
    "\n",
    "info_col = [\"prot_name\",\"start\",\"end\",\"domain_seq\",\"full_seq\",\"dpo_index\"]\n",
    "\n",
    "df_prophage_label = pd.read_csv(f\"{path_project}/prophage_data.clusters_80.phageboost_70.2504.tsv\" , sep = \"\\t\", skiprows=1)\n",
    "df_prophage_label.columns = [\"Prophage_name\",\"KL_type\",\"Infected_ancestor\",\"n_clades\",\"siblings\",\"n_ancestors\",\"n_KL_swaps\",\"old_KL_types\",\"all_old_KL_types\"]\n",
    "\n",
    "df_anubis_return_emb = pd.read_csv(f\"{path_project}/embeddings/anubis_return.esm2.embedding.csv\" , sep = \",\", header = None)\n",
    "df_anubis_return_info = pd.read_csv(f\"{path_project}/Anubis_return.predictions.0709.big.annotated.tsv\" , sep = \"\\t\", names = info_col)"
   ]
  },
  {
   "cell_type": "code",
   "execution_count": 62,
   "id": "23ad699a-42a4-455d-a1c8-0f3606d6694e",
   "metadata": {},
   "outputs": [],
   "source": [
    "df_anubis_return_info_150[\"Dataset\"] = \"anubis_return\""
   ]
  },
  {
   "cell_type": "code",
   "execution_count": 65,
   "id": "1800530f-e416-4f08-ae64-3acef062d04d",
   "metadata": {},
   "outputs": [],
   "source": [
    "df_anubis_return_info_150_core = df_anubis_return_info_150[[\"dpo_index\", \"full_seq\",\"Dataset\"]]"
   ]
  },
  {
   "cell_type": "code",
   "execution_count": 66,
   "id": "272f455d-5453-41f7-833f-8c3ce1234296",
   "metadata": {},
   "outputs": [],
   "source": [
    "df_anubis_return_info_150 = df_anubis_return_info[df_anubis_return_info[\"domain_seq\"].str.len() >= 150]\n",
    "len(df_anubis_return_info_150[\"full_seq\"].unique())\n",
    "df_anubis_return_info_150_core.to_csv(f\"{path_work}/DF_core.anubis_return_150.csv\" , header = 0, index = False , sep = \"\\t\")"
   ]
  },
  {
   "cell_type": "code",
   "execution_count": 19,
   "id": "d343a854-5b83-4fb1-b552-366bcd3bbd34",
   "metadata": {},
   "outputs": [
    {
     "data": {
      "text/plain": [
       "array(['MSVPNQTPYNIYTANGLTTVFTYEFYIISASDLRVSINGDVVTSGYTVAGVGNKDGGDITFLTPPANGAVVMLERMVPTYRLTDYQDNGDLLADTVNKDFDRIWMAIQRAFIDLGFALTRPFLGGPFNAKGYRIENLADPVNSQDAATKNFVINEGKNNLSRTLRVPEANIGLVPGVNIRQNSLLGFNSNGDPIPVFSWSATADLAIKLASSIGATLIGYSANEQAALRTLQSRLKDFVNINDYWFPTDGDDFYPALNKALSVSPHVLIPPGKHYLKSTVSLISGARLIGLGPNSILSSPEAVSSNGAEMITVLRTTGASDILLQGLTIEGGCSEIVSTKRAVRGVRFIECQDVRVIDCEVNNTGDWALSFEKNDRVSVSRYKHRGTVVTNLNGGRDGLHFLDCVDFSATDLDIVSGDDMVGCTSETRDQRNASIKGVRGYSGIGSCVIFNEEGTTTNSTVNVLVEDVRVTNGQTVRNVVRVQSINGANVTGVIIRGIRGTGRNHGIQVTSAATMTNVDISDVNVTSVNQHGVYLNRINNLSASGRATAQNSSFDGWNITSCNYFDVQPAALSSPGWGVQVLNSAHFTMNGNCYNNGAGLFAAANGGNGRINGCSNYNATGVYVGGSTTSYYGLFNDETPTGRVDPSTVCSGYIARNRPRNLNALRDAYAACSFGQTVSGSISSQGAINCSVELISDGRYKVNFSAPFESTFYRPEIIAQIMNQDLIVRPIAKEVSYYTFEVRNSSGVALANFILCEFKKAI',\n",
       "       'MRANLIKTNFTAGEISPRLMGRVDIARYANGAKIIENAVCVVQGGVVRRPGTRFAAAAKYGDRTARLIPYVFNRSQAYMLEFGDGYLRIYQNGRQLVNDDNTPYEIASPYTVDMLSEVNYVQGADTMFLVHQSVPPHRLQRKGQTDWVLEAAPFIVEPFDEIRDTPEKWCKPSVKEFVGSEITLTLSDAEPADDDDSPAFTGTGWVADDVGSYVRINSGLVLIKSITSAQVAVGTIRTDLSATQAASPGAWTREDTVWTEEFGYPGAVTLYQQRLVLAGSPQYPQTIWWSETGVYLSFELGTDDDDAISFTLSSDQLNPIVHLAQMNTLIALTYGGEFTITAGSDAAITPTNISVKNPSPYGCNSIRPVRVGTEIMFIQRAGKKLYAVAYDPDSYVSYSANDLTVLAEHITAGGVLDMAYQQQPDAFVWLIRADGVLVTMGIDRAQDVVAWSRQITDGVFESVASIPSESDDVIYVLVRREVNGETVRYVEVFDSTLNTDSAVTGSSSEGATTWTGLSHLNGKTVDVVADGSVMPQATVTDGQITLSRKAKKIEVGLHYETTIQTLTPEISTTEGTTQNARKRTSEVTLRFMETTGAECNGQVIPFRTFGPKILNQPAPLFTGDHYFGKLGWERGEDTLIIQQRQPLPFHLLAIIFTFSSNGG',\n",
       "       'MSISKRNFLKAVSCAYFFYSFKALTKVNQPIEDYISTKDKNTWPSKVHRVEEFYTSTDRDYSDAILRGINYCSLNNCVLFFSDKYKISRSIILPDNTYIMGKEGALLYCDTDKPISIFSATSKKNINIKGLSVDGGVTEKTGKNYTRLVRFIKCVDITINSFKARNSADWCISFEACKIIRLEDIIVSGGGHLKPGGRDGIHFLDCSYFYIDRADITSGDDCIGITTQYGNSYYGSINNVTGSSEIGSIIACNEEQKKDKTYYASNIGFINIANVSVKNNGTARNIVRFFAYNDHSNISNIKLSRIDGISKSYGVYIGGVTNLTLNRINVSSLNKHAIYLVKSKNIQAQNLAYGLSRVVGYYGVSIFNCENVSGLFKSHNVNGDKKILITKSKVIKLTDN',\n",
       "       ...,\n",
       "       'MLGGFIVFIAFMNFAQGGDIRNVSQPEIPLSCKVLKADKSVDSTRAIQNALDSCAKGRAVLLSISGKYRIFYSGPLNLPSGVSLWVDQGATLAAIANPSLFDTGGMSCGKLDHSGKGCHPFIQVKNASDSGIYGLGTIDGQGNSIMHGQNQTWWQLANEAKKSSMRQNAPRLIQIDNSKNITLFQITLKNSPNFHVVGNNTDGLTLWGIKIDTPASARNTDGFDPMGSKNVTLAHSSISTGDDNVAIKAGNRESSHISILDNHFGSGHGMSIGSEVNKGVSDVTVNGLIFNSTTNGLRIKSDRSRGGLVAGVTYKNICMQNVKNPISLDTHYNINADGQLIPEFRNILFSNIRVLSAGNFVFDGYSNTRPARVTLRDVHITDGSSWRAKNAIIQGKVAKDAAGTCE',\n",
       "       'MAVLNPPLGTTTPEIFLDNVKRADELVNGPAGTVSDRAGEPLDTWRQMMAKNDEVRQNLIPLSKQYQTLAAAQADIANIPEGSTTYYRSPDDSALAIEVINVGGTLTATGRKMPSSQAVDSVRGLIDSQGENPFSVVFKNGLSPFGYKDGRLYADEFQKLYSSDAGLEFGGSIIDNNPPDGWRFVIYYRNGLVMCGQRNDGTMIGFGEGGSGGGSIEPGDTAADYDSIRNYTGTATVRDVVGQRTGGRFVVNPDDTTSEEIPGGILVDVLGRRWYRQAEFVSYDMFMAPRVPGATLLAVQVALAMGNRSSAIAYLSGVEAADAAIQNAHRYANLLNIPVRQNDGAFLVLVDHEAEVRTKTSLGGSIIFTSADSGVNEIRWGPLRLLDPTAPEPKRMFNIKGKERIELTPAELATFNTSYSQYLKKGSNYLPYPKLYPYYGGMFYALSNEVEIYRNGNRDNPRDRVLYRDFSRIGRNGALTERIVKDIPTGSIGYAAIIPKEDDFLEFECPHFIELGDSRRFLNIEVSRPMVRIKNLVHTSWQTASTSLESRVVISAREVFDVFCEYGETTCHPAENGSYVICIRDTCNVHIDNYYGLHGWGFQGHHGIKGLYGNRNTFNRVDFHSFGYDVFFKDLTVKGRQINLQGGNEWSIEKLRLYITRTSGDAVEYFLNYAIGMRQDYASDCDGILNIDGVTVMWDRGLPAWYNTTRSFDLVRIIDTANSLDQGIDSKLPPTITIRNIVFDLAGIQTGRPNDNFEFCAVTALRSQFTDYAVTGRKTLLPDNITVDGMTAINVQPTQNAVMCGIKLPADLYQNTVGSRNKKGSDGTNARITLRNLHSVINNPSIELAAAQTVDIPGDAANWTTDYLNSDYSWIPRITLDNCIPAIIHTPGAKAVVEIHGGKLARVYTNGNGNRCRVTSADIELIPDASGVTYFAADKTLVTGCSWLNPASGATYPGTLRGSGNEMIGESAKAPNLPAKAFIEE',\n",
       "       'MFNIKGKERIELTPAELATFNTSYSQYLKKGSNYLPYPKLYPYYGGMFYALSNEVEIYRNGNRDNPRDRVLYREFSRIGRNGALTERIVKDIPTGSIGYAAIIPKEDDFLEFECPHFIELGDSRRFLNIEVSRPMVRIKNLVHTSWQTASTSLESRVVISAREVFDVFCEYGETTCHPAENGSYVICIRDTCNVHIDNYYGLHGWGFQGHHGIKGLYGNRNTFNRVDFHSFGYDVFFKDLTVKGRQINLQGGNEWSIEKLRLYITRTSGDAVEYFLNYAIGMRQDYASDCDGILNIDGVTVMWDRGLPAWYNTTRSFDLVRIIDTANSLDQGIDSKLPPTITIRNMVFDLAGIQTGRPNDNFEFCAVTALRSQFTDYSVTGRKTLLPDNITVDGMTAINVQPTQNAVMCGIKLPADLYQNTVGSRNKKGSDGTNARITLRNLHSVINNPSIELAAAQTVDIPGDAANWTADYLNSDYSWIPRITLENCIPAIIHAPGAKAVVDIHGGTLARVYTNGNGNRCRVTGADIELIPDASGVTYFAADKTLVTGCSWLNPASGATYPGTLRGSGNEMIGESAKAPNLPAKAFIEE'],\n",
       "      dtype=object)"
      ]
     },
     "execution_count": 19,
     "metadata": {},
     "output_type": "execute_result"
    }
   ],
   "source": [
    "df_anubis_return_info[\"full_seq\"].unique()"
   ]
  },
  {
   "cell_type": "markdown",
   "id": "79c6357d-85c2-44c2-89e6-9e9628c403eb",
   "metadata": {},
   "source": [
    "> see the difference with DF_final "
   ]
  },
  {
   "cell_type": "code",
   "execution_count": 36,
   "id": "7c9e8de0-1f96-4b07-868b-022c58a7da3f",
   "metadata": {},
   "outputs": [],
   "source": [
    "import pandas as pd \n",
    "import os \n",
    "from Bio import SeqIO\n",
    "\n",
    "path_work = \"/media/concha-eloko/Linux/PPT_clean\"\n",
    "\n",
    "DF_info = pd.read_csv(f\"{path_work}/DF_Dpo.final.2705.tsv\", sep = \"\\t\" ,  header = 0 )\n",
    "\n",
    "DF_embeddings = pd.read_csv(f\"{path_work}/Dpo.2705.embeddings.ultimate.csv\", sep = \",\", header= None )\n",
    "DF_embeddings.rename(columns={0: 'index'}, inplace=True)\n",
    "\n",
    "all_data = pd.merge(DF_info , DF_embeddings , on = \"index\")\n",
    "all_data_info = all_data[[\"Phage\", \"KL_type_LCA\", \"Infected_ancestor\", \"index\",\"Dataset\", \"seq\"]]\n"
   ]
  },
  {
   "cell_type": "code",
   "execution_count": 56,
   "id": "c4928fe9-cdb8-4e8a-917f-24cba46bc34f",
   "metadata": {},
   "outputs": [],
   "source": [
    "all_data_info_unique = all_data_info.drop_duplicates(subset = [\"seq\"], keep = \"first\")"
   ]
  },
  {
   "cell_type": "code",
   "execution_count": 52,
   "id": "657e3d62-431e-4284-8bde-252c42c7b0e8",
   "metadata": {},
   "outputs": [],
   "source": [
    "dico_similaire = {\"ppt\" : [] , \"minibatch\" : [], \"anubis\" : [], \"new\" : []}\n",
    "for seq in df_anubis_return_info_150[\"full_seq\"].unique() : \n",
    "    if seq in all_data_info_unique[\"seq\"].tolist() : \n",
    "        origin = all_data_info_unique[all_data_info_unique[\"seq\"] == seq][\"Dataset\"].values[0]\n",
    "        dico_similaire[origin].append(seq)\n",
    "    else : \n",
    "        dico_similaire[\"new\"].append(seq)"
   ]
  },
  {
   "cell_type": "code",
   "execution_count": 53,
   "id": "9ad860b7-aff8-4c0b-8a01-6828a7b8bb5b",
   "metadata": {},
   "outputs": [
    {
     "data": {
      "text/plain": [
       "(1195, 355, 1587, 710)"
      ]
     },
     "execution_count": 53,
     "metadata": {},
     "output_type": "execute_result"
    }
   ],
   "source": [
    "len(dico_similaire[\"ppt\"]) , len(dico_similaire[\"minibatch\"]) , len(dico_similaire[\"anubis\"]) , len(dico_similaire[\"new\"])"
   ]
  },
  {
   "cell_type": "code",
   "execution_count": 54,
   "id": "77249406-bc56-4d1e-ad0f-a1ec92b09685",
   "metadata": {},
   "outputs": [
    {
     "data": {
      "text/plain": [
       "2297"
      ]
     },
     "execution_count": 54,
     "metadata": {},
     "output_type": "execute_result"
    }
   ],
   "source": [
    "1587 + 710"
   ]
  },
  {
   "cell_type": "markdown",
   "id": "0a4064e4-ec00-4b10-8056-f87ea787c99f",
   "metadata": {},
   "source": [
    "***\n",
    "### II. PD domain DB :"
   ]
  },
  {
   "cell_type": "code",
   "execution_count": 30,
   "id": "ab26a66c-feda-41f4-8c9e-5964cd74b1c1",
   "metadata": {},
   "outputs": [],
   "source": [
    "import os \n",
    "import pandas as pd\n",
    "from tqdm import tqdm \n",
    "import warnings\n",
    "warnings.filterwarnings('ignore')\n",
    "\n",
    "# local :\n",
    "path_project = \"/media/concha-eloko/Linux/PPT_clean\"\n",
    "\n",
    "info_col = [\"prot_name\",\"start\",\"end\",\"domain_seq\",\"full_seq\",\"dpo_index\"]\n",
    "\n",
    "df_prophage_label = pd.read_csv(f\"{path_project}/prophage_data.clusters_80.phageboost_70.2504.tsv\" , sep = \"\\t\", skiprows=1)\n",
    "df_prophage_label.columns = [\"Prophage_name\",\"KL_type\",\"Infected_ancestor\",\"n_clades\",\"siblings\",\"n_ancestors\",\"n_KL_swaps\",\"old_KL_types\",\"all_old_KL_types\"]"
   ]
  },
  {
   "cell_type": "code",
   "execution_count": 31,
   "id": "fee9262f-e3ea-49ac-ab97-1908a736c19b",
   "metadata": {},
   "outputs": [],
   "source": [
    "DF_info = pd.read_csv(f\"{path_work}/DF_Dpo.final.2705.tsv\", sep = \"\\t\" ,  header = 0 )\n",
    "\n",
    "DF_embeddings = pd.read_csv(f\"{path_work}/Dpo.2705.embeddings.ultimate.csv\", sep = \",\", header= None )\n",
    "DF_embeddings.rename(columns={0: 'index'}, inplace=True)\n",
    "\n",
    "all_data = pd.merge(DF_info , DF_embeddings , on = \"index\")\n",
    "all_data_info = all_data[[\"Phage\", \"KL_type_LCA\", \"Infected_ancestor\", \"index\",\"Dataset\", \"seq\"]]\n"
   ]
  },
  {
   "cell_type": "code",
   "execution_count": 35,
   "id": "537b0583-9026-4586-9e74-0e26d5a57bb0",
   "metadata": {},
   "outputs": [
    {
     "data": {
      "text/html": [
       "<div>\n",
       "<style scoped>\n",
       "    .dataframe tbody tr th:only-of-type {\n",
       "        vertical-align: middle;\n",
       "    }\n",
       "\n",
       "    .dataframe tbody tr th {\n",
       "        vertical-align: top;\n",
       "    }\n",
       "\n",
       "    .dataframe thead th {\n",
       "        text-align: right;\n",
       "    }\n",
       "</style>\n",
       "<table border=\"1\" class=\"dataframe\">\n",
       "  <thead>\n",
       "    <tr style=\"text-align: right;\">\n",
       "      <th></th>\n",
       "      <th>Phage</th>\n",
       "      <th>KL_type_LCA</th>\n",
       "      <th>Infected_ancestor</th>\n",
       "      <th>Protein_name</th>\n",
       "      <th>Dataset</th>\n",
       "      <th>index</th>\n",
       "      <th>seq</th>\n",
       "      <th>prophage_id</th>\n",
       "    </tr>\n",
       "  </thead>\n",
       "  <tbody>\n",
       "    <tr>\n",
       "      <th>0</th>\n",
       "      <td>GCF_016651625.1__phage29</td>\n",
       "      <td>KL43</td>\n",
       "      <td>GCF_016651625.1</td>\n",
       "      <td>GCF_016651625.1__phage29__132</td>\n",
       "      <td>ppt</td>\n",
       "      <td>ppt__0</td>\n",
       "      <td>MKIALMMENSQANKNAIILKELNAVADEKGFPVYNVGMSDENDHHL...</td>\n",
       "      <td>prophage_12186</td>\n",
       "    </tr>\n",
       "    <tr>\n",
       "      <th>1</th>\n",
       "      <td>GCF_016651625.1__phage29</td>\n",
       "      <td>KL43</td>\n",
       "      <td>GCF_016651625.1</td>\n",
       "      <td>GCF_016651625.1__phage29__142</td>\n",
       "      <td>ppt</td>\n",
       "      <td>ppt__1</td>\n",
       "      <td>MSVPNQTPYNIYTANGLTTVFTYEFYIISASDLRVSINGDVVTSGY...</td>\n",
       "      <td>prophage_12186</td>\n",
       "    </tr>\n",
       "    <tr>\n",
       "      <th>2</th>\n",
       "      <td>GCF_016651625.1__phage29</td>\n",
       "      <td>KL43</td>\n",
       "      <td>GCF_016651625.1</td>\n",
       "      <td>GCF_016651625.1__phage29__137</td>\n",
       "      <td>ppt</td>\n",
       "      <td>ppt__2</td>\n",
       "      <td>MFSGLCAFPLTPLHQQKFDEKAFIRILARLTDAGVDSLGILGSTGS...</td>\n",
       "      <td>prophage_12186</td>\n",
       "    </tr>\n",
       "    <tr>\n",
       "      <th>4</th>\n",
       "      <td>GCF_016651625.1__phage10</td>\n",
       "      <td>KL43</td>\n",
       "      <td>n14711471</td>\n",
       "      <td>GCF_016651625.1__phage10__27</td>\n",
       "      <td>ppt</td>\n",
       "      <td>ppt__3</td>\n",
       "      <td>MLSTTAFLAIAMQCAASIHPSTAFDVARVESGFNPYAIAEIVPKAG...</td>\n",
       "      <td>prophage_117</td>\n",
       "    </tr>\n",
       "    <tr>\n",
       "      <th>5</th>\n",
       "      <td>GCF_016651625.1__phage12</td>\n",
       "      <td>KL43</td>\n",
       "      <td>GCF_016651625.1</td>\n",
       "      <td>GCF_016651625.1__phage12__59</td>\n",
       "      <td>ppt</td>\n",
       "      <td>ppt__4</td>\n",
       "      <td>MSISKRNFLKAVSCAYFFYSFKALTKVNQPIEDYISTKDKNTWPSK...</td>\n",
       "      <td>prophage_924</td>\n",
       "    </tr>\n",
       "    <tr>\n",
       "      <th>...</th>\n",
       "      <td>...</td>\n",
       "      <td>...</td>\n",
       "      <td>...</td>\n",
       "      <td>...</td>\n",
       "      <td>...</td>\n",
       "      <td>...</td>\n",
       "      <td>...</td>\n",
       "      <td>...</td>\n",
       "    </tr>\n",
       "    <tr>\n",
       "      <th>53562</th>\n",
       "      <td>GCF_018137815.1__phage7</td>\n",
       "      <td>KL63</td>\n",
       "      <td>GCF_018137815.1</td>\n",
       "      <td>GCF_018137815.1__phage7__6</td>\n",
       "      <td>ppt</td>\n",
       "      <td>ppt__7150</td>\n",
       "      <td>MLGGFIVFIAFMNFAQGGDIRNVSQPEIPLSCKVLKADKSVDSTRA...</td>\n",
       "      <td>prophage_2304</td>\n",
       "    </tr>\n",
       "    <tr>\n",
       "      <th>53563</th>\n",
       "      <td>GCF_018137815.1__phage6</td>\n",
       "      <td>KL63</td>\n",
       "      <td>GCF_018137815.1</td>\n",
       "      <td>GCF_018137815.1__phage6__194</td>\n",
       "      <td>ppt</td>\n",
       "      <td>ppt__7151</td>\n",
       "      <td>MIVSAPSDYREAARRRLPRFLFDYIDGGAVAENTMNANATELASVA...</td>\n",
       "      <td>prophage_10175</td>\n",
       "    </tr>\n",
       "    <tr>\n",
       "      <th>53580</th>\n",
       "      <td>GCF_004833805.1__phage8</td>\n",
       "      <td>KL10</td>\n",
       "      <td>n762762</td>\n",
       "      <td>GCF_004833805.1__phage8__41</td>\n",
       "      <td>ppt</td>\n",
       "      <td>ppt__7152</td>\n",
       "      <td>MTQSAMCIPLWPARNGNTAHLVMCPFAGGSSSAFRHWQAEQLADCA...</td>\n",
       "      <td>prophage_117</td>\n",
       "    </tr>\n",
       "    <tr>\n",
       "      <th>53582</th>\n",
       "      <td>GCF_006151965.1__phage17</td>\n",
       "      <td>KL39</td>\n",
       "      <td>GCF_006151965.1</td>\n",
       "      <td>GCF_006151965.1__phage17__9</td>\n",
       "      <td>ppt</td>\n",
       "      <td>ppt__7153</td>\n",
       "      <td>MVAKSIVDIDVNDDKFVAFMERFREYQSALDDLPEAWRVAAVGIGE...</td>\n",
       "      <td>prophage_9849</td>\n",
       "    </tr>\n",
       "    <tr>\n",
       "      <th>53607</th>\n",
       "      <td>GCF_016903195.1__phage14</td>\n",
       "      <td>KL13</td>\n",
       "      <td>GCF_016903195.1</td>\n",
       "      <td>GCF_016903195.1__phage14__4882</td>\n",
       "      <td>ppt</td>\n",
       "      <td>ppt__7154</td>\n",
       "      <td>MSKPFLKWAGGKYTQLADLFVQIPAGKRLIEPFVGGGSVFLNSEKH...</td>\n",
       "      <td>prophage_12215</td>\n",
       "    </tr>\n",
       "  </tbody>\n",
       "</table>\n",
       "<p>7129 rows × 8 columns</p>\n",
       "</div>"
      ],
      "text/plain": [
       "                          Phage KL_type_LCA Infected_ancestor  \\\n",
       "0      GCF_016651625.1__phage29        KL43   GCF_016651625.1   \n",
       "1      GCF_016651625.1__phage29        KL43   GCF_016651625.1   \n",
       "2      GCF_016651625.1__phage29        KL43   GCF_016651625.1   \n",
       "4      GCF_016651625.1__phage10        KL43         n14711471   \n",
       "5      GCF_016651625.1__phage12        KL43   GCF_016651625.1   \n",
       "...                         ...         ...               ...   \n",
       "53562   GCF_018137815.1__phage7        KL63   GCF_018137815.1   \n",
       "53563   GCF_018137815.1__phage6        KL63   GCF_018137815.1   \n",
       "53580   GCF_004833805.1__phage8        KL10           n762762   \n",
       "53582  GCF_006151965.1__phage17        KL39   GCF_006151965.1   \n",
       "53607  GCF_016903195.1__phage14        KL13   GCF_016903195.1   \n",
       "\n",
       "                         Protein_name Dataset      index  \\\n",
       "0       GCF_016651625.1__phage29__132     ppt     ppt__0   \n",
       "1       GCF_016651625.1__phage29__142     ppt     ppt__1   \n",
       "2       GCF_016651625.1__phage29__137     ppt     ppt__2   \n",
       "4        GCF_016651625.1__phage10__27     ppt     ppt__3   \n",
       "5        GCF_016651625.1__phage12__59     ppt     ppt__4   \n",
       "...                               ...     ...        ...   \n",
       "53562      GCF_018137815.1__phage7__6     ppt  ppt__7150   \n",
       "53563    GCF_018137815.1__phage6__194     ppt  ppt__7151   \n",
       "53580     GCF_004833805.1__phage8__41     ppt  ppt__7152   \n",
       "53582     GCF_006151965.1__phage17__9     ppt  ppt__7153   \n",
       "53607  GCF_016903195.1__phage14__4882     ppt  ppt__7154   \n",
       "\n",
       "                                                     seq     prophage_id  \n",
       "0      MKIALMMENSQANKNAIILKELNAVADEKGFPVYNVGMSDENDHHL...  prophage_12186  \n",
       "1      MSVPNQTPYNIYTANGLTTVFTYEFYIISASDLRVSINGDVVTSGY...  prophage_12186  \n",
       "2      MFSGLCAFPLTPLHQQKFDEKAFIRILARLTDAGVDSLGILGSTGS...  prophage_12186  \n",
       "4      MLSTTAFLAIAMQCAASIHPSTAFDVARVESGFNPYAIAEIVPKAG...    prophage_117  \n",
       "5      MSISKRNFLKAVSCAYFFYSFKALTKVNQPIEDYISTKDKNTWPSK...    prophage_924  \n",
       "...                                                  ...             ...  \n",
       "53562  MLGGFIVFIAFMNFAQGGDIRNVSQPEIPLSCKVLKADKSVDSTRA...   prophage_2304  \n",
       "53563  MIVSAPSDYREAARRRLPRFLFDYIDGGAVAENTMNANATELASVA...  prophage_10175  \n",
       "53580  MTQSAMCIPLWPARNGNTAHLVMCPFAGGSSSAFRHWQAEQLADCA...    prophage_117  \n",
       "53582  MVAKSIVDIDVNDDKFVAFMERFREYQSALDDLPEAWRVAAVGIGE...   prophage_9849  \n",
       "53607  MSKPFLKWAGGKYTQLADLFVQIPAGKRLIEPFVGGGSVFLNSEKH...  prophage_12215  \n",
       "\n",
       "[7129 rows x 8 columns]"
      ]
     },
     "execution_count": 35,
     "metadata": {},
     "output_type": "execute_result"
    }
   ],
   "source": [
    "df_ppt = all_data_info[all_data_info[\"Dataset\"] == \"ppt\"]\n",
    "df_ppt_unique = df_ppt.drop_duplicates(subset=[\"seq\"] , keep = \"first\")\n",
    "df_ppt_unique = df_ppt_unique[[\"index\", \"seq\",\"Dataset\"]]\n",
    "df_ppt_unique.to_csv(f\"{path_work}/DF_core.ppt.csv\" , header = 0, index = False , sep = \"\\t\")"
   ]
  },
  {
   "cell_type": "markdown",
   "id": "72c58f12-089b-44d2-805f-972b60cbf899",
   "metadata": {},
   "source": [
    "***\n",
    "### III. Minibatch : "
   ]
  },
  {
   "cell_type": "code",
   "execution_count": null,
   "id": "4a96e810-830c-45ae-946f-2925ea315c7c",
   "metadata": {},
   "outputs": [],
   "source": []
  }
 ],
 "metadata": {
  "kernelspec": {
   "display_name": "ML_work",
   "language": "python",
   "name": "ml_work"
  },
  "language_info": {
   "codemirror_mode": {
    "name": "ipython",
    "version": 3
   },
   "file_extension": ".py",
   "mimetype": "text/x-python",
   "name": "python",
   "nbconvert_exporter": "python",
   "pygments_lexer": "ipython3",
   "version": "3.11.4"
  },
  "widgets": {
   "application/vnd.jupyter.widget-state+json": {
    "state": {},
    "version_major": 2,
    "version_minor": 0
   }
  }
 },
 "nbformat": 4,
 "nbformat_minor": 5
}
