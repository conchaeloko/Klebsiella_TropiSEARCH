{
 "cells": [
  {
   "cell_type": "code",
   "execution_count": 1,
   "id": "ad635f4c-6c8b-42ae-b92d-98b3a9da7530",
   "metadata": {},
   "outputs": [],
   "source": [
    "import os\n",
    "import pandas as pd\n",
    "import matplotlib.pyplot as plt\n",
    "\n",
    "path_matrix = \"/media/concha-eloko/Linux/77_strains_phage_project\"\n",
    "\n",
    "matrix = pd.read_csv(f\"{path_matrix}/matrix_celia.tsv\",sep = \"\\t\", header=0,skipfooter=1, engine='python',  index_col=0, skip_blank_lines=True).fillna(0)\n",
    "strip_names = list(map(lambda x : \"\".join(x.split(\" \")) ,list(matrix.columns)))\n",
    "matrix.columns = strip_names\n"
   ]
  },
  {
   "cell_type": "code",
   "execution_count": 4,
   "id": "c64059e5-1662-4bb9-95fe-b7a426571ad8",
   "metadata": {},
   "outputs": [],
   "source": [
    "hr_phages = {}\n",
    "\n",
    "for phage in matrix.columns :\n",
    "    phage_df = matrix[phage]\n",
    "    kltypes = [kltype for kltype, score in phage_df.items() if score > 0 ]\n",
    "    hr_phages[phage] = kltypes"
   ]
  },
  {
   "cell_type": "code",
   "execution_count": 5,
   "id": "2edda296-3650-4899-b4b9-9be664069a26",
   "metadata": {},
   "outputs": [
    {
     "name": "stdout",
     "output_type": "stream",
     "text": [
      "{'K10PH82C1': ['K10'],\n",
      " 'K11PH164C1': ['K11', 'K57'],\n",
      " 'K12P1_1': ['K12', 'K28', 'K69'],\n",
      " 'K13PH07C1L': ['K13'],\n",
      " 'K13PH07C1S': ['K13'],\n",
      " 'K14PH164C1': ['K14'],\n",
      " 'K15PH90': ['K15'],\n",
      " 'K16PH164C3': ['K16'],\n",
      " 'K17alpha61': ['K17'],\n",
      " 'K17alpha62': ['K17', 'K62'],\n",
      " 'K18PH07C1': ['K18'],\n",
      " 'K19PH14C4P1': ['K11', 'K19', 'K28', 'K69'],\n",
      " 'K1PH164C1': ['K1'],\n",
      " 'K1lambda5': ['K1', 'K54'],\n",
      " 'K2064PH2': ['K11', 'K14', 'K20', 'K27', 'K28', 'K33', 'K35', 'K60', 'K62', 'K63', 'K64', 'K69', 'K70', 'K74'],\n",
      " 'K2069PH1': ['K20', 'K27', 'K28', 'K33', 'K35', 'K62', 'K64', 'K69', 'K70'],\n",
      " 'K2069PH2': ['K20', 'K62', 'K64', 'K69', 'K70', 'K72'],\n",
      " 'K21lambda1': ['K21'],\n",
      " 'K22PH164C1': ['K22', 'K37'],\n",
      " 'K23PH08C2': ['K23', 'K54', 'K58'],\n",
      " 'K24PH164C1': ['K24'],\n",
      " 'K25PH129C1': ['K25'],\n",
      " 'K26PH128C1': ['K26', 'K74'],\n",
      " 'K27PH129C1': ['K27'],\n",
      " 'K28PH129': ['K28', 'K69'],\n",
      " 'K29PH164C1': ['K24', 'K29', 'K62', 'K69', 'K79'],\n",
      " 'K2PH164C1': ['K2'],\n",
      " 'K2PH164C2': ['K2'],\n",
      " 'K2alfa62': ['K2'],\n",
      " 'K30lambda2_2': ['K7', 'K11', 'K13', 'K14', 'K21', 'K26', 'K29', 'K30', 'K31', 'K32', 'K35', 'K36', 'K47', 'K56', 'K64', 'K65', 'K67', 'K68'],\n",
      " 'K31PH164': ['K31', 'K37'],\n",
      " 'K32PH164C1': ['K32', 'K56'],\n",
      " 'K33PH14C2': ['K11', 'K28', 'K33'],\n",
      " 'K34PH164': ['K11', 'K34', 'K49', 'K60', 'K64', 'K68', 'K69'],\n",
      " 'K35PH164C3': ['K30', 'K35', 'K36'],\n",
      " 'K36PH128C2B': ['K30', 'K36', 'K59'],\n",
      " 'K37PH164C1': ['K2', 'K37'],\n",
      " 'K38PH09C2': ['K38'],\n",
      " 'K39PH122C2': ['K36', 'K39'],\n",
      " 'K3PH164': ['K2', 'K3'],\n",
      " 'K40PH129C1': ['K40'],\n",
      " 'K41P2': ['K39', 'K41'],\n",
      " 'K42PH8': ['K36', 'K42'],\n",
      " 'K43PH164C1': ['K36', 'K43'],\n",
      " 'K44PH129C1': ['K37', 'K44'],\n",
      " 'K45PH128C2': ['K45', 'K71'],\n",
      " 'K46PH129': ['K46'],\n",
      " 'K47PH6': ['K47'],\n",
      " 'K48PH164C1': ['K48'],\n",
      " 'K49PH164C2': ['K11', 'K49', 'K53', 'K56', 'K60'],\n",
      " 'K4PH164': ['K4', 'K52'],\n",
      " 'K50PH164C1': ['K43', 'K50', 'K69'],\n",
      " 'K51PH129C1': ['K51'],\n",
      " 'K52PH129C1': ['K28', 'K39', 'K52', 'K62', 'K69'],\n",
      " 'K53PH164C2': ['K53'],\n",
      " 'K54lambda1_1_1': ['K24', 'K54', 'K58'],\n",
      " 'K54lambda2': ['K54'],\n",
      " 'K55P2_1': ['K55'],\n",
      " 'K56PH164C1': ['K56'],\n",
      " 'K57lambda1_2': ['K57', 'K68'],\n",
      " 'K58PH129C2': ['K58'],\n",
      " 'K59PH2': ['K30', 'K36', 'K59'],\n",
      " 'K5lambda5': ['K5'],\n",
      " 'K60PH164C1': ['K18', 'K60'],\n",
      " 'K61PH164C1': ['K61', 'K67'],\n",
      " 'K62PH164C2': ['K29', 'K62', 'K79'],\n",
      " 'K63PH128': ['K63'],\n",
      " 'K64PH164C4': ['K64'],\n",
      " 'K65PH164': ['K7', 'K27', 'K29', 'K32', 'K35', 'K36', 'K50', 'K59', 'K62', 'K65', 'K69', 'K70', 'K72', 'K79', 'K80'],\n",
      " 'K66PH128C1': ['K66'],\n",
      " 'K68QB': ['K7', 'K29', 'K32', 'K35', 'K56', 'K64', 'K68'],\n",
      " 'K69PH164C2': ['K28', 'K69'],\n",
      " 'K6PH25C3': ['K6', 'K7'],\n",
      " 'K70PH128C1': ['K11', 'K19', 'K29', 'K49', 'K69', 'K70'],\n",
      " 'K71PH129C1': ['K71'],\n",
      " 'K72PH164C2': ['K72'],\n",
      " 'K74PH129C2': ['K74'],\n",
      " 'K79PH164C1': ['K79'],\n",
      " 'K7PH164C2': ['K7'],\n",
      " 'K7PH164C3': ['K7'],\n",
      " 'K7PH164C4': ['K7', 'K21', 'K27', 'K29', 'K30', 'K31', 'K35', 'K36', 'K39', 'K52', 'K56', 'K64', 'K65', 'K69', 'K70'],\n",
      " 'K80P2': ['K80'],\n",
      " 'K81P1': ['K81'],\n",
      " 'K82P1': ['K82'],\n",
      " 'K8PH128': ['K1', 'K8'],\n",
      " 'K9PH25C2': ['K9']}\n"
     ]
    }
   ],
   "source": [
    "import pprint\n",
    "pp = pprint.PrettyPrinter(width = 150, sort_dicts = True, compact = True)\n",
    "pp.pprint(hr_phages)"
   ]
  },
  {
   "cell_type": "code",
   "execution_count": null,
   "id": "c3d214d6-35ae-4eef-b1a1-c579ca1aa156",
   "metadata": {},
   "outputs": [],
   "source": []
  }
 ],
 "metadata": {
  "kernelspec": {
   "display_name": "torch_geometric",
   "language": "python",
   "name": "torch_geometric"
  },
  "language_info": {
   "codemirror_mode": {
    "name": "ipython",
    "version": 3
   },
   "file_extension": ".py",
   "mimetype": "text/x-python",
   "name": "python",
   "nbconvert_exporter": "python",
   "pygments_lexer": "ipython3",
   "version": "3.11.4"
  },
  "widgets": {
   "application/vnd.jupyter.widget-state+json": {
    "state": {},
    "version_major": 2,
    "version_minor": 0
   }
  }
 },
 "nbformat": 4,
 "nbformat_minor": 5
}
