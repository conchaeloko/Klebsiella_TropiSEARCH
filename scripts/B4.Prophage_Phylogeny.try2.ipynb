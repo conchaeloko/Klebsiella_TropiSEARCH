{
 "cells": [
  {
   "cell_type": "markdown",
   "metadata": {},
   "source": [
    "# Run Vcontact2 with the prophage genomes\n",
    "***"
   ]
  },
  {
   "cell_type": "markdown",
   "metadata": {},
   "source": [
    "Generate the input files "
   ]
  },
  {
   "cell_type": "code",
   "execution_count": null,
   "metadata": {
    "jupyter": {
     "source_hidden": true
    }
   },
   "outputs": [],
   "source": [
    "# Create a tmp with all the candidates :\n",
    "\n",
    "import os\n",
    "import pandas as pd\n",
    "import random\n",
    "import sys\n",
    "import subprocess\n",
    "from tqdm import tqdm\n",
    "\n",
    "\n",
    "path_phageboost_pred=\"/home/conchae/prediction_depolymerase_tropism/prophage_prediction/prophage_decipher/phageboost/phageboost_prediction\"\n",
    "path_fasta=\"/home/conchae/prediction_depolymerase_tropism/prophage_prediction/prophage_similarity/phageboost/fastANI_20102022\"\n",
    "path_fastani = \"/home/conchae/prediction_depolymerase_tropism/prophage_prediction/prophage_similarity/phageboost/fastANI_20102022_out\"\n",
    "path_decipher = \"/home/conchae/prediction_depolymerase_tropism/prophage_prediction/prophage_decipher/phageboost/phageboost_70_20102022\"\n",
    "path_ktype=\"/home/conchae/prediction_depolymerase_tropism\"\n",
    "\n",
    "\n",
    "df_representant = pd.read_csv(f\"{path_fastani}/clusters_99_80.extra_clean.2004.v2.tsv\", sep = \"\\t\", header = 0)\n",
    "df_representant = df_representant.drop_duplicates(subset = [\"prophage_id\"], keep = \"first\")\n",
    "\n",
    "dico_prophage = {}\n",
    "\n",
    "for _,row in df_representant.iterrows() :\n",
    "    strain = row[\"prophage\"].split(\"__\")[0]\n",
    "    prophage = row[\"prophage\"].split(\".fasta\")[0].split(\"__\")[-1]\n",
    "    seq_id = row[\"prophage_id\"]\n",
    "    a = {\"strain\" : strain, \"prophage\" : prophage, \"prophage_n\" : seq_id}\n",
    "    dico_prophage[row[\"prophage\"]] = a\n",
    "        \n",
    "for phage in tqdm(dico_prophage):       \n",
    "    strain = dico_prophage[phage][\"strain\"]\n",
    "    prophage_id = dico_prophage[phage][\"prophage\"]\n",
    "    prophage = phage.split(\".fasta\")[0]\n",
    "    genecall = pd.read_csv(f\"{path_phageboost_pred}/{strain}/genecalls_{strain.split('.')[0]}.gff3\", sep=\"\\t\")\n",
    "    for file in os.listdir(f\"{path_phageboost_pred}/{strain}\"):\n",
    "        if file[0:6]==\"phages\":\n",
    "            resume= pd.read_csv(f\"{path_phageboost_pred}/{strain}/{file}\", skiprows=1, sep=\"\\t\")\n",
    "            break\n",
    "    attributes = resume[\"attributes\"].to_list()\n",
    "    for index_att, attri in enumerate(attributes):\n",
    "        if attri.split(\"phage_id=\")[1] == prophage_id :\n",
    "            attribute_line = attri\n",
    "            break\n",
    "    frag_id = resume[resume[\"attributes\"] == attribute_line][\"#seqid\"].values[0]\n",
    "    start_genome ,stop_genome =resume[resume[\"attributes\"] == attribute_line][\"start\"].values[0], resume[resume[\"attributes\"] == attribute_line][\"end\"].values[0]\n",
    "    print(frag_id ,start_genome, stop_genome)\n",
    "    #break\n",
    "    genecall_frag = genecall[genecall[\"contig\"] == frag_id]\n",
    "    genecall_frag_dict = genecall_frag.to_dict('records')\n",
    "    with open(f\"{path_decipher}/{strain}/{prophage_id}.multi.faa\", \"w\") as outfile_faa :\n",
    "        with open(f\"{path_decipher}/{strain}/{prophage_id}.multi.ffn\", \"w\") as outfile_ffn :\n",
    "            for line in genecall_frag_dict : \n",
    "                if line[\"start\"] in range(start_genome, stop_genome) :\n",
    "                    nt_seq, aa_seq, prot_id =line[\"DNAseq\"] , line[\"AAseq\"],  line[\"id\"]\n",
    "                    print(len(aa_seq), \"Protein_id : \", prot_id)\n",
    "                    if len(aa_seq) > 10 :\n",
    "                        outfile_faa.write(f\">{strain}__{prophage_id}__{prot_id}\\n{aa_seq}\\n\")\n",
    "                        outfile_ffn.write(f\">{strain}__{prophage_id}__{prot_id}\\n{nt_seq}\\n\")\n",
    "                        print(f\">{strain}__{prophage_id}__{prot_id}\\n{aa_seq}\\n\", f\">{strain}__{prophage_id}__{prot_id}\\n{nt_seq}\\n\")\n",
    "                \n",
    "    "
   ]
  },
  {
   "cell_type": "code",
   "execution_count": null,
   "metadata": {
    "jupyter": {
     "source_hidden": true
    }
   },
   "outputs": [],
   "source": [
    "#!/bin/bash\n",
    "#BATCH --job-name=write_multi\n",
    "#SBATCH --qos=short \n",
    "#SBATCH --ntasks=1 \n",
    "#SBATCH --cpus-per-task=4\n",
    "#SBATCH --mem=5gb \n",
    "#SBATCH --time=1-00:00:00 \n",
    "#SBATCH --output=write_multi%j.log \n",
    "\n",
    "module restore la_base\n",
    "conda activate python_311\n",
    "                \n",
    "python /home/conchae/prediction_depolymerase_tropism/prophage_prediction/prophage_phylogeny/script_file/make_multifasta.py"
   ]
  },
  {
   "cell_type": "code",
   "execution_count": null,
   "metadata": {
    "jupyter": {
     "source_hidden": true
    }
   },
   "outputs": [],
   "source": [
    "# Step one : generating the fasta file with the phages proteins and the gene_to_genome file\n",
    "import os\n",
    "import pandas as pd\n",
    "from tqdm import tqdm\n",
    "from Bio import SeqIO\n",
    "\n",
    "path_phageboost = \"/home/conchae/prediction_depolymerase_tropism/prophage_prediction/prophage_decipher/phageboost/phageboost_70_20102022\"\n",
    "path_phylogeny = \"/home/conchae/prediction_depolymerase_tropism/prophage_prediction/prophage_phylogeny\"\n",
    "path_fastani = \"/home/conchae/prediction_depolymerase_tropism/prophage_prediction/prophage_similarity/phageboost/fastANI_20102022_out\"\n",
    "\n",
    "df_representant = pd.read_csv(f\"{path_fastani}/clusters_99_80.extra_clean.2004.v2.tsv\", sep = \"\\t\", header = 0)\n",
    "df_representant = df_representant.drop_duplicates(subset = [\"prophage_id\"], keep = \"first\")\n",
    "\n",
    "dico_prophage = {}\n",
    "\n",
    "for _,row in df_representant.iterrows() :\n",
    "    strain = row[\"prophage\"].split(\"__\")[0]\n",
    "    prophage = row[\"prophage\"].split(\".fasta\")[0].split(\"__\")[-1]\n",
    "    seq_id = row[\"prophage_id\"]\n",
    "    a = {\"strain\" : strain, \"prophage\" : prophage, \"prophage_n\" : seq_id}\n",
    "    dico_prophage[row[\"prophage\"]] = a\n",
    "    \n",
    "with open(f\"{path_phylogeny}/phageboost_70_Vcontact2.0611.fasta\",\"w\") as outfile1 :\n",
    "    with open(f\"{path_phylogeny}/phageboost_70_gene_to_genome.0611.csv\",\"w\") as outfile2:\n",
    "        outfile2.write(\"protein_id,contig_id,keywords\\n\")\n",
    "        for prophage in tqdm(dico_prophage) :\n",
    "            path_multi = f\"{path_phageboost}/{dico_prophage[prophage]['strain']}/{dico_prophage[prophage]['prophage']}.multi.faa\"\n",
    "            fasta_file = SeqIO.parse(path_multi , \"fasta\")\n",
    "            for index, record in enumerate(fasta_file) :\n",
    "                prot_id = f\"{prophage.split('.fasta')[0]}__{index}\"\n",
    "                outfile1.write(f\">{prot_id}\\n{str(record.seq)}\\n\")\n",
    "                outfile2.write(f\"{prot_id},{prophage.split('.fasta')[0]},None_provided\\n\")\n",
    "                \n"
   ]
  },
  {
   "cell_type": "markdown",
   "metadata": {},
   "source": [
    "Merge the previously created input files with the Millard data"
   ]
  },
  {
   "cell_type": "code",
   "execution_count": null,
   "metadata": {},
   "outputs": [],
   "source": [
    "import os\n",
    "\n",
    "path_phageboost=\"/home/conchae/prediction_depolymerase_tropism/prophage_prediction/prophage_decipher/phageboost/phageboost_70\"\n",
    "path_phylogeny=\"/home/conchae/prediction_depolymerase_tropism/prophage_prediction/prophage_phylogeny\"\n",
    "path_77=\"/home/conchae/77_strains_phage_project\"\n",
    "path_millard = \"/home/conchae/databases/Millard_jan_2023\"\n",
    "\n",
    "gene2genome_m = \"\\n\".join(open(f\"{path_millard}/5Jan2023_vConTACT2_gene_to_genome.csv\").read().split(\"\\n\")[1:])\n",
    "gene_seq_m = open(f\"{path_millard}/5Jan2023_vConTACT2_proteins.faa\").read()\n",
    "\n",
    "PPT_gene2genome = open(f\"{path_phylogeny}/phageboost_70_gene_to_genome.0611.csv\").read()\n",
    "PPT_gene_seq = open(f\"{path_phylogeny}/phageboost_70_Vcontact2.0611.fasta\").read()\n",
    "\n",
    "with open(f\"{path_phylogeny}/phageboost_70_Vcontact2.Millard.0611.fasta\",\"w\") as outfile :\n",
    "    with open(f\"{path_phylogeny}/phageboost_70_gene_to_genome.Millard.0611.csv\",\"w\") as outfile2:\n",
    "        outfile.write(f\"{PPT_gene_seq}\\n{gene_seq_m}\")\n",
    "        outfile2.write(f\"{PPT_gene2genome}\\n{gene2genome_m}\")\n",
    "        \n",
    "        "
   ]
  },
  {
   "cell_type": "code",
   "execution_count": null,
   "metadata": {},
   "outputs": [],
   "source": [
    "# Step two : The actual command line :\n",
    "\n",
    "#!/bin/bash\n",
    "#BATCH --job-name=vcontact2_phageboost\n",
    "#SBATCH --qos=medium \n",
    "#SBATCH --ntasks=1 \n",
    "#SBATCH --cpus-per-task=40\n",
    "#SBATCH --mem=200gb \n",
    "#SBATCH --time=2-00:00:00 \n",
    "#SBATCH --output=vcontact2_phageboost%j.log \n",
    "\n",
    "module restore la_base\n",
    "source /storage/apps/ANACONDA/anaconda3/etc/profile.d/conda.sh\n",
    "conda activate vcontact2\n",
    "\n",
    "\n",
    "vcontact --rel-mode 'Diamond' \\\n",
    "--raw-proteins /home/conchae/prediction_depolymerase_tropism/prophage_prediction/prophage_phylogeny/phageboost_70_Vcontact2.Millard.0611.fasta \\\n",
    "--proteins-fp /home/conchae/prediction_depolymerase_tropism/prophage_prediction/prophage_phylogeny/phageboost_70_gene_to_genome.Millard.0611.csv \\\n",
    "--output-dir  /home/conchae/prediction_depolymerase_tropism/prophage_prediction/prophage_phylogeny/Vcontact2_PPTmillard_output_07112023 \\\n",
    "--db 'None'  --pcs-mode MCL --vcs-mode ClusterONE --c1-bin /home/conchae/software/cluster_one-1.0.jar -t 40\n",
    "\n",
    "\n",
    "# ***\n",
    "vcontact --rel-mode 'Diamond' \\\n",
    "--contigs /home/conchae/prediction_depolymerase_tropism/prophage_prediction/prophage_phylogeny/Vcontact2_PPTmillard_output_07112023/vConTACT_contigs.csv \\\n",
    "--pcs /home/conchae/prediction_depolymerase_tropism/prophage_prediction/prophage_phylogeny/Vcontact2_PPTmillard_output_07112023/vConTACT_pcs.csv \\\n",
    "--pc-profiles /home/conchae/prediction_depolymerase_tropism/prophage_prediction/prophage_phylogeny/Vcontact2_PPTmillard_output_07112023/vConTACT_profiles.csv \\\n",
    "--raw-proteins /home/conchae/prediction_depolymerase_tropism/prophage_prediction/prophage_phylogeny/phageboost_70_Vcontact2.Millard.0611.fasta \\\n",
    "--proteins-fp /home/conchae/prediction_depolymerase_tropism/prophage_prediction/prophage_phylogeny/phageboost_70_gene_to_genome.Millard.0611.csv \\\n",
    "--output-dir  /home/conchae/prediction_depolymerase_tropism/prophage_prediction/prophage_phylogeny/Vcontact2_PPTmillard_output_07112023_try2 \\\n",
    "--db 'None'  --pcs-mode MCL --vcs-mode ClusterONE --c1-bin /home/conchae/software/cluster_one-1.0.jar -t 40\n",
    "\n",
    "\n"
   ]
  },
  {
   "cell_type": "code",
   "execution_count": null,
   "metadata": {},
   "outputs": [],
   "source": [
    "import pandas as pd\n",
    "import os\n",
    "\n",
    "path_df = \"/home/conchae/prediction_depolymerase_tropism/prophage_prediction/prophage_phylogeny/Vcontact2_PPTmillard_output_07112023\"\n",
    "\n",
    "df_vcontact = pd.read_csv(f\"{path_df}/viral_cluster_overview.csv\", sep = \",\", header = 0)\n",
    "\n"
   ]
  },
  {
   "cell_type": "code",
   "execution_count": null,
   "metadata": {},
   "outputs": [],
   "source": [
    "import os\n",
    "import pandas as pd\n",
    "\n",
    "path_db =\"/media/concha-eloko/Linux/Databases/Millard_sept_2022\"\n",
    "path_vcontact = \"/media/concha-eloko/Linux/77_strains_phage_project/vConTACT2_77_phages_21042023\"\n",
    "\n",
    "    # Dataframe with Vcontact information\n",
    "df_family = pd.read_csv(f\"{path_db}/1Sep2022_vConTACT2_family_annotations.tsv\", sep=\"\\t\")\n",
    "df_sub_fam = pd.read_csv(f\"{path_db}/1Sep2022_vConTACT2_subfamily_annotations.tsv\", sep=\"\\t\").rename(columns={'Sub-family': 'Sub_family'})\n",
    "df_genus = pd.read_csv(f\"{path_db}/1Sep2022_vConTACT2_genus_annotations.tsv\", sep=\"\\t\")\n",
    "\n",
    "    # Dataframe results\n",
    "#df_vcontact_results = pd.read_csv(f\"{path_vcontact}/genome_by_genome_overview.csv\",index_col=\"Genome\").rename(columns={'Order': 'Family', 'Family': 'Sub_family'})\n",
    "#df_vcontact_results.drop('Unnamed: 0')\n",
    "    # The object :\n",
    "tax_obj = {\"Family\" : df_family,\n",
    "          \"Sub_family\": df_sub_fam,\n",
    "          \"Genus\": df_genus}"
   ]
  },
  {
   "cell_type": "code",
   "execution_count": null,
   "metadata": {},
   "outputs": [],
   "source": [
    "for genome, line in df_vcontact_results.iterrows():\n",
    "    if genome in df_family[\"Node_ID\"].to_list() :\n",
    "        df_vcontact_results.loc[genome,\"Family\"] = df_family[df_family[\"Node_ID\"]== genome][\"Family\"].values[0]\n",
    "        df_vcontact_results.loc[genome,\"Sub_family\"] = df_sub_fam[df_family[\"Node_ID\"]== genome][\"Sub_family\"].values[0]\n",
    "        df_vcontact_results.loc[genome,\"Genus\"] = df_genus[df_family[\"Node_ID\"]== genome][\"Genus\"].values[0]\n",
    "        df_vcontact_results.loc[genome,\"Phage_name\"] = df_genus[df_family[\"Node_ID\"]== genome][\"Description\"].values[0]\n",
    "        \n",
    "    else :\n",
    "        df_vcontact_results.loc[genome,\"Phage_name\"] = genome\n",
    "        #print(f\"Prediction made for the phage {genome}\")"
   ]
  },
  {
   "cell_type": "code",
   "execution_count": null,
   "metadata": {},
   "outputs": [],
   "source": [
    "import os\n",
    "import pandas as pd\n",
    "\n",
    "path_db =\"/media/concha-eloko/Linux/Databases/Millard_sept_2022\"\n",
    "path_vcontact = \"/media/concha-eloko/Linux/77_strains_phage_project/vConTACT2_77_phages_21042023\"\n",
    "path_phages = \"/media/concha-eloko/Linux/77_strains_phage_project/annotation_classic\"\n",
    "\n",
    "vcontact2_results=pd.read_csv(f\"{path_vcontact}/DF_results.csv\")\n",
    "reference={}\n",
    "our_phages=[]\n",
    "VC_of_interest = []\n",
    "VC_collection = {}\n",
    "\n",
    "for phage in os.listdir(f\"{path_phages}\"):\n",
    "    our_phages.append(phage)\n",
    "\n",
    "    \n",
    "        # Generating the Dictionary with the reliable data\n",
    "for index, line in vcontact2_results.iterrows():\n",
    "    if line[\"Genome\"] not in our_phages :\n",
    "        if line[\"VC\"] != \"nan\" and float(line[\"Genus Confidence Score\"])>0.90 :\n",
    "            a={\"Family\":line[\"Family\"]}\n",
    "            b={\"sub_Family\":line[\"Sub_family\"]}\n",
    "            c={\"Genus\":line[\"Genus\"]}\n",
    "            a.update(b)\n",
    "            a.update(c)\n",
    "            reference[line[\"VC\"]]=a\n",
    "    else :\n",
    "        if line[\"VC\"] not in VC_of_interest :\n",
    "            VC_of_interest.append(line[\"VC\"])\n",
    "\n",
    "    # Writting the raw results file :\n",
    "'''with open(f\"{path_vcontact}/vcontact.results.f.csv\",\"w\") as outfile:    \n",
    "    outfile.write(\"Phage_name\\tFamily\\tSub_family\\tGenus\\tGenus_score\\tVC\\n\")\n",
    "    for index, line in vcontact2_results.iterrows():\n",
    "        if line[\"Genome\"] in our_phages :\n",
    "            if line[\"VC\"] in VC_of_interest and line[\"VC Status\"]!=\"Outlier\":\n",
    "                outfile.write(f\"{line['Genome']}\\t{reference[line['VC']]['Family']}\\t{reference[line['VC']]['sub_Family']}\\t{reference[line['VC']]['Genus']}\\t{line['Genus Confidence Score']}\\t{line['VC']}\\n\")\n",
    "            else :\n",
    "                outfile.write(f\"{line['Genome']}\\t{line['VC']}\\tOutlier\\n\")\n",
    "'''"
   ]
  }
 ],
 "metadata": {
  "kernelspec": {
   "display_name": "Python 3 (ipykernel)",
   "language": "python",
   "name": "python3"
  },
  "language_info": {
   "codemirror_mode": {
    "name": "ipython",
    "version": 3
   },
   "file_extension": ".py",
   "mimetype": "text/x-python",
   "name": "python",
   "nbconvert_exporter": "python",
   "pygments_lexer": "ipython3",
   "version": "3.11.4"
  },
  "widgets": {
   "application/vnd.jupyter.widget-state+json": {
    "state": {},
    "version_major": 2,
    "version_minor": 0
   }
  }
 },
 "nbformat": 4,
 "nbformat_minor": 4
}
