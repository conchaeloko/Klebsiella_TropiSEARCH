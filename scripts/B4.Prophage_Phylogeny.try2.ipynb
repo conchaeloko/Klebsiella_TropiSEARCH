{
 "cells": [
  {
   "cell_type": "markdown",
   "metadata": {},
   "source": [
    "# Run Vcontact2 with the prophage genomes\n",
    "***"
   ]
  },
  {
   "cell_type": "markdown",
   "metadata": {},
   "source": [
    "Generate the input files "
   ]
  },
  {
   "cell_type": "code",
   "execution_count": null,
   "metadata": {
    "jupyter": {
     "source_hidden": true
    }
   },
   "outputs": [],
   "source": [
    "# Create a tmp with all the candidates :\n",
    "\n",
    "import os\n",
    "import pandas as pd\n",
    "import random\n",
    "import sys\n",
    "import subprocess\n",
    "from tqdm import tqdm\n",
    "\n",
    "\n",
    "path_phageboost_pred=\"/home/conchae/prediction_depolymerase_tropism/prophage_prediction/prophage_decipher/phageboost/phageboost_prediction\"\n",
    "path_fasta=\"/home/conchae/prediction_depolymerase_tropism/prophage_prediction/prophage_similarity/phageboost/fastANI_20102022\"\n",
    "path_fastani = \"/home/conchae/prediction_depolymerase_tropism/prophage_prediction/prophage_similarity/phageboost/fastANI_20102022_out\"\n",
    "path_decipher = \"/home/conchae/prediction_depolymerase_tropism/prophage_prediction/prophage_decipher/phageboost/phageboost_70_20102022\"\n",
    "path_ktype=\"/home/conchae/prediction_depolymerase_tropism\"\n",
    "\n",
    "\n",
    "df_representant = pd.read_csv(f\"{path_fastani}/clusters_99_80.extra_clean.2004.v2.tsv\", sep = \"\\t\", header = 0)\n",
    "df_representant = df_representant.drop_duplicates(subset = [\"prophage_id\"], keep = \"first\")\n",
    "\n",
    "dico_prophage = {}\n",
    "\n",
    "for _,row in df_representant.iterrows() :\n",
    "    strain = row[\"prophage\"].split(\"__\")[0]\n",
    "    prophage = row[\"prophage\"].split(\".fasta\")[0].split(\"__\")[-1]\n",
    "    seq_id = row[\"prophage_id\"]\n",
    "    a = {\"strain\" : strain, \"prophage\" : prophage, \"prophage_n\" : seq_id}\n",
    "    dico_prophage[row[\"prophage\"]] = a\n",
    "        \n",
    "for phage in tqdm(dico_prophage):       \n",
    "    strain = dico_prophage[phage][\"strain\"]\n",
    "    prophage_id = dico_prophage[phage][\"prophage\"]\n",
    "    prophage = phage.split(\".fasta\")[0]\n",
    "    genecall = pd.read_csv(f\"{path_phageboost_pred}/{strain}/genecalls_{strain.split('.')[0]}.gff3\", sep=\"\\t\")\n",
    "    for file in os.listdir(f\"{path_phageboost_pred}/{strain}\"):\n",
    "        if file[0:6]==\"phages\":\n",
    "            resume= pd.read_csv(f\"{path_phageboost_pred}/{strain}/{file}\", skiprows=1, sep=\"\\t\")\n",
    "            break\n",
    "    attributes = resume[\"attributes\"].to_list()\n",
    "    for index_att, attri in enumerate(attributes):\n",
    "        if attri.split(\"phage_id=\")[1] == prophage_id :\n",
    "            attribute_line = attri\n",
    "            break\n",
    "    frag_id = resume[resume[\"attributes\"] == attribute_line][\"#seqid\"].values[0]\n",
    "    start_genome ,stop_genome =resume[resume[\"attributes\"] == attribute_line][\"start\"].values[0], resume[resume[\"attributes\"] == attribute_line][\"end\"].values[0]\n",
    "    print(frag_id ,start_genome, stop_genome)\n",
    "    #break\n",
    "    genecall_frag = genecall[genecall[\"contig\"] == frag_id]\n",
    "    genecall_frag_dict = genecall_frag.to_dict('records')\n",
    "    with open(f\"{path_decipher}/{strain}/{prophage_id}.multi.faa\", \"w\") as outfile_faa :\n",
    "        with open(f\"{path_decipher}/{strain}/{prophage_id}.multi.ffn\", \"w\") as outfile_ffn :\n",
    "            for line in genecall_frag_dict : \n",
    "                if line[\"start\"] in range(start_genome, stop_genome) :\n",
    "                    nt_seq, aa_seq, prot_id =line[\"DNAseq\"] , line[\"AAseq\"],  line[\"id\"]\n",
    "                    print(len(aa_seq), \"Protein_id : \", prot_id)\n",
    "                    if len(aa_seq) > 10 :\n",
    "                        outfile_faa.write(f\">{strain}__{prophage_id}__{prot_id}\\n{aa_seq}\\n\")\n",
    "                        outfile_ffn.write(f\">{strain}__{prophage_id}__{prot_id}\\n{nt_seq}\\n\")\n",
    "                        print(f\">{strain}__{prophage_id}__{prot_id}\\n{aa_seq}\\n\", f\">{strain}__{prophage_id}__{prot_id}\\n{nt_seq}\\n\")\n",
    "                \n",
    "    "
   ]
  },
  {
   "cell_type": "code",
   "execution_count": null,
   "metadata": {
    "jupyter": {
     "source_hidden": true
    }
   },
   "outputs": [],
   "source": [
    "#!/bin/bash\n",
    "#BATCH --job-name=write_multi\n",
    "#SBATCH --qos=short \n",
    "#SBATCH --ntasks=1 \n",
    "#SBATCH --cpus-per-task=4\n",
    "#SBATCH --mem=5gb \n",
    "#SBATCH --time=1-00:00:00 \n",
    "#SBATCH --output=write_multi%j.log \n",
    "\n",
    "module restore la_base\n",
    "conda activate python_311\n",
    "                \n",
    "python /home/conchae/prediction_depolymerase_tropism/prophage_prediction/prophage_phylogeny/script_file/make_multifasta.py"
   ]
  },
  {
   "cell_type": "code",
   "execution_count": null,
   "metadata": {
    "jupyter": {
     "source_hidden": true
    }
   },
   "outputs": [],
   "source": [
    "# Step one : generating the fasta file with the phages proteins and the gene_to_genome file\n",
    "import os\n",
    "import pandas as pd\n",
    "from tqdm import tqdm\n",
    "from Bio import SeqIO\n",
    "\n",
    "path_phageboost = \"/home/conchae/prediction_depolymerase_tropism/prophage_prediction/prophage_decipher/phageboost/phageboost_70_20102022\"\n",
    "path_phylogeny = \"/home/conchae/prediction_depolymerase_tropism/prophage_prediction/prophage_phylogeny\"\n",
    "path_fastani = \"/home/conchae/prediction_depolymerase_tropism/prophage_prediction/prophage_similarity/phageboost/fastANI_20102022_out\"\n",
    "\n",
    "df_representant = pd.read_csv(f\"{path_fastani}/clusters_99_80.extra_clean.2004.v2.tsv\", sep = \"\\t\", header = 0)\n",
    "df_representant = df_representant.drop_duplicates(subset = [\"prophage_id\"], keep = \"first\")\n",
    "\n",
    "dico_prophage = {}\n",
    "\n",
    "for _,row in df_representant.iterrows() :\n",
    "    strain = row[\"prophage\"].split(\"__\")[0]\n",
    "    prophage = row[\"prophage\"].split(\".fasta\")[0].split(\"__\")[-1]\n",
    "    seq_id = row[\"prophage_id\"]\n",
    "    a = {\"strain\" : strain, \"prophage\" : prophage, \"prophage_n\" : seq_id}\n",
    "    dico_prophage[row[\"prophage\"]] = a\n",
    "    \n",
    "with open(f\"{path_phylogeny}/phageboost_70_Vcontact2.0611.fasta\",\"w\") as outfile1 :\n",
    "    with open(f\"{path_phylogeny}/phageboost_70_gene_to_genome.0611.csv\",\"w\") as outfile2:\n",
    "        outfile2.write(\"protein_id,contig_id,keywords\\n\")\n",
    "        for prophage in tqdm(dico_prophage) :\n",
    "            path_multi = f\"{path_phageboost}/{dico_prophage[prophage]['strain']}/{dico_prophage[prophage]['prophage']}.multi.faa\"\n",
    "            fasta_file = SeqIO.parse(path_multi , \"fasta\")\n",
    "            for index, record in enumerate(fasta_file) :\n",
    "                prot_id = f\"{prophage.split('.fasta')[0]}__{index}\"\n",
    "                outfile1.write(f\">{prot_id}\\n{str(record.seq)}\\n\")\n",
    "                outfile2.write(f\"{prot_id},{prophage.split('.fasta')[0]},None_provided\\n\")\n",
    "                \n"
   ]
  },
  {
   "cell_type": "markdown",
   "metadata": {},
   "source": [
    "Merge the previously created input files with the Millard data"
   ]
  },
  {
   "cell_type": "code",
   "execution_count": null,
   "metadata": {},
   "outputs": [],
   "source": [
    "import os\n",
    "\n",
    "path_phageboost=\"/home/conchae/prediction_depolymerase_tropism/prophage_prediction/prophage_decipher/phageboost/phageboost_70\"\n",
    "path_phylogeny=\"/home/conchae/prediction_depolymerase_tropism/prophage_prediction/prophage_phylogeny\"\n",
    "path_77=\"/home/conchae/77_strains_phage_project\"\n",
    "path_millard = \"/home/conchae/databases/Millard_jan_2023\"\n",
    "\n",
    "gene2genome_m = \"\\n\".join(open(f\"{path_millard}/5Jan2023_vConTACT2_gene_to_genome.csv\").read().split(\"\\n\")[1:])\n",
    "gene_seq_m = open(f\"{path_millard}/5Jan2023_vConTACT2_proteins.faa\").read()\n",
    "\n",
    "PPT_gene2genome = open(f\"{path_phylogeny}/phageboost_70_gene_to_genome.0611.csv\").read()\n",
    "PPT_gene_seq = open(f\"{path_phylogeny}/phageboost_70_Vcontact2.0611.fasta\").read()\n",
    "\n",
    "with open(f\"{path_phylogeny}/phageboost_70_Vcontact2.Millard.0611.fasta\",\"w\") as outfile :\n",
    "    with open(f\"{path_phylogeny}/phageboost_70_gene_to_genome.Millard.0611.csv\",\"w\") as outfile2:\n",
    "        outfile.write(f\"{PPT_gene_seq}\\n{gene_seq_m}\")\n",
    "        outfile2.write(f\"{PPT_gene2genome}\\n{gene2genome_m}\")\n",
    "        \n",
    "        "
   ]
  },
  {
   "cell_type": "code",
   "execution_count": null,
   "metadata": {},
   "outputs": [],
   "source": [
    "# Step two : The actual command line :\n",
    "\n",
    "#!/bin/bash\n",
    "#BATCH --job-name=vcontact2_phageboost\n",
    "#SBATCH --qos=medium \n",
    "#SBATCH --ntasks=1 \n",
    "#SBATCH --cpus-per-task=40\n",
    "#SBATCH --mem=200gb \n",
    "#SBATCH --time=2-00:00:00 \n",
    "#SBATCH --output=vcontact2_phageboost%j.log \n",
    "\n",
    "module restore la_base\n",
    "source /storage/apps/ANACONDA/anaconda3/etc/profile.d/conda.sh\n",
    "conda activate vcontact2\n",
    "\n",
    "\n",
    "vcontact --rel-mode 'Diamond' \\\n",
    "--raw-proteins /home/conchae/prediction_depolymerase_tropism/prophage_prediction/prophage_phylogeny/phageboost_70_Vcontact2.Millard.0611.fasta \\\n",
    "--proteins-fp /home/conchae/prediction_depolymerase_tropism/prophage_prediction/prophage_phylogeny/phageboost_70_gene_to_genome.Millard.0611.csv \\\n",
    "--output-dir  /home/conchae/prediction_depolymerase_tropism/prophage_prediction/prophage_phylogeny/Vcontact2_PPTmillard_output_07112023 \\\n",
    "--db 'None'  --pcs-mode MCL --vcs-mode ClusterONE --c1-bin /home/conchae/software/cluster_one-1.0.jar -t 40\n",
    "\n"
   ]
  },
  {
   "cell_type": "code",
   "execution_count": null,
   "metadata": {},
   "outputs": [],
   "source": [
    "from os import listdir, mkdir, rename, system\n",
    "import os\n",
    "\n",
    "path_77=\"/home/conchae/77_strains_phage_project\"\n",
    "path_77_seq=\"/home/conchae/77_strains_phage_project/phages_sequences_corrected\"\n",
    "\n",
    "vcontact2_results=open(path_77+\"/vConTACT2_77_phages_V5/genome_by_genome_overview.csv\").read().split(\"\\n\")\n",
    "reference={}\n",
    "our_phages=[]\n",
    "\n",
    "for phage in os.listdir(path_77_seq):\n",
    "    our_phages.append(phage)\n",
    "    \n",
    "for n in range (1,len(vcontact2_results)-1):\n",
    "    phage=vcontact2_results[n].split(\",\")[1]\n",
    "    if phage not in our_phages:\n",
    "        V_C=vcontact2_results[n].split(\",\")[5]\n",
    "        order=vcontact2_results[n].split(\",\")[2]\n",
    "        family=vcontact2_results[n].split(\",\")[3]\n",
    "        genus=vcontact2_results[n].split(\",\")[4]\n",
    "        score=vcontact2_results[n].split(\",\")[-1]\n",
    "        if V_C !=\"\" and V_C not in reference and float(score) > 0.9 :\n",
    "            a={\"Order\":order}\n",
    "            b={\"Family\":family}\n",
    "            c={\"Genus\":genus}\n",
    "            a.update(b)\n",
    "            a.update(c)\n",
    "            reference[V_C]=a\n",
    "\n",
    "with open(path_77+\"/Vcontact_77_results.tsv\",\"w\") as outfile:\n",
    "    for n in range(1,len(vcontact2_results)-1):\n",
    "        phage=vcontact2_results[n].split(\",\")[1]\n",
    "        if phage in our_phages:\n",
    "            V_C=vcontact2_results[n].split(\",\")[5]\n",
    "            score=vcontact2_results[n].split(\",\")[-1]\n",
    "            try :\n",
    "                if float(score) > 0.9 and V_C in reference:\n",
    "                    outfile.write(phage+\"\\t\"+reference[V_C][\"Order\"]+\"\\t\"+reference[V_C][\"Family\"]+\"\\t\"+reference[V_C][\"Genus\"]+\"\\t\"+V_C+\"\\t\"+score+\"\\n\")\n",
    "                elif float(score) > 0.7 and V_C in reference :\n",
    "                    outfile.write(phage+\"\\t\"+reference[V_C][\"Order\"]+\"\\t\"+reference[V_C][\"Family\"]+\"\\t\"+V_C+\"\\t\"+score+\"\\n\")\n",
    "                elif V_C ==\"67_0\":\n",
    "                    outfile.write(phage+\"\\t Caudovirales \\t Siphoviridae \\n\")\n",
    "                elif V_C not in reference :\n",
    "                    print(phage, V_C)\n",
    "                    outfile.write(vcontact2_results[n]+\"\\n\")\n",
    "                else:\n",
    "                    print(phage)\n",
    "            except ValueError:\n",
    "                outfile.write(vcontact2_results[n]+\"\\n\")"
   ]
  }
 ],
 "metadata": {
  "kernelspec": {
   "display_name": "Python 3 (ipykernel)",
   "language": "python",
   "name": "python3"
  },
  "language_info": {
   "codemirror_mode": {
    "name": "ipython",
    "version": 3
   },
   "file_extension": ".py",
   "mimetype": "text/x-python",
   "name": "python",
   "nbconvert_exporter": "python",
   "pygments_lexer": "ipython3",
   "version": "3.11.4"
  },
  "widgets": {
   "application/vnd.jupyter.widget-state+json": {
    "state": {},
    "version_major": 2,
    "version_minor": 0
   }
  }
 },
 "nbformat": 4,
 "nbformat_minor": 4
}
