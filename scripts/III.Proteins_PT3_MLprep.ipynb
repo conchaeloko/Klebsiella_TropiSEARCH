{
 "cells": [
  {
   "cell_type": "markdown",
   "metadata": {},
   "source": [
    "# Prepare the data before the ML processes\n",
    "\n",
    "***"
   ]
  },
  {
   "cell_type": "markdown",
   "metadata": {},
   "source": [
    "## 1. Generate the clean dataframes "
   ]
  },
  {
   "cell_type": "code",
   "execution_count": null,
   "metadata": {},
   "outputs": [],
   "source": [
    "# DF with index sequences :\n",
    "\n",
    "import pandas as pd \n",
    "import os \n",
    "path_labels = \"/home/conchae/prediction_depolymerase_tropism/prophage_prediction/prophage_labeling/phageboost\"\n",
    "path_db = \"/home/conchae/prediction_depolymerase_tropism/prophage_prediction/depolymerase_decipher/15122022_session\"\n",
    "path_decipher = \"/home/conchae/prediction_depolymerase_tropism/prophage_prediction/prophage_decipher/phageboost/phageboost_70_20102022\"\n",
    "\n",
    "labels_results = [\"protein_name\",\"KL_type_ancestor\",\"ancestor_id\",\"IPR_entry\",\"score\",\"qstart\",\"qstop\",\"sequence\"]\n",
    "results_df = pd.read_csv(f\"{path_db}/Results_III_DataFrame.v3.csv\", sep=\"\\t\", names= labels_results)\n",
    "sequence_df = pd.read_csv(f\"{path_db}/Results_III_sequences.v3.csv\", sep = \"\\t\" ,names= [\"index\", \"sequence\"])\n",
    "\n",
    "results_df[\"index_seq\"] = sequence_df[sequence_df[\"sequence\"]== results_df[\"sequence\"]][\"index\"]\n",
    "\n",
    "index_list = []\n",
    "for index , row in tqdm(results_df.iterrows()) :\n",
    "    index_seq = sequence_df[sequence_df[\"sequence\"] == row[\"sequence\"]][\"index\"].values[0]\n",
    "    index_list.append(index_seq)\n",
    "    \n",
    "results_df[\"index_seq\"] = index_list\n",
    "results_df.to_csv(f\"{path_db}/Results_III_DataFrame.v3.final.csv\", sep=\"\\t\",header =  [\"protein_name\",\"KL_type_ancestor\",\"ancestor_id\",\"IPR_entry\",\"score\",\"qstart\",\"qstop\",\"sequence\",\"index_seq\"], index = False )\n"
   ]
  },
  {
   "cell_type": "markdown",
   "metadata": {},
   "source": [
    "> The chosen ones : removing the undesired IPR hits "
   ]
  },
  {
   "cell_type": "code",
   "execution_count": null,
   "metadata": {},
   "outputs": [],
   "source": [
    "import pandas as pd \n",
    "from tqdm import tqdm\n",
    "\n",
    "results_df = pd.read_csv(f\"{path_db}/Results_III_DataFrame.v3.final.csv\", sep=\"\\t\", header= 0)\n",
    "\n",
    "indices = set(list(results_df.index_seq)) # correct number \n",
    "\n",
    "tail = [\"IPR005604\"]\n",
    "undesirable = [\"IPR023346\", \"IPR013189\",\"IPR002152\",\"IPR013830\",\"IPR013189\",\"IPR000490\",\"IPR000852\"]\n",
    "\n",
    "\n",
    "\n",
    "\n",
    "def filter_ipr(ipr) :\n",
    "    undesired_df = results_df[results_df[\"IPR_entry\"].str.split(\".\").str[0] == ipr]\n",
    "    unique_df = undesired_df.drop_duplicates(subset=\"index_seq\", keep=\"first\")\n",
    "    return unique_df\n",
    "\n",
    "not_processed = set()\n",
    "for ipr in undesirable :\n",
    "    undesired_df = filter_ipr(ipr)\n",
    "    not_processed.update(list(undesired_df[\"index_seq\"]))\n",
    "    \n",
    "\n",
    "\n",
    "tail_df = results_df[results_df[\"IPR_entry\"].str.split(\".\").str[0] == \"IPR005604\"]\n",
    "tail_df = filter_ipr(\"IPR015165\")\n",
    "poly_df = filter_ipr(\"IPR024535\")\n",
    "pectate_df = filter_ipr(\"IPR024535\")\n",
    "endo_sia_df = filter_ipr(\"IPR036278\")"
   ]
  },
  {
   "cell_type": "markdown",
   "metadata": {},
   "source": [
    "***\n",
    "## 2. Basic Information"
   ]
  },
  {
   "cell_type": "markdown",
   "metadata": {},
   "source": [
    "#### **A. About the most virulent KL types**"
   ]
  },
  {
   "cell_type": "code",
   "execution_count": null,
   "metadata": {},
   "outputs": [],
   "source": [
    "import os\n",
    "import random\n",
    "import subprocess\n",
    "from tqdm import tqdm\n",
    "from random import sample\n",
    "import time\n",
    "import pandas as pd\n",
    "from collections import Counter\n",
    "\n",
    "\n",
    "path_phageboost_pred=\"/home/conchae/prediction_depolymerase_tropism/prophage_prediction/prophage_decipher/phageboost/phageboost_prediction\"\n",
    "\n",
    "path_decipher = \"/home/conchae/prediction_depolymerase_tropism/prophage_prediction/prophage_decipher/phageboost/phageboost_70_20102022\"\n",
    "path_database_PFAM = \"/home/conchae/databases/Pfam-A/pfam\"\n",
    "path_depolymerse_w = \"/home/conchae/prediction_depolymerase_tropism/prophage_prediction/depolymerase_decipher/20102022_session\"\n",
    "path_label = \"/home/conchae/prediction_depolymerase_tropism/prophage_prediction/prophage_labeling/phageboost/info\"\n",
    "\n",
    "label_names = [\"Prophage_name\",\"K_serotype_monophyletic_group\", \"Ancestor\",\"Number_ancestors\",\"Size_clade\",\"Min_ancestors\",\"Number_Ktypes\",\"K_types\",\"Number_Kswaps\"]\n",
    "\n",
    "depolymerase_F_df = pd.read_csv(f\"{path_depolymerse_w}/depolymerase_proteins.PFAM_depo.final.tsv\", sep=\"\\t\" , header = 0)\n",
    "LLHP_F_df = pd.read_csv(f\"{path_depolymerse_w}/LLHP_proteins.PFAM_depo.clean.txt\", sep=\"\\t\",names = df_names)\n",
    "\n",
    "dic_counter = dict(Counter(depolymerase_F_df[\"Label\"]))\n",
    "info_depolymerase = {}\n",
    "\n",
    "for K_type, count in dic_counter.items() :\n",
    "    if count > 10 :\n",
    "        info_depolymerase.update({K_type : count})\n",
    "        \n",
    "info_depolymerase = {'KL47': 139, 'KL2': 135, 'KL107': 135, 'KL22': 35, 'KL102': 49, 'KL51': 30, 'KL126': 12, 'KL17': 98, 'KL52': 13, 'KL24': 33, 'KL27': 67,\n",
    "                     'KL39': 13, 'KL3': 55, 'KL64': 169, 'KL25': 34, 'KL60': 23, 'KL30': 48, 'KL46': 28, 'KL137': 11, 'KL106': 37, 'KL21': 25, 'KL45': 35, 'KL13': 18,\n",
    "                     'KL169': 13, 'KL14': 39, 'KL105': 23, 'KL8': 16, 'KL10': 26, 'KL81': 14, 'KL1': 39, 'KL151': 41, 'KL16': 11, 'KL136': 11, 'KL74': 14, 'KL7': 30,\n",
    "                     'KL62': 28, 'KL43': 18, 'KL145': 11, 'KL57': 23, 'KL53': 12, 'KL23': 18, 'KL61': 16, 'KL127': 14, 'KL18': 13}\n"
   ]
  }
 ],
 "metadata": {
  "kernelspec": {
   "display_name": "Python 3",
   "language": "python",
   "name": "python3"
  },
  "language_info": {
   "codemirror_mode": {
    "name": "ipython",
    "version": 3
   },
   "file_extension": ".py",
   "mimetype": "text/x-python",
   "name": "python",
   "nbconvert_exporter": "python",
   "pygments_lexer": "ipython3",
   "version": "3.7.6"
  }
 },
 "nbformat": 4,
 "nbformat_minor": 4
}
