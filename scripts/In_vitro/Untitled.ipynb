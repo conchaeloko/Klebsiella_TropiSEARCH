{
 "cells": [
  {
   "cell_type": "code",
   "execution_count": null,
   "id": "0bef5458-384c-43d8-a5b4-baaa95f733ce",
   "metadata": {},
   "outputs": [],
   "source": [
    "def fit_rf_model_random_search(df_kl, all_labels, KL_type, threshold, n_splits=5, n_iters=100):\n",
    "    if os.path.isfile(f'{PATH_MODELS}/{threshold}_RF_{KL_type}.full_data.joblib') == False:\n",
    "        skf = StratifiedKFold(n_splits=n_splits, shuffle=True, random_state=243)\n",
    "        data_kltype = {}\n",
    "\n",
    "        param_grid = {\n",
    "            'bootstrap': Categorical([True, False]),\n",
    "            'max_depth': Integer(10, 100),\n",
    "            'max_features': Categorical(['auto', 'sqrt']),\n",
    "            'min_samples_leaf': Integer(1, 4),\n",
    "            'min_samples_split': Integer(2, 10),\n",
    "            'n_estimators': Integer(200, 800)\n",
    "        }\n",
    "\n",
    "        for n, (train_index, test_index) in enumerate(skf.split(df_kl, all_labels)):\n",
    "            X_train, X_test = df_kl.iloc[train_index], df_kl.iloc[test_index]\n",
    "            y_train, y_test = pd.Series(all_labels).iloc[train_index], pd.Series(all_labels).iloc[test_index]\n",
    "\n",
    "            if n == 0:\n",
    "                rf = RandomForestClassifier(random_state=42)\n",
    "                bayes_search = BayesSearchCV(rf, param_grid, n_iter=n_iters, cv=4, n_jobs=-1)\n",
    "                bayes_search.fit(X_train, y_train)\n",
    "                best_params = bayes_search.best_params_\n",
    "                best_model = bayes_search.best_estimator_\n",
    "            else:\n",
    "                best_model = RandomForestClassifier(random_state=42, **best_params)\n",
    "                best_model.fit(X_train, y_train)\n",
    "\n",
    "            predictions = best_model.predict(X_test)\n",
    "            data_kltype[n] = {\n",
    "                \"best_parameters\": best_params,\n",
    "                \"model\": best_model,\n",
    "                \"test_data\": (y_test, predictions),\n",
    "                \"test_&_model_predictions\": (X_test, y_test),\n",
    "                \"iteration\": n\n",
    "            }\n",
    "\n",
    "        joblib.dump(data_kltype, f'{PATH_MODELS}/{threshold}_RF_{KL_type}.full_data.joblib')\n",
    "    else :\n",
    "        pass\n"
   ]
  }
 ],
 "metadata": {
  "kernelspec": {
   "display_name": "Python [conda env:torch_geometric]",
   "language": "python",
   "name": "conda-env-torch_geometric-py"
  },
  "language_info": {
   "codemirror_mode": {
    "name": "ipython",
    "version": 3
   },
   "file_extension": ".py",
   "mimetype": "text/x-python",
   "name": "python",
   "nbconvert_exporter": "python",
   "pygments_lexer": "ipython3",
   "version": "3.11.4"
  }
 },
 "nbformat": 4,
 "nbformat_minor": 5
}
