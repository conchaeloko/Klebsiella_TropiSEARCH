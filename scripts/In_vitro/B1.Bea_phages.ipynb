{
 "cells": [
  {
   "cell_type": "markdown",
   "id": "d3361cbd-9105-4412-bef4-7dd1a45cc567",
   "metadata": {},
   "source": [
    "# Identification of the Dpo proteins in Bea's phages : \n",
    "### I. A set of Dpos were already described in the paper, the pdb files were moved in an adequate location.\n",
    "### II. Run DepoScope to scan for potentially missing dpos\n",
    "***"
   ]
  },
  {
   "cell_type": "code",
   "execution_count": null,
   "id": "756362e2-1b8f-4c30-a7d3-3a66228efaa8",
   "metadata": {},
   "outputs": [],
   "source": []
  },
  {
   "cell_type": "code",
   "execution_count": null,
   "id": "092f2cca-93f7-4b19-a8d5-244d29ecc679",
   "metadata": {},
   "outputs": [],
   "source": []
  },
  {
   "cell_type": "markdown",
   "id": "c7c9a9bf-fbd6-4e72-8f75-bb4fa8860613",
   "metadata": {},
   "source": [
    "***\n",
    "II.\n",
    "> Scrap the multi_fasta :"
   ]
  },
  {
   "cell_type": "code",
   "execution_count": 8,
   "id": "578f7cc2-b312-4550-8f8c-3bd10e498dc4",
   "metadata": {},
   "outputs": [
    {
     "name": "stderr",
     "output_type": "stream",
     "text": [
      "/tmp/ipykernel_74657/3996966523.py:15: DeprecationWarning: Firefox will soon stop logging to geckodriver.log by default; Specify desired logs with log_output\n",
      "  service = Service(executable_path = path_driver)\n"
     ]
    }
   ],
   "source": [
    "from selenium import webdriver\n",
    "from selenium.webdriver.support.ui import Select\n",
    "from webdriver_manager.firefox import GeckoDriverManager\n",
    "from selenium.webdriver.common.by import By\n",
    "from selenium.webdriver.firefox.options import Options\n",
    "from selenium.webdriver.support.ui import WebDriverWait\n",
    "from selenium.webdriver.support import expected_conditions as EC\n",
    "from selenium.webdriver.firefox.service import Service\n",
    "import os \n",
    "\n",
    "path_download = \"/home/concha-eloko/Téléchargements\"\n",
    "path_out = \"/media/concha-eloko/Linux/PPT_clean/in_vitro/Bea/genomes\"\n",
    "path_driver = \"/home/concha-eloko/.wdm/drivers/geckodriver/linux64/0.33/geckodriver\"\n",
    "path_destiny = \"/media/concha-eloko/Linux/PPT_clean/in_vitro/Bea\"\n",
    "service = Service(executable_path = path_driver)\n",
    "\n",
    "\n",
    "def setup_driver():\n",
    "    # Set up Selenium with a headless Firefox browser\n",
    "    firefox_options = Options()\n",
    "    firefox_options.add_argument(\"--headless\")\n",
    "    driver = webdriver.Firefox(service=service, options=firefox_options)\n",
    "    return driver\n",
    "\n",
    "def download_proteins(accessions):\n",
    "    driver = setup_driver()\n",
    "    try:\n",
    "        for accession in accessions:\n",
    "            url = f\"https://www.ncbi.nlm.nih.gov/search/all/?term={accession}\"\n",
    "            driver.get(url)\n",
    "            # Click on the phage name\n",
    "            send_to_button_locator = (By.XPATH, '//*[@id=\"sequence_title\"]')\n",
    "            send_to_button = WebDriverWait(driver, 10).until(EC.element_to_be_clickable(send_to_button_locator))\n",
    "            send_to_button.click()\n",
    "            \n",
    "            # Click the 'Send to' button\n",
    "            send_to_button_locator = (By.XPATH, '/html/body/div[1]/div[1]/form/div[1]/div[4]/div/div[1]/h4/a')\n",
    "            send_to_button = WebDriverWait(driver, 10).until(EC.element_to_be_clickable(send_to_button_locator))\n",
    "            send_to_button.click()\n",
    "\n",
    "            # Click the 'Coding sequence' option\n",
    "            dest_file_button_locator = (By.XPATH, '//*[@id=\"codeseq\"]')\n",
    "            dest_file_button = WebDriverWait(driver, 10).until(EC.element_to_be_clickable(dest_file_button_locator))\n",
    "            dest_file_button.click()\n",
    "\n",
    "            # Select the 'FASTA' format\n",
    "            #format_button_locator = (By.XPATH, '//*[@id=\"file_format\"]')\n",
    "            #format_button = WebDriverWait(driver, 10).until(EC.element_to_be_clickable(format_button_locator))\n",
    "            #format_button.click()\n",
    "            #fasta_option_locator = (By.XPATH, '/html/body/div[1]/div[1]/form/div[1]/div[4]/div/div[1]/div[3]/div[1]/ul/li/select/option[3]')\n",
    "            #fasta_option = WebDriverWait(driver, 10).until(EC.element_to_be_clickable(fasta_option_locator))\n",
    "            #fasta_option.click()\n",
    "\n",
    "            # Click the 'Download' button\n",
    "            download_button_locator = (By.XPATH, '/html/body/div[1]/div[1]/form/div[1]/div[4]/div/div[1]/div[2]/div[2]/button')\n",
    "            download_button = WebDriverWait(driver, 10).until(EC.element_to_be_clickable(download_button_locator))\n",
    "            download_button.click()\n",
    "\n",
    "            # Move the downloaded file\n",
    "            os.system(f\"mv {path_download}/sequence.txt {path_out}/{accession}.multi.faa\")\n",
    "            print(f\"Downloaded and moved {accession}.fasta\")\n",
    "\n",
    "    except TimeoutException:\n",
    "        print(\"Timeout occurred while waiting for elements.\")\n",
    "    except Exception as e:\n",
    "        print(f\"An error occurred: {e}\")\n",
    "    finally:\n",
    "        driver.quit()"
   ]
  },
  {
   "cell_type": "code",
   "execution_count": 2,
   "id": "0f82a025",
   "metadata": {
    "collapsed": true,
    "jupyter": {
     "outputs_hidden": true,
     "source_hidden": true
    }
   },
   "outputs": [
    {
     "name": "stderr",
     "output_type": "stream",
     "text": [
      "/tmp/ipykernel_74657/2852158718.py:15: DeprecationWarning: Firefox will soon stop logging to geckodriver.log by default; Specify desired logs with log_output\n",
      "  service = Service(executable_path = path_driver)\n"
     ]
    }
   ],
   "source": [
    "from selenium import webdriver\n",
    "from selenium.webdriver.support.ui import Select\n",
    "from webdriver_manager.firefox import GeckoDriverManager\n",
    "from selenium.webdriver.common.by import By\n",
    "from selenium.webdriver.firefox.options import Options\n",
    "from selenium.webdriver.support.ui import WebDriverWait\n",
    "from selenium.webdriver.support import expected_conditions as EC\n",
    "from selenium.webdriver.firefox.service import Service\n",
    "import os \n",
    "\n",
    "path_download = \"/home/concha-eloko/Téléchargements\"\n",
    "path_out = \"/media/concha-eloko/Linux/PPT_clean/in_vitro/Bea/genomes\"\n",
    "path_driver = \"/home/concha-eloko/.wdm/drivers/geckodriver/linux64/0.33/geckodriver\"\n",
    "path_destiny = \"/media/concha-eloko/Linux/PPT_clean/in_vitro/Bea\"\n",
    "service = Service(executable_path = path_driver)\n",
    "\n",
    "\n",
    "def setup_driver():\n",
    "    # Set up Selenium with a headless Firefox browser\n",
    "    firefox_options = Options()\n",
    "    firefox_options.add_argument(\"--headless\")\n",
    "    driver = webdriver.Firefox(service=service, options=firefox_options)\n",
    "    return driver\n",
    "\n",
    "def download_proteins(accessions):\n",
    "    driver = setup_driver()\n",
    "    try:\n",
    "        for accession in accessions:\n",
    "            url = f\"https://www.ncbi.nlm.nih.gov/ipg/?term={accession}\"\n",
    "            driver.get(url)\n",
    "            https://www.ncbi.nlm.nih.gov/search/all/?term=ON602732\n",
    "            # Click the 'Send to' button\n",
    "            send_to_button_locator = (By.XPATH, '/html/body/div[1]/div[1]/form/div[1]/div[4]/div/div[1]/h4/a')\n",
    "            send_to_button = WebDriverWait(driver, 10).until(EC.element_to_be_clickable(send_to_button_locator))\n",
    "            send_to_button.click()\n",
    "\n",
    "            # Click the 'Destination file' option\n",
    "            dest_file_button_locator = (By.XPATH, '//*[@id=\"dest_File\"]')\n",
    "            dest_file_button = WebDriverWait(driver, 10).until(EC.element_to_be_clickable(dest_file_button_locator))\n",
    "            dest_file_button.click()\n",
    "\n",
    "            # Select the 'FASTA' format\n",
    "            format_button_locator = (By.XPATH, '//*[@id=\"file_format\"]')\n",
    "            format_button = WebDriverWait(driver, 10).until(EC.element_to_be_clickable(format_button_locator))\n",
    "            format_button.click()\n",
    "            fasta_option_locator = (By.XPATH, '/html/body/div[1]/div[1]/form/div[1]/div[4]/div/div[1]/div[3]/div[1]/ul/li/select/option[3]')\n",
    "            fasta_option = WebDriverWait(driver, 10).until(EC.element_to_be_clickable(fasta_option_locator))\n",
    "            fasta_option.click()\n",
    "\n",
    "            # Click the 'Download' button\n",
    "            download_button_locator = (By.XPATH, '/html/body/div[1]/div[1]/form/div[1]/div[4]/div/div[1]/div[3]/div[1]/button')\n",
    "            download_button = WebDriverWait(driver, 10).until(EC.element_to_be_clickable(download_button_locator))\n",
    "            download_button.click()\n",
    "\n",
    "            # Move the downloaded file\n",
    "            os.system(f\"mv {path_download}/sequence.fasta {path_out}/{accession}.multi.faa\")\n",
    "            print(f\"Downloaded and moved {accession}.fasta\")\n",
    "\n",
    "    except TimeoutException:\n",
    "        print(\"Timeout occurred while waiting for elements.\")\n",
    "    except Exception as e:\n",
    "        print(f\"An error occurred: {e}\")\n",
    "    finally:\n",
    "        driver.quit()"
   ]
  },
  {
   "cell_type": "code",
   "execution_count": 10,
   "id": "659637b8-905d-426d-ace9-0f31c2dbc887",
   "metadata": {
    "scrolled": true
   },
   "outputs": [
    {
     "name": "stdout",
     "output_type": "stream",
     "text": [
      "Downloaded and moved ON623732.fasta\n",
      "Downloaded and moved ON602734.fasta\n",
      "Downloaded and moved ON602766.fasta\n"
     ]
    }
   ],
   "source": [
    "#genomes = open(f\"{path_destiny}/phages_accession.tsv\").read().split(\"\\n\")\n",
    "genomes = [\"ON623732\", \"ON602734\",\"ON602766\"]\n",
    "download_proteins(genomes)"
   ]
  },
  {
   "cell_type": "markdown",
   "id": "152ca75d-3b45-43af-8986-eee5939496d3",
   "metadata": {},
   "source": [
    "DepoScope being run on another notebook. Here we directly collect the results"
   ]
  },
  {
   "cell_type": "code",
   "execution_count": null,
   "id": "5873e3f4-5b4d-4682-a3ef-a43cc82f7a41",
   "metadata": {},
   "outputs": [],
   "source": []
  }
 ],
 "metadata": {
  "kernelspec": {
   "display_name": "Python 3 (ipykernel)",
   "language": "python",
   "name": "python3"
  },
  "language_info": {
   "codemirror_mode": {
    "name": "ipython",
    "version": 3
   },
   "file_extension": ".py",
   "mimetype": "text/x-python",
   "name": "python",
   "nbconvert_exporter": "python",
   "pygments_lexer": "ipython3",
   "version": "3.11.4"
  },
  "widgets": {
   "application/vnd.jupyter.widget-state+json": {
    "state": {},
    "version_major": 2,
    "version_minor": 0
   }
  }
 },
 "nbformat": 4,
 "nbformat_minor": 5
}
