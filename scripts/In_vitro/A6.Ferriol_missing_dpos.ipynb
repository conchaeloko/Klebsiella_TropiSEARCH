{
 "cells": [
  {
   "cell_type": "markdown",
   "id": "da45109b-49ab-4b0b-8ed7-2f5be5b9b532",
   "metadata": {},
   "source": [
    "## Identify the missing ones : "
   ]
  },
  {
   "cell_type": "markdown",
   "id": "e6d77beb-288e-45d7-ac1b-ef64c571cbc9",
   "metadata": {},
   "source": [
    "> All the depos in 77 phages : "
   ]
  },
  {
   "cell_type": "code",
   "execution_count": 2,
   "id": "0ef1594d-87ab-4307-a623-fc5299ed5c88",
   "metadata": {
    "tags": []
   },
   "outputs": [],
   "source": [
    "import os \n",
    "import pandas as pd\n",
    "from collections import Counter\n",
    "\n",
    "path_classic=\"/media/concha-eloko/Linux/77_strains_phage_project\"\n",
    "\n",
    "to_discard = [\"K80PH1317a\"]\n",
    "\n",
    "rbp_df = pd.read_csv(f\"{path_classic}/RBP_77_phages.0907.csv\", sep = \"\\t\", header =0).fillna(\"None\")\n",
    "rbp_df = rbp_df[~rbp_df[\"Phage\"].isin(to_discard)]\n",
    "depo_df = rbp_df[rbp_df[\"Function\"] == \"depolymerase\"]\n"
   ]
  },
  {
   "cell_type": "code",
   "execution_count": 3,
   "id": "12695fd4-a0ee-4437-a587-9fad02edfac1",
   "metadata": {
    "tags": []
   },
   "outputs": [],
   "source": [
    "depos_format_all = []\n",
    "for _, row in depo_df.iterrows() :\n",
    "    cds_name = \"_\".join(row[\"CDS\"].split(\" \"))\n",
    "    depo_name = f'{row[\"Phage\"]}__{cds_name}'\n",
    "    depos_format_all.append(depo_name)\n"
   ]
  },
  {
   "cell_type": "code",
   "execution_count": 4,
   "id": "6585753f-be9c-45ef-83ce-6b339b31081b",
   "metadata": {
    "tags": []
   },
   "outputs": [],
   "source": [
    "path_ppt = \"/media/concha-eloko/Linux/PPT_clean\"\n",
    "\n",
    "current_depo = pd.read_csv(f\"{path_ppt}/77_current_dpos.tsv\", names = [\"depos\"])\n",
    "depo_current_format = current_depo[\"depos\"].tolist()"
   ]
  },
  {
   "cell_type": "code",
   "execution_count": 5,
   "id": "234599eb-8c1d-4498-bac5-12d33b4e8e78",
   "metadata": {
    "tags": []
   },
   "outputs": [
    {
     "data": {
      "text/plain": [
       "11"
      ]
     },
     "execution_count": 5,
     "metadata": {},
     "output_type": "execute_result"
    }
   ],
   "source": [
    "missing_ones = set(depos_format_all) - set(depo_current_format)\n",
    "len(missing_ones)"
   ]
  },
  {
   "cell_type": "code",
   "execution_count": 6,
   "id": "5fe05ba3-f305-42a0-a08f-282a9e885351",
   "metadata": {
    "tags": []
   },
   "outputs": [
    {
     "data": {
      "text/plain": [
       "{'K18PH07C1__cds_231',\n",
       " 'K23PH08C2__cds_220',\n",
       " 'K23PH08C2__cds_225',\n",
       " 'K23PH08C2__cds_228',\n",
       " 'K45PH128C2__cds_227',\n",
       " 'K45PH128C2__cds_232',\n",
       " 'K45PH128C2__cds_235',\n",
       " 'K54lambda1_1_1__cds_225',\n",
       " 'K54lambda1_1_1__cds_230',\n",
       " 'K54lambda1_1_1__cds_233',\n",
       " 'K65PH164__cds_197'}"
      ]
     },
     "execution_count": 6,
     "metadata": {},
     "output_type": "execute_result"
    }
   ],
   "source": [
    "missing_ones"
   ]
  },
  {
   "cell_type": "markdown",
   "id": "15a23e1f-38de-4bdd-a858-585677540a84",
   "metadata": {},
   "source": [
    "***\n",
    "## Create a multi fasta file : "
   ]
  },
  {
   "cell_type": "code",
   "execution_count": 13,
   "id": "85d8b8ed-f956-468a-9df0-90af98d9f284",
   "metadata": {
    "tags": []
   },
   "outputs": [],
   "source": [
    "path_project = \"/media/concha-eloko/Linux/77_strains_phage_project\"\n",
    "path_annotation = f\"{path_project}/annotation_classic\"\n",
    "\n",
    "missing_depo_df = pd.read_csv(f\"{path_project}/missing_dpos_delination.0907.tsv\", names = [\"depos\", \"boundaries\"], sep = \"\\t\")\n"
   ]
  },
  {
   "cell_type": "code",
   "execution_count": 14,
   "id": "e13e1629-cf0e-434d-8ddc-c1b4dd2465b0",
   "metadata": {
    "tags": []
   },
   "outputs": [
    {
     "data": {
      "text/html": [
       "<div>\n",
       "<style scoped>\n",
       "    .dataframe tbody tr th:only-of-type {\n",
       "        vertical-align: middle;\n",
       "    }\n",
       "\n",
       "    .dataframe tbody tr th {\n",
       "        vertical-align: top;\n",
       "    }\n",
       "\n",
       "    .dataframe thead th {\n",
       "        text-align: right;\n",
       "    }\n",
       "</style>\n",
       "<table border=\"1\" class=\"dataframe\">\n",
       "  <thead>\n",
       "    <tr style=\"text-align: right;\">\n",
       "      <th></th>\n",
       "      <th>depos</th>\n",
       "      <th>boundaries</th>\n",
       "    </tr>\n",
       "  </thead>\n",
       "  <tbody>\n",
       "    <tr>\n",
       "      <th>0</th>\n",
       "      <td>K18PH07C1__cds_231</td>\n",
       "      <td>175-476</td>\n",
       "    </tr>\n",
       "    <tr>\n",
       "      <th>1</th>\n",
       "      <td>K23PH08C2__cds_220</td>\n",
       "      <td>167-472</td>\n",
       "    </tr>\n",
       "    <tr>\n",
       "      <th>2</th>\n",
       "      <td>K23PH08C2__cds_225</td>\n",
       "      <td>107-256</td>\n",
       "    </tr>\n",
       "    <tr>\n",
       "      <th>3</th>\n",
       "      <td>K23PH08C2__cds_228</td>\n",
       "      <td>86-161</td>\n",
       "    </tr>\n",
       "    <tr>\n",
       "      <th>4</th>\n",
       "      <td>K45PH128C2__cds_227</td>\n",
       "      <td>167-472</td>\n",
       "    </tr>\n",
       "    <tr>\n",
       "      <th>5</th>\n",
       "      <td>K45PH128C2__cds_232</td>\n",
       "      <td>107-274</td>\n",
       "    </tr>\n",
       "    <tr>\n",
       "      <th>6</th>\n",
       "      <td>K45PH128C2__cds_235</td>\n",
       "      <td>85-155</td>\n",
       "    </tr>\n",
       "    <tr>\n",
       "      <th>7</th>\n",
       "      <td>K54lambda1_1_1__cds_225</td>\n",
       "      <td>169-476</td>\n",
       "    </tr>\n",
       "    <tr>\n",
       "      <th>8</th>\n",
       "      <td>K54lambda1_1_1__cds_230</td>\n",
       "      <td>108-272</td>\n",
       "    </tr>\n",
       "    <tr>\n",
       "      <th>9</th>\n",
       "      <td>K54lambda1_1_1__cds_233</td>\n",
       "      <td>87-151</td>\n",
       "    </tr>\n",
       "    <tr>\n",
       "      <th>10</th>\n",
       "      <td>K65PH164__cds_197</td>\n",
       "      <td>ignore</td>\n",
       "    </tr>\n",
       "  </tbody>\n",
       "</table>\n",
       "</div>"
      ],
      "text/plain": [
       "                      depos boundaries\n",
       "0        K18PH07C1__cds_231    175-476\n",
       "1        K23PH08C2__cds_220    167-472\n",
       "2        K23PH08C2__cds_225    107-256\n",
       "3        K23PH08C2__cds_228     86-161\n",
       "4       K45PH128C2__cds_227    167-472\n",
       "5       K45PH128C2__cds_232    107-274\n",
       "6       K45PH128C2__cds_235     85-155\n",
       "7   K54lambda1_1_1__cds_225    169-476\n",
       "8   K54lambda1_1_1__cds_230    108-272\n",
       "9   K54lambda1_1_1__cds_233     87-151\n",
       "10        K65PH164__cds_197     ignore"
      ]
     },
     "execution_count": 14,
     "metadata": {},
     "output_type": "execute_result"
    }
   ],
   "source": [
    "missing_depo_df"
   ]
  },
  {
   "cell_type": "code",
   "execution_count": 15,
   "id": "8033f9ef-8821-403e-9abe-d2b6d5e47107",
   "metadata": {
    "tags": []
   },
   "outputs": [],
   "source": [
    "with open(f\"{path_ppt}/missing_depo.09072024.fasta\", \"w\") as outfile :\n",
    "    for _, row in missing_depo_df.iterrows() :\n",
    "        if row[\"boundaries\"] != \"ignore\" :\n",
    "            phage = row[\"depos\"].split(\"__\")[0]\n",
    "            cds = row[\"depos\"].split(\"_\")[-1]\n",
    "            faa_file = open(f\"{path_classic}/annotation_29092023/{phage}/{phage}.multi.annotated.faa\").read().split(\">\")\n",
    "            if row[\"boundaries\"] == \"full\" :\n",
    "                seq = faa_file[int(cds)].split('\\n')[1]\n",
    "            else :\n",
    "                start , end = int(row[\"boundaries\"].split(\"-\")[0]) , int(row[\"boundaries\"].split(\"-\")[1])\n",
    "                seq = faa_file[int(cds)].split('\\n')[1][start : end]\n",
    "            outfile.write(f\">{phage}__cds_{cds}\\n{seq}\\n\\n\")\n"
   ]
  },
  {
   "cell_type": "markdown",
   "id": "d79ea737-90cb-42ec-bb7e-a38758bcb9dc",
   "metadata": {},
   "source": [
    "> Fix missing some missing dpo"
   ]
  },
  {
   "cell_type": "code",
   "execution_count": 16,
   "id": "2e23bb34-7adf-424a-89ec-3f41d8908215",
   "metadata": {
    "tags": []
   },
   "outputs": [
    {
     "data": {
      "text/plain": [
       "10"
      ]
     },
     "execution_count": 16,
     "metadata": {},
     "output_type": "execute_result"
    }
   ],
   "source": [
    "from Bio import SeqIO\n",
    "path_ppt = \"/media/concha-eloko/Linux/PPT_clean\"\n",
    "\n",
    "missing_depo_seqio = {record.description : record.seq for record in SeqIO.parse(f\"{path_ppt}/missing_depo.09072024.fasta\", \"fasta\")}\n",
    "len(missing_depo_seqio)"
   ]
  },
  {
   "cell_type": "markdown",
   "id": "cd1d7779-42ad-4a4b-b68f-a2f861e091e2",
   "metadata": {},
   "source": [
    "> Move it to the server :"
   ]
  },
  {
   "cell_type": "code",
   "execution_count": null,
   "id": "8266a418-4e4c-407e-a95a-e8d072249fcf",
   "metadata": {},
   "outputs": [],
   "source": [
    "rsync -avzhe ssh \\\n",
    "/media/concha-eloko/Linux/PPT_clean/missing_depo.09072024.fasta \\\n",
    "conchae@garnatxa.srv.cpd:/home/conchae/77_strains_phage_project\n",
    "\n",
    "rsync -avzhe ssh \\\n",
    "conchae@garnatxa.srv.cpd:/home/conchae/77_strains_phage_project/missing_depo.09072024.fasta.esm2_out \\\n",
    "/media/concha-eloko/Linux/77_strains_phage_project/\n"
   ]
  },
  {
   "cell_type": "code",
   "execution_count": 17,
   "id": "94cdf7b8-b78d-444b-af0c-b9dc05bf3e75",
   "metadata": {},
   "outputs": [
    {
     "name": "stderr",
     "output_type": "stream",
     "text": [
      "100%|█████████████████████████████████████████████████████████████████████████████████████████████████████████████████████████████████████████████████| 10/10 [00:00<00:00, 1413.46it/s]\n",
      "100%|█████████████████████████████████████████████████████████████████████████████████████████████████████████████████████████████████████████████████| 10/10 [00:00<00:00, 1681.89it/s]\n"
     ]
    }
   ],
   "source": [
    "import torch\n",
    "import os \n",
    "import pandas as pd\n",
    "from tqdm import tqdm \n",
    "\n",
    "\n",
    "path_esm = \"/media/concha-eloko/Linux/77_strains_phage_project/missing_depo.09072024.fasta.esm2_out\"\n",
    "\n",
    "embeddings_esm = {}\n",
    "for file in tqdm(os.listdir(path_esm)) :\n",
    "    path_file = f\"{path_esm}/{file}\"\n",
    "    index = file.split(\".\")[0]\n",
    "    embb = torch.load(f\"{path_file}\")[\"mean_representations\"][33].tolist()\n",
    "    embeddings_esm[index] = embb\n",
    "    \n",
    "with open(f\"/media/concha-eloko/Linux/77_strains_phage_project/missed_dpo.77_phages.domains.09072024.esm2.embedding.csv\" , \"w\") as outfile :\n",
    "    for index in tqdm(embeddings_esm) :\n",
    "        outfile.write(f\"{index},\")\n",
    "        #for _,  emb in enumerate(embeddings_esm[index]) :\n",
    "        #    outfile.write(f\"{emb},\")\n",
    "        data_emb = \",\".join([str(item) for item in embeddings_esm[index]])\n",
    "        outfile.write(f\"{data_emb}\\n\")\n",
    "        #outfile.write(\"\\n\")"
   ]
  },
  {
   "cell_type": "code",
   "execution_count": null,
   "id": "d69a7aef-c0bd-4444-887f-ae7ae423e346",
   "metadata": {},
   "outputs": [],
   "source": []
  }
 ],
 "metadata": {
  "kernelspec": {
   "display_name": "Python [conda env:torch_geometric]",
   "language": "python",
   "name": "conda-env-torch_geometric-py"
  },
  "language_info": {
   "codemirror_mode": {
    "name": "ipython",
    "version": 3
   },
   "file_extension": ".py",
   "mimetype": "text/x-python",
   "name": "python",
   "nbconvert_exporter": "python",
   "pygments_lexer": "ipython3",
   "version": "3.11.4"
  },
  "widgets": {
   "application/vnd.jupyter.widget-state+json": {
    "state": {},
    "version_major": 2,
    "version_minor": 0
   }
  }
 },
 "nbformat": 4,
 "nbformat_minor": 5
}
