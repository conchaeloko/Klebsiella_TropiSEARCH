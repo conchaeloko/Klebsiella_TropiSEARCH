{
 "cells": [
  {
   "cell_type": "code",
   "execution_count": 2,
   "id": "0f294fce-37c4-4ae7-8b3d-37abb351ed22",
   "metadata": {},
   "outputs": [
    {
     "name": "stderr",
     "output_type": "stream",
     "text": [
      "/media/concha-eloko/Linux/conda_envs/ML_work/lib/python3.11/site-packages/tqdm/auto.py:21: TqdmWarning: IProgress not found. Please update jupyter and ipywidgets. See https://ipywidgets.readthedocs.io/en/stable/user_install.html\n",
      "  from .autonotebook import tqdm as notebook_tqdm\n"
     ]
    }
   ],
   "source": [
    "from transformers import AutoModelForTokenClassification, AutoTokenizer\n",
    "import torch\n",
    "from torch import nn \n",
    "import torch.nn.functional as F\n",
    "\n",
    "import os\n",
    "import numpy as np\n",
    "import tqdm\n",
    "import matplotlib.pyplot as plt\n",
    "from DepoScope_functions import Dpo_classifier , find_longest_non_zero_suite_with_n_zeros , predict_sequence, plot_token\n",
    "\n",
    "import warnings\n",
    "warnings.filterwarnings(\"ignore\") \n",
    "\n",
    "path_work = \"/media/concha-eloko/Linux/depolymerase_building\"\n",
    "\n",
    "esm2_model_path = f\"{path_work}/esm2_t12_35M_UR50D-finetuned-depolymerase.labels_4/checkpoint-6015\"\n",
    "DpoDetection_path = f\"{path_work}/DepoDetection.T12.4Labels.1908.model\"\n",
    "\n",
    "tokenizer = AutoTokenizer.from_pretrained(esm2_model_path)\n",
    "esm2_finetuned = AutoModelForTokenClassification.from_pretrained(esm2_model_path)"
   ]
  },
  {
   "cell_type": "code",
   "execution_count": 3,
   "id": "6f6ff388-70f5-4979-b17b-45a4c9560f1a",
   "metadata": {
    "scrolled": true
   },
   "outputs": [
    {
     "data": {
      "text/plain": [
       "Dpo_classifier(\n",
       "  (pretrained_model): EsmForTokenClassification(\n",
       "    (esm): EsmModel(\n",
       "      (embeddings): EsmEmbeddings(\n",
       "        (word_embeddings): Embedding(33, 480, padding_idx=1)\n",
       "        (dropout): Dropout(p=0.0, inplace=False)\n",
       "        (position_embeddings): Embedding(1026, 480, padding_idx=1)\n",
       "      )\n",
       "      (encoder): EsmEncoder(\n",
       "        (layer): ModuleList(\n",
       "          (0-11): 12 x EsmLayer(\n",
       "            (attention): EsmAttention(\n",
       "              (self): EsmSelfAttention(\n",
       "                (query): Linear(in_features=480, out_features=480, bias=True)\n",
       "                (key): Linear(in_features=480, out_features=480, bias=True)\n",
       "                (value): Linear(in_features=480, out_features=480, bias=True)\n",
       "                (dropout): Dropout(p=0.0, inplace=False)\n",
       "                (rotary_embeddings): RotaryEmbedding()\n",
       "              )\n",
       "              (output): EsmSelfOutput(\n",
       "                (dense): Linear(in_features=480, out_features=480, bias=True)\n",
       "                (dropout): Dropout(p=0.0, inplace=False)\n",
       "              )\n",
       "              (LayerNorm): LayerNorm((480,), eps=1e-05, elementwise_affine=True)\n",
       "            )\n",
       "            (intermediate): EsmIntermediate(\n",
       "              (dense): Linear(in_features=480, out_features=1920, bias=True)\n",
       "            )\n",
       "            (output): EsmOutput(\n",
       "              (dense): Linear(in_features=1920, out_features=480, bias=True)\n",
       "              (dropout): Dropout(p=0.0, inplace=False)\n",
       "            )\n",
       "            (LayerNorm): LayerNorm((480,), eps=1e-05, elementwise_affine=True)\n",
       "          )\n",
       "        )\n",
       "        (emb_layer_norm_after): LayerNorm((480,), eps=1e-05, elementwise_affine=True)\n",
       "      )\n",
       "      (contact_head): EsmContactPredictionHead(\n",
       "        (regression): Linear(in_features=240, out_features=1, bias=True)\n",
       "        (activation): Sigmoid()\n",
       "      )\n",
       "    )\n",
       "    (dropout): Dropout(p=0.0, inplace=False)\n",
       "    (classifier): Linear(in_features=480, out_features=4, bias=True)\n",
       "  )\n",
       "  (conv1): Conv1d(1, 64, kernel_size=(5,), stride=(1,))\n",
       "  (conv2): Conv1d(64, 128, kernel_size=(5,), stride=(1,))\n",
       "  (fc1): Linear(in_features=130048, out_features=32, bias=True)\n",
       "  (classifier): Linear(in_features=32, out_features=1, bias=True)\n",
       ")"
      ]
     },
     "execution_count": 3,
     "metadata": {},
     "output_type": "execute_result"
    }
   ],
   "source": [
    "model_classifier = Dpo_classifier(esm2_finetuned) \n",
    "model_classifier.load_state_dict(torch.load(DpoDetection_path), strict = False) \n",
    "model_classifier.eval() \n"
   ]
  },
  {
   "cell_type": "code",
   "execution_count": 4,
   "id": "67cd4c03-4ae7-4a8f-9664-ee8eda322d6c",
   "metadata": {},
   "outputs": [
    {
     "name": "stderr",
     "output_type": "stream",
     "text": [
      "100%|███████████████████████████████████████████| 32/32 [03:19<00:00,  6.23s/it]\n"
     ]
    }
   ],
   "source": [
    "path_out = \"/media/concha-eloko/Linux/PPT_clean/in_vitro/Others\"\n",
    "from Bio import SeqIO\n",
    "from tqdm import tqdm \n",
    "\n",
    "\n",
    "#with open(f\"{path_out}/Others.multi.fasta\", \"w\") as outfile : \n",
    "predictions = {}\n",
    "for multi_faa in tqdm(os.listdir(path_out)) :\n",
    "    if multi_faa.count(\"sequence\") > 0 : \n",
    "        fastas = SeqIO.parse(f\"{path_out}/{multi_faa}\" , \"fasta\")\n",
    "        tmp_results = []\n",
    "        for record in fastas :\n",
    "            protein_seq = str(record.seq)\n",
    "            if len(protein_seq) >= 200 :\n",
    "                prediction, sequence_outputs = predict_sequence(model_classifier, protein_seq)\n",
    "                if prediction[0] == 1 :\n",
    "                    name = record.description.split(\"|\")[1].split(\" [\")[0]\n",
    "                    a = (prediction , record.description)\n",
    "                    tmp_results.append(a)\n",
    "                    #outfile.write(f\">{name}\\n{record.seq}\\n\")\n",
    "                else :\n",
    "                    pass\n",
    "        phage = record.description.split(\"|\")[1].split(\"_prot\")[0]\n",
    "        predictions[phage] = tmp_results\n"
   ]
  },
  {
   "cell_type": "code",
   "execution_count": 12,
   "id": "dae63861-c3e6-4920-a036-3a01d26018fc",
   "metadata": {
    "scrolled": true
   },
   "outputs": [
    {
     "name": "stdout",
     "output_type": "stream",
     "text": [
      "{'AB716666.1': [((1.0, 1.0), 'lcl|AB716666.1_prot_BAP15736.1_24 [protein=putative tail tubular protein B] [protein_id=BAP15736.1] [location=26714..29086] [gbkey=CDS]'),\n",
      "                ((1.0, 1.0), 'lcl|AB716666.1_prot_BAP15746.1_34 [protein=hypothetical protein] [protein_id=BAP15746.1] [location=41063..43018] [gbkey=CDS]')],\n",
      " 'AB897757.1': [((1.0, 1.0), 'lcl|AB897757.1_prot_BAQ02789.1_9 [protein=hypothetical protein] [protein_id=BAQ02789.1] [location=complement(40780..41895)] [gbkey=CDS]'),\n",
      "                ((1.0, 1.0), 'lcl|AB897757.1_prot_BAQ02835.1_55 [protein=tail spike protein] [protein_id=BAQ02835.1] [location=complement(321593..323803)] [gbkey=CDS]'),\n",
      "                ((1.0, 1.0), 'lcl|AB897757.1_prot_BAQ02836.1_56 [protein=tailspike protein] [protein_id=BAQ02836.1] [location=complement(323855..325810)] [gbkey=CDS]'),\n",
      "                ((1.0, 1.0), 'lcl|AB897757.1_prot_BAQ02837.1_57 [protein=putative tail fiber protein] [protein_id=BAQ02837.1] [location=complement(325887..327995)] [gbkey=CDS]'),\n",
      "                ((1.0, 1.0), 'lcl|AB897757.1_prot_BAQ02838.1_58 [protein=putative tail fiber protein] [protein_id=BAQ02838.1] [location=complement(328067..331648)] [gbkey=CDS]'),\n",
      "                ((1.0, 1.0), 'lcl|AB897757.1_prot_BAQ02839.1_59 [protein=putative tail fiber protein] [protein_id=BAQ02839.1] [location=complement(331729..333483)] [gbkey=CDS]'),\n",
      "                ((1.0, 1.0), 'lcl|AB897757.1_prot_BAQ02840.1_60 [protein=putative structural protein] [protein_id=BAQ02840.1] [location=complement(333493..335832)] [gbkey=CDS]'),\n",
      "                ((1.0, 1.0), 'lcl|AB897757.1_prot_BAQ02841.1_61 [protein=putative tail fiber protein] [protein_id=BAQ02841.1] [location=complement(335902..338568)] [gbkey=CDS]'),\n",
      "                ((1.0, 1.0), 'lcl|AB897757.1_prot_BAQ02842.1_62 [protein=putative tail fiber protein] [protein_id=BAQ02842.1] [location=338917..341907] [gbkey=CDS]'),\n",
      "                ((1.0, 1.0), 'lcl|AB897757.1_prot_BAQ02843.1_63 [protein=putative structural protein] [protein_id=BAQ02843.1] [location=341980..344283] [gbkey=CDS]'),\n",
      "                ((1.0, 1.0), 'lcl|AB897757.1_prot_BAQ02844.1_64 [protein=putative tail fiber protein] [protein_id=BAQ02844.1] [location=344312..346471] [gbkey=CDS]')],\n",
      " 'MH844531.1': [((1.0, 1.0), 'lcl|MH844531.1_prot_AYP28213.1_32 [locus_tag=GHK3_32] [protein=depolymerase] [protein_id=AYP28213.1] [location=18124..20847] [gbkey=CDS]')],\n",
      " 'MK903728.1': [((1.0, 1.0), 'lcl|MK903728.1_prot_QDF14639.1_37 [locus_tag=SHKP152226_37] [protein=tail fiber protein] [protein_id=QDF14639.1] [location=23783..26185] [gbkey=CDS]'),\n",
      "                ((1.0, 1.0), 'lcl|MK903728.1_prot_QDF14644.1_42 [locus_tag=SHKP152226_42] [protein=tail fiber protein] [protein_id=QDF14644.1] [location=33566..35947] [gbkey=CDS]'),\n",
      "                ((1.0, 1.0), 'lcl|MK903728.1_prot_QDF14645.1_43 [locus_tag=SHKP152226_43] [protein=hypothetical protein] [protein_id=QDF14645.1] [location=35966..37891] [gbkey=CDS]')],\n",
      " 'MN781108.1': [((1.0, 1.0), 'lcl|MN781108.1_prot_QGZ15323.1_262 [protein=baseplate wedge initiator] [protein_id=QGZ15323.1] [location=complement(151330..154437)] [gbkey=CDS]')],\n",
      " 'MT542697.1': [((1.0, 1.0), 'lcl|MT542697.1_prot_QKY78347.1_38 [protein=tail fiber protein / tail tubular protein B] [protein_id=QKY78347.1] [location=24209..26584] [gbkey=CDS]'),\n",
      "                ((1.0, 0.9999434947967529), 'lcl|MT542697.1_prot_QKY78353.1_44 [protein=tail fibers protein] [protein_id=QKY78353.1] [location=34336..37389] [gbkey=CDS]')],\n",
      " 'MT966872.1': [((1.0, 1.0), 'lcl|MT966872.1_prot_QOV05449.1_33 [protein=tail tubular protein B] [protein_id=QOV05449.1] [location=22907..25282] [gbkey=CDS]'),\n",
      "                ((1.0, 0.9999434947967529), 'lcl|MT966872.1_prot_QOV05454.1_38 [protein=tail fibers protein] [protein_id=QOV05454.1] [location=33034..36087] [gbkey=CDS]')],\n",
      " 'MT966873.1': [((1.0, 1.0), 'lcl|MT966873.1_prot_QOV05496.1_37 [protein=non-contractile tail tubular protein] [protein_id=QOV05496.1] [location=23697..26072] [gbkey=CDS]'),\n",
      "                ((1.0, 1.0), 'lcl|MT966873.1_prot_QOV05501.1_42 [protein=non-contractile tail fiber protein] [protein_id=QOV05501.1] [location=33448..35856] [gbkey=CDS]'),\n",
      "                ((1.0, 1.0), 'lcl|MT966873.1_prot_QOV05502.1_43 [protein=non-contractile tail fiber protein] [protein_id=QOV05502.1] [location=35866..37791] [gbkey=CDS]')],\n",
      " 'MW655991.1': [((1.0, 1.0), 'lcl|MW655991.1_prot_QUU29414.1_2 [locus_tag=RAD2_02] [protein=depolymerase tail fiber protein] [protein_id=QUU29414.1] [location=complement(4063..6786)] [gbkey=CDS]')],\n",
      " 'MZ826764.1': [((1.0, 1.0), 'lcl|MZ826764.1_prot_UCR74082.1_30 [protein=putative tailspike protein] [protein_id=UCR74082.1] [location=108361..111903] [gbkey=CDS]'),\n",
      "                ((1.0, 1.0), 'lcl|MZ826764.1_prot_UCR74083.1_31 [protein=tail fiber protein] [protein_id=UCR74083.1] [location=112008..115892] [gbkey=CDS]'),\n",
      "                ((1.0, 1.0), 'lcl|MZ826764.1_prot_UCR74084.1_32 [protein=endo-N-acetylneuraminidase] [protein_id=UCR74084.1] [location=115936..117744] [gbkey=CDS]'),\n",
      "                ((1.0, 1.0), 'lcl|MZ826764.1_prot_UCR74085.1_33 [protein=putative tail fiber protein] [protein_id=UCR74085.1] [location=117838..120009] [gbkey=CDS]')],\n",
      " 'NC_013649.2': [((1.0, 1.0),\n",
      "                  'lcl|NC_013649.2_prot_YP_003347639.1_45 [gene=45] [locus_tag=KP-KP34p45] [db_xref=GeneID:8683388] [protein=tail tubular protein B] [protein_id=YP_003347639.1] '\n",
      "                  '[location=27276..29636] [gbkey=CDS]'),\n",
      "                 ((1.0, 1.0),\n",
      "                  'lcl|NC_013649.2_prot_YP_003347651.1_57 [gene=57] [locus_tag=KP-KP34p57] [db_xref=GeneID:8683400] [protein=tail protein] [protein_id=YP_003347651.1] [location=41579..43471] '\n",
      "                  '[gbkey=CDS]')],\n",
      " 'NC_025418.1': [((1.0, 1.0),\n",
      "                  'lcl|NC_025418.1_prot_YP_009098375.1_24 [locus_tag=OZ76_gp24] [db_xref=GeneID:22276639] [protein=putative tail tubular protein B] [protein_id=YP_009098375.1] '\n",
      "                  '[location=26714..29086] [gbkey=CDS]'),\n",
      "                 ((1.0, 1.0),\n",
      "                  'lcl|NC_025418.1_prot_YP_009098385.1_34 [locus_tag=OZ76_gp34] [db_xref=GeneID:22276649] [protein=tail fiber protein] [protein_id=YP_009098385.1] [location=41063..43018] '\n",
      "                  '[gbkey=CDS]')],\n",
      " 'NC_029099.1': [((1.0, 1.0),\n",
      "                  'lcl|NC_029099.1_prot_YP_009226011.1_50 [locus_tag=AXI63_gp50] [db_xref=GeneID:26797061] [protein=tail protein] [protein_id=YP_009226011.1] [location=complement(29509..32160)] '\n",
      "                  '[gbkey=CDS]')],\n",
      " 'NC_031246.1': [((1.0, 1.0),\n",
      "                  'lcl|NC_031246.1_prot_YP_009302745.1_41 [locus_tag=BJD76_gp41] [db_xref=GeneID:29124293] [protein=putative tail tubular protein B] [protein_id=YP_009302745.1] '\n",
      "                  '[location=26118..28490] [gbkey=CDS]'),\n",
      "                 ((1.0, 1.0),\n",
      "                  'lcl|NC_031246.1_prot_YP_009302756.1_52 [locus_tag=BJD76_gp52] [db_xref=GeneID:29124289] [protein=tail fiber protein] [protein_id=YP_009302756.1] [location=40466..42421] '\n",
      "                  '[gbkey=CDS]')],\n",
      " 'ON146449.1': [((1.0, 0.9999998807907104),\n",
      "                 'lcl|ON146449.1_prot_UPW35138.1_1 [locus_tag=HCLLCEGK_00001] [protein=hypothetical protein] [protein_id=UPW35138.1] [location=complement(312..2045)] [gbkey=CDS]'),\n",
      "                ((1.0, 1.0), 'lcl|ON146449.1_prot_UPW35150.1_13 [locus_tag=HCLLCEGK_00013] [protein=tail tubular protein] [protein_id=UPW35150.1] [location=complement(14006..16387)] [gbkey=CDS]')]}\n"
     ]
    }
   ],
   "source": [
    "import pprint\n",
    "\n",
    "def clean_print(dico) :\n",
    "\t\"\"\" \n",
    "\tInputs : a dico\n",
    "\tOutputs : pretty printed dico\n",
    "\t\"\"\"\n",
    "\tpp = pprint.PrettyPrinter(width = 200, sort_dicts = True, compact = True)\n",
    "\tout = pp.pprint(dico)\n",
    "\treturn out \n",
    "    \n",
    "clean_print(predictions)"
   ]
  },
  {
   "cell_type": "code",
   "execution_count": 11,
   "id": "5f8c8799-2c98-432a-8ffa-f7e0d9a0bc3f",
   "metadata": {},
   "outputs": [
    {
     "data": {
      "text/plain": [
       "15"
      ]
     },
     "execution_count": 11,
     "metadata": {},
     "output_type": "execute_result"
    }
   ],
   "source": [
    "len(predictions)"
   ]
  },
  {
   "cell_type": "code",
   "execution_count": null,
   "id": "e8116090-4dd6-4e66-a001-26d96c7f975f",
   "metadata": {},
   "outputs": [],
   "source": [
    "rsync -avzhe ssh \\\n",
    "/media/concha-eloko/Linux/PPT_clean/in_vitro/Others/Others.multi.fasta \\\n",
    "conchae@garnatxa.srv.cpd:/home/conchae/PhageDepo_pdb/others_esmfold\n",
    "\n",
    "\n",
    "rsync -avzhe ssh \\\n",
    "conchae@garnatxa.srv.cpd:/home/conchae/PhageDepo_pdb/others_esmfold \\\n",
    "/media/concha-eloko/Linux/PPT_clean/in_vitro/Others "
   ]
  }
 ],
 "metadata": {
  "kernelspec": {
   "display_name": "ML_work",
   "language": "python",
   "name": "ml_work"
  },
  "language_info": {
   "codemirror_mode": {
    "name": "ipython",
    "version": 3
   },
   "file_extension": ".py",
   "mimetype": "text/x-python",
   "name": "python",
   "nbconvert_exporter": "python",
   "pygments_lexer": "ipython3",
   "version": "3.11.4"
  },
  "widgets": {
   "application/vnd.jupyter.widget-state+json": {
    "state": {},
    "version_major": 2,
    "version_minor": 0
   }
  }
 },
 "nbformat": 4,
 "nbformat_minor": 5
}
