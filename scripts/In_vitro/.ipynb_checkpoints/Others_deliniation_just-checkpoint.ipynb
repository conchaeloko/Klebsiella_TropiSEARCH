{
 "cells": [
  {
   "cell_type": "code",
   "execution_count": 1,
   "id": "183e2e9a-77a7-4728-9e06-a10a8adbc5b6",
   "metadata": {},
   "outputs": [
    {
     "data": {
      "application/vnd.jupyter.widget-view+json": {
       "model_id": "3872267fc03849448c8f901509d6368a",
       "version_major": 2,
       "version_minor": 0
      },
      "text/plain": []
     },
     "metadata": {},
     "output_type": "display_data"
    }
   ],
   "source": [
    "import nglview as nv\n",
    "import os\n",
    "import numpy as np\n",
    "import tqdm\n",
    "import matplotlib.pyplot as plt\n",
    "import warnings\n",
    "warnings.filterwarnings(\"ignore\", category=RuntimeWarning) "
   ]
  },
  {
   "cell_type": "code",
   "execution_count": 31,
   "id": "db06dfa5-4f87-4f41-b63f-598f03b44f3c",
   "metadata": {},
   "outputs": [],
   "source": [
    "def view_pdb(file) : \n",
    "    view = nv.show_structure_file(file , ext=\"pdb\" , gui=False)\n",
    "    #view.add_label(\"position\")\n",
    "    #view.add_label(\"res\")\n",
    "    return view\n",
    "\n",
    "n = 0"
   ]
  },
  {
   "cell_type": "code",
   "execution_count": 55,
   "id": "438cea57-0a1b-4812-9a7b-6f932b7fef62",
   "metadata": {},
   "outputs": [
    {
     "data": {
      "application/vnd.jupyter.widget-view+json": {
       "model_id": "",
       "version_major": 2,
       "version_minor": 0
      },
      "text/plain": [
       "NGLWidget(n_components=1)"
      ]
     },
     "metadata": {},
     "output_type": "display_data"
    }
   ],
   "source": [
    "path_project = \"/media/concha-eloko/Linux/PPT_clean/in_vitro/Others_2nd/others_esmfold\"\n",
    "\n",
    "for i, file in enumerate(os.listdir(path_project)) :\n",
    "    if i == n and file != \"Others_2nd.multi.fasta\":\n",
    "        view.close()\n",
    "        view = view_pdb(f\"{path_project}/{file}\")\n",
    "        #view.render_image(trim=True)\n",
    "        print(file)\n",
    "        n += 1 \n",
    "        break\n",
    "view"
   ]
  },
  {
   "cell_type": "code",
   "execution_count": 56,
   "id": "008d0c09-a3e1-4196-99d1-ac80016bf18a",
   "metadata": {},
   "outputs": [],
   "source": [
    "view.close()"
   ]
  },
  {
   "cell_type": "code",
   "execution_count": 5,
   "id": "5fa0924a-ad0f-413a-9249-a40a40d4e817",
   "metadata": {},
   "outputs": [],
   "source": [
    "path_project = \"/media/concha-eloko/Linux/PPT_clean/in_vitro/Others_2nd\"\n",
    "\n",
    "from Bio import SeqIO\n",
    "import pandas as pd \n",
    "from tqdm import tqdm\n",
    "\n",
    "delim_dpo = pd.read_csv(f\"{path_project}/Dpos_deliniations.tsv\", sep = \"\\t\", names = [\"Dpo\", \"Boundaries\"]).fillna(\"None\")\n"
   ]
  },
  {
   "cell_type": "code",
   "execution_count": 58,
   "id": "88fb0200-9ab6-41b9-9335-ace453060a28",
   "metadata": {},
   "outputs": [
    {
     "data": {
      "text/html": [
       "<div>\n",
       "<style scoped>\n",
       "    .dataframe tbody tr th:only-of-type {\n",
       "        vertical-align: middle;\n",
       "    }\n",
       "\n",
       "    .dataframe tbody tr th {\n",
       "        vertical-align: top;\n",
       "    }\n",
       "\n",
       "    .dataframe thead th {\n",
       "        text-align: right;\n",
       "    }\n",
       "</style>\n",
       "<table border=\"1\" class=\"dataframe\">\n",
       "  <thead>\n",
       "    <tr style=\"text-align: right;\">\n",
       "      <th></th>\n",
       "      <th>Dpo</th>\n",
       "      <th>Boundaries</th>\n",
       "    </tr>\n",
       "  </thead>\n",
       "  <tbody>\n",
       "    <tr>\n",
       "      <th>0</th>\n",
       "      <td>ON881905.1_prot_UTN90143.1_15.pdb</td>\n",
       "      <td>450-881</td>\n",
       "    </tr>\n",
       "    <tr>\n",
       "      <th>1</th>\n",
       "      <td>MZ571827.1_prot_UEW68150.1_60.pdb</td>\n",
       "      <td>260-542</td>\n",
       "    </tr>\n",
       "    <tr>\n",
       "      <th>2</th>\n",
       "      <td>MT197176.1_prot_QJI52623.1_49.pdb</td>\n",
       "      <td>311-649</td>\n",
       "    </tr>\n",
       "    <tr>\n",
       "      <th>3</th>\n",
       "      <td>OM032871.1_prot_UKL59188.1_41.pdb</td>\n",
       "      <td>294-593</td>\n",
       "    </tr>\n",
       "    <tr>\n",
       "      <th>4</th>\n",
       "      <td>MZ571832.1_prot_UEP19667.1_22.pdb</td>\n",
       "      <td>293-577</td>\n",
       "    </tr>\n",
       "    <tr>\n",
       "      <th>5</th>\n",
       "      <td>MZ612130.1_prot_QYC51043.1_10.pdb</td>\n",
       "      <td>187-523</td>\n",
       "    </tr>\n",
       "    <tr>\n",
       "      <th>6</th>\n",
       "      <td>MZ322895.1_prot_QWY13631.1_35.pdb</td>\n",
       "      <td>107-628</td>\n",
       "    </tr>\n",
       "    <tr>\n",
       "      <th>7</th>\n",
       "      <td>ON146449.1_prot_UPW35150.1_13.pdb</td>\n",
       "      <td>301-585</td>\n",
       "    </tr>\n",
       "    <tr>\n",
       "      <th>8</th>\n",
       "      <td>MZ571833.1_prot_UEW68243.1_1.pdb</td>\n",
       "      <td>285-582</td>\n",
       "    </tr>\n",
       "    <tr>\n",
       "      <th>9</th>\n",
       "      <td>MT197175.1_prot_QIW86428.1_58.pdb</td>\n",
       "      <td>74-589</td>\n",
       "    </tr>\n",
       "    <tr>\n",
       "      <th>10</th>\n",
       "      <td>MZ571827.1_prot_UEW68146.1_56.pdb</td>\n",
       "      <td>328-649</td>\n",
       "    </tr>\n",
       "    <tr>\n",
       "      <th>11</th>\n",
       "      <td>MT197175.1_prot_QIW86415.1_45.pdb</td>\n",
       "      <td>294-576</td>\n",
       "    </tr>\n",
       "    <tr>\n",
       "      <th>12</th>\n",
       "      <td>MZ571831.1_prot_UEW68236.1_80.pdb</td>\n",
       "      <td>246-707</td>\n",
       "    </tr>\n",
       "    <tr>\n",
       "      <th>13</th>\n",
       "      <td>MT197175.1_prot_QIW86419.1_49.pdb</td>\n",
       "      <td>313-643</td>\n",
       "    </tr>\n",
       "    <tr>\n",
       "      <th>14</th>\n",
       "      <td>ON146449.1_prot_UPW35138.1_1.pdb</td>\n",
       "      <td>121-412</td>\n",
       "    </tr>\n",
       "    <tr>\n",
       "      <th>15</th>\n",
       "      <td>MZ571832.1_prot_UEP19662.1_17.pdb</td>\n",
       "      <td>316-787</td>\n",
       "    </tr>\n",
       "    <tr>\n",
       "      <th>16</th>\n",
       "      <td>MT197176.1_prot_QJI52618.1_44.pdb</td>\n",
       "      <td>294-514</td>\n",
       "    </tr>\n",
       "    <tr>\n",
       "      <th>17</th>\n",
       "      <td>MT197176.1_prot_QJI52632.1_58.pdb</td>\n",
       "      <td>123-416</td>\n",
       "    </tr>\n",
       "    <tr>\n",
       "      <th>18</th>\n",
       "      <td>MZ571834.1_prot_UEP19705.1_4.pdb</td>\n",
       "      <td>294-585</td>\n",
       "    </tr>\n",
       "  </tbody>\n",
       "</table>\n",
       "</div>"
      ],
      "text/plain": [
       "                                  Dpo Boundaries\n",
       "0   ON881905.1_prot_UTN90143.1_15.pdb    450-881\n",
       "1   MZ571827.1_prot_UEW68150.1_60.pdb    260-542\n",
       "2   MT197176.1_prot_QJI52623.1_49.pdb    311-649\n",
       "3   OM032871.1_prot_UKL59188.1_41.pdb    294-593\n",
       "4   MZ571832.1_prot_UEP19667.1_22.pdb    293-577\n",
       "5   MZ612130.1_prot_QYC51043.1_10.pdb    187-523\n",
       "6   MZ322895.1_prot_QWY13631.1_35.pdb    107-628\n",
       "7   ON146449.1_prot_UPW35150.1_13.pdb    301-585\n",
       "8    MZ571833.1_prot_UEW68243.1_1.pdb    285-582\n",
       "9   MT197175.1_prot_QIW86428.1_58.pdb     74-589\n",
       "10  MZ571827.1_prot_UEW68146.1_56.pdb    328-649\n",
       "11  MT197175.1_prot_QIW86415.1_45.pdb    294-576\n",
       "12  MZ571831.1_prot_UEW68236.1_80.pdb    246-707\n",
       "13  MT197175.1_prot_QIW86419.1_49.pdb    313-643\n",
       "14   ON146449.1_prot_UPW35138.1_1.pdb    121-412\n",
       "15  MZ571832.1_prot_UEP19662.1_17.pdb    316-787\n",
       "16  MT197176.1_prot_QJI52618.1_44.pdb    294-514\n",
       "17  MT197176.1_prot_QJI52632.1_58.pdb    123-416\n",
       "18   MZ571834.1_prot_UEP19705.1_4.pdb    294-585"
      ]
     },
     "execution_count": 58,
     "metadata": {},
     "output_type": "execute_result"
    }
   ],
   "source": [
    "delim_dpo"
   ]
  },
  {
   "cell_type": "code",
   "execution_count": 59,
   "id": "e630f476-e199-49dd-ae7c-a30bae788406",
   "metadata": {},
   "outputs": [
    {
     "name": "stderr",
     "output_type": "stream",
     "text": [
      "16it [00:00, 29.50it/s]"
     ]
    },
    {
     "name": "stdout",
     "output_type": "stream",
     "text": [
      "1\t34\tMZ322895.1_prot_QWY13631.1_35\n",
      "2\t0\tON146449.1_prot_UPW35138.1_1\n",
      "2\t12\tON146449.1_prot_UPW35150.1_13\n",
      "3\t79\tMZ571831.1_prot_UEW68236.1_80\n",
      "4\t9\tMZ612130.1_prot_QYC51043.1_10\n",
      "5\t44\tMT197175.1_prot_QIW86415.1_45\n",
      "5\t48\tMT197175.1_prot_QIW86419.1_49\n",
      "5\t57\tMT197175.1_prot_QIW86428.1_58\n",
      "7\t16\tMZ571832.1_prot_UEP19662.1_17\n",
      "7\t21\tMZ571832.1_prot_UEP19667.1_22\n",
      "8\t3\tMZ571834.1_prot_UEP19705.1_4\n",
      "9\t14\tON881905.1_prot_UTN90143.1_15\n",
      "10\t43\tMT197176.1_prot_QJI52618.1_44\n",
      "10\t48\tMT197176.1_prot_QJI52623.1_49\n",
      "10\t57\tMT197176.1_prot_QJI52632.1_58\n",
      "13\t55\tMZ571827.1_prot_UEW68146.1_56\n",
      "13\t59\tMZ571827.1_prot_UEW68150.1_60\n",
      "14\t40\tOM032871.1_prot_UKL59188.1_41\n",
      "15\t0\tMZ571833.1_prot_UEW68243.1_1\n"
     ]
    },
    {
     "name": "stderr",
     "output_type": "stream",
     "text": [
      "\n"
     ]
    }
   ],
   "source": [
    "with open(f\"{path_project}/Others_2nd.dpos_domains.multi.fasta\", \"w\") as outfile : \n",
    "    for index,multi_faa in tqdm(enumerate(os.listdir(path_project))) :\n",
    "        if multi_faa.count(\"Klebsiella_phage\") > 0 : \n",
    "            fastas = SeqIO.parse(f\"{path_project}/{multi_faa}\" , \"fasta\")\n",
    "            for index_seq, record in enumerate(fastas) :\n",
    "                name = record.description.split(\"|\")[1].split(\" [\")[0]\n",
    "                if f\"{name}.pdb\" in delim_dpo[\"Dpo\"].tolist() : \n",
    "                    protein_seq = str(record.seq)\n",
    "                    if delim_dpo[delim_dpo['Dpo'] == f\"{name}.pdb\"][\"Boundaries\"].values[0] != \"None\" : \n",
    "                        start = int(delim_dpo[delim_dpo['Dpo'] == f\"{name}.pdb\"][\"Boundaries\"].values[0].split(\"-\")[0])\n",
    "                        end = int(delim_dpo[delim_dpo['Dpo'] == f\"{name}.pdb\"][\"Boundaries\"].values[0].split(\"-\")[1])\n",
    "                        #name = name.replace(\"_\",\"\")\n",
    "                        #name = name.replace(\".\",\"\")\n",
    "                        #print(name)\n",
    "                        outfile.write(f\">{index}__{index_seq}\\n{record.seq[start:end]}\\n\")\n",
    "                        #outfile.write(f\">{name}__{str(start)}_{str(end)}\\n{record.seq[start:end]}\\n\")\n",
    "                        print(index ,index_seq , name, sep = \"\\t\")"
   ]
  },
  {
   "cell_type": "code",
   "execution_count": 6,
   "id": "c23611c3-0a51-4319-9d6b-df3d8a821df9",
   "metadata": {},
   "outputs": [
    {
     "name": "stderr",
     "output_type": "stream",
     "text": [
      "18it [00:00, 392.14it/s]"
     ]
    },
    {
     "name": "stdout",
     "output_type": "stream",
     "text": [
      "1\t34\tMZ322895.1_prot_QWY13631.1_35\n",
      "2\t0\tON146449.1_prot_UPW35138.1_1\n",
      "2\t12\tON146449.1_prot_UPW35150.1_13\n",
      "3\t79\tMZ571831.1_prot_UEW68236.1_80\n",
      "4\t9\tMZ612130.1_prot_QYC51043.1_10\n",
      "5\t44\tMT197175.1_prot_QIW86415.1_45\n",
      "5\t48\tMT197175.1_prot_QIW86419.1_49\n",
      "5\t57\tMT197175.1_prot_QIW86428.1_58\n",
      "7\t16\tMZ571832.1_prot_UEP19662.1_17\n",
      "7\t21\tMZ571832.1_prot_UEP19667.1_22\n",
      "8\t3\tMZ571834.1_prot_UEP19705.1_4\n",
      "9\t14\tON881905.1_prot_UTN90143.1_15\n",
      "10\t43\tMT197176.1_prot_QJI52618.1_44\n",
      "10\t48\tMT197176.1_prot_QJI52623.1_49\n",
      "10\t57\tMT197176.1_prot_QJI52632.1_58\n",
      "13\t55\tMZ571827.1_prot_UEW68146.1_56\n",
      "13\t59\tMZ571827.1_prot_UEW68150.1_60\n",
      "15\t40\tOM032871.1_prot_UKL59188.1_41\n",
      "17\t0\tMZ571833.1_prot_UEW68243.1_1\n"
     ]
    },
    {
     "name": "stderr",
     "output_type": "stream",
     "text": [
      "\n"
     ]
    }
   ],
   "source": [
    "path_project = \"/media/concha-eloko/Linux/PPT_clean/in_vitro/Others_2nd\"\n",
    "from Bio import SeqIO\n",
    "import pandas as pd \n",
    "from tqdm import tqdm\n",
    "\n",
    "with open(f\"{path_project}/Others_2nd.dpos_domains.clean_name.multi.fasta\", \"w\") as outfile : \n",
    "    for index,multi_faa in tqdm(enumerate(os.listdir(path_project))) :\n",
    "        if multi_faa.count(\"Klebsiella_phage\") > 0 : \n",
    "            fastas = SeqIO.parse(f\"{path_project}/{multi_faa}\" , \"fasta\")\n",
    "            for index_seq, record in enumerate(fastas) :\n",
    "                name = record.description.split(\"|\")[1].split(\" [\")[0]\n",
    "                if f\"{name}.pdb\" in delim_dpo[\"Dpo\"].tolist() : \n",
    "                    protein_seq = str(record.seq)\n",
    "                    if delim_dpo[delim_dpo['Dpo'] == f\"{name}.pdb\"][\"Boundaries\"].values[0] != \"None\" : \n",
    "                        start = int(delim_dpo[delim_dpo['Dpo'] == f\"{name}.pdb\"][\"Boundaries\"].values[0].split(\"-\")[0])\n",
    "                        end = int(delim_dpo[delim_dpo['Dpo'] == f\"{name}.pdb\"][\"Boundaries\"].values[0].split(\"-\")[1])\n",
    "                        #name = name.replace(\"_\",\"\")\n",
    "                        #name = name.replace(\".\",\"\")\n",
    "                        #print(name)\n",
    "                        outfile.write(f\">{name}\\n{record.seq[start:end]}\\n\")\n",
    "                        #outfile.write(f\">{name}__{str(start)}_{str(end)}\\n{record.seq[start:end]}\\n\")\n",
    "                        print(index ,index_seq , name, sep = \"\\t\")"
   ]
  },
  {
   "cell_type": "code",
   "execution_count": 8,
   "id": "82368c64-d927-400e-a8c1-f4ac6e264439",
   "metadata": {},
   "outputs": [
    {
     "name": "stderr",
     "output_type": "stream",
     "text": [
      "38it [00:00, 79.31it/s]"
     ]
    },
    {
     "name": "stdout",
     "output_type": "stream",
     "text": [
      "1\t49\tNC_029099.1_prot_YP_009226011.1_50\n",
      "3\t1\tMW655991.1_prot_QUU29414.1_2\n",
      "5\t54\tAB897757.1_prot_BAQ02835.1_55\n",
      "5\t55\tAB897757.1_prot_BAQ02836.1_56\n",
      "5\t56\tAB897757.1_prot_BAQ02837.1_57\n",
      "5\t57\tAB897757.1_prot_BAQ02838.1_58\n",
      "5\t58\tAB897757.1_prot_BAQ02839.1_59\n",
      "5\t59\tAB897757.1_prot_BAQ02840.1_60\n",
      "5\t60\tAB897757.1_prot_BAQ02841.1_61\n",
      "5\t61\tAB897757.1_prot_BAQ02842.1_62\n",
      "5\t62\tAB897757.1_prot_BAQ02843.1_63\n",
      "5\t63\tAB897757.1_prot_BAQ02844.1_64\n",
      "6\t23\tAB716666.1_prot_BAP15736.1_24\n",
      "6\t33\tAB716666.1_prot_BAP15746.1_34\n",
      "8\t56\tNC_013649.2_prot_YP_003347651.1_57\n",
      "9\t31\tMH844531.1_prot_AYP28213.1_32\n",
      "12\t36\tMT966873.1_prot_QOV05496.1_37\n",
      "12\t41\tMT966873.1_prot_QOV05501.1_42\n",
      "12\t42\tMT966873.1_prot_QOV05502.1_43\n",
      "17\t23\tNC_025418.1_prot_YP_009098375.1_24\n",
      "17\t33\tNC_025418.1_prot_YP_009098385.1_34\n",
      "22\t261\tMN781108.1_prot_QGZ15323.1_262\n",
      "25\t0\tON146449.1_prot_UPW35138.1_1\n",
      "25\t12\tON146449.1_prot_UPW35150.1_13\n",
      "28\t37\tMT966872.1_prot_QOV05454.1_38\n",
      "31\t36\tMK903728.1_prot_QDF14639.1_37\n",
      "31\t41\tMK903728.1_prot_QDF14644.1_42\n",
      "31\t42\tMK903728.1_prot_QDF14645.1_43\n",
      "32\t40\tNC_031246.1_prot_YP_009302745.1_41\n",
      "32\t51\tNC_031246.1_prot_YP_009302756.1_52\n",
      "33\t261\tMN781108.1_prot_QGZ15323.1_262\n",
      "35\t37\tMT542697.1_prot_QKY78347.1_38\n",
      "35\t43\tMT542697.1_prot_QKY78353.1_44\n",
      "37\t29\tMZ826764.1_prot_UCR74082.1_30\n",
      "37\t30\tMZ826764.1_prot_UCR74083.1_31\n",
      "37\t31\tMZ826764.1_prot_UCR74084.1_32\n",
      "37\t32\tMZ826764.1_prot_UCR74085.1_33\n"
     ]
    },
    {
     "name": "stderr",
     "output_type": "stream",
     "text": [
      "\n"
     ]
    }
   ],
   "source": [
    "path_project_ori = \"/media/concha-eloko/Linux/PPT_clean/in_vitro/Others\"\n",
    "\n",
    "from Bio import SeqIO\n",
    "import pandas as pd \n",
    "from tqdm import tqdm\n",
    "\n",
    "delim_dpo = pd.read_csv(f\"{path_project_ori}/Dpos_deliniations.tsv\", sep = \"\\t\", names = [\"Dpo\", \"Boundaries\"]).fillna(\"None\")\n",
    "\n",
    "#with open(f\"{path_project}/Others_2nd.dpos_domains.clean_name.multi.fasta\", \"a+\") as outfile : \n",
    "    for index,multi_faa in tqdm(enumerate(os.listdir(path_project_ori))) :\n",
    "        if multi_faa.count(\"sequence\") > 0 : \n",
    "            fastas = SeqIO.parse(f\"{path_project_ori}/{multi_faa}\" , \"fasta\")\n",
    "            for index_seq, record in enumerate(fastas) :\n",
    "                name = record.description.split(\"|\")[1].split(\" [\")[0]\n",
    "                if f\"{name}.pdb\" in delim_dpo[\"Dpo\"].tolist() : \n",
    "                    protein_seq = str(record.seq)\n",
    "                    if delim_dpo[delim_dpo['Dpo'] == f\"{name}.pdb\"][\"Boundaries\"].values[0] != \"None\" : \n",
    "                        start = int(delim_dpo[delim_dpo['Dpo'] == f\"{name}.pdb\"][\"Boundaries\"].values[0].split(\"-\")[0])\n",
    "                        end = int(delim_dpo[delim_dpo['Dpo'] == f\"{name}.pdb\"][\"Boundaries\"].values[0].split(\"-\")[1])\n",
    "                        #name = name.replace(\"_\",\"\")\n",
    "                        #name = name.replace(\".\",\"\")\n",
    "                        #print(name)\n",
    "                        outfile.write(f\">{name}\\n{record.seq[start:end]}\\n\")\n",
    "                        #outfile.write(f\">{name}__{str(start)}_{str(end)}\\n{record.seq[start:end]}\\n\")\n",
    "                        print(index ,index_seq , name, sep = \"\\t\")"
   ]
  },
  {
   "cell_type": "code",
   "execution_count": null,
   "id": "c7a70a55-bd66-487f-9011-dad1ae634909",
   "metadata": {},
   "outputs": [],
   "source": [
    "rsync -avzhe ssh \\\n",
    "/media/concha-eloko/Linux/PPT_clean/in_vitro/Others_2nd/Others_2nd.dpos_domains.multi.fasta \\\n",
    "conchae@garnatxa.srv.cpd:/home/conchae/PhageDepo_pdb/\n",
    "\n",
    "rsync -avzhe ssh \\\n",
    "conchae@garnatxa.srv.cpd:/home/conchae/PhageDepo_pdb/Others_2nd.dpos_domains.multi.fasta.esm2_out \\\n",
    "/media/concha-eloko/Linux/PPT_clean/in_vitro/Others_2nd\n"
   ]
  },
  {
   "cell_type": "code",
   "execution_count": 1,
   "id": "4dcc53bc-dd9d-475a-b410-dc45c4b38297",
   "metadata": {},
   "outputs": [
    {
     "name": "stderr",
     "output_type": "stream",
     "text": [
      "100%|███████████████████████████████████████████| 19/19 [00:00<00:00, 57.63it/s]\n",
      "100%|██████████████████████████████████████████| 19/19 [00:00<00:00, 848.11it/s]\n"
     ]
    }
   ],
   "source": [
    "import torch\n",
    "import os \n",
    "import pandas as pd\n",
    "from tqdm import tqdm \n",
    "\n",
    "\n",
    "path_esm = \"/media/concha-eloko/Linux/PPT_clean/in_vitro/Others_2nd/Others_2nd.dpos_domains.multi.fasta.esm2_out\"\n",
    "\n",
    "embeddings_esm = {}\n",
    "for file in tqdm(os.listdir(path_esm)) :\n",
    "    path_file = f\"{path_esm}/{file}\"\n",
    "    index = file.split(\".\")[0]\n",
    "    embb = torch.load(f\"{path_file}\")[\"mean_representations\"][33].tolist()\n",
    "    embeddings_esm[index] = embb\n",
    "    \n",
    "with open(f\"/media/concha-eloko/Linux/PPT_clean/in_vitro/Others_2nd_phages.esm2.embedding.csv\" , \"w\") as outfile :\n",
    "    for index in tqdm(embeddings_esm) :\n",
    "        outfile.write(f\"{index},\")\n",
    "        for _,  emb in enumerate(embeddings_esm[index]) :\n",
    "            outfile.write(f\"{emb},\")\n",
    "        outfile.write(\"\\n\")"
   ]
  },
  {
   "cell_type": "code",
   "execution_count": null,
   "id": "3d2775a2-1295-41e4-b454-44bea7b70924",
   "metadata": {},
   "outputs": [],
   "source": []
  }
 ],
 "metadata": {
  "kernelspec": {
   "display_name": "ML_work",
   "language": "python",
   "name": "ml_work"
  },
  "language_info": {
   "codemirror_mode": {
    "name": "ipython",
    "version": 3
   },
   "file_extension": ".py",
   "mimetype": "text/x-python",
   "name": "python",
   "nbconvert_exporter": "python",
   "pygments_lexer": "ipython3",
   "version": "3.11.4"
  },
  "widgets": {
   "application/vnd.jupyter.widget-state+json": {
    "state": {},
    "version_major": 2,
    "version_minor": 0
   }
  }
 },
 "nbformat": 4,
 "nbformat_minor": 5
}
