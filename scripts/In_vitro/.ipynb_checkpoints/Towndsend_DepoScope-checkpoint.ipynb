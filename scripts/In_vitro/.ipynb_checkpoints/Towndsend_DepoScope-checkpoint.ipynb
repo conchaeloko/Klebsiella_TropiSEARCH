{
 "cells": [
  {
   "cell_type": "markdown",
   "metadata": {},
   "source": [
    "# The final DpoDetection Tool :\n",
    "***"
   ]
  },
  {
   "cell_type": "code",
   "execution_count": 1,
   "metadata": {},
   "outputs": [
    {
     "name": "stderr",
     "output_type": "stream",
     "text": [
      "/media/concha-eloko/Linux/conda_envs/ML_work/lib/python3.11/site-packages/tqdm/auto.py:21: TqdmWarning: IProgress not found. Please update jupyter and ipywidgets. See https://ipywidgets.readthedocs.io/en/stable/user_install.html\n",
      "  from .autonotebook import tqdm as notebook_tqdm\n"
     ]
    }
   ],
   "source": [
    "from transformers import AutoModelForTokenClassification, AutoTokenizer\n",
    "import torch\n",
    "from torch import nn \n",
    "import torch.nn.functional as F\n",
    "\n",
    "import os\n",
    "import numpy as np\n",
    "import tqdm\n",
    "import matplotlib.pyplot as plt\n",
    "from DepoScope_functions import Dpo_classifier , find_longest_non_zero_suite_with_n_zeros , predict_sequence, plot_token\n",
    "\n",
    "import warnings\n",
    "warnings.filterwarnings(\"ignore\") \n",
    "\n",
    "path_work = \"/media/concha-eloko/Linux/depolymerase_building\"\n",
    "\n",
    "esm2_model_path = f\"{path_work}/esm2_t12_35M_UR50D-finetuned-depolymerase.labels_4/checkpoint-6015\"\n",
    "DpoDetection_path = f\"{path_work}/DepoDetection.T12.4Labels.1908.model\"\n",
    "\n",
    "tokenizer = AutoTokenizer.from_pretrained(esm2_model_path)\n",
    "esm2_finetuned = AutoModelForTokenClassification.from_pretrained(esm2_model_path)\n"
   ]
  },
  {
   "cell_type": "code",
   "execution_count": 2,
   "metadata": {
    "scrolled": true
   },
   "outputs": [
    {
     "data": {
      "text/plain": [
       "Dpo_classifier(\n",
       "  (pretrained_model): EsmForTokenClassification(\n",
       "    (esm): EsmModel(\n",
       "      (embeddings): EsmEmbeddings(\n",
       "        (word_embeddings): Embedding(33, 480, padding_idx=1)\n",
       "        (dropout): Dropout(p=0.0, inplace=False)\n",
       "        (position_embeddings): Embedding(1026, 480, padding_idx=1)\n",
       "      )\n",
       "      (encoder): EsmEncoder(\n",
       "        (layer): ModuleList(\n",
       "          (0-11): 12 x EsmLayer(\n",
       "            (attention): EsmAttention(\n",
       "              (self): EsmSelfAttention(\n",
       "                (query): Linear(in_features=480, out_features=480, bias=True)\n",
       "                (key): Linear(in_features=480, out_features=480, bias=True)\n",
       "                (value): Linear(in_features=480, out_features=480, bias=True)\n",
       "                (dropout): Dropout(p=0.0, inplace=False)\n",
       "                (rotary_embeddings): RotaryEmbedding()\n",
       "              )\n",
       "              (output): EsmSelfOutput(\n",
       "                (dense): Linear(in_features=480, out_features=480, bias=True)\n",
       "                (dropout): Dropout(p=0.0, inplace=False)\n",
       "              )\n",
       "              (LayerNorm): LayerNorm((480,), eps=1e-05, elementwise_affine=True)\n",
       "            )\n",
       "            (intermediate): EsmIntermediate(\n",
       "              (dense): Linear(in_features=480, out_features=1920, bias=True)\n",
       "            )\n",
       "            (output): EsmOutput(\n",
       "              (dense): Linear(in_features=1920, out_features=480, bias=True)\n",
       "              (dropout): Dropout(p=0.0, inplace=False)\n",
       "            )\n",
       "            (LayerNorm): LayerNorm((480,), eps=1e-05, elementwise_affine=True)\n",
       "          )\n",
       "        )\n",
       "        (emb_layer_norm_after): LayerNorm((480,), eps=1e-05, elementwise_affine=True)\n",
       "      )\n",
       "      (contact_head): EsmContactPredictionHead(\n",
       "        (regression): Linear(in_features=240, out_features=1, bias=True)\n",
       "        (activation): Sigmoid()\n",
       "      )\n",
       "    )\n",
       "    (dropout): Dropout(p=0.0, inplace=False)\n",
       "    (classifier): Linear(in_features=480, out_features=4, bias=True)\n",
       "  )\n",
       "  (conv1): Conv1d(1, 64, kernel_size=(5,), stride=(1,))\n",
       "  (conv2): Conv1d(64, 128, kernel_size=(5,), stride=(1,))\n",
       "  (fc1): Linear(in_features=130048, out_features=32, bias=True)\n",
       "  (classifier): Linear(in_features=32, out_features=1, bias=True)\n",
       ")"
      ]
     },
     "execution_count": 2,
     "metadata": {},
     "output_type": "execute_result"
    }
   ],
   "source": [
    "model_classifier = Dpo_classifier(esm2_finetuned) # Create an instance of Dpo_classifier\n",
    "model_classifier.load_state_dict(torch.load(DpoDetection_path), strict = False) # Load the saved weights ; weird Error with some of the keys \n",
    "model_classifier.eval() # Set the model to evaluation mode for inference\n"
   ]
  },
  {
   "cell_type": "markdown",
   "metadata": {},
   "source": [
    "***\n",
    "# Predictions Towndsend"
   ]
  },
  {
   "cell_type": "code",
   "execution_count": 5,
   "metadata": {
    "scrolled": true
   },
   "outputs": [
    {
     "name": "stderr",
     "output_type": "stream",
     "text": [
      "100%|█████████████████████████████████████████████████████████████████████████████████████████████████████████████████| 30/30 [09:54<00:00, 19.83s/it]\n"
     ]
    }
   ],
   "source": [
    "path_out = \"/media/concha-eloko/Linux/PPT_clean/in_vitro/Townsed/genomes\"\n",
    "from Bio import SeqIO\n",
    "from tqdm import tqdm \n",
    "\n",
    "prediction_results = {}\n",
    "for fasta_file in tqdm(os.listdir(path_out)) :\n",
    "    fastas = SeqIO.parse(f\"{path_out}/{fasta_file}\" , \"fasta\")\n",
    "    tmp_results = []\n",
    "    for record in fastas :\n",
    "        protein_seq = str(record.seq[0:-1].translate())\n",
    "        if len(protein_seq) >= 200 :\n",
    "            prediction, sequence_outputs = predict_sequence(model_classifier, protein_seq)\n",
    "            if prediction[0] == 1 :\n",
    "                a = (prediction , record.description)\n",
    "                tmp_results.append(a)\n",
    "            else :\n",
    "                pass\n",
    "    prediction_results[fasta_file] = tmp_results\n",
    "\n",
    "\n"
   ]
  },
  {
   "cell_type": "code",
   "execution_count": 12,
   "metadata": {
    "scrolled": true
   },
   "outputs": [
    {
     "data": {
      "text/plain": [
       "{'PRJEB40180.multi.faa': [((1.0, 1.0),\n",
       "   'lcl|LR881141.1_cds_CAD5241751.1_95 [gene=161] [locus_tag=EHPPICDA_00095] [protein=gp7 baseplate wedge subunit] [protein_id=CAD5241751.1] [location=complement(72143..75229)] [gbkey=CDS]')],\n",
       " 'PRJEB40182.multi.faa': [((1.0, 1.0),\n",
       "   'lcl|LR881146.1_cds_CAD5241339.1_39 [gene=36] [locus_tag=DIMCIIMF_00039] [protein=gp36 hinge connector long tail fiber] [protein_id=CAD5241339.1] [location=23983..24633] [gbkey=CDS]'),\n",
       "  ((1.0, 1.0),\n",
       "   'lcl|LR881146.1_cds_CAD5242838.1_224 [gene=g154] [locus_tag=DIMCIIMF_00240] [protein=phage baseplate wedge initiator] [protein_id=CAD5242838.1] [location=119588..122686] [gbkey=CDS]')],\n",
       " 'PRJEB40160.multi.faa': [((1.0, 1.0),\n",
       "   'lcl|LR881108.1_cds_CAD5239183.1_29 [locus_tag=OBHDAGOG_00029] [protein=hypothetical protein] [protein_id=CAD5239183.1] [location=complement(23098..25434)] [gbkey=CDS]')],\n",
       " 'PRJEB40132.multi.faa': [((1.0, 1.0),\n",
       "   'lcl|LR880964.1_cds_CAD5204309.1_50 [locus_tag=LCALLHIG_00050] [protein=side tail fiber] [protein_id=CAD5204309.1] [location=complement(32558..34780)] [gbkey=CDS]')],\n",
       " 'PRJEB40163.multi.faa': [((1.0, 1.0),\n",
       "   'lcl|LR881106.1_cds_CAD5239132.1_43 [gene=45] [locus_tag=HIIECEMK_00043] [protein=tail tubular protein B] [protein_id=CAD5239132.1] [location=28228..30603] [gbkey=CDS]'),\n",
       "  ((1.0, 1.0),\n",
       "   'lcl|LR881106.1_cds_CAD5239143.1_54 [locus_tag=HIIECEMK_00054] [protein=tail fiber family protein] [protein_id=CAD5239143.1] [location=42202..43935] [gbkey=CDS]')],\n",
       " 'PRJEB40178.multi.faa': [((1.0, 1.0),\n",
       "   'lcl|LR881140.1_cds_CAD5242917.1_239 [gene=161] [locus_tag=GCLPFEGH_00240] [protein=gp7 baseplate wedge subunit] [protein_id=CAD5242917.1] [location=complement(152751..155837)] [gbkey=CDS]')],\n",
       " 'PRJEB40148.multi.faa': [],\n",
       " 'PRJEB40176.multi.faa': [((1.0, 1.0),\n",
       "   'lcl|LR881145.1_cds_CAD5242572.1_197 [gene=161] [locus_tag=IPGJFKPH_00198] [protein=gp7 baseplate wedge subunit] [protein_id=CAD5242572.1] [location=112068..115154] [gbkey=CDS]')],\n",
       " 'PRJEB40177.multi.faa': [((1.0, 1.0),\n",
       "   'lcl|LR881147.1_cds_CAD5242826.1_245 [gene=161] [locus_tag=POFPNCPI_00246] [protein=gp7 baseplate wedge subunit] [protein_id=CAD5242826.1] [location=148220..151306] [gbkey=CDS]')],\n",
       " 'PRJEB40174.multi.faa': [((1.0, 1.0),\n",
       "   'lcl|LR881143.1_cds_CAD5242086.1_137 [gene=161] [locus_tag=INMBNBLA_00138] [protein=gp7 baseplate wedge subunit] [protein_id=CAD5242086.1] [location=74251..77337] [gbkey=CDS]'),\n",
       "  ((1.0, 1.0),\n",
       "   'lcl|LR881143.1_cds_CAD5242597.1_201 [gene=233] [locus_tag=INMBNBLA_00202] [protein=hinge connector of long tail fiber distalconnector] [protein_id=CAD5242597.1] [location=128507..129175] [gbkey=CDS]')],\n",
       " 'PRJEB40146.multi.faa': [((1.0, 1.0),\n",
       "   'lcl|LR881076.1_cds_CAD5235946.1_67 [locus_tag=OPBIHMGG_00067] [protein=side tail fiber] [protein_id=CAD5235946.1] [location=40852..43074] [gbkey=CDS]')],\n",
       " 'PRJEB40170.multi.faa': [],\n",
       " 'PRJEB40162.multi.faa': [((1.0, 1.0),\n",
       "   'lcl|LR881111.1_cds_CAD5239677.1_41 [gene=45] [locus_tag=BLCJPOBP_00041] [protein=tail tubular protein B] [protein_id=CAD5239677.1] [location=28329..30704] [gbkey=CDS]')],\n",
       " 'PRJEB40179.multi.faa': [((1.0, 1.0),\n",
       "   'lcl|LR883651.1_cds_CAD6025329.1_19 [gene=233] [locus_tag=FADJDIKG_00019] [protein=hinge connector of long tail fiber distalconnector] [protein_id=CAD6025329.1] [location=complement(15348..16016)] [gbkey=CDS]'),\n",
       "  ((1.0, 1.0),\n",
       "   'lcl|LR883651.1_cds_CAD6025393.1_83 [gene=161] [locus_tag=FADJDIKG_00083] [protein=gp7 baseplate wedge subunit] [protein_id=CAD6025393.1] [location=complement(67256..70342)] [gbkey=CDS]')],\n",
       " 'PRJEB40165.multi.faa': [],\n",
       " 'PRJEB40131.multi.faa': [((1.0, 1.0),\n",
       "   'lcl|NC_070650.1_cds_YP_010644708.1_225 [locus_tag=PP187_gp225] [db_xref=GeneID:77920179] [protein=tail spike protein] [protein_id=YP_010644708.1] [location=complement(200052..203603)] [gbkey=CDS]'),\n",
       "  ((1.0, 1.0),\n",
       "   'lcl|NC_070650.1_cds_YP_010644710.1_227 [locus_tag=PP187_gp227] [db_xref=GeneID:77920181] [protein=bacteriolytic protein] [protein_id=YP_010644710.1] [location=204292..206067] [gbkey=CDS]'),\n",
       "  ((1.0, 1.0),\n",
       "   'lcl|NC_070650.1_cds_YP_010644713.1_230 [gene=37_1] [locus_tag=PP187_gp230] [db_xref=GeneID:77920184] [protein=tail fiber protein] [protein_id=YP_010644713.1] [location=207283..209028] [gbkey=CDS]'),\n",
       "  ((1.0, 1.0),\n",
       "   'lcl|NC_070650.1_cds_YP_010644716.1_233 [gene=37_2] [locus_tag=PP187_gp233] [db_xref=GeneID:77920186] [protein=tail fiber protein] [protein_id=YP_010644716.1] [location=209592..212054] [gbkey=CDS]'),\n",
       "  ((1.0, 1.0),\n",
       "   'lcl|NC_070650.1_cds_YP_010644718.1_235 [locus_tag=PP187_gp235] [db_xref=GeneID:77920187] [protein=tail fiber family protein] [protein_id=YP_010644718.1] [location=212853..214523] [gbkey=CDS]'),\n",
       "  ((1.0, 1.0),\n",
       "   'lcl|NC_070650.1_cds_YP_010644720.1_237 [locus_tag=PP187_gp237] [db_xref=GeneID:77920189] [protein=hypothetical protein] [protein_id=YP_010644720.1] [location=214822..216672] [gbkey=CDS]'),\n",
       "  ((1.0, 1.0),\n",
       "   'lcl|NC_070650.1_cds_YP_010644722.1_239 [gene=amsF] [locus_tag=PP187_gp239] [db_xref=GeneID:77920191] [protein=tail fiber protein] [protein_id=YP_010644722.1] [location=217213..219594] [gbkey=CDS]')],\n",
       " 'PRJEB40168.multi.faa': [],\n",
       " 'PRJEB40171.multi.faa': [((1.0, 1.0),\n",
       "   'lcl|LR881139.1_cds_CAD5240541.1_47 [locus_tag=KBDEFBCI_00052] [protein=putative tailspike protein] [protein_id=CAD5240541.1] [location=39018..42137] [gbkey=CDS]'),\n",
       "  ((1.0, 1.0),\n",
       "   'lcl|LR881139.1_cds_CAD5240559.1_49 [locus_tag=KBDEFBCI_00054] [protein=putative tail fiber protein] [protein_id=CAD5240559.1] [location=42367..44553] [gbkey=CDS]'),\n",
       "  ((1.0, 1.0),\n",
       "   'lcl|LR881139.1_cds_CAD5240565.1_51 [locus_tag=KBDEFBCI_00056] [protein=hypothetical protein] [protein_id=CAD5240565.1] [location=44842..47049] [gbkey=CDS]'),\n",
       "  ((1.0, 1.0),\n",
       "   'lcl|LR881139.1_cds_CAD5240571.1_53 [locus_tag=KBDEFBCI_00058] [protein=hypothetical protein] [protein_id=CAD5240571.1] [location=47303..49294] [gbkey=CDS]')],\n",
       " 'PRJEB40161.multi.faa': [((1.0, 1.0),\n",
       "   'lcl|OY639338.1_cds_CAJ1039020.1_39 [locus_tag=LLOFRUDD_00039] [protein=tail fiber protein] [protein_id=CAJ1039020.1] [location=17641..19977] [gbkey=CDS]')],\n",
       " 'PRJEB40181.multi.faa': [((1.0, 1.0),\n",
       "   'lcl|LR881144.1_cds_CAD5242887.1_222 [gene=g154] [locus_tag=DJLANJJD_00238] [protein=phage baseplate wedge initiator] [protein_id=CAD5242887.1] [location=120356..123454] [gbkey=CDS]')],\n",
       " 'PRJEB40164.multi.faa': [((1.0, 1.0),\n",
       "   'lcl|LR881105.1_cds_CAD5239035.1_1 [locus_tag=NEBGPKAL_00001] [protein=tail fiber family protein] [protein_id=CAD5239035.1] [location=complement(43..1776)] [gbkey=CDS]'),\n",
       "  ((1.0, 1.0),\n",
       "   'lcl|LR881105.1_cds_CAD5239047.1_13 [gene=45] [locus_tag=NEBGPKAL_00013] [protein=tail tubular protein B] [protein_id=CAD5239047.1] [location=complement(13734..16109)] [gbkey=CDS]')],\n",
       " 'PRJEB40166.multi.faa': [],\n",
       " 'PRJEB40175.multi.faa': [((1.0, 1.0),\n",
       "   'lcl|LR881142.1_cds_CAD5241659.1_112 [gene=233] [locus_tag=EKPIEFBL_00113] [protein=hinge connector of long tail fiber distal connector] [protein_id=CAD5241659.1] [location=complement(68016..68684)] [gbkey=CDS]'),\n",
       "  ((1.0, 1.0),\n",
       "   'lcl|LR881142.1_cds_CAD5242175.1_176 [gene=161] [locus_tag=EKPIEFBL_00177] [protein=gp7 baseplate wedge subunit] [protein_id=CAD5242175.1] [location=complement(119854..122940)] [gbkey=CDS]')],\n",
       " 'PRJEB40159.multi.faa': [((1.0, 1.0),\n",
       "   'lcl|LR881110.1_cds_CAD5240110.1_87 [locus_tag=EONHMLJF_00087] [protein=hypothetical protein] [protein_id=CAD5240110.1] [location=complement(48226..49653)] [gbkey=CDS]')],\n",
       " 'PRJEB40172.multi.faa': [((1.0, 1.0),\n",
       "   'lcl|LR881138.1_cds_CAD5240411.1_50 [locus_tag=NJHLHPIG_00055] [protein=putative tailspike protein] [protein_id=CAD5240411.1] [location=40775..43894] [gbkey=CDS]'),\n",
       "  ((1.0, 1.0),\n",
       "   'lcl|LR881138.1_cds_CAD5240417.1_52 [locus_tag=NJHLHPIG_00057] [protein=putative tail fiber protein] [protein_id=CAD5240417.1] [location=44124..46310] [gbkey=CDS]'),\n",
       "  ((1.0, 1.0),\n",
       "   'lcl|LR881138.1_cds_CAD5240423.1_54 [locus_tag=NJHLHPIG_00059] [protein=hypothetical protein] [protein_id=CAD5240423.1] [location=46563..48806] [gbkey=CDS]'),\n",
       "  ((1.0, 1.0),\n",
       "   'lcl|LR881138.1_cds_CAD5240429.1_56 [locus_tag=NJHLHPIG_00061] [protein=hypothetical protein] [protein_id=CAD5240429.1] [location=49060..51051] [gbkey=CDS]')],\n",
       " 'PRJEB40169.multi.faa': [],\n",
       " 'PRJEB40167.multi.faa': [],\n",
       " 'PRJEB40147.multi.faa': [((1.0, 1.0),\n",
       "   'lcl|LR881077.1_cds_CAD5235910.1_78 [locus_tag=PFOEGONH_00078] [protein=hypothetical protein] [protein_id=CAD5235910.1] [location=52739..54961] [gbkey=CDS]')],\n",
       " 'PRJEB39773.multi.faa': [],\n",
       " 'PRJEB40173.multi.faa': [((1.0, 1.0),\n",
       "   'lcl|LR881137.1_cds_CAD5240864.1_155 [locus_tag=NBNDMPCG_00161] [protein=putative tailspike protein] [protein_id=CAD5240864.1] [location=113052..116171] [gbkey=CDS]'),\n",
       "  ((1.0, 1.0),\n",
       "   'lcl|LR881137.1_cds_CAD5240870.1_157 [locus_tag=NBNDMPCG_00163] [protein=putative tail fiber protein] [protein_id=CAD5240870.1] [location=116401..118608] [gbkey=CDS]'),\n",
       "  ((1.0, 0.9999721050262451),\n",
       "   'lcl|LR881137.1_cds_CAD5240874.1_159 [locus_tag=NBNDMPCG_00165] [protein=tail spike protein head-binding protein] [protein_id=CAD5240874.1] [location=118886..119740] [gbkey=CDS]'),\n",
       "  ((1.0, 1.0),\n",
       "   'lcl|LR881137.1_cds_CAD5240876.1_160 [locus_tag=NBNDMPCG_00166] [protein=putative tail fiber] [protein_id=CAD5240876.1] [location=119733..121391] [gbkey=CDS]'),\n",
       "  ((1.0, 1.0),\n",
       "   'lcl|LR881137.1_cds_CAD5240880.1_162 [locus_tag=NBNDMPCG_00168] [protein=unknown product] [protein_id=CAD5240880.1] [location=121763..123790] [gbkey=CDS]')]}"
      ]
     },
     "execution_count": 12,
     "metadata": {},
     "output_type": "execute_result"
    }
   ],
   "source": [
    "prediction_results"
   ]
  },
  {
   "cell_type": "code",
   "execution_count": 16,
   "metadata": {
    "scrolled": true
   },
   "outputs": [
    {
     "data": {
      "text/plain": [
       "['lcl|LR881141.1_cds_CAD5241751.1_95 [gene=161] [locus_tag=EHPPICDA_00095] [protein=gp7 baseplate wedge subunit] [protein_id=CAD5241751.1] [location=complement(72143..75229)] [gbkey=CDS]',\n",
       " 'lcl|LR881146.1_cds_CAD5241339.1_39 [gene=36] [locus_tag=DIMCIIMF_00039] [protein=gp36 hinge connector long tail fiber] [protein_id=CAD5241339.1] [location=23983..24633] [gbkey=CDS]',\n",
       " 'lcl|LR881146.1_cds_CAD5242838.1_224 [gene=g154] [locus_tag=DIMCIIMF_00240] [protein=phage baseplate wedge initiator] [protein_id=CAD5242838.1] [location=119588..122686] [gbkey=CDS]',\n",
       " 'lcl|LR881108.1_cds_CAD5239183.1_29 [locus_tag=OBHDAGOG_00029] [protein=hypothetical protein] [protein_id=CAD5239183.1] [location=complement(23098..25434)] [gbkey=CDS]',\n",
       " 'lcl|LR880964.1_cds_CAD5204309.1_50 [locus_tag=LCALLHIG_00050] [protein=side tail fiber] [protein_id=CAD5204309.1] [location=complement(32558..34780)] [gbkey=CDS]',\n",
       " 'lcl|LR881106.1_cds_CAD5239132.1_43 [gene=45] [locus_tag=HIIECEMK_00043] [protein=tail tubular protein B] [protein_id=CAD5239132.1] [location=28228..30603] [gbkey=CDS]',\n",
       " 'lcl|LR881106.1_cds_CAD5239143.1_54 [locus_tag=HIIECEMK_00054] [protein=tail fiber family protein] [protein_id=CAD5239143.1] [location=42202..43935] [gbkey=CDS]',\n",
       " 'lcl|LR881140.1_cds_CAD5242917.1_239 [gene=161] [locus_tag=GCLPFEGH_00240] [protein=gp7 baseplate wedge subunit] [protein_id=CAD5242917.1] [location=complement(152751..155837)] [gbkey=CDS]',\n",
       " 'lcl|LR881145.1_cds_CAD5242572.1_197 [gene=161] [locus_tag=IPGJFKPH_00198] [protein=gp7 baseplate wedge subunit] [protein_id=CAD5242572.1] [location=112068..115154] [gbkey=CDS]',\n",
       " 'lcl|LR881147.1_cds_CAD5242826.1_245 [gene=161] [locus_tag=POFPNCPI_00246] [protein=gp7 baseplate wedge subunit] [protein_id=CAD5242826.1] [location=148220..151306] [gbkey=CDS]',\n",
       " 'lcl|LR881143.1_cds_CAD5242086.1_137 [gene=161] [locus_tag=INMBNBLA_00138] [protein=gp7 baseplate wedge subunit] [protein_id=CAD5242086.1] [location=74251..77337] [gbkey=CDS]',\n",
       " 'lcl|LR881143.1_cds_CAD5242597.1_201 [gene=233] [locus_tag=INMBNBLA_00202] [protein=hinge connector of long tail fiber distalconnector] [protein_id=CAD5242597.1] [location=128507..129175] [gbkey=CDS]',\n",
       " 'lcl|LR881076.1_cds_CAD5235946.1_67 [locus_tag=OPBIHMGG_00067] [protein=side tail fiber] [protein_id=CAD5235946.1] [location=40852..43074] [gbkey=CDS]',\n",
       " 'lcl|LR881111.1_cds_CAD5239677.1_41 [gene=45] [locus_tag=BLCJPOBP_00041] [protein=tail tubular protein B] [protein_id=CAD5239677.1] [location=28329..30704] [gbkey=CDS]',\n",
       " 'lcl|LR883651.1_cds_CAD6025329.1_19 [gene=233] [locus_tag=FADJDIKG_00019] [protein=hinge connector of long tail fiber distalconnector] [protein_id=CAD6025329.1] [location=complement(15348..16016)] [gbkey=CDS]',\n",
       " 'lcl|LR883651.1_cds_CAD6025393.1_83 [gene=161] [locus_tag=FADJDIKG_00083] [protein=gp7 baseplate wedge subunit] [protein_id=CAD6025393.1] [location=complement(67256..70342)] [gbkey=CDS]',\n",
       " 'lcl|NC_070650.1_cds_YP_010644708.1_225 [locus_tag=PP187_gp225] [db_xref=GeneID:77920179] [protein=tail spike protein] [protein_id=YP_010644708.1] [location=complement(200052..203603)] [gbkey=CDS]',\n",
       " 'lcl|NC_070650.1_cds_YP_010644710.1_227 [locus_tag=PP187_gp227] [db_xref=GeneID:77920181] [protein=bacteriolytic protein] [protein_id=YP_010644710.1] [location=204292..206067] [gbkey=CDS]',\n",
       " 'lcl|NC_070650.1_cds_YP_010644713.1_230 [gene=37_1] [locus_tag=PP187_gp230] [db_xref=GeneID:77920184] [protein=tail fiber protein] [protein_id=YP_010644713.1] [location=207283..209028] [gbkey=CDS]',\n",
       " 'lcl|NC_070650.1_cds_YP_010644716.1_233 [gene=37_2] [locus_tag=PP187_gp233] [db_xref=GeneID:77920186] [protein=tail fiber protein] [protein_id=YP_010644716.1] [location=209592..212054] [gbkey=CDS]',\n",
       " 'lcl|NC_070650.1_cds_YP_010644718.1_235 [locus_tag=PP187_gp235] [db_xref=GeneID:77920187] [protein=tail fiber family protein] [protein_id=YP_010644718.1] [location=212853..214523] [gbkey=CDS]',\n",
       " 'lcl|NC_070650.1_cds_YP_010644720.1_237 [locus_tag=PP187_gp237] [db_xref=GeneID:77920189] [protein=hypothetical protein] [protein_id=YP_010644720.1] [location=214822..216672] [gbkey=CDS]',\n",
       " 'lcl|NC_070650.1_cds_YP_010644722.1_239 [gene=amsF] [locus_tag=PP187_gp239] [db_xref=GeneID:77920191] [protein=tail fiber protein] [protein_id=YP_010644722.1] [location=217213..219594] [gbkey=CDS]',\n",
       " 'lcl|LR881139.1_cds_CAD5240541.1_47 [locus_tag=KBDEFBCI_00052] [protein=putative tailspike protein] [protein_id=CAD5240541.1] [location=39018..42137] [gbkey=CDS]',\n",
       " 'lcl|LR881139.1_cds_CAD5240559.1_49 [locus_tag=KBDEFBCI_00054] [protein=putative tail fiber protein] [protein_id=CAD5240559.1] [location=42367..44553] [gbkey=CDS]',\n",
       " 'lcl|LR881139.1_cds_CAD5240565.1_51 [locus_tag=KBDEFBCI_00056] [protein=hypothetical protein] [protein_id=CAD5240565.1] [location=44842..47049] [gbkey=CDS]',\n",
       " 'lcl|LR881139.1_cds_CAD5240571.1_53 [locus_tag=KBDEFBCI_00058] [protein=hypothetical protein] [protein_id=CAD5240571.1] [location=47303..49294] [gbkey=CDS]',\n",
       " 'lcl|OY639338.1_cds_CAJ1039020.1_39 [locus_tag=LLOFRUDD_00039] [protein=tail fiber protein] [protein_id=CAJ1039020.1] [location=17641..19977] [gbkey=CDS]',\n",
       " 'lcl|LR881144.1_cds_CAD5242887.1_222 [gene=g154] [locus_tag=DJLANJJD_00238] [protein=phage baseplate wedge initiator] [protein_id=CAD5242887.1] [location=120356..123454] [gbkey=CDS]',\n",
       " 'lcl|LR881105.1_cds_CAD5239035.1_1 [locus_tag=NEBGPKAL_00001] [protein=tail fiber family protein] [protein_id=CAD5239035.1] [location=complement(43..1776)] [gbkey=CDS]',\n",
       " 'lcl|LR881105.1_cds_CAD5239047.1_13 [gene=45] [locus_tag=NEBGPKAL_00013] [protein=tail tubular protein B] [protein_id=CAD5239047.1] [location=complement(13734..16109)] [gbkey=CDS]',\n",
       " 'lcl|LR881142.1_cds_CAD5241659.1_112 [gene=233] [locus_tag=EKPIEFBL_00113] [protein=hinge connector of long tail fiber distal connector] [protein_id=CAD5241659.1] [location=complement(68016..68684)] [gbkey=CDS]',\n",
       " 'lcl|LR881142.1_cds_CAD5242175.1_176 [gene=161] [locus_tag=EKPIEFBL_00177] [protein=gp7 baseplate wedge subunit] [protein_id=CAD5242175.1] [location=complement(119854..122940)] [gbkey=CDS]',\n",
       " 'lcl|LR881110.1_cds_CAD5240110.1_87 [locus_tag=EONHMLJF_00087] [protein=hypothetical protein] [protein_id=CAD5240110.1] [location=complement(48226..49653)] [gbkey=CDS]',\n",
       " 'lcl|LR881138.1_cds_CAD5240411.1_50 [locus_tag=NJHLHPIG_00055] [protein=putative tailspike protein] [protein_id=CAD5240411.1] [location=40775..43894] [gbkey=CDS]',\n",
       " 'lcl|LR881138.1_cds_CAD5240417.1_52 [locus_tag=NJHLHPIG_00057] [protein=putative tail fiber protein] [protein_id=CAD5240417.1] [location=44124..46310] [gbkey=CDS]',\n",
       " 'lcl|LR881138.1_cds_CAD5240423.1_54 [locus_tag=NJHLHPIG_00059] [protein=hypothetical protein] [protein_id=CAD5240423.1] [location=46563..48806] [gbkey=CDS]',\n",
       " 'lcl|LR881138.1_cds_CAD5240429.1_56 [locus_tag=NJHLHPIG_00061] [protein=hypothetical protein] [protein_id=CAD5240429.1] [location=49060..51051] [gbkey=CDS]',\n",
       " 'lcl|LR881077.1_cds_CAD5235910.1_78 [locus_tag=PFOEGONH_00078] [protein=hypothetical protein] [protein_id=CAD5235910.1] [location=52739..54961] [gbkey=CDS]',\n",
       " 'lcl|LR881137.1_cds_CAD5240864.1_155 [locus_tag=NBNDMPCG_00161] [protein=putative tailspike protein] [protein_id=CAD5240864.1] [location=113052..116171] [gbkey=CDS]',\n",
       " 'lcl|LR881137.1_cds_CAD5240870.1_157 [locus_tag=NBNDMPCG_00163] [protein=putative tail fiber protein] [protein_id=CAD5240870.1] [location=116401..118608] [gbkey=CDS]',\n",
       " 'lcl|LR881137.1_cds_CAD5240874.1_159 [locus_tag=NBNDMPCG_00165] [protein=tail spike protein head-binding protein] [protein_id=CAD5240874.1] [location=118886..119740] [gbkey=CDS]',\n",
       " 'lcl|LR881137.1_cds_CAD5240876.1_160 [locus_tag=NBNDMPCG_00166] [protein=putative tail fiber] [protein_id=CAD5240876.1] [location=119733..121391] [gbkey=CDS]',\n",
       " 'lcl|LR881137.1_cds_CAD5240880.1_162 [locus_tag=NBNDMPCG_00168] [protein=unknown product] [protein_id=CAD5240880.1] [location=121763..123790] [gbkey=CDS]']"
      ]
     },
     "execution_count": 16,
     "metadata": {},
     "output_type": "execute_result"
    }
   ],
   "source": [
    "import os\n",
    "from tqdm import tqdm\n",
    "from Bio import SeqIO\n",
    "\n",
    "path_townsend = \"/media/concha-eloko/Linux/PPT_clean/in_vitro/Townsed\"\n",
    "\n",
    "#dpos = set([prot_id[1] for file in prediction_results for prot_id in prediction_results[file]])\n",
    "dpos = [dpo[1] for file in prediction_results for dpo in prediction_results[file]]\n",
    "\n",
    "#with open(\"/media/concha-eloko/Linux/PPT_clean/in_vitro/Bea/DepoScope_predictions.tsv\", \"w\") as outfile : \n",
    "#    for dpo in dpos :\n",
    "#        outfile.write(dpo + \"\\n\")\n",
    "\n",
    "#dpos = open(\"/media/concha-eloko/Linux/PPT_clean/in_vitro/Townsed/DepoScope_predictions.tsv\").read().split(\"\\n\")\n",
    "dpos\n"
   ]
  },
  {
   "cell_type": "code",
   "execution_count": null,
   "metadata": {
    "scrolled": true
   },
   "outputs": [],
   "source": [
    "for fasta_file in tqdm(os.listdir(path_out)) :\n",
    "    fastas = SeqIO.parse(f\"{path_out}/{fasta_file}\" , \"fasta\")\n",
    "    tmp_results = []\n",
    "    for record in fastas :\n",
    "        if record.description in dpos :\n",
    "            protein_seq = str(record.seq[0:-1].translate())\n",
    "            print(record.description)\n",
    "            prediction, sequence_outputs = predict_sequence(model_classifier, protein_seq)\n",
    "            plot_token(sequence_outputs)\n",
    "            #print(record.seq)\n",
    "            print(\"\\n\")"
   ]
  },
  {
   "cell_type": "code",
   "execution_count": null,
   "metadata": {},
   "outputs": [],
   "source": [
    "prediction_results"
   ]
  },
  {
   "cell_type": "code",
   "execution_count": null,
   "metadata": {
    "scrolled": true
   },
   "outputs": [],
   "source": [
    "dpos = set([prot_id[1] for file in prediction_results for prot_id in prediction_results[file]])\n",
    "dpos , len(dpos)"
   ]
  },
  {
   "cell_type": "code",
   "execution_count": null,
   "metadata": {
    "scrolled": true
   },
   "outputs": [],
   "source": [
    "boundaries = {}\n",
    "for fasta_file in tqdm(os.listdir(path_out)) :\n",
    "    fastas = SeqIO.parse(f\"{path_out}/{fasta_file}\" , \"fasta\")\n",
    "    tmp_results = []\n",
    "    for record in fastas :\n",
    "        if record.id in dpos :\n",
    "            start , stop = 10000 , 0 \n",
    "            print(record.description)\n",
    "            prediction, sequence_outputs = predict_sequence(model_classifier, str(record.seq))\n",
    "            for index, label in enumerate(sequence_outputs) : \n",
    "                if label != 0 :\n",
    "                    if index < start :\n",
    "                        start = index\n",
    "                    elif index > stop :\n",
    "                        stop = index\n",
    "            boundaries[record.id] = (start, stop)\n"
   ]
  },
  {
   "cell_type": "code",
   "execution_count": null,
   "metadata": {},
   "outputs": [],
   "source": [
    "boundaries"
   ]
  },
  {
   "cell_type": "code",
   "execution_count": null,
   "metadata": {},
   "outputs": [],
   "source": [
    "def find_longest_non_zero_sequence(arr, gap_tolerance):\n",
    "    start = -1\n",
    "    end = -1\n",
    "    current_start = -1\n",
    "    current_length = 0\n",
    "    max_length = 0\n",
    "\n",
    "    for i, value in enumerate(arr):\n",
    "        if value != 0:\n",
    "            if current_start == -1:\n",
    "                current_start = i\n",
    "            current_length += 1\n",
    "\n",
    "            if current_length > max_length:\n",
    "                max_length = current_length\n",
    "                start = current_start\n",
    "                end = i\n",
    "\n",
    "        elif current_start != -1 and current_length > 0:\n",
    "            if current_length > max_length and current_length >= gap_tolerance:\n",
    "                max_length = current_length\n",
    "                start = current_start\n",
    "                end = i - 1  # Adjust the end index to the last non-zero element\n",
    "            current_start = -1\n",
    "            current_length = 0\n",
    "\n",
    "    if current_length > max_length and current_length >= gap_tolerance:\n",
    "        start = current_start\n",
    "        end = len(arr) - 1\n",
    "\n",
    "    return start, end\n",
    "\n",
    "\n",
    "gap_tolerance = 10  # Set your desired gap tolerance here\n",
    "boundaries_2 = {}\n",
    "for fasta_file in tqdm(os.listdir(path_out)):\n",
    "    fastas = SeqIO.parse(f\"{path_out}/{fasta_file}\", \"fasta\")\n",
    "    tmp_results = []\n",
    "    for record in fastas:\n",
    "        if record.id in dpos:\n",
    "            sequence_outputs = predict_sequence(model_classifier, str(record.seq))\n",
    "            start, end = find_longest_non_zero_sequence(sequence_outputs, gap_tolerance)\n",
    "            boundaries_2[record.id] = (start, end)\n"
   ]
  },
  {
   "cell_type": "code",
   "execution_count": null,
   "metadata": {},
   "outputs": [],
   "source": [
    "boundaries_2"
   ]
  },
  {
   "cell_type": "code",
   "execution_count": null,
   "metadata": {},
   "outputs": [],
   "source": [
    "boundaries"
   ]
  },
  {
   "cell_type": "code",
   "execution_count": null,
   "metadata": {},
   "outputs": [],
   "source": [
    "with open(\"/media/concha-eloko/Linux/PPT_clean/in_vitro/Townsed/Dpos_boundaries.Towndsend.tsv\",\"w\") as outfile :\n",
    "    outfile.write(f\"protein_id\\tannotation\\tphage\\tboundaries\\tfull sequence\\tdpo_sequence\\n\")\n",
    "    for fasta_file in tqdm(os.listdir(path_out)) :\n",
    "        fastas = SeqIO.parse(f\"{path_out}/{fasta_file}\" , \"fasta\")\n",
    "        tmp_results = []\n",
    "        for record in fastas :\n",
    "            if record.id in dpos and boundaries[record.id][1]-boundaries[record.id][0] >= 190 :\n",
    "                start , end = boundaries[record.id][0] , boundaries[record.id][1]\n",
    "                phage_name = record.description.split(\"[\")[1].split(\"]\")[0].split(\" \")[-1]\n",
    "                outfile.write(f\"{record.id}\\t{' '.join(record.description.split(' ')[1:-4])}\\t{phage_name}\\t{start}-{end}\\t{str(record.seq)}\\t{str(record.seq)[start:end]}\\n\")"
   ]
  },
  {
   "cell_type": "code",
   "execution_count": null,
   "metadata": {},
   "outputs": [],
   "source": [
    "***\n",
    "# DepoScope on Bea's phages"
   ]
  }
 ],
 "metadata": {
  "kernelspec": {
   "display_name": "ML_work",
   "language": "python",
   "name": "ml_work"
  },
  "language_info": {
   "codemirror_mode": {
    "name": "ipython",
    "version": 3
   },
   "file_extension": ".py",
   "mimetype": "text/x-python",
   "name": "python",
   "nbconvert_exporter": "python",
   "pygments_lexer": "ipython3",
   "version": "3.11.4"
  },
  "widgets": {
   "application/vnd.jupyter.widget-state+json": {
    "state": {},
    "version_major": 2,
    "version_minor": 0
   }
  }
 },
 "nbformat": 4,
 "nbformat_minor": 4
}
