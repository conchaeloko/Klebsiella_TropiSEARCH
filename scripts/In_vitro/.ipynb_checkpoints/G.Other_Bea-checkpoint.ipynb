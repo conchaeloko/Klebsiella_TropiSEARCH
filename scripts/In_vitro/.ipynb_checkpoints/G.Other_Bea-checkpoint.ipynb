{
 "cells": [
  {
   "cell_type": "code",
   "execution_count": 4,
   "id": "85c5dbc8-9db4-4b5a-be30-68f1cfcf6702",
   "metadata": {
    "tags": []
   },
   "outputs": [],
   "source": [
    "import os \n",
    "from Bio import SeqIO\n",
    "import pandas as pd\n"
   ]
  },
  {
   "cell_type": "markdown",
   "id": "f03aa7bc-eef8-4801-b9f2-c39f2b693cbd",
   "metadata": {},
   "source": [
    "> Make the multifasta domain "
   ]
  },
  {
   "cell_type": "code",
   "execution_count": 13,
   "id": "637602a3-3021-45c7-8a35-044ae182e34b",
   "metadata": {
    "tags": []
   },
   "outputs": [],
   "source": [
    "path_other = \"/media/concha-eloko/Linux/PPT_clean/in_vitro/Others_bea\"\n",
    "\n",
    "df_other_info = pd.read_csv(f\"{path_other}/full_other_bea.info.tsv\", header = 0, sep = \"\\t\")\n",
    "df_other_info[\"clean_accession\"] = df_other_info[\"accession\"].apply(lambda x : x.upper())\n",
    "dico_seq = {record.description.split(\".\")[0]: record.seq for record in SeqIO.parse(f\"{path_other}/full_other_bea.multi.fasta\", \"fasta\")}\n"
   ]
  },
  {
   "cell_type": "code",
   "execution_count": 9,
   "id": "ce9f05d6-6c96-4deb-bcc3-5434793ac73a",
   "metadata": {
    "tags": []
   },
   "outputs": [
    {
     "data": {
      "text/plain": [
       "{'AUV61507': Seq('MDQDTKTIIQYPTSGDEYDIPFDYLSRKFVRVSLVSNTQRVLLDNITDYRYVSR...LNA'),\n",
       " 'BAN78446': Seq('MGYFQMTRNVEEIFGGVVVAPHQIPFKYTSTNGGETFLSLPFYPITGFVTINSG...EEK'),\n",
       " 'AZF89844': Seq('MALYRQGKAAMDANGVITGTGTKWQSSLSLIRPGSTIMFLSSPIQMAVINKVVS...EVL'),\n",
       " 'ALT58497': Seq('MDQDIKTVIQYPVGATEFDIPFDYLSRKFVRVSLVTDENRRLLSNITEYRYVSK...GEQ'),\n",
       " 'ALT58498': Seq('MLNNLNQPKGSTIGVLKDGRTIQQAIDGLENPVHYVKDVSITPSALLAVAVEAA...IGP'),\n",
       " 'APZ82768': Seq('MALVDLVRAGGYSIEYPQFSSMAKLKEFPHSEDGKLVRLLSWHEGVGLGGGLFK...VVK'),\n",
       " 'QTP95996': Seq('MALYREGKAAMAADGTVTGTGTKWQSSLSLIRPGATIMFLSSPIQMAVVNKVVS...MSS'),\n",
       " 'YP_003347555': Seq('MDQDIKTIIQYPTGATEFDIPFDYLSRKFVRVSLVSDDNRRLLRNITEYRYVSK...TYK'),\n",
       " 'YP_003347556': Seq('MLDNFNQPKGSTIGVLKDGRTIQEAFDSLPRLESFSGSTATDKLRAAITLGVSE...FVS')}"
      ]
     },
     "execution_count": 9,
     "metadata": {},
     "output_type": "execute_result"
    }
   ],
   "source": [
    "dico_seq"
   ]
  },
  {
   "cell_type": "code",
   "execution_count": 14,
   "id": "a776d055-c121-45bf-b271-9f27a773808f",
   "metadata": {
    "tags": []
   },
   "outputs": [
    {
     "data": {
      "text/html": [
       "<div>\n",
       "<style scoped>\n",
       "    .dataframe tbody tr th:only-of-type {\n",
       "        vertical-align: middle;\n",
       "    }\n",
       "\n",
       "    .dataframe tbody tr th {\n",
       "        vertical-align: top;\n",
       "    }\n",
       "\n",
       "    .dataframe thead th {\n",
       "        text-align: right;\n",
       "    }\n",
       "</style>\n",
       "<table border=\"1\" class=\"dataframe\">\n",
       "  <thead>\n",
       "    <tr style=\"text-align: right;\">\n",
       "      <th></th>\n",
       "      <th>Phage</th>\n",
       "      <th>accession</th>\n",
       "      <th>boundaries</th>\n",
       "      <th>clean_accession</th>\n",
       "    </tr>\n",
       "  </thead>\n",
       "  <tbody>\n",
       "    <tr>\n",
       "      <th>0</th>\n",
       "      <td>Klebsiella phage SH-Kp 152410</td>\n",
       "      <td>AUV61507</td>\n",
       "      <td>305-917</td>\n",
       "      <td>AUV61507</td>\n",
       "    </tr>\n",
       "    <tr>\n",
       "      <th>1</th>\n",
       "      <td>klebsiella_phage_0507_kn2_1</td>\n",
       "      <td>ban78446</td>\n",
       "      <td>304-1003</td>\n",
       "      <td>BAN78446</td>\n",
       "    </tr>\n",
       "    <tr>\n",
       "      <th>2</th>\n",
       "      <td>Klebsiella phage 13</td>\n",
       "      <td>azf89844</td>\n",
       "      <td>294-571</td>\n",
       "      <td>AZF89844</td>\n",
       "    </tr>\n",
       "    <tr>\n",
       "      <th>3</th>\n",
       "      <td>Klebsiella phage vB_KpnP_IME205</td>\n",
       "      <td>ALT58497</td>\n",
       "      <td>333-657</td>\n",
       "      <td>ALT58497</td>\n",
       "    </tr>\n",
       "    <tr>\n",
       "      <th>4</th>\n",
       "      <td>Klebsiella phage vB_KpnP_IME205</td>\n",
       "      <td>ALT58498</td>\n",
       "      <td>59-596</td>\n",
       "      <td>ALT58498</td>\n",
       "    </tr>\n",
       "    <tr>\n",
       "      <th>5</th>\n",
       "      <td>Klebsiella phage vB_KpnP_KpV74</td>\n",
       "      <td>APZ82768</td>\n",
       "      <td>116-426</td>\n",
       "      <td>APZ82768</td>\n",
       "    </tr>\n",
       "    <tr>\n",
       "      <th>6</th>\n",
       "      <td>Klebsiella phage B1</td>\n",
       "      <td>qtp95996</td>\n",
       "      <td>300-648</td>\n",
       "      <td>QTP95996</td>\n",
       "    </tr>\n",
       "    <tr>\n",
       "      <th>7</th>\n",
       "      <td>Klebsiella phage KP32</td>\n",
       "      <td>YP_003347555</td>\n",
       "      <td>334-765</td>\n",
       "      <td>YP_003347555</td>\n",
       "    </tr>\n",
       "    <tr>\n",
       "      <th>8</th>\n",
       "      <td>Klebsiella phage KP32</td>\n",
       "      <td>YP_003347556</td>\n",
       "      <td>53-359</td>\n",
       "      <td>YP_003347556</td>\n",
       "    </tr>\n",
       "    <tr>\n",
       "      <th>9</th>\n",
       "      <td>Klebsiella phage KP32</td>\n",
       "      <td>YP_003347556</td>\n",
       "      <td>53-487</td>\n",
       "      <td>YP_003347556</td>\n",
       "    </tr>\n",
       "  </tbody>\n",
       "</table>\n",
       "</div>"
      ],
      "text/plain": [
       "                             Phage     accession boundaries clean_accession\n",
       "0    Klebsiella phage SH-Kp 152410      AUV61507    305-917        AUV61507\n",
       "1      klebsiella_phage_0507_kn2_1      ban78446   304-1003        BAN78446\n",
       "2              Klebsiella phage 13      azf89844    294-571        AZF89844\n",
       "3  Klebsiella phage vB_KpnP_IME205      ALT58497    333-657        ALT58497\n",
       "4  Klebsiella phage vB_KpnP_IME205      ALT58498     59-596        ALT58498\n",
       "5   Klebsiella phage vB_KpnP_KpV74      APZ82768    116-426        APZ82768\n",
       "6              Klebsiella phage B1      qtp95996    300-648        QTP95996\n",
       "7            Klebsiella phage KP32  YP_003347555    334-765    YP_003347555\n",
       "8            Klebsiella phage KP32  YP_003347556     53-359    YP_003347556\n",
       "9            Klebsiella phage KP32  YP_003347556     53-487    YP_003347556"
      ]
     },
     "execution_count": 14,
     "metadata": {},
     "output_type": "execute_result"
    }
   ],
   "source": [
    "df_other_info"
   ]
  },
  {
   "cell_type": "code",
   "execution_count": 15,
   "id": "c32c0f79-2624-4cbc-8ed7-9f26c6e6211e",
   "metadata": {
    "tags": []
   },
   "outputs": [],
   "source": [
    "with open(f\"{path_other}/depo_other_bea.multi.fasta\", \"w\") as outfile : \n",
    "    for _, row in df_other_info.iterrows() : \n",
    "        start, end = row[\"boundaries\"].split(\"-\")[0] , row[\"boundaries\"].split(\"-\")[1]\n",
    "        seq_full = dico_seq[row[\"clean_accession\"]]\n",
    "        dpo_domain = seq_full[int(start) : int(end)]\n",
    "        outfile.write(f\">{row['clean_accession']}__{start}_{end}\\n{dpo_domain}\\n\")\n",
    "        "
   ]
  },
  {
   "cell_type": "code",
   "execution_count": null,
   "id": "0a34083d-d7c8-4ce3-8741-17e9edc8275c",
   "metadata": {},
   "outputs": [],
   "source": [
    "> Move to server : "
   ]
  }
 ],
 "metadata": {
  "kernelspec": {
   "display_name": "Python [conda env:torch_geometric]",
   "language": "python",
   "name": "conda-env-torch_geometric-py"
  },
  "language_info": {
   "codemirror_mode": {
    "name": "ipython",
    "version": 3
   },
   "file_extension": ".py",
   "mimetype": "text/x-python",
   "name": "python",
   "nbconvert_exporter": "python",
   "pygments_lexer": "ipython3",
   "version": "3.11.4"
  }
 },
 "nbformat": 4,
 "nbformat_minor": 5
}
