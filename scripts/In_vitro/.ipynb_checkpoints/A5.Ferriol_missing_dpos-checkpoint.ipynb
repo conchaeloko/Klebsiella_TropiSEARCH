{
 "cells": [
  {
   "cell_type": "markdown",
   "id": "da45109b-49ab-4b0b-8ed7-2f5be5b9b532",
   "metadata": {},
   "source": [
    "## Identify the missing ones : "
   ]
  },
  {
   "cell_type": "markdown",
   "id": "e6d77beb-288e-45d7-ac1b-ef64c571cbc9",
   "metadata": {},
   "source": [
    "> All the depos in 77 phages : "
   ]
  },
  {
   "cell_type": "code",
   "execution_count": 18,
   "id": "0ef1594d-87ab-4307-a623-fc5299ed5c88",
   "metadata": {
    "tags": []
   },
   "outputs": [],
   "source": [
    "import os \n",
    "import pandas as pd\n",
    "from collections import Counter\n",
    "\n",
    "path_classic=\"/media/concha-eloko/Linux/77_strains_phage_project\"\n",
    "\n",
    "to_discard = [\"K80PH1317a\"]\n",
    "\n",
    "rbp_df = pd.read_csv(f\"{path_classic}/RBP_77_phages.tsv\", sep = \"\\t\", header =0).fillna(\"None\")\n",
    "rbp_df = rbp_df[~rbp_df[\"Phage\"].isin(to_discard)]\n",
    "depo_df = rbp_df[rbp_df[\"Function\"] == \"depolymerase\"]\n"
   ]
  },
  {
   "cell_type": "code",
   "execution_count": 19,
   "id": "12695fd4-a0ee-4437-a587-9fad02edfac1",
   "metadata": {
    "tags": []
   },
   "outputs": [],
   "source": [
    "depos_format_all = []\n",
    "for _, row in depo_df.iterrows() :\n",
    "    cds_name = \"_\".join(row[\"CDS\"].split(\" \"))\n",
    "    depo_name = f'{row[\"Phage\"]}__{cds_name}'\n",
    "    depos_format_all.append(depo_name)\n"
   ]
  },
  {
   "cell_type": "code",
   "execution_count": 20,
   "id": "6585753f-be9c-45ef-83ce-6b339b31081b",
   "metadata": {
    "tags": []
   },
   "outputs": [],
   "source": [
    "path_ppt = \"/media/concha-eloko/Linux/PPT_clean\"\n",
    "\n",
    "current_depo = pd.read_csv(f\"{path_ppt}/77_current_dpos.tsv\", names = [\"depos\"])\n",
    "depo_current_format = current_depo[\"depos\"].tolist()"
   ]
  },
  {
   "cell_type": "code",
   "execution_count": 21,
   "id": "234599eb-8c1d-4498-bac5-12d33b4e8e78",
   "metadata": {
    "tags": []
   },
   "outputs": [
    {
     "data": {
      "text/plain": [
       "{'K10PH82C1__cds_49',\n",
       " 'K13PH07C1L__cds_10',\n",
       " 'K13PH07C1L__cds_11',\n",
       " 'K13PH07C1L__cds_12',\n",
       " 'K15PH90__cds_54',\n",
       " 'K18PH07C1__cds_243',\n",
       " 'K18PH07C1__cds_245',\n",
       " 'K22PH164C1__cds_11',\n",
       " 'K30lambda2_2__cds_152',\n",
       " 'K30lambda2_2__cds_20',\n",
       " 'K32PH164C1__cds_151',\n",
       " 'K32PH164C1__cds_20',\n",
       " 'K34PH164__cds_24',\n",
       " 'K41P2__cds_226',\n",
       " 'K41P2__cds_227',\n",
       " 'K49PH164C2__cds_24',\n",
       " 'K62PH164C2__cds_25',\n",
       " 'K65PH164__cds_198',\n",
       " 'K70PH128C1__cds_24',\n",
       " 'K7PH164C4__cds_151',\n",
       " 'K7PH164C4__cds_20'}"
      ]
     },
     "execution_count": 21,
     "metadata": {},
     "output_type": "execute_result"
    }
   ],
   "source": [
    "missing_ones = set(depos_format_all) - set(depo_current_format)\n",
    "missing_ones"
   ]
  },
  {
   "cell_type": "code",
   "execution_count": 22,
   "id": "7c5d06e4-ff0a-444e-9870-8a20bfcedf0e",
   "metadata": {
    "tags": []
   },
   "outputs": [
    {
     "data": {
      "text/plain": [
       "21"
      ]
     },
     "execution_count": 22,
     "metadata": {},
     "output_type": "execute_result"
    }
   ],
   "source": [
    "len(missing_ones)"
   ]
  },
  {
   "cell_type": "markdown",
   "id": "15a23e1f-38de-4bdd-a858-585677540a84",
   "metadata": {},
   "source": [
    "***\n",
    "## Create a multi fasta file : "
   ]
  },
  {
   "cell_type": "code",
   "execution_count": null,
   "id": "85d8b8ed-f956-468a-9df0-90af98d9f284",
   "metadata": {},
   "outputs": [],
   "source": []
  },
  {
   "cell_type": "code",
   "execution_count": null,
   "id": "8f147bb2-3489-4e10-a810-7cb7af2d8252",
   "metadata": {},
   "outputs": [],
   "source": []
  },
  {
   "cell_type": "code",
   "execution_count": 4,
   "id": "9877d7bd-9fa3-4163-8cc7-1e938f2fe255",
   "metadata": {},
   "outputs": [],
   "source": [
    "import os\n",
    "import pandas as pd\n",
    "from Bio import SeqIO\n",
    "\n",
    "path_project = \"/media/concha-eloko/Linux/77_strains_phage_project\"\n",
    "path_annotation = f\"{path_project}/annotation_classic\"\n",
    "\n",
    "missing_dpos = pd.read_csv(f\"{path_project}/full_missed_dpo.77_phages.tsv\", sep = \" \", header = 0)\n"
   ]
  },
  {
   "cell_type": "code",
   "execution_count": 11,
   "id": "73609c78-8711-4d93-887c-fb362c514463",
   "metadata": {},
   "outputs": [],
   "source": [
    "with open(f\"{path_project}/full_missing_dpos.multi.fasta\", \"w\") as outfile :\n",
    "    for _, row in missing_dpos.iterrows() : \n",
    "        path_fasta = f\"{path_project}/annotation_classic/{row['Phage']}/{row['Phage']}.multi.annotated.faa\"\n",
    "        fasta_file = SeqIO.parse(path_fasta, \"fasta\")\n",
    "        header = f\"{row['Phage']} {row['CDS']},\"\n",
    "        for record in fasta_file : \n",
    "            if record.description.count(header) > 0 : \n",
    "                outfile.write(f\">{record.description}\\n{record.seq}\\n\")\n",
    "            \n",
    "\n",
    "    "
   ]
  },
  {
   "cell_type": "markdown",
   "id": "cd1d7779-42ad-4a4b-b68f-a2f861e091e2",
   "metadata": {},
   "source": [
    "> Move it to the server :"
   ]
  },
  {
   "cell_type": "code",
   "execution_count": null,
   "id": "8266a418-4e4c-407e-a95a-e8d072249fcf",
   "metadata": {},
   "outputs": [],
   "source": [
    "rsync -avzhe ssh \\\n",
    "/media/concha-eloko/Linux/77_strains_phage_project/full_missing_dpos.multi.fasta \\\n",
    "conchae@garnatxa.srv.cpd:/home/conchae/PhageDepo_pdb\n",
    "\n",
    "rsync -avzhe ssh \\\n",
    "conchae@garnatxa.srv.cpd:/home/conchae/PhageDepo_pdb/full_missing_dpos_esmfold \\\n",
    "/media/concha-eloko/Linux/77_strains_phage_project/\n"
   ]
  },
  {
   "cell_type": "markdown",
   "id": "df34a9f4-cb35-48b5-a65a-ca9c7c67e7ef",
   "metadata": {},
   "source": [
    "***\n",
    "# Create the multi fasta : \n"
   ]
  },
  {
   "cell_type": "code",
   "execution_count": 5,
   "id": "0496451a-94f3-4b48-b910-c5ada9199443",
   "metadata": {
    "scrolled": true
   },
   "outputs": [],
   "source": [
    "import os \n",
    "\n",
    "boundaries_df = pd.read_csv(f\"{path_project}/full_missed_dpo.77_phages.boundaries.tsv\", sep = \"\\t\", header =0)\n",
    "boundaries_df.drop_duplicates(subset = [\"Phage CDS\"], inplace = True)"
   ]
  },
  {
   "cell_type": "code",
   "execution_count": 6,
   "id": "1f4c31e7-efdc-4cab-b42c-f131f807a48c",
   "metadata": {},
   "outputs": [],
   "source": [
    "def get_domain(seq , boundaries_info) :\n",
    "    if str(boundaries_info).count(\";\") == 0 :\n",
    "        start , end = str(boundaries_info).split(\"-\")[0] , str(boundaries_info).split(\"-\")[1]\n",
    "        domain_seq = seq[int(start):int(end)]\n",
    "        return domain_seq\n",
    "    else :\n",
    "        full_seq = \"\"\n",
    "        for _,segment_info in enumerate(str(boundaries_info).split(\";\")) : \n",
    "            start , end = segment_info.split(\"-\")[0] , segment_info.split(\"-\")[1]\n",
    "            domain_seq = seq[int(start): int(end)]\n",
    "            full_seq = full_seq + domain_seq\n",
    "        return domain_seq\n",
    "    "
   ]
  },
  {
   "cell_type": "code",
   "execution_count": 7,
   "id": "9c164667-ce2a-4662-9968-37e5501242b8",
   "metadata": {
    "scrolled": true
   },
   "outputs": [
    {
     "name": "stdout",
     "output_type": "stream",
     "text": [
      "K10PH82C1 cds_45\tK10PH82C144\n",
      "K11PH164C1 cds_39\tK11PH164C138\n",
      "K12P1_1 cds_43\tK12P1_142\n",
      "K13PH07C1L cds_54\tK13PH07C1L53\n",
      "K13PH07C1S cds_53\tK13PH07C1S52\n",
      "K15PH90 cds_49\tK15PH9048\n",
      "K16PH164C3 cds_43\tK16PH164C342\n",
      "K19PH14C4P1 cds_43\tK19PH14C4P142\n",
      "K1PH164C1 cds_53\tK1PH164C152\n",
      "K2069PH1 cds_25\tK2069PH124\n",
      "K22PH164C1 cds_50\tK22PH164C149\n",
      "K24PH164C1 cds_55\tK24PH164C154\n",
      "K25PH129C1 cds_56\tK25PH129C155\n",
      "K26PH128C1 cds_44\tK26PH128C143\n",
      "K27PH129C1 cds_43\tK27PH129C142\n",
      "K35PH164C3 cds_43\tK35PH164C342\n",
      "K37PH164C1 cds_41\tK37PH164C140\n",
      "K39PH122C2 cds_50\tK39PH122C249\n",
      "K40PH129C1 cds_52\tK40PH129C151\n",
      "K42PH8 cds_43\tK42PH842\n",
      "K42PH8 cds_48\tK42PH847\n",
      "K43PH164C1 cds_35\tK43PH164C134\n",
      "K44PH129C1 cds_45\tK44PH129C144\n",
      "K48PH164C1 cds_43\tK48PH164C142\n",
      "K51PH129C1 cds_56\tK51PH129C155\n",
      "K56PH164C1 cds_43\tK56PH164C142\n",
      "K58PH129C2 cds_40\tK58PH129C239\n",
      "K59PH2 cds_46\tK59PH245\n",
      "K61PH164C1 cds_52\tK61PH164C151\n",
      "K66PH128C1 cds_55\tK66PH128C154\n",
      "K71PH129C1 cds_51\tK71PH129C150\n",
      "K72PH164C2 cds_51\tK72PH164C250\n",
      "K74PH129C2 cds_46\tK74PH129C245\n",
      "K80PH1317a cds_47\tK80PH1317a46\n",
      "K80PH1317b cds_47\tK80PH1317b46\n",
      "K82P1 cds_40\tK82P139\n",
      "K8PH128 cds_41\tK8PH12840\n",
      "K72PH164C2 cds_55\tK72PH164C254\n",
      "K33PH14C2 cds_25\tK33PH14C224\n",
      "K31PH164 cds_25\tK31PH16424\n",
      "K52PH129C1 cds_25\tK52PH129C124\n",
      "K69PH164C2 cds_24\tK69PH164C223\n",
      "K28PH129 cds_24\tK28PH12923\n",
      "K2064PH2 cds_25\tK2064PH224\n",
      "K19PH14C4P1 cds_48\tK19PH14C4P147\n",
      "K50PH164C1 cds_28\tK50PH164C127\n",
      "K29PH164C1 cds_25\tK29PH164C124\n",
      "K9PH25C2 cds_76\tK9PH25C275\n",
      "K17alfa62 cds_66\tK17alfa6265\n"
     ]
    }
   ],
   "source": [
    "# Write the multi fasta file : \n",
    "with open(f\"{path_project}/missed_dpo.77_phages.domains.multi.fasta\" , \"w\") as outfile :\n",
    "    for _,row in boundaries_df.iterrows() : \n",
    "        phage , cds = row[\"Phage CDS\"].split(\" \")[0] , row[\"Phage CDS\"].split(\" \")[1]\n",
    "        boundaries = row[\"Boundaries\"]\n",
    "        if boundaries != \"NaN\" : \n",
    "            path_fasta = f\"{path_annotation}/{phage}/{phage}.multi.annotated.faa\"\n",
    "            fasta_file = SeqIO.parse(path_fasta , \"fasta\")\n",
    "            for index, record in enumerate(fasta_file) : \n",
    "                if record.description.count(row[\"Phage CDS\"]) > 0 :\n",
    "                    seq = record.seq\n",
    "                    domain_seq = get_domain(seq , boundaries)\n",
    "                    outfile.write(f\">{phage}_{cds}__{boundaries}\\n{domain_seq}\\n\")\n",
    "                    print(f\"{phage} {cds}\\t{phage}{index}\")\n",
    "\n",
    "            \n",
    "    "
   ]
  },
  {
   "cell_type": "markdown",
   "id": "8690cca2-0e5d-47c8-9010-91e0c1604bfa",
   "metadata": {},
   "source": [
    "> Move it to the server :"
   ]
  },
  {
   "cell_type": "code",
   "execution_count": null,
   "id": "b0e3fafb-ab61-442f-aab0-5585e223c63f",
   "metadata": {},
   "outputs": [],
   "source": [
    "rsync -avzhe ssh \\\n",
    "/media/concha-eloko/Linux/77_strains_phage_project/missed_dpo.77_phages.domains.multi.fasta \\\n",
    "conchae@garnatxa.srv.cpd:/home/conchae/77_strains_phage_project\n",
    "\n",
    "\n",
    "rsync -avzhe ssh \\\n",
    "conchae@garnatxa.srv.cpd:/home/conchae/77_strains_phage_project/missed_dpo.77_phages.domains.multi.fasta.esm2_out \\\n",
    "/media/concha-eloko/Linux/77_strains_phage_project\n"
   ]
  },
  {
   "cell_type": "code",
   "execution_count": 8,
   "id": "94cdf7b8-b78d-444b-af0c-b9dc05bf3e75",
   "metadata": {},
   "outputs": [
    {
     "name": "stderr",
     "output_type": "stream",
     "text": [
      "100%|███████████████████████████████████████████| 49/49 [00:01<00:00, 45.84it/s]\n",
      "100%|██████████████████████████████████████████| 49/49 [00:00<00:00, 935.05it/s]\n"
     ]
    }
   ],
   "source": [
    "import torch\n",
    "import os \n",
    "import pandas as pd\n",
    "from tqdm import tqdm \n",
    "\n",
    "\n",
    "path_esm = \"/media/concha-eloko/Linux/77_strains_phage_project/missed_dpo.77_phages.domains.multi.fasta.esm2_out\"\n",
    "\n",
    "embeddings_esm = {}\n",
    "for file in tqdm(os.listdir(path_esm)) :\n",
    "    path_file = f\"{path_esm}/{file}\"\n",
    "    index = file.split(\".\")[0]\n",
    "    embb = torch.load(f\"{path_file}\")[\"mean_representations\"][33].tolist()\n",
    "    embeddings_esm[index] = embb\n",
    "    \n",
    "with open(f\"/media/concha-eloko/Linux/77_strains_phage_project/missed_dpo.77_phages.domains.esm2.embedding.csv\" , \"w\") as outfile :\n",
    "    for index in tqdm(embeddings_esm) :\n",
    "        outfile.write(f\"{index},\")\n",
    "        for _,  emb in enumerate(embeddings_esm[index]) :\n",
    "            outfile.write(f\"{emb},\")\n",
    "        outfile.write(\"\\n\")"
   ]
  },
  {
   "cell_type": "code",
   "execution_count": null,
   "id": "b5e2c75c-bbd2-4102-a55d-3690dbee9f19",
   "metadata": {},
   "outputs": [],
   "source": []
  }
 ],
 "metadata": {
  "kernelspec": {
   "display_name": "Python [conda env:ML_work_v2]",
   "language": "python",
   "name": "conda-env-ML_work_v2-py"
  },
  "language_info": {
   "codemirror_mode": {
    "name": "ipython",
    "version": 3
   },
   "file_extension": ".py",
   "mimetype": "text/x-python",
   "name": "python",
   "nbconvert_exporter": "python",
   "pygments_lexer": "ipython3",
   "version": "3.9.18"
  },
  "widgets": {
   "application/vnd.jupyter.widget-state+json": {
    "state": {},
    "version_major": 2,
    "version_minor": 0
   }
  }
 },
 "nbformat": 4,
 "nbformat_minor": 5
}
