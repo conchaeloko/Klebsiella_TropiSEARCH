{
 "cells": [
  {
   "cell_type": "code",
   "execution_count": null,
   "id": "1c3f7386-2112-49cc-99fd-bf8be42dfade",
   "metadata": {
    "scrolled": true
   },
   "outputs": [],
   "source": [
    "from torch_geometric.data import HeteroData, DataLoader\n",
    "import torch_geometric.transforms as T\n",
    "from torch_geometric.nn import to_hetero , HeteroConv , GATv2Conv\n",
    "from torch_geometric.utils import negative_sampling\n",
    "from torch_geometric.loader import LinkNeighborLoader\n",
    "import torch\n",
    "from torch import nn\n",
    "import torch.nn.functional as F\n",
    "import torch.optim as optim\n",
    "\n",
    "from sklearn.model_selection import train_test_split, StratifiedKFold\n",
    "from sklearn.preprocessing import LabelEncoder , label_binarize , OneHotEncoder\n",
    "from sklearn.metrics import accuracy_score, precision_score, recall_score, f1_score, roc_auc_score , matthews_corrcoef\n",
    "\n",
    "from TropiGAT_functions import *\n",
    "#from TropiGAT_functions import get_top_n_kltypes ,clean_print \n",
    "\n",
    "import os\n",
    "import json\n",
    "import pandas as pd\n",
    "import numpy as np\n",
    "from tqdm import tqdm\n",
    "from itertools import product\n",
    "import random\n",
    "from collections import Counter\n",
    "import warnings\n",
    "import logging\n",
    "from multiprocessing.pool import ThreadPool\n",
    "warnings.filterwarnings(\"ignore\")\n",
    "\n",
    "# *****************************************************************************\n",
    "# Load the Dataframes :\n",
    "path_work = \"/media/concha-eloko/Linux/PPT_clean\"\n",
    "path_ensemble = f\"{path_work}/ficheros_28032023/ensemble_1908\"\n"
   ]
  },
  {
   "cell_type": "markdown",
   "id": "452274b6-c2b0-46e1-a1bd-bc9ccdb8e736",
   "metadata": {},
   "source": [
    "> pre-processing"
   ]
  },
  {
   "cell_type": "code",
   "execution_count": null,
   "id": "87f8bb36-594c-4e7e-9008-1f415eed79fe",
   "metadata": {},
   "outputs": [],
   "source": [
    "import pandas as pd \n",
    "import os \n",
    "\n",
    "path_project = \"/media/concha-eloko/Linux/77_strains_phage_project\"\n",
    "path_Dpo_domain_org = \"/media/concha-eloko/Linux/depolymerase_building/clean_77_phages_depo\"\n",
    "\n",
    "dpo_embeddings = pd.read_csv(f\"{path_project}/rbp_work/Dpo_domains_77.esm2.embedding.csv\", sep = \",\" , header = None)\n",
    "dpo_embeddings = dpo_embeddings.drop([1281] , axis = 1)\n",
    "dpo_embeddings.set_index([0], inplace = True)"
   ]
  },
  {
   "cell_type": "markdown",
   "id": "f8b4c9ba-389d-48f1-bef9-e75b9bdba8d6",
   "metadata": {},
   "source": [
    "> run the predictions "
   ]
  },
  {
   "cell_type": "code",
   "execution_count": null,
   "id": "60087068-4631-4543-bfd2-9db933dbee8f",
   "metadata": {},
   "outputs": [],
   "source": [
    "# Run the predictions : \n",
    "graph_test = graph_single_Dpo_pred(dpo_embeddings)\n",
    "r_pred = run_predictions(graph_test,dpo_embeddings)\n",
    "formatted_pred = format_predictions(r_pred)\n"
   ]
  },
  {
   "cell_type": "code",
   "execution_count": null,
   "id": "3781fb97-c3fb-4f8f-98e3-1c08107e8f11",
   "metadata": {
    "scrolled": true
   },
   "outputs": [],
   "source": [
    "cleaner_pred = get_top_n_kltypes(formatted_pred , 15)\n",
    "clean_print(cleaner_pred)"
   ]
  },
  {
   "cell_type": "code",
   "execution_count": null,
   "id": "6785840b-5bf4-4a68-b73d-eaab7cc47aec",
   "metadata": {},
   "outputs": [],
   "source": [
    "KL_types_L = [f\"KL{n}\" for n in [102,107,64,112,151,17,24,25,27,2]]\n",
    "\n",
    "spot_test = {}\n",
    "for kl in KL_types_L :\n",
    "    phages_to_spot = []\n",
    "    for phage in cleaner_pred :\n",
    "        shots = [item[0] for item in cleaner_pred[phage]]\n",
    "        if kl in shots :\n",
    "            phages_to_spot.append(phage)\n",
    "    spot_test[kl] = phages_to_spot"
   ]
  },
  {
   "cell_type": "code",
   "execution_count": null,
   "id": "2c53a2b7-a4d7-4692-9ff1-3e83ebd55106",
   "metadata": {},
   "outputs": [],
   "source": [
    "clean_print(spot_test)"
   ]
  },
  {
   "cell_type": "code",
   "execution_count": null,
   "id": "95d1b6e4-e8ca-419a-9e3a-402a61b1e0b5",
   "metadata": {},
   "outputs": [],
   "source": []
  }
 ],
 "metadata": {
  "kernelspec": {
   "display_name": "torch_geometric",
   "language": "python",
   "name": "torch_geometric"
  },
  "language_info": {
   "codemirror_mode": {
    "name": "ipython",
    "version": 3
   },
   "file_extension": ".py",
   "mimetype": "text/x-python",
   "name": "python",
   "nbconvert_exporter": "python",
   "pygments_lexer": "ipython3",
   "version": "3.11.4"
  },
  "widgets": {
   "application/vnd.jupyter.widget-state+json": {
    "state": {},
    "version_major": 2,
    "version_minor": 0
   }
  }
 },
 "nbformat": 4,
 "nbformat_minor": 5
}
