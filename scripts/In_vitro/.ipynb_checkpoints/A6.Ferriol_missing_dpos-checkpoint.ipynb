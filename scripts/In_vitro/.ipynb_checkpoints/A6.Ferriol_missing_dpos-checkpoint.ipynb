{
 "cells": [
  {
   "cell_type": "markdown",
   "id": "da45109b-49ab-4b0b-8ed7-2f5be5b9b532",
   "metadata": {},
   "source": [
    "## Identify the missing ones : "
   ]
  },
  {
   "cell_type": "markdown",
   "id": "e6d77beb-288e-45d7-ac1b-ef64c571cbc9",
   "metadata": {},
   "source": [
    "> All the depos in 77 phages : "
   ]
  },
  {
   "cell_type": "code",
   "execution_count": 8,
   "id": "0ef1594d-87ab-4307-a623-fc5299ed5c88",
   "metadata": {
    "tags": []
   },
   "outputs": [],
   "source": [
    "import os \n",
    "import pandas as pd\n",
    "from collections import Counter\n",
    "\n",
    "path_classic=\"/media/concha-eloko/Linux/77_strains_phage_project\"\n",
    "\n",
    "to_discard = [\"K80PH1317a\"]\n",
    "\n",
    "rbp_df = pd.read_csv(f\"{path_classic}/RBP_77_phages.tsv\", sep = \"\\t\", header =0).fillna(\"None\")\n",
    "rbp_df = rbp_df[~rbp_df[\"Phage\"].isin(to_discard)]\n",
    "depo_df = rbp_df[rbp_df[\"Function\"] == \"depolymerase\"]\n"
   ]
  },
  {
   "cell_type": "code",
   "execution_count": 9,
   "id": "12695fd4-a0ee-4437-a587-9fad02edfac1",
   "metadata": {
    "tags": []
   },
   "outputs": [],
   "source": [
    "depos_format_all = []\n",
    "for _, row in depo_df.iterrows() :\n",
    "    cds_name = \"_\".join(row[\"CDS\"].split(\" \"))\n",
    "    depo_name = f'{row[\"Phage\"]}__{cds_name}'\n",
    "    depos_format_all.append(depo_name)\n"
   ]
  },
  {
   "cell_type": "code",
   "execution_count": 10,
   "id": "6585753f-be9c-45ef-83ce-6b339b31081b",
   "metadata": {
    "tags": []
   },
   "outputs": [],
   "source": [
    "path_ppt = \"/media/concha-eloko/Linux/PPT_clean\"\n",
    "\n",
    "current_depo = pd.read_csv(f\"{path_ppt}/77_current_dpos.tsv\", names = [\"depos\"])\n",
    "depo_current_format = current_depo[\"depos\"].tolist()"
   ]
  },
  {
   "cell_type": "code",
   "execution_count": 11,
   "id": "234599eb-8c1d-4498-bac5-12d33b4e8e78",
   "metadata": {
    "tags": []
   },
   "outputs": [
    {
     "data": {
      "text/plain": [
       "21"
      ]
     },
     "execution_count": 11,
     "metadata": {},
     "output_type": "execute_result"
    }
   ],
   "source": [
    "missing_ones = set(depos_format_all) - set(depo_current_format)\n",
    "len(missing_ones)"
   ]
  },
  {
   "cell_type": "markdown",
   "id": "15a23e1f-38de-4bdd-a858-585677540a84",
   "metadata": {},
   "source": [
    "***\n",
    "## Create a multi fasta file : "
   ]
  },
  {
   "cell_type": "code",
   "execution_count": 13,
   "id": "85d8b8ed-f956-468a-9df0-90af98d9f284",
   "metadata": {
    "tags": []
   },
   "outputs": [],
   "source": [
    "path_project = \"/media/concha-eloko/Linux/77_strains_phage_project\"\n",
    "path_annotation = f\"{path_project}/annotation_classic\"\n",
    "\n",
    "missing_depo_df = pd.read_csv(f\"{path_ppt}/missing_dpos_delination.tsv\", names = [\"depos\", \"boundaries\"], sep = \"\\t\")\n"
   ]
  },
  {
   "cell_type": "code",
   "execution_count": 14,
   "id": "e13e1629-cf0e-434d-8ddc-c1b4dd2465b0",
   "metadata": {
    "tags": []
   },
   "outputs": [
    {
     "data": {
      "text/html": [
       "<div>\n",
       "<style scoped>\n",
       "    .dataframe tbody tr th:only-of-type {\n",
       "        vertical-align: middle;\n",
       "    }\n",
       "\n",
       "    .dataframe tbody tr th {\n",
       "        vertical-align: top;\n",
       "    }\n",
       "\n",
       "    .dataframe thead th {\n",
       "        text-align: right;\n",
       "    }\n",
       "</style>\n",
       "<table border=\"1\" class=\"dataframe\">\n",
       "  <thead>\n",
       "    <tr style=\"text-align: right;\">\n",
       "      <th></th>\n",
       "      <th>depos</th>\n",
       "      <th>boundaries</th>\n",
       "    </tr>\n",
       "  </thead>\n",
       "  <tbody>\n",
       "    <tr>\n",
       "      <th>0</th>\n",
       "      <td>K10PH82C1__cds_49</td>\n",
       "      <td>250-1321</td>\n",
       "    </tr>\n",
       "    <tr>\n",
       "      <th>1</th>\n",
       "      <td>K13PH07C1L__cds_10</td>\n",
       "      <td>41-537</td>\n",
       "    </tr>\n",
       "    <tr>\n",
       "      <th>2</th>\n",
       "      <td>K13PH07C1L__cds_11</td>\n",
       "      <td>124-309</td>\n",
       "    </tr>\n",
       "    <tr>\n",
       "      <th>3</th>\n",
       "      <td>K13PH07C1L__cds_12</td>\n",
       "      <td>1-203</td>\n",
       "    </tr>\n",
       "    <tr>\n",
       "      <th>4</th>\n",
       "      <td>K15PH90__cds_54</td>\n",
       "      <td>177-684</td>\n",
       "    </tr>\n",
       "    <tr>\n",
       "      <th>5</th>\n",
       "      <td>K18PH07C1__cds_243</td>\n",
       "      <td>123-416</td>\n",
       "    </tr>\n",
       "    <tr>\n",
       "      <th>6</th>\n",
       "      <td>K18PH07C1__cds_245</td>\n",
       "      <td>full</td>\n",
       "    </tr>\n",
       "    <tr>\n",
       "      <th>7</th>\n",
       "      <td>K22PH164C1__cds_11</td>\n",
       "      <td>100-564</td>\n",
       "    </tr>\n",
       "    <tr>\n",
       "      <th>8</th>\n",
       "      <td>K30lambda2_2__cds_152</td>\n",
       "      <td>full</td>\n",
       "    </tr>\n",
       "    <tr>\n",
       "      <th>9</th>\n",
       "      <td>K30lambda2_2__cds_20</td>\n",
       "      <td>253-400</td>\n",
       "    </tr>\n",
       "    <tr>\n",
       "      <th>10</th>\n",
       "      <td>K32PH164C1__cds_151</td>\n",
       "      <td>full</td>\n",
       "    </tr>\n",
       "    <tr>\n",
       "      <th>11</th>\n",
       "      <td>K32PH164C1__cds_20</td>\n",
       "      <td>253-400</td>\n",
       "    </tr>\n",
       "    <tr>\n",
       "      <th>12</th>\n",
       "      <td>K34PH164__cds_24</td>\n",
       "      <td>64-329</td>\n",
       "    </tr>\n",
       "    <tr>\n",
       "      <th>13</th>\n",
       "      <td>K41P2__cds_226</td>\n",
       "      <td>ignore</td>\n",
       "    </tr>\n",
       "    <tr>\n",
       "      <th>14</th>\n",
       "      <td>K41P2__cds_227</td>\n",
       "      <td>full</td>\n",
       "    </tr>\n",
       "    <tr>\n",
       "      <th>15</th>\n",
       "      <td>K49PH164C2__cds_24</td>\n",
       "      <td>61-317</td>\n",
       "    </tr>\n",
       "    <tr>\n",
       "      <th>16</th>\n",
       "      <td>K62PH164C2__cds_25</td>\n",
       "      <td>ignore</td>\n",
       "    </tr>\n",
       "    <tr>\n",
       "      <th>17</th>\n",
       "      <td>K65PH164__cds_198</td>\n",
       "      <td>full</td>\n",
       "    </tr>\n",
       "    <tr>\n",
       "      <th>18</th>\n",
       "      <td>K70PH128C1__cds_24</td>\n",
       "      <td>62-329</td>\n",
       "    </tr>\n",
       "    <tr>\n",
       "      <th>19</th>\n",
       "      <td>K7PH164C4__cds_151</td>\n",
       "      <td>full</td>\n",
       "    </tr>\n",
       "    <tr>\n",
       "      <th>20</th>\n",
       "      <td>K7PH164C4__cds_20</td>\n",
       "      <td>253-400</td>\n",
       "    </tr>\n",
       "  </tbody>\n",
       "</table>\n",
       "</div>"
      ],
      "text/plain": [
       "                    depos boundaries\n",
       "0       K10PH82C1__cds_49   250-1321\n",
       "1      K13PH07C1L__cds_10     41-537\n",
       "2      K13PH07C1L__cds_11    124-309\n",
       "3      K13PH07C1L__cds_12      1-203\n",
       "4         K15PH90__cds_54    177-684\n",
       "5      K18PH07C1__cds_243    123-416\n",
       "6      K18PH07C1__cds_245       full\n",
       "7      K22PH164C1__cds_11    100-564\n",
       "8   K30lambda2_2__cds_152       full\n",
       "9    K30lambda2_2__cds_20    253-400\n",
       "10    K32PH164C1__cds_151       full\n",
       "11     K32PH164C1__cds_20    253-400\n",
       "12       K34PH164__cds_24     64-329\n",
       "13         K41P2__cds_226     ignore\n",
       "14         K41P2__cds_227       full\n",
       "15     K49PH164C2__cds_24     61-317\n",
       "16     K62PH164C2__cds_25     ignore\n",
       "17      K65PH164__cds_198       full\n",
       "18     K70PH128C1__cds_24     62-329\n",
       "19     K7PH164C4__cds_151       full\n",
       "20      K7PH164C4__cds_20    253-400"
      ]
     },
     "execution_count": 14,
     "metadata": {},
     "output_type": "execute_result"
    }
   ],
   "source": [
    "missing_depo_df"
   ]
  },
  {
   "cell_type": "code",
   "execution_count": 31,
   "id": "8033f9ef-8821-403e-9abe-d2b6d5e47107",
   "metadata": {
    "tags": []
   },
   "outputs": [],
   "source": [
    "with open(f\"{path_ppt}/missing_depo.24062024.fasta\", \"w\") as outfile :\n",
    "    for _, row in missing_depo_df.iterrows() :\n",
    "        if row[\"boundaries\"] != \"ignore\" :\n",
    "            phage = row[\"depos\"].split(\"__\")[0]\n",
    "            cds = row[\"depos\"].split(\"_\")[-1]\n",
    "            faa_file = open(f\"{path_classic}/annotation_29092023/{phage}/{phage}.multi.annotated.faa\").read().split(\">\")\n",
    "            if row[\"boundaries\"] == \"full\" :\n",
    "                seq = faa_file[int(cds)].split('\\n')[1]\n",
    "            else :\n",
    "                start , end = int(row[\"boundaries\"].split(\"-\")[0]) , int(row[\"boundaries\"].split(\"-\")[1])\n",
    "                seq = faa_file[int(cds)].split('\\n')[1][start : end]\n",
    "            outfile.write(f\">{phage}__cds_{cds}\\n{seq}\\n\\n\")\n"
   ]
  },
  {
   "cell_type": "markdown",
   "id": "d79ea737-90cb-42ec-bb7e-a38758bcb9dc",
   "metadata": {},
   "source": [
    "> Fix missing some missing dpo"
   ]
  },
  {
   "cell_type": "code",
   "execution_count": 6,
   "id": "2e23bb34-7adf-424a-89ec-3f41d8908215",
   "metadata": {
    "tags": []
   },
   "outputs": [
    {
     "data": {
      "text/plain": [
       "19"
      ]
     },
     "execution_count": 6,
     "metadata": {},
     "output_type": "execute_result"
    }
   ],
   "source": [
    "from Bio import SeqIO\n",
    "path_ppt = \"/media/concha-eloko/Linux/PPT_clean\"\n",
    "\n",
    "missing_depo_seqio = {record.description : record.seq for record in SeqIO.parse(f\"{path_ppt}/missing_depo.24062024.fasta\", \"fasta\")}\n",
    "len(missing_depo_seqio)"
   ]
  },
  {
   "cell_type": "markdown",
   "id": "cd1d7779-42ad-4a4b-b68f-a2f861e091e2",
   "metadata": {},
   "source": [
    "> Move it to the server :"
   ]
  },
  {
   "cell_type": "code",
   "execution_count": null,
   "id": "8266a418-4e4c-407e-a95a-e8d072249fcf",
   "metadata": {},
   "outputs": [],
   "source": [
    "rsync -avzhe ssh \\\n",
    "/media/concha-eloko/Linux/PPT_clean/missing_depo.24062024.fasta \\\n",
    "conchae@garnatxa.srv.cpd:/home/conchae/PhageDepo_pdb\n",
    "\n",
    "rsync -avzhe ssh \\\n",
    "conchae@garnatxa.srv.cpd:/home/conchae/77_strains_phage_project/missing_depo.24062024.fasta.esm2_out \\\n",
    "/media/concha-eloko/Linux/77_strains_phage_project/\n"
   ]
  },
  {
   "cell_type": "code",
   "execution_count": 2,
   "id": "94cdf7b8-b78d-444b-af0c-b9dc05bf3e75",
   "metadata": {},
   "outputs": [
    {
     "name": "stderr",
     "output_type": "stream",
     "text": [
      "100%|███████████████████████████████████████████████████████████████████████████████████████████████████████████████████████████████████████████| 19/19 [00:00<00:00, 1719.27it/s]\n",
      "100%|███████████████████████████████████████████████████████████████████████████████████████████████████████████████████████████████████████████| 19/19 [00:00<00:00, 1268.57it/s]\n"
     ]
    }
   ],
   "source": [
    "import torch\n",
    "import os \n",
    "import pandas as pd\n",
    "from tqdm import tqdm \n",
    "\n",
    "\n",
    "path_esm = \"/media/concha-eloko/Linux/77_strains_phage_project/missing_depo.24062024.fasta.esm2_out\"\n",
    "\n",
    "embeddings_esm = {}\n",
    "for file in tqdm(os.listdir(path_esm)) :\n",
    "    path_file = f\"{path_esm}/{file}\"\n",
    "    index = file.split(\".\")[0]\n",
    "    embb = torch.load(f\"{path_file}\")[\"mean_representations\"][33].tolist()\n",
    "    embeddings_esm[index] = embb\n",
    "    \n",
    "with open(f\"/media/concha-eloko/Linux/77_strains_phage_project/missed_dpo.77_phages.domains.24062024.esm2.embedding.csv\" , \"w\") as outfile :\n",
    "    for index in tqdm(embeddings_esm) :\n",
    "        outfile.write(f\"{index},\")\n",
    "        #for _,  emb in enumerate(embeddings_esm[index]) :\n",
    "        #    outfile.write(f\"{emb},\")\n",
    "        data_emb = \",\".join([str(item) for item in embeddings_esm[index]])\n",
    "        outfile.write(f\"{data_emb}\\n\")\n",
    "        #outfile.write(\"\\n\")"
   ]
  },
  {
   "cell_type": "code",
   "execution_count": null,
   "id": "d69a7aef-c0bd-4444-887f-ae7ae423e346",
   "metadata": {},
   "outputs": [],
   "source": []
  }
 ],
 "metadata": {
  "kernelspec": {
   "display_name": "Python [conda env:torch_geometric]",
   "language": "python",
   "name": "conda-env-torch_geometric-py"
  },
  "language_info": {
   "codemirror_mode": {
    "name": "ipython",
    "version": 3
   },
   "file_extension": ".py",
   "mimetype": "text/x-python",
   "name": "python",
   "nbconvert_exporter": "python",
   "pygments_lexer": "ipython3",
   "version": "3.11.4"
  },
  "widgets": {
   "application/vnd.jupyter.widget-state+json": {
    "state": {},
    "version_major": 2,
    "version_minor": 0
   }
  }
 },
 "nbformat": 4,
 "nbformat_minor": 5
}
