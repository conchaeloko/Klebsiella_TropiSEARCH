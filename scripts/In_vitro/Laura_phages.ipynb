{
 "cells": [
  {
   "cell_type": "code",
   "execution_count": null,
   "id": "0eab6ca5-52b5-435f-b4a2-e556078092d2",
   "metadata": {},
   "outputs": [],
   "source": [
    "rsync -avzhe ssh \\\n",
    "conchae@garnatxa.srv.cpd:/home/conchae/software/multiPhATE2/PipelineOutput \\\n",
    "/media/concha-eloko/Linux/PPT_clean/in_vitro\n"
   ]
  },
  {
   "cell_type": "code",
   "execution_count": 1,
   "id": "73766d7a-cca6-4ba1-ac22-a6c34e9eda2a",
   "metadata": {},
   "outputs": [
    {
     "name": "stderr",
     "output_type": "stream",
     "text": [
      "/media/concha-eloko/Linux/conda_envs/ML_work/lib/python3.11/site-packages/tqdm/auto.py:21: TqdmWarning: IProgress not found. Please update jupyter and ipywidgets. See https://ipywidgets.readthedocs.io/en/stable/user_install.html\n",
      "  from .autonotebook import tqdm as notebook_tqdm\n"
     ]
    }
   ],
   "source": [
    "from transformers import AutoModelForTokenClassification, AutoTokenizer\n",
    "import torch\n",
    "from torch import nn \n",
    "import torch.nn.functional as F\n",
    "\n",
    "import os\n",
    "import numpy as np\n",
    "import tqdm\n",
    "import matplotlib.pyplot as plt\n",
    "from DepoScope_functions import Dpo_classifier , find_longest_non_zero_suite_with_n_zeros , predict_sequence, plot_token\n",
    "\n",
    "import warnings\n",
    "warnings.filterwarnings(\"ignore\") \n",
    "\n",
    "path_work = \"/media/concha-eloko/Linux/depolymerase_building\"\n",
    "\n",
    "esm2_model_path = f\"{path_work}/esm2_t12_35M_UR50D-finetuned-depolymerase.labels_4/checkpoint-6015\"\n",
    "DpoDetection_path = f\"{path_work}/DepoDetection.T12.4Labels.1908.model\"\n",
    "\n",
    "tokenizer = AutoTokenizer.from_pretrained(esm2_model_path)\n",
    "esm2_finetuned = AutoModelForTokenClassification.from_pretrained(esm2_model_path)"
   ]
  },
  {
   "cell_type": "code",
   "execution_count": 2,
   "id": "9753c227-c478-4095-87df-5e443757403d",
   "metadata": {
    "scrolled": true
   },
   "outputs": [
    {
     "data": {
      "text/plain": [
       "Dpo_classifier(\n",
       "  (pretrained_model): EsmForTokenClassification(\n",
       "    (esm): EsmModel(\n",
       "      (embeddings): EsmEmbeddings(\n",
       "        (word_embeddings): Embedding(33, 480, padding_idx=1)\n",
       "        (dropout): Dropout(p=0.0, inplace=False)\n",
       "        (position_embeddings): Embedding(1026, 480, padding_idx=1)\n",
       "      )\n",
       "      (encoder): EsmEncoder(\n",
       "        (layer): ModuleList(\n",
       "          (0-11): 12 x EsmLayer(\n",
       "            (attention): EsmAttention(\n",
       "              (self): EsmSelfAttention(\n",
       "                (query): Linear(in_features=480, out_features=480, bias=True)\n",
       "                (key): Linear(in_features=480, out_features=480, bias=True)\n",
       "                (value): Linear(in_features=480, out_features=480, bias=True)\n",
       "                (dropout): Dropout(p=0.0, inplace=False)\n",
       "                (rotary_embeddings): RotaryEmbedding()\n",
       "              )\n",
       "              (output): EsmSelfOutput(\n",
       "                (dense): Linear(in_features=480, out_features=480, bias=True)\n",
       "                (dropout): Dropout(p=0.0, inplace=False)\n",
       "              )\n",
       "              (LayerNorm): LayerNorm((480,), eps=1e-05, elementwise_affine=True)\n",
       "            )\n",
       "            (intermediate): EsmIntermediate(\n",
       "              (dense): Linear(in_features=480, out_features=1920, bias=True)\n",
       "            )\n",
       "            (output): EsmOutput(\n",
       "              (dense): Linear(in_features=1920, out_features=480, bias=True)\n",
       "              (dropout): Dropout(p=0.0, inplace=False)\n",
       "            )\n",
       "            (LayerNorm): LayerNorm((480,), eps=1e-05, elementwise_affine=True)\n",
       "          )\n",
       "        )\n",
       "        (emb_layer_norm_after): LayerNorm((480,), eps=1e-05, elementwise_affine=True)\n",
       "      )\n",
       "      (contact_head): EsmContactPredictionHead(\n",
       "        (regression): Linear(in_features=240, out_features=1, bias=True)\n",
       "        (activation): Sigmoid()\n",
       "      )\n",
       "    )\n",
       "    (dropout): Dropout(p=0.0, inplace=False)\n",
       "    (classifier): Linear(in_features=480, out_features=4, bias=True)\n",
       "  )\n",
       "  (conv1): Conv1d(1, 64, kernel_size=(5,), stride=(1,))\n",
       "  (conv2): Conv1d(64, 128, kernel_size=(5,), stride=(1,))\n",
       "  (fc1): Linear(in_features=130048, out_features=32, bias=True)\n",
       "  (classifier): Linear(in_features=32, out_features=1, bias=True)\n",
       ")"
      ]
     },
     "execution_count": 2,
     "metadata": {},
     "output_type": "execute_result"
    }
   ],
   "source": [
    "model_classifier = Dpo_classifier(esm2_finetuned) # Create an instance of Dpo_classifier\n",
    "model_classifier.load_state_dict(torch.load(DpoDetection_path), strict = False) # Load the saved weights ; weird Error with some of the keys \n",
    "model_classifier.eval() # Set the model to evaluation mode for inference\n"
   ]
  },
  {
   "cell_type": "code",
   "execution_count": 4,
   "id": "2cab3373-8831-4a10-90f7-61980c44bfe7",
   "metadata": {},
   "outputs": [
    {
     "name": "stderr",
     "output_type": "stream",
     "text": [
      "100%|████████████████████████████████████████████████████████████████████████████████████████████████████████████████████████████████████| 41/41 [05:37<00:00,  8.23s/it]\n"
     ]
    }
   ],
   "source": [
    "path_out = \"/media/concha-eloko/Linux/PPT_clean/in_vitro/Laura\"\n",
    "from Bio import SeqIO\n",
    "from tqdm import tqdm \n",
    "\n",
    "prediction_results = {}\n",
    "for phage in tqdm(os.listdir(path_out)) :\n",
    "    fastas = SeqIO.parse(f\"{path_out}/{phage}/{phage}_cgp_protein.faa\" , \"fasta\")\n",
    "    tmp_results = []\n",
    "    for record in fastas :\n",
    "        protein_seq = str(record.seq)\n",
    "        if len(protein_seq) >= 200 :\n",
    "            prediction, sequence_outputs = predict_sequence(model_classifier, protein_seq)\n",
    "            if prediction[0] == 1 :\n",
    "                a = (prediction , record.id)\n",
    "                tmp_results.append(a)\n",
    "            else :\n",
    "                pass\n",
    "    prediction_results[phage] = tmp_results"
   ]
  },
  {
   "cell_type": "code",
   "execution_count": 5,
   "id": "27c20324-2f33-480d-9b85-b5a9a677fdb8",
   "metadata": {
    "scrolled": true
   },
   "outputs": [
    {
     "data": {
      "text/plain": [
       "{'Kpn13-P1_node2_spades': [],\n",
       " 'Kpn26-P2_node1_spades': [],\n",
       " 'Kpn13-P1_node1_spades': [],\n",
       " 'Kpn26-P3_node1_spades': [((1.0, 1.0), 'cds3/-/1/2289')],\n",
       " 'Kpn5-P1_node1_spades': [((1.0, 1.0), 'cds21/+/1/2376'),\n",
       "  ((1.0, 1.0), 'cds26/+/1/3732')],\n",
       " 'Kpn5-P2_node2_spades': [],\n",
       " 'KPN10P1_node1_spades': [],\n",
       " 'Kpn16-P2_node1_spades': [((1.0, 1.0), 'cds55/-/1/2526')],\n",
       " 'Kpn10-P2_node1_spades': [((1.0, 1.0), 'cds32/+/1/2289')],\n",
       " 'Kpn13-P2_node1_spades': [],\n",
       " 'KPN25P1_node1_unicycler': [((1.0, 1.0), 'cds40/-/1/1983'),\n",
       "  ((1.0, 1.0), 'cds52/-/1/2382')],\n",
       " 'Kpn2-P4_node2_spades': [((1.0, 1.0), 'cds42/-/1/1080')],\n",
       " 'Kpn1-P4_node2_spades': [((1.0, 1.0), 'cds42/-/1/1080')],\n",
       " 'Kpn2-P1_node2_spades': [((1.0, 1.0), 'cds21/+/1/1080')],\n",
       " 'Kpn30-P3_node1_unicycler': [],\n",
       " 'Kpn24-P2_node1_spades': [],\n",
       " 'Kpn7-P2_node1_spades': [((1.0, 1.0), 'cds40/-/1/4056')],\n",
       " 'Kpn13-P2_node2_spades': [],\n",
       " 'Kpn30-P2_node1_unicycler': [((1.0, 0.9999434947967529), 'cds11/-/1/3054'),\n",
       "  ((1.0, 1.0), 'cds16/-/1/2430')],\n",
       " 'Kpn16-P3_node1_spades': [((1.0, 1.0), 'cds33/+/1/2376'),\n",
       "  ((1.0, 0.9999434947967529), 'cds38/+/1/3054')],\n",
       " 'Kpn2-P4_node1_spades': [((1.0, 1.0), 'cds32/+/1/2436'),\n",
       "  ((1.0, 0.9999434947967529), 'cds37/+/1/3054')],\n",
       " 'Kpn7-P1_node1_spades': [((1.0, 1.0), 'cds21/+/1/2376'),\n",
       "  ((1.0, 1.0), 'cds26/+/1/3732')],\n",
       " 'Kpn9-P3_node1_spades': [],\n",
       " 'Kpn16-P1_node1_unicycler': [((1.0, 1.0), 'cds37/+/1/2376'),\n",
       "  ((1.0, 0.9999434947967529), 'cds43/+/1/3054')],\n",
       " 'KPN35P4_node1_spades': [],\n",
       " 'Kpn9-P3_node2_spades': [],\n",
       " 'Kpn24-P1_node1_spades': [((1.0, 1.0), 'cds35/+/1/2376'),\n",
       "  ((1.0, 0.9999434947967529), 'cds41/+/1/3054')],\n",
       " 'KPN14P1_node1_spades': [],\n",
       " 'Kpn10-P1_node1_spades': [((1.0, 1.0), 'cds47/-/1/2289')],\n",
       " 'Kpn2-P2_node1_spades': [((1.0, 1.0), 'cds22/+/1/1080')],\n",
       " 'Kpn1-P3_node1_unicycler': [((1.0, 1.0), 'cds14/-/1/2580')],\n",
       " 'Kpn1-P1_node1_spades': [((1.0, 1.0), 'cds42/-/1/1080')],\n",
       " 'Kpn5-P3_node1_spades': [((1.0, 1.0), 'cds22/-/1/3732'),\n",
       "  ((1.0, 1.0), 'cds27/-/1/2376')],\n",
       " 'Kpn24-P3_node1_spades': [],\n",
       " 'Kpn1-P4_node1_spades': [((1.0, 1.0), 'cds23/+/1/2376'),\n",
       "  ((1.0, 0.9999434947967529), 'cds28/+/1/3054')],\n",
       " 'Kpn2-P1_node1_spades': [],\n",
       " 'Kpn15-P2_node1_unicycler': [((1.0, 1.0), 'cds38/+/1/2376'),\n",
       "  ((1.0, 0.9999434947967529), 'cds44/+/1/3054')],\n",
       " 'KPN5P1_node1_spades': [((1.0, 1.0), 'cds37/+/1/2376'),\n",
       "  ((1.0, 1.0), 'cds42/+/1/3732')],\n",
       " 'Kpn30-P1_node1_spades': [((1.0, 1.0), 'cds6/-/1/2376'),\n",
       "  ((1.0, 0.9999434947967529), 'cds47/-/1/3054')],\n",
       " 'Kpn5-P2_node1_spades': [],\n",
       " 'Kpn26-P3_node2_spades': []}"
      ]
     },
     "execution_count": 5,
     "metadata": {},
     "output_type": "execute_result"
    }
   ],
   "source": [
    "prediction_results"
   ]
  },
  {
   "cell_type": "code",
   "execution_count": null,
   "id": "ec0f4116-c19b-4267-b253-6072e533c50a",
   "metadata": {},
   "outputs": [],
   "source": [
    "dpos = [dpo[1] for file in prediction_results for dpo in prediction_results[file]]\n",
    "\n",
    "for fasta_file in tqdm(os.listdir(path_out)) :\n",
    "    fastas = SeqIO.parse(f\"{path_out}/{fasta_file}\" , \"fasta\")\n",
    "    tmp_results = []\n",
    "    for record in fastas :\n",
    "        protein_seq = str(record.seq[0:-1].translate())\n",
    "        if record.id in dpos and len(protein_seq) >= 200:\n",
    "            print(record.id)\n",
    "            prediction, sequence_outputs = predict_sequence(model_classifier, protein_seq)\n",
    "            plot_token(sequence_outputs)\n",
    "            print(protein_seq)\n",
    "            print(\"\\n\")"
   ]
  }
 ],
 "metadata": {
  "kernelspec": {
   "display_name": "ML_work",
   "language": "python",
   "name": "ml_work"
  },
  "language_info": {
   "codemirror_mode": {
    "name": "ipython",
    "version": 3
   },
   "file_extension": ".py",
   "mimetype": "text/x-python",
   "name": "python",
   "nbconvert_exporter": "python",
   "pygments_lexer": "ipython3",
   "version": "3.11.4"
  },
  "widgets": {
   "application/vnd.jupyter.widget-state+json": {
    "state": {},
    "version_major": 2,
    "version_minor": 0
   }
  }
 },
 "nbformat": 4,
 "nbformat_minor": 5
}
