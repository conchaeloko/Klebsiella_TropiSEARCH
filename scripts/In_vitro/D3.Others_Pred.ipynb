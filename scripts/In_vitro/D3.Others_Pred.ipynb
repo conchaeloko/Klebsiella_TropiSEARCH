{
 "cells": [
  {
   "cell_type": "code",
   "execution_count": 1,
   "id": "0f294fce-37c4-4ae7-8b3d-37abb351ed22",
   "metadata": {},
   "outputs": [
    {
     "name": "stderr",
     "output_type": "stream",
     "text": [
      "/media/concha-eloko/Linux/conda_envs/ML_work/lib/python3.11/site-packages/tqdm/auto.py:21: TqdmWarning: IProgress not found. Please update jupyter and ipywidgets. See https://ipywidgets.readthedocs.io/en/stable/user_install.html\n",
      "  from .autonotebook import tqdm as notebook_tqdm\n"
     ]
    }
   ],
   "source": [
    "from transformers import AutoModelForTokenClassification, AutoTokenizer\n",
    "import torch\n",
    "from torch import nn \n",
    "import torch.nn.functional as F\n",
    "\n",
    "import os\n",
    "import numpy as np\n",
    "import tqdm\n",
    "import matplotlib.pyplot as plt\n",
    "from DepoScope_functions import Dpo_classifier , find_longest_non_zero_suite_with_n_zeros , predict_sequence, plot_token\n",
    "\n",
    "import warnings\n",
    "warnings.filterwarnings(\"ignore\") \n",
    "\n",
    "path_work = \"/media/concha-eloko/Linux/depolymerase_building\"\n",
    "\n",
    "esm2_model_path = f\"{path_work}/esm2_t12_35M_UR50D-finetuned-depolymerase.labels_4/checkpoint-6015\"\n",
    "DpoDetection_path = f\"{path_work}/DepoDetection.T12.4Labels.1908.model\"\n",
    "\n",
    "tokenizer = AutoTokenizer.from_pretrained(esm2_model_path)\n",
    "esm2_finetuned = AutoModelForTokenClassification.from_pretrained(esm2_model_path)"
   ]
  },
  {
   "cell_type": "code",
   "execution_count": 2,
   "id": "6f6ff388-70f5-4979-b17b-45a4c9560f1a",
   "metadata": {
    "scrolled": true
   },
   "outputs": [
    {
     "data": {
      "text/plain": [
       "Dpo_classifier(\n",
       "  (pretrained_model): EsmForTokenClassification(\n",
       "    (esm): EsmModel(\n",
       "      (embeddings): EsmEmbeddings(\n",
       "        (word_embeddings): Embedding(33, 480, padding_idx=1)\n",
       "        (dropout): Dropout(p=0.0, inplace=False)\n",
       "        (position_embeddings): Embedding(1026, 480, padding_idx=1)\n",
       "      )\n",
       "      (encoder): EsmEncoder(\n",
       "        (layer): ModuleList(\n",
       "          (0-11): 12 x EsmLayer(\n",
       "            (attention): EsmAttention(\n",
       "              (self): EsmSelfAttention(\n",
       "                (query): Linear(in_features=480, out_features=480, bias=True)\n",
       "                (key): Linear(in_features=480, out_features=480, bias=True)\n",
       "                (value): Linear(in_features=480, out_features=480, bias=True)\n",
       "                (dropout): Dropout(p=0.0, inplace=False)\n",
       "                (rotary_embeddings): RotaryEmbedding()\n",
       "              )\n",
       "              (output): EsmSelfOutput(\n",
       "                (dense): Linear(in_features=480, out_features=480, bias=True)\n",
       "                (dropout): Dropout(p=0.0, inplace=False)\n",
       "              )\n",
       "              (LayerNorm): LayerNorm((480,), eps=1e-05, elementwise_affine=True)\n",
       "            )\n",
       "            (intermediate): EsmIntermediate(\n",
       "              (dense): Linear(in_features=480, out_features=1920, bias=True)\n",
       "            )\n",
       "            (output): EsmOutput(\n",
       "              (dense): Linear(in_features=1920, out_features=480, bias=True)\n",
       "              (dropout): Dropout(p=0.0, inplace=False)\n",
       "            )\n",
       "            (LayerNorm): LayerNorm((480,), eps=1e-05, elementwise_affine=True)\n",
       "          )\n",
       "        )\n",
       "        (emb_layer_norm_after): LayerNorm((480,), eps=1e-05, elementwise_affine=True)\n",
       "      )\n",
       "      (contact_head): EsmContactPredictionHead(\n",
       "        (regression): Linear(in_features=240, out_features=1, bias=True)\n",
       "        (activation): Sigmoid()\n",
       "      )\n",
       "    )\n",
       "    (dropout): Dropout(p=0.0, inplace=False)\n",
       "    (classifier): Linear(in_features=480, out_features=4, bias=True)\n",
       "  )\n",
       "  (conv1): Conv1d(1, 64, kernel_size=(5,), stride=(1,))\n",
       "  (conv2): Conv1d(64, 128, kernel_size=(5,), stride=(1,))\n",
       "  (fc1): Linear(in_features=130048, out_features=32, bias=True)\n",
       "  (classifier): Linear(in_features=32, out_features=1, bias=True)\n",
       ")"
      ]
     },
     "execution_count": 2,
     "metadata": {},
     "output_type": "execute_result"
    }
   ],
   "source": [
    "model_classifier = Dpo_classifier(esm2_finetuned) \n",
    "model_classifier.load_state_dict(torch.load(DpoDetection_path), strict = False) \n",
    "model_classifier.eval() \n"
   ]
  },
  {
   "cell_type": "code",
   "execution_count": 4,
   "id": "67cd4c03-4ae7-4a8f-9664-ee8eda322d6c",
   "metadata": {},
   "outputs": [
    {
     "name": "stderr",
     "output_type": "stream",
     "text": [
      "100%|███████████████████████████████████████████| 32/32 [03:19<00:00,  6.23s/it]\n"
     ]
    }
   ],
   "source": [
    "path_out = \"/media/concha-eloko/Linux/PPT_clean/in_vitro/Others\"\n",
    "from Bio import SeqIO\n",
    "from tqdm import tqdm \n",
    "\n",
    "\n",
    "#with open(f\"{path_out}/Others.multi.fasta\", \"w\") as outfile : \n",
    "predictions = {}\n",
    "for multi_faa in tqdm(os.listdir(path_out)) :\n",
    "    if multi_faa.count(\"sequence\") > 0 : \n",
    "        fastas = SeqIO.parse(f\"{path_out}/{multi_faa}\" , \"fasta\")\n",
    "        tmp_results = []\n",
    "        for record in fastas :\n",
    "            protein_seq = str(record.seq)\n",
    "            if len(protein_seq) >= 200 :\n",
    "                prediction, sequence_outputs = predict_sequence(model_classifier, protein_seq)\n",
    "                if prediction[0] == 1 :\n",
    "                    name = record.description.split(\"|\")[1].split(\" [\")[0]\n",
    "                    a = (prediction , record.description)\n",
    "                    tmp_results.append(a)\n",
    "                    #outfile.write(f\">{name}\\n{record.seq}\\n\")\n",
    "                else :\n",
    "                    pass\n",
    "        phage = record.description.split(\"|\")[1].split(\"_prot\")[0]\n",
    "        predictions[phage] = tmp_results\n"
   ]
  },
  {
   "cell_type": "code",
   "execution_count": 8,
   "id": "cd151ac3-0ff1-4017-9392-2f91f183c96a",
   "metadata": {},
   "outputs": [
    {
     "name": "stderr",
     "output_type": "stream",
     "text": [
      "100%|███████████████████████████████████████████| 13/13 [05:17<00:00, 24.45s/it]\n"
     ]
    }
   ],
   "source": [
    "path_out = \"/media/concha-eloko/Linux/PPT_clean/in_vitro/Others_2nd\"\n",
    "from Bio import SeqIO\n",
    "from tqdm import tqdm \n",
    "\n",
    "\n",
    "#with open(f\"{path_out}/Others_2nd.raw.multi.fasta\", \"w\") as outfile : \n",
    "predictions = {}\n",
    "for multi_faa in tqdm(os.listdir(path_out)) :\n",
    "    fastas = SeqIO.parse(f\"{path_out}/{multi_faa}\" , \"fasta\")\n",
    "    tmp_results = []\n",
    "    for record in fastas :\n",
    "        protein_seq = str(record.seq)\n",
    "        if len(protein_seq) >= 200 :\n",
    "            prediction, sequence_outputs = predict_sequence(model_classifier, protein_seq)\n",
    "            if prediction[0] == 1 :\n",
    "                name = record.description#.split(\"|\")[1].split(\" [\")[0]\n",
    "                a = (prediction , record.description)\n",
    "                tmp_results.append(a)\n",
    "                #outfile.write(f\">{name}\\n{record.seq}\\n\")\n",
    "            else :\n",
    "                pass\n",
    "    phage = record.description#.split(\"|\")[1].split(\"_prot\")[0]\n",
    "    predictions[phage] = tmp_results"
   ]
  },
  {
   "cell_type": "code",
   "execution_count": 9,
   "id": "dae63861-c3e6-4920-a036-3a01d26018fc",
   "metadata": {
    "scrolled": true
   },
   "outputs": [
    {
     "name": "stdout",
     "output_type": "stream",
     "text": [
      "{'MT197175.1_prot_QIW86415.1_45': [((1.0, 1.0), 'MZ322895.1_prot_QWY13631.1_35'), ((1.0, 0.9999998807907104), 'ON146449.1_prot_UPW35138.1_1'), ((1.0, 1.0), 'ON146449.1_prot_UPW35150.1_13'),\n",
      "                                   ((1.0, 1.0), 'MZ571831.1_prot_UEW68236.1_80'), ((1.0, 1.0), 'MZ612130.1_prot_QYC51043.1_10'), ((1.0, 1.0), 'MT197175.1_prot_QIW86415.1_45'),\n",
      "                                   ((1.0, 1.0), 'MT197175.1_prot_QIW86419.1_49'), ((1.0, 1.0), 'MT197175.1_prot_QIW86428.1_58'), ((1.0, 1.0), 'MZ571832.1_prot_UEP19662.1_17'),\n",
      "                                   ((1.0, 1.0), 'MZ571832.1_prot_UEP19667.1_22'), ((1.0, 1.0), 'MZ571834.1_prot_UEP19705.1_4'), ((1.0, 0.9998761415481567), 'ON881905.1_prot_UTN90143.1_15'),\n",
      "                                   ((1.0, 1.0), 'MT197176.1_prot_QJI52618.1_44'), ((1.0, 1.0), 'MT197176.1_prot_QJI52623.1_49'), ((1.0, 1.0), 'MT197176.1_prot_QJI52632.1_58'),\n",
      "                                   ((1.0, 1.0), 'MZ571827.1_prot_UEW68146.1_56'), ((1.0, 1.0), 'MZ571827.1_prot_UEW68150.1_60'), ((1.0, 1.0), 'OM032871.1_prot_UKL59188.1_41'),\n",
      "                                   ((1.0, 1.0), 'MZ571833.1_prot_UEW68243.1_1'), ((1.0, 1.0), 'MT197175.1_prot_QIW86419.1_49'), ((1.0, 1.0), 'MT197175.1_prot_QIW86428.1_58'),\n",
      "                                   ((1.0, 1.0), 'MT197175.1_prot_QIW86415.1_45')],\n",
      " 'lcl|MT197175.1_prot_QIW86428.1_58 [locus_tag=VLC5_58] [protein=tail spike] [protein_id=QIW86428.1] [location=42631..44634] [gbkey=CDS]': [((1.0, 1.0),\n",
      "                                                                                                                                             'lcl|MT197175.1_prot_QIW86415.1_45 [locus_tag=VLC5_45] '\n",
      "                                                                                                                                             '[protein=putative tail tubular protein B] '\n",
      "                                                                                                                                             '[protein_id=QIW86415.1] [location=26701..29061] '\n",
      "                                                                                                                                             '[gbkey=CDS]'),\n",
      "                                                                                                                                            ((1.0, 1.0),\n",
      "                                                                                                                                             'lcl|MT197175.1_prot_QIW86419.1_49 [locus_tag=VLC5_49] '\n",
      "                                                                                                                                             '[protein=tail spike] [protein_id=QIW86419.1] '\n",
      "                                                                                                                                             '[location=36103..38478] [gbkey=CDS]'),\n",
      "                                                                                                                                            ((1.0, 1.0),\n",
      "                                                                                                                                             'lcl|MT197175.1_prot_QIW86428.1_58 [locus_tag=VLC5_58] '\n",
      "                                                                                                                                             '[protein=tail spike] [protein_id=QIW86428.1] '\n",
      "                                                                                                                                             '[location=42631..44634] [gbkey=CDS]')],\n",
      " 'lcl|MT197176.1_prot_QJI52632.1_58 [locus_tag=VLC6_58] [protein=tail spike] [protein_id=QJI52632.1] [location=42292..44025] [gbkey=CDS]': [((1.0, 1.0),\n",
      "                                                                                                                                             'lcl|MT197176.1_prot_QJI52618.1_44 [locus_tag=VLC6_44] '\n",
      "                                                                                                                                             '[protein=putative tail tubular protein B] '\n",
      "                                                                                                                                             '[protein_id=QJI52618.1] [location=26365..27909] '\n",
      "                                                                                                                                             '[gbkey=CDS]'),\n",
      "                                                                                                                                            ((1.0, 1.0),\n",
      "                                                                                                                                             'lcl|MT197176.1_prot_QJI52623.1_49 [locus_tag=VLC6_51] '\n",
      "                                                                                                                                             '[protein=tail spike] [protein_id=QJI52623.1] '\n",
      "                                                                                                                                             '[location=35765..38140] [gbkey=CDS]'),\n",
      "                                                                                                                                            ((1.0, 1.0),\n",
      "                                                                                                                                             'lcl|MT197176.1_prot_QJI52632.1_58 [locus_tag=VLC6_58] '\n",
      "                                                                                                                                             '[protein=tail spike] [protein_id=QJI52632.1] '\n",
      "                                                                                                                                             '[location=42292..44025] [gbkey=CDS]')],\n",
      " 'lcl|MZ322895.1_prot_UBV62048.1_286 [protein=hypothetical protein] [protein_id=UBV62048.1] [location=complement(174520..174717)] [gbkey=CDS]': [((1.0, 1.0),\n",
      "                                                                                                                                                  'lcl|MZ322895.1_prot_QWY13631.1_35 '\n",
      "                                                                                                                                                  '[protein=baseplate wedge subunit] '\n",
      "                                                                                                                                                  '[protein_id=QWY13631.1] [location=19106..22192] '\n",
      "                                                                                                                                                  '[gbkey=CDS]')],\n",
      " 'lcl|MZ571827.1_prot_UEW68156.1_66 [protein=capsid assembly scaffolding protein] [protein_id=UEW68156.1] [location=complement(42921..43763)] [gbkey=CDS]': [((1.0, 1.0),\n",
      "                                                                                                                                                              'lcl|MZ571827.1_prot_UEW68146.1_56 '\n",
      "                                                                                                                                                              '[protein=non-contractile tail fiber '\n",
      "                                                                                                                                                              'protein] [protein_id=UEW68146.1] '\n",
      "                                                                                                                                                              '[location=complement(28339..30681)] '\n",
      "                                                                                                                                                              '[gbkey=CDS]'),\n",
      "                                                                                                                                                             ((1.0, 1.0),\n",
      "                                                                                                                                                              'lcl|MZ571827.1_prot_UEW68150.1_60 '\n",
      "                                                                                                                                                              '[protein=non contractile tail protein] '\n",
      "                                                                                                                                                              '[protein_id=UEW68150.1] '\n",
      "                                                                                                                                                              '[location=complement(37723..39981)] '\n",
      "                                                                                                                                                              '[gbkey=CDS]')],\n",
      " 'lcl|MZ571831.1_prot_UEW68242.1_86 [protein=putative transcriptional regulator] [protein_id=UEW68242.1] [location=complement(49199..49600)] [gbkey=CDS]': [((1.0, 1.0),\n",
      "                                                                                                                                                             'lcl|MZ571831.1_prot_UEW68236.1_80 '\n",
      "                                                                                                                                                             '[protein=non-contractile tail fiber '\n",
      "                                                                                                                                                             'protein] [protein_id=UEW68236.1] '\n",
      "                                                                                                                                                             '[location=complement(42838..45285)] '\n",
      "                                                                                                                                                             '[gbkey=CDS]')],\n",
      " 'lcl|MZ571832.1_prot_UEP19701.1_56 [protein=protein kinase] [protein_id=UEP19701.1] [location=complement(40174..40266)] [gbkey=CDS]': [((1.0, 1.0),\n",
      "                                                                                                                                         'lcl|MZ571832.1_prot_UEP19662.1_17 [protein=tail fiber '\n",
      "                                                                                                                                         'protein] [protein_id=UEP19662.1] '\n",
      "                                                                                                                                         '[location=complement(6583..9294)] [gbkey=CDS]'),\n",
      "                                                                                                                                        ((1.0, 1.0),\n",
      "                                                                                                                                         'lcl|MZ571832.1_prot_UEP19667.1_22 [protein=tail tubular '\n",
      "                                                                                                                                         'protein B] [protein_id=UEP19667.1] '\n",
      "                                                                                                                                         '[location=complement(17233..19608)] [gbkey=CDS]')],\n",
      " 'lcl|MZ571833.1_prot_UEW68327.1_85 [protein=ssDNA binding protein] [protein_id=UEW68327.1] [location=48479..48946] [gbkey=CDS]': [((1.0, 1.0),\n",
      "                                                                                                                                    'lcl|MZ571833.1_prot_UEW68243.1_1 [protein=tail fiber protein] '\n",
      "                                                                                                                                    '[protein_id=UEW68243.1] [location=1..2247] [gbkey=CDS]')],\n",
      " 'lcl|MZ571834.1_prot_UEP19787.1_86 [protein=hypothetical protein] [protein_id=UEP19787.1] [location=49276..49437] [gbkey=CDS]': [((1.0, 1.0),\n",
      "                                                                                                                                   'lcl|MZ571834.1_prot_UEP19705.1_4 [protein=tail fiber protein] '\n",
      "                                                                                                                                   '[protein_id=UEP19705.1] [location=2486..4774] [gbkey=CDS]')],\n",
      " 'lcl|MZ612130.1_prot_QYC51322.1_289 [protein=tail completion and sheath stabilizer protein] [protein_id=QYC51322.1] [location=complement(177771..178301)] [gbkey=CDS]': [((1.0, 1.0),\n",
      "                                                                                                                                                                           'lcl|MZ612130.1_prot_QYC51043.1_10 '\n",
      "                                                                                                                                                                           '[protein=baseplate wedge '\n",
      "                                                                                                                                                                           'subunit] '\n",
      "                                                                                                                                                                           '[protein_id=QYC51043.1] '\n",
      "                                                                                                                                                                           '[location=8990..12076] '\n",
      "                                                                                                                                                                           '[gbkey=CDS]')],\n",
      " 'lcl|OM032871.1_prot_UKL59219.1_72 [protein=hypothetical protein] [protein_id=UKL59219.1] [location=complement(44935..45132)] [gbkey=CDS]': [((1.0, 1.0),\n",
      "                                                                                                                                               'lcl|OM032871.1_prot_UKL59188.1_41 [protein=tail fiber '\n",
      "                                                                                                                                               'protein] [protein_id=UKL59188.1] '\n",
      "                                                                                                                                               '[location=20151..22439] [gbkey=CDS]')],\n",
      " 'lcl|ON146449.1_prot_UPW35194.1_57 [locus_tag=HCLLCEGK_00057] [protein=hypothetical protein] [protein_id=UPW35194.1] [location=complement(42102..42320)] [gbkey=CDS]': [((1.0, 0.9999998807907104),\n",
      "                                                                                                                                                                          'lcl|ON146449.1_prot_UPW35138.1_1 '\n",
      "                                                                                                                                                                          '[locus_tag=HCLLCEGK_00001] '\n",
      "                                                                                                                                                                          '[protein=hypothetical '\n",
      "                                                                                                                                                                          'protein] '\n",
      "                                                                                                                                                                          '[protein_id=UPW35138.1] '\n",
      "                                                                                                                                                                          '[location=complement(312..2045)] '\n",
      "                                                                                                                                                                          '[gbkey=CDS]'),\n",
      "                                                                                                                                                                         ((1.0, 1.0),\n",
      "                                                                                                                                                                          'lcl|ON146449.1_prot_UPW35150.1_13 '\n",
      "                                                                                                                                                                          '[locus_tag=HCLLCEGK_00013] '\n",
      "                                                                                                                                                                          '[protein=tail tubular '\n",
      "                                                                                                                                                                          'protein] '\n",
      "                                                                                                                                                                          '[protein_id=UPW35150.1] '\n",
      "                                                                                                                                                                          '[location=complement(14006..16387)] '\n",
      "                                                                                                                                                                          '[gbkey=CDS]')],\n",
      " 'lcl|ON881905.1_prot_UTN90215.1_87 [protein=polynucleotide kinase] [protein_id=UTN90215.1] [location=complement(49684..50172)] [gbkey=CDS]': [((1.0, 0.9998761415481567),\n",
      "                                                                                                                                                'lcl|ON881905.1_prot_UTN90143.1_15 [protein=tail fiber '\n",
      "                                                                                                                                                'protein or L-shaped tail fiber protein] '\n",
      "                                                                                                                                                '[protein_id=UTN90143.1] [location=9602..12544] '\n",
      "                                                                                                                                                '[gbkey=CDS]')]}\n"
     ]
    }
   ],
   "source": [
    "import pprint\n",
    "\n",
    "def clean_print(dico) :\n",
    "\t\"\"\" \n",
    "\tInputs : a dico\n",
    "\tOutputs : pretty printed dico\n",
    "\t\"\"\"\n",
    "\tpp = pprint.PrettyPrinter(width = 200, sort_dicts = True, compact = True)\n",
    "\tout = pp.pprint(dico)\n",
    "\treturn out \n",
    "    \n",
    "clean_print(predictions)"
   ]
  },
  {
   "cell_type": "code",
   "execution_count": 5,
   "id": "5f8c8799-2c98-432a-8ffa-f7e0d9a0bc3f",
   "metadata": {},
   "outputs": [
    {
     "data": {
      "text/plain": [
       "12"
      ]
     },
     "execution_count": 5,
     "metadata": {},
     "output_type": "execute_result"
    }
   ],
   "source": [
    "len(predictions)"
   ]
  },
  {
   "cell_type": "code",
   "execution_count": null,
   "id": "e8116090-4dd6-4e66-a001-26d96c7f975f",
   "metadata": {},
   "outputs": [],
   "source": [
    "rsync -avzhe ssh \\\n",
    "/media/concha-eloko/Linux/PPT_clean/in_vitro/Others/Others.multi.fasta \\\n",
    "conchae@garnatxa.srv.cpd:/home/conchae/PhageDepo_pdb/others_esmfold\n",
    "\n",
    "\n",
    "rsync -avzhe ssh \\\n",
    "conchae@garnatxa.srv.cpd:/home/conchae/PhageDepo_pdb/others_esmfold \\\n",
    "/media/concha-eloko/Linux/PPT_clean/in_vitro/Others "
   ]
  },
  {
   "cell_type": "code",
   "execution_count": null,
   "id": "7e489043-f5c3-4308-989f-74ba58584476",
   "metadata": {},
   "outputs": [],
   "source": [
    "rsync -avzhe ssh \\\n",
    "/media/concha-eloko/Linux/PPT_clean/in_vitro/Others_2nd/Others_2nd.multi.fasta \\\n",
    "conchae@garnatxa.srv.cpd:/home/conchae/PhageDepo_pdb/others_esmfold\n",
    "\n",
    "\n",
    "rsync -avzhe ssh \\\n",
    "conchae@garnatxa.srv.cpd:/home/conchae/PhageDepo_pdb/others_esmfold \\\n",
    "/media/concha-eloko/Linux/PPT_clean/in_vitro/Others_2nd "
   ]
  }
 ],
 "metadata": {
  "kernelspec": {
   "display_name": "Python [conda env:torch_geometric]",
   "language": "python",
   "name": "conda-env-torch_geometric-py"
  },
  "language_info": {
   "codemirror_mode": {
    "name": "ipython",
    "version": 3
   },
   "file_extension": ".py",
   "mimetype": "text/x-python",
   "name": "python",
   "nbconvert_exporter": "python",
   "pygments_lexer": "ipython3",
   "version": "3.11.4"
  },
  "widgets": {
   "application/vnd.jupyter.widget-state+json": {
    "state": {},
    "version_major": 2,
    "version_minor": 0
   }
  }
 },
 "nbformat": 4,
 "nbformat_minor": 5
}
