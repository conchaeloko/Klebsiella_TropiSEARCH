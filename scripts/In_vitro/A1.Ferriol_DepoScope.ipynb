{
 "cells": [
  {
   "cell_type": "markdown",
   "metadata": {},
   "source": [
    "# The final DpoDetection Tool :\n",
    "***"
   ]
  },
  {
   "cell_type": "code",
   "execution_count": 14,
   "metadata": {
    "tags": []
   },
   "outputs": [],
   "source": [
    "from transformers import AutoModelForTokenClassification, AutoTokenizer\n",
    "import torch\n",
    "from torch import nn \n",
    "import torch.nn.functional as F\n",
    "\n",
    "import os\n",
    "import numpy as np\n",
    "import tqdm\n",
    "import matplotlib.pyplot as plt\n",
    "\n",
    "import warnings\n",
    "warnings.filterwarnings(\"ignore\", category=RuntimeWarning) \n",
    "\n",
    "path_work = \"/media/concha-eloko/Linux/depolymerase_building\"\n",
    "\n",
    "esm2_model_path = f\"{path_work}/esm2_t12_35M_UR50D__fulltrain__finetuneddepolymerase.2103.4_labels/checkpoint-2255\"\n",
    "DpoDetection_path = f\"{path_work}/Deposcope.esm2_t12_35M_UR50D.2203.full.model\"\n",
    "\n",
    "tokenizer = AutoTokenizer.from_pretrained(esm2_model_path)\n",
    "esm2_finetuned = AutoModelForTokenClassification.from_pretrained(esm2_model_path)\n"
   ]
  },
  {
   "cell_type": "code",
   "execution_count": 15,
   "metadata": {
    "tags": []
   },
   "outputs": [],
   "source": [
    "class Dpo_classifier(nn.Module):\n",
    "    def __init__(self, pretrained_model):\n",
    "        super(Dpo_classifier, self).__init__()\n",
    "        self.max_length = 1024\n",
    "        self.pretrained_model = pretrained_model\n",
    "        self.conv1 = nn.Conv1d(1, 64, kernel_size=5, stride=1)  # Convolutional layer\n",
    "        self.conv2 = nn.Conv1d(64, 128, kernel_size=5, stride=1)  # Convolutional layer\n",
    "        self.fc1 = nn.Linear(128 * (self.max_length - 2 * (5 - 1)), 32)  # calculate the output shape after 2 conv layers\n",
    "        self.classifier = nn.Linear(32, 1)  # Binary classification\n",
    "\n",
    "    def make_prediction(self, fasta_txt):\n",
    "        input_ids = tokenizer.encode(fasta_txt, truncation=True, return_tensors='pt')\n",
    "        with torch.no_grad():\n",
    "            outputs = self.pretrained_model(input_ids)\n",
    "            probs = torch.nn.functional.softmax(outputs.logits, dim=-1)\n",
    "            token_probs, token_ids = torch.max(probs, dim=-1)            \n",
    "            tokens = token_ids.view(1, -1) # ensure 2D shape\n",
    "            return tokens\n",
    "\n",
    "    def pad_or_truncate(self, tokens):\n",
    "        if tokens.size(1) < self.max_length:\n",
    "            tokens = F.pad(tokens, (0, self.max_length - tokens.size(1)))\n",
    "        elif tokens.size(1) > self.max_length:\n",
    "            tokens = tokens[:, :self.max_length]\n",
    "        return tokens\n",
    "\n",
    "    def forward(self, sequences):\n",
    "        batch_size = len(sequences)\n",
    "        tokens_batch = []\n",
    "        for seq in sequences:\n",
    "            tokens = self.make_prediction(seq)\n",
    "            tokens = self.pad_or_truncate(tokens)\n",
    "            tokens_batch.append(tokens)\n",
    "        \n",
    "        outputs = torch.cat(tokens_batch).view(batch_size, 1, self.max_length)  # ensure 3D shape\n",
    "        outputs = outputs.float()  # Convert to float\n",
    "        \n",
    "        out = F.relu(self.conv1(outputs))\n",
    "        out = F.relu(self.conv2(out))\n",
    "        out = out.view(batch_size, -1)  # Flatten the tensor\n",
    "        out = F.relu(self.fc1(out))\n",
    "        out = self.classifier(out)\n",
    "        return out, outputs"
   ]
  },
  {
   "cell_type": "code",
   "execution_count": 16,
   "metadata": {
    "scrolled": true,
    "tags": []
   },
   "outputs": [
    {
     "data": {
      "text/plain": [
       "Dpo_classifier(\n",
       "  (pretrained_model): EsmForTokenClassification(\n",
       "    (esm): EsmModel(\n",
       "      (embeddings): EsmEmbeddings(\n",
       "        (word_embeddings): Embedding(33, 480, padding_idx=1)\n",
       "        (dropout): Dropout(p=0.0, inplace=False)\n",
       "        (position_embeddings): Embedding(1026, 480, padding_idx=1)\n",
       "      )\n",
       "      (encoder): EsmEncoder(\n",
       "        (layer): ModuleList(\n",
       "          (0-11): 12 x EsmLayer(\n",
       "            (attention): EsmAttention(\n",
       "              (self): EsmSelfAttention(\n",
       "                (query): Linear(in_features=480, out_features=480, bias=True)\n",
       "                (key): Linear(in_features=480, out_features=480, bias=True)\n",
       "                (value): Linear(in_features=480, out_features=480, bias=True)\n",
       "                (dropout): Dropout(p=0.0, inplace=False)\n",
       "                (rotary_embeddings): RotaryEmbedding()\n",
       "              )\n",
       "              (output): EsmSelfOutput(\n",
       "                (dense): Linear(in_features=480, out_features=480, bias=True)\n",
       "                (dropout): Dropout(p=0.0, inplace=False)\n",
       "              )\n",
       "              (LayerNorm): LayerNorm((480,), eps=1e-05, elementwise_affine=True)\n",
       "            )\n",
       "            (intermediate): EsmIntermediate(\n",
       "              (dense): Linear(in_features=480, out_features=1920, bias=True)\n",
       "            )\n",
       "            (output): EsmOutput(\n",
       "              (dense): Linear(in_features=1920, out_features=480, bias=True)\n",
       "              (dropout): Dropout(p=0.0, inplace=False)\n",
       "            )\n",
       "            (LayerNorm): LayerNorm((480,), eps=1e-05, elementwise_affine=True)\n",
       "          )\n",
       "        )\n",
       "        (emb_layer_norm_after): LayerNorm((480,), eps=1e-05, elementwise_affine=True)\n",
       "      )\n",
       "      (contact_head): EsmContactPredictionHead(\n",
       "        (regression): Linear(in_features=240, out_features=1, bias=True)\n",
       "        (activation): Sigmoid()\n",
       "      )\n",
       "    )\n",
       "    (dropout): Dropout(p=0.0, inplace=False)\n",
       "    (classifier): Linear(in_features=480, out_features=4, bias=True)\n",
       "  )\n",
       "  (conv1): Conv1d(1, 64, kernel_size=(5,), stride=(1,))\n",
       "  (conv2): Conv1d(64, 128, kernel_size=(5,), stride=(1,))\n",
       "  (fc1): Linear(in_features=130048, out_features=32, bias=True)\n",
       "  (classifier): Linear(in_features=32, out_features=1, bias=True)\n",
       ")"
      ]
     },
     "execution_count": 16,
     "metadata": {},
     "output_type": "execute_result"
    }
   ],
   "source": [
    "model_classifier = Dpo_classifier(esm2_finetuned) # Create an instance of Dpo_classifier\n",
    "model_classifier.load_state_dict(torch.load(DpoDetection_path), strict = False) # Load the saved weights ; weird Error with some of the keys \n",
    "model_classifier.eval() # Set the model to evaluation mode for inference\n"
   ]
  },
  {
   "cell_type": "code",
   "execution_count": 17,
   "metadata": {
    "tags": []
   },
   "outputs": [],
   "source": [
    "def predict_sequence(model, sequence):\n",
    "    model.eval()\n",
    "    with torch.no_grad():\n",
    "        sequence = [sequence]  # Wrap the sequence in a list to match the model's input format\n",
    "        outputs, sequence_outputs = model(sequence)\n",
    "        probas = torch.sigmoid(outputs)  # Apply sigmoid activation for binary classification\n",
    "        predictions = (probas > 0.5).float()  # Convert probabilities to binary predictions\n",
    "        sequence_outputs_list = sequence_outputs.cpu().numpy().tolist()[0][0]\n",
    "        prob_predicted = probas[0].item()\n",
    "        return (predictions.item(), prob_predicted), sequence_outputs_list\n",
    "\n",
    "\n",
    "def plot_token(tokens) :\n",
    "    tokens = np.array(tokens)  # convert your list to numpy array for convenience\n",
    "    plt.figure(figsize=(10,6))\n",
    "    for i in range(len(tokens) - 1):\n",
    "        if tokens[i] == 0:\n",
    "            color = 'black'\n",
    "        elif tokens[i] == 1:\n",
    "            color = 'blue'\n",
    "        elif tokens[i] == 2:\n",
    "            color = 'red'\n",
    "        else :\n",
    "            color = 'green'\n",
    "        plt.plot([i, i+1], [tokens[i], tokens[i+1]], color=color, marker='o')\n",
    "    plt.xlabel('Token')\n",
    "    plt.ylabel('Label')\n",
    "    plt.title('Label for each token')\n",
    "    plt.xticks(rotation='vertical')\n",
    "    plt.yticks(np.arange(2), ['0', '1'])  \n",
    "    plt.grid(True)\n",
    "    plt.show()"
   ]
  },
  {
   "cell_type": "markdown",
   "metadata": {},
   "source": [
    "***\n",
    "# Predictions Ferriol"
   ]
  },
  {
   "cell_type": "markdown",
   "metadata": {},
   "source": [
    "> Make predictions "
   ]
  },
  {
   "cell_type": "code",
   "execution_count": 18,
   "metadata": {
    "tags": []
   },
   "outputs": [
    {
     "name": "stderr",
     "output_type": "stream",
     "text": [
      "2it [00:01,  1.34it/s]"
     ]
    },
    {
     "name": "stdout",
     "output_type": "stream",
     "text": [
      "Missed : \n",
      "K10PH82C1 cds 49, lytic tail fiber protein\n",
      "MAKYDKSIPSEYDALFQKAADSHGVSYDLLRKLAFNESSFNPAAKSPTGPLGIMQFTKGTGAGMGLKITGGPDDERLNPALAIDAGARHLSDLVRKYNGDELKAALAYNQGEGPNGAPQIQAYDKGDWASISEEGRNYMRKLLDVAKSPQSGALEAFGGITPKGKGIPSDSAFAGIGTKSKVGDALPESTGFNVKGTAQPEPAVPYAKSFWEATGTTIDEFESRSTFFGFKDAAAAELQNSTLGVAVRAGRADNGFDVFKDTITPTRWNSHSWSPEELERIRNEVKNPNYINVVTGGSPENLDALIKLANENYEADQKASGAGLGAKLSAGVIGAGVDPLSYVPLVGVAGKGLKVVNKAFVVGAQAGALNVVSEALRTSIAGGEAHYADAALGGMLFGSGMSVLTDAVSRGLRKAGGTEIPNEFAGPALRLEARETALNTGGADMTLMPTEGRVFDKEHAGVPYADHPVESGAVILNNGAILSDTNPLNPRTLQEFSEINPERAAPGIKLGGFTEIGLKTLRSESPEIRSLASDLVRSPTGMESGTSGKFGATASDIHERLHSTDQRTYNQLYDAVREAMRDPEFSTGDMKLSREGIRQEIYKRAALAIERPELQASLTKGERKVMDIMKAHFDTKRELMENPGMFGRMDAQSIFPGSRHKGTYVPNVYDRSAKLAMVNKLGNDGLQEAIALSWLTSYRSRPEVKARVDEYLMELNGLKTVQEVTPEMVRKHAMDKAYGISHSDQFTQSSVIDDNITGLVGIENNNFLEARNMFDSDMPITLPDGSTFSVNDLRDFDMFRVMPAYDRRINGDIAIMGGTGKTTKELKDAIMALDKKSEGKGTMKGEVEALKDTVKILTGRARRNQDTVFETALRSLNDLAFFAKNFYMGPQNLTEISGMLAKGNVSAMLHGIPFMNDLATRTAPLKGSELKELHGIIFGKELDQLIRPGREDIAQRLREASDTGVMMSEAVGTLKYATQELAARSPWTRMLNGTANYLMDAARQGVLGDVAGAALGGKSSKFGKENFLKSASVSADQWKGIQQLFKDYAVRNEDGSFTIKDKKAFSQDPRTMDLWRLADKVADETMLRPHKVSQQNSKAYGAGMNMAMQFKNFTIKSLNAKFIRSFYEGYKNNRAIDMALTHILSLGIAGSYYVAQAHVKASALQDHQQKDYLKRALNPTMIGYAALSRSSHLGAPLGIATMLGGALGFQDMQMLRSTILPRAEEQKGRGDKAANSRSVAADLAGNIALQVPALGYVGSLGSTAINAYGVLTAPNKPTERDFMTGLMNSTRELVPNDPLTQQLILKIYEANGVRIKEPAKPN\n"
     ]
    },
    {
     "name": "stderr",
     "output_type": "stream",
     "text": [
      "25it [00:10,  2.50it/s]"
     ]
    },
    {
     "name": "stdout",
     "output_type": "stream",
     "text": [
      "Missed : \n",
      "K18PH07C1 cds 231, Putative tail spike protein\n",
      "MADTTQFEQAVDQVIEDSERLHKVVNGSAIDTVIVEDGSTIPTLRKALLDNVYFKTPPQPWVAGTQATVFNQLYSFTNSAGTFWWYAPGASPSTPITLPADPSTSTAWKVYNDSVVVSEKFAPLNTPAFVGSPTAPTPAQGSNSGAIATTAFVNLAVAAAINSLAGSSPSYAALTVVGASTLNTLVVSGTSQFGGTLDASGVLGKFQKISLSGQTATLSFDYTAASNYLKTIISPNSVQTNNLTSAVIVNGTASADNTTMSLTGVGNNTFDYVYIRGNSSKASTEPRLKVTGTTELENVRVTGSLSGVNVGVDGLDILPNSIITTTTAEIGSDLTVNGITTLGSTTIQDLGVVSSLTVNGNSTLTGGFTAGSASSVAGNLSITGLLAVTGEATVSTNLTVTGNANLNNGGTGTTTVNNLNVLGTLTGVSIDVNGKDINPNSVLATTTIEAYGSLKGASLVITGEATAPKVTANFVGTTPGSVTTPSAGTTWTPGGTGSDLTKMNNIYNVDVTNTLTIGPWANLGSAFTATIYLFQDATGGHAVTLDASYKIINGGAISTTANSVTILQVTYCGRGTVYDVAVYQRP\n"
     ]
    },
    {
     "name": "stderr",
     "output_type": "stream",
     "text": [
      "29it [00:12,  2.83it/s]"
     ]
    },
    {
     "name": "stdout",
     "output_type": "stream",
     "text": [
      "Missed : \n",
      "K19PH14C4P1 cds 48, Putative tail spike protein\n",
      "MLIYKGGHMATTIKTVMTYPLDGSTTDFNIPFEYLARKFVRVTLIGVDRKELILNQDYRFATKTTISTTRALGPADGYNLIEIRRYTSATERLVDFTDGSILRAYDLNISQVQTLHVAEEARDLTADTIGVNNDGDLDARGRRIVNVADAQDVGDAINLGQIQRWNDSALNSANRAKQEADRATARASEAATSAGNSASSASLSRDWAIKESPVEGTFKSSRSYALDSMAYRDASKSSADASAASAGAAKTSEINAKNSEIATKTSETNAKTSETNAKASEVRAIEEANKLENMNDLAGAIKEVLKPEGDTSGKVVWKYDIDSKVLRAYNGMSIGWDWDGTGSPFMNFYRGQGEPSGSLRLDANKVVRFNGMNSVDFDSTINAQAINGSWIHSTGDLVADATLYVHGGDYIYKDKWNPSGANKVTNLIRGSVGGFACDEFFSEIVGYYIERGWHLVGGDNDTWMRIKGNGNFEIAGNRGARIVINGGAIVEQDGNIRGSIWEGKWLRDFMNDRFLNDVWLGGQEWVFTNGGARIDYALGGGSVCTGYTQDATGGVRNAWLDGMFHRKLWIRYGNGSARVIGSA\n"
     ]
    },
    {
     "name": "stderr",
     "output_type": "stream",
     "text": [
      "34it [00:14,  2.47it/s]"
     ]
    },
    {
     "name": "stdout",
     "output_type": "stream",
     "text": [
      "Missed : \n",
      "K21lambda1 cds 28, tail spike protein\n",
      "MADLSISIISDQASESNQAGWWHPLDSFQGVEYYGLCKEYGTVDYHQVEIVRRDADGTLTRGMCKNVDGTVAEFKNDVGHNQPSVVVDGAGYIHVFTSMHVNLLRYFRSARPGDVSQMVDATLDFPDVDWVWTYPITGRGPDGDAYCMMRVASRSTVGENKRAGILYRFDVGSLRWVRYAHVAETADRAIYPDDMAIDEDGVHLLFQWSAYPSSAVRHVGEYGIIGTDGLMRAVNNTPLPMPVAQGQLAYKPLQPGENPAISDGLKIGIQSAKFALNNGGLSHITYRFRTVDDPTGTWFGKFGVYVATWSGSSWNEELIAYVPPEQGNTSAALATTAQGGKRRVYFSVEYTSSGNTVAVIVLAENAGSGWVYSVLGNSAPTLLRLGSAPGNGGDVLYVSAPFEAKVYRYFVPEDYFPAQQFTNFDELLLTLT\n"
     ]
    },
    {
     "name": "stderr",
     "output_type": "stream",
     "text": [
      "39it [00:15,  3.25it/s]"
     ]
    },
    {
     "name": "stdout",
     "output_type": "stream",
     "text": [
      "Missed : \n",
      "K23PH08C2 cds 220, tail spike protein\n",
      "MADTTQFEQAVDQVIEDSERLHKVVNGSAIDTVIVEDGSTIPTLRKALLDNVYFKTPPQPWVAGTQATVFNQLYSFTNSAGTFWWYAPGASPSTPITLPADPSTSTAWKVYNDSVVVSEKFAPLNTPAFVGSPTAPTPAQGSNSGAIATTAFVNLAVAAAINSLAGSSPSYAALTVVGASTLNTLVVSGTSQFGGTLDASGVLGKFQKISLSGQTATLSFDYTAASNYLKTIISPNSVQTNNLTSAVIVNGTASADNTTMSLTGVGNNTFDYVYIRGNSSKASTEPRLKVTGTTELENVRVTGSLSGVNVGVDGLDILPNSIITTTTAEIGSDLTVNGITTLGSTTIQDLGVISSLTVDGNSTLTGGFTAGSASSVAGNLSITGLLAVTGEATVSTNLTVTGNANLNNGGTGTTTVNNLNVLGTLTGVSIDVNGKDINPNSVLATTTIEAYGSLKGASLVITGEATAPKVTANFVGTTPGSVTTPSAGTTWTPGGTGSDLTKMNNIYNVDVTNTLTIGPWANLGSAFTATIYLFQDATGGHAVTLDASYKIINGGAISTTANSVTILQVTYCGRGTVYDVAVYQRP\n",
      "Missed : \n",
      "K23PH08C2 cds 225, tail spike protein\n",
      "MAIPTIPLQIWAESDVVLPNAHTANKISPIADLWDKGWDLGEKPACEELNYVLNMMTWWMSYISTEQIPGMAADYLRKDQNLSDVENKATARTNLEVYSKAEGDNRYVNVEGDTMTGPLTVPRITFPSDASDTAHITTTLGTDQTYLDFVIGDNPGVAGQPNVDIMRFRFVPVNNSATVSPFNMMELNATGTNTALLRVQGNITATGTMTTGTLASTTINNGGNIQTTSLGVSGTATLQNLVVNSNNATVGGRSIVRAVNSTAANANGDLYISIGVSDIRWSGEQNKVNVDFENYGSGGRFARGPDGSVLTGLIDANASGDLYLHDIDEIRFRFLQKALDGIWYTVGL\n"
     ]
    },
    {
     "name": "stderr",
     "output_type": "stream",
     "text": [
      "40it [00:15,  3.90it/s]"
     ]
    },
    {
     "name": "stdout",
     "output_type": "stream",
     "text": [
      "Missed : \n",
      "K23PH08C2 cds 228, tail spike protein\n",
      "MATIELPVIKIKNLSDKTLVTGSDEIIIQSSTDTEKTSINKFITDIGLLKRSEVTGITGASVIGTHSGATVQQVLDSLSNSWQNLYYFSTTGNEIGTHVDTIALSPVQRTYGVQISTPLASFSPKVDNVLSNGTTSLRWSQVYAVNSVISTSNKKKKTNLRQITPTEAKAFYEIGKLDSVWQWLSKYSSEKGAARLHSGPTVQDAIKVMLKHGLDWTKYSAFCYDSWEANGDTPAGEEFAFRKEELLFWILRATIAVQEDLDKRLSALENSLSGN\n"
     ]
    },
    {
     "name": "stderr",
     "output_type": "stream",
     "text": [
      "56it [00:23,  2.17it/s]"
     ]
    },
    {
     "name": "stdout",
     "output_type": "stream",
     "text": [
      "Missed : \n",
      "K30lambda2_2 cds 20, Putative tail spike protein\n",
      "MAITTRIIAQQVTALDGANSRVSKYPKFTVQLGYSVSSLAATELLDAATKSAASAAAAKTSETNAKASETASKNSQTAAKTSETNAAASAQLAQNLAGKTSLVTPLGVMTGSAEAKIASITIAANQSSSVHVLFALYATGNGANRDDIYNMEIVSLALPGPVTSVTADNIGSFLSHRVIGPANTNGFMVGLKSTIEGSNVTYDVYLKSRSSFRDPKMAFLSGSISVTPPTGPLVDGTAPAWKTTGFDTEVIYVNRAQVIDDGISLAKLKALRVTGDSGSEYLTLTARPTGGIISLNNRSIYLRPAGTEDTVASVEIAPNGNLVFPLTATKNHILSWQGGARIRANDTGTMVISGNNGSGQTTGFLAFRPNGDSATTTEIQMRSDGNLKQTAANVDEPNVLTRRDTVINLISSRAPEAGVTSEALADLDVNNTESGNDQWGRGVQLQQAGAGTKNTPGNTTGRLGTIATFRQSQYRLSQIFFDSNTGNGGTSLGVFVRSLRADSGTSPRPWFALYHEGNKPNIQSGIAGITIDGNGFVKKASPIAKLIAEIPSKEDSFFWTGVETVGGYVGCNAEAQGVFAVKTGLGRYTIKGSLGWNTEGWKFELPRDDNGNMLCFVESDWNEEEKELNIQVFTRKFDINTGNIIAGEPMEIPQGRWIDLRLEMPKVEIPEVEFPEDPEVE\n"
     ]
    },
    {
     "name": "stderr",
     "output_type": "stream",
     "text": [
      "62it [00:26,  2.65it/s]"
     ]
    },
    {
     "name": "stdout",
     "output_type": "stream",
     "text": [
      "Missed : \n",
      "K34PH164 cds 24, Putative tail spike protein\n",
      "MANISDQLAADIHNAFSKYYTDLANQDQIFFGVGDVQITKQDGTTATIRSWNKVIGSVDTAAQRGQANTFTALQTFSAGINVSVGNINVMNDNSMVILGKNSDLALLKKSGQGGTIAVGSGTPFKIQRTNTATVSPASTVEDILTIGTDKKTTLAGALNTGGDVVANGFLYAQSIELSFGTPYIDFHFNYSTDDFTGRIIATAADQISVQRSHLRVDRDLRVFGMADIKGWAQCGVDLSANRTDFGSPAIGSLVSGGRIRSRMLGRGGNVDPSGAWGGFYVEEYVGTEHRIIMYMDGFGRTDAWSFRSGGTISTPKGDVLTTGSDVRLKTDFTQAPEKACERIERLGVCQYRMKGESRVRRGFIAQQADTVDKVYTYQDVEQEIDGERIKVMNVDYVAIIADLVASVQELRQELKELKGE\n"
     ]
    },
    {
     "name": "stderr",
     "output_type": "stream",
     "text": [
      "74it [00:32,  1.66it/s]"
     ]
    },
    {
     "name": "stdout",
     "output_type": "stream",
     "text": [
      "Missed : \n",
      "K41P2 cds 11, baseplate wedge subunit depolymerase\n",
      "MIKAPSITSLRVDKLAANFVYLKWDDVGMDFYYVVEFARSRDMDGTIIPDEELIWTQLGYSYENEWFSDQVAPNTRYKFRIQTTHEGFDPSDWVISDELWTFDENAYAYTTMREFTPADSFINEKFAKNNRDYVDFNDDVIMASLMVEDFVYSPLYSDVSQISDKILKQESYHEIQDHIEHVCNDIDRTFLVYSNGLLYLFERFQNMAKVSNDKGQTWYYYKALNDRVGNPVSRTVSYQSTNTTYVLGYDRIFYGRTSTDIRWSSDEVRFSSDDVTFAKLGNQSGLDFDVDSYNTYARLPGGVSKYAEAIACSNEWLYVAAKNVMRRIALRNTPIDTDPGSPTFGERIFDEVSYTIVPGNDKIVVKKMDVLNDRLYVLVTGEVKKAMMDPTVKANVIPSNDAGVYLWDENAKTFTRVYGKTEDERFYITHEYTNMSTNGDEVYISVGNYKYPGTLPDPDLVEKYPEDVHSAVKYDLVTGYTASISINFATVRANQNDPTVWNFGPQEYYNEANFSWHFRDKVSTWITNDNRPLVVYPETLYTLVTDSASPASTIRVNHEVWDKGTVTIYLNNIKFTGFTKYTNGVLLYRSGGRIIGFYELSYRARDELTIFWKPDNTLMVASLVNQERENPYTPDIEPGLIDPDLSHMITRFAPQSYLDNQQFEKFGEYYLQYISLGSNSYYNKLLNLIRNKYPREKNNVEYLWSEINRRNIYLDKTKREAVVRFFESRASDFYSTKGIEASYTFLFKLLYNEDVSVEIESSNSLEYDILVSSTNISQDIVGRTIYTPTGRANVTYIEREYENGQLRWSMTLHNAQGNFIEGQVVKSEKTNFTGMVIRGVRGKQMANNSIDYINRGRSYYVMKIRSNLPTSRYKDDVLRFVHPVGFGFMGITMLTVFINSGLSMTHNETIIDILRNYRFDSGYPKFWPDRIASMDGNGNQQFDLVTGEPLYTVHPRAGEPFDVPPEYDIEEKPLNGVLPSARRFDQSPLFDCSGVKYSQFRNLVDKRLKDDAGNPRDPNPPSQIKVGN\n"
     ]
    },
    {
     "name": "stderr",
     "output_type": "stream",
     "text": [
      "86it [00:36,  3.24it/s]"
     ]
    },
    {
     "name": "stdout",
     "output_type": "stream",
     "text": [
      "Missed : \n",
      "K45PH128C2 cds 227, Putative tail spike protein\n",
      "MADTTQFEQAVDQVIEDSERLHKVVNGSAIDTVIVEDGSTIPTLRKALLDNVYFKTPPQPWAAGTQTTVFNQLYSFTSSAGTFWWYAPGASPSTPVTLPADPSTSTAWKVYNDSVVVSEKFAPLNTPAFVGSPTAPTPAQGSNSGAIATTAFVNLAVAAAINSLTGSSPSYAALTVVGASTLNTLVVSGISQFGGTIDASGVLGKFQKISLSGQTATLSFDYTAASNYLKTIISPNSVQTNNLTSAVIVNGTASADNTTMSLTGVGNNTFDYVYIRGNSSKASTEPRLKVTGTTELENVRVTGSLSGVNVGVDGLDILPNSIVTTTTAEIGSDLTVNGVTTLGSATIQDLGVVSSLTVDGNSTLTGGFTAGSASSVAGNLSITGLLAVTGAVTVSTNLTVTGNANLNNGGTGTTTVNNLNVLGTLTGVSVDVNGKNINPNSVLATTTIEAYGSLKGASLVITGEATAPKVTANFVGTIPGSVTTPSAGTTWTPGGTGSDLTKMNNIYNVDVTNTLTIGPWANLGSAFTATIYLFQDATGGHAVTLDASYKIINGGTISTAANSVTILQVTYCGRGTVYDVAVYQRP\n",
      "Missed : \n",
      "K45PH128C2 cds 232, Putative tail spike protein\n",
      "MAIPTIPLQIWAESDVVLPNAHTANKISPIADLWDKGWDLGEKPACEELNYVLNMMTWWMTYISEEQIPGLSNDYLRKDQNLSDVSDIPTARSTLDVYSKGESDTRYVNVSGDTMTGALTVPRITFPSDSSDTAHITTTTGVDQVYLDFVIGDNVGTAGQPSVDVMRFRFVPVNNSDSVSPFNMMELNATSNGVALLKVQGNITATGTTTTGTVSSTTINNGGNIQTTSLGVGGTATLQNLVVNSNNATIGGRSVVRAVNSTAANANGDVSISIGVSDIRWSGEQNKVQVDFENYGSSGRFARGPDGSVLTGLIDANASGDLYLHDIDEIRFRFLQKALDGIWYTVGL\n"
     ]
    },
    {
     "name": "stderr",
     "output_type": "stream",
     "text": [
      "87it [00:37,  3.95it/s]"
     ]
    },
    {
     "name": "stdout",
     "output_type": "stream",
     "text": [
      "Missed : \n",
      "K45PH128C2 cds 235, tail spike protein\n",
      "MSSDLPVIKIRNLSDKVLVSDTDELIIQSSVDTEKTTISKFISDIGILKKGDIMDVSGASLVGTHSGSTVQQVLDSLSNKWQNLSNGYYFATSGNEVGTYVDTISISPVQRSYGVQISTSLSAFSPKRDNFISNGTTALRWNQVYAVNSVISTSNKKKKTNLRQISTAEIKAFYEIGKLDSVWQWLAKYSSEKGLARLHSGPTVQDAIKIMLKYGLDWTKYSAFCYDKWEADGDNPAGEEYAFRKEELLFWILRATIAVQEDLDKRLSVLEDSLSGN\n"
     ]
    },
    {
     "name": "stderr",
     "output_type": "stream",
     "text": [
      "94it [00:39,  3.27it/s]"
     ]
    },
    {
     "name": "stdout",
     "output_type": "stream",
     "text": [
      "Missed : \n",
      "K49PH164C2 cds 24, Putative tail spike protein\n",
      "MATISDQLAADIHNAFSKYYTDLANQDQIFFGVGDVQITKQDGTTATVRSWNKVIGSVDTAAQRGTVNTFTALQTFSAGINVSVGNINVMNDNSMIILGKNSDLALLKKQGQGGTIAVGSGTPFKIQRASTATVAVSSAMEDIFVIGVDKQTTLPGALSAGGNIDNTSKGKVLTQAIELSMSTPYIDFHYNSSSADFTARLIQDQANRLTAQVASFWVQDGRVTASSTAPSNPASGAQLTGNPVRSMLRGRGAYGDVDGAYSQFYIEEQVGTEHRMVLYLDGYGRTDAWLFRAAGTISTPKGDVMTQGSDVRLKEGFTEAPASACERIERLGVCQYRMKGESRVRRGFIAQQADTVDKVYTYQGEEQEIEGEKFRVMNVDYVAIIADLVASVQELRQELKELKGE\n"
     ]
    },
    {
     "name": "stderr",
     "output_type": "stream",
     "text": [
      "95it [00:40,  2.07it/s]"
     ]
    },
    {
     "name": "stdout",
     "output_type": "stream",
     "text": [
      "Missed : \n",
      "K50PH164C1 cds 28, tail spike protein\n",
      "MAIYRTGQASMDAQGYITGYGSKWREQLTLIRSGATIIFLSNPLQFGVITEVISDTSMRAVTTNKAVVPKVDYVIFLHDSITVDGLAQDVAETLRYYQGKETEFAHFIEFLKEFDFKKLEDLTNQTKQSAAAAKVSETNAKASEGKAKTSETNAKNSENAALSSKNAAKASQDAAKASETAALASKNAAAASQTAAKTSETNAKASENAAAASKNAAKTSETNAKASEEAAEASKNAAKNSENAAKASQTAAKTSETNAKNSENAAKASQAAAKTSETNAKNSENKAKEYADIAQGISSPMIQYNWPVGTGANERFVKIAKLTDPGSSESHVTLMITNGGNYGARQGSIDFLDASARSLGTTVINASNVRQFMQIRRLGDPSLAEDNQLRYGVVKGDGFFEIWAYQRAFINNVKVAILAKAGRVDLYIPSGYVSQEGAPDGWVKSEAIRVYDEVNKPSRSDLGLANVMEIGAFGLGGNGISYSDITSNADLMQRMKEKGGHFWRASQKSGSTSNIISHGSGVFSRCGDTNSAINIDYNSGKVVILAANDSSLAAGNVKVNTLYGTANKPSKSDVGLSNVTNDAQVKKAGDTMTGDLDISKGTPSIRLKSASGNAHLWFMNADGNERGVIWTPENSDSLGEVHIRAKTKGGTTGGDFIVRHDGRIEARDAKINYKIAARTADFANDDTNTGSTNLRVSGKQHTPVVLVRDADSNLSIGFKLNNMNQKLLGIDVDGDIAFGENADQRQNSKIVTRKMMDAGFSVAGLMNFTNGFAGTWEAENINDRTLDLNSLMIKKSNPGSIYVYQCISQDGGNNITNKPSGVTGNFILYVESIRKVSDTDFTNRQILFGTESNREFTRYCSNGTWSAWRESVVSGMNQDVSVKSMSASGRLSGGELAVGGAGALNGNLGVGGGTASKVPSSDKGIVIGRGAMVREGGEGRLILSASGGTDRQVQLRPAGATASDNGIEISCTSASGGDTKFAFGQGAAIRCNASGSPIISAKAGQLMYLRPNGDTSSDGQVTIAGNGKMVVNGEIESTGDMTCARVFSKGAIQTESGGIELYHASPFIDFHFNKSASDYTARIINDAADQLTFDCRSVRTLRDFTARGSIRGCYNDAFVAWPIEDPTGGNGTILKAPSFISRFNTIGNAARCAMWLEEYRGYEHRAVIEVSKWGDSGTTQYWQFKANGKISSTTHGDVVFAGLSDINYKDNVVDYDGLQSLENIKAMNLVKFTYKDDEQKRERRGVIAQQVREIDPCYVKESDASYQDADGNVVENKRLVLDTNPLLMDALCAIKALSAQVEELKEEIKKLKGE\n"
     ]
    },
    {
     "name": "stderr",
     "output_type": "stream",
     "text": [
      "101it [00:42,  2.70it/s]"
     ]
    },
    {
     "name": "stdout",
     "output_type": "stream",
     "text": [
      "Missed : \n",
      "K54lambda1_1_1 cds 225, Putative tail spike protein\n",
      "MADTTQFEQAVDQVIEDSERLHKVVNGSAIDTVIVEDGSTIPTLRKALLDNVYFKTPPQPWVAGTQATVFNQLYSFTNSAGTFWWYAPGASPSTPITLPADPSTSTAWKVYNDSVVVSEKFAPLNTPAFVGSPTAPTPAQGSNSGAIATTAFVNLAVAAAINSLAGSSPSYAALTVVGASTLNTLVVSGTSQFGGTLDASGVLGKFQKISLSGQTATLSFDYTAASNYLKTIISPNSVQTNNLTSAVIVNGTASADNTTMSLTGVGNNTFDYVYIRGNSSKASTEPRLKVTGTTELENVRVTGSLSGVNVGVDGLDILPNSIITTTTAEIGSDLTVNGITTLGSTTIQDLGVISSLTVDGNSTLTGGFTAGSASSVAGNLSITGLLAVTGEATVSTNLTVTGNANLNNGGTGTTTVNNLNVLGTLTGVSIDVNGKDINPNSVLATTTIEAYGSLKGASLVITGEATAPKVTANFVGTTPGSVTTPSAGTTWTPGGTGSDLTKMNNIYNVDVTNTLTIGPWANLGSAFTATIYLFQDATGGHAVTLDASYKIINGGAISTTANSVTILQVTYCGRGTVYDVAVYQRP\n",
      "Missed : \n",
      "K54lambda1_1_1 cds 230, Putative tail spike protein\n",
      "MAIPTIPLQIWAESDVVLPNAHTANKISPIADLWDKGWDLGEKPACEELNYVLNMMTWWMSYISTEQIPGMAADYLRKDQNLSDVENKATARTNLEVYSKAEGDNRYVNVEGDTMTGPLTVPRITFPSDASDTAHITTTLGTDQTYLDFVIGDNPGVAGQPNVDIMRFRFVPVNNSATVSPFNMMELNATGTNTALLRVQGNITATGTMTTGTLASTTINNGGNIQTTSLGVSGTATLQNLVVNSNNATVGGRSIVRAVNSTAANANGDLYISIGVSDIRWSGEQNKVNVDFENYGSGGRFARGPDGSVLTGLIDANASGDLYLHDIDEIRFRFLQKALDGIWYTVGL\n"
     ]
    },
    {
     "name": "stderr",
     "output_type": "stream",
     "text": [
      "102it [00:43,  3.39it/s]"
     ]
    },
    {
     "name": "stdout",
     "output_type": "stream",
     "text": [
      "Missed : \n",
      "K54lambda1_1_1 cds 233, tail spike protein\n",
      "MATIELPVIKIKNLSDKTLVTGSDEIIIQSSTDTEKTSINKFITDIGLLKRSEVTGITGASVIGTHSGATVQQVLDSLSNSWQNLYYFSTTGNEIGTHVDTIALSPVQRTYGVQISTPLASFSPKVDNVLSNGTTSLRWSQVYAVNSVISTSNKKKKTNLRQITPTEAKAFYEIGKLDSVWQWLSKYSSEKGAARLHSGPTVQDAIKVMLKHGLDWTKYSAFCYDSWEANGDTPAGEEFAFRKEELLFWILRATISVQEDLDKRLSALENSLSGN\n"
     ]
    },
    {
     "name": "stderr",
     "output_type": "stream",
     "text": [
      "125it [00:54,  1.60it/s]"
     ]
    },
    {
     "name": "stdout",
     "output_type": "stream",
     "text": [
      "Missed : \n",
      "K65PH164 cds 12, baseplate wedge subunit depolymerase\n",
      "MTIAPFVTSLRIHKLSANQVNIRWDDVGANFYYFVELAETRNRAGEVIPADNLSWSSLGYTADNDWFEQNRIEPLTYYKMRVQTTSAGFEPSEWVETEEFQTFEENAYTFEHMQEFSLVKEFIKQKFSLNNMSYVNFNTSAMMASLMTESFQFSPEYSHLSAIENFVVGESGYHEIQGPIEAVCVDKNRTMLGEIDGILYLFERFQHMVKVSNDKGQNWQYVQLFNDRVGNPVSRVVIYQSKTTSYVLGYDKIFYGRKSSDVRWSSNEVKFSDNEVTFAKLGDQLKLGFEVELFGTYASLPADVTKYAEAFTCNDDYLYVVAKDTVRKVKLKDAPIDTDPLSPTFGEKVFEKEASHITGNPKSVCFKMDSVGGKIFALITGEVKTLGLDPTDPRNVVDSATKGVYVYQEGTNTWKRVFGNTDEEKRRIEHLWTSMSTDGKEIFFSSANFKTTEYAQDIELETKYPELISTAVKNVNPIQYHSDKHYHMMSFRADEFSRWETFVPGPMRFYAEPWFVWMAREGNRCWISTADHAVVIYNDILYQKRVDAAAQGTTERILSEVWDKGDATFYCPPVSFNGFLQYASGIMFHEPDGKLIGYYAFDYRVRDQVTLNWKPTDVMFKAFLQNQTREEDWTPEHTPGLRDPDLRPYLTKMMPDSYLLQDSNFEHFCKYYLQFLSDGNGTHYNSLVNLVKNKYPREENAWEYLWSEVYKRNIYLSKDARDAVVRFFEARKNDFYATKGIEDSYKFLFKLLYNEDVEIDIESKNTTEYDIIVESTNISDDLVGRTIYTASGRSNVTYIEREYRDGHLLWRITIHNLSGRFIEGQEIKSERTDFEGIIVQGVRGKDMLSNNIDYINRSRSYYVMKIKSQLPTSRFRDDVLRFVHPVGFGFIGITLLTMFINSGLNMKHVETIINKLKNYKWDAGLPSVYPDRVAIIASDDTIERDPITNEPRYSSRAQAGEPFPLPANYNQENNNSVIAGQNPGQRRKPLSPTFDQSAVTFANYRDLVNQRLKDDAGNPRDPENPTQVKIDE\n"
     ]
    },
    {
     "name": "stderr",
     "output_type": "stream",
     "text": [
      "127it [00:55,  1.87it/s]"
     ]
    },
    {
     "name": "stdout",
     "output_type": "stream",
     "text": [
      "Missed : \n",
      "K65PH164 cds 197, Putative tail spike protein\n",
      "MADQNLKQIQFKRTSTENKAPGADIVARGEIALNTHGRTLAIYTKDEADNVVQLAGKGVPFLDTSGTLSVDGTTTLKDNVTISPNKAINFETTDLSGAIVRHIVGKCATNDGWYIGAGGTSNSGILEIGTIDDGAETIQFVQRGAGNVEARKLVLLDGSGNTTLPGDLRLSTNKTVKINSGSTLVLEMGVGSNDVYIKNRRGVGVLQLTNDSNLTFRNSQVYYAMDGRGPGKSGTLLTNVENNRQAWQYTISAATASTARWVKVATIKHPGMSSSQLDLMISGGIDSGHGRHYVDFITLSGRNLTSWSTNSLDNWVEWRRVGSPSKTNVPEYYVVKNDSATDADASFDFYAKIPRYGNGLYVTVLNTAGYNGQDSGTVIIYETNQDTGDTGPSGSILVSMKQIFDSLAKPDFGDTTGTLPVNRGGTGATNVGDARNNLGLRTAAVRDVGESNGNLMEVGAFGIGGNGKSLVDITSDVDLMTRLKALGGTVFRANTASGYTGAPYYSHGTGFYGRASDTMAALNIDYATGNVRVFAINDSGLASGRVNSNVLYGTANKPSKADVGLGNLTNDTQVKKAGDTMTGDLAAPNLHASGTGTASVYVNAGSGNAHVWFRTDANERGVIWATPNTANLGQINIRAKTTGGTSAGDFSFRSDGRLGVPVAVKVGGAAMLTKDGNITSGSMFGGNLNNYLNSIKNDIVSGDNKQVSKTGDTMTGNLTINANLKVENPNGTMADFGSENSDKYSRITLARKIGSGAAVAMLKITPEGYVQFGYQDAVANPSPTKYIRVKPDGLDVEGDLVFNQTYCGTEEAVDISNKTIDLNNLVIKRTDPGTRQLYKCVSSGGGSKIANKPTSDGNFVLEVLSLRKVSDNDWTCKQTFTTKNNTTVGTYVRYCQNGSWTAWEEVVSGVQPINLGGTGATSVAAARNNLGVGEGQTVTFGNLVTTDLTANGNARLVGRLNLGSASATGVLRANETGAVVLGSASGQNIHVRAGSADTSAGETRFEPNGNVTVGGAITASGSLQVNGEAAMSRSLIVSQNIKNTNDNSFILMGKDSDLGFVKKSNSGAKLVFASGKSFIVAKSSATTIANPATETYTDVFKVDADGNQTVYGNSTVSRALTVSSTATVNGVINANGGIIVPTTKYVQIADAPTQNNQATNKKYVDDKVASAISNAGDTYLPLAGGTVTGNLDVTGSRLKTTSLWVTGDAAVNGVLTVDGKARFNQEFSVSTSVNVQNTGNSHVFFRKADGTEKGLLWADEPGNVSIRAGGASGPVWNFWTSGSCQFPGAISNYNGISSTTNYPAGQPNGTYNNTAGLVSRFSNGAYASLYFQEYVGNFHQAIINVNGFGRDDSFYFRAGGDFICTRNGSFDNVEIRSDRRAKSDIKVIENALEKVETLSGNTYELHNTSGGTTRSAGLIAQEVQEVLPEAVTQDIEADGGLLRLNYNSVIALLVESVKELSAEVKGLKAEIEELKSK\n"
     ]
    },
    {
     "name": "stderr",
     "output_type": "stream",
     "text": [
      "140it [01:01,  2.50it/s]"
     ]
    },
    {
     "name": "stdout",
     "output_type": "stream",
     "text": [
      "Missed : \n",
      "K7PH164C4 cds 20, Putative tail spike protein\n",
      "MAITTRIIAQQVTALDGANSRVSKYPKFTVQLGYSVSSLAATELLDAATRSAASAAAAKTSETNAKASETASKNSQTAAKTSETNAAASAQLAQNVAGKASLVTPLGVMTGSAEAKIASITIASNQSSSVHLLFALYATGNGANRDDIYNMEIVSLALPGPVTSVTADNIGSFLSHRVIGPANTNGFMVGLKSTIEGSNVTYDVYLKSRSSFRDPKMAFLSGSISVTPPTGPLVDGTAPAWRTTGFDTDVIYVNRAQVIDDGISLARIKQLAITNGKTDSTILLLSYLNEIGILSTNKKSISLRPGGTSDSSIAATEFLPNGNIILPNGDTGNQTISWLGGPRIRVNSNGSFVLSTNNPSNQTSGFITFRPQGDQVTSTELQIRDDGNIKQTAPQSSAGNALIRQDAAIQHIMDKAPAAGITTNPLSDLNVIPTPEGTDPWGADGVRVFQSGVSTKNTPDGTTGRLGTILNVRHTQYRIMQFFMQSNATAPILHIRSLRADQGNTPPAWFKVYTEYSKPNIQSDIAGITIDGNGFVKKASPIAKLIAEIPSKEDSFFWTGVETVGGYVGCNAEAQGVFAVKTGLGKYTIKGSLGWNTEGWKFELPRDDNGNMLCFVESDWNEEEKELNIQVFTRKFDINTGNIIAGEPMEIPQGRWIDLRLEMPKVEIPEVELPEDPEV\n"
     ]
    },
    {
     "name": "stderr",
     "output_type": "stream",
     "text": [
      "147it [01:04,  2.28it/s]\n"
     ]
    }
   ],
   "source": [
    "from Bio import SeqIO\n",
    "from tqdm import tqdm \n",
    "from collections import Counter\n",
    "\n",
    "path_out = \"/media/concha-eloko/Linux/77_strains_phage_project\"\n",
    "\n",
    "prediction_results = {}\n",
    "path_fasta = f\"{path_out}/depolymerase_77.0907.fasta\"\n",
    "fastas = SeqIO.parse(f\"{path_fasta}\" , \"fasta\")\n",
    "tmp_results = []\n",
    "for record in tqdm(fastas) :\n",
    "    #if len(record.seq) >= 200 :\n",
    "    protein_seq = record.seq \n",
    "    prediction, sequence_outputs = predict_sequence(model_classifier, str(protein_seq))\n",
    "    if record.description.count(\",\") == 0 :\n",
    "        prot_id = record.description\n",
    "    else :\n",
    "        prot_id = \"_\".join(record.description.split(\",\")[0].split(\" \"))\n",
    "        pass\n",
    "    if prediction[0] == 1 :\n",
    "        a = (prot_id , dict(Counter(sequence_outputs)))\n",
    "        tmp_results.append(a)\n",
    "    else :\n",
    "        print(\"Missed : \",record.description, record.seq, sep = \"\\n\")\n",
    "        pass"
   ]
  },
  {
   "cell_type": "code",
   "execution_count": 19,
   "metadata": {
    "tags": []
   },
   "outputs": [
    {
     "data": {
      "text/plain": [
       "[('K10PH82C1_cds_45', {0.0: 761, 2.0: 263}),\n",
       " ('K10PH82C1_cds_50', {0.0: 486, 1.0: 538}),\n",
       " ('K10PH82C1_cds_51', {0.0: 681, 1.0: 343}),\n",
       " ('K11PH164C1_cds_39', {0.0: 720, 2.0: 304}),\n",
       " ('K11PH164C1_cds_45', {0.0: 699, 1.0: 325}),\n",
       " ('K11PH164C1_cds_46', {0.0: 602, 1.0: 422}),\n",
       " ('K12P1_1_cds_43', {0.0: 770, 2.0: 254}),\n",
       " ('K13PH07C1L_cds_10', {0.0: 640, 1.0: 384}),\n",
       " ('K13PH07C1L_cds_11', {0.0: 852, 2.0: 72, 1.0: 100}),\n",
       " ('K13PH07C1L_cds_12', {1.0: 214, 0.0: 810}),\n",
       " ('K13PH07C1L_cds_54', {0.0: 763, 2.0: 261}),\n",
       " ('K13PH07C1S_cds_10', {0.0: 640, 1.0: 384}),\n",
       " ('K13PH07C1S_cds_11', {0.0: 675, 1.0: 349}),\n",
       " ('K13PH07C1S_cds_53', {0.0: 762, 2.0: 262}),\n",
       " ('K14PH164C1_cds_24', {0.0: 509, 1.0: 515}),\n",
       " ('K15PH90_cds_49', {0.0: 787, 2.0: 237}),\n",
       " ('K15PH90_cds_54', {0.0: 906, 2.0: 118}),\n",
       " ('K15PH90_cds_55', {1.0: 543, 0.0: 481}),\n",
       " ('K16PH164C3_cds_43', {0.0: 703, 2.0: 321}),\n",
       " ('K16PH164C3_cds_48', {0.0: 533, 1.0: 491}),\n",
       " ('K17alfa61_cds_23', {0.0: 611, 1.0: 413}),\n",
       " ('K17alfa62_cds_64', {0.0: 609, 1.0: 415}),\n",
       " ('K17alfa62_cds_66', {0.0: 637, 1.0: 387}),\n",
       " ('K18PH07C1_cds_243', {0.0: 706, 1.0: 318}),\n",
       " ('K18PH07C1_cds_245', {0.0: 628, 1.0: 396}),\n",
       " ('K19PH14C4P1_cds_43', {0.0: 720, 2.0: 304}),\n",
       " ('K1PH164C1_cds_8', {0.0: 665, 1.0: 359}),\n",
       " ('K1PH164C1_cds_53', {0.0: 783, 2.0: 241}),\n",
       " ('K2064PH2_cds_25', {0.0: 827, 2.0: 197}),\n",
       " ('K2069PH1_cds_25', {0.0: 818, 2.0: 206}),\n",
       " ('K22PH164C1_cds_10', {0.0: 659, 1.0: 365}),\n",
       " ('K22PH164C1_cds_11', {0.0: 664, 1.0: 360}),\n",
       " ('K22PH164C1_cds_50', {0.0: 770, 2.0: 254}),\n",
       " ('K23PH08C2_cds_233', {0.0: 625, 1.0: 399}),\n",
       " ('K24PH164C1_cds_8', {0.0: 720, 1.0: 304}),\n",
       " ('K24PH164C1_cds_55', {0.0: 785, 2.0: 239}),\n",
       " ('K25PH129C1_cds_56', {0.0: 794, 2.0: 230}),\n",
       " ('K25PH129C1_cds_60', {0.0: 751, 1.0: 273}),\n",
       " ('K26PH128C1_cds_44', {0.0: 705, 2.0: 319}),\n",
       " ('K26PH128C1_cds_49', {0.0: 630, 1.0: 394}),\n",
       " ('K26PH128C1_cds_50', {0.0: 688, 1.0: 336}),\n",
       " ('K27PH129C1_cds_43', {0.0: 710, 2.0: 314}),\n",
       " ('K27PH129C1_cds_48', {0.0: 717, 1.0: 307}),\n",
       " ('K28PH129_cds_24', {0.0: 814, 2.0: 210}),\n",
       " ('K29PH164C1_cds_25', {0.0: 819, 2.0: 83, 1.0: 122}),\n",
       " ('K2alfa62_cds_23', {0.0: 637, 1.0: 387}),\n",
       " ('K2PH164C1_cds_23', {0.0: 649, 1.0: 375}),\n",
       " ('K2PH164C2_cds_24', {0.0: 684, 1.0: 340}),\n",
       " ('K30lambda2_2_cds_152', {0.0: 774, 2.0: 250}),\n",
       " ('K31PH164_cds_25', {0.0: 781, 2.0: 243}),\n",
       " ('K32PH164C1_cds_20', {0.0: 979, 3.0: 45}),\n",
       " ('K32PH164C1_cds_151', {0.0: 777, 2.0: 247}),\n",
       " ('K33PH14C2_cds_25', {0.0: 781, 2.0: 243}),\n",
       " ('K35PH164C3_cds_43', {0.0: 703, 2.0: 321}),\n",
       " ('K35PH164C3_cds_48', {0.0: 623, 1.0: 401}),\n",
       " ('K37PH164C1_cds_41', {0.0: 717, 2.0: 307}),\n",
       " ('K37PH164C1_cds_47', {1.0: 316, 0.0: 708}),\n",
       " ('K37PH164C1_cds_48', {0.0: 665, 1.0: 359}),\n",
       " ('K38PH09C2_cds_24', {0.0: 651, 1.0: 373}),\n",
       " ('K39PH122C2_cds_8', {0.0: 640, 1.0: 384}),\n",
       " ('K39PH122C2_cds_50', {0.0: 781, 2.0: 243}),\n",
       " ('K39PH122C2_cds_55', {0.0: 782, 1.0: 242}),\n",
       " ('K40PH129C1_cds_52', {0.0: 794, 2.0: 230}),\n",
       " ('K40PH129C1_cds_56', {0.0: 417, 1.0: 607}),\n",
       " ('K41P2_cds_226', {0.0: 816, 3.0: 208}),\n",
       " ('K41P2_cds_227', {3.0: 215, 0.0: 809}),\n",
       " ('K42PH8_cds_43', {0.0: 709, 2.0: 315}),\n",
       " ('K42PH8_cds_48', {0.0: 548, 1.0: 476}),\n",
       " ('K43PH164C1_cds_35', {0.0: 703, 2.0: 321}),\n",
       " ('K43PH164C1_cds_40', {0.0: 613, 1.0: 411}),\n",
       " ('K43PH164C1_cds_41', {0.0: 630, 1.0: 394}),\n",
       " ('K44PH129C1_cds_9', {0.0: 670, 1.0: 354}),\n",
       " ('K44PH129C1_cds_10', {1.0: 526, 0.0: 498}),\n",
       " ('K44PH129C1_cds_45', {0.0: 761, 2.0: 263}),\n",
       " ('K45PH128C2_cds_237', {0.0: 688, 1.0: 336}),\n",
       " ('K45PH128C2_cds_239', {0.0: 627, 1.0: 397}),\n",
       " ('K46PH129_cds_24', {0.0: 614, 1.0: 410}),\n",
       " ('K48PH164C1_cds_43', {0.0: 714, 2.0: 310}),\n",
       " ('K48PH164C1_cds_49', {0.0: 701, 1.0: 323}),\n",
       " ('K4PH164_cds_22', {0.0: 723, 2.0: 301}),\n",
       " ('K51PH129C1_cds_9', {0.0: 315, 1.0: 709}),\n",
       " ('K51PH129C1_cds_56', {0.0: 786, 2.0: 238}),\n",
       " ('K52PH129C1_cds_25', {0.0: 818, 2.0: 206}),\n",
       " ('K53PH164C2_cds_24', {0.0: 596, 1.0: 428}),\n",
       " ('K54lambda1_1_1_cds_238', {0.0: 722, 1.0: 302}),\n",
       " ('K54lambda2_cds_23', {0.0: 677, 1.0: 347}),\n",
       " ('K56PH164C1_cds_43', {0.0: 712, 2.0: 312}),\n",
       " ('K56PH164C1_cds_48', {0.0: 607, 1.0: 417}),\n",
       " ('K56PH164C1_cds_49', {0.0: 684, 1.0: 340}),\n",
       " ('K57lambda1_2_cds_92', {0.0: 608, 1.0: 416}),\n",
       " ('K57lambda1_2_cds_93', {0.0: 455, 1.0: 569}),\n",
       " ('K58PH129C2_cds_40', {0.0: 723, 2.0: 301}),\n",
       " ('K58PH129C2_cds_47', {0.0: 528, 1.0: 496}),\n",
       " ('K59PH2_cds_46', {0.0: 817, 2.0: 207}),\n",
       " ('K5lambda5_cds_196', {0.0: 652, 1.0: 372}),\n",
       " ('K5lambda5_cds_198', {0.0: 654, 1.0: 370}),\n",
       " ('K5lambda5_cds_199', {0.0: 496, 1.0: 528}),\n",
       " ('K5lambda5_cds_200', {0.0: 715, 1.0: 309}),\n",
       " ('K60PH164C1_cds_94', {0.0: 635, 1.0: 389}),\n",
       " ('K60PH164C1_cds_96', {0.0: 667, 1.0: 357}),\n",
       " ('K61PH164C1_cds_9', {0.0: 623, 1.0: 401}),\n",
       " ('K61PH164C1_cds_10', {0.0: 725, 1.0: 299}),\n",
       " ('K61PH164C1_cds_52', {0.0: 763, 2.0: 261}),\n",
       " ('K62PH164C2_cds_25', {0.0: 787, 2.0: 236, 1.0: 1}),\n",
       " ('K63PH128_cds_22', {0.0: 563, 1.0: 461}),\n",
       " ('K64PH164C4_cds_24', {0.0: 497, 1.0: 527}),\n",
       " ('K65PH164_cds_198', {0.0: 975, 3.0: 49}),\n",
       " ('K66PH128C1_cds_55', {0.0: 771, 2.0: 253}),\n",
       " ('K66PH128C1_cds_59', {0.0: 630, 1.0: 394}),\n",
       " ('K69PH164C2_cds_24', {0.0: 829, 2.0: 195}),\n",
       " ('K6PH25C3_cds_23', {0.0: 637, 1.0: 387}),\n",
       " ('K70PH128C1_cds_24', {0.0: 888, 3.0: 136}),\n",
       " ('K71PH129C1_cds_51', {0.0: 785, 2.0: 239}),\n",
       " ('K71PH129C1_cds_55', {0.0: 665, 1.0: 359}),\n",
       " ('K72PH164C2_cds_51', {0.0: 772, 2.0: 252}),\n",
       " ('K72PH164C2_cds_55', {0.0: 850, 2.0: 174}),\n",
       " ('K74PH129C2_cds_46', {0.0: 710, 2.0: 314}),\n",
       " ('K74PH129C2_cds_51', {0.0: 627, 1.0: 397}),\n",
       " ('K74PH129C2_cds_52', {0.0: 592, 1.0: 432}),\n",
       " ('K7PH164C4_cds_151', {0.0: 755, 2.0: 269}),\n",
       " ('K82P1_cds_40', {0.0: 710, 2.0: 314}),\n",
       " ('K82P1_cds_45', {0.0: 604, 1.0: 420}),\n",
       " ('K82P1_cds_46', {0.0: 678, 1.0: 346}),\n",
       " ('K8PH128_cds_41', {0.0: 714, 2.0: 310}),\n",
       " ('K8PH128_cds_46', {0.0: 672, 1.0: 352}),\n",
       " ('K9PH25C2_cds_76', {0.0: 745, 1.0: 279})]"
      ]
     },
     "execution_count": 19,
     "metadata": {},
     "output_type": "execute_result"
    }
   ],
   "source": [
    "tmp_results"
   ]
  },
  {
   "cell_type": "code",
   "execution_count": 20,
   "metadata": {
    "tags": []
   },
   "outputs": [],
   "source": [
    "results_77 = [item[0].replace(\"_cds\", \"__cds\") for item in tmp_results]"
   ]
  },
  {
   "cell_type": "code",
   "execution_count": 21,
   "metadata": {
    "tags": []
   },
   "outputs": [
    {
     "data": {
      "text/plain": [
       "['K10PH82C1__cds_45',\n",
       " 'K10PH82C1__cds_50',\n",
       " 'K10PH82C1__cds_51',\n",
       " 'K11PH164C1__cds_39',\n",
       " 'K11PH164C1__cds_45',\n",
       " 'K11PH164C1__cds_46',\n",
       " 'K12P1_1__cds_43',\n",
       " 'K13PH07C1L__cds_10',\n",
       " 'K13PH07C1L__cds_11',\n",
       " 'K13PH07C1L__cds_12',\n",
       " 'K13PH07C1L__cds_54',\n",
       " 'K13PH07C1S__cds_10',\n",
       " 'K13PH07C1S__cds_11',\n",
       " 'K13PH07C1S__cds_53',\n",
       " 'K14PH164C1__cds_24',\n",
       " 'K15PH90__cds_49',\n",
       " 'K15PH90__cds_54',\n",
       " 'K15PH90__cds_55',\n",
       " 'K16PH164C3__cds_43',\n",
       " 'K16PH164C3__cds_48',\n",
       " 'K17alfa61__cds_23',\n",
       " 'K17alfa62__cds_64',\n",
       " 'K17alfa62__cds_66',\n",
       " 'K18PH07C1__cds_243',\n",
       " 'K18PH07C1__cds_245',\n",
       " 'K19PH14C4P1__cds_43',\n",
       " 'K1PH164C1__cds_8',\n",
       " 'K1PH164C1__cds_53',\n",
       " 'K2064PH2__cds_25',\n",
       " 'K2069PH1__cds_25',\n",
       " 'K22PH164C1__cds_10',\n",
       " 'K22PH164C1__cds_11',\n",
       " 'K22PH164C1__cds_50',\n",
       " 'K23PH08C2__cds_233',\n",
       " 'K24PH164C1__cds_8',\n",
       " 'K24PH164C1__cds_55',\n",
       " 'K25PH129C1__cds_56',\n",
       " 'K25PH129C1__cds_60',\n",
       " 'K26PH128C1__cds_44',\n",
       " 'K26PH128C1__cds_49',\n",
       " 'K26PH128C1__cds_50',\n",
       " 'K27PH129C1__cds_43',\n",
       " 'K27PH129C1__cds_48',\n",
       " 'K28PH129__cds_24',\n",
       " 'K29PH164C1__cds_25',\n",
       " 'K2alfa62__cds_23',\n",
       " 'K2PH164C1__cds_23',\n",
       " 'K2PH164C2__cds_24',\n",
       " 'K30lambda2_2__cds_152',\n",
       " 'K31PH164__cds_25',\n",
       " 'K32PH164C1__cds_20',\n",
       " 'K32PH164C1__cds_151',\n",
       " 'K33PH14C2__cds_25',\n",
       " 'K35PH164C3__cds_43',\n",
       " 'K35PH164C3__cds_48',\n",
       " 'K37PH164C1__cds_41',\n",
       " 'K37PH164C1__cds_47',\n",
       " 'K37PH164C1__cds_48',\n",
       " 'K38PH09C2__cds_24',\n",
       " 'K39PH122C2__cds_8',\n",
       " 'K39PH122C2__cds_50',\n",
       " 'K39PH122C2__cds_55',\n",
       " 'K40PH129C1__cds_52',\n",
       " 'K40PH129C1__cds_56',\n",
       " 'K41P2__cds_226',\n",
       " 'K41P2__cds_227',\n",
       " 'K42PH8__cds_43',\n",
       " 'K42PH8__cds_48',\n",
       " 'K43PH164C1__cds_35',\n",
       " 'K43PH164C1__cds_40',\n",
       " 'K43PH164C1__cds_41',\n",
       " 'K44PH129C1__cds_9',\n",
       " 'K44PH129C1__cds_10',\n",
       " 'K44PH129C1__cds_45',\n",
       " 'K45PH128C2__cds_237',\n",
       " 'K45PH128C2__cds_239',\n",
       " 'K46PH129__cds_24',\n",
       " 'K48PH164C1__cds_43',\n",
       " 'K48PH164C1__cds_49',\n",
       " 'K4PH164__cds_22',\n",
       " 'K51PH129C1__cds_9',\n",
       " 'K51PH129C1__cds_56',\n",
       " 'K52PH129C1__cds_25',\n",
       " 'K53PH164C2__cds_24',\n",
       " 'K54lambda1_1_1__cds_238',\n",
       " 'K54lambda2__cds_23',\n",
       " 'K56PH164C1__cds_43',\n",
       " 'K56PH164C1__cds_48',\n",
       " 'K56PH164C1__cds_49',\n",
       " 'K57lambda1_2__cds_92',\n",
       " 'K57lambda1_2__cds_93',\n",
       " 'K58PH129C2__cds_40',\n",
       " 'K58PH129C2__cds_47',\n",
       " 'K59PH2__cds_46',\n",
       " 'K5lambda5__cds_196',\n",
       " 'K5lambda5__cds_198',\n",
       " 'K5lambda5__cds_199',\n",
       " 'K5lambda5__cds_200',\n",
       " 'K60PH164C1__cds_94',\n",
       " 'K60PH164C1__cds_96',\n",
       " 'K61PH164C1__cds_9',\n",
       " 'K61PH164C1__cds_10',\n",
       " 'K61PH164C1__cds_52',\n",
       " 'K62PH164C2__cds_25',\n",
       " 'K63PH128__cds_22',\n",
       " 'K64PH164C4__cds_24',\n",
       " 'K65PH164__cds_198',\n",
       " 'K66PH128C1__cds_55',\n",
       " 'K66PH128C1__cds_59',\n",
       " 'K69PH164C2__cds_24',\n",
       " 'K6PH25C3__cds_23',\n",
       " 'K70PH128C1__cds_24',\n",
       " 'K71PH129C1__cds_51',\n",
       " 'K71PH129C1__cds_55',\n",
       " 'K72PH164C2__cds_51',\n",
       " 'K72PH164C2__cds_55',\n",
       " 'K74PH129C2__cds_46',\n",
       " 'K74PH129C2__cds_51',\n",
       " 'K74PH129C2__cds_52',\n",
       " 'K7PH164C4__cds_151',\n",
       " 'K82P1__cds_40',\n",
       " 'K82P1__cds_45',\n",
       " 'K82P1__cds_46',\n",
       " 'K8PH128__cds_41',\n",
       " 'K8PH128__cds_46',\n",
       " 'K9PH25C2__cds_76']"
      ]
     },
     "execution_count": 21,
     "metadata": {},
     "output_type": "execute_result"
    }
   ],
   "source": [
    "results_77"
   ]
  },
  {
   "cell_type": "code",
   "execution_count": null,
   "metadata": {},
   "outputs": [],
   "source": []
  },
  {
   "cell_type": "code",
   "execution_count": null,
   "metadata": {},
   "outputs": [],
   "source": []
  },
  {
   "cell_type": "code",
   "execution_count": null,
   "metadata": {},
   "outputs": [],
   "source": []
  },
  {
   "cell_type": "code",
   "execution_count": null,
   "metadata": {},
   "outputs": [],
   "source": []
  },
  {
   "cell_type": "code",
   "execution_count": 19,
   "metadata": {},
   "outputs": [
    {
     "name": "stderr",
     "output_type": "stream",
     "text": [
      "132it [02:03,  1.07it/s]\n"
     ]
    }
   ],
   "source": [
    "from Bio import SeqIO\n",
    "from tqdm import tqdm \n",
    "from collections import Counter\n",
    "\n",
    "path_out = \"/media/concha-eloko/Linux/77_strains_phage_project\"\n",
    "\n",
    "prediction_results = {}\n",
    "path_fasta = f\"{path_out}/all_dpos.77_phages.multi.fasta\"\n",
    "fastas = SeqIO.parse(f\"{path_fasta}\" , \"fasta\")\n",
    "tmp_results = []\n",
    "for record in tqdm(fastas) :\n",
    "    if len(record.seq) >= 200 :\n",
    "        protein_seq = record.seq \n",
    "        prediction, sequence_outputs = predict_sequence(model_classifier, str(protein_seq))\n",
    "        if record.description.count(\",\") == 0 :\n",
    "            prot_id = record.description\n",
    "        else :\n",
    "            prot_id = \"_\".join(record.description.split(\",\")[0].split(\" \"))\n",
    "            pass\n",
    "        if prediction[0] == 1 :\n",
    "            a = (prot_id , dict(Counter(sequence_outputs)))\n",
    "            tmp_results.append(a)\n",
    "        else :\n",
    "            pass"
   ]
  },
  {
   "cell_type": "code",
   "execution_count": 20,
   "metadata": {
    "scrolled": true
   },
   "outputs": [
    {
     "data": {
      "text/plain": [
       "[('K10PH82C1_cds_50', {0.0: 501, 1.0: 523}),\n",
       " ('K10PH82C1_cds_51', {0.0: 685, 1.0: 339}),\n",
       " ('K11PH164C1_cds_45', {0.0: 694, 1.0: 330}),\n",
       " ('K11PH164C1_cds_46', {0.0: 595, 1.0: 429}),\n",
       " ('K13PH07C1L_cds_10', {0.0: 626, 1.0: 398}),\n",
       " ('K13PH07C1L_cds_11', {0.0: 917, 1.0: 107}),\n",
       " ('K13PH07C1L_cds_12', {0.0: 810, 1.0: 214}),\n",
       " ('K13PH07C1S_cds_10', {0.0: 626, 1.0: 398}),\n",
       " ('K13PH07C1S_cds_11', {0.0: 648, 1.0: 376}),\n",
       " ('K14PH164C1_cds_24', {0.0: 534, 1.0: 490}),\n",
       " ('K15PH90_cds_55', {1.0: 543, 0.0: 481}),\n",
       " ('K16PH164C3_cds_48', {0.0: 534, 1.0: 490}),\n",
       " ('K17alfa61_cds_23', {0.0: 847, 1.0: 177}),\n",
       " ('K17alfa62_cds_64', {0.0: 603, 1.0: 421}),\n",
       " ('K17alfa62_cds_66', {0.0: 614, 1.0: 410}),\n",
       " ('K18PH07C1_cds_243', {0.0: 701, 1.0: 323}),\n",
       " ('K18PH07C1_cds_245', {0.0: 716, 1.0: 308}),\n",
       " ('K1PH164C1_cds_8', {0.0: 630, 1.0: 394}),\n",
       " ('K21lambda1_cds_28', {0.0: 815, 2.0: 209}),\n",
       " ('K22PH164C1_cds_10', {0.0: 661, 1.0: 363}),\n",
       " ('K22PH164C1_cds_11', {0.0: 688, 1.0: 336}),\n",
       " ('K23PH08C2_cds_233', {0.0: 677, 1.0: 347}),\n",
       " ('K24PH164C1_cds_8', {0.0: 707, 1.0: 317}),\n",
       " ('K25PH129C1_cds_60', {0.0: 854, 1.0: 170}),\n",
       " ('K26PH128C1_cds_49', {0.0: 663, 1.0: 361}),\n",
       " ('K26PH128C1_cds_50', {0.0: 692, 1.0: 332}),\n",
       " ('K27PH129C1_cds_48', {0.0: 626, 1.0: 398}),\n",
       " ('K2PH164C1_cds_23', {0.0: 618, 1.0: 406}),\n",
       " ('K2PH164C2_cds_24', {0.0: 692, 1.0: 332}),\n",
       " ('K2alfa62_cds_23', {0.0: 621, 1.0: 403}),\n",
       " ('K35PH164C3_cds_48', {0.0: 682, 1.0: 342}),\n",
       " ('K37PH164C1_cds_47', {0.0: 854, 1.0: 170}),\n",
       " ('K37PH164C1_cds_48', {0.0: 681, 1.0: 343}),\n",
       " ('K38PH09C2_cds_24', {0.0: 541, 1.0: 483}),\n",
       " ('K39PH122C2_cds_8', {0.0: 620, 1.0: 404}),\n",
       " ('K39PH122C2_cds_55', {0.0: 848, 1.0: 176}),\n",
       " ('K40PH129C1_cds_56', {0.0: 381, 1.0: 643}),\n",
       " ('K41P2_cds_11', {0.0: 806, 2.0: 218}),\n",
       " ('K43PH164C1_cds_40', {0.0: 764, 1.0: 260}),\n",
       " ('K43PH164C1_cds_41', {0.0: 637, 1.0: 387}),\n",
       " ('K44PH129C1_cds_9', {0.0: 671, 1.0: 353}),\n",
       " ('K44PH129C1_cds_10', {0.0: 532, 1.0: 492}),\n",
       " ('K45PH128C2_cds_237', {0.0: 651, 1.0: 373}),\n",
       " ('K45PH128C2_cds_239', {0.0: 721, 1.0: 303}),\n",
       " ('K46PH129_cds_24', {0.0: 631, 1.0: 393}),\n",
       " ('K48PH164C1_cds_49', {0.0: 693, 1.0: 331}),\n",
       " ('K4PH164_cds_22', {0.0: 659, 2.0: 365}),\n",
       " ('K51PH129C1_cds_9', {0.0: 322, 1.0: 702}),\n",
       " ('K53PH164C2_cds_24', {0.0: 628, 1.0: 396}),\n",
       " ('K54lambda1_1_1_cds_238', {0.0: 703, 1.0: 321}),\n",
       " ('K54lambda2_cds_23', {0.0: 659, 1.0: 365}),\n",
       " ('K56PH164C1_cds_48', {0.0: 607, 1.0: 417}),\n",
       " ('K56PH164C1_cds_49', {0.0: 652, 1.0: 372}),\n",
       " ('K57lambda1_2_cds_92', {0.0: 633, 1.0: 391}),\n",
       " ('K57lambda1_2_cds_93', {0.0: 554, 1.0: 470}),\n",
       " ('K58PH129C2_cds_47', {0.0: 579, 1.0: 445}),\n",
       " ('K5lambda5_cds_196', {0.0: 743, 1.0: 281}),\n",
       " ('K5lambda5_cds_198', {0.0: 520, 1.0: 504}),\n",
       " ('K5lambda5_cds_199', {0.0: 502, 1.0: 522}),\n",
       " ('K5lambda5_cds_200', {0.0: 691, 1.0: 333}),\n",
       " ('K60PH164C1_cds_94', {0.0: 659, 1.0: 365}),\n",
       " ('K60PH164C1_cds_96', {0.0: 680, 1.0: 344}),\n",
       " ('K61PH164C1_cds_9', {0.0: 624, 1.0: 400}),\n",
       " ('K61PH164C1_cds_10', {0.0: 745, 1.0: 279}),\n",
       " ('K63PH128_cds_22', {0.0: 577, 1.0: 447}),\n",
       " ('K64PH164C4_cds_24', {0.0: 595, 1.0: 429}),\n",
       " ('K65PH164_cds_12', {0.0: 802, 2.0: 222}),\n",
       " ('K66PH128C1_cds_59', {0.0: 617, 1.0: 407}),\n",
       " ('K6PH25C3_cds_23', {0.0: 725, 1.0: 299}),\n",
       " ('K71PH129C1_cds_55', {0.0: 722, 1.0: 302}),\n",
       " ('K74PH129C2_cds_51', {0.0: 663, 1.0: 361}),\n",
       " ('K74PH129C2_cds_52', {0.0: 613, 1.0: 411}),\n",
       " ('K80PH1317a_cds_53', {0.0: 973, 1.0: 51}),\n",
       " ('K80PH1317a_cds_54', {0.0: 790, 1.0: 234}),\n",
       " ('K80PH1317b_cds_53', {0.0: 950, 1.0: 74}),\n",
       " ('K80PH1317b_cds_54', {0.0: 790, 1.0: 234}),\n",
       " ('K82P1_cds_45', {0.0: 606, 1.0: 418}),\n",
       " ('K82P1_cds_46', {0.0: 666, 1.0: 358}),\n",
       " ('K8PH128_cds_46', {0.0: 704, 1.0: 320}),\n",
       " ('K10PH82C1_cds_45', {0.0: 740, 2.0: 284}),\n",
       " ('K11PH164C1_cds_39', {0.0: 738, 2.0: 286}),\n",
       " ('K12P1_1_cds_43', {0.0: 741, 2.0: 283}),\n",
       " ('K13PH07C1L_cds_54', {0.0: 755, 2.0: 269}),\n",
       " ('K13PH07C1S_cds_53', {0.0: 754, 2.0: 270}),\n",
       " ('K15PH90_cds_49', {0.0: 741, 2.0: 283}),\n",
       " ('K16PH164C3_cds_43', {0.0: 737, 2.0: 287}),\n",
       " ('K19PH14C4P1_cds_43', {0.0: 740, 2.0: 284}),\n",
       " ('K1PH164C1_cds_53', {0.0: 748, 2.0: 276}),\n",
       " ('K2069PH1_cds_25', {0.0: 969, 1.0: 55}),\n",
       " ('K22PH164C1_cds_50', {0.0: 737, 2.0: 287}),\n",
       " ('K24PH164C1_cds_55', {0.0: 740, 2.0: 284}),\n",
       " ('K25PH129C1_cds_56', {0.0: 749, 2.0: 275}),\n",
       " ('K26PH128C1_cds_44', {0.0: 738, 2.0: 286}),\n",
       " ('K27PH129C1_cds_43', {0.0: 740, 2.0: 284}),\n",
       " ('K35PH164C3_cds_43', {0.0: 739, 2.0: 285}),\n",
       " ('K37PH164C1_cds_41', {0.0: 738, 2.0: 286}),\n",
       " ('K39PH122C2_cds_50', {0.0: 742, 2.0: 282}),\n",
       " ('K40PH129C1_cds_52', {0.0: 741, 2.0: 283}),\n",
       " ('K42PH8_cds_43', {0.0: 739, 2.0: 285}),\n",
       " ('K42PH8_cds_48', {0.0: 580, 1.0: 444}),\n",
       " ('K43PH164C1_cds_35', {0.0: 737, 2.0: 287}),\n",
       " ('K44PH129C1_cds_45', {0.0: 890, 2.0: 134}),\n",
       " ('K48PH164C1_cds_43', {0.0: 738, 2.0: 286}),\n",
       " ('K51PH129C1_cds_56', {0.0: 743, 2.0: 281}),\n",
       " ('K56PH164C1_cds_43', {0.0: 737, 2.0: 287}),\n",
       " ('K58PH129C2_cds_40', {0.0: 738, 2.0: 286}),\n",
       " ('K59PH2_cds_46', {0.0: 681, 2.0: 343}),\n",
       " ('K61PH164C1_cds_52', {0.0: 755, 2.0: 269}),\n",
       " ('K66PH128C1_cds_55', {0.0: 741, 2.0: 283}),\n",
       " ('K71PH129C1_cds_51', {0.0: 742, 2.0: 282}),\n",
       " ('K72PH164C2_cds_51', {0.0: 759, 2.0: 265}),\n",
       " ('K74PH129C2_cds_46', {0.0: 737, 2.0: 287}),\n",
       " ('K80PH1317a_cds_47', {0.0: 736, 2.0: 288}),\n",
       " ('K80PH1317b_cds_47', {0.0: 736, 2.0: 288}),\n",
       " ('K82P1_cds_40', {0.0: 737, 2.0: 287}),\n",
       " ('K8PH128_cds_41', {0.0: 738, 2.0: 286}),\n",
       " ('K2069PH1_cds_25', {0.0: 969, 1.0: 55})]"
      ]
     },
     "execution_count": 20,
     "metadata": {},
     "output_type": "execute_result"
    }
   ],
   "source": [
    "tmp_results"
   ]
  },
  {
   "cell_type": "code",
   "execution_count": 21,
   "metadata": {
    "scrolled": true
   },
   "outputs": [
    {
     "data": {
      "text/plain": [
       "{'K10PH82C1_cds_50': 'right-handed beta-helix',\n",
       " 'K10PH82C1_cds_51': 'right-handed beta-helix',\n",
       " 'K11PH164C1_cds_45': 'right-handed beta-helix',\n",
       " 'K11PH164C1_cds_46': 'right-handed beta-helix',\n",
       " 'K13PH07C1L_cds_10': 'right-handed beta-helix',\n",
       " 'K13PH07C1L_cds_11': 'right-handed beta-helix',\n",
       " 'K13PH07C1L_cds_12': 'right-handed beta-helix',\n",
       " 'K13PH07C1S_cds_10': 'right-handed beta-helix',\n",
       " 'K13PH07C1S_cds_11': 'right-handed beta-helix',\n",
       " 'K14PH164C1_cds_24': 'right-handed beta-helix',\n",
       " 'K15PH90_cds_55': 'right-handed beta-helix',\n",
       " 'K16PH164C3_cds_48': 'right-handed beta-helix',\n",
       " 'K17alfa61_cds_23': 'right-handed beta-helix',\n",
       " 'K17alfa62_cds_64': 'right-handed beta-helix',\n",
       " 'K17alfa62_cds_66': 'right-handed beta-helix',\n",
       " 'K18PH07C1_cds_243': 'right-handed beta-helix',\n",
       " 'K18PH07C1_cds_245': 'right-handed beta-helix',\n",
       " 'K1PH164C1_cds_8': 'right-handed beta-helix',\n",
       " 'K21lambda1_cds_28': '6-bladed beta-propeller',\n",
       " 'K22PH164C1_cds_10': 'right-handed beta-helix',\n",
       " 'K22PH164C1_cds_11': 'right-handed beta-helix',\n",
       " 'K23PH08C2_cds_233': 'right-handed beta-helix',\n",
       " 'K24PH164C1_cds_8': 'right-handed beta-helix',\n",
       " 'K25PH129C1_cds_60': 'right-handed beta-helix',\n",
       " 'K26PH128C1_cds_49': 'right-handed beta-helix',\n",
       " 'K26PH128C1_cds_50': 'right-handed beta-helix',\n",
       " 'K27PH129C1_cds_48': 'right-handed beta-helix',\n",
       " 'K2PH164C1_cds_23': 'right-handed beta-helix',\n",
       " 'K2PH164C2_cds_24': 'right-handed beta-helix',\n",
       " 'K2alfa62_cds_23': 'right-handed beta-helix',\n",
       " 'K35PH164C3_cds_48': 'right-handed beta-helix',\n",
       " 'K37PH164C1_cds_47': 'right-handed beta-helix',\n",
       " 'K37PH164C1_cds_48': 'right-handed beta-helix',\n",
       " 'K38PH09C2_cds_24': 'right-handed beta-helix',\n",
       " 'K39PH122C2_cds_8': 'right-handed beta-helix',\n",
       " 'K39PH122C2_cds_55': 'right-handed beta-helix',\n",
       " 'K40PH129C1_cds_56': 'right-handed beta-helix',\n",
       " 'K41P2_cds_11': '6-bladed beta-propeller',\n",
       " 'K43PH164C1_cds_40': 'right-handed beta-helix',\n",
       " 'K43PH164C1_cds_41': 'right-handed beta-helix',\n",
       " 'K44PH129C1_cds_9': 'right-handed beta-helix',\n",
       " 'K44PH129C1_cds_10': 'right-handed beta-helix',\n",
       " 'K45PH128C2_cds_237': 'right-handed beta-helix',\n",
       " 'K45PH128C2_cds_239': 'right-handed beta-helix',\n",
       " 'K46PH129_cds_24': 'right-handed beta-helix',\n",
       " 'K48PH164C1_cds_49': 'right-handed beta-helix',\n",
       " 'K4PH164_cds_22': '6-bladed beta-propeller',\n",
       " 'K51PH129C1_cds_9': 'right-handed beta-helix',\n",
       " 'K53PH164C2_cds_24': 'right-handed beta-helix',\n",
       " 'K54lambda1_1_1_cds_238': 'right-handed beta-helix',\n",
       " 'K54lambda2_cds_23': 'right-handed beta-helix',\n",
       " 'K56PH164C1_cds_48': 'right-handed beta-helix',\n",
       " 'K56PH164C1_cds_49': 'right-handed beta-helix',\n",
       " 'K57lambda1_2_cds_92': 'right-handed beta-helix',\n",
       " 'K57lambda1_2_cds_93': 'right-handed beta-helix',\n",
       " 'K58PH129C2_cds_47': 'right-handed beta-helix',\n",
       " 'K5lambda5_cds_196': 'right-handed beta-helix',\n",
       " 'K5lambda5_cds_198': 'right-handed beta-helix',\n",
       " 'K5lambda5_cds_199': 'right-handed beta-helix',\n",
       " 'K5lambda5_cds_200': 'right-handed beta-helix',\n",
       " 'K60PH164C1_cds_94': 'right-handed beta-helix',\n",
       " 'K60PH164C1_cds_96': 'right-handed beta-helix',\n",
       " 'K61PH164C1_cds_9': 'right-handed beta-helix',\n",
       " 'K61PH164C1_cds_10': 'right-handed beta-helix',\n",
       " 'K63PH128_cds_22': 'right-handed beta-helix',\n",
       " 'K64PH164C4_cds_24': 'right-handed beta-helix',\n",
       " 'K65PH164_cds_12': '6-bladed beta-propeller',\n",
       " 'K66PH128C1_cds_59': 'right-handed beta-helix',\n",
       " 'K6PH25C3_cds_23': 'right-handed beta-helix',\n",
       " 'K71PH129C1_cds_55': 'right-handed beta-helix',\n",
       " 'K74PH129C2_cds_51': 'right-handed beta-helix',\n",
       " 'K74PH129C2_cds_52': 'right-handed beta-helix',\n",
       " 'K80PH1317a_cds_53': 'right-handed beta-helix',\n",
       " 'K80PH1317a_cds_54': 'right-handed beta-helix',\n",
       " 'K80PH1317b_cds_53': 'right-handed beta-helix',\n",
       " 'K80PH1317b_cds_54': 'right-handed beta-helix',\n",
       " 'K82P1_cds_45': 'right-handed beta-helix',\n",
       " 'K82P1_cds_46': 'right-handed beta-helix',\n",
       " 'K8PH128_cds_46': 'right-handed beta-helix',\n",
       " 'K10PH82C1_cds_45': '6-bladed beta-propeller',\n",
       " 'K11PH164C1_cds_39': '6-bladed beta-propeller',\n",
       " 'K12P1_1_cds_43': '6-bladed beta-propeller',\n",
       " 'K13PH07C1L_cds_54': '6-bladed beta-propeller',\n",
       " 'K13PH07C1S_cds_53': '6-bladed beta-propeller',\n",
       " 'K15PH90_cds_49': '6-bladed beta-propeller',\n",
       " 'K16PH164C3_cds_43': '6-bladed beta-propeller',\n",
       " 'K19PH14C4P1_cds_43': '6-bladed beta-propeller',\n",
       " 'K1PH164C1_cds_53': '6-bladed beta-propeller',\n",
       " 'K2069PH1_cds_25': 'right-handed beta-helix',\n",
       " 'K22PH164C1_cds_50': '6-bladed beta-propeller',\n",
       " 'K24PH164C1_cds_55': '6-bladed beta-propeller',\n",
       " 'K25PH129C1_cds_56': '6-bladed beta-propeller',\n",
       " 'K26PH128C1_cds_44': '6-bladed beta-propeller',\n",
       " 'K27PH129C1_cds_43': '6-bladed beta-propeller',\n",
       " 'K35PH164C3_cds_43': '6-bladed beta-propeller',\n",
       " 'K37PH164C1_cds_41': '6-bladed beta-propeller',\n",
       " 'K39PH122C2_cds_50': '6-bladed beta-propeller',\n",
       " 'K40PH129C1_cds_52': '6-bladed beta-propeller',\n",
       " 'K42PH8_cds_43': '6-bladed beta-propeller',\n",
       " 'K42PH8_cds_48': 'right-handed beta-helix',\n",
       " 'K43PH164C1_cds_35': '6-bladed beta-propeller',\n",
       " 'K44PH129C1_cds_45': '6-bladed beta-propeller',\n",
       " 'K48PH164C1_cds_43': '6-bladed beta-propeller',\n",
       " 'K51PH129C1_cds_56': '6-bladed beta-propeller',\n",
       " 'K56PH164C1_cds_43': '6-bladed beta-propeller',\n",
       " 'K58PH129C2_cds_40': '6-bladed beta-propeller',\n",
       " 'K59PH2_cds_46': '6-bladed beta-propeller',\n",
       " 'K61PH164C1_cds_52': '6-bladed beta-propeller',\n",
       " 'K66PH128C1_cds_55': '6-bladed beta-propeller',\n",
       " 'K71PH129C1_cds_51': '6-bladed beta-propeller',\n",
       " 'K72PH164C2_cds_51': '6-bladed beta-propeller',\n",
       " 'K74PH129C2_cds_46': '6-bladed beta-propeller',\n",
       " 'K80PH1317a_cds_47': '6-bladed beta-propeller',\n",
       " 'K80PH1317b_cds_47': '6-bladed beta-propeller',\n",
       " 'K82P1_cds_40': '6-bladed beta-propeller',\n",
       " 'K8PH128_cds_41': '6-bladed beta-propeller'}"
      ]
     },
     "execution_count": 21,
     "metadata": {},
     "output_type": "execute_result"
    }
   ],
   "source": [
    "folds_label = {1.0 : \"right-handed beta-helix\", 2.0 : \"6-bladed beta-propeller\", 3.0 : \"triple-helix\"}\n",
    "fold_dpoes = {}\n",
    "\n",
    "for dpo in tmp_results :\n",
    "    for label in dpo[1] : \n",
    "        if label in folds_label :\n",
    "            fold = folds_label[label]\n",
    "            fold_dpoes[dpo[0]] = fold\n",
    "            break\n",
    "fold_dpoes"
   ]
  },
  {
   "cell_type": "code",
   "execution_count": 22,
   "metadata": {},
   "outputs": [],
   "source": [
    "with open(f\"/media/concha-eloko/Linux/PPT_clean/in_vitro/Celia/dpos_folds.celia.tsv\", \"w\") as outfile : \n",
    "    outfile.write(f\"protein_id\\tFold\\n\")\n",
    "    for protein,fold in fold_dpoes.items():\n",
    "        outfile.write(f\"{protein}\\t{fold}\\n\")"
   ]
  },
  {
   "cell_type": "markdown",
   "metadata": {},
   "source": [
    "> Save / Open predictions"
   ]
  },
  {
   "cell_type": "code",
   "execution_count": null,
   "metadata": {},
   "outputs": [],
   "source": [
    "import os\n",
    "from tqdm import tqdm\n",
    "from Bio import SeqIO\n",
    "\n",
    "path_bea = \"/media/concha-eloko/Linux/PPT_clean/in_vitro/Bea\"\n",
    "\n",
    "#dpos = set([prot_id[1] for file in prediction_results for prot_id in prediction_results[file]])\n",
    "\n",
    "#with open(\"/media/concha-eloko/Linux/PPT_clean/in_vitro/Bea/DepoScope_predictions.tsv\", \"w\") as outfile : \n",
    "#    for dpo in dpos :\n",
    "#        outfile.write(dpo + \"\\n\")\n",
    "\n",
    "dpos = open(\"/media/concha-eloko/Linux/PPT_clean/in_vitro/Bea/DepoScope_predictions.tsv\").read().split(\"\\n\")"
   ]
  },
  {
   "cell_type": "code",
   "execution_count": null,
   "metadata": {},
   "outputs": [],
   "source": []
  }
 ],
 "metadata": {
  "kernelspec": {
   "display_name": "Python [conda env:ML_work]",
   "language": "python",
   "name": "conda-env-ML_work-py"
  },
  "language_info": {
   "codemirror_mode": {
    "name": "ipython",
    "version": 3
   },
   "file_extension": ".py",
   "mimetype": "text/x-python",
   "name": "python",
   "nbconvert_exporter": "python",
   "pygments_lexer": "ipython3",
   "version": "3.11.4"
  },
  "widgets": {
   "application/vnd.jupyter.widget-state+json": {
    "state": {},
    "version_major": 2,
    "version_minor": 0
   }
  }
 },
 "nbformat": 4,
 "nbformat_minor": 4
}
