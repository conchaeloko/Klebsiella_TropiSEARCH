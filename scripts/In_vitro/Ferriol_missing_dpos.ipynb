{
 "cells": [
  {
   "cell_type": "markdown",
   "id": "15a23e1f-38de-4bdd-a858-585677540a84",
   "metadata": {},
   "source": [
    "***\n",
    "## Create a multi fasta file : "
   ]
  },
  {
   "cell_type": "code",
   "execution_count": 10,
   "id": "9877d7bd-9fa3-4163-8cc7-1e938f2fe255",
   "metadata": {},
   "outputs": [],
   "source": [
    "import os\n",
    "import pandas as pd\n",
    "from Bio import SeqIO\n",
    "\n",
    "path_project = \"/media/concha-eloko/Linux/77_strains_phage_project\"\n",
    "\n",
    "missing_dpos = pd.read_csv(f\"{path_project}/full_missed_dpo.77_phages.tsv\", sep = \" \", header = 0)\n"
   ]
  },
  {
   "cell_type": "code",
   "execution_count": 11,
   "id": "73609c78-8711-4d93-887c-fb362c514463",
   "metadata": {},
   "outputs": [],
   "source": [
    "with open(f\"{path_project}/full_missing_dpos.multi.fasta\", \"w\") as outfile :\n",
    "    for _, row in missing_dpos.iterrows() : \n",
    "        path_fasta = f\"{path_project}/annotation_classic/{row['Phage']}/{row['Phage']}.multi.annotated.faa\"\n",
    "        fasta_file = SeqIO.parse(path_fasta, \"fasta\")\n",
    "        header = f\"{row['Phage']} {row['CDS']},\"\n",
    "        for record in fasta_file : \n",
    "            if record.description.count(header) > 0 : \n",
    "                outfile.write(f\">{record.description}\\n{record.seq}\\n\")\n",
    "            \n",
    "\n",
    "    "
   ]
  },
  {
   "cell_type": "markdown",
   "id": "cd1d7779-42ad-4a4b-b68f-a2f861e091e2",
   "metadata": {},
   "source": [
    "> Move it to the server :"
   ]
  },
  {
   "cell_type": "code",
   "execution_count": null,
   "id": "8266a418-4e4c-407e-a95a-e8d072249fcf",
   "metadata": {},
   "outputs": [],
   "source": [
    "rsync -avzhe ssh \\\n",
    "/media/concha-eloko/Linux/77_strains_phage_project/full_missing_dpos.multi.fasta \\\n",
    "conchae@garnatxa.srv.cpd:/home/conchae/PhageDepo_pdb\n",
    "\n",
    "rsync -avzhe ssh \\\n",
    "conchae@garnatxa.srv.cpd:/home/conchae/PhageDepo_pdb/full_missing_dpos_esmfold \\\n",
    "/media/concha-eloko/Linux/77_strains_phage_project/\n"
   ]
  }
 ],
 "metadata": {
  "kernelspec": {
   "display_name": "Python 3 (ipykernel)",
   "language": "python",
   "name": "python3"
  },
  "language_info": {
   "codemirror_mode": {
    "name": "ipython",
    "version": 3
   },
   "file_extension": ".py",
   "mimetype": "text/x-python",
   "name": "python",
   "nbconvert_exporter": "python",
   "pygments_lexer": "ipython3",
   "version": "3.11.4"
  },
  "widgets": {
   "application/vnd.jupyter.widget-state+json": {
    "state": {},
    "version_major": 2,
    "version_minor": 0
   }
  }
 },
 "nbformat": 4,
 "nbformat_minor": 5
}
