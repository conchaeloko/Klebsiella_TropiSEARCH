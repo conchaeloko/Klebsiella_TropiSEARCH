{
 "cells": [
  {
   "cell_type": "markdown",
   "metadata": {},
   "source": [
    "# The pipeline : \n",
    "***\n",
    "### A. Load the files\n",
    "### B. Filter out the Dpo_cluster if present in less than n prophages\n",
    "### C. Chi2 the Dpo clusters if associated with a give KLtype ; Bonferonni correction\n",
    "### D. Build the model based on presence absence of one of the associated Dpo clusters\n",
    "### E. Model evaluation \n",
    "***"
   ]
  },
  {
   "cell_type": "markdown",
   "metadata": {},
   "source": [
    "> A"
   ]
  },
  {
   "cell_type": "code",
   "execution_count": null,
   "metadata": {},
   "outputs": [],
   "source": [
    "import os\n",
    "import pandas as pd \n",
    "\n",
    "path_work = \"/home/conchae/prediction_depolymerase_tropism/prophage_prediction/depolymerase_decipher/ficheros_28032023/Rafa_task\"\n",
    "path_files = f\"{path_work}/sequence_similarity\"\n",
    "\n",
    "KL_types_DF = pd.read_csv(f\"{path_work}/DF_prophage_ID.KLtypes.0606.csv\", header = 0, sep = \"\\t\", index_col = 0)\n",
    "# The working file : \n",
    "df_proDpo = pd.read_csv(f\"{path_files}/prophage_Dpo.cdhit_0.8.csv\", header = 0 , sep = \"\\t\", index_col = 0)"
   ]
  },
  {
   "cell_type": "markdown",
   "metadata": {},
   "source": [
    "***\n",
    ">B"
   ]
  },
  {
   "cell_type": "code",
   "execution_count": null,
   "metadata": {},
   "outputs": [],
   "source": [
    "dpo_filter = 3\n",
    "\n",
    "df_proDpo_filtered =  df_proDpo[[dpo_cluster for dpo_cluster in df_proDpo.columns if sum(df_proDpo[dpo_cluster]) >= dpo_filter]]"
   ]
  },
  {
   "cell_type": "markdown",
   "metadata": {},
   "source": [
    "***\n",
    ">C"
   ]
  },
  {
   "cell_type": "code",
   "execution_count": null,
   "metadata": {},
   "outputs": [],
   "source": []
  },
  {
   "cell_type": "code",
   "execution_count": null,
   "metadata": {},
   "outputs": [],
   "source": [
    "def bonferroni_correction(df, alpha=0.05):\n",
    "    \"\"\"\n",
    "    Perform Bonferroni correction on the p-values in a pandas dataframe.\n",
    "    Args:\n",
    "    - df: pandas dataframe with columns \"gene name\", and \"pvalue\"\n",
    "    - alpha: significance level (default 0.05)\n",
    "    Returns:\n",
    "    - A new pandas dataframe with columns \"gene name\", \"pvalue\", and \"corrected pvalue\"\n",
    "    \"\"\"\n",
    "    # Get the number of tests (i.e., the number of rows in the dataframe)\n",
    "    num_tests = df.shape[0]\n",
    "    # Perform the Bonferroni correction\n",
    "    bonferroni_alpha = alpha / num_tests\n",
    "    # Create a new dataframe to store the corrected p-values\n",
    "    corrected_df = pd.DataFrame(index=df.index, columns=df.columns)\n",
    "    # Loop through each row in the dataframe and perform the correction\n",
    "    for idx, row in df.iterrows():\n",
    "        p_val = row['p-value']\n",
    "        corrected_p_val = bonferroni_alpha\n",
    "        corrected_df.loc[idx, 'Feature'] = row['Feature']\n",
    "        corrected_df.loc[idx, 'p-value'] = p_val\n",
    "        corrected_df.loc[idx, 'corrected pvalue'] = corrected_p_val\n",
    "        if p_val <= corrected_p_val:\n",
    "            corrected_df.loc[idx, 'significant'] = True\n",
    "        else:\n",
    "            corrected_df.loc[idx, 'significant'] = False\n",
    "    return corrected_df\n"
   ]
  }
 ],
 "metadata": {
  "kernelspec": {
   "display_name": "sklearn-env",
   "language": "python",
   "name": "sklearn-env"
  },
  "language_info": {
   "codemirror_mode": {
    "name": "ipython",
    "version": 3
   },
   "file_extension": ".py",
   "mimetype": "text/x-python",
   "name": "python",
   "nbconvert_exporter": "python",
   "pygments_lexer": "ipython3",
   "version": "3.8.16"
  }
 },
 "nbformat": 4,
 "nbformat_minor": 4
}
