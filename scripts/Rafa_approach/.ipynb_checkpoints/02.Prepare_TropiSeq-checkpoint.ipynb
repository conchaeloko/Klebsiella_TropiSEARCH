{
 "cells": [
  {
   "cell_type": "code",
   "execution_count": null,
   "id": "d773c3fe-50b9-4fce-be91-241c72474402",
   "metadata": {},
   "outputs": [],
   "source": []
  },
  {
   "cell_type": "code",
   "execution_count": 2,
   "id": "a3e07569-9424-44a8-8507-54a87addd410",
   "metadata": {},
   "outputs": [],
   "source": [
    "# Ground modules\n",
    "import os\n",
    "import pandas as pd\n",
    "import numpy as np\n",
    "from tqdm import tqdm\n",
    "from Bio import SeqIO\n",
    "from itertools import product\n",
    "import random\n",
    "from collections import Counter\n",
    "import warnings\n",
    "import logging\n",
    "import subprocess\n",
    "from multiprocessing.pool import ThreadPool\n",
    "\n",
    "# SCikitlearn modules :\n",
    "from sklearn.ensemble import RandomForestClassifier\n",
    "from sklearn.preprocessing import LabelEncoder\n",
    "from sklearn.model_selection import train_test_split, RandomizedSearchCV\n",
    "from sklearn.metrics import classification_report , roc_auc_score\n",
    "\n",
    "# Scipy modules : \n",
    "from scipy.stats import fisher_exact"
   ]
  },
  {
   "cell_type": "markdown",
   "id": "e19e51e2-9843-47f2-b5e2-fafda33d301e",
   "metadata": {},
   "source": [
    "***"
   ]
  },
  {
   "cell_type": "code",
   "execution_count": 9,
   "id": "73b5788e-7553-48a0-af73-787166c9405b",
   "metadata": {},
   "outputs": [
    {
     "name": "stdout",
     "output_type": "stream",
     "text": [
      "b'\\n\\nBuilding a new DB, current time: 10/28/2023 05:08:33\\nNew DB name:   /media/concha-eloko/Linux/PPT_clean/Seqbased_model/TropiSeq/TropiSeq_0.85.db\\nNew DB title:  /media/concha-eloko/Linux/PPT_clean/Seqbased_model/cdhit_clusters_1710/0.85.out\\nSequence type: Protein\\nKeep MBits: T\\nMaximum file size: 1000000000B\\nAdding sequences from FASTA; added 822 sequences in 0.0205569 seconds.\\n' None\n"
     ]
    }
   ],
   "source": [
    "# Make the blastp DB of all the dpo sequences :\n",
    "\n",
    "path_seqbased = \"/media/concha-eloko/Linux/PPT_clean/Seqbased_model\"\n",
    "\n",
    "fasta_file = f\"{path_seqbased}/cdhit_clusters_1710/0.85.out\"\n",
    "\n",
    "blast_command = f\"makeblastdb -in {fasta_file} -dbtype prot -out {path_seqbased}/TropiSeq/TropiSeq_0.85.db\"\n",
    "make_blast_process = subprocess.Popen(blast_command, shell =True, stdout = subprocess.PIPE, stderr=subprocess.STDOUT)\n",
    "mkblast_out, mkblast_err = make_blast_process.communicate()\n",
    "print(mkblast_out , mkblast_err)"
   ]
  },
  {
   "cell_type": "markdown",
   "id": "31ffc465-5249-4db8-9482-3c5164f4909c",
   "metadata": {},
   "source": [
    "***\n",
    "# Make function that :\n",
    "### A : blastp from a Dpo seq\n",
    "### B : read the results and spot the hits\n",
    "### C : Build a vector from the presence abscence\n",
    "### D : Make prediction\n",
    "***"
   ]
  },
  {
   "cell_type": "markdown",
   "id": "88b230af-fe89-407d-a966-f538ecc09cc5",
   "metadata": {},
   "source": [
    "> 77 phages"
   ]
  },
  {
   "cell_type": "code",
   "execution_count": 41,
   "id": "73e330ae-cf6f-41c9-b96f-014f91093900",
   "metadata": {
    "scrolled": true
   },
   "outputs": [],
   "source": [
    "import json\n",
    "\n",
    "path_seqbased = \"/media/concha-eloko/Linux/PPT_clean/Seqbased_model\"\n",
    "path_db = f\"{path_seqbased}/TropiSeq/TropiSeq_0.85.db\"\n",
    "\n",
    "dico_cluster = json.load(open(f\"{path_seqbased}/dico_cluster.cdhit__0.85.json\"))\n",
    "dico_cluster_r = {ref_dpo : key_dpo for key_dpo,list_dpo in dico_cluster.items() for ref_dpo in list_dpo}\n"
   ]
  },
  {
   "cell_type": "code",
   "execution_count": 64,
   "id": "ee66646d-08d3-45ba-bea0-4334f6f1fa1e",
   "metadata": {},
   "outputs": [],
   "source": [
    "path_seq = \"/media/concha-eloko/Linux/77_strains_phage_project/rbp_work\"\n",
    "path_tmp =  \"/media/concha-eloko/Linux/PPT_clean/Seqbased_model/tmp\"\n",
    "labels_blast=[\"qseqid\", \"sseqid\", \"pident\", \"length\", \"mismatch\", \"gapopen\", \"qstart\", \"qend\", \"sstart\", \"send\", \"evalue\", \"bitscore\"]\n",
    "\n",
    "dico_seq = {record.description : record.seq for record in SeqIO.parse(f\"{path_seq}/77_domain_Dpo_cluster_all_seqs.fasta\", \"fasta\") if len(record.seq) >0}\n",
    "set_records = [record for record in SeqIO.parse(f\"{path_seq}/77_domain_Dpo_cluster_all_seqs.fasta\", \"fasta\") if len(record.seq) > 0]\n",
    "\n",
    "\n",
    "def tmp_fasta_file(record , path_tmp) :\n",
    "    name_file = \"_\".join(record.description.split(\" \"))\n",
    "    path_fasta = f\"{path_tmp}/{name_file}.fasta\"\n",
    "    length_seq = len(record.seq)\n",
    "    with open(path_fasta, \"w\") as outfile :\n",
    "        outfile.write(f\">{record.description}\\n{str(record.seq)}\")\n",
    "    return path_fasta , length_seq\n",
    "\n",
    "def blast_seq(path_fasta, path_DB, path_tmp) :\n",
    "    file_name = path_fasta.split(\"/\")[-1]\n",
    "    command = f\"blastp -query {path_fasta} -db {path_DB} -out {path_tmp}/{file_name}.blast_out -outfmt 6 -evalue 1e-10\"\n",
    "    blastp_sub = subprocess.Popen(command ,shell = True, stdout = subprocess.PIPE, stderr = subprocess.STDOUT)\n",
    "    out , err = blastp_sub.communicate()\n",
    "    return f\"{path_tmp}/{file_name}.blast_out\"\n",
    "\n",
    "def get_best_candidate(path_blast_out, length_seq) : \n",
    "    winner = 0\n",
    "    labels_blast=[\"qseqid\", \"sseqid\", \"pident\", \"length\", \"mismatch\", \"gapopen\", \"qstart\", \"qend\", \"sstart\", \"send\", \"evalue\", \"bitscore\"]\n",
    "    blast_df = pd.read_csv(path_blast_out, sep = \"\\t\", names = labels_blast)\n",
    "    if len(blast_df) > 0 :\n",
    "        row = blast_df.iloc[0] \n",
    "        if row[\"bitscore\"] > 150 and length_seq/int(row[\"length\"])> 0.8:\n",
    "            winner = dico_cluster_r[row[\"sseqid\"]]\n",
    "        else :\n",
    "            winner = \"No hits\"\n",
    "    else :\n",
    "        winner = \"No hits\"\n",
    "    return winner\n",
    "\n",
    "def get_winner(record , path_tmp) :\n",
    "    path_func , len_func = tmp_fasta_file(record, path_tmp)\n",
    "    path_blast_out_func = blast_seq(path_func , path_db, path_tmp)\n",
    "    winner = get_best_candidate(path_blast_out_func, len_func)\n",
    "    return winner"
   ]
  },
  {
   "cell_type": "code",
   "execution_count": 65,
   "id": "c640e0f2-e71c-4791-ae5b-12c2404a9d87",
   "metadata": {},
   "outputs": [],
   "source": [
    "winners = []\n",
    "for record in set_records :\n",
    "    winner = get_winner(record, path_tmp)\n",
    "    a = (record.description , winner)\n",
    "    winners.append(a)"
   ]
  },
  {
   "cell_type": "code",
   "execution_count": 66,
   "id": "e1acc2a4-faeb-43ef-a8e6-b54c63d45dd9",
   "metadata": {
    "scrolled": true
   },
   "outputs": [
    {
     "data": {
      "text/plain": [
       "[('K14PH164C1__cds_24_A_4_221_871.pdb', 'Dpo_cdhit_17'),\n",
       " ('K64PH164C4__cds_24_A_4_178_852.pdb', 'Dpo_cdhit_11'),\n",
       " ('K40PH129C1__cds_56_A_4_239_860.pdb', 'No hits'),\n",
       " ('K51PH129C1__cds_9_A_1_92_787.pdb', 'Dpo_cdhit_13'),\n",
       " ('K15PH90__cds_55_A.pdb', 'Dpo_cdhit_74'),\n",
       " ('K21lambda1__cds_28_A.pdb', 'Dpo_cdhit_217'),\n",
       " ('K26PH128C1__cds_50_A_1_97_595.pdb', 'Dpo_cdhit_48'),\n",
       " ('K35PH164C3__cds_48_A_4_282_728.pdb', 'Dpo_cdhit_234'),\n",
       " ('K37PH164C1__cds_47_A_1_1_307.pdb', 'Dpo_cdhit_440'),\n",
       " ('K38PH09C2__cds_24_A_4_178_672.pdb', 'Dpo_cdhit_142'),\n",
       " ('K27PH129C1__cds_48_A_7_200_648.pdb', 'Dpo_cdhit_153'),\n",
       " ('K5lambda5__cds_198_A_3_173_674.pdb', 'Dpo_cdhit_156'),\n",
       " ('K41P2__cds_11_A_7_188_506.pdb', 'Dpo_cdhit_160'),\n",
       " ('K43PH164C1__cds_40_A_3_296_718.pdb', 'Dpo_cdhit_193'),\n",
       " ('K11PH164C1__cds_46_A_1_1_416.pdb', 'Dpo_cdhit_301'),\n",
       " ('K17alfa62__cds_64_A_3_129_548.pdb', 'Dpo_cdhit_242'),\n",
       " ('K2PH164C1__cds_23_A_6_269_664.pdb', 'No hits'),\n",
       " ('K2alfa62__cds_23_A_6_269_671.pdb', 'No hits'),\n",
       " ('K56PH164C1__cds_48_A_5_293_702.pdb', 'No hits'),\n",
       " ('K82P1__cds_45_A_5_292_704.pdb', 'No hits'),\n",
       " ('K66PH128C1__cds_59_A_4_252_713.pdb', 'Dpo_cdhit_169'),\n",
       " ('K23PH08C2__cds_233_A_2_76_514.pdb', 'Dpo_cdhit_125'),\n",
       " ('K60PH164C1__cds_96_A_6_321_703.pdb', 'Dpo_cdhit_297'),\n",
       " ('K56PH164C1__cds_49_A_3_110_475.pdb', 'Dpo_cdhit_178'),\n",
       " ('K74PH129C2__cds_52_A_2_34_431.pdb', 'Dpo_cdhit_266'),\n",
       " ('K8PH128__cds_46_A_5_294_719.pdb', 'No hits'),\n",
       " ('K44PH129C1__cds_9_A_2_39_391.pdb', 'Dpo_cdhit_440'),\n",
       " ('K22PH164C1__cds_10_A_1_1_368.pdb', 'Dpo_cdhit_440'),\n",
       " ('K24PH164C1__cds_8_A_2_85_402.pdb', 'Dpo_cdhit_25'),\n",
       " ('K48PH164C1__cds_49_A_3_306_628.pdb', 'Dpo_cdhit_145'),\n",
       " ('K25PH129C1__cds_60_A_5_311_671.pdb', 'Dpo_cdhit_354'),\n",
       " ('K39PH122C2__cds_55_A_5_286_658.pdb', 'Dpo_cdhit_292'),\n",
       " ('K39PH122C2__cds_8_A_4_33_387.pdb', 'No hits'),\n",
       " ('K13PH07C1S__cds_10_A_7_32_375.pdb', 'No hits'),\n",
       " ('K61PH164C1__cds_9_A_1_1_387.pdb', 'Dpo_cdhit_376'),\n",
       " ('K46PH129__cds_24_A_8_222_596.pdb', 'Dpo_cdhit_154'),\n",
       " ('K60PH164C1__cds_94_A_3_119_467.pdb', 'Dpo_cdhit_388'),\n",
       " ('K5lambda5__cds_196_A_4_457_808.pdb', 'Dpo_cdhit_388'),\n",
       " ('K43PH164C1__cds_41_A_3_32_385.pdb', 'Dpo_cdhit_388'),\n",
       " ('K57lambda1_2__cds_92_A_3_120_506.pdb', 'Dpo_cdhit_301'),\n",
       " ('K61PH164C1__cds_10_A_3_80_443.pdb', 'Dpo_cdhit_371'),\n",
       " ('K71PH129C1__cds_55_A_5_295_682.pdb', 'Dpo_cdhit_264'),\n",
       " ('K45PH128C2__cds_237_A_3_76_463.pdb', 'Dpo_cdhit_264'),\n",
       " ('K80PH1317b__cds_54_A_2_36_354.pdb', 'Dpo_cdhit_469'),\n",
       " ('K80PH1317a__cds_54_A_2_36_354.pdb', 'Dpo_cdhit_469'),\n",
       " ('K82P1__cds_46_A_2_94_449.pdb', 'No hits'),\n",
       " ('K11PH164C1__cds_45_A_5_356_700.pdb', 'No hits'),\n",
       " ('K45PH128C2__cds_239_A_1_186_411.pdb', 'Dpo_cdhit_682'),\n",
       " ('K4PH164__cds_22_A_1_53_402.pdb', 'Dpo_cdhit_550'),\n",
       " ('K53PH164C2__cds_24_A_4_200_777.pdb', 'Dpo_cdhit_59'),\n",
       " ('K54lambda1_1_1__cds_238_A_1_78_646.pdb', 'Dpo_cdhit_33'),\n",
       " ('K57lambda1_2__cds_93_A_4_251_900.pdb', 'Dpo_cdhit_121'),\n",
       " ('K58PH129C2__cds_47_A_2_38_516.pdb', 'Dpo_cdhit_78'),\n",
       " ('K16PH164C3__cds_48_A_3_292_776.pdb', 'Dpo_cdhit_122'),\n",
       " ('K17alfa61__cds_23_A_4_179_630.pdb', 'No hits'),\n",
       " ('K1PH164C1__cds_8_A_2_69_559.pdb', 'No hits'),\n",
       " ('K44PH129C1__cds_10_A_3_35_538.pdb', 'Dpo_cdhit_80'),\n",
       " ('K63PH128__cds_22_A_5_260_714.pdb', 'Dpo_cdhit_185'),\n",
       " ('K5lambda5__cds_199_A_2_109_658.pdb', 'No hits'),\n",
       " ('K10PH82C1__cds_50_A_5_301_819.pdb', 'No hits'),\n",
       " ('K74PH129C2__cds_51_A_3_291_808.pdb', 'Dpo_cdhit_133'),\n",
       " ('K26PH128C1__cds_49_A_3_291_808.pdb', 'Dpo_cdhit_133'),\n",
       " ('K65PH164__cds_12_A_5_181_627.pdb', 'Dpo_cdhit_160'),\n",
       " ('K6PH25C3__cds_23_A_3_206_691.pdb', 'No hits'),\n",
       " ('K80PH1317a__cds_52_A_5_302_576.pdb', 'Dpo_cdhit_133'),\n",
       " ('K80PH1317a__cds_53_A.pdb', 'Dpo_cdhit_133'),\n",
       " ('K80PH1317b__cds_52_A_5_302_606.pdb', 'Dpo_cdhit_133'),\n",
       " ('K2PH164C2__cds_24_A_6_274_608.pdb', 'Dpo_cdhit_458'),\n",
       " ('K10PH82C1__cds_51_A_2_38_368.pdb', 'Dpo_cdhit_447'),\n",
       " ('K13PH07C1S__cds_11_A_2_93_430.pdb', 'No hits'),\n",
       " ('K37PH164C1__cds_48_A_2_37_367.pdb', 'Dpo_cdhit_383'),\n",
       " ('K54lambda2__cds_23_A_7_214_582.pdb', 'No hits'),\n",
       " ('K5lambda5__cds_200_A_2_111_443.pdb', 'Dpo_cdhit_72'),\n",
       " ('K80PH1317b__cds_53_A.pdb', 'No hits')]"
      ]
     },
     "execution_count": 66,
     "metadata": {},
     "output_type": "execute_result"
    }
   ],
   "source": [
    "winners"
   ]
  },
  {
   "cell_type": "code",
   "execution_count": 68,
   "id": "90aa1741-99df-418d-b87f-453c44958dda",
   "metadata": {},
   "outputs": [
    {
     "name": "stdout",
     "output_type": "stream",
     "text": [
      "K40PH129C1__cds_56_A_4_239_860.pdb\n",
      "K2PH164C1__cds_23_A_6_269_664.pdb\n",
      "K2alfa62__cds_23_A_6_269_671.pdb\n",
      "K56PH164C1__cds_48_A_5_293_702.pdb\n",
      "K82P1__cds_45_A_5_292_704.pdb\n",
      "K8PH128__cds_46_A_5_294_719.pdb\n",
      "K39PH122C2__cds_8_A_4_33_387.pdb\n",
      "K13PH07C1S__cds_10_A_7_32_375.pdb\n",
      "K82P1__cds_46_A_2_94_449.pdb\n",
      "K11PH164C1__cds_45_A_5_356_700.pdb\n",
      "K17alfa61__cds_23_A_4_179_630.pdb\n",
      "K1PH164C1__cds_8_A_2_69_559.pdb\n",
      "K5lambda5__cds_199_A_2_109_658.pdb\n",
      "K10PH82C1__cds_50_A_5_301_819.pdb\n",
      "K6PH25C3__cds_23_A_3_206_691.pdb\n",
      "K13PH07C1S__cds_11_A_2_93_430.pdb\n",
      "K54lambda2__cds_23_A_7_214_582.pdb\n",
      "K80PH1317b__cds_53_A.pdb\n"
     ]
    }
   ],
   "source": [
    "for win in winners : \n",
    "    if win[1] == 'No hits' :\n",
    "        print(win[0])"
   ]
  },
  {
   "cell_type": "code",
   "execution_count": 62,
   "id": "1061f295-68d4-4e31-89e8-9a09f681ff55",
   "metadata": {},
   "outputs": [
    {
     "data": {
      "text/plain": [
       "'Dpo_cdhit_17'"
      ]
     },
     "execution_count": 62,
     "metadata": {},
     "output_type": "execute_result"
    }
   ],
   "source": [
    "winner = get_winner(set_records[0], path_tmp)\n",
    "winner"
   ]
  },
  {
   "cell_type": "code",
   "execution_count": 54,
   "id": "60e8f942-eee1-49ec-917e-bd754368b244",
   "metadata": {},
   "outputs": [
    {
     "data": {
      "text/plain": [
       "qseqid      K14PH164C1__cds_24_A_4_221_871.pdb\n",
       "sseqid                          minibatch__842\n",
       "pident                                  26.379\n",
       "length                                     671\n",
       "mismatch                                   438\n",
       "gapopen                                     18\n",
       "qstart                                       2\n",
       "qend                                       646\n",
       "sstart                                       2\n",
       "send                                       642\n",
       "evalue                                     0.0\n",
       "bitscore                                   183\n",
       "Name: 0, dtype: object"
      ]
     },
     "execution_count": 54,
     "metadata": {},
     "output_type": "execute_result"
    }
   ],
   "source": [
    "pd.read_csv(path_blast_out_test, sep = \"\\t\", names = labels_blast).iloc[0]"
   ]
  },
  {
   "cell_type": "code",
   "execution_count": 57,
   "id": "2ddbfd25-5897-41d9-bfc8-72af4739faf8",
   "metadata": {},
   "outputs": [],
   "source": [
    "path_test , length_test = tmp_fasta_file(set_records[0], path_tmp)\n",
    "path_blast_out_test = blast_seq(path_test , path_db, path_tmp)\n",
    "candidates_test = get_best_candidate(path_blast_out_test, length_test)"
   ]
  },
  {
   "cell_type": "code",
   "execution_count": 58,
   "id": "f06f504b-0f43-41ed-9e48-fdcc34016b46",
   "metadata": {},
   "outputs": [
    {
     "data": {
      "text/plain": [
       "'Dpo_cdhit_17'"
      ]
     },
     "execution_count": 58,
     "metadata": {},
     "output_type": "execute_result"
    }
   ],
   "source": [
    "candidates_test"
   ]
  },
  {
   "cell_type": "code",
   "execution_count": null,
   "id": "74cdce6a-96f9-4f19-89e6-ccc5a03db17c",
   "metadata": {},
   "outputs": [],
   "source": [
    "path_seqbased = \"/media/concha-eloko/Linux/PPT_clean/Seqbased_model\"\n",
    "import joblib\n",
    "\n",
    "# Load the model from the file\n",
    "loaded_model = joblib.load('path_to_your_saved_model.joblib')\n",
    "\n",
    "# Now you can use `loaded_model` to make predictions\n",
    "predictions = loaded_model.predict(X_test)"
   ]
  },
  {
   "cell_type": "markdown",
   "id": "280b1080-98e8-4a73-9917-5732d4f60dee",
   "metadata": {},
   "source": [
    "# "
   ]
  }
 ],
 "metadata": {
  "kernelspec": {
   "display_name": "ML_work",
   "language": "python",
   "name": "ml_work"
  },
  "language_info": {
   "codemirror_mode": {
    "name": "ipython",
    "version": 3
   },
   "file_extension": ".py",
   "mimetype": "text/x-python",
   "name": "python",
   "nbconvert_exporter": "python",
   "pygments_lexer": "ipython3",
   "version": "3.11.4"
  },
  "widgets": {
   "application/vnd.jupyter.widget-state+json": {
    "state": {},
    "version_major": 2,
    "version_minor": 0
   }
  }
 },
 "nbformat": 4,
 "nbformat_minor": 5
}
