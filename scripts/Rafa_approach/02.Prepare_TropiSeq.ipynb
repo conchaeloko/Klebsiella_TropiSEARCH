{
 "cells": [
  {
   "cell_type": "code",
   "execution_count": null,
   "id": "d773c3fe-50b9-4fce-be91-241c72474402",
   "metadata": {},
   "outputs": [],
   "source": []
  },
  {
   "cell_type": "code",
   "execution_count": 21,
   "id": "a3e07569-9424-44a8-8507-54a87addd410",
   "metadata": {},
   "outputs": [],
   "source": [
    "# Ground modules\n",
    "import os\n",
    "import pandas as pd\n",
    "import numpy as np\n",
    "from tqdm import tqdm\n",
    "from Bio import SeqIO\n",
    "from itertools import product\n",
    "import random\n",
    "from collections import Counter\n",
    "import warnings\n",
    "warnings.filterwarnings(\"ignore\", category=UserWarning)\n",
    "\n",
    "import logging\n",
    "import subprocess\n",
    "from multiprocessing.pool import ThreadPool\n",
    "import joblib\n",
    "\n",
    "# SCikitlearn modules :\n",
    "from sklearn.ensemble import RandomForestClassifier\n",
    "from sklearn.preprocessing import LabelEncoder\n",
    "from sklearn.model_selection import train_test_split, RandomizedSearchCV\n",
    "from sklearn.metrics import classification_report , roc_auc_score\n",
    "\n",
    "# Scipy modules : \n",
    "from scipy.stats import fisher_exact"
   ]
  },
  {
   "cell_type": "markdown",
   "id": "e19e51e2-9843-47f2-b5e2-fafda33d301e",
   "metadata": {},
   "source": [
    "***"
   ]
  },
  {
   "cell_type": "code",
   "execution_count": 9,
   "id": "73b5788e-7553-48a0-af73-787166c9405b",
   "metadata": {},
   "outputs": [
    {
     "name": "stdout",
     "output_type": "stream",
     "text": [
      "b'\\n\\nBuilding a new DB, current time: 10/28/2023 05:08:33\\nNew DB name:   /media/concha-eloko/Linux/PPT_clean/Seqbased_model/TropiSeq/TropiSeq_0.85.db\\nNew DB title:  /media/concha-eloko/Linux/PPT_clean/Seqbased_model/cdhit_clusters_1710/0.85.out\\nSequence type: Protein\\nKeep MBits: T\\nMaximum file size: 1000000000B\\nAdding sequences from FASTA; added 822 sequences in 0.0205569 seconds.\\n' None\n"
     ]
    }
   ],
   "source": [
    "# Make the blastp DB of all the dpo sequences :\n",
    "\n",
    "path_seqbased = \"/media/concha-eloko/Linux/PPT_clean/Seqbased_model\"\n",
    "\n",
    "fasta_file = f\"{path_seqbased}/cdhit_clusters_1710/0.85.out\"\n",
    "\n",
    "blast_command = f\"makeblastdb -in {fasta_file} -dbtype prot -out {path_seqbased}/TropiSeq/TropiSeq_0.85.db\"\n",
    "make_blast_process = subprocess.Popen(blast_command, shell =True, stdout = subprocess.PIPE, stderr=subprocess.STDOUT)\n",
    "mkblast_out, mkblast_err = make_blast_process.communicate()\n",
    "print(mkblast_out , mkblast_err)"
   ]
  },
  {
   "cell_type": "markdown",
   "id": "31ffc465-5249-4db8-9482-3c5164f4909c",
   "metadata": {},
   "source": [
    "***\n",
    "# Make function that :\n",
    "### A : blastp from a Dpo seq\n",
    "### B : read the results and spot the hits\n",
    "### C : Build a vector from the presence abscence\n",
    "### D : Make prediction\n",
    "***"
   ]
  },
  {
   "cell_type": "markdown",
   "id": "88b230af-fe89-407d-a966-f538ecc09cc5",
   "metadata": {},
   "source": [
    "> 77 phages"
   ]
  },
  {
   "cell_type": "code",
   "execution_count": 6,
   "id": "73e330ae-cf6f-41c9-b96f-014f91093900",
   "metadata": {
    "scrolled": true
   },
   "outputs": [],
   "source": [
    "import json\n",
    "\n",
    "path_seqbased = \"/media/concha-eloko/Linux/PPT_clean/Seqbased_model\"\n",
    "path_db = f\"{path_seqbased}/TropiSeq/TropiSeq_0.85.db\"\n",
    "\n",
    "dico_cluster = json.load(open(f\"{path_seqbased}/dico_cluster.cdhit__0.85.json\"))\n",
    "dico_cluster_r = {ref_dpo : key_dpo for key_dpo,list_dpo in dico_cluster.items() for ref_dpo in list_dpo}\n"
   ]
  },
  {
   "cell_type": "code",
   "execution_count": 7,
   "id": "ee66646d-08d3-45ba-bea0-4334f6f1fa1e",
   "metadata": {},
   "outputs": [],
   "source": [
    "path_seq = \"/media/concha-eloko/Linux/77_strains_phage_project/rbp_work\"\n",
    "path_tmp =  \"/media/concha-eloko/Linux/PPT_clean/Seqbased_model/tmp\"\n",
    "labels_blast=[\"qseqid\", \"sseqid\", \"pident\", \"length\", \"mismatch\", \"gapopen\", \"qstart\", \"qend\", \"sstart\", \"send\", \"evalue\", \"bitscore\"]\n",
    "\n",
    "dico_seq = {record.description : record.seq for record in SeqIO.parse(f\"{path_seq}/77_domain_Dpo_cluster_all_seqs.fasta\", \"fasta\") if len(record.seq) >0}\n",
    "set_records = [record for record in SeqIO.parse(f\"{path_seq}/77_domain_Dpo_cluster_all_seqs.fasta\", \"fasta\") if len(record.seq) > 0]\n",
    "\n",
    "\n",
    "def tmp_fasta_file(record , path_tmp) :\n",
    "    name_file = \"_\".join(record.description.split(\" \"))\n",
    "    path_fasta = f\"{path_tmp}/{name_file}.fasta\"\n",
    "    length_seq = len(record.seq)\n",
    "    with open(path_fasta, \"w\") as outfile :\n",
    "        outfile.write(f\">{record.description}\\n{str(record.seq)}\")\n",
    "    return path_fasta , length_seq\n",
    "\n",
    "def blast_seq(path_fasta, path_DB, path_tmp) :\n",
    "    file_name = path_fasta.split(\"/\")[-1]\n",
    "    command = f\"blastp -query {path_fasta} -db {path_DB} -out {path_tmp}/{file_name}.blast_out -outfmt 6 -evalue 1e-10\"\n",
    "    blastp_sub = subprocess.Popen(command ,shell = True, stdout = subprocess.PIPE, stderr = subprocess.STDOUT)\n",
    "    out , err = blastp_sub.communicate()\n",
    "    return f\"{path_tmp}/{file_name}.blast_out\"\n",
    "\n",
    "def get_best_candidate(path_blast_out, length_seq) : \n",
    "    winner = 0\n",
    "    labels_blast=[\"qseqid\", \"sseqid\", \"pident\", \"length\", \"mismatch\", \"gapopen\", \"qstart\", \"qend\", \"sstart\", \"send\", \"evalue\", \"bitscore\"]\n",
    "    blast_df = pd.read_csv(path_blast_out, sep = \"\\t\", names = labels_blast)\n",
    "    if len(blast_df) > 0 :\n",
    "        row = blast_df.iloc[0] \n",
    "        if row[\"bitscore\"] > 150 and length_seq/int(row[\"length\"])> 0.8:\n",
    "            winner = dico_cluster_r[row[\"sseqid\"]]\n",
    "        else :\n",
    "            winner = \"No hits\"\n",
    "    else :\n",
    "        winner = \"No hits\"\n",
    "    return winner\n",
    "\n",
    "def get_winner(record , path_tmp) :\n",
    "    path_func , len_func = tmp_fasta_file(record, path_tmp)\n",
    "    path_blast_out_func = blast_seq(path_func , path_db, path_tmp)\n",
    "    winner = get_best_candidate(path_blast_out_func, len_func)\n",
    "    return winner"
   ]
  },
  {
   "cell_type": "markdown",
   "id": "ddcdfef0-7876-43ba-b15d-354d452354c2",
   "metadata": {},
   "source": [
    "> Ferriol et al "
   ]
  },
  {
   "cell_type": "code",
   "execution_count": 72,
   "id": "c640e0f2-e71c-4791-ae5b-12c2404a9d87",
   "metadata": {},
   "outputs": [
    {
     "name": "stderr",
     "output_type": "stream",
     "text": [
      "100%|███████████████████████████████████████████| 74/74 [00:04<00:00, 16.28it/s]\n"
     ]
    }
   ],
   "source": [
    "ferriol_winners = []\n",
    "for record in tqdm(set_records) :\n",
    "    winner = get_winner(record, path_tmp)\n",
    "    if winner != \"No hits\" :\n",
    "        hit = int(winner.split(\"_\")[-1])\n",
    "        vector = [0]*len(dico_cluster)\n",
    "        vector[hit] = 1\n",
    "        vector = np.array(vector)\n",
    "        a = (record.description , winner, vector)\n",
    "    else :\n",
    "        vector = \"Null\"\n",
    "    a = (record.description , winner, vector)\n",
    "    ferriol_winners.append(a)"
   ]
  },
  {
   "cell_type": "markdown",
   "id": "ad433c0a-f6f9-46da-85d0-afdab074a1a9",
   "metadata": {},
   "source": [
    "> Bea et al"
   ]
  },
  {
   "cell_type": "code",
   "execution_count": 74,
   "id": "d99a5064-00ed-4667-98a3-d8062630e533",
   "metadata": {},
   "outputs": [
    {
     "name": "stderr",
     "output_type": "stream",
     "text": [
      "100%|███████████████████████████████████████████| 71/71 [00:04<00:00, 15.41it/s]\n"
     ]
    }
   ],
   "source": [
    "bea_winners = []\n",
    "\n",
    "path_bea = \"/media/concha-eloko/Linux/PPT_clean/in_vitro/Bea\"\n",
    "path_domains_bea = f\"{path_bea}/DepoScope_predictions.bea.domains.0709.fasta\"\n",
    "\n",
    "bea_dico_seq = {record.description : record.seq for record in SeqIO.parse(f\"{path_domains_bea}\", \"fasta\") if len(record.seq) >0}\n",
    "bea_set_records = [record for record in SeqIO.parse(f\"{path_domains_bea}\", \"fasta\") if len(record.seq) > 0]\n",
    "\n",
    "for record in tqdm(bea_set_records) :\n",
    "    winner = get_winner(record, path_tmp)\n",
    "    if winner != \"No hits\" :\n",
    "        hit = int(winner.split(\"_\")[-1])\n",
    "        vector = [0]*len(dico_cluster)\n",
    "        vector[hit] = 1\n",
    "        vector = np.array(vector)\n",
    "        a = (record.description , winner, vector)\n",
    "    else :\n",
    "        vector = \"Null\"\n",
    "    a = (record.description , winner, vector)\n",
    "    bea_winners.append(a)\n",
    "    "
   ]
  },
  {
   "cell_type": "markdown",
   "id": "fa09a3ed-330a-453a-affb-a3be0ed4d09a",
   "metadata": {},
   "source": [
    "> Towndsend et al "
   ]
  },
  {
   "cell_type": "code",
   "execution_count": 77,
   "id": "90f42416-d6d4-4ec9-9a4a-25525c4339cc",
   "metadata": {},
   "outputs": [
    {
     "name": "stderr",
     "output_type": "stream",
     "text": [
      "100%|███████████████████████████████████████████| 44/44 [00:03<00:00, 12.99it/s]\n"
     ]
    }
   ],
   "source": [
    "towndsend_winners = []\n",
    "\n",
    "path_towndsend = \"/media/concha-eloko/Linux/PPT_clean/in_vitro/Townsed\"\n",
    "path_domains_towndsend = f\"{path_towndsend}/DepoScope_predictions.Townsed.domains.0909.fasta\"\n",
    "\n",
    "towndsend_dico_seq = {record.description : record.seq for record in SeqIO.parse(f\"{path_domains_towndsend}\", \"fasta\") if len(record.seq) >0}\n",
    "towndsend_set_records = [record for record in SeqIO.parse(f\"{path_domains_towndsend}\", \"fasta\") if len(record.seq) > 0]\n",
    "\n",
    "for record in tqdm(towndsend_set_records) :\n",
    "    winner = get_winner(record, path_tmp)\n",
    "    if winner != \"No hits\" :\n",
    "        hit = int(winner.split(\"_\")[-1])\n",
    "        vector = [0]*len(dico_cluster)\n",
    "        vector[hit] = 1\n",
    "        vector = np.array(vector)\n",
    "        a = (record.description , winner, vector)\n",
    "    else :\n",
    "        vector = \"Null\"\n",
    "    a = (record.description , winner, vector)\n",
    "    towndsend_winners.append(a)"
   ]
  },
  {
   "cell_type": "markdown",
   "id": "d259ba49-6824-484c-9ac2-c85177a45d65",
   "metadata": {},
   "source": [
    "***\n",
    "# Make predictions"
   ]
  },
  {
   "cell_type": "code",
   "execution_count": 76,
   "id": "17aaed4c-766f-4e12-8052-207fb2a1b3e6",
   "metadata": {
    "scrolled": true
   },
   "outputs": [],
   "source": [
    "import pickle\n",
    "import os\n",
    "path_seqbased = \"/media/concha-eloko/Linux/PPT_clean/Seqbased_model\"\n",
    "\n",
    "models_TropiSeq = {}\n",
    "\n",
    "for rf_model in os.listdir(f\"{path_seqbased}/RF_models\") :\n",
    "    if rf_model.count(\"0711.slow\") > 0 and rf_model.count(\"fasta\") == 0 :\n",
    "        kltype = rf_model.split(\"_RF_\")[1].split(\".\")[0]\n",
    "        with open(f\"{path_seqbased}/RF_models/{rf_model}\", 'rb') as file:\n",
    "            models_TropiSeq[kltype] = pickle.load(file)\n",
    "\n",
    "TropiSeq_results = {}\n"
   ]
  },
  {
   "cell_type": "markdown",
   "id": "20cc9a76-e0ce-425d-82b1-f57bafc029cc",
   "metadata": {},
   "source": [
    "> Get predictions :"
   ]
  },
  {
   "cell_type": "code",
   "execution_count": 85,
   "id": "31f79d64-49b4-4977-8dab-e4898372ec6e",
   "metadata": {
    "scrolled": true
   },
   "outputs": [
    {
     "name": "stderr",
     "output_type": "stream",
     "text": [
      "74it [01:29,  1.21s/it]\n",
      "71it [01:13,  1.04s/it]\n",
      "44it [00:44,  1.00s/it]\n"
     ]
    }
   ],
   "source": [
    "# Ferriol part : \n",
    "for _,winner in tqdm(enumerate(ferriol_winners)) :\n",
    "    if isinstance(winner[2], np.ndarray):\n",
    "        tmp_positif = {}\n",
    "        for kltype in models_TropiSeq :\n",
    "            pred = models_TropiSeq[kltype].predict_proba(np.array(winner[2]).reshape(1, -1))\n",
    "            if pred[0][1] >= 0.5 :\n",
    "                tmp_positif[kltype] = pred[0][1]\n",
    "        TropiSeq_results[winner[0]] = tmp_positif\n",
    "    else : \n",
    "        TropiSeq_results[winner[0]] = \"No hits\"\n",
    "\n",
    "# Bea part : \n",
    "for _,winner in tqdm(enumerate(bea_winners)) :\n",
    "    if isinstance(winner[2], np.ndarray):\n",
    "        tmp_positif = {}\n",
    "        for kltype in models_TropiSeq :\n",
    "            pred = models_TropiSeq[kltype].predict_proba(np.array(winner[2]).reshape(1, -1))\n",
    "            if pred[0][1] >= 0.5 :\n",
    "                tmp_positif[kltype] = pred[0][1]\n",
    "        TropiSeq_results[winner[0]] = tmp_positif\n",
    "    else : \n",
    "        TropiSeq_results[winner[0]] = \"No hits\"\n",
    "\n",
    "# Towndsend part :\n",
    "for _,winner in tqdm(enumerate(towndsend_winners)) :\n",
    "    if isinstance(winner[2], np.ndarray):\n",
    "        tmp_positif = {}\n",
    "        for kltype in models_TropiSeq :\n",
    "            pred = models_TropiSeq[kltype].predict_proba(np.array(winner[2]).reshape(1, -1))\n",
    "            if pred[0][1] >= 0.5 :\n",
    "                tmp_positif[kltype] = pred[0][1]\n",
    "        TropiSeq_results[winner[0]] = tmp_positif\n",
    "    else : \n",
    "        TropiSeq_results[winner[0]] = \"No hits\"\n",
    "\n",
    "\n",
    "with open(\"/media/concha-eloko/Linux/PPT_clean/Seqbased_model.results.tsv\" , \"w\") as outfile :\n",
    "    for prot in TropiSeq_results :\n",
    "        if TropiSeq_results[prot] == \"No hits\" :\n",
    "            outfile.write(f\"{prot}\\tNo hits\\n\")\n",
    "        elif len(TropiSeq_results[prot]) == 0 :\n",
    "            outfile.write(f\"{prot}\\tNo hits\\n\")\n",
    "        else :\n",
    "            outfile.write(f\"{prot}\\t\")\n",
    "            hits = [f\"{kltype}:{round(score,3)}\" for kltype, score in TropiSeq_results[prot].items()]\n",
    "            outfile.write(\";\".join(hits))\n",
    "            outfile.write(\"\\n\")"
   ]
  },
  {
   "cell_type": "code",
   "execution_count": 88,
   "id": "eaf18125-6545-4209-9688-f114c07175fc",
   "metadata": {},
   "outputs": [],
   "source": [
    "with open(\"/media/concha-eloko/Linux/PPT_clean/Seqbased_model.results.tsv\" , \"w\") as outfile :\n",
    "    for prot in TropiSeq_results :\n",
    "        if TropiSeq_results[prot] == \"No hits\" :\n",
    "            outfile.write(f\"{prot}\\tNo hits\\n\")\n",
    "        elif len(TropiSeq_results[prot]) == 0 :\n",
    "            outfile.write(f\"{prot}\\tNo hits\\n\")\n",
    "        else :\n",
    "            outfile.write(f\"{prot}\\t\")\n",
    "            hits = [f\"{kltype}:{round(score,3)}\" for kltype, score in TropiSeq_results[prot].items()]\n",
    "            outfile.write(\" ; \".join(hits))\n",
    "            outfile.write(\"\\n\")"
   ]
  },
  {
   "cell_type": "code",
   "execution_count": 56,
   "id": "a2fdbec3-ce92-4b35-a493-e70e77d001b1",
   "metadata": {
    "scrolled": true
   },
   "outputs": [
    {
     "name": "stdout",
     "output_type": "stream",
     "text": [
      "{'K10PH82C1__cds_50_A_5_301_819.pdb': 'No hits',\n",
      " 'K10PH82C1__cds_51_A_2_38_368.pdb': {},\n",
      " 'K11PH164C1__cds_45_A_5_356_700.pdb': 'No hits',\n",
      " 'K11PH164C1__cds_46_A_1_1_416.pdb': {},\n",
      " 'K13PH07C1S__cds_10_A_7_32_375.pdb': 'No hits',\n",
      " 'K13PH07C1S__cds_11_A_2_93_430.pdb': 'No hits',\n",
      " 'K14PH164C1__cds_24_A_4_221_871.pdb': {},\n",
      " 'K15PH90__cds_55_A.pdb': {'KL136': 1, 'KL15': 1},\n",
      " 'K16PH164C3__cds_48_A_3_292_776.pdb': {'KL16': 1},\n",
      " 'K17alfa61__cds_23_A_4_179_630.pdb': 'No hits',\n",
      " 'K17alfa62__cds_64_A_3_129_548.pdb': {'KL17': 1},\n",
      " 'K1PH164C1__cds_8_A_2_69_559.pdb': 'No hits',\n",
      " 'K21lambda1__cds_28_A.pdb': {'KL124': 1, 'KL125': 1, 'KL21': 1, 'KL30': 1, 'KL31': 1, 'KL39': 1},\n",
      " 'K22PH164C1__cds_10_A_1_1_368.pdb': {'KL111': 1},\n",
      " 'K23PH08C2__cds_233_A_2_76_514.pdb': {'KL23': 1},\n",
      " 'K24PH164C1__cds_8_A_2_85_402.pdb': {'KL112': 1, 'KL19': 1, 'KL21': 1, 'KL24': 1, 'KL28': 1, 'KL39': 1},\n",
      " 'K25PH129C1__cds_60_A_5_311_671.pdb': {'KL25': 1},\n",
      " 'K26PH128C1__cds_49_A_3_291_808.pdb': {'KL74': 1},\n",
      " 'K26PH128C1__cds_50_A_1_97_595.pdb': {'KL24': 1},\n",
      " 'K27PH129C1__cds_48_A_7_200_648.pdb': {'KL20': 1, 'KL27': 1},\n",
      " 'K2PH164C1__cds_23_A_6_269_664.pdb': 'No hits',\n",
      " 'K2PH164C2__cds_24_A_6_274_608.pdb': {'KL2': 1},\n",
      " 'K2alfa62__cds_23_A_6_269_671.pdb': 'No hits',\n",
      " 'K35PH164C3__cds_48_A_4_282_728.pdb': {},\n",
      " 'K37PH164C1__cds_47_A_1_1_307.pdb': {'KL111': 1},\n",
      " 'K37PH164C1__cds_48_A_2_37_367.pdb': {'KL2': 1},\n",
      " 'K38PH09C2__cds_24_A_4_178_672.pdb': {'KL38': 1},\n",
      " 'K39PH122C2__cds_55_A_5_286_658.pdb': {'KL106': 1, 'KL110': 1},\n",
      " 'K39PH122C2__cds_8_A_4_33_387.pdb': 'No hits',\n",
      " 'K40PH129C1__cds_56_A_4_239_860.pdb': 'No hits',\n",
      " 'K41P2__cds_11_A_7_188_506.pdb': {'KL60': 1},\n",
      " 'K43PH164C1__cds_40_A_3_296_718.pdb': {'KL102': 1},\n",
      " 'K43PH164C1__cds_41_A_3_32_385.pdb': {'KL145': 1, 'KL18': 1},\n",
      " 'K44PH129C1__cds_10_A_3_35_538.pdb': {'KL142': 1},\n",
      " 'K44PH129C1__cds_9_A_2_39_391.pdb': {'KL111': 1},\n",
      " 'K45PH128C2__cds_237_A_3_76_463.pdb': {'KL45': 1},\n",
      " 'K45PH128C2__cds_239_A_1_186_411.pdb': {'KL63': 1},\n",
      " 'K46PH129__cds_24_A_8_222_596.pdb': {'KL122': 1, 'KL136': 1},\n",
      " 'K48PH164C1__cds_49_A_3_306_628.pdb': {'KL128': 1, 'KL22': 1},\n",
      " 'K4PH164__cds_22_A_1_53_402.pdb': {},\n",
      " 'K51PH129C1__cds_9_A_1_92_787.pdb': {'KL51': 1},\n",
      " 'K53PH164C2__cds_24_A_4_200_777.pdb': {},\n",
      " 'K54lambda1_1_1__cds_238_A_1_78_646.pdb': {'KL24': 1},\n",
      " 'K54lambda2__cds_23_A_7_214_582.pdb': 'No hits',\n",
      " 'K56PH164C1__cds_48_A_5_293_702.pdb': 'No hits',\n",
      " 'K56PH164C1__cds_49_A_3_110_475.pdb': {'KL56': 1},\n",
      " 'K57lambda1_2__cds_92_A_3_120_506.pdb': {},\n",
      " 'K57lambda1_2__cds_93_A_4_251_900.pdb': {},\n",
      " 'K58PH129C2__cds_47_A_2_38_516.pdb': {},\n",
      " 'K5lambda5__cds_196_A_4_457_808.pdb': {'KL145': 1, 'KL18': 1},\n",
      " 'K5lambda5__cds_198_A_3_173_674.pdb': {'KL27': 1},\n",
      " 'K5lambda5__cds_199_A_2_109_658.pdb': 'No hits',\n",
      " 'K5lambda5__cds_200_A_2_111_443.pdb': {'KL116': 1},\n",
      " 'K60PH164C1__cds_94_A_3_119_467.pdb': {'KL145': 1, 'KL18': 1},\n",
      " 'K60PH164C1__cds_96_A_6_321_703.pdb': {'KL71': 1},\n",
      " 'K61PH164C1__cds_10_A_3_80_443.pdb': {'KL151': 1},\n",
      " 'K61PH164C1__cds_9_A_1_1_387.pdb': {},\n",
      " 'K63PH128__cds_22_A_5_260_714.pdb': {'KL63': 1},\n",
      " 'K64PH164C4__cds_24_A_4_178_852.pdb': {'KL64': 1},\n",
      " 'K65PH164__cds_12_A_5_181_627.pdb': {'KL60': 1},\n",
      " 'K66PH128C1__cds_59_A_4_252_713.pdb': {'KL66': 1},\n",
      " 'K6PH25C3__cds_23_A_3_206_691.pdb': 'No hits',\n",
      " 'K71PH129C1__cds_55_A_5_295_682.pdb': {'KL45': 1},\n",
      " 'K74PH129C2__cds_51_A_3_291_808.pdb': {'KL74': 1},\n",
      " 'K74PH129C2__cds_52_A_2_34_431.pdb': {'KL43': 1},\n",
      " 'K80PH1317a__cds_52_A_5_302_576.pdb': {'KL74': 1},\n",
      " 'K80PH1317a__cds_53_A.pdb': {'KL74': 1},\n",
      " 'K80PH1317a__cds_54_A_2_36_354.pdb': {'KL15': 1},\n",
      " 'K80PH1317b__cds_52_A_5_302_606.pdb': {'KL74': 1},\n",
      " 'K80PH1317b__cds_53_A.pdb': 'No hits',\n",
      " 'K80PH1317b__cds_54_A_2_36_354.pdb': {'KL15': 1},\n",
      " 'K82P1__cds_45_A_5_292_704.pdb': 'No hits',\n",
      " 'K82P1__cds_46_A_2_94_449.pdb': 'No hits',\n",
      " 'K8PH128__cds_46_A_5_294_719.pdb': 'No hits'}\n"
     ]
    }
   ],
   "source": [
    "import pprint\n",
    "pp = pprint.PrettyPrinter(width = 150, sort_dicts = True, compact = True)\n",
    "out = pp.pprint(TropiSeq_results)\n"
   ]
  },
  {
   "cell_type": "code",
   "execution_count": 80,
   "id": "04957ec3-aeb1-4cd4-81bb-f8f288235c90",
   "metadata": {},
   "outputs": [],
   "source": [
    "TropiSeq_results = {'K10PH82C1__cds_50_A_5_301_819.pdb': 'No hits',\n",
    " 'K10PH82C1__cds_51_A_2_38_368.pdb': {},\n",
    " 'K11PH164C1__cds_45_A_5_356_700.pdb': 'No hits',\n",
    " 'K11PH164C1__cds_46_A_1_1_416.pdb': {},\n",
    " 'K13PH07C1S__cds_10_A_7_32_375.pdb': 'No hits',\n",
    " 'K13PH07C1S__cds_11_A_2_93_430.pdb': 'No hits',\n",
    " 'K14PH164C1__cds_24_A_4_221_871.pdb': {},\n",
    " 'K15PH90__cds_55_A.pdb': {'KL136': 1, 'KL15': 1},\n",
    " 'K16PH164C3__cds_48_A_3_292_776.pdb': {'KL16': 1},\n",
    " 'K17alfa61__cds_23_A_4_179_630.pdb': 'No hits',\n",
    " 'K17alfa62__cds_64_A_3_129_548.pdb': {'KL17': 1},\n",
    " 'K1PH164C1__cds_8_A_2_69_559.pdb': 'No hits',\n",
    " 'K21lambda1__cds_28_A.pdb': {'KL124': 1, 'KL125': 1, 'KL21': 1, 'KL30': 1, 'KL31': 1, 'KL39': 1},\n",
    " 'K22PH164C1__cds_10_A_1_1_368.pdb': {'KL111': 1},\n",
    " 'K23PH08C2__cds_233_A_2_76_514.pdb': {'KL23': 1},\n",
    " 'K24PH164C1__cds_8_A_2_85_402.pdb': {'KL112': 1, 'KL19': 1, 'KL21': 1, 'KL24': 1, 'KL28': 1, 'KL39': 1},\n",
    " 'K25PH129C1__cds_60_A_5_311_671.pdb': {'KL25': 1},\n",
    " 'K26PH128C1__cds_49_A_3_291_808.pdb': {'KL74': 1},\n",
    " 'K26PH128C1__cds_50_A_1_97_595.pdb': {'KL24': 1},\n",
    " 'K27PH129C1__cds_48_A_7_200_648.pdb': {'KL20': 1, 'KL27': 1},\n",
    " 'K2PH164C1__cds_23_A_6_269_664.pdb': 'No hits',\n",
    " 'K2PH164C2__cds_24_A_6_274_608.pdb': {'KL2': 1},\n",
    " 'K2alfa62__cds_23_A_6_269_671.pdb': 'No hits',\n",
    " 'K35PH164C3__cds_48_A_4_282_728.pdb': {},\n",
    " 'K37PH164C1__cds_47_A_1_1_307.pdb': {'KL111': 1},\n",
    " 'K37PH164C1__cds_48_A_2_37_367.pdb': {'KL2': 1},\n",
    " 'K38PH09C2__cds_24_A_4_178_672.pdb': {'KL38': 1},\n",
    " 'K39PH122C2__cds_55_A_5_286_658.pdb': {'KL106': 1, 'KL110': 1},\n",
    " 'K39PH122C2__cds_8_A_4_33_387.pdb': 'No hits',\n",
    " 'K40PH129C1__cds_56_A_4_239_860.pdb': 'No hits',\n",
    " 'K41P2__cds_11_A_7_188_506.pdb': {'KL60': 1},\n",
    " 'K43PH164C1__cds_40_A_3_296_718.pdb': {'KL102': 1},\n",
    " 'K43PH164C1__cds_41_A_3_32_385.pdb': {'KL145': 1, 'KL18': 1},\n",
    " 'K44PH129C1__cds_10_A_3_35_538.pdb': {'KL142': 1},\n",
    " 'K44PH129C1__cds_9_A_2_39_391.pdb': {'KL111': 1},\n",
    " 'K45PH128C2__cds_237_A_3_76_463.pdb': {'KL45': 1},\n",
    " 'K45PH128C2__cds_239_A_1_186_411.pdb': {'KL63': 1},\n",
    " 'K46PH129__cds_24_A_8_222_596.pdb': {'KL122': 1, 'KL136': 1},\n",
    " 'K48PH164C1__cds_49_A_3_306_628.pdb': {'KL128': 1, 'KL22': 1},\n",
    " 'K4PH164__cds_22_A_1_53_402.pdb': {},\n",
    " 'K51PH129C1__cds_9_A_1_92_787.pdb': {'KL51': 1},\n",
    " 'K53PH164C2__cds_24_A_4_200_777.pdb': {},\n",
    " 'K54lambda1_1_1__cds_238_A_1_78_646.pdb': {'KL24': 1},\n",
    " 'K54lambda2__cds_23_A_7_214_582.pdb': 'No hits',\n",
    " 'K56PH164C1__cds_48_A_5_293_702.pdb': 'No hits',\n",
    " 'K56PH164C1__cds_49_A_3_110_475.pdb': {'KL56': 1},\n",
    " 'K57lambda1_2__cds_92_A_3_120_506.pdb': {},\n",
    " 'K57lambda1_2__cds_93_A_4_251_900.pdb': {},\n",
    " 'K58PH129C2__cds_47_A_2_38_516.pdb': {},\n",
    " 'K5lambda5__cds_196_A_4_457_808.pdb': {'KL145': 1, 'KL18': 1},\n",
    " 'K5lambda5__cds_198_A_3_173_674.pdb': {'KL27': 1},\n",
    " 'K5lambda5__cds_199_A_2_109_658.pdb': 'No hits',\n",
    " 'K5lambda5__cds_200_A_2_111_443.pdb': {'KL116': 1},\n",
    " 'K60PH164C1__cds_94_A_3_119_467.pdb': {'KL145': 1, 'KL18': 1},\n",
    " 'K60PH164C1__cds_96_A_6_321_703.pdb': {'KL71': 1},\n",
    " 'K61PH164C1__cds_10_A_3_80_443.pdb': {'KL151': 1},\n",
    " 'K61PH164C1__cds_9_A_1_1_387.pdb': {},\n",
    " 'K63PH128__cds_22_A_5_260_714.pdb': {'KL63': 1},\n",
    " 'K64PH164C4__cds_24_A_4_178_852.pdb': {'KL64': 1},\n",
    " 'K65PH164__cds_12_A_5_181_627.pdb': {'KL60': 1},\n",
    " 'K66PH128C1__cds_59_A_4_252_713.pdb': {'KL66': 1},\n",
    " 'K6PH25C3__cds_23_A_3_206_691.pdb': 'No hits',\n",
    " 'K71PH129C1__cds_55_A_5_295_682.pdb': {'KL45': 1},\n",
    " 'K74PH129C2__cds_51_A_3_291_808.pdb': {'KL74': 1},\n",
    " 'K74PH129C2__cds_52_A_2_34_431.pdb': {'KL43': 1},\n",
    " 'K80PH1317a__cds_52_A_5_302_576.pdb': {'KL74': 1},\n",
    " 'K80PH1317a__cds_53_A.pdb': {'KL74': 1},\n",
    " 'K80PH1317a__cds_54_A_2_36_354.pdb': {'KL15': 1},\n",
    " 'K80PH1317b__cds_52_A_5_302_606.pdb': {'KL74': 1},\n",
    " 'K80PH1317b__cds_53_A.pdb': 'No hits',\n",
    " 'K80PH1317b__cds_54_A_2_36_354.pdb': {'KL15': 1},\n",
    " 'K82P1__cds_45_A_5_292_704.pdb': 'No hits',\n",
    " 'K82P1__cds_46_A_2_94_449.pdb': 'No hits',\n",
    " 'K8PH128__cds_46_A_5_294_719.pdb': 'No hits'}"
   ]
  },
  {
   "cell_type": "code",
   "execution_count": 84,
   "id": "064461d1-b410-47b1-8d4c-b4e5b395755e",
   "metadata": {},
   "outputs": [],
   "source": [
    "\n",
    "with open(\"/media/concha-eloko/Linux/PPT_clean/Seqbased_model.results.tsv\" , \"w\") as outfile :\n",
    "    for prot in TropiSeq_results :\n",
    "        if TropiSeq_results[prot] == \"No hits\" :\n",
    "            outfile.write(f\"{prot}\\tNo hits\\n\")\n",
    "        elif len(TropiSeq_results[prot]) == 0 :\n",
    "            outfile.write(f\"{prot}\\tNo hits\\n\")\n",
    "        else :\n",
    "            outfile.write(f\"{prot}\\t\")\n",
    "            hits = [f\"{kltype}:{score}\" for kltype, score in TropiSeq_results[prot].items()]\n",
    "            outfile.write(\";\".join(hits))\n",
    "            outfile.write(\"\\n\")\n",
    "                "
   ]
  },
  {
   "cell_type": "markdown",
   "id": "280b1080-98e8-4a73-9917-5732d4f60dee",
   "metadata": {},
   "source": [
    "# "
   ]
  }
 ],
 "metadata": {
  "kernelspec": {
   "display_name": "ML_work_v2",
   "language": "python",
   "name": "ml_work_v2"
  },
  "language_info": {
   "codemirror_mode": {
    "name": "ipython",
    "version": 3
   },
   "file_extension": ".py",
   "mimetype": "text/x-python",
   "name": "python",
   "nbconvert_exporter": "python",
   "pygments_lexer": "ipython3",
   "version": "3.9.18"
  },
  "widgets": {
   "application/vnd.jupyter.widget-state+json": {
    "state": {},
    "version_major": 2,
    "version_minor": 0
   }
  }
 },
 "nbformat": 4,
 "nbformat_minor": 5
}
