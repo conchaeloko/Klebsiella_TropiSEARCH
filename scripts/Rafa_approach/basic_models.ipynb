{
 "cells": [
  {
   "cell_type": "markdown",
   "metadata": {},
   "source": [
    "# The pipeline : \n",
    "***\n",
    "### A. Load the files\n",
    "### B. Filter out the Dpo_cluster if present in less than n prophages\n",
    "### C. Chi2 the Dpo clusters if associated with a give KLtype ; Bonferonni correction\n",
    "### D. Build the model based on presence absence of one of the associated Dpo clusters\n",
    "### E. Model evaluation \n",
    "***"
   ]
  },
  {
   "cell_type": "markdown",
   "metadata": {},
   "source": [
    "> A"
   ]
  },
  {
   "cell_type": "code",
   "execution_count": null,
   "metadata": {},
   "outputs": [],
   "source": [
    "import os\n",
    "import pandas as pd \n",
    "\n",
    "path_work = \"/home/conchae/prediction_depolymerase_tropism/prophage_prediction/depolymerase_decipher/ficheros_28032023/Rafa_task\"\n",
    "path_files = f\"{path_work}/sequence_similarity\"\n",
    "\n",
    "KL_types_DF = pd.read_csv(f\"{path_work}/DF_prophage_ID.KLtypes.0606.csv\", header = 0, sep = \"\\t\", index_col = 0)\n",
    "# The working file : \n",
    "df_proDpo = pd.read_csv(f\"{path_files}/prophage_Dpo.cdhit_0.8.csv\", header = 0 , sep = \"\\t\", index_col = 0)"
   ]
  },
  {
   "cell_type": "markdown",
   "metadata": {},
   "source": [
    "***\n",
    ">B"
   ]
  },
  {
   "cell_type": "code",
   "execution_count": null,
   "metadata": {},
   "outputs": [],
   "source": [
    "dpo_filter = 20\n",
    "\n",
    "df_proDpo_filtered =  df_proDpo[[dpo_cluster for dpo_cluster in df_proDpo.columns if sum(df_proDpo[dpo_cluster]) >= dpo_filter]]"
   ]
  },
  {
   "cell_type": "markdown",
   "metadata": {},
   "source": [
    "***\n",
    ">C"
   ]
  },
  {
   "cell_type": "markdown",
   "metadata": {},
   "source": [
    "The fisher test version : "
   ]
  },
  {
   "cell_type": "code",
   "execution_count": null,
   "metadata": {
    "jupyter": {
     "source_hidden": true
    }
   },
   "outputs": [],
   "source": [
    "def calculate_fisher(df_proDpo, KL_types_DF):\n",
    "    results = []\n",
    "    for Dpo_cluster in df_proDpo.columns:\n",
    "        for KLtype in KL_types_DF.columns:\n",
    "            # Build contingency table\n",
    "            contingency_table = pd.crosstab(df_proDpo[Dpo_cluster], KL_types_DF[KLtype])\n",
    "            # Calculate Fisher's exact test\n",
    "            _, p = fisher_exact(contingency_table)\n",
    "            results.append([Dpo_cluster, KLtype, p])\n",
    "    # Convert results to DataFrame\n",
    "    results_df = pd.DataFrame(results, columns=['Dpo_cluster', 'KLtype', 'Pvalue'])\n",
    "    # Correct p-values for multiple testing\n",
    "    reject, pvals_corrected, _, _ = multipletests(results_df['Pvalue'], method='bonferroni')\n",
    "    results_df['Pvalue_corrected'] = pvals_corrected\n",
    "    significant_results_df = results_df[results_df['Pvalue_corrected'] < 0.05]\n",
    "\n",
    "    return significant_results_df"
   ]
  },
  {
   "cell_type": "markdown",
   "metadata": {},
   "source": [
    "The Chi2 test version : "
   ]
  },
  {
   "cell_type": "code",
   "execution_count": null,
   "metadata": {},
   "outputs": [],
   "source": [
    "import os \n",
    "import pandas as pd\n",
    "os.environ['OPENBLAS_NUM_THREADS'] = '4'\n",
    "from scipy.stats import chi2_contingency\n",
    "from statsmodels.sandbox.stats.multicomp import multipletests\n",
    "from scipy.stats import fisher_exact\n",
    "\n",
    "def calculate_chi2(df_proDpo, KL_types_DF):\n",
    "    results = []\n",
    "    for KLtype in KL_types_DF.columns:\n",
    "        for Dpo_cluster in df_proDpo.columns:\n",
    "            contingency_table = pd.crosstab(df_proDpo[Dpo_cluster], KL_types_DF[KLtype])\n",
    "            chi2, p, _, _ = chi2_contingency(contingency_table)\n",
    "            results.append([Dpo_cluster, KLtype, chi2, p])\n",
    "    results_df = pd.DataFrame(results, columns=['Dpo_cluster', 'KLtype', 'Chi2', 'Pvalue'])\n",
    "    # Bonferonni correction : \n",
    "    results_df['Pvalue_corrected'] = results_df[\"Pvalue\"].apply(lambda x : x * len(df_proDpo.columns))\n",
    "    significant_results_df = results_df[results_df['Pvalue_corrected'] < 0.05]\n",
    "    return significant_results_df , results_df\n",
    "\n",
    "df_result , df_raw = calculate_chi2(df_proDpo_filtered, KL_types_DF)"
   ]
  },
  {
   "cell_type": "markdown",
   "metadata": {},
   "source": [
    ">D"
   ]
  },
  {
   "cell_type": "code",
   "execution_count": null,
   "metadata": {},
   "outputs": [],
   "source": [
    "with open(f\"{path_work}/CrossTab.KLtypes.20.tsv\",\"w\") as outfile : \n",
    "    outfile.write(f\"KLtype\\t00\\t01\\t10\\t11\\tDpo_clusters\\n\")\n",
    "    for KLtype in df_result[\"KLtype\"].unique() : \n",
    "        dpo_cluster_interest = df_result[df_result[\"KLtype\"] == KLtype][\"Dpo_cluster\"].values.tolist()\n",
    "        df_dpo_filtered = df_proDpo_filtered[dpo_cluster_interest].copy()\n",
    "        df_dpo_filtered[\"presence_dpo\"] = df_dpo_filtered.apply(lambda x : 1 if x.values.sum() > 0 else 0, axis = 1)\n",
    "        contingency_kl = pd.crosstab(df_dpo_filtered[\"presence_dpo\"], KL_types_DF[KLtype])\n",
    "        outfile.write(f\"{KLtype}\\t{contingency_kl[0][0]}\\t{contingency_kl[0][1]}\\t{contingency_kl[1][0]}\\t{contingency_kl[1][1]}\\t{','.join(dpo_cluster_interest)}\\n\")\n",
    "        print(contingency_kl.values)\n",
    "        \n",
    "        "
   ]
  },
  {
   "cell_type": "code",
   "execution_count": null,
   "metadata": {},
   "outputs": [],
   "source": [
    "for KLtype in df_result[\"KLtype\"].unique() : \n",
    "    dpo_cluster_interest = df_result[df_result[\"KLtype\"] == KLtype][\"Dpo_cluster\"].values.tolist()\n",
    "    df_dpo_filtered = df_proDpo_filtered[dpo_cluster_interest].copy()\n",
    "    print(KLtype , dpo_cluster_interest , \"\\n\")\n",
    "    df_dpo_filtered[\"presence_dpo\"] = df_dpo_filtered.apply(lambda x : 1 if x.values.sum() > 0 else 0, axis = 1)\n",
    "    contingency_kl = pd.crosstab(df_dpo_filtered[\"presence_dpo\"], KL_types_DF[KLtype])"
   ]
  },
  {
   "cell_type": "code",
   "execution_count": null,
   "metadata": {},
   "outputs": [],
   "source": [
    "df_result[(df_result[\"KLtype\"] == \"KL64\") & (df_result[\"Dpo_cluster\"] == \"Dpo_cdhit_134\")]"
   ]
  },
  {
   "cell_type": "code",
   "execution_count": null,
   "metadata": {},
   "outputs": [],
   "source": [
    "rsync -avzhe ssh \\\n",
    "conchae@garnatxa.srv.cpd:/home/conchae/prediction_depolymerase_tropism/prophage_prediction/depolymerase_decipher/ficheros_28032023/Rafa_task/CrossTab.KLtypes.3.tsv \\\n",
    "/media/concha-eloko/Linux/PPT_clean\n",
    "\n",
    "rsync -avzhe ssh \\\n",
    "conchae@garnatxa.srv.cpd:/home/conchae/prediction_depolymerase_tropism/prophage_prediction/depolymerase_decipher/ficheros_28032023/Rafa_task/CrossTab.KLtypes.20.tsv \\\n",
    "/media/concha-eloko/Linux/PPT_clean"
   ]
  }
 ],
 "metadata": {
  "kernelspec": {
   "display_name": "sklearn-env",
   "language": "python",
   "name": "sklearn-env"
  },
  "language_info": {
   "codemirror_mode": {
    "name": "ipython",
    "version": 3
   },
   "file_extension": ".py",
   "mimetype": "text/x-python",
   "name": "python",
   "nbconvert_exporter": "python",
   "pygments_lexer": "ipython3",
   "version": "3.8.16"
  }
 },
 "nbformat": 4,
 "nbformat_minor": 4
}
