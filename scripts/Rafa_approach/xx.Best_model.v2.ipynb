{
 "cells": [
  {
   "cell_type": "code",
   "execution_count": null,
   "id": "7d9ad3df-def3-4180-a0c1-e531b8f948dc",
   "metadata": {},
   "outputs": [],
   "source": [
    "rsync -avzhe ssh \\\n",
    "conchae@garnatxa.srv.cpd:/home/conchae/prediction_depolymerase_tropism/prophage_prediction/depolymerase_decipher/ficheros_28032023/Seqbased_model/RF_1302_models \\\n",
    "/media/concha-eloko/Linux/PPT_clean/ficheros_28032023\n"
   ]
  },
  {
   "cell_type": "markdown",
   "id": "a1cab11f-4c71-44d2-9741-d720e3b2e7ab",
   "metadata": {},
   "source": [
    "***\n",
    "### Load Data :"
   ]
  },
  {
   "cell_type": "code",
   "execution_count": 1,
   "id": "b0f74dd6-84d6-46e0-9284-58dda610c393",
   "metadata": {},
   "outputs": [],
   "source": [
    "import os\n",
    "import pandas as pd\n",
    "import numpy as np\n",
    "from tqdm import tqdm\n",
    "from itertools import product\n",
    "import random\n",
    "from collections import Counter, defaultdict\n",
    "import warnings\n",
    "import logging\n",
    "import subprocess\n",
    "from multiprocessing.pool import ThreadPool\n",
    "import joblib\n",
    "\n",
    "# SCikitlearn modules :\n",
    "from sklearn.ensemble import RandomForestClassifier\n",
    "from sklearn.preprocessing import LabelEncoder\n",
    "from sklearn.model_selection import train_test_split, RandomizedSearchCV, StratifiedKFold\n",
    "from sklearn.metrics import classification_report , roc_auc_score, matthews_corrcoef\n",
    "from sklearn.metrics import roc_auc_score\n",
    "\n",
    "# Scipy modules : \n",
    "from scipy.stats import fisher_exact\n",
    "#from skopt import BayesSearchCV\n",
    "#from skopt.space import Real, Categorical, Integer\n",
    "from statistics import mean\n",
    "\n",
    "path_work = \"/media/concha-eloko/Linux/PPT_clean\"\n",
    "path_jobs = \"/media/concha-eloko/Linux/PPT_clean/ficheros_28032023/RF_1302_models\""
   ]
  },
  {
   "cell_type": "markdown",
   "id": "e331ff93-b220-4b91-b952-b4cc91488bb2",
   "metadata": {},
   "source": [
    "> Set the count prophage dico : "
   ]
  },
  {
   "cell_type": "code",
   "execution_count": 2,
   "id": "10d6ffed-4461-4de5-a33b-bc3f31b8a5ac",
   "metadata": {
    "jupyter": {
     "source_hidden": true
    }
   },
   "outputs": [
    {
     "name": "stderr",
     "output_type": "stream",
     "text": [
      "100%|█████████████████████████████████████████████████████████████████████████████████████████████████████████████████████| 15981/15981 [00:22<00:00, 718.88it/s]\n"
     ]
    }
   ],
   "source": [
    "DF_info = pd.read_csv(f\"{path_work}/TropiGATv2.final_df_v2.tsv\", sep = \"\\t\" ,  header = 0)\n",
    "\n",
    "DF_info = DF_info.drop_duplicates(subset = [\"Protein_name\"])\n",
    "\n",
    "df_prophages = DF_info.drop_duplicates(subset = [\"Phage\"], keep = \"first\")\n",
    "dico_prophage_info = {row[\"Phage\"] : {\"prophage_strain\" : row[\"prophage_id\"] , \"ancestor\" : row[\"Infected_ancestor\"]} for _,row in df_prophages.iterrows()}\n",
    "\n",
    "def get_filtered_prophages(prophage) :\n",
    "    combinations = []\n",
    "    to_exclude = set()\n",
    "    to_keep = set()\n",
    "    to_keep.add(prophage)\n",
    "    df_prophage_group = DF_info[(DF_info[\"prophage_id\"] == dico_prophage_info[prophage][\"prophage_strain\"]) & (DF_info[\"Infected_ancestor\"] == dico_prophage_info[prophage][\"ancestor\"])]\n",
    "    if len(df_prophage_group) == 1 :\n",
    "        pass\n",
    "    else :\n",
    "        depo_set = set(df_prophage_group[df_prophage_group[\"Phage\"] == prophage][\"domain_seq\"].values)\n",
    "        for prophage_tmp in df_prophage_group[\"Phage\"].unique().tolist() :\n",
    "            if prophage_tmp != prophage :\n",
    "                tmp_depo_set = set(df_prophage_group[df_prophage_group[\"Phage\"] == prophage_tmp][\"domain_seq\"].values)\n",
    "                if depo_set == tmp_depo_set :\n",
    "                    to_exclude.add(prophage_tmp)\n",
    "                else :\n",
    "                    if tmp_depo_set not in combinations :\n",
    "                        to_keep.add(prophage_tmp)\n",
    "                        combinations.append(tmp_depo_set)\n",
    "                    else :\n",
    "                        to_exclude.add(prophage_tmp)\n",
    "    return df_prophage_group , to_exclude , to_keep\n",
    "\n",
    "good_prophages = set()\n",
    "excluded_prophages = set()\n",
    "\n",
    "for prophage, info_prophage in tqdm(dico_prophage_info.items()) :\n",
    "    if prophage not in excluded_prophages and prophage not in good_prophages:\n",
    "        _, excluded_members , kept_members = get_filtered_prophages(prophage)\n",
    "        good_prophages.update(kept_members)\n",
    "        excluded_prophages.update(excluded_members)\n",
    "\n",
    "DF_info_lvl_0_filtered = DF_info[DF_info[\"Phage\"].isin(good_prophages)]\n",
    "DF_info_lvl_0_final = DF_info_lvl_0_filtered[~DF_info_lvl_0_filtered[\"KL_type_LCA\"].str.contains(\"\\\\|\")]\n",
    "DF_info_lvl_0 = DF_info_lvl_0_final.copy()\n",
    "\n",
    "df_prophages = DF_info_lvl_0.drop_duplicates(subset = [\"Phage\"])\n",
    "dico_prophage_count = dict(Counter(df_prophages[\"KL_type_LCA\"]))\n"
   ]
  },
  {
   "cell_type": "code",
   "execution_count": 13,
   "id": "f781017b-6bf4-403e-aacc-bde95d9137fd",
   "metadata": {
    "scrolled": true
   },
   "outputs": [
    {
     "data": {
      "text/plain": [
       "{'KL71': ['/media/concha-eloko/Linux/PPT_clean/ficheros_28032023/RF_1302_models/0.9_RF_KL71.full_data.joblib',\n",
       "  '/media/concha-eloko/Linux/PPT_clean/ficheros_28032023/RF_1302_models/0.75_RF_KL71.full_data.joblib',\n",
       "  '/media/concha-eloko/Linux/PPT_clean/ficheros_28032023/RF_1302_models/0.85_RF_KL71.full_data.joblib',\n",
       "  '/media/concha-eloko/Linux/PPT_clean/ficheros_28032023/RF_1302_models/0.8_RF_KL71.full_data.joblib',\n",
       "  '/media/concha-eloko/Linux/PPT_clean/ficheros_28032023/RF_1302_models/0.7_RF_KL71.full_data.joblib',\n",
       "  '/media/concha-eloko/Linux/PPT_clean/ficheros_28032023/RF_1302_models/0.975_RF_KL71.full_data.joblib',\n",
       "  '/media/concha-eloko/Linux/PPT_clean/ficheros_28032023/RF_1302_models/0.95_RF_KL71.full_data.joblib',\n",
       "  '/media/concha-eloko/Linux/PPT_clean/ficheros_28032023/RF_1302_models/0.65_RF_KL71.full_data.joblib'],\n",
       " 'KL139': ['/media/concha-eloko/Linux/PPT_clean/ficheros_28032023/RF_1302_models/0.75_RF_KL139.full_data.joblib',\n",
       "  '/media/concha-eloko/Linux/PPT_clean/ficheros_28032023/RF_1302_models/0.9_RF_KL139.full_data.joblib',\n",
       "  '/media/concha-eloko/Linux/PPT_clean/ficheros_28032023/RF_1302_models/0.85_RF_KL139.full_data.joblib',\n",
       "  '/media/concha-eloko/Linux/PPT_clean/ficheros_28032023/RF_1302_models/0.7_RF_KL139.full_data.joblib',\n",
       "  '/media/concha-eloko/Linux/PPT_clean/ficheros_28032023/RF_1302_models/0.65_RF_KL139.full_data.joblib',\n",
       "  '/media/concha-eloko/Linux/PPT_clean/ficheros_28032023/RF_1302_models/0.8_RF_KL139.full_data.joblib',\n",
       "  '/media/concha-eloko/Linux/PPT_clean/ficheros_28032023/RF_1302_models/0.975_RF_KL139.full_data.joblib',\n",
       "  '/media/concha-eloko/Linux/PPT_clean/ficheros_28032023/RF_1302_models/0.95_RF_KL139.full_data.joblib'],\n",
       " 'KL124': ['/media/concha-eloko/Linux/PPT_clean/ficheros_28032023/RF_1302_models/0.65_RF_KL124.full_data.joblib',\n",
       "  '/media/concha-eloko/Linux/PPT_clean/ficheros_28032023/RF_1302_models/0.8_RF_KL124.full_data.joblib',\n",
       "  '/media/concha-eloko/Linux/PPT_clean/ficheros_28032023/RF_1302_models/0.9_RF_KL124.full_data.joblib',\n",
       "  '/media/concha-eloko/Linux/PPT_clean/ficheros_28032023/RF_1302_models/0.75_RF_KL124.full_data.joblib',\n",
       "  '/media/concha-eloko/Linux/PPT_clean/ficheros_28032023/RF_1302_models/0.85_RF_KL124.full_data.joblib',\n",
       "  '/media/concha-eloko/Linux/PPT_clean/ficheros_28032023/RF_1302_models/0.95_RF_KL124.full_data.joblib',\n",
       "  '/media/concha-eloko/Linux/PPT_clean/ficheros_28032023/RF_1302_models/0.975_RF_KL124.full_data.joblib',\n",
       "  '/media/concha-eloko/Linux/PPT_clean/ficheros_28032023/RF_1302_models/0.7_RF_KL124.full_data.joblib'],\n",
       " 'KL15': ['/media/concha-eloko/Linux/PPT_clean/ficheros_28032023/RF_1302_models/0.9_RF_KL15.full_data.joblib',\n",
       "  '/media/concha-eloko/Linux/PPT_clean/ficheros_28032023/RF_1302_models/0.975_RF_KL15.full_data.joblib',\n",
       "  '/media/concha-eloko/Linux/PPT_clean/ficheros_28032023/RF_1302_models/0.8_RF_KL15.full_data.joblib',\n",
       "  '/media/concha-eloko/Linux/PPT_clean/ficheros_28032023/RF_1302_models/0.65_RF_KL15.full_data.joblib',\n",
       "  '/media/concha-eloko/Linux/PPT_clean/ficheros_28032023/RF_1302_models/0.95_RF_KL15.full_data.joblib',\n",
       "  '/media/concha-eloko/Linux/PPT_clean/ficheros_28032023/RF_1302_models/0.75_RF_KL15.full_data.joblib',\n",
       "  '/media/concha-eloko/Linux/PPT_clean/ficheros_28032023/RF_1302_models/0.7_RF_KL15.full_data.joblib',\n",
       "  '/media/concha-eloko/Linux/PPT_clean/ficheros_28032023/RF_1302_models/0.85_RF_KL15.full_data.joblib'],\n",
       " 'KL157': ['/media/concha-eloko/Linux/PPT_clean/ficheros_28032023/RF_1302_models/0.7_RF_KL157.full_data.joblib',\n",
       "  '/media/concha-eloko/Linux/PPT_clean/ficheros_28032023/RF_1302_models/0.65_RF_KL157.full_data.joblib',\n",
       "  '/media/concha-eloko/Linux/PPT_clean/ficheros_28032023/RF_1302_models/0.9_RF_KL157.full_data.joblib',\n",
       "  '/media/concha-eloko/Linux/PPT_clean/ficheros_28032023/RF_1302_models/0.75_RF_KL157.full_data.joblib',\n",
       "  '/media/concha-eloko/Linux/PPT_clean/ficheros_28032023/RF_1302_models/0.8_RF_KL157.full_data.joblib',\n",
       "  '/media/concha-eloko/Linux/PPT_clean/ficheros_28032023/RF_1302_models/0.95_RF_KL157.full_data.joblib',\n",
       "  '/media/concha-eloko/Linux/PPT_clean/ficheros_28032023/RF_1302_models/0.975_RF_KL157.full_data.joblib',\n",
       "  '/media/concha-eloko/Linux/PPT_clean/ficheros_28032023/RF_1302_models/0.85_RF_KL157.full_data.joblib'],\n",
       " 'KL145': ['/media/concha-eloko/Linux/PPT_clean/ficheros_28032023/RF_1302_models/0.95_RF_KL145.full_data.joblib',\n",
       "  '/media/concha-eloko/Linux/PPT_clean/ficheros_28032023/RF_1302_models/0.7_RF_KL145.full_data.joblib',\n",
       "  '/media/concha-eloko/Linux/PPT_clean/ficheros_28032023/RF_1302_models/0.65_RF_KL145.full_data.joblib',\n",
       "  '/media/concha-eloko/Linux/PPT_clean/ficheros_28032023/RF_1302_models/0.8_RF_KL145.full_data.joblib',\n",
       "  '/media/concha-eloko/Linux/PPT_clean/ficheros_28032023/RF_1302_models/0.85_RF_KL145.full_data.joblib',\n",
       "  '/media/concha-eloko/Linux/PPT_clean/ficheros_28032023/RF_1302_models/0.9_RF_KL145.full_data.joblib',\n",
       "  '/media/concha-eloko/Linux/PPT_clean/ficheros_28032023/RF_1302_models/0.975_RF_KL145.full_data.joblib',\n",
       "  '/media/concha-eloko/Linux/PPT_clean/ficheros_28032023/RF_1302_models/0.75_RF_KL145.full_data.joblib'],\n",
       " 'KL110': ['/media/concha-eloko/Linux/PPT_clean/ficheros_28032023/RF_1302_models/0.8_RF_KL110.full_data.joblib',\n",
       "  '/media/concha-eloko/Linux/PPT_clean/ficheros_28032023/RF_1302_models/0.65_RF_KL110.full_data.joblib',\n",
       "  '/media/concha-eloko/Linux/PPT_clean/ficheros_28032023/RF_1302_models/0.85_RF_KL110.full_data.joblib',\n",
       "  '/media/concha-eloko/Linux/PPT_clean/ficheros_28032023/RF_1302_models/0.9_RF_KL110.full_data.joblib',\n",
       "  '/media/concha-eloko/Linux/PPT_clean/ficheros_28032023/RF_1302_models/0.7_RF_KL110.full_data.joblib',\n",
       "  '/media/concha-eloko/Linux/PPT_clean/ficheros_28032023/RF_1302_models/0.975_RF_KL110.full_data.joblib',\n",
       "  '/media/concha-eloko/Linux/PPT_clean/ficheros_28032023/RF_1302_models/0.95_RF_KL110.full_data.joblib',\n",
       "  '/media/concha-eloko/Linux/PPT_clean/ficheros_28032023/RF_1302_models/0.75_RF_KL110.full_data.joblib'],\n",
       " 'KL125': ['/media/concha-eloko/Linux/PPT_clean/ficheros_28032023/RF_1302_models/0.65_RF_KL125.full_data.joblib',\n",
       "  '/media/concha-eloko/Linux/PPT_clean/ficheros_28032023/RF_1302_models/0.95_RF_KL125.full_data.joblib',\n",
       "  '/media/concha-eloko/Linux/PPT_clean/ficheros_28032023/RF_1302_models/0.975_RF_KL125.full_data.joblib',\n",
       "  '/media/concha-eloko/Linux/PPT_clean/ficheros_28032023/RF_1302_models/0.9_RF_KL125.full_data.joblib',\n",
       "  '/media/concha-eloko/Linux/PPT_clean/ficheros_28032023/RF_1302_models/0.75_RF_KL125.full_data.joblib',\n",
       "  '/media/concha-eloko/Linux/PPT_clean/ficheros_28032023/RF_1302_models/0.8_RF_KL125.full_data.joblib',\n",
       "  '/media/concha-eloko/Linux/PPT_clean/ficheros_28032023/RF_1302_models/0.7_RF_KL125.full_data.joblib',\n",
       "  '/media/concha-eloko/Linux/PPT_clean/ficheros_28032023/RF_1302_models/0.85_RF_KL125.full_data.joblib'],\n",
       " 'KL20': ['/media/concha-eloko/Linux/PPT_clean/ficheros_28032023/RF_1302_models/0.85_RF_KL20.full_data.joblib',\n",
       "  '/media/concha-eloko/Linux/PPT_clean/ficheros_28032023/RF_1302_models/0.9_RF_KL20.full_data.joblib',\n",
       "  '/media/concha-eloko/Linux/PPT_clean/ficheros_28032023/RF_1302_models/0.975_RF_KL20.full_data.joblib',\n",
       "  '/media/concha-eloko/Linux/PPT_clean/ficheros_28032023/RF_1302_models/0.95_RF_KL20.full_data.joblib',\n",
       "  '/media/concha-eloko/Linux/PPT_clean/ficheros_28032023/RF_1302_models/0.7_RF_KL20.full_data.joblib',\n",
       "  '/media/concha-eloko/Linux/PPT_clean/ficheros_28032023/RF_1302_models/0.65_RF_KL20.full_data.joblib',\n",
       "  '/media/concha-eloko/Linux/PPT_clean/ficheros_28032023/RF_1302_models/0.75_RF_KL20.full_data.joblib',\n",
       "  '/media/concha-eloko/Linux/PPT_clean/ficheros_28032023/RF_1302_models/0.8_RF_KL20.full_data.joblib'],\n",
       " 'KL107': ['/media/concha-eloko/Linux/PPT_clean/ficheros_28032023/RF_1302_models/0.95_RF_KL107.full_data.joblib',\n",
       "  '/media/concha-eloko/Linux/PPT_clean/ficheros_28032023/RF_1302_models/0.9_RF_KL107.full_data.joblib',\n",
       "  '/media/concha-eloko/Linux/PPT_clean/ficheros_28032023/RF_1302_models/0.7_RF_KL107.full_data.joblib',\n",
       "  '/media/concha-eloko/Linux/PPT_clean/ficheros_28032023/RF_1302_models/0.85_RF_KL107.full_data.joblib',\n",
       "  '/media/concha-eloko/Linux/PPT_clean/ficheros_28032023/RF_1302_models/0.75_RF_KL107.full_data.joblib',\n",
       "  '/media/concha-eloko/Linux/PPT_clean/ficheros_28032023/RF_1302_models/0.975_RF_KL107.full_data.joblib',\n",
       "  '/media/concha-eloko/Linux/PPT_clean/ficheros_28032023/RF_1302_models/0.8_RF_KL107.full_data.joblib',\n",
       "  '/media/concha-eloko/Linux/PPT_clean/ficheros_28032023/RF_1302_models/0.65_RF_KL107.full_data.joblib'],\n",
       " 'KL128': ['/media/concha-eloko/Linux/PPT_clean/ficheros_28032023/RF_1302_models/0.85_RF_KL128.full_data.joblib',\n",
       "  '/media/concha-eloko/Linux/PPT_clean/ficheros_28032023/RF_1302_models/0.75_RF_KL128.full_data.joblib',\n",
       "  '/media/concha-eloko/Linux/PPT_clean/ficheros_28032023/RF_1302_models/0.65_RF_KL128.full_data.joblib',\n",
       "  '/media/concha-eloko/Linux/PPT_clean/ficheros_28032023/RF_1302_models/0.8_RF_KL128.full_data.joblib',\n",
       "  '/media/concha-eloko/Linux/PPT_clean/ficheros_28032023/RF_1302_models/0.9_RF_KL128.full_data.joblib',\n",
       "  '/media/concha-eloko/Linux/PPT_clean/ficheros_28032023/RF_1302_models/0.7_RF_KL128.full_data.joblib',\n",
       "  '/media/concha-eloko/Linux/PPT_clean/ficheros_28032023/RF_1302_models/0.975_RF_KL128.full_data.joblib',\n",
       "  '/media/concha-eloko/Linux/PPT_clean/ficheros_28032023/RF_1302_models/0.95_RF_KL128.full_data.joblib'],\n",
       " 'KL38': ['/media/concha-eloko/Linux/PPT_clean/ficheros_28032023/RF_1302_models/0.95_RF_KL38.full_data.joblib',\n",
       "  '/media/concha-eloko/Linux/PPT_clean/ficheros_28032023/RF_1302_models/0.8_RF_KL38.full_data.joblib',\n",
       "  '/media/concha-eloko/Linux/PPT_clean/ficheros_28032023/RF_1302_models/0.9_RF_KL38.full_data.joblib',\n",
       "  '/media/concha-eloko/Linux/PPT_clean/ficheros_28032023/RF_1302_models/0.7_RF_KL38.full_data.joblib',\n",
       "  '/media/concha-eloko/Linux/PPT_clean/ficheros_28032023/RF_1302_models/0.65_RF_KL38.full_data.joblib',\n",
       "  '/media/concha-eloko/Linux/PPT_clean/ficheros_28032023/RF_1302_models/0.75_RF_KL38.full_data.joblib',\n",
       "  '/media/concha-eloko/Linux/PPT_clean/ficheros_28032023/RF_1302_models/0.975_RF_KL38.full_data.joblib',\n",
       "  '/media/concha-eloko/Linux/PPT_clean/ficheros_28032023/RF_1302_models/0.85_RF_KL38.full_data.joblib'],\n",
       " 'KL45': ['/media/concha-eloko/Linux/PPT_clean/ficheros_28032023/RF_1302_models/0.7_RF_KL45.full_data.joblib',\n",
       "  '/media/concha-eloko/Linux/PPT_clean/ficheros_28032023/RF_1302_models/0.75_RF_KL45.full_data.joblib',\n",
       "  '/media/concha-eloko/Linux/PPT_clean/ficheros_28032023/RF_1302_models/0.975_RF_KL45.full_data.joblib',\n",
       "  '/media/concha-eloko/Linux/PPT_clean/ficheros_28032023/RF_1302_models/0.9_RF_KL45.full_data.joblib',\n",
       "  '/media/concha-eloko/Linux/PPT_clean/ficheros_28032023/RF_1302_models/0.95_RF_KL45.full_data.joblib',\n",
       "  '/media/concha-eloko/Linux/PPT_clean/ficheros_28032023/RF_1302_models/0.8_RF_KL45.full_data.joblib',\n",
       "  '/media/concha-eloko/Linux/PPT_clean/ficheros_28032023/RF_1302_models/0.65_RF_KL45.full_data.joblib',\n",
       "  '/media/concha-eloko/Linux/PPT_clean/ficheros_28032023/RF_1302_models/0.85_RF_KL45.full_data.joblib'],\n",
       " 'KL8': ['/media/concha-eloko/Linux/PPT_clean/ficheros_28032023/RF_1302_models/0.95_RF_KL8.full_data.joblib',\n",
       "  '/media/concha-eloko/Linux/PPT_clean/ficheros_28032023/RF_1302_models/0.975_RF_KL8.full_data.joblib',\n",
       "  '/media/concha-eloko/Linux/PPT_clean/ficheros_28032023/RF_1302_models/0.8_RF_KL8.full_data.joblib',\n",
       "  '/media/concha-eloko/Linux/PPT_clean/ficheros_28032023/RF_1302_models/0.85_RF_KL8.full_data.joblib',\n",
       "  '/media/concha-eloko/Linux/PPT_clean/ficheros_28032023/RF_1302_models/0.65_RF_KL8.full_data.joblib',\n",
       "  '/media/concha-eloko/Linux/PPT_clean/ficheros_28032023/RF_1302_models/0.75_RF_KL8.full_data.joblib',\n",
       "  '/media/concha-eloko/Linux/PPT_clean/ficheros_28032023/RF_1302_models/0.9_RF_KL8.full_data.joblib',\n",
       "  '/media/concha-eloko/Linux/PPT_clean/ficheros_28032023/RF_1302_models/0.7_RF_KL8.full_data.joblib'],\n",
       " 'KL51': ['/media/concha-eloko/Linux/PPT_clean/ficheros_28032023/RF_1302_models/0.85_RF_KL51.full_data.joblib',\n",
       "  '/media/concha-eloko/Linux/PPT_clean/ficheros_28032023/RF_1302_models/0.75_RF_KL51.full_data.joblib',\n",
       "  '/media/concha-eloko/Linux/PPT_clean/ficheros_28032023/RF_1302_models/0.8_RF_KL51.full_data.joblib',\n",
       "  '/media/concha-eloko/Linux/PPT_clean/ficheros_28032023/RF_1302_models/0.65_RF_KL51.full_data.joblib',\n",
       "  '/media/concha-eloko/Linux/PPT_clean/ficheros_28032023/RF_1302_models/0.95_RF_KL51.full_data.joblib',\n",
       "  '/media/concha-eloko/Linux/PPT_clean/ficheros_28032023/RF_1302_models/0.975_RF_KL51.full_data.joblib',\n",
       "  '/media/concha-eloko/Linux/PPT_clean/ficheros_28032023/RF_1302_models/0.9_RF_KL51.full_data.joblib',\n",
       "  '/media/concha-eloko/Linux/PPT_clean/ficheros_28032023/RF_1302_models/0.7_RF_KL51.full_data.joblib'],\n",
       " 'KL5': ['/media/concha-eloko/Linux/PPT_clean/ficheros_28032023/RF_1302_models/0.975_RF_KL5.full_data.joblib',\n",
       "  '/media/concha-eloko/Linux/PPT_clean/ficheros_28032023/RF_1302_models/0.95_RF_KL5.full_data.joblib',\n",
       "  '/media/concha-eloko/Linux/PPT_clean/ficheros_28032023/RF_1302_models/0.75_RF_KL5.full_data.joblib',\n",
       "  '/media/concha-eloko/Linux/PPT_clean/ficheros_28032023/RF_1302_models/0.65_RF_KL5.full_data.joblib',\n",
       "  '/media/concha-eloko/Linux/PPT_clean/ficheros_28032023/RF_1302_models/0.9_RF_KL5.full_data.joblib',\n",
       "  '/media/concha-eloko/Linux/PPT_clean/ficheros_28032023/RF_1302_models/0.7_RF_KL5.full_data.joblib',\n",
       "  '/media/concha-eloko/Linux/PPT_clean/ficheros_28032023/RF_1302_models/0.85_RF_KL5.full_data.joblib',\n",
       "  '/media/concha-eloko/Linux/PPT_clean/ficheros_28032023/RF_1302_models/0.8_RF_KL5.full_data.joblib'],\n",
       " 'KL137': ['/media/concha-eloko/Linux/PPT_clean/ficheros_28032023/RF_1302_models/0.8_RF_KL137.full_data.joblib',\n",
       "  '/media/concha-eloko/Linux/PPT_clean/ficheros_28032023/RF_1302_models/0.65_RF_KL137.full_data.joblib',\n",
       "  '/media/concha-eloko/Linux/PPT_clean/ficheros_28032023/RF_1302_models/0.95_RF_KL137.full_data.joblib',\n",
       "  '/media/concha-eloko/Linux/PPT_clean/ficheros_28032023/RF_1302_models/0.85_RF_KL137.full_data.joblib',\n",
       "  '/media/concha-eloko/Linux/PPT_clean/ficheros_28032023/RF_1302_models/0.7_RF_KL137.full_data.joblib',\n",
       "  '/media/concha-eloko/Linux/PPT_clean/ficheros_28032023/RF_1302_models/0.9_RF_KL137.full_data.joblib',\n",
       "  '/media/concha-eloko/Linux/PPT_clean/ficheros_28032023/RF_1302_models/0.975_RF_KL137.full_data.joblib',\n",
       "  '/media/concha-eloko/Linux/PPT_clean/ficheros_28032023/RF_1302_models/0.75_RF_KL137.full_data.joblib'],\n",
       " 'KL103': ['/media/concha-eloko/Linux/PPT_clean/ficheros_28032023/RF_1302_models/0.975_RF_KL103.full_data.joblib',\n",
       "  '/media/concha-eloko/Linux/PPT_clean/ficheros_28032023/RF_1302_models/0.9_RF_KL103.full_data.joblib',\n",
       "  '/media/concha-eloko/Linux/PPT_clean/ficheros_28032023/RF_1302_models/0.75_RF_KL103.full_data.joblib',\n",
       "  '/media/concha-eloko/Linux/PPT_clean/ficheros_28032023/RF_1302_models/0.65_RF_KL103.full_data.joblib',\n",
       "  '/media/concha-eloko/Linux/PPT_clean/ficheros_28032023/RF_1302_models/0.85_RF_KL103.full_data.joblib',\n",
       "  '/media/concha-eloko/Linux/PPT_clean/ficheros_28032023/RF_1302_models/0.8_RF_KL103.full_data.joblib',\n",
       "  '/media/concha-eloko/Linux/PPT_clean/ficheros_28032023/RF_1302_models/0.7_RF_KL103.full_data.joblib',\n",
       "  '/media/concha-eloko/Linux/PPT_clean/ficheros_28032023/RF_1302_models/0.95_RF_KL103.full_data.joblib'],\n",
       " 'KL29': ['/media/concha-eloko/Linux/PPT_clean/ficheros_28032023/RF_1302_models/0.65_RF_KL29.full_data.joblib',\n",
       "  '/media/concha-eloko/Linux/PPT_clean/ficheros_28032023/RF_1302_models/0.975_RF_KL29.full_data.joblib',\n",
       "  '/media/concha-eloko/Linux/PPT_clean/ficheros_28032023/RF_1302_models/0.9_RF_KL29.full_data.joblib',\n",
       "  '/media/concha-eloko/Linux/PPT_clean/ficheros_28032023/RF_1302_models/0.75_RF_KL29.full_data.joblib',\n",
       "  '/media/concha-eloko/Linux/PPT_clean/ficheros_28032023/RF_1302_models/0.8_RF_KL29.full_data.joblib',\n",
       "  '/media/concha-eloko/Linux/PPT_clean/ficheros_28032023/RF_1302_models/0.7_RF_KL29.full_data.joblib',\n",
       "  '/media/concha-eloko/Linux/PPT_clean/ficheros_28032023/RF_1302_models/0.95_RF_KL29.full_data.joblib',\n",
       "  '/media/concha-eloko/Linux/PPT_clean/ficheros_28032023/RF_1302_models/0.85_RF_KL29.full_data.joblib'],\n",
       " 'KL6': ['/media/concha-eloko/Linux/PPT_clean/ficheros_28032023/RF_1302_models/0.65_RF_KL6.full_data.joblib',\n",
       "  '/media/concha-eloko/Linux/PPT_clean/ficheros_28032023/RF_1302_models/0.8_RF_KL6.full_data.joblib',\n",
       "  '/media/concha-eloko/Linux/PPT_clean/ficheros_28032023/RF_1302_models/0.7_RF_KL6.full_data.joblib',\n",
       "  '/media/concha-eloko/Linux/PPT_clean/ficheros_28032023/RF_1302_models/0.9_RF_KL6.full_data.joblib',\n",
       "  '/media/concha-eloko/Linux/PPT_clean/ficheros_28032023/RF_1302_models/0.975_RF_KL6.full_data.joblib',\n",
       "  '/media/concha-eloko/Linux/PPT_clean/ficheros_28032023/RF_1302_models/0.85_RF_KL6.full_data.joblib',\n",
       "  '/media/concha-eloko/Linux/PPT_clean/ficheros_28032023/RF_1302_models/0.75_RF_KL6.full_data.joblib',\n",
       "  '/media/concha-eloko/Linux/PPT_clean/ficheros_28032023/RF_1302_models/0.95_RF_KL6.full_data.joblib'],\n",
       " 'KL61': ['/media/concha-eloko/Linux/PPT_clean/ficheros_28032023/RF_1302_models/0.8_RF_KL61.full_data.joblib',\n",
       "  '/media/concha-eloko/Linux/PPT_clean/ficheros_28032023/RF_1302_models/0.9_RF_KL61.full_data.joblib',\n",
       "  '/media/concha-eloko/Linux/PPT_clean/ficheros_28032023/RF_1302_models/0.975_RF_KL61.full_data.joblib',\n",
       "  '/media/concha-eloko/Linux/PPT_clean/ficheros_28032023/RF_1302_models/0.95_RF_KL61.full_data.joblib',\n",
       "  '/media/concha-eloko/Linux/PPT_clean/ficheros_28032023/RF_1302_models/0.65_RF_KL61.full_data.joblib',\n",
       "  '/media/concha-eloko/Linux/PPT_clean/ficheros_28032023/RF_1302_models/0.7_RF_KL61.full_data.joblib',\n",
       "  '/media/concha-eloko/Linux/PPT_clean/ficheros_28032023/RF_1302_models/0.75_RF_KL61.full_data.joblib',\n",
       "  '/media/concha-eloko/Linux/PPT_clean/ficheros_28032023/RF_1302_models/0.85_RF_KL61.full_data.joblib'],\n",
       " 'KL1': ['/media/concha-eloko/Linux/PPT_clean/ficheros_28032023/RF_1302_models/0.95_RF_KL1.full_data.joblib',\n",
       "  '/media/concha-eloko/Linux/PPT_clean/ficheros_28032023/RF_1302_models/0.75_RF_KL1.full_data.joblib',\n",
       "  '/media/concha-eloko/Linux/PPT_clean/ficheros_28032023/RF_1302_models/0.65_RF_KL1.full_data.joblib',\n",
       "  '/media/concha-eloko/Linux/PPT_clean/ficheros_28032023/RF_1302_models/0.85_RF_KL1.full_data.joblib',\n",
       "  '/media/concha-eloko/Linux/PPT_clean/ficheros_28032023/RF_1302_models/0.975_RF_KL1.full_data.joblib',\n",
       "  '/media/concha-eloko/Linux/PPT_clean/ficheros_28032023/RF_1302_models/0.7_RF_KL1.full_data.joblib',\n",
       "  '/media/concha-eloko/Linux/PPT_clean/ficheros_28032023/RF_1302_models/0.8_RF_KL1.full_data.joblib',\n",
       "  '/media/concha-eloko/Linux/PPT_clean/ficheros_28032023/RF_1302_models/0.9_RF_KL1.full_data.joblib'],\n",
       " 'KL136': ['/media/concha-eloko/Linux/PPT_clean/ficheros_28032023/RF_1302_models/0.8_RF_KL136.full_data.joblib',\n",
       "  '/media/concha-eloko/Linux/PPT_clean/ficheros_28032023/RF_1302_models/0.75_RF_KL136.full_data.joblib',\n",
       "  '/media/concha-eloko/Linux/PPT_clean/ficheros_28032023/RF_1302_models/0.95_RF_KL136.full_data.joblib',\n",
       "  '/media/concha-eloko/Linux/PPT_clean/ficheros_28032023/RF_1302_models/0.7_RF_KL136.full_data.joblib',\n",
       "  '/media/concha-eloko/Linux/PPT_clean/ficheros_28032023/RF_1302_models/0.65_RF_KL136.full_data.joblib',\n",
       "  '/media/concha-eloko/Linux/PPT_clean/ficheros_28032023/RF_1302_models/0.9_RF_KL136.full_data.joblib',\n",
       "  '/media/concha-eloko/Linux/PPT_clean/ficheros_28032023/RF_1302_models/0.975_RF_KL136.full_data.joblib',\n",
       "  '/media/concha-eloko/Linux/PPT_clean/ficheros_28032023/RF_1302_models/0.85_RF_KL136.full_data.joblib'],\n",
       " 'KL53': ['/media/concha-eloko/Linux/PPT_clean/ficheros_28032023/RF_1302_models/0.975_RF_KL53.full_data.joblib',\n",
       "  '/media/concha-eloko/Linux/PPT_clean/ficheros_28032023/RF_1302_models/0.85_RF_KL53.full_data.joblib',\n",
       "  '/media/concha-eloko/Linux/PPT_clean/ficheros_28032023/RF_1302_models/0.65_RF_KL53.full_data.joblib',\n",
       "  '/media/concha-eloko/Linux/PPT_clean/ficheros_28032023/RF_1302_models/0.7_RF_KL53.full_data.joblib',\n",
       "  '/media/concha-eloko/Linux/PPT_clean/ficheros_28032023/RF_1302_models/0.9_RF_KL53.full_data.joblib',\n",
       "  '/media/concha-eloko/Linux/PPT_clean/ficheros_28032023/RF_1302_models/0.95_RF_KL53.full_data.joblib',\n",
       "  '/media/concha-eloko/Linux/PPT_clean/ficheros_28032023/RF_1302_models/0.75_RF_KL53.full_data.joblib',\n",
       "  '/media/concha-eloko/Linux/PPT_clean/ficheros_28032023/RF_1302_models/0.8_RF_KL53.full_data.joblib'],\n",
       " 'KL17': ['/media/concha-eloko/Linux/PPT_clean/ficheros_28032023/RF_1302_models/0.75_RF_KL17.full_data.joblib',\n",
       "  '/media/concha-eloko/Linux/PPT_clean/ficheros_28032023/RF_1302_models/0.975_RF_KL17.full_data.joblib',\n",
       "  '/media/concha-eloko/Linux/PPT_clean/ficheros_28032023/RF_1302_models/0.9_RF_KL17.full_data.joblib',\n",
       "  '/media/concha-eloko/Linux/PPT_clean/ficheros_28032023/RF_1302_models/0.8_RF_KL17.full_data.joblib',\n",
       "  '/media/concha-eloko/Linux/PPT_clean/ficheros_28032023/RF_1302_models/0.85_RF_KL17.full_data.joblib',\n",
       "  '/media/concha-eloko/Linux/PPT_clean/ficheros_28032023/RF_1302_models/0.95_RF_KL17.full_data.joblib',\n",
       "  '/media/concha-eloko/Linux/PPT_clean/ficheros_28032023/RF_1302_models/0.65_RF_KL17.full_data.joblib',\n",
       "  '/media/concha-eloko/Linux/PPT_clean/ficheros_28032023/RF_1302_models/0.7_RF_KL17.full_data.joblib'],\n",
       " 'KL48': ['/media/concha-eloko/Linux/PPT_clean/ficheros_28032023/RF_1302_models/0.85_RF_KL48.full_data.joblib',\n",
       "  '/media/concha-eloko/Linux/PPT_clean/ficheros_28032023/RF_1302_models/0.7_RF_KL48.full_data.joblib',\n",
       "  '/media/concha-eloko/Linux/PPT_clean/ficheros_28032023/RF_1302_models/0.95_RF_KL48.full_data.joblib',\n",
       "  '/media/concha-eloko/Linux/PPT_clean/ficheros_28032023/RF_1302_models/0.975_RF_KL48.full_data.joblib',\n",
       "  '/media/concha-eloko/Linux/PPT_clean/ficheros_28032023/RF_1302_models/0.75_RF_KL48.full_data.joblib',\n",
       "  '/media/concha-eloko/Linux/PPT_clean/ficheros_28032023/RF_1302_models/0.8_RF_KL48.full_data.joblib',\n",
       "  '/media/concha-eloko/Linux/PPT_clean/ficheros_28032023/RF_1302_models/0.65_RF_KL48.full_data.joblib',\n",
       "  '/media/concha-eloko/Linux/PPT_clean/ficheros_28032023/RF_1302_models/0.9_RF_KL48.full_data.joblib'],\n",
       " 'KL105': ['/media/concha-eloko/Linux/PPT_clean/ficheros_28032023/RF_1302_models/0.975_RF_KL105.full_data.joblib',\n",
       "  '/media/concha-eloko/Linux/PPT_clean/ficheros_28032023/RF_1302_models/0.75_RF_KL105.full_data.joblib',\n",
       "  '/media/concha-eloko/Linux/PPT_clean/ficheros_28032023/RF_1302_models/0.8_RF_KL105.full_data.joblib',\n",
       "  '/media/concha-eloko/Linux/PPT_clean/ficheros_28032023/RF_1302_models/0.7_RF_KL105.full_data.joblib',\n",
       "  '/media/concha-eloko/Linux/PPT_clean/ficheros_28032023/RF_1302_models/0.65_RF_KL105.full_data.joblib',\n",
       "  '/media/concha-eloko/Linux/PPT_clean/ficheros_28032023/RF_1302_models/0.95_RF_KL105.full_data.joblib',\n",
       "  '/media/concha-eloko/Linux/PPT_clean/ficheros_28032023/RF_1302_models/0.85_RF_KL105.full_data.joblib',\n",
       "  '/media/concha-eloko/Linux/PPT_clean/ficheros_28032023/RF_1302_models/0.9_RF_KL105.full_data.joblib'],\n",
       " 'KL112': ['/media/concha-eloko/Linux/PPT_clean/ficheros_28032023/RF_1302_models/0.975_RF_KL112.full_data.joblib',\n",
       "  '/media/concha-eloko/Linux/PPT_clean/ficheros_28032023/RF_1302_models/0.7_RF_KL112.full_data.joblib',\n",
       "  '/media/concha-eloko/Linux/PPT_clean/ficheros_28032023/RF_1302_models/0.95_RF_KL112.full_data.joblib',\n",
       "  '/media/concha-eloko/Linux/PPT_clean/ficheros_28032023/RF_1302_models/0.9_RF_KL112.full_data.joblib',\n",
       "  '/media/concha-eloko/Linux/PPT_clean/ficheros_28032023/RF_1302_models/0.85_RF_KL112.full_data.joblib',\n",
       "  '/media/concha-eloko/Linux/PPT_clean/ficheros_28032023/RF_1302_models/0.65_RF_KL112.full_data.joblib',\n",
       "  '/media/concha-eloko/Linux/PPT_clean/ficheros_28032023/RF_1302_models/0.75_RF_KL112.full_data.joblib',\n",
       "  '/media/concha-eloko/Linux/PPT_clean/ficheros_28032023/RF_1302_models/0.8_RF_KL112.full_data.joblib'],\n",
       " 'KL16': ['/media/concha-eloko/Linux/PPT_clean/ficheros_28032023/RF_1302_models/0.85_RF_KL16.full_data.joblib',\n",
       "  '/media/concha-eloko/Linux/PPT_clean/ficheros_28032023/RF_1302_models/0.975_RF_KL16.full_data.joblib',\n",
       "  '/media/concha-eloko/Linux/PPT_clean/ficheros_28032023/RF_1302_models/0.65_RF_KL16.full_data.joblib',\n",
       "  '/media/concha-eloko/Linux/PPT_clean/ficheros_28032023/RF_1302_models/0.95_RF_KL16.full_data.joblib',\n",
       "  '/media/concha-eloko/Linux/PPT_clean/ficheros_28032023/RF_1302_models/0.75_RF_KL16.full_data.joblib',\n",
       "  '/media/concha-eloko/Linux/PPT_clean/ficheros_28032023/RF_1302_models/0.9_RF_KL16.full_data.joblib',\n",
       "  '/media/concha-eloko/Linux/PPT_clean/ficheros_28032023/RF_1302_models/0.7_RF_KL16.full_data.joblib',\n",
       "  '/media/concha-eloko/Linux/PPT_clean/ficheros_28032023/RF_1302_models/0.8_RF_KL16.full_data.joblib'],\n",
       " 'KL28': ['/media/concha-eloko/Linux/PPT_clean/ficheros_28032023/RF_1302_models/0.95_RF_KL28.full_data.joblib',\n",
       "  '/media/concha-eloko/Linux/PPT_clean/ficheros_28032023/RF_1302_models/0.65_RF_KL28.full_data.joblib',\n",
       "  '/media/concha-eloko/Linux/PPT_clean/ficheros_28032023/RF_1302_models/0.9_RF_KL28.full_data.joblib',\n",
       "  '/media/concha-eloko/Linux/PPT_clean/ficheros_28032023/RF_1302_models/0.975_RF_KL28.full_data.joblib',\n",
       "  '/media/concha-eloko/Linux/PPT_clean/ficheros_28032023/RF_1302_models/0.85_RF_KL28.full_data.joblib',\n",
       "  '/media/concha-eloko/Linux/PPT_clean/ficheros_28032023/RF_1302_models/0.8_RF_KL28.full_data.joblib',\n",
       "  '/media/concha-eloko/Linux/PPT_clean/ficheros_28032023/RF_1302_models/0.7_RF_KL28.full_data.joblib',\n",
       "  '/media/concha-eloko/Linux/PPT_clean/ficheros_28032023/RF_1302_models/0.75_RF_KL28.full_data.joblib'],\n",
       " 'KL114': ['/media/concha-eloko/Linux/PPT_clean/ficheros_28032023/RF_1302_models/0.9_RF_KL114.full_data.joblib',\n",
       "  '/media/concha-eloko/Linux/PPT_clean/ficheros_28032023/RF_1302_models/0.75_RF_KL114.full_data.joblib',\n",
       "  '/media/concha-eloko/Linux/PPT_clean/ficheros_28032023/RF_1302_models/0.975_RF_KL114.full_data.joblib',\n",
       "  '/media/concha-eloko/Linux/PPT_clean/ficheros_28032023/RF_1302_models/0.65_RF_KL114.full_data.joblib',\n",
       "  '/media/concha-eloko/Linux/PPT_clean/ficheros_28032023/RF_1302_models/0.7_RF_KL114.full_data.joblib',\n",
       "  '/media/concha-eloko/Linux/PPT_clean/ficheros_28032023/RF_1302_models/0.8_RF_KL114.full_data.joblib',\n",
       "  '/media/concha-eloko/Linux/PPT_clean/ficheros_28032023/RF_1302_models/0.95_RF_KL114.full_data.joblib',\n",
       "  '/media/concha-eloko/Linux/PPT_clean/ficheros_28032023/RF_1302_models/0.85_RF_KL114.full_data.joblib'],\n",
       " 'KL35': ['/media/concha-eloko/Linux/PPT_clean/ficheros_28032023/RF_1302_models/0.65_RF_KL35.full_data.joblib',\n",
       "  '/media/concha-eloko/Linux/PPT_clean/ficheros_28032023/RF_1302_models/0.8_RF_KL35.full_data.joblib',\n",
       "  '/media/concha-eloko/Linux/PPT_clean/ficheros_28032023/RF_1302_models/0.85_RF_KL35.full_data.joblib',\n",
       "  '/media/concha-eloko/Linux/PPT_clean/ficheros_28032023/RF_1302_models/0.7_RF_KL35.full_data.joblib',\n",
       "  '/media/concha-eloko/Linux/PPT_clean/ficheros_28032023/RF_1302_models/0.975_RF_KL35.full_data.joblib',\n",
       "  '/media/concha-eloko/Linux/PPT_clean/ficheros_28032023/RF_1302_models/0.75_RF_KL35.full_data.joblib',\n",
       "  '/media/concha-eloko/Linux/PPT_clean/ficheros_28032023/RF_1302_models/0.95_RF_KL35.full_data.joblib',\n",
       "  '/media/concha-eloko/Linux/PPT_clean/ficheros_28032023/RF_1302_models/0.9_RF_KL35.full_data.joblib'],\n",
       " 'KL169': ['/media/concha-eloko/Linux/PPT_clean/ficheros_28032023/RF_1302_models/0.7_RF_KL169.full_data.joblib',\n",
       "  '/media/concha-eloko/Linux/PPT_clean/ficheros_28032023/RF_1302_models/0.975_RF_KL169.full_data.joblib',\n",
       "  '/media/concha-eloko/Linux/PPT_clean/ficheros_28032023/RF_1302_models/0.8_RF_KL169.full_data.joblib',\n",
       "  '/media/concha-eloko/Linux/PPT_clean/ficheros_28032023/RF_1302_models/0.85_RF_KL169.full_data.joblib',\n",
       "  '/media/concha-eloko/Linux/PPT_clean/ficheros_28032023/RF_1302_models/0.9_RF_KL169.full_data.joblib',\n",
       "  '/media/concha-eloko/Linux/PPT_clean/ficheros_28032023/RF_1302_models/0.75_RF_KL169.full_data.joblib',\n",
       "  '/media/concha-eloko/Linux/PPT_clean/ficheros_28032023/RF_1302_models/0.65_RF_KL169.full_data.joblib',\n",
       "  '/media/concha-eloko/Linux/PPT_clean/ficheros_28032023/RF_1302_models/0.95_RF_KL169.full_data.joblib'],\n",
       " 'KL24': ['/media/concha-eloko/Linux/PPT_clean/ficheros_28032023/RF_1302_models/0.75_RF_KL24.full_data.joblib',\n",
       "  '/media/concha-eloko/Linux/PPT_clean/ficheros_28032023/RF_1302_models/0.95_RF_KL24.full_data.joblib',\n",
       "  '/media/concha-eloko/Linux/PPT_clean/ficheros_28032023/RF_1302_models/0.7_RF_KL24.full_data.joblib',\n",
       "  '/media/concha-eloko/Linux/PPT_clean/ficheros_28032023/RF_1302_models/0.85_RF_KL24.full_data.joblib',\n",
       "  '/media/concha-eloko/Linux/PPT_clean/ficheros_28032023/RF_1302_models/0.65_RF_KL24.full_data.joblib',\n",
       "  '/media/concha-eloko/Linux/PPT_clean/ficheros_28032023/RF_1302_models/0.9_RF_KL24.full_data.joblib',\n",
       "  '/media/concha-eloko/Linux/PPT_clean/ficheros_28032023/RF_1302_models/0.975_RF_KL24.full_data.joblib',\n",
       "  '/media/concha-eloko/Linux/PPT_clean/ficheros_28032023/RF_1302_models/0.8_RF_KL24.full_data.joblib'],\n",
       " 'KL4': ['/media/concha-eloko/Linux/PPT_clean/ficheros_28032023/RF_1302_models/0.8_RF_KL4.full_data.joblib',\n",
       "  '/media/concha-eloko/Linux/PPT_clean/ficheros_28032023/RF_1302_models/0.85_RF_KL4.full_data.joblib',\n",
       "  '/media/concha-eloko/Linux/PPT_clean/ficheros_28032023/RF_1302_models/0.9_RF_KL4.full_data.joblib',\n",
       "  '/media/concha-eloko/Linux/PPT_clean/ficheros_28032023/RF_1302_models/0.75_RF_KL4.full_data.joblib',\n",
       "  '/media/concha-eloko/Linux/PPT_clean/ficheros_28032023/RF_1302_models/0.65_RF_KL4.full_data.joblib',\n",
       "  '/media/concha-eloko/Linux/PPT_clean/ficheros_28032023/RF_1302_models/0.7_RF_KL4.full_data.joblib',\n",
       "  '/media/concha-eloko/Linux/PPT_clean/ficheros_28032023/RF_1302_models/0.975_RF_KL4.full_data.joblib',\n",
       "  '/media/concha-eloko/Linux/PPT_clean/ficheros_28032023/RF_1302_models/0.95_RF_KL4.full_data.joblib'],\n",
       " 'KL13': ['/media/concha-eloko/Linux/PPT_clean/ficheros_28032023/RF_1302_models/0.85_RF_KL13.full_data.joblib',\n",
       "  '/media/concha-eloko/Linux/PPT_clean/ficheros_28032023/RF_1302_models/0.9_RF_KL13.full_data.joblib',\n",
       "  '/media/concha-eloko/Linux/PPT_clean/ficheros_28032023/RF_1302_models/0.95_RF_KL13.full_data.joblib',\n",
       "  '/media/concha-eloko/Linux/PPT_clean/ficheros_28032023/RF_1302_models/0.65_RF_KL13.full_data.joblib',\n",
       "  '/media/concha-eloko/Linux/PPT_clean/ficheros_28032023/RF_1302_models/0.7_RF_KL13.full_data.joblib',\n",
       "  '/media/concha-eloko/Linux/PPT_clean/ficheros_28032023/RF_1302_models/0.975_RF_KL13.full_data.joblib',\n",
       "  '/media/concha-eloko/Linux/PPT_clean/ficheros_28032023/RF_1302_models/0.75_RF_KL13.full_data.joblib',\n",
       "  '/media/concha-eloko/Linux/PPT_clean/ficheros_28032023/RF_1302_models/0.8_RF_KL13.full_data.joblib'],\n",
       " 'KL7': ['/media/concha-eloko/Linux/PPT_clean/ficheros_28032023/RF_1302_models/0.7_RF_KL7.full_data.joblib',\n",
       "  '/media/concha-eloko/Linux/PPT_clean/ficheros_28032023/RF_1302_models/0.65_RF_KL7.full_data.joblib',\n",
       "  '/media/concha-eloko/Linux/PPT_clean/ficheros_28032023/RF_1302_models/0.8_RF_KL7.full_data.joblib',\n",
       "  '/media/concha-eloko/Linux/PPT_clean/ficheros_28032023/RF_1302_models/0.85_RF_KL7.full_data.joblib',\n",
       "  '/media/concha-eloko/Linux/PPT_clean/ficheros_28032023/RF_1302_models/0.9_RF_KL7.full_data.joblib',\n",
       "  '/media/concha-eloko/Linux/PPT_clean/ficheros_28032023/RF_1302_models/0.95_RF_KL7.full_data.joblib',\n",
       "  '/media/concha-eloko/Linux/PPT_clean/ficheros_28032023/RF_1302_models/0.975_RF_KL7.full_data.joblib',\n",
       "  '/media/concha-eloko/Linux/PPT_clean/ficheros_28032023/RF_1302_models/0.75_RF_KL7.full_data.joblib'],\n",
       " 'KL30': ['/media/concha-eloko/Linux/PPT_clean/ficheros_28032023/RF_1302_models/0.9_RF_KL30.full_data.joblib',\n",
       "  '/media/concha-eloko/Linux/PPT_clean/ficheros_28032023/RF_1302_models/0.8_RF_KL30.full_data.joblib',\n",
       "  '/media/concha-eloko/Linux/PPT_clean/ficheros_28032023/RF_1302_models/0.975_RF_KL30.full_data.joblib',\n",
       "  '/media/concha-eloko/Linux/PPT_clean/ficheros_28032023/RF_1302_models/0.75_RF_KL30.full_data.joblib',\n",
       "  '/media/concha-eloko/Linux/PPT_clean/ficheros_28032023/RF_1302_models/0.7_RF_KL30.full_data.joblib',\n",
       "  '/media/concha-eloko/Linux/PPT_clean/ficheros_28032023/RF_1302_models/0.85_RF_KL30.full_data.joblib',\n",
       "  '/media/concha-eloko/Linux/PPT_clean/ficheros_28032023/RF_1302_models/0.65_RF_KL30.full_data.joblib',\n",
       "  '/media/concha-eloko/Linux/PPT_clean/ficheros_28032023/RF_1302_models/0.95_RF_KL30.full_data.joblib'],\n",
       " 'KL118': ['/media/concha-eloko/Linux/PPT_clean/ficheros_28032023/RF_1302_models/0.85_RF_KL118.full_data.joblib',\n",
       "  '/media/concha-eloko/Linux/PPT_clean/ficheros_28032023/RF_1302_models/0.7_RF_KL118.full_data.joblib',\n",
       "  '/media/concha-eloko/Linux/PPT_clean/ficheros_28032023/RF_1302_models/0.9_RF_KL118.full_data.joblib',\n",
       "  '/media/concha-eloko/Linux/PPT_clean/ficheros_28032023/RF_1302_models/0.975_RF_KL118.full_data.joblib',\n",
       "  '/media/concha-eloko/Linux/PPT_clean/ficheros_28032023/RF_1302_models/0.75_RF_KL118.full_data.joblib',\n",
       "  '/media/concha-eloko/Linux/PPT_clean/ficheros_28032023/RF_1302_models/0.8_RF_KL118.full_data.joblib',\n",
       "  '/media/concha-eloko/Linux/PPT_clean/ficheros_28032023/RF_1302_models/0.95_RF_KL118.full_data.joblib'],\n",
       " 'KL23': ['/media/concha-eloko/Linux/PPT_clean/ficheros_28032023/RF_1302_models/0.975_RF_KL23.full_data.joblib',\n",
       "  '/media/concha-eloko/Linux/PPT_clean/ficheros_28032023/RF_1302_models/0.9_RF_KL23.full_data.joblib',\n",
       "  '/media/concha-eloko/Linux/PPT_clean/ficheros_28032023/RF_1302_models/0.8_RF_KL23.full_data.joblib',\n",
       "  '/media/concha-eloko/Linux/PPT_clean/ficheros_28032023/RF_1302_models/0.95_RF_KL23.full_data.joblib',\n",
       "  '/media/concha-eloko/Linux/PPT_clean/ficheros_28032023/RF_1302_models/0.85_RF_KL23.full_data.joblib',\n",
       "  '/media/concha-eloko/Linux/PPT_clean/ficheros_28032023/RF_1302_models/0.65_RF_KL23.full_data.joblib',\n",
       "  '/media/concha-eloko/Linux/PPT_clean/ficheros_28032023/RF_1302_models/0.75_RF_KL23.full_data.joblib',\n",
       "  '/media/concha-eloko/Linux/PPT_clean/ficheros_28032023/RF_1302_models/0.7_RF_KL23.full_data.joblib'],\n",
       " 'KL41': ['/media/concha-eloko/Linux/PPT_clean/ficheros_28032023/RF_1302_models/0.75_RF_KL41.full_data.joblib',\n",
       "  '/media/concha-eloko/Linux/PPT_clean/ficheros_28032023/RF_1302_models/0.85_RF_KL41.full_data.joblib',\n",
       "  '/media/concha-eloko/Linux/PPT_clean/ficheros_28032023/RF_1302_models/0.65_RF_KL41.full_data.joblib',\n",
       "  '/media/concha-eloko/Linux/PPT_clean/ficheros_28032023/RF_1302_models/0.9_RF_KL41.full_data.joblib',\n",
       "  '/media/concha-eloko/Linux/PPT_clean/ficheros_28032023/RF_1302_models/0.8_RF_KL41.full_data.joblib',\n",
       "  '/media/concha-eloko/Linux/PPT_clean/ficheros_28032023/RF_1302_models/0.975_RF_KL41.full_data.joblib',\n",
       "  '/media/concha-eloko/Linux/PPT_clean/ficheros_28032023/RF_1302_models/0.7_RF_KL41.full_data.joblib',\n",
       "  '/media/concha-eloko/Linux/PPT_clean/ficheros_28032023/RF_1302_models/0.95_RF_KL41.full_data.joblib'],\n",
       " 'KL57': ['/media/concha-eloko/Linux/PPT_clean/ficheros_28032023/RF_1302_models/0.8_RF_KL57.full_data.joblib',\n",
       "  '/media/concha-eloko/Linux/PPT_clean/ficheros_28032023/RF_1302_models/0.9_RF_KL57.full_data.joblib',\n",
       "  '/media/concha-eloko/Linux/PPT_clean/ficheros_28032023/RF_1302_models/0.95_RF_KL57.full_data.joblib',\n",
       "  '/media/concha-eloko/Linux/PPT_clean/ficheros_28032023/RF_1302_models/0.75_RF_KL57.full_data.joblib',\n",
       "  '/media/concha-eloko/Linux/PPT_clean/ficheros_28032023/RF_1302_models/0.85_RF_KL57.full_data.joblib',\n",
       "  '/media/concha-eloko/Linux/PPT_clean/ficheros_28032023/RF_1302_models/0.975_RF_KL57.full_data.joblib',\n",
       "  '/media/concha-eloko/Linux/PPT_clean/ficheros_28032023/RF_1302_models/0.65_RF_KL57.full_data.joblib',\n",
       "  '/media/concha-eloko/Linux/PPT_clean/ficheros_28032023/RF_1302_models/0.7_RF_KL57.full_data.joblib'],\n",
       " 'KL26': ['/media/concha-eloko/Linux/PPT_clean/ficheros_28032023/RF_1302_models/0.8_RF_KL26.full_data.joblib',\n",
       "  '/media/concha-eloko/Linux/PPT_clean/ficheros_28032023/RF_1302_models/0.65_RF_KL26.full_data.joblib',\n",
       "  '/media/concha-eloko/Linux/PPT_clean/ficheros_28032023/RF_1302_models/0.975_RF_KL26.full_data.joblib',\n",
       "  '/media/concha-eloko/Linux/PPT_clean/ficheros_28032023/RF_1302_models/0.9_RF_KL26.full_data.joblib',\n",
       "  '/media/concha-eloko/Linux/PPT_clean/ficheros_28032023/RF_1302_models/0.95_RF_KL26.full_data.joblib',\n",
       "  '/media/concha-eloko/Linux/PPT_clean/ficheros_28032023/RF_1302_models/0.7_RF_KL26.full_data.joblib',\n",
       "  '/media/concha-eloko/Linux/PPT_clean/ficheros_28032023/RF_1302_models/0.75_RF_KL26.full_data.joblib',\n",
       "  '/media/concha-eloko/Linux/PPT_clean/ficheros_28032023/RF_1302_models/0.85_RF_KL26.full_data.joblib'],\n",
       " 'KL3': ['/media/concha-eloko/Linux/PPT_clean/ficheros_28032023/RF_1302_models/0.65_RF_KL3.full_data.joblib',\n",
       "  '/media/concha-eloko/Linux/PPT_clean/ficheros_28032023/RF_1302_models/0.9_RF_KL3.full_data.joblib',\n",
       "  '/media/concha-eloko/Linux/PPT_clean/ficheros_28032023/RF_1302_models/0.975_RF_KL3.full_data.joblib',\n",
       "  '/media/concha-eloko/Linux/PPT_clean/ficheros_28032023/RF_1302_models/0.7_RF_KL3.full_data.joblib',\n",
       "  '/media/concha-eloko/Linux/PPT_clean/ficheros_28032023/RF_1302_models/0.85_RF_KL3.full_data.joblib',\n",
       "  '/media/concha-eloko/Linux/PPT_clean/ficheros_28032023/RF_1302_models/0.75_RF_KL3.full_data.joblib',\n",
       "  '/media/concha-eloko/Linux/PPT_clean/ficheros_28032023/RF_1302_models/0.8_RF_KL3.full_data.joblib',\n",
       "  '/media/concha-eloko/Linux/PPT_clean/ficheros_28032023/RF_1302_models/0.95_RF_KL3.full_data.joblib'],\n",
       " 'KL63': ['/media/concha-eloko/Linux/PPT_clean/ficheros_28032023/RF_1302_models/0.9_RF_KL63.full_data.joblib',\n",
       "  '/media/concha-eloko/Linux/PPT_clean/ficheros_28032023/RF_1302_models/0.8_RF_KL63.full_data.joblib',\n",
       "  '/media/concha-eloko/Linux/PPT_clean/ficheros_28032023/RF_1302_models/0.65_RF_KL63.full_data.joblib',\n",
       "  '/media/concha-eloko/Linux/PPT_clean/ficheros_28032023/RF_1302_models/0.85_RF_KL63.full_data.joblib',\n",
       "  '/media/concha-eloko/Linux/PPT_clean/ficheros_28032023/RF_1302_models/0.95_RF_KL63.full_data.joblib',\n",
       "  '/media/concha-eloko/Linux/PPT_clean/ficheros_28032023/RF_1302_models/0.7_RF_KL63.full_data.joblib',\n",
       "  '/media/concha-eloko/Linux/PPT_clean/ficheros_28032023/RF_1302_models/0.975_RF_KL63.full_data.joblib',\n",
       "  '/media/concha-eloko/Linux/PPT_clean/ficheros_28032023/RF_1302_models/0.75_RF_KL63.full_data.joblib'],\n",
       " 'KL116': ['/media/concha-eloko/Linux/PPT_clean/ficheros_28032023/RF_1302_models/0.65_RF_KL116.full_data.joblib',\n",
       "  '/media/concha-eloko/Linux/PPT_clean/ficheros_28032023/RF_1302_models/0.85_RF_KL116.full_data.joblib',\n",
       "  '/media/concha-eloko/Linux/PPT_clean/ficheros_28032023/RF_1302_models/0.7_RF_KL116.full_data.joblib',\n",
       "  '/media/concha-eloko/Linux/PPT_clean/ficheros_28032023/RF_1302_models/0.9_RF_KL116.full_data.joblib',\n",
       "  '/media/concha-eloko/Linux/PPT_clean/ficheros_28032023/RF_1302_models/0.75_RF_KL116.full_data.joblib',\n",
       "  '/media/concha-eloko/Linux/PPT_clean/ficheros_28032023/RF_1302_models/0.95_RF_KL116.full_data.joblib',\n",
       "  '/media/concha-eloko/Linux/PPT_clean/ficheros_28032023/RF_1302_models/0.975_RF_KL116.full_data.joblib',\n",
       "  '/media/concha-eloko/Linux/PPT_clean/ficheros_28032023/RF_1302_models/0.8_RF_KL116.full_data.joblib'],\n",
       " 'KL39': ['/media/concha-eloko/Linux/PPT_clean/ficheros_28032023/RF_1302_models/0.7_RF_KL39.full_data.joblib',\n",
       "  '/media/concha-eloko/Linux/PPT_clean/ficheros_28032023/RF_1302_models/0.65_RF_KL39.full_data.joblib',\n",
       "  '/media/concha-eloko/Linux/PPT_clean/ficheros_28032023/RF_1302_models/0.75_RF_KL39.full_data.joblib',\n",
       "  '/media/concha-eloko/Linux/PPT_clean/ficheros_28032023/RF_1302_models/0.975_RF_KL39.full_data.joblib',\n",
       "  '/media/concha-eloko/Linux/PPT_clean/ficheros_28032023/RF_1302_models/0.8_RF_KL39.full_data.joblib',\n",
       "  '/media/concha-eloko/Linux/PPT_clean/ficheros_28032023/RF_1302_models/0.85_RF_KL39.full_data.joblib',\n",
       "  '/media/concha-eloko/Linux/PPT_clean/ficheros_28032023/RF_1302_models/0.95_RF_KL39.full_data.joblib',\n",
       "  '/media/concha-eloko/Linux/PPT_clean/ficheros_28032023/RF_1302_models/0.9_RF_KL39.full_data.joblib'],\n",
       " 'KL119': ['/media/concha-eloko/Linux/PPT_clean/ficheros_28032023/RF_1302_models/0.85_RF_KL119.full_data.joblib',\n",
       "  '/media/concha-eloko/Linux/PPT_clean/ficheros_28032023/RF_1302_models/0.95_RF_KL119.full_data.joblib',\n",
       "  '/media/concha-eloko/Linux/PPT_clean/ficheros_28032023/RF_1302_models/0.8_RF_KL119.full_data.joblib',\n",
       "  '/media/concha-eloko/Linux/PPT_clean/ficheros_28032023/RF_1302_models/0.975_RF_KL119.full_data.joblib'],\n",
       " 'KL58': ['/media/concha-eloko/Linux/PPT_clean/ficheros_28032023/RF_1302_models/0.85_RF_KL58.full_data.joblib',\n",
       "  '/media/concha-eloko/Linux/PPT_clean/ficheros_28032023/RF_1302_models/0.9_RF_KL58.full_data.joblib',\n",
       "  '/media/concha-eloko/Linux/PPT_clean/ficheros_28032023/RF_1302_models/0.65_RF_KL58.full_data.joblib',\n",
       "  '/media/concha-eloko/Linux/PPT_clean/ficheros_28032023/RF_1302_models/0.95_RF_KL58.full_data.joblib',\n",
       "  '/media/concha-eloko/Linux/PPT_clean/ficheros_28032023/RF_1302_models/0.75_RF_KL58.full_data.joblib',\n",
       "  '/media/concha-eloko/Linux/PPT_clean/ficheros_28032023/RF_1302_models/0.8_RF_KL58.full_data.joblib',\n",
       "  '/media/concha-eloko/Linux/PPT_clean/ficheros_28032023/RF_1302_models/0.7_RF_KL58.full_data.joblib',\n",
       "  '/media/concha-eloko/Linux/PPT_clean/ficheros_28032023/RF_1302_models/0.975_RF_KL58.full_data.joblib'],\n",
       " 'KL64': ['/media/concha-eloko/Linux/PPT_clean/ficheros_28032023/RF_1302_models/0.7_RF_KL64.full_data.joblib',\n",
       "  '/media/concha-eloko/Linux/PPT_clean/ficheros_28032023/RF_1302_models/0.975_RF_KL64.full_data.joblib',\n",
       "  '/media/concha-eloko/Linux/PPT_clean/ficheros_28032023/RF_1302_models/0.8_RF_KL64.full_data.joblib',\n",
       "  '/media/concha-eloko/Linux/PPT_clean/ficheros_28032023/RF_1302_models/0.65_RF_KL64.full_data.joblib',\n",
       "  '/media/concha-eloko/Linux/PPT_clean/ficheros_28032023/RF_1302_models/0.9_RF_KL64.full_data.joblib',\n",
       "  '/media/concha-eloko/Linux/PPT_clean/ficheros_28032023/RF_1302_models/0.95_RF_KL64.full_data.joblib',\n",
       "  '/media/concha-eloko/Linux/PPT_clean/ficheros_28032023/RF_1302_models/0.75_RF_KL64.full_data.joblib',\n",
       "  '/media/concha-eloko/Linux/PPT_clean/ficheros_28032023/RF_1302_models/0.85_RF_KL64.full_data.joblib'],\n",
       " 'KL47': ['/media/concha-eloko/Linux/PPT_clean/ficheros_28032023/RF_1302_models/0.85_RF_KL47.full_data.joblib',\n",
       "  '/media/concha-eloko/Linux/PPT_clean/ficheros_28032023/RF_1302_models/0.8_RF_KL47.full_data.joblib',\n",
       "  '/media/concha-eloko/Linux/PPT_clean/ficheros_28032023/RF_1302_models/0.7_RF_KL47.full_data.joblib',\n",
       "  '/media/concha-eloko/Linux/PPT_clean/ficheros_28032023/RF_1302_models/0.65_RF_KL47.full_data.joblib',\n",
       "  '/media/concha-eloko/Linux/PPT_clean/ficheros_28032023/RF_1302_models/0.95_RF_KL47.full_data.joblib',\n",
       "  '/media/concha-eloko/Linux/PPT_clean/ficheros_28032023/RF_1302_models/0.9_RF_KL47.full_data.joblib',\n",
       "  '/media/concha-eloko/Linux/PPT_clean/ficheros_28032023/RF_1302_models/0.975_RF_KL47.full_data.joblib',\n",
       "  '/media/concha-eloko/Linux/PPT_clean/ficheros_28032023/RF_1302_models/0.75_RF_KL47.full_data.joblib'],\n",
       " 'KL164': ['/media/concha-eloko/Linux/PPT_clean/ficheros_28032023/RF_1302_models/0.9_RF_KL164.full_data.joblib',\n",
       "  '/media/concha-eloko/Linux/PPT_clean/ficheros_28032023/RF_1302_models/0.7_RF_KL164.full_data.joblib',\n",
       "  '/media/concha-eloko/Linux/PPT_clean/ficheros_28032023/RF_1302_models/0.95_RF_KL164.full_data.joblib',\n",
       "  '/media/concha-eloko/Linux/PPT_clean/ficheros_28032023/RF_1302_models/0.85_RF_KL164.full_data.joblib',\n",
       "  '/media/concha-eloko/Linux/PPT_clean/ficheros_28032023/RF_1302_models/0.975_RF_KL164.full_data.joblib',\n",
       "  '/media/concha-eloko/Linux/PPT_clean/ficheros_28032023/RF_1302_models/0.75_RF_KL164.full_data.joblib',\n",
       "  '/media/concha-eloko/Linux/PPT_clean/ficheros_28032023/RF_1302_models/0.8_RF_KL164.full_data.joblib',\n",
       "  '/media/concha-eloko/Linux/PPT_clean/ficheros_28032023/RF_1302_models/0.65_RF_KL164.full_data.joblib'],\n",
       " 'KL74': ['/media/concha-eloko/Linux/PPT_clean/ficheros_28032023/RF_1302_models/0.65_RF_KL74.full_data.joblib',\n",
       "  '/media/concha-eloko/Linux/PPT_clean/ficheros_28032023/RF_1302_models/0.975_RF_KL74.full_data.joblib',\n",
       "  '/media/concha-eloko/Linux/PPT_clean/ficheros_28032023/RF_1302_models/0.9_RF_KL74.full_data.joblib',\n",
       "  '/media/concha-eloko/Linux/PPT_clean/ficheros_28032023/RF_1302_models/0.85_RF_KL74.full_data.joblib',\n",
       "  '/media/concha-eloko/Linux/PPT_clean/ficheros_28032023/RF_1302_models/0.8_RF_KL74.full_data.joblib',\n",
       "  '/media/concha-eloko/Linux/PPT_clean/ficheros_28032023/RF_1302_models/0.95_RF_KL74.full_data.joblib',\n",
       "  '/media/concha-eloko/Linux/PPT_clean/ficheros_28032023/RF_1302_models/0.7_RF_KL74.full_data.joblib',\n",
       "  '/media/concha-eloko/Linux/PPT_clean/ficheros_28032023/RF_1302_models/0.75_RF_KL74.full_data.joblib'],\n",
       " 'KL10': ['/media/concha-eloko/Linux/PPT_clean/ficheros_28032023/RF_1302_models/0.65_RF_KL10.full_data.joblib',\n",
       "  '/media/concha-eloko/Linux/PPT_clean/ficheros_28032023/RF_1302_models/0.75_RF_KL10.full_data.joblib',\n",
       "  '/media/concha-eloko/Linux/PPT_clean/ficheros_28032023/RF_1302_models/0.7_RF_KL10.full_data.joblib',\n",
       "  '/media/concha-eloko/Linux/PPT_clean/ficheros_28032023/RF_1302_models/0.975_RF_KL10.full_data.joblib',\n",
       "  '/media/concha-eloko/Linux/PPT_clean/ficheros_28032023/RF_1302_models/0.85_RF_KL10.full_data.joblib',\n",
       "  '/media/concha-eloko/Linux/PPT_clean/ficheros_28032023/RF_1302_models/0.8_RF_KL10.full_data.joblib',\n",
       "  '/media/concha-eloko/Linux/PPT_clean/ficheros_28032023/RF_1302_models/0.95_RF_KL10.full_data.joblib',\n",
       "  '/media/concha-eloko/Linux/PPT_clean/ficheros_28032023/RF_1302_models/0.9_RF_KL10.full_data.joblib'],\n",
       " 'KL46': ['/media/concha-eloko/Linux/PPT_clean/ficheros_28032023/RF_1302_models/0.8_RF_KL46.full_data.joblib',\n",
       "  '/media/concha-eloko/Linux/PPT_clean/ficheros_28032023/RF_1302_models/0.95_RF_KL46.full_data.joblib',\n",
       "  '/media/concha-eloko/Linux/PPT_clean/ficheros_28032023/RF_1302_models/0.65_RF_KL46.full_data.joblib',\n",
       "  '/media/concha-eloko/Linux/PPT_clean/ficheros_28032023/RF_1302_models/0.9_RF_KL46.full_data.joblib',\n",
       "  '/media/concha-eloko/Linux/PPT_clean/ficheros_28032023/RF_1302_models/0.75_RF_KL46.full_data.joblib',\n",
       "  '/media/concha-eloko/Linux/PPT_clean/ficheros_28032023/RF_1302_models/0.975_RF_KL46.full_data.joblib',\n",
       "  '/media/concha-eloko/Linux/PPT_clean/ficheros_28032023/RF_1302_models/0.85_RF_KL46.full_data.joblib',\n",
       "  '/media/concha-eloko/Linux/PPT_clean/ficheros_28032023/RF_1302_models/0.7_RF_KL46.full_data.joblib'],\n",
       " 'KL111': ['/media/concha-eloko/Linux/PPT_clean/ficheros_28032023/RF_1302_models/0.7_RF_KL111.full_data.joblib',\n",
       "  '/media/concha-eloko/Linux/PPT_clean/ficheros_28032023/RF_1302_models/0.65_RF_KL111.full_data.joblib',\n",
       "  '/media/concha-eloko/Linux/PPT_clean/ficheros_28032023/RF_1302_models/0.85_RF_KL111.full_data.joblib',\n",
       "  '/media/concha-eloko/Linux/PPT_clean/ficheros_28032023/RF_1302_models/0.95_RF_KL111.full_data.joblib',\n",
       "  '/media/concha-eloko/Linux/PPT_clean/ficheros_28032023/RF_1302_models/0.8_RF_KL111.full_data.joblib',\n",
       "  '/media/concha-eloko/Linux/PPT_clean/ficheros_28032023/RF_1302_models/0.975_RF_KL111.full_data.joblib',\n",
       "  '/media/concha-eloko/Linux/PPT_clean/ficheros_28032023/RF_1302_models/0.75_RF_KL111.full_data.joblib',\n",
       "  '/media/concha-eloko/Linux/PPT_clean/ficheros_28032023/RF_1302_models/0.9_RF_KL111.full_data.joblib'],\n",
       " 'KL54': ['/media/concha-eloko/Linux/PPT_clean/ficheros_28032023/RF_1302_models/0.8_RF_KL54.full_data.joblib',\n",
       "  '/media/concha-eloko/Linux/PPT_clean/ficheros_28032023/RF_1302_models/0.75_RF_KL54.full_data.joblib',\n",
       "  '/media/concha-eloko/Linux/PPT_clean/ficheros_28032023/RF_1302_models/0.95_RF_KL54.full_data.joblib',\n",
       "  '/media/concha-eloko/Linux/PPT_clean/ficheros_28032023/RF_1302_models/0.85_RF_KL54.full_data.joblib',\n",
       "  '/media/concha-eloko/Linux/PPT_clean/ficheros_28032023/RF_1302_models/0.7_RF_KL54.full_data.joblib',\n",
       "  '/media/concha-eloko/Linux/PPT_clean/ficheros_28032023/RF_1302_models/0.9_RF_KL54.full_data.joblib',\n",
       "  '/media/concha-eloko/Linux/PPT_clean/ficheros_28032023/RF_1302_models/0.65_RF_KL54.full_data.joblib',\n",
       "  '/media/concha-eloko/Linux/PPT_clean/ficheros_28032023/RF_1302_models/0.975_RF_KL54.full_data.joblib'],\n",
       " 'KL102': ['/media/concha-eloko/Linux/PPT_clean/ficheros_28032023/RF_1302_models/0.975_RF_KL102.full_data.joblib',\n",
       "  '/media/concha-eloko/Linux/PPT_clean/ficheros_28032023/RF_1302_models/0.65_RF_KL102.full_data.joblib',\n",
       "  '/media/concha-eloko/Linux/PPT_clean/ficheros_28032023/RF_1302_models/0.95_RF_KL102.full_data.joblib',\n",
       "  '/media/concha-eloko/Linux/PPT_clean/ficheros_28032023/RF_1302_models/0.8_RF_KL102.full_data.joblib',\n",
       "  '/media/concha-eloko/Linux/PPT_clean/ficheros_28032023/RF_1302_models/0.75_RF_KL102.full_data.joblib',\n",
       "  '/media/concha-eloko/Linux/PPT_clean/ficheros_28032023/RF_1302_models/0.9_RF_KL102.full_data.joblib',\n",
       "  '/media/concha-eloko/Linux/PPT_clean/ficheros_28032023/RF_1302_models/0.85_RF_KL102.full_data.joblib',\n",
       "  '/media/concha-eloko/Linux/PPT_clean/ficheros_28032023/RF_1302_models/0.7_RF_KL102.full_data.joblib'],\n",
       " 'KL27': ['/media/concha-eloko/Linux/PPT_clean/ficheros_28032023/RF_1302_models/0.9_RF_KL27.full_data.joblib',\n",
       "  '/media/concha-eloko/Linux/PPT_clean/ficheros_28032023/RF_1302_models/0.975_RF_KL27.full_data.joblib',\n",
       "  '/media/concha-eloko/Linux/PPT_clean/ficheros_28032023/RF_1302_models/0.65_RF_KL27.full_data.joblib',\n",
       "  '/media/concha-eloko/Linux/PPT_clean/ficheros_28032023/RF_1302_models/0.75_RF_KL27.full_data.joblib',\n",
       "  '/media/concha-eloko/Linux/PPT_clean/ficheros_28032023/RF_1302_models/0.85_RF_KL27.full_data.joblib',\n",
       "  '/media/concha-eloko/Linux/PPT_clean/ficheros_28032023/RF_1302_models/0.7_RF_KL27.full_data.joblib',\n",
       "  '/media/concha-eloko/Linux/PPT_clean/ficheros_28032023/RF_1302_models/0.95_RF_KL27.full_data.joblib',\n",
       "  '/media/concha-eloko/Linux/PPT_clean/ficheros_28032023/RF_1302_models/0.8_RF_KL27.full_data.joblib'],\n",
       " 'KL108': ['/media/concha-eloko/Linux/PPT_clean/ficheros_28032023/RF_1302_models/0.9_RF_KL108.full_data.joblib',\n",
       "  '/media/concha-eloko/Linux/PPT_clean/ficheros_28032023/RF_1302_models/0.85_RF_KL108.full_data.joblib',\n",
       "  '/media/concha-eloko/Linux/PPT_clean/ficheros_28032023/RF_1302_models/0.95_RF_KL108.full_data.joblib',\n",
       "  '/media/concha-eloko/Linux/PPT_clean/ficheros_28032023/RF_1302_models/0.75_RF_KL108.full_data.joblib',\n",
       "  '/media/concha-eloko/Linux/PPT_clean/ficheros_28032023/RF_1302_models/0.65_RF_KL108.full_data.joblib',\n",
       "  '/media/concha-eloko/Linux/PPT_clean/ficheros_28032023/RF_1302_models/0.7_RF_KL108.full_data.joblib',\n",
       "  '/media/concha-eloko/Linux/PPT_clean/ficheros_28032023/RF_1302_models/0.975_RF_KL108.full_data.joblib',\n",
       "  '/media/concha-eloko/Linux/PPT_clean/ficheros_28032023/RF_1302_models/0.8_RF_KL108.full_data.joblib'],\n",
       " 'KL166': ['/media/concha-eloko/Linux/PPT_clean/ficheros_28032023/RF_1302_models/0.95_RF_KL166.full_data.joblib',\n",
       "  '/media/concha-eloko/Linux/PPT_clean/ficheros_28032023/RF_1302_models/0.65_RF_KL166.full_data.joblib',\n",
       "  '/media/concha-eloko/Linux/PPT_clean/ficheros_28032023/RF_1302_models/0.75_RF_KL166.full_data.joblib',\n",
       "  '/media/concha-eloko/Linux/PPT_clean/ficheros_28032023/RF_1302_models/0.8_RF_KL166.full_data.joblib',\n",
       "  '/media/concha-eloko/Linux/PPT_clean/ficheros_28032023/RF_1302_models/0.975_RF_KL166.full_data.joblib',\n",
       "  '/media/concha-eloko/Linux/PPT_clean/ficheros_28032023/RF_1302_models/0.7_RF_KL166.full_data.joblib',\n",
       "  '/media/concha-eloko/Linux/PPT_clean/ficheros_28032023/RF_1302_models/0.85_RF_KL166.full_data.joblib',\n",
       "  '/media/concha-eloko/Linux/PPT_clean/ficheros_28032023/RF_1302_models/0.9_RF_KL166.full_data.joblib'],\n",
       " 'KL36': ['/media/concha-eloko/Linux/PPT_clean/ficheros_28032023/RF_1302_models/0.65_RF_KL36.full_data.joblib',\n",
       "  '/media/concha-eloko/Linux/PPT_clean/ficheros_28032023/RF_1302_models/0.8_RF_KL36.full_data.joblib',\n",
       "  '/media/concha-eloko/Linux/PPT_clean/ficheros_28032023/RF_1302_models/0.95_RF_KL36.full_data.joblib',\n",
       "  '/media/concha-eloko/Linux/PPT_clean/ficheros_28032023/RF_1302_models/0.975_RF_KL36.full_data.joblib',\n",
       "  '/media/concha-eloko/Linux/PPT_clean/ficheros_28032023/RF_1302_models/0.9_RF_KL36.full_data.joblib',\n",
       "  '/media/concha-eloko/Linux/PPT_clean/ficheros_28032023/RF_1302_models/0.75_RF_KL36.full_data.joblib',\n",
       "  '/media/concha-eloko/Linux/PPT_clean/ficheros_28032023/RF_1302_models/0.85_RF_KL36.full_data.joblib',\n",
       "  '/media/concha-eloko/Linux/PPT_clean/ficheros_28032023/RF_1302_models/0.7_RF_KL36.full_data.joblib'],\n",
       " 'KL56': ['/media/concha-eloko/Linux/PPT_clean/ficheros_28032023/RF_1302_models/0.85_RF_KL56.full_data.joblib',\n",
       "  '/media/concha-eloko/Linux/PPT_clean/ficheros_28032023/RF_1302_models/0.7_RF_KL56.full_data.joblib',\n",
       "  '/media/concha-eloko/Linux/PPT_clean/ficheros_28032023/RF_1302_models/0.8_RF_KL56.full_data.joblib',\n",
       "  '/media/concha-eloko/Linux/PPT_clean/ficheros_28032023/RF_1302_models/0.9_RF_KL56.full_data.joblib',\n",
       "  '/media/concha-eloko/Linux/PPT_clean/ficheros_28032023/RF_1302_models/0.65_RF_KL56.full_data.joblib',\n",
       "  '/media/concha-eloko/Linux/PPT_clean/ficheros_28032023/RF_1302_models/0.95_RF_KL56.full_data.joblib',\n",
       "  '/media/concha-eloko/Linux/PPT_clean/ficheros_28032023/RF_1302_models/0.75_RF_KL56.full_data.joblib',\n",
       "  '/media/concha-eloko/Linux/PPT_clean/ficheros_28032023/RF_1302_models/0.975_RF_KL56.full_data.joblib'],\n",
       " 'KL12': ['/media/concha-eloko/Linux/PPT_clean/ficheros_28032023/RF_1302_models/0.65_RF_KL12.full_data.joblib',\n",
       "  '/media/concha-eloko/Linux/PPT_clean/ficheros_28032023/RF_1302_models/0.9_RF_KL12.full_data.joblib',\n",
       "  '/media/concha-eloko/Linux/PPT_clean/ficheros_28032023/RF_1302_models/0.85_RF_KL12.full_data.joblib',\n",
       "  '/media/concha-eloko/Linux/PPT_clean/ficheros_28032023/RF_1302_models/0.95_RF_KL12.full_data.joblib',\n",
       "  '/media/concha-eloko/Linux/PPT_clean/ficheros_28032023/RF_1302_models/0.975_RF_KL12.full_data.joblib',\n",
       "  '/media/concha-eloko/Linux/PPT_clean/ficheros_28032023/RF_1302_models/0.8_RF_KL12.full_data.joblib',\n",
       "  '/media/concha-eloko/Linux/PPT_clean/ficheros_28032023/RF_1302_models/0.75_RF_KL12.full_data.joblib',\n",
       "  '/media/concha-eloko/Linux/PPT_clean/ficheros_28032023/RF_1302_models/0.7_RF_KL12.full_data.joblib'],\n",
       " 'KL142': ['/media/concha-eloko/Linux/PPT_clean/ficheros_28032023/RF_1302_models/0.975_RF_KL142.full_data.joblib',\n",
       "  '/media/concha-eloko/Linux/PPT_clean/ficheros_28032023/RF_1302_models/0.8_RF_KL142.full_data.joblib',\n",
       "  '/media/concha-eloko/Linux/PPT_clean/ficheros_28032023/RF_1302_models/0.65_RF_KL142.full_data.joblib',\n",
       "  '/media/concha-eloko/Linux/PPT_clean/ficheros_28032023/RF_1302_models/0.75_RF_KL142.full_data.joblib',\n",
       "  '/media/concha-eloko/Linux/PPT_clean/ficheros_28032023/RF_1302_models/0.85_RF_KL142.full_data.joblib',\n",
       "  '/media/concha-eloko/Linux/PPT_clean/ficheros_28032023/RF_1302_models/0.7_RF_KL142.full_data.joblib',\n",
       "  '/media/concha-eloko/Linux/PPT_clean/ficheros_28032023/RF_1302_models/0.95_RF_KL142.full_data.joblib',\n",
       "  '/media/concha-eloko/Linux/PPT_clean/ficheros_28032023/RF_1302_models/0.9_RF_KL142.full_data.joblib'],\n",
       " 'KL19': ['/media/concha-eloko/Linux/PPT_clean/ficheros_28032023/RF_1302_models/0.65_RF_KL19.full_data.joblib',\n",
       "  '/media/concha-eloko/Linux/PPT_clean/ficheros_28032023/RF_1302_models/0.975_RF_KL19.full_data.joblib',\n",
       "  '/media/concha-eloko/Linux/PPT_clean/ficheros_28032023/RF_1302_models/0.7_RF_KL19.full_data.joblib',\n",
       "  '/media/concha-eloko/Linux/PPT_clean/ficheros_28032023/RF_1302_models/0.8_RF_KL19.full_data.joblib',\n",
       "  '/media/concha-eloko/Linux/PPT_clean/ficheros_28032023/RF_1302_models/0.9_RF_KL19.full_data.joblib',\n",
       "  '/media/concha-eloko/Linux/PPT_clean/ficheros_28032023/RF_1302_models/0.95_RF_KL19.full_data.joblib',\n",
       "  '/media/concha-eloko/Linux/PPT_clean/ficheros_28032023/RF_1302_models/0.75_RF_KL19.full_data.joblib',\n",
       "  '/media/concha-eloko/Linux/PPT_clean/ficheros_28032023/RF_1302_models/0.85_RF_KL19.full_data.joblib'],\n",
       " 'KL60': ['/media/concha-eloko/Linux/PPT_clean/ficheros_28032023/RF_1302_models/0.95_RF_KL60.full_data.joblib',\n",
       "  '/media/concha-eloko/Linux/PPT_clean/ficheros_28032023/RF_1302_models/0.85_RF_KL60.full_data.joblib',\n",
       "  '/media/concha-eloko/Linux/PPT_clean/ficheros_28032023/RF_1302_models/0.8_RF_KL60.full_data.joblib',\n",
       "  '/media/concha-eloko/Linux/PPT_clean/ficheros_28032023/RF_1302_models/0.75_RF_KL60.full_data.joblib',\n",
       "  '/media/concha-eloko/Linux/PPT_clean/ficheros_28032023/RF_1302_models/0.7_RF_KL60.full_data.joblib',\n",
       "  '/media/concha-eloko/Linux/PPT_clean/ficheros_28032023/RF_1302_models/0.65_RF_KL60.full_data.joblib',\n",
       "  '/media/concha-eloko/Linux/PPT_clean/ficheros_28032023/RF_1302_models/0.9_RF_KL60.full_data.joblib',\n",
       "  '/media/concha-eloko/Linux/PPT_clean/ficheros_28032023/RF_1302_models/0.975_RF_KL60.full_data.joblib'],\n",
       " 'KL34': ['/media/concha-eloko/Linux/PPT_clean/ficheros_28032023/RF_1302_models/0.75_RF_KL34.full_data.joblib',\n",
       "  '/media/concha-eloko/Linux/PPT_clean/ficheros_28032023/RF_1302_models/0.9_RF_KL34.full_data.joblib',\n",
       "  '/media/concha-eloko/Linux/PPT_clean/ficheros_28032023/RF_1302_models/0.95_RF_KL34.full_data.joblib',\n",
       "  '/media/concha-eloko/Linux/PPT_clean/ficheros_28032023/RF_1302_models/0.85_RF_KL34.full_data.joblib',\n",
       "  '/media/concha-eloko/Linux/PPT_clean/ficheros_28032023/RF_1302_models/0.975_RF_KL34.full_data.joblib',\n",
       "  '/media/concha-eloko/Linux/PPT_clean/ficheros_28032023/RF_1302_models/0.65_RF_KL34.full_data.joblib',\n",
       "  '/media/concha-eloko/Linux/PPT_clean/ficheros_28032023/RF_1302_models/0.7_RF_KL34.full_data.joblib',\n",
       "  '/media/concha-eloko/Linux/PPT_clean/ficheros_28032023/RF_1302_models/0.8_RF_KL34.full_data.joblib'],\n",
       " 'KL55': ['/media/concha-eloko/Linux/PPT_clean/ficheros_28032023/RF_1302_models/0.95_RF_KL55.full_data.joblib',\n",
       "  '/media/concha-eloko/Linux/PPT_clean/ficheros_28032023/RF_1302_models/0.65_RF_KL55.full_data.joblib',\n",
       "  '/media/concha-eloko/Linux/PPT_clean/ficheros_28032023/RF_1302_models/0.975_RF_KL55.full_data.joblib',\n",
       "  '/media/concha-eloko/Linux/PPT_clean/ficheros_28032023/RF_1302_models/0.8_RF_KL55.full_data.joblib',\n",
       "  '/media/concha-eloko/Linux/PPT_clean/ficheros_28032023/RF_1302_models/0.9_RF_KL55.full_data.joblib',\n",
       "  '/media/concha-eloko/Linux/PPT_clean/ficheros_28032023/RF_1302_models/0.85_RF_KL55.full_data.joblib',\n",
       "  '/media/concha-eloko/Linux/PPT_clean/ficheros_28032023/RF_1302_models/0.7_RF_KL55.full_data.joblib',\n",
       "  '/media/concha-eloko/Linux/PPT_clean/ficheros_28032023/RF_1302_models/0.75_RF_KL55.full_data.joblib'],\n",
       " 'KL14': ['/media/concha-eloko/Linux/PPT_clean/ficheros_28032023/RF_1302_models/0.8_RF_KL14.full_data.joblib',\n",
       "  '/media/concha-eloko/Linux/PPT_clean/ficheros_28032023/RF_1302_models/0.65_RF_KL14.full_data.joblib',\n",
       "  '/media/concha-eloko/Linux/PPT_clean/ficheros_28032023/RF_1302_models/0.975_RF_KL14.full_data.joblib',\n",
       "  '/media/concha-eloko/Linux/PPT_clean/ficheros_28032023/RF_1302_models/0.95_RF_KL14.full_data.joblib',\n",
       "  '/media/concha-eloko/Linux/PPT_clean/ficheros_28032023/RF_1302_models/0.7_RF_KL14.full_data.joblib',\n",
       "  '/media/concha-eloko/Linux/PPT_clean/ficheros_28032023/RF_1302_models/0.9_RF_KL14.full_data.joblib',\n",
       "  '/media/concha-eloko/Linux/PPT_clean/ficheros_28032023/RF_1302_models/0.85_RF_KL14.full_data.joblib',\n",
       "  '/media/concha-eloko/Linux/PPT_clean/ficheros_28032023/RF_1302_models/0.75_RF_KL14.full_data.joblib'],\n",
       " 'KL9': ['/media/concha-eloko/Linux/PPT_clean/ficheros_28032023/RF_1302_models/0.85_RF_KL9.full_data.joblib',\n",
       "  '/media/concha-eloko/Linux/PPT_clean/ficheros_28032023/RF_1302_models/0.9_RF_KL9.full_data.joblib',\n",
       "  '/media/concha-eloko/Linux/PPT_clean/ficheros_28032023/RF_1302_models/0.8_RF_KL9.full_data.joblib',\n",
       "  '/media/concha-eloko/Linux/PPT_clean/ficheros_28032023/RF_1302_models/0.975_RF_KL9.full_data.joblib',\n",
       "  '/media/concha-eloko/Linux/PPT_clean/ficheros_28032023/RF_1302_models/0.7_RF_KL9.full_data.joblib',\n",
       "  '/media/concha-eloko/Linux/PPT_clean/ficheros_28032023/RF_1302_models/0.95_RF_KL9.full_data.joblib',\n",
       "  '/media/concha-eloko/Linux/PPT_clean/ficheros_28032023/RF_1302_models/0.75_RF_KL9.full_data.joblib',\n",
       "  '/media/concha-eloko/Linux/PPT_clean/ficheros_28032023/RF_1302_models/0.65_RF_KL9.full_data.joblib'],\n",
       " 'KL153': ['/media/concha-eloko/Linux/PPT_clean/ficheros_28032023/RF_1302_models/0.9_RF_KL153.full_data.joblib',\n",
       "  '/media/concha-eloko/Linux/PPT_clean/ficheros_28032023/RF_1302_models/0.7_RF_KL153.full_data.joblib',\n",
       "  '/media/concha-eloko/Linux/PPT_clean/ficheros_28032023/RF_1302_models/0.85_RF_KL153.full_data.joblib',\n",
       "  '/media/concha-eloko/Linux/PPT_clean/ficheros_28032023/RF_1302_models/0.65_RF_KL153.full_data.joblib',\n",
       "  '/media/concha-eloko/Linux/PPT_clean/ficheros_28032023/RF_1302_models/0.975_RF_KL153.full_data.joblib',\n",
       "  '/media/concha-eloko/Linux/PPT_clean/ficheros_28032023/RF_1302_models/0.8_RF_KL153.full_data.joblib',\n",
       "  '/media/concha-eloko/Linux/PPT_clean/ficheros_28032023/RF_1302_models/0.75_RF_KL153.full_data.joblib',\n",
       "  '/media/concha-eloko/Linux/PPT_clean/ficheros_28032023/RF_1302_models/0.95_RF_KL153.full_data.joblib'],\n",
       " 'KL155': ['/media/concha-eloko/Linux/PPT_clean/ficheros_28032023/RF_1302_models/0.95_RF_KL155.full_data.joblib'],\n",
       " 'KL21': ['/media/concha-eloko/Linux/PPT_clean/ficheros_28032023/RF_1302_models/0.85_RF_KL21.full_data.joblib',\n",
       "  '/media/concha-eloko/Linux/PPT_clean/ficheros_28032023/RF_1302_models/0.9_RF_KL21.full_data.joblib',\n",
       "  '/media/concha-eloko/Linux/PPT_clean/ficheros_28032023/RF_1302_models/0.95_RF_KL21.full_data.joblib',\n",
       "  '/media/concha-eloko/Linux/PPT_clean/ficheros_28032023/RF_1302_models/0.7_RF_KL21.full_data.joblib',\n",
       "  '/media/concha-eloko/Linux/PPT_clean/ficheros_28032023/RF_1302_models/0.65_RF_KL21.full_data.joblib',\n",
       "  '/media/concha-eloko/Linux/PPT_clean/ficheros_28032023/RF_1302_models/0.975_RF_KL21.full_data.joblib',\n",
       "  '/media/concha-eloko/Linux/PPT_clean/ficheros_28032023/RF_1302_models/0.75_RF_KL21.full_data.joblib',\n",
       "  '/media/concha-eloko/Linux/PPT_clean/ficheros_28032023/RF_1302_models/0.8_RF_KL21.full_data.joblib'],\n",
       " 'KL113': ['/media/concha-eloko/Linux/PPT_clean/ficheros_28032023/RF_1302_models/0.95_RF_KL113.full_data.joblib',\n",
       "  '/media/concha-eloko/Linux/PPT_clean/ficheros_28032023/RF_1302_models/0.7_RF_KL113.full_data.joblib',\n",
       "  '/media/concha-eloko/Linux/PPT_clean/ficheros_28032023/RF_1302_models/0.85_RF_KL113.full_data.joblib',\n",
       "  '/media/concha-eloko/Linux/PPT_clean/ficheros_28032023/RF_1302_models/0.975_RF_KL113.full_data.joblib',\n",
       "  '/media/concha-eloko/Linux/PPT_clean/ficheros_28032023/RF_1302_models/0.75_RF_KL113.full_data.joblib',\n",
       "  '/media/concha-eloko/Linux/PPT_clean/ficheros_28032023/RF_1302_models/0.8_RF_KL113.full_data.joblib',\n",
       "  '/media/concha-eloko/Linux/PPT_clean/ficheros_28032023/RF_1302_models/0.9_RF_KL113.full_data.joblib',\n",
       "  '/media/concha-eloko/Linux/PPT_clean/ficheros_28032023/RF_1302_models/0.65_RF_KL113.full_data.joblib'],\n",
       " 'KL81': ['/media/concha-eloko/Linux/PPT_clean/ficheros_28032023/RF_1302_models/0.8_RF_KL81.full_data.joblib',\n",
       "  '/media/concha-eloko/Linux/PPT_clean/ficheros_28032023/RF_1302_models/0.85_RF_KL81.full_data.joblib',\n",
       "  '/media/concha-eloko/Linux/PPT_clean/ficheros_28032023/RF_1302_models/0.95_RF_KL81.full_data.joblib',\n",
       "  '/media/concha-eloko/Linux/PPT_clean/ficheros_28032023/RF_1302_models/0.975_RF_KL81.full_data.joblib',\n",
       "  '/media/concha-eloko/Linux/PPT_clean/ficheros_28032023/RF_1302_models/0.9_RF_KL81.full_data.joblib',\n",
       "  '/media/concha-eloko/Linux/PPT_clean/ficheros_28032023/RF_1302_models/0.75_RF_KL81.full_data.joblib',\n",
       "  '/media/concha-eloko/Linux/PPT_clean/ficheros_28032023/RF_1302_models/0.65_RF_KL81.full_data.joblib',\n",
       "  '/media/concha-eloko/Linux/PPT_clean/ficheros_28032023/RF_1302_models/0.7_RF_KL81.full_data.joblib'],\n",
       " 'KL31': ['/media/concha-eloko/Linux/PPT_clean/ficheros_28032023/RF_1302_models/0.95_RF_KL31.full_data.joblib',\n",
       "  '/media/concha-eloko/Linux/PPT_clean/ficheros_28032023/RF_1302_models/0.7_RF_KL31.full_data.joblib',\n",
       "  '/media/concha-eloko/Linux/PPT_clean/ficheros_28032023/RF_1302_models/0.85_RF_KL31.full_data.joblib',\n",
       "  '/media/concha-eloko/Linux/PPT_clean/ficheros_28032023/RF_1302_models/0.975_RF_KL31.full_data.joblib',\n",
       "  '/media/concha-eloko/Linux/PPT_clean/ficheros_28032023/RF_1302_models/0.8_RF_KL31.full_data.joblib',\n",
       "  '/media/concha-eloko/Linux/PPT_clean/ficheros_28032023/RF_1302_models/0.9_RF_KL31.full_data.joblib',\n",
       "  '/media/concha-eloko/Linux/PPT_clean/ficheros_28032023/RF_1302_models/0.75_RF_KL31.full_data.joblib',\n",
       "  '/media/concha-eloko/Linux/PPT_clean/ficheros_28032023/RF_1302_models/0.65_RF_KL31.full_data.joblib'],\n",
       " 'KL151': ['/media/concha-eloko/Linux/PPT_clean/ficheros_28032023/RF_1302_models/0.8_RF_KL151.full_data.joblib',\n",
       "  '/media/concha-eloko/Linux/PPT_clean/ficheros_28032023/RF_1302_models/0.975_RF_KL151.full_data.joblib',\n",
       "  '/media/concha-eloko/Linux/PPT_clean/ficheros_28032023/RF_1302_models/0.65_RF_KL151.full_data.joblib',\n",
       "  '/media/concha-eloko/Linux/PPT_clean/ficheros_28032023/RF_1302_models/0.9_RF_KL151.full_data.joblib',\n",
       "  '/media/concha-eloko/Linux/PPT_clean/ficheros_28032023/RF_1302_models/0.75_RF_KL151.full_data.joblib',\n",
       "  '/media/concha-eloko/Linux/PPT_clean/ficheros_28032023/RF_1302_models/0.85_RF_KL151.full_data.joblib',\n",
       "  '/media/concha-eloko/Linux/PPT_clean/ficheros_28032023/RF_1302_models/0.7_RF_KL151.full_data.joblib',\n",
       "  '/media/concha-eloko/Linux/PPT_clean/ficheros_28032023/RF_1302_models/0.95_RF_KL151.full_data.joblib'],\n",
       " 'KL123': ['/media/concha-eloko/Linux/PPT_clean/ficheros_28032023/RF_1302_models/0.7_RF_KL123.full_data.joblib',\n",
       "  '/media/concha-eloko/Linux/PPT_clean/ficheros_28032023/RF_1302_models/0.95_RF_KL123.full_data.joblib',\n",
       "  '/media/concha-eloko/Linux/PPT_clean/ficheros_28032023/RF_1302_models/0.75_RF_KL123.full_data.joblib',\n",
       "  '/media/concha-eloko/Linux/PPT_clean/ficheros_28032023/RF_1302_models/0.85_RF_KL123.full_data.joblib',\n",
       "  '/media/concha-eloko/Linux/PPT_clean/ficheros_28032023/RF_1302_models/0.9_RF_KL123.full_data.joblib',\n",
       "  '/media/concha-eloko/Linux/PPT_clean/ficheros_28032023/RF_1302_models/0.975_RF_KL123.full_data.joblib',\n",
       "  '/media/concha-eloko/Linux/PPT_clean/ficheros_28032023/RF_1302_models/0.8_RF_KL123.full_data.joblib',\n",
       "  '/media/concha-eloko/Linux/PPT_clean/ficheros_28032023/RF_1302_models/0.65_RF_KL123.full_data.joblib'],\n",
       " 'KL140': ['/media/concha-eloko/Linux/PPT_clean/ficheros_28032023/RF_1302_models/0.75_RF_KL140.full_data.joblib',\n",
       "  '/media/concha-eloko/Linux/PPT_clean/ficheros_28032023/RF_1302_models/0.975_RF_KL140.full_data.joblib',\n",
       "  '/media/concha-eloko/Linux/PPT_clean/ficheros_28032023/RF_1302_models/0.85_RF_KL140.full_data.joblib',\n",
       "  '/media/concha-eloko/Linux/PPT_clean/ficheros_28032023/RF_1302_models/0.7_RF_KL140.full_data.joblib',\n",
       "  '/media/concha-eloko/Linux/PPT_clean/ficheros_28032023/RF_1302_models/0.9_RF_KL140.full_data.joblib',\n",
       "  '/media/concha-eloko/Linux/PPT_clean/ficheros_28032023/RF_1302_models/0.8_RF_KL140.full_data.joblib',\n",
       "  '/media/concha-eloko/Linux/PPT_clean/ficheros_28032023/RF_1302_models/0.95_RF_KL140.full_data.joblib',\n",
       "  '/media/concha-eloko/Linux/PPT_clean/ficheros_28032023/RF_1302_models/0.65_RF_KL140.full_data.joblib'],\n",
       " 'KL159': ['/media/concha-eloko/Linux/PPT_clean/ficheros_28032023/RF_1302_models/0.975_RF_KL159.full_data.joblib',\n",
       "  '/media/concha-eloko/Linux/PPT_clean/ficheros_28032023/RF_1302_models/0.9_RF_KL159.full_data.joblib',\n",
       "  '/media/concha-eloko/Linux/PPT_clean/ficheros_28032023/RF_1302_models/0.75_RF_KL159.full_data.joblib',\n",
       "  '/media/concha-eloko/Linux/PPT_clean/ficheros_28032023/RF_1302_models/0.95_RF_KL159.full_data.joblib',\n",
       "  '/media/concha-eloko/Linux/PPT_clean/ficheros_28032023/RF_1302_models/0.8_RF_KL159.full_data.joblib',\n",
       "  '/media/concha-eloko/Linux/PPT_clean/ficheros_28032023/RF_1302_models/0.7_RF_KL159.full_data.joblib',\n",
       "  '/media/concha-eloko/Linux/PPT_clean/ficheros_28032023/RF_1302_models/0.65_RF_KL159.full_data.joblib',\n",
       "  '/media/concha-eloko/Linux/PPT_clean/ficheros_28032023/RF_1302_models/0.85_RF_KL159.full_data.joblib'],\n",
       " 'KL109': ['/media/concha-eloko/Linux/PPT_clean/ficheros_28032023/RF_1302_models/0.85_RF_KL109.full_data.joblib',\n",
       "  '/media/concha-eloko/Linux/PPT_clean/ficheros_28032023/RF_1302_models/0.975_RF_KL109.full_data.joblib',\n",
       "  '/media/concha-eloko/Linux/PPT_clean/ficheros_28032023/RF_1302_models/0.95_RF_KL109.full_data.joblib',\n",
       "  '/media/concha-eloko/Linux/PPT_clean/ficheros_28032023/RF_1302_models/0.8_RF_KL109.full_data.joblib',\n",
       "  '/media/concha-eloko/Linux/PPT_clean/ficheros_28032023/RF_1302_models/0.75_RF_KL109.full_data.joblib',\n",
       "  '/media/concha-eloko/Linux/PPT_clean/ficheros_28032023/RF_1302_models/0.9_RF_KL109.full_data.joblib',\n",
       "  '/media/concha-eloko/Linux/PPT_clean/ficheros_28032023/RF_1302_models/0.65_RF_KL109.full_data.joblib',\n",
       "  '/media/concha-eloko/Linux/PPT_clean/ficheros_28032023/RF_1302_models/0.7_RF_KL109.full_data.joblib'],\n",
       " 'KL2': ['/media/concha-eloko/Linux/PPT_clean/ficheros_28032023/RF_1302_models/0.7_RF_KL2.full_data.joblib',\n",
       "  '/media/concha-eloko/Linux/PPT_clean/ficheros_28032023/RF_1302_models/0.85_RF_KL2.full_data.joblib',\n",
       "  '/media/concha-eloko/Linux/PPT_clean/ficheros_28032023/RF_1302_models/0.75_RF_KL2.full_data.joblib',\n",
       "  '/media/concha-eloko/Linux/PPT_clean/ficheros_28032023/RF_1302_models/0.975_RF_KL2.full_data.joblib',\n",
       "  '/media/concha-eloko/Linux/PPT_clean/ficheros_28032023/RF_1302_models/0.9_RF_KL2.full_data.joblib',\n",
       "  '/media/concha-eloko/Linux/PPT_clean/ficheros_28032023/RF_1302_models/0.8_RF_KL2.full_data.joblib',\n",
       "  '/media/concha-eloko/Linux/PPT_clean/ficheros_28032023/RF_1302_models/0.65_RF_KL2.full_data.joblib',\n",
       "  '/media/concha-eloko/Linux/PPT_clean/ficheros_28032023/RF_1302_models/0.95_RF_KL2.full_data.joblib'],\n",
       " 'KL106': ['/media/concha-eloko/Linux/PPT_clean/ficheros_28032023/RF_1302_models/0.9_RF_KL106.full_data.joblib',\n",
       "  '/media/concha-eloko/Linux/PPT_clean/ficheros_28032023/RF_1302_models/0.65_RF_KL106.full_data.joblib',\n",
       "  '/media/concha-eloko/Linux/PPT_clean/ficheros_28032023/RF_1302_models/0.8_RF_KL106.full_data.joblib',\n",
       "  '/media/concha-eloko/Linux/PPT_clean/ficheros_28032023/RF_1302_models/0.7_RF_KL106.full_data.joblib',\n",
       "  '/media/concha-eloko/Linux/PPT_clean/ficheros_28032023/RF_1302_models/0.85_RF_KL106.full_data.joblib',\n",
       "  '/media/concha-eloko/Linux/PPT_clean/ficheros_28032023/RF_1302_models/0.75_RF_KL106.full_data.joblib',\n",
       "  '/media/concha-eloko/Linux/PPT_clean/ficheros_28032023/RF_1302_models/0.975_RF_KL106.full_data.joblib',\n",
       "  '/media/concha-eloko/Linux/PPT_clean/ficheros_28032023/RF_1302_models/0.95_RF_KL106.full_data.joblib'],\n",
       " 'KL122': ['/media/concha-eloko/Linux/PPT_clean/ficheros_28032023/RF_1302_models/0.65_RF_KL122.full_data.joblib',\n",
       "  '/media/concha-eloko/Linux/PPT_clean/ficheros_28032023/RF_1302_models/0.95_RF_KL122.full_data.joblib',\n",
       "  '/media/concha-eloko/Linux/PPT_clean/ficheros_28032023/RF_1302_models/0.7_RF_KL122.full_data.joblib',\n",
       "  '/media/concha-eloko/Linux/PPT_clean/ficheros_28032023/RF_1302_models/0.75_RF_KL122.full_data.joblib',\n",
       "  '/media/concha-eloko/Linux/PPT_clean/ficheros_28032023/RF_1302_models/0.85_RF_KL122.full_data.joblib',\n",
       "  '/media/concha-eloko/Linux/PPT_clean/ficheros_28032023/RF_1302_models/0.9_RF_KL122.full_data.joblib',\n",
       "  '/media/concha-eloko/Linux/PPT_clean/ficheros_28032023/RF_1302_models/0.975_RF_KL122.full_data.joblib',\n",
       "  '/media/concha-eloko/Linux/PPT_clean/ficheros_28032023/RF_1302_models/0.8_RF_KL122.full_data.joblib'],\n",
       " 'KL70': ['/media/concha-eloko/Linux/PPT_clean/ficheros_28032023/RF_1302_models/0.9_RF_KL70.full_data.joblib',\n",
       "  '/media/concha-eloko/Linux/PPT_clean/ficheros_28032023/RF_1302_models/0.7_RF_KL70.full_data.joblib',\n",
       "  '/media/concha-eloko/Linux/PPT_clean/ficheros_28032023/RF_1302_models/0.975_RF_KL70.full_data.joblib',\n",
       "  '/media/concha-eloko/Linux/PPT_clean/ficheros_28032023/RF_1302_models/0.65_RF_KL70.full_data.joblib',\n",
       "  '/media/concha-eloko/Linux/PPT_clean/ficheros_28032023/RF_1302_models/0.8_RF_KL70.full_data.joblib',\n",
       "  '/media/concha-eloko/Linux/PPT_clean/ficheros_28032023/RF_1302_models/0.85_RF_KL70.full_data.joblib',\n",
       "  '/media/concha-eloko/Linux/PPT_clean/ficheros_28032023/RF_1302_models/0.95_RF_KL70.full_data.joblib',\n",
       "  '/media/concha-eloko/Linux/PPT_clean/ficheros_28032023/RF_1302_models/0.75_RF_KL70.full_data.joblib'],\n",
       " 'KL43': ['/media/concha-eloko/Linux/PPT_clean/ficheros_28032023/RF_1302_models/0.85_RF_KL43.full_data.joblib',\n",
       "  '/media/concha-eloko/Linux/PPT_clean/ficheros_28032023/RF_1302_models/0.75_RF_KL43.full_data.joblib',\n",
       "  '/media/concha-eloko/Linux/PPT_clean/ficheros_28032023/RF_1302_models/0.9_RF_KL43.full_data.joblib',\n",
       "  '/media/concha-eloko/Linux/PPT_clean/ficheros_28032023/RF_1302_models/0.8_RF_KL43.full_data.joblib',\n",
       "  '/media/concha-eloko/Linux/PPT_clean/ficheros_28032023/RF_1302_models/0.95_RF_KL43.full_data.joblib',\n",
       "  '/media/concha-eloko/Linux/PPT_clean/ficheros_28032023/RF_1302_models/0.975_RF_KL43.full_data.joblib',\n",
       "  '/media/concha-eloko/Linux/PPT_clean/ficheros_28032023/RF_1302_models/0.65_RF_KL43.full_data.joblib',\n",
       "  '/media/concha-eloko/Linux/PPT_clean/ficheros_28032023/RF_1302_models/0.7_RF_KL43.full_data.joblib'],\n",
       " 'KL127': ['/media/concha-eloko/Linux/PPT_clean/ficheros_28032023/RF_1302_models/0.8_RF_KL127.full_data.joblib',\n",
       "  '/media/concha-eloko/Linux/PPT_clean/ficheros_28032023/RF_1302_models/0.95_RF_KL127.full_data.joblib',\n",
       "  '/media/concha-eloko/Linux/PPT_clean/ficheros_28032023/RF_1302_models/0.7_RF_KL127.full_data.joblib',\n",
       "  '/media/concha-eloko/Linux/PPT_clean/ficheros_28032023/RF_1302_models/0.85_RF_KL127.full_data.joblib',\n",
       "  '/media/concha-eloko/Linux/PPT_clean/ficheros_28032023/RF_1302_models/0.975_RF_KL127.full_data.joblib',\n",
       "  '/media/concha-eloko/Linux/PPT_clean/ficheros_28032023/RF_1302_models/0.9_RF_KL127.full_data.joblib',\n",
       "  '/media/concha-eloko/Linux/PPT_clean/ficheros_28032023/RF_1302_models/0.65_RF_KL127.full_data.joblib',\n",
       "  '/media/concha-eloko/Linux/PPT_clean/ficheros_28032023/RF_1302_models/0.75_RF_KL127.full_data.joblib'],\n",
       " 'KL25': ['/media/concha-eloko/Linux/PPT_clean/ficheros_28032023/RF_1302_models/0.75_RF_KL25.full_data.joblib',\n",
       "  '/media/concha-eloko/Linux/PPT_clean/ficheros_28032023/RF_1302_models/0.8_RF_KL25.full_data.joblib',\n",
       "  '/media/concha-eloko/Linux/PPT_clean/ficheros_28032023/RF_1302_models/0.65_RF_KL25.full_data.joblib',\n",
       "  '/media/concha-eloko/Linux/PPT_clean/ficheros_28032023/RF_1302_models/0.85_RF_KL25.full_data.joblib',\n",
       "  '/media/concha-eloko/Linux/PPT_clean/ficheros_28032023/RF_1302_models/0.7_RF_KL25.full_data.joblib',\n",
       "  '/media/concha-eloko/Linux/PPT_clean/ficheros_28032023/RF_1302_models/0.95_RF_KL25.full_data.joblib',\n",
       "  '/media/concha-eloko/Linux/PPT_clean/ficheros_28032023/RF_1302_models/0.975_RF_KL25.full_data.joblib',\n",
       "  '/media/concha-eloko/Linux/PPT_clean/ficheros_28032023/RF_1302_models/0.9_RF_KL25.full_data.joblib'],\n",
       " 'KL67': ['/media/concha-eloko/Linux/PPT_clean/ficheros_28032023/RF_1302_models/0.8_RF_KL67.full_data.joblib',\n",
       "  '/media/concha-eloko/Linux/PPT_clean/ficheros_28032023/RF_1302_models/0.975_RF_KL67.full_data.joblib',\n",
       "  '/media/concha-eloko/Linux/PPT_clean/ficheros_28032023/RF_1302_models/0.65_RF_KL67.full_data.joblib',\n",
       "  '/media/concha-eloko/Linux/PPT_clean/ficheros_28032023/RF_1302_models/0.75_RF_KL67.full_data.joblib',\n",
       "  '/media/concha-eloko/Linux/PPT_clean/ficheros_28032023/RF_1302_models/0.95_RF_KL67.full_data.joblib',\n",
       "  '/media/concha-eloko/Linux/PPT_clean/ficheros_28032023/RF_1302_models/0.7_RF_KL67.full_data.joblib',\n",
       "  '/media/concha-eloko/Linux/PPT_clean/ficheros_28032023/RF_1302_models/0.85_RF_KL67.full_data.joblib',\n",
       "  '/media/concha-eloko/Linux/PPT_clean/ficheros_28032023/RF_1302_models/0.9_RF_KL67.full_data.joblib'],\n",
       " 'KL18': ['/media/concha-eloko/Linux/PPT_clean/ficheros_28032023/RF_1302_models/0.95_RF_KL18.full_data.joblib',\n",
       "  '/media/concha-eloko/Linux/PPT_clean/ficheros_28032023/RF_1302_models/0.8_RF_KL18.full_data.joblib',\n",
       "  '/media/concha-eloko/Linux/PPT_clean/ficheros_28032023/RF_1302_models/0.7_RF_KL18.full_data.joblib',\n",
       "  '/media/concha-eloko/Linux/PPT_clean/ficheros_28032023/RF_1302_models/0.85_RF_KL18.full_data.joblib',\n",
       "  '/media/concha-eloko/Linux/PPT_clean/ficheros_28032023/RF_1302_models/0.65_RF_KL18.full_data.joblib',\n",
       "  '/media/concha-eloko/Linux/PPT_clean/ficheros_28032023/RF_1302_models/0.75_RF_KL18.full_data.joblib',\n",
       "  '/media/concha-eloko/Linux/PPT_clean/ficheros_28032023/RF_1302_models/0.975_RF_KL18.full_data.joblib',\n",
       "  '/media/concha-eloko/Linux/PPT_clean/ficheros_28032023/RF_1302_models/0.9_RF_KL18.full_data.joblib'],\n",
       " 'KL62': ['/media/concha-eloko/Linux/PPT_clean/ficheros_28032023/RF_1302_models/0.75_RF_KL62.full_data.joblib',\n",
       "  '/media/concha-eloko/Linux/PPT_clean/ficheros_28032023/RF_1302_models/0.9_RF_KL62.full_data.joblib',\n",
       "  '/media/concha-eloko/Linux/PPT_clean/ficheros_28032023/RF_1302_models/0.7_RF_KL62.full_data.joblib',\n",
       "  '/media/concha-eloko/Linux/PPT_clean/ficheros_28032023/RF_1302_models/0.95_RF_KL62.full_data.joblib',\n",
       "  '/media/concha-eloko/Linux/PPT_clean/ficheros_28032023/RF_1302_models/0.975_RF_KL62.full_data.joblib',\n",
       "  '/media/concha-eloko/Linux/PPT_clean/ficheros_28032023/RF_1302_models/0.85_RF_KL62.full_data.joblib',\n",
       "  '/media/concha-eloko/Linux/PPT_clean/ficheros_28032023/RF_1302_models/0.8_RF_KL62.full_data.joblib',\n",
       "  '/media/concha-eloko/Linux/PPT_clean/ficheros_28032023/RF_1302_models/0.65_RF_KL62.full_data.joblib'],\n",
       " 'KL22': ['/media/concha-eloko/Linux/PPT_clean/ficheros_28032023/RF_1302_models/0.7_RF_KL22.full_data.joblib',\n",
       "  '/media/concha-eloko/Linux/PPT_clean/ficheros_28032023/RF_1302_models/0.8_RF_KL22.full_data.joblib',\n",
       "  '/media/concha-eloko/Linux/PPT_clean/ficheros_28032023/RF_1302_models/0.95_RF_KL22.full_data.joblib',\n",
       "  '/media/concha-eloko/Linux/PPT_clean/ficheros_28032023/RF_1302_models/0.975_RF_KL22.full_data.joblib',\n",
       "  '/media/concha-eloko/Linux/PPT_clean/ficheros_28032023/RF_1302_models/0.85_RF_KL22.full_data.joblib',\n",
       "  '/media/concha-eloko/Linux/PPT_clean/ficheros_28032023/RF_1302_models/0.65_RF_KL22.full_data.joblib',\n",
       "  '/media/concha-eloko/Linux/PPT_clean/ficheros_28032023/RF_1302_models/0.9_RF_KL22.full_data.joblib',\n",
       "  '/media/concha-eloko/Linux/PPT_clean/ficheros_28032023/RF_1302_models/0.75_RF_KL22.full_data.joblib'],\n",
       " 'KL149': ['/media/concha-eloko/Linux/PPT_clean/ficheros_28032023/RF_1302_models/0.8_RF_KL149.full_data.joblib',\n",
       "  '/media/concha-eloko/Linux/PPT_clean/ficheros_28032023/RF_1302_models/0.85_RF_KL149.full_data.joblib',\n",
       "  '/media/concha-eloko/Linux/PPT_clean/ficheros_28032023/RF_1302_models/0.95_RF_KL149.full_data.joblib',\n",
       "  '/media/concha-eloko/Linux/PPT_clean/ficheros_28032023/RF_1302_models/0.75_RF_KL149.full_data.joblib',\n",
       "  '/media/concha-eloko/Linux/PPT_clean/ficheros_28032023/RF_1302_models/0.975_RF_KL149.full_data.joblib',\n",
       "  '/media/concha-eloko/Linux/PPT_clean/ficheros_28032023/RF_1302_models/0.9_RF_KL149.full_data.joblib',\n",
       "  '/media/concha-eloko/Linux/PPT_clean/ficheros_28032023/RF_1302_models/0.7_RF_KL149.full_data.joblib',\n",
       "  '/media/concha-eloko/Linux/PPT_clean/ficheros_28032023/RF_1302_models/0.65_RF_KL149.full_data.joblib'],\n",
       " 'KL152': ['/media/concha-eloko/Linux/PPT_clean/ficheros_28032023/RF_1302_models/0.8_RF_KL152.full_data.joblib',\n",
       "  '/media/concha-eloko/Linux/PPT_clean/ficheros_28032023/RF_1302_models/0.65_RF_KL152.full_data.joblib',\n",
       "  '/media/concha-eloko/Linux/PPT_clean/ficheros_28032023/RF_1302_models/0.85_RF_KL152.full_data.joblib',\n",
       "  '/media/concha-eloko/Linux/PPT_clean/ficheros_28032023/RF_1302_models/0.975_RF_KL152.full_data.joblib',\n",
       "  '/media/concha-eloko/Linux/PPT_clean/ficheros_28032023/RF_1302_models/0.95_RF_KL152.full_data.joblib',\n",
       "  '/media/concha-eloko/Linux/PPT_clean/ficheros_28032023/RF_1302_models/0.75_RF_KL152.full_data.joblib',\n",
       "  '/media/concha-eloko/Linux/PPT_clean/ficheros_28032023/RF_1302_models/0.7_RF_KL152.full_data.joblib',\n",
       "  '/media/concha-eloko/Linux/PPT_clean/ficheros_28032023/RF_1302_models/0.9_RF_KL152.full_data.joblib'],\n",
       " 'KL117': ['/media/concha-eloko/Linux/PPT_clean/ficheros_28032023/RF_1302_models/0.9_RF_KL117.full_data.joblib',\n",
       "  '/media/concha-eloko/Linux/PPT_clean/ficheros_28032023/RF_1302_models/0.975_RF_KL117.full_data.joblib',\n",
       "  '/media/concha-eloko/Linux/PPT_clean/ficheros_28032023/RF_1302_models/0.95_RF_KL117.full_data.joblib',\n",
       "  '/media/concha-eloko/Linux/PPT_clean/ficheros_28032023/RF_1302_models/0.8_RF_KL117.full_data.joblib',\n",
       "  '/media/concha-eloko/Linux/PPT_clean/ficheros_28032023/RF_1302_models/0.65_RF_KL117.full_data.joblib',\n",
       "  '/media/concha-eloko/Linux/PPT_clean/ficheros_28032023/RF_1302_models/0.75_RF_KL117.full_data.joblib',\n",
       "  '/media/concha-eloko/Linux/PPT_clean/ficheros_28032023/RF_1302_models/0.85_RF_KL117.full_data.joblib',\n",
       "  '/media/concha-eloko/Linux/PPT_clean/ficheros_28032023/RF_1302_models/0.7_RF_KL117.full_data.joblib']}"
      ]
     },
     "execution_count": 13,
     "metadata": {},
     "output_type": "execute_result"
    }
   ],
   "source": [
    "cluster_values = set([file.split(\"_\")[0] for file in os.listdir(path_jobs)])\n",
    "KLtypes = set([file.split(\"_RF_\")[1].split(\".full_data\")[0] for file in os.listdir(path_jobs)])\n",
    "\n",
    "KLtypes_paths = {kltype : [f\"{path_jobs}/{file}\" for file in os.listdir(path_jobs) if file.split(\"_RF_\")[1].split(\".full_data\")[0]==kltype]\n",
    "                for kltype in KLtypes}\n",
    "\n",
    "KLtypes_paths"
   ]
  },
  {
   "cell_type": "markdown",
   "id": "a5b6df37-a43a-4cd6-b108-e4191df886c0",
   "metadata": {},
   "source": [
    "***\n",
    "### Get the best cl value :"
   ]
  },
  {
   "cell_type": "markdown",
   "id": "873ae616-40ee-454c-b1b8-14805430e811",
   "metadata": {},
   "source": [
    "> Functions :"
   ]
  },
  {
   "cell_type": "code",
   "execution_count": 6,
   "id": "df6f4b64-5020-4507-8e14-fb94aa0de77d",
   "metadata": {},
   "outputs": [],
   "source": [
    "def get_mean_MCC(path_data_object):\n",
    "    try:\n",
    "        assert os.path.isfile(path_data_object)\n",
    "        data_object = joblib.load(path_data_object)\n",
    "        mcc_values = []\n",
    "        for i in data_object:\n",
    "            y_test = data_object[i][\"test_data\"][0].values\n",
    "            predictions = data_object[i][\"test_data\"][1]\n",
    "            mcc = matthews_corrcoef(y_test, predictions)\n",
    "            mcc_values.append(mcc)\n",
    "        del data_object \n",
    "        mean_mcc = mean(mcc_values)\n",
    "        return mean_mcc\n",
    "    except AssertionError:\n",
    "        raise FileNotFoundError(f\"File not found: {path_data_object}\")\n",
    "\n",
    "    "
   ]
  },
  {
   "cell_type": "markdown",
   "id": "8f7f9f4c-7330-4e94-b2f4-54163d7ff1fa",
   "metadata": {},
   "source": [
    "> Get the best model : "
   ]
  },
  {
   "cell_type": "code",
   "execution_count": 14,
   "id": "129e981e-444c-4b80-9d55-c9bc686f778a",
   "metadata": {
    "scrolled": true
   },
   "outputs": [
    {
     "name": "stderr",
     "output_type": "stream",
     "text": [
      "  0%|                                                                                                                                     | 0/96 [00:00<?, ?it/s]"
     ]
    },
    {
     "name": "stdout",
     "output_type": "stream",
     "text": [
      "KL71\t15\t0.9\t0.5423261445466404\n",
      "KL71\t15\t0.75\t0.7409207609430039\n",
      "KL71\t15\t0.85\t0.0\n",
      "KL71\t15\t0.8\t0.7409207609430039\n",
      "KL71\t15\t0.7\t0.5919747986457313\n",
      "KL71\t15\t0.975\t0.4338609156373123\n",
      "KL71\t15\t0.95\t0.4338609156373123\n"
     ]
    },
    {
     "name": "stderr",
     "output_type": "stream",
     "text": [
      "  1%|█▎                                                                                                                           | 1/96 [00:07<11:41,  7.38s/it]"
     ]
    },
    {
     "name": "stdout",
     "output_type": "stream",
     "text": [
      "KL71\t15\t0.65\t0.5015354472338103\n",
      "KL139\t10\t0.75\t0.7164117158323701\n",
      "KL139\t10\t0.9\t0.735400640077266\n",
      "KL139\t10\t0.85\t0.6994347603915498\n",
      "KL139\t10\t0.7\t0.6911004289095706\n",
      "KL139\t10\t0.65\t0.6911004289095706\n",
      "KL139\t10\t0.8\t0.8416176409860249\n",
      "KL139\t10\t0.975\t0.0\n"
     ]
    },
    {
     "name": "stderr",
     "output_type": "stream",
     "text": [
      "  2%|██▌                                                                                                                          | 2/96 [00:12<09:37,  6.14s/it]"
     ]
    },
    {
     "name": "stdout",
     "output_type": "stream",
     "text": [
      "KL139\t10\t0.95\t0.735400640077266\n",
      "KL124\t12\t0.65\t0.6830039823062017\n",
      "KL124\t12\t0.8\t0.73554389307022\n",
      "KL124\t12\t0.9\t0.73554389307022\n",
      "KL124\t12\t0.75\t0.637485825501128\n",
      "KL124\t12\t0.85\t0.73554389307022\n",
      "KL124\t12\t0.95\t0.73554389307022\n",
      "KL124\t12\t0.975\t0.73554389307022\n"
     ]
    },
    {
     "name": "stderr",
     "output_type": "stream",
     "text": [
      "  3%|███▉                                                                                                                         | 3/96 [00:18<09:18,  6.01s/it]"
     ]
    },
    {
     "name": "stdout",
     "output_type": "stream",
     "text": [
      "KL124\t12\t0.7\t0.6830039823062017\n",
      "KL15\t204\t0.9\t0.7612395705073404\n",
      "KL15\t204\t0.975\t0.6972225891373132\n",
      "KL15\t204\t0.8\t0.7322081527819835\n",
      "KL15\t204\t0.65\t0.6179103798502716\n",
      "KL15\t204\t0.95\t0.73328605422235\n",
      "KL15\t204\t0.75\t0.6668222857284879\n",
      "KL15\t204\t0.7\t0.666487442598033\n"
     ]
    },
    {
     "name": "stderr",
     "output_type": "stream",
     "text": [
      "  4%|█████▏                                                                                                                       | 4/96 [00:25<09:36,  6.26s/it]"
     ]
    },
    {
     "name": "stdout",
     "output_type": "stream",
     "text": [
      "KL15\t204\t0.85\t0.781243516812687\n",
      "KL157\t13\t0.7\t0.7237692173614574\n",
      "KL157\t13\t0.65\t0.893636187267738\n",
      "KL157\t13\t0.9\t0.8437737987511634\n",
      "KL157\t13\t0.75\t0.7573591584938887\n",
      "KL157\t13\t0.8\t0.8419745431092732\n",
      "KL157\t13\t0.95\t0.508629727222366\n",
      "KL157\t13\t0.975\t0.508629727222366\n"
     ]
    },
    {
     "name": "stderr",
     "output_type": "stream",
     "text": [
      "  5%|██████▌                                                                                                                      | 5/96 [00:30<08:54,  5.88s/it]"
     ]
    },
    {
     "name": "stdout",
     "output_type": "stream",
     "text": [
      "KL157\t13\t0.85\t0.6449067559962154\n",
      "KL145\t29\t0.95\t0.8940505765461982\n",
      "KL145\t29\t0.7\t0.9197709830017538\n",
      "KL145\t29\t0.65\t0.9377191850351939\n",
      "KL145\t29\t0.8\t0.9592106040535499\n",
      "KL145\t29\t0.85\t0.9377191850351939\n",
      "KL145\t29\t0.9\t0.8940505765461982\n",
      "KL145\t29\t0.975\t0.8521644595546172\n"
     ]
    },
    {
     "name": "stderr",
     "output_type": "stream",
     "text": [
      "  6%|███████▊                                                                                                                     | 6/96 [00:37<09:39,  6.44s/it]"
     ]
    },
    {
     "name": "stdout",
     "output_type": "stream",
     "text": [
      "KL145\t29\t0.75\t0.918113883008419\n",
      "KL110\t64\t0.8\t0.7253934543512076\n",
      "KL110\t64\t0.65\t0.7399715312154859\n",
      "KL110\t64\t0.85\t0.701556087107071\n",
      "KL110\t64\t0.9\t0.7318020190187686\n",
      "KL110\t64\t0.7\t0.7463611022792834\n",
      "KL110\t64\t0.975\t0.7455826612410267\n",
      "KL110\t64\t0.95\t0.7671179373233533\n"
     ]
    },
    {
     "name": "stderr",
     "output_type": "stream",
     "text": [
      "  7%|█████████                                                                                                                    | 7/96 [00:43<09:11,  6.20s/it]"
     ]
    },
    {
     "name": "stdout",
     "output_type": "stream",
     "text": [
      "KL110\t64\t0.75\t0.7594154760554404\n",
      "KL125\t26\t0.65\t0.0\n",
      "KL125\t26\t0.95\t0.0\n",
      "KL125\t26\t0.975\t0.0\n",
      "KL125\t26\t0.9\t0.0\n",
      "KL125\t26\t0.75\t0.0\n",
      "KL125\t26\t0.8\t0.0\n",
      "KL125\t26\t0.7\t0.0\n"
     ]
    },
    {
     "name": "stderr",
     "output_type": "stream",
     "text": [
      "  8%|██████████▍                                                                                                                  | 8/96 [00:48<08:22,  5.71s/it]"
     ]
    },
    {
     "name": "stdout",
     "output_type": "stream",
     "text": [
      "KL125\t26\t0.85\t0.0\n",
      "KL20\t18\t0.85\t0.0\n",
      "KL20\t18\t0.9\t0.0\n",
      "KL20\t18\t0.975\t0.0\n",
      "KL20\t18\t0.95\t0.0\n",
      "KL20\t18\t0.7\t0.0\n",
      "KL20\t18\t0.65\t0.0\n",
      "KL20\t18\t0.75\t0.0\n"
     ]
    },
    {
     "name": "stderr",
     "output_type": "stream",
     "text": [
      "  9%|███████████▋                                                                                                                 | 9/96 [00:53<07:53,  5.44s/it]"
     ]
    },
    {
     "name": "stdout",
     "output_type": "stream",
     "text": [
      "KL20\t18\t0.8\t0.35325310165205387\n",
      "KL107\t1121\t0.95\t0.7683200029480542\n",
      "KL107\t1121\t0.9\t0.783322481465053\n",
      "KL107\t1121\t0.7\t0.778026834085233\n",
      "KL107\t1121\t0.85\t0.79153889872206\n",
      "KL107\t1121\t0.75\t0.779557823283383\n",
      "KL107\t1121\t0.975\t0.7341911238666775\n",
      "KL107\t1121\t0.8\t0.7685991800579572\n"
     ]
    },
    {
     "name": "stderr",
     "output_type": "stream",
     "text": [
      " 10%|████████████▉                                                                                                               | 10/96 [01:07<11:56,  8.34s/it]"
     ]
    },
    {
     "name": "stdout",
     "output_type": "stream",
     "text": [
      "KL107\t1121\t0.65\t0.7782555660369448\n",
      "KL128\t22\t0.85\t0.8008969483663161\n",
      "KL128\t22\t0.75\t0.8565177020578651\n",
      "KL128\t22\t0.65\t0.8565177020578651\n",
      "KL128\t22\t0.8\t0.8225204313631472\n",
      "KL128\t22\t0.9\t0.6681751327483401\n",
      "KL128\t22\t0.7\t0.8348942190610341\n",
      "KL128\t22\t0.975\t0.5635108026822929\n"
     ]
    },
    {
     "name": "stderr",
     "output_type": "stream",
     "text": [
      " 11%|██████████████▏                                                                                                             | 11/96 [01:13<10:32,  7.44s/it]"
     ]
    },
    {
     "name": "stdout",
     "output_type": "stream",
     "text": [
      "KL128\t22\t0.95\t0.623997686700365\n",
      "KL38\t76\t0.95\t0.6228168610245342\n",
      "KL38\t76\t0.8\t0.6719144303275467\n",
      "KL38\t76\t0.9\t0.64814715735069\n",
      "KL38\t76\t0.7\t0.7560809732775651\n",
      "KL38\t76\t0.65\t0.7351602771295945\n",
      "KL38\t76\t0.75\t0.6799404539571781\n",
      "KL38\t76\t0.975\t0.6285605351290963\n"
     ]
    },
    {
     "name": "stderr",
     "output_type": "stream",
     "text": [
      " 12%|███████████████▌                                                                                                            | 12/96 [01:19<10:03,  7.19s/it]"
     ]
    },
    {
     "name": "stdout",
     "output_type": "stream",
     "text": [
      "KL38\t76\t0.85\t0.6911254303953135\n",
      "KL45\t63\t0.7\t0.8754433904023085\n",
      "KL45\t63\t0.75\t0.9038451031489667\n",
      "KL45\t63\t0.975\t0.811063858930806\n",
      "KL45\t63\t0.9\t0.8938326428466874\n",
      "KL45\t63\t0.95\t0.8321897272083567\n",
      "KL45\t63\t0.8\t0.8431789089364122\n",
      "KL45\t63\t0.65\t0.8524505968250915\n"
     ]
    },
    {
     "name": "stderr",
     "output_type": "stream",
     "text": [
      " 14%|████████████████▊                                                                                                           | 13/96 [01:27<09:53,  7.15s/it]"
     ]
    },
    {
     "name": "stdout",
     "output_type": "stream",
     "text": [
      "KL45\t63\t0.85\t0.8840078210857842\n",
      "KL8\t20\t0.95\t0.6252117575790629\n",
      "KL8\t20\t0.975\t0.4039594799529941\n",
      "KL8\t20\t0.8\t0.5234449528811611\n",
      "KL8\t20\t0.85\t0.5027182824148568\n",
      "KL8\t20\t0.65\t0.09325048082403138\n",
      "KL8\t20\t0.75\t0.3804369506451221\n",
      "KL8\t20\t0.9\t0.5264529551172001\n"
     ]
    },
    {
     "name": "stderr",
     "output_type": "stream",
     "text": [
      " 15%|██████████████████                                                                                                          | 14/96 [01:33<09:35,  7.01s/it]"
     ]
    },
    {
     "name": "stdout",
     "output_type": "stream",
     "text": [
      "KL8\t20\t0.7\t0.09325048082403138\n",
      "KL51\t144\t0.85\t0.8086417598404179\n",
      "KL51\t144\t0.75\t0.7605051692374113\n",
      "KL51\t144\t0.8\t0.7180356626866119\n",
      "KL51\t144\t0.65\t0.7965502349749932\n",
      "KL51\t144\t0.95\t0.7747386775825617\n",
      "KL51\t144\t0.975\t0.6974552877085076\n",
      "KL51\t144\t0.9\t0.8121052962345671\n"
     ]
    },
    {
     "name": "stderr",
     "output_type": "stream",
     "text": [
      " 16%|███████████████████▍                                                                                                        | 15/96 [01:41<09:45,  7.23s/it]"
     ]
    },
    {
     "name": "stdout",
     "output_type": "stream",
     "text": [
      "KL51\t144\t0.7\t0.7477867368489729\n",
      "KL5\t28\t0.975\t0.7088186324881024\n",
      "KL5\t28\t0.95\t0.6896410538860358\n",
      "KL5\t28\t0.75\t0.6683628498058707\n",
      "KL5\t28\t0.65\t0.34699431403239345\n",
      "KL5\t28\t0.9\t0.7803465387414676\n",
      "KL5\t28\t0.7\t0.7919957647159694\n",
      "KL5\t28\t0.85\t0.649713808922839\n"
     ]
    },
    {
     "name": "stderr",
     "output_type": "stream",
     "text": [
      " 17%|████████████████████▋                                                                                                       | 16/96 [01:48<09:35,  7.19s/it]"
     ]
    },
    {
     "name": "stdout",
     "output_type": "stream",
     "text": [
      "KL5\t28\t0.8\t0.6860234139604424\n",
      "KL137\t8\t0.8\t0.20833333333333331\n",
      "KL137\t8\t0.65\t0.2333333333333333\n",
      "KL137\t8\t0.95\t0.0\n",
      "KL137\t8\t0.85\t0.19166666666666665\n",
      "KL137\t8\t0.7\t0.26666666666666666\n",
      "KL137\t8\t0.9\t0.26666666666666666\n",
      "KL137\t8\t0.975\t0.2333333333333333\n"
     ]
    },
    {
     "name": "stderr",
     "output_type": "stream",
     "text": [
      " 18%|█████████████████████▉                                                                                                      | 17/96 [01:54<09:06,  6.92s/it]"
     ]
    },
    {
     "name": "stdout",
     "output_type": "stream",
     "text": [
      "KL137\t8\t0.75\t0.26666666666666666\n",
      "KL103\t13\t0.975\t0.623169810432912\n",
      "KL103\t13\t0.9\t0.5065990404847633\n",
      "KL103\t13\t0.75\t0.4663152320645239\n",
      "KL103\t13\t0.65\t0.512186023054883\n",
      "KL103\t13\t0.85\t0.5961334836438915\n",
      "KL103\t13\t0.8\t0.6431075003543253\n",
      "KL103\t13\t0.7\t0.5262548715767604\n"
     ]
    },
    {
     "name": "stderr",
     "output_type": "stream",
     "text": [
      " 19%|███████████████████████▎                                                                                                    | 18/96 [02:01<08:49,  6.79s/it]"
     ]
    },
    {
     "name": "stdout",
     "output_type": "stream",
     "text": [
      "KL103\t13\t0.95\t0.6036970598091546\n",
      "KL29\t37\t0.65\t0.7547674919964581\n",
      "KL29\t37\t0.975\t0.48541172318812587\n",
      "KL29\t37\t0.9\t0.763695403871183\n",
      "KL29\t37\t0.75\t0.7650867847318666\n",
      "KL29\t37\t0.8\t0.8228690552042508\n",
      "KL29\t37\t0.7\t0.8314564514127191\n",
      "KL29\t37\t0.95\t0.6160578589054944\n"
     ]
    },
    {
     "name": "stderr",
     "output_type": "stream",
     "text": [
      " 20%|████████████████████████▌                                                                                                   | 19/96 [02:09<09:20,  7.27s/it]"
     ]
    },
    {
     "name": "stdout",
     "output_type": "stream",
     "text": [
      "KL29\t37\t0.85\t0.7414910730164936\n",
      "KL6\t12\t0.65\t0.19470808463880668\n",
      "KL6\t12\t0.8\t0.37865098495967275\n",
      "KL6\t12\t0.7\t0.0\n",
      "KL6\t12\t0.9\t0.0\n",
      "KL6\t12\t0.975\t0.0\n",
      "KL6\t12\t0.85\t0.0\n",
      "KL6\t12\t0.75\t0.0\n"
     ]
    },
    {
     "name": "stderr",
     "output_type": "stream",
     "text": [
      " 21%|█████████████████████████▊                                                                                                  | 20/96 [02:16<08:55,  7.04s/it]"
     ]
    },
    {
     "name": "stdout",
     "output_type": "stream",
     "text": [
      "KL6\t12\t0.95\t0.0\n",
      "KL61\t10\t0.8\t0.4897593063409451\n",
      "KL61\t10\t0.9\t0.5348399724926484\n",
      "KL61\t10\t0.975\t0.2897593063409451\n",
      "KL61\t10\t0.95\t0.2516397779494322\n",
      "KL61\t10\t0.65\t0.5348399724926484\n",
      "KL61\t10\t0.7\t0.5078719779941188\n",
      "KL61\t10\t0.75\t0.5078719779941188\n"
     ]
    },
    {
     "name": "stderr",
     "output_type": "stream",
     "text": [
      " 22%|███████████████████████████▏                                                                                                | 21/96 [02:22<08:36,  6.89s/it]"
     ]
    },
    {
     "name": "stdout",
     "output_type": "stream",
     "text": [
      "KL61\t10\t0.85\t0.4678719779941187\n",
      "KL1\t190\t0.95\t0.5401488722819151\n",
      "KL1\t190\t0.75\t0.5322178848255879\n",
      "KL1\t190\t0.65\t0.7254799287116673\n",
      "KL1\t190\t0.85\t0.5444479817538865\n",
      "KL1\t190\t0.975\t0.5658672517701647\n",
      "KL1\t190\t0.7\t0.5706777566705462\n",
      "KL1\t190\t0.8\t0.7741820012161877\n"
     ]
    },
    {
     "name": "stderr",
     "output_type": "stream",
     "text": [
      " 23%|████████████████████████████▍                                                                                               | 22/96 [02:29<08:25,  6.83s/it]"
     ]
    },
    {
     "name": "stdout",
     "output_type": "stream",
     "text": [
      "KL1\t190\t0.9\t0.7530795024791\n",
      "KL136\t32\t0.8\t0.8329674893228074\n",
      "KL136\t32\t0.75\t0.7847431705784509\n",
      "KL136\t32\t0.95\t0.27877282097486783\n",
      "KL136\t32\t0.7\t0.908008828658608\n",
      "KL136\t32\t0.65\t0.8539755357732747\n",
      "KL136\t32\t0.9\t0.9236977106128045\n",
      "KL136\t32\t0.975\t0.7787100792647679\n"
     ]
    },
    {
     "name": "stderr",
     "output_type": "stream",
     "text": [
      " 24%|█████████████████████████████▋                                                                                              | 23/96 [02:36<08:33,  7.03s/it]"
     ]
    },
    {
     "name": "stdout",
     "output_type": "stream",
     "text": [
      "KL136\t32\t0.85\t0.6156914657382888\n",
      "KL53\t51\t0.975\t0.854863535860379\n",
      "KL53\t51\t0.85\t0.8678497817950193\n",
      "KL53\t51\t0.65\t0.8682668674794622\n",
      "KL53\t51\t0.7\t0.8803960672182307\n",
      "KL53\t51\t0.9\t0.8547829182158215\n",
      "KL53\t51\t0.95\t0.8540978573052442\n",
      "KL53\t51\t0.75\t0.8803960672182307\n"
     ]
    },
    {
     "name": "stderr",
     "output_type": "stream",
     "text": [
      " 25%|███████████████████████████████                                                                                             | 24/96 [02:43<08:14,  6.87s/it]"
     ]
    },
    {
     "name": "stdout",
     "output_type": "stream",
     "text": [
      "KL53\t51\t0.8\t0.8678497817950193\n",
      "KL17\t481\t0.75\t0.9270956303128521\n",
      "KL17\t481\t0.975\t0.9356004731976137\n",
      "KL17\t481\t0.9\t0.9347235756829937\n",
      "KL17\t481\t0.8\t0.9370483556655504\n",
      "KL17\t481\t0.85\t0.9259462608218166\n",
      "KL17\t481\t0.95\t0.9459271077161702\n",
      "KL17\t481\t0.65\t0.9320935046955348\n"
     ]
    },
    {
     "name": "stderr",
     "output_type": "stream",
     "text": [
      " 26%|████████████████████████████████▎                                                                                           | 25/96 [02:54<09:44,  8.23s/it]"
     ]
    },
    {
     "name": "stdout",
     "output_type": "stream",
     "text": [
      "KL17\t481\t0.7\t0.9448913474803732\n",
      "KL48\t22\t0.85\t0.5057330617635248\n",
      "KL48\t22\t0.7\t0.3690954235188991\n",
      "KL48\t22\t0.95\t0.0\n",
      "KL48\t22\t0.975\t0.3157375561611819\n",
      "KL48\t22\t0.75\t0.27857559697053486\n",
      "KL48\t22\t0.8\t0.199321625076353\n",
      "KL48\t22\t0.65\t0.39849701170578417\n"
     ]
    },
    {
     "name": "stderr",
     "output_type": "stream",
     "text": [
      " 27%|█████████████████████████████████▌                                                                                          | 26/96 [03:00<08:34,  7.35s/it]"
     ]
    },
    {
     "name": "stdout",
     "output_type": "stream",
     "text": [
      "KL48\t22\t0.9\t0.3157375561611819\n",
      "KL105\t114\t0.975\t0.6592573646739367\n",
      "KL105\t114\t0.75\t0.6515843333292838\n",
      "KL105\t114\t0.8\t0.762921542889064\n",
      "KL105\t114\t0.7\t0.705156832462718\n",
      "KL105\t114\t0.65\t0.6796823992735131\n",
      "KL105\t114\t0.95\t0.7844862607071058\n",
      "KL105\t114\t0.85\t0.7435561769017999\n"
     ]
    },
    {
     "name": "stderr",
     "output_type": "stream",
     "text": [
      " 28%|██████████████████████████████████▉                                                                                         | 27/96 [03:06<08:08,  7.08s/it]"
     ]
    },
    {
     "name": "stdout",
     "output_type": "stream",
     "text": [
      "KL105\t114\t0.9\t0.6773944884974388\n",
      "KL112\t60\t0.975\t0.2968449746594753\n",
      "KL112\t60\t0.7\t0.6633861454079226\n",
      "KL112\t60\t0.95\t0.6908022034071399\n",
      "KL112\t60\t0.9\t0.6633861454079226\n",
      "KL112\t60\t0.85\t0.7545953176501083\n",
      "KL112\t60\t0.65\t0.5532561064760572\n",
      "KL112\t60\t0.75\t0.6766250768408285\n"
     ]
    },
    {
     "name": "stderr",
     "output_type": "stream",
     "text": [
      " 29%|████████████████████████████████████▏                                                                                       | 28/96 [03:12<07:30,  6.63s/it]"
     ]
    },
    {
     "name": "stdout",
     "output_type": "stream",
     "text": [
      "KL112\t60\t0.8\t0.6766250768408285\n",
      "KL16\t27\t0.85\t0.5674973289890533\n",
      "KL16\t27\t0.975\t0.0\n",
      "KL16\t27\t0.65\t0.4597050376438301\n",
      "KL16\t27\t0.95\t0.3911762301902979\n",
      "KL16\t27\t0.75\t0.4140413198793176\n",
      "KL16\t27\t0.9\t0.0\n",
      "KL16\t27\t0.7\t0.0\n"
     ]
    },
    {
     "name": "stderr",
     "output_type": "stream",
     "text": [
      " 30%|█████████████████████████████████████▍                                                                                      | 29/96 [03:18<07:25,  6.64s/it]"
     ]
    },
    {
     "name": "stdout",
     "output_type": "stream",
     "text": [
      "KL16\t27\t0.8\t0.0\n",
      "KL28\t112\t0.95\t0.7717821186631347\n",
      "KL28\t112\t0.65\t0.8203897164118136\n",
      "KL28\t112\t0.9\t0.7804348547235289\n",
      "KL28\t112\t0.975\t0.7197485949847426\n",
      "KL28\t112\t0.85\t0.8446934684060952\n",
      "KL28\t112\t0.8\t0.7958884851187231\n",
      "KL28\t112\t0.7\t0.7893318847344591\n"
     ]
    },
    {
     "name": "stderr",
     "output_type": "stream",
     "text": [
      " 31%|██████████████████████████████████████▊                                                                                     | 30/96 [03:26<07:30,  6.82s/it]"
     ]
    },
    {
     "name": "stdout",
     "output_type": "stream",
     "text": [
      "KL28\t112\t0.75\t0.8574204547181027\n",
      "KL114\t24\t0.9\t0.7573393063673132\n",
      "KL114\t24\t0.75\t0.7336950448023823\n",
      "KL114\t24\t0.975\t0.7260538283639957\n",
      "KL114\t24\t0.65\t0.8056726397006465\n",
      "KL114\t24\t0.7\t0.7431429911662659\n",
      "KL114\t24\t0.8\t0.7584635362306736\n",
      "KL114\t24\t0.95\t0.8056726397006465\n"
     ]
    },
    {
     "name": "stderr",
     "output_type": "stream",
     "text": [
      " 32%|████████████████████████████████████████                                                                                    | 31/96 [03:33<07:30,  6.92s/it]"
     ]
    },
    {
     "name": "stdout",
     "output_type": "stream",
     "text": [
      "KL114\t24\t0.85\t0.7607981762117202\n",
      "KL35\t18\t0.65\t0.30689314297572257\n",
      "KL35\t18\t0.8\t0.31937256164818817\n",
      "KL35\t18\t0.85\t0.4934986580010322\n",
      "KL35\t18\t0.7\t0.3591993243337469\n",
      "KL35\t18\t0.975\t0.1617194309760283\n",
      "KL35\t18\t0.75\t0.5025549595675399\n",
      "KL35\t18\t0.95\t0.0866384347267568\n"
     ]
    },
    {
     "name": "stderr",
     "output_type": "stream",
     "text": [
      " 33%|█████████████████████████████████████████▎                                                                                  | 32/96 [03:40<07:26,  6.98s/it]"
     ]
    },
    {
     "name": "stdout",
     "output_type": "stream",
     "text": [
      "KL35\t18\t0.9\t0.2683531393315406\n",
      "KL169\t27\t0.7\t0.6044457453279557\n",
      "KL169\t27\t0.975\t0.5445005519165623\n",
      "KL169\t27\t0.8\t0.2869460024736606\n",
      "KL169\t27\t0.85\t0.3619460024736606\n",
      "KL169\t27\t0.9\t0.3619460024736606\n",
      "KL169\t27\t0.75\t0.5118453480418343\n",
      "KL169\t27\t0.65\t0.41472310087631276\n"
     ]
    },
    {
     "name": "stderr",
     "output_type": "stream",
     "text": [
      " 34%|██████████████████████████████████████████▋                                                                                 | 33/96 [03:46<07:07,  6.78s/it]"
     ]
    },
    {
     "name": "stdout",
     "output_type": "stream",
     "text": [
      "KL169\t27\t0.95\t0.5924768834535825\n",
      "KL24\t288\t0.75\t0.6992798399306948\n",
      "KL24\t288\t0.95\t0.666692982499541\n",
      "KL24\t288\t0.7\t0.6911931784539436\n",
      "KL24\t288\t0.85\t0.7859092373131645\n",
      "KL24\t288\t0.65\t0.7983578815863533\n",
      "KL24\t288\t0.9\t0.7824837004590824\n",
      "KL24\t288\t0.975\t0.6557671979347547\n"
     ]
    },
    {
     "name": "stderr",
     "output_type": "stream",
     "text": [
      " 35%|███████████████████████████████████████████▉                                                                                | 34/96 [03:52<06:50,  6.62s/it]"
     ]
    },
    {
     "name": "stdout",
     "output_type": "stream",
     "text": [
      "KL24\t288\t0.8\t0.7860823825314167\n",
      "KL4\t13\t0.8\t0.6083545042555153\n",
      "KL4\t13\t0.85\t0.0\n",
      "KL4\t13\t0.9\t0.0\n",
      "KL4\t13\t0.75\t0.4868927816590626\n",
      "KL4\t13\t0.65\t0.5584921157389406\n",
      "KL4\t13\t0.7\t0.0\n",
      "KL4\t13\t0.975\t0.6083545042555153\n"
     ]
    },
    {
     "name": "stderr",
     "output_type": "stream",
     "text": [
      " 36%|█████████████████████████████████████████████▏                                                                              | 35/96 [04:00<06:54,  6.79s/it]"
     ]
    },
    {
     "name": "stdout",
     "output_type": "stream",
     "text": [
      "KL4\t13\t0.95\t0.5584921157389406\n",
      "KL13\t66\t0.85\t0.5220021751920444\n",
      "KL13\t66\t0.9\t0.5181773245463728\n",
      "KL13\t66\t0.95\t0.5375563685527533\n",
      "KL13\t66\t0.65\t0.45328951824746244\n",
      "KL13\t66\t0.7\t0.4742656646528843\n",
      "KL13\t66\t0.975\t0.5423584764257191\n",
      "KL13\t66\t0.75\t0.5049974673396208\n"
     ]
    },
    {
     "name": "stderr",
     "output_type": "stream",
     "text": [
      " 38%|██████████████████████████████████████████████▌                                                                             | 36/96 [04:08<07:17,  7.29s/it]"
     ]
    },
    {
     "name": "stdout",
     "output_type": "stream",
     "text": [
      "KL13\t66\t0.8\t0.46669688914403906\n",
      "KL7\t37\t0.7\t0.9160565752818397\n",
      "KL7\t37\t0.65\t0.8673563501073295\n",
      "KL7\t37\t0.8\t0.7573027901945398\n",
      "KL7\t37\t0.85\t0.7741138735373531\n",
      "KL7\t37\t0.9\t0.7597794027921165\n",
      "KL7\t37\t0.95\t0.5654802641612443\n",
      "KL7\t37\t0.975\t0.5545316176640713\n"
     ]
    },
    {
     "name": "stderr",
     "output_type": "stream",
     "text": [
      " 39%|███████████████████████████████████████████████▊                                                                            | 37/96 [04:13<06:35,  6.71s/it]"
     ]
    },
    {
     "name": "stdout",
     "output_type": "stream",
     "text": [
      "KL7\t37\t0.75\t0.8634980652806155\n",
      "KL30\t93\t0.9\t0.527909491778057\n",
      "KL30\t93\t0.8\t0.48285383334362425\n",
      "KL30\t93\t0.975\t0.5430644632451618\n",
      "KL30\t93\t0.75\t0.5066565976526977\n",
      "KL30\t93\t0.7\t0.4537113254114122\n",
      "KL30\t93\t0.85\t0.5324078684588002\n",
      "KL30\t93\t0.65\t0.4408139292924382\n"
     ]
    },
    {
     "name": "stderr",
     "output_type": "stream",
     "text": [
      " 40%|█████████████████████████████████████████████████                                                                           | 38/96 [04:20<06:34,  6.81s/it]"
     ]
    },
    {
     "name": "stdout",
     "output_type": "stream",
     "text": [
      "KL30\t93\t0.95\t0.48789807085912623\n",
      "KL118\t23\t0.85\t0.8583005902280558\n",
      "KL118\t23\t0.7\t0.847013342275926\n",
      "KL118\t23\t0.9\t0.8692079523340958\n",
      "KL118\t23\t0.975\t0.3371684293371546\n",
      "KL118\t23\t0.75\t0.9037525005601055\n",
      "KL118\t23\t0.8\t0.9253570214625478\n"
     ]
    },
    {
     "name": "stderr",
     "output_type": "stream",
     "text": [
      " 41%|██████████████████████████████████████████████████▍                                                                         | 39/96 [04:27<06:29,  6.83s/it]"
     ]
    },
    {
     "name": "stdout",
     "output_type": "stream",
     "text": [
      "KL118\t23\t0.95\t0.8421564305750328\n",
      "KL23\t126\t0.975\t0.698264085243891\n",
      "KL23\t126\t0.9\t0.7074173706693224\n",
      "KL23\t126\t0.8\t0.7164803201811585\n",
      "KL23\t126\t0.95\t0.6574874279380293\n",
      "KL23\t126\t0.85\t0.7107185758679253\n",
      "KL23\t126\t0.65\t0.7702824142076944\n",
      "KL23\t126\t0.75\t0.7323555813066916\n"
     ]
    },
    {
     "name": "stderr",
     "output_type": "stream",
     "text": [
      " 42%|███████████████████████████████████████████████████▋                                                                        | 40/96 [04:35<06:29,  6.96s/it]"
     ]
    },
    {
     "name": "stdout",
     "output_type": "stream",
     "text": [
      "KL23\t126\t0.7\t0.7315900406882624\n",
      "KL41\t10\t0.75\t0.0\n",
      "KL41\t10\t0.85\t0.0\n",
      "KL41\t10\t0.65\t0.24271195048676714\n",
      "KL41\t10\t0.9\t0.0\n",
      "KL41\t10\t0.8\t0.0\n",
      "KL41\t10\t0.975\t0.0\n",
      "KL41\t10\t0.7\t0.0\n"
     ]
    },
    {
     "name": "stderr",
     "output_type": "stream",
     "text": [
      " 43%|████████████████████████████████████████████████████▉                                                                       | 41/96 [04:41<06:14,  6.80s/it]"
     ]
    },
    {
     "name": "stdout",
     "output_type": "stream",
     "text": [
      "KL41\t10\t0.95\t0.2296799449852968\n",
      "KL57\t51\t0.8\t0.7111518450456048\n",
      "KL57\t51\t0.9\t0.6677430477915955\n",
      "KL57\t51\t0.95\t0.6743630169119613\n",
      "KL57\t51\t0.75\t0.7599283099771065\n",
      "KL57\t51\t0.85\t0.7475287544029864\n",
      "KL57\t51\t0.975\t0.7689451081296201\n",
      "KL57\t51\t0.65\t0.7065205577308229\n"
     ]
    },
    {
     "name": "stderr",
     "output_type": "stream",
     "text": [
      " 44%|██████████████████████████████████████████████████████▎                                                                     | 42/96 [04:51<07:02,  7.82s/it]"
     ]
    },
    {
     "name": "stdout",
     "output_type": "stream",
     "text": [
      "KL57\t51\t0.7\t0.7293969399632511\n",
      "KL26\t15\t0.8\t0.7920250002329811\n",
      "KL26\t15\t0.65\t0.824692994926166\n",
      "KL26\t15\t0.975\t0.824692994926166\n",
      "KL26\t15\t0.9\t0.824692994926166\n",
      "KL26\t15\t0.95\t0.824692994926166\n",
      "KL26\t15\t0.7\t0.824692994926166\n",
      "KL26\t15\t0.75\t0.6575872022286244\n"
     ]
    },
    {
     "name": "stderr",
     "output_type": "stream",
     "text": [
      " 45%|███████████████████████████████████████████████████████▌                                                                    | 43/96 [04:56<06:06,  6.91s/it]"
     ]
    },
    {
     "name": "stdout",
     "output_type": "stream",
     "text": [
      "KL26\t15\t0.85\t0.0\n",
      "KL3\t145\t0.65\t0.9456037804621934\n",
      "KL3\t145\t0.9\t0.9285485619303508\n",
      "KL3\t145\t0.975\t0.9241972159486967\n",
      "KL3\t145\t0.7\t0.9374138842053593\n",
      "KL3\t145\t0.85\t0.9417598219566674\n",
      "KL3\t145\t0.75\t0.9540832019302129\n",
      "KL3\t145\t0.8\t0.9540220334991604\n"
     ]
    },
    {
     "name": "stderr",
     "output_type": "stream",
     "text": [
      " 46%|████████████████████████████████████████████████████████▊                                                                   | 44/96 [05:05<06:39,  7.69s/it]"
     ]
    },
    {
     "name": "stdout",
     "output_type": "stream",
     "text": [
      "KL3\t145\t0.95\t0.9327129336985479\n",
      "KL63\t52\t0.9\t0.8398287853148152\n",
      "KL63\t52\t0.8\t0.896570892633532\n",
      "KL63\t52\t0.65\t0.8883741819145623\n",
      "KL63\t52\t0.85\t0.8320099605377004\n",
      "KL63\t52\t0.95\t0.8191813734318749\n",
      "KL63\t52\t0.7\t0.9076179113864506\n",
      "KL63\t52\t0.975\t0.7782125366608916\n"
     ]
    },
    {
     "name": "stderr",
     "output_type": "stream",
     "text": [
      " 47%|██████████████████████████████████████████████████████████▏                                                                 | 45/96 [05:12<06:15,  7.37s/it]"
     ]
    },
    {
     "name": "stdout",
     "output_type": "stream",
     "text": [
      "KL63\t52\t0.75\t0.8700513015863783\n",
      "KL116\t25\t0.65\t0.6460421998151094\n",
      "KL116\t25\t0.85\t0.5334483823948227\n",
      "KL116\t25\t0.7\t0.6825195808948088\n",
      "KL116\t25\t0.9\t0.5764677658240691\n",
      "KL116\t25\t0.75\t0.5667937859978153\n",
      "KL116\t25\t0.95\t0.5635285242282705\n",
      "KL116\t25\t0.975\t0.6761223416485571\n"
     ]
    },
    {
     "name": "stderr",
     "output_type": "stream",
     "text": [
      " 48%|███████████████████████████████████████████████████████████▍                                                                | 46/96 [05:17<05:23,  6.48s/it]"
     ]
    },
    {
     "name": "stdout",
     "output_type": "stream",
     "text": [
      "KL116\t25\t0.8\t0.6497819362871373\n",
      "KL39\t37\t0.7\t0.666250205823954\n",
      "KL39\t37\t0.65\t0.7047505172379441\n",
      "KL39\t37\t0.75\t0.7115385823665988\n",
      "KL39\t37\t0.975\t0.6633245167486489\n",
      "KL39\t37\t0.8\t0.7047179112907433\n",
      "KL39\t37\t0.85\t0.6112059393099613\n",
      "KL39\t37\t0.95\t0.7027576604520903\n"
     ]
    },
    {
     "name": "stderr",
     "output_type": "stream",
     "text": [
      " 49%|████████████████████████████████████████████████████████████▋                                                               | 47/96 [05:23<05:18,  6.50s/it]"
     ]
    },
    {
     "name": "stdout",
     "output_type": "stream",
     "text": [
      "KL39\t37\t0.9\t0.6655929696473003\n",
      "KL119\t6\t0.85\t0.4\n",
      "KL119\t6\t0.95\t0.4\n",
      "KL119\t6\t0.8\t0.32909944487358056\n"
     ]
    },
    {
     "name": "stderr",
     "output_type": "stream",
     "text": [
      " 50%|██████████████████████████████████████████████████████████████                                                              | 48/96 [05:26<04:16,  5.35s/it]"
     ]
    },
    {
     "name": "stdout",
     "output_type": "stream",
     "text": [
      "KL119\t6\t0.975\t0.4\n",
      "KL58\t6\t0.85\t0.5290994448735805\n",
      "KL58\t6\t0.9\t0.0\n",
      "KL58\t6\t0.65\t0.6\n",
      "KL58\t6\t0.95\t0.4\n",
      "KL58\t6\t0.75\t0.6\n",
      "KL58\t6\t0.8\t0.5290994448735805\n",
      "KL58\t6\t0.7\t0.6\n"
     ]
    },
    {
     "name": "stderr",
     "output_type": "stream",
     "text": [
      " 51%|███████████████████████████████████████████████████████████████▎                                                            | 49/96 [05:31<04:15,  5.43s/it]"
     ]
    },
    {
     "name": "stdout",
     "output_type": "stream",
     "text": [
      "KL58\t6\t0.975\t0.3666666666666667\n",
      "KL64\t896\t0.7\t0.7893691606503614\n",
      "KL64\t896\t0.975\t0.8148753503587107\n",
      "KL64\t896\t0.8\t0.7953763180192234\n",
      "KL64\t896\t0.65\t0.7959467053352804\n",
      "KL64\t896\t0.9\t0.7941130758071546\n",
      "KL64\t896\t0.95\t0.8058528419167632\n",
      "KL64\t896\t0.75\t0.7922284734757444\n"
     ]
    },
    {
     "name": "stderr",
     "output_type": "stream",
     "text": [
      " 52%|████████████████████████████████████████████████████████████████▌                                                           | 50/96 [05:43<05:40,  7.40s/it]"
     ]
    },
    {
     "name": "stdout",
     "output_type": "stream",
     "text": [
      "KL64\t896\t0.85\t0.7914559179999973\n",
      "KL47\t551\t0.85\t0.8008807940728095\n",
      "KL47\t551\t0.8\t0.7317773762369625\n",
      "KL47\t551\t0.7\t0.7304694875323637\n",
      "KL47\t551\t0.65\t0.7287927057241648\n",
      "KL47\t551\t0.95\t0.8021742909799096\n",
      "KL47\t551\t0.9\t0.7989707396135799\n",
      "KL47\t551\t0.975\t0.8134521307523142\n"
     ]
    },
    {
     "name": "stderr",
     "output_type": "stream",
     "text": [
      " 53%|█████████████████████████████████████████████████████████████████▉                                                          | 51/96 [05:51<05:37,  7.49s/it]"
     ]
    },
    {
     "name": "stdout",
     "output_type": "stream",
     "text": [
      "KL47\t551\t0.75\t0.7301333645477319\n",
      "KL164\t6\t0.9\t0.4\n",
      "KL164\t6\t0.7\t0.4\n",
      "KL164\t6\t0.95\t0.0\n",
      "KL164\t6\t0.85\t0.4\n",
      "KL164\t6\t0.975\t0.0\n",
      "KL164\t6\t0.75\t0.4\n",
      "KL164\t6\t0.8\t0.4\n"
     ]
    },
    {
     "name": "stderr",
     "output_type": "stream",
     "text": [
      " 54%|███████████████████████████████████████████████████████████████████▏                                                        | 52/96 [05:56<04:53,  6.68s/it]"
     ]
    },
    {
     "name": "stdout",
     "output_type": "stream",
     "text": [
      "KL164\t6\t0.65\t0.5309307341415954\n",
      "KL74\t82\t0.65\t0.8249434141935545\n",
      "KL74\t82\t0.975\t0.8369066155305032\n",
      "KL74\t82\t0.9\t0.8710347172073895\n",
      "KL74\t82\t0.85\t0.8542110164438831\n",
      "KL74\t82\t0.8\t0.870654963559726\n",
      "KL74\t82\t0.95\t0.83254024708249\n",
      "KL74\t82\t0.7\t0.8164997110641482\n"
     ]
    },
    {
     "name": "stderr",
     "output_type": "stream",
     "text": [
      " 55%|████████████████████████████████████████████████████████████████████▍                                                       | 53/96 [06:07<05:40,  7.91s/it]"
     ]
    },
    {
     "name": "stdout",
     "output_type": "stream",
     "text": [
      "KL74\t82\t0.75\t0.8555564711132002\n",
      "KL10\t111\t0.65\t0.7054144436438091\n",
      "KL10\t111\t0.75\t0.7015530217047034\n",
      "KL10\t111\t0.7\t0.6600027856133822\n",
      "KL10\t111\t0.975\t0.7107899156480965\n",
      "KL10\t111\t0.85\t0.6652739360940374\n",
      "KL10\t111\t0.8\t0.7059811285036233\n",
      "KL10\t111\t0.95\t0.7418279203297695\n"
     ]
    },
    {
     "name": "stderr",
     "output_type": "stream",
     "text": [
      " 56%|█████████████████████████████████████████████████████████████████████▊                                                      | 54/96 [06:14<05:27,  7.80s/it]"
     ]
    },
    {
     "name": "stdout",
     "output_type": "stream",
     "text": [
      "KL10\t111\t0.9\t0.685435364356354\n",
      "KL46\t80\t0.8\t0.823364494147025\n",
      "KL46\t80\t0.95\t0.7038550491228497\n",
      "KL46\t80\t0.65\t0.839289472678952\n",
      "KL46\t80\t0.9\t0.7700571071773883\n",
      "KL46\t80\t0.75\t0.7888315338953641\n",
      "KL46\t80\t0.975\t0.7219530476444588\n",
      "KL46\t80\t0.85\t0.7598764794739231\n"
     ]
    },
    {
     "name": "stderr",
     "output_type": "stream",
     "text": [
      " 57%|███████████████████████████████████████████████████████████████████████                                                     | 55/96 [06:23<05:27,  7.99s/it]"
     ]
    },
    {
     "name": "stdout",
     "output_type": "stream",
     "text": [
      "KL46\t80\t0.7\t0.8154570359775414\n",
      "KL111\t67\t0.7\t0.7535653728206528\n",
      "KL111\t67\t0.65\t0.7330025554503083\n",
      "KL111\t67\t0.85\t0.719257166832617\n",
      "KL111\t67\t0.95\t0.7636258463776366\n",
      "KL111\t67\t0.8\t0.7205041052487116\n",
      "KL111\t67\t0.975\t0.7041542651231655\n",
      "KL111\t67\t0.75\t0.702516550803478\n"
     ]
    },
    {
     "name": "stderr",
     "output_type": "stream",
     "text": [
      " 58%|████████████████████████████████████████████████████████████████████████▎                                                   | 56/96 [06:31<05:29,  8.25s/it]"
     ]
    },
    {
     "name": "stdout",
     "output_type": "stream",
     "text": [
      "KL111\t67\t0.9\t0.6787966676734762\n",
      "KL54\t12\t0.8\t0.8094328188745654\n",
      "KL54\t12\t0.75\t0.6811793070692683\n",
      "KL54\t12\t0.95\t0.849659060318446\n",
      "KL54\t12\t0.85\t0.7418794964099117\n",
      "KL54\t12\t0.7\t0.6286393963052502\n",
      "KL54\t12\t0.9\t0.8060062523125603\n",
      "KL54\t12\t0.65\t0.7016532549660311\n"
     ]
    },
    {
     "name": "stderr",
     "output_type": "stream",
     "text": [
      " 59%|█████████████████████████████████████████████████████████████████████████▋                                                  | 57/96 [06:38<04:59,  7.69s/it]"
     ]
    },
    {
     "name": "stdout",
     "output_type": "stream",
     "text": [
      "KL54\t12\t0.975\t0.0\n",
      "KL102\t242\t0.975\t0.8928674091722884\n",
      "KL102\t242\t0.65\t0.8953322341652887\n",
      "KL102\t242\t0.95\t0.919010939641858\n",
      "KL102\t242\t0.8\t0.8906573807427612\n",
      "KL102\t242\t0.75\t0.8852137310719373\n",
      "KL102\t242\t0.9\t0.939535360789834\n",
      "KL102\t242\t0.85\t0.9036681949749144\n"
     ]
    },
    {
     "name": "stderr",
     "output_type": "stream",
     "text": [
      " 60%|██████████████████████████████████████████████████████████████████████████▉                                                 | 58/96 [06:44<04:29,  7.10s/it]"
     ]
    },
    {
     "name": "stdout",
     "output_type": "stream",
     "text": [
      "KL102\t242\t0.7\t0.887634690721777\n",
      "KL27\t133\t0.9\t0.7793968056470953\n",
      "KL27\t133\t0.975\t0.7850350635417376\n",
      "KL27\t133\t0.65\t0.8034917500214052\n",
      "KL27\t133\t0.75\t0.7843012323527717\n",
      "KL27\t133\t0.85\t0.7892982763679252\n",
      "KL27\t133\t0.7\t0.8137617732879174\n",
      "KL27\t133\t0.95\t0.7889512397450472\n"
     ]
    },
    {
     "name": "stderr",
     "output_type": "stream",
     "text": [
      " 61%|████████████████████████████████████████████████████████████████████████████▏                                               | 59/96 [06:49<04:00,  6.50s/it]"
     ]
    },
    {
     "name": "stdout",
     "output_type": "stream",
     "text": [
      "KL27\t133\t0.8\t0.7991459860402863\n",
      "KL108\t30\t0.9\t0.4537380684964704\n",
      "KL108\t30\t0.85\t0.8142624611008076\n",
      "KL108\t30\t0.95\t0.8630426389007139\n",
      "KL108\t30\t0.75\t0.7192876778565521\n",
      "KL108\t30\t0.65\t0.8127778936220492\n",
      "KL108\t30\t0.7\t0.8104289174575333\n",
      "KL108\t30\t0.975\t0.6135120085525898\n"
     ]
    },
    {
     "name": "stderr",
     "output_type": "stream",
     "text": [
      " 62%|█████████████████████████████████████████████████████████████████████████████▌                                              | 60/96 [06:57<04:15,  7.10s/it]"
     ]
    },
    {
     "name": "stdout",
     "output_type": "stream",
     "text": [
      "KL108\t30\t0.8\t0.7495902627130641\n",
      "KL166\t10\t0.95\t0.0\n",
      "KL166\t10\t0.65\t0.0\n",
      "KL166\t10\t0.75\t0.4845199174779452\n",
      "KL166\t10\t0.8\t0.5393598899705936\n",
      "KL166\t10\t0.975\t0.0\n",
      "KL166\t10\t0.7\t0.5393598899705936\n",
      "KL166\t10\t0.85\t0.0\n"
     ]
    },
    {
     "name": "stderr",
     "output_type": "stream",
     "text": [
      " 64%|██████████████████████████████████████████████████████████████████████████████▊                                             | 61/96 [07:02<03:44,  6.42s/it]"
     ]
    },
    {
     "name": "stdout",
     "output_type": "stream",
     "text": [
      "KL166\t10\t0.9\t0.0\n",
      "KL36\t88\t0.65\t0.8329389509402468\n",
      "KL36\t88\t0.8\t0.788780046374078\n",
      "KL36\t88\t0.95\t0.665618142795237\n",
      "KL36\t88\t0.975\t0.5548479141748701\n",
      "KL36\t88\t0.9\t0.8578835813540752\n",
      "KL36\t88\t0.75\t0.8571315705567037\n",
      "KL36\t88\t0.85\t0.8527128112481998\n"
     ]
    },
    {
     "name": "stderr",
     "output_type": "stream",
     "text": [
      " 65%|████████████████████████████████████████████████████████████████████████████████                                            | 62/96 [07:10<03:56,  6.96s/it]"
     ]
    },
    {
     "name": "stdout",
     "output_type": "stream",
     "text": [
      "KL36\t88\t0.7\t0.8893345614722639\n",
      "KL56\t13\t0.85\t0.8222150869650913\n",
      "KL56\t13\t0.7\t0.8326670349364952\n",
      "KL56\t13\t0.8\t0.8720774754816659\n",
      "KL56\t13\t0.9\t0.8222150869650913\n",
      "KL56\t13\t0.65\t0.8222150869650913\n",
      "KL56\t13\t0.95\t0.8083545042555152\n",
      "KL56\t13\t0.75\t0.8720774754816659\n"
     ]
    },
    {
     "name": "stderr",
     "output_type": "stream",
     "text": [
      " 66%|█████████████████████████████████████████████████████████████████████████████████▍                                          | 63/96 [07:16<03:39,  6.65s/it]"
     ]
    },
    {
     "name": "stdout",
     "output_type": "stream",
     "text": [
      "KL56\t13\t0.975\t0.3512705687284774\n",
      "KL12\t37\t0.65\t0.806921313541235\n",
      "KL12\t37\t0.9\t0.8069097048206171\n",
      "KL12\t37\t0.85\t0.7669682224238747\n",
      "KL12\t37\t0.95\t0.7274678708926617\n",
      "KL12\t37\t0.975\t0.6742635175445025\n",
      "KL12\t37\t0.8\t0.6073907646629402\n",
      "KL12\t37\t0.75\t0.674322183396957\n"
     ]
    },
    {
     "name": "stderr",
     "output_type": "stream",
     "text": [
      " 67%|██████████████████████████████████████████████████████████████████████████████████▋                                         | 64/96 [07:24<03:46,  7.08s/it]"
     ]
    },
    {
     "name": "stdout",
     "output_type": "stream",
     "text": [
      "KL12\t37\t0.7\t0.668968071085704\n",
      "KL142\t14\t0.975\t0.0\n",
      "KL142\t14\t0.8\t0.0\n",
      "KL142\t14\t0.65\t0.4835095697364032\n",
      "KL142\t14\t0.75\t0.42370264094611865\n",
      "KL142\t14\t0.85\t0.2801760110220238\n",
      "KL142\t14\t0.7\t0.30888157828094914\n",
      "KL142\t14\t0.95\t0.21693045781865616\n"
     ]
    },
    {
     "name": "stderr",
     "output_type": "stream",
     "text": [
      " 68%|███████████████████████████████████████████████████████████████████████████████████▉                                        | 65/96 [07:30<03:29,  6.76s/it]"
     ]
    },
    {
     "name": "stdout",
     "output_type": "stream",
     "text": [
      "KL142\t14\t0.9\t0.32539568672798425\n",
      "KL19\t73\t0.65\t0.813689481617468\n",
      "KL19\t73\t0.975\t0.7500255274661177\n",
      "KL19\t73\t0.7\t0.8241374178769998\n",
      "KL19\t73\t0.8\t0.8147444442748956\n",
      "KL19\t73\t0.9\t0.8377220834156845\n",
      "KL19\t73\t0.95\t0.8287582800559266\n",
      "KL19\t73\t0.75\t0.8296847854689561\n"
     ]
    },
    {
     "name": "stderr",
     "output_type": "stream",
     "text": [
      " 69%|█████████████████████████████████████████████████████████████████████████████████████▎                                      | 66/96 [07:38<03:33,  7.12s/it]"
     ]
    },
    {
     "name": "stdout",
     "output_type": "stream",
     "text": [
      "KL19\t73\t0.85\t0.8278668631815479\n",
      "KL60\t68\t0.95\t0.773710749189824\n",
      "KL60\t68\t0.85\t0.7511373779570631\n",
      "KL60\t68\t0.8\t0.8022951498134302\n",
      "KL60\t68\t0.75\t0.7935974991411436\n",
      "KL60\t68\t0.7\t0.7461298706369064\n",
      "KL60\t68\t0.65\t0.7626547263301948\n",
      "KL60\t68\t0.9\t0.7409437145684152\n"
     ]
    },
    {
     "name": "stderr",
     "output_type": "stream",
     "text": [
      " 70%|██████████████████████████████████████████████████████████████████████████████████████▌                                     | 67/96 [07:47<03:41,  7.63s/it]"
     ]
    },
    {
     "name": "stdout",
     "output_type": "stream",
     "text": [
      "KL60\t68\t0.975\t0.7347856223289054\n",
      "KL34\t20\t0.75\t0.8214485105787369\n",
      "KL34\t20\t0.9\t0.6852893340057737\n",
      "KL34\t20\t0.95\t0.7661521552080864\n",
      "KL34\t20\t0.85\t0.8761234037828133\n",
      "KL34\t20\t0.975\t0.6955318125937661\n",
      "KL34\t20\t0.65\t0.8180617018914066\n",
      "KL34\t20\t0.7\t0.8761234037828133\n"
     ]
    },
    {
     "name": "stderr",
     "output_type": "stream",
     "text": [
      " 71%|███████████████████████████████████████████████████████████████████████████████████████▊                                    | 68/96 [07:56<03:41,  7.91s/it]"
     ]
    },
    {
     "name": "stdout",
     "output_type": "stream",
     "text": [
      "KL34\t20\t0.8\t0.8020118866854066\n",
      "KL55\t24\t0.95\t0.563870381090141\n",
      "KL55\t24\t0.65\t0.18441016980093006\n",
      "KL55\t24\t0.975\t0.6231624002206047\n",
      "KL55\t24\t0.8\t0.44382020426054664\n",
      "KL55\t24\t0.9\t0.5542078800743446\n",
      "KL55\t24\t0.85\t0.40513668157435867\n",
      "KL55\t24\t0.7\t0.4854537789871625\n"
     ]
    },
    {
     "name": "stderr",
     "output_type": "stream",
     "text": [
      " 72%|█████████████████████████████████████████████████████████████████████████████████████████▏                                  | 69/96 [08:03<03:32,  7.87s/it]"
     ]
    },
    {
     "name": "stdout",
     "output_type": "stream",
     "text": [
      "KL55\t24\t0.75\t0.0\n",
      "KL14\t130\t0.8\t0.8404079482578893\n",
      "KL14\t130\t0.65\t0.8045290011665339\n",
      "KL14\t130\t0.975\t0.7734260432538841\n",
      "KL14\t130\t0.95\t0.8405802242718812\n",
      "KL14\t130\t0.7\t0.8298083769873525\n",
      "KL14\t130\t0.9\t0.8461617834111638\n",
      "KL14\t130\t0.85\t0.8456204699615617\n"
     ]
    },
    {
     "name": "stderr",
     "output_type": "stream",
     "text": [
      " 73%|██████████████████████████████████████████████████████████████████████████████████████████▍                                 | 70/96 [08:07<02:51,  6.59s/it]"
     ]
    },
    {
     "name": "stdout",
     "output_type": "stream",
     "text": [
      "KL14\t130\t0.75\t0.8307677522717145\n",
      "KL9\t21\t0.85\t0.47299272244288304\n",
      "KL9\t21\t0.9\t0.5118375536847697\n",
      "KL9\t21\t0.8\t0.5118375536847697\n",
      "KL9\t21\t0.975\t0.48448330943980844\n",
      "KL9\t21\t0.7\t0.31064982573546057\n",
      "KL9\t21\t0.95\t0.47877567752288264\n",
      "KL9\t21\t0.75\t0.3519565419509636\n"
     ]
    },
    {
     "name": "stderr",
     "output_type": "stream",
     "text": [
      " 74%|███████████████████████████████████████████████████████████████████████████████████████████▋                                | 71/96 [08:13<02:40,  6.41s/it]"
     ]
    },
    {
     "name": "stdout",
     "output_type": "stream",
     "text": [
      "KL9\t21\t0.65\t0.3749815775888444\n",
      "KL153\t18\t0.9\t0.1851640199545103\n",
      "KL153\t18\t0.7\t0.727860451253153\n",
      "KL153\t18\t0.85\t0.4386826293765435\n",
      "KL153\t18\t0.65\t0.6638199290607859\n",
      "KL153\t18\t0.975\t0.4440992866542602\n",
      "KL153\t18\t0.8\t0.1851640199545103\n",
      "KL153\t18\t0.75\t0.6638199290607859\n"
     ]
    },
    {
     "name": "stderr",
     "output_type": "stream",
     "text": [
      " 75%|█████████████████████████████████████████████████████████████████████████████████████████████                               | 72/96 [08:19<02:32,  6.35s/it]"
     ]
    },
    {
     "name": "stdout",
     "output_type": "stream",
     "text": [
      "KL153\t18\t0.95\t0.48741718030204123\n"
     ]
    },
    {
     "name": "stderr",
     "output_type": "stream",
     "text": [
      " 76%|██████████████████████████████████████████████████████████████████████████████████████████████▎                             | 73/96 [08:20<01:49,  4.76s/it]"
     ]
    },
    {
     "name": "stdout",
     "output_type": "stream",
     "text": [
      "KL155\t13\t0.95\t0.5828046464199206\n",
      "KL21\t100\t0.85\t0.8633539508455158\n",
      "KL21\t100\t0.9\t0.8343068922610168\n",
      "KL21\t100\t0.95\t0.6520463495872274\n",
      "KL21\t100\t0.7\t0.8702766599530433\n",
      "KL21\t100\t0.65\t0.8771289233426439\n",
      "KL21\t100\t0.975\t0.8568866933588991\n",
      "KL21\t100\t0.75\t0.8814535505132594\n"
     ]
    },
    {
     "name": "stderr",
     "output_type": "stream",
     "text": [
      " 77%|███████████████████████████████████████████████████████████████████████████████████████████████▌                            | 74/96 [08:29<02:10,  5.92s/it]"
     ]
    },
    {
     "name": "stdout",
     "output_type": "stream",
     "text": [
      "KL21\t100\t0.8\t0.8634280438124123\n",
      "KL113\t5\t0.95\t0.6\n",
      "KL113\t5\t0.7\t0.6\n",
      "KL113\t5\t0.85\t0.6\n",
      "KL113\t5\t0.975\t0.6\n",
      "KL113\t5\t0.75\t0.6\n",
      "KL113\t5\t0.8\t0.3264911064067352\n",
      "KL113\t5\t0.9\t0.6\n"
     ]
    },
    {
     "name": "stderr",
     "output_type": "stream",
     "text": [
      " 78%|████████████████████████████████████████████████████████████████████████████████████████████████▉                           | 75/96 [08:34<01:59,  5.70s/it]"
     ]
    },
    {
     "name": "stdout",
     "output_type": "stream",
     "text": [
      "KL113\t5\t0.65\t0.6\n",
      "KL81\t37\t0.8\t0.7125963481516013\n",
      "KL81\t37\t0.85\t0.7300563323797485\n",
      "KL81\t37\t0.95\t0.6698435189957924\n",
      "KL81\t37\t0.975\t0.5606777112249656\n",
      "KL81\t37\t0.9\t0.7300563323797485\n",
      "KL81\t37\t0.75\t0.7434378890886685\n",
      "KL81\t37\t0.65\t0.7300563323797485\n"
     ]
    },
    {
     "name": "stderr",
     "output_type": "stream",
     "text": [
      " 79%|██████████████████████████████████████████████████████████████████████████████████████████████████▏                         | 76/96 [08:43<02:16,  6.81s/it]"
     ]
    },
    {
     "name": "stdout",
     "output_type": "stream",
     "text": [
      "KL81\t37\t0.7\t0.7001173443703046\n",
      "KL31\t16\t0.95\t0.5264572169596291\n",
      "KL31\t16\t0.7\t0.6941623152721133\n",
      "KL31\t16\t0.85\t0.5060448024364359\n",
      "KL31\t16\t0.975\t0.484880823835897\n",
      "KL31\t16\t0.8\t0.6941623152721133\n",
      "KL31\t16\t0.9\t0.6713709844215234\n",
      "KL31\t16\t0.75\t0.5264572169596291\n"
     ]
    },
    {
     "name": "stderr",
     "output_type": "stream",
     "text": [
      " 80%|███████████████████████████████████████████████████████████████████████████████████████████████████▍                        | 77/96 [08:51<02:12,  6.97s/it]"
     ]
    },
    {
     "name": "stdout",
     "output_type": "stream",
     "text": [
      "KL31\t16\t0.65\t0.7264572169596291\n",
      "KL151\t61\t0.8\t0.8815558417403618\n",
      "KL151\t61\t0.975\t0.8788119929260824\n",
      "KL151\t61\t0.65\t0.8706300278909864\n",
      "KL151\t61\t0.9\t0.826429110039131\n",
      "KL151\t61\t0.75\t0.8794343358362413\n",
      "KL151\t61\t0.85\t0.868651038658241\n",
      "KL151\t61\t0.7\t0.879032501401097\n"
     ]
    },
    {
     "name": "stderr",
     "output_type": "stream",
     "text": [
      " 81%|████████████████████████████████████████████████████████████████████████████████████████████████████▊                       | 78/96 [08:59<02:09,  7.20s/it]"
     ]
    },
    {
     "name": "stdout",
     "output_type": "stream",
     "text": [
      "KL151\t61\t0.95\t0.9111425409906163\n",
      "KL123\t29\t0.7\t0.6023230679059846\n",
      "KL123\t29\t0.95\t0.5486694541769019\n",
      "KL123\t29\t0.75\t0.6162766965276483\n",
      "KL123\t29\t0.85\t0.6298843133197235\n",
      "KL123\t29\t0.9\t0.5537305022515863\n",
      "KL123\t29\t0.975\t0.644724285812372\n",
      "KL123\t29\t0.8\t0.5451033260318154\n"
     ]
    },
    {
     "name": "stderr",
     "output_type": "stream",
     "text": [
      " 82%|██████████████████████████████████████████████████████████████████████████████████████████████████████                      | 79/96 [09:06<02:01,  7.16s/it]"
     ]
    },
    {
     "name": "stdout",
     "output_type": "stream",
     "text": [
      "KL123\t29\t0.65\t0.6128757055006645\n",
      "KL140\t13\t0.75\t0.0\n",
      "KL140\t13\t0.975\t0.0\n",
      "KL140\t13\t0.85\t0.0\n",
      "KL140\t13\t0.7\t0.0\n",
      "KL140\t13\t0.9\t0.0\n",
      "KL140\t13\t0.8\t0.6509953457616267\n",
      "KL140\t13\t0.95\t0.6115849052164559\n"
     ]
    },
    {
     "name": "stderr",
     "output_type": "stream",
     "text": [
      " 83%|███████████████████████████████████████████████████████████████████████████████████████████████████████▎                    | 80/96 [09:13<01:56,  7.27s/it]"
     ]
    },
    {
     "name": "stdout",
     "output_type": "stream",
     "text": [
      "KL140\t13\t0.65\t0.0\n",
      "KL159\t9\t0.975\t0.5366563145999496\n",
      "KL159\t9\t0.9\t0.5461059350777525\n",
      "KL159\t9\t0.75\t0.6222882290838749\n",
      "KL159\t9\t0.95\t0.42388371285553034\n",
      "KL159\t9\t0.8\t0.6222882290838749\n",
      "KL159\t9\t0.7\t0.5461059350777525\n",
      "KL159\t9\t0.65\t0.6683281572999747\n"
     ]
    },
    {
     "name": "stderr",
     "output_type": "stream",
     "text": [
      " 84%|████████████████████████████████████████████████████████████████████████████████████████████████████████▋                   | 81/96 [09:20<01:47,  7.14s/it]"
     ]
    },
    {
     "name": "stdout",
     "output_type": "stream",
     "text": [
      "KL159\t9\t0.85\t0.6024922359499622\n",
      "KL109\t16\t0.85\t0.0917662935482247\n",
      "KL109\t16\t0.975\t0.04164945273573132\n",
      "KL109\t16\t0.95\t0.20063250433858817\n",
      "KL109\t16\t0.8\t0.28908630060575846\n",
      "KL109\t16\t0.75\t0.3214658376719215\n",
      "KL109\t16\t0.9\t0.05\n",
      "KL109\t16\t0.65\t0.30949871512895166\n"
     ]
    },
    {
     "name": "stderr",
     "output_type": "stream",
     "text": [
      " 85%|█████████████████████████████████████████████████████████████████████████████████████████████████████████▉                  | 82/96 [09:30<01:50,  7.92s/it]"
     ]
    },
    {
     "name": "stdout",
     "output_type": "stream",
     "text": [
      "KL109\t16\t0.7\t0.3590561112148561\n",
      "KL2\t351\t0.7\t0.7870093133755109\n",
      "KL2\t351\t0.85\t0.8131165601721763\n",
      "KL2\t351\t0.75\t0.8106375112488822\n",
      "KL2\t351\t0.975\t0.8183531490273618\n",
      "KL2\t351\t0.9\t0.7997437185602873\n",
      "KL2\t351\t0.8\t0.7711623317322923\n",
      "KL2\t351\t0.65\t0.8234714032971896\n"
     ]
    },
    {
     "name": "stderr",
     "output_type": "stream",
     "text": [
      " 86%|███████████████████████████████████████████████████████████████████████████████████████████████████████████▏                | 83/96 [09:38<01:43,  7.93s/it]"
     ]
    },
    {
     "name": "stdout",
     "output_type": "stream",
     "text": [
      "KL2\t351\t0.95\t0.8127425794452693\n",
      "KL106\t487\t0.9\t0.750220074826942\n",
      "KL106\t487\t0.65\t0.744066783125719\n",
      "KL106\t487\t0.8\t0.760092350564167\n",
      "KL106\t487\t0.7\t0.7132974859012915\n",
      "KL106\t487\t0.85\t0.7538109845802491\n",
      "KL106\t487\t0.75\t0.7610230954407702\n",
      "KL106\t487\t0.975\t0.7955178382327222\n"
     ]
    },
    {
     "name": "stderr",
     "output_type": "stream",
     "text": [
      " 88%|████████████████████████████████████████████████████████████████████████████████████████████████████████████▌               | 84/96 [09:47<01:41,  8.49s/it]"
     ]
    },
    {
     "name": "stdout",
     "output_type": "stream",
     "text": [
      "KL106\t487\t0.95\t0.715872601442953\n",
      "KL122\t29\t0.65\t0.6948138414643185\n",
      "KL122\t29\t0.95\t0.5989501779575468\n",
      "KL122\t29\t0.7\t0.5617862333196895\n",
      "KL122\t29\t0.75\t0.6805598132711541\n",
      "KL122\t29\t0.85\t0.585477207921569\n",
      "KL122\t29\t0.9\t0.6126994382447839\n",
      "KL122\t29\t0.975\t0.5315412189245097\n"
     ]
    },
    {
     "name": "stderr",
     "output_type": "stream",
     "text": [
      " 89%|█████████████████████████████████████████████████████████████████████████████████████████████████████████████▊              | 85/96 [09:56<01:33,  8.46s/it]"
     ]
    },
    {
     "name": "stdout",
     "output_type": "stream",
     "text": [
      "KL122\t29\t0.8\t0.6280194823390599\n",
      "KL70\t30\t0.9\t0.8325591575278423\n",
      "KL70\t30\t0.7\t0.8540505765461983\n",
      "KL70\t30\t0.975\t0.585477207921569\n",
      "KL70\t30\t0.65\t0.8415512198823579\n",
      "KL70\t30\t0.8\t0.7886644890949661\n",
      "KL70\t30\t0.85\t0.8092852470120718\n",
      "KL70\t30\t0.95\t0.7875677680498353\n"
     ]
    },
    {
     "name": "stderr",
     "output_type": "stream",
     "text": [
      " 90%|███████████████████████████████████████████████████████████████████████████████████████████████████████████████             | 86/96 [10:03<01:19,  7.95s/it]"
     ]
    },
    {
     "name": "stdout",
     "output_type": "stream",
     "text": [
      "KL70\t30\t0.75\t0.8129538555010674\n",
      "KL43\t44\t0.85\t0.6137062115991918\n",
      "KL43\t44\t0.75\t0.6759019433786754\n",
      "KL43\t44\t0.9\t0.6663387912104103\n",
      "KL43\t44\t0.8\t0.6830890413208687\n",
      "KL43\t44\t0.95\t0.6630529202099409\n",
      "KL43\t44\t0.975\t0.6477760209301143\n",
      "KL43\t44\t0.65\t0.6958190517966801\n"
     ]
    },
    {
     "name": "stderr",
     "output_type": "stream",
     "text": [
      " 91%|████████████████████████████████████████████████████████████████████████████████████████████████████████████████▍           | 87/96 [10:09<01:08,  7.57s/it]"
     ]
    },
    {
     "name": "stdout",
     "output_type": "stream",
     "text": [
      "KL43\t44\t0.7\t0.5647688696083648\n",
      "KL127\t33\t0.8\t0.7267946287611349\n",
      "KL127\t33\t0.95\t0.6173565491966058\n",
      "KL127\t33\t0.7\t0.7517898843710297\n",
      "KL127\t33\t0.85\t0.6853596221955532\n",
      "KL127\t33\t0.975\t0.5555321948951558\n",
      "KL127\t33\t0.9\t0.7306915336736953\n",
      "KL127\t33\t0.65\t0.7719206508249042\n"
     ]
    },
    {
     "name": "stderr",
     "output_type": "stream",
     "text": [
      " 92%|█████████████████████████████████████████████████████████████████████████████████████████████████████████████████▋          | 88/96 [10:16<00:58,  7.35s/it]"
     ]
    },
    {
     "name": "stdout",
     "output_type": "stream",
     "text": [
      "KL127\t33\t0.75\t0.7049971173712776\n",
      "KL25\t269\t0.75\t0.7193576843421199\n",
      "KL25\t269\t0.8\t0.8031584099355625\n",
      "KL25\t269\t0.65\t0.8077083116499946\n",
      "KL25\t269\t0.85\t0.8090144660938176\n",
      "KL25\t269\t0.7\t0.800855500255708\n",
      "KL25\t269\t0.95\t0.8133964215502099\n",
      "KL25\t269\t0.975\t0.7713903646234085\n"
     ]
    },
    {
     "name": "stderr",
     "output_type": "stream",
     "text": [
      " 93%|██████████████████████████████████████████████████████████████████████████████████████████████████████████████████▉         | 89/96 [10:26<00:55,  7.99s/it]"
     ]
    },
    {
     "name": "stdout",
     "output_type": "stream",
     "text": [
      "KL25\t269\t0.9\t0.8104285031127371\n",
      "KL67\t11\t0.8\t0.5327180698955954\n",
      "KL67\t11\t0.975\t0.44161764098602485\n",
      "KL67\t11\t0.65\t0.6416176409860248\n",
      "KL67\t11\t0.75\t0.6416176409860248\n",
      "KL67\t11\t0.95\t0.44161764098602485\n",
      "KL67\t11\t0.7\t0.5880351827269407\n",
      "KL67\t11\t0.85\t0.6416176409860248\n"
     ]
    },
    {
     "name": "stderr",
     "output_type": "stream",
     "text": [
      " 94%|████████████████████████████████████████████████████████████████████████████████████████████████████████████████████▎       | 90/96 [10:31<00:43,  7.31s/it]"
     ]
    },
    {
     "name": "stdout",
     "output_type": "stream",
     "text": [
      "KL67\t11\t0.9\t0.5234358228042066\n",
      "KL18\t22\t0.95\t0.8669831455354439\n",
      "KL18\t22\t0.8\t0.9749534099472598\n",
      "KL18\t22\t0.7\t0.9749534099472598\n",
      "KL18\t22\t0.85\t0.9497259894483203\n",
      "KL18\t22\t0.65\t0.9281025064514893\n",
      "KL18\t22\t0.75\t0.9191239002203043\n",
      "KL18\t22\t0.975\t0.7140958292436097\n"
     ]
    },
    {
     "name": "stderr",
     "output_type": "stream",
     "text": [
      " 95%|█████████████████████████████████████████████████████████████████████████████████████████████████████████████████████▌      | 91/96 [10:38<00:35,  7.18s/it]"
     ]
    },
    {
     "name": "stdout",
     "output_type": "stream",
     "text": [
      "KL18\t22\t0.9\t0.8641864705982639\n",
      "KL62\t152\t0.75\t0.7751956250304138\n",
      "KL62\t152\t0.9\t0.8077473737676919\n",
      "KL62\t152\t0.7\t0.8226132722270215\n",
      "KL62\t152\t0.95\t0.7610087528154023\n",
      "KL62\t152\t0.975\t0.6962291732320499\n",
      "KL62\t152\t0.85\t0.8421478903681391\n",
      "KL62\t152\t0.8\t0.7881411916911545\n"
     ]
    },
    {
     "name": "stderr",
     "output_type": "stream",
     "text": [
      " 96%|██████████████████████████████████████████████████████████████████████████████████████████████████████████████████████▊     | 92/96 [10:45<00:28,  7.14s/it]"
     ]
    },
    {
     "name": "stdout",
     "output_type": "stream",
     "text": [
      "KL62\t152\t0.65\t0.8656303531855091\n",
      "KL22\t78\t0.7\t0.838653075150403\n",
      "KL22\t78\t0.8\t0.8643580640998859\n",
      "KL22\t78\t0.95\t0.8729157743724033\n",
      "KL22\t78\t0.975\t0.838496373676089\n",
      "KL22\t78\t0.85\t0.8815055597501619\n",
      "KL22\t78\t0.65\t0.8638591653279725\n",
      "KL22\t78\t0.9\t0.873373184429451\n"
     ]
    },
    {
     "name": "stderr",
     "output_type": "stream",
     "text": [
      " 97%|████████████████████████████████████████████████████████████████████████████████████████████████████████████████████████▏   | 93/96 [10:50<00:19,  6.56s/it]"
     ]
    },
    {
     "name": "stdout",
     "output_type": "stream",
     "text": [
      "KL22\t78\t0.75\t0.8818479844582227\n",
      "KL149\t70\t0.8\t0.8738201197795396\n",
      "KL149\t70\t0.85\t0.8242089280688196\n",
      "KL149\t70\t0.95\t0.8137331936438471\n",
      "KL149\t70\t0.75\t0.8357626362394908\n",
      "KL149\t70\t0.975\t0.7172447843224223\n",
      "KL149\t70\t0.9\t0.8925835596303449\n",
      "KL149\t70\t0.7\t0.8673515541192927\n"
     ]
    },
    {
     "name": "stderr",
     "output_type": "stream",
     "text": [
      " 98%|█████████████████████████████████████████████████████████████████████████████████████████████████████████████████████████▍  | 94/96 [10:58<00:13,  7.00s/it]"
     ]
    },
    {
     "name": "stdout",
     "output_type": "stream",
     "text": [
      "KL149\t70\t0.65\t0.8642699761248377\n",
      "KL152\t10\t0.8\t0.4148399724926484\n",
      "KL152\t10\t0.65\t0.4296799449852968\n",
      "KL152\t10\t0.85\t0.4696799449852968\n",
      "KL152\t10\t0.975\t0.4696799449852968\n",
      "KL152\t10\t0.95\t0.4696799449852968\n",
      "KL152\t10\t0.75\t0.4696799449852968\n",
      "KL152\t10\t0.7\t0.4148399724926484\n"
     ]
    },
    {
     "name": "stderr",
     "output_type": "stream",
     "text": [
      " 99%|██████████████████████████████████████████████████████████████████████████████████████████████████████████████████████████▋ | 95/96 [11:06<00:07,  7.14s/it]"
     ]
    },
    {
     "name": "stdout",
     "output_type": "stream",
     "text": [
      "KL152\t10\t0.9\t0.4696799449852968\n",
      "KL117\t17\t0.9\t0.584665064908091\n",
      "KL117\t17\t0.975\t0.5526986749914522\n",
      "KL117\t17\t0.95\t0.584665064908091\n",
      "KL117\t17\t0.8\t0.6612231023961064\n",
      "KL117\t17\t0.65\t0.3694527909108401\n",
      "KL117\t17\t0.75\t0.728442672656688\n",
      "KL117\t17\t0.85\t0.48081243640493787\n"
     ]
    },
    {
     "name": "stderr",
     "output_type": "stream",
     "text": [
      "100%|████████████████████████████████████████████████████████████████████████████████████████████████████████████████████████████| 96/96 [11:12<00:00,  7.00s/it]"
     ]
    },
    {
     "name": "stdout",
     "output_type": "stream",
     "text": [
      "KL117\t17\t0.7\t0.7779173459253124\n"
     ]
    },
    {
     "name": "stderr",
     "output_type": "stream",
     "text": [
      "\n"
     ]
    }
   ],
   "source": [
    "%%time\n",
    "with open(f\"/media/concha-eloko/Linux/PPT_clean/Seqbased_model/Seqbased_models.prophages_metrics.tsv\", \"w\") as outfile :\n",
    "    for KLtype in tqdm(KLtypes_paths) : \n",
    "        for path in KLtypes_paths[KLtype] :\n",
    "            cl_value = path.split(\"/\")[-1].split(\"_RF\")[0]\n",
    "            mean_mcc = get_mean_MCC(path)\n",
    "            count_kltype = dico_prophage_count[KLtype]\n",
    "            outfile.write(f\"{KLtype}\\t{count_kltype}\\t{cl_value}\\t{mean_mcc}\\n\")\n",
    "            print(f\"{KLtype}\\t{count_kltype}\\t{cl_value}\\t{mean_mcc}\")\n"
   ]
  },
  {
   "cell_type": "code",
   "execution_count": 15,
   "id": "5efa9bd6-eeaf-40e8-bbfa-c0d037d4b161",
   "metadata": {},
   "outputs": [
    {
     "data": {
      "text/plain": [
       "{0.9: 0.7751099285229077,\n",
       " 0.975: 0.741274524549705,\n",
       " 0.8: 0.7697635340143436,\n",
       " 0.65: 0.7708792611301989,\n",
       " 0.95: 0.7567348331288974,\n",
       " 0.75: 0.761438770189088,\n",
       " 0.7: 0.7621235953812278,\n",
       " 0.85: 0.7772843284953614}"
      ]
     },
     "execution_count": 15,
     "metadata": {},
     "output_type": "execute_result"
    }
   ],
   "source": [
    "threshold = 15\n",
    "\n",
    "names_metric_col = [\"KL_type\", \"Count\", \"c_value\",\"mean_mcc\"]\n",
    "metric_df = pd.read_csv(f\"/media/concha-eloko/Linux/PPT_clean/Seqbased_model/Seqbased_models.prophages_metrics.tsv\", sep = \"\\t\", names = names_metric_col)\n",
    "\n",
    "metric_eval_df = metric_df[metric_df[\"Count\"] > threshold]\n",
    "\n",
    "weighted_mcc_dico = {}\n",
    "for cluster in metric_eval_df[\"c_value\"].unique().tolist() :\n",
    "    mcc_sum = 0\n",
    "    cl_df = metric_eval_df[metric_eval_df[\"c_value\"] == cluster]\n",
    "    for _,row in cl_df.iterrows() : \n",
    "        mcc_sum = mcc_sum + row[\"mean_mcc\"] * row[\"Count\"]\n",
    "    weighted_mcc = mcc_sum / (sum(cl_df[\"Count\"]))\n",
    "    weighted_mcc_dico[cluster] = weighted_mcc\n",
    "\n",
    "weighted_mcc_dico"
   ]
  },
  {
   "cell_type": "markdown",
   "id": "f2daa432-5c20-4b90-92b5-706cda91c757",
   "metadata": {},
   "source": [
    "***\n",
    "### Get the full metrics : "
   ]
  },
  {
   "cell_type": "markdown",
   "id": "b1956732-61e1-4aa6-8623-0486020f0435",
   "metadata": {},
   "source": [
    "> Relevant objects path :"
   ]
  },
  {
   "cell_type": "code",
   "execution_count": 16,
   "id": "616111fc-9b30-4b77-9793-69a60a3fef9b",
   "metadata": {},
   "outputs": [],
   "source": [
    "cl_value = \"0.85\"\n",
    "\n",
    "KLtypes = set([file.split(\"_RF_\")[1].split(\".full_data\")[0] for file in os.listdir(path_jobs)])\n",
    "\n",
    "KLtypes_paths = {kltype : [f\"{path_jobs}/{file}\" for file in os.listdir(path_jobs) if file.split(\"_\")[0] == cl_value if file.split(\"_RF_\")[1].split(\".full_data\")[0]==kltype]\n",
    "                for kltype in KLtypes if dico_prophage_count[kltype] > threshold}\n",
    "\n"
   ]
  },
  {
   "cell_type": "code",
   "execution_count": 17,
   "id": "68e1aa31-846b-4322-8f0e-61192d0c4db7",
   "metadata": {},
   "outputs": [
    {
     "data": {
      "text/plain": [
       "{'KL15': ['/media/concha-eloko/Linux/PPT_clean/ficheros_28032023/RF_1302_models/0.85_RF_KL15.full_data.joblib'],\n",
       " 'KL145': ['/media/concha-eloko/Linux/PPT_clean/ficheros_28032023/RF_1302_models/0.85_RF_KL145.full_data.joblib'],\n",
       " 'KL110': ['/media/concha-eloko/Linux/PPT_clean/ficheros_28032023/RF_1302_models/0.85_RF_KL110.full_data.joblib'],\n",
       " 'KL125': ['/media/concha-eloko/Linux/PPT_clean/ficheros_28032023/RF_1302_models/0.85_RF_KL125.full_data.joblib'],\n",
       " 'KL20': ['/media/concha-eloko/Linux/PPT_clean/ficheros_28032023/RF_1302_models/0.85_RF_KL20.full_data.joblib'],\n",
       " 'KL107': ['/media/concha-eloko/Linux/PPT_clean/ficheros_28032023/RF_1302_models/0.85_RF_KL107.full_data.joblib'],\n",
       " 'KL128': ['/media/concha-eloko/Linux/PPT_clean/ficheros_28032023/RF_1302_models/0.85_RF_KL128.full_data.joblib'],\n",
       " 'KL38': ['/media/concha-eloko/Linux/PPT_clean/ficheros_28032023/RF_1302_models/0.85_RF_KL38.full_data.joblib'],\n",
       " 'KL45': ['/media/concha-eloko/Linux/PPT_clean/ficheros_28032023/RF_1302_models/0.85_RF_KL45.full_data.joblib'],\n",
       " 'KL8': ['/media/concha-eloko/Linux/PPT_clean/ficheros_28032023/RF_1302_models/0.85_RF_KL8.full_data.joblib'],\n",
       " 'KL51': ['/media/concha-eloko/Linux/PPT_clean/ficheros_28032023/RF_1302_models/0.85_RF_KL51.full_data.joblib'],\n",
       " 'KL5': ['/media/concha-eloko/Linux/PPT_clean/ficheros_28032023/RF_1302_models/0.85_RF_KL5.full_data.joblib'],\n",
       " 'KL29': ['/media/concha-eloko/Linux/PPT_clean/ficheros_28032023/RF_1302_models/0.85_RF_KL29.full_data.joblib'],\n",
       " 'KL1': ['/media/concha-eloko/Linux/PPT_clean/ficheros_28032023/RF_1302_models/0.85_RF_KL1.full_data.joblib'],\n",
       " 'KL136': ['/media/concha-eloko/Linux/PPT_clean/ficheros_28032023/RF_1302_models/0.85_RF_KL136.full_data.joblib'],\n",
       " 'KL53': ['/media/concha-eloko/Linux/PPT_clean/ficheros_28032023/RF_1302_models/0.85_RF_KL53.full_data.joblib'],\n",
       " 'KL17': ['/media/concha-eloko/Linux/PPT_clean/ficheros_28032023/RF_1302_models/0.85_RF_KL17.full_data.joblib'],\n",
       " 'KL48': ['/media/concha-eloko/Linux/PPT_clean/ficheros_28032023/RF_1302_models/0.85_RF_KL48.full_data.joblib'],\n",
       " 'KL105': ['/media/concha-eloko/Linux/PPT_clean/ficheros_28032023/RF_1302_models/0.85_RF_KL105.full_data.joblib'],\n",
       " 'KL112': ['/media/concha-eloko/Linux/PPT_clean/ficheros_28032023/RF_1302_models/0.85_RF_KL112.full_data.joblib'],\n",
       " 'KL16': ['/media/concha-eloko/Linux/PPT_clean/ficheros_28032023/RF_1302_models/0.85_RF_KL16.full_data.joblib'],\n",
       " 'KL28': ['/media/concha-eloko/Linux/PPT_clean/ficheros_28032023/RF_1302_models/0.85_RF_KL28.full_data.joblib'],\n",
       " 'KL114': ['/media/concha-eloko/Linux/PPT_clean/ficheros_28032023/RF_1302_models/0.85_RF_KL114.full_data.joblib'],\n",
       " 'KL35': ['/media/concha-eloko/Linux/PPT_clean/ficheros_28032023/RF_1302_models/0.85_RF_KL35.full_data.joblib'],\n",
       " 'KL169': ['/media/concha-eloko/Linux/PPT_clean/ficheros_28032023/RF_1302_models/0.85_RF_KL169.full_data.joblib'],\n",
       " 'KL24': ['/media/concha-eloko/Linux/PPT_clean/ficheros_28032023/RF_1302_models/0.85_RF_KL24.full_data.joblib'],\n",
       " 'KL13': ['/media/concha-eloko/Linux/PPT_clean/ficheros_28032023/RF_1302_models/0.85_RF_KL13.full_data.joblib'],\n",
       " 'KL7': ['/media/concha-eloko/Linux/PPT_clean/ficheros_28032023/RF_1302_models/0.85_RF_KL7.full_data.joblib'],\n",
       " 'KL30': ['/media/concha-eloko/Linux/PPT_clean/ficheros_28032023/RF_1302_models/0.85_RF_KL30.full_data.joblib'],\n",
       " 'KL118': ['/media/concha-eloko/Linux/PPT_clean/ficheros_28032023/RF_1302_models/0.85_RF_KL118.full_data.joblib'],\n",
       " 'KL23': ['/media/concha-eloko/Linux/PPT_clean/ficheros_28032023/RF_1302_models/0.85_RF_KL23.full_data.joblib'],\n",
       " 'KL57': ['/media/concha-eloko/Linux/PPT_clean/ficheros_28032023/RF_1302_models/0.85_RF_KL57.full_data.joblib'],\n",
       " 'KL3': ['/media/concha-eloko/Linux/PPT_clean/ficheros_28032023/RF_1302_models/0.85_RF_KL3.full_data.joblib'],\n",
       " 'KL63': ['/media/concha-eloko/Linux/PPT_clean/ficheros_28032023/RF_1302_models/0.85_RF_KL63.full_data.joblib'],\n",
       " 'KL116': ['/media/concha-eloko/Linux/PPT_clean/ficheros_28032023/RF_1302_models/0.85_RF_KL116.full_data.joblib'],\n",
       " 'KL39': ['/media/concha-eloko/Linux/PPT_clean/ficheros_28032023/RF_1302_models/0.85_RF_KL39.full_data.joblib'],\n",
       " 'KL64': ['/media/concha-eloko/Linux/PPT_clean/ficheros_28032023/RF_1302_models/0.85_RF_KL64.full_data.joblib'],\n",
       " 'KL47': ['/media/concha-eloko/Linux/PPT_clean/ficheros_28032023/RF_1302_models/0.85_RF_KL47.full_data.joblib'],\n",
       " 'KL74': ['/media/concha-eloko/Linux/PPT_clean/ficheros_28032023/RF_1302_models/0.85_RF_KL74.full_data.joblib'],\n",
       " 'KL10': ['/media/concha-eloko/Linux/PPT_clean/ficheros_28032023/RF_1302_models/0.85_RF_KL10.full_data.joblib'],\n",
       " 'KL46': ['/media/concha-eloko/Linux/PPT_clean/ficheros_28032023/RF_1302_models/0.85_RF_KL46.full_data.joblib'],\n",
       " 'KL111': ['/media/concha-eloko/Linux/PPT_clean/ficheros_28032023/RF_1302_models/0.85_RF_KL111.full_data.joblib'],\n",
       " 'KL102': ['/media/concha-eloko/Linux/PPT_clean/ficheros_28032023/RF_1302_models/0.85_RF_KL102.full_data.joblib'],\n",
       " 'KL27': ['/media/concha-eloko/Linux/PPT_clean/ficheros_28032023/RF_1302_models/0.85_RF_KL27.full_data.joblib'],\n",
       " 'KL108': ['/media/concha-eloko/Linux/PPT_clean/ficheros_28032023/RF_1302_models/0.85_RF_KL108.full_data.joblib'],\n",
       " 'KL36': ['/media/concha-eloko/Linux/PPT_clean/ficheros_28032023/RF_1302_models/0.85_RF_KL36.full_data.joblib'],\n",
       " 'KL12': ['/media/concha-eloko/Linux/PPT_clean/ficheros_28032023/RF_1302_models/0.85_RF_KL12.full_data.joblib'],\n",
       " 'KL19': ['/media/concha-eloko/Linux/PPT_clean/ficheros_28032023/RF_1302_models/0.85_RF_KL19.full_data.joblib'],\n",
       " 'KL60': ['/media/concha-eloko/Linux/PPT_clean/ficheros_28032023/RF_1302_models/0.85_RF_KL60.full_data.joblib'],\n",
       " 'KL34': ['/media/concha-eloko/Linux/PPT_clean/ficheros_28032023/RF_1302_models/0.85_RF_KL34.full_data.joblib'],\n",
       " 'KL55': ['/media/concha-eloko/Linux/PPT_clean/ficheros_28032023/RF_1302_models/0.85_RF_KL55.full_data.joblib'],\n",
       " 'KL14': ['/media/concha-eloko/Linux/PPT_clean/ficheros_28032023/RF_1302_models/0.85_RF_KL14.full_data.joblib'],\n",
       " 'KL9': ['/media/concha-eloko/Linux/PPT_clean/ficheros_28032023/RF_1302_models/0.85_RF_KL9.full_data.joblib'],\n",
       " 'KL153': ['/media/concha-eloko/Linux/PPT_clean/ficheros_28032023/RF_1302_models/0.85_RF_KL153.full_data.joblib'],\n",
       " 'KL21': ['/media/concha-eloko/Linux/PPT_clean/ficheros_28032023/RF_1302_models/0.85_RF_KL21.full_data.joblib'],\n",
       " 'KL81': ['/media/concha-eloko/Linux/PPT_clean/ficheros_28032023/RF_1302_models/0.85_RF_KL81.full_data.joblib'],\n",
       " 'KL31': ['/media/concha-eloko/Linux/PPT_clean/ficheros_28032023/RF_1302_models/0.85_RF_KL31.full_data.joblib'],\n",
       " 'KL151': ['/media/concha-eloko/Linux/PPT_clean/ficheros_28032023/RF_1302_models/0.85_RF_KL151.full_data.joblib'],\n",
       " 'KL123': ['/media/concha-eloko/Linux/PPT_clean/ficheros_28032023/RF_1302_models/0.85_RF_KL123.full_data.joblib'],\n",
       " 'KL109': ['/media/concha-eloko/Linux/PPT_clean/ficheros_28032023/RF_1302_models/0.85_RF_KL109.full_data.joblib'],\n",
       " 'KL2': ['/media/concha-eloko/Linux/PPT_clean/ficheros_28032023/RF_1302_models/0.85_RF_KL2.full_data.joblib'],\n",
       " 'KL106': ['/media/concha-eloko/Linux/PPT_clean/ficheros_28032023/RF_1302_models/0.85_RF_KL106.full_data.joblib'],\n",
       " 'KL122': ['/media/concha-eloko/Linux/PPT_clean/ficheros_28032023/RF_1302_models/0.85_RF_KL122.full_data.joblib'],\n",
       " 'KL70': ['/media/concha-eloko/Linux/PPT_clean/ficheros_28032023/RF_1302_models/0.85_RF_KL70.full_data.joblib'],\n",
       " 'KL43': ['/media/concha-eloko/Linux/PPT_clean/ficheros_28032023/RF_1302_models/0.85_RF_KL43.full_data.joblib'],\n",
       " 'KL127': ['/media/concha-eloko/Linux/PPT_clean/ficheros_28032023/RF_1302_models/0.85_RF_KL127.full_data.joblib'],\n",
       " 'KL25': ['/media/concha-eloko/Linux/PPT_clean/ficheros_28032023/RF_1302_models/0.85_RF_KL25.full_data.joblib'],\n",
       " 'KL18': ['/media/concha-eloko/Linux/PPT_clean/ficheros_28032023/RF_1302_models/0.85_RF_KL18.full_data.joblib'],\n",
       " 'KL62': ['/media/concha-eloko/Linux/PPT_clean/ficheros_28032023/RF_1302_models/0.85_RF_KL62.full_data.joblib'],\n",
       " 'KL22': ['/media/concha-eloko/Linux/PPT_clean/ficheros_28032023/RF_1302_models/0.85_RF_KL22.full_data.joblib'],\n",
       " 'KL149': ['/media/concha-eloko/Linux/PPT_clean/ficheros_28032023/RF_1302_models/0.85_RF_KL149.full_data.joblib'],\n",
       " 'KL117': ['/media/concha-eloko/Linux/PPT_clean/ficheros_28032023/RF_1302_models/0.85_RF_KL117.full_data.joblib']}"
      ]
     },
     "execution_count": 17,
     "metadata": {},
     "output_type": "execute_result"
    }
   ],
   "source": [
    "KLtypes_paths"
   ]
  },
  {
   "cell_type": "code",
   "execution_count": 11,
   "id": "9db0bde3-e633-4a8c-96ee-c5ee1b671782",
   "metadata": {},
   "outputs": [],
   "source": [
    "def get_mean_MCC(path_data_object) :\n",
    "    data_object = joblib.load(f\"{path_data_object}\")\n",
    "    mcc_values = []\n",
    "    for i in data_object :\n",
    "        y_test = data_object[i][\"test_data\"][0].values\n",
    "        predictions = data_object[i][\"test_data\"][1]\n",
    "        mcc = matthews_corrcoef(y_test, predictions)\n",
    "        mcc_values.append(mcc)\n",
    "    del data_object\n",
    "    mean_mcc = mean(mcc_values)\n",
    "    return mean_mcc\n",
    "\n",
    "def get_mean_metrics(path_data_object) :\n",
    "    data_object = joblib.load(f\"{path_data_object}\")\n",
    "    mcc_values = []\n",
    "    auc_values = []\n",
    "    recall_values = []\n",
    "    f1_values = []\n",
    "    acc_values = []\n",
    "    prec_values = []\n",
    "    report_list = []\n",
    "    for i in data_object :\n",
    "        y_test = data_object[i][\"test_data\"][0].values\n",
    "        predictions = data_object[i][\"test_data\"][1]\n",
    "        mcc = matthews_corrcoef(y_test, predictions)\n",
    "        auc = roc_auc_score(y_test, predictions)\n",
    "        auc_values.append(auc)\n",
    "        mcc_values.append(mcc)\n",
    "        # Report : \n",
    "        report = classification_report(y_test, predictions, output_dict=True)\n",
    "        recall_values.append(report[\"1\"][\"recall\"])\n",
    "        f1_values.append(report[\"1\"][\"f1-score\"])\n",
    "        prec_values.append(report[\"1\"][\"precision\"])\n",
    "        acc_values.append(report[\"accuracy\"])\n",
    "        report_list.append(report)\n",
    "    del data_object\n",
    "    mean_mcc = mean(mcc_values)\n",
    "    mean_auc = mean(auc_values)\n",
    "    mean_recall = mean(recall_values)\n",
    "    mean_f1 = mean(f1_values)\n",
    "    mean_acc = mean(acc_values)\n",
    "    mean_prec = mean(prec_values)\n",
    "    return mean_mcc , mean_recall , mean_f1 , mean_acc , mean_prec , mean_auc\n",
    "\n"
   ]
  },
  {
   "cell_type": "code",
   "execution_count": 18,
   "id": "41f126c5-5b93-4983-b681-4ba58b7cdb89",
   "metadata": {},
   "outputs": [],
   "source": [
    "mean_mcc , mean_recall , mean_f1 , mean_acc , mean_prec , mean_auc = get_mean_metrics(KLtypes_paths[\"KL47\"][0])"
   ]
  },
  {
   "cell_type": "code",
   "execution_count": 19,
   "id": "225d8519-5afe-46b7-9907-7d9947dc587b",
   "metadata": {
    "scrolled": true
   },
   "outputs": [
    {
     "name": "stdout",
     "output_type": "stream",
     "text": [
      "KL15\t204\t0.8114588070327643\t0.757026713124274\t0.8778850278850279\t0.9417461146663184\t0.8678337449116517\t0.781243516812687\n",
      "KL145\t29\t0.9418181818181818\t0.9\t1.0\t0.9833333333333333\t0.95\t0.9377191850351939\n",
      "KL110\t64\t0.7280331262939959\t0.6615384615384615\t0.8526050420168068\t0.9205128205128206\t0.816923076923077\t0.701556087107071\n"
     ]
    },
    {
     "name": "stderr",
     "output_type": "stream",
     "text": [
      "/media/concha-eloko/Linux/conda_envs/ML_work_v2/lib/python3.9/site-packages/sklearn/metrics/_classification.py:1327: UndefinedMetricWarning: Precision and F-score are ill-defined and being set to 0.0 in labels with no predicted samples. Use `zero_division` parameter to control this behavior.\n",
      "  _warn_prf(average, modifier, msg_start, len(result))\n",
      "/media/concha-eloko/Linux/conda_envs/ML_work_v2/lib/python3.9/site-packages/sklearn/metrics/_classification.py:1327: UndefinedMetricWarning: Precision and F-score are ill-defined and being set to 0.0 in labels with no predicted samples. Use `zero_division` parameter to control this behavior.\n",
      "  _warn_prf(average, modifier, msg_start, len(result))\n",
      "/media/concha-eloko/Linux/conda_envs/ML_work_v2/lib/python3.9/site-packages/sklearn/metrics/_classification.py:1327: UndefinedMetricWarning: Precision and F-score are ill-defined and being set to 0.0 in labels with no predicted samples. Use `zero_division` parameter to control this behavior.\n",
      "  _warn_prf(average, modifier, msg_start, len(result))\n",
      "/media/concha-eloko/Linux/conda_envs/ML_work_v2/lib/python3.9/site-packages/sklearn/metrics/_classification.py:1327: UndefinedMetricWarning: Precision and F-score are ill-defined and being set to 0.0 in labels with no predicted samples. Use `zero_division` parameter to control this behavior.\n",
      "  _warn_prf(average, modifier, msg_start, len(result))\n",
      "/media/concha-eloko/Linux/conda_envs/ML_work_v2/lib/python3.9/site-packages/sklearn/metrics/_classification.py:1327: UndefinedMetricWarning: Precision and F-score are ill-defined and being set to 0.0 in labels with no predicted samples. Use `zero_division` parameter to control this behavior.\n",
      "  _warn_prf(average, modifier, msg_start, len(result))\n",
      "/media/concha-eloko/Linux/conda_envs/ML_work_v2/lib/python3.9/site-packages/sklearn/metrics/_classification.py:1327: UndefinedMetricWarning: Precision and F-score are ill-defined and being set to 0.0 in labels with no predicted samples. Use `zero_division` parameter to control this behavior.\n",
      "  _warn_prf(average, modifier, msg_start, len(result))\n",
      "/media/concha-eloko/Linux/conda_envs/ML_work_v2/lib/python3.9/site-packages/sklearn/metrics/_classification.py:1327: UndefinedMetricWarning: Precision and F-score are ill-defined and being set to 0.0 in labels with no predicted samples. Use `zero_division` parameter to control this behavior.\n",
      "  _warn_prf(average, modifier, msg_start, len(result))\n",
      "/media/concha-eloko/Linux/conda_envs/ML_work_v2/lib/python3.9/site-packages/sklearn/metrics/_classification.py:1327: UndefinedMetricWarning: Precision and F-score are ill-defined and being set to 0.0 in labels with no predicted samples. Use `zero_division` parameter to control this behavior.\n",
      "  _warn_prf(average, modifier, msg_start, len(result))\n",
      "/media/concha-eloko/Linux/conda_envs/ML_work_v2/lib/python3.9/site-packages/sklearn/metrics/_classification.py:1327: UndefinedMetricWarning: Precision and F-score are ill-defined and being set to 0.0 in labels with no predicted samples. Use `zero_division` parameter to control this behavior.\n",
      "  _warn_prf(average, modifier, msg_start, len(result))\n",
      "/media/concha-eloko/Linux/conda_envs/ML_work_v2/lib/python3.9/site-packages/sklearn/metrics/_classification.py:1327: UndefinedMetricWarning: Precision and F-score are ill-defined and being set to 0.0 in labels with no predicted samples. Use `zero_division` parameter to control this behavior.\n",
      "  _warn_prf(average, modifier, msg_start, len(result))\n",
      "/media/concha-eloko/Linux/conda_envs/ML_work_v2/lib/python3.9/site-packages/sklearn/metrics/_classification.py:1327: UndefinedMetricWarning: Precision and F-score are ill-defined and being set to 0.0 in labels with no predicted samples. Use `zero_division` parameter to control this behavior.\n",
      "  _warn_prf(average, modifier, msg_start, len(result))\n",
      "/media/concha-eloko/Linux/conda_envs/ML_work_v2/lib/python3.9/site-packages/sklearn/metrics/_classification.py:1327: UndefinedMetricWarning: Precision and F-score are ill-defined and being set to 0.0 in labels with no predicted samples. Use `zero_division` parameter to control this behavior.\n",
      "  _warn_prf(average, modifier, msg_start, len(result))\n",
      "/media/concha-eloko/Linux/conda_envs/ML_work_v2/lib/python3.9/site-packages/sklearn/metrics/_classification.py:1327: UndefinedMetricWarning: Precision and F-score are ill-defined and being set to 0.0 in labels with no predicted samples. Use `zero_division` parameter to control this behavior.\n",
      "  _warn_prf(average, modifier, msg_start, len(result))\n",
      "/media/concha-eloko/Linux/conda_envs/ML_work_v2/lib/python3.9/site-packages/sklearn/metrics/_classification.py:1327: UndefinedMetricWarning: Precision and F-score are ill-defined and being set to 0.0 in labels with no predicted samples. Use `zero_division` parameter to control this behavior.\n",
      "  _warn_prf(average, modifier, msg_start, len(result))\n",
      "/media/concha-eloko/Linux/conda_envs/ML_work_v2/lib/python3.9/site-packages/sklearn/metrics/_classification.py:1327: UndefinedMetricWarning: Precision and F-score are ill-defined and being set to 0.0 in labels with no predicted samples. Use `zero_division` parameter to control this behavior.\n",
      "  _warn_prf(average, modifier, msg_start, len(result))\n"
     ]
    },
    {
     "name": "stdout",
     "output_type": "stream",
     "text": [
      "KL125\t26\t0.0\t0.0\t0.0\t0.8334677419354839\t0.5\t0.0\n"
     ]
    },
    {
     "name": "stderr",
     "output_type": "stream",
     "text": [
      "/media/concha-eloko/Linux/conda_envs/ML_work_v2/lib/python3.9/site-packages/sklearn/metrics/_classification.py:1327: UndefinedMetricWarning: Precision and F-score are ill-defined and being set to 0.0 in labels with no predicted samples. Use `zero_division` parameter to control this behavior.\n",
      "  _warn_prf(average, modifier, msg_start, len(result))\n",
      "/media/concha-eloko/Linux/conda_envs/ML_work_v2/lib/python3.9/site-packages/sklearn/metrics/_classification.py:1327: UndefinedMetricWarning: Precision and F-score are ill-defined and being set to 0.0 in labels with no predicted samples. Use `zero_division` parameter to control this behavior.\n",
      "  _warn_prf(average, modifier, msg_start, len(result))\n",
      "/media/concha-eloko/Linux/conda_envs/ML_work_v2/lib/python3.9/site-packages/sklearn/metrics/_classification.py:1327: UndefinedMetricWarning: Precision and F-score are ill-defined and being set to 0.0 in labels with no predicted samples. Use `zero_division` parameter to control this behavior.\n",
      "  _warn_prf(average, modifier, msg_start, len(result))\n",
      "/media/concha-eloko/Linux/conda_envs/ML_work_v2/lib/python3.9/site-packages/sklearn/metrics/_classification.py:1327: UndefinedMetricWarning: Precision and F-score are ill-defined and being set to 0.0 in labels with no predicted samples. Use `zero_division` parameter to control this behavior.\n",
      "  _warn_prf(average, modifier, msg_start, len(result))\n",
      "/media/concha-eloko/Linux/conda_envs/ML_work_v2/lib/python3.9/site-packages/sklearn/metrics/_classification.py:1327: UndefinedMetricWarning: Precision and F-score are ill-defined and being set to 0.0 in labels with no predicted samples. Use `zero_division` parameter to control this behavior.\n",
      "  _warn_prf(average, modifier, msg_start, len(result))\n",
      "/media/concha-eloko/Linux/conda_envs/ML_work_v2/lib/python3.9/site-packages/sklearn/metrics/_classification.py:1327: UndefinedMetricWarning: Precision and F-score are ill-defined and being set to 0.0 in labels with no predicted samples. Use `zero_division` parameter to control this behavior.\n",
      "  _warn_prf(average, modifier, msg_start, len(result))\n",
      "/media/concha-eloko/Linux/conda_envs/ML_work_v2/lib/python3.9/site-packages/sklearn/metrics/_classification.py:1327: UndefinedMetricWarning: Precision and F-score are ill-defined and being set to 0.0 in labels with no predicted samples. Use `zero_division` parameter to control this behavior.\n",
      "  _warn_prf(average, modifier, msg_start, len(result))\n",
      "/media/concha-eloko/Linux/conda_envs/ML_work_v2/lib/python3.9/site-packages/sklearn/metrics/_classification.py:1327: UndefinedMetricWarning: Precision and F-score are ill-defined and being set to 0.0 in labels with no predicted samples. Use `zero_division` parameter to control this behavior.\n",
      "  _warn_prf(average, modifier, msg_start, len(result))\n",
      "/media/concha-eloko/Linux/conda_envs/ML_work_v2/lib/python3.9/site-packages/sklearn/metrics/_classification.py:1327: UndefinedMetricWarning: Precision and F-score are ill-defined and being set to 0.0 in labels with no predicted samples. Use `zero_division` parameter to control this behavior.\n",
      "  _warn_prf(average, modifier, msg_start, len(result))\n",
      "/media/concha-eloko/Linux/conda_envs/ML_work_v2/lib/python3.9/site-packages/sklearn/metrics/_classification.py:1327: UndefinedMetricWarning: Precision and F-score are ill-defined and being set to 0.0 in labels with no predicted samples. Use `zero_division` parameter to control this behavior.\n",
      "  _warn_prf(average, modifier, msg_start, len(result))\n",
      "/media/concha-eloko/Linux/conda_envs/ML_work_v2/lib/python3.9/site-packages/sklearn/metrics/_classification.py:1327: UndefinedMetricWarning: Precision and F-score are ill-defined and being set to 0.0 in labels with no predicted samples. Use `zero_division` parameter to control this behavior.\n",
      "  _warn_prf(average, modifier, msg_start, len(result))\n",
      "/media/concha-eloko/Linux/conda_envs/ML_work_v2/lib/python3.9/site-packages/sklearn/metrics/_classification.py:1327: UndefinedMetricWarning: Precision and F-score are ill-defined and being set to 0.0 in labels with no predicted samples. Use `zero_division` parameter to control this behavior.\n",
      "  _warn_prf(average, modifier, msg_start, len(result))\n",
      "/media/concha-eloko/Linux/conda_envs/ML_work_v2/lib/python3.9/site-packages/sklearn/metrics/_classification.py:1327: UndefinedMetricWarning: Precision and F-score are ill-defined and being set to 0.0 in labels with no predicted samples. Use `zero_division` parameter to control this behavior.\n",
      "  _warn_prf(average, modifier, msg_start, len(result))\n",
      "/media/concha-eloko/Linux/conda_envs/ML_work_v2/lib/python3.9/site-packages/sklearn/metrics/_classification.py:1327: UndefinedMetricWarning: Precision and F-score are ill-defined and being set to 0.0 in labels with no predicted samples. Use `zero_division` parameter to control this behavior.\n",
      "  _warn_prf(average, modifier, msg_start, len(result))\n",
      "/media/concha-eloko/Linux/conda_envs/ML_work_v2/lib/python3.9/site-packages/sklearn/metrics/_classification.py:1327: UndefinedMetricWarning: Precision and F-score are ill-defined and being set to 0.0 in labels with no predicted samples. Use `zero_division` parameter to control this behavior.\n",
      "  _warn_prf(average, modifier, msg_start, len(result))\n"
     ]
    },
    {
     "name": "stdout",
     "output_type": "stream",
     "text": [
      "KL20\t18\t0.0\t0.0\t0.0\t0.8337662337662338\t0.5\t0.0\n",
      "KL107\t1121\t0.8266579480598523\t0.8591785714285715\t0.7972308587597026\t0.9399890351240057\t0.9076641520244462\t0.79153889872206\n",
      "KL128\t22\t0.808008658008658\t0.72\t0.9666666666666667\t0.947008547008547\t0.8554545454545455\t0.8008969483663161\n",
      "KL38\t76\t0.6828671328671329\t0.5283333333333333\t1.0\t0.9211180124223602\t0.7641666666666667\t0.6911254303953135\n",
      "KL45\t63\t0.8955204216073781\t0.8282051282051281\t0.9833333333333333\t0.9683157894736842\t0.9125152625152625\t0.8840078210857842\n",
      "KL8\t20\t0.4780952380952381\t0.35\t0.9\t0.8833333333333333\t0.67\t0.5027182824148568\n",
      "KL51\t144\t0.8402082793189871\t0.84064039408867\t0.8407739934436264\t0.946773759913967\t0.9043479748221128\t0.8086417598404179\n",
      "KL5\t28\t0.6435497835497835\t0.5466666666666666\t0.9266666666666666\t0.913781512605042\t0.7664367816091954\t0.649713808922839\n",
      "KL29\t37\t0.76\t0.6678571428571428\t0.9047619047619048\t0.9367676767676768\t0.828523166023166\t0.7414910730164936\n",
      "KL1\t190\t0.5279575510104982\t0.37894736842105264\t0.9261403508771929\t0.8903508771929824\t0.6857894736842105\t0.5444479817538865\n",
      "KL136\t32\t0.6045454545454545\t0.4714285714285714\t0.95\t0.9069512195121952\t0.7327731092436974\t0.6156914657382888\n",
      "KL53\t51\t0.880701754385965\t0.8072727272727273\t0.9777777777777777\t0.9641459545214172\t0.9016755793226381\t0.8678497817950193\n",
      "KL17\t481\t0.9375784804148483\t0.9213058419243986\t0.9554160812607737\t0.9796015083875672\t0.9562960744891703\t0.9259462608218166\n"
     ]
    },
    {
     "name": "stderr",
     "output_type": "stream",
     "text": [
      "/media/concha-eloko/Linux/conda_envs/ML_work_v2/lib/python3.9/site-packages/sklearn/metrics/_classification.py:1327: UndefinedMetricWarning: Precision and F-score are ill-defined and being set to 0.0 in labels with no predicted samples. Use `zero_division` parameter to control this behavior.\n",
      "  _warn_prf(average, modifier, msg_start, len(result))\n",
      "/media/concha-eloko/Linux/conda_envs/ML_work_v2/lib/python3.9/site-packages/sklearn/metrics/_classification.py:1327: UndefinedMetricWarning: Precision and F-score are ill-defined and being set to 0.0 in labels with no predicted samples. Use `zero_division` parameter to control this behavior.\n",
      "  _warn_prf(average, modifier, msg_start, len(result))\n",
      "/media/concha-eloko/Linux/conda_envs/ML_work_v2/lib/python3.9/site-packages/sklearn/metrics/_classification.py:1327: UndefinedMetricWarning: Precision and F-score are ill-defined and being set to 0.0 in labels with no predicted samples. Use `zero_division` parameter to control this behavior.\n",
      "  _warn_prf(average, modifier, msg_start, len(result))\n"
     ]
    },
    {
     "name": "stdout",
     "output_type": "stream",
     "text": [
      "KL48\t22\t0.4857142857142857\t0.37\t0.8\t0.8943019943019943\t0.6849999999999999\t0.5057330617635248\n",
      "KL105\t114\t0.784108101106944\t0.8059288537549407\t0.7742857142857142\t0.9254401030485186\t0.8775258303862422\t0.7435561769017999\n",
      "KL112\t60\t0.7708827404479579\t0.6666666666666666\t0.9368181818181818\t0.9361111111111111\t0.8283333333333333\t0.7545953176501083\n",
      "KL16\t27\t0.5580952380952382\t0.42666666666666664\t0.9\t0.9007575757575758\t0.7096296296296296\t0.5674973289890533\n",
      "KL28\t112\t0.8571776630017277\t0.7692028985507247\t0.9787114845938375\t0.9589851163719908\t0.8829065340211251\t0.8446934684060952\n",
      "KL114\t24\t0.7672150072150072\t0.7000000000000001\t0.9266666666666666\t0.9374384236453203\t0.8416666666666667\t0.7607981762117202\n"
     ]
    },
    {
     "name": "stderr",
     "output_type": "stream",
     "text": [
      "/media/concha-eloko/Linux/conda_envs/ML_work_v2/lib/python3.9/site-packages/sklearn/metrics/_classification.py:1327: UndefinedMetricWarning: Precision and F-score are ill-defined and being set to 0.0 in labels with no predicted samples. Use `zero_division` parameter to control this behavior.\n",
      "  _warn_prf(average, modifier, msg_start, len(result))\n",
      "/media/concha-eloko/Linux/conda_envs/ML_work_v2/lib/python3.9/site-packages/sklearn/metrics/_classification.py:1327: UndefinedMetricWarning: Precision and F-score are ill-defined and being set to 0.0 in labels with no predicted samples. Use `zero_division` parameter to control this behavior.\n",
      "  _warn_prf(average, modifier, msg_start, len(result))\n",
      "/media/concha-eloko/Linux/conda_envs/ML_work_v2/lib/python3.9/site-packages/sklearn/metrics/_classification.py:1327: UndefinedMetricWarning: Precision and F-score are ill-defined and being set to 0.0 in labels with no predicted samples. Use `zero_division` parameter to control this behavior.\n",
      "  _warn_prf(average, modifier, msg_start, len(result))\n"
     ]
    },
    {
     "name": "stdout",
     "output_type": "stream",
     "text": [
      "KL35\t18\t0.5066666666666667\t0.39999999999999997\t0.7\t0.8891774891774892\t0.6944444444444444\t0.4934986580010322\n"
     ]
    },
    {
     "name": "stderr",
     "output_type": "stream",
     "text": [
      "/media/concha-eloko/Linux/conda_envs/ML_work_v2/lib/python3.9/site-packages/sklearn/metrics/_classification.py:1327: UndefinedMetricWarning: Precision and F-score are ill-defined and being set to 0.0 in labels with no predicted samples. Use `zero_division` parameter to control this behavior.\n",
      "  _warn_prf(average, modifier, msg_start, len(result))\n",
      "/media/concha-eloko/Linux/conda_envs/ML_work_v2/lib/python3.9/site-packages/sklearn/metrics/_classification.py:1327: UndefinedMetricWarning: Precision and F-score are ill-defined and being set to 0.0 in labels with no predicted samples. Use `zero_division` parameter to control this behavior.\n",
      "  _warn_prf(average, modifier, msg_start, len(result))\n",
      "/media/concha-eloko/Linux/conda_envs/ML_work_v2/lib/python3.9/site-packages/sklearn/metrics/_classification.py:1327: UndefinedMetricWarning: Precision and F-score are ill-defined and being set to 0.0 in labels with no predicted samples. Use `zero_division` parameter to control this behavior.\n",
      "  _warn_prf(average, modifier, msg_start, len(result))\n"
     ]
    },
    {
     "name": "stdout",
     "output_type": "stream",
     "text": [
      "KL169\t27\t0.3047619047619048\t0.19333333333333333\t0.8\t0.8645833333333334\t0.5966666666666667\t0.3619460024736606\n",
      "KL24\t288\t0.8177182385659331\t0.7750151240169388\t0.8672900649621551\t0.9423264646599256\t0.8753968353648708\t0.7859092373131645\n",
      "KL13\t66\t0.5040935672514619\t0.3505494505494506\t0.91\t0.8864556962025316\t0.6722444222444223\t0.5220021751920444\n",
      "KL7\t37\t0.7675524475524476\t0.6571428571428571\t1.0\t0.9417171717171717\t0.8285714285714286\t0.7741138735373531\n",
      "KL30\t93\t0.53952676439558\t0.4070175438596491\t0.8492307692307692\t0.887065637065637\t0.6949066213921902\t0.5324078684588002\n",
      "KL118\t23\t0.8787878787878788\t0.88\t0.8933333333333333\t0.9568783068783069\t0.9269565217391305\t0.8583005902280558\n",
      "KL23\t126\t0.7268591636033497\t0.6012307692307692\t0.9317251461988304\t0.925787284610814\t0.7959278846153846\t0.7107185758679253\n",
      "KL57\t51\t0.7691950464396284\t0.6654545454545454\t0.9206349206349206\t0.9345848757271286\t0.8268449197860962\t0.7475287544029864\n",
      "KL3\t145\t0.9502036635845735\t0.9241379310344827\t0.9795238095238096\t0.9839080459770115\t0.96\t0.9417598219566674\n",
      "KL63\t52\t0.8350375939849625\t0.7781818181818182\t0.9618181818181818\t0.9553507424475166\t0.8852447552447552\t0.8320099605377004\n"
     ]
    },
    {
     "name": "stderr",
     "output_type": "stream",
     "text": [
      "/media/concha-eloko/Linux/conda_envs/ML_work_v2/lib/python3.9/site-packages/sklearn/metrics/_classification.py:1327: UndefinedMetricWarning: Precision and F-score are ill-defined and being set to 0.0 in labels with no predicted samples. Use `zero_division` parameter to control this behavior.\n",
      "  _warn_prf(average, modifier, msg_start, len(result))\n",
      "/media/concha-eloko/Linux/conda_envs/ML_work_v2/lib/python3.9/site-packages/sklearn/metrics/_classification.py:1327: UndefinedMetricWarning: Precision and F-score are ill-defined and being set to 0.0 in labels with no predicted samples. Use `zero_division` parameter to control this behavior.\n",
      "  _warn_prf(average, modifier, msg_start, len(result))\n",
      "/media/concha-eloko/Linux/conda_envs/ML_work_v2/lib/python3.9/site-packages/sklearn/metrics/_classification.py:1327: UndefinedMetricWarning: Precision and F-score are ill-defined and being set to 0.0 in labels with no predicted samples. Use `zero_division` parameter to control this behavior.\n",
      "  _warn_prf(average, modifier, msg_start, len(result))\n"
     ]
    },
    {
     "name": "stdout",
     "output_type": "stream",
     "text": [
      "KL116\t25\t0.542063492063492\t0.44\t0.7333333333333333\t0.9\t0.716\t0.5334483823948227\n",
      "KL39\t37\t0.634032634032634\t0.5178571428571428\t0.8533333333333334\t0.9010101010101009\t0.7481177606177606\t0.6112059393099613\n",
      "KL64\t896\t0.8245352310419161\t0.7992985723153321\t0.8517374747497993\t0.9433289151677695\t0.8857139461353695\t0.7914559179999973\n",
      "KL47\t551\t0.8345786860096365\t0.8603439803439803\t0.8105039946212408\t0.9431388859688012\t0.9100267996093768\t0.8008807940728095\n",
      "KL74\t82\t0.8665813278716504\t0.7941176470588235\t0.9684848484848485\t0.9614100185528757\t0.8946197991391679\t0.8542110164438831\n",
      "KL10\t111\t0.6856307435254804\t0.5553359683794467\t0.8990476190476191\t0.9152681039248204\t0.7714179841897233\t0.6652739360940374\n",
      "KL46\t80\t0.781898270805946\t0.7191176470588235\t0.890316742081448\t0.9362718283189565\t0.8496822803195352\t0.7598764794739231\n",
      "KL111\t67\t0.7497154150197629\t0.654945054945055\t0.8777777777777778\t0.9277777777777778\t0.8185173035919304\t0.719257166832617\n",
      "KL102\t242\t0.9145957646862513\t0.855187074829932\t0.9869444444444444\t0.9738239127858751\t0.9263538679934784\t0.9036681949749144\n",
      "KL27\t133\t0.7984487198909256\t0.674074074074074\t0.990909090909091\t0.9444444444444444\t0.8362962962962963\t0.7892982763679252\n",
      "KL108\t30\t0.8391608391608392\t0.8\t0.8914285714285715\t0.95\t0.89\t0.8142624611008076\n",
      "KL36\t88\t0.8767980557454241\t0.8869281045751634\t0.8693068455452356\t0.9583647798742139\t0.9298276886512181\t0.8527128112481998\n",
      "KL12\t37\t0.7796736596736596\t0.6714285714285714\t0.95\t0.9413131313131313\t0.8330115830115831\t0.7669682224238747\n",
      "KL19\t73\t0.844021164021164\t0.7516666666666667\t0.9666666666666667\t0.9544880785413745\t0.8732359307359308\t0.8278668631815479\n",
      "KL60\t68\t0.7656521739130434\t0.6472527472527473\t0.9492063492063492\t0.9362842517314062\t0.8206851971557855\t0.7511373779570631\n",
      "KL34\t20\t0.8857142857142857\t0.8\t1.0\t0.9666666666666667\t0.9\t0.8761234037828133\n"
     ]
    },
    {
     "name": "stderr",
     "output_type": "stream",
     "text": [
      "/media/concha-eloko/Linux/conda_envs/ML_work_v2/lib/python3.9/site-packages/sklearn/metrics/_classification.py:1327: UndefinedMetricWarning: Precision and F-score are ill-defined and being set to 0.0 in labels with no predicted samples. Use `zero_division` parameter to control this behavior.\n",
      "  _warn_prf(average, modifier, msg_start, len(result))\n",
      "/media/concha-eloko/Linux/conda_envs/ML_work_v2/lib/python3.9/site-packages/sklearn/metrics/_classification.py:1327: UndefinedMetricWarning: Precision and F-score are ill-defined and being set to 0.0 in labels with no predicted samples. Use `zero_division` parameter to control this behavior.\n",
      "  _warn_prf(average, modifier, msg_start, len(result))\n",
      "/media/concha-eloko/Linux/conda_envs/ML_work_v2/lib/python3.9/site-packages/sklearn/metrics/_classification.py:1327: UndefinedMetricWarning: Precision and F-score are ill-defined and being set to 0.0 in labels with no predicted samples. Use `zero_division` parameter to control this behavior.\n",
      "  _warn_prf(average, modifier, msg_start, len(result))\n"
     ]
    },
    {
     "name": "stdout",
     "output_type": "stream",
     "text": [
      "KL55\t24\t0.36190476190476195\t0.24000000000000002\t0.8\t0.8733333333333334\t0.62\t0.40513668157435867\n",
      "KL14\t130\t0.858716085992187\t0.7769230769230769\t0.9721056721056721\t0.958974358974359\t0.8861538461538462\t0.8456204699615617\n"
     ]
    },
    {
     "name": "stderr",
     "output_type": "stream",
     "text": [
      "/media/concha-eloko/Linux/conda_envs/ML_work_v2/lib/python3.9/site-packages/sklearn/metrics/_classification.py:1327: UndefinedMetricWarning: Precision and F-score are ill-defined and being set to 0.0 in labels with no predicted samples. Use `zero_division` parameter to control this behavior.\n",
      "  _warn_prf(average, modifier, msg_start, len(result))\n",
      "/media/concha-eloko/Linux/conda_envs/ML_work_v2/lib/python3.9/site-packages/sklearn/metrics/_classification.py:1327: UndefinedMetricWarning: Precision and F-score are ill-defined and being set to 0.0 in labels with no predicted samples. Use `zero_division` parameter to control this behavior.\n",
      "  _warn_prf(average, modifier, msg_start, len(result))\n",
      "/media/concha-eloko/Linux/conda_envs/ML_work_v2/lib/python3.9/site-packages/sklearn/metrics/_classification.py:1327: UndefinedMetricWarning: Precision and F-score are ill-defined and being set to 0.0 in labels with no predicted samples. Use `zero_division` parameter to control this behavior.\n",
      "  _warn_prf(average, modifier, msg_start, len(result))\n"
     ]
    },
    {
     "name": "stdout",
     "output_type": "stream",
     "text": [
      "KL9\t21\t0.4833333333333333\t0.37\t0.7\t0.8886153846153846\t0.6802380952380952\t0.47299272244288304\n",
      "KL153\t18\t0.5053968253968254\t0.45\t0.64\t0.8428571428571429\t0.6861111111111111\t0.4386826293765435\n",
      "KL21\t100\t0.8787633419212367\t0.82\t0.9555555555555555\t0.9633333333333334\t0.906\t0.8633539508455158\n",
      "KL81\t37\t0.7319347319347319\t0.5785714285714285\t1.0\t0.9298550724637681\t0.7892857142857143\t0.7300563323797485\n"
     ]
    },
    {
     "name": "stderr",
     "output_type": "stream",
     "text": [
      "/media/concha-eloko/Linux/conda_envs/ML_work_v2/lib/python3.9/site-packages/sklearn/metrics/_classification.py:1327: UndefinedMetricWarning: Precision and F-score are ill-defined and being set to 0.0 in labels with no predicted samples. Use `zero_division` parameter to control this behavior.\n",
      "  _warn_prf(average, modifier, msg_start, len(result))\n",
      "/media/concha-eloko/Linux/conda_envs/ML_work_v2/lib/python3.9/site-packages/sklearn/metrics/_classification.py:1327: UndefinedMetricWarning: Precision and F-score are ill-defined and being set to 0.0 in labels with no predicted samples. Use `zero_division` parameter to control this behavior.\n",
      "  _warn_prf(average, modifier, msg_start, len(result))\n",
      "/media/concha-eloko/Linux/conda_envs/ML_work_v2/lib/python3.9/site-packages/sklearn/metrics/_classification.py:1327: UndefinedMetricWarning: Precision and F-score are ill-defined and being set to 0.0 in labels with no predicted samples. Use `zero_division` parameter to control this behavior.\n",
      "  _warn_prf(average, modifier, msg_start, len(result))\n"
     ]
    },
    {
     "name": "stdout",
     "output_type": "stream",
     "text": [
      "KL31\t16\t0.5314285714285715\t0.48333333333333334\t0.6\t0.9057894736842105\t0.7354166666666666\t0.5060448024364359\n",
      "KL151\t61\t0.8819875776397516\t0.8038461538461539\t0.9818181818181818\t0.9644946316179193\t0.9002837326607818\t0.868651038658241\n",
      "KL123\t29\t0.6266666666666667\t0.5\t0.9333333333333333\t0.9055555555555556\t0.7433333333333333\t0.6298843133197235\n"
     ]
    },
    {
     "name": "stderr",
     "output_type": "stream",
     "text": [
      "/media/concha-eloko/Linux/conda_envs/ML_work_v2/lib/python3.9/site-packages/sklearn/metrics/_classification.py:1327: UndefinedMetricWarning: Precision and F-score are ill-defined and being set to 0.0 in labels with no predicted samples. Use `zero_division` parameter to control this behavior.\n",
      "  _warn_prf(average, modifier, msg_start, len(result))\n",
      "/media/concha-eloko/Linux/conda_envs/ML_work_v2/lib/python3.9/site-packages/sklearn/metrics/_classification.py:1327: UndefinedMetricWarning: Precision and F-score are ill-defined and being set to 0.0 in labels with no predicted samples. Use `zero_division` parameter to control this behavior.\n",
      "  _warn_prf(average, modifier, msg_start, len(result))\n",
      "/media/concha-eloko/Linux/conda_envs/ML_work_v2/lib/python3.9/site-packages/sklearn/metrics/_classification.py:1327: UndefinedMetricWarning: Precision and F-score are ill-defined and being set to 0.0 in labels with no predicted samples. Use `zero_division` parameter to control this behavior.\n",
      "  _warn_prf(average, modifier, msg_start, len(result))\n",
      "/media/concha-eloko/Linux/conda_envs/ML_work_v2/lib/python3.9/site-packages/sklearn/metrics/_classification.py:1327: UndefinedMetricWarning: Precision and F-score are ill-defined and being set to 0.0 in labels with no predicted samples. Use `zero_division` parameter to control this behavior.\n",
      "  _warn_prf(average, modifier, msg_start, len(result))\n",
      "/media/concha-eloko/Linux/conda_envs/ML_work_v2/lib/python3.9/site-packages/sklearn/metrics/_classification.py:1327: UndefinedMetricWarning: Precision and F-score are ill-defined and being set to 0.0 in labels with no predicted samples. Use `zero_division` parameter to control this behavior.\n",
      "  _warn_prf(average, modifier, msg_start, len(result))\n",
      "/media/concha-eloko/Linux/conda_envs/ML_work_v2/lib/python3.9/site-packages/sklearn/metrics/_classification.py:1327: UndefinedMetricWarning: Precision and F-score are ill-defined and being set to 0.0 in labels with no predicted samples. Use `zero_division` parameter to control this behavior.\n",
      "  _warn_prf(average, modifier, msg_start, len(result))\n",
      "/media/concha-eloko/Linux/conda_envs/ML_work_v2/lib/python3.9/site-packages/sklearn/metrics/_classification.py:1327: UndefinedMetricWarning: Precision and F-score are ill-defined and being set to 0.0 in labels with no predicted samples. Use `zero_division` parameter to control this behavior.\n",
      "  _warn_prf(average, modifier, msg_start, len(result))\n",
      "/media/concha-eloko/Linux/conda_envs/ML_work_v2/lib/python3.9/site-packages/sklearn/metrics/_classification.py:1327: UndefinedMetricWarning: Precision and F-score are ill-defined and being set to 0.0 in labels with no predicted samples. Use `zero_division` parameter to control this behavior.\n",
      "  _warn_prf(average, modifier, msg_start, len(result))\n",
      "/media/concha-eloko/Linux/conda_envs/ML_work_v2/lib/python3.9/site-packages/sklearn/metrics/_classification.py:1327: UndefinedMetricWarning: Precision and F-score are ill-defined and being set to 0.0 in labels with no predicted samples. Use `zero_division` parameter to control this behavior.\n",
      "  _warn_prf(average, modifier, msg_start, len(result))\n",
      "/media/concha-eloko/Linux/conda_envs/ML_work_v2/lib/python3.9/site-packages/sklearn/metrics/_classification.py:1327: UndefinedMetricWarning: Precision and F-score are ill-defined and being set to 0.0 in labels with no predicted samples. Use `zero_division` parameter to control this behavior.\n",
      "  _warn_prf(average, modifier, msg_start, len(result))\n",
      "/media/concha-eloko/Linux/conda_envs/ML_work_v2/lib/python3.9/site-packages/sklearn/metrics/_classification.py:1327: UndefinedMetricWarning: Precision and F-score are ill-defined and being set to 0.0 in labels with no predicted samples. Use `zero_division` parameter to control this behavior.\n",
      "  _warn_prf(average, modifier, msg_start, len(result))\n",
      "/media/concha-eloko/Linux/conda_envs/ML_work_v2/lib/python3.9/site-packages/sklearn/metrics/_classification.py:1327: UndefinedMetricWarning: Precision and F-score are ill-defined and being set to 0.0 in labels with no predicted samples. Use `zero_division` parameter to control this behavior.\n",
      "  _warn_prf(average, modifier, msg_start, len(result))\n"
     ]
    },
    {
     "name": "stdout",
     "output_type": "stream",
     "text": [
      "KL109\t16\t0.08\t0.05\t0.2\t0.8436842105263157\t0.525\t0.0917662935482247\n",
      "KL2\t351\t0.834817120753062\t0.7534406438631791\t0.9374125780431639\t0.9504248628395557\t0.8716211717899465\t0.8131165601721763\n",
      "KL106\t487\t0.7956232917703557\t0.8200294550810014\t0.772739221599344\t0.9297887680169311\t0.8858838481948975\t0.7538109845802491\n",
      "KL122\t29\t0.5504761904761905\t0.39999999999999997\t1.0\t0.9\t0.7\t0.585477207921569\n",
      "KL70\t30\t0.8151515151515152\t0.7333333333333334\t0.9666666666666667\t0.95\t0.8633333333333334\t0.8092852470120718\n",
      "KL43\t44\t0.6373809523809524\t0.5277777777777778\t0.8361904761904762\t0.9055152394775037\t0.7547979797979798\t0.6137062115991918\n",
      "KL127\t33\t0.6707070707070707\t0.5285714285714286\t1.0\t0.9196153846153846\t0.7642857142857142\t0.6853596221955532\n",
      "KL25\t269\t0.8380233762041729\t0.8104122990915443\t0.8712717446785647\t0.9479491567794166\t0.8929384915532071\t0.8090144660938176\n",
      "KL18\t22\t0.9555555555555556\t0.96\t0.96\t0.9849002849002849\t0.9754545454545455\t0.9497259894483203\n",
      "KL62\t152\t0.8630735741428277\t0.8094623655913978\t0.9292857142857143\t0.9572509457755359\t0.898152235427278\t0.8421478903681391\n",
      "KL22\t78\t0.8936854543306156\t0.82\t0.9866666666666667\t0.9679478380233356\t0.9087179487179488\t0.8815055597501619\n",
      "KL149\t70\t0.8382636622636622\t0.7466666666666666\t0.9692307692307692\t0.9530506155950752\t0.8705164319248826\t0.8242089280688196\n",
      "KL117\t17\t0.4990476190476191\t0.48333333333333334\t0.6166666666666667\t0.8828571428571428\t0.7240196078431372\t0.48081243640493787\n"
     ]
    },
    {
     "name": "stderr",
     "output_type": "stream",
     "text": [
      "/media/concha-eloko/Linux/conda_envs/ML_work_v2/lib/python3.9/site-packages/sklearn/metrics/_classification.py:1327: UndefinedMetricWarning: Precision and F-score are ill-defined and being set to 0.0 in labels with no predicted samples. Use `zero_division` parameter to control this behavior.\n",
      "  _warn_prf(average, modifier, msg_start, len(result))\n",
      "/media/concha-eloko/Linux/conda_envs/ML_work_v2/lib/python3.9/site-packages/sklearn/metrics/_classification.py:1327: UndefinedMetricWarning: Precision and F-score are ill-defined and being set to 0.0 in labels with no predicted samples. Use `zero_division` parameter to control this behavior.\n",
      "  _warn_prf(average, modifier, msg_start, len(result))\n",
      "/media/concha-eloko/Linux/conda_envs/ML_work_v2/lib/python3.9/site-packages/sklearn/metrics/_classification.py:1327: UndefinedMetricWarning: Precision and F-score are ill-defined and being set to 0.0 in labels with no predicted samples. Use `zero_division` parameter to control this behavior.\n",
      "  _warn_prf(average, modifier, msg_start, len(result))\n"
     ]
    }
   ],
   "source": [
    "with open(f\"/media/concha-eloko/Linux/PPT_clean/Seqbased_model/Seqbased_models.prophages_FULL_metrics.tsv\", \"w\") as outfile :\n",
    "    outfile.write(f\"KL_type\\tn_prophages\\tF1\\trecall\\tprecision\\taccuracy\\tAUC\\tMCC\\n\")\n",
    "    for kltype in KLtypes_paths :\n",
    "        count_kltype = dico_prophage_count[kltype]\n",
    "        mean_mcc , mean_recall , mean_f1 , mean_acc , mean_prec , mean_auc = get_mean_metrics(KLtypes_paths[kltype][0])\n",
    "        outfile.write(f\"{kltype}\\t{count_kltype}\\t{mean_f1}\\t{mean_recall}\\t{mean_prec}\\t{mean_acc}\\t{mean_auc}\\t{mean_mcc}\\n\")\n",
    "        print(f\"{kltype}\\t{count_kltype}\\t{mean_f1}\\t{mean_recall}\\t{mean_prec}\\t{mean_acc}\\t{mean_auc}\\t{mean_mcc}\")"
   ]
  },
  {
   "cell_type": "markdown",
   "id": "6bd6d4e2-797c-4e0a-be7c-927c01c3baad",
   "metadata": {},
   "source": [
    "***\n",
    "### Dump the best model for each KL types :"
   ]
  },
  {
   "cell_type": "code",
   "execution_count": 20,
   "id": "ec6b9111-a471-4bbb-b97d-87b8653fe47d",
   "metadata": {},
   "outputs": [],
   "source": [
    "path_models = \"/media/concha-eloko/Linux/PPT_clean/Seqbased_model/1702_models\"\n",
    "cl_value = \"0.85\"\n",
    "\n",
    "KLtypes = set([file.split(\"_RF_\")[1].split(\".full_data\")[0] for file in os.listdir(path_jobs)])\n",
    "\n",
    "KLtypes_paths = {kltype : [f\"{path_jobs}/{file}\" for file in os.listdir(path_jobs) if file.split(\"_\")[0] == cl_value if file.split(\"_RF_\")[1].split(\".full_data\")[0]==kltype]\n",
    "                for kltype in KLtypes}\n"
   ]
  },
  {
   "cell_type": "code",
   "execution_count": 21,
   "id": "86bc7dcf-de63-43b0-9a8b-4753d1ba7128",
   "metadata": {},
   "outputs": [
    {
     "name": "stdout",
     "output_type": "stream",
     "text": [
      "Model saved for KL71\n",
      "Model saved for KL139\n",
      "Model saved for KL124\n",
      "Model saved for KL15\n",
      "Model saved for KL157\n",
      "Model saved for KL145\n",
      "Model saved for KL110\n",
      "Model saved for KL125\n",
      "Model saved for KL20\n",
      "Model saved for KL107\n",
      "Model saved for KL128\n",
      "Model saved for KL38\n",
      "Model saved for KL45\n",
      "Model saved for KL8\n",
      "Model saved for KL51\n",
      "Model saved for KL5\n",
      "Model saved for KL137\n",
      "Model saved for KL103\n",
      "Model saved for KL29\n",
      "Model saved for KL6\n",
      "Model saved for KL61\n",
      "Model saved for KL1\n",
      "Model saved for KL136\n",
      "Model saved for KL53\n",
      "Model saved for KL17\n",
      "Model saved for KL48\n",
      "Model saved for KL105\n",
      "Model saved for KL112\n",
      "Model saved for KL16\n",
      "Model saved for KL28\n",
      "Model saved for KL114\n",
      "Model saved for KL35\n",
      "Model saved for KL169\n",
      "Model saved for KL24\n",
      "Model saved for KL4\n",
      "Model saved for KL13\n",
      "Model saved for KL7\n",
      "Model saved for KL30\n",
      "Model saved for KL118\n",
      "Model saved for KL23\n",
      "Model saved for KL41\n",
      "Model saved for KL57\n",
      "Model saved for KL26\n",
      "Model saved for KL3\n",
      "Model saved for KL63\n",
      "Model saved for KL116\n",
      "Model saved for KL39\n",
      "Model saved for KL119\n",
      "Model saved for KL58\n",
      "Model saved for KL64\n",
      "Model saved for KL47\n",
      "Model saved for KL164\n",
      "Model saved for KL74\n",
      "Model saved for KL10\n",
      "Model saved for KL46\n",
      "Model saved for KL111\n",
      "Model saved for KL54\n",
      "Model saved for KL102\n",
      "Model saved for KL27\n",
      "Model saved for KL108\n",
      "Model saved for KL166\n",
      "Model saved for KL36\n",
      "Model saved for KL56\n",
      "Model saved for KL12\n",
      "Model saved for KL142\n",
      "Model saved for KL19\n",
      "Model saved for KL60\n",
      "Model saved for KL34\n",
      "Model saved for KL55\n",
      "Model saved for KL14\n",
      "Model saved for KL9\n",
      "Model saved for KL153\n"
     ]
    },
    {
     "ename": "IndexError",
     "evalue": "list index out of range",
     "output_type": "error",
     "traceback": [
      "\u001b[0;31m---------------------------------------------------------------------------\u001b[0m",
      "\u001b[0;31mIndexError\u001b[0m                                Traceback (most recent call last)",
      "Cell \u001b[0;32mIn[21], line 21\u001b[0m\n\u001b[1;32m     18\u001b[0m     \u001b[38;5;28mprint\u001b[39m(\u001b[38;5;124mf\u001b[39m\u001b[38;5;124m\"\u001b[39m\u001b[38;5;124mModel saved for \u001b[39m\u001b[38;5;132;01m{\u001b[39;00mkltype\u001b[38;5;132;01m}\u001b[39;00m\u001b[38;5;124m\"\u001b[39m)\n\u001b[1;32m     20\u001b[0m \u001b[38;5;28;01mfor\u001b[39;00m kltype \u001b[38;5;129;01min\u001b[39;00m KLtypes_paths :\n\u001b[0;32m---> 21\u001b[0m     save_best_model(\u001b[43mKLtypes_paths\u001b[49m\u001b[43m[\u001b[49m\u001b[43mkltype\u001b[49m\u001b[43m]\u001b[49m\u001b[43m[\u001b[49m\u001b[38;5;241;43m0\u001b[39;49m\u001b[43m]\u001b[49m)\n",
      "\u001b[0;31mIndexError\u001b[0m: list index out of range"
     ]
    }
   ],
   "source": [
    "def save_best_model(path_data_object) :\n",
    "    data_object = joblib.load(f\"{path_data_object}\")\n",
    "    mcc_values = []\n",
    "    kltype = path_data_object.split(\"/\")[-1].split(\"RF_\")[1].split(\".full\")[0]\n",
    "    for i in range(0,5) :\n",
    "        y_test = data_object[i][\"test_data\"][0].values\n",
    "        predictions = data_object[i][\"test_data\"][1]\n",
    "        mcc = matthews_corrcoef(y_test, predictions)\n",
    "        mcc_values.append(mcc)\n",
    "    #print(kltype)\n",
    "    #print(mcc_values)\n",
    "    #print(np.argmax(mcc_values))\n",
    "    #print(data_object[np.argmax(mcc_values)])\n",
    "    #print(\"\\n\")\n",
    "    best_model = data_object[np.argmax(mcc_values)][\"model\"]\n",
    "    joblib.dump(best_model, f'{path_models}/{cl_value}_RF_{kltype}.best_RF_model.joblib')\n",
    "    del data_object\n",
    "    print(f\"Model saved for {kltype}\")\n",
    "\n",
    "for kltype in KLtypes_paths :\n",
    "    save_best_model(KLtypes_paths[kltype][0])\n",
    "    \n"
   ]
  },
  {
   "cell_type": "code",
   "execution_count": null,
   "id": "0db8cef1-302b-4792-ab67-67646ab5b4bb",
   "metadata": {},
   "outputs": [],
   "source": []
  }
 ],
 "metadata": {
  "kernelspec": {
   "display_name": "ML_work_v2",
   "language": "python",
   "name": "ml_work_v2"
  },
  "language_info": {
   "codemirror_mode": {
    "name": "ipython",
    "version": 3
   },
   "file_extension": ".py",
   "mimetype": "text/x-python",
   "name": "python",
   "nbconvert_exporter": "python",
   "pygments_lexer": "ipython3",
   "version": "3.9.18"
  },
  "widgets": {
   "application/vnd.jupyter.widget-state+json": {
    "state": {},
    "version_major": 2,
    "version_minor": 0
   }
  }
 },
 "nbformat": 4,
 "nbformat_minor": 5
}
