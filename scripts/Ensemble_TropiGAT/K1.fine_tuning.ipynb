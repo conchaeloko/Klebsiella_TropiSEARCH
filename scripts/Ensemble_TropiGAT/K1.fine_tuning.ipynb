{
 "cells": [
  {
   "cell_type": "markdown",
   "id": "2a400685-e978-4b30-8546-fb493471d559",
   "metadata": {},
   "source": [
    "### Pre -work : \n"
   ]
  },
  {
   "cell_type": "code",
   "execution_count": null,
   "id": "54c1db14-6f88-40e4-9a1e-1f1575666320",
   "metadata": {},
   "outputs": [],
   "source": [
    "# Move files around :\n",
    "\n",
    "rsync -avzhe ssh \\\n",
    "/home/concha-eloko/Téléchargements/Enterobacter_aerogenes_KCTC_2190.fasta \\\n",
    "conchae@garnatxa.srv.cpd:/home/conchae/prediction_depolymerase_tropism/post_work\n",
    "\n",
    "kleborate --kaptive_k \\\n",
    "--kaptive_k_outfile /home/conchae/prediction_depolymerase_tropism/post_work/Enterobacter_aerogenes_KCTC_2190.out \\\n",
    "-a /home/conchae/prediction_depolymerase_tropism/post_work/Enterobacter_aerogenes_KCTC_2190.fasta"
   ]
  },
  {
   "cell_type": "markdown",
   "id": "fcece027-57b9-4fa5-a572-574ed792e4dd",
   "metadata": {},
   "source": [
    "***"
   ]
  },
  {
   "cell_type": "code",
   "execution_count": 1,
   "id": "9a6d5daf-a8f3-4c99-8ed4-51bbba154ac9",
   "metadata": {},
   "outputs": [],
   "source": [
    "from torch_geometric.data import HeteroData, DataLoader\n",
    "import torch_geometric.transforms as T\n",
    "from torch_geometric.nn import to_hetero , HeteroConv , GATv2Conv\n",
    "from torch_geometric.utils import negative_sampling\n",
    "from torch_geometric.loader import LinkNeighborLoader\n",
    "import torch\n",
    "from torch import nn\n",
    "import torch.nn.functional as F\n",
    "import torch.optim as optim\n",
    "\n",
    "from sklearn.model_selection import train_test_split, StratifiedKFold\n",
    "from sklearn.preprocessing import LabelEncoder , label_binarize , OneHotEncoder\n",
    "from sklearn.metrics import accuracy_score, precision_score, recall_score, f1_score, roc_auc_score , matthews_corrcoef\n",
    "\n",
    "#import TropiGAT_functions \n",
    "#from TropiGAT_functions import get_top_n_kltypes ,clean_print \n",
    "\n",
    "import os\n",
    "import json\n",
    "import pandas as pd\n",
    "import numpy as np\n",
    "from tqdm import tqdm\n",
    "from itertools import product\n",
    "import random\n",
    "from collections import Counter\n",
    "import warnings\n",
    "import logging\n",
    "from multiprocessing.pool import ThreadPool\n",
    "warnings.filterwarnings(\"ignore\")\n",
    "\n",
    "# *****************************************************************************\n",
    "# Load the Dataframes :\n",
    "path_work = \"/media/concha-eloko/Linux/PPT_clean\"\n",
    "path_ensemble = f\"{path_work}/ficheros_28032023/ensemble_2809\""
   ]
  },
  {
   "cell_type": "markdown",
   "id": "30aa8fc3-af0e-4fbf-b82d-fd01981a49de",
   "metadata": {},
   "source": [
    "> Open the DF"
   ]
  },
  {
   "cell_type": "code",
   "execution_count": 2,
   "id": "85cf2073-420d-4f65-8782-e74c9c60708c",
   "metadata": {},
   "outputs": [],
   "source": [
    "path_project = \"/media/concha-eloko/Linux/77_strains_phage_project\"\n",
    "path_Dpo_domain_org = \"/media/concha-eloko/Linux/depolymerase_building/clean_77_phages_depo\"\n",
    "\n",
    "dpo_embeddings = pd.read_csv(f\"{path_project}/rbp_work/Dpo_domains_77.esm2.embedding.csv\", sep = \",\" , header = None)\n",
    "dpo_embeddings = dpo_embeddings.drop([1281] , axis = 1)\n",
    "dpo_embeddings[0] = dpo_embeddings[0].apply(lambda x : x.split(\"_Dpo\")[0])\n",
    "dpo_embeddings.set_index([0], inplace = True)\n"
   ]
  },
  {
   "cell_type": "code",
   "execution_count": 3,
   "id": "edb5dca4-22ef-45c4-8262-d84071dc368b",
   "metadata": {},
   "outputs": [],
   "source": [
    "path_project = \"/media/concha-eloko/Linux/PPT_clean/in_vitro\"\n",
    "\n",
    "bea_embeddings = pd.read_csv(f\"{path_project}/Bea_phages.esm2.embedding.csv\", sep = \",\" , header = None)\n",
    "bea_embeddings = bea_embeddings.drop([1281] , axis = 1)\n",
    "bea_embeddings[0] = bea_embeddings[0].apply(lambda x : x.replace(\"_\", \"__\"))\n",
    "bea_embeddings.set_index([0], inplace = True)\n",
    "\n"
   ]
  },
  {
   "cell_type": "code",
   "execution_count": 4,
   "id": "716095b3-007d-482d-bf99-b4a0a621d0f8",
   "metadata": {
    "scrolled": true
   },
   "outputs": [],
   "source": [
    "path_project = \"/media/concha-eloko/Linux/PPT_clean/in_vitro\"\n",
    "\n",
    "towndsend_embeddings = pd.read_csv(f\"{path_project}/Townsed_phages.esm2.embedding.csv\", sep = \",\" , header = None)\n",
    "towndsend_embeddings = towndsend_embeddings.drop([1281] , axis = 1)\n",
    "towndsend_embeddings[0] = towndsend_embeddings[0].apply(lambda x : x.replace(\"_\", \"__\"))\n",
    "towndsend_embeddings.set_index([0], inplace = True)\n"
   ]
  },
  {
   "cell_type": "code",
   "execution_count": 5,
   "id": "3126380d-f807-4d2b-91de-50a1939641cd",
   "metadata": {
    "scrolled": true
   },
   "outputs": [],
   "source": [
    "df_embeddings = pd.concat([towndsend_embeddings, bea_embeddings, dpo_embeddings], axis = 0)\n"
   ]
  },
  {
   "cell_type": "markdown",
   "id": "166670d7-9751-4fd5-a18a-521b72d9f991",
   "metadata": {},
   "source": [
    "> Open df KL types :"
   ]
  },
  {
   "cell_type": "code",
   "execution_count": 6,
   "id": "aefec4b6-7f85-4427-b44c-c61797e90f3c",
   "metadata": {
    "scrolled": true
   },
   "outputs": [],
   "source": [
    "path_finetuning = \"/media/concha-eloko/Linux/PPT_clean/in_vitro/fine_tuning\"\n",
    "\n",
    "bea_df = pd.read_csv(f\"{path_finetuning}/bea_fine_tuning.df\", sep = \"\\t\", header = 0)\n",
    "bea_df[\"Protein\"] = bea_df[\"Protein\"].apply(lambda x : x.replace(\"_\", \"__\"))\n",
    "pool_bea = set([kltype.strip() for kltypes in bea_df[\"Target\"] for kltype in kltypes.split(\",\") if kltype.count(\"wzi\") == 0 if kltype.count(\"pass\") == 0])\n",
    "\n",
    "ferriol_df = pd.read_csv(f\"{path_finetuning}/ferriol_fine_tuning.df\", sep = \"\\t\", header = 0)\n",
    "ferriol_df[\"Target\"] = ferriol_df[\"Target\"].apply(lambda x : x.replace(\"K\", \"KL\"))\n",
    "pool_ferriol = set([kltype.strip() for kltypes in ferriol_df[\"Target\"] for kltype in kltypes.split(\",\") if kltype.count(\"wzi\") == 0 if kltype.count(\"pass\") == 0])\n",
    "\n",
    "towndsend_df = pd.read_csv(f\"{path_finetuning}/towndsend_fine_tuning.df\", sep = \"\\t\", header = 0)\n",
    "towndsend_df[\"Protein\"] = towndsend_df[\"Protein\"].apply(lambda x : x.replace(\"_\", \"__\"))\n",
    "pool_towndsend = set([kltype.strip() for kltypes in towndsend_df[\"Target\"] for kltype in kltypes.split(\",\") if kltype.count(\"wzi\") == 0 if kltype.count(\"pass\") == 0])\n",
    "\n",
    "dico_matrices = {\"ferriol\" : {\"matrix\" : ferriol_df, \"pool\" : pool_ferriol}, \n",
    "                 \"bea\" : {\"matrix\": bea_df, \"pool\" : pool_bea}, \n",
    "                 \"towndsend\" : {\"matrix\" : towndsend_df, \"pool\" : pool_towndsend}}\n"
   ]
  },
  {
   "cell_type": "code",
   "execution_count": 9,
   "id": "abcabb32-6466-468f-8388-0a4dc5df38ec",
   "metadata": {
    "scrolled": true
   },
   "outputs": [
    {
     "data": {
      "text/plain": [
       "Counter({'KL37': 21,\n",
       "         'KL2': 18,\n",
       "         'KL22': 17,\n",
       "         'KL35': 14,\n",
       "         'KL126': 12,\n",
       "         'KL61': 11,\n",
       "         'KL110': 7,\n",
       "         'KL13': 5,\n",
       "         'KL140': 5,\n",
       "         'KL36': 5,\n",
       "         'KL1': 4,\n",
       "         'KL24': 4,\n",
       "         'KL57': 4,\n",
       "         'KL74': 4,\n",
       "         'KL5': 4,\n",
       "         'KL80': 4,\n",
       "         'KL16': 3,\n",
       "         'KL30': 3,\n",
       "         'KL134': 3,\n",
       "         'KL25': 3,\n",
       "         'KL54': 3,\n",
       "         'KL58': 3,\n",
       "         'KL39': 3,\n",
       "         'KL71': 3,\n",
       "         'KL151': 2,\n",
       "         'KL157': 2,\n",
       "         'KL20': 2,\n",
       "         'KL103': 2,\n",
       "         'KL102': 2,\n",
       "         'KL149': 2,\n",
       "         'KL63': 2,\n",
       "         'KL14': 2,\n",
       "         'KL10': 2,\n",
       "         'KL11': 2,\n",
       "         'KL17': 2,\n",
       "         'KL26': 2,\n",
       "         'KL43': 2,\n",
       "         'KL44': 2,\n",
       "         'KL45': 2,\n",
       "         'KL56': 2,\n",
       "         'KL68': 2,\n",
       "         'KL18': 2,\n",
       "         'KL60': 2,\n",
       "         'KL67': 2,\n",
       "         'KL82': 2,\n",
       "         'KL28': 2,\n",
       "         'KL139': 1,\n",
       "         'KL62': 1,\n",
       "         'KL23': 1,\n",
       "         'KL27': 1,\n",
       "         'KL38': 1,\n",
       "         'KL40': 1,\n",
       "         'KL41': 1,\n",
       "         'KL46': 1,\n",
       "         'KL48': 1,\n",
       "         'KL4': 1,\n",
       "         'KL52': 1,\n",
       "         'KL51': 1,\n",
       "         'KL53': 1,\n",
       "         'KL64': 1,\n",
       "         \"'KL27'\": 1,\n",
       "         \"'KL29'\": 1,\n",
       "         \"'KL32'\": 1,\n",
       "         \"'KL35'\": 1,\n",
       "         \"'KL36'\": 1,\n",
       "         \"'KL50'\": 1,\n",
       "         \"'KL59'\": 1,\n",
       "         \"'KL62'\": 1,\n",
       "         \"'KL65'\": 1,\n",
       "         \"'KL69'\": 1,\n",
       "         \"'KL70'\": 1,\n",
       "         \"'KL72'\": 1,\n",
       "         \"'KL79'\": 1,\n",
       "         \"'KL80')\": 1,\n",
       "         'KL66': 1,\n",
       "         'KL6': 1,\n",
       "         'KL7': 1,\n",
       "         'KL8': 1,\n",
       "         'KL3': 1})"
      ]
     },
     "execution_count": 9,
     "metadata": {},
     "output_type": "execute_result"
    }
   ],
   "source": [
    "others_kltypes = [kltype.strip() for kltypes in bea_df[\"Target\"] for kltype in kltypes.split(\",\") if kltype.count(\"wzi\") == 0 if kltype.count(\"pass\") == 0]\n",
    "others_kltypes = others_kltypes + [kltype.strip() for kltypes in ferriol_df[\"Target\"] for kltype in kltypes.split(\",\") if kltype.count(\"wzi\") == 0 if kltype.count(\"pass\") == 0]\n",
    "others_kltypes = others_kltypes + [kltype.strip() for kltypes in towndsend_df[\"Target\"] for kltype in kltypes.split(\",\") if kltype.count(\"wzi\") == 0 if kltype.count(\"pass\") == 0]\n",
    "\n",
    "\n",
    "\n",
    "Counter(others_kltypes)\n",
    "\n",
    "\n"
   ]
  },
  {
   "cell_type": "markdown",
   "id": "1dece42c-43c1-4269-ad37-842880b9c154",
   "metadata": {},
   "source": [
    "> Make the graphs :"
   ]
  },
  {
   "cell_type": "code",
   "execution_count": 7,
   "id": "5014be80-ddea-4ff7-94bc-9ae102410eed",
   "metadata": {},
   "outputs": [],
   "source": [
    "def finetune_kltype_df(kltype) :\n",
    "    positive_lines , negative_lines = [], []\n",
    "    for author in dico_matrices :\n",
    "        if kltype in dico_matrices[author][\"pool\"] : \n",
    "            for _,row in dico_matrices[author][\"matrix\"].iterrows() :\n",
    "                if row[\"Target\"].count(\"pass\") == 0 :\n",
    "                    targets = [kltype.strip() for kltype in row[\"Target\"].split(\",\") if kltype.count(\"wzi\") == 0 if kltype.count(\"pass\") == 0]\n",
    "                    if kltype not in targets :\n",
    "                        negative_lines.append(list(row.values))\n",
    "                    else :\n",
    "                        positive_lines.append(list(row.values))\n",
    "    lines = positive_lines + negative_lines\n",
    "    n_positives = len(set([item[0] for item in positive_lines]))\n",
    "    n_negatives = len(set([item[0] for item in negative_lines]))\n",
    "    df_kltype = pd.DataFrame(lines, columns = [\"phage\", \"depo\",\"KLtypes\"])\n",
    "\n",
    "    return df_kltype , n_positives, n_negatives\n",
    "    \n",
    "def build_graph_baseline(df_info, n_positives, n_negatives) : \n",
    "    # **************************************************************\n",
    "    # initialize the graph\n",
    "    graph_data = HeteroData()\n",
    "    # Indexation process  \n",
    "    indexation_nodes_A = [0]\n",
    "    indexation_nodes_B1 = df_info[\"phage\"].unique().tolist()\n",
    "    indexation_nodes_B2 = df_info[\"depo\"].unique().tolist() \n",
    "    #ID_nodes_A = {item:index for index, item in enumerate(indexation_nodes_A)}\n",
    "    #ID_nodes_A_r = {index:item for index, item in enumerate(indexation_nodes_A)}\n",
    "    ID_nodes_B1 = {item:index for index, item in enumerate(indexation_nodes_B1)}\n",
    "    ID_nodes_B1_r = {index:item for index, item in enumerate(indexation_nodes_B1)}\n",
    "    ID_nodes_B2 = {item:index for index, item in enumerate(indexation_nodes_B2)}\n",
    "    ID_nodes_B2_r = {index:item for index, item in enumerate(indexation_nodes_B2)}\n",
    "    # **************************************************************\n",
    "    # Make the node feature file : \n",
    "    embeddings_columns = [int(i) for i in range(1, 1281)]\n",
    "    node_feature_A = torch.tensor([0], dtype=torch.float)\n",
    "    node_feature_B1 = torch.zeros((len(ID_nodes_B1), 0), dtype=torch.float)\n",
    "    node_feature_B2 = torch.tensor([df_embeddings[df_embeddings.index == depo][embeddings_columns].values[0].tolist() for depo in df_info[\"depo\"]] , dtype=torch.float)\n",
    "    # feed the graph\n",
    "    graph_data[\"A\"].x = node_feature_A\n",
    "    graph_data[\"B1\"].x = node_feature_B1\n",
    "    graph_data[\"B2\"].x = node_feature_B2\n",
    "    # **************************************************************\n",
    "    # Make edge file\n",
    "    # Node B2 (depolymerase) - Node B1 (prophage) :\n",
    "    edge_index_B2_B1 = []\n",
    "    for phage in df_info.phage.unique() :\n",
    "        all_data_phage = df_info[df_info[\"phage\"] == phage]\n",
    "        for _, row in all_data_phage.iterrows() :\n",
    "            edge_index_B2_B1.append([ID_nodes_B2[row[\"depo\"]], ID_nodes_B1[row[\"phage\"]]])\n",
    "    edge_index_B2_B1 = torch.tensor(edge_index_B2_B1 , dtype=torch.long)\n",
    "    # feed the graph\n",
    "    graph_data['B2', 'expressed', 'B1'].edge_index = edge_index_B2_B1.t().contiguous()\n",
    "    # The labels : \n",
    "    labels = [1] * n_positives + [0] * n_negatives\n",
    "    graph_data[\"B1\"].y = torch.tensor(labels)\n",
    "    # Training fraction :\n",
    "    train_mask = [1]* len(labels)\n",
    "    graph_data[\"B1\"].train_mask = torch.tensor(train_mask)\n",
    "    return graph_data \n",
    "    \n"
   ]
  },
  {
   "cell_type": "code",
   "execution_count": 33,
   "id": "01a18f5c-2347-4e70-a460-a340e6de7eb6",
   "metadata": {},
   "outputs": [],
   "source": [
    "test_df, n_pos, n_neg = finetune_kltype_df(\"KL20\")\n",
    "graph_test = build_graph_baseline(test_df , n_pos , n_neg)"
   ]
  },
  {
   "cell_type": "code",
   "execution_count": 34,
   "id": "9ddfc3c6-ecf3-443c-8010-5e94400a3e03",
   "metadata": {},
   "outputs": [
    {
     "data": {
      "text/plain": [
       "Counter({0: 34, 1: 1})"
      ]
     },
     "execution_count": 34,
     "metadata": {},
     "output_type": "execute_result"
    }
   ],
   "source": [
    "Counter(graph_test[\"B1\"].y.tolist())"
   ]
  },
  {
   "cell_type": "code",
   "execution_count": 22,
   "id": "ad0c6953-118c-4f00-9c8c-e3880963f488",
   "metadata": {},
   "outputs": [
    {
     "data": {
      "text/plain": [
       "HeteroData(\n",
       "  \u001b[1mA\u001b[0m={ x=[1] },\n",
       "  \u001b[1mB1\u001b[0m={\n",
       "    x=[84, 0],\n",
       "    y=[84],\n",
       "    train_mask=[84]\n",
       "  },\n",
       "  \u001b[1mB2\u001b[0m={ x=[134, 1280] },\n",
       "  \u001b[1m(B2, expressed, B1)\u001b[0m={ edge_index=[2, 134] }\n",
       ")"
      ]
     },
     "execution_count": 22,
     "metadata": {},
     "output_type": "execute_result"
    }
   ],
   "source": [
    "graph_test"
   ]
  },
  {
   "cell_type": "markdown",
   "id": "0b5fa817-1f85-47e1-adb7-2933ed9e782d",
   "metadata": {},
   "source": [
    "***"
   ]
  },
  {
   "cell_type": "code",
   "execution_count": null,
   "id": "ddbd3552-5531-4c85-8555-6457e0de52b3",
   "metadata": {},
   "outputs": [],
   "source": [
    "def train_graph(KL_type) :\n",
    "    checkpoint_path = f\"{path_ensemble}/{KL_type}.finetuned.TropiGATv2.2211.pt\"\n",
    "    with open(f\"{path_work}/train_nn/fintuning_files/{KL_type}__finetuned_node_classification.2111.log\" , \"w\") as log_outfile :\n",
    "        n_prophage = dico_prophage_count[KL_type]\n",
    "        graph_data_kltype = graph_dico[KL_type]\n",
    "        if n_prophage <= 125 : \n",
    "            model = TropiGAT_models.TropiGAT_small_module(hidden_channels = 1280, heads = 1)\n",
    "            n = \"small\"\n",
    "        else : \n",
    "            model = TropiGAT_models.TropiGAT_big_module(hidden_channels = 1280, heads = 1)\n",
    "            n = \"big\"\n",
    "        model.load_state_dict(torch.load(f\"{path_ensemble}/{KL_type}.TropiGATv2.2809.pt\"))\n",
    "        model(graph_data_kltype)\n",
    "        # \n",
    "        optimizer = torch.optim.Adam(model.parameters(), lr = 0.0001 , weight_decay= 0.000001)\n",
    "        scheduler = ReduceLROnPlateau(optimizer, 'min')\n",
    "        criterion = torch.nn.BCEWithLogitsLoss()\n",
    "        #\n",
    "        try : \n",
    "            for epoch in range(50):\n",
    "                train_loss = TropiGAT_models.train(model, graph_data_kltype, optimizer,criterion)\n",
    "                # Save the model checkpoint\n",
    "                torch.save(model.state_dict(), checkpoint_path)\n",
    "                print(f\"Checkpoint saved: {checkpoint_path}\")\n",
    "        except Exception as e :\n",
    "            log_outfile.write(f\"***Issue here : {e}\")\n",
    "\n",
    "\n",
    "\n"
   ]
  }
 ],
 "metadata": {
  "kernelspec": {
   "display_name": "torch_geometric",
   "language": "python",
   "name": "torch_geometric"
  },
  "language_info": {
   "codemirror_mode": {
    "name": "ipython",
    "version": 3
   },
   "file_extension": ".py",
   "mimetype": "text/x-python",
   "name": "python",
   "nbconvert_exporter": "python",
   "pygments_lexer": "ipython3",
   "version": "3.11.4"
  },
  "widgets": {
   "application/vnd.jupyter.widget-state+json": {
    "state": {},
    "version_major": 2,
    "version_minor": 0
   }
  }
 },
 "nbformat": 4,
 "nbformat_minor": 5
}
