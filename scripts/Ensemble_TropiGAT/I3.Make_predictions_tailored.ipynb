{
 "cells": [
  {
   "cell_type": "markdown",
   "id": "e8366a8b-71fe-4fe5-a9c1-a97a75c2aa35",
   "metadata": {},
   "source": [
    "> Add the tailored models : "
   ]
  },
  {
   "cell_type": "code",
   "execution_count": null,
   "id": "3df99efd-93d7-4072-980f-8f7c0e529298",
   "metadata": {},
   "outputs": [],
   "source": [
    "import os \n",
    "\n",
    "path_work = \"/media/concha-eloko/Linux/PPT_clean/ficheros_28032023\"\n",
    "path_server = f\"{path_work}/ensemble_tailored\"\n",
    "path_old_ensemble = f\"{path_work}/ensemble_2809\"\n",
    "path_ensemble = f\"{path_work}/ensemble_1512\"\n",
    "\n",
    "#tailored_KLtypes = [\"KL3\" , \"KL8\", \"KL12\", \"KL13\", \"KL23\", \"KL38\", \"KL46\" ,\"KL62\"]\n",
    "tailored_KLtypes = [\"KL3\",\"KL38\"]\n",
    "# Make sure the rep is created :\n",
    "try :\n",
    "    os.mkdir(path_ensemble)\n",
    "except FileExistsError :\n",
    "    pass\n",
    "\n",
    "# Get the regulars there :\n",
    "for model in os.listdir(path_old_ensemble) : \n",
    "    kltype = model.split(\".\")[0]\n",
    "    if kltype not in tailored_KLtypes :\n",
    "        os.system(f\"cp {path_old_ensemble}/{model} {path_ensemble}\")\n",
    "\n",
    "# Get the tailored ones :\n",
    "for model in os.listdir(path_server) : \n",
    "    kltype = model.split(\".\")[0]\n",
    "    if kltype in tailored_KLtypes :\n",
    "        os.system(f\"cp {path_server}/{model} {path_ensemble}\")"
   ]
  },
  {
   "cell_type": "markdown",
   "id": "a6f63204-ac60-4bea-b288-fd1140f93463",
   "metadata": {},
   "source": [
    "***\n",
    "# Prediction code : "
   ]
  },
  {
   "cell_type": "code",
   "execution_count": null,
   "id": "1c3f7386-2112-49cc-99fd-bf8be42dfade",
   "metadata": {
    "scrolled": true
   },
   "outputs": [],
   "source": [
    "from torch_geometric.data import HeteroData, DataLoader\n",
    "import torch_geometric.transforms as T\n",
    "from torch_geometric.nn import to_hetero , HeteroConv , GATv2Conv\n",
    "from torch_geometric.utils import negative_sampling\n",
    "from torch_geometric.loader import LinkNeighborLoader\n",
    "import torch\n",
    "from torch import nn\n",
    "import torch.nn.functional as F\n",
    "import torch.optim as optim\n",
    "\n",
    "from sklearn.model_selection import train_test_split, StratifiedKFold\n",
    "from sklearn.preprocessing import LabelEncoder , label_binarize , OneHotEncoder\n",
    "from sklearn.metrics import accuracy_score, precision_score, recall_score, f1_score, roc_auc_score , matthews_corrcoef\n",
    "\n",
    "import TropiGAT_functions \n",
    "#from TropiGAT_functions import get_top_n_kltypes ,clean_print \n",
    "\n",
    "import os\n",
    "import json\n",
    "import pandas as pd\n",
    "import numpy as np\n",
    "from tqdm import tqdm\n",
    "from itertools import product\n",
    "import random\n",
    "from collections import Counter\n",
    "import warnings\n",
    "import logging\n",
    "from multiprocessing.pool import ThreadPool\n",
    "warnings.filterwarnings(\"ignore\")\n",
    "\n",
    "# *****************************************************************************\n",
    "# Load the Dataframes :\n",
    "path_work = \"/media/concha-eloko/Linux/PPT_clean\"\n",
    "path_ensemble = f\"{path_work}/ficheros_28032023/ensemble_1512\"\n",
    "\n"
   ]
  },
  {
   "cell_type": "markdown",
   "id": "7fb4c4bd-ecae-4972-9f28-b98790e2619a",
   "metadata": {},
   "source": [
    "> Make model : "
   ]
  },
  {
   "cell_type": "code",
   "execution_count": null,
   "id": "e306d6b4-158b-4fef-a918-bfe139bc464b",
   "metadata": {},
   "outputs": [],
   "source": [
    "dico_tailored = {\"KL3\" : \"small\"}\n",
    "dico_models = TropiGAT_functions.make_ensemble_tailored_TropiGAT(path_ensemble , dico_tailored)"
   ]
  },
  {
   "cell_type": "markdown",
   "id": "452274b6-c2b0-46e1-a1bd-bc9ccdb8e736",
   "metadata": {},
   "source": [
    "> Ferriol"
   ]
  },
  {
   "cell_type": "code",
   "execution_count": null,
   "id": "87f8bb36-594c-4e7e-9008-1f415eed79fe",
   "metadata": {},
   "outputs": [],
   "source": [
    "import pandas as pd \n",
    "import os \n",
    "\n",
    "path_project = \"/media/concha-eloko/Linux/77_strains_phage_project\"\n",
    "\n",
    "#Dpo_domains_77.esm2.embedding.csv\n",
    "dpo_embeddings = pd.read_csv(f\"{path_project}/rbp_work/Dpo_domains_77.esm2.embedding.1512.csv\", sep = \",\" , header = None)\n",
    "dpo_embeddings = dpo_embeddings.drop([1281] , axis = 1)\n",
    "dpo_embeddings.set_index([0], inplace = True)"
   ]
  },
  {
   "cell_type": "code",
   "execution_count": null,
   "id": "75b3814b-4c18-41f2-aa05-6e937a010d2d",
   "metadata": {},
   "outputs": [],
   "source": [
    "dpo_embeddings.index = [x if x.count(\"__cds\") > 0 else x.replace(\"_cds\", \"__cds\") for x in dpo_embeddings.index]\n",
    "dpo_embeddings.index = [x.replace(\"__CDS\",\"__cds\") if x.count(\"__CDS\") > 0 else x for x in dpo_embeddings.index]"
   ]
  },
  {
   "cell_type": "markdown",
   "id": "85b00a22-8b13-4bf2-80fe-d839b0517704",
   "metadata": {},
   "source": [
    "> Bea"
   ]
  },
  {
   "cell_type": "code",
   "execution_count": null,
   "id": "e686e0da-611b-4965-9e2e-7abfb35b5361",
   "metadata": {},
   "outputs": [],
   "source": [
    "import pandas as pd \n",
    "import os \n",
    "\n",
    "path_project = \"/media/concha-eloko/Linux/PPT_clean/in_vitro\"\n",
    "\n",
    "bea_embeddings = pd.read_csv(f\"{path_project}/Bea_phages.esm2.embedding.csv\", sep = \",\" , header = None)\n",
    "bea_embeddings = bea_embeddings.drop([1281] , axis = 1)\n",
    "bea_embeddings.set_index([0], inplace = True)\n"
   ]
  },
  {
   "cell_type": "markdown",
   "id": "1c67c91c-3e76-4f41-b4c5-8f4b96f4b15b",
   "metadata": {},
   "source": [
    "> Towndsend"
   ]
  },
  {
   "cell_type": "code",
   "execution_count": null,
   "id": "2b155804-ed16-4d7d-9e03-491fe61c0be0",
   "metadata": {
    "scrolled": true
   },
   "outputs": [],
   "source": [
    "import pandas as pd \n",
    "import os \n",
    "\n",
    "path_project = \"/media/concha-eloko/Linux/PPT_clean/in_vitro\"\n",
    "\n",
    "towndsend_embeddings = pd.read_csv(f\"{path_project}/Townsed_phages.esm2.embedding.csv\", sep = \",\" , header = None)\n",
    "towndsend_embeddings = towndsend_embeddings.drop([1281] , axis = 1)\n",
    "towndsend_embeddings.set_index([0], inplace = True)\n"
   ]
  },
  {
   "cell_type": "markdown",
   "id": "d7850bcc-e0a2-4b57-b8c4-7a85a3436702",
   "metadata": {
    "scrolled": true
   },
   "source": [
    "> Others "
   ]
  },
  {
   "cell_type": "code",
   "execution_count": null,
   "id": "7d5d57d6-24e5-4bfd-a37a-67fc5d631717",
   "metadata": {},
   "outputs": [],
   "source": [
    "import pandas as pd \n",
    "import os \n",
    "\n",
    "path_project = \"/media/concha-eloko/Linux/PPT_clean/in_vitro\"\n",
    "\n",
    "others_embeddings = pd.read_csv(f\"{path_project}/Others_all.esm2.embedding.csv\", sep = \",\" , header = None)\n",
    "others_embeddings.set_index([0], inplace = True)"
   ]
  },
  {
   "cell_type": "markdown",
   "id": "f8b4c9ba-389d-48f1-bef9-e75b9bdba8d6",
   "metadata": {},
   "source": [
    "***\n",
    "> run the predictions "
   ]
  },
  {
   "cell_type": "code",
   "execution_count": null,
   "id": "a08e5a5d-f356-4962-b8dd-bfa01f7f53aa",
   "metadata": {},
   "outputs": [],
   "source": [
    "# Run the predictions ferriol :\n",
    "ferriol_predictions = {}\n",
    "for dpo in dpo_embeddings.index : \n",
    "    graph_dpo = TropiGAT_functions.make_query_graph([dpo_embeddings.loc[dpo].values])\n",
    "    pred = TropiGAT_functions.run_prediction(graph_dpo,dico_models)\n",
    "    ferriol_predictions[dpo] = pred"
   ]
  },
  {
   "cell_type": "code",
   "execution_count": null,
   "id": "306bf71f-6069-4a59-bc2a-443b6f0c2839",
   "metadata": {
    "scrolled": true
   },
   "outputs": [],
   "source": [
    "ferriol_predictions"
   ]
  },
  {
   "cell_type": "code",
   "execution_count": null,
   "id": "b9d3f7a3-dda8-4a90-b026-f4005cc558d2",
   "metadata": {
    "scrolled": true
   },
   "outputs": [],
   "source": [
    "# format the results : \n",
    "ferriol_pred_formated = TropiGAT_functions.format_predictions(ferriol_predictions , sep = \"__cds\")\n",
    "TropiGAT_functions.clean_print(ferriol_pred_formated)"
   ]
  },
  {
   "cell_type": "markdown",
   "id": "77ac8514-c6bc-4690-9fae-31d7f7d0cc5d",
   "metadata": {},
   "source": [
    "***"
   ]
  },
  {
   "cell_type": "code",
   "execution_count": null,
   "id": "82c98291-6ef7-4d5b-8002-c39e3bf90876",
   "metadata": {},
   "outputs": [],
   "source": [
    "# Run the predictions Bea :\n",
    "bea_predictions = {}\n",
    "for dpo in bea_embeddings.index : \n",
    "    graph_dpo = TropiGAT_functions.make_query_graph([bea_embeddings.loc[dpo].values])\n",
    "    pred = TropiGAT_functions.run_prediction(graph_dpo,dico_models)\n",
    "    bea_predictions[dpo] = pred"
   ]
  },
  {
   "cell_type": "code",
   "execution_count": null,
   "id": "60087068-4631-4543-bfd2-9db933dbee8f",
   "metadata": {
    "scrolled": true
   },
   "outputs": [],
   "source": [
    "# format the results : \n",
    "bea_pred_formated = TropiGAT_functions.format_predictions(bea_predictions , sep = \"_\")\n",
    "TropiGAT_functions.clean_print(bea_pred_formated)"
   ]
  },
  {
   "cell_type": "code",
   "execution_count": null,
   "id": "30a7edb4-6c77-45c4-b381-e75d0a574ddb",
   "metadata": {},
   "outputs": [],
   "source": [
    "towndsend_embeddings.info()"
   ]
  },
  {
   "cell_type": "code",
   "execution_count": null,
   "id": "a22ef647-424b-4695-ad90-16baa65a65d0",
   "metadata": {},
   "outputs": [],
   "source": [
    "# Run the predictions Towndsend :\n",
    "towndsend_predictions = {}\n",
    "for dpo in towndsend_embeddings.index : \n",
    "    graph_dpo = TropiGAT_functions.make_query_graph([towndsend_embeddings.loc[dpo].values])\n",
    "    pred = TropiGAT_functions.run_prediction(graph_dpo,dico_models)\n",
    "    towndsend_predictions[dpo] = pred"
   ]
  },
  {
   "cell_type": "code",
   "execution_count": null,
   "id": "3f096f41-7088-49c6-b214-6bd438134ab5",
   "metadata": {
    "scrolled": true
   },
   "outputs": [],
   "source": [
    "# format the results : \n",
    "towndsend_pred_formated = TropiGAT_functions.format_predictions(towndsend_predictions , sep = \"_\")\n",
    "TropiGAT_functions.clean_print(towndsend_pred_formated)"
   ]
  },
  {
   "cell_type": "markdown",
   "id": "621829a1-bb1f-4d92-8afe-9aca9f7c56d9",
   "metadata": {},
   "source": [
    "***"
   ]
  },
  {
   "cell_type": "code",
   "execution_count": null,
   "id": "3c81fe24-69c3-4e07-8449-0cb25400bd4f",
   "metadata": {},
   "outputs": [],
   "source": [
    "others_embeddings.info()"
   ]
  },
  {
   "cell_type": "code",
   "execution_count": null,
   "id": "8df738da-ef9c-4773-9071-8c0ff7bed508",
   "metadata": {},
   "outputs": [],
   "source": [
    "others_embeddings.index"
   ]
  },
  {
   "cell_type": "code",
   "execution_count": null,
   "id": "95d1b6e4-e8ca-419a-9e3a-402a61b1e0b5",
   "metadata": {
    "scrolled": true
   },
   "outputs": [],
   "source": [
    "# Run the predictions Others :\n",
    "other_predictions = {}\n",
    "for index, dpo in enumerate(others_embeddings.index) :\n",
    "    if dpo not in [\"MN781108.1_prot_QGZ15323.1_262\"] :\n",
    "        try : \n",
    "            graph_dpo = TropiGAT_functions.make_query_graph([others_embeddings.loc[dpo].values])\n",
    "            pred = TropiGAT_functions.run_prediction(graph_dpo,dico_models)\n",
    "            other_predictions[dpo] = pred\n",
    "        except Exception as e :\n",
    "            print(e, dpo)"
   ]
  },
  {
   "cell_type": "code",
   "execution_count": null,
   "id": "4b1b3d14-7f50-4215-a019-84fae3d05abc",
   "metadata": {
    "scrolled": true
   },
   "outputs": [],
   "source": [
    "# format the results : \n",
    "others_pred_formated = TropiGAT_functions.format_predictions(other_predictions , sep = \"_prot_\")\n",
    "TropiGAT_functions.clean_print(other_predictions)"
   ]
  },
  {
   "cell_type": "code",
   "execution_count": null,
   "id": "28407d35-af6a-4d54-ba91-1e21acad6d5f",
   "metadata": {},
   "outputs": [],
   "source": [
    "predictions = [other_predictions]\n",
    "\n",
    "with open(\"/media/concha-eloko/Linux/PPT_clean/TropiGAT.Others.1512.results.tsv\", \"w\") as outfile:\n",
    "    for prediction in predictions:\n",
    "        prediction_sorted = dict(sorted(prediction.items()))\n",
    "        for prot in prediction_sorted:\n",
    "            if prediction_sorted[prot] == \"No hits\" or len(prediction_sorted[prot]) == 0:\n",
    "                outfile.write(f\"{prot}\\tNo hits\\n\")\n",
    "            else:\n",
    "                outfile.write(f\"{prot}\\t\")\n",
    "                hits = [f\"{kltype}:{round(score, 3)}\" for kltype, score in prediction_sorted[prot].items()]\n",
    "                sorted_hits = \" ; \".join(sorted(hits, key=lambda x: float(x.split(\":\")[1]), reverse=True))\n",
    "                outfile.write(sorted_hits)\n",
    "                outfile.write(\"\\n\")"
   ]
  },
  {
   "cell_type": "markdown",
   "id": "e7c37641-78bf-4ec9-ac0c-a52a4517188e",
   "metadata": {},
   "source": [
    "***\n",
    "# Write the results : "
   ]
  },
  {
   "cell_type": "code",
   "execution_count": null,
   "id": "cc2bc8ca-4af7-447e-ac4b-3446bcfac65e",
   "metadata": {},
   "outputs": [],
   "source": [
    "predictions = [ferriol_predictions , bea_predictions , towndsend_predictions]\n",
    "\n",
    "with open(\"/media/concha-eloko/Linux/PPT_clean/TropiGAT.1712.results.tsv\", \"w\") as outfile:\n",
    "    for prediction in predictions:\n",
    "        for prot in prediction:\n",
    "            if prediction[prot] == \"No hits\" or len(prediction[prot]) == 0:\n",
    "                outfile.write(f\"{prot}\\tNo hits\\n\")\n",
    "            else:\n",
    "                outfile.write(f\"{prot}\\t\")\n",
    "                hits = [f\"{kltype}:{round(score, 3)}\" for kltype, score in prediction[prot].items()]\n",
    "                sorted_hits = \" ; \".join(sorted(hits, key=lambda x: float(x.split(\":\")[1]), reverse=True))\n",
    "                outfile.write(sorted_hits)\n",
    "                outfile.write(\"\\n\")"
   ]
  },
  {
   "cell_type": "markdown",
   "id": "b1a97a93-4e47-4bc3-97f2-d5cf90c93438",
   "metadata": {},
   "source": [
    "> Parse TropiGAT and Seqbased results :"
   ]
  },
  {
   "cell_type": "code",
   "execution_count": null,
   "id": "1a841740-9d6f-4b98-bf40-c1ee74b91f7b",
   "metadata": {},
   "outputs": [],
   "source": [
    "import pandas as pd \n",
    "import os \n",
    "\n",
    "path_project = \"/media/concha-eloko/Linux/PPT_clean\"\n",
    "\n",
    "tropigat_results = pd.read_csv(f\"{path_project}/TropiGAT.1712.results.tsv\", sep = \"\\t\", names = [\"protein\", \"predictions_tropigat\"])\n",
    "# Seqbased_model.results.bit50.tsv\n",
    "# Seqbased_model.results.tsv\n",
    "seqbased_results = pd.read_csv(f\"{path_project}/Seqbased_model.results.bit50.tsv\", sep = \"\\t\", names = [\"protein\", \"predictions_seqbased\"])\n"
   ]
  },
  {
   "cell_type": "code",
   "execution_count": null,
   "id": "17b989af-a785-4eca-8630-a001b809d848",
   "metadata": {},
   "outputs": [],
   "source": [
    "tropigat_results[\"protein_id\"] = tropigat_results[\"protein\"].apply(lambda x : x.split(\"_Dpo\")[0])\n",
    "seqbased_results[\"protein_id\"] = seqbased_results[\"protein\"].apply(lambda x : x.split(\"_A_\")[0])\n",
    "\n",
    "merged_df = tropigat_results.merge(seqbased_results, on='protein_id', how='inner')\n",
    "#merged_df[\"phage\"] = merged_df[\"protein_id\"].apply(lambda x : x.split(\"__\")[0] if x.count(\"__\")>0 else x.split(\"_\")[0])\n",
    "merged_df[\"phage\"] = merged_df[\"protein_id\"].apply(lambda x : x.split(\"__\")[0] if x.count(\"__\")>0 else x.split(\"_\")[0])\n",
    "\n",
    "merged_df_sorted = merged_df.sort_values(by='phage', ascending=True)\n",
    "merged_df_sorted"
   ]
  },
  {
   "cell_type": "code",
   "execution_count": null,
   "id": "f785a874-8e86-4c8b-b817-7c3a6335a758",
   "metadata": {},
   "outputs": [],
   "source": [
    "final_df = merged_df_sorted[[\"phage\",\"protein_id\", \"predictions_seqbased\", \"predictions_tropigat\"]]\n",
    "\n",
    "final_df.protein_id.tolist()"
   ]
  },
  {
   "cell_type": "code",
   "execution_count": null,
   "id": "52cab8e2-3cf7-447f-ace5-fcf77142337a",
   "metadata": {},
   "outputs": [],
   "source": [
    "final_df.to_csv(f\"{path_project}/PPT_results.matrices.1512.tsv\", sep = \"\\t\", header = True, index = False)"
   ]
  },
  {
   "cell_type": "code",
   "execution_count": null,
   "id": "94a5bbcc-6f4f-4777-a1bc-6f06790fd5c0",
   "metadata": {},
   "outputs": [],
   "source": []
  }
 ],
 "metadata": {
  "kernelspec": {
   "display_name": "torch_geometric",
   "language": "python",
   "name": "torch_geometric"
  },
  "language_info": {
   "codemirror_mode": {
    "name": "ipython",
    "version": 3
   },
   "file_extension": ".py",
   "mimetype": "text/x-python",
   "name": "python",
   "nbconvert_exporter": "python",
   "pygments_lexer": "ipython3",
   "version": "3.11.4"
  },
  "widgets": {
   "application/vnd.jupyter.widget-state+json": {
    "state": {},
    "version_major": 2,
    "version_minor": 0
   }
  }
 },
 "nbformat": 4,
 "nbformat_minor": 5
}
