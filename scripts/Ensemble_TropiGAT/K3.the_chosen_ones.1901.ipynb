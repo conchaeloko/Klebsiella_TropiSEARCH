{
 "cells": [
  {
   "cell_type": "code",
   "execution_count": null,
   "id": "0fb85846-158b-4f4a-9b65-c154d4b517c6",
   "metadata": {},
   "outputs": [],
   "source": []
  },
  {
   "cell_type": "code",
   "execution_count": null,
   "id": "8a381b16-e2ac-4ca5-8f56-31a247c0181a",
   "metadata": {},
   "outputs": [],
   "source": [
    "rsync -avzhe ssh \\\n",
    "conchae@garnatxa.srv.cpd:/home/conchae/prediction_depolymerase_tropism/prophage_prediction/depolymerase_decipher/ficheros_28032023/train_nn/fine_tuning/log_files_0712 \\\n",
    "/media/concha-eloko/Linux/PPT_clean/in_vitro/fine_tuning\n",
    "\n",
    "rsync -avzhe ssh \\\n",
    "conchae@garnatxa.srv.cpd:/home/conchae/prediction_depolymerase_tropism/prophage_prediction/depolymerase_decipher/ficheros_28032023/train_nn/fine_tuning/models_1401 \\\n",
    "/media/concha-eloko/Linux/PPT_clean/in_vitro/fine_tuning\n",
    "\n",
    "rsync -avzhe ssh \\\n",
    "conchae@garnatxa.srv.cpd:/home/conchae/prediction_depolymerase_tropism/prophage_prediction/depolymerase_decipher/ficheros_28032023/train_nn/fine_tuning/log_files_1401 \\\n",
    "/media/concha-eloko/Linux/PPT_clean/in_vitro/fine_tuning\n",
    "\n",
    "\n"
   ]
  },
  {
   "cell_type": "markdown",
   "id": "b3a5d886-4a7b-4ead-9f07-04427909c1df",
   "metadata": {},
   "source": [
    "> Get the models at the right place : "
   ]
  },
  {
   "cell_type": "markdown",
   "id": "8b60df30-3fd2-49d5-8ecc-2e005319b1fc",
   "metadata": {},
   "source": [
    "model     LR     weight decay\n",
    "model     0.0001     0.000001\n",
    "model_01  1e-6       0.001"
   ]
  },
  {
   "cell_type": "markdown",
   "id": "1a3b9d6e-64f3-4866-8da4-ba6e83aa4652",
   "metadata": {},
   "source": [
    "> Make dico epochs :"
   ]
  },
  {
   "cell_type": "code",
   "execution_count": null,
   "id": "9d71e5dc-37ed-401d-b6a4-96c5858b0a38",
   "metadata": {
    "jupyter": {
     "source_hidden": true
    }
   },
   "outputs": [],
   "source": [
    "import os \n",
    "import pandas as pd\n",
    "\n",
    "path_log = \"/media/concha-eloko/Linux/PPT_clean/in_vitro/fine_tuning/log_files_1401\"\n",
    "\n",
    "with open(f\"/media/concha-eloko/Linux/PPT_clean/in_vitro/fine_tuning/epoch_file.tsv\", \"w\") as outfile : \n",
    "    outfile.write(\"KL_type\\tEpoch\\n\")\n",
    "    for log_file in os.listdir(path_log) :\n",
    "        try : \n",
    "            kltype = log_file.split(\"__\")[0]\n",
    "            eg_df = pd.read_csv(f\"{path_log}/{log_file}\", sep = \"\\t\", names = [\"epoch\", \"train_loss\"])\n",
    "            eg_df[\"Epoch\"] = eg_df[\"epoch\"].apply(lambda x : x.split(\": \")[1])\n",
    "            eg_df[\"Train_Loss\"] = eg_df[\"train_loss\"].apply(lambda x : float(x.split(\": \")[1]))\n",
    "            min_value_index = eg_df['Train_Loss'].idxmin()\n",
    "            row_with_min_value = eg_df.loc[min_value_index]\n",
    "            e = row_with_min_value[\"Epoch\"]    \n",
    "            outfile.write(f\"{kltype}\\t{e}\\n\")\n",
    "        except IndexError :\n",
    "            pass\n"
   ]
  },
  {
   "cell_type": "markdown",
   "id": "902fdb95-236e-4175-b4f9-f5829a4c7bcf",
   "metadata": {},
   "source": [
    "> Open the adequate finetuned model :"
   ]
  },
  {
   "cell_type": "code",
   "execution_count": null,
   "id": "4ed57558-daa5-43c1-9b41-cecef18c2950",
   "metadata": {
    "scrolled": true
   },
   "outputs": [],
   "source": [
    "import os \n",
    "\n",
    "path_finetuning = \"/media/concha-eloko/Linux/PPT_clean/in_vitro/fine_tuning/\"\n",
    "path_finetuned_basic = f\"{path_finetuning}/models_1401\"\n",
    "\n",
    "path_new_ensemble = \"/media/concha-eloko/Linux/PPT_clean/ficheros_28032023/ensemble_1401_finetuned\"\n",
    "path_base = \"/media/concha-eloko/Linux/PPT_clean/ficheros_28032023/ensemble_2812\"\n",
    "\n",
    "df_epochs = pd.read_csv(f\"{path_finetuning}/epoch_file.fixed.tsv\", sep = \"\\t\", header = 0)\n",
    "df_epochs\n"
   ]
  },
  {
   "cell_type": "code",
   "execution_count": null,
   "id": "b4ac2bcc-5eea-421a-a147-bef6f2876623",
   "metadata": {},
   "outputs": [],
   "source": [
    "path_new_ensemble = \"/media/concha-eloko/Linux/PPT_clean/ficheros_28032023/ensemble_1901_finetuned\"\n",
    "path_base = \"/media/concha-eloko/Linux/PPT_clean/ficheros_28032023/ensemble_2812\"\n",
    "path_finetuned_basic = \"/media/concha-eloko/Linux/PPT_clean/in_vitro/fine_tuning/models_1401\"\n",
    "\n",
    "for _, row in df_epochs.iterrows() :\n",
    "    model = f\"{row['KL_type']}.{row['Epoch']}.finetuned.TropiGATv2.1401.pt\"\n",
    "    move_model_cmd = f\"cp {path_finetuned_basic}/{model} {path_new_ensemble}\"\n",
    "    os.system(move_model_cmd)\n",
    "\n",
    "# Move the rest :\n",
    "finetuned_kltypes = [model.split(\".\")[0] for model in os.listdir(path_new_ensemble)]\n",
    "for model in os.listdir(path_base) : \n",
    "    if model.split(\".\")[0] not in finetuned_kltypes : \n",
    "        os.system(f\"cp {path_base}/{model} {path_new_ensemble}\")"
   ]
  },
  {
   "cell_type": "markdown",
   "id": "b11b77c5-6856-47bd-becb-cb138ee8fb40",
   "metadata": {},
   "source": [
    "> Clean the rep"
   ]
  },
  {
   "cell_type": "code",
   "execution_count": null,
   "id": "525fb3a1-dc8c-43e2-8812-2040be5e730c",
   "metadata": {
    "jupyter": {
     "source_hidden": true
    }
   },
   "outputs": [],
   "source": [
    "import os \n",
    "\n",
    "path_new_ensemble = \"/media/concha-eloko/Linux/PPT_clean/ficheros_28032023/ensemble_1901_finetuned\"\n",
    "\n",
    "try :\n",
    "    os.system(f\"rm -rf {path_new_ensemble}\")\n",
    "    os.mkdir(f\"{path_new_ensemble}\")\n",
    "except Exception as e :\n",
    "    print(e)"
   ]
  },
  {
   "cell_type": "markdown",
   "id": "fc122ba6-0739-4b0b-9536-c79f10995d42",
   "metadata": {},
   "source": [
    "***"
   ]
  },
  {
   "cell_type": "code",
   "execution_count": null,
   "id": "eee260bf-f1ec-4332-8bd4-a552293bc3e3",
   "metadata": {},
   "outputs": [],
   "source": [
    "# Torch geometric modules\n",
    "from torch_geometric.data import HeteroData, DataLoader\n",
    "import torch_geometric.transforms as T\n",
    "from torch_geometric.nn import to_hetero , HeteroConv , GATv2Conv\n",
    "from torch_geometric.utils import negative_sampling\n",
    "from torch_geometric.loader import LinkNeighborLoader\n",
    "\n",
    "# Torch modules\n",
    "import torch\n",
    "from torch import nn\n",
    "import torch.nn.functional as F\n",
    "import torch.optim as optim\n",
    "from torch.optim.lr_scheduler import ReduceLROnPlateau\n",
    "\n",
    "# SKlearn modules\n",
    "from sklearn.model_selection import train_test_split, StratifiedKFold\n",
    "from sklearn.preprocessing import LabelEncoder , label_binarize , OneHotEncoder\n",
    "from sklearn.metrics import accuracy_score, precision_score, recall_score, f1_score, roc_auc_score , matthews_corrcoef\n",
    "\n",
    "# Ground modules\n",
    "import os\n",
    "import pandas as pd\n",
    "import numpy as np\n",
    "from tqdm import tqdm\n",
    "from itertools import product\n",
    "import random\n",
    "from collections import Counter\n",
    "import warnings\n",
    "import logging\n",
    "from multiprocessing.pool import ThreadPool\n",
    "\n",
    "# TropiGAT modules\n",
    "import TropiGAT_graph\n",
    "import TropiGAT_models\n",
    "import TropiGAT_functions\n",
    "\n",
    "warnings.filterwarnings(\"ignore\")"
   ]
  },
  {
   "cell_type": "code",
   "execution_count": null,
   "id": "a47ea7cd-3e8f-4cb6-9f38-49669961f789",
   "metadata": {},
   "outputs": [],
   "source": [
    "path_new_ensemble = \"/media/concha-eloko/Linux/PPT_clean/ficheros_28032023/ensemble_1901_finetuned\"\n",
    "\n",
    "dico_tailored = {}\n",
    "dico_models = TropiGAT_functions.make_ensemble_tailored_TropiGAT(path_new_ensemble, dico_tailored)\n",
    "\n"
   ]
  },
  {
   "cell_type": "code",
   "execution_count": null,
   "id": "bfc6035b-8ce2-4388-9b1c-a861a99b914f",
   "metadata": {
    "scrolled": true
   },
   "outputs": [],
   "source": [
    "dico_models"
   ]
  },
  {
   "cell_type": "markdown",
   "id": "3ae350dd-ad8d-40ea-9fb0-89c4088e6579",
   "metadata": {},
   "source": [
    "> Others "
   ]
  },
  {
   "cell_type": "code",
   "execution_count": null,
   "id": "df9734ea-6b88-488c-9373-871414d40be0",
   "metadata": {},
   "outputs": [],
   "source": [
    "import pandas as pd \n",
    "import os \n",
    "\n",
    "path_project = \"/media/concha-eloko/Linux/PPT_clean/in_vitro\"\n",
    "\n",
    "others_embeddings = pd.read_csv(f\"{path_project}/Others_all.esm2.embedding.csv\", sep = \",\" , header = None)\n",
    "others_embeddings.set_index([0], inplace = True)"
   ]
  },
  {
   "cell_type": "code",
   "execution_count": null,
   "id": "079ad60b-b148-47ec-a3cf-e0aaf06cb628",
   "metadata": {},
   "outputs": [],
   "source": [
    "# Run the predictions Others :\n",
    "other_predictions = {}\n",
    "for index, dpo in enumerate(others_embeddings.index) :\n",
    "    if dpo not in [\"MN781108.1_prot_QGZ15323.1_262\"] :\n",
    "        try : \n",
    "            graph_dpo = TropiGAT_functions.make_query_graph([others_embeddings.loc[dpo].values])\n",
    "            pred = TropiGAT_functions.run_prediction(graph_dpo,dico_models)\n",
    "            other_predictions[dpo] = pred\n",
    "        except Exception as e :\n",
    "            print(e, dpo)"
   ]
  },
  {
   "cell_type": "code",
   "execution_count": null,
   "id": "8c7770ac-32e8-49bd-9e03-e2ed4b35294a",
   "metadata": {
    "scrolled": true
   },
   "outputs": [],
   "source": [
    "# format the results : \n",
    "others_pred_formated = TropiGAT_functions.format_predictions(other_predictions , sep = \"_prot_\")\n",
    "TropiGAT_functions.clean_print(other_predictions)"
   ]
  },
  {
   "cell_type": "code",
   "execution_count": null,
   "id": "68b7f6f7-d81c-45b3-ad42-e96bb72b23ae",
   "metadata": {},
   "outputs": [],
   "source": [
    "predictions = [other_predictions]\n",
    "\n",
    "with open(f\"/media/concha-eloko/Linux/PPT_clean/Other_pred/TropiGAT.Others.all.finetuned.optimum.1901.results.tsv\", \"w\") as outfile:\n",
    "    for prediction in predictions:\n",
    "        prediction_sorted = dict(sorted(prediction.items()))\n",
    "        for prot in prediction_sorted:\n",
    "            if prediction_sorted[prot] == \"No hits\" or len(prediction_sorted[prot]) == 0:\n",
    "                outfile.write(f\"{prot}\\tNo hits\\n\")\n",
    "            else:\n",
    "                outfile.write(f\"{prot}\\t\")\n",
    "                hits = [f\"{kltype}:{round(score, 3)}\" for kltype, score in prediction_sorted[prot].items()]\n",
    "                sorted_hits = \" ; \".join(sorted(hits, key=lambda x: float(x.split(\":\")[1]), reverse=True))\n",
    "                outfile.write(sorted_hits)\n",
    "                outfile.write(\"\\n\")"
   ]
  },
  {
   "cell_type": "code",
   "execution_count": null,
   "id": "b9fe5ec6-99f8-49f2-a910-940b97c9f002",
   "metadata": {},
   "outputs": [],
   "source": [
    "path_results = f\"/media/concha-eloko/Linux/PPT_clean/Other_pred/TropiGAT.Others.all.finetuned.optimum.1901.results.tsv\"\n",
    "results_df = pd.read_csv(path_results, sep = \"\\t\", names = [\"protein\",\"predictions\"])\n",
    "df_sorted = results_df.sort_values(by='protein', ascending=True)\n",
    "\n",
    "df_sorted.to_csv(f\"/media/concha-eloko/Linux/PPT_clean/Other_pred/TropiGAT.Others.all.finetuned.optimum.ordered.1901.results.tsv\", sep = \"\\t\", header = 0, index = False)\n",
    "\n"
   ]
  },
  {
   "cell_type": "markdown",
   "id": "5927abe6-af88-47cb-a5ab-70edf6cba5cf",
   "metadata": {},
   "source": [
    "***\n",
    "# Get the metrics of Others : "
   ]
  },
  {
   "cell_type": "code",
   "execution_count": 5,
   "id": "38ce39b9-d4c1-45aa-8d1f-d63087b91878",
   "metadata": {},
   "outputs": [],
   "source": [
    "import os \n",
    "import pandas as pd \n",
    "\n",
    "path_others_df = '/media/concha-eloko/Linux/PPT_clean/Other_pred/predictions.all.others.2001.tsv'\n",
    "df_metric_others = pd.read_csv(path_others_df, header = 0, sep = \"\\t\")"
   ]
  },
  {
   "cell_type": "code",
   "execution_count": 31,
   "id": "50d734b6-0e1e-4e14-8b71-cb6f9341b882",
   "metadata": {
    "scrolled": true
   },
   "outputs": [
    {
     "name": "stdout",
     "output_type": "stream",
     "text": [
      "{'KL45', 'KL14', 'KL15', 'KL111', 'KL128', 'KL12', 'KL24', 'KL81', 'KL102', 'KL23', 'KL27', 'KL123', 'KL30'}\n",
      "{'KL22', 'KL21', 'KL14', 'KL128', 'KL27', 'KL145', 'KL29', 'KL43', 'KL62', 'KL70', 'KL52', 'KL118'}\n",
      "{'KL57', 'KL46', 'KL8', 'KL128', 'KL12', 'KL38', 'KL151', 'KL27', 'KL145', 'KL60', 'KL29', 'KL123', 'KL74', 'KL118'}\n",
      "{'KL21', 'KL17', 'KL46', 'KL128', 'KL111', 'KL81', 'KL118', 'KL149', 'KL62', 'KL70', 'KL74', 'KL29'}\n",
      "{'KL19', 'KL45', 'KL14', 'KL2', 'KL46', 'KL128', 'KL81', 'KL151', 'KL30'}\n",
      "{'KL19', 'KL15', 'KL14', 'KL45', 'KL2', 'KL46', 'KL112', 'KL128', 'KL127', 'KL48', 'KL81', 'KL108', 'KL52', 'KL74', 'KL118'}\n",
      "{'KL28', 'KL19', 'KL45', 'KL14', 'KL46', 'KL128', 'KL111', 'KL8', 'KL48', 'KL24', 'KL43', 'KL22', 'KL7', 'KL29', 'KL30'}\n",
      "{'KL28', 'KL19', 'KL36', 'KL15', 'KL14', 'KL45', 'KL46', 'KL128', 'KL8', 'KL48', 'KL81', 'KL60', 'KL74', 'KL118', 'KL23'}\n",
      "{'KL169', 'KL45', 'KL14', 'KL64', 'KL15', 'KL46', 'KL128', 'KL81', 'KL29', 'KL22', 'KL52', 'KL47', 'KL118'}\n",
      "{'KL19', 'KL15', 'KL64', 'KL45', 'KL14', 'KL2', 'KL128', 'KL48', 'KL24', 'KL81', 'KL108', 'KL60', 'KL22', 'KL123', 'KL47'}\n",
      "{'KL169', 'KL28', 'KL45', 'KL14', 'KL46', 'KL127', 'KL128', 'KL60', 'KL43', 'KL52', 'KL74', 'KL29', 'KL30'}\n",
      "{'KL19', 'KL15', 'KL45', 'KL9', 'KL46', 'KL105', 'KL8', 'KL111', 'KL48', 'KL63', 'KL81', 'KL108', 'KL22', 'KL74', 'KL23'}\n",
      "{'KL45', 'KL14', 'KL46', 'KL127', 'KL128', 'KL12', 'KL23', 'KL81', 'KL60', 'KL30', 'KL70', 'KL52', 'KL74', 'KL29', 'KL53'}\n",
      "{'KL36', 'KL15', 'KL45', 'KL14', 'KL128', 'KL111', 'KL102', 'KL24', 'KL151', 'KL27', 'KL30', 'KL7', 'KL123', 'KL52', 'KL23'}\n",
      "{'KL57', 'KL169', 'KL22', 'KL45', 'KL128', 'KL3', 'KL38', 'KL81', 'KL27', 'KL43', 'KL16', 'KL47', 'KL29'}\n",
      "{'KL136', 'KL45', 'KL14', 'KL38', 'KL81', 'KL43', 'KL22', 'KL123', 'KL47', 'KL17', 'KL29'}\n",
      "{'KL45', 'KL14', 'KL111', 'KL128', 'KL12', 'KL102', 'KL81', 'KL24', 'KL23', 'KL27', 'KL7', 'KL123', 'KL30'}\n",
      "{'KL169', 'KL14', 'KL9', 'KL128', 'KL106', 'KL48', 'KL10', 'KL60', 'KL43', 'KL22', 'KL16', 'KL70', 'KL29'}\n",
      "{'KL19', 'KL45', 'KL9', 'KL46', 'KL128', 'KL8', 'KL12', 'KL24', 'KL151', 'KL10', 'KL27', 'KL110', 'KL18', 'KL29', 'KL30'}\n",
      "{'KL28', 'KL15', 'KL14', 'KL46', 'KL53', 'KL111', 'KL38', 'KL23', 'KL24', 'KL27', 'KL60', 'KL145', 'KL62', 'KL123', 'KL30'}\n",
      "{'KL14', 'KL9', 'KL128', 'KL106', 'KL48', 'KL60', 'KL43', 'KL22', 'KL16', 'KL70', 'KL29'}\n",
      "{'KL19', 'KL45', 'KL14', 'KL2', 'KL9', 'KL128', 'KL48', 'KL63', 'KL81', 'KL60', 'KL30', 'KL110', 'KL70', 'KL74', 'KL23'}\n",
      "{'KL19', 'KL36', 'KL15', 'KL64', 'KL21', 'KL70', 'KL55', 'KL45', 'KL128', 'KL102', 'KL24', 'KL116', 'KL123', 'KL17', 'KL23'}\n",
      "{'KL15', 'KL64', 'KL70', 'KL14', 'KL105', 'KL46', 'KL128', 'KL48', 'KL108', 'KL27', 'KL60', 'KL22', 'KL123', 'KL74', 'KL29'}\n",
      "{'KL15', 'KL64', 'KL70', 'KL14', 'KL105', 'KL45', 'KL128', 'KL48', 'KL38', 'KL108', 'KL22', 'KL123', 'KL74', 'KL29'}\n",
      "{'KL36', 'KL15', 'KL45', 'KL14', 'KL128', 'KL111', 'KL102', 'KL24', 'KL151', 'KL27', 'KL30', 'KL7', 'KL123', 'KL52', 'KL23'}\n",
      "{'KL169', 'KL45', 'KL14', 'KL46', 'KL128', 'KL3', 'KL116', 'KL81', 'KL60', 'KL43', 'KL29', 'KL70', 'KL52', 'KL118'}\n",
      "{'KL136', 'KL45', 'KL14', 'KL38', 'KL81', 'KL43', 'KL22', 'KL47', 'KL17', 'KL29'}\n",
      "{'KL45', 'KL14', 'KL46', 'KL53', 'KL127', 'KL128', 'KL12', 'KL81', 'KL30', 'KL62', 'KL70', 'KL52', 'KL74', 'KL29', 'KL23'}\n",
      "{'KL22', 'KL15', 'KL46', 'KL128', 'KL8', 'KL12', 'KL24', 'KL27', 'KL108', 'KL122', 'KL18', 'KL145', 'KL60', 'KL123', 'KL23'}\n",
      "{'KL22', 'KL15', 'KL14', 'KL9', 'KL128', 'KL111', 'KL106', 'KL48', 'KL63', 'KL10', 'KL27', 'KL16', 'KL43', 'KL70'}\n",
      "{'KL45', 'KL14', 'KL111', 'KL128', 'KL12', 'KL23', 'KL81', 'KL102', 'KL24', 'KL27', 'KL7', 'KL123', 'KL30'}\n",
      "{'KL15', 'KL14', 'KL46', 'KL128', 'KL12', 'KL81', 'KL27', 'KL149', 'KL62', 'KL70', 'KL52', 'KL74', 'KL29'}\n",
      "{'KL15', 'KL46', 'KL128', 'KL12', 'KL27', 'KL62', 'KL70', 'KL52', 'KL74', 'KL29', 'KL34'}\n",
      "{'KL36', 'KL15', 'KL45', 'KL14', 'KL111', 'KL128', 'KL102', 'KL24', 'KL151', 'KL27', 'KL30', 'KL7', 'KL123', 'KL52', 'KL23'}\n",
      "{'KL19', 'KL45', 'KL21', 'KL39', 'KL17', 'KL46', 'KL9', 'KL128', 'KL12', 'KL24', 'KL110', 'KL18', 'KL70', 'KL74', 'KL29'}\n",
      "{'KL19', 'KL45', 'KL21', 'KL39', 'KL9', 'KL46', 'KL17', 'KL128', 'KL12', 'KL24', 'KL110', 'KL18', 'KL70', 'KL74', 'KL29'}\n",
      "{'KL15', 'KL46', 'KL128', 'KL12', 'KL38', 'KL108', 'KL27', 'KL145', 'KL18', 'KL22', 'KL122', 'KL123', 'KL60', 'KL17', 'KL23'}\n",
      "{'KL21', 'KL64', 'KL46', 'KL127', 'KL128', 'KL12', 'KL81', 'KL118', 'KL70', 'KL52', 'KL29', 'KL53'}\n",
      "{'KL15', 'KL39', 'KL46', 'KL8', 'KL128', 'KL12', 'KL27', 'KL149', 'KL145', 'KL60', 'KL122', 'KL123', 'KL52', 'KL74', 'KL118'}\n",
      "{'KL25', 'KL46', 'KL111', 'KL128', 'KL118', 'KL43', 'KL22', 'KL29'}\n",
      "{'KL45', 'KL14', 'KL46', 'KL127', 'KL128', 'KL63', 'KL81', 'KL16', 'KL22', 'KL70', 'KL74'}\n",
      "{'KL136', 'KL45', 'KL9', 'KL3', 'KL48', 'KL116', 'KL81', 'KL18', 'KL43', 'KL70', 'KL47', 'KL74', 'KL29'}\n",
      "{'KL45', 'KL14', 'KL15', 'KL111', 'KL128', 'KL12', 'KL24', 'KL81', 'KL102', 'KL23', 'KL27', 'KL123', 'KL30'}\n",
      "{'KL22', 'KL14', 'KL21', 'KL128', 'KL81', 'KL27', 'KL145', 'KL29', 'KL43', 'KL62', 'KL70', 'KL52', 'KL118'}\n",
      "{'KL28', 'KL19', 'KL45', 'KL14', 'KL9', 'KL48', 'KL43', 'KL70', 'KL47', 'KL74', 'KL29'}\n",
      "{'KL45', 'KL14', 'KL111', 'KL128', 'KL12', 'KL102', 'KL81', 'KL24', 'KL23', 'KL27', 'KL7', 'KL123', 'KL30'}\n",
      "{'KL22', 'KL14', 'KL21', 'KL127', 'KL128', 'KL27', 'KL145', 'KL29', 'KL43', 'KL62', 'KL70', 'KL52', 'KL118'}\n",
      "{'KL28', 'KL19', 'KL45', 'KL21', 'KL39', 'KL17', 'KL46', 'KL128', 'KL12', 'KL24', 'KL110', 'KL18', 'KL70', 'KL74', 'KL29'}\n",
      "{'KL19', 'KL13', 'KL15', 'KL46', 'KL128', 'KL8', 'KL3', 'KL24', 'KL122', 'KL43', 'KL22', 'KL7', 'KL74', 'KL29', 'KL30'}\n"
     ]
    }
   ],
   "source": [
    "tropiseq_score = []\n",
    "tropigat_score = []\n",
    "tropigat_opt_score = []\n",
    "\n",
    "def get_hits(set_a, set_b) : \n",
    "    if len(set_a) > 0 : \n",
    "        common = set_a & set_b\n",
    "        if len(common) > 0 :\n",
    "            return list(common)\n",
    "        else : \n",
    "            return [0]\n",
    "    else :\n",
    "        return [0]\n",
    "\n",
    "\n",
    "for _,row in df_metric_others.iterrows() :\n",
    "    targets = set([kltype.split(\":\")[0].strip() for kltype in row[\"Target KL type \"].split(\";\")])\n",
    "    # tropiseq :\n",
    "    tropiseq = set([kltype.split(\":\")[0].strip() for kltype in row[\"TropiSeq predictions\"].split(\";\")])\n",
    "    tropiseq_score.append(get_hits(tropiseq, targets))\n",
    "    # tropigat :\n",
    "    tropigat = set([kltype.split(\":\")[0].strip() for kltype in row[\"TropiGATv2 predictions\"].split(\";\")][0:15])\n",
    "    print(tropigat)\n",
    "    tropigat_score.append(get_hits(tropigat, targets))\n",
    "    # tropigat finetuned :\n",
    "    tropigat_opt = set([kltype.split(\":\")[0].strip() for kltype in row[\"TropiGATv2 optimum finetuned predictions \"].split(\";\")])\n",
    "    tropigat_opt_score.append(get_hits(tropigat_opt, targets))\n",
    "\n",
    " "
   ]
  },
  {
   "cell_type": "code",
   "execution_count": 32,
   "id": "8a4f801a-385d-4697-979b-f853e8813d3f",
   "metadata": {},
   "outputs": [
    {
     "data": {
      "text/plain": [
       "(([0], [0], [0]),\n",
       " ([0], [0], [0]),\n",
       " ([0], [0], [0]),\n",
       " ([0], [0], [0]),\n",
       " ([0], [0], [0]),\n",
       " ([0], [0], [0]),\n",
       " (['KL25'], [0], [0]),\n",
       " (['KL35'], [0], [0]),\n",
       " ([0], [0], [0]),\n",
       " (['KL64'], ['KL64'], ['KL64']),\n",
       " ([0], [0], [0]),\n",
       " ([0], [0], [0]),\n",
       " ([0], [0], [0]),\n",
       " ([0], [0], [0]),\n",
       " (['KL47'], ['KL47'], ['KL47']),\n",
       " ([0], [0], [0]),\n",
       " ([0], [0], [0]),\n",
       " ([0], [0], [0]),\n",
       " ([0], [0], [0]),\n",
       " ([0], [0], [0]),\n",
       " ([0], [0], [0]),\n",
       " ([0], [0], [0]),\n",
       " ([0], ['KL64'], ['KL64']),\n",
       " (['KL64'], ['KL64'], ['KL64']),\n",
       " (['KL64'], ['KL64'], ['KL64']),\n",
       " ([0], [0], [0]),\n",
       " ([0], [0], [0]),\n",
       " (['KL47'], ['KL47'], ['KL47']),\n",
       " ([0], [0], [0]),\n",
       " ([0], [0], [0]),\n",
       " ([0], [0], [0]),\n",
       " ([0], ['KL24'], [0]),\n",
       " ([0], [0], [0]),\n",
       " ([0], [0], [0]),\n",
       " ([0], [0], [0]),\n",
       " (['KL24'], ['KL24'], ['KL24']),\n",
       " (['KL24'], ['KL24'], ['KL24']),\n",
       " ([0], [0], [0]),\n",
       " ([0], [0], [0]),\n",
       " ([0], [0], [0]),\n",
       " ([0], [0], [0]),\n",
       " ([0], [0], [0]),\n",
       " (['KL63'], [0], [0]),\n",
       " ([0], [0], [0]),\n",
       " ([0], [0], [0]),\n",
       " (['KL63'], [0], [0]),\n",
       " ([0], [0], [0]),\n",
       " ([0], [0], [0]),\n",
       " (['KL24'], ['KL24'], ['KL24']),\n",
       " ([0], ['KL24'], [0]))"
      ]
     },
     "execution_count": 32,
     "metadata": {},
     "output_type": "execute_result"
    }
   ],
   "source": [
    "tuple(zip(tropiseq_score,tropigat_score, tropigat_opt_score))"
   ]
  },
  {
   "cell_type": "code",
   "execution_count": 29,
   "id": "e6bac4e3-b6fe-4ff2-8814-e2450b79d37a",
   "metadata": {},
   "outputs": [
    {
     "data": {
      "text/plain": [
       "[[0],\n",
       " [0],\n",
       " [0],\n",
       " [0],\n",
       " [0],\n",
       " [0],\n",
       " ['KL25'],\n",
       " [0],\n",
       " [0],\n",
       " ['KL64'],\n",
       " [0],\n",
       " [0],\n",
       " [0],\n",
       " [0],\n",
       " ['KL47'],\n",
       " [0],\n",
       " [0],\n",
       " [0],\n",
       " [0],\n",
       " [0],\n",
       " [0],\n",
       " [0],\n",
       " ['KL64'],\n",
       " ['KL64'],\n",
       " ['KL64'],\n",
       " [0],\n",
       " [0],\n",
       " ['KL47'],\n",
       " [0],\n",
       " [0],\n",
       " [0],\n",
       " ['KL24'],\n",
       " [0],\n",
       " [0],\n",
       " [0],\n",
       " ['KL24'],\n",
       " ['KL24'],\n",
       " [0],\n",
       " [0],\n",
       " [0],\n",
       " [0],\n",
       " [0],\n",
       " [0],\n",
       " [0],\n",
       " [0],\n",
       " [0],\n",
       " [0],\n",
       " [0],\n",
       " ['KL24'],\n",
       " ['KL24']]"
      ]
     },
     "execution_count": 29,
     "metadata": {},
     "output_type": "execute_result"
    }
   ],
   "source": [
    "tropigat_score"
   ]
  },
  {
   "cell_type": "code",
   "execution_count": null,
   "id": "db0ec24f-fe16-4824-bd02-c4a7a9129062",
   "metadata": {},
   "outputs": [],
   "source": []
  }
 ],
 "metadata": {
  "kernelspec": {
   "display_name": "torch_geometric",
   "language": "python",
   "name": "torch_geometric"
  },
  "language_info": {
   "codemirror_mode": {
    "name": "ipython",
    "version": 3
   },
   "file_extension": ".py",
   "mimetype": "text/x-python",
   "name": "python",
   "nbconvert_exporter": "python",
   "pygments_lexer": "ipython3",
   "version": "3.11.4"
  },
  "widgets": {
   "application/vnd.jupyter.widget-state+json": {
    "state": {},
    "version_major": 2,
    "version_minor": 0
   }
  }
 },
 "nbformat": 4,
 "nbformat_minor": 5
}
