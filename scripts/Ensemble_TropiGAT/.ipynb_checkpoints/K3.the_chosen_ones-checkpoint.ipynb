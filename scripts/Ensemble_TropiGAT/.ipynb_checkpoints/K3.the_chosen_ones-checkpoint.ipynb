{
 "cells": [
  {
   "cell_type": "code",
   "execution_count": null,
   "id": "0fb85846-158b-4f4a-9b65-c154d4b517c6",
   "metadata": {},
   "outputs": [],
   "source": []
  },
  {
   "cell_type": "code",
   "execution_count": null,
   "id": "8a381b16-e2ac-4ca5-8f56-31a247c0181a",
   "metadata": {},
   "outputs": [],
   "source": [
    "rsync -avzhe ssh \\\n",
    "conchae@garnatxa.srv.cpd:/home/conchae/prediction_depolymerase_tropism/prophage_prediction/depolymerase_decipher/ficheros_28032023/train_nn/fine_tuning \\\n",
    "/media/concha-eloko/Linux/PPT_clean/in_vitro/fine_tuning\n",
    "\n",
    "rsync -avzhe ssh \\\n",
    "conchae@garnatxa.srv.cpd:/home/conchae/prediction_depolymerase_tropism/prophage_prediction/depolymerase_decipher/ficheros_28032023/train_nn/fine_tuning/models_01 \\\n",
    "/media/concha-eloko/Linux/PPT_clean/in_vitro/fine_tuning"
   ]
  },
  {
   "cell_type": "markdown",
   "id": "b3a5d886-4a7b-4ead-9f07-04427909c1df",
   "metadata": {},
   "source": [
    "> Get the models at the right place : "
   ]
  },
  {
   "cell_type": "markdown",
   "id": "8b60df30-3fd2-49d5-8ecc-2e005319b1fc",
   "metadata": {},
   "source": [
    "model     LR     weight decay\n",
    "model     0.0001     0.000001\n",
    "model_01  1e-6       0.001"
   ]
  },
  {
   "cell_type": "code",
   "execution_count": 7,
   "id": "4ec0a5a0-3203-46eb-b36f-87698542f20b",
   "metadata": {},
   "outputs": [],
   "source": [
    "import os \n",
    "\n",
    "path_ensemble = \"/media/concha-eloko/Linux/PPT_clean/ficheros_28032023/ensemble_2411_finetuned\"\n",
    "path_base = \"/media/concha-eloko/Linux/PPT_clean/ficheros_28032023/ensemble_2809\"\n",
    "path_finetuned = \"/media/concha-eloko/Linux/PPT_clean/in_vitro/fine_tuning/fine_tuning/models_01\"\n",
    "\n",
    "# Move the desired epoch to the ensemble :\n",
    "epoch = \"1\"\n",
    "for model in os.listdir(path_finetuned) : \n",
    "    if model.split(\".\")[1] == epoch :\n",
    "        os.system(f\"cp {path_finetuned}/{model} {path_ensemble}\")\n"
   ]
  },
  {
   "cell_type": "code",
   "execution_count": 8,
   "id": "72ed9f8b-9da4-4161-9c03-dd6fe8905c80",
   "metadata": {},
   "outputs": [],
   "source": [
    "# Move the rest :\n",
    "finetuned_kltypes = [model.split(\".\")[0] for model in os.listdir(path_ensemble)]\n",
    "for model in os.listdir(path_base) : \n",
    "    if model.split(\".\")[0] not in finetuned_kltypes : \n",
    "        os.system(f\"cp {path_base}/{model} {path_ensemble}\")"
   ]
  },
  {
   "cell_type": "markdown",
   "id": "fc122ba6-0739-4b0b-9536-c79f10995d42",
   "metadata": {},
   "source": [
    "***"
   ]
  },
  {
   "cell_type": "code",
   "execution_count": 9,
   "id": "eee260bf-f1ec-4332-8bd4-a552293bc3e3",
   "metadata": {},
   "outputs": [],
   "source": [
    "# Torch geometric modules\n",
    "from torch_geometric.data import HeteroData, DataLoader\n",
    "import torch_geometric.transforms as T\n",
    "from torch_geometric.nn import to_hetero , HeteroConv , GATv2Conv\n",
    "from torch_geometric.utils import negative_sampling\n",
    "from torch_geometric.loader import LinkNeighborLoader\n",
    "\n",
    "# Torch modules\n",
    "import torch\n",
    "from torch import nn\n",
    "import torch.nn.functional as F\n",
    "import torch.optim as optim\n",
    "from torch.optim.lr_scheduler import ReduceLROnPlateau\n",
    "\n",
    "# SKlearn modules\n",
    "from sklearn.model_selection import train_test_split, StratifiedKFold\n",
    "from sklearn.preprocessing import LabelEncoder , label_binarize , OneHotEncoder\n",
    "from sklearn.metrics import accuracy_score, precision_score, recall_score, f1_score, roc_auc_score , matthews_corrcoef\n",
    "\n",
    "# Ground modules\n",
    "import os\n",
    "import pandas as pd\n",
    "import numpy as np\n",
    "from tqdm import tqdm\n",
    "from itertools import product\n",
    "import random\n",
    "from collections import Counter\n",
    "import warnings\n",
    "import logging\n",
    "from multiprocessing.pool import ThreadPool\n",
    "\n",
    "# TropiGAT modules\n",
    "import TropiGAT_graph\n",
    "import TropiGAT_models\n",
    "import TropiGAT_functions\n",
    "\n",
    "warnings.filterwarnings(\"ignore\")"
   ]
  },
  {
   "cell_type": "code",
   "execution_count": null,
   "id": "a47ea7cd-3e8f-4cb6-9f38-49669961f789",
   "metadata": {},
   "outputs": [],
   "source": [
    "path_ensemble = \"/media/concha-eloko/Linux/PPT_clean/ficheros_28032023/ensemble_2411_finetuned\"\n",
    "\n",
    "dico_models = TropiGAT_functions.make_ensemble_TropiGAT(path_ensemble)"
   ]
  },
  {
   "cell_type": "markdown",
   "id": "3ae350dd-ad8d-40ea-9fb0-89c4088e6579",
   "metadata": {},
   "source": [
    "> Others "
   ]
  },
  {
   "cell_type": "code",
   "execution_count": 3,
   "id": "df9734ea-6b88-488c-9373-871414d40be0",
   "metadata": {},
   "outputs": [],
   "source": [
    "import pandas as pd \n",
    "import os \n",
    "\n",
    "path_project = \"/media/concha-eloko/Linux/PPT_clean/in_vitro\"\n",
    "\n",
    "others_embeddings = pd.read_csv(f\"{path_project}/Others_all.esm2.embedding.csv\", sep = \",\" , header = None)\n",
    "others_embeddings.set_index([0], inplace = True)"
   ]
  },
  {
   "cell_type": "code",
   "execution_count": null,
   "id": "079ad60b-b148-47ec-a3cf-e0aaf06cb628",
   "metadata": {},
   "outputs": [],
   "source": [
    "# Run the predictions Others :\n",
    "other_predictions = {}\n",
    "for index, dpo in enumerate(others_embeddings.index) :\n",
    "    if dpo not in [\"MN781108.1_prot_QGZ15323.1_262\"] :\n",
    "        try : \n",
    "            graph_dpo = TropiGAT_functions.make_query_graph([others_embeddings.loc[dpo].values])\n",
    "            pred = TropiGAT_functions.run_prediction(graph_dpo,dico_models)\n",
    "            other_predictions[dpo] = pred\n",
    "        except Exception as e :\n",
    "            print(e, dpo)"
   ]
  },
  {
   "cell_type": "code",
   "execution_count": null,
   "id": "8c7770ac-32e8-49bd-9e03-e2ed4b35294a",
   "metadata": {
    "scrolled": true
   },
   "outputs": [],
   "source": [
    "# format the results : \n",
    "others_pred_formated = TropiGAT_functions.format_predictions(other_predictions , sep = \"_prot_\")\n",
    "TropiGAT_functions.clean_print(other_predictions)"
   ]
  },
  {
   "cell_type": "code",
   "execution_count": 6,
   "id": "68b7f6f7-d81c-45b3-ad42-e96bb72b23ae",
   "metadata": {},
   "outputs": [],
   "source": [
    "predictions = [other_predictions]\n",
    "\n",
    "with open(\"/media/concha-eloko/Linux/PPT_clean/TropiGAT.Others.all.finetuned_lvl_.results.tsv\", \"w\") as outfile:\n",
    "    for prediction in predictions:\n",
    "        prediction_sorted = dict(sorted(prediction.items()))\n",
    "        for prot in prediction_sorted:\n",
    "            if prediction_sorted[prot] == \"No hits\" or len(prediction_sorted[prot]) == 0:\n",
    "                outfile.write(f\"{prot}\\tNo hits\\n\")\n",
    "            else:\n",
    "                outfile.write(f\"{prot}\\t\")\n",
    "                hits = [f\"{kltype}:{round(score, 3)}\" for kltype, score in prediction_sorted[prot].items()]\n",
    "                sorted_hits = \" ; \".join(sorted(hits, key=lambda x: float(x.split(\":\")[1]), reverse=True))\n",
    "                outfile.write(sorted_hits)\n",
    "                outfile.write(\"\\n\")"
   ]
  },
  {
   "cell_type": "code",
   "execution_count": null,
   "id": "f9efac78-3e63-4215-85ef-505967a457b2",
   "metadata": {},
   "outputs": [],
   "source": []
  }
 ],
 "metadata": {
  "kernelspec": {
   "display_name": "torch_geometric",
   "language": "python",
   "name": "torch_geometric"
  },
  "language_info": {
   "codemirror_mode": {
    "name": "ipython",
    "version": 3
   },
   "file_extension": ".py",
   "mimetype": "text/x-python",
   "name": "python",
   "nbconvert_exporter": "python",
   "pygments_lexer": "ipython3",
   "version": "3.11.4"
  },
  "widgets": {
   "application/vnd.jupyter.widget-state+json": {
    "state": {},
    "version_major": 2,
    "version_minor": 0
   }
  }
 },
 "nbformat": 4,
 "nbformat_minor": 5
}
