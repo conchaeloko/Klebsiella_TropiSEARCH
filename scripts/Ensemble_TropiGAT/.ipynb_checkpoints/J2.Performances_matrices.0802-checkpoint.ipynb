{
 "cells": [
  {
   "cell_type": "markdown",
   "id": "5a5ac5f6-1468-456e-bacb-25a0a1b0cb55",
   "metadata": {},
   "source": [
    "***\n",
    "### Import modules : "
   ]
  },
  {
   "cell_type": "code",
   "execution_count": 22,
   "id": "ada737ac-eb03-494d-8605-8f46a2d4822b",
   "metadata": {},
   "outputs": [],
   "source": [
    "import os \n",
    "import pandas as pd \n",
    "from tqdm import tqdm\n",
    "from collections import Counter\n",
    "from sklearn.metrics import accuracy_score, precision_score, recall_score, f1_score, roc_auc_score, matthews_corrcoef\n"
   ]
  },
  {
   "cell_type": "markdown",
   "id": "e99a34d9-626e-4d41-a8a2-61dbdbeeb2bf",
   "metadata": {},
   "source": [
    "# Measure the performances formally :\n"
   ]
  },
  {
   "cell_type": "markdown",
   "id": "8c914fdf-a61e-44b3-a90e-d2479c3170c5",
   "metadata": {},
   "source": [
    "## Opening the DF"
   ]
  },
  {
   "cell_type": "markdown",
   "id": "d2db99bd-de21-4d25-b43a-499564fddb74",
   "metadata": {},
   "source": [
    "> Open the results files : "
   ]
  },
  {
   "cell_type": "code",
   "execution_count": 46,
   "id": "82cd5da7-96f6-4cc9-ae18-29a4236c5c5b",
   "metadata": {
    "scrolled": true
   },
   "outputs": [],
   "source": [
    "path_project = \"/media/concha-eloko/Linux/PPT_clean\"\n",
    "\n",
    "# Classic version : \n",
    "# PPT_results.matrices.tailored.tsv : Tailored version\n",
    "# PPT_results.classic_1112.tsv : Classic version \n",
    "# PPT_results.matrices.tailored_bit50.tsv : tailored and bit50\n",
    "# PPT_results.matrices.1512.tsv\n",
    "# PPT_results.classic_0101.bit50.tsv\n",
    "tropigat_results = pd.read_csv(f\"{path_project}/PPT_results.classic_1001.bit75.tsv\", header = 0, sep = \"\\t\")\n",
    "df_folds = pd.read_csv(f\"{path_project}/in_vitro/dpos_folds.all_matrices.tsv\", header = 0, sep = \"\\t\")\n",
    "#tropigat_results.protein_id.tolist()"
   ]
  },
  {
   "cell_type": "code",
   "execution_count": 4,
   "id": "fb203f92-a74e-4828-abbb-e92ea35302f4",
   "metadata": {},
   "outputs": [
    {
     "data": {
      "text/html": [
       "<div>\n",
       "<style scoped>\n",
       "    .dataframe tbody tr th:only-of-type {\n",
       "        vertical-align: middle;\n",
       "    }\n",
       "\n",
       "    .dataframe tbody tr th {\n",
       "        vertical-align: top;\n",
       "    }\n",
       "\n",
       "    .dataframe thead th {\n",
       "        text-align: right;\n",
       "    }\n",
       "</style>\n",
       "<table border=\"1\" class=\"dataframe\">\n",
       "  <thead>\n",
       "    <tr style=\"text-align: right;\">\n",
       "      <th></th>\n",
       "      <th>phage</th>\n",
       "      <th>protein_id</th>\n",
       "      <th>predictions_seqbased</th>\n",
       "      <th>predictions_tropigat</th>\n",
       "    </tr>\n",
       "  </thead>\n",
       "  <tbody>\n",
       "    <tr>\n",
       "      <th>89</th>\n",
       "      <td>K17alfa62</td>\n",
       "      <td>K17alfa62__cds_66</td>\n",
       "      <td>No hits</td>\n",
       "      <td>KL62:1.0 ; KL43:0.999 ; KL29:0.986 ; KL52:0.93...</td>\n",
       "    </tr>\n",
       "    <tr>\n",
       "      <th>90</th>\n",
       "      <td>K17alfa62</td>\n",
       "      <td>K17alfa62__cds_64</td>\n",
       "      <td>KL17: 0.611</td>\n",
       "      <td>KL17:1.0 ; KL128:0.998 ; KL29:0.912 ; KL70:0.8...</td>\n",
       "    </tr>\n",
       "  </tbody>\n",
       "</table>\n",
       "</div>"
      ],
      "text/plain": [
       "        phage         protein_id predictions_seqbased  \\\n",
       "89  K17alfa62  K17alfa62__cds_66              No hits   \n",
       "90  K17alfa62  K17alfa62__cds_64          KL17: 0.611   \n",
       "\n",
       "                                 predictions_tropigat  \n",
       "89  KL62:1.0 ; KL43:0.999 ; KL29:0.986 ; KL52:0.93...  \n",
       "90  KL17:1.0 ; KL128:0.998 ; KL29:0.912 ; KL70:0.8...  "
      ]
     },
     "execution_count": 4,
     "metadata": {},
     "output_type": "execute_result"
    }
   ],
   "source": [
    "tropigat_results[tropigat_results[\"phage\"] == \"K17alfa62\"]"
   ]
  },
  {
   "cell_type": "markdown",
   "id": "c32ffe0e-8896-4e92-9638-428ab91c0a43",
   "metadata": {},
   "source": [
    "***\n",
    "### Read the matrices :"
   ]
  },
  {
   "cell_type": "code",
   "execution_count": 18,
   "id": "661ab590-1791-42d7-b9f6-ca5a3252399b",
   "metadata": {},
   "outputs": [],
   "source": [
    "path_finetuning = \"/media/concha-eloko/Linux/PPT_clean/in_vitro/fine_tuning\"\n",
    "\n",
    "bea_df = pd.read_csv(f\"{path_finetuning}/bea_fine_tuning.df\", sep = \"\\t\", header = 0)\n",
    "bea_df[\"Protein\"] = bea_df[\"Protein\"].apply(lambda x : x.replace(\"_\", \"__\"))\n",
    "pool_bea = set([kltype.strip() for kltypes in bea_df[\"Target\"] for kltype in kltypes.split(\",\") if kltype.count(\"wzi\") == 0 if kltype.count(\"pass\") == 0])\n",
    "\n",
    "ferriol_df = pd.read_csv(f\"{path_finetuning}/ferriol_fine_tuning.df\", sep = \"\\t\", header = 0)\n",
    "ferriol_df[\"Target\"] = ferriol_df[\"Target\"].apply(lambda x : x.replace(\"K\", \"KL\"))\n",
    "pool_ferriol = set([kltype.strip() for kltypes in ferriol_df[\"Target\"] for kltype in kltypes.split(\",\") if kltype.count(\"wzi\") == 0 if kltype.count(\"pass\") == 0])\n",
    "\n",
    "towndsend_df = pd.read_csv(f\"{path_finetuning}/towndsend_fine_tuning.df\", sep = \"\\t\", header = 0)\n",
    "towndsend_df[\"Protein\"] = towndsend_df[\"Protein\"].apply(lambda x : x.replace(\"_\", \"__\"))\n",
    "pool_towndsend = set([kltype.strip() for kltypes in towndsend_df[\"Target\"] for kltype in kltypes.split(\",\") if kltype.count(\"wzi\") == 0 if kltype.count(\"pass\") == 0])\n",
    "\n",
    "dico_matrices = {\"ferriol\" : {\"matrix\" : ferriol_df, \"pool\" : pool_ferriol}, \n",
    "                 \"bea\" : {\"matrix\": bea_df, \"pool\" : pool_bea}, \n",
    "                 \"towndsend\" : {\"matrix\" : towndsend_df, \"pool\" : pool_towndsend}}\n",
    "\n",
    "\n",
    "# targets dico : \n",
    "dico_hits = {}\n",
    "for author in dico_matrices :\n",
    "    matrix = dico_matrices[author][\"matrix\"]\n",
    "    for _, row in matrix.iterrows() : \n",
    "        for phage in matrix[\"Phages\"].unique() : \n",
    "            all_targets = set()\n",
    "            targets = matrix[matrix[\"Phages\"] == phage][\"Target\"].values\n",
    "            for calls in targets : \n",
    "                actual_targets = [x.strip() for x in calls.split(\",\")]\n",
    "                all_targets.update(actual_targets)\n",
    "            dico_hits[phage] = all_targets\n",
    "\n"
   ]
  },
  {
   "cell_type": "markdown",
   "id": "adbdd33c-7fd5-4c0c-bd6c-a3ad38826156",
   "metadata": {},
   "source": [
    "> TropiGATv2 DF : "
   ]
  },
  {
   "cell_type": "code",
   "execution_count": 7,
   "id": "f18a5d7f-c297-4d0d-8b0e-d66de1a72ed5",
   "metadata": {},
   "outputs": [],
   "source": [
    "from collections import Counter\n",
    "DF_info = pd.read_csv(f\"{path_project}/TropiGATv2.final_df_v2.filtered.tsv\", sep = \"\\t\" ,  header = 0)\n",
    "#DF_info_lvl_0 = DF_info[~DF_info[\"KL_type_LCA\"].str.contains(\"\\\\|\")]\n",
    "#DF_info_lvl_0 = DF_info_lvl_0.drop_duplicates(subset = [\"Infected_ancestor\",\"index\",\"prophage_id\"] , keep = \"first\").reset_index(drop=True)\n",
    "\n",
    "DF_info_lvl_0 = DF_info.copy()\n",
    "df_prophages = DF_info_lvl_0.drop_duplicates(subset = [\"Phage\"])\n",
    "dico_prophage_count = dict(Counter(df_prophages[\"KL_type_LCA\"]))\n",
    "\n",
    "KLtypes = [kltype for kltype in dico_prophage_count if dico_prophage_count[kltype] >= 20]\n",
    "\n"
   ]
  },
  {
   "cell_type": "code",
   "execution_count": 17,
   "id": "714b0f97-6abc-434f-8f9e-b4b42c644412",
   "metadata": {
    "jupyter": {
     "source_hidden": true
    },
    "scrolled": true
   },
   "outputs": [],
   "source": [
    "# targets dico : \n",
    "dico_hits = {}\n",
    "for author in dico_matrices :\n",
    "    matrix = dico_matrices[author][\"matrix\"]\n",
    "    for _, row in matrix.iterrows() : \n",
    "        for phage in matrix[\"Phages\"].unique() : \n",
    "            all_targets = set()\n",
    "            targets = matrix[matrix[\"Phages\"] == phage][\"Target\"].values\n",
    "            for calls in targets : \n",
    "                actual_targets = [x.strip() for x in calls.split(\",\")]\n",
    "                all_targets.update(actual_targets)\n",
    "            dico_hits[phage] = all_targets"
   ]
  },
  {
   "cell_type": "markdown",
   "id": "b825f425-181e-41ca-8bf0-a9342daf2f87",
   "metadata": {
    "jp-MarkdownHeadingCollapsed": true
   },
   "source": [
    "***\n",
    "### Make the raw results file : "
   ]
  },
  {
   "cell_type": "markdown",
   "id": "635a5cb2-535b-42af-8442-abb523b1c0b5",
   "metadata": {},
   "source": [
    "> Old "
   ]
  },
  {
   "cell_type": "code",
   "execution_count": null,
   "id": "620e6e13-6109-4551-b19e-498ace310319",
   "metadata": {
    "jupyter": {
     "source_hidden": true
    }
   },
   "outputs": [],
   "source": [
    "top_n = 15\n",
    "\n",
    "path_project = \"/media/concha-eloko/Linux/PPT_clean\"\n",
    "\n",
    "# Classic version : \n",
    "# PPT_results.matrices.tailored.tsv : Tailored version\n",
    "# PPT_results.classic_1112.tsv : Classic version \n",
    "# PPT_results.matrices.tailored_bit50.tsv : tailored and bit50\n",
    "# classic_0101\n",
    "# SAGE_0201\n",
    "# PPT_results.classic_0101.bit50.tsv\n",
    "tropigat_results = pd.read_csv(f\"{path_project}/PPT_results.classic_1001.bit50.tsv\", header = 0, sep = \"\\t\")\n",
    "\n",
    "with open(f\"{path_project}/raw_metrics.classic_1001.bit50.tsv\", \"w\") as outfile :\n",
    "    outfile.write(f\"Phage\\tProtein\\tTropiGAT_predictions\\tTropiGAT_good_calls\\tTropiSeq_predictions\\tTropiSeq_good_calls\\tTargets\\n\")\n",
    "    for _, row in tropigat_results.iterrows() : \n",
    "        targets = dico_hits[row[\"phage\"]]\n",
    "        outfile.write(f\"{row['phage']}\\t{row['protein_id']}\\t\")\n",
    "        # TropiGAT part : \n",
    "        # write the pred\n",
    "        top_n_predictions = \";\".join([x for x in row[\"predictions_tropigat\"].split(\";\")][0:top_n-1])\n",
    "        outfile.write(top_n_predictions + \"\\t\")\n",
    "        # check the calls\n",
    "        tropigat_pred = [x.split(\":\")[0].strip() for x in row[\"predictions_tropigat\"].split(\";\")]\n",
    "        top_KLtypes_pred = set(tropigat_pred[0: top_n-1])\n",
    "        good_calls = top_KLtypes_pred.intersection(targets)\n",
    "        if len(good_calls) > 0 : \n",
    "            outfile.write(\",\".join(list(good_calls)) + \"\\t\")\n",
    "        else : \n",
    "            outfile.write(\"0\" + \"\\t\")\n",
    "        # TropiSeq part : \n",
    "        # write the pred\n",
    "        outfile.write(row[\"predictions_seqbased\"] + \"\\t\")\n",
    "        if row[\"predictions_seqbased\"] != \"No hits\" : \n",
    "            tropiseq_pred = [x.split(\":\")[0].strip() for x in row[\"predictions_seqbased\"].split(\";\")]\n",
    "            top_predictions = set(tropiseq_pred[0: top_n-1])\n",
    "            good_calls = top_predictions.intersection(targets)\n",
    "            if len(good_calls) > 0 : \n",
    "                outfile.write(\",\".join(list(good_calls)) + \"\\t\")\n",
    "            else :\n",
    "                outfile.write(\"0\" + \"\\t\")\n",
    "        else :\n",
    "            outfile.write(\"0\\t\")\n",
    "        target_clean = \",\".join(list(targets))\n",
    "        outfile.write(target_clean + \"\\n\")\n",
    "\n",
    "    "
   ]
  },
  {
   "cell_type": "code",
   "execution_count": 22,
   "id": "c422f36e-4388-44ae-8cd0-b5fb59859602",
   "metadata": {},
   "outputs": [],
   "source": [
    "top_n = 15\n",
    "\n",
    "path_project = \"/media/concha-eloko/Linux/PPT_clean\"\n",
    "\n",
    "# Classic version : \n",
    "# PPT_results.matrices.tailored.tsv : Tailored version\n",
    "# PPT_results.classic_1112.tsv : Classic version \n",
    "# PPT_results.matrices.tailored_bit50.tsv : tailored and bit50\n",
    "# classic_0101\n",
    "# SAGE_0201\n",
    "# PPT_results.classic_0101.bit50.tsv\n",
    "tropigat_results = pd.read_csv(f\"{path_project}/PPT_results.classic_1001.bit75.tsv\", header = 0, sep = \"\\t\")\n",
    "\n",
    "with open(f\"{path_project}/raw_metrics.classic_1001.bit75.detailed.tsv\", \"w\") as outfile :\n",
    "    outfile.write(f\"Phage\\tProtein\\tFolds\\tTropiGAT_predictions\\tTropiGAT_good_calls\\tTropiSeq_predictions\\tTropiSeq_good_calls\\tTargets\\n\")\n",
    "    for _, row in tropigat_results.iterrows() : \n",
    "        if row[\"phage\"] in dico_hits :\n",
    "            targets = dico_hits[row[\"phage\"]]\n",
    "            prot_id = row['protein_id'].replace(\"__cds\", \"_cds\")\n",
    "            try : \n",
    "                #targets = dico_hits[row[\"phage\"]]\n",
    "                #prot_id = row['protein_id'].replace(\"__cds\", \"_cds\")\n",
    "                fold = df_folds[df_folds[\"protein_id\"] == prot_id][\"Fold\"].values[0]\n",
    "            except Exception as e :\n",
    "                fold = \"unknown\"\n",
    "            outfile.write(f\"{row['phage']}\\t{row['protein_id']}\\t{fold}\\t\")\n",
    "            # TropiGAT part : \n",
    "            # write the pred\n",
    "            top_n_predictions = \";\".join([x for x in row[\"predictions_tropigat\"].split(\";\")][0:top_n-1])\n",
    "            outfile.write(top_n_predictions + \"\\t\")\n",
    "            # check the calls\n",
    "            tropigat_pred = [x.split(\":\")[0].strip() for x in row[\"predictions_tropigat\"].split(\";\")]\n",
    "            top_KLtypes_pred = set(tropigat_pred[0: top_n-1])\n",
    "            good_calls = top_KLtypes_pred.intersection(targets)\n",
    "            if len(good_calls) > 0 : \n",
    "                outfile.write(\",\".join(list(good_calls)) + \"\\t\")\n",
    "            else : \n",
    "                outfile.write(\"0\" + \"\\t\")\n",
    "            # TropiSeq part : \n",
    "            # write the pred\n",
    "            outfile.write(row[\"predictions_seqbased\"] + \"\\t\")\n",
    "            if row[\"predictions_seqbased\"] != \"No hits\" : \n",
    "                tropiseq_pred = [x.split(\":\")[0].strip() for x in row[\"predictions_seqbased\"].split(\";\")]\n",
    "                top_predictions = set(tropiseq_pred[0: top_n-1])\n",
    "                good_calls = top_predictions.intersection(targets)\n",
    "                if len(good_calls) > 0 : \n",
    "                    outfile.write(\",\".join(list(good_calls)) + \"\\t\")\n",
    "                else :\n",
    "                    outfile.write(\"0\" + \"\\t\")\n",
    "            else :\n",
    "                outfile.write(\"0\\t\")\n",
    "            target_clean = \",\".join(list(targets))\n",
    "            outfile.write(target_clean + \"\\n\")\n",
    "\n",
    "\n",
    "    "
   ]
  },
  {
   "cell_type": "markdown",
   "id": "2fec8750-e98a-433e-9227-c69ce04dc794",
   "metadata": {},
   "source": [
    "***\n",
    "## Working on the final matrices file :"
   ]
  },
  {
   "cell_type": "code",
   "execution_count": 10,
   "id": "62ffb317-3114-4462-8231-1831d67ccebc",
   "metadata": {
    "scrolled": true
   },
   "outputs": [],
   "source": [
    "import os \n",
    "import pandas as pd \n",
    "\n",
    "path_project = \"/media/concha-eloko/Linux/PPT_clean\"\n",
    "\n",
    "\n",
    "raw_df = pd.read_csv(f\"{path_project}/raw_metrics.classic_1001.bit75.detailed.tsv\" , sep = \"\\t\", header = 0)\n",
    "# raw_df[raw_df[\"Phage\"] == \"K17alfa62\"]\n",
    "phages_to_ignore = [\"K2064PH2\",\"K2069PH1\"]\n",
    "\n",
    "tropigat_results = raw_df.copy()\n",
    "#tropigat_results = tropigat_results[~tropigat_results[\"Phage\"].isin(phages_to_ignore)]\n",
    "#tropigat_results"
   ]
  },
  {
   "cell_type": "code",
   "execution_count": 11,
   "id": "d7485a61-894c-4294-b7a7-75a3a718ad25",
   "metadata": {},
   "outputs": [],
   "source": [
    "from collections import Counter\n",
    "DF_info = pd.read_csv(f\"{path_project}/TropiGATv2.final_df_v2.filtered.tsv\", sep = \"\\t\" ,  header = 0)\n",
    "#DF_info_lvl_0 = DF_info[~DF_info[\"KL_type_LCA\"].str.contains(\"\\\\|\")]\n",
    "#DF_info_lvl_0 = DF_info_lvl_0.drop_duplicates(subset = [\"Infected_ancestor\",\"index\",\"prophage_id\"] , keep = \"first\").reset_index(drop=True)\n",
    "\n",
    "DF_info_lvl_0 = DF_info.copy()\n",
    "df_prophages = DF_info_lvl_0.drop_duplicates(subset = [\"Phage\"])\n",
    "dico_prophage_count = dict(Counter(df_prophages[\"KL_type_LCA\"]))\n",
    "\n",
    "KLtypes = [kltype for kltype in dico_prophage_count if dico_prophage_count[kltype] >= 20]\n"
   ]
  },
  {
   "cell_type": "code",
   "execution_count": 12,
   "id": "426a6ae8-6bb8-4999-a395-c22a5728cf84",
   "metadata": {
    "scrolled": true
   },
   "outputs": [],
   "source": [
    "none_beta_helix = tropigat_results[tropigat_results[\"Folds\"] != \"right-handed beta-helix\"][\"Protein\"].values\n",
    "\n"
   ]
  },
  {
   "cell_type": "markdown",
   "id": "d88576f9-23c0-41a7-b10e-85f1b1b5545c",
   "metadata": {},
   "source": [
    "> check the folds :"
   ]
  },
  {
   "cell_type": "code",
   "execution_count": 13,
   "id": "6031ee5d-7908-477c-8225-4958256ab86f",
   "metadata": {},
   "outputs": [
    {
     "data": {
      "text/plain": [
       "{'6-bladed beta-propeller': 74,\n",
       " 'right-handed beta-helix': 137,\n",
       " 'triple-helix': 8,\n",
       " 'unknown': 11}"
      ]
     },
     "execution_count": 13,
     "metadata": {},
     "output_type": "execute_result"
    }
   ],
   "source": [
    "from collections import Counter \n",
    "\n",
    "folds = dict(Counter(raw_df[\"Folds\"]))\n",
    "folds\n",
    "\n"
   ]
  },
  {
   "cell_type": "markdown",
   "id": "1068753c-022e-40c9-90e2-4c2f643efd2c",
   "metadata": {},
   "source": [
    "raw_df[raw_df[\"Folds\"] == \"unknown\"]\n",
    "\n",
    "The 11 unknown are actually triple helix depolymerase"
   ]
  },
  {
   "cell_type": "markdown",
   "id": "cbf4cdcf-0b11-44e7-bb92-16cb74d975c1",
   "metadata": {},
   "source": [
    "> Check what is the label when they predict the same thing : "
   ]
  },
  {
   "cell_type": "code",
   "execution_count": 38,
   "id": "b0db31ba-eb58-4770-8502-607c780bd682",
   "metadata": {
    "jupyter": {
     "source_hidden": true
    }
   },
   "outputs": [],
   "source": [
    "good_inter = 0\n",
    "bad_inter = 0\n",
    "inter_count = 0\n",
    "\n",
    "for _, row in raw_df.iterrows() :\n",
    "    phage = raw_df[\"Phage\"].values[0]\n",
    "    tropigat_pred = set([pred.split(\":\")[0].strip() for pred in row[\"TropiGAT_predictions\"].split(\";\")])\n",
    "    tropiseq_pred = set([pred.split(\":\")[0].strip() for pred in row[\"TropiSeq_predictions\"].split(\";\") if row[\"TropiSeq_predictions\"] != \"No hits\"])\n",
    "    inter = tropigat_pred.intersection(tropiseq_pred)\n",
    "    if len(inter) > 0 :\n",
    "        #inter_count += 1\n",
    "        checkable_targets = set()\n",
    "        targets = set(row[\"Targets\"].split(\",\"))\n",
    "        for tar in inter :\n",
    "            for author in dico_matrices :\n",
    "                matrice = dico_matrices[author][\"matrix\"]\n",
    "                if phage in matrice[\"Phages\"].values :\n",
    "                    checkable_targets = dico_matrices[author][\"pool\"]\n",
    "                    break\n",
    "                else :\n",
    "                    continue\n",
    "        real_inter = checkable_targets.intersection(inter)\n",
    "        if len(real_inter) > 0 :\n",
    "            #print(real_inter)\n",
    "            inter_tar = real_inter.intersection(targets)\n",
    "            if len(inter_tar) > 0 and real_inter != {'KL102'}:\n",
    "                good_inter += 1\n",
    "            else :\n",
    "                bad_inter += 1 \n"
   ]
  },
  {
   "cell_type": "code",
   "execution_count": 54,
   "id": "2bebaf0f-9fe9-454a-a320-a6fab6f38f6d",
   "metadata": {},
   "outputs": [],
   "source": [
    "#good_inter , bad_inter , inter_count"
   ]
  },
  {
   "cell_type": "code",
   "execution_count": 53,
   "id": "9927656b-9fed-4d08-b62f-833d9ac88de2",
   "metadata": {},
   "outputs": [],
   "source": [
    "#23/94*100"
   ]
  },
  {
   "cell_type": "markdown",
   "id": "73124daf-c4dc-413e-bcb8-248bfec1cda4",
   "metadata": {},
   "source": [
    "***\n",
    "## Make the matrices files : "
   ]
  },
  {
   "cell_type": "code",
   "execution_count": 19,
   "id": "c79b4b35-26b0-447d-a0cc-fbe8377035e7",
   "metadata": {
    "scrolled": true
   },
   "outputs": [
    {
     "name": "stderr",
     "output_type": "stream",
     "text": [
      "100%|█████████████████████████████████████████| 128/128 [00:01<00:00, 82.25it/s]\n"
     ]
    }
   ],
   "source": [
    "from tqdm import tqdm\n",
    "\n",
    "top_n = 15\n",
    "labels_tropigat = {}\n",
    "count_kltypes = {}\n",
    "\n",
    "for kltype in tqdm(dico_prophage_count) : \n",
    "    n = 0\n",
    "    pred_labels , real_labels = [] , []\n",
    "    for author in dico_matrices :\n",
    "        if kltype in dico_matrices[author][\"pool\"] : \n",
    "            matrix = dico_matrices[author][\"matrix\"]\n",
    "            for phage in matrix[\"Phages\"].unique() :\n",
    "                top_predictions = set()\n",
    "                predictions = tropigat_results[tropigat_results[\"Phage\"] == phage][\"TropiGAT_predictions\"].values\n",
    "                for calls in predictions : \n",
    "                    predicted_kltypes = [x.split(\":\")[0].strip() for x in calls.split(\";\")]\n",
    "                    top_predictions.update(predicted_kltypes[0:top_n-1])\n",
    "                if kltype in top_predictions : \n",
    "                    pred_labels.append(1)\n",
    "                else : \n",
    "                    pred_labels.append(0)\n",
    "                if kltype in dico_hits[phage] : \n",
    "                    real_labels.append(1)\n",
    "                    n += 1 \n",
    "                else :\n",
    "                    real_labels.append(0)\n",
    "    labels_tropigat[kltype] = {\"y_pred\" : pred_labels, \"real_labels\" : real_labels}\n",
    "    count_kltypes[kltype] = n \n",
    "\n",
    "labels_tropigat\n",
    "sorted_dict = dict(sorted(labels_tropigat.items(), key=lambda item: int(item[0].split(\"KL\")[1])))\n"
   ]
  },
  {
   "cell_type": "code",
   "execution_count": 20,
   "id": "cd22e728-56d9-4af0-a099-a2867715a21e",
   "metadata": {},
   "outputs": [],
   "source": [
    "def make_labels(pred_df, predictor = \"tropigat\" , top_n = 15, to_ignore = []) :\n",
    "    dico_pred = {\"tropigat\" : \"TropiGAT_predictions\" ,\n",
    "                 \"tropiseq\" : \"TropiSeq_predictions\"}\n",
    "    col = dico_pred[predictor]\n",
    "    labels_tropigat = {}\n",
    "    count_kltypes = {}\n",
    "    for kltype in tqdm(dico_prophage_count) : \n",
    "        n = 0\n",
    "        pred_labels , real_labels = [] , []\n",
    "        for author in dico_matrices :\n",
    "            if kltype in dico_matrices[author][\"pool\"] : \n",
    "                matrix = dico_matrices[author][\"matrix\"]\n",
    "                for phage in matrix[\"Phages\"].unique() :\n",
    "                    #if phage not in to_ignore : \n",
    "                    if phage not in to_ignore and phage in pred_df[\"Phage\"].tolist(): \n",
    "                        top_predictions = set()\n",
    "                        predictions = pred_df[pred_df[\"Phage\"] == phage][col].values\n",
    "                        for calls in predictions : \n",
    "                            predicted_kltypes = [x.split(\":\")[0].strip() for x in calls.split(\";\")]\n",
    "                            top_predictions.update(predicted_kltypes[0:top_n-1])\n",
    "                        if kltype in top_predictions : \n",
    "                            pred_labels.append(1)\n",
    "                        else : \n",
    "                            pred_labels.append(0)\n",
    "                        if kltype in dico_hits[phage] : \n",
    "                            real_labels.append(1)\n",
    "                            n += 1 \n",
    "                        else :\n",
    "                            real_labels.append(0)\n",
    "        labels_tropigat[kltype] = {\"y_pred\" : pred_labels, \"real_labels\" : real_labels}\n",
    "        sorted_dict = dict(sorted(labels_tropigat.items(), key=lambda item: int(item[0].split(\"KL\")[1])))\n",
    "        count_kltypes[kltype] = n \n",
    "    return sorted_dict , labels_tropigat, count_kltypes\n",
    "\n",
    "\n",
    "def decript_dic (sorted_dict , labels_tropigat, count_kltypes) :\n",
    "    for kltype in sorted_dict : \n",
    "        try : \n",
    "            if len(labels_tropigat[kltype][\"real_labels\"]) > 1 : \n",
    "                if Counter(labels_tropigat[kltype][\"y_pred\"])[1] > 0 :\n",
    "                    f1 = f1_score(labels_tropigat[kltype][\"real_labels\"], labels_tropigat[kltype][\"y_pred\"], average='binary')\n",
    "                    precision = precision_score(labels_tropigat[kltype][\"real_labels\"], labels_tropigat[kltype][\"y_pred\"], average='binary')\n",
    "                    recall = recall_score(labels_tropigat[kltype][\"real_labels\"], labels_tropigat[kltype][\"y_pred\"], average='binary')\n",
    "                    mcc = matthews_corrcoef(labels_tropigat[kltype][\"real_labels\"], labels_tropigat[kltype][\"y_pred\"])\n",
    "                    accuracy = accuracy_score(labels_tropigat[kltype][\"real_labels\"], labels_tropigat[kltype][\"y_pred\"])\n",
    "                    auc = roc_auc_score(labels_tropigat[kltype][\"real_labels\"], labels_tropigat[kltype][\"y_pred\"])\n",
    "                    print(kltype ,count_kltypes[kltype], round(f1,5),round(accuracy,5), round(recall,5),round(precision,5),round(auc,5), round(mcc,5), sep = \"\\t\")\n",
    "                #aucs.append(auc)\n",
    "        except ValueError : \n",
    "            print(kltype , \"error\", sep = \"\\t\")\n",
    "\n"
   ]
  },
  {
   "cell_type": "code",
   "execution_count": null,
   "id": "eb6c1588-3246-4dab-93cb-7b9927d12808",
   "metadata": {},
   "outputs": [],
   "source": []
  },
  {
   "cell_type": "markdown",
   "id": "8458d992-ed59-4f3e-8013-c51affd5b647",
   "metadata": {},
   "source": [
    "### Work on TropiGAT : "
   ]
  },
  {
   "cell_type": "markdown",
   "id": "0379454e-ff6e-4d25-af3b-9bb9e97e01f9",
   "metadata": {},
   "source": [
    "> Full predictions : "
   ]
  },
  {
   "cell_type": "code",
   "execution_count": 23,
   "id": "b7ea91a7-833a-404a-a06e-724559dd271a",
   "metadata": {},
   "outputs": [
    {
     "name": "stderr",
     "output_type": "stream",
     "text": [
      "100%|█████████████████████████████████████████| 128/128 [00:01<00:00, 90.53it/s]\n"
     ]
    },
    {
     "name": "stdout",
     "output_type": "stream",
     "text": [
      "KL2\t16\t0.37037\t0.85714\t0.3125\t0.45455\t0.62712\t0.29945\n",
      "KL3\t12\t0.33333\t0.4\t0.25\t0.5\t0.4375\t-0.13363\n",
      "KL5\t1\t0.0\t0.96875\t0.0\t0.0\t0.49206\t-0.01587\n",
      "KL7\t2\t0.0\t0.45312\t0.0\t0.0\t0.23387\t-0.18531\n",
      "KL8\t1\t0.0\t0.6875\t0.0\t0.0\t0.34921\t-0.08187\n",
      "KL9\t1\t0.0\t0.75\t0.0\t0.0\t0.38095\t-0.06971\n",
      "KL10\t1\t0.22222\t0.89062\t1.0\t0.125\t0.94444\t0.33333\n",
      "KL12\t1\t0.0\t0.40625\t0.0\t0.0\t0.20635\t-0.14749\n",
      "KL13\t3\t0.0\t0.85859\t0.0\t0.0\t0.44271\t-0.0625\n",
      "KL14\t10\t0.06667\t0.29412\t0.3\t0.0375\t0.29679\t-0.24022\n",
      "KL15\t1\t0.04651\t0.35938\t1.0\t0.02381\t0.6746\t0.09118\n",
      "KL16\t4\t0.22222\t0.88235\t0.5\t0.14286\t0.69783\t0.22133\n",
      "KL17\t2\t0.10526\t0.46875\t1.0\t0.05556\t0.72581\t0.1584\n",
      "KL18\t1\t0.11111\t0.75\t1.0\t0.05882\t0.87302\t0.20949\n",
      "KL19\t1\t0.125\t0.78125\t1.0\t0.06667\t0.88889\t0.22771\n",
      "KL21\t1\t0.18182\t0.85938\t1.0\t0.1\t0.92857\t0.29277\n",
      "KL22\t10\t0.22951\t0.52525\t0.7\t0.13725\t0.60281\t0.12398\n",
      "KL23\t1\t0.04651\t0.35938\t1.0\t0.02381\t0.6746\t0.09118\n",
      "KL24\t5\t0.08955\t0.38384\t0.6\t0.04839\t0.48617\t-0.01252\n",
      "KL25\t3\t0.26087\t0.82828\t1.0\t0.15\t0.91146\t0.35134\n",
      "KL27\t2\t0.09524\t0.40625\t1.0\t0.05\t0.69355\t0.13912\n",
      "KL28\t14\t0.05556\t0.71429\t0.07143\t0.04545\t0.43571\t-0.10671\n",
      "KL29\t8\t0.05479\t0.17857\t0.25\t0.03077\t0.21053\t-0.40622\n",
      "KL30\t3\t0.10714\t0.49495\t1.0\t0.0566\t0.73958\t0.16469\n",
      "KL36\t6\t0.18182\t0.71875\t0.33333\t0.125\t0.54598\t0.0619\n",
      "KL38\t8\t0.37209\t0.67857\t1.0\t0.22857\t0.82237\t0.38389\n",
      "KL39\t3\t0.0\t0.8125\t0.0\t0.0\t0.42623\t-0.08971\n",
      "KL43\t2\t0.08\t0.64062\t0.5\t0.04348\t0.57258\t0.05264\n",
      "KL45\t1\t0.04444\t0.32812\t1.0\t0.02273\t0.65873\t0.08494\n",
      "KL46\t1\t0.04082\t0.26562\t1.0\t0.02083\t0.62698\t0.07274\n",
      "KL48\t1\t0.09091\t0.6875\t1.0\t0.04762\t0.84127\t0.18028\n",
      "KL52\t2\t0.0\t0.875\t0.0\t0.0\t0.45161\t-0.05777\n",
      "KL53\t9\t0.22222\t0.75\t0.33333\t0.16667\t0.56667\t0.1005\n",
      "KL57\t10\t0.66667\t0.88095\t1.0\t0.5\t0.93243\t0.6576\n",
      "KL60\t1\t0.1\t0.71875\t1.0\t0.05263\t0.85714\t0.19389\n",
      "KL62\t4\t0.11765\t0.76562\t0.25\t0.07692\t0.525\t0.03008\n",
      "KL63\t2\t0.0\t0.81818\t0.0\t0.0\t0.41753\t-0.06304\n",
      "KL64\t6\t0.18182\t0.89286\t0.16667\t0.2\t0.55769\t0.12559\n",
      "KL70\t1\t0.0\t0.5625\t0.0\t0.0\t0.28571\t-0.10762\n",
      "KL74\t5\t0.2\t0.52381\t1.0\t0.11111\t0.74684\t0.23421\n",
      "KL102\t2\t0.0\t0.34286\t0.0\t0.0\t0.18182\t-0.30151\n",
      "KL110\t1\t0.4\t0.85\t1.0\t0.25\t0.92105\t0.45883\n",
      "KL136\t1\t0.22222\t0.8\t1.0\t0.125\t0.89706\t0.31506\n",
      "KL149\t2\t0.0\t0.82857\t0.0\t0.0\t0.43939\t-0.08843\n",
      "KL151\t1\t0.0\t0.85714\t0.0\t0.0\t0.44118\t-0.0616\n"
     ]
    }
   ],
   "source": [
    "tropigat_results_gat = tropigat_results[(tropigat_results[\"Targets\"].str.count(\"pass\") == 0)]\n",
    "\n",
    "sorted_dic_tropigat, labels_tropigat, count_kltypes = make_labels(tropigat_results_gat, to_ignore = phages_to_ignore)\n",
    "decript_dic(sorted_dic_tropigat, labels_tropigat, count_kltypes)"
   ]
  },
  {
   "cell_type": "markdown",
   "id": "666fcc55-07b6-4077-9210-da99dd32cb38",
   "metadata": {},
   "source": [
    "> with right-handed beta-helix : "
   ]
  },
  {
   "cell_type": "code",
   "execution_count": 24,
   "id": "01753375-7423-46d8-aeaf-93a77943f353",
   "metadata": {},
   "outputs": [
    {
     "name": "stderr",
     "output_type": "stream",
     "text": [
      "100%|████████████████████████████████████████| 128/128 [00:01<00:00, 120.92it/s]\n",
      "/media/concha-eloko/Linux/conda_envs/ML_work/lib/python3.11/site-packages/sklearn/metrics/_classification.py:1469: UndefinedMetricWarning: Recall is ill-defined and being set to 0.0 due to no true samples. Use `zero_division` parameter to control this behavior.\n",
      "  _warn_prf(average, modifier, msg_start, len(result))\n",
      "/media/concha-eloko/Linux/conda_envs/ML_work/lib/python3.11/site-packages/sklearn/metrics/_classification.py:1469: UndefinedMetricWarning: Recall is ill-defined and being set to 0.0 due to no true samples. Use `zero_division` parameter to control this behavior.\n",
      "  _warn_prf(average, modifier, msg_start, len(result))\n",
      "/media/concha-eloko/Linux/conda_envs/ML_work/lib/python3.11/site-packages/sklearn/metrics/_classification.py:1469: UndefinedMetricWarning: Recall is ill-defined and being set to 0.0 due to no true samples. Use `zero_division` parameter to control this behavior.\n",
      "  _warn_prf(average, modifier, msg_start, len(result))\n",
      "/media/concha-eloko/Linux/conda_envs/ML_work/lib/python3.11/site-packages/sklearn/metrics/_classification.py:1469: UndefinedMetricWarning: Recall is ill-defined and being set to 0.0 due to no true samples. Use `zero_division` parameter to control this behavior.\n",
      "  _warn_prf(average, modifier, msg_start, len(result))\n",
      "/media/concha-eloko/Linux/conda_envs/ML_work/lib/python3.11/site-packages/sklearn/metrics/_classification.py:1469: UndefinedMetricWarning: Recall is ill-defined and being set to 0.0 due to no true samples. Use `zero_division` parameter to control this behavior.\n",
      "  _warn_prf(average, modifier, msg_start, len(result))\n"
     ]
    },
    {
     "name": "stdout",
     "output_type": "stream",
     "text": [
      "KL2\t8\t0.52632\t0.89888\t0.625\t0.45455\t0.77546\t0.47878\n",
      "KL3\t3\t0.66667\t0.66667\t1.0\t0.5\t0.75\t0.5\n",
      "KL5\t1\t0.0\t0.95745\t0.0\t0.0\t0.48913\t-0.02174\n",
      "KL8\t1\t0.0\t0.78723\t0.0\t0.0\t0.40217\t-0.07175\n",
      "KL9\terror\n",
      "KL10\t1\t0.25\t0.87234\t1.0\t0.14286\t0.93478\t0.35245\n",
      "KL12\terror\n",
      "KL13\t2\t0.0\t0.95\t0.0\t0.0\t0.48718\t-0.02564\n",
      "KL14\t2\t0.06452\t0.34831\t1.0\t0.03333\t0.66667\t0.10541\n",
      "KL15\t1\t0.11765\t0.68085\t1.0\t0.0625\t0.83696\t0.20523\n",
      "KL16\t2\t0.28571\t0.88764\t1.0\t0.16667\t0.94253\t0.38407\n",
      "KL17\t2\t0.23529\t0.7234\t1.0\t0.13333\t0.85556\t0.30792\n",
      "KL18\t1\t0.15385\t0.76596\t1.0\t0.08333\t0.88043\t0.25181\n",
      "KL19\terror\n",
      "KL21\terror\n",
      "KL22\t8\t0.30435\t0.6\t0.875\t0.18421\t0.72222\t0.267\n",
      "KL23\t1\t0.18182\t0.80851\t1.0\t0.1\t0.90217\t0.28361\n",
      "KL24\t4\t0.23529\t0.8375\t0.5\t0.15385\t0.67763\t0.20988\n",
      "KL25\t3\t0.35294\t0.8625\t1.0\t0.21429\t0.92857\t0.42857\n",
      "KL27\t1\t0.1\t0.61702\t1.0\t0.05263\t0.80435\t0.17899\n",
      "KL28\t1\t0.08696\t0.76404\t1.0\t0.04545\t0.88068\t0.18603\n",
      "KL29\terror\n",
      "KL30\t2\t0.0\t0.875\t0.0\t0.0\t0.44872\t-0.05338\n",
      "KL36\t4\t0.0\t0.80851\t0.0\t0.0\t0.44186\t-0.10523\n",
      "KL38\t1\t0.08696\t0.625\t1.0\t0.04545\t0.80909\t0.16763\n",
      "KL39\t1\t0.0\t0.82979\t0.0\t0.0\t0.42391\t-0.06168\n",
      "KL43\t1\t0.1\t0.61702\t1.0\t0.05263\t0.80435\t0.17899\n",
      "KL45\t1\t0.08333\t0.53191\t1.0\t0.04348\t0.76087\t0.15061\n",
      "KL46\t1\t0.05405\t0.25532\t1.0\t0.02778\t0.61957\t0.0815\n"
     ]
    },
    {
     "name": "stderr",
     "output_type": "stream",
     "text": [
      "/media/concha-eloko/Linux/conda_envs/ML_work/lib/python3.11/site-packages/sklearn/metrics/_classification.py:1469: UndefinedMetricWarning: Recall is ill-defined and being set to 0.0 due to no true samples. Use `zero_division` parameter to control this behavior.\n",
      "  _warn_prf(average, modifier, msg_start, len(result))\n"
     ]
    },
    {
     "name": "stdout",
     "output_type": "stream",
     "text": [
      "KL48\t1\t0.09524\t0.59574\t1.0\t0.05\t0.79348\t0.17131\n",
      "KL52\terror\n",
      "KL53\t1\t0.125\t0.75\t1.0\t0.06667\t0.87273\t0.22293\n",
      "KL57\t2\t0.4\t0.89286\t1.0\t0.25\t0.94444\t0.4714\n",
      "KL60\t1\t0.125\t0.70213\t1.0\t0.06667\t0.84783\t0.21535\n",
      "KL62\t1\t0.16667\t0.78723\t1.0\t0.09091\t0.8913\t0.26673\n",
      "KL63\t2\t0.0\t0.825\t0.0\t0.0\t0.42308\t-0.06727\n",
      "KL64\t1\t0.4\t0.94643\t1.0\t0.25\t0.97273\t0.48617\n",
      "KL70\terror\n",
      "KL74\t2\t0.13333\t0.53571\t1.0\t0.07143\t0.75926\t0.19245\n",
      "KL110\t1\t0.5\t0.77778\t1.0\t0.33333\t0.875\t0.5\n",
      "KL136\t1\t0.25\t0.81818\t1.0\t0.14286\t0.90625\t0.34069\n",
      "KL149\t2\t0.0\t0.81818\t0.0\t0.0\t0.43548\t-0.09433\n",
      "KL151\t1\t0.0\t0.93939\t0.0\t0.0\t0.48438\t-0.03125\n"
     ]
    },
    {
     "name": "stderr",
     "output_type": "stream",
     "text": [
      "/media/concha-eloko/Linux/conda_envs/ML_work/lib/python3.11/site-packages/sklearn/metrics/_classification.py:1469: UndefinedMetricWarning: Recall is ill-defined and being set to 0.0 due to no true samples. Use `zero_division` parameter to control this behavior.\n",
      "  _warn_prf(average, modifier, msg_start, len(result))\n"
     ]
    }
   ],
   "source": [
    "tropigat_results_helix = tropigat_results.copy()\n",
    "tropigat_results_helix = tropigat_results_helix[(tropigat_results_helix[\"Folds\"].isin([\"right-handed beta-helix\"])) & (tropigat_results_helix[\"Targets\"].str.count(\"pass\") == 0)]\n",
    "#tropigat_results_helix.reset_index(drop=True, inplace=True)\n",
    "\n",
    "sorted_dic_tropigat_helix, labels_tropigat_helix, count_kltypes = make_labels(tropigat_results_helix, to_ignore = phages_to_ignore)\n",
    "decript_dic(sorted_dic_tropigat_helix, labels_tropigat_helix, count_kltypes)\n"
   ]
  },
  {
   "cell_type": "markdown",
   "id": "7ac597de-0961-4e3d-8717-4a483cb51854",
   "metadata": {},
   "source": [
    "***\n",
    "> Work on TropiSeq :"
   ]
  },
  {
   "cell_type": "code",
   "execution_count": 25,
   "id": "247d8b56-4348-4e2d-bd9f-e759a279457f",
   "metadata": {},
   "outputs": [
    {
     "name": "stderr",
     "output_type": "stream",
     "text": [
      "100%|█████████████████████████████████████████| 128/128 [00:01<00:00, 76.04it/s]\n"
     ]
    },
    {
     "name": "stdout",
     "output_type": "stream",
     "text": [
      "KL2\t16\t0.28571\t0.87903\t0.1875\t0.6\t0.58449\t0.28797\n",
      "KL3\t12\t0.4\t0.59091\t0.25\t1.0\t0.625\t0.36274\n",
      "KL4\t7\t0.25\t0.93023\t0.14286\t1.0\t0.57143\t0.36438\n",
      "KL9\t1\t0.66667\t0.98438\t1.0\t0.5\t0.99206\t0.70147\n",
      "KL13\t3\t0.5\t0.98039\t0.33333\t1.0\t0.66667\t0.57161\n",
      "KL14\t10\t0.16667\t0.91935\t0.1\t0.5\t0.54561\t0.19719\n",
      "KL15\t1\t1.0\t1.0\t1.0\t1.0\t1.0\t1.0\n",
      "KL16\t4\t0.57143\t0.97581\t0.5\t0.66667\t0.74583\t0.56538\n",
      "KL17\t2\t0.66667\t0.98438\t0.5\t1.0\t0.75\t0.70147\n",
      "KL18\t1\t0.0\t0.95312\t0.0\t0.0\t0.48413\t-0.02263\n",
      "KL20\t1\t0.0\t0.98039\t0.0\t0.0\t0.49505\t-0.0099\n",
      "KL21\t1\t0.5\t0.96875\t1.0\t0.33333\t0.98413\t0.56811\n",
      "KL23\t1\t0.66667\t0.98438\t1.0\t0.5\t0.99206\t0.70147\n",
      "KL24\t5\t0.4\t0.94118\t0.4\t0.4\t0.68454\t0.36907\n",
      "KL25\t3\t0.85714\t0.9902\t1.0\t0.75\t0.99495\t0.86164\n",
      "KL27\t2\t0.66667\t0.98438\t0.5\t1.0\t0.75\t0.70147\n",
      "KL28\t14\t0.1\t0.85484\t0.07143\t0.16667\t0.51299\t0.03831\n",
      "KL30\t3\t0.33333\t0.96078\t0.33333\t0.33333\t0.65657\t0.31313\n",
      "KL31\t1\t0.0\t0.96875\t0.0\t0.0\t0.49206\t-0.01587\n",
      "KL35\t7\t0.57143\t0.93023\t0.57143\t0.57143\t0.76673\t0.53345\n",
      "KL39\t3\t0.0\t0.92188\t0.0\t0.0\t0.48361\t-0.03983\n",
      "KL43\t2\t0.0\t0.95312\t0.0\t0.0\t0.49194\t-0.02263\n",
      "KL48\t1\t0.0\t0.95312\t0.0\t0.0\t0.48413\t-0.02263\n",
      "KL51\t1\t1.0\t1.0\t1.0\t1.0\t1.0\t1.0\n",
      "KL57\t10\t0.33333\t0.90698\t0.2\t1.0\t0.6\t0.42538\n",
      "KL58\t3\t0.5\t0.96875\t0.33333\t1.0\t0.66667\t0.56811\n",
      "KL63\t2\t0.8\t0.9902\t1.0\t0.66667\t0.995\t0.8124\n",
      "KL64\t6\t0.22222\t0.9186\t0.16667\t0.33333\t0.57083\t0.19669\n",
      "KL70\t1\t0.0\t0.96875\t0.0\t0.0\t0.49206\t-0.01587\n",
      "KL74\t5\t0.0\t0.93023\t0.0\t0.0\t0.49383\t-0.02695\n",
      "KL102\t2\t0.0\t0.31579\t0.0\t0.0\t0.16667\t-0.30861\n",
      "KL110\t1\t0.0\t0.86364\t0.0\t0.0\t0.45238\t-0.06901\n",
      "KL140\t3\t1.0\t1.0\t1.0\t1.0\t1.0\t1.0\n",
      "KL151\t1\t1.0\t1.0\t1.0\t1.0\t1.0\t1.0\n",
      "KL157\t1\t1.0\t1.0\t1.0\t1.0\t1.0\t1.0\n"
     ]
    }
   ],
   "source": [
    "sorted_dic_tropiseq, labels_tropiseq, count_kltypes = make_labels(tropigat_results, predictor = \"tropiseq\",  to_ignore = phages_to_ignore)\n",
    "decript_dic(sorted_dic_tropiseq, labels_tropiseq, count_kltypes)"
   ]
  },
  {
   "cell_type": "markdown",
   "id": "b1e73f33-dd35-4380-84e9-0941aaa79f55",
   "metadata": {},
   "source": [
    "> Only right-handed beta-helix "
   ]
  },
  {
   "cell_type": "code",
   "execution_count": 26,
   "id": "2b4c8e59-7fa8-49ef-8052-7e37802f54dd",
   "metadata": {},
   "outputs": [
    {
     "name": "stderr",
     "output_type": "stream",
     "text": [
      "100%|████████████████████████████████████████| 128/128 [00:01<00:00, 125.38it/s]\n",
      "/media/concha-eloko/Linux/conda_envs/ML_work/lib/python3.11/site-packages/sklearn/metrics/_classification.py:1469: UndefinedMetricWarning: Recall is ill-defined and being set to 0.0 due to no true samples. Use `zero_division` parameter to control this behavior.\n",
      "  _warn_prf(average, modifier, msg_start, len(result))\n",
      "/media/concha-eloko/Linux/conda_envs/ML_work/lib/python3.11/site-packages/sklearn/metrics/_classification.py:1469: UndefinedMetricWarning: Recall is ill-defined and being set to 0.0 due to no true samples. Use `zero_division` parameter to control this behavior.\n",
      "  _warn_prf(average, modifier, msg_start, len(result))\n",
      "/media/concha-eloko/Linux/conda_envs/ML_work/lib/python3.11/site-packages/sklearn/metrics/_classification.py:1469: UndefinedMetricWarning: Recall is ill-defined and being set to 0.0 due to no true samples. Use `zero_division` parameter to control this behavior.\n",
      "  _warn_prf(average, modifier, msg_start, len(result))\n"
     ]
    },
    {
     "name": "stdout",
     "output_type": "stream",
     "text": [
      "KL2\t8\t0.46154\t0.92135\t0.375\t0.6\t0.67515\t0.43512\n",
      "KL3\t3\t1.0\t1.0\t1.0\t1.0\t1.0\t1.0\n",
      "KL9\terror\n",
      "KL13\t2\t0.66667\t0.9875\t0.5\t1.0\t0.75\t0.70262\n",
      "KL14\t2\t0.5\t0.97753\t0.5\t0.5\t0.74425\t0.48851\n",
      "KL15\t1\t1.0\t1.0\t1.0\t1.0\t1.0\t1.0\n",
      "KL16\t2\t0.8\t0.98876\t1.0\t0.66667\t0.99425\t0.81179\n",
      "KL17\t2\t0.66667\t0.97872\t0.5\t1.0\t0.75\t0.69938\n",
      "KL18\t1\t0.0\t0.93617\t0.0\t0.0\t0.47826\t-0.03108\n",
      "KL20\t1\t0.0\t0.975\t0.0\t0.0\t0.49367\t-0.01266\n",
      "KL21\terror\n",
      "KL23\t1\t1.0\t1.0\t1.0\t1.0\t1.0\t1.0\n",
      "KL24\t4\t0.57143\t0.9625\t0.5\t0.66667\t0.74342\t0.55849\n",
      "KL25\t3\t0.85714\t0.9875\t1.0\t0.75\t0.99351\t0.86038\n",
      "KL27\t1\t1.0\t1.0\t1.0\t1.0\t1.0\t1.0\n",
      "KL28\t1\t0.4\t0.96629\t1.0\t0.25\t0.98295\t0.4914\n",
      "KL30\t2\t0.5\t0.975\t0.5\t0.5\t0.74359\t0.48718\n",
      "KL35\t4\t0.72727\t0.94643\t1.0\t0.57143\t0.97115\t0.7338\n",
      "KL39\t1\t0.0\t0.93617\t0.0\t0.0\t0.47826\t-0.03108\n",
      "KL43\t1\t0.0\t0.95745\t0.0\t0.0\t0.48913\t-0.02174\n",
      "KL48\t1\t0.0\t0.93617\t0.0\t0.0\t0.47826\t-0.03108\n",
      "KL51\t1\t1.0\t1.0\t1.0\t1.0\t1.0\t1.0\n",
      "KL57\t2\t1.0\t1.0\t1.0\t1.0\t1.0\t1.0\n",
      "KL58\t3\t0.5\t0.95745\t0.33333\t1.0\t0.66667\t0.56466\n",
      "KL63\t2\t0.8\t0.9875\t1.0\t0.66667\t0.99359\t0.81125\n",
      "KL64\t1\t0.5\t0.96429\t1.0\t0.33333\t0.98182\t0.56676\n",
      "KL70\terror\n",
      "KL74\t2\t0.0\t0.94643\t0.0\t0.0\t0.49074\t-0.02595\n",
      "KL110\t1\t0.0\t0.66667\t0.0\t0.0\t0.375\t-0.18898\n",
      "KL140\t3\t1.0\t1.0\t1.0\t1.0\t1.0\t1.0\n",
      "KL151\t1\t1.0\t1.0\t1.0\t1.0\t1.0\t1.0\n",
      "KL157\t1\t1.0\t1.0\t1.0\t1.0\t1.0\t1.0\n"
     ]
    }
   ],
   "source": [
    "tropigat_results_helix = tropigat_results.copy()\n",
    "tropigat_results_helix = tropigat_results_helix[(tropigat_results_helix[\"Folds\"].isin([\"right-handed beta-helix\"])) & (tropigat_results_helix[\"Targets\"].str.count(\"pass\") == 0)]\n",
    "#tropigat_results_helix.reset_index(drop=True, inplace=True)\n",
    "\n",
    "sorted_dic_tropiseq_helix, labels_tropiseq_helix, count_kltypes = make_labels(tropigat_results_helix,predictor = \"tropiseq\" ,to_ignore = phages_to_ignore)\n",
    "decript_dic(sorted_dic_tropiseq_helix, labels_tropiseq_helix, count_kltypes)\n",
    "\n"
   ]
  },
  {
   "cell_type": "markdown",
   "id": "dcc0058a-b0f9-4bd7-bf0c-56095e1ffa02",
   "metadata": {},
   "source": [
    "***\n",
    "# Good calls : "
   ]
  },
  {
   "cell_type": "code",
   "execution_count": 77,
   "id": "a6d4391d-da18-4c9b-b4a0-dfebdcab7960",
   "metadata": {
    "jupyter": {
     "source_hidden": true
    },
    "scrolled": true
   },
   "outputs": [],
   "source": [
    "\n",
    "total_calls = 0\n",
    "TropiGAT_good_calls = []\n",
    "TropiSeq_good_calls = []\n",
    "top_n = 15\n",
    "\n",
    "for phage in raw_df[\"Phage\"].unique() : \n",
    "    tmp_df = raw_df[raw_df[\"Phage\"] == phage]\n",
    "    targets_set = set(tmp_df[\"Targets\"].tolist()[0].split(\",\"))\n",
    "    n_targets = len(targets_set)\n",
    "    if \"\".join((list(targets_set)[0])).count(\"pass\") == 0 : \n",
    "        total_calls += n_targets\n",
    "        # TropiGAT calls : \n",
    "        call_tropigat = set()\n",
    "        for calls in tmp_df[\"TropiGAT_predictions\"] :\n",
    "            top_n_predictions = [x.split(\":\")[0] for x in calls.split(\";\")][0:top_n-1]\n",
    "            call_tropigat.update(top_n_predictions)\n",
    "        good_calls_tropigat = call_tropigat.intersection(targets_set)\n",
    "        if len(good_calls_tropigat) > 0 :\n",
    "            for kltype in good_calls_tropigat : \n",
    "                a = (phage , kltype)\n",
    "                TropiGAT_good_calls.append(a)\n",
    "        # TropiSeq calls : \n",
    "        call_tropiseq = set()\n",
    "        for calls in tmp_df[\"TropiSeq_predictions\"] :\n",
    "            top_n_predictions = [x.split(\":\")[0] for x in calls.split(\";\")][0:top_n-1]\n",
    "            call_tropiseq.update(top_n_predictions)\n",
    "        good_calls_tropiseq = call_tropiseq.intersection(targets_set)\n",
    "        if len(good_calls_tropiseq) > 0 :\n",
    "            for kltype in good_calls_tropiseq : \n",
    "                a = (phage , kltype)\n",
    "                TropiSeq_good_calls.append(a)\n",
    "        \n",
    "\n",
    "\n"
   ]
  },
  {
   "cell_type": "code",
   "execution_count": 133,
   "id": "ed9b7970-ccbf-4b74-b7c5-be3770dc8bed",
   "metadata": {},
   "outputs": [],
   "source": [
    "# tailored_bit50\n",
    "# 1512\n",
    "import os \n",
    "import pandas as pd \n",
    "\n",
    "path_project = \"/media/concha-eloko/Linux/PPT_clean\"\n",
    "\n",
    "\n",
    "raw_df = pd.read_csv(f\"{path_project}/raw_metrics.classic_1001.bit75.detailed.tsv\" , sep = \"\\t\", header = 0)\n",
    "\n",
    "#raw_df_all = raw_df[(~raw_df[\"Folds\"].isin([\"6-bladed beta-propeller\"])) & (raw_df[\"Targets\"].str.count(\"pass\") == 0)]\n",
    "#raw_df_helix = tropigat_results_helix[(~tropigat_results_helix[\"Folds\"].isin([\"6-bladed beta-propeller\"])) & (tropigat_results_helix[\"Targets\"].str.count(\"pass\") == 0)]\n",
    "# [\"right-handed beta-helix\", \"triple-helix\",\"unknown\"]\n",
    "raw_df_helix = tropigat_results_helix[(tropigat_results_helix[\"Folds\"].isin([\"triple-helix\",\"unknown\"])) & (tropigat_results_helix[\"Targets\"].str.count(\"pass\") == 0)]\n",
    "\n"
   ]
  },
  {
   "cell_type": "code",
   "execution_count": 134,
   "id": "81fad608-d9d4-4fff-8cf4-cc4741371325",
   "metadata": {},
   "outputs": [
    {
     "data": {
      "text/html": [
       "<div>\n",
       "<style scoped>\n",
       "    .dataframe tbody tr th:only-of-type {\n",
       "        vertical-align: middle;\n",
       "    }\n",
       "\n",
       "    .dataframe tbody tr th {\n",
       "        vertical-align: top;\n",
       "    }\n",
       "\n",
       "    .dataframe thead th {\n",
       "        text-align: right;\n",
       "    }\n",
       "</style>\n",
       "<table border=\"1\" class=\"dataframe\">\n",
       "  <thead>\n",
       "    <tr style=\"text-align: right;\">\n",
       "      <th></th>\n",
       "      <th>Phage</th>\n",
       "      <th>Protein</th>\n",
       "      <th>Folds</th>\n",
       "      <th>TropiGAT_predictions</th>\n",
       "      <th>TropiGAT_good_calls</th>\n",
       "      <th>TropiSeq_predictions</th>\n",
       "      <th>TropiSeq_good_calls</th>\n",
       "      <th>Targets</th>\n",
       "    </tr>\n",
       "  </thead>\n",
       "  <tbody>\n",
       "  </tbody>\n",
       "</table>\n",
       "</div>"
      ],
      "text/plain": [
       "Empty DataFrame\n",
       "Columns: [Phage, Protein, Folds, TropiGAT_predictions, TropiGAT_good_calls, TropiSeq_predictions, TropiSeq_good_calls, Targets]\n",
       "Index: []"
      ]
     },
     "execution_count": 134,
     "metadata": {},
     "output_type": "execute_result"
    }
   ],
   "source": [
    "raw_df_helix"
   ]
  },
  {
   "cell_type": "markdown",
   "id": "61a5ebab-6b1e-41f8-9c47-003ad5401886",
   "metadata": {},
   "source": [
    "> Functions : "
   ]
  },
  {
   "cell_type": "code",
   "execution_count": 69,
   "id": "7fe9b46f-106e-4392-b72e-616f084fdaf4",
   "metadata": {
    "jupyter": {
     "source_hidden": true
    }
   },
   "outputs": [],
   "source": [
    "def debugg_get_calls_metrics(raw_df , top_n = 15, to_ignore = []) :\n",
    "    total_calls = 0\n",
    "    TropiGAT_good_calls = []\n",
    "    TropiSeq_good_calls = []\n",
    "    for phage in raw_df[\"Phage\"].unique() : \n",
    "        if phage not in to_ignore and phage == \"K64PH164C4\":\n",
    "            tmp_df = raw_df[raw_df[\"Phage\"] == phage]\n",
    "            print(tmp_df)\n",
    "            targets_set = set(tmp_df[\"Targets\"].tolist()[0].split(\",\"))\n",
    "            n_targets = len(targets_set)\n",
    "            if \"\".join((list(targets_set)[0])).count(\"pass\") == 0 : \n",
    "                total_calls += n_targets\n",
    "                # TropiGAT calls : \n",
    "                call_tropigat = set()\n",
    "                for calls in tmp_df[\"TropiGAT_predictions\"] :\n",
    "                    top_n_predictions = [x.split(\":\")[0].strip() for x in calls.split(\";\")][0:top_n-1]\n",
    "                    call_tropigat.update(top_n_predictions)\n",
    "                print(call_tropigat)\n",
    "                good_calls_tropigat = call_tropigat.intersection(targets_set)\n",
    "                if len(good_calls_tropigat) > 0 :\n",
    "                    for kltype in good_calls_tropigat : \n",
    "                        a = (phage , kltype)\n",
    "                        TropiGAT_good_calls.append(a)\n",
    "                # TropiSeq calls : \n",
    "                call_tropiseq = set()\n",
    "                for calls in tmp_df[\"TropiSeq_predictions\"] :\n",
    "                    top_n_predictions = [x.split(\":\")[0] for x in calls.split(\";\")][0:top_n-1]\n",
    "                    call_tropiseq.update(top_n_predictions)\n",
    "                good_calls_tropiseq = call_tropiseq.intersection(targets_set)\n",
    "                if len(good_calls_tropiseq) > 0 :\n",
    "                    for kltype in good_calls_tropiseq : \n",
    "                        a = (phage , kltype)\n",
    "                        TropiSeq_good_calls.append(a)\n",
    "    all_calls = set(TropiGAT_good_calls).union(set(TropiSeq_good_calls))\n",
    "\n",
    "    return total_calls, all_calls , TropiGAT_good_calls , TropiSeq_good_calls"
   ]
  },
  {
   "cell_type": "code",
   "execution_count": 70,
   "id": "e64bbf78-7492-41f8-ac3f-30bd7c9e9ffd",
   "metadata": {
    "collapsed": true,
    "jupyter": {
     "outputs_hidden": true,
     "source_hidden": true
    }
   },
   "outputs": [
    {
     "name": "stdout",
     "output_type": "stream",
     "text": [
      "          Phage             Protein                    Folds  \\\n",
      "168  K64PH164C4  K64PH164C4__cds_24  right-handed beta-helix   \n",
      "\n",
      "                                  TropiGAT_predictions TropiGAT_good_calls  \\\n",
      "168  KL14:0.925 ; KL81:0.918 ; KL45:0.868 ; KL128:0...                KL64   \n",
      "\n",
      "    TropiSeq_predictions TropiSeq_good_calls Targets  \n",
      "168          KL64: 0.932                KL64    KL64  \n",
      "{'KL70', 'KL128', 'KL14', 'KL45', 'KL22', 'KL64', 'KL123', 'KL46', 'KL15', 'KL29', 'KL81', 'KL127', 'KL23'}\n"
     ]
    }
   ],
   "source": [
    "total_calls, all_calls , TropiGAT_good_calls , TropiSeq_good_calls = debugg_get_calls_metrics(raw_df, to_ignore = phages_to_ignore)\n"
   ]
  },
  {
   "cell_type": "code",
   "execution_count": 71,
   "id": "cee5a87e-13a2-4a88-8bd8-e9b8ad54edd5",
   "metadata": {},
   "outputs": [
    {
     "data": {
      "text/plain": [
       "[('K64PH164C4', 'KL64')]"
      ]
     },
     "execution_count": 71,
     "metadata": {},
     "output_type": "execute_result"
    }
   ],
   "source": [
    "TropiGAT_good_calls"
   ]
  },
  {
   "cell_type": "code",
   "execution_count": 72,
   "id": "fc261acd-661a-4b9e-86c6-5187994706eb",
   "metadata": {},
   "outputs": [],
   "source": [
    "def get_calls_metrics(raw_df , top_n = 15, to_ignore = []) :\n",
    "    total_calls = 0\n",
    "    TropiGAT_good_calls = []\n",
    "    TropiSeq_good_calls = []\n",
    "    \n",
    "    for phage in raw_df[\"Phage\"].unique() : \n",
    "        if phage not in to_ignore :\n",
    "            tmp_df = raw_df[raw_df[\"Phage\"] == phage]\n",
    "            targets_set = set(tmp_df[\"Targets\"].tolist()[0].split(\",\"))\n",
    "            n_targets = len(targets_set)\n",
    "            if \"\".join((list(targets_set)[0])).count(\"pass\") == 0 : \n",
    "                total_calls += n_targets\n",
    "                # TropiGAT calls : \n",
    "                call_tropigat = set()\n",
    "                for calls in tmp_df[\"TropiGAT_predictions\"] :\n",
    "                    top_n_predictions = [x.split(\":\")[0].strip() for x in calls.split(\";\")][0:top_n-1]\n",
    "                    call_tropigat.update(top_n_predictions)\n",
    "                good_calls_tropigat = call_tropigat.intersection(targets_set)\n",
    "                if len(good_calls_tropigat) > 0 :\n",
    "                    for kltype in good_calls_tropigat : \n",
    "                        a = (phage , kltype)\n",
    "                        TropiGAT_good_calls.append(a)\n",
    "                # TropiSeq calls : \n",
    "                call_tropiseq = set()\n",
    "                for calls in tmp_df[\"TropiSeq_predictions\"] :\n",
    "                    top_n_predictions = [x.split(\":\")[0].strip() for x in calls.split(\";\")][0:top_n-1]\n",
    "                    call_tropiseq.update(top_n_predictions)\n",
    "                good_calls_tropiseq = call_tropiseq.intersection(targets_set)\n",
    "                if len(good_calls_tropiseq) > 0 :\n",
    "                    for kltype in good_calls_tropiseq : \n",
    "                        a = (phage , kltype)\n",
    "                        TropiSeq_good_calls.append(a)\n",
    "    all_calls = set(TropiGAT_good_calls).union(set(TropiSeq_good_calls))\n",
    "\n",
    "    return total_calls, all_calls , TropiGAT_good_calls , TropiSeq_good_calls\n"
   ]
  },
  {
   "cell_type": "code",
   "execution_count": 73,
   "id": "4b557c73-56a4-4daf-87e9-8e34c9cefdca",
   "metadata": {},
   "outputs": [],
   "source": [
    "def get_bad_calls_metrics(raw_df , top_n = 15, to_ignore = []) :\n",
    "    total_calls = 0\n",
    "    TropiGAT_bad_calls = []\n",
    "    TropiSeq_bad_calls = []\n",
    "    for phage in raw_df[\"Phage\"].unique() : \n",
    "        if phage not in to_ignore :\n",
    "            tmp_df = raw_df[raw_df[\"Phage\"] == phage]\n",
    "            targets_set = set(tmp_df[\"Targets\"].tolist()[0].split(\",\"))\n",
    "            n_targets = len(targets_set)\n",
    "            if \"\".join((list(targets_set)[0])).count(\"pass\") == 0 : \n",
    "                total_calls += n_targets\n",
    "                # TropiGAT calls : \n",
    "                top_n_predictions_all = []\n",
    "                for calls in tmp_df[\"TropiGAT_predictions\"] :\n",
    "                    top_n_predictions = [x.split(\":\")[0].strip() for x in calls.split(\";\")][0:top_n-1]\n",
    "                    top_n_predictions_all = top_n_predictions_all + top_n_predictions\n",
    "                bad_call_tropigat = targets_set - set(top_n_predictions_all)\n",
    "                if len(bad_call_tropigat) > 0 :\n",
    "                    for kltype in bad_call_tropigat : \n",
    "                        a = (phage , kltype)\n",
    "                        TropiGAT_bad_calls.append(a)                        \n",
    "                # TropiSeq calls : \n",
    "                top_n_predictions_all = []\n",
    "                for calls in tmp_df[\"TropiSeq_predictions\"] :\n",
    "                    top_n_predictions = [x.split(\":\")[0].strip() for x in calls.split(\";\")][0:top_n-1]\n",
    "                    top_n_predictions_all = top_n_predictions_all + top_n_predictions\n",
    "                bad_call_tropiseq = targets_set - set(top_n_predictions_all)\n",
    "                if len(bad_call_tropiseq) > 0 :\n",
    "                    for kltype in bad_call_tropiseq : \n",
    "                        a = (phage , kltype)\n",
    "                        TropiSeq_bad_calls.append(a)\n",
    "    all_calls = set(TropiGAT_bad_calls).union(set(TropiSeq_bad_calls))\n",
    "\n",
    "    return total_calls, all_calls , TropiGAT_bad_calls , TropiSeq_bad_calls"
   ]
  },
  {
   "cell_type": "markdown",
   "id": "257d5f4c-0866-44c7-8608-629d2a233e17",
   "metadata": {},
   "source": [
    "> All predictions : "
   ]
  },
  {
   "cell_type": "code",
   "execution_count": 114,
   "id": "479dcf88-9ab2-47cd-838b-dec47981d8ba",
   "metadata": {},
   "outputs": [],
   "source": [
    "total_calls, all_calls , TropiGAT_good_calls , TropiSeq_good_calls = get_calls_metrics(raw_df, to_ignore = phages_to_ignore)\n"
   ]
  },
  {
   "cell_type": "code",
   "execution_count": 115,
   "id": "bf32b7ee-3b93-4889-8feb-e8ef395751c6",
   "metadata": {},
   "outputs": [
    {
     "data": {
      "text/plain": [
       "(273, 95, 79, 40)"
      ]
     },
     "execution_count": 115,
     "metadata": {},
     "output_type": "execute_result"
    }
   ],
   "source": [
    "total_calls , len(all_calls) , len(TropiGAT_good_calls), len(TropiSeq_good_calls)"
   ]
  },
  {
   "cell_type": "code",
   "execution_count": 78,
   "id": "d2ae534c-c139-4634-8222-bf0f08441c94",
   "metadata": {},
   "outputs": [
    {
     "data": {
      "text/plain": [
       "73"
      ]
     },
     "execution_count": 78,
     "metadata": {},
     "output_type": "execute_result"
    }
   ],
   "source": [
    "len(set([hit[0] for hit in all_calls]))"
   ]
  },
  {
   "cell_type": "code",
   "execution_count": 76,
   "id": "dfa7a72b-5275-4c01-b13b-5310d6d23635",
   "metadata": {},
   "outputs": [
    {
     "name": "stdout",
     "output_type": "stream",
     "text": [
      "24\n",
      "{('A1h', 'KL2'), ('K11PH164C1', 'KL57'), ('K64PH164C4', 'KL64'), ('PFOEGONH', 'KL3'), ('S11a', 'KL25'), ('OPBIHMGG', 'KL3'), ('A1g', 'KL16'), ('K21lambda1', 'KL21'), ('S13d', 'KL14'), ('K24PH164C1', 'KL24'), ('LCALLHIG', 'KL3'), ('D7c', 'KL28'), ('K23PH08C2', 'KL23'), ('K27PH129C1', 'KL27'), ('S10a', 'KL25'), ('K15PH90', 'KL15'), ('K54lambda1_1_1', 'KL24'), ('K2PH164C2', 'KL2'), ('K57lambda1_2', 'KL57'), ('NBNDMPCG', 'KL2'), ('K25PH129C1', 'KL25'), ('A3b', 'KL30'), ('K17alfa62', 'KL17'), ('K16PH164C3', 'KL16')}\n"
     ]
    },
    {
     "data": {
      "text/plain": [
       "Counter({'KL2': 3,\n",
       "         'KL3': 3,\n",
       "         'KL25': 3,\n",
       "         'KL57': 2,\n",
       "         'KL16': 2,\n",
       "         'KL24': 2,\n",
       "         'KL64': 1,\n",
       "         'KL21': 1,\n",
       "         'KL14': 1,\n",
       "         'KL28': 1,\n",
       "         'KL23': 1,\n",
       "         'KL27': 1,\n",
       "         'KL15': 1,\n",
       "         'KL30': 1,\n",
       "         'KL17': 1})"
      ]
     },
     "execution_count": 76,
     "metadata": {},
     "output_type": "execute_result"
    }
   ],
   "source": [
    "common_calls = set(TropiGAT_good_calls) & set(TropiSeq_good_calls)\n",
    "print(len(common_calls))\n",
    "\n",
    "print(common_calls)\n",
    "Counter([call[1] for call in common_calls])"
   ]
  },
  {
   "cell_type": "markdown",
   "id": "4702cc42-691e-45fc-b979-3f23d6bf4b15",
   "metadata": {},
   "source": [
    "> Helix predictions : "
   ]
  },
  {
   "cell_type": "markdown",
   "id": "ec298e59-ef78-40f2-b952-cb94e318656a",
   "metadata": {},
   "source": [
    "Good calls :"
   ]
  },
  {
   "cell_type": "code",
   "execution_count": 130,
   "id": "ecf6e908-8bbc-49b9-8964-403b77831b21",
   "metadata": {},
   "outputs": [],
   "source": [
    "total_calls_helix, all_calls_helix , TropiGAT_good_calls_helix , TropiSeq_good_calls_helix = get_calls_metrics(raw_df_helix, to_ignore = phages_to_ignore)\n"
   ]
  },
  {
   "cell_type": "code",
   "execution_count": 117,
   "id": "c5ce608a-8b02-4ddd-ab04-c7bc35764673",
   "metadata": {
    "scrolled": true
   },
   "outputs": [
    {
     "data": {
      "text/plain": [
       "[('A1g', 'KL16'),\n",
       " ('A1h', 'KL2'),\n",
       " ('A1k', 'KL22'),\n",
       " ('A1m', 'KL22'),\n",
       " ('A1o', 'KL22'),\n",
       " ('A1q', 'KL22'),\n",
       " ('A1r', 'KL22'),\n",
       " ('D7c', 'KL28'),\n",
       " ('HIIECEMK', 'KL2'),\n",
       " ('K10PH82C1', 'KL10'),\n",
       " ('K11PH164C1', 'KL57'),\n",
       " ('K14PH164C1', 'KL14'),\n",
       " ('K15PH90', 'KL15'),\n",
       " ('K16PH164C3', 'KL16'),\n",
       " ('K17alfa61', 'KL17'),\n",
       " ('K17alfa62', 'KL17'),\n",
       " ('K17alfa62', 'KL62'),\n",
       " ('K22PH164C1', 'KL22'),\n",
       " ('K23PH08C2', 'KL23'),\n",
       " ('K24PH164C1', 'KL24'),\n",
       " ('K25PH129C1', 'KL25'),\n",
       " ('K26PH128C1', 'KL74'),\n",
       " ('K27PH129C1', 'KL27'),\n",
       " ('K2PH164C2', 'KL2'),\n",
       " ('K37PH164C1', 'KL2'),\n",
       " ('K38PH09C2', 'KL38'),\n",
       " ('K43PH164C1', 'KL43'),\n",
       " ('K45PH128C2', 'KL45'),\n",
       " ('K46PH129', 'KL46'),\n",
       " ('K48PH164C1', 'KL48'),\n",
       " ('K53PH164C2', 'KL53'),\n",
       " ('K54lambda1_1_1', 'KL24'),\n",
       " ('K57lambda1_2', 'KL57'),\n",
       " ('K60PH164C1', 'KL60'),\n",
       " ('K60PH164C1', 'KL18'),\n",
       " ('K64PH164C4', 'KL64'),\n",
       " ('K74PH129C2', 'KL74'),\n",
       " ('LCALLHIG', 'KL3'),\n",
       " ('M5b', 'KL22'),\n",
       " ('NBNDMPCG', 'KL2'),\n",
       " ('OPBIHMGG', 'KL3'),\n",
       " ('PFOEGONH', 'KL3'),\n",
       " ('PP187', 'KL110'),\n",
       " ('S10a', 'KL25'),\n",
       " ('S11a', 'KL25'),\n",
       " ('S13d', 'KL14'),\n",
       " ('S13e', 'KL136')]"
      ]
     },
     "execution_count": 117,
     "metadata": {},
     "output_type": "execute_result"
    }
   ],
   "source": [
    "TropiGAT_good_calls_helix"
   ]
  },
  {
   "cell_type": "code",
   "execution_count": 131,
   "id": "c83c96b9-5c1f-4508-a09f-390a552a5625",
   "metadata": {},
   "outputs": [
    {
     "data": {
      "text/plain": [
       "(126, 62, 47, 37)"
      ]
     },
     "execution_count": 131,
     "metadata": {},
     "output_type": "execute_result"
    }
   ],
   "source": [
    "total_calls_helix , len(all_calls_helix) , len(TropiGAT_good_calls_helix), len(TropiSeq_good_calls_helix)"
   ]
  },
  {
   "cell_type": "code",
   "execution_count": 123,
   "id": "af2516d5-8134-4e47-baa1-056d545f81ed",
   "metadata": {},
   "outputs": [
    {
     "data": {
      "text/plain": [
       "45.25547445255474"
      ]
     },
     "execution_count": 123,
     "metadata": {},
     "output_type": "execute_result"
    }
   ],
   "source": [
    "62/137*100"
   ]
  },
  {
   "cell_type": "markdown",
   "id": "c0162de6-8ac4-49f6-bebb-ef1fbcecba55",
   "metadata": {},
   "source": [
    "Bad calls :"
   ]
  },
  {
   "cell_type": "code",
   "execution_count": 121,
   "id": "57117da2-1a33-4c29-b07f-e5bfb6bed034",
   "metadata": {},
   "outputs": [],
   "source": [
    "total_bad_calls_helix, all_bad_calls_helix , TropiGAT_bad_calls_helix , TropiSeq_bad_calls_helix = get_bad_calls_metrics(raw_df_helix, to_ignore = phages_to_ignore)\n"
   ]
  },
  {
   "cell_type": "code",
   "execution_count": 122,
   "id": "9177f114-021f-43fa-acec-25a2c48fd777",
   "metadata": {},
   "outputs": [
    {
     "data": {
      "text/plain": [
       "(126, 104, 79, 89)"
      ]
     },
     "execution_count": 122,
     "metadata": {},
     "output_type": "execute_result"
    }
   ],
   "source": [
    "total_bad_calls_helix , len(all_bad_calls_helix) , len(TropiGAT_bad_calls_helix), len(TropiSeq_bad_calls_helix)"
   ]
  },
  {
   "cell_type": "code",
   "execution_count": 89,
   "id": "b6e597da-e5ba-4c87-b58a-5fc3bb31153f",
   "metadata": {
    "scrolled": true
   },
   "outputs": [
    {
     "data": {
      "text/plain": [
       "[('A1a', 'KL151'),\n",
       " ('A1b', 'KL157'),\n",
       " ('A1c', 'KL1'),\n",
       " ('A1d', 'KL20'),\n",
       " ('A1h', 'KL13'),\n",
       " ('A1i', 'KL126'),\n",
       " ('A1j', 'KL126'),\n",
       " ('A1j', 'KL61'),\n",
       " ('A1k', 'KL37'),\n",
       " ('A1l', 'KL37'),\n",
       " ('A1l', 'KL22'),\n",
       " ('A1m', 'KL37'),\n",
       " ('A1o', 'KL37'),\n",
       " ('A1q', 'KL37'),\n",
       " ('A1r', 'KL37'),\n",
       " ('A2a', 'KL126'),\n",
       " ('A2b', 'KL126'),\n",
       " ('A3b', 'KL30'),\n",
       " ('A3c', 'KL61'),\n",
       " ('A3d', 'KL61'),\n",
       " ('A3d', 'KL134'),\n",
       " ('D7b', 'KL140'),\n",
       " ('K11PH164C1', 'KL11'),\n",
       " ('K13PH07C1S', 'KL13'),\n",
       " ('K1PH164C1', 'KL1'),\n",
       " ('K22PH164C1', 'KL37'),\n",
       " ('K23PH08C2', 'KL58'),\n",
       " ('K23PH08C2', 'KL54'),\n",
       " ('K26PH128C1', 'KL26'),\n",
       " ('K2PH164C1', 'KL2'),\n",
       " ('K2alfa62', 'KL2'),\n",
       " ('K35PH164C3', 'KL30'),\n",
       " ('K35PH164C3', 'KL35'),\n",
       " ('K35PH164C3', 'KL36'),\n",
       " ('K37PH164C1', 'KL37'),\n",
       " ('K39PH122C2', 'KL39'),\n",
       " ('K39PH122C2', 'KL36'),\n",
       " ('K40PH129C1', 'KL40'),\n",
       " ('K42PH8', 'KL42'),\n",
       " ('K42PH8', 'KL36'),\n",
       " ('K43PH164C1', 'KL36'),\n",
       " ('K44PH129C1', 'KL37'),\n",
       " ('K44PH129C1', 'KL44'),\n",
       " ('K45PH128C2', 'KL71'),\n",
       " ('K51PH129C1', 'KL51'),\n",
       " ('K54lambda1_1_1', 'KL58'),\n",
       " ('K54lambda1_1_1', 'KL54'),\n",
       " ('K54lambda2', 'KL54'),\n",
       " ('K56PH164C1', 'KL56'),\n",
       " ('K57lambda1_2', 'KL68'),\n",
       " ('K58PH129C2', 'KL58'),\n",
       " ('K5lambda5', 'KL5'),\n",
       " ('K61PH164C1', 'KL67'),\n",
       " ('K61PH164C1', 'KL61'),\n",
       " ('K63PH128', 'KL63'),\n",
       " ('K66PH128C1', 'KL66'),\n",
       " ('K6PH25C3', 'KL7'),\n",
       " ('K6PH25C3', 'KL6'),\n",
       " ('K71PH129C1', 'KL71'),\n",
       " ('K82P1', 'KL82'),\n",
       " ('K8PH128', 'KL8'),\n",
       " ('K8PH128', 'KL1'),\n",
       " ('KBDEFBCI', 'KL35'),\n",
       " ('M12a', 'KL139'),\n",
       " ('M5a', 'KL55'),\n",
       " ('M5a', 'KL103'),\n",
       " ('M5b', 'KL37'),\n",
       " ('NBNDMPCG', 'KL35'),\n",
       " ('NEBGPKAL', 'KL2'),\n",
       " ('NJHLHPIG', 'KL35'),\n",
       " ('P4a', 'KL140'),\n",
       " ('P4b', 'KL140'),\n",
       " ('S10a', 'KL24'),\n",
       " ('S11a', 'KL24'),\n",
       " ('S13a', 'KL149'),\n",
       " ('S13a', 'KL102'),\n",
       " ('S13b', 'KL63'),\n",
       " ('S13c', 'KL149'),\n",
       " ('S13c', 'KL102')]"
      ]
     },
     "execution_count": 89,
     "metadata": {},
     "output_type": "execute_result"
    }
   ],
   "source": [
    "TropiGAT_bad_calls_helix"
   ]
  },
  {
   "cell_type": "code",
   "execution_count": 54,
   "id": "00173eb3-fb80-46bf-90cf-a231a26ad4b2",
   "metadata": {
    "scrolled": true
   },
   "outputs": [
    {
     "data": {
      "text/plain": [
       "Counter({'KL37': 10,\n",
       "         'KL22': 8,\n",
       "         'KL2': 7,\n",
       "         'KL126': 4,\n",
       "         'KL61': 4,\n",
       "         'KL35': 4,\n",
       "         'KL36': 4,\n",
       "         'KL1': 3,\n",
       "         'KL140': 3,\n",
       "         'KL58': 3,\n",
       "         'KL54': 3,\n",
       "         'KL16': 2,\n",
       "         'KL13': 2,\n",
       "         'KL30': 2,\n",
       "         'KL25': 2,\n",
       "         'KL71': 2,\n",
       "         'KL63': 2,\n",
       "         'KL24': 2,\n",
       "         'KL149': 2,\n",
       "         'KL102': 2,\n",
       "         'KL151': 1,\n",
       "         'KL157': 1,\n",
       "         'KL20': 1,\n",
       "         'KL134': 1,\n",
       "         'KL10': 1,\n",
       "         'KL57': 1,\n",
       "         'KL11': 1,\n",
       "         'KL14': 1,\n",
       "         'KL23': 1,\n",
       "         'KL26': 1,\n",
       "         'KL39': 1,\n",
       "         'KL40': 1,\n",
       "         'KL42': 1,\n",
       "         'KL44': 1,\n",
       "         'KL45': 1,\n",
       "         'KL46': 1,\n",
       "         'KL48': 1,\n",
       "         'KL51': 1,\n",
       "         'KL53': 1,\n",
       "         'KL56': 1,\n",
       "         'KL68': 1,\n",
       "         'KL5': 1,\n",
       "         'KL67': 1,\n",
       "         'KL64': 1,\n",
       "         'KL66': 1,\n",
       "         'KL7': 1,\n",
       "         'KL6': 1,\n",
       "         'KL82': 1,\n",
       "         'KL8': 1,\n",
       "         'KL139': 1,\n",
       "         'KL55': 1,\n",
       "         'KL103': 1,\n",
       "         'KL136': 1})"
      ]
     },
     "execution_count": 54,
     "metadata": {},
     "output_type": "execute_result"
    }
   ],
   "source": [
    "Counter([call[1] for call in TropiGAT_bad_calls_helix])"
   ]
  },
  {
   "cell_type": "code",
   "execution_count": 55,
   "id": "d0280bb9-65b3-4e63-b936-9f4ee1e2bff2",
   "metadata": {},
   "outputs": [
    {
     "data": {
      "text/plain": [
       "Counter({'KL37': 10,\n",
       "         'KL22': 8,\n",
       "         'KL2': 5,\n",
       "         'KL126': 4,\n",
       "         'KL61': 4,\n",
       "         'KL36': 4,\n",
       "         'KL1': 3,\n",
       "         'KL54': 3,\n",
       "         'KL58': 2,\n",
       "         'KL74': 2,\n",
       "         'KL71': 2,\n",
       "         'KL24': 2,\n",
       "         'KL149': 2,\n",
       "         'KL102': 2,\n",
       "         'KL20': 1,\n",
       "         'KL134': 1,\n",
       "         'KL10': 1,\n",
       "         'KL11': 1,\n",
       "         'KL13': 1,\n",
       "         'KL14': 1,\n",
       "         'KL17': 1,\n",
       "         'KL62': 1,\n",
       "         'KL26': 1,\n",
       "         'KL30': 1,\n",
       "         'KL38': 1,\n",
       "         'KL39': 1,\n",
       "         'KL40': 1,\n",
       "         'KL42': 1,\n",
       "         'KL43': 1,\n",
       "         'KL44': 1,\n",
       "         'KL45': 1,\n",
       "         'KL46': 1,\n",
       "         'KL48': 1,\n",
       "         'KL53': 1,\n",
       "         'KL56': 1,\n",
       "         'KL68': 1,\n",
       "         'KL5': 1,\n",
       "         'KL60': 1,\n",
       "         'KL18': 1,\n",
       "         'KL67': 1,\n",
       "         'KL66': 1,\n",
       "         'KL7': 1,\n",
       "         'KL6': 1,\n",
       "         'KL82': 1,\n",
       "         'KL8': 1,\n",
       "         'KL139': 1,\n",
       "         'KL55': 1,\n",
       "         'KL103': 1,\n",
       "         'KL110': 1,\n",
       "         'KL136': 1})"
      ]
     },
     "execution_count": 55,
     "metadata": {},
     "output_type": "execute_result"
    }
   ],
   "source": [
    "Counter([call[1] for call in TropiSeq_bad_calls_helix])"
   ]
  },
  {
   "cell_type": "code",
   "execution_count": 76,
   "id": "e6de10c1-d574-4b7d-82ef-886aec3467ba",
   "metadata": {},
   "outputs": [
    {
     "data": {
      "text/plain": [
       "[('A1a', 'KL151'),\n",
       " ('A1b', 'KL157'),\n",
       " ('A1g', 'KL16'),\n",
       " ('A1h', 'KL2'),\n",
       " ('A1h', 'KL13'),\n",
       " ('A3b', 'KL30'),\n",
       " ('D7b', 'KL140'),\n",
       " ('D7c', 'KL28'),\n",
       " ('K11PH164C1', 'KL57'),\n",
       " ('K15PH90', 'KL15'),\n",
       " ('K16PH164C3', 'KL16'),\n",
       " ('K17alfa62', 'KL17'),\n",
       " ('K23PH08C2', 'KL23'),\n",
       " ('K24PH164C1', 'KL24'),\n",
       " ('K25PH129C1', 'KL25'),\n",
       " ('K27PH129C1', 'KL27'),\n",
       " ('K2PH164C2', 'KL2'),\n",
       " ('K35PH164C3', 'KL35'),\n",
       " ('K51PH129C1', 'KL51'),\n",
       " ('K54lambda1_1_1', 'KL24'),\n",
       " ('K57lambda1_2', 'KL57'),\n",
       " ('K58PH129C2', 'KL58'),\n",
       " ('K63PH128', 'KL63'),\n",
       " ('K64PH164C4', 'KL64'),\n",
       " ('KBDEFBCI', 'KL35'),\n",
       " ('LCALLHIG', 'KL3'),\n",
       " ('NBNDMPCG', 'KL2'),\n",
       " ('NBNDMPCG', 'KL35'),\n",
       " ('NJHLHPIG', 'KL35'),\n",
       " ('OPBIHMGG', 'KL3'),\n",
       " ('P4a', 'KL140'),\n",
       " ('P4b', 'KL140'),\n",
       " ('PFOEGONH', 'KL3'),\n",
       " ('S10a', 'KL25'),\n",
       " ('S11a', 'KL25'),\n",
       " ('S13b', 'KL63'),\n",
       " ('S13d', 'KL14')]"
      ]
     },
     "execution_count": 76,
     "metadata": {},
     "output_type": "execute_result"
    }
   ],
   "source": [
    "TropiSeq_good_calls_helix"
   ]
  },
  {
   "cell_type": "code",
   "execution_count": 77,
   "id": "f6626270-8a6a-4b4c-aa27-c22638e786f7",
   "metadata": {},
   "outputs": [
    {
     "data": {
      "text/plain": [
       "Counter({'KL35': 4,\n",
       "         'KL2': 3,\n",
       "         'KL140': 3,\n",
       "         'KL25': 3,\n",
       "         'KL3': 3,\n",
       "         'KL16': 2,\n",
       "         'KL57': 2,\n",
       "         'KL24': 2,\n",
       "         'KL63': 2,\n",
       "         'KL151': 1,\n",
       "         'KL157': 1,\n",
       "         'KL13': 1,\n",
       "         'KL30': 1,\n",
       "         'KL28': 1,\n",
       "         'KL15': 1,\n",
       "         'KL17': 1,\n",
       "         'KL23': 1,\n",
       "         'KL27': 1,\n",
       "         'KL51': 1,\n",
       "         'KL58': 1,\n",
       "         'KL64': 1,\n",
       "         'KL14': 1})"
      ]
     },
     "execution_count": 77,
     "metadata": {},
     "output_type": "execute_result"
    }
   ],
   "source": [
    "Counter([call[1] for call in TropiSeq_good_calls_helix])"
   ]
  },
  {
   "cell_type": "code",
   "execution_count": 78,
   "id": "e1d06658-43b7-4020-a5d7-2afdd7199cf1",
   "metadata": {
    "collapsed": true,
    "jupyter": {
     "outputs_hidden": true
    },
    "scrolled": true
   },
   "outputs": [
    {
     "data": {
      "text/plain": [
       "[('D7c', 'KL28'),\n",
       " ('K15PH90', 'KL15'),\n",
       " ('K17alfa61', 'KL17'),\n",
       " ('K17alfa62', 'KL62'),\n",
       " ('K17alfa62', 'KL17'),\n",
       " ('K24PH164C1', 'KL24'),\n",
       " ('K26PH128C1', 'KL74'),\n",
       " ('K27PH129C1', 'KL27'),\n",
       " ('K38PH09C2', 'KL38'),\n",
       " ('K43PH164C1', 'KL43'),\n",
       " ('K54lambda1_1_1', 'KL24'),\n",
       " ('K57lambda1_2', 'KL57'),\n",
       " ('K60PH164C1', 'KL18'),\n",
       " ('K60PH164C1', 'KL60'),\n",
       " ('K74PH129C2', 'KL74'),\n",
       " ('LCALLHIG', 'KL3'),\n",
       " ('NBNDMPCG', 'KL2'),\n",
       " ('OPBIHMGG', 'KL3'),\n",
       " ('PFOEGONH', 'KL3'),\n",
       " ('PP187', 'KL110'),\n",
       " ('S11a', 'KL25'),\n",
       " ('S13d', 'KL14')]"
      ]
     },
     "execution_count": 78,
     "metadata": {},
     "output_type": "execute_result"
    }
   ],
   "source": [
    "TropiGAT_good_calls_helix"
   ]
  },
  {
   "cell_type": "code",
   "execution_count": 79,
   "id": "c557dd3c-6f3d-4689-a581-4085a89d6130",
   "metadata": {},
   "outputs": [
    {
     "data": {
      "text/plain": [
       "Counter({'KL3': 3,\n",
       "         'KL17': 2,\n",
       "         'KL24': 2,\n",
       "         'KL74': 2,\n",
       "         'KL28': 1,\n",
       "         'KL15': 1,\n",
       "         'KL62': 1,\n",
       "         'KL27': 1,\n",
       "         'KL38': 1,\n",
       "         'KL43': 1,\n",
       "         'KL57': 1,\n",
       "         'KL18': 1,\n",
       "         'KL60': 1,\n",
       "         'KL2': 1,\n",
       "         'KL110': 1,\n",
       "         'KL25': 1,\n",
       "         'KL14': 1})"
      ]
     },
     "execution_count": 79,
     "metadata": {},
     "output_type": "execute_result"
    }
   ],
   "source": [
    "Counter([call[1] for call in TropiGAT_good_calls_helix])"
   ]
  },
  {
   "cell_type": "code",
   "execution_count": 90,
   "id": "4f7058b9-805f-482a-9a6d-fc2fe92bdf4c",
   "metadata": {},
   "outputs": [
    {
     "data": {
      "text/plain": [
       "73"
      ]
     },
     "execution_count": 90,
     "metadata": {},
     "output_type": "execute_result"
    }
   ],
   "source": [
    "# Number of phage with at least one good call : \n",
    "all_phages_called = [call[0] for call in TropiGAT_good_calls+TropiSeq_good_calls]\n",
    "Counter(all_phages_called)\n",
    "\n",
    "len(set(all_phages_called))"
   ]
  },
  {
   "cell_type": "code",
   "execution_count": null,
   "id": "3af8721d-7c97-4fe5-aa3b-c0c9a09881f1",
   "metadata": {},
   "outputs": [],
   "source": []
  },
  {
   "cell_type": "markdown",
   "id": "caf22c93-e29a-4310-9096-2ea703c981e2",
   "metadata": {},
   "source": [
    "> Differences :"
   ]
  },
  {
   "cell_type": "code",
   "execution_count": null,
   "id": "b1c679b9-570e-4aa1-8091-fdb9f85b8d2e",
   "metadata": {},
   "outputs": [],
   "source": []
  },
  {
   "cell_type": "code",
   "execution_count": 110,
   "id": "238eb3a6-8a42-4bf8-9d49-7899149a1de1",
   "metadata": {},
   "outputs": [],
   "source": [
    "tropigat_only_beta = set(TropiGAT_good_calls_helix) - set(TropiSeq_good_calls_helix)\n",
    "tropiseq_only_beta = set(TropiSeq_good_calls_helix) - set(TropiGAT_good_calls_helix)"
   ]
  },
  {
   "cell_type": "code",
   "execution_count": 111,
   "id": "841bb934-402d-43bd-ada2-cbae631bf20b",
   "metadata": {},
   "outputs": [
    {
     "data": {
      "text/plain": [
       "{('A1k', 'KL22'),\n",
       " ('A1m', 'KL22'),\n",
       " ('A1o', 'KL22'),\n",
       " ('A1q', 'KL22'),\n",
       " ('A1r', 'KL22'),\n",
       " ('HIIECEMK', 'KL2'),\n",
       " ('K10PH82C1', 'KL10'),\n",
       " ('K14PH164C1', 'KL14'),\n",
       " ('K17alfa61', 'KL17'),\n",
       " ('K17alfa62', 'KL62'),\n",
       " ('K22PH164C1', 'KL22'),\n",
       " ('K26PH128C1', 'KL74'),\n",
       " ('K37PH164C1', 'KL2'),\n",
       " ('K38PH09C2', 'KL38'),\n",
       " ('K43PH164C1', 'KL43'),\n",
       " ('K45PH128C2', 'KL45'),\n",
       " ('K46PH129', 'KL46'),\n",
       " ('K48PH164C1', 'KL48'),\n",
       " ('K53PH164C2', 'KL53'),\n",
       " ('K60PH164C1', 'KL18'),\n",
       " ('K60PH164C1', 'KL60'),\n",
       " ('K74PH129C2', 'KL74'),\n",
       " ('M5b', 'KL22'),\n",
       " ('PP187', 'KL110'),\n",
       " ('S13e', 'KL136')}"
      ]
     },
     "execution_count": 111,
     "metadata": {},
     "output_type": "execute_result"
    }
   ],
   "source": [
    "tropigat_only_beta"
   ]
  },
  {
   "cell_type": "code",
   "execution_count": 112,
   "id": "adf5e74f-7bf9-42af-b0fa-f2ead73e2abe",
   "metadata": {},
   "outputs": [
    {
     "data": {
      "text/plain": [
       "{('A1a', 'KL151'),\n",
       " ('A1b', 'KL157'),\n",
       " ('A1h', 'KL13'),\n",
       " ('A3b', 'KL30'),\n",
       " ('D7b', 'KL140'),\n",
       " ('K35PH164C3', 'KL35'),\n",
       " ('K51PH129C1', 'KL51'),\n",
       " ('K58PH129C2', 'KL58'),\n",
       " ('K63PH128', 'KL63'),\n",
       " ('KBDEFBCI', 'KL35'),\n",
       " ('NBNDMPCG', 'KL35'),\n",
       " ('NJHLHPIG', 'KL35'),\n",
       " ('P4a', 'KL140'),\n",
       " ('P4b', 'KL140'),\n",
       " ('S13b', 'KL63')}"
      ]
     },
     "execution_count": 112,
     "metadata": {},
     "output_type": "execute_result"
    }
   ],
   "source": [
    "tropiseq_only_beta"
   ]
  },
  {
   "cell_type": "code",
   "execution_count": null,
   "id": "e10a366d-84d5-4076-8c9b-07009414afbe",
   "metadata": {},
   "outputs": [],
   "source": []
  },
  {
   "cell_type": "code",
   "execution_count": null,
   "id": "c195d023-b324-48d4-919b-e65b3000d4cc",
   "metadata": {},
   "outputs": [],
   "source": []
  },
  {
   "cell_type": "code",
   "execution_count": 106,
   "id": "62fd33f7-f5e2-4bfb-853c-766231ba8a3d",
   "metadata": {},
   "outputs": [],
   "source": [
    "tropigat_only = set(TropiGAT_good_calls) - set(TropiSeq_good_calls)\n",
    "tropiseq_only = set(TropiSeq_good_calls) - set(TropiGAT_good_calls)"
   ]
  },
  {
   "cell_type": "code",
   "execution_count": 107,
   "id": "deeb89dc-9f07-476f-ba8c-0188785c9ad2",
   "metadata": {
    "scrolled": true
   },
   "outputs": [
    {
     "data": {
      "text/plain": [
       "{('A1k', 'KL22'),\n",
       " ('A1m', 'KL22'),\n",
       " ('A1o', 'KL22'),\n",
       " ('A1q', 'KL22'),\n",
       " ('A1r', 'KL22'),\n",
       " ('DJLANJJD', 'KL14'),\n",
       " ('DJLANJJD', 'KL38'),\n",
       " ('DJLANJJD', 'KL57'),\n",
       " ('EHPPICDA', 'KL38'),\n",
       " ('EHPPICDA', 'KL57'),\n",
       " ('EKPIEFBL', 'KL29'),\n",
       " ('EKPIEFBL', 'KL38'),\n",
       " ('EKPIEFBL', 'KL53'),\n",
       " ('EKPIEFBL', 'KL57'),\n",
       " ('EKPIEFBL', 'KL74'),\n",
       " ('FADJDIKG', 'KL57'),\n",
       " ('FADJDIKG', 'KL74'),\n",
       " ('GCLPFEGH', 'KL38'),\n",
       " ('GCLPFEGH', 'KL57'),\n",
       " ('HIIECEMK', 'KL2'),\n",
       " ('INMBNBLA', 'KL29'),\n",
       " ('INMBNBLA', 'KL38'),\n",
       " ('INMBNBLA', 'KL53'),\n",
       " ('INMBNBLA', 'KL57'),\n",
       " ('IPGJFKPH', 'KL38'),\n",
       " ('IPGJFKPH', 'KL57'),\n",
       " ('IPGJFKPH', 'KL74'),\n",
       " ('K10PH82C1', 'KL10'),\n",
       " ('K14PH164C1', 'KL14'),\n",
       " ('K17alfa61', 'KL17'),\n",
       " ('K17alfa62', 'KL62'),\n",
       " ('K19PH14C4P1', 'KL19'),\n",
       " ('K22PH164C1', 'KL22'),\n",
       " ('K26PH128C1', 'KL74'),\n",
       " ('K29PH164C1', 'KL24'),\n",
       " ('K35PH164C3', 'KL30'),\n",
       " ('K35PH164C3', 'KL36'),\n",
       " ('K37PH164C1', 'KL2'),\n",
       " ('K38PH09C2', 'KL38'),\n",
       " ('K43PH164C1', 'KL36'),\n",
       " ('K43PH164C1', 'KL43'),\n",
       " ('K45PH128C2', 'KL45'),\n",
       " ('K46PH129', 'KL46'),\n",
       " ('K48PH164C1', 'KL48'),\n",
       " ('K53PH164C2', 'KL53'),\n",
       " ('K59PH2', 'KL30'),\n",
       " ('K60PH164C1', 'KL18'),\n",
       " ('K60PH164C1', 'KL60'),\n",
       " ('K65PH164', 'KL27'),\n",
       " ('K74PH129C2', 'KL74'),\n",
       " ('M5b', 'KL22'),\n",
       " ('POFPNCPI', 'KL38'),\n",
       " ('POFPNCPI', 'KL57'),\n",
       " ('PP187', 'KL110'),\n",
       " ('S13e', 'KL136')}"
      ]
     },
     "execution_count": 107,
     "metadata": {},
     "output_type": "execute_result"
    }
   ],
   "source": [
    "tropigat_only"
   ]
  },
  {
   "cell_type": "code",
   "execution_count": 108,
   "id": "0ac1c36c-7d06-4828-bb71-9e8916db9603",
   "metadata": {},
   "outputs": [
    {
     "data": {
      "text/plain": [
       "{('A1a', 'KL151'),\n",
       " ('A1b', 'KL157'),\n",
       " ('A1h', 'KL13'),\n",
       " ('D7b', 'KL140'),\n",
       " ('K35PH164C3', 'KL35'),\n",
       " ('K4PH164', 'KL4'),\n",
       " ('K51PH129C1', 'KL51'),\n",
       " ('K58PH129C2', 'KL58'),\n",
       " ('K63PH128', 'KL63'),\n",
       " ('K9PH25C2', 'KL9'),\n",
       " ('KBDEFBCI', 'KL35'),\n",
       " ('NBNDMPCG', 'KL35'),\n",
       " ('NJHLHPIG', 'KL35'),\n",
       " ('P4a', 'KL140'),\n",
       " ('P4b', 'KL140'),\n",
       " ('S13b', 'KL63')}"
      ]
     },
     "execution_count": 108,
     "metadata": {},
     "output_type": "execute_result"
    }
   ],
   "source": [
    "tropiseq_only"
   ]
  },
  {
   "cell_type": "code",
   "execution_count": 94,
   "id": "813d5bf7-ff69-475b-a855-82a7a6884792",
   "metadata": {},
   "outputs": [
    {
     "data": {
      "text/plain": [
       "Counter({'KL35': 4,\n",
       "         'KL140': 3,\n",
       "         'KL63': 2,\n",
       "         'KL51': 1,\n",
       "         'KL9': 1,\n",
       "         'KL4': 1,\n",
       "         'KL151': 1,\n",
       "         'KL157': 1,\n",
       "         'KL58': 1,\n",
       "         'KL13': 1})"
      ]
     },
     "execution_count": 94,
     "metadata": {},
     "output_type": "execute_result"
    }
   ],
   "source": [
    "kl_tropiseq_only = [kl[1] for kl in tropiseq_only]\n",
    "Counter(kl_tropiseq_only)"
   ]
  },
  {
   "cell_type": "code",
   "execution_count": 109,
   "id": "0c48bd44-8c70-42c4-baca-f28d9b8f70ec",
   "metadata": {},
   "outputs": [
    {
     "data": {
      "text/plain": [
       "Counter({'KL38': 8,\n",
       "         'KL57': 8,\n",
       "         'KL22': 7,\n",
       "         'KL74': 5,\n",
       "         'KL53': 3,\n",
       "         'KL14': 2,\n",
       "         'KL30': 2,\n",
       "         'KL36': 2,\n",
       "         'KL2': 2,\n",
       "         'KL29': 2,\n",
       "         'KL19': 1,\n",
       "         'KL27': 1,\n",
       "         'KL18': 1,\n",
       "         'KL62': 1,\n",
       "         'KL10': 1,\n",
       "         'KL17': 1,\n",
       "         'KL46': 1,\n",
       "         'KL45': 1,\n",
       "         'KL136': 1,\n",
       "         'KL48': 1,\n",
       "         'KL43': 1,\n",
       "         'KL24': 1,\n",
       "         'KL110': 1,\n",
       "         'KL60': 1})"
      ]
     },
     "execution_count": 109,
     "metadata": {},
     "output_type": "execute_result"
    }
   ],
   "source": [
    "kl_tropigat_only = [kl[1] for kl in tropigat_only]\n",
    "Counter(kl_tropigat_only)"
   ]
  },
  {
   "cell_type": "code",
   "execution_count": 99,
   "id": "5745482c-97a7-4386-9de7-b078336262c5",
   "metadata": {},
   "outputs": [
    {
     "data": {
      "text/html": [
       "<div>\n",
       "<style scoped>\n",
       "    .dataframe tbody tr th:only-of-type {\n",
       "        vertical-align: middle;\n",
       "    }\n",
       "\n",
       "    .dataframe tbody tr th {\n",
       "        vertical-align: top;\n",
       "    }\n",
       "\n",
       "    .dataframe thead th {\n",
       "        text-align: right;\n",
       "    }\n",
       "</style>\n",
       "<table border=\"1\" class=\"dataframe\">\n",
       "  <thead>\n",
       "    <tr style=\"text-align: right;\">\n",
       "      <th></th>\n",
       "      <th>Phage</th>\n",
       "      <th>Protein</th>\n",
       "      <th>Folds</th>\n",
       "      <th>TropiGAT_predictions</th>\n",
       "      <th>TropiGAT_good_calls</th>\n",
       "      <th>TropiSeq_predictions</th>\n",
       "      <th>TropiSeq_good_calls</th>\n",
       "      <th>Targets</th>\n",
       "    </tr>\n",
       "  </thead>\n",
       "  <tbody>\n",
       "    <tr>\n",
       "      <th>0</th>\n",
       "      <td>A1a</td>\n",
       "      <td>A1a_00002</td>\n",
       "      <td>6-bladed beta-propeller</td>\n",
       "      <td>KL111:0.983 ; KL123:0.982 ; KL45:0.973 ; KL24:...</td>\n",
       "      <td>0</td>\n",
       "      <td>KL102: 0.691</td>\n",
       "      <td>0</td>\n",
       "      <td>KL151</td>\n",
       "    </tr>\n",
       "    <tr>\n",
       "      <th>3</th>\n",
       "      <td>A1b</td>\n",
       "      <td>A1b_00036</td>\n",
       "      <td>6-bladed beta-propeller</td>\n",
       "      <td>KL123:0.998 ; KL111:0.983 ; KL128:0.982 ; KL45...</td>\n",
       "      <td>0</td>\n",
       "      <td>KL102: 0.691</td>\n",
       "      <td>0</td>\n",
       "      <td>KL157</td>\n",
       "    </tr>\n",
       "    <tr>\n",
       "      <th>4</th>\n",
       "      <td>A1c</td>\n",
       "      <td>A1c_00046</td>\n",
       "      <td>6-bladed beta-propeller</td>\n",
       "      <td>KL123:0.994 ; KL24:0.982 ; KL45:0.953 ; KL111:...</td>\n",
       "      <td>0</td>\n",
       "      <td>KL102: 0.691</td>\n",
       "      <td>0</td>\n",
       "      <td>KL1</td>\n",
       "    </tr>\n",
       "    <tr>\n",
       "      <th>6</th>\n",
       "      <td>A1d</td>\n",
       "      <td>A1d_00013</td>\n",
       "      <td>6-bladed beta-propeller</td>\n",
       "      <td>KL123:0.989 ; KL45:0.959 ; KL111:0.954 ; KL14:...</td>\n",
       "      <td>0</td>\n",
       "      <td>KL102: 0.691</td>\n",
       "      <td>0</td>\n",
       "      <td>KL20</td>\n",
       "    </tr>\n",
       "    <tr>\n",
       "      <th>8</th>\n",
       "      <td>A1e</td>\n",
       "      <td>A1e_00024</td>\n",
       "      <td>6-bladed beta-propeller</td>\n",
       "      <td>KL123:0.991 ; KL111:0.962 ; KL45:0.949 ; KL14:...</td>\n",
       "      <td>0</td>\n",
       "      <td>KL102: 0.691</td>\n",
       "      <td>0</td>\n",
       "      <td>pass (wzi-K?)</td>\n",
       "    </tr>\n",
       "    <tr>\n",
       "      <th>...</th>\n",
       "      <td>...</td>\n",
       "      <td>...</td>\n",
       "      <td>...</td>\n",
       "      <td>...</td>\n",
       "      <td>...</td>\n",
       "      <td>...</td>\n",
       "      <td>...</td>\n",
       "      <td>...</td>\n",
       "    </tr>\n",
       "    <tr>\n",
       "      <th>178</th>\n",
       "      <td>K74PH129C2</td>\n",
       "      <td>K74PH129C2__cds_46</td>\n",
       "      <td>6-bladed beta-propeller</td>\n",
       "      <td>KL24:0.999 ; KL123:0.994 ; KL102:0.976 ; KL15:...</td>\n",
       "      <td>0</td>\n",
       "      <td>KL102: 0.691</td>\n",
       "      <td>0</td>\n",
       "      <td>KL74</td>\n",
       "    </tr>\n",
       "    <tr>\n",
       "      <th>182</th>\n",
       "      <td>K82P1</td>\n",
       "      <td>K82P1__cds_40</td>\n",
       "      <td>6-bladed beta-propeller</td>\n",
       "      <td>KL24:0.999 ; KL123:0.994 ; KL102:0.971 ; KL23:...</td>\n",
       "      <td>0</td>\n",
       "      <td>KL102: 0.691</td>\n",
       "      <td>0</td>\n",
       "      <td>KL82</td>\n",
       "    </tr>\n",
       "    <tr>\n",
       "      <th>184</th>\n",
       "      <td>K8PH128</td>\n",
       "      <td>K8PH128__cds_41</td>\n",
       "      <td>6-bladed beta-propeller</td>\n",
       "      <td>KL24:0.999 ; KL123:0.994 ; KL102:0.971 ; KL23:...</td>\n",
       "      <td>0</td>\n",
       "      <td>KL102: 0.691</td>\n",
       "      <td>0</td>\n",
       "      <td>KL1,KL8</td>\n",
       "    </tr>\n",
       "    <tr>\n",
       "      <th>202</th>\n",
       "      <td>NEBGPKAL</td>\n",
       "      <td>NEBGPKAL_00013</td>\n",
       "      <td>6-bladed beta-propeller</td>\n",
       "      <td>KL123:0.99 ; KL111:0.988 ; KL45:0.962 ; KL128:...</td>\n",
       "      <td>0</td>\n",
       "      <td>KL102: 0.691</td>\n",
       "      <td>0</td>\n",
       "      <td>KL2</td>\n",
       "    </tr>\n",
       "    <tr>\n",
       "      <th>215</th>\n",
       "      <td>POFPNCPI</td>\n",
       "      <td>POFPNCPI_00246</td>\n",
       "      <td>6-bladed beta-propeller</td>\n",
       "      <td>KL12:0.997 ; KL18:0.994 ; KL123:0.993 ; KL46:0...</td>\n",
       "      <td>KL57,KL38</td>\n",
       "      <td>No hits</td>\n",
       "      <td>0</td>\n",
       "      <td>KL158,KL3,KL38,KL57,KL14,KL4,KL53,KL2,KL28,KL29</td>\n",
       "    </tr>\n",
       "  </tbody>\n",
       "</table>\n",
       "<p>74 rows × 8 columns</p>\n",
       "</div>"
      ],
      "text/plain": [
       "          Phage             Protein                    Folds  \\\n",
       "0           A1a           A1a_00002  6-bladed beta-propeller   \n",
       "3           A1b           A1b_00036  6-bladed beta-propeller   \n",
       "4           A1c           A1c_00046  6-bladed beta-propeller   \n",
       "6           A1d           A1d_00013  6-bladed beta-propeller   \n",
       "8           A1e           A1e_00024  6-bladed beta-propeller   \n",
       "..          ...                 ...                      ...   \n",
       "178  K74PH129C2  K74PH129C2__cds_46  6-bladed beta-propeller   \n",
       "182       K82P1       K82P1__cds_40  6-bladed beta-propeller   \n",
       "184     K8PH128     K8PH128__cds_41  6-bladed beta-propeller   \n",
       "202    NEBGPKAL      NEBGPKAL_00013  6-bladed beta-propeller   \n",
       "215    POFPNCPI      POFPNCPI_00246  6-bladed beta-propeller   \n",
       "\n",
       "                                  TropiGAT_predictions TropiGAT_good_calls  \\\n",
       "0    KL111:0.983 ; KL123:0.982 ; KL45:0.973 ; KL24:...                   0   \n",
       "3    KL123:0.998 ; KL111:0.983 ; KL128:0.982 ; KL45...                   0   \n",
       "4    KL123:0.994 ; KL24:0.982 ; KL45:0.953 ; KL111:...                   0   \n",
       "6    KL123:0.989 ; KL45:0.959 ; KL111:0.954 ; KL14:...                   0   \n",
       "8    KL123:0.991 ; KL111:0.962 ; KL45:0.949 ; KL14:...                   0   \n",
       "..                                                 ...                 ...   \n",
       "178  KL24:0.999 ; KL123:0.994 ; KL102:0.976 ; KL15:...                   0   \n",
       "182  KL24:0.999 ; KL123:0.994 ; KL102:0.971 ; KL23:...                   0   \n",
       "184  KL24:0.999 ; KL123:0.994 ; KL102:0.971 ; KL23:...                   0   \n",
       "202  KL123:0.99 ; KL111:0.988 ; KL45:0.962 ; KL128:...                   0   \n",
       "215  KL12:0.997 ; KL18:0.994 ; KL123:0.993 ; KL46:0...           KL57,KL38   \n",
       "\n",
       "    TropiSeq_predictions TropiSeq_good_calls  \\\n",
       "0           KL102: 0.691                   0   \n",
       "3           KL102: 0.691                   0   \n",
       "4           KL102: 0.691                   0   \n",
       "6           KL102: 0.691                   0   \n",
       "8           KL102: 0.691                   0   \n",
       "..                   ...                 ...   \n",
       "178         KL102: 0.691                   0   \n",
       "182         KL102: 0.691                   0   \n",
       "184         KL102: 0.691                   0   \n",
       "202         KL102: 0.691                   0   \n",
       "215              No hits                   0   \n",
       "\n",
       "                                             Targets  \n",
       "0                                              KL151  \n",
       "3                                              KL157  \n",
       "4                                                KL1  \n",
       "6                                               KL20  \n",
       "8                                      pass (wzi-K?)  \n",
       "..                                               ...  \n",
       "178                                             KL74  \n",
       "182                                             KL82  \n",
       "184                                          KL1,KL8  \n",
       "202                                              KL2  \n",
       "215  KL158,KL3,KL38,KL57,KL14,KL4,KL53,KL2,KL28,KL29  \n",
       "\n",
       "[74 rows x 8 columns]"
      ]
     },
     "execution_count": 99,
     "metadata": {},
     "output_type": "execute_result"
    }
   ],
   "source": [
    "df_propeller = raw_df[raw_df[\"Folds\"] == \"6-bladed beta-propeller\"]\n",
    "df_propeller"
   ]
  },
  {
   "cell_type": "code",
   "execution_count": 100,
   "id": "d82ad54f-81cf-4843-bde7-2cf8f8446f6a",
   "metadata": {},
   "outputs": [],
   "source": [
    "total_calls_propeller, all_calls_propeller , TropiGAT_good_calls_propeller , TropiSeq_good_calls_propeller = get_calls_metrics(df_propeller, to_ignore = phages_to_ignore)\n"
   ]
  },
  {
   "cell_type": "code",
   "execution_count": 102,
   "id": "4501d268-3569-442f-abaa-4fb2785ab66c",
   "metadata": {},
   "outputs": [
    {
     "data": {
      "text/plain": [
       "(193, 30, 29, 2)"
      ]
     },
     "execution_count": 102,
     "metadata": {},
     "output_type": "execute_result"
    }
   ],
   "source": [
    "total_calls_propeller , len(all_calls_propeller) , len(TropiGAT_good_calls_propeller), len(TropiSeq_good_calls_propeller)"
   ]
  },
  {
   "cell_type": "code",
   "execution_count": null,
   "id": "d4a47ded-18b5-4fbe-a0a1-ec83fb14e3c6",
   "metadata": {},
   "outputs": [],
   "source": []
  }
 ],
 "metadata": {
  "kernelspec": {
   "display_name": "ML_work",
   "language": "python",
   "name": "ml_work"
  },
  "language_info": {
   "codemirror_mode": {
    "name": "ipython",
    "version": 3
   },
   "file_extension": ".py",
   "mimetype": "text/x-python",
   "name": "python",
   "nbconvert_exporter": "python",
   "pygments_lexer": "ipython3",
   "version": "3.11.4"
  },
  "widgets": {
   "application/vnd.jupyter.widget-state+json": {
    "state": {},
    "version_major": 2,
    "version_minor": 0
   }
  }
 },
 "nbformat": 4,
 "nbformat_minor": 5
}
