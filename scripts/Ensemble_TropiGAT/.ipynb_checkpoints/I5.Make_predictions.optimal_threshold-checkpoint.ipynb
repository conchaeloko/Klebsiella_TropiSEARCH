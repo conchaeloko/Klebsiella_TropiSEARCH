{
 "cells": [
  {
   "cell_type": "code",
   "execution_count": null,
   "id": "1c3f7386-2112-49cc-99fd-bf8be42dfade",
   "metadata": {
    "scrolled": true
   },
   "outputs": [],
   "source": [
    "from torch_geometric.data import HeteroData, DataLoader\n",
    "import torch_geometric.transforms as T\n",
    "from torch_geometric.nn import to_hetero , HeteroConv , GATv2Conv\n",
    "from torch_geometric.utils import negative_sampling\n",
    "from torch_geometric.loader import LinkNeighborLoader\n",
    "import torch\n",
    "from torch import nn\n",
    "import torch.nn.functional as F\n",
    "import torch.optim as optim\n",
    "\n",
    "from sklearn.model_selection import train_test_split, StratifiedKFold\n",
    "from sklearn.preprocessing import LabelEncoder , label_binarize , OneHotEncoder\n",
    "from sklearn.metrics import accuracy_score, precision_score, recall_score, f1_score, roc_auc_score , matthews_corrcoef\n",
    "\n",
    "import TropiGAT_functions \n",
    "#from TropiGAT_functions import get_top_n_kltypes ,clean_print \n",
    "\n",
    "import os\n",
    "import json\n",
    "import pandas as pd\n",
    "import numpy as np\n",
    "from tqdm import tqdm\n",
    "from itertools import product\n",
    "import random\n",
    "from collections import Counter\n",
    "import warnings\n",
    "import logging\n",
    "from multiprocessing.pool import ThreadPool\n",
    "warnings.filterwarnings(\"ignore\")\n",
    "\n",
    "# *****************************************************************************\n",
    "# Load the Dataframes :\n",
    "path_work = \"/media/concha-eloko/Linux/PPT_clean\"\n",
    "path_ensemble = f\"{path_work}/ficheros_28032023/winning_ensemble_0702\"\n",
    "#path_ensemble = f\"{path_work}/ficheros_28032023/ensemble_tailored_0612\"\n"
   ]
  },
  {
   "cell_type": "markdown",
   "id": "7fb4c4bd-ecae-4972-9f28-b98790e2619a",
   "metadata": {},
   "source": [
    "> Make model : "
   ]
  },
  {
   "cell_type": "code",
   "execution_count": null,
   "id": "e306d6b4-158b-4fef-a918-bfe139bc464b",
   "metadata": {},
   "outputs": [],
   "source": [
    "dico_models, errors = TropiGAT_functions.make_ensemble_TropiGAT(path_ensemble)"
   ]
  },
  {
   "cell_type": "code",
   "execution_count": 1,
   "id": "f5f0ff3a-9303-4a16-b809-c547d19cc192",
   "metadata": {},
   "outputs": [],
   "source": [
    "dico_t = {'KL1': {'optimal_MCC': 0.795242772487544, 'optimal_t': 0.23232323232323235},\n",
    " 'KL10': {'optimal_MCC': 0.7818181818181819, 'optimal_t': 0.595959595959596},\n",
    " 'KL102': {'optimal_MCC': 0.8733335395405587, 'optimal_t': 0.686868686868687},\n",
    " 'KL105': {'optimal_MCC': 0.9452073465116987, 'optimal_t': 0.696969696969697},\n",
    " 'KL106': {'optimal_MCC': 0.8175155958303386, 'optimal_t': 0.5353535353535354},\n",
    " 'KL107': {'optimal_MCC': 0.8755668091455752, 'optimal_t': 0.6767676767676768},\n",
    " 'KL108': {'optimal_MCC': 0.8366600265340756, 'optimal_t': 0.6565656565656566},\n",
    " 'KL110': {'optimal_MCC': 1.0, 'optimal_t': 0.22222222222222224},\n",
    " 'KL111': {'optimal_MCC': 0.9116846116771036, 'optimal_t': 0.7373737373737375},\n",
    " 'KL112': {'optimal_MCC': 0.8980265101338746, 'optimal_t': 0.42424242424242425},\n",
    " 'KL114': {'optimal_MCC': 0.7817359599705717, 'optimal_t': 0.686868686868687},\n",
    " 'KL116': {'optimal_MCC': 1.0, 'optimal_t': 0.16161616161616163},\n",
    " 'KL118': {'optimal_MCC': 1.0, 'optimal_t': 0.48484848484848486},\n",
    " 'KL12': {'optimal_MCC': 0.7302967433402215, 'optimal_t': 0.37373737373737376},\n",
    " 'KL122': {'optimal_MCC': 0.6831300510639733, 'optimal_t': 0.9090909090909092},\n",
    " 'KL123': {'optimal_MCC': 0.6546536707079772, 'optimal_t': 0.6363636363636365},\n",
    " 'KL125': {'optimal_MCC': 0.6813851438692469, 'optimal_t': 0.8989898989898991},\n",
    " 'KL127': {'optimal_MCC': 0.5443310539518174, 'optimal_t': 0.8181818181818182},\n",
    " 'KL128': {'optimal_MCC': 0.778498944161523, 'optimal_t': 0.7676767676767677},\n",
    " 'KL13': {'optimal_MCC': 0.7784989441615229, 'optimal_t': 0.696969696969697},\n",
    " 'KL136': {'optimal_MCC': 0.8385254915624211, 'optimal_t': 0.5050505050505051},\n",
    " 'KL14': {'optimal_MCC': 0.7627700713964739, 'optimal_t': 0.9494949494949496},\n",
    " 'KL145': {'optimal_MCC': 1.0, 'optimal_t': 0.4747474747474748},\n",
    " 'KL149': {'optimal_MCC': 0.8563488385776753, 'optimal_t': 0.3434343434343435},\n",
    " 'KL15': {'optimal_MCC': 0.8288922659741738, 'optimal_t': 0.6060606060606061},\n",
    " 'KL151': {'optimal_MCC': 0.8, 'optimal_t': 0.4545454545454546},\n",
    " 'KL16': {'optimal_MCC': 0.7844645405527361, 'optimal_t': 0.38383838383838387},\n",
    " 'KL169': {'optimal_MCC': 0.6504436355879909, 'optimal_t': 0.26262626262626265},\n",
    " 'KL17': {'optimal_MCC': 0.9628839072479044, 'optimal_t': 0.6767676767676768},\n",
    " 'KL18': {'optimal_MCC': 0.6396021490668313, 'optimal_t': 0.36363636363636365},\n",
    " 'KL19': {'optimal_MCC': 0.9223309842157773, 'optimal_t': 0.5656565656565657},\n",
    " 'KL2': {'optimal_MCC': 0.8378688987532451, 'optimal_t': 0.43434343434343436},\n",
    " 'KL21': {'optimal_MCC': 0.828302688169126, 'optimal_t': 0.8181818181818182},\n",
    " 'KL22': {'optimal_MCC': 1.0, 'optimal_t': 0.5252525252525253},\n",
    " 'KL23': {'optimal_MCC': 0.8570333046693909, 'optimal_t': 0.9393939393939394},\n",
    " 'KL24': {'optimal_MCC': 0.8011713970092863, 'optimal_t': 0.4444444444444445},\n",
    " 'KL25': {'optimal_MCC': 0.8482467449833488, 'optimal_t': 0.48484848484848486},\n",
    " 'KL27': {'optimal_MCC': 0.8584556465075666, 'optimal_t': 0.7575757575757577},\n",
    " 'KL28': {'optimal_MCC': 0.7824675324675324, 'optimal_t': 0.7171717171717172},\n",
    " 'KL29': {'optimal_MCC': 0.6454972243679029, 'optimal_t': 0.5858585858585859},\n",
    " 'KL3': {'optimal_MCC': 0.8570693678078618, 'optimal_t': 0.9797979797979799},\n",
    " 'KL30': {'optimal_MCC': 0.7342995169082126, 'optimal_t': 0.6464646464646465},\n",
    " 'KL34': {'optimal_MCC': 0.7745966692414834, 'optimal_t': 0.43434343434343436},\n",
    " 'KL36': {'optimal_MCC': 0.7386222109866251, 'optimal_t': 0.8181818181818182},\n",
    " 'KL38': {'optimal_MCC': 0.6733804983414345, 'optimal_t': 0.36363636363636365},\n",
    " 'KL39': {'optimal_MCC': 0.7947194142390263, 'optimal_t': 0.22222222222222224},\n",
    " 'KL43': {'optimal_MCC': 0.6396021490668313, 'optimal_t': 0.36363636363636365},\n",
    " 'KL45': {'optimal_MCC': 0.8376233659741151, 'optimal_t': 0.7777777777777778},\n",
    " 'KL46': {'optimal_MCC': 0.85, 'optimal_t': 0.8282828282828284},\n",
    " 'KL47': {'optimal_MCC': 0.9670913609804876, 'optimal_t': 0.4747474747474748},\n",
    " 'KL48': {'optimal_MCC': 0.6396021490668313, 'optimal_t': 0.5555555555555556},\n",
    " 'KL5': {'optimal_MCC': 0.6546536707079772, 'optimal_t': 0.42424242424242425},\n",
    " 'KL51': {'optimal_MCC': 0.8883781212268286, 'optimal_t': 0.6161616161616162},\n",
    " 'KL52': {'optimal_MCC': 0.7934920476158722, 'optimal_t': 0.9292929292929294},\n",
    " 'KL53': {'optimal_MCC': 0.6831300510639732, 'optimal_t': 0.7171717171717172},\n",
    " 'KL55': {'optimal_MCC': 0.7817359599705717, 'optimal_t': 0.17171717171717174},\n",
    " 'KL57': {'optimal_MCC': 0.76, 'optimal_t': 0.6262626262626263},\n",
    " 'KL60': {'optimal_MCC': 0.7276068751089989, 'optimal_t': 0.8484848484848485},\n",
    " 'KL62': {'optimal_MCC': 0.7459688097630196, 'optimal_t': 0.9090909090909092},\n",
    " 'KL63': {'optimal_MCC': 1.0, 'optimal_t': 0.98989898989899},\n",
    " 'KL64': {'optimal_MCC': 0.8967653421507276, 'optimal_t': 0.8181818181818182},\n",
    " 'KL7': {'optimal_MCC': 0.8416254115301732, 'optimal_t': 0.9090909090909092},\n",
    " 'KL70': {'optimal_MCC': 0.7905694150420948, 'optimal_t': 0.787878787878788},\n",
    " 'KL74': {'optimal_MCC': 0.7664191894673175, 'optimal_t': 0.6161616161616162},\n",
    " 'KL8': {'optimal_MCC': 0.7745966692414834, 'optimal_t': 0.5151515151515152},\n",
    " 'KL81': {'optimal_MCC': 0.5773502691896257, 'optimal_t': 0.6565656565656566},\n",
    " 'KL9': {'optimal_MCC': 1.0, 'optimal_t': 0.6161616161616162}}\n",
    "\n"
   ]
  },
  {
   "cell_type": "markdown",
   "id": "452274b6-c2b0-46e1-a1bd-bc9ccdb8e736",
   "metadata": {},
   "source": [
    "> Ferriol"
   ]
  },
  {
   "cell_type": "code",
   "execution_count": null,
   "id": "87f8bb36-594c-4e7e-9008-1f415eed79fe",
   "metadata": {},
   "outputs": [],
   "source": [
    "import pandas as pd \n",
    "import os \n",
    "\n",
    "path_project = \"/media/concha-eloko/Linux/77_strains_phage_project\"\n",
    "path_Dpo_domain_org = \"/media/concha-eloko/Linux/depolymerase_building/clean_77_phages_depo\"\n",
    "\n",
    "dpo_embeddings = pd.read_csv(f\"{path_project}/rbp_work/Dpo_domains_77.esm2.embedding.1512.csv\", sep = \",\" , header = None)\n",
    "dpo_embeddings = dpo_embeddings.drop([1281] , axis = 1)\n",
    "dpo_embeddings.set_index([0], inplace = True)\n",
    "dpo_embeddings.index = [x if x.count(\"__cds\") > 0 else x.replace(\"_cds\", \"__cds\") for x in dpo_embeddings.index]\n",
    "dpo_embeddings.index = [x.replace(\"__CDS\",\"__cds\") if x.count(\"__CDS\") > 0 else x for x in dpo_embeddings.index]\n",
    "dpo_embeddings.index = ['__'.join(x.split(\"__\")[0:-1])+'_Dpo_domain' if x.count(\"_Dpo_domain\") == 0 else x for x in dpo_embeddings.index]"
   ]
  },
  {
   "cell_type": "markdown",
   "id": "85b00a22-8b13-4bf2-80fe-d839b0517704",
   "metadata": {},
   "source": [
    "> Bea"
   ]
  },
  {
   "cell_type": "code",
   "execution_count": null,
   "id": "e686e0da-611b-4965-9e2e-7abfb35b5361",
   "metadata": {},
   "outputs": [],
   "source": [
    "import pandas as pd \n",
    "import os \n",
    "\n",
    "path_project = \"/media/concha-eloko/Linux/PPT_clean/in_vitro\"\n",
    "\n",
    "bea_embeddings = pd.read_csv(f\"{path_project}/Bea_phages.esm2.embedding.csv\", sep = \",\" , header = None)\n",
    "bea_embeddings = bea_embeddings.drop([1281] , axis = 1)\n",
    "bea_embeddings.set_index([0], inplace = True)\n"
   ]
  },
  {
   "cell_type": "markdown",
   "id": "1c67c91c-3e76-4f41-b4c5-8f4b96f4b15b",
   "metadata": {},
   "source": [
    "> Towndsend"
   ]
  },
  {
   "cell_type": "code",
   "execution_count": null,
   "id": "2b155804-ed16-4d7d-9e03-491fe61c0be0",
   "metadata": {
    "scrolled": true
   },
   "outputs": [],
   "source": [
    "import pandas as pd \n",
    "import os \n",
    "\n",
    "path_project = \"/media/concha-eloko/Linux/PPT_clean/in_vitro\"\n",
    "\n",
    "towndsend_embeddings = pd.read_csv(f\"{path_project}/Townsed_phages.esm2.embedding.1112.csv\", sep = \",\" , header = None)\n",
    "towndsend_embeddings = towndsend_embeddings.drop([1281] , axis = 1)\n",
    "towndsend_embeddings.set_index([0], inplace = True)\n"
   ]
  },
  {
   "cell_type": "markdown",
   "id": "5ff80de9-58d1-4226-bde3-b383c9f3cddd",
   "metadata": {},
   "source": [
    ">Others old"
   ]
  },
  {
   "cell_type": "code",
   "execution_count": null,
   "id": "884641db-9d19-4334-a544-1063dc38c8ad",
   "metadata": {
    "jupyter": {
     "source_hidden": true
    },
    "scrolled": true
   },
   "outputs": [],
   "source": [
    "import pandas as pd \n",
    "import os \n",
    "\n",
    "path_project = \"/media/concha-eloko/Linux/PPT_clean/in_vitro\"\n",
    "\n",
    "others_embeddings = pd.read_csv(f\"{path_project}/Others_phages.esm2.embedding.csv\", sep = \",\" , header = None)\n",
    "others_embeddings = others_embeddings.drop([1281] , axis = 1)\n",
    "others_embeddings.set_index([0], inplace = True)\n",
    "\n",
    "namesother_df = pd.read_csv(f\"{path_project}/Others/index_others.tsv\", sep = \"\\t\" , names = [\"index_phage\", \"index_prot\",\"prot_name\"])\n",
    "new_index = []\n",
    "for _,index in enumerate(others_embeddings.index) : \n",
    "    i_phage = int(index.split(\"__\")[0])\n",
    "    i_prot = int(index.split(\"__\")[1])\n",
    "    prot = namesother_df[(namesother_df[\"index_phage\"] == i_phage) & (namesother_df[\"index_prot\"] == i_prot)][\"prot_name\"].values[0]\n",
    "    new_index.append(prot)\n",
    "\n",
    "others_embeddings.index = new_index\n",
    "others_embeddings.index.name = 0"
   ]
  },
  {
   "cell_type": "markdown",
   "id": "d7850bcc-e0a2-4b57-b8c4-7a85a3436702",
   "metadata": {
    "scrolled": true
   },
   "source": [
    "> Others "
   ]
  },
  {
   "cell_type": "code",
   "execution_count": null,
   "id": "7d5d57d6-24e5-4bfd-a37a-67fc5d631717",
   "metadata": {},
   "outputs": [],
   "source": [
    "import pandas as pd \n",
    "import os \n",
    "\n",
    "path_project = \"/media/concha-eloko/Linux/PPT_clean/in_vitro\"\n",
    "\n",
    "others_embeddings = pd.read_csv(f\"{path_project}/Others_all.esm2.embedding.csv\", sep = \",\" , header = None)\n",
    "others_embeddings.set_index([0], inplace = True)"
   ]
  },
  {
   "cell_type": "markdown",
   "id": "f8b4c9ba-389d-48f1-bef9-e75b9bdba8d6",
   "metadata": {},
   "source": [
    "***\n",
    "> run the predictions "
   ]
  },
  {
   "cell_type": "code",
   "execution_count": null,
   "id": "a08e5a5d-f356-4962-b8dd-bfa01f7f53aa",
   "metadata": {},
   "outputs": [],
   "source": [
    "# Run the predictions ferriol :\n",
    "ferriol_predictions = {}\n",
    "for dpo in dpo_embeddings.index : \n",
    "    graph_dpo = TropiGAT_functions.make_query_graph([dpo_embeddings.loc[dpo].values])\n",
    "    pred = TropiGAT_functions.run_prediction(graph_dpo,dico_models)\n",
    "    ferriol_predictions[dpo] = pred"
   ]
  },
  {
   "cell_type": "code",
   "execution_count": null,
   "id": "d68c0307-3634-402c-8169-74a0af69b4ff",
   "metadata": {
    "scrolled": true
   },
   "outputs": [],
   "source": [
    "ferriol_predictions[\"K17alfa62__cds_66_Dpo_domain\"]"
   ]
  },
  {
   "cell_type": "code",
   "execution_count": null,
   "id": "b9d3f7a3-dda8-4a90-b026-f4005cc558d2",
   "metadata": {
    "scrolled": true
   },
   "outputs": [],
   "source": [
    "# format the results : \n",
    "ferriol_pred_formated = TropiGAT_functions.format_predictions(ferriol_predictions , sep = \"__\")\n",
    "TropiGAT_functions.clean_print(ferriol_pred_formated)"
   ]
  },
  {
   "cell_type": "markdown",
   "id": "77ac8514-c6bc-4690-9fae-31d7f7d0cc5d",
   "metadata": {},
   "source": [
    "***"
   ]
  },
  {
   "cell_type": "code",
   "execution_count": null,
   "id": "82c98291-6ef7-4d5b-8002-c39e3bf90876",
   "metadata": {},
   "outputs": [],
   "source": [
    "# Run the predictions Bea :\n",
    "bea_predictions = {}\n",
    "for dpo in bea_embeddings.index : \n",
    "    graph_dpo = TropiGAT_functions.make_query_graph([bea_embeddings.loc[dpo].values])\n",
    "    pred = TropiGAT_functions.run_prediction(graph_dpo,dico_models)\n",
    "    bea_predictions[dpo] = pred"
   ]
  },
  {
   "cell_type": "code",
   "execution_count": null,
   "id": "60087068-4631-4543-bfd2-9db933dbee8f",
   "metadata": {
    "scrolled": true
   },
   "outputs": [],
   "source": [
    "# format the results : \n",
    "bea_pred_formated = TropiGAT_functions.format_predictions(bea_predictions , sep = \"_\")\n",
    "TropiGAT_functions.clean_print(bea_pred_formated)"
   ]
  },
  {
   "cell_type": "code",
   "execution_count": null,
   "id": "a22ef647-424b-4695-ad90-16baa65a65d0",
   "metadata": {},
   "outputs": [],
   "source": [
    "# Run the predictions Towndsend :\n",
    "towndsend_predictions = {}\n",
    "for dpo in towndsend_embeddings.index : \n",
    "    graph_dpo = TropiGAT_functions.make_query_graph([towndsend_embeddings.loc[dpo].values])\n",
    "    pred = TropiGAT_functions.run_prediction(graph_dpo,dico_models)\n",
    "    towndsend_predictions[dpo] = pred"
   ]
  },
  {
   "cell_type": "code",
   "execution_count": null,
   "id": "3f096f41-7088-49c6-b214-6bd438134ab5",
   "metadata": {
    "scrolled": true
   },
   "outputs": [],
   "source": [
    "# format the results : \n",
    "towndsend_pred_formated = TropiGAT_functions.format_predictions(towndsend_predictions , sep = \"_\")\n",
    "TropiGAT_functions.clean_print(towndsend_pred_formated)"
   ]
  },
  {
   "cell_type": "markdown",
   "id": "621829a1-bb1f-4d92-8afe-9aca9f7c56d9",
   "metadata": {},
   "source": [
    "***"
   ]
  },
  {
   "cell_type": "code",
   "execution_count": null,
   "id": "3c81fe24-69c3-4e07-8449-0cb25400bd4f",
   "metadata": {},
   "outputs": [],
   "source": [
    "others_embeddings.info()"
   ]
  },
  {
   "cell_type": "code",
   "execution_count": null,
   "id": "8df738da-ef9c-4773-9071-8c0ff7bed508",
   "metadata": {},
   "outputs": [],
   "source": [
    "others_embeddings.index"
   ]
  },
  {
   "cell_type": "code",
   "execution_count": null,
   "id": "95d1b6e4-e8ca-419a-9e3a-402a61b1e0b5",
   "metadata": {
    "scrolled": true
   },
   "outputs": [],
   "source": [
    "# Run the predictions Others :\n",
    "other_predictions = {}\n",
    "for index, dpo in enumerate(others_embeddings.index) :\n",
    "    if dpo not in [\"MN781108.1_prot_QGZ15323.1_262\"] :\n",
    "        try : \n",
    "            graph_dpo = TropiGAT_functions.make_query_graph([others_embeddings.loc[dpo].values])\n",
    "            pred = TropiGAT_functions.run_prediction(graph_dpo,dico_models)\n",
    "            other_predictions[dpo] = pred\n",
    "        except Exception as e :\n",
    "            print(e, dpo)"
   ]
  },
  {
   "cell_type": "code",
   "execution_count": null,
   "id": "4b1b3d14-7f50-4215-a019-84fae3d05abc",
   "metadata": {
    "scrolled": true
   },
   "outputs": [],
   "source": [
    "# format the results : \n",
    "others_pred_formated = TropiGAT_functions.format_predictions(other_predictions , sep = \"_prot_\")\n",
    "TropiGAT_functions.clean_print(other_predictions)"
   ]
  },
  {
   "cell_type": "markdown",
   "id": "e7c37641-78bf-4ec9-ac0c-a52a4517188e",
   "metadata": {},
   "source": [
    "***\n",
    "# Write the results : "
   ]
  },
  {
   "cell_type": "markdown",
   "id": "17e379f6-ccc3-4f5b-9525-f996e0a3f1df",
   "metadata": {},
   "source": [
    "> Others : "
   ]
  },
  {
   "cell_type": "code",
   "execution_count": null,
   "id": "28407d35-af6a-4d54-ba91-1e21acad6d5f",
   "metadata": {},
   "outputs": [],
   "source": [
    "predictions = [other_predictions]\n",
    "\n",
    "with open(\"/media/concha-eloko/Linux/PPT_clean/TropiGAT.Others.all.results.classic_0802.tsv\", \"w\") as outfile:\n",
    "    for prediction in predictions:\n",
    "        prediction_sorted = dict(sorted(prediction.items()))\n",
    "        for prot in prediction_sorted:\n",
    "            if prediction_sorted[prot] == \"No hits\" or len(prediction_sorted[prot]) == 0:\n",
    "                outfile.write(f\"{prot}\\tNo hits\\n\")\n",
    "            else:\n",
    "                outfile.write(f\"{prot}\\t\")\n",
    "                hits = [f\"{kltype}:{round(score, 3)}\" for kltype, score in prediction_sorted[prot].items()]\n",
    "                sorted_hits = \" ; \".join(sorted(hits, key=lambda x: float(x.split(\":\")[1]), reverse=True))\n",
    "                outfile.write(sorted_hits)\n",
    "                outfile.write(\"\\n\")"
   ]
  },
  {
   "cell_type": "markdown",
   "id": "928bca92-826e-4167-b2c3-fadc12deebbd",
   "metadata": {},
   "source": [
    "> Predictions : "
   ]
  },
  {
   "cell_type": "code",
   "execution_count": null,
   "id": "cc2bc8ca-4af7-447e-ac4b-3446bcfac65e",
   "metadata": {},
   "outputs": [],
   "source": [
    "predictions = [ferriol_predictions , bea_predictions , towndsend_predictions]\n",
    "\n",
    "with open(\"/media/concha-eloko/Linux/PPT_clean/TropiGAT.results.classic_0802.tsv\", \"w\") as outfile:\n",
    "    for prediction in predictions:\n",
    "        for prot in prediction:\n",
    "            if prediction[prot] == \"No hits\" or len(prediction[prot]) == 0:\n",
    "                outfile.write(f\"{prot}\\tNo hits\\n\")\n",
    "            else:\n",
    "                outfile.write(f\"{prot}\\t\")\n",
    "                hits = [f\"{kltype}:{round(score, 3)}\" for kltype, score in prediction[prot].items()]\n",
    "                sorted_hits = \" ; \".join(sorted(hits, key=lambda x: float(x.split(\":\")[1]), reverse=True))\n",
    "                outfile.write(sorted_hits)\n",
    "                outfile.write(\"\\n\")"
   ]
  },
  {
   "cell_type": "markdown",
   "id": "b1a97a93-4e47-4bc3-97f2-d5cf90c93438",
   "metadata": {},
   "source": [
    "> Parse TropiGAT and Seqbased results :"
   ]
  },
  {
   "cell_type": "code",
   "execution_count": 1,
   "id": "1a841740-9d6f-4b98-bf40-c1ee74b91f7b",
   "metadata": {},
   "outputs": [
    {
     "data": {
      "text/html": [
       "<div>\n",
       "<style scoped>\n",
       "    .dataframe tbody tr th:only-of-type {\n",
       "        vertical-align: middle;\n",
       "    }\n",
       "\n",
       "    .dataframe tbody tr th {\n",
       "        vertical-align: top;\n",
       "    }\n",
       "\n",
       "    .dataframe thead th {\n",
       "        text-align: right;\n",
       "    }\n",
       "</style>\n",
       "<table border=\"1\" class=\"dataframe\">\n",
       "  <thead>\n",
       "    <tr style=\"text-align: right;\">\n",
       "      <th></th>\n",
       "      <th>protein</th>\n",
       "      <th>predictions_seqbased</th>\n",
       "    </tr>\n",
       "  </thead>\n",
       "  <tbody>\n",
       "    <tr>\n",
       "      <th>0</th>\n",
       "      <td>K17alfa62__cds_66_A_281-682</td>\n",
       "      <td>No predictions</td>\n",
       "    </tr>\n",
       "    <tr>\n",
       "      <th>1</th>\n",
       "      <td>K14PH164C1__cds_24_A_4_221_871.pdb</td>\n",
       "      <td>KL64:0.67</td>\n",
       "    </tr>\n",
       "    <tr>\n",
       "      <th>2</th>\n",
       "      <td>K64PH164C4__cds_24_A_4_178_852.pdb</td>\n",
       "      <td>KL64:0.904</td>\n",
       "    </tr>\n",
       "    <tr>\n",
       "      <th>3</th>\n",
       "      <td>K40PH129C1__cds_56_A_4_239_860.pdb</td>\n",
       "      <td>No hits</td>\n",
       "    </tr>\n",
       "    <tr>\n",
       "      <th>4</th>\n",
       "      <td>K51PH129C1__cds_9_A_1_92_787.pdb</td>\n",
       "      <td>KL51:0.964</td>\n",
       "    </tr>\n",
       "    <tr>\n",
       "      <th>...</th>\n",
       "      <td>...</td>\n",
       "      <td>...</td>\n",
       "    </tr>\n",
       "    <tr>\n",
       "      <th>235</th>\n",
       "      <td>NBNDMPCG_00161</td>\n",
       "      <td>KL35:0.66</td>\n",
       "    </tr>\n",
       "    <tr>\n",
       "      <th>236</th>\n",
       "      <td>NBNDMPCG_00163</td>\n",
       "      <td>KL2:0.684</td>\n",
       "    </tr>\n",
       "    <tr>\n",
       "      <th>237</th>\n",
       "      <td>NBNDMPCG_00165</td>\n",
       "      <td>No hits</td>\n",
       "    </tr>\n",
       "    <tr>\n",
       "      <th>238</th>\n",
       "      <td>NBNDMPCG_00166</td>\n",
       "      <td>KL14:0.951</td>\n",
       "    </tr>\n",
       "    <tr>\n",
       "      <th>239</th>\n",
       "      <td>NBNDMPCG_00168</td>\n",
       "      <td>KL31:0.53</td>\n",
       "    </tr>\n",
       "  </tbody>\n",
       "</table>\n",
       "<p>240 rows × 2 columns</p>\n",
       "</div>"
      ],
      "text/plain": [
       "                                protein predictions_seqbased\n",
       "0           K17alfa62__cds_66_A_281-682       No predictions\n",
       "1    K14PH164C1__cds_24_A_4_221_871.pdb            KL64:0.67\n",
       "2    K64PH164C4__cds_24_A_4_178_852.pdb           KL64:0.904\n",
       "3    K40PH129C1__cds_56_A_4_239_860.pdb              No hits\n",
       "4      K51PH129C1__cds_9_A_1_92_787.pdb           KL51:0.964\n",
       "..                                  ...                  ...\n",
       "235                      NBNDMPCG_00161            KL35:0.66\n",
       "236                      NBNDMPCG_00163            KL2:0.684\n",
       "237                      NBNDMPCG_00165              No hits\n",
       "238                      NBNDMPCG_00166           KL14:0.951\n",
       "239                      NBNDMPCG_00168            KL31:0.53\n",
       "\n",
       "[240 rows x 2 columns]"
      ]
     },
     "execution_count": 1,
     "metadata": {},
     "output_type": "execute_result"
    }
   ],
   "source": [
    "import pandas as pd \n",
    "import os \n",
    "\n",
    "path_project = \"/media/concha-eloko/Linux/PPT_clean\"\n",
    "\n",
    "tropigat_results = pd.read_csv(f\"{path_project}/TropiGAT.results.classic_0802.tsv\", sep = \"\\t\", names = [\"protein\", \"predictions_tropigat\"])\n",
    "\n",
    "# Seqbased_model.results.bit50.0101.tsv\n",
    "# Seqbased_model.0101.results.tsv\n",
    "# Seqbased_model.1001.results.tsv\n",
    "seqbased_results = pd.read_csv(f\"{path_project}/Seqbased_model.results.bit75.1902.tsv\", sep = \"\\t\", names = [\"protein\", \"predictions_seqbased\"])\n"
   ]
  },
  {
   "cell_type": "code",
   "execution_count": 2,
   "id": "17b989af-a785-4eca-8630-a001b809d848",
   "metadata": {},
   "outputs": [
    {
     "data": {
      "text/html": [
       "<div>\n",
       "<style scoped>\n",
       "    .dataframe tbody tr th:only-of-type {\n",
       "        vertical-align: middle;\n",
       "    }\n",
       "\n",
       "    .dataframe tbody tr th {\n",
       "        vertical-align: top;\n",
       "    }\n",
       "\n",
       "    .dataframe thead th {\n",
       "        text-align: right;\n",
       "    }\n",
       "</style>\n",
       "<table border=\"1\" class=\"dataframe\">\n",
       "  <thead>\n",
       "    <tr style=\"text-align: right;\">\n",
       "      <th></th>\n",
       "      <th>protein_x</th>\n",
       "      <th>predictions_tropigat</th>\n",
       "      <th>protein_id</th>\n",
       "      <th>protein_y</th>\n",
       "      <th>predictions_seqbased</th>\n",
       "      <th>phage</th>\n",
       "    </tr>\n",
       "  </thead>\n",
       "  <tbody>\n",
       "    <tr>\n",
       "      <th>173</th>\n",
       "      <td>A1a_00002</td>\n",
       "      <td>KL123:0.977 ; KL14:0.911 ; KL13:0.9 ; KL39:0.8...</td>\n",
       "      <td>A1a_00002</td>\n",
       "      <td>A1a_00002</td>\n",
       "      <td>KL102:0.737</td>\n",
       "      <td>A1a</td>\n",
       "    </tr>\n",
       "    <tr>\n",
       "      <th>158</th>\n",
       "      <td>A1a_00014</td>\n",
       "      <td>KL45:0.878 ; KL2:0.741 ; KL74:0.57 ; KL48:0.52...</td>\n",
       "      <td>A1a_00014</td>\n",
       "      <td>A1a_00014</td>\n",
       "      <td>KL151:0.599</td>\n",
       "      <td>A1a</td>\n",
       "    </tr>\n",
       "    <tr>\n",
       "      <th>159</th>\n",
       "      <td>A1b_00048</td>\n",
       "      <td>KL128:0.919 ; KL70:0.885 ; KL52:0.862 ; KL46:0...</td>\n",
       "      <td>A1b_00048</td>\n",
       "      <td>A1b_00048</td>\n",
       "      <td>No predictions</td>\n",
       "      <td>A1b</td>\n",
       "    </tr>\n",
       "    <tr>\n",
       "      <th>151</th>\n",
       "      <td>A1b_00036</td>\n",
       "      <td>KL7:0.983 ; KL13:0.975 ; KL123:0.971 ; KL14:0....</td>\n",
       "      <td>A1b_00036</td>\n",
       "      <td>A1b_00036</td>\n",
       "      <td>KL102:0.737</td>\n",
       "      <td>A1b</td>\n",
       "    </tr>\n",
       "    <tr>\n",
       "      <th>182</th>\n",
       "      <td>A1c_00046</td>\n",
       "      <td>KL13:0.958 ; KL123:0.951 ; KL19:0.92 ; KL14:0....</td>\n",
       "      <td>A1c_00046</td>\n",
       "      <td>A1c_00046</td>\n",
       "      <td>KL102:0.737</td>\n",
       "      <td>A1c</td>\n",
       "    </tr>\n",
       "    <tr>\n",
       "      <th>...</th>\n",
       "      <td>...</td>\n",
       "      <td>...</td>\n",
       "      <td>...</td>\n",
       "      <td>...</td>\n",
       "      <td>...</td>\n",
       "      <td>...</td>\n",
       "    </tr>\n",
       "    <tr>\n",
       "      <th>181</th>\n",
       "      <td>S13a_00036</td>\n",
       "      <td>KL18:0.959 ; KL27:0.938 ; KL60:0.87 ; KL123:0....</td>\n",
       "      <td>S13a_00036</td>\n",
       "      <td>S13a_00036</td>\n",
       "      <td>No predictions</td>\n",
       "      <td>S13a</td>\n",
       "    </tr>\n",
       "    <tr>\n",
       "      <th>143</th>\n",
       "      <td>S13b_00058</td>\n",
       "      <td>KL47:0.988 ; KL14:0.921 ; KL23:0.752 ; KL64:0....</td>\n",
       "      <td>S13b_00058</td>\n",
       "      <td>S13b_00058</td>\n",
       "      <td>KL63:0.641</td>\n",
       "      <td>S13b</td>\n",
       "    </tr>\n",
       "    <tr>\n",
       "      <th>175</th>\n",
       "      <td>S13c_00055</td>\n",
       "      <td>KL27:0.958 ; KL38:0.955 ; KL60:0.92 ; KL57:0.9...</td>\n",
       "      <td>S13c_00055</td>\n",
       "      <td>S13c_00055</td>\n",
       "      <td>No predictions</td>\n",
       "      <td>S13c</td>\n",
       "    </tr>\n",
       "    <tr>\n",
       "      <th>174</th>\n",
       "      <td>S13d_00057</td>\n",
       "      <td>KL14:0.999 ; KL52:0.973 ; KL38:0.954 ; KL27:0....</td>\n",
       "      <td>S13d_00057</td>\n",
       "      <td>S13d_00057</td>\n",
       "      <td>KL14:0.951</td>\n",
       "      <td>S13d</td>\n",
       "    </tr>\n",
       "    <tr>\n",
       "      <th>136</th>\n",
       "      <td>S13e_00021</td>\n",
       "      <td>KL27:1.0 ; KL3:0.982 ; KL29:0.96 ; KL136:0.915...</td>\n",
       "      <td>S13e_00021</td>\n",
       "      <td>S13e_00021</td>\n",
       "      <td>KL25:0.838;KL136:0.53</td>\n",
       "      <td>S13e</td>\n",
       "    </tr>\n",
       "  </tbody>\n",
       "</table>\n",
       "<p>238 rows × 6 columns</p>\n",
       "</div>"
      ],
      "text/plain": [
       "      protein_x                               predictions_tropigat  \\\n",
       "173   A1a_00002  KL123:0.977 ; KL14:0.911 ; KL13:0.9 ; KL39:0.8...   \n",
       "158   A1a_00014  KL45:0.878 ; KL2:0.741 ; KL74:0.57 ; KL48:0.52...   \n",
       "159   A1b_00048  KL128:0.919 ; KL70:0.885 ; KL52:0.862 ; KL46:0...   \n",
       "151   A1b_00036  KL7:0.983 ; KL13:0.975 ; KL123:0.971 ; KL14:0....   \n",
       "182   A1c_00046  KL13:0.958 ; KL123:0.951 ; KL19:0.92 ; KL14:0....   \n",
       "..          ...                                                ...   \n",
       "181  S13a_00036  KL18:0.959 ; KL27:0.938 ; KL60:0.87 ; KL123:0....   \n",
       "143  S13b_00058  KL47:0.988 ; KL14:0.921 ; KL23:0.752 ; KL64:0....   \n",
       "175  S13c_00055  KL27:0.958 ; KL38:0.955 ; KL60:0.92 ; KL57:0.9...   \n",
       "174  S13d_00057  KL14:0.999 ; KL52:0.973 ; KL38:0.954 ; KL27:0....   \n",
       "136  S13e_00021  KL27:1.0 ; KL3:0.982 ; KL29:0.96 ; KL136:0.915...   \n",
       "\n",
       "     protein_id   protein_y   predictions_seqbased phage  \n",
       "173   A1a_00002   A1a_00002            KL102:0.737   A1a  \n",
       "158   A1a_00014   A1a_00014            KL151:0.599   A1a  \n",
       "159   A1b_00048   A1b_00048         No predictions   A1b  \n",
       "151   A1b_00036   A1b_00036            KL102:0.737   A1b  \n",
       "182   A1c_00046   A1c_00046            KL102:0.737   A1c  \n",
       "..          ...         ...                    ...   ...  \n",
       "181  S13a_00036  S13a_00036         No predictions  S13a  \n",
       "143  S13b_00058  S13b_00058             KL63:0.641  S13b  \n",
       "175  S13c_00055  S13c_00055         No predictions  S13c  \n",
       "174  S13d_00057  S13d_00057             KL14:0.951  S13d  \n",
       "136  S13e_00021  S13e_00021  KL25:0.838;KL136:0.53  S13e  \n",
       "\n",
       "[238 rows x 6 columns]"
      ]
     },
     "execution_count": 2,
     "metadata": {},
     "output_type": "execute_result"
    }
   ],
   "source": [
    "tropigat_results[\"protein_id\"] = tropigat_results[\"protein\"].apply(lambda x : x.split(\"_Dpo\")[0])\n",
    "seqbased_results[\"protein_id\"] = seqbased_results[\"protein\"].apply(lambda x : x.split(\"_A\")[0] if x.count(\"_A\")>0 else \"__\".join(x.split(\",\")[0].split(\" \")) if x.count(\",\")>0 else x)\n",
    "\n",
    "merged_df = tropigat_results.merge(seqbased_results, on='protein_id', how='inner')\n",
    "merged_df[\"phage\"] = merged_df[\"protein_id\"].apply(lambda x : x.split(\"__\")[0] if x.count(\"__\")>0 else x.split(\"_\")[0])\n",
    "\n",
    "merged_df_sorted = merged_df.sort_values(by='phage', ascending=True)\n",
    "merged_df_sorted"
   ]
  },
  {
   "cell_type": "code",
   "execution_count": null,
   "id": "74081292-321a-419e-a7a3-f338098f82ff",
   "metadata": {},
   "outputs": [],
   "source": []
  },
  {
   "cell_type": "code",
   "execution_count": 3,
   "id": "f785a874-8e86-4c8b-b817-7c3a6335a758",
   "metadata": {
    "scrolled": true
   },
   "outputs": [],
   "source": [
    "final_df = merged_df_sorted[[\"phage\",\"protein_id\", \"predictions_seqbased\", \"predictions_tropigat\"]]\n",
    "\n"
   ]
  },
  {
   "cell_type": "code",
   "execution_count": 4,
   "id": "52cab8e2-3cf7-447f-ace5-fcf77142337a",
   "metadata": {},
   "outputs": [],
   "source": [
    "final_df.to_csv(f\"{path_project}/PPT_results.classic_2002.bit75.tsv\", sep = \"\\t\", header = True, index = False)"
   ]
  },
  {
   "cell_type": "code",
   "execution_count": 5,
   "id": "94a5bbcc-6f4f-4777-a1bc-6f06790fd5c0",
   "metadata": {},
   "outputs": [
    {
     "data": {
      "text/html": [
       "<div>\n",
       "<style scoped>\n",
       "    .dataframe tbody tr th:only-of-type {\n",
       "        vertical-align: middle;\n",
       "    }\n",
       "\n",
       "    .dataframe tbody tr th {\n",
       "        vertical-align: top;\n",
       "    }\n",
       "\n",
       "    .dataframe thead th {\n",
       "        text-align: right;\n",
       "    }\n",
       "</style>\n",
       "<table border=\"1\" class=\"dataframe\">\n",
       "  <thead>\n",
       "    <tr style=\"text-align: right;\">\n",
       "      <th></th>\n",
       "      <th>phage</th>\n",
       "      <th>protein_id</th>\n",
       "      <th>predictions_seqbased</th>\n",
       "      <th>predictions_tropigat</th>\n",
       "    </tr>\n",
       "  </thead>\n",
       "  <tbody>\n",
       "    <tr>\n",
       "      <th>173</th>\n",
       "      <td>A1a</td>\n",
       "      <td>A1a_00002</td>\n",
       "      <td>KL102:0.737</td>\n",
       "      <td>KL123:0.977 ; KL14:0.911 ; KL13:0.9 ; KL39:0.8...</td>\n",
       "    </tr>\n",
       "    <tr>\n",
       "      <th>158</th>\n",
       "      <td>A1a</td>\n",
       "      <td>A1a_00014</td>\n",
       "      <td>KL151:0.599</td>\n",
       "      <td>KL45:0.878 ; KL2:0.741 ; KL74:0.57 ; KL48:0.52...</td>\n",
       "    </tr>\n",
       "    <tr>\n",
       "      <th>159</th>\n",
       "      <td>A1b</td>\n",
       "      <td>A1b_00048</td>\n",
       "      <td>No predictions</td>\n",
       "      <td>KL128:0.919 ; KL70:0.885 ; KL52:0.862 ; KL46:0...</td>\n",
       "    </tr>\n",
       "    <tr>\n",
       "      <th>151</th>\n",
       "      <td>A1b</td>\n",
       "      <td>A1b_00036</td>\n",
       "      <td>KL102:0.737</td>\n",
       "      <td>KL7:0.983 ; KL13:0.975 ; KL123:0.971 ; KL14:0....</td>\n",
       "    </tr>\n",
       "    <tr>\n",
       "      <th>182</th>\n",
       "      <td>A1c</td>\n",
       "      <td>A1c_00046</td>\n",
       "      <td>KL102:0.737</td>\n",
       "      <td>KL13:0.958 ; KL123:0.951 ; KL19:0.92 ; KL14:0....</td>\n",
       "    </tr>\n",
       "    <tr>\n",
       "      <th>...</th>\n",
       "      <td>...</td>\n",
       "      <td>...</td>\n",
       "      <td>...</td>\n",
       "      <td>...</td>\n",
       "    </tr>\n",
       "    <tr>\n",
       "      <th>181</th>\n",
       "      <td>S13a</td>\n",
       "      <td>S13a_00036</td>\n",
       "      <td>No predictions</td>\n",
       "      <td>KL18:0.959 ; KL27:0.938 ; KL60:0.87 ; KL123:0....</td>\n",
       "    </tr>\n",
       "    <tr>\n",
       "      <th>143</th>\n",
       "      <td>S13b</td>\n",
       "      <td>S13b_00058</td>\n",
       "      <td>KL63:0.641</td>\n",
       "      <td>KL47:0.988 ; KL14:0.921 ; KL23:0.752 ; KL64:0....</td>\n",
       "    </tr>\n",
       "    <tr>\n",
       "      <th>175</th>\n",
       "      <td>S13c</td>\n",
       "      <td>S13c_00055</td>\n",
       "      <td>No predictions</td>\n",
       "      <td>KL27:0.958 ; KL38:0.955 ; KL60:0.92 ; KL57:0.9...</td>\n",
       "    </tr>\n",
       "    <tr>\n",
       "      <th>174</th>\n",
       "      <td>S13d</td>\n",
       "      <td>S13d_00057</td>\n",
       "      <td>KL14:0.951</td>\n",
       "      <td>KL14:0.999 ; KL52:0.973 ; KL38:0.954 ; KL27:0....</td>\n",
       "    </tr>\n",
       "    <tr>\n",
       "      <th>136</th>\n",
       "      <td>S13e</td>\n",
       "      <td>S13e_00021</td>\n",
       "      <td>KL25:0.838;KL136:0.53</td>\n",
       "      <td>KL27:1.0 ; KL3:0.982 ; KL29:0.96 ; KL136:0.915...</td>\n",
       "    </tr>\n",
       "  </tbody>\n",
       "</table>\n",
       "<p>238 rows × 4 columns</p>\n",
       "</div>"
      ],
      "text/plain": [
       "    phage  protein_id   predictions_seqbased  \\\n",
       "173   A1a   A1a_00002            KL102:0.737   \n",
       "158   A1a   A1a_00014            KL151:0.599   \n",
       "159   A1b   A1b_00048         No predictions   \n",
       "151   A1b   A1b_00036            KL102:0.737   \n",
       "182   A1c   A1c_00046            KL102:0.737   \n",
       "..    ...         ...                    ...   \n",
       "181  S13a  S13a_00036         No predictions   \n",
       "143  S13b  S13b_00058             KL63:0.641   \n",
       "175  S13c  S13c_00055         No predictions   \n",
       "174  S13d  S13d_00057             KL14:0.951   \n",
       "136  S13e  S13e_00021  KL25:0.838;KL136:0.53   \n",
       "\n",
       "                                  predictions_tropigat  \n",
       "173  KL123:0.977 ; KL14:0.911 ; KL13:0.9 ; KL39:0.8...  \n",
       "158  KL45:0.878 ; KL2:0.741 ; KL74:0.57 ; KL48:0.52...  \n",
       "159  KL128:0.919 ; KL70:0.885 ; KL52:0.862 ; KL46:0...  \n",
       "151  KL7:0.983 ; KL13:0.975 ; KL123:0.971 ; KL14:0....  \n",
       "182  KL13:0.958 ; KL123:0.951 ; KL19:0.92 ; KL14:0....  \n",
       "..                                                 ...  \n",
       "181  KL18:0.959 ; KL27:0.938 ; KL60:0.87 ; KL123:0....  \n",
       "143  KL47:0.988 ; KL14:0.921 ; KL23:0.752 ; KL64:0....  \n",
       "175  KL27:0.958 ; KL38:0.955 ; KL60:0.92 ; KL57:0.9...  \n",
       "174  KL14:0.999 ; KL52:0.973 ; KL38:0.954 ; KL27:0....  \n",
       "136  KL27:1.0 ; KL3:0.982 ; KL29:0.96 ; KL136:0.915...  \n",
       "\n",
       "[238 rows x 4 columns]"
      ]
     },
     "execution_count": 5,
     "metadata": {},
     "output_type": "execute_result"
    }
   ],
   "source": [
    "final_df"
   ]
  },
  {
   "cell_type": "code",
   "execution_count": null,
   "id": "39d4b79e-3f68-407c-a6ed-1163f4308b71",
   "metadata": {},
   "outputs": [],
   "source": []
  }
 ],
 "metadata": {
  "kernelspec": {
   "display_name": "torch_geometric",
   "language": "python",
   "name": "torch_geometric"
  },
  "language_info": {
   "codemirror_mode": {
    "name": "ipython",
    "version": 3
   },
   "file_extension": ".py",
   "mimetype": "text/x-python",
   "name": "python",
   "nbconvert_exporter": "python",
   "pygments_lexer": "ipython3",
   "version": "3.11.4"
  },
  "widgets": {
   "application/vnd.jupyter.widget-state+json": {
    "state": {},
    "version_major": 2,
    "version_minor": 0
   }
  }
 },
 "nbformat": 4,
 "nbformat_minor": 5
}
