{
 "cells": [
  {
   "cell_type": "markdown",
   "id": "5a5ac5f6-1468-456e-bacb-25a0a1b0cb55",
   "metadata": {},
   "source": [
    "***\n",
    "### Import modules : "
   ]
  },
  {
   "cell_type": "code",
   "execution_count": 1,
   "id": "ada737ac-eb03-494d-8605-8f46a2d4822b",
   "metadata": {},
   "outputs": [],
   "source": [
    "import os \n",
    "import pandas as pd \n",
    "from tqdm import tqdm\n",
    "from collections import Counter\n",
    "from sklearn.metrics import accuracy_score, precision_score, recall_score, f1_score, roc_auc_score, matthews_corrcoef\n"
   ]
  },
  {
   "cell_type": "markdown",
   "id": "c32ffe0e-8896-4e92-9638-428ab91c0a43",
   "metadata": {},
   "source": [
    "***\n",
    "### Read the matrices :"
   ]
  },
  {
   "cell_type": "code",
   "execution_count": 2,
   "id": "661ab590-1791-42d7-b9f6-ca5a3252399b",
   "metadata": {},
   "outputs": [],
   "source": [
    "path_finetuning = \"/media/concha-eloko/Linux/PPT_clean/in_vitro/fine_tuning\"\n",
    "\n",
    "bea_df = pd.read_csv(f\"{path_finetuning}/bea_fine_tuning.df\", sep = \"\\t\", header = 0)\n",
    "bea_df[\"Protein\"] = bea_df[\"Protein\"].apply(lambda x : x.replace(\"_\", \"__\"))\n",
    "pool_bea = set([kltype.strip() for kltypes in bea_df[\"Target\"] for kltype in kltypes.split(\",\") if kltype.count(\"wzi\") == 0 if kltype.count(\"pass\") == 0])\n",
    "\n",
    "ferriol_df = pd.read_csv(f\"{path_finetuning}/ferriol_fine_tuning.df\", sep = \"\\t\", header = 0)\n",
    "ferriol_df[\"Target\"] = ferriol_df[\"Target\"].apply(lambda x : x.replace(\"K\", \"KL\"))\n",
    "pool_ferriol = set([kltype.strip() for kltypes in ferriol_df[\"Target\"] for kltype in kltypes.split(\",\") if kltype.count(\"wzi\") == 0 if kltype.count(\"pass\") == 0])\n",
    "\n",
    "towndsend_df = pd.read_csv(f\"{path_finetuning}/towndsend_fine_tuning.df\", sep = \"\\t\", header = 0)\n",
    "towndsend_df[\"Protein\"] = towndsend_df[\"Protein\"].apply(lambda x : x.replace(\"_\", \"__\"))\n",
    "pool_towndsend = set([kltype.strip() for kltypes in towndsend_df[\"Target\"] for kltype in kltypes.split(\",\") if kltype.count(\"wzi\") == 0 if kltype.count(\"pass\") == 0])\n",
    "\n",
    "dico_matrices = {\"ferriol\" : {\"matrix\" : ferriol_df, \"pool\" : pool_ferriol}, \n",
    "                 \"bea\" : {\"matrix\": bea_df, \"pool\" : pool_bea}, \n",
    "                 \"towndsend\" : {\"matrix\" : towndsend_df, \"pool\" : pool_towndsend}}\n",
    "\n",
    "# targets dico : \n",
    "dico_hits = {}\n",
    "for author in dico_matrices :\n",
    "    matrix = dico_matrices[author][\"matrix\"]\n",
    "    for _, row in matrix.iterrows() : \n",
    "        for phage in matrix[\"Phages\"].unique() : \n",
    "            all_targets = set()\n",
    "            targets = matrix[matrix[\"Phages\"] == phage][\"Target\"].values\n",
    "            for calls in targets : \n",
    "                actual_targets = [x.strip() for x in calls.split(\",\")]\n",
    "                all_targets.update(actual_targets)\n",
    "            dico_hits[phage] = all_targets\n",
    "\n"
   ]
  },
  {
   "cell_type": "markdown",
   "id": "adbdd33c-7fd5-4c0c-bd6c-a3ad38826156",
   "metadata": {},
   "source": [
    "> TropiGATv2 DF : "
   ]
  },
  {
   "cell_type": "code",
   "execution_count": 4,
   "id": "f18a5d7f-c297-4d0d-8b0e-d66de1a72ed5",
   "metadata": {},
   "outputs": [],
   "source": [
    "path_project = \"/media/concha-eloko/Linux/PPT_clean\"\n",
    "\n",
    "DF_info = pd.read_csv(f\"{path_project}/TropiGATv2.final_df_v2.filtered.tsv\", sep = \"\\t\" ,  header = 0)\n",
    "\n",
    "DF_info_lvl_0 = DF_info.copy()\n",
    "df_prophages = DF_info_lvl_0.drop_duplicates(subset = [\"Phage\"])\n",
    "dico_prophage_count = dict(Counter(df_prophages[\"KL_type_LCA\"]))\n",
    "\n",
    "KLtypes = [kltype for kltype in dico_prophage_count if dico_prophage_count[kltype] >= 20]\n",
    "\n"
   ]
  },
  {
   "cell_type": "markdown",
   "id": "2fec8750-e98a-433e-9227-c69ce04dc794",
   "metadata": {},
   "source": [
    "***\n",
    "## Working on the final matrices file :"
   ]
  },
  {
   "cell_type": "code",
   "execution_count": 6,
   "id": "62ffb317-3114-4462-8231-1831d67ccebc",
   "metadata": {
    "scrolled": true
   },
   "outputs": [],
   "source": [
    "path_project = \"/media/concha-eloko/Linux/PPT_clean\"\n",
    "\n",
    "\n",
    "raw_df = pd.read_csv(f\"{path_project}/raw_metrics.classic_0802.bit75.detailed.tsv\" , sep = \"\\t\", header = 0)\n",
    "\n",
    "phages_to_ignore = [\"K2064PH2\",\"K2069PH1\",\"OBHDAGOG\",\"A1e\",\"A1f\",\"A3a\",\"EONHMLJF\"]\n",
    "\n",
    "working_df = raw_df[~raw_df[\"Phage\"].isin(phages_to_ignore)]\n"
   ]
  },
  {
   "cell_type": "code",
   "execution_count": 9,
   "id": "ec921c3d-5451-4ec5-81a3-b63c8458baee",
   "metadata": {},
   "outputs": [
    {
     "data": {
      "text/html": [
       "<div>\n",
       "<style scoped>\n",
       "    .dataframe tbody tr th:only-of-type {\n",
       "        vertical-align: middle;\n",
       "    }\n",
       "\n",
       "    .dataframe tbody tr th {\n",
       "        vertical-align: top;\n",
       "    }\n",
       "\n",
       "    .dataframe thead th {\n",
       "        text-align: right;\n",
       "    }\n",
       "</style>\n",
       "<table border=\"1\" class=\"dataframe\">\n",
       "  <thead>\n",
       "    <tr style=\"text-align: right;\">\n",
       "      <th></th>\n",
       "      <th>Phage</th>\n",
       "      <th>Protein</th>\n",
       "      <th>Folds</th>\n",
       "      <th>TropiGAT_predictions</th>\n",
       "      <th>TropiGAT_good_calls</th>\n",
       "      <th>TropiSeq_predictions</th>\n",
       "      <th>TropiSeq_good_calls</th>\n",
       "      <th>Targets</th>\n",
       "    </tr>\n",
       "  </thead>\n",
       "  <tbody>\n",
       "    <tr>\n",
       "      <th>0</th>\n",
       "      <td>A1a</td>\n",
       "      <td>A1a_00002</td>\n",
       "      <td>6-bladed beta-propeller</td>\n",
       "      <td>KL123:0.977 ; KL14:0.911 ; KL13:0.9 ; KL39:0.8...</td>\n",
       "      <td>0</td>\n",
       "      <td>KL102:0.691</td>\n",
       "      <td>0</td>\n",
       "      <td>KL151</td>\n",
       "    </tr>\n",
       "    <tr>\n",
       "      <th>1</th>\n",
       "      <td>A1a</td>\n",
       "      <td>A1a_00014</td>\n",
       "      <td>right-handed beta-helix</td>\n",
       "      <td>KL45:0.878 ; KL2:0.741 ; KL74:0.57 ; KL48:0.52...</td>\n",
       "      <td>0</td>\n",
       "      <td>KL151:0.698</td>\n",
       "      <td>KL151</td>\n",
       "      <td>KL151</td>\n",
       "    </tr>\n",
       "    <tr>\n",
       "      <th>2</th>\n",
       "      <td>A1b</td>\n",
       "      <td>A1b_00048</td>\n",
       "      <td>right-handed beta-helix</td>\n",
       "      <td>KL128:0.919 ; KL70:0.885 ; KL52:0.862 ; KL46:0...</td>\n",
       "      <td>0</td>\n",
       "      <td>KL157:0.729</td>\n",
       "      <td>KL157</td>\n",
       "      <td>KL157</td>\n",
       "    </tr>\n",
       "    <tr>\n",
       "      <th>3</th>\n",
       "      <td>A1b</td>\n",
       "      <td>A1b_00036</td>\n",
       "      <td>6-bladed beta-propeller</td>\n",
       "      <td>KL7:0.983 ; KL13:0.975 ; KL123:0.971 ; KL14:0....</td>\n",
       "      <td>0</td>\n",
       "      <td>KL102:0.691</td>\n",
       "      <td>0</td>\n",
       "      <td>KL157</td>\n",
       "    </tr>\n",
       "    <tr>\n",
       "      <th>4</th>\n",
       "      <td>A1c</td>\n",
       "      <td>A1c_00046</td>\n",
       "      <td>6-bladed beta-propeller</td>\n",
       "      <td>KL13:0.958 ; KL123:0.951 ; KL19:0.92 ; KL14:0....</td>\n",
       "      <td>0</td>\n",
       "      <td>KL102:0.691</td>\n",
       "      <td>0</td>\n",
       "      <td>KL1</td>\n",
       "    </tr>\n",
       "    <tr>\n",
       "      <th>...</th>\n",
       "      <td>...</td>\n",
       "      <td>...</td>\n",
       "      <td>...</td>\n",
       "      <td>...</td>\n",
       "      <td>...</td>\n",
       "      <td>...</td>\n",
       "      <td>...</td>\n",
       "      <td>...</td>\n",
       "    </tr>\n",
       "    <tr>\n",
       "      <th>225</th>\n",
       "      <td>S13a</td>\n",
       "      <td>S13a_00036</td>\n",
       "      <td>right-handed beta-helix</td>\n",
       "      <td>KL18:0.959 ; KL27:0.938 ; KL60:0.87 ; KL123:0....</td>\n",
       "      <td>0</td>\n",
       "      <td>KL38:0.822</td>\n",
       "      <td>0</td>\n",
       "      <td>KL149,KL102</td>\n",
       "    </tr>\n",
       "    <tr>\n",
       "      <th>226</th>\n",
       "      <td>S13b</td>\n",
       "      <td>S13b_00058</td>\n",
       "      <td>right-handed beta-helix</td>\n",
       "      <td>KL47:0.988 ; KL14:0.921 ; KL23:0.752 ; KL64:0....</td>\n",
       "      <td>0</td>\n",
       "      <td>KL63:0.867</td>\n",
       "      <td>KL63</td>\n",
       "      <td>KL63</td>\n",
       "    </tr>\n",
       "    <tr>\n",
       "      <th>227</th>\n",
       "      <td>S13c</td>\n",
       "      <td>S13c_00055</td>\n",
       "      <td>right-handed beta-helix</td>\n",
       "      <td>KL27:0.958 ; KL38:0.955 ; KL60:0.92 ; KL57:0.9...</td>\n",
       "      <td>0</td>\n",
       "      <td>No predictions</td>\n",
       "      <td>0</td>\n",
       "      <td>KL149,KL102</td>\n",
       "    </tr>\n",
       "    <tr>\n",
       "      <th>228</th>\n",
       "      <td>S13d</td>\n",
       "      <td>S13d_00057</td>\n",
       "      <td>right-handed beta-helix</td>\n",
       "      <td>KL14:0.999 ; KL52:0.973 ; KL38:0.954 ; KL27:0....</td>\n",
       "      <td>KL14</td>\n",
       "      <td>KL14:0.736</td>\n",
       "      <td>KL14</td>\n",
       "      <td>KL14</td>\n",
       "    </tr>\n",
       "    <tr>\n",
       "      <th>229</th>\n",
       "      <td>S13e</td>\n",
       "      <td>S13e_00021</td>\n",
       "      <td>right-handed beta-helix</td>\n",
       "      <td>KL27:1.0 ; KL3:0.982 ; KL29:0.96 ; KL136:0.915...</td>\n",
       "      <td>KL136</td>\n",
       "      <td>KL10:0.558;KL25:0.652</td>\n",
       "      <td>0</td>\n",
       "      <td>KL136</td>\n",
       "    </tr>\n",
       "  </tbody>\n",
       "</table>\n",
       "<p>220 rows × 8 columns</p>\n",
       "</div>"
      ],
      "text/plain": [
       "    Phage     Protein                    Folds  \\\n",
       "0     A1a   A1a_00002  6-bladed beta-propeller   \n",
       "1     A1a   A1a_00014  right-handed beta-helix   \n",
       "2     A1b   A1b_00048  right-handed beta-helix   \n",
       "3     A1b   A1b_00036  6-bladed beta-propeller   \n",
       "4     A1c   A1c_00046  6-bladed beta-propeller   \n",
       "..    ...         ...                      ...   \n",
       "225  S13a  S13a_00036  right-handed beta-helix   \n",
       "226  S13b  S13b_00058  right-handed beta-helix   \n",
       "227  S13c  S13c_00055  right-handed beta-helix   \n",
       "228  S13d  S13d_00057  right-handed beta-helix   \n",
       "229  S13e  S13e_00021  right-handed beta-helix   \n",
       "\n",
       "                                  TropiGAT_predictions TropiGAT_good_calls  \\\n",
       "0    KL123:0.977 ; KL14:0.911 ; KL13:0.9 ; KL39:0.8...                   0   \n",
       "1    KL45:0.878 ; KL2:0.741 ; KL74:0.57 ; KL48:0.52...                   0   \n",
       "2    KL128:0.919 ; KL70:0.885 ; KL52:0.862 ; KL46:0...                   0   \n",
       "3    KL7:0.983 ; KL13:0.975 ; KL123:0.971 ; KL14:0....                   0   \n",
       "4    KL13:0.958 ; KL123:0.951 ; KL19:0.92 ; KL14:0....                   0   \n",
       "..                                                 ...                 ...   \n",
       "225  KL18:0.959 ; KL27:0.938 ; KL60:0.87 ; KL123:0....                   0   \n",
       "226  KL47:0.988 ; KL14:0.921 ; KL23:0.752 ; KL64:0....                   0   \n",
       "227  KL27:0.958 ; KL38:0.955 ; KL60:0.92 ; KL57:0.9...                   0   \n",
       "228  KL14:0.999 ; KL52:0.973 ; KL38:0.954 ; KL27:0....                KL14   \n",
       "229  KL27:1.0 ; KL3:0.982 ; KL29:0.96 ; KL136:0.915...               KL136   \n",
       "\n",
       "      TropiSeq_predictions TropiSeq_good_calls      Targets  \n",
       "0              KL102:0.691                   0        KL151  \n",
       "1              KL151:0.698               KL151        KL151  \n",
       "2              KL157:0.729               KL157        KL157  \n",
       "3              KL102:0.691                   0        KL157  \n",
       "4              KL102:0.691                   0          KL1  \n",
       "..                     ...                 ...          ...  \n",
       "225             KL38:0.822                   0  KL149,KL102  \n",
       "226             KL63:0.867                KL63         KL63  \n",
       "227         No predictions                   0  KL149,KL102  \n",
       "228             KL14:0.736                KL14         KL14  \n",
       "229  KL10:0.558;KL25:0.652                   0        KL136  \n",
       "\n",
       "[220 rows x 8 columns]"
      ]
     },
     "execution_count": 9,
     "metadata": {},
     "output_type": "execute_result"
    }
   ],
   "source": [
    "working_df"
   ]
  },
  {
   "cell_type": "code",
   "execution_count": 7,
   "id": "4c81a295-a7f4-4d1d-b130-526999bbf25b",
   "metadata": {
    "jupyter": {
     "source_hidden": true
    }
   },
   "outputs": [],
   "source": [
    "path_finetuning = \"/media/concha-eloko/Linux/PPT_clean/in_vitro/fine_tuning\"\n",
    "\n",
    "bea_df = pd.read_csv(f\"{path_finetuning}/bea_fine_tuning.df\", sep = \"\\t\", header = 0)\n",
    "bea_df[\"Protein\"] = bea_df[\"Protein\"].apply(lambda x : x.replace(\"_\", \"__\"))\n",
    "pool_bea = set([kltype.strip() for kltypes in bea_df[\"Target\"] for kltype in kltypes.split(\",\") if kltype.count(\"wzi\") == 0 if kltype.count(\"pass\") == 0])\n",
    "\n",
    "ferriol_df = pd.read_csv(f\"{path_finetuning}/ferriol_fine_tuning.df\", sep = \"\\t\", header = 0)\n",
    "ferriol_df[\"Target\"] = ferriol_df[\"Target\"].apply(lambda x : x.replace(\"K\", \"KL\"))\n",
    "pool_ferriol = set([kltype.strip() for kltypes in ferriol_df[\"Target\"] for kltype in kltypes.split(\",\") if kltype.count(\"wzi\") == 0 if kltype.count(\"pass\") == 0])\n",
    "\n",
    "towndsend_df = pd.read_csv(f\"{path_finetuning}/towndsend_fine_tuning.df\", sep = \"\\t\", header = 0)\n",
    "towndsend_df[\"Protein\"] = towndsend_df[\"Protein\"].apply(lambda x : x.replace(\"_\", \"__\"))\n",
    "pool_towndsend = set([kltype.strip() for kltypes in towndsend_df[\"Target\"] for kltype in kltypes.split(\",\") if kltype.count(\"wzi\") == 0 if kltype.count(\"pass\") == 0])\n",
    "\n",
    "dico_matrices = {\"ferriol\" : {\"matrix\" : ferriol_df, \"pool\" : pool_ferriol}, \n",
    "                 \"bea\" : {\"matrix\": bea_df, \"pool\" : pool_bea}, \n",
    "                 \"towndsend\" : {\"matrix\" : towndsend_df, \"pool\" : pool_towndsend}}\n",
    "\n",
    "# targets dico : \n",
    "dico_hits = {}\n",
    "for author in dico_matrices :\n",
    "    matrix = dico_matrices[author][\"matrix\"]\n",
    "    for _, row in matrix.iterrows() : \n",
    "        for phage in matrix[\"Phages\"].unique() : \n",
    "            all_targets = set()\n",
    "            targets = matrix[matrix[\"Phages\"] == phage][\"Target\"].values\n",
    "            for calls in targets : \n",
    "                actual_targets = [x.strip() for x in calls.split(\",\")]\n",
    "                all_targets.update(actual_targets)\n",
    "            dico_hits[phage] = all_targets"
   ]
  },
  {
   "cell_type": "markdown",
   "id": "73124daf-c4dc-413e-bcb8-248bfec1cda4",
   "metadata": {},
   "source": [
    "***\n",
    "## Make the matrices files : "
   ]
  },
  {
   "cell_type": "code",
   "execution_count": 11,
   "id": "c79b4b35-26b0-447d-a0cc-fbe8377035e7",
   "metadata": {
    "jupyter": {
     "source_hidden": true
    },
    "scrolled": true
   },
   "outputs": [
    {
     "name": "stderr",
     "output_type": "stream",
     "text": [
      "100%|████████████████████████████████████████| 128/128 [00:01<00:00, 115.65it/s]\n"
     ]
    }
   ],
   "source": [
    "from tqdm import tqdm\n",
    "\n",
    "top_n = 15\n",
    "labels_tropigat = {}\n",
    "count_kltypes = {}\n",
    "\n",
    "for kltype in tqdm(dico_prophage_count) : \n",
    "    n = 0\n",
    "    pred_labels , real_labels = [] , []\n",
    "    for author in dico_matrices :\n",
    "        if kltype in dico_matrices[author][\"pool\"] : \n",
    "            matrix = dico_matrices[author][\"matrix\"]\n",
    "            for phage in matrix[\"Phages\"].unique() :\n",
    "                top_predictions = set()\n",
    "                predictions = tropigat_results[tropigat_results[\"Phage\"] == phage][\"TropiGAT_predictions\"].values\n",
    "                for calls in predictions : \n",
    "                    predicted_kltypes = [x.split(\":\")[0].strip() for x in calls.split(\";\")]\n",
    "                    top_predictions.update(predicted_kltypes[0:top_n-1])\n",
    "                if kltype in top_predictions : \n",
    "                    pred_labels.append(1)\n",
    "                else : \n",
    "                    pred_labels.append(0)\n",
    "                if kltype in dico_hits[phage] : \n",
    "                    real_labels.append(1)\n",
    "                    n += 1 \n",
    "                else :\n",
    "                    real_labels.append(0)\n",
    "    labels_tropigat[kltype] = {\"y_pred\" : pred_labels, \"real_labels\" : real_labels}\n",
    "    count_kltypes[kltype] = n \n",
    "\n",
    "labels_tropigat\n",
    "sorted_dict = dict(sorted(labels_tropigat.items(), key=lambda item: int(item[0].split(\"KL\")[1])))\n"
   ]
  },
  {
   "cell_type": "code",
   "execution_count": 12,
   "id": "cd22e728-56d9-4af0-a099-a2867715a21e",
   "metadata": {
    "jupyter": {
     "source_hidden": true
    }
   },
   "outputs": [],
   "source": [
    "def make_labels(pred_df, predictor = \"tropigat\" , top_n = 15, to_ignore = []) :\n",
    "    dico_pred = {\"tropigat\" : \"TropiGAT_predictions\" ,\n",
    "                 \"tropiseq\" : \"TropiSeq_predictions\"}\n",
    "    col = dico_pred[predictor]\n",
    "    labels_tropigat = {}\n",
    "    count_kltypes = {}\n",
    "    for kltype in tqdm(dico_prophage_count) : \n",
    "        n = 0\n",
    "        pred_labels , real_labels = [] , []\n",
    "        for author in dico_matrices :\n",
    "            if kltype in dico_matrices[author][\"pool\"] : \n",
    "                matrix = dico_matrices[author][\"matrix\"]\n",
    "                for phage in matrix[\"Phages\"].unique() :\n",
    "                    #if phage not in to_ignore : \n",
    "                    if phage not in to_ignore and phage in pred_df[\"Phage\"].tolist(): \n",
    "                        top_predictions = set()\n",
    "                        predictions = pred_df[pred_df[\"Phage\"] == phage][col].values\n",
    "                        for calls in predictions : \n",
    "                            predicted_kltypes = [x.split(\":\")[0].strip() for x in calls.split(\";\")]\n",
    "                            top_predictions.update(predicted_kltypes[0:top_n-1])\n",
    "                        if kltype in top_predictions : \n",
    "                            pred_labels.append(1)\n",
    "                        else : \n",
    "                            pred_labels.append(0)\n",
    "                        if kltype in dico_hits[phage] : \n",
    "                            real_labels.append(1)\n",
    "                            n += 1 \n",
    "                        else :\n",
    "                            real_labels.append(0)\n",
    "        labels_tropigat[kltype] = {\"y_pred\" : pred_labels, \"real_labels\" : real_labels}\n",
    "        sorted_dict = dict(sorted(labels_tropigat.items(), key=lambda item: int(item[0].split(\"KL\")[1])))\n",
    "        count_kltypes[kltype] = n \n",
    "    return sorted_dict , labels_tropigat, count_kltypes\n",
    "\n",
    "\n",
    "def decript_dic (sorted_dict , labels_tropigat, count_kltypes) :\n",
    "    for kltype in sorted_dict : \n",
    "        try : \n",
    "            if len(labels_tropigat[kltype][\"real_labels\"]) > 1 : \n",
    "                if Counter(labels_tropigat[kltype][\"y_pred\"])[1] > 0 :\n",
    "                    f1 = f1_score(labels_tropigat[kltype][\"real_labels\"], labels_tropigat[kltype][\"y_pred\"], average='binary')\n",
    "                    precision = precision_score(labels_tropigat[kltype][\"real_labels\"], labels_tropigat[kltype][\"y_pred\"], average='binary')\n",
    "                    recall = recall_score(labels_tropigat[kltype][\"real_labels\"], labels_tropigat[kltype][\"y_pred\"], average='binary')\n",
    "                    mcc = matthews_corrcoef(labels_tropigat[kltype][\"real_labels\"], labels_tropigat[kltype][\"y_pred\"])\n",
    "                    accuracy = accuracy_score(labels_tropigat[kltype][\"real_labels\"], labels_tropigat[kltype][\"y_pred\"])\n",
    "                    auc = roc_auc_score(labels_tropigat[kltype][\"real_labels\"], labels_tropigat[kltype][\"y_pred\"])\n",
    "                    print(kltype ,count_kltypes[kltype], round(f1,5),round(accuracy,5), round(recall,5),round(precision,5),round(auc,5), round(mcc,5), sep = \"\\t\")\n",
    "                #aucs.append(auc)\n",
    "        except ValueError : \n",
    "            print(kltype , \"error\", sep = \"\\t\")\n",
    "\n"
   ]
  },
  {
   "cell_type": "markdown",
   "id": "8458d992-ed59-4f3e-8013-c51affd5b647",
   "metadata": {
    "jp-MarkdownHeadingCollapsed": true
   },
   "source": [
    "### Work on TropiGAT : "
   ]
  },
  {
   "cell_type": "markdown",
   "id": "0379454e-ff6e-4d25-af3b-9bb9e97e01f9",
   "metadata": {},
   "source": [
    "> Full predictions : "
   ]
  },
  {
   "cell_type": "code",
   "execution_count": 13,
   "id": "b7ea91a7-833a-404a-a06e-724559dd271a",
   "metadata": {},
   "outputs": [
    {
     "name": "stderr",
     "output_type": "stream",
     "text": [
      "100%|████████████████████████████████████████| 128/128 [00:01<00:00, 114.62it/s]\n"
     ]
    },
    {
     "name": "stdout",
     "output_type": "stream",
     "text": [
      "KL1\t3\t0.0\t0.90909\t0.0\t0.0\t0.46875\t-0.0449\n",
      "KL2\t16\t0.32258\t0.82353\t0.3125\t0.33333\t0.60771\t0.22141\n",
      "KL3\t12\t0.42105\t0.45\t0.33333\t0.57143\t0.47917\t-0.0428\n",
      "KL5\t1\t0.0\t0.64062\t0.0\t0.0\t0.3254\t-0.09118\n",
      "KL7\t2\t0.0\t0.4375\t0.0\t0.0\t0.22581\t-0.1912\n",
      "KL8\t1\t0.0\t0.85938\t0.0\t0.0\t0.43651\t-0.04762\n",
      "KL9\t1\t0.14286\t0.8125\t1.0\t0.07692\t0.90476\t0.24954\n",
      "KL10\t1\t0.2\t0.875\t1.0\t0.11111\t0.93651\t0.31145\n",
      "KL12\t1\t0.0\t0.8125\t0.0\t0.0\t0.4127\t-0.0574\n",
      "KL13\t3\t0.09524\t0.42424\t1.0\t0.05\t0.70312\t0.14252\n",
      "KL14\t10\t0.06897\t0.31933\t0.3\t0.03896\t0.31055\t-0.21997\n",
      "KL15\t1\t0.05714\t0.48438\t1.0\t0.02941\t0.7381\t0.11835\n",
      "KL16\t4\t0.4\t0.97479\t0.25\t1.0\t0.625\t0.4936\n",
      "KL17\t2\t0.4\t0.95312\t0.5\t0.33333\t0.73387\t0.38503\n",
      "KL18\t1\t0.04444\t0.32812\t1.0\t0.02273\t0.65873\t0.08494\n",
      "KL19\t1\t0.06452\t0.54688\t1.0\t0.03333\t0.76984\t0.13412\n",
      "KL21\t1\t0.28571\t0.92188\t1.0\t0.16667\t0.96032\t0.39171\n",
      "KL22\t10\t0.53846\t0.87879\t0.7\t0.4375\t0.79944\t0.49027\n",
      "KL23\t1\t0.0\t0.70312\t0.0\t0.0\t0.35714\t-0.07881\n",
      "KL24\t5\t0.26667\t0.88889\t0.4\t0.2\t0.65745\t0.22883\n",
      "KL25\t3\t0.21429\t0.77778\t1.0\t0.12\t0.88542\t0.30414\n",
      "KL27\t2\t0.21053\t0.76562\t1.0\t0.11765\t0.87903\t0.29864\n",
      "KL28\t14\t0.11494\t0.35294\t0.35714\t0.06849\t0.35476\t-0.19219\n",
      "KL29\t8\t0.22222\t0.75\t0.375\t0.15789\t0.58224\t0.1154\n",
      "KL30\t3\t0.0\t0.83838\t0.0\t0.0\t0.43229\t-0.06873\n",
      "KL36\t6\t0.10526\t0.73438\t0.16667\t0.07692\t0.47989\t-0.02915\n",
      "KL38\t8\t0.30769\t0.78571\t0.5\t0.22222\t0.65789\t0.22591\n",
      "KL39\t3\t0.09302\t0.39062\t0.66667\t0.05\t0.52186\t0.01909\n",
      "KL43\t2\t0.04255\t0.29688\t0.5\t0.02222\t0.39516\t-0.07985\n",
      "KL45\t1\t0.13333\t0.79688\t1.0\t0.07143\t0.89683\t0.2381\n",
      "KL46\t1\t0.07407\t0.60938\t1.0\t0.03846\t0.80159\t0.15231\n",
      "KL48\t1\t0.08\t0.64062\t1.0\t0.04167\t0.81746\t0.16265\n",
      "KL51\t1\t0.0\t0.9375\t0.0\t0.0\t0.47619\t-0.02794\n",
      "KL52\t2\t0.07143\t0.59375\t0.5\t0.03846\t0.54839\t0.03428\n",
      "KL53\t9\t0.16667\t0.52381\t0.44444\t0.10256\t0.48889\t-0.01378\n",
      "KL57\t10\t0.4186\t0.70238\t0.9\t0.27273\t0.78784\t0.38173\n",
      "KL60\t1\t0.04444\t0.32812\t1.0\t0.02273\t0.65873\t0.08494\n",
      "KL62\t4\t0.2\t0.875\t0.25\t0.16667\t0.58333\t0.13841\n",
      "KL63\t2\t0.0\t0.94949\t0.0\t0.0\t0.48454\t-0.02538\n",
      "KL64\t6\t0.22222\t0.91667\t0.16667\t0.33333\t0.57051\t0.19571\n",
      "KL70\t1\t0.0\t0.5625\t0.0\t0.0\t0.28571\t-0.10762\n",
      "KL74\t5\t0.16\t0.75\t0.4\t0.1\t0.58608\t0.09563\n",
      "KL102\t2\t0.0\t0.31429\t0.0\t0.0\t0.16667\t-0.32026\n",
      "KL110\t1\t0.33333\t0.8\t1.0\t0.2\t0.89474\t0.39736\n",
      "KL136\t1\t0.22222\t0.8\t1.0\t0.125\t0.89706\t0.31506\n"
     ]
    }
   ],
   "source": [
    "tropigat_results_gat = tropigat_results[(tropigat_results[\"Targets\"].str.count(\"pass\") == 0)]\n",
    "\n",
    "sorted_dic_tropigat, labels_tropigat, count_kltypes = make_labels(tropigat_results_gat, to_ignore = phages_to_ignore)\n",
    "decript_dic(sorted_dic_tropigat, labels_tropigat, count_kltypes)"
   ]
  },
  {
   "cell_type": "markdown",
   "id": "7ac597de-0961-4e3d-8717-4a483cb51854",
   "metadata": {},
   "source": [
    "***\n",
    "> Work on TropiSeq :"
   ]
  },
  {
   "cell_type": "code",
   "execution_count": 15,
   "id": "247d8b56-4348-4e2d-bd9f-e759a279457f",
   "metadata": {},
   "outputs": [
    {
     "name": "stderr",
     "output_type": "stream",
     "text": [
      "100%|████████████████████████████████████████| 128/128 [00:01<00:00, 111.69it/s]\n"
     ]
    },
    {
     "name": "stdout",
     "output_type": "stream",
     "text": [
      "KL2\t16\t0.28571\t0.87903\t0.1875\t0.6\t0.58449\t0.28797\n",
      "KL3\t12\t0.4\t0.59091\t0.25\t1.0\t0.625\t0.36274\n",
      "KL4\t7\t0.25\t0.93023\t0.14286\t1.0\t0.57143\t0.36438\n",
      "KL9\t1\t0.66667\t0.98438\t1.0\t0.5\t0.99206\t0.70147\n",
      "KL13\t3\t0.5\t0.98039\t0.33333\t1.0\t0.66667\t0.57161\n",
      "KL14\t10\t0.16667\t0.91935\t0.1\t0.5\t0.54561\t0.19719\n",
      "KL15\t1\t1.0\t1.0\t1.0\t1.0\t1.0\t1.0\n",
      "KL16\t4\t0.57143\t0.97581\t0.5\t0.66667\t0.74583\t0.56538\n",
      "KL17\t2\t0.66667\t0.98438\t0.5\t1.0\t0.75\t0.70147\n",
      "KL18\t1\t0.0\t0.95312\t0.0\t0.0\t0.48413\t-0.02263\n",
      "KL20\t1\t0.0\t0.98039\t0.0\t0.0\t0.49505\t-0.0099\n",
      "KL21\t1\t0.5\t0.96875\t1.0\t0.33333\t0.98413\t0.56811\n",
      "KL23\t1\t0.66667\t0.98438\t1.0\t0.5\t0.99206\t0.70147\n",
      "KL24\t5\t0.4\t0.94118\t0.4\t0.4\t0.68454\t0.36907\n",
      "KL25\t3\t0.85714\t0.9902\t1.0\t0.75\t0.99495\t0.86164\n",
      "KL27\t2\t0.66667\t0.98438\t0.5\t1.0\t0.75\t0.70147\n",
      "KL28\t14\t0.1\t0.85484\t0.07143\t0.16667\t0.51299\t0.03831\n",
      "KL30\t3\t0.33333\t0.96078\t0.33333\t0.33333\t0.65657\t0.31313\n",
      "KL31\t1\t0.0\t0.96875\t0.0\t0.0\t0.49206\t-0.01587\n",
      "KL35\t7\t0.57143\t0.93023\t0.57143\t0.57143\t0.76673\t0.53345\n",
      "KL39\t3\t0.0\t0.92188\t0.0\t0.0\t0.48361\t-0.03983\n",
      "KL43\t2\t0.0\t0.95312\t0.0\t0.0\t0.49194\t-0.02263\n",
      "KL48\t1\t0.0\t0.95312\t0.0\t0.0\t0.48413\t-0.02263\n",
      "KL51\t1\t1.0\t1.0\t1.0\t1.0\t1.0\t1.0\n",
      "KL57\t10\t0.33333\t0.90698\t0.2\t1.0\t0.6\t0.42538\n",
      "KL58\t3\t0.5\t0.96875\t0.33333\t1.0\t0.66667\t0.56811\n",
      "KL63\t2\t0.8\t0.9902\t1.0\t0.66667\t0.995\t0.8124\n",
      "KL64\t6\t0.22222\t0.9186\t0.16667\t0.33333\t0.57083\t0.19669\n",
      "KL70\t1\t0.0\t0.96875\t0.0\t0.0\t0.49206\t-0.01587\n",
      "KL74\t5\t0.0\t0.93023\t0.0\t0.0\t0.49383\t-0.02695\n",
      "KL102\t2\t0.0\t0.31579\t0.0\t0.0\t0.16667\t-0.30861\n",
      "KL110\t1\t0.0\t0.86364\t0.0\t0.0\t0.45238\t-0.06901\n",
      "KL140\t3\t1.0\t1.0\t1.0\t1.0\t1.0\t1.0\n",
      "KL151\t1\t1.0\t1.0\t1.0\t1.0\t1.0\t1.0\n",
      "KL157\t1\t1.0\t1.0\t1.0\t1.0\t1.0\t1.0\n"
     ]
    }
   ],
   "source": [
    "sorted_dic_tropiseq, labels_tropiseq, count_kltypes = make_labels(tropigat_results, predictor = \"tropiseq\",  to_ignore = phages_to_ignore)\n",
    "decript_dic(sorted_dic_tropiseq, labels_tropiseq, count_kltypes)"
   ]
  },
  {
   "cell_type": "markdown",
   "id": "dcc0058a-b0f9-4bd7-bf0c-56095e1ffa02",
   "metadata": {},
   "source": [
    "***\n",
    "# Good calls : "
   ]
  },
  {
   "cell_type": "code",
   "execution_count": 97,
   "id": "ed9b7970-ccbf-4b74-b7c5-be3770dc8bed",
   "metadata": {},
   "outputs": [],
   "source": [
    "import os \n",
    "import pandas as pd \n",
    "from itertools import product\n",
    "\n",
    "path_project = \"/media/concha-eloko/Linux/PPT_clean\"\n",
    "\n",
    "raw_df = pd.read_csv(f\"{path_project}/raw_metrics.classic_0802.bit75.top40.detailed.tsv\" , sep = \"\\t\", header = 0)\n",
    "\n",
    "phages_to_ignore = [\"K2064PH2\",\"K2069PH1\",\"OBHDAGOG\",\"A1e\",\"A1f\",\"A3a\",\"EONHMLJF\"]\n",
    "working_df = raw_df[~raw_df[\"Phage\"].isin(phages_to_ignore)]\n"
   ]
  },
  {
   "cell_type": "code",
   "execution_count": 103,
   "id": "6eb41e2c-d318-4bbe-a87b-55dbcb5ce3ff",
   "metadata": {},
   "outputs": [
    {
     "data": {
      "text/html": [
       "<div>\n",
       "<style scoped>\n",
       "    .dataframe tbody tr th:only-of-type {\n",
       "        vertical-align: middle;\n",
       "    }\n",
       "\n",
       "    .dataframe tbody tr th {\n",
       "        vertical-align: top;\n",
       "    }\n",
       "\n",
       "    .dataframe thead th {\n",
       "        text-align: right;\n",
       "    }\n",
       "</style>\n",
       "<table border=\"1\" class=\"dataframe\">\n",
       "  <thead>\n",
       "    <tr style=\"text-align: right;\">\n",
       "      <th></th>\n",
       "      <th>Phage</th>\n",
       "      <th>Protein</th>\n",
       "      <th>Folds</th>\n",
       "      <th>TropiGAT_predictions</th>\n",
       "      <th>TropiGAT_good_calls</th>\n",
       "      <th>TropiSeq_predictions</th>\n",
       "      <th>TropiSeq_good_calls</th>\n",
       "      <th>Targets</th>\n",
       "    </tr>\n",
       "  </thead>\n",
       "  <tbody>\n",
       "    <tr>\n",
       "      <th>0</th>\n",
       "      <td>A1a</td>\n",
       "      <td>A1a_00002</td>\n",
       "      <td>6-bladed beta-propeller</td>\n",
       "      <td>KL123:0.977 ; KL14:0.911 ; KL13:0.9 ; KL39:0.8...</td>\n",
       "      <td>0</td>\n",
       "      <td>KL102:0.691</td>\n",
       "      <td>0</td>\n",
       "      <td>KL151</td>\n",
       "    </tr>\n",
       "    <tr>\n",
       "      <th>1</th>\n",
       "      <td>A1a</td>\n",
       "      <td>A1a_00014</td>\n",
       "      <td>right-handed beta-helix</td>\n",
       "      <td>KL45:0.878 ; KL2:0.741 ; KL74:0.57 ; KL48:0.52...</td>\n",
       "      <td>0</td>\n",
       "      <td>KL151:0.698</td>\n",
       "      <td>KL151</td>\n",
       "      <td>KL151</td>\n",
       "    </tr>\n",
       "    <tr>\n",
       "      <th>2</th>\n",
       "      <td>A1b</td>\n",
       "      <td>A1b_00048</td>\n",
       "      <td>right-handed beta-helix</td>\n",
       "      <td>KL128:0.919 ; KL70:0.885 ; KL52:0.862 ; KL46:0...</td>\n",
       "      <td>0</td>\n",
       "      <td>KL157:0.729</td>\n",
       "      <td>KL157</td>\n",
       "      <td>KL157</td>\n",
       "    </tr>\n",
       "    <tr>\n",
       "      <th>3</th>\n",
       "      <td>A1b</td>\n",
       "      <td>A1b_00036</td>\n",
       "      <td>6-bladed beta-propeller</td>\n",
       "      <td>KL7:0.983 ; KL13:0.975 ; KL123:0.971 ; KL14:0....</td>\n",
       "      <td>0</td>\n",
       "      <td>KL102:0.691</td>\n",
       "      <td>0</td>\n",
       "      <td>KL157</td>\n",
       "    </tr>\n",
       "    <tr>\n",
       "      <th>4</th>\n",
       "      <td>A1c</td>\n",
       "      <td>A1c_00046</td>\n",
       "      <td>6-bladed beta-propeller</td>\n",
       "      <td>KL13:0.958 ; KL123:0.951 ; KL19:0.92 ; KL14:0....</td>\n",
       "      <td>0</td>\n",
       "      <td>KL102:0.691</td>\n",
       "      <td>0</td>\n",
       "      <td>KL1</td>\n",
       "    </tr>\n",
       "    <tr>\n",
       "      <th>...</th>\n",
       "      <td>...</td>\n",
       "      <td>...</td>\n",
       "      <td>...</td>\n",
       "      <td>...</td>\n",
       "      <td>...</td>\n",
       "      <td>...</td>\n",
       "      <td>...</td>\n",
       "      <td>...</td>\n",
       "    </tr>\n",
       "    <tr>\n",
       "      <th>225</th>\n",
       "      <td>S13a</td>\n",
       "      <td>S13a_00036</td>\n",
       "      <td>right-handed beta-helix</td>\n",
       "      <td>KL18:0.959 ; KL27:0.938 ; KL60:0.87 ; KL123:0....</td>\n",
       "      <td>0</td>\n",
       "      <td>KL38:0.822</td>\n",
       "      <td>0</td>\n",
       "      <td>KL149,KL102</td>\n",
       "    </tr>\n",
       "    <tr>\n",
       "      <th>226</th>\n",
       "      <td>S13b</td>\n",
       "      <td>S13b_00058</td>\n",
       "      <td>right-handed beta-helix</td>\n",
       "      <td>KL47:0.988 ; KL14:0.921 ; KL23:0.752 ; KL64:0....</td>\n",
       "      <td>0</td>\n",
       "      <td>KL63:0.867</td>\n",
       "      <td>KL63</td>\n",
       "      <td>KL63</td>\n",
       "    </tr>\n",
       "    <tr>\n",
       "      <th>227</th>\n",
       "      <td>S13c</td>\n",
       "      <td>S13c_00055</td>\n",
       "      <td>right-handed beta-helix</td>\n",
       "      <td>KL27:0.958 ; KL38:0.955 ; KL60:0.92 ; KL57:0.9...</td>\n",
       "      <td>0</td>\n",
       "      <td>No predictions</td>\n",
       "      <td>0</td>\n",
       "      <td>KL149,KL102</td>\n",
       "    </tr>\n",
       "    <tr>\n",
       "      <th>228</th>\n",
       "      <td>S13d</td>\n",
       "      <td>S13d_00057</td>\n",
       "      <td>right-handed beta-helix</td>\n",
       "      <td>KL14:0.999 ; KL52:0.973 ; KL38:0.954 ; KL27:0....</td>\n",
       "      <td>KL14</td>\n",
       "      <td>KL14:0.736</td>\n",
       "      <td>KL14</td>\n",
       "      <td>KL14</td>\n",
       "    </tr>\n",
       "    <tr>\n",
       "      <th>229</th>\n",
       "      <td>S13e</td>\n",
       "      <td>S13e_00021</td>\n",
       "      <td>right-handed beta-helix</td>\n",
       "      <td>KL27:1.0 ; KL3:0.982 ; KL29:0.96 ; KL136:0.915...</td>\n",
       "      <td>KL136</td>\n",
       "      <td>KL10:0.558;KL25:0.652</td>\n",
       "      <td>0</td>\n",
       "      <td>KL136</td>\n",
       "    </tr>\n",
       "  </tbody>\n",
       "</table>\n",
       "<p>220 rows × 8 columns</p>\n",
       "</div>"
      ],
      "text/plain": [
       "    Phage     Protein                    Folds  \\\n",
       "0     A1a   A1a_00002  6-bladed beta-propeller   \n",
       "1     A1a   A1a_00014  right-handed beta-helix   \n",
       "2     A1b   A1b_00048  right-handed beta-helix   \n",
       "3     A1b   A1b_00036  6-bladed beta-propeller   \n",
       "4     A1c   A1c_00046  6-bladed beta-propeller   \n",
       "..    ...         ...                      ...   \n",
       "225  S13a  S13a_00036  right-handed beta-helix   \n",
       "226  S13b  S13b_00058  right-handed beta-helix   \n",
       "227  S13c  S13c_00055  right-handed beta-helix   \n",
       "228  S13d  S13d_00057  right-handed beta-helix   \n",
       "229  S13e  S13e_00021  right-handed beta-helix   \n",
       "\n",
       "                                  TropiGAT_predictions TropiGAT_good_calls  \\\n",
       "0    KL123:0.977 ; KL14:0.911 ; KL13:0.9 ; KL39:0.8...                   0   \n",
       "1    KL45:0.878 ; KL2:0.741 ; KL74:0.57 ; KL48:0.52...                   0   \n",
       "2    KL128:0.919 ; KL70:0.885 ; KL52:0.862 ; KL46:0...                   0   \n",
       "3    KL7:0.983 ; KL13:0.975 ; KL123:0.971 ; KL14:0....                   0   \n",
       "4    KL13:0.958 ; KL123:0.951 ; KL19:0.92 ; KL14:0....                   0   \n",
       "..                                                 ...                 ...   \n",
       "225  KL18:0.959 ; KL27:0.938 ; KL60:0.87 ; KL123:0....                   0   \n",
       "226  KL47:0.988 ; KL14:0.921 ; KL23:0.752 ; KL64:0....                   0   \n",
       "227  KL27:0.958 ; KL38:0.955 ; KL60:0.92 ; KL57:0.9...                   0   \n",
       "228  KL14:0.999 ; KL52:0.973 ; KL38:0.954 ; KL27:0....                KL14   \n",
       "229  KL27:1.0 ; KL3:0.982 ; KL29:0.96 ; KL136:0.915...               KL136   \n",
       "\n",
       "      TropiSeq_predictions TropiSeq_good_calls      Targets  \n",
       "0              KL102:0.691                   0        KL151  \n",
       "1              KL151:0.698               KL151        KL151  \n",
       "2              KL157:0.729               KL157        KL157  \n",
       "3              KL102:0.691                   0        KL157  \n",
       "4              KL102:0.691                   0          KL1  \n",
       "..                     ...                 ...          ...  \n",
       "225             KL38:0.822                   0  KL149,KL102  \n",
       "226             KL63:0.867                KL63         KL63  \n",
       "227         No predictions                   0  KL149,KL102  \n",
       "228             KL14:0.736                KL14         KL14  \n",
       "229  KL10:0.558;KL25:0.652                   0        KL136  \n",
       "\n",
       "[220 rows x 8 columns]"
      ]
     },
     "execution_count": 103,
     "metadata": {},
     "output_type": "execute_result"
    }
   ],
   "source": [
    "working_df"
   ]
  },
  {
   "cell_type": "markdown",
   "id": "61a5ebab-6b1e-41f8-9c47-003ad5401886",
   "metadata": {},
   "source": [
    "> Functions : "
   ]
  },
  {
   "cell_type": "code",
   "execution_count": 50,
   "id": "21397fa6-0a55-4079-9d3e-0d2d2af60b7f",
   "metadata": {},
   "outputs": [],
   "source": [
    "def get_all_combinations(raw_df, to_ignore = []) :\n",
    "    all_combinations = set()\n",
    "    for phage in raw_df[\"Phage\"].unique() : \n",
    "        if phage not in to_ignore :\n",
    "            tmp_df = raw_df[raw_df[\"Phage\"] == phage]\n",
    "            targets_list = list(set(tmp_df[\"Targets\"].tolist()[0].split(\",\")))\n",
    "            combinations = set(product([phage], targets_list))\n",
    "            all_combinations = all_combinations.union(combinations)\n",
    "    return all_combinations"
   ]
  },
  {
   "cell_type": "code",
   "execution_count": 51,
   "id": "fc261acd-661a-4b9e-86c6-5187994706eb",
   "metadata": {},
   "outputs": [],
   "source": [
    "def get_calls_metrics(raw_df , top_n = 15, to_ignore = []) :\n",
    "    total_calls = []\n",
    "    TropiGAT_good_calls = []\n",
    "    TropiSeq_good_calls = []\n",
    "    \n",
    "    for phage in raw_df[\"Phage\"].unique() : \n",
    "        if phage not in to_ignore :\n",
    "            tmp_df = raw_df[raw_df[\"Phage\"] == phage]\n",
    "            targets_set = set(tmp_df[\"Targets\"].tolist()[0].split(\",\"))\n",
    "            n_targets = len(targets_set)\n",
    "            combinations = set(product([phage], list(targets_set)))\n",
    "            total_calls = total_calls + list(combinations)\n",
    "            if \"\".join((list(targets_set)[0])).count(\"pass\") == 0 : \n",
    "                #total_calls += n_targets\n",
    "                # TropiGAT calls : \n",
    "                call_tropigat = set()\n",
    "                for calls in tmp_df[\"TropiGAT_predictions\"] :\n",
    "                    top_n_predictions = [x.split(\":\")[0].strip() for x in calls.split(\";\")][0:top_n-1]\n",
    "                    call_tropigat.update(top_n_predictions)\n",
    "                good_calls_tropigat = call_tropigat.intersection(targets_set)\n",
    "                if len(good_calls_tropigat) > 0 :\n",
    "                    for kltype in good_calls_tropigat : \n",
    "                        a = (phage , kltype)\n",
    "                        TropiGAT_good_calls.append(a)\n",
    "                # TropiSeq calls : \n",
    "                call_tropiseq = set()\n",
    "                for calls in tmp_df[\"TropiSeq_predictions\"] :\n",
    "                    top_n_predictions = [x.split(\":\")[0].strip() for x in calls.split(\";\")][0:top_n-1]\n",
    "                    call_tropiseq.update(top_n_predictions)\n",
    "                good_calls_tropiseq = call_tropiseq.intersection(targets_set)\n",
    "                if len(good_calls_tropiseq) > 0 :\n",
    "                    for kltype in good_calls_tropiseq : \n",
    "                        a = (phage , kltype)\n",
    "                        TropiSeq_good_calls.append(a)\n",
    "    all_calls = set(TropiGAT_good_calls).union(set(TropiSeq_good_calls))\n",
    "\n",
    "    return total_calls, all_calls , TropiGAT_good_calls , TropiSeq_good_calls\n"
   ]
  },
  {
   "cell_type": "code",
   "execution_count": 22,
   "id": "4b557c73-56a4-4daf-87e9-8e34c9cefdca",
   "metadata": {
    "jupyter": {
     "source_hidden": true
    }
   },
   "outputs": [],
   "source": [
    "def get_bad_calls_metrics(raw_df , top_n = 15, to_ignore = []) :\n",
    "    total_calls = []\n",
    "    TropiGAT_bad_calls = []\n",
    "    TropiSeq_bad_calls = []\n",
    "    for phage in raw_df[\"Phage\"].unique() : \n",
    "        if phage not in to_ignore :\n",
    "            tmp_df = raw_df[raw_df[\"Phage\"] == phage]\n",
    "            targets_set = set(tmp_df[\"Targets\"].tolist()[0].split(\",\"))\n",
    "            n_targets = len(targets_set)\n",
    "            if \"\".join((list(targets_set)[0])).count(\"pass\") == 0 : \n",
    "                total_calls += n_targets\n",
    "                # TropiGAT calls : \n",
    "                top_n_predictions_all = []\n",
    "                for calls in tmp_df[\"TropiGAT_predictions\"] :\n",
    "                    top_n_predictions = [x.split(\":\")[0].strip() for x in calls.split(\";\")][0:top_n-1]\n",
    "                    top_n_predictions_all = top_n_predictions_all + top_n_predictions\n",
    "                bad_call_tropigat = targets_set - set(top_n_predictions_all)\n",
    "                if len(bad_call_tropigat) > 0 :\n",
    "                    for kltype in bad_call_tropigat : \n",
    "                        a = (phage , kltype)\n",
    "                        TropiGAT_bad_calls.append(a)                        \n",
    "                # TropiSeq calls : \n",
    "                top_n_predictions_all = []\n",
    "                for calls in tmp_df[\"TropiSeq_predictions\"] :\n",
    "                    top_n_predictions = [x.split(\":\")[0].strip() for x in calls.split(\";\")][0:top_n-1]\n",
    "                    top_n_predictions_all = top_n_predictions_all + top_n_predictions\n",
    "                bad_call_tropiseq = targets_set - set(top_n_predictions_all)\n",
    "                if len(bad_call_tropiseq) > 0 :\n",
    "                    for kltype in bad_call_tropiseq : \n",
    "                        a = (phage , kltype)\n",
    "                        TropiSeq_bad_calls.append(a)\n",
    "    all_calls = set(TropiGAT_bad_calls).union(set(TropiSeq_bad_calls))\n",
    "\n",
    "    return total_calls, all_calls , TropiGAT_bad_calls , TropiSeq_bad_calls"
   ]
  },
  {
   "cell_type": "markdown",
   "id": "257d5f4c-0866-44c7-8608-629d2a233e17",
   "metadata": {},
   "source": [
    "> All predictions : "
   ]
  },
  {
   "cell_type": "code",
   "execution_count": 52,
   "id": "1544d6c4-b62f-4b65-ad44-8a0ac09b44e5",
   "metadata": {
    "scrolled": true
   },
   "outputs": [
    {
     "data": {
      "text/plain": [
       "274"
      ]
     },
     "execution_count": 52,
     "metadata": {},
     "output_type": "execute_result"
    }
   ],
   "source": [
    "combinations = get_all_combinations(working_df)\n",
    "len(combinations)\n"
   ]
  },
  {
   "cell_type": "code",
   "execution_count": 183,
   "id": "a7406d62-5983-4c35-a011-bcf8d5dba338",
   "metadata": {},
   "outputs": [
    {
     "data": {
      "text/plain": [
       "(274, 43, 22, 31)"
      ]
     },
     "execution_count": 183,
     "metadata": {},
     "output_type": "execute_result"
    }
   ],
   "source": [
    "total_calls, all_calls , TropiGAT_good_calls , TropiSeq_good_calls = get_calls_metrics(working_df, top_n = 2, to_ignore = phages_to_ignore)\n",
    "len(total_calls), len(all_calls) , len(TropiGAT_good_calls) , len(TropiSeq_good_calls)\n"
   ]
  },
  {
   "cell_type": "code",
   "execution_count": 184,
   "id": "861418d5-87e3-48eb-91fa-5b315d69162e",
   "metadata": {},
   "outputs": [
    {
     "data": {
      "text/plain": [
       "[('D7c', 'KL28'),\n",
       " ('K14PH164C1', 'KL14'),\n",
       " ('K17alfa62', 'KL62'),\n",
       " ('K17alfa62', 'KL17'),\n",
       " ('K24PH164C1', 'KL24'),\n",
       " ('K26PH128C1', 'KL74'),\n",
       " ('K27PH129C1', 'KL27'),\n",
       " ('K37PH164C1', 'KL2'),\n",
       " ('K38PH09C2', 'KL38'),\n",
       " ('K43PH164C1', 'KL43'),\n",
       " ('K46PH129', 'KL46'),\n",
       " ('K57lambda1_2', 'KL57'),\n",
       " ('K60PH164C1', 'KL18'),\n",
       " ('K60PH164C1', 'KL60'),\n",
       " ('K74PH129C2', 'KL74'),\n",
       " ('LCALLHIG', 'KL3'),\n",
       " ('OPBIHMGG', 'KL3'),\n",
       " ('PFOEGONH', 'KL3'),\n",
       " ('PP187', 'KL110'),\n",
       " ('S10a', 'KL25'),\n",
       " ('S11a', 'KL25'),\n",
       " ('S13d', 'KL14')]"
      ]
     },
     "execution_count": 184,
     "metadata": {},
     "output_type": "execute_result"
    }
   ],
   "source": [
    "TropiGAT_good_calls"
   ]
  },
  {
   "cell_type": "code",
   "execution_count": null,
   "id": "1300b6e3-20fc-4063-8f29-99315d70ec0f",
   "metadata": {},
   "outputs": [],
   "source": []
  },
  {
   "cell_type": "code",
   "execution_count": null,
   "id": "2d294923-9c52-45a1-b9c6-bab009cbb31e",
   "metadata": {},
   "outputs": [],
   "source": []
  },
  {
   "cell_type": "code",
   "execution_count": 54,
   "id": "ea9fd093-9e6d-442f-89c1-909daf047793",
   "metadata": {},
   "outputs": [
    {
     "data": {
      "text/plain": [
       "53"
      ]
     },
     "execution_count": 54,
     "metadata": {},
     "output_type": "execute_result"
    }
   ],
   "source": [
    "called_phages = set([pred[0] for pred in all_calls])\n",
    "len(called_phages)"
   ]
  },
  {
   "cell_type": "code",
   "execution_count": 55,
   "id": "742b9e0a-2eea-467f-ba01-a22f24b867f1",
   "metadata": {},
   "outputs": [
    {
     "data": {
      "text/plain": [
       "119"
      ]
     },
     "execution_count": 55,
     "metadata": {},
     "output_type": "execute_result"
    }
   ],
   "source": [
    "total_phages = set([pred[0] for pred in total_calls])\n",
    "len(total_phages)"
   ]
  },
  {
   "cell_type": "markdown",
   "id": "bd482af4-1cba-490b-a424-11c2a8088194",
   "metadata": {},
   "source": [
    "***\n",
    "## Get the random model :"
   ]
  },
  {
   "cell_type": "code",
   "execution_count": 114,
   "id": "e0315ac7-dfec-4bf1-9cea-ca435fd8f14f",
   "metadata": {},
   "outputs": [],
   "source": [
    "import os \n",
    "import numpy as np\n",
    "import random\n",
    "import pandas as pd \n",
    "\n",
    "path_work = \"/media/concha-eloko/Linux/PPT_clean\"\n",
    "\n",
    "raw_df = pd.read_csv(f\"{path_work}/raw_metrics.classic_0802.bit75.top40.detailed.tsv\" , sep = \"\\t\", header = 0)\n",
    "\n",
    "phages_to_ignore = [\"K2064PH2\",\"K2069PH1\",\"OBHDAGOG\",\"A1e\",\"A1f\",\"A3a\",\"EONHMLJF\"]\n",
    "working_df = raw_df[~raw_df[\"Phage\"].isin(phages_to_ignore)]\n",
    "kltypes_TropiGAT = pd.read_csv(f\"{path_work}/TropiGAT_KLtypes.tsv\", names = [\"KL_types\"])\n",
    "kltypes_TropiSeq = pd.read_csv(f\"{path_work}/TropiSeq_KLtypes.tsv\", names = [\"KL_types\"])\n"
   ]
  },
  {
   "cell_type": "markdown",
   "id": "7ea175f4-0010-46cd-82bc-b9b3eb2e34ba",
   "metadata": {},
   "source": [
    "> Compute the dico :"
   ]
  },
  {
   "cell_type": "code",
   "execution_count": 143,
   "id": "05c943bc-fa76-441f-af0c-77e47f67bc90",
   "metadata": {},
   "outputs": [],
   "source": [
    "def random_selection_and_ranking(elements, n, m, bootstrap):\n",
    "    counts = []\n",
    "    for _ in range(bootstrap):\n",
    "        count_top_n = 0\n",
    "        for _ in range(m):\n",
    "            # Step 1: Select a random element from the list\n",
    "            random_element = random.choice(elements)\n",
    "            # Step 2: Assign a random number between 0 and 1 to each element\n",
    "            random_numbers = {element: random.random() for element in elements}\n",
    "            # Step 3: Filter elements with random numbers > 0.5 and rank them\n",
    "            filtered_elements = [element for element, rand_num in random_numbers.items() if rand_num > 0.5]\n",
    "            ranked_elements = sorted(filtered_elements, key=lambda x: random_numbers[x], reverse=True)\n",
    "            # Step 4: Check if the randomly picked element is present in the top n elements\n",
    "            if random_element in ranked_elements[:n]:\n",
    "                count_top_n += 1\n",
    "        counts.append(count_top_n)\n",
    "    \n",
    "    return sum(counts) / len(counts)"
   ]
  },
  {
   "cell_type": "code",
   "execution_count": 137,
   "id": "c6eda36a-bf08-4a6c-a57b-f6745293289c",
   "metadata": {
    "jupyter": {
     "source_hidden": true
    }
   },
   "outputs": [],
   "source": [
    "def random_selection_and_ranking(elements, n, m, bootstrap):\n",
    "    counts = []\n",
    "    for _ in range(bootstrap):\n",
    "        count_top_n = 0\n",
    "        for _ in range(m):\n",
    "            if random.choice(elements) in sorted(\n",
    "                [(rand_num, element) for rand_num, element in {random.random(): element for element in elements}.items() if rand_num > 0.5],\n",
    "                key=lambda x: x[1],\n",
    "                reverse=True\n",
    "            )[:n]:\n",
    "                count_top_n += 1\n",
    "        counts.append(count_top_n)\n",
    "    \n",
    "    return sum(counts) / len(counts)"
   ]
  },
  {
   "cell_type": "code",
   "execution_count": 168,
   "id": "7dbd08b6-8852-4043-a610-2097c7957029",
   "metadata": {},
   "outputs": [
    {
     "name": "stdout",
     "output_type": "stream",
     "text": [
      "CPU times: user 10min 20s, sys: 151 ms, total: 10min 21s\n",
      "Wall time: 10min 21s\n"
     ]
    }
   ],
   "source": [
    "%%time\n",
    "random_tropigat_serie = []\n",
    "random_tropiseq_serie = []\n",
    "\n",
    "for n in range(1,41) : \n",
    "    # random tropigat\n",
    "    random_tropigat = random_selection_and_ranking(kltypes_TropiGAT[\"KL_types\"], n, 274, 1000)\n",
    "    random_tropigat_serie.append(random_tropigat)\n",
    "    # random tropiseq \n",
    "    random_tropiseq = random_selection_and_ranking(kltypes_TropiSeq[\"KL_types\"], n, 274, 1000)\n",
    "    random_tropiseq_serie.append(random_tropiseq)\n"
   ]
  },
  {
   "cell_type": "code",
   "execution_count": 148,
   "id": "eb79e39a-a761-433a-a96c-d2c106ceb12c",
   "metadata": {},
   "outputs": [],
   "source": [
    "tropigat_serie = []\n",
    "tropiseq_serie = []\n",
    "total_serie = []\n",
    "\n",
    "for n in range(1,42) : \n",
    "    total_calls, all_calls , TropiGAT_good_calls , TropiSeq_good_calls = get_calls_metrics(working_df, top_n = n, to_ignore = phages_to_ignore)\n",
    "    tropigat_serie.append(len(TropiGAT_good_calls))\n",
    "    tropiseq_serie.append(len(TropiSeq_good_calls))\n",
    "    total_serie.append(len(all_calls))\n",
    "\n"
   ]
  },
  {
   "cell_type": "code",
   "execution_count": 169,
   "id": "1bdca1a9-5488-4ce5-a9cf-3287fce10302",
   "metadata": {},
   "outputs": [],
   "source": [
    "dico_series = {\n",
    "    \"Random (TropiSeq approach)\": {\n",
    "        \"values\": [round(num) for num in random_tropiseq_serie],\n",
    "        \"color\": \"#ffdc73\",\n",
    "        \"bold\": False\n",
    "    },\n",
    "    \"Random (TropiGAT approach)\": {\n",
    "        \"values\": [round(num) for num in random_tropigat_serie],\n",
    "        \"color\": \"#A3B18A\",\n",
    "        \"bold\": False\n",
    "    },\n",
    "    \"TropiGAT\": {\n",
    "        \"values\": tropigat_serie[1:],\n",
    "        \"color\": \"#344E41\",\n",
    "        \"bold\": True\n",
    "    },\n",
    "    \"TropiSeq\": {\n",
    "        \"values\": tropiseq_serie[1:],\n",
    "        \"color\": \"#a67c00\",\n",
    "        \"bold\": True\n",
    "    },\n",
    "    \"TropiGAT + TropiSeq\": {\n",
    "        \"values\": total_serie[1:],\n",
    "        \"color\": \"#940000\",\n",
    "        \"bold\": True\n",
    "    }\n",
    "}"
   ]
  },
  {
   "cell_type": "code",
   "execution_count": 170,
   "id": "1b07a668-2733-4dd9-aaae-7882aa50bee2",
   "metadata": {},
   "outputs": [
    {
     "name": "stdout",
     "output_type": "stream",
     "text": [
      "{'Random (TropiGAT approach)': {'bold': False,\n",
      "                                'color': '#A3B18A',\n",
      "                                'values': [4, 8, 12, 16, 21, 24, 29, 33, 37, 41, 45, 50, 53, 57, 61,\n",
      "                                           65, 69, 74, 78, 82, 86, 90, 94, 98, 102, 106, 110, 114,\n",
      "                                           117, 121, 124, 127, 129, 131, 133, 134, 135, 136, 136,\n",
      "                                           137]},\n",
      " 'Random (TropiSeq approach)': {'bold': False,\n",
      "                                'color': '#ffdc73',\n",
      "                                'values': [3, 6, 9, 12, 16, 18, 21, 25, 28, 31, 34, 37, 40, 43, 46,\n",
      "                                           49, 52, 55, 58, 61, 65, 68, 71, 74, 77, 80, 83, 86, 89,\n",
      "                                           92, 96, 98, 101, 105, 108, 110, 114, 116, 119, 122]},\n",
      " 'TropiGAT': {'bold': True,\n",
      "              'color': '#344E41',\n",
      "              'values': [22, 29, 34, 39, 40, 47, 49, 56, 60, 62, 63, 69, 75, 78, 79, 80, 84, 89, 90,\n",
      "                         91, 91, 91, 91, 91, 92, 92, 92, 92, 92, 92, 92, 92, 93, 93, 93, 93, 93, 93,\n",
      "                         93, 93]},\n",
      " 'TropiGAT + TropiSeq': {'bold': True,\n",
      "                         'color': '#940000',\n",
      "                         'values': [43, 54, 56, 57, 58, 65, 67, 74, 78, 80, 81, 86, 92, 94, 95, 96,\n",
      "                                    100, 105, 106, 107, 107, 107, 107, 107, 108, 108, 108, 108, 108,\n",
      "                                    108, 108, 108, 109, 109, 109, 109, 109, 109, 109, 109]},\n",
      " 'TropiSeq': {'bold': True,\n",
      "              'color': '#a67c00',\n",
      "              'values': [31, 37, 37, 39, 39, 39, 39, 39, 39, 39, 39, 39, 39, 39, 39, 39, 39, 39, 39,\n",
      "                         39, 39, 39, 39, 39, 39, 39, 39, 39, 39, 39, 39, 39, 39, 39, 39, 39, 39, 39,\n",
      "                         39, 39]}}\n"
     ]
    }
   ],
   "source": [
    "def clean_print(dico) :\n",
    "\t\"\"\" \n",
    "\tInputs : a dico\n",
    "\tOutputs : pretty printed dico\n",
    "\t\"\"\"\n",
    "\timport pprint\n",
    "\tpp = pprint.PrettyPrinter(width = 100, sort_dicts = True, compact = True)\n",
    "\tout = pp.pprint(dico)\n",
    "\treturn out \n",
    "\n",
    "clean_print(dico_series)"
   ]
  },
  {
   "cell_type": "markdown",
   "id": "36dee06b-748b-46fa-9106-30e9e55b3647",
   "metadata": {},
   "source": [
    "> The dico :"
   ]
  },
  {
   "cell_type": "code",
   "execution_count": 173,
   "id": "d3487dc7-41c2-45ee-aedd-2b6093b743d9",
   "metadata": {},
   "outputs": [],
   "source": [
    "# m set to 220\n",
    "dico_series_42 = {'Random': {'bold': False,\n",
    "                                'color': '#A3B18A',\n",
    "                                'values': [3, 7, 10, 13, 17, 20, 23, 26, 30, 33, 36, 40, 43, 46, 50,\n",
    "                                           53, 56, 60, 63, 67, 70, 73, 76, 80, 83, 86, 89, 93, 96,\n",
    "                                           98, 101, 103, 104, 106, 108, 108, 110, 110, 110, 111]},\n",
    " #'Random (TropiSeq approach)': {'bold': False,\n",
    " #                               'color': '#ffdc73',\n",
    " #                               'values': [3, 5, 8, 10, 13, 15, 17, 20, 22, 25, 27, 30, 32, 35, 37,\n",
    " #                                          40, 42, 45, 47, 50, 52, 55, 57, 60, 62, 65, 67, 70, 72,\n",
    " #                                          75, 77, 80, 82, 85, 87, 90, 92, 94, 97, 99]},\n",
    " 'TropiGAT': {'bold': True,\n",
    "              'color': '#344E41',\n",
    "              'values': [22, 29, 34, 39, 40, 47, 49, 56, 60, 62, 63, 69, 75, 78, 79, 80, 84, 89, 90,\n",
    "                         91, 91, 91, 91, 91, 92, 92, 92, 92, 92, 92, 92, 92, 93, 93, 93, 93, 93, 93,\n",
    "                         93, 93]},\n",
    " 'TropiGAT + TropiSeq': {'bold': True,\n",
    "                         'color': '#940000',\n",
    "                         'values': [43, 54, 56, 57, 58, 65, 67, 74, 78, 80, 81, 86, 92, 94, 95, 96,\n",
    "                                    100, 105, 106, 107, 107, 107, 107, 107, 108, 108, 108, 108, 108,\n",
    "                                    108, 108, 108, 109, 109, 109, 109, 109, 109, 109, 109]},\n",
    " 'TropiSeq': {'bold': True,\n",
    "              'color': '#a67c00',\n",
    "              'values': [31, 37, 37, 39, 39, 39, 39, 39, 39, 39, 39, 39, 39, 39, 39, 39, 39, 39, 39,\n",
    "                         39, 39, 39, 39, 39, 39, 39, 39, 39, 39, 39, 39, 39, 39, 39, 39, 39, 39, 39,\n",
    "                         39, 39]}}"
   ]
  },
  {
   "cell_type": "code",
   "execution_count": null,
   "id": "104577a9-b95a-4779-aac5-e7aaf93a7f83",
   "metadata": {
    "jupyter": {
     "source_hidden": true
    }
   },
   "outputs": [],
   "source": [
    "# m set to 274\n",
    "dico_series_42 = {'Random': {'bold': False,\n",
    "                                'color': '#A3B18A',\n",
    "                                'values': [4, 8, 12, 16, 21, 24, 29, 33, 37, 41, 45, 50, 53, 57, 61,\n",
    "                                           65, 69, 74, 78, 82, 86, 90, 94, 98, 102, 106, 110, 114,\n",
    "                                           117, 121, 124, 127, 129, 131, 133, 134, 135, 136, 136,\n",
    "                                           137]},\n",
    "# 'Random (TropiSeq approach)': {'bold': False,\n",
    "#                                'color': '#ffdc73',\n",
    "#                                'values': [3, 6, 9, 12, 16, 18, 21, 25, 28, 31, 34, 37, 40, 43, 46,\n",
    "#                                           49, 52, 55, 58, 61, 65, 68, 71, 74, 77, 80, 83, 86, 89,\n",
    "#                                           92, 96, 98, 101, 105, 108, 110, 114, 116, 119, 122]},\n",
    " 'TropiGAT': {'bold': True,\n",
    "              'color': '#344E41',\n",
    "              'values': [22, 29, 34, 39, 40, 47, 49, 56, 60, 62, 63, 69, 75, 78, 79, 80, 84, 89, 90,\n",
    "                         91, 91, 91, 91, 91, 92, 92, 92, 92, 92, 92, 92, 92, 93, 93, 93, 93, 93, 93,\n",
    "                         93, 93]},\n",
    " 'TropiGAT + TropiSeq': {'bold': True,\n",
    "                         'color': '#940000',\n",
    "                         'values': [43, 54, 56, 57, 58, 65, 67, 74, 78, 80, 81, 86, 92, 94, 95, 96,\n",
    "                                    100, 105, 106, 107, 107, 107, 107, 107, 108, 108, 108, 108, 108,\n",
    "                                    108, 108, 108, 109, 109, 109, 109, 109, 109, 109, 109]},\n",
    " 'TropiSeq': {'bold': True,\n",
    "              'color': '#a67c00',\n",
    "              'values': [31, 37, 37, 39, 39, 39, 39, 39, 39, 39, 39, 39, 39, 39, 39, 39, 39, 39, 39,\n",
    "                         39, 39, 39, 39, 39, 39, 39, 39, 39, 39, 39, 39, 39, 39, 39, 39, 39, 39, 39,\n",
    "                         39, 39]}}"
   ]
  },
  {
   "cell_type": "code",
   "execution_count": 178,
   "id": "de9c2ef5-f810-4e5e-9718-82a46255f7e6",
   "metadata": {
    "scrolled": true
   },
   "outputs": [
    {
     "data": {
      "text/plain": [
       "[40,\n",
       " 47,\n",
       " 46,\n",
       " 44,\n",
       " 41,\n",
       " 45,\n",
       " 44,\n",
       " 48,\n",
       " 48,\n",
       " 47,\n",
       " 45,\n",
       " 46,\n",
       " 49,\n",
       " 48,\n",
       " 45,\n",
       " 43,\n",
       " 44,\n",
       " 45,\n",
       " 43,\n",
       " 40,\n",
       " 37,\n",
       " 34,\n",
       " 31,\n",
       " 27,\n",
       " 25,\n",
       " 22,\n",
       " 19,\n",
       " 15,\n",
       " 12,\n",
       " 10,\n",
       " 7,\n",
       " 5,\n",
       " 5,\n",
       " 3,\n",
       " 1,\n",
       " 1,\n",
       " -1,\n",
       " -1,\n",
       " -1,\n",
       " -2]"
      ]
     },
     "execution_count": 178,
     "metadata": {},
     "output_type": "execute_result"
    }
   ],
   "source": [
    "diferrences = [comb - rand for comb,rand in tuple(zip(dico_series_42[\"TropiGAT + TropiSeq\"][\"values\"] , dico_series_42[\"Random\"][\"values\"]))]\n",
    "diferrences"
   ]
  },
  {
   "cell_type": "code",
   "execution_count": 180,
   "id": "98994691-cd68-4dec-9f82-cc3318c7b39f",
   "metadata": {},
   "outputs": [
    {
     "data": {
      "text/plain": [
       "41.81818181818181"
      ]
     },
     "execution_count": 180,
     "metadata": {},
     "output_type": "execute_result"
    }
   ],
   "source": [
    "92/220*100"
   ]
  },
  {
   "cell_type": "code",
   "execution_count": 104,
   "id": "c46de1a0-fe0c-4ea1-97b8-d7d2334cbda7",
   "metadata": {
    "jupyter": {
     "source_hidden": true
    }
   },
   "outputs": [],
   "source": [
    "dico_series = {'Random (TropiGAT approach)': {'bold': False,\n",
    "                                'color': '#A3B18A',\n",
    "                                'values': [3, 6, 10, 13, 17, 20, 23, 27, 30, 33, 37, 40, 43, 47, 50,\n",
    "                                           53, 56, 59, 63, 66]},\n",
    " 'Random (TropiSeq approach)': {'bold': False,\n",
    "                                'color': '#ffdc73',\n",
    "                                'values': [2, 5, 8, 10, 12, 15, 17, 20, 22, 25, 27, 30, 32, 35, 37,\n",
    "                                           40, 42, 45, 47, 50]},\n",
    " 'TropiGAT': {'bold': True,\n",
    "              'color': '#344E41',\n",
    "              'values': [22, 29, 34, 39, 40, 47, 49, 56, 60, 62, 63, 69, 75, 78, 79, 80, 84, 89, 90,\n",
    "                         91]},\n",
    " 'TropiGAT + TropiSeq': {'bold': True,\n",
    "                         'color': '#940000',\n",
    "                         'values': [43, 54, 56, 57, 58, 65, 67, 74, 78, 80, 81, 86, 92, 94, 95, 96,\n",
    "                                    100, 105, 106, 107]},\n",
    " 'TropiSeq': {'bold': True,\n",
    "              'color': '#a67c00',\n",
    "              'values': [31, 37, 37, 39, 39, 39, 39, 39, 39, 39, 39, 39, 39, 39, 39, 39, 39, 39, 39,\n",
    "                         39]}}"
   ]
  },
  {
   "cell_type": "code",
   "execution_count": 146,
   "id": "306c36e5-7094-4207-bdd6-998d45219b6a",
   "metadata": {
    "jupyter": {
     "source_hidden": true
    }
   },
   "outputs": [],
   "source": [
    "dico_series = {'Random': {'bold': False,\n",
    "                                'color': '#A3B18A',\n",
    "                                'values': [3, 6, 10, 13, 17, 20, 23, 27, 30, 33, 37, 40, 43, 47, 50,\n",
    "                                           53, 56, 59, 63, 66]},\n",
    " 'TropiGAT': {'bold': True,\n",
    "              'color': '#344E41',\n",
    "              'values': [22, 29, 34, 39, 40, 47, 49, 56, 60, 62, 63, 69, 75, 78, 79, 80, 84, 89, 90,\n",
    "                         91]},\n",
    " 'TropiGAT + TropiSeq': {'bold': True,\n",
    "                         'color': '#940000',\n",
    "                         'values': [43, 54, 56, 57, 58, 65, 67, 74, 78, 80, 81, 86, 92, 94, 95, 96,\n",
    "                                    100, 105, 106, 107]},\n",
    " 'TropiSeq': {'bold': True,\n",
    "              'color': '#a67c00',\n",
    "              'values': [31, 37, 37, 39, 39, 39, 39, 39, 39, 39, 39, 39, 39, 39, 39, 39, 39, 39, 39,\n",
    "                         39]}}"
   ]
  },
  {
   "cell_type": "code",
   "execution_count": 176,
   "id": "fce43bc7-25aa-46a6-9c8d-55bca652cbf5",
   "metadata": {},
   "outputs": [
    {
     "data": {
      "image/png": "[encoded data removed]",
      "text/plain": [
       "<Figure size 1000x600 with 1 Axes>"
      ]
     },
     "metadata": {},
     "output_type": "display_data"
    }
   ],
   "source": [
    "import matplotlib.pyplot as plt\n",
    "import seaborn as sns\n",
    "# Define colors and line styles\n",
    "\n",
    "sns.set_style(\"whitegrid\")\n",
    "sns.set_palette(\"muted\")\n",
    "\n",
    "# Plot each data series\n",
    "plt.figure(figsize=(10, 6))\n",
    "for label, series_info in dico_series_42.items():\n",
    "    #values = series_info[\"values\"]\n",
    "    values = [num/222 for num in series_info[\"values\"]]\n",
    "    color = series_info[\"color\"]\n",
    "    bold = series_info[\"bold\"]\n",
    "    linestyle = '-' if bold else '--'\n",
    "    linewidth = 2 if bold else 1\n",
    "    sns.lineplot(x=range(1, len(values) + 1), y=values, label=label, marker='o', linestyle=linestyle, color=color, linewidth=linewidth, markersize=6)\n",
    "\n",
    "# Customize the plot\n",
    "plt.title(' ', fontsize=16)\n",
    "plt.xlabel('Top n', fontsize=14)\n",
    "plt.ylabel('Ratio of (Correct Predictions/ All Predictions)', fontsize=12)\n",
    "plt.xticks(fontsize=8, rotation=0)  # Rotate x-axis tick labels horizontally\n",
    "plt.yticks(fontsize=12)\n",
    "plt.legend(loc='upper left', fontsize=12)\n",
    "plt.grid(True)\n",
    "\n",
    "# Adjust x-axis ticks to integers\n",
    "plt.xticks(range(1, len(values) + 1))\n",
    "\n",
    "# Adjust spines\n",
    "sns.despine()\n",
    "\n",
    "plt.tight_layout()\n",
    "plt.savefig('/media/concha-eloko/Linux/papers/PPT/figures_draft/PPT_vs_random.lytic.svg', dpi = 500)\n",
    "plt.show()\n"
   ]
  },
  {
   "cell_type": "code",
   "execution_count": null,
   "id": "357eb48f-1a32-4f48-b230-8a3c604c00bb",
   "metadata": {},
   "outputs": [],
   "source": []
  }
 ],
 "metadata": {
  "kernelspec": {
   "display_name": "ML_work",
   "language": "python",
   "name": "ml_work"
  },
  "language_info": {
   "codemirror_mode": {
    "name": "ipython",
    "version": 3
   },
   "file_extension": ".py",
   "mimetype": "text/x-python",
   "name": "python",
   "nbconvert_exporter": "python",
   "pygments_lexer": "ipython3",
   "version": "3.11.4"
  },
  "widgets": {
   "application/vnd.jupyter.widget-state+json": {
    "state": {},
    "version_major": 2,
    "version_minor": 0
   }
  }
 },
 "nbformat": 4,
 "nbformat_minor": 5
}
