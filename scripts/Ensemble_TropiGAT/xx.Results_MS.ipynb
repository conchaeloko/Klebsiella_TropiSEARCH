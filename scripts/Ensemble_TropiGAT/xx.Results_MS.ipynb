{
 "cells": [
  {
   "cell_type": "markdown",
   "id": "3d1b152a-df6d-4d6a-82ff-6ba91529308c",
   "metadata": {
    "jp-MarkdownHeadingCollapsed": true
   },
   "source": [
    "# Model metrics :"
   ]
  },
  {
   "cell_type": "markdown",
   "id": "9eb73b61-473f-40c1-855e-b85502563636",
   "metadata": {},
   "source": [
    "> Open DF : "
   ]
  },
  {
   "cell_type": "code",
   "execution_count": null,
   "id": "f3f3d098-c5d4-4efd-af42-54499ea46fc3",
   "metadata": {},
   "outputs": [],
   "source": [
    "import pandas as pd \n",
    "import os \n",
    "\n",
    "path_seqbased = \"/media/concha-eloko/Linux/PPT_clean/RF_2912_models_info\"\n",
    "\n",
    "header_metric = [\"KL_type\", \"Effectifs\",\"MCC\",\"F1\",\"recall\",\"Accuracy\",\"AUC\"]\n",
    "seqbased_df = pd.read_csv(f\"{path_seqbased}/RF_report.0.75.2912.tsv\", sep = \"\\t\", names = header_metric)"
   ]
  },
  {
   "cell_type": "code",
   "execution_count": null,
   "id": "715d29e3-1e10-4443-8ffe-148ff639b614",
   "metadata": {},
   "outputs": [],
   "source": [
    "df_metrics_sorted = seqbased_df.sort_values(by='KL_type', key=lambda x: x.str.split(\"KL\").str[1].astype(int))\n",
    "for col in df_metrics_sorted.columns : \n",
    "    if col not in [\"KL_type\",\"n_prophages\"] : \n",
    "        df_metrics_sorted[col] = round(df_metrics_sorted[col] , 4)"
   ]
  },
  {
   "cell_type": "markdown",
   "id": "870e7938-7162-4e39-9ee5-0cf8e699136e",
   "metadata": {},
   "source": [
    "> Compute metrics "
   ]
  },
  {
   "cell_type": "code",
   "execution_count": null,
   "id": "c5b124c9-e5e1-45ba-8346-3fafaa40c5f9",
   "metadata": {},
   "outputs": [],
   "source": [
    "g1_group = [\"KL2\", \"KL17\", \"KL47\", \"KL64\", \"KL106\", \"KL107\"]\n",
    "g2_group = [\"KL1\", \"KL3\", \"KL14\", \"KL15\", \"KL23\", \"KL24\", \"KL25\", \"KL27\", \"KL51\", \"KL62\", \"KL102\"]\n",
    "\n",
    "big_groups = g1_group + g2_group\n",
    "\n",
    "g3_group = [kltype for kltype in df_metrics_sorted[\"KL_type\"].tolist() if kltype not in big_groups]"
   ]
  },
  {
   "cell_type": "code",
   "execution_count": null,
   "id": "4499b228-2aa1-4342-a35b-850593ee80b2",
   "metadata": {},
   "outputs": [],
   "source": [
    "import statistics\n",
    "\n",
    "mcc_g1 = [float(row[\"MCC\"]) for _,row in df_metrics_sorted.iterrows() if row[\"KL_type\"] in g1_group]\n",
    "mean_g1 = statistics.mean(mcc_g1)\n",
    "std_g1 = statistics.stdev(mcc_g1)\n",
    "\n",
    "\n",
    "mcc_g2 = [float(row[\"MCC\"]) for _,row in df_metrics_sorted.iterrows() if row[\"KL_type\"] in g2_group]\n",
    "mean_g2 = statistics.mean(mcc_g2)\n",
    "std_g2 = statistics.stdev(mcc_g2)\n",
    "\n",
    "\n",
    "mcc_g3 = [float(row[\"MCC\"]) for _,row in df_metrics_sorted.iterrows() if row[\"KL_type\"] in g3_group]\n",
    "mean_g3 = statistics.mean(mcc_g3)\n",
    "std_g3 = statistics.stdev(mcc_g3)"
   ]
  },
  {
   "cell_type": "code",
   "execution_count": null,
   "id": "120cfcae-899b-4551-b799-2b6ad347ff1a",
   "metadata": {},
   "outputs": [],
   "source": [
    "round(mean_g3, 4) , round(std_g3 , 4)"
   ]
  },
  {
   "cell_type": "markdown",
   "id": "7507c84f-3379-4b7b-bd1f-c8bc63371603",
   "metadata": {
    "jp-MarkdownHeadingCollapsed": true
   },
   "source": [
    "***\n",
    "# Get the attention weights :"
   ]
  },
  {
   "cell_type": "code",
   "execution_count": null,
   "id": "fa6eedb5-801b-49a2-9547-be2dcb67ddc4",
   "metadata": {},
   "outputs": [],
   "source": [
    "rsync -avzhe ssh \\\n",
    "/media/concha-eloko/Linux/PPT_clean/TropiGATv2.final_df_v2.filtered.tsv \\\n",
    "conchae@garnatxa.srv.cpd:/home/conchae/prediction_depolymerase_tropism/prophage_prediction/depolymerase_decipher/ficheros_28032023/train_nn \\\n",
    "\n"
   ]
  },
  {
   "cell_type": "code",
   "execution_count": null,
   "id": "9d7dcbdb-7d72-4e89-b704-e13aef3066cd",
   "metadata": {},
   "outputs": [],
   "source": [
    "from torch_geometric.data import HeteroData, DataLoader\n",
    "import torch_geometric.transforms as T\n",
    "from torch_geometric.nn import to_hetero , HeteroConv , GATv2Conv\n",
    "from torch_geometric.utils import negative_sampling\n",
    "from torch_geometric.loader import LinkNeighborLoader\n",
    "import torch\n",
    "from torch import nn\n",
    "import torch.nn.functional as F\n",
    "import torch.optim as optim\n",
    "\n",
    "from sklearn.model_selection import train_test_split, StratifiedKFold\n",
    "from sklearn.preprocessing import LabelEncoder , label_binarize , OneHotEncoder\n",
    "from sklearn.metrics import accuracy_score, precision_score, recall_score, f1_score, roc_auc_score , matthews_corrcoef\n",
    "\n",
    "import TropiGAT_functions \n",
    "import TropiGAT_graph\n",
    "#from TropiGAT_functions import get_top_n_kltypes ,clean_print \n",
    "\n",
    "import os\n",
    "import json\n",
    "import pandas as pd\n",
    "import numpy as np\n",
    "from tqdm import tqdm\n",
    "from itertools import product\n",
    "import random\n",
    "from collections import Counter\n",
    "import warnings\n",
    "import logging\n",
    "from multiprocessing.pool import ThreadPool\n",
    "warnings.filterwarnings(\"ignore\")\n",
    "\n",
    "# *****************************************************************************\n",
    "# Load the Dataframes :\n",
    "path_work = \"/media/concha-eloko/Linux/PPT_clean\"\n",
    "path_ensemble = f\"{path_work}/ficheros_28032023/ensemble_2812\""
   ]
  },
  {
   "cell_type": "code",
   "execution_count": null,
   "id": "d26d1b5f-6c63-4f9e-98ee-3977658b85e2",
   "metadata": {},
   "outputs": [],
   "source": [
    "DF_info = pd.read_csv(f\"{path_work}/TropiGATv2.final_df_v2.filtered.tsv\", sep = \"\\t\" ,  header = 0)\n",
    "DF_info_lvl_0 = DF_info.copy()\n",
    "df_prophages = DF_info_lvl_0.drop_duplicates(subset = [\"Phage\"])\n",
    "dico_prophage_count = dict(Counter(df_prophages[\"KL_type_LCA\"]))\n",
    "\n",
    "\n",
    "#path_work = \"/home/conchae/prediction_depolymerase_tropism/prophage_prediction/depolymerase_decipher/ficheros_28032023\"\n",
    "#DF_info = pd.read_csv(f\"{path_work}/train_nn/TropiGATv2.final_df_v2.filtered.tsv\", sep = \"\\t\" ,  header = 0)\n",
    "\n"
   ]
  },
  {
   "cell_type": "code",
   "execution_count": null,
   "id": "45eabae0-c22f-44c0-9425-41813d658d9c",
   "metadata": {},
   "outputs": [],
   "source": [
    "DF_info_lvl_0"
   ]
  },
  {
   "cell_type": "code",
   "execution_count": null,
   "id": "fb7ce6dd-7244-4211-b2b1-322d99d53332",
   "metadata": {},
   "outputs": [],
   "source": [
    "def make_ensemble_TropiGAT_attention(path_ensemble) : \n",
    "\t\"\"\"\n",
    "\tThis function builds a dictionary with all the models that are part of the TropiGAT predictor\n",
    "\tInput : Path of the models\n",
    "\tOutput : Dictionary , attention weights\n",
    "\t# Make a json file with the versions of the GNN corresponding to each KL types\n",
    "\t# Load it\n",
    "\t# Create the correct model instance (TropiGAT_small_module or TropiGAT_big_module)\n",
    "\t\"\"\"\n",
    "\terrors = []\n",
    "\tDF_info = pd.read_csv(f\"{path_work}/TropiGATv2.final_df_v2.filtered.tsv\", sep = \"\\t\" ,  header = 0)\n",
    "\tDF_info_lvl_0 = DF_info.copy()\n",
    "\tdf_prophages = DF_info_lvl_0.drop_duplicates(subset = [\"Phage\"])\n",
    "\tdico_prophage_count = dict(Counter(df_prophages[\"KL_type_LCA\"]))\n",
    "\tdico_ensemble = {}\n",
    "\tfor GNN_model in os.listdir(path_ensemble) :\n",
    "\t\tif GNN_model[-2:] == \"pt\" :\n",
    "\t\t\tKL_type = GNN_model.split(\".\")[0]\n",
    "\t\t\ttry :\n",
    "\t\t\t\tif dico_prophage_count[KL_type] >= 125 : \n",
    "\t\t\t\t\tmodel = TropiGAT_models.TropiGAT_big_module_attention(hidden_channels = 1280 , heads = 1)\n",
    "\t\t\t\telse :\n",
    "\t\t\t\t\tmodel = TropiGAT_models.TropiGAT_small_module_attention(hidden_channels = 1280 , heads = 1)\n",
    "\t\t\t\tmodel.load_state_dict(torch.load(f\"{path_ensemble}/{GNN_model}\"))\n",
    "\t\t\t\tdico_ensemble[KL_type] = model\n",
    "\t\t\texcept Exception as e :\n",
    "\t\t\t\ta = (KL_type , dico_prophage_count[KL_type], e)\n",
    "\t\t\t\terrors.append(a)\n",
    "\treturn dico_ensemble , errors\n",
    "    \n",
    "@torch.no_grad()\n",
    "def make_predictions(model, data):\n",
    "\tmodel.eval() \n",
    "\toutput, weigths = model(data)\n",
    "\tprobabilities = torch.sigmoid(output)\n",
    "\tpredictions = probabilities.round() \n",
    "\treturn predictions, probabilities , weigths\n",
    "\n",
    "\n",
    "def run_prediction_attentive(dico_graph, dico_ensemble, KL_type) :\n",
    "    dico_predictions = {}\n",
    "    query_graph = dico_graph[KL_type][\"graph\"]\n",
    "    model = dico_ensemble[KL_type]\n",
    "    prediction, probabilities, weights = make_predictions(model, query_graph)\n",
    "    dico_predictions[KL_type] = {\"probabilitites\" : probabilities, \"weights\" : weights}\n",
    "    return dico_predictions"
   ]
  },
  {
   "cell_type": "code",
   "execution_count": null,
   "id": "78b9521c-ed8c-45c2-bd96-9cace4d343fa",
   "metadata": {},
   "outputs": [],
   "source": [
    "dico_models, errors = TropiGAT_functions.make_ensemble_TropiGAT_attention(path_ensemble)\n",
    "#dico_models, errors = make_ensemble_TropiGAT_attention(path_ensemble)\n"
   ]
  },
  {
   "cell_type": "code",
   "execution_count": null,
   "id": "7f3c24c2-981c-41b7-8b6a-321d6f3e3570",
   "metadata": {},
   "outputs": [],
   "source": [
    "%% time\n",
    "# *****************************************************************************\n",
    "# Make graphs : \n",
    "graph_baseline , dico_prophage_kltype_associated = TropiGAT_graph.build_graph_baseline(DF_info_lvl_0)\n",
    "graph_dico = {kltype : {\"graph\" : TropiGAT_graph.build_graph_masking(graph_baseline , dico_prophage_kltype_associated,DF_info_lvl_0, kltype, 0, 1, 0, 0), \n",
    "                        \"positive_indices\" : [index for index,kltype_ in enumerate(DF_info_lvl_0.drop_duplicates(subset = [\"Phage\"])[\"KL_type_LCA\"].tolist()) if kltype_ == kltype]}\n",
    "             for kltype in DF_info_lvl_0[\"KL_type_LCA\"].unique()}"
   ]
  },
  {
   "cell_type": "code",
   "execution_count": null,
   "id": "ef257ebc-3d72-4f62-9ce7-a8853ff96213",
   "metadata": {},
   "outputs": [],
   "source": [
    "attention_data = {}\n",
    "for kltype in dico_models : \n",
    "    out_dico = run_prediction_attentive(graph_dico , dico_models, kltype)\n",
    "    attention_data.update(out_dico)\n",
    "\n",
    "#with open(f\"{path_work}/attention_weights_dico.json\", \"w\") as outfile :\n",
    "#    json.dump(attention_data , outfile)"
   ]
  },
  {
   "cell_type": "code",
   "execution_count": null,
   "id": "9fa6c496-41c1-4528-9cb4-a482eda108b0",
   "metadata": {
    "scrolled": true
   },
   "outputs": [],
   "source": [
    "attention_data_final = {}\n",
    "\n",
    "for kltype in tqdm(attention_data) : \n",
    "    prophage_indices = graph_dico[kltype][\"positive_indices\"]\n",
    "    tmp_dico = {}\n",
    "    for _,prophage_index in enumerate(prophage_indices) :\n",
    "        # If prediction is positive : \n",
    "        if attention_data[kltype][\"probabilitites\"][prophage_index] > 0.5 :\n",
    "            prob = attention_data[kltype][\"probabilitites\"][prophage_index]\n",
    "            real_prophage_name = DF_info[\"Phage\"].unique().tolist()[prophage_index] \n",
    "            tmp_dpos = []\n",
    "           # Look for the edges involving the prophage :\n",
    "            for index_edge, prophage_edge in enumerate(attention_data[kltype][\"weights\"][0][1]) :\n",
    "                if prophage_edge == prophage_index :\n",
    "                    # Check the value of the attention coeff on the edge involving the prophage :\n",
    "                    att_coeff = attention_data[kltype][\"weights\"][1][index_edge]\n",
    "                    if att_coeff > 0.5 : \n",
    "                        # Get the seq of the depo : \n",
    "                        depo_index = attention_data[kltype][\"weights\"][0][0][index_edge]\n",
    "                        real_depo_index = DF_info[\"index\"].unique().tolist()[depo_index] \n",
    "                        seq = DF_info[DF_info[\"index\"] == real_depo_index][\"seq\"].values[0]\n",
    "                        # Pack the data :\n",
    "                        a = (real_depo_index,seq,att_coeff, prob)\n",
    "                        tmp_dpos.append(a)\n",
    "        tmp_dico[real_prophage_name] = a\n",
    "    attention_data_final[kltype] = tmp_dico\n",
    "                        \n",
    "                    \n",
    "    "
   ]
  },
  {
   "cell_type": "code",
   "execution_count": null,
   "id": "73abccea-d3b9-401b-aaca-a2504fe3b055",
   "metadata": {},
   "outputs": [],
   "source": [
    "attention_data_raw = {}\n",
    "\n",
    "for kltype in tqdm(attention_data) : \n",
    "    prophage_indices = graph_dico[kltype][\"positive_indices\"]\n",
    "    tmp_dico = {}\n",
    "    for _,prophage_index in enumerate(prophage_indices) :\n",
    "        # If prediction is positive : \n",
    "        if attention_data[kltype][\"probabilitites\"][prophage_index] > 0.5 :\n",
    "            prob = attention_data[kltype][\"probabilitites\"][prophage_index]\n",
    "            real_prophage_name = DF_info[\"Phage\"].unique().tolist()[prophage_index] \n",
    "            tmp_dpos = []\n",
    "           # Look for the edges involving the prophage :\n",
    "            for index_edge, prophage_edge in enumerate(attention_data[kltype][\"weights\"][0][1]) :\n",
    "                if prophage_edge == prophage_index :\n",
    "                    # Check the value of the attention coeff on the edge involving the prophage :\n",
    "                    att_coeff = attention_data[kltype][\"weights\"][1][index_edge].float()\n",
    "                    #if att_coeff > 0.5 : \n",
    "                    # Get the seq of the depo : \n",
    "                    depo_index = attention_data[kltype][\"weights\"][0][0][index_edge]\n",
    "                    real_depo_index = DF_info[\"index\"].unique().tolist()[depo_index] \n",
    "                    seq = DF_info[DF_info[\"index\"] == real_depo_index][\"seq\"].values[0]\n",
    "                    # Pack the data :\n",
    "                    a = (real_depo_index,seq,att_coeff, prob)\n",
    "                    tmp_dpos.append(a)\n",
    "        tmp_dico[real_prophage_name] = tmp_dpos\n",
    "    attention_data_raw[kltype] = tmp_dico"
   ]
  },
  {
   "cell_type": "code",
   "execution_count": null,
   "id": "aa495adc-d567-4252-add5-3968e2fdf3b2",
   "metadata": {
    "scrolled": true
   },
   "outputs": [],
   "source": [
    "attention_data_raw[\"KL47\"][\"GCF_020405285.1__phage9\"]"
   ]
  },
  {
   "cell_type": "code",
   "execution_count": null,
   "id": "970ce774-5ac9-4023-a22f-1343b579dbbf",
   "metadata": {},
   "outputs": [],
   "source": [
    "with open(f\"{path_work}/attention_weights_dpos.raw.tsv\", \"w\") as outfile:\n",
    "    outfile.write(f\"KL_type\\tPhage\\tdpo_index\\tattention_coefficient\\tprobability\\tseq\\n\")\n",
    "    for kltype in attention_data_raw : \n",
    "        for prophage in attention_data_raw[kltype] : \n",
    "            for dpo in attention_data_raw[kltype][prophage] :\n",
    "                outfile.write(f\"{kltype}\\t{prophage}\\t{dpo[0]}\\t{float(dpo[2])}\\t{dpo[3]}\\t{dpo[1]}\\n\")"
   ]
  },
  {
   "cell_type": "markdown",
   "id": "8005e07e-c4d4-43e8-a3af-39f372575adc",
   "metadata": {},
   "source": [
    "> Write the dico attention_weights_dico.raw.json: "
   ]
  },
  {
   "cell_type": "code",
   "execution_count": null,
   "id": "ffd8f8a9-ee0c-4a51-9d09-f11fc95ab1eb",
   "metadata": {
    "jupyter": {
     "source_hidden": true
    },
    "scrolled": true
   },
   "outputs": [],
   "source": [
    "def convert_to_serializable(data):\n",
    "    if isinstance(data, torch.Tensor):\n",
    "        return data.tolist()  # Convert tensors to lists\n",
    "    elif isinstance(data, dict):\n",
    "        return {k: convert_to_serializable(v) for k, v in data.items()}  # Recursively apply to dictionaries\n",
    "    elif isinstance(data, list):\n",
    "        return [convert_to_serializable(v) for v in data]  # Apply to each item in the list\n",
    "    elif isinstance(data, tuple):\n",
    "        return tuple(convert_to_serializable(v) for v in data)  # Convert items in tuples\n",
    "    else:\n",
    "        return data  # Return as is for serializable types\n",
    "\n",
    "# Apply conversion to the entire attention_data\n",
    "serializable_attention_data = convert_to_serializable(attention_data_final)\n",
    "\n",
    "with open(f\"{path_work}/attention_weights_dico.raw.json\", \"w\") as outfile:\n",
    "    json.dump(serializable_attention_data, outfile)"
   ]
  },
  {
   "cell_type": "code",
   "execution_count": null,
   "id": "a4d6a9ed-7c03-4c58-a740-da26bed95a10",
   "metadata": {
    "jupyter": {
     "source_hidden": true
    }
   },
   "outputs": [],
   "source": [
    "with open(f\"{path_work}/attention_weights_dpos.tsv\", \"w\") as outfile:\n",
    "    outfile.write(f\"KL_type\\tPhage\\tdpo_index\\tattention_coefficient\\tseq\\n\")\n",
    "    for kltype in attention_data_final : \n",
    "        tmp_seq = set()\n",
    "        for prophage in attention_data_final[kltype] : \n",
    "            for dpo in attention_data_final[kltype][prophage] :\n",
    "                print(len(dpo))\n",
    "                if dpo[1] not in tmp_seq :\n",
    "                    tmp_seq.add(dpo[1])\n",
    "                    outfile.write(f\"{kltype}\\t{prophage}\\t{dpo[0]}\\t{dpo[2]}\\t{dpo[1]}\\n\")"
   ]
  },
  {
   "cell_type": "code",
   "execution_count": null,
   "id": "4ccd4d77-bd31-4770-b2ef-d5bd3f64dcfb",
   "metadata": {
    "jupyter": {
     "source_hidden": true
    },
    "scrolled": true
   },
   "outputs": [],
   "source": [
    "attention_data[\"KL128\"]\n",
    "\n",
    "len(attention_data[\"KL128\"][\"probabilitites\"]) , len(attention_data[\"KL128\"][\"weights\"][1])\n",
    "\n",
    "attention_data[\"KL128\"]"
   ]
  },
  {
   "cell_type": "markdown",
   "id": "b31c2cc0-5d17-49df-877d-e2eade4d145a",
   "metadata": {},
   "source": [
    "> Write the data in Json "
   ]
  },
  {
   "cell_type": "code",
   "execution_count": null,
   "id": "6297fe3d-203b-4df0-bd46-064c32c67bd4",
   "metadata": {
    "scrolled": true
   },
   "outputs": [],
   "source": [
    "def convert_to_serializable(data):\n",
    "    if isinstance(data, torch.Tensor):\n",
    "        return data.tolist()  # Convert tensors to lists\n",
    "    elif isinstance(data, dict):\n",
    "        return {k: convert_to_serializable(v) for k, v in data.items()}  # Recursively apply to dictionaries\n",
    "    elif isinstance(data, list):\n",
    "        return [convert_to_serializable(v) for v in data]  # Apply to each item in the list\n",
    "    elif isinstance(data, tuple):\n",
    "        return tuple(convert_to_serializable(v) for v in data)  # Convert items in tuples\n",
    "    else:\n",
    "        return data  # Return as is for serializable types\n",
    "\n",
    "# Apply conversion to the entire attention_data\n",
    "serializable_attention_data = convert_to_serializable(attention_data)\n",
    "\n",
    "# Now, serializable_attention_data contains only JSON-serializable items\n",
    "with open(f\"{path_work}/attention_weights_dico.json\", \"w\") as outfile:\n",
    "    json.dump(serializable_attention_data, outfile)"
   ]
  },
  {
   "cell_type": "code",
   "execution_count": null,
   "id": "8a8ded29-c986-4d8d-95ec-e23b38211ba4",
   "metadata": {
    "scrolled": true
   },
   "outputs": [],
   "source": [
    "serializable_attention_data[\"KL47\"]"
   ]
  },
  {
   "cell_type": "code",
   "execution_count": null,
   "id": "78ac3ca0-f707-4b99-8d54-19885d8845a6",
   "metadata": {},
   "outputs": [],
   "source": [
    "import statistics\n",
    "kltype = \"KL47\"\n",
    "\n",
    "mean_KLtype = statistics.mean(serializable_attention_data[kltype][\"probabilitites\"])\n",
    "\n",
    "mean_KLtype\n"
   ]
  },
  {
   "cell_type": "code",
   "execution_count": null,
   "id": "84a5b87b-c563-4408-9f02-9e1f35dfffc9",
   "metadata": {},
   "outputs": [],
   "source": [
    "len(serializable_attention_data[kltype][\"probabilitites\"])"
   ]
  },
  {
   "cell_type": "markdown",
   "id": "d0d7c755-00e4-49d4-b86b-281f4c17ad01",
   "metadata": {},
   "source": [
    "***\n",
    "# Work on the attention coefficient "
   ]
  },
  {
   "cell_type": "code",
   "execution_count": 1,
   "id": "6a41c570-0413-4387-b8d8-ebc018eb2bd4",
   "metadata": {},
   "outputs": [],
   "source": [
    "import os\n",
    "import pandas as pd \n",
    "from collections import Counter\n",
    "\n",
    "path_work = \"/media/concha-eloko/Linux/PPT_clean\"\n",
    "\n",
    "df_coeff = pd.read_csv(f\"{path_work}/attention_weights_dpos.raw.tsv\" , sep = \"\\t\", header= 0)"
   ]
  },
  {
   "cell_type": "markdown",
   "id": "5269edb3-8764-459a-bf22-c313959266ea",
   "metadata": {},
   "source": [
    "***\n",
    "### Fun with plotting the attention coeff :"
   ]
  },
  {
   "cell_type": "code",
   "execution_count": null,
   "id": "f1c6b485-14af-40f1-920e-5ac1990bbccc",
   "metadata": {},
   "outputs": [],
   "source": [
    "df_coeff"
   ]
  },
  {
   "cell_type": "code",
   "execution_count": null,
   "id": "c2359f77-b967-4a26-b0e7-c70802e665a5",
   "metadata": {
    "scrolled": true
   },
   "outputs": [],
   "source": [
    "kltype = \"KL106\"\n",
    "\n",
    "test_coeff = df_coeff[df_coeff[\"KL_type\"] == kltype][\"attention_coefficient\"].tolist()"
   ]
  },
  {
   "cell_type": "code",
   "execution_count": null,
   "id": "2cbff366-f2d1-4290-a084-cf01091b02b2",
   "metadata": {},
   "outputs": [],
   "source": [
    "import seaborn as sns\n",
    "import matplotlib.pyplot as plt\n",
    "import numpy as np\n",
    "\n",
    "def plot_histogram(data):\n",
    "    \"\"\"\n",
    "    Plot a histogram of the provided data with fixed bins between 0 and 1, with a step of 0.10.\n",
    "    Args:\n",
    "    data (list): A list of floats between 0 and 1.\n",
    "    \"\"\"\n",
    "    # Define the bin edges for the histogram\n",
    "    bin_edges = np.arange(0, 1.1, 0.0250)  # Bins from 0 to 1 with a step of 0.10\n",
    "    # Create the histogram using seaborn\n",
    "    sns.histplot(data, bins=bin_edges, kde=False, color='blue', edgecolor='black')\n",
    "    # Adding labels and title for clarity\n",
    "    plt.xlabel('Value')\n",
    "    plt.ylabel('Count')\n",
    "    plt.title('Distribution of Floats in Windows of 0.10')\n",
    "    # Show the plot\n",
    "    plt.show()"
   ]
  },
  {
   "cell_type": "code",
   "execution_count": null,
   "id": "05360b82-a60c-4a41-a550-dc932d014027",
   "metadata": {},
   "outputs": [],
   "source": [
    "plot_histogram(test_coeff)"
   ]
  },
  {
   "cell_type": "markdown",
   "id": "95711933-e6ca-4660-828a-4b50618c53bf",
   "metadata": {},
   "source": [
    "***\n",
    "### Seek pairs of KL types :"
   ]
  },
  {
   "cell_type": "code",
   "execution_count": null,
   "id": "3301469e-2037-4ce9-bc13-34734f46bcd5",
   "metadata": {},
   "outputs": [],
   "source": [
    "df_coeff"
   ]
  },
  {
   "cell_type": "code",
   "execution_count": null,
   "id": "f570cb3c-b31c-49d3-8536-38ab58a6c737",
   "metadata": {},
   "outputs": [],
   "source": [
    "phage = \"GCF_900502235.1__phage19\"\n",
    "ceoff = 0.7300820350646973\n",
    "\n",
    "df_coeff[df_coeff[\"attention_coefficient\"] == ceoff]"
   ]
  },
  {
   "cell_type": "code",
   "execution_count": 4,
   "id": "a04f86cf-1676-43b3-8fa3-0f1c228dd26c",
   "metadata": {},
   "outputs": [],
   "source": [
    "df_coeff_clean = df_coeff[(df_coeff[\"probability\"] > 0.8) & (df_coeff[\"attention_coefficient\"] > 0.5)]"
   ]
  },
  {
   "cell_type": "code",
   "execution_count": null,
   "id": "d1f6d839-1bf3-40f2-83c9-765a5b599e5f",
   "metadata": {
    "scrolled": true
   },
   "outputs": [],
   "source": [
    "Counter(df_coeff_clean[\"attention_coefficient\"])"
   ]
  },
  {
   "cell_type": "code",
   "execution_count": 9,
   "id": "a92e5c51-fde8-4469-8718-6a0e1cfb8c2f",
   "metadata": {},
   "outputs": [],
   "source": [
    "from itertools import combinations\n",
    "\n",
    "def generate_pairs(input_set):\n",
    "    \"\"\"\n",
    "    Generate all possible pairs of elements from the input set.\n",
    "    Args:\n",
    "    input_set (set): A set of elements.\n",
    "    Returns:\n",
    "    list of sets: A list containing sets of all possible pairs.\n",
    "    \"\"\"\n",
    "    return [set(pair) for pair in combinations(input_set, 2)]\n",
    "\n",
    "def count_sets(list_of_sets):\n",
    "    \"\"\"\n",
    "    Count occurrences of unique sets in a list of sets.\n",
    "    Args:\n",
    "    list_of_sets (list of sets): A list containing sets.\n",
    "    Returns:\n",
    "    Counter: A Counter object with counts of each unique set (converted to tuple).\n",
    "    \"\"\"\n",
    "    # Convert each set to a tuple\n",
    "    tuples = [tuple(sorted(s)) for s in list_of_sets]\n",
    "    # Use Counter to count occurrences\n",
    "    return Counter(tuples)"
   ]
  },
  {
   "cell_type": "code",
   "execution_count": 10,
   "id": "fd356de2-a335-4864-9ee3-60ceace2db42",
   "metadata": {},
   "outputs": [],
   "source": [
    "plural_seq = []\n",
    "combinations_kltypes = []\n",
    "for seq in df_coeff_clean['seq'].unique().tolist() :\n",
    "    df_seq = df_coeff_clean[df_coeff_clean[\"seq\"] == seq][\"KL_type\"]\n",
    "    kltypes = set(df_seq.values)\n",
    "    len_group = len(kltypes)\n",
    "    if len_group > 1 :\n",
    "        if len_group == 2 :\n",
    "            combinations_kltypes.append(kltypes)\n",
    "        else :\n",
    "            combinations_kltypes = combinations_kltypes + generate_pairs(kltypes)\n",
    "        plural_seq.append(seq)\n"
   ]
  },
  {
   "cell_type": "code",
   "execution_count": 11,
   "id": "54bdc316-e45b-438b-b16f-92276769ac95",
   "metadata": {
    "scrolled": true
   },
   "outputs": [
    {
     "data": {
      "text/plain": [
       "Counter({('KL47', 'KL64'): 7,\n",
       "         ('KL107', 'KL15'): 7,\n",
       "         ('KL106', 'KL24'): 6,\n",
       "         ('KL106', 'KL107'): 6,\n",
       "         ('KL106', 'KL15'): 6,\n",
       "         ('KL15', 'KL24'): 6,\n",
       "         ('KL106', 'KL64'): 5,\n",
       "         ('KL106', 'KL47'): 5,\n",
       "         ('KL24', 'KL64'): 4,\n",
       "         ('KL24', 'KL47'): 4,\n",
       "         ('KL107', 'KL24'): 4,\n",
       "         ('KL2', 'KL24'): 4,\n",
       "         ('KL15', 'KL36'): 4,\n",
       "         ('KL106', 'KL36'): 4,\n",
       "         ('KL24', 'KL28'): 4,\n",
       "         ('KL27', 'KL64'): 3,\n",
       "         ('KL106', 'KL27'): 3,\n",
       "         ('KL27', 'KL47'): 3,\n",
       "         ('KL107', 'KL47'): 3,\n",
       "         ('KL14', 'KL64'): 3,\n",
       "         ('KL2', 'KL51'): 3,\n",
       "         ('KL106', 'KL14'): 3,\n",
       "         ('KL24', 'KL51'): 3,\n",
       "         ('KL112', 'KL24'): 3,\n",
       "         ('KL106', 'KL23'): 3,\n",
       "         ('KL108', 'KL36'): 3,\n",
       "         ('KL36', 'KL47'): 3,\n",
       "         ('KL24', 'KL36'): 3,\n",
       "         ('KL107', 'KL36'): 3,\n",
       "         ('KL108', 'KL15'): 3,\n",
       "         ('KL106', 'KL108'): 3,\n",
       "         ('KL108', 'KL47'): 3,\n",
       "         ('KL108', 'KL24'): 3,\n",
       "         ('KL15', 'KL47'): 3,\n",
       "         ('KL105', 'KL47'): 3,\n",
       "         ('KL108', 'KL64'): 3,\n",
       "         ('KL2', 'KL25'): 3,\n",
       "         ('KL17', 'KL30'): 3,\n",
       "         ('KL107', 'KL64'): 2,\n",
       "         ('KL24', 'KL27'): 2,\n",
       "         ('KL107', 'KL27'): 2,\n",
       "         ('KL2', 'KL64'): 2,\n",
       "         ('KL51', 'KL64'): 2,\n",
       "         ('KL106', 'KL2'): 2,\n",
       "         ('KL14', 'KL2'): 2,\n",
       "         ('KL112', 'KL2'): 2,\n",
       "         ('KL14', 'KL51'): 2,\n",
       "         ('KL14', 'KL24'): 2,\n",
       "         ('KL112', 'KL51'): 2,\n",
       "         ('KL107', 'KL23'): 2,\n",
       "         ('KL107', 'KL108'): 2,\n",
       "         ('KL46', 'KL47'): 2,\n",
       "         ('KL24', 'KL46'): 2,\n",
       "         ('KL14', 'KL15'): 2,\n",
       "         ('KL105', 'KL36'): 2,\n",
       "         ('KL105', 'KL108'): 2,\n",
       "         ('KL105', 'KL64'): 2,\n",
       "         ('KL105', 'KL15'): 2,\n",
       "         ('KL105', 'KL106'): 2,\n",
       "         ('KL105', 'KL24'): 2,\n",
       "         ('KL36', 'KL64'): 2,\n",
       "         ('KL15', 'KL64'): 2,\n",
       "         ('KL15', 'KL2'): 2,\n",
       "         ('KL2', 'KL27'): 2,\n",
       "         ('KL2', 'KL47'): 2,\n",
       "         ('KL125', 'KL23'): 2,\n",
       "         ('KL1', 'KL17'): 2,\n",
       "         ('KL1', 'KL16'): 2,\n",
       "         ('KL43', 'KL45'): 2,\n",
       "         ('KL30', 'KL45'): 2,\n",
       "         ('KL19', 'KL25'): 2,\n",
       "         ('KL112', 'KL25'): 2,\n",
       "         ('KL25', 'KL28'): 2,\n",
       "         ('KL24', 'KL25'): 2,\n",
       "         ('KL1', 'KL2'): 2,\n",
       "         ('KL1', 'KL25'): 2,\n",
       "         ('KL1', 'KL28'): 2,\n",
       "         ('KL151', 'KL16'): 2,\n",
       "         ('KL16', 'KL25'): 2,\n",
       "         ('KL15', 'KL51'): 2,\n",
       "         ('KL16', 'KL2'): 2,\n",
       "         ('KL51', 'KL62'): 2,\n",
       "         ('KL114', 'KL63'): 2,\n",
       "         ('KL17', 'KL2'): 2,\n",
       "         ('KL10', 'KL110'): 2,\n",
       "         ('KL10', 'KL2'): 2,\n",
       "         ('KL110', 'KL2'): 2,\n",
       "         ('KL102', 'KL24'): 2,\n",
       "         ('KL70', 'KL74'): 2,\n",
       "         ('KL1', 'KL5'): 2,\n",
       "         ('KL13', 'KL30'): 1,\n",
       "         ('KL13', 'KL22'): 1,\n",
       "         ('KL13', 'KL64'): 1,\n",
       "         ('KL106', 'KL13'): 1,\n",
       "         ('KL13', 'KL27'): 1,\n",
       "         ('KL13', 'KL47'): 1,\n",
       "         ('KL13', 'KL24'): 1,\n",
       "         ('KL107', 'KL13'): 1,\n",
       "         ('KL106', 'KL110'): 1,\n",
       "         ('KL112', 'KL64'): 1,\n",
       "         ('KL106', 'KL51'): 1,\n",
       "         ('KL106', 'KL112'): 1,\n",
       "         ('KL112', 'KL14'): 1,\n",
       "         ('KL36', 'KL46'): 1,\n",
       "         ('KL36', 'KL38'): 1,\n",
       "         ('KL108', 'KL46'): 1,\n",
       "         ('KL108', 'KL38'): 1,\n",
       "         ('KL15', 'KL46'): 1,\n",
       "         ('KL106', 'KL46'): 1,\n",
       "         ('KL38', 'KL46'): 1,\n",
       "         ('KL107', 'KL46'): 1,\n",
       "         ('KL15', 'KL38'): 1,\n",
       "         ('KL106', 'KL38'): 1,\n",
       "         ('KL38', 'KL47'): 1,\n",
       "         ('KL24', 'KL38'): 1,\n",
       "         ('KL107', 'KL38'): 1,\n",
       "         ('KL107', 'KL14'): 1,\n",
       "         ('KL105', 'KL2'): 1,\n",
       "         ('KL105', 'KL14'): 1,\n",
       "         ('KL105', 'KL27'): 1,\n",
       "         ('KL105', 'KL74'): 1,\n",
       "         ('KL2', 'KL36'): 1,\n",
       "         ('KL14', 'KL36'): 1,\n",
       "         ('KL27', 'KL36'): 1,\n",
       "         ('KL36', 'KL74'): 1,\n",
       "         ('KL108', 'KL2'): 1,\n",
       "         ('KL108', 'KL14'): 1,\n",
       "         ('KL108', 'KL27'): 1,\n",
       "         ('KL108', 'KL74'): 1,\n",
       "         ('KL64', 'KL74'): 1,\n",
       "         ('KL15', 'KL27'): 1,\n",
       "         ('KL15', 'KL74'): 1,\n",
       "         ('KL2', 'KL74'): 1,\n",
       "         ('KL106', 'KL74'): 1,\n",
       "         ('KL14', 'KL27'): 1,\n",
       "         ('KL14', 'KL47'): 1,\n",
       "         ('KL14', 'KL74'): 1,\n",
       "         ('KL27', 'KL74'): 1,\n",
       "         ('KL47', 'KL74'): 1,\n",
       "         ('KL24', 'KL74'): 1,\n",
       "         ('KL111', 'KL36'): 1,\n",
       "         ('KL111', 'KL15'): 1,\n",
       "         ('KL106', 'KL111'): 1,\n",
       "         ('KL107', 'KL111'): 1,\n",
       "         ('KL105', 'KL125'): 1,\n",
       "         ('KL105', 'KL123'): 1,\n",
       "         ('KL105', 'KL55'): 1,\n",
       "         ('KL105', 'KL23'): 1,\n",
       "         ('KL105', 'KL107'): 1,\n",
       "         ('KL125', 'KL36'): 1,\n",
       "         ('KL123', 'KL36'): 1,\n",
       "         ('KL36', 'KL55'): 1,\n",
       "         ('KL23', 'KL36'): 1,\n",
       "         ('KL108', 'KL125'): 1,\n",
       "         ('KL108', 'KL123'): 1,\n",
       "         ('KL108', 'KL55'): 1,\n",
       "         ('KL108', 'KL23'): 1,\n",
       "         ('KL125', 'KL64'): 1,\n",
       "         ('KL125', 'KL15'): 1,\n",
       "         ('KL123', 'KL125'): 1,\n",
       "         ('KL125', 'KL55'): 1,\n",
       "         ('KL106', 'KL125'): 1,\n",
       "         ('KL125', 'KL47'): 1,\n",
       "         ('KL125', 'KL24'): 1,\n",
       "         ('KL107', 'KL125'): 1,\n",
       "         ('KL123', 'KL64'): 1,\n",
       "         ('KL55', 'KL64'): 1,\n",
       "         ('KL23', 'KL64'): 1,\n",
       "         ('KL123', 'KL15'): 1,\n",
       "         ('KL15', 'KL55'): 1,\n",
       "         ('KL15', 'KL23'): 1,\n",
       "         ('KL123', 'KL55'): 1,\n",
       "         ('KL106', 'KL123'): 1,\n",
       "         ('KL123', 'KL23'): 1,\n",
       "         ('KL123', 'KL47'): 1,\n",
       "         ('KL123', 'KL24'): 1,\n",
       "         ('KL107', 'KL123'): 1,\n",
       "         ('KL106', 'KL55'): 1,\n",
       "         ('KL23', 'KL55'): 1,\n",
       "         ('KL47', 'KL55'): 1,\n",
       "         ('KL24', 'KL55'): 1,\n",
       "         ('KL107', 'KL55'): 1,\n",
       "         ('KL23', 'KL47'): 1,\n",
       "         ('KL23', 'KL24'): 1,\n",
       "         ('KL1', 'KL125'): 1,\n",
       "         ('KL1', 'KL19'): 1,\n",
       "         ('KL1', 'KL60'): 1,\n",
       "         ('KL1', 'KL57'): 1,\n",
       "         ('KL1', 'KL53'): 1,\n",
       "         ('KL1', 'KL34'): 1,\n",
       "         ('KL1', 'KL114'): 1,\n",
       "         ('KL125', 'KL19'): 1,\n",
       "         ('KL125', 'KL60'): 1,\n",
       "         ('KL125', 'KL57'): 1,\n",
       "         ('KL125', 'KL53'): 1,\n",
       "         ('KL125', 'KL34'): 1,\n",
       "         ('KL125', 'KL17'): 1,\n",
       "         ('KL125', 'KL16'): 1,\n",
       "         ('KL114', 'KL125'): 1,\n",
       "         ('KL19', 'KL60'): 1,\n",
       "         ('KL19', 'KL57'): 1,\n",
       "         ('KL19', 'KL53'): 1,\n",
       "         ('KL19', 'KL34'): 1,\n",
       "         ('KL17', 'KL19'): 1,\n",
       "         ('KL16', 'KL19'): 1,\n",
       "         ('KL114', 'KL19'): 1,\n",
       "         ('KL57', 'KL60'): 1,\n",
       "         ('KL53', 'KL60'): 1,\n",
       "         ('KL34', 'KL60'): 1,\n",
       "         ('KL17', 'KL60'): 1,\n",
       "         ('KL16', 'KL60'): 1,\n",
       "         ('KL114', 'KL60'): 1,\n",
       "         ('KL53', 'KL57'): 1,\n",
       "         ('KL34', 'KL57'): 1,\n",
       "         ('KL17', 'KL57'): 1,\n",
       "         ('KL16', 'KL57'): 1,\n",
       "         ('KL114', 'KL57'): 1,\n",
       "         ('KL34', 'KL53'): 1,\n",
       "         ('KL17', 'KL53'): 1,\n",
       "         ('KL16', 'KL53'): 1,\n",
       "         ('KL114', 'KL53'): 1,\n",
       "         ('KL17', 'KL34'): 1,\n",
       "         ('KL16', 'KL34'): 1,\n",
       "         ('KL114', 'KL34'): 1,\n",
       "         ('KL16', 'KL17'): 1,\n",
       "         ('KL114', 'KL17'): 1,\n",
       "         ('KL114', 'KL16'): 1,\n",
       "         ('KL112', 'KL53'): 1,\n",
       "         ('KL43', 'KL74'): 1,\n",
       "         ('KL14', 'KL45'): 1,\n",
       "         ('KL122', 'KL45'): 1,\n",
       "         ('KL136', 'KL45'): 1,\n",
       "         ('KL122', 'KL14'): 1,\n",
       "         ('KL136', 'KL14'): 1,\n",
       "         ('KL14', 'KL43'): 1,\n",
       "         ('KL122', 'KL136'): 1,\n",
       "         ('KL122', 'KL43'): 1,\n",
       "         ('KL136', 'KL43'): 1,\n",
       "         ('KL43', 'KL62'): 1,\n",
       "         ('KL30', 'KL43'): 1,\n",
       "         ('KL19', 'KL8'): 1,\n",
       "         ('KL48', 'KL8'): 1,\n",
       "         ('KL25', 'KL8'): 1,\n",
       "         ('KL21', 'KL8'): 1,\n",
       "         ('KL112', 'KL8'): 1,\n",
       "         ('KL28', 'KL8'): 1,\n",
       "         ('KL24', 'KL8'): 1,\n",
       "         ('KL19', 'KL48'): 1,\n",
       "         ('KL19', 'KL21'): 1,\n",
       "         ('KL112', 'KL19'): 1,\n",
       "         ('KL19', 'KL28'): 1,\n",
       "         ('KL19', 'KL24'): 1,\n",
       "         ('KL25', 'KL48'): 1,\n",
       "         ('KL21', 'KL48'): 1,\n",
       "         ('KL112', 'KL48'): 1,\n",
       "         ('KL28', 'KL48'): 1,\n",
       "         ('KL24', 'KL48'): 1,\n",
       "         ('KL21', 'KL25'): 1,\n",
       "         ('KL112', 'KL21'): 1,\n",
       "         ('KL21', 'KL28'): 1,\n",
       "         ('KL21', 'KL24'): 1,\n",
       "         ('KL112', 'KL28'): 1,\n",
       "         ('KL1', 'KL110'): 1,\n",
       "         ('KL1', 'KL151'): 1,\n",
       "         ('KL1', 'KL22'): 1,\n",
       "         ('KL1', 'KL3'): 1,\n",
       "         ('KL110', 'KL151'): 1,\n",
       "         ('KL110', 'KL28'): 1,\n",
       "         ('KL110', 'KL22'): 1,\n",
       "         ('KL110', 'KL25'): 1,\n",
       "         ('KL110', 'KL16'): 1,\n",
       "         ('KL110', 'KL3'): 1,\n",
       "         ('KL151', 'KL28'): 1,\n",
       "         ('KL151', 'KL22'): 1,\n",
       "         ('KL151', 'KL25'): 1,\n",
       "         ('KL151', 'KL3'): 1,\n",
       "         ('KL22', 'KL28'): 1,\n",
       "         ('KL16', 'KL28'): 1,\n",
       "         ('KL28', 'KL3'): 1,\n",
       "         ('KL22', 'KL25'): 1,\n",
       "         ('KL16', 'KL22'): 1,\n",
       "         ('KL22', 'KL3'): 1,\n",
       "         ('KL25', 'KL3'): 1,\n",
       "         ('KL16', 'KL3'): 1,\n",
       "         ('KL127', 'KL60'): 1,\n",
       "         ('KL127', 'KL25'): 1,\n",
       "         ('KL25', 'KL60'): 1,\n",
       "         ('KL17', 'KL25'): 1,\n",
       "         ('KL25', 'KL5'): 1,\n",
       "         ('KL25', 'KL7'): 1,\n",
       "         ('KL27', 'KL7'): 1,\n",
       "         ('KL107', 'KL7'): 1,\n",
       "         ('KL25', 'KL27'): 1,\n",
       "         ('KL107', 'KL25'): 1,\n",
       "         ('KL15', 'KL25'): 1,\n",
       "         ('KL149', 'KL15'): 1,\n",
       "         ('KL112', 'KL15'): 1,\n",
       "         ('KL15', 'KL16'): 1,\n",
       "         ('KL136', 'KL15'): 1,\n",
       "         ('KL149', 'KL2'): 1,\n",
       "         ('KL136', 'KL2'): 1,\n",
       "         ('KL149', 'KL25'): 1,\n",
       "         ('KL25', 'KL51'): 1,\n",
       "         ('KL136', 'KL25'): 1,\n",
       "         ('KL149', 'KL51'): 1,\n",
       "         ('KL112', 'KL149'): 1,\n",
       "         ('KL149', 'KL16'): 1,\n",
       "         ('KL136', 'KL149'): 1,\n",
       "         ('KL149', 'KL24'): 1,\n",
       "         ('KL16', 'KL51'): 1,\n",
       "         ('KL136', 'KL51'): 1,\n",
       "         ('KL112', 'KL16'): 1,\n",
       "         ('KL112', 'KL136'): 1,\n",
       "         ('KL136', 'KL16'): 1,\n",
       "         ('KL16', 'KL24'): 1,\n",
       "         ('KL136', 'KL24'): 1,\n",
       "         ('KL25', 'KL30'): 1,\n",
       "         ('KL105', 'KL46'): 1,\n",
       "         ('KL25', 'KL46'): 1,\n",
       "         ('KL105', 'KL25'): 1,\n",
       "         ('KL25', 'KL47'): 1,\n",
       "         ('KL108', 'KL19'): 1,\n",
       "         ('KL19', 'KL51'): 1,\n",
       "         ('KL19', 'KL62'): 1,\n",
       "         ('KL108', 'KL51'): 1,\n",
       "         ('KL108', 'KL62'): 1,\n",
       "         ('KL19', 'KL45'): 1,\n",
       "         ('KL23', 'KL28'): 1,\n",
       "         ('KL102', 'KL28'): 1,\n",
       "         ('KL15', 'KL62'): 1,\n",
       "         ('KL24', 'KL62'): 1,\n",
       "         ('KL107', 'KL62'): 1,\n",
       "         ('KL107', 'KL51'): 1,\n",
       "         ('KL62', 'KL81'): 1,\n",
       "         ('KL102', 'KL55'): 1,\n",
       "         ('KL102', 'KL114'): 1,\n",
       "         ('KL114', 'KL55'): 1,\n",
       "         ('KL10', 'KL64'): 1,\n",
       "         ('KL30', 'KL64'): 1,\n",
       "         ('KL30', 'KL60'): 1,\n",
       "         ('KL14', 'KL30'): 1,\n",
       "         ('KL60', 'KL64'): 1,\n",
       "         ('KL14', 'KL60'): 1,\n",
       "         ('KL3', 'KL51'): 1,\n",
       "         ('KL3', 'KL39'): 1,\n",
       "         ('KL39', 'KL51'): 1,\n",
       "         ('KL51', 'KL81'): 1,\n",
       "         ('KL1', 'KL51'): 1,\n",
       "         ('KL1', 'KL21'): 1,\n",
       "         ('KL2', 'KL21'): 1,\n",
       "         ('KL17', 'KL51'): 1,\n",
       "         ('KL21', 'KL51'): 1,\n",
       "         ('KL17', 'KL21'): 1,\n",
       "         ('KL1', 'KL39'): 1,\n",
       "         ('KL10', 'KL39'): 1,\n",
       "         ('KL10', 'KL108'): 1,\n",
       "         ('KL10', 'KL45'): 1,\n",
       "         ('KL10', 'KL102'): 1,\n",
       "         ('KL10', 'KL7'): 1,\n",
       "         ('KL10', 'KL30'): 1,\n",
       "         ('KL10', 'KL17'): 1,\n",
       "         ('KL10', 'KL24'): 1,\n",
       "         ('KL110', 'KL45'): 1,\n",
       "         ('KL102', 'KL45'): 1,\n",
       "         ('KL2', 'KL45'): 1,\n",
       "         ('KL45', 'KL7'): 1,\n",
       "         ('KL17', 'KL45'): 1,\n",
       "         ('KL24', 'KL45'): 1,\n",
       "         ('KL102', 'KL110'): 1,\n",
       "         ('KL110', 'KL7'): 1,\n",
       "         ('KL110', 'KL30'): 1,\n",
       "         ('KL110', 'KL17'): 1,\n",
       "         ('KL110', 'KL24'): 1,\n",
       "         ('KL102', 'KL2'): 1,\n",
       "         ('KL102', 'KL7'): 1,\n",
       "         ('KL102', 'KL30'): 1,\n",
       "         ('KL102', 'KL17'): 1,\n",
       "         ('KL2', 'KL7'): 1,\n",
       "         ('KL2', 'KL30'): 1,\n",
       "         ('KL30', 'KL7'): 1,\n",
       "         ('KL17', 'KL7'): 1,\n",
       "         ('KL24', 'KL7'): 1,\n",
       "         ('KL24', 'KL30'): 1,\n",
       "         ('KL17', 'KL24'): 1,\n",
       "         ('KL10', 'KL116'): 1,\n",
       "         ('KL30', 'KL48'): 1,\n",
       "         ('KL48', 'KL81'): 1,\n",
       "         ('KL48', 'KL7'): 1,\n",
       "         ('KL102', 'KL46'): 1,\n",
       "         ('KL16', 'KL30'): 1,\n",
       "         ('KL151', 'KL30'): 1,\n",
       "         ('KL16', 'KL63'): 1,\n",
       "         ('KL16', 'KL8'): 1,\n",
       "         ('KL2', 'KL8'): 1,\n",
       "         ('KL29', 'KL74'): 1,\n",
       "         ('KL29', 'KL70'): 1,\n",
       "         ('KL105', 'KL12'): 1,\n",
       "         ('KL12', 'KL45'): 1,\n",
       "         ('KL107', 'KL12'): 1,\n",
       "         ('KL22', 'KL52'): 1,\n",
       "         ('KL128', 'KL52'): 1,\n",
       "         ('KL128', 'KL22'): 1,\n",
       "         ('KL122', 'KL22'): 1,\n",
       "         ('KL105', 'KL9'): 1,\n",
       "         ('KL18', 'KL30'): 1,\n",
       "         ('KL1', 'KL15'): 1,\n",
       "         ('KL30', 'KL55'): 1,\n",
       "         ('KL23', 'KL30'): 1,\n",
       "         ('KL29', 'KL30'): 1,\n",
       "         ('KL123', 'KL27'): 1,\n",
       "         ('KL2', 'KL38'): 1,\n",
       "         ('KL27', 'KL38'): 1,\n",
       "         ('KL2', 'KL81'): 1,\n",
       "         ('KL47', 'KL81'): 1,\n",
       "         ('KL1', 'KL14'): 1,\n",
       "         ('KL122', 'KL27'): 1,\n",
       "         ('KL34', 'KL55'): 1,\n",
       "         ('KL38', 'KL60'): 1,\n",
       "         ('KL46', 'KL57'): 1,\n",
       "         ('KL122', 'KL57'): 1,\n",
       "         ('KL111', 'KL38'): 1,\n",
       "         ('KL112', 'KL23'): 1})"
      ]
     },
     "execution_count": 11,
     "metadata": {},
     "output_type": "execute_result"
    }
   ],
   "source": [
    "count_sets(combinations_kltypes)"
   ]
  },
  {
   "cell_type": "code",
   "execution_count": 12,
   "id": "d28071ab-9dfb-481b-b6c8-562d458ad3b0",
   "metadata": {},
   "outputs": [
    {
     "data": {
      "text/plain": [
       "100"
      ]
     },
     "execution_count": 12,
     "metadata": {},
     "output_type": "execute_result"
    }
   ],
   "source": [
    "len(plural_seq)"
   ]
  },
  {
   "cell_type": "markdown",
   "id": "2b2fd3a8-c282-4370-85d6-07cf9a49477e",
   "metadata": {},
   "source": [
    "***\n",
    "### Check the fold of the assigned dpos\n"
   ]
  },
  {
   "cell_type": "code",
   "execution_count": 2,
   "id": "98a675b3-f083-415b-a69b-f1cd656f4c0b",
   "metadata": {},
   "outputs": [],
   "source": [
    "DF_info_light_folded = pd.read_csv(f\"{path_work}/TropiGAT_v2.light_folded.tsv\", sep = \"\\t\", header = 0)\n"
   ]
  },
  {
   "cell_type": "code",
   "execution_count": 4,
   "id": "91d94df3-aa58-4330-bc41-a2aeb0ac842c",
   "metadata": {},
   "outputs": [
    {
     "data": {
      "text/html": [
       "<div>\n",
       "<style scoped>\n",
       "    .dataframe tbody tr th:only-of-type {\n",
       "        vertical-align: middle;\n",
       "    }\n",
       "\n",
       "    .dataframe tbody tr th {\n",
       "        vertical-align: top;\n",
       "    }\n",
       "\n",
       "    .dataframe thead th {\n",
       "        text-align: right;\n",
       "    }\n",
       "</style>\n",
       "<table border=\"1\" class=\"dataframe\">\n",
       "  <thead>\n",
       "    <tr style=\"text-align: right;\">\n",
       "      <th></th>\n",
       "      <th>Phage</th>\n",
       "      <th>Protein_name</th>\n",
       "      <th>KL_type_LCA</th>\n",
       "      <th>Infected_ancestor</th>\n",
       "      <th>index</th>\n",
       "      <th>Dataset</th>\n",
       "      <th>seq</th>\n",
       "      <th>domain_seq</th>\n",
       "      <th>prophage_id</th>\n",
       "      <th>Fold</th>\n",
       "    </tr>\n",
       "  </thead>\n",
       "  <tbody>\n",
       "    <tr>\n",
       "      <th>0</th>\n",
       "      <td>GCF_902164905.1__phage1</td>\n",
       "      <td>GCF_902164905.1__phage1__34</td>\n",
       "      <td>KL41</td>\n",
       "      <td>GCF_902164905.1</td>\n",
       "      <td>minibatch__460</td>\n",
       "      <td>minibatch</td>\n",
       "      <td>MPATPQDRLYGLTTSVAVKPPVFISVDYDVARFGEQTITSKTPTDE...</td>\n",
       "      <td>QDRLYGLTTSVAVKPPVFISVDYDVARFGEQTITSKTPTDERTITT...</td>\n",
       "      <td>prophage_11309</td>\n",
       "      <td>right-handed beta-helix</td>\n",
       "    </tr>\n",
       "    <tr>\n",
       "      <th>1</th>\n",
       "      <td>GCF_017310305.1__phage5</td>\n",
       "      <td>GCF_017310305.1__phage5__1353</td>\n",
       "      <td>KL30</td>\n",
       "      <td>n4996</td>\n",
       "      <td>minibatch__1084</td>\n",
       "      <td>minibatch</td>\n",
       "      <td>MTVSTQVSRNEYTGNGATTQYDFTFRILDKSHLLVQTMDTSENIVT...</td>\n",
       "      <td>VSTQVSRNEYTGNGATTQYDFTFRILDKSHLLVQTMDTSENIVTLT...</td>\n",
       "      <td>prophage_5</td>\n",
       "      <td>right-handed beta-helix</td>\n",
       "    </tr>\n",
       "    <tr>\n",
       "      <th>7</th>\n",
       "      <td>GCF_900622625.1__phage2</td>\n",
       "      <td>GCF_900622625.1__phage2__2892</td>\n",
       "      <td>KL6</td>\n",
       "      <td>GCF_900622625.1</td>\n",
       "      <td>minibatch__1741</td>\n",
       "      <td>minibatch</td>\n",
       "      <td>MAFNPELGSSSPEVLLDNAKRLDELTNGPAATVPDRAGEPLDSWRK...</td>\n",
       "      <td>ELGSSSPEVLLDNAKRLDELTNGPAATVPDRAGEPLDSWRKMQEDN...</td>\n",
       "      <td>prophage_4098</td>\n",
       "      <td>TIM beta/alpha-barrel</td>\n",
       "    </tr>\n",
       "    <tr>\n",
       "      <th>8</th>\n",
       "      <td>GCF_011044795.1__phage17</td>\n",
       "      <td>GCF_011044795.1__phage17__11</td>\n",
       "      <td>KL19</td>\n",
       "      <td>80.7/1001331</td>\n",
       "      <td>minibatch__467</td>\n",
       "      <td>minibatch</td>\n",
       "      <td>MNRSRRLLMRGIGYLTLFPLLFLFSKKVSSAPNGLTEKVKNRKIEK...</td>\n",
       "      <td>RSRRLLMRGIGYLTLFPLLFLFSKKVSSAPNGLTEKVKNRKIEKDV...</td>\n",
       "      <td>prophage_4997</td>\n",
       "      <td>right-handed beta-helix</td>\n",
       "    </tr>\n",
       "    <tr>\n",
       "      <th>14</th>\n",
       "      <td>GCF_019096335.1__phage21</td>\n",
       "      <td>GCF_019096335.1__phage21__173</td>\n",
       "      <td>KL25</td>\n",
       "      <td>n12421242</td>\n",
       "      <td>minibatch__15</td>\n",
       "      <td>minibatch</td>\n",
       "      <td>MYHLDNTSGVPEMPEPKEQQSISPRWFGESQEQGGISWPGADWFNT...</td>\n",
       "      <td>YHLDNTSGVPEMPEPKEQQSISPRWFGESQEQGGISWPGADWFNTV...</td>\n",
       "      <td>prophage_8486</td>\n",
       "      <td>right-handed beta-helix</td>\n",
       "    </tr>\n",
       "    <tr>\n",
       "      <th>...</th>\n",
       "      <td>...</td>\n",
       "      <td>...</td>\n",
       "      <td>...</td>\n",
       "      <td>...</td>\n",
       "      <td>...</td>\n",
       "      <td>...</td>\n",
       "      <td>...</td>\n",
       "      <td>...</td>\n",
       "      <td>...</td>\n",
       "      <td>...</td>\n",
       "    </tr>\n",
       "    <tr>\n",
       "      <th>11462</th>\n",
       "      <td>GCF_900506765.1__phage17</td>\n",
       "      <td>GCF_900506765.1__phage17__90</td>\n",
       "      <td>KL149</td>\n",
       "      <td>GCF_900506765.1</td>\n",
       "      <td>anubis_return__4216</td>\n",
       "      <td>anubis_return</td>\n",
       "      <td>MMTTLNEHPQWESDIYLIKRSDLVAGGRGGIANMQAQQLANRTAFL...</td>\n",
       "      <td>NRRWFRRFTGNIRAEWSGIHDLSQSSAPVDSYIYRLLLASAVGSPD...</td>\n",
       "      <td>prophage_15598</td>\n",
       "      <td>right-handed beta-helix</td>\n",
       "    </tr>\n",
       "    <tr>\n",
       "      <th>11463</th>\n",
       "      <td>GCF_003255785.1__phage1</td>\n",
       "      <td>GCF_003255785.1__phage1__10</td>\n",
       "      <td>KL127</td>\n",
       "      <td>GCF_003255785.1</td>\n",
       "      <td>anubis_return__4239</td>\n",
       "      <td>anubis_return</td>\n",
       "      <td>MNGLNHNALTCSAVPIPPWERSLQTVEAQPYFSVSQASLVLEGIVF...</td>\n",
       "      <td>MNGLNHNALTCSAVPIPPWERSLQTVEAQPYFSVSQASLVLEGIVF...</td>\n",
       "      <td>prophage_3577</td>\n",
       "      <td>6-bladed beta-propeller</td>\n",
       "    </tr>\n",
       "    <tr>\n",
       "      <th>11464</th>\n",
       "      <td>GCF_002186895.1__phage9</td>\n",
       "      <td>GCF_002186895.1__phage9__5</td>\n",
       "      <td>KL57</td>\n",
       "      <td>GCF_002186895.1</td>\n",
       "      <td>anubis_return__4260</td>\n",
       "      <td>anubis_return</td>\n",
       "      <td>MRYRFIALALCLLSGSKVAISAGFDCSLANLSPTEKTICSNEYLSG...</td>\n",
       "      <td>ITDSPWLVKKIFSSDSFEGGINLEGMNVSSILTYQEIKNDLYIYIS...</td>\n",
       "      <td>prophage_6002</td>\n",
       "      <td>6-bladed beta-propeller</td>\n",
       "    </tr>\n",
       "    <tr>\n",
       "      <th>11465</th>\n",
       "      <td>GCF_004312845.1__phage3</td>\n",
       "      <td>GCF_004312845.1__phage3__38</td>\n",
       "      <td>KL9</td>\n",
       "      <td>GCF_004312845.1</td>\n",
       "      <td>anubis_return__4275</td>\n",
       "      <td>anubis_return</td>\n",
       "      <td>MAILITGKSMTRLPESSSWEEEIELITRSERVAGGLDGPANRPLKS...</td>\n",
       "      <td>DAVIRRDLASDKGTSGVGKLGDKPLVAISYYKSKGQSDQDAVQAAF...</td>\n",
       "      <td>prophage_12656</td>\n",
       "      <td>right-handed beta-helix</td>\n",
       "    </tr>\n",
       "    <tr>\n",
       "      <th>11466</th>\n",
       "      <td>GCF_900172635.1__phage2</td>\n",
       "      <td>GCF_900172635.1__phage2__1608</td>\n",
       "      <td>KL124</td>\n",
       "      <td>GCF_900172635.1</td>\n",
       "      <td>anubis_return__4287</td>\n",
       "      <td>anubis_return</td>\n",
       "      <td>MADLSISVISDQASESNQAGWWHPLDSFQGVEYYGLCKEYGTAGYH...</td>\n",
       "      <td>MADLSISVISDQASESNQAGWWHPLDSFQGVEYYGLCKEYGTAGYH...</td>\n",
       "      <td>prophage_12780</td>\n",
       "      <td>6-bladed beta-propeller</td>\n",
       "    </tr>\n",
       "  </tbody>\n",
       "</table>\n",
       "<p>3908 rows × 10 columns</p>\n",
       "</div>"
      ],
      "text/plain": [
       "                          Phage                   Protein_name KL_type_LCA  \\\n",
       "0       GCF_902164905.1__phage1    GCF_902164905.1__phage1__34        KL41   \n",
       "1       GCF_017310305.1__phage5  GCF_017310305.1__phage5__1353        KL30   \n",
       "7       GCF_900622625.1__phage2  GCF_900622625.1__phage2__2892         KL6   \n",
       "8      GCF_011044795.1__phage17   GCF_011044795.1__phage17__11        KL19   \n",
       "14     GCF_019096335.1__phage21  GCF_019096335.1__phage21__173        KL25   \n",
       "...                         ...                            ...         ...   \n",
       "11462  GCF_900506765.1__phage17   GCF_900506765.1__phage17__90       KL149   \n",
       "11463   GCF_003255785.1__phage1    GCF_003255785.1__phage1__10       KL127   \n",
       "11464   GCF_002186895.1__phage9     GCF_002186895.1__phage9__5        KL57   \n",
       "11465   GCF_004312845.1__phage3    GCF_004312845.1__phage3__38         KL9   \n",
       "11466   GCF_900172635.1__phage2  GCF_900172635.1__phage2__1608       KL124   \n",
       "\n",
       "      Infected_ancestor                index        Dataset  \\\n",
       "0       GCF_902164905.1       minibatch__460      minibatch   \n",
       "1                 n4996      minibatch__1084      minibatch   \n",
       "7       GCF_900622625.1      minibatch__1741      minibatch   \n",
       "8          80.7/1001331       minibatch__467      minibatch   \n",
       "14            n12421242        minibatch__15      minibatch   \n",
       "...                 ...                  ...            ...   \n",
       "11462   GCF_900506765.1  anubis_return__4216  anubis_return   \n",
       "11463   GCF_003255785.1  anubis_return__4239  anubis_return   \n",
       "11464   GCF_002186895.1  anubis_return__4260  anubis_return   \n",
       "11465   GCF_004312845.1  anubis_return__4275  anubis_return   \n",
       "11466   GCF_900172635.1  anubis_return__4287  anubis_return   \n",
       "\n",
       "                                                     seq  \\\n",
       "0      MPATPQDRLYGLTTSVAVKPPVFISVDYDVARFGEQTITSKTPTDE...   \n",
       "1      MTVSTQVSRNEYTGNGATTQYDFTFRILDKSHLLVQTMDTSENIVT...   \n",
       "7      MAFNPELGSSSPEVLLDNAKRLDELTNGPAATVPDRAGEPLDSWRK...   \n",
       "8      MNRSRRLLMRGIGYLTLFPLLFLFSKKVSSAPNGLTEKVKNRKIEK...   \n",
       "14     MYHLDNTSGVPEMPEPKEQQSISPRWFGESQEQGGISWPGADWFNT...   \n",
       "...                                                  ...   \n",
       "11462  MMTTLNEHPQWESDIYLIKRSDLVAGGRGGIANMQAQQLANRTAFL...   \n",
       "11463  MNGLNHNALTCSAVPIPPWERSLQTVEAQPYFSVSQASLVLEGIVF...   \n",
       "11464  MRYRFIALALCLLSGSKVAISAGFDCSLANLSPTEKTICSNEYLSG...   \n",
       "11465  MAILITGKSMTRLPESSSWEEEIELITRSERVAGGLDGPANRPLKS...   \n",
       "11466  MADLSISVISDQASESNQAGWWHPLDSFQGVEYYGLCKEYGTAGYH...   \n",
       "\n",
       "                                              domain_seq     prophage_id  \\\n",
       "0      QDRLYGLTTSVAVKPPVFISVDYDVARFGEQTITSKTPTDERTITT...  prophage_11309   \n",
       "1      VSTQVSRNEYTGNGATTQYDFTFRILDKSHLLVQTMDTSENIVTLT...      prophage_5   \n",
       "7      ELGSSSPEVLLDNAKRLDELTNGPAATVPDRAGEPLDSWRKMQEDN...   prophage_4098   \n",
       "8      RSRRLLMRGIGYLTLFPLLFLFSKKVSSAPNGLTEKVKNRKIEKDV...   prophage_4997   \n",
       "14     YHLDNTSGVPEMPEPKEQQSISPRWFGESQEQGGISWPGADWFNTV...   prophage_8486   \n",
       "...                                                  ...             ...   \n",
       "11462  NRRWFRRFTGNIRAEWSGIHDLSQSSAPVDSYIYRLLLASAVGSPD...  prophage_15598   \n",
       "11463  MNGLNHNALTCSAVPIPPWERSLQTVEAQPYFSVSQASLVLEGIVF...   prophage_3577   \n",
       "11464  ITDSPWLVKKIFSSDSFEGGINLEGMNVSSILTYQEIKNDLYIYIS...   prophage_6002   \n",
       "11465  DAVIRRDLASDKGTSGVGKLGDKPLVAISYYKSKGQSDQDAVQAAF...  prophage_12656   \n",
       "11466  MADLSISVISDQASESNQAGWWHPLDSFQGVEYYGLCKEYGTAGYH...  prophage_12780   \n",
       "\n",
       "                          Fold  \n",
       "0      right-handed beta-helix  \n",
       "1      right-handed beta-helix  \n",
       "7        TIM beta/alpha-barrel  \n",
       "8      right-handed beta-helix  \n",
       "14     right-handed beta-helix  \n",
       "...                        ...  \n",
       "11462  right-handed beta-helix  \n",
       "11463  6-bladed beta-propeller  \n",
       "11464  6-bladed beta-propeller  \n",
       "11465  right-handed beta-helix  \n",
       "11466  6-bladed beta-propeller  \n",
       "\n",
       "[3908 rows x 10 columns]"
      ]
     },
     "execution_count": 4,
     "metadata": {},
     "output_type": "execute_result"
    }
   ],
   "source": [
    "DF_info_light_folded.drop_duplicates(subset = [\"seq\"])"
   ]
  },
  {
   "cell_type": "code",
   "execution_count": 18,
   "id": "8d322be5-8b1a-4404-a1ca-5c5ecf459e0a",
   "metadata": {},
   "outputs": [],
   "source": [
    "assgined_folds = []\n",
    "\n",
    "for _, seq in enumerate(df_coeff[\"seq\"].unique().tolist()) : \n",
    "    fold = DF_info_light_folded[DF_info_light_folded[\"seq\"] == seq][\"Fold\"].values[0]\n",
    "    assgined_folds.append(fold)\n"
   ]
  },
  {
   "cell_type": "code",
   "execution_count": 19,
   "id": "1d08b052-8374-4265-97a0-47c187b20a8f",
   "metadata": {},
   "outputs": [
    {
     "data": {
      "text/plain": [
       "Counter({'right-handed beta-helix': 2314,\n",
       "         '6-bladed beta-propeller': 526,\n",
       "         'TIM beta/alpha-barrel': 202,\n",
       "         'Alpha/Beta hydrolase fold': 71,\n",
       "         'alpha/alpha toroid': 23,\n",
       "         'triple-helix': 17,\n",
       "         'unknown': 1})"
      ]
     },
     "execution_count": 19,
     "metadata": {},
     "output_type": "execute_result"
    }
   ],
   "source": [
    "Counter(assgined_folds)"
   ]
  },
  {
   "cell_type": "code",
   "execution_count": 23,
   "id": "0c78d5a9-6f84-4ac2-b893-f29f41a39d3b",
   "metadata": {},
   "outputs": [
    {
     "data": {
      "text/plain": [
       "Counter({'right-handed beta-helix': 2722,\n",
       "         '6-bladed beta-propeller': 714,\n",
       "         'TIM beta/alpha-barrel': 294,\n",
       "         'Alpha/Beta hydrolase fold': 114,\n",
       "         'triple-helix': 32,\n",
       "         'alpha/alpha toroid': 29,\n",
       "         'unknown': 3})"
      ]
     },
     "execution_count": 23,
     "metadata": {},
     "output_type": "execute_result"
    }
   ],
   "source": [
    "Counter(DF_info_light_folded.drop_duplicates(subset = [\"seq\"])[\"Fold\"])"
   ]
  },
  {
   "cell_type": "code",
   "execution_count": 25,
   "id": "85927f69-0e7c-423c-a632-8c3d7bb7aabd",
   "metadata": {},
   "outputs": [],
   "source": [
    "fold_plural = []\n",
    "\n",
    "for _, seq in enumerate(plural_seq) : \n",
    "    fold = DF_info_light_folded[DF_info_light_folded[\"seq\"] == seq][\"Fold\"].values[0]\n",
    "    fold_plural.append(fold)"
   ]
  },
  {
   "cell_type": "code",
   "execution_count": 26,
   "id": "e87e56d3-715b-40da-ace6-6295c56b0798",
   "metadata": {},
   "outputs": [
    {
     "data": {
      "text/plain": [
       "Counter({'right-handed beta-helix': 46,\n",
       "         '6-bladed beta-propeller': 23,\n",
       "         'TIM beta/alpha-barrel': 14,\n",
       "         'Alpha/Beta hydrolase fold': 12,\n",
       "         'triple-helix': 2,\n",
       "         'alpha/alpha toroid': 2,\n",
       "         'unknown': 1})"
      ]
     },
     "execution_count": 26,
     "metadata": {},
     "output_type": "execute_result"
    }
   ],
   "source": [
    "Counter(fold_plural)"
   ]
  },
  {
   "cell_type": "code",
   "execution_count": 27,
   "id": "68d08742-915e-4348-ac7e-55f9afca6ca7",
   "metadata": {},
   "outputs": [
    {
     "data": {
      "text/plain": [
       "18.154080854309687"
      ]
     },
     "execution_count": 27,
     "metadata": {},
     "output_type": "execute_result"
    }
   ],
   "source": [
    "714/3933*100"
   ]
  },
  {
   "cell_type": "code",
   "execution_count": 28,
   "id": "418ee08f-6ffe-458b-ad51-c2cf3b8ab699",
   "metadata": {},
   "outputs": [
    {
     "data": {
      "text/plain": [
       "23.0"
      ]
     },
     "execution_count": 28,
     "metadata": {},
     "output_type": "execute_result"
    }
   ],
   "source": [
    "23/100*100"
   ]
  },
  {
   "cell_type": "code",
   "execution_count": 29,
   "id": "c70f0ff3-c2a4-428c-a8ed-9d174ba45295",
   "metadata": {},
   "outputs": [
    {
     "data": {
      "text/plain": [
       "100"
      ]
     },
     "execution_count": 29,
     "metadata": {},
     "output_type": "execute_result"
    }
   ],
   "source": [
    "len(fold_plural)"
   ]
  },
  {
   "cell_type": "code",
   "execution_count": null,
   "id": "c06b00bc-f77e-4f98-9705-1a40d738eb99",
   "metadata": {},
   "outputs": [],
   "source": []
  }
 ],
 "metadata": {
  "kernelspec": {
   "display_name": "torch_geometric",
   "language": "python",
   "name": "torch_geometric"
  },
  "language_info": {
   "codemirror_mode": {
    "name": "ipython",
    "version": 3
   },
   "file_extension": ".py",
   "mimetype": "text/x-python",
   "name": "python",
   "nbconvert_exporter": "python",
   "pygments_lexer": "ipython3",
   "version": "3.11.4"
  },
  "widgets": {
   "application/vnd.jupyter.widget-state+json": {
    "state": {},
    "version_major": 2,
    "version_minor": 0
   }
  }
 },
 "nbformat": 4,
 "nbformat_minor": 5
}
