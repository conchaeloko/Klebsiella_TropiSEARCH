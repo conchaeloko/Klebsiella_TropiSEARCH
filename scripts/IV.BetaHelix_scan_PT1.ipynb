{
 "cells": [
  {
   "cell_type": "markdown",
   "metadata": {},
   "source": [
    "# Run the seekfold command on the proteins\n",
    "***\n",
    "## I. Scan the proteins\n",
    "## II. Parse the results\n",
    "***"
   ]
  },
  {
   "cell_type": "markdown",
   "metadata": {},
   "source": [
    "> I."
   ]
  },
  {
   "cell_type": "code",
   "execution_count": null,
   "metadata": {},
   "outputs": [],
   "source": [
    "import subprocess\n",
    "import os\n",
    "\n",
    "path_project = \"/media/concha-eloko/Linux/PPT_clean/ficheros_28032023\"\n",
    "path_pdb = f\"{path_project}/output_ppt\"\n",
    "path_db = f\"/media/concha-eloko/Linux/77_strains_phage_project/depolymerase_pdb/beta_helix.db\"\n",
    "path_tmp = f\"{path_project}/tmp\"\n",
    "\n",
    "def seek_beta_helix(path_in) :\n",
    "    dir_out = f\"{path_project}/seekfold_out\"\n",
    "    protein_id = path_in.split(\"/\")[-1].split(\".pdb\")[0]\n",
    "    path_out = f\"{dir_out}/{protein_id}.out\"\n",
    "    output_frmt = f\"query,target,pident,alnlen,gapopen,qstart,qend,tstart,tend,bits,prob\"\n",
    "    seek = f\"foldseek easy-search {path_in} {path_db} {path_out} {path_tmp} --format-output {output_frmt}\"\n",
    "    #seek = f\"foldseek easy-search {path_in} {path_db} {path_out}.html {path_tmp} --format-mode 3\"\n",
    "    seek_process = subprocess.Popen(seek, shell=True, stdout=subprocess.PIPE, stderr=subprocess.STDOUT)\n",
    "    press_out, press_err = seek_process.communicate()\n",
    "    print (press_out, press_err)\n",
    "\n",
    "paths = [f\"{path_pdb}/{file}\" for file in os.listdir(f\"{path_pdb}\")]\n",
    "\n",
    "for path in paths :\n",
    "    seek_beta_helix(path)"
   ]
  },
  {
   "cell_type": "markdown",
   "metadata": {},
   "source": [
    ">II."
   ]
  },
  {
   "cell_type": "code",
   "execution_count": null,
   "metadata": {},
   "outputs": [],
   "source": [
    "path_project = \"/media/concha-eloko/Linux/77_strains_phage_project\"\n",
    "dir_out = f\"{path_project}/seekfold_out\"\n",
    "\n",
    "import pandas as pd\n",
    "import os \n",
    "\n",
    "outputs = [f\"{dir_out}/{file}\" for file in os.listdir(dir_out) if file[-3:]==\"out\"]\n",
    "\n",
    "header_seekfold = [\"query\",\"target\",\"pident\",\"alnlen\",\"gapopen\",\"qstart\",\"qend\",\"tstart\",\"tend\",\"bits\",\"prob\"]\n",
    "\n",
    "phage_scores = {}\n",
    "top_scores = []\n",
    "top_probs = []\n",
    "for results in outputs :\n",
    "    results_df = pd.read_csv(f\"{results}\", sep = \"\\t\" , names = header_seekfold)\n",
    "    phage = results_df[\"query\"][0].split(\"__\")[0]\n",
    "    cds = results_df[\"query\"][0].split(\"__\")[1].split(\".\")[0]\n",
    "    score = results_df[\"bits\"][0]\n",
    "    prob = results_df[\"prob\"][0]\n",
    "    top_scores.append(score)\n",
    "    top_probs.append(prob)\n",
    "    if phage not in phage_scores :\n",
    "        tmp_score = []\n",
    "        a = (cds , score , prob)\n",
    "        tmp_score.append(a)\n",
    "        phage_scores[phage] = tmp_score\n",
    "    else :\n",
    "        a = (cds , score , prob)\n",
    "        phage_scores[phage].append(a)"
   ]
  },
  {
   "cell_type": "code",
   "execution_count": null,
   "metadata": {},
   "outputs": [],
   "source": [
    "import matplotlib.pyplot as plt\n",
    "import seaborn as sns\n",
    "\n",
    "def plot_distribution(data_list, title_data,num_bins=10):\n",
    "    # Set the style for the plot\n",
    "    sns.set(style='whitegrid')\n",
    "    # Create a figure and axis\n",
    "    fig, ax = plt.subplots()\n",
    "    # Plot the distribution using seaborn's histplot with specified number of bins\n",
    "    sns.histplot(data_list, kde=True, color='blue', ax=ax, bins=num_bins)\n",
    "    # Customize the plot\n",
    "    ax.set(title = title_data, xlabel='Data', ylabel='Frequency')\n",
    "    # Show the plot\n",
    "    plt.show()"
   ]
  }
 ],
 "metadata": {
  "kernelspec": {
   "display_name": "Steinegger_env",
   "language": "python",
   "name": "steinegger_env"
  },
  "language_info": {
   "codemirror_mode": {
    "name": "ipython",
    "version": 3
   },
   "file_extension": ".py",
   "mimetype": "text/x-python",
   "name": "python",
   "nbconvert_exporter": "python",
   "pygments_lexer": "ipython3",
   "version": "3.8.6"
  }
 },
 "nbformat": 4,
 "nbformat_minor": 4
}
