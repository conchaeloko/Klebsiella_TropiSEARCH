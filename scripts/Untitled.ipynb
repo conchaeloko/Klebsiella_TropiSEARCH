{
 "cells": [
  {
   "cell_type": "code",
   "execution_count": null,
   "id": "7cc7554d-70f9-4b0d-a212-5c208b9b13fa",
   "metadata": {},
   "outputs": [],
   "source": [
    "def make_prediction_file (path_file) :\n",
    "    dico_cluster , threshold = make_cluster_dico(f\"{path_file}\")\n",
    "    df_binaries = make_DF_binaries(DF_info_lvl_0 , dico_cluster, threshold)\n",
    "    for KL_type in KLtype_count :\n",
    "        with open(f\"{path_work}/RF_report.{threshold}.2912.tsv\", \"a+\") as outfile :\n",
    "            if KLtype_count[KL_type] < 5 :\n",
    "                outfile.write(f\"{KL_type}\\t{KLtype_count[KL_type]}\\t***No sufficient Data\\n\")\n",
    "            else :\n",
    "                df_kl , all_labels = make_DF_kltype(DF_info_lvl_0 ,df_binaries, KL_type , dico_cluster, collapse = False)\n",
    "                mcc , report, auc = fit_rf_model_random_search(df_kl , all_labels, KL_type,threshold)\n",
    "                outfile.write(f\"{KL_type}\\t{KLtype_count[KL_type]}\\t{mcc}\\t{report['1']['f1-score']}\\t{report['1']['recall']}\\t{report['accuracy']}\\t{auc}\\n\")\n"
   ]
  },
  {
   "cell_type": "code",
   "execution_count": null,
   "id": "718cf6fd-1406-4b27-beb9-f05976a1baa6",
   "metadata": {},
   "outputs": [],
   "source": [
    "metrics_df = open(f\"{path_ensemble}/Metric_Report.2812.tsv\").read().split(\"\\n\")\n",
    "good_KLtypes  = [item.split(\"\\t\")[0] for  index,item in enumerate(metrics_df) if item if item.split(\"\\t\")[2] not in [0.0 , \"***Issue***\"]]\n",
    "kltypes_to_repeat = [item.split(\"\\t\")[0] for  index,item in enumerate(metrics_df) if item if item.split(\"\\t\")[2] in [0.0 , \"***Issue***\"] if item.split(\"\\t\")[0 not in good_KLtypes]]\n"
   ]
  },
  {
   "cell_type": "code",
   "execution_count": null,
   "id": "52a8592d-4643-4629-a3b9-3ee00ee2e3d7",
   "metadata": {},
   "outputs": [],
   "source": []
  },
  {
   "cell_type": "code",
   "execution_count": 1,
   "id": "636a0eb7-6b27-42ca-ba7f-7d933d8768ff",
   "metadata": {},
   "outputs": [
    {
     "data": {
      "text/plain": [
       "14.233576642335766"
      ]
     },
     "execution_count": 1,
     "metadata": {},
     "output_type": "execute_result"
    }
   ],
   "source": [
    "39/274*100"
   ]
  },
  {
   "cell_type": "code",
   "execution_count": 2,
   "id": "72a21e5a-8cb5-4ef3-b3b7-fab4e1759d8c",
   "metadata": {},
   "outputs": [
    {
     "data": {
      "text/plain": [
       "21.897810218978105"
      ]
     },
     "execution_count": 2,
     "metadata": {},
     "output_type": "execute_result"
    }
   ],
   "source": [
    "60/274*100"
   ]
  },
  {
   "cell_type": "code",
   "execution_count": 3,
   "id": "1a90b4eb-3639-494d-a5b5-6b1e25db07a4",
   "metadata": {},
   "outputs": [
    {
     "data": {
      "text/plain": [
       "28.467153284671532"
      ]
     },
     "execution_count": 3,
     "metadata": {},
     "output_type": "execute_result"
    }
   ],
   "source": [
    "78/274*100"
   ]
  },
  {
   "cell_type": "code",
   "execution_count": null,
   "id": "583c5320-c030-4fb7-ba6d-02a967bc864e",
   "metadata": {},
   "outputs": [],
   "source": []
  }
 ],
 "metadata": {
  "kernelspec": {
   "display_name": "Python 3 (ipykernel)",
   "language": "python",
   "name": "python3"
  },
  "language_info": {
   "codemirror_mode": {
    "name": "ipython",
    "version": 3
   },
   "file_extension": ".py",
   "mimetype": "text/x-python",
   "name": "python",
   "nbconvert_exporter": "python",
   "pygments_lexer": "ipython3",
   "version": "3.11.4"
  },
  "widgets": {
   "application/vnd.jupyter.widget-state+json": {
    "state": {},
    "version_major": 2,
    "version_minor": 0
   }
  }
 },
 "nbformat": 4,
 "nbformat_minor": 5
}
