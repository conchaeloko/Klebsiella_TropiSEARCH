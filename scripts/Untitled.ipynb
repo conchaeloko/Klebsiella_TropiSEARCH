{
 "cells": [
  {
   "cell_type": "code",
   "execution_count": 14,
   "id": "6c74e418-3612-45b0-a47c-a1d37959aa1b",
   "metadata": {
    "scrolled": true
   },
   "outputs": [
    {
     "name": "stdout",
     "output_type": "stream",
     "text": [
      "<class 'torch.Tensor'>\n",
      "tensor([[[3.0977e-18, 3.0850e-41, 3.0906e-18, 3.0850e-41, 1.1210e-43],\n",
      "         [0.0000e+00, 8.9683e-44, 0.0000e+00, 3.1110e-18, 3.0850e-41]],\n",
      "\n",
      "        [[0.0000e+00, 0.0000e+00, 0.0000e+00, 0.0000e+00, 0.0000e+00],\n",
      "         [0.0000e+00, 0.0000e+00, 0.0000e+00, 1.4013e-45, 0.0000e+00]],\n",
      "\n",
      "        [[0.0000e+00, 0.0000e+00, 1.3593e-43, 0.0000e+00, 3.0907e-18],\n",
      "         [3.0850e-41, 1.0354e+34, 4.5794e-41, 0.0000e+00, 0.0000e+00]]])\n"
     ]
    }
   ],
   "source": [
    "import torch\n",
    "import math\n",
    "\n",
    "x = torch.empty(3,2,5)\n",
    "print(type(x))\n",
    "print(x)"
   ]
  },
  {
   "cell_type": "code",
   "execution_count": 11,
   "id": "370163d0-f26c-4ea3-92c9-39dd3e592dd9",
   "metadata": {},
   "outputs": [
    {
     "data": {
      "text/plain": [
       "torch.Size([3, 4, 5])"
      ]
     },
     "execution_count": 11,
     "metadata": {},
     "output_type": "execute_result"
    }
   ],
   "source": [
    "x.shape"
   ]
  },
  {
   "cell_type": "code",
   "execution_count": 8,
   "id": "de64bd95-f0ba-4ebd-bec6-3fa2aba039a2",
   "metadata": {},
   "outputs": [
    {
     "data": {
      "text/plain": [
       "tensor([-2.2166e-21,  4.5793e-41,  8.2510e+32,  4.5794e-41,  2.0253e-20,\n",
       "        -2.3787e+16, -2.2399e-21,  4.5793e-41,  8.2513e+32,  4.5794e-41,\n",
       "        -2.6262e-14, -2.0518e+38])"
      ]
     },
     "execution_count": 8,
     "metadata": {},
     "output_type": "execute_result"
    }
   ],
   "source": [
    "x.view(-1)"
   ]
  },
  {
   "cell_type": "code",
   "execution_count": 24,
   "id": "6340ed9e-fbd3-4e09-8cad-0ec683e35ab5",
   "metadata": {},
   "outputs": [],
   "source": [
    "a = torch.rand(3, 226, 226)"
   ]
  },
  {
   "cell_type": "code",
   "execution_count": 25,
   "id": "25c64bd3-84a4-4dd1-80f3-a7f46a1091f8",
   "metadata": {},
   "outputs": [
    {
     "data": {
      "text/plain": [
       "tensor([[[0.2234, 0.7869, 0.9796,  ..., 0.2343, 0.5907, 0.1655],\n",
       "         [0.1559, 0.1984, 0.3483,  ..., 0.6157, 0.8972, 0.6121],\n",
       "         [0.6201, 0.4529, 0.4326,  ..., 0.3733, 0.1174, 0.2893],\n",
       "         ...,\n",
       "         [0.7824, 0.7645, 0.4360,  ..., 0.3626, 0.7846, 0.4953],\n",
       "         [0.5477, 0.5428, 0.7538,  ..., 0.6545, 0.8807, 0.8504],\n",
       "         [0.7138, 0.8921, 0.2864,  ..., 0.0307, 0.7355, 0.4236]],\n",
       "\n",
       "        [[0.5114, 0.2894, 0.1913,  ..., 0.3463, 0.9951, 0.8167],\n",
       "         [0.9285, 0.9260, 0.5500,  ..., 0.5550, 0.2589, 0.4703],\n",
       "         [0.8565, 0.3448, 0.6812,  ..., 0.2364, 0.8317, 0.0602],\n",
       "         ...,\n",
       "         [0.5660, 0.8739, 0.5996,  ..., 0.5643, 0.0650, 0.4774],\n",
       "         [0.5163, 0.7655, 0.4932,  ..., 0.8769, 0.0770, 0.6079],\n",
       "         [0.7999, 0.0682, 0.0573,  ..., 0.9397, 0.4793, 0.5197]],\n",
       "\n",
       "        [[0.7335, 0.0672, 0.0119,  ..., 0.0681, 0.0674, 0.0701],\n",
       "         [0.4934, 0.0812, 0.8383,  ..., 0.3021, 0.5048, 0.1266],\n",
       "         [0.6371, 0.0683, 0.8878,  ..., 0.5561, 0.4834, 0.7947],\n",
       "         ...,\n",
       "         [0.8011, 0.6131, 0.2664,  ..., 0.7078, 0.0655, 0.8773],\n",
       "         [0.4962, 0.0121, 0.3717,  ..., 0.9052, 0.6795, 0.0241],\n",
       "         [0.4664, 0.2031, 0.8510,  ..., 0.3634, 0.5601, 0.9473]]])"
      ]
     },
     "execution_count": 25,
     "metadata": {},
     "output_type": "execute_result"
    }
   ],
   "source": [
    "a"
   ]
  },
  {
   "cell_type": "code",
   "execution_count": 30,
   "id": "12627c66-6b39-4e0b-87af-d1a0b0561d0d",
   "metadata": {},
   "outputs": [
    {
     "data": {
      "text/plain": [
       "tensor([0.2234, 0.7869, 0.9796,  ..., 0.3634, 0.5601, 0.9473])"
      ]
     },
     "execution_count": 30,
     "metadata": {},
     "output_type": "execute_result"
    }
   ],
   "source": [
    "a.view(-1)"
   ]
  },
  {
   "cell_type": "code",
   "execution_count": null,
   "id": "2ca77db6-008d-4d27-8751-cf790f8ff20c",
   "metadata": {},
   "outputs": [],
   "source": []
  }
 ],
 "metadata": {
  "kernelspec": {
   "display_name": "torch_geometric",
   "language": "python",
   "name": "torch_geometric"
  },
  "language_info": {
   "codemirror_mode": {
    "name": "ipython",
    "version": 3
   },
   "file_extension": ".py",
   "mimetype": "text/x-python",
   "name": "python",
   "nbconvert_exporter": "python",
   "pygments_lexer": "ipython3",
   "version": "3.11.4"
  },
  "widgets": {
   "application/vnd.jupyter.widget-state+json": {
    "state": {},
    "version_major": 2,
    "version_minor": 0
   }
  }
 },
 "nbformat": 4,
 "nbformat_minor": 5
}
