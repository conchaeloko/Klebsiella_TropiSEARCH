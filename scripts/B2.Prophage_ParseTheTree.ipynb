{
 "cells": [
  {
   "cell_type": "markdown",
   "metadata": {},
   "source": [
    "# II. **Parsing the tree (PT2)**\n",
    "\n",
    "### The goal is to correct the bias induced by the casule swap in Klebsiella \n",
    "## 1. Information about the Phylo module \n",
    "## 2. About the Family 1 ...\n",
    "Interestingly, the family 1 is constituted of 48__000 prophages. Let's have a closer look into it :\n",
    "> the fastANI/ Viridic process on those prophages <br>\n",
    "> The range of prophage size.\n",
    "A priori, the Family will be dealt with like any other family\n",
    "## 3. Other processes\n",
    "***\n"
   ]
  },
  {
   "cell_type": "markdown",
   "metadata": {},
   "source": [
    "## 1. About the poackage"
   ]
  },
  {
   "cell_type": "raw",
   "metadata": {},
   "source": [
    "http://biopython.org/DIST/docs/tutorial/Tutorial.html#chapter%3Aphylo\n",
    "(13.4 Using Tree and Clade objects)\n",
    "\n",
    "The biopython manual where the information about the tree can be found."
   ]
  },
  {
   "cell_type": "markdown",
   "metadata": {},
   "source": [
    "some relevant methods "
   ]
  },
  {
   "cell_type": "raw",
   "metadata": {},
   "source": [
    "                find_clades :\n",
    "                \n",
    "Find each clade containing a matching element. That is, find each element as with find_elements, but return the corresponding clade object. (This is usually what you want.)\n",
    "The result is an iterable through all matching objects, searching depth-first by default. This is not necessarily the same order as the elements appear in the Newick, Nexus or XML  source file!\n",
    "    \n",
    "                find_elements :\n",
    "                \n",
    "Find all tree elements matching the given attributes, and return the matching elements themselves. Simple Newick trees don’t have complex sub-elements, so this behaves the same as find_clades on them. PhyloXML trees often do have complex objects attached to clades, so this method is useful for extracting those.\n",
    "    \n",
    "                find_any :\n",
    "                \n",
    "Return the first element found by find_elements(), or None. This is also useful for checking whether any matching element exists in the tree, and can be used in a conditional.\n",
    "\n",
    "\n",
    "\n",
    "    Two more methods help navigating between nodes in the tree:\n",
    "\n",
    "\n",
    "                get_path :\n",
    "                \n",
    "List the clades directly between the tree root (or current clade) and the given target. Returns a list of all clade objects along this path, ending with the given target, but excluding the root clade.\n",
    "     \n",
    "                trace :\n",
    "                \n",
    "List of all clade object between two targets in this tree. Excluding start, including finish.\n",
    "\n",
    "*****************************************************************************************************                    \n",
    "Information methods :                   \n",
    "    \n",
    "                common_ancestor :\n",
    "                \n",
    "Find the most recent common ancestor of all the given targets. (This will be a Clade object). If no target is given, returns the root of the current clade (the one this method is called from); if 1 target is given, this returns the target itself. However, if any of the specified targets are not found in the current tree (or clade), an exception is raised.\n",
    "\n",
    "                count_terminals :\n",
    "                \n",
    "Counts the number of terminal (leaf) nodes within the tree.\n",
    "                \n",
    "                depths : \n",
    "                \n",
    "Create a mapping of tree clades to depths. The result is a dictionary where the keys are all of the Clade instances in the tree, and the values are the distance from the root to each clade (including terminals). By default the distance is the cumulative branch length leading to the clade, but with the unit_branch_lengths=True option, only the number of branches (levels in the tree) is counted.\n",
    "\n",
    "                distance :\n",
    "                \n",
    "Calculate the sum of the branch lengths between two targets. If only one target is specified, the other is the root of this tree.\n",
    "\n",
    "                total_branch_length :\n",
    "                \n",
    "Calculate the sum of all the branch lengths in this tree. This is usually just called the “length” of the tree in phylogenetics, but we use a more explicit name to avoid confusion with Python terminology.\n",
    "\n",
    "# ****************************************************************************************************\n",
    "\n",
    "                            The rest of these methods are boolean checks:\n",
    "\n",
    "is_bifurcating\n",
    "    True if the tree is strictly bifurcating; i.e. all nodes have either 2 or 0 children (internal or external, respectively). The root may have 3 descendents and still be considered part of a bifurcating tree.\n",
    "\n",
    "is_monophyletic\n",
    "    Test if all of the given targets comprise a complete subclade — i.e., there exists a clade such that its terminals are the same set as the given targets. The targets should be terminals of the tree. For convenience, this method returns the common ancestor (MCRA) of the targets if they are monophyletic (instead of the value True), and False otherwise.\n",
    "\n",
    "is_parent_of\n",
    "    True if target is a descendent of this tree — not required to be a direct descendent. To check direct descendents of a clade, simply use list membership testing: if subclade in clade: ...\n",
    "\n",
    "is_preterminal\n",
    "    True if all direct descendents are terminal; False if any direct descendent is not terminal."
   ]
  },
  {
   "cell_type": "markdown",
   "metadata": {},
   "source": [
    "***\n",
    "## 2. About the family 1 "
   ]
  },
  {
   "cell_type": "code",
   "execution_count": null,
   "metadata": {},
   "outputs": [],
   "source": []
  },
  {
   "cell_type": "markdown",
   "metadata": {},
   "source": [
    "***\n",
    "## 3. Prophage labeling first step "
   ]
  },
  {
   "cell_type": "code",
   "execution_count": 1,
   "metadata": {
    "collapsed": true,
    "jupyter": {
     "outputs_hidden": true
    }
   },
   "outputs": [
    {
     "ename": "FileNotFoundError",
     "evalue": "[Errno 2] No such file or directory: '/home/conchae/prediction_depolymerase_tropism/iqtree_local/tree_files/pastML_final_results/named.tree_Klensiella_genomes_fixed.2.1.nwk'",
     "output_type": "error",
     "traceback": [
      "\u001b[0;31m---------------------------------------------------------------------------\u001b[0m",
      "\u001b[0;31mFileNotFoundError\u001b[0m                         Traceback (most recent call last)",
      "\u001b[0;32m<ipython-input-1-4a41b6049fe8>\u001b[0m in \u001b[0;36m<module>\u001b[0;34m\u001b[0m\n\u001b[1;32m     12\u001b[0m \u001b[0mpath_tree\u001b[0m\u001b[0;34m=\u001b[0m\u001b[0;34m\"/home/conchae/prediction_depolymerase_tropism/iqtree_local/tree_files/pastML_final_results\"\u001b[0m\u001b[0;34m\u001b[0m\u001b[0;34m\u001b[0m\u001b[0m\n\u001b[1;32m     13\u001b[0m \u001b[0;34m\u001b[0m\u001b[0m\n\u001b[0;32m---> 14\u001b[0;31m \u001b[0mtree\u001b[0m \u001b[0;34m=\u001b[0m \u001b[0mPhylo\u001b[0m\u001b[0;34m.\u001b[0m\u001b[0mread\u001b[0m\u001b[0;34m(\u001b[0m\u001b[0;34mf\"{path_tree}/named.tree_Klensiella_genomes_fixed.2.1.nwk\"\u001b[0m\u001b[0;34m,\u001b[0m \u001b[0;34m\"newick\"\u001b[0m\u001b[0;34m)\u001b[0m\u001b[0;34m\u001b[0m\u001b[0;34m\u001b[0m\u001b[0m\n\u001b[0m\u001b[1;32m     15\u001b[0m \u001b[0;34m\u001b[0m\u001b[0m\n\u001b[1;32m     16\u001b[0m     \u001b[0;31m# Generating the proper cluster file :\u001b[0m\u001b[0;34m\u001b[0m\u001b[0;34m\u001b[0m\u001b[0;34m\u001b[0m\u001b[0m\n",
      "\u001b[0;32m~/anaconda3/lib/python3.7/site-packages/Bio/Phylo/_io.py\u001b[0m in \u001b[0;36mread\u001b[0;34m(file, format, **kwargs)\u001b[0m\n\u001b[1;32m     58\u001b[0m     \u001b[0;32mtry\u001b[0m\u001b[0;34m:\u001b[0m\u001b[0;34m\u001b[0m\u001b[0;34m\u001b[0m\u001b[0m\n\u001b[1;32m     59\u001b[0m         \u001b[0mtree_gen\u001b[0m \u001b[0;34m=\u001b[0m \u001b[0mparse\u001b[0m\u001b[0;34m(\u001b[0m\u001b[0mfile\u001b[0m\u001b[0;34m,\u001b[0m \u001b[0mformat\u001b[0m\u001b[0;34m,\u001b[0m \u001b[0;34m**\u001b[0m\u001b[0mkwargs\u001b[0m\u001b[0;34m)\u001b[0m\u001b[0;34m\u001b[0m\u001b[0;34m\u001b[0m\u001b[0m\n\u001b[0;32m---> 60\u001b[0;31m         \u001b[0mtree\u001b[0m \u001b[0;34m=\u001b[0m \u001b[0mnext\u001b[0m\u001b[0;34m(\u001b[0m\u001b[0mtree_gen\u001b[0m\u001b[0;34m)\u001b[0m\u001b[0;34m\u001b[0m\u001b[0;34m\u001b[0m\u001b[0m\n\u001b[0m\u001b[1;32m     61\u001b[0m     \u001b[0;32mexcept\u001b[0m \u001b[0mStopIteration\u001b[0m\u001b[0;34m:\u001b[0m\u001b[0;34m\u001b[0m\u001b[0;34m\u001b[0m\u001b[0m\n\u001b[1;32m     62\u001b[0m         \u001b[0;32mraise\u001b[0m \u001b[0mValueError\u001b[0m\u001b[0;34m(\u001b[0m\u001b[0;34m\"There are no trees in this file.\"\u001b[0m\u001b[0;34m)\u001b[0m \u001b[0;32mfrom\u001b[0m \u001b[0;32mNone\u001b[0m\u001b[0;34m\u001b[0m\u001b[0;34m\u001b[0m\u001b[0m\n",
      "\u001b[0;32m~/anaconda3/lib/python3.7/site-packages/Bio/Phylo/_io.py\u001b[0m in \u001b[0;36mparse\u001b[0;34m(file, format, **kwargs)\u001b[0m\n\u001b[1;32m     46\u001b[0m \u001b[0;34m\u001b[0m\u001b[0m\n\u001b[1;32m     47\u001b[0m     \"\"\"\n\u001b[0;32m---> 48\u001b[0;31m     \u001b[0;32mwith\u001b[0m \u001b[0mFile\u001b[0m\u001b[0;34m.\u001b[0m\u001b[0mas_handle\u001b[0m\u001b[0;34m(\u001b[0m\u001b[0mfile\u001b[0m\u001b[0;34m)\u001b[0m \u001b[0;32mas\u001b[0m \u001b[0mfp\u001b[0m\u001b[0;34m:\u001b[0m\u001b[0;34m\u001b[0m\u001b[0;34m\u001b[0m\u001b[0m\n\u001b[0m\u001b[1;32m     49\u001b[0m         \u001b[0;32myield\u001b[0m \u001b[0;32mfrom\u001b[0m \u001b[0mgetattr\u001b[0m\u001b[0;34m(\u001b[0m\u001b[0msupported_formats\u001b[0m\u001b[0;34m[\u001b[0m\u001b[0mformat\u001b[0m\u001b[0;34m]\u001b[0m\u001b[0;34m,\u001b[0m \u001b[0;34m\"parse\"\u001b[0m\u001b[0;34m)\u001b[0m\u001b[0;34m(\u001b[0m\u001b[0mfp\u001b[0m\u001b[0;34m,\u001b[0m \u001b[0;34m**\u001b[0m\u001b[0mkwargs\u001b[0m\u001b[0;34m)\u001b[0m\u001b[0;34m\u001b[0m\u001b[0;34m\u001b[0m\u001b[0m\n\u001b[1;32m     50\u001b[0m \u001b[0;34m\u001b[0m\u001b[0m\n",
      "\u001b[0;32m~/anaconda3/lib/python3.7/contextlib.py\u001b[0m in \u001b[0;36m__enter__\u001b[0;34m(self)\u001b[0m\n\u001b[1;32m    110\u001b[0m         \u001b[0;32mdel\u001b[0m \u001b[0mself\u001b[0m\u001b[0;34m.\u001b[0m\u001b[0margs\u001b[0m\u001b[0;34m,\u001b[0m \u001b[0mself\u001b[0m\u001b[0;34m.\u001b[0m\u001b[0mkwds\u001b[0m\u001b[0;34m,\u001b[0m \u001b[0mself\u001b[0m\u001b[0;34m.\u001b[0m\u001b[0mfunc\u001b[0m\u001b[0;34m\u001b[0m\u001b[0;34m\u001b[0m\u001b[0m\n\u001b[1;32m    111\u001b[0m         \u001b[0;32mtry\u001b[0m\u001b[0;34m:\u001b[0m\u001b[0;34m\u001b[0m\u001b[0;34m\u001b[0m\u001b[0m\n\u001b[0;32m--> 112\u001b[0;31m             \u001b[0;32mreturn\u001b[0m \u001b[0mnext\u001b[0m\u001b[0;34m(\u001b[0m\u001b[0mself\u001b[0m\u001b[0;34m.\u001b[0m\u001b[0mgen\u001b[0m\u001b[0;34m)\u001b[0m\u001b[0;34m\u001b[0m\u001b[0;34m\u001b[0m\u001b[0m\n\u001b[0m\u001b[1;32m    113\u001b[0m         \u001b[0;32mexcept\u001b[0m \u001b[0mStopIteration\u001b[0m\u001b[0;34m:\u001b[0m\u001b[0;34m\u001b[0m\u001b[0;34m\u001b[0m\u001b[0m\n\u001b[1;32m    114\u001b[0m             \u001b[0;32mraise\u001b[0m \u001b[0mRuntimeError\u001b[0m\u001b[0;34m(\u001b[0m\u001b[0;34m\"generator didn't yield\"\u001b[0m\u001b[0;34m)\u001b[0m \u001b[0;32mfrom\u001b[0m \u001b[0;32mNone\u001b[0m\u001b[0;34m\u001b[0m\u001b[0;34m\u001b[0m\u001b[0m\n",
      "\u001b[0;32m~/anaconda3/lib/python3.7/site-packages/Bio/File.py\u001b[0m in \u001b[0;36mas_handle\u001b[0;34m(handleish, mode, **kwargs)\u001b[0m\n\u001b[1;32m     70\u001b[0m     \"\"\"\n\u001b[1;32m     71\u001b[0m     \u001b[0;32mtry\u001b[0m\u001b[0;34m:\u001b[0m\u001b[0;34m\u001b[0m\u001b[0;34m\u001b[0m\u001b[0m\n\u001b[0;32m---> 72\u001b[0;31m         \u001b[0;32mwith\u001b[0m \u001b[0mopen\u001b[0m\u001b[0;34m(\u001b[0m\u001b[0mhandleish\u001b[0m\u001b[0;34m,\u001b[0m \u001b[0mmode\u001b[0m\u001b[0;34m,\u001b[0m \u001b[0;34m**\u001b[0m\u001b[0mkwargs\u001b[0m\u001b[0;34m)\u001b[0m \u001b[0;32mas\u001b[0m \u001b[0mfp\u001b[0m\u001b[0;34m:\u001b[0m\u001b[0;34m\u001b[0m\u001b[0;34m\u001b[0m\u001b[0m\n\u001b[0m\u001b[1;32m     73\u001b[0m             \u001b[0;32myield\u001b[0m \u001b[0mfp\u001b[0m\u001b[0;34m\u001b[0m\u001b[0;34m\u001b[0m\u001b[0m\n\u001b[1;32m     74\u001b[0m     \u001b[0;32mexcept\u001b[0m \u001b[0mTypeError\u001b[0m\u001b[0;34m:\u001b[0m\u001b[0;34m\u001b[0m\u001b[0;34m\u001b[0m\u001b[0m\n",
      "\u001b[0;31mFileNotFoundError\u001b[0m: [Errno 2] No such file or directory: '/home/conchae/prediction_depolymerase_tropism/iqtree_local/tree_files/pastML_final_results/named.tree_Klensiella_genomes_fixed.2.1.nwk'"
     ]
    }
   ],
   "source": [
    "# On the server \n",
    "\n",
    "import os\n",
    "from collections import Counter\n",
    "from Bio import Phylo\n",
    "import Bio\n",
    "import pandas as pd\n",
    "from tqdm import tqdm\n",
    "\n",
    "path_fastani=\"/home/conchae/prediction_depolymerase_tropism/prophage_prediction/prophage_similarity/phageboost/fastANI_20102022_out\"\n",
    "path_label = \"/home/conchae/prediction_depolymerase_tropism/prophage_prediction/prophage_labeling/phageboost/info\"\n",
    "path_ktype=\"/home/conchae/prediction_depolymerase_tropism\"\n",
    "path_tree=\"/home/conchae/prediction_depolymerase_tropism/iqtree_local/tree_files/pastML_final_results\"\n",
    "\n",
    "tree = Phylo.read(f\"{path_tree}/named.tree_Klensiella_genomes_fixed.2.1.nwk\", \"newick\")\n",
    "\n",
    "    # Generating the proper cluster file :\n",
    "    # But first, the strain_ktype dictionary :\n",
    "strain_ktype={}\n",
    "good_strain=open(f\"{path_ktype}/results_kleborate_count.tsv\").read().split(\"\\n\")\n",
    "for index_strain, info in enumerate(good_strain):\n",
    "    if info:\n",
    "        strain=info.split(\"\\t\")[0].strip()\n",
    "        ktype=info.split(\"\\t\")[2].strip()\n",
    "        strain_ktype[strain]=ktype\n",
    "        \n",
    "        \n",
    "cluster_df = pd.read_csv(f\"{path_fastani}/clusters_99_80.clean.2004.v2.tsv\", header = 0, sep=\"\\t\")\n",
    "cluster_dict = cluster_df.to_dict(\"records\")\n",
    "\n",
    "\n",
    "with open(f\"{path_label}/prophage_data.clusters_80.phageboost_70.2504.tsv\",\"w\") as outfile :\n",
    "    outfile.write(\"Prophage name\\tK_serotype_monophyletic_group\\tNumber_of_clades\\tNumber_of_k_type_swap\\tNodes_k_types\\n\")\n",
    "    for cluster in tqdm(cluster_dict):\n",
    "        targets=[element.split(\"__\")[0] for element in cluster[\"Members\"].split(\",\")]\n",
    "        LCA=tree.common_ancestor(targets)\n",
    "        print(\"That is the LCA \\nNow let's welcome the leaders\")\n",
    "        for leader in cluster[\"Members\"].split(\",\") :\n",
    "            print(\"Here is the leader\")\n",
    "            strain_leader=leader.split(\"__\")[0]\n",
    "            ancestors=LCA.get_path(strain_leader)\n",
    "            monophylo=\"wait\"\n",
    "            if len(ancestors)>4:\n",
    "                for n in range(2,len(ancestors)) :\n",
    "                    node = ancestors[-n]\n",
    "                    monophylo = node\n",
    "                    p_clade=0\n",
    "                    #Phylo.draw_ascii(node)\n",
    "                    for clade in node :\n",
    "                        for target in targets :\n",
    "                            if target in [terminal.name for terminal in clade.get_terminals()] :\n",
    "                                p_clade=p_clade+1\n",
    "                                break\n",
    "                    if p_clade==1:\n",
    "                        monophylo = node\n",
    "                        break\n",
    "                    else :\n",
    "                        continue\n",
    "            else : \n",
    "                monophylo=LCA\n",
    "            k_type_mono=monophylo.comment.split(\"K_type=\")[1].split(\"'\")[0]\n",
    "            print(\"The monophylo : \",monophylo, \"and it's K-type :\", k_type_mono)\n",
    "            n_ktype_changes=[]\n",
    "            k_type_changes=[]\n",
    "            new_ancestors=monophylo.get_path(strain_leader)\n",
    "            if len(new_ancestors)>1 :\n",
    "                for old_clade in new_ancestors :\n",
    "                    k_type_changes.append(old_clade.comment.split(\"K_type=\")[1].split(\"'\")[0])\n",
    "                print(k_type_changes)\n",
    "                n_ktype_changes.append(k_type_changes[0])\n",
    "                print(n_ktype_changes)\n",
    "                for k_type in k_type_changes :\n",
    "                    if k_type != n_ktype_changes[-1]:\n",
    "                        n_ktype_changes.append(old_clade.comment.split(\"K_type=\")[1].split(\"'\")[0])\n",
    "                        print(n_ktype_changes)\n",
    "                outfile.write(f\"{leader}\\t{k_type_mono}\\t{monophylo}\\t{len(monophylo.get_nonterminals())}\\t{len(monophylo.get_terminals())}\\t{len(new_ancestors)}\\t{len(n_ktype_changes)-1}\\t{','.join(n_ktype_changes)}\\t{','.join(k_type_changes)}\\n\")\n",
    "            else :\n",
    "                outfile.write(f\"{leader}\\t{k_type_mono}\\t{monophylo}\\t{len(monophylo.get_nonterminals())}\\t{len(monophylo.get_terminals())}\\t{len(new_ancestors)}\\t0\\tNone\\tNone\\n\")\n",
    "                \n",
    "# *****************************************************************************************************************************************************************************************************\n",
    "#!/bin/bash\n",
    "#BATCH --job-name=parse_step1_\n",
    "#SBATCH --partition=medium \n",
    "#SBATCH --ntasks=1\n",
    "#SBATCH --cpus-per-task=5\n",
    "#SBATCH --mem=40gb \n",
    "#SBATCH --time=3-00:00:00 \n",
    "#SBATCH --output=parse_step1_%j.log \n",
    "\n",
    "source /storage/apps/ANACONDA/anaconda3/etc/profile.d/conda.sh\n",
    "conda activate ScaleAP\n",
    "\n",
    "python /home/conchae/prediction_depolymerase_tropism/prophage_prediction/prophage_labeling/phageboost/script_files/parse_the_tree.py"
   ]
  },
  {
   "cell_type": "markdown",
   "metadata": {},
   "source": [
    "***"
   ]
  }
 ],
 "metadata": {
  "kernelspec": {
   "display_name": "Python 3 (ipykernel)",
   "language": "python",
   "name": "python3"
  },
  "language_info": {
   "codemirror_mode": {
    "name": "ipython",
    "version": 3
   },
   "file_extension": ".py",
   "mimetype": "text/x-python",
   "name": "python",
   "nbconvert_exporter": "python",
   "pygments_lexer": "ipython3",
   "version": "3.11.4"
  },
  "widgets": {
   "application/vnd.jupyter.widget-state+json": {
    "state": {},
    "version_major": 2,
    "version_minor": 0
   }
  }
 },
 "nbformat": 4,
 "nbformat_minor": 4
}
