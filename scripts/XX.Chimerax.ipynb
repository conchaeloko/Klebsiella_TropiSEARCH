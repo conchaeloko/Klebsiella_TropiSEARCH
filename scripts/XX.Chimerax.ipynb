{
 "cells": [
  {
   "cell_type": "code",
   "execution_count": null,
   "id": "4bfc68ab-c630-4a36-add9-61c4e2344a7c",
   "metadata": {},
   "outputs": [],
   "source": []
  },
  {
   "cell_type": "code",
   "execution_count": null,
   "id": "24cbf43a-5292-403a-ac08-82cc8a00d222",
   "metadata": {},
   "outputs": [],
   "source": [
    "color /A #729fcfff target r\n",
    "color /B tan target r\n",
    "color /C salmon target r\n",
    "save /home/concha-eloko/Documents/GitHub/DpoK-serotypeTropism/data/figures/Dpo_triple_helix.png format png width 5000 height 5000 transparentBackground true\n",
    "\n",
    "color /A #c6aa58ff\t\n",
    "save /media/concha-eloko/Linux/papers/PPT/bladed_propeller.Tropi.png format png width 1000 height 1000 transparentBackground true\n"
   ]
  },
  {
   "cell_type": "markdown",
   "id": "5daa97b3-b49a-402a-a947-da0da0cc882f",
   "metadata": {},
   "source": [
    "> Save movie : "
   ]
  },
  {
   "cell_type": "code",
   "execution_count": null,
   "id": "3b39f303-2d38-4a04-8d31-96d000f5cb1d",
   "metadata": {},
   "outputs": [],
   "source": [
    "movie record \n",
    "roll y 2 180\n",
    "movie encode /media/concha-eloko/Linux/papers/PPT/oral_presentation/beta_helix.mp4\n",
    "\n",
    "\n",
    "movie record \n",
    "roll y 2 180\n",
    "movie encode /media/concha-eloko/Linux/papers/PPT/oral_presentation/timbetabarell.mp4\n",
    "\n",
    "\n",
    "movie record \n",
    "roll z 2 180\n",
    "movie encode /media/concha-eloko/Linux/papers/PPT/oral_presentation/sixbladedbp.mp4\n",
    "\n",
    "\n",
    "movie record \n",
    "roll y 2 180\n",
    "movie encode /media/concha-eloko/Linux/papers/PPT/oral_presentation/Alpha_Beta_hydrolase.mp4\n",
    "\n",
    "\n",
    "movie stop\n",
    "movie record \n",
    "roll y 2 180\n",
    "movie encode /media/concha-eloko/Linux/papers/PPT/oral_presentation/alphaalpha.mp4"
   ]
  },
  {
   "cell_type": "code",
   "execution_count": null,
   "id": "c517de02-16bd-44bb-af6a-307e9ae87d67",
   "metadata": {},
   "outputs": [],
   "source": [
    "Counter({'right-handed beta-helix': 2722,\n",
    "         '6-bladed beta-propeller': 714,\n",
    "         'TIM beta/alpha-barrel': 294,\n",
    "         'Alpha/Beta hydrolase fold': 114,\n",
    "         'triple-helix': 32,\n",
    "         'alpha/alpha toroid': 29,\n",
    "         'unknown': 3})\n",
    "\n",
    "depo_1 = '#c6aa58ff'  \n",
    "depo_2 = '#8d0801'  \n",
    "depo_3 = '#172b23f0'  \n",
    "depo_4 = '#b3aa99'  \n",
    "depo_5 = '#dee2e6'  \n",
    "\n",
    "depo_6 = '#5f3d2e'  \n",
    "\n",
    "labels = ['right-handed β-helix', '6-bladed β-propeller', 'TIM β/α-barrel', 'α/β hydrolase', 'triple-helix', 'α/α toroid']"
   ]
  }
 ],
 "metadata": {
  "kernelspec": {
   "display_name": "chimerax",
   "language": "python",
   "name": "chimerax"
  },
  "language_info": {
   "codemirror_mode": {
    "name": "ipython",
    "version": 3
   },
   "file_extension": ".py",
   "mimetype": "text/x-python",
   "name": "python",
   "nbconvert_exporter": "python",
   "pygments_lexer": "ipython3",
   "version": "3.11.4"
  },
  "widgets": {
   "application/vnd.jupyter.widget-state+json": {
    "state": {},
    "version_major": 2,
    "version_minor": 0
   }
  }
 },
 "nbformat": 4,
 "nbformat_minor": 5
}
