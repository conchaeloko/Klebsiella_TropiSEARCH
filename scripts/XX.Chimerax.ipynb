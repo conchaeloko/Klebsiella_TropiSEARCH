{
 "cells": [
  {
   "cell_type": "code",
   "execution_count": null,
   "id": "4bfc68ab-c630-4a36-add9-61c4e2344a7c",
   "metadata": {},
   "outputs": [],
   "source": []
  },
  {
   "cell_type": "code",
   "execution_count": null,
   "id": "24cbf43a-5292-403a-ac08-82cc8a00d222",
   "metadata": {},
   "outputs": [],
   "source": [
    "color /A #729fcfff target r\n",
    "color /B tan target r\n",
    "color /C salmon target r\n",
    "save /home/concha-eloko/Documents/GitHub/DpoK-serotypeTropism/data/figures/Dpo_triple_helix.png format png width 5000 height 5000 transparentBackground true\n"
   ]
  }
 ],
 "metadata": {
  "kernelspec": {
   "display_name": "chimerax",
   "language": "python",
   "name": "chimerax"
  },
  "language_info": {
   "codemirror_mode": {
    "name": "ipython",
    "version": 3
   },
   "file_extension": ".py",
   "mimetype": "text/x-python",
   "name": "python",
   "nbconvert_exporter": "python",
   "pygments_lexer": "ipython3",
   "version": "3.11.4"
  },
  "widgets": {
   "application/vnd.jupyter.widget-state+json": {
    "state": {},
    "version_major": 2,
    "version_minor": 0
   }
  }
 },
 "nbformat": 4,
 "nbformat_minor": 5
}
