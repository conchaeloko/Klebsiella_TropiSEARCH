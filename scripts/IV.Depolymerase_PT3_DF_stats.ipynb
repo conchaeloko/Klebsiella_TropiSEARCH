{
 "cells": [
  {
   "cell_type": "markdown",
   "metadata": {},
   "source": [
    "# **III. Proteins**\n",
    "## The goal here is to generate the Df for the final analysis \n",
    "### I. DF with the proteins from minibatch and ppt with the relevant info\n",
    "### II. DF \n",
    "***"
   ]
  },
  {
   "cell_type": "code",
   "execution_count": null,
   "metadata": {},
   "outputs": [],
   "source": [
    "import pandas as pd \n",
    "import os \n",
    "import json\n",
    "from tqdm import tqdm\n",
    "\n",
    "path_labels = \"/home/conchae/prediction_depolymerase_tropism/prophage_prediction/prophage_labeling/phageboost\"\n",
    "path_db = \"/home/conchae/prediction_depolymerase_tropism/prophage_prediction/depolymerase_decipher/15122022_session\"\n",
    "\n",
    "\n",
    "final_df = pd.read_csv(f\"{path_db}/Results_III_DataFrame.v3.final.csv\", sep=\"\\t\", header = 0)\n",
    "df_labels = pd.read_csv(f\"{path_labels}/info/prophage_data.clusters_80.phageboost_70.2504.tsv\", sep = \"\\t\" , skiprows=1)\n",
    "df_labels.columns = [\"Prophage_name\",\"KL_type\",\"Infected_ancestor\",\"n_clades\",\"siblings\",\"n_ancestors\",\"n_KL_swaps\",\"old_KL_types\",\"all_old_KL_types\"]\n",
    "\n",
    "final_df = final_df.drop_duplicates(subset = [\"protein_name\",\"index_seq\"] , keep = \"first\")\n",
    "\n",
    "# Write the ppt part :\n",
    "with open(f\"{path_db}/DF_Dpo.final.1005.tsv\", \"w\") as outfile :\n",
    "    outfile.write(f\"Phage\\tKL_type_LCA\\tInfected_ancestor\\tProtein_name\\tDataset\\tindex\\tseq\\n\")\n",
    "    for _,row in tqdm(final_df.iterrows()) :\n",
    "        phage = \"__\".join(row[\"protein_name\"].split(\"__\")[0:-1])\n",
    "        KL_type = df_labels[df_labels[\"Prophage_name\"] == f\"{phage}.fasta\"][\"KL_type\"].values[0]\n",
    "        infected_ancestor = df_labels[df_labels[\"Prophage_name\"] == f\"{phage}.fasta\"][\"Infected_ancestor\"].values[0]\n",
    "        db_id = f\"ppt__{row['index_seq']}\"\n",
    "        outfile.write(f\"{phage}\\t{KL_type}\\t{infected_ancestor}\\t{row['protein_name']}\\tppt\\t{db_id}\\t{row['sequence']}\\n\")\n",
    "    \n",
    "    \n",
    "\"\"\"# Check that the prot name is not present in the ppt set :\n",
    "ppt_df = pd.read_csv(f\"{path_db}/DF_Dpo.final.1005.tsv\", sep = \"\\t\", header = 0)\n",
    "minibatch_prot_seq = json.load(open(f\"{path_db}/new_mini_batch.prophage_raw.json\"))\n",
    "\n",
    "for prot_name in minibatch_prot_seq :\n",
    "    if prot_name in ppt_df[\"Protein_name\"].to_list() :\n",
    "        print(\"TF\" , prot_name)\n",
    "# No hits ==> Good        \n",
    "\"\"\"\n",
    "\n",
    "minibatch_prot_seq = json.load(open(f\"{path_db}/new_mini_batch.prophage_raw.json\"))\n",
    "minibatch_index = pd.read_csv(f\"{path_db}/minibatch_index.csv\", sep = \"\\t\" , names = [\"index_seq\", \"sequence\"])\n",
    "# Write the minibatch part :\n",
    "with open(f\"{path_db}/DF_Dpo.final.1005.tsv\", \"a+\") as outfile :\n",
    "    for sequence,prot_names in tqdm(minibatch_prot_seq.items()) :\n",
    "        for prot_name in prot_names : \n",
    "            phage = \"__\".join(prot_name.split(\"__\")[0:-1])\n",
    "            KL_type = df_labels[df_labels[\"Prophage_name\"] == f\"{phage}.fasta\"][\"KL_type\"].values[0]\n",
    "            infected_ancestor = df_labels[df_labels[\"Prophage_name\"] == f\"{phage}.fasta\"][\"Infected_ancestor\"].values[0]\n",
    "            try : \n",
    "                minibatch_id = minibatch_index[minibatch_index[\"sequence\"] == sequence][\"index_seq\"].values[0]\n",
    "                db_id = f\"minibatch__{minibatch_id}\"\n",
    "                outfile.write(f\"{phage}\\t{KL_type}\\t{infected_ancestor}\\t{prot_name}\\tminibatch\\t{db_id}\\t{sequence}\\n\")\n",
    "            except :\n",
    "                break\n",
    "    "
   ]
  },
  {
   "cell_type": "code",
   "execution_count": null,
   "metadata": {},
   "outputs": [],
   "source": [
    "#"
   ]
  }
 ],
 "metadata": {
  "kernelspec": {
   "display_name": "Python 3",
   "language": "python",
   "name": "python3"
  },
  "language_info": {
   "codemirror_mode": {
    "name": "ipython",
    "version": 3
   },
   "file_extension": ".py",
   "mimetype": "text/x-python",
   "name": "python",
   "nbconvert_exporter": "python",
   "pygments_lexer": "ipython3",
   "version": "3.7.6"
  }
 },
 "nbformat": 4,
 "nbformat_minor": 4
}
