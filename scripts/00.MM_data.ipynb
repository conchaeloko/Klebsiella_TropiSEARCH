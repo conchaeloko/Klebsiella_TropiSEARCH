{
 "cells": [
  {
   "cell_type": "markdown",
   "id": "f1c4052d-0d8c-44d0-9014-8aa06d133406",
   "metadata": {},
   "source": [
    "# Collecting the bacterial strains"
   ]
  },
  {
   "cell_type": "code",
   "execution_count": null,
   "id": "2c358892-30ce-4692-b339-11537c87c6b9",
   "metadata": {},
   "outputs": [],
   "source": [
    "import os\n",
    "import random    \n",
    "import pandas as pd \n",
    "path_klebsiella=\"/home/conchae/prediction_depolymerase_tropism\"     "
   ]
  },
  {
   "cell_type": "code",
   "execution_count": null,
   "id": "e6207045-6251-4fec-a966-0044a2dbc769",
   "metadata": {},
   "outputs": [],
   "source": [
    "kleborate_df = pd.read_csv(f\"{path_klebsiella}/kleborate_results_all.tsv\", sep = \"\\t\", header = 0)\n",
    "\n",
    "\n",
    "kleborate_df = kleborate_df.applymap(lambda x : str(x).strip())\n",
    "\n",
    "kleborate_kept_df = kleborate_df[kleborate_df[\" Confidence \"].isin([\"Perfect\", \"Very high\",\"High\", \"Good\"])]\n"
   ]
  },
  {
   "cell_type": "markdown",
   "id": "38c41e75-cff5-4183-a329-6d7d3d3fe78b",
   "metadata": {},
   "source": [
    "***\n",
    "# The prophage prediction"
   ]
  },
  {
   "cell_type": "code",
   "execution_count": null,
   "id": "b85bd710-fa1b-4485-8151-f64c3050fc30",
   "metadata": {},
   "outputs": [],
   "source": []
  }
 ],
 "metadata": {
  "kernelspec": {
   "display_name": "Python 3 (ipykernel)",
   "language": "python",
   "name": "python3"
  },
  "language_info": {
   "codemirror_mode": {
    "name": "ipython",
    "version": 3
   },
   "file_extension": ".py",
   "mimetype": "text/x-python",
   "name": "python",
   "nbconvert_exporter": "python",
   "pygments_lexer": "ipython3",
   "version": "3.11.4"
  },
  "widgets": {
   "application/vnd.jupyter.widget-state+json": {
    "state": {},
    "version_major": 2,
    "version_minor": 0
   }
  }
 },
 "nbformat": 4,
 "nbformat_minor": 5
}
