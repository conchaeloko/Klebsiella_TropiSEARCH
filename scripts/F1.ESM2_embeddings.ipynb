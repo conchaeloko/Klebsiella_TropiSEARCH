{
 "cells": [
  {
   "cell_type": "markdown",
   "id": "6961dd70-d931-4861-a796-3f2154145b61",
   "metadata": {},
   "source": [
    "# Add anubis_return in the analysis\n",
    "***"
   ]
  },
  {
   "cell_type": "code",
   "execution_count": null,
   "id": "ad786519-4629-42ab-aed6-4d1dcdcc326a",
   "metadata": {},
   "outputs": [],
   "source": [
    "import os \n",
    "import pandas as pd \n",
    "import numpy as np \n",
    "\n",
    "path_work = \"/home/conchae/prediction_depolymerase_tropism/prophage_prediction/depolymerase_decipher/ficheros_28032023\""
   ]
  },
  {
   "cell_type": "markdown",
   "id": "28861038-c330-4cb1-a114-20ec6aed2af8",
   "metadata": {},
   "source": [
    "> Open DF and create an index sequence column \"anubis_return\""
   ]
  },
  {
   "cell_type": "code",
   "execution_count": null,
   "id": "04791c1d-adf1-4040-9fa0-61b0549a0480",
   "metadata": {},
   "outputs": [],
   "source": [
    "# Open : \n",
    "anubis_return = pd.read_csv(f\"{path_work}/Anubis_return.predictions.0709.big.tsv\", sep = \"\\t\", names = [\"protein_name\", \"start\", \"end\", \"domain_seq\", \"protein_seq\"])\n",
    "anubis_return_unique = anubis_return.drop_duplicates(subset = [\"protein_seq\"], keep = \"first\", ignore_index = True)\n",
    "dico_index = {row[\"protein_seq\"] : index for index,row in anubis_return_unique.iterrows()}\n",
    "anubis_return[\"index_dpo\"] = anubis_return[\"protein_seq\"].apply(lambda x : f\"anubis_return__{dico_index[x]}\")\n",
    "\n",
    "# Write : \n",
    "anubis_return.to_csv(f\"{path_work}/Anubis_return.predictions.0709.big.annotated.tsv\", sep = \"\\t\", header = 0, index = False)"
   ]
  },
  {
   "cell_type": "markdown",
   "id": "c9e4171d-4b56-471a-b713-5644ef950f7d",
   "metadata": {},
   "source": [
    "> Write the multi fasta file "
   ]
  },
  {
   "cell_type": "code",
   "execution_count": null,
   "id": "3a5e32cb-0531-44e1-8c17-b08d1c9803ab",
   "metadata": {},
   "outputs": [],
   "source": [
    "with open(f\"{path_work}/Anubis_return.multi.fasta\" , \"w\") as outfile : \n",
    "    for index, row in anubis_return_unique.iterrows() : \n",
    "        outfile.write(f\">anubis_return__{index}\\n{row['domain_seq']}\\n\")"
   ]
  },
  {
   "cell_type": "markdown",
   "id": "2412917a-2a97-4703-a520-19ced0723552",
   "metadata": {},
   "source": [
    ">ESM2 predictions "
   ]
  },
  {
   "cell_type": "code",
   "execution_count": null,
   "id": "af3fdbcb-8456-4119-bccc-37195685213a",
   "metadata": {
    "jupyter": {
     "source_hidden": true
    }
   },
   "outputs": [],
   "source": [
    "#!/bin/bash\n",
    "#BATCH --job-name=ESM_2__\n",
    "#SBATCH --qos=short\n",
    "#SBATCH --ntasks=1 \n",
    "#SBATCH --cpus-per-task=40 \n",
    "#SBATCH --mem=100gb \n",
    "#SBATCH --time=1-00:00:00 \n",
    "#SBATCH --output=ESM_2__%j.log \n",
    "\n",
    "source /storage/apps/ANACONDA/anaconda3/etc/profile.d/conda.sh\n",
    "conda activate embeddings\n",
    "\n",
    "python /home/conchae/software/esm/scripts/extract.py \\\n",
    "esm2_t33_650M_UR50D \\\n",
    "/home/conchae/prediction_depolymerase_tropism/prophage_prediction/depolymerase_decipher/ficheros_28032023/Anubis_return.multi.fasta \\\n",
    "/home/conchae/prediction_depolymerase_tropism/prophage_prediction/depolymerase_decipher/ficheros_28032023/Anubis_return.multi.fasta.esm_out \\\n",
    "--repr_layers 33 \\\n",
    "--include mean per_tok\n"
   ]
  },
  {
   "cell_type": "code",
   "execution_count": null,
   "id": "093a88ef-5c7e-4663-a2df-064d03f55eb9",
   "metadata": {},
   "outputs": [],
   "source": [
    "import torch\n",
    "import os \n",
    "import pandas as pd\n",
    "from tqdm import tqdm \n",
    "\n",
    "\n",
    "path_esm = \"/home/conchae/prediction_depolymerase_tropism/prophage_prediction/depolymerase_decipher/ficheros_28032023/Anubis_return.multi.fasta.esm_out\"\n",
    "\n",
    "embeddings_esm = {}\n",
    "for file in tqdm(os.listdir(path_esm)) :\n",
    "    path_file = f\"{path_esm}/{file}\"\n",
    "    index = file.split(\".\")[0]\n",
    "    embb = torch.load(f\"{path_file}\")[\"mean_representations\"][33].tolist()\n",
    "    embeddings_esm[index] = embb\n",
    "    \n",
    "with open(f\"/home/conchae/prediction_depolymerase_tropism/prophage_prediction/depolymerase_decipher/ficheros_28032023/anubis_return.esm2.embedding.csv\" , \"w\") as outfile :\n",
    "    for index in tqdm(embeddings_esm) :\n",
    "        outfile.write(f\"{index},\")\n",
    "        for _,  emb in enumerate(embeddings_esm[index]) :\n",
    "            outfile.write(f\"{emb},\")\n",
    "        outfile.write(\"\\n\")"
   ]
  },
  {
   "cell_type": "code",
   "execution_count": null,
   "id": "2594572c-3a43-4064-8a1c-41a656ff307c",
   "metadata": {},
   "outputs": [],
   "source": [
    "rsync -avzhe ssh \\\n",
    "conchae@garnatxa.srv.cpd:/home/conchae/prediction_depolymerase_tropism/prophage_prediction/depolymerase_decipher/ficheros_28032023/anubis_return.esm2.embedding.csv \\\n",
    "/media/concha-eloko/Linux/PPT_clean\n",
    "\n",
    "rsync -avzhe ssh \\\n",
    "conchae@garnatxa.srv.cpd:/home/conchae/prediction_depolymerase_tropism/prophage_prediction/depolymerase_decipher/ficheros_28032023/Anubis_return.predictions.0709.big.annotated.tsv \\\n",
    "/media/concha-eloko/Linux/PPT_clean\n"
   ]
  },
  {
   "cell_type": "code",
   "execution_count": null,
   "id": "c2d04074-bc69-4f85-89a4-b64d345523b5",
   "metadata": {},
   "outputs": [],
   "source": []
  }
 ],
 "metadata": {
  "kernelspec": {
   "display_name": "Python 3 (ipykernel)",
   "language": "python",
   "name": "python3"
  },
  "language_info": {
   "codemirror_mode": {
    "name": "ipython",
    "version": 3
   },
   "file_extension": ".py",
   "mimetype": "text/x-python",
   "name": "python",
   "nbconvert_exporter": "python",
   "pygments_lexer": "ipython3",
   "version": "3.11.4"
  },
  "widgets": {
   "application/vnd.jupyter.widget-state+json": {
    "state": {},
    "version_major": 2,
    "version_minor": 0
   }
  }
 },
 "nbformat": 4,
 "nbformat_minor": 5
}
