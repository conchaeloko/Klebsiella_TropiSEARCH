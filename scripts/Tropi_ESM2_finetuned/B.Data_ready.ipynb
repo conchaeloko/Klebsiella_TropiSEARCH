{
 "cells": [
  {
   "cell_type": "code",
   "execution_count": null,
   "id": "9087d526-d8b7-465f-b8f0-6e830d213363",
   "metadata": {},
   "outputs": [],
   "source": [
    "import os\n",
    "import pandas as pd \n",
    "from collections import Counter, defaultdict\n",
    "from tqdm import tqdm\n",
    "\n",
    "path_work = \"/media/concha-eloko/Linux/PPT_clean\"\n",
    "path_seqbased = \"/media/concha-eloko/Linux/PPT_clean/Seqbased_model\"\n"
   ]
  },
  {
   "cell_type": "code",
   "execution_count": null,
   "id": "d4f740a8-7b6a-4647-a1ec-c309a5905167",
   "metadata": {},
   "outputs": [],
   "source": [
    "df_coeff = pd.read_csv(f\"{path_work}/attention_weights_dpos.0802.raw.tsv\" , sep = \"\\t\", header= 0)\n",
    "df_coeff = df_coeff.drop_duplicates(subset = [\"KL_type\", \"domain seq\"])\n",
    "df_coeff = df_coeff[(df_coeff[\"attention_coefficient\"] > 0.5) & (df_coeff[\"probability\"] > 0.8)]\n"
   ]
  }
 ],
 "metadata": {
  "kernelspec": {
   "display_name": "Python [conda env:torch_geometric]",
   "language": "python",
   "name": "conda-env-torch_geometric-py"
  },
  "language_info": {
   "codemirror_mode": {
    "name": "ipython",
    "version": 3
   },
   "file_extension": ".py",
   "mimetype": "text/x-python",
   "name": "python",
   "nbconvert_exporter": "python",
   "pygments_lexer": "ipython3",
   "version": "3.11.4"
  }
 },
 "nbformat": 4,
 "nbformat_minor": 5
}
