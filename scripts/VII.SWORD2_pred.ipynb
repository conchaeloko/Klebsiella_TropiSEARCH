{
 "cells": [
  {
   "cell_type": "markdown",
   "metadata": {},
   "source": [
    "# Make the SWORD2 prediction \n",
    "***\n",
    "### I. The prediction \n",
    "### II. Scan through the IPR results\n",
    "***"
   ]
  },
  {
   "cell_type": "code",
   "execution_count": null,
   "metadata": {},
   "outputs": [],
   "source": [
    "import os \n",
    "import subprocess\n",
    "\n",
    "path_proteins = \"/home/conchae/ML_depolymerase/get_candidates/millard\"\n",
    "path_pdb = f\"{path_proteins}/millard_pdb\"\n",
    "\n",
    "\n",
    "def sword2_pred(pdb_file) :\n",
    "    \"\"\"\n",
    "    \n",
    "    This function makes a sword prediction from a pdb_file.\n",
    "    It takes as an input a pdb file, and outputs swords2 files. \n",
    "    \n",
    "    The path_out is to be adjusted to the context.\n",
    "    \n",
    "    \"\"\"\n",
    "    path_sword = \"/home/conchae/software/SWORD2\"\n",
    "    name = pdb_file.split(\"/\")[-1].split(\".pdb\")[0]\n",
    "    path_out = f\"{path_proteins}/sword_out\"\n",
    "    sword_command = f\" {path_sword}/SWORD2.py -i {pdb_file} -o {path_out}/{name} -x 10\"\n",
    "    sword_subprocess = subprocess.Popen (sword_command , shell = True, stdout = subprocess.PIPE, stderr = subprocess.STDOUT)\n",
    "    hmm_out, hmm_err = sword_subprocess.communicate()\n",
    "    print(hmm_out)\n",
    "    print(f\"{name} is done.\")\n",
    "\n",
    "for file in os.listdir(path_pdb) :\n",
    "    path_file = f\"{path_pdb}/{file}\"\n",
    "    sword2_pred(path_file)"
   ]
  }
 ],
 "metadata": {
  "kernelspec": {
   "display_name": "Python 3",
   "language": "python",
   "name": "python3"
  },
  "language_info": {
   "codemirror_mode": {
    "name": "ipython",
    "version": 3
   },
   "file_extension": ".py",
   "mimetype": "text/x-python",
   "name": "python",
   "nbconvert_exporter": "python",
   "pygments_lexer": "ipython3",
   "version": "3.7.6"
  }
 },
 "nbformat": 4,
 "nbformat_minor": 4
}
