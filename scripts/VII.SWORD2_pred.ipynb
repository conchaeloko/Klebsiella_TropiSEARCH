{
 "cells": [
  {
   "cell_type": "markdown",
   "metadata": {},
   "source": [
    "# Make the SWORD2 prediction \n",
    "***\n",
    "### I. The prediction \n",
    "### II. Scan through the IPR results\n",
    "***"
   ]
  },
  {
   "cell_type": "code",
   "execution_count": null,
   "metadata": {},
   "outputs": [],
   "source": [
    "import os \n",
    "import subprocess\n",
    "from multiprocessing.pool import ThreadPool\n",
    "\n",
    "path_work = \"/home/conchae/prediction_depolymerase_tropism/prophage_prediction/depolymerase_decipher\"\n",
    "path_pdb = f\"{path_work}/ficheros_28032023/output_ppt\"\n",
    "path_out = f\"{path_work}/ficheros_28032023/sword2_DepoSeq\"\n",
    "\n",
    "\n",
    "def sword2_pred(pdb_file) :\n",
    "    \"\"\"\n",
    "    This function makes a sword prediction from a pdb_file.\n",
    "    It takes as an input a pdb file, and outputs swords2 files.     \n",
    "    The path_out is to be adjusted to the context.\n",
    "    \"\"\"\n",
    "    with open(f\"{path_out}/sword2.log\" ,\"a+\") as outfile :\n",
    "        path_sword = \"/home/conchae/software/SWORD2\"\n",
    "        name = pdb_file.split(\"/\")[-1].split(\".pdb\")[0]\n",
    "        sword_command = f\" {path_sword}/SWORD2.py -i {pdb_file} -o {path_out}/{name} -x 5\"\n",
    "        sword_subprocess = subprocess.Popen (sword_command , shell = True, stdout = subprocess.PIPE, stderr = subprocess.STDOUT)\n",
    "        hmm_out, hmm_err = sword_subprocess.communicate()\n",
    "        print(hmm_out)\n",
    "        outfile.write(f\"{name} is done.\")\n",
    "    \n",
    "paths = [f\"{path_pdb}/{file}\" for file in os.listdir(path_pdb)]\n",
    "paths = [f\"{path_pdb}/{file}\" for file in os.listdir(path_pdb) if os.path.isdir(f\"{path_out}/{file.split('.pdb')[0]}\")==False]\n",
    "\n",
    "    \n",
    "if __name__ == '__main__':\n",
    "    with ThreadPool(10) as p:\n",
    "        p.map(sword2_pred, paths)\n",
    "        "
   ]
  },
  {
   "cell_type": "markdown",
   "metadata": {},
   "source": [
    "> On the minibatch "
   ]
  },
  {
   "cell_type": "code",
   "execution_count": null,
   "metadata": {},
   "outputs": [],
   "source": [
    "import os \n",
    "import subprocess\n",
    "from multiprocessing.pool import ThreadPool\n",
    "\n",
    "path_work = \"/home/conchae/prediction_depolymerase_tropism/prophage_prediction/depolymerase_decipher\"\n",
    "path_pdb = f\"{path_work}/ficheros_28032023/out_minibatch\"\n",
    "path_out = f\"{path_work}/ficheros_28032023/sword2_Minibatch\"\n",
    "\n",
    "\n",
    "def sword2_pred(pdb_file) :\n",
    "    \"\"\"\n",
    "    This function makes a sword prediction from a pdb_file.\n",
    "    It takes as an input a pdb file, and outputs swords2 files.     \n",
    "    The path_out is to be adjusted to the context.\n",
    "    \"\"\"\n",
    "    with open(f\"{path_out}/sword2.log\" ,\"a+\") as outfile :\n",
    "        path_sword = \"/home/conchae/software/SWORD2\"\n",
    "        name = pdb_file.split(\"/\")[-1].split(\".pdb\")[0]\n",
    "        sword_command = f\" {path_sword}/SWORD2.py -i {pdb_file} -o {path_out}/{name} -x 5\"\n",
    "        sword_subprocess = subprocess.Popen (sword_command , shell = True, stdout = subprocess.PIPE, stderr = subprocess.STDOUT)\n",
    "        hmm_out, hmm_err = sword_subprocess.communicate()\n",
    "        print(hmm_out)\n",
    "        outfile.write(f\"{name} is done.\")\n",
    "    \n",
    "paths = [f\"{path_pdb}/{file}\" for file in os.listdir(path_pdb) if os.path.isdir(f\"{path_out}/{file.split('.pdb')[0]}\")==False]\n",
    "    \n",
    "if __name__ == '__main__':\n",
    "    with ThreadPool(30) as p:\n",
    "        p.map(sword2_pred, paths)\n",
    "        "
   ]
  },
  {
   "cell_type": "code",
   "execution_count": null,
   "metadata": {},
   "outputs": [],
   "source": [
    "#!/bin/bash\n",
    "#BATCH --job-name=SWORD2__\n",
    "#SBATCH --qos=short \n",
    "#SBATCH --ntasks=1 \n",
    "#SBATCH --cpus-per-task=40\n",
    "#SBATCH --mem=50gb \n",
    "#SBATCH --time=1-00:00:00 \n",
    "#SBATCH --output=SWORD2__%j.log \n",
    "\n",
    "source /storage/apps/ANACONDA/anaconda3/etc/profile.d/conda.sh\n",
    "conda activate sword2\n",
    "\n",
    "python /home/conchae/prediction_depolymerase_tropism/prophage_prediction/depolymerase_decipher/ficheros_28032023/script_files/sword2.minibatch.py"
   ]
  }
 ],
 "metadata": {
  "kernelspec": {
   "display_name": "Python 3",
   "language": "python",
   "name": "python3"
  },
  "language_info": {
   "codemirror_mode": {
    "name": "ipython",
    "version": 3
   },
   "file_extension": ".py",
   "mimetype": "text/x-python",
   "name": "python",
   "nbconvert_exporter": "python",
   "pygments_lexer": "ipython3",
   "version": "3.7.6"
  }
 },
 "nbformat": 4,
 "nbformat_minor": 4
}
