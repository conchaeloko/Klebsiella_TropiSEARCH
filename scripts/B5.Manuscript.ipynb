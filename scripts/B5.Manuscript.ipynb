{
 "cells": [
  {
   "cell_type": "code",
   "execution_count": null,
   "id": "680ae773-abc6-429a-b9ed-e46020c144b8",
   "metadata": {},
   "outputs": [],
   "source": [
    "import os\n",
    "import pandas as pd\n",
    "\n",
    "path_phaegboost = \"/home/conchae/prediction_depolymerase_tropism/prophage_prediction/prophage_decipher/phageboost/phageboost_info\"\n",
    "\n",
    "df_phageboost = pd.read_csv(f\"{path_phaegboost}/results_phageboost.70.20102022.tsv\", sep = \"\\t\",header = 0)\n"
   ]
  },
  {
   "cell_type": "markdown",
   "id": "1482f872-4ece-4bfe-89ba-fa0b2b2b25cd",
   "metadata": {},
   "source": [
    "***\n"
   ]
  },
  {
   "cell_type": "code",
   "execution_count": null,
   "id": "c71016e2-7b77-4ad9-b680-34be9ff651d6",
   "metadata": {},
   "outputs": [],
   "source": [
    "import os\n",
    "import pandas as pd\n",
    "from collections import Counter\n",
    "\n",
    "\n",
    "path_fastani = \"/home/conchae/prediction_depolymerase_tropism/prophage_prediction/prophage_similarity/phageboost/fastANI_20102022_out\"\n",
    "\n",
    "\n",
    "df_families = pd.read_csv(f\"{path_fastani}/clusters_99_80.clean.2004.v2.tsv\", names = [\"family\", \"members\"], sep = \"\\t\")\n",
    "\n",
    "n_members = dict(Counter(df_families[\"family\"]))\n",
    "\n",
    "df_loners = df_families[\"members\"].apply(lambda x : x if x.split(\",\"))\n",
    "\n",
    "n = 0\n",
    "for _,row in df_families.iterrows():\n",
    "    if len(row[\"members\"].split(\",\")) < 2 : \n",
    "        n += 1 "
   ]
  }
 ],
 "metadata": {
  "kernelspec": {
   "display_name": "Python 3 (ipykernel)",
   "language": "python",
   "name": "python3"
  },
  "language_info": {
   "codemirror_mode": {
    "name": "ipython",
    "version": 3
   },
   "file_extension": ".py",
   "mimetype": "text/x-python",
   "name": "python",
   "nbconvert_exporter": "python",
   "pygments_lexer": "ipython3",
   "version": "3.11.4"
  },
  "widgets": {
   "application/vnd.jupyter.widget-state+json": {
    "state": {},
    "version_major": 2,
    "version_minor": 0
   }
  }
 },
 "nbformat": 4,
 "nbformat_minor": 5
}
