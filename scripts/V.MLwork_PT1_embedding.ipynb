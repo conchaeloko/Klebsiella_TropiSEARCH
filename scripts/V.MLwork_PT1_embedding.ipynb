{
 "cells": [
  {
   "cell_type": "markdown",
   "metadata": {},
   "source": [
    "# **Bio embedding**<br> \n",
    "## 1. Embedding on the depolymerase domain database\n",
    "***"
   ]
  },
  {
   "cell_type": "code",
   "execution_count": null,
   "metadata": {
    "jupyter": {
     "source_hidden": true
    }
   },
   "outputs": [],
   "source": [
    "import numpy as np\n",
    "import pandas as pd\n",
    "from Bio import SeqIO\n",
    "from bio_embeddings.embed import SeqVecEmbedder, ProtTransBertBFDEmbedder\n",
    "\n",
    "path_2nd=\"/home/conchae/prediction_depolymerase_tropism/prophage_prediction/depolymerase_decipher/second_bash\"\n",
    "\n",
    "embedders=((ProtTransBertBFDEmbedder(),\"ProtTransBertBFDEmbedder\"),(SeqVecEmbedder(), \"SeqVecEmbedder\")) \n",
    "\n",
    "    # For the other_rep\n",
    "names = [record.id for record in SeqIO.parse(f\"{path_2nd}/second_bash.other_rep.multi.fasta\", 'fasta')]\n",
    "sequences = [str(record.seq) for record in SeqIO.parse(f\"{path_2nd}/second_bash.other_rep.multi.fasta\", 'fasta')]\n",
    "\n",
    "\n",
    "for model in embedders:\n",
    "    embedder, name=model[0], model[1]\n",
    "    embeddings = [embedder.reduce_per_protein(embedder.embed(sequence)) for sequence in sequences]\n",
    "    embeddings_df = pd.concat([pd.DataFrame({'ID':names}), pd.DataFrame(embeddings)], axis=1)\n",
    "    embeddings_df.to_csv(f\"{path_2nd}/{name}.second_bash.other_rep.embedding.csv\", index=False)\n",
    "\n",
    "# *************************************************************************************************************************************************************************************************************************\n",
    "#!/bin/bash\n",
    "#BATCH --job-name=embbedings \n",
    "#SBATCH --partition=medium\n",
    "#SBATCH --ntasks=1 \n",
    "#SBATCH --cpus-per-task=30 \n",
    "#SBATCH --mem=250gb \n",
    "#SBATCH --time=7-00:00:00 \n",
    "#SBATCH --output=embbedings%j.log \n",
    "\n",
    "module restore la_base\n",
    "source /storage/apps/ANACONDA/anaconda3/etc/profile.d/conda.sh\n",
    "conda activate embeddings\n",
    "\n",
    "python /home/conchae/prediction_depolymerase_tropism/prophage_prediction/depolymerase_decipher/script_file/py_files/embeding_other_rep.py"
   ]
  },
  {
   "cell_type": "markdown",
   "metadata": {},
   "source": [
    "> Embedding on Deep dom predictions"
   ]
  },
  {
   "cell_type": "code",
   "execution_count": null,
   "metadata": {},
   "outputs": [],
   "source": [
    "import numpy as np\n",
    "import pandas as pd\n",
    "import os\n",
    "from Bio import SeqIO\n",
    "from bio_embeddings.embed import SeqVecEmbedder, ProtTransBertBFDEmbedder\n",
    "\n",
    "path_db= \"/home/conchae/prediction_depolymerase_tropism/prophage_prediction/depolymerase_decipher/20102022_session\"\n",
    "\n",
    "embedders=((ProtTransBertBFDEmbedder(),\"ProtTransBertBFDEmbedder\"),(SeqVecEmbedder(), \"SeqVecEmbedder\")) \n",
    "\n",
    "    # For the other_rep\n",
    "names = [record.id.split(\"__domain\")[0] for record in SeqIO.parse(f\"{path_db}/depolymerase_proteins.deepdom_boundaries.db.fasta\", 'fasta')]\n",
    "sequences = [str(record.seq) for record in SeqIO.parse(f\"{path_db}/depolymerase_proteins.deepdom_boundaries.db.fasta\", 'fasta')]\n",
    "\n",
    "\n",
    "for model in embedders:\n",
    "    embedder, name=model[0], model[1]\n",
    "    embeddings = [embedder.reduce_per_protein(embedder.embed(sequence)) for sequence in sequences]\n",
    "    embeddings_df = pd.concat([pd.DataFrame({'ID':names}), pd.DataFrame(embeddings)], axis=1)\n",
    "    embeddings_df.to_csv(f\"{path_db}/{name}.depolymerase_domains.deepdom.DB.embedding.csv\", index=False)\n",
    "\n",
    "# *************************************************************************************************************************************************************************************************************************\n",
    "#!/bin/bash\n",
    "#BATCH --job-name=embbedings \n",
    "#SBATCH --partition=medium\n",
    "#SBATCH --ntasks=1 \n",
    "#SBATCH --cpus-per-task=30 \n",
    "#SBATCH --mem=250gb \n",
    "#SBATCH --time=5-00:00:00 \n",
    "#SBATCH --output=embbedings%j.log \n",
    "\n",
    "module restore la_base\n",
    "source /storage/apps/ANACONDA/anaconda3/etc/profile.d/conda.sh\n",
    "conda activate embeddings\n",
    "\n",
    "python /home/conchae/prediction_depolymerase_tropism/prophage_prediction/depolymerase_decipher/20102022_session/script_files/embeddings.deepdom.py"
   ]
  }
 ],
 "metadata": {
  "kernelspec": {
   "display_name": "sklearn-env",
   "language": "python",
   "name": "sklearn-env"
  },
  "language_info": {
   "codemirror_mode": {
    "name": "ipython",
    "version": 3
   },
   "file_extension": ".py",
   "mimetype": "text/x-python",
   "name": "python",
   "nbconvert_exporter": "python",
   "pygments_lexer": "ipython3",
   "version": "3.8.16"
  }
 },
 "nbformat": 4,
 "nbformat_minor": 4
}
