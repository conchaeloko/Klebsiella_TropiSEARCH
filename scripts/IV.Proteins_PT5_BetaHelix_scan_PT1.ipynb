{
 "cells": [
  {
   "cell_type": "markdown",
   "metadata": {},
   "source": [
    "# Run the seekfold command on the proteins\n",
    "***\n",
    "## 0. Create the DB\n",
    "## I. Scan the proteins\n",
    "## II. Parse the results\n",
    "***"
   ]
  },
  {
   "cell_type": "markdown",
   "metadata": {},
   "source": [
    "> 0."
   ]
  },
  {
   "cell_type": "code",
   "execution_count": null,
   "metadata": {},
   "outputs": [],
   "source": [
    "# Create the database : \n",
    "\n",
    "path_pdb_ref = \"/media/concha-eloko/Linux/depolymerase_building/pdb_depolymerase_domains\"\n",
    "\n",
    "# Generates the database :\n",
    "\n",
    "foldseek createdb \\\n",
    "/media/concha-eloko/Linux/depolymerase_building/pdb_depolymerase_domains \\\n",
    "/media/concha-eloko/Linux/depolymerase_building/RefDepo_domains/RefDepo_domains_db\n",
    "\n",
    "# Generate index files : \n",
    "\n",
    "foldseek createindex \\\n",
    "/media/concha-eloko/Linux/depolymerase_building/RefDepo_domains/RefDepo_domains_db \\ \n",
    "/media/concha-eloko/Linux/depolymerase_building/tmp\n",
    "\n",
    "# Move to server :\n",
    "rsync -avzhe ssh \\\n",
    "/media/concha-eloko/Linux/depolymerase_building/RefDepo_domains \\\n",
    "conchae@garnatxa.srv.cpd:/home/conchae/depolymerase\n",
    "    \n",
    "rsync -avzhe ssh \\\n",
    "/media/concha-eloko/Linux/depolymerase_building/pdb_depolymerase_domains \\\n",
    "conchae@garnatxa.srv.cpd:/home/conchae/depolymerase"
   ]
  },
  {
   "cell_type": "markdown",
   "metadata": {},
   "source": [
    "> I."
   ]
  },
  {
   "cell_type": "markdown",
   "metadata": {},
   "source": [
    "Seekfold on Bea's proteins"
   ]
  },
  {
   "cell_type": "code",
   "execution_count": null,
   "metadata": {},
   "outputs": [],
   "source": [
    "import subprocess\n",
    "import os\n",
    "\n",
    "path_project = \"/media/concha-eloko/Linux/depolymerase_building\"\n",
    "path_pdb = f\"{path_project}/pdb_depolymerase_proteins_Bea\"\n",
    "path_db = f\"/media/concha-eloko/Linux/depolymerase_building/RefDepo_domains/RefDepo_domains_db\"\n",
    "path_tmp = f\"{path_project}/tmp\"\n",
    "\n",
    "def seek_beta_helix(path_in) :\n",
    "    dir_out = f\"{path_project}/seekfold_BeaDepo_out\"\n",
    "    protein_id = path_in.split(\"/\")[-1].split(\".pdb\")[0]\n",
    "    path_out = f\"{dir_out}/{protein_id}.out\"\n",
    "    output_frmt = f\"query,target,pident,alnlen,gapopen,qstart,qend,tstart,tend,bits,prob\"\n",
    "    seek = f\"foldseek easy-search {path_in} {path_db} {path_out} {path_tmp} --format-output {output_frmt}\"\n",
    "    #seek = f\"foldseek easy-search {path_in} {path_db} {path_out}.html {path_tmp} --format-mode 3\"\n",
    "    seek_process = subprocess.Popen(seek, shell=True, stdout=subprocess.PIPE, stderr=subprocess.STDOUT)\n",
    "    press_out, press_err = seek_process.communicate()\n",
    "    print (press_out, press_err)\n",
    "\n",
    "paths = [f\"{path_pdb}/{file}\" for file in os.listdir(f\"{path_pdb}\")]\n",
    "\n",
    "for path in paths :\n",
    "    seek_beta_helix(path)"
   ]
  },
  {
   "cell_type": "markdown",
   "metadata": {},
   "source": [
    "Scan Bea's proteins "
   ]
  },
  {
   "cell_type": "code",
   "execution_count": 13,
   "metadata": {
    "collapsed": true,
    "jupyter": {
     "outputs_hidden": true
    }
   },
   "outputs": [
    {
     "name": "stdout",
     "output_type": "stream",
     "text": [
      "{'AF-A0A074RK75-F1-model_v4.pdb': [0.442, 0.326, 0.01, 0.007, 0.254, 0.02, 0.024, 0.277, 0.011,\n",
      "                                   0.164, 0.014, 0.098, 0.126, 0.233, 0.076, 0.126, 0.098, 0.772,\n",
      "                                   0.034, 0.277, 0.034, 0.01, 0.011, 0.008, 0.164, 0.034, 0.011,\n",
      "                                   0.024, 0.933, 0.116, 0.277, 0.164, 0.008, 0.024, 0.029, 0.473,\n",
      "                                   0.692, 0.442, 0.326],\n",
      " 'AF-A0A089GJA0-F1-model_v4.pdb': [0.009, 0.008, 0.011, 0.009, 0.024, 0.02],\n",
      " 'AF-A0A094HNY5-F1-model_v4.pdb': [0.007],\n",
      " 'AF-A0A0D3A0D6-F1-model_v4.pdb': [0.082, 0.01, 0.01, 0.326, 0.02, 0.01, 0.02, 0.692, 0.057, 0.011,\n",
      "                                   0.008, 0.011, 0.063, 0.024, 0.029, 0.029, 0.138, 0.01, 0.007,\n",
      "                                   0.014, 0.016, 0.008, 0.01, 0.014, 0.01, 0.008, 0.007, 0.02,\n",
      "                                   0.011],\n",
      " 'AF-A0A0E2ALL6-F1-model_v4.pdb': [0.008, 0.098, 0.069],\n",
      " 'AF-A0A0R3Q9P4-F1-model_v4.pdb': [0.956, 0.045, 0.063, 1.0, 0.326, 0.933, 0.15, 0.029, 1.0, 0.72,\n",
      "                                   0.442, 1.0, 0.994, 0.016, 0.063, 0.601, 0.999, 0.076, 0.076,\n",
      "                                   0.601, 1.0, 1.0, 0.057, 0.126, 0.011, 0.116, 0.663, 0.992, 0.138,\n",
      "                                   0.326, 0.382, 0.008, 1.0, 1.0, 1.0, 0.233, 0.301, 0.923, 0.961,\n",
      "                                   0.996],\n",
      " 'AF-A0A0U0KAG7-F1-model_v4.pdb': [0.007, 0.007, 0.01, 0.011],\n",
      " 'AF-A0A166VHV0-F1-model_v4.pdb': [0.076, 0.04],\n",
      " 'AF-A0A1E5LEG1-F1-model_v4.pdb': [0.138, 0.179, 0.063, 1.0, 0.063, 1.0, 0.02, 0.569, 0.034, 0.632,\n",
      "                                   0.04, 0.601, 1.0, 1.0, 0.034, 0.098, 0.057, 1.0, 0.057, 0.106,\n",
      "                                   1.0, 0.999, 1.0, 0.164, 0.663, 0.138, 0.996, 0.014, 0.692, 0.971,\n",
      "                                   0.029, 0.999, 0.505, 0.024, 1.0, 1.0, 0.855, 0.016, 0.254, 0.02,\n",
      "                                   0.301, 0.601],\n",
      " 'AF-A0A1R0YSK0-F1-model_v4.pdb': [0.016, 0.034, 0.008, 0.02],\n",
      " 'AF-A0A202B6A7-F1-model_v4.pdb': [0.069, 0.01, 0.008, 0.01, 0.008, 0.011, 0.01],\n",
      " 'AF-A0A2G9G7P4-F1-model_v4.pdb': [0.024, 0.15, 0.196, 0.057, 0.214, 0.007, 0.15, 0.051, 0.011,\n",
      "                                   0.016, 0.632, 0.214, 0.15, 0.016, 0.138, 0.179, 0.138, 0.029,\n",
      "                                   0.04, 0.045, 0.126, 0.233, 0.051, 0.382, 0.15, 0.014, 0.196,\n",
      "                                   0.02, 0.024, 0.196, 0.09, 0.164, 0.277, 0.15, 0.007, 0.692,\n",
      "                                   0.057, 0.082, 0.747],\n",
      " 'AF-A0A496B6X2-F1-model_v4.pdb': [0.008, 0.008, 0.007],\n",
      " 'AF-A0A4R4ZFU1-F1-model_v4.pdb': [0.007, 0.01, 0.007],\n",
      " 'AF-A0A4V2M274-F1-model_v4.pdb': [0.277, 0.254, 0.01, 0.196, 0.537, 0.164, 0.069, 0.15, 0.016,\n",
      "                                   0.116, 0.663, 0.009, 0.007, 0.051, 0.569, 0.098, 0.009, 0.912,\n",
      "                                   0.008, 0.024, 0.01, 0.007, 0.126, 0.01, 0.011, 0.817, 0.537,\n",
      "                                   0.353, 0.569],\n",
      " 'AF-A0A4Y4KJB2-F1-model_v4.pdb': [0.011, 0.007, 0.009],\n",
      " 'AF-A0A562WF65-F1-model_v4.pdb': [0.411, 0.014, 0.214, 0.15, 0.569, 0.505, 0.016, 0.057, 0.02,\n",
      "                                   0.214, 0.923, 0.15, 0.663, 0.014, 0.098, 0.795, 0.277, 0.069,\n",
      "                                   0.02, 0.069, 0.179, 0.442, 0.029, 0.016, 0.138, 0.051, 0.029,\n",
      "                                   0.569, 0.045, 0.01, 0.016, 0.214, 0.179, 0.254, 0.277, 0.126,\n",
      "                                   0.09, 0.069, 0.069],\n",
      " 'AF-A0A654UB90-F1-model_v4.pdb': [0.007, 0.009, 0.106, 0.007, 0.034],\n",
      " 'AF-A0A658Y395-F1-model_v4.pdb': [1.0, 0.442, 0.537, 1.0, 1.0, 0.975, 0.353, 0.138, 0.116, 0.997,\n",
      "                                   1.0, 1.0, 1.0, 1.0, 0.996, 0.941, 1.0, 0.997, 0.998, 0.382,\n",
      "                                   0.933, 0.923, 1.0, 0.214, 0.887, 0.9, 0.986, 1.0, 0.887, 0.045,\n",
      "                                   0.116, 0.082, 0.051, 1.0, 1.0, 1.0, 1.0, 1.0, 0.912, 1.0, 1.0],\n",
      " 'AF-A0A6V8K287-F1-model_v4.pdb': [0.057, 0.01, 0.076, 0.254, 0.011, 0.277, 0.076, 0.008, 0.069,\n",
      "                                   0.051, 0.772, 0.138, 0.72, 0.024, 0.011, 0.196, 0.254, 0.007,\n",
      "                                   0.014, 0.04, 0.164, 0.411, 0.009, 0.082, 0.116, 0.057, 0.016,\n",
      "                                   0.069, 0.15, 0.02, 0.029, 0.277, 0.601, 0.098, 0.051, 0.057,\n",
      "                                   0.034, 0.051, 0.024],\n",
      " 'AF-A0A7C4BP91-F1-model_v4.pdb': [0.008, 0.011, 0.007],\n",
      " 'AF-A0A7G2DEW9-F1-model_v4.pdb': [0.007, 0.007, 0.007, 0.01, 0.009],\n",
      " 'AF-A0A7K3HGV9-F1-model_v4.pdb': [0.15, 0.164, 0.082, 0.106, 0.15, 0.126, 0.016, 0.069, 0.569,\n",
      "                                   0.179, 0.912, 0.382, 0.126, 0.051, 0.007, 0.353, 0.063, 0.024,\n",
      "                                   0.02, 0.116, 0.254, 0.164, 0.01, 0.326, 0.505, 0.082, 0.057,\n",
      "                                   0.082, 0.029, 0.04, 0.326, 0.02, 0.106, 0.116, 0.601, 0.411,\n",
      "                                   0.537, 0.214, 0.069, 0.301],\n",
      " 'AF-A0A7W9JCS6-F1-model_v4.pdb': [0.126, 0.326, 0.008, 0.007, 0.098, 0.008, 0.772, 0.011, 0.007,\n",
      "                                   0.116, 0.034, 0.024, 0.164, 0.01, 0.01, 0.569, 0.326, 0.007,\n",
      "                                   0.009, 0.923, 0.04, 0.024, 0.007, 0.912, 0.164, 0.326, 0.505],\n",
      " 'AF-A0A831UGW4-F1-model_v4.pdb': [0.254, 0.126, 0.009, 0.663, 0.15, 0.999, 0.326, 0.014, 0.254,\n",
      "                                   0.382, 0.214, 1.0, 1.0, 0.007, 0.106, 0.138, 0.837, 0.045, 0.014,\n",
      "                                   1.0, 1.0, 0.9, 0.326, 0.569, 0.164, 0.692, 0.106, 0.007, 0.999,\n",
      "                                   0.029, 0.505, 0.772, 0.007, 0.872, 0.772, 1.0, 0.045, 0.326,\n",
      "                                   0.069, 0.353, 0.076],\n",
      " 'AF-C0HLL5-F1-model_v4.pdb': [0.009, 0.02],\n",
      " 'AF-D5AI61-F1-model_v4.pdb': [0.007, 0.016],\n",
      " 'AF-H8FMB0-F1-model_v4.pdb': [0.009, 0.007, 0.014, 0.007, 0.007, 0.01, 0.007, 0.009, 0.063, 0.014],\n",
      " 'AF-H9BBE9-F1-model_v4.pdb': [0.024],\n",
      " 'AF-P49370-F1-model_v4.pdb': [0.011, 0.02],\n",
      " 'AF-P49371-F1-model_v4.pdb': [0.007, 0.02],\n",
      " 'AF-R8BYA3-F1-model_v4.pdb': [0.007, 0.007]}\n"
     ]
    }
   ],
   "source": [
    "path_project = \"/media/concha-eloko/Linux/depolymerase_building\"\n",
    "dir_out = f\"{path_project}/seekfold_BeaDepo_out\"\n",
    "\n",
    "import pandas as pd\n",
    "import os \n",
    "\n",
    "outputs = [f\"{dir_out}/{file}\" for file in os.listdir(dir_out) if file[-3:]==\"out\"]\n",
    "\n",
    "header_seekfold = [\"query\",\"target\",\"pident\",\"alnlen\",\"gapopen\",\"qstart\",\"qend\",\"tstart\",\"tend\",\"bits\",\"prob\"]\n",
    "\n",
    "domain_prob = {}\n",
    "for results in outputs :\n",
    "    results_df = pd.read_csv(f\"{results}\", sep = \"\\t\" , names = header_seekfold)\n",
    "    for _,row in results_df.iterrows() :\n",
    "        if row[\"target\"] not in domain_prob and row[\"prob\"] > 0:\n",
    "            tmp_list = []\n",
    "            tmp_list.append(row[\"prob\"])\n",
    "            domain_prob[row[\"target\"]] = tmp_list\n",
    "        elif row[\"prob\"] > 0 :\n",
    "            domain_prob[row[\"target\"]].append(row[\"prob\"])\n",
    "    \n",
    "import pprint\n",
    "pp = pprint.PrettyPrinter(width = 100, sort_dicts = True, compact = True)\n",
    "\n",
    "pp.pprint(domain_prob)  "
   ]
  },
  {
   "cell_type": "markdown",
   "metadata": {},
   "source": [
    "***"
   ]
  },
  {
   "cell_type": "markdown",
   "metadata": {},
   "source": [
    "# Work on the ppt proteins :"
   ]
  },
  {
   "cell_type": "code",
   "execution_count": null,
   "metadata": {},
   "outputs": [],
   "source": [
    "import subprocess\n",
    "import os\n",
    "\n",
    "path_project = \"/media/concha-eloko/Linux/PPT_clean/ficheros_28032023\"\n",
    "path_pdb = f\"{path_project}/output_ppt\"\n",
    "path_db = f\"/media/concha-eloko/Linux/depolymerase_building/RefDepo_domains/RefDepo_domains_db\"\n",
    "path_tmp = f\"{path_project}/tmp\"\n",
    "\n",
    "def seek_beta_helix(path_in) :\n",
    "    dir_out = f\"{path_project}/seekfold_PPT\"\n",
    "    protein_id = path_in.split(\"/\")[-1].split(\".pdb\")[0]\n",
    "    path_out = f\"{dir_out}/{protein_id}.out\"\n",
    "    output_frmt = f\"query,target,pident,alnlen,gapopen,qstart,qend,tstart,tend,bits,prob\"\n",
    "    seek = f\"foldseek easy-search {path_in} {path_db} {path_out} {path_tmp} --format-output {output_frmt}\"\n",
    "    #seek = f\"foldseek easy-search {path_in} {path_db} {path_out}.html {path_tmp} --format-mode 3\"\n",
    "    seek_process = subprocess.Popen(seek, shell=True, stdout=subprocess.PIPE, stderr=subprocess.STDOUT)\n",
    "    press_out, press_err = seek_process.communicate()\n",
    "    print (press_out, press_err)\n",
    "\n",
    "paths = [f\"{path_pdb}/{file}\" for file in os.listdir(f\"{path_pdb}\")]\n",
    "\n",
    "for path in paths :\n",
    "    seek_beta_helix(path)"
   ]
  },
  {
   "cell_type": "markdown",
   "metadata": {},
   "source": [
    ">II."
   ]
  },
  {
   "cell_type": "code",
   "execution_count": 9,
   "metadata": {},
   "outputs": [
    {
     "name": "stdout",
     "output_type": "stream",
     "text": [
      "So far, out of 5679 proteins searched, 2413 seemed positives in the PPT dataset (0.42489874977989084 %).\n",
      "The proportion of very good is 0.6344799005387485\n",
      "The proportion of good is 0.15457936179030252\n",
      "The proportion of decent is 0.0841276419394944\n",
      "The rest is 0.12681309573145463\n"
     ]
    }
   ],
   "source": [
    "path_project = \"/media/concha-eloko/Linux/PPT_clean/ficheros_28032023\"\n",
    "dir_out = f\"{path_project}/seekfold_PPT\"\n",
    "import pandas as pd\n",
    "import os \n",
    "\n",
    "outputs = [f\"{dir_out}/{file}\" for file in os.listdir(dir_out) if file[-3:]==\"out\"]\n",
    "\n",
    "header_seekfold = [\"query\",\"target\",\"pident\",\"alnlen\",\"gapopen\",\"qstart\",\"qend\",\"tstart\",\"tend\",\"bits\",\"prob\"]\n",
    "\n",
    "depo_ppt = {}\n",
    "very_good = 0\n",
    "good = 0\n",
    "decent = 0 \n",
    "passable = 0\n",
    "for results in outputs :\n",
    "    results_df = pd.read_csv(f\"{results}\", sep = \"\\t\" , names = header_seekfold)\n",
    "    try : \n",
    "        if results_df[\"prob\"][0] > 0.1 :\n",
    "            depo_ppt[results_df[\"query\"][0]] = (results_df[\"target\"][0] , results_df[\"prob\"][0])\n",
    "            if results_df[\"prob\"][0] > 0.9 :\n",
    "                very_good += 1\n",
    "            elif results_df[\"prob\"][0] > 0.5 :\n",
    "                good += 1\n",
    "            elif results_df[\"prob\"][0] > 0.25 :\n",
    "                decent += 1\n",
    "            else :\n",
    "                passable += 1\n",
    "                \n",
    "    except IndexError :\n",
    "        pass\n",
    "\n",
    "import pprint\n",
    "pp = pprint.PrettyPrinter(width = 100, sort_dicts = True, compact = True)\n",
    "print(f\"So far, out of {len((outputs))} proteins searched, {len(depo_ppt)} seemed positives in the PPT dataset ({len(depo_ppt)/len(outputs)} %).\\nThe proportion of very good is {very_good/len(depo_ppt)}\\nThe proportion of good is {good/len(depo_ppt)}\\nThe proportion of decent is {decent/len(depo_ppt)}\\nThe rest is {passable/len(depo_ppt)}\")\n"
   ]
  },
  {
   "cell_type": "code",
   "execution_count": 16,
   "metadata": {},
   "outputs": [
    {
     "name": "stdout",
     "output_type": "stream",
     "text": [
      "The jelly-roll presented 108 depolymerases.\n",
      "\n",
      "The alpha/alpha toroid presented 19 depolymerases.\n",
      "\n",
      "The right-handed beta-helix presented 1572 depolymerases.\n",
      "\n",
      "The TIM beta/alpha-barrel presented 317 depolymerases.\n",
      "\n",
      "The 6-bladed beta-propeller presented 65 depolymerases.\n",
      "\n",
      "The Flavodoxin-like presented 0 depolymerases.\n",
      "\n",
      "The Alpha/Beta hydrolase fold presented 13 depolymerases.\n",
      "\n",
      "The Other presented 150 depolymerases.\n",
      "\n"
     ]
    }
   ],
   "source": [
    "path_project = \"/media/concha-eloko/Linux/PPT_clean/ficheros_28032023\"\n",
    "dir_out = f\"{path_project}/seekfold_PPT\"\n",
    "import pandas as pd\n",
    "import os \n",
    "\n",
    "outputs = [f\"{dir_out}/{file}\" for file in os.listdir(dir_out) if file[-3:]==\"out\"]\n",
    "\n",
    "\n",
    "path_info = f\"/media/concha-eloko/Linux/depolymerase_building/depolymerase_fold.csv\"\n",
    "info_df = pd.read_csv(path_info , sep = \"\\t\", header = 0)\n",
    "dico_folds_ppt = {\"jelly-roll\" : [],\n",
    "              \"alpha/alpha toroid\" : [],\n",
    "              \"right-handed beta-helix\" : [] ,\n",
    "              \"TIM beta/alpha-barrel\" : [],\n",
    "              \"6-bladed beta-propeller\" : [] ,\n",
    "              \"Flavodoxin-like\" : [] ,\n",
    "              \"Alpha/Beta hydrolase fold\" : [] ,\n",
    "              \"Other\" : [],\n",
    "             }\n",
    "\n",
    "outputs = [f\"{dir_out}/{file}\" for file in os.listdir(dir_out) if file[-3:]==\"out\"]\n",
    "header_seekfold = [\"query\",\"target\",\"pident\",\"alnlen\",\"gapopen\",\"qstart\",\"qend\",\"tstart\",\"tend\",\"bits\",\"prob\"]\n",
    "depo_results = {}\n",
    "for results in outputs :\n",
    "    results_df = pd.read_csv(f\"{results}\", sep = \"\\t\" , names = header_seekfold)\n",
    "    for _,row in results_df.iterrows() :\n",
    "        fold = info_df[info_df[\"ID\"] == row[\"target\"]][\"X_Group_Name\"].values[0]\n",
    "        if row[\"prob\"] >= 0.5 :\n",
    "            if row[\"query\"] not in dico_folds_ppt[fold] :\n",
    "                dico_folds_ppt[fold].append(row[\"query\"])\n",
    "        elif fold == \"right-handed beta-helix\" and row[\"prob\"] >= 0.2 :\n",
    "            if row[\"query\"] not in dico_folds_ppt[fold] :\n",
    "                dico_folds_ppt[fold].append(row[\"query\"])\n",
    "                \n",
    "for fold in dico_folds_ppt : \n",
    "    print(f\"The {fold} presented {len(dico_folds_ppt[fold])} depolymerases.\\n\")"
   ]
  },
  {
   "cell_type": "code",
   "execution_count": 1,
   "metadata": {},
   "outputs": [],
   "source": [
    "import matplotlib.pyplot as plt\n",
    "import seaborn as sns\n",
    "\n",
    "def plot_distribution(data_list, title_data,num_bins=10):\n",
    "    # Set the style for the plot\n",
    "    sns.set(style='whitegrid')\n",
    "    # Create a figure and axis\n",
    "    fig, ax = plt.subplots()\n",
    "    # Plot the distribution using seaborn's histplot with specified number of bins\n",
    "    sns.histplot(data_list, kde=True, color='blue', ax=ax, bins=num_bins)\n",
    "    # Customize the plot\n",
    "    ax.set(title = title_data, xlabel='Data', ylabel='Frequency')\n",
    "    # Show the plot\n",
    "    plt.show()"
   ]
  },
  {
   "cell_type": "code",
   "execution_count": null,
   "metadata": {},
   "outputs": [],
   "source": [
    "plot_distribution()"
   ]
  },
  {
   "cell_type": "markdown",
   "metadata": {},
   "source": [
    "***\n",
    "# Work on the minibatch :\n",
    "\n"
   ]
  },
  {
   "cell_type": "code",
   "execution_count": null,
   "metadata": {},
   "outputs": [],
   "source": [
    "import subprocess\n",
    "import os\n",
    "\n",
    "path_project = \"/media/concha-eloko/Linux/PPT_clean/ficheros_28032023\"\n",
    "path_pdb = f\"{path_project}/out_minibatch\"\n",
    "path_db = f\"/media/concha-eloko/Linux/depolymerase_building/RefDepo_domains/RefDepo_domains_db\"\n",
    "path_tmp = f\"{path_project}/tmp\"\n",
    "\n",
    "def seek_beta_helix(path_in) :\n",
    "    dir_out = f\"{path_project}/seekfold_minibatch\"\n",
    "    protein_id = path_in.split(\"/\")[-1].split(\".pdb\")[0]\n",
    "    path_out = f\"{dir_out}/{protein_id}.out\"\n",
    "    output_frmt = f\"query,target,pident,alnlen,gapopen,qstart,qend,tstart,tend,bits,prob\"\n",
    "    seek = f\"foldseek easy-search {path_in} {path_db} {path_out} {path_tmp} --format-output {output_frmt}\"\n",
    "    #seek = f\"foldseek easy-search {path_in} {path_db} {path_out}.html {path_tmp} --format-mode 3\"\n",
    "    seek_process = subprocess.Popen(seek, shell=True, stdout=subprocess.PIPE, stderr=subprocess.STDOUT)\n",
    "    press_out, press_err = seek_process.communicate()\n",
    "    print (press_out, press_err)\n",
    "\n",
    "paths = [f\"{path_pdb}/{file}\" for file in os.listdir(f\"{path_pdb}\")]\n",
    "\n",
    "for path in paths :\n",
    "    seek_beta_helix(path)"
   ]
  },
  {
   "cell_type": "code",
   "execution_count": 6,
   "metadata": {},
   "outputs": [
    {
     "name": "stdout",
     "output_type": "stream",
     "text": [
      "So far, out of 2199 proteins searched, 1251 seemed to be positive in the minibatch dataset (0.5688949522510232 %).\n",
      "The proportion of very good is 0.39728217426059154\n",
      "The proportion of good is 0.2270183852917666\n",
      "The proportion of decent is 0.19344524380495604\n",
      "The rest is 0.18225419664268586\n"
     ]
    }
   ],
   "source": [
    "path_project = \"/media/concha-eloko/Linux/PPT_clean/ficheros_28032023\"\n",
    "dir_out = f\"{path_project}/seekfold_minibatch\"\n",
    "import pandas as pd\n",
    "import os \n",
    "\n",
    "outputs = [f\"{dir_out}/{file}\" for file in os.listdir(dir_out) if file[-3:]==\"out\"]\n",
    "\n",
    "header_seekfold = [\"query\",\"target\",\"pident\",\"alnlen\",\"gapopen\",\"qstart\",\"qend\",\"tstart\",\"tend\",\"bits\",\"prob\"]\n",
    "\n",
    "depo_ppt = {}\n",
    "very_good = 0\n",
    "good = 0\n",
    "decent = 0 \n",
    "passable = 0\n",
    "for results in outputs :\n",
    "    results_df = pd.read_csv(f\"{results}\", sep = \"\\t\" , names = header_seekfold)\n",
    "    try : \n",
    "        if results_df[\"prob\"][0] > 0.1 :\n",
    "            depo_ppt[results_df[\"query\"][0]] = (results_df[\"target\"][0] , results_df[\"prob\"][0])\n",
    "            if results_df[\"prob\"][0] > 0.9 :\n",
    "                very_good += 1\n",
    "            elif results_df[\"prob\"][0] > 0.5 :\n",
    "                good += 1\n",
    "            elif results_df[\"prob\"][0] > 0.25 :\n",
    "                decent += 1\n",
    "            else :\n",
    "                passable += 1\n",
    "                \n",
    "    except IndexError :\n",
    "        pass\n",
    "\n",
    "import pprint\n",
    "pp = pprint.PrettyPrinter(width = 100, sort_dicts = True, compact = True)\n",
    "print(f\"So far, out of {len((outputs))} proteins searched, {len(depo_ppt)} seemed to be positive in the minibatch dataset ({len(depo_ppt)/len(outputs)} %).\\nThe proportion of very good is {very_good/len(depo_ppt)}\\nThe proportion of good is {good/len(depo_ppt)}\\nThe proportion of decent is {decent/len(depo_ppt)}\\nThe rest is {passable/len(depo_ppt)}\")\n"
   ]
  },
  {
   "cell_type": "code",
   "execution_count": 15,
   "metadata": {},
   "outputs": [
    {
     "name": "stdout",
     "output_type": "stream",
     "text": [
      "The jelly-roll presented 224 depolymerases.\n",
      "\n",
      "The alpha/alpha toroid presented 13 depolymerases.\n",
      "\n",
      "The right-handed beta-helix presented 620 depolymerases.\n",
      "\n",
      "The TIM beta/alpha-barrel presented 11 depolymerases.\n",
      "\n",
      "The 6-bladed beta-propeller presented 5 depolymerases.\n",
      "\n",
      "The Flavodoxin-like presented 0 depolymerases.\n",
      "\n",
      "The Alpha/Beta hydrolase fold presented 0 depolymerases.\n",
      "\n",
      "The Other presented 0 depolymerases.\n",
      "\n"
     ]
    }
   ],
   "source": [
    "path_project = \"/media/concha-eloko/Linux/PPT_clean/ficheros_28032023\"\n",
    "dir_out = f\"{path_project}/seekfold_minibatch\"\n",
    "import pandas as pd\n",
    "import os \n",
    "\n",
    "outputs = [f\"{dir_out}/{file}\" for file in os.listdir(dir_out) if file[-3:]==\"out\"]\n",
    "\n",
    "\n",
    "path_info = f\"/media/concha-eloko/Linux/depolymerase_building/depolymerase_fold.csv\"\n",
    "info_df = pd.read_csv(path_info , sep = \"\\t\", header = 0)\n",
    "dico_folds_minibatch = {\"jelly-roll\" : [],\n",
    "              \"alpha/alpha toroid\" : [],\n",
    "              \"right-handed beta-helix\" : [] ,\n",
    "              \"TIM beta/alpha-barrel\" : [],\n",
    "              \"6-bladed beta-propeller\" : [] ,\n",
    "              \"Flavodoxin-like\" : [] ,\n",
    "              \"Alpha/Beta hydrolase fold\" : [] ,\n",
    "              \"Other\" : [],\n",
    "             }\n",
    "\n",
    "outputs = [f\"{dir_out}/{file}\" for file in os.listdir(dir_out) if file[-3:]==\"out\"]\n",
    "header_seekfold = [\"query\",\"target\",\"pident\",\"alnlen\",\"gapopen\",\"qstart\",\"qend\",\"tstart\",\"tend\",\"bits\",\"prob\"]\n",
    "depo_results_minibatch = {}\n",
    "for results in outputs :\n",
    "    results_df = pd.read_csv(f\"{results}\", sep = \"\\t\" , names = header_seekfold)\n",
    "    for _,row in results_df.iterrows() :\n",
    "        fold = info_df[info_df[\"ID\"] == row[\"target\"]][\"X_Group_Name\"].values[0]\n",
    "        if row[\"prob\"] >= 0.5 :\n",
    "            if row[\"query\"] not in dico_folds_minibatch[fold] :\n",
    "                dico_folds_minibatch[fold].append(row[\"query\"])\n",
    "        elif fold == \"right-handed beta-helix\" and row[\"prob\"] >= 0.2 :\n",
    "            if row[\"query\"] not in dico_folds_minibatch[fold] :\n",
    "                dico_folds_minibatch[fold].append(row[\"query\"])\n",
    "                \n",
    "for fold in dico_folds_minibatch : \n",
    "    print(f\"The {fold} presented {len(dico_folds_minibatch[fold])} depolymerases.\\n\")"
   ]
  },
  {
   "cell_type": "code",
   "execution_count": null,
   "metadata": {},
   "outputs": [],
   "source": []
  }
 ],
 "metadata": {
  "kernelspec": {
   "display_name": "sklearn-env",
   "language": "python",
   "name": "sklearn-env"
  },
  "language_info": {
   "codemirror_mode": {
    "name": "ipython",
    "version": 3
   },
   "file_extension": ".py",
   "mimetype": "text/x-python",
   "name": "python",
   "nbconvert_exporter": "python",
   "pygments_lexer": "ipython3",
   "version": "3.8.16"
  }
 },
 "nbformat": 4,
 "nbformat_minor": 4
}
