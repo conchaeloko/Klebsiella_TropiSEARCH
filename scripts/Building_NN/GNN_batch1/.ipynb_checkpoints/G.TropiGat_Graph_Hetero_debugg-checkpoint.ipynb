{
 "cells": [
  {
   "cell_type": "code",
   "execution_count": 1,
   "metadata": {},
   "outputs": [],
   "source": [
    "from torch_geometric.data import HeteroData, DataLoader\n",
    "import torch_geometric.transforms as T\n",
    "from torch_geometric.nn import HeteroConv , GCNConv , SAGEConv , GATConv\n",
    "from torch_geometric.utils import negative_sampling\n",
    "from torch_geometric.loader import LinkNeighborLoader\n",
    "\n",
    "import torch\n",
    "from torch import nn \n",
    "import torch.nn.functional as F\n",
    "import torch.optim as optim\n",
    "\n",
    "from sklearn.model_selection import train_test_split, StratifiedKFold\n",
    "from sklearn.preprocessing import LabelEncoder , label_binarize , OneHotEncoder\n",
    "from sklearn.metrics import accuracy_score, precision_score, recall_score, f1_score, roc_auc_score\n",
    "\n",
    "import os \n",
    "import pandas as pd\n",
    "import numpy as np\n",
    "from tqdm import tqdm\n",
    "from itertools import product\n",
    "import random\n",
    "from collections import Counter\n",
    "import warnings\n",
    "warnings.filterwarnings(\"ignore\") \n"
   ]
  },
  {
   "cell_type": "code",
   "execution_count": 2,
   "metadata": {},
   "outputs": [
    {
     "data": {
      "text/plain": [
       "HeteroData(\n",
       "  \u001b[1mA\u001b[0m={ x=[4530, 127] },\n",
       "  \u001b[1mB1\u001b[0m={ x=[11339, 0] },\n",
       "  \u001b[1mB2\u001b[0m={ x=[3608, 1280] },\n",
       "  \u001b[1m(B1, infects, A)\u001b[0m={\n",
       "    edge_index=[2, 9677],\n",
       "    y=[9677]\n",
       "  },\n",
       "  \u001b[1m(B2, expressed, B1)\u001b[0m={\n",
       "    edge_index=[2, 13285],\n",
       "    y=[13285]\n",
       "  },\n",
       "  \u001b[1m(A, harbors, B1)\u001b[0m={\n",
       "    edge_index=[2, 9677],\n",
       "    y=[9677]\n",
       "  }\n",
       ")"
      ]
     },
     "execution_count": 2,
     "metadata": {},
     "output_type": "execute_result"
    }
   ],
   "source": [
    "path_work = \"/media/concha-eloko/Linux/PPT_clean\"\n",
    "graph_data = torch.load(f'{path_work}/graph_file.1107.pt')\n",
    "\n",
    "graph_data"
   ]
  },
  {
   "cell_type": "code",
   "execution_count": 3,
   "metadata": {},
   "outputs": [],
   "source": [
    "# *****************************************************************************\n",
    "# Pre-process data :\n",
    "transform = T.RandomLinkSplit(\n",
    "    num_val=0.1, \n",
    "    num_test=0.2, \n",
    "    #disjoint_train_ratio=...,  \n",
    "    neg_sampling_ratio=1.0,  \n",
    "    add_negative_train_samples=True, \n",
    "    edge_types=(\"B1\", \"infects\", \"A\"),\n",
    "    rev_edge_types=(\"A\", \"harbors\", \"B1\"), \n",
    ")\n",
    "\n",
    "train_data, val_data, test_data = transform(graph_data)\n",
    "\n",
    "train_loader = LinkNeighborLoader(\n",
    "    data=train_data,  \n",
    "    num_neighbors= [-1],  \n",
    "    edge_label_index=((\"B1\", \"infects\", \"A\"), train_data[\"B1\", \"infects\", \"A\"].edge_label_index),\n",
    "    edge_label=train_data[\"B1\", \"infects\", \"A\"].edge_label,\n",
    "    batch_size=128,\n",
    "    shuffle=True,\n",
    ")\n",
    "\n",
    "val_loader = LinkNeighborLoader(\n",
    "    data=val_data,  \n",
    "    num_neighbors= [-1],  \n",
    "    edge_label_index=((\"B1\", \"infects\", \"A\"), val_data[\"B1\", \"infects\", \"A\"].edge_label_index),\n",
    "    edge_label=val_data[\"B1\", \"infects\", \"A\"].edge_label,\n",
    "    batch_size=128,\n",
    "    shuffle=True,\n",
    ")\n",
    "\n",
    "test_loader = LinkNeighborLoader(\n",
    "    data=test_data,  \n",
    "    num_neighbors= [-1],  \n",
    "    edge_label_index=((\"B1\", \"infects\", \"A\"), test_data[\"B1\", \"infects\", \"A\"].edge_label_index),\n",
    "    edge_label=test_data[\"B1\", \"infects\", \"A\"].edge_label,\n",
    "    batch_size=128,\n",
    "    shuffle=True,\n",
    ")"
   ]
  },
  {
   "cell_type": "code",
   "execution_count": 4,
   "metadata": {},
   "outputs": [
    {
     "data": {
      "text/plain": [
       "HeteroData(\n",
       "  \u001b[1mA\u001b[0m={ x=[4530, 127] },\n",
       "  \u001b[1mB1\u001b[0m={ x=[11339, 0] },\n",
       "  \u001b[1mB2\u001b[0m={ x=[3608, 1280] },\n",
       "  \u001b[1m(B1, infects, A)\u001b[0m={\n",
       "    edge_index=[2, 9677],\n",
       "    y=[9677]\n",
       "  },\n",
       "  \u001b[1m(B2, expressed, B1)\u001b[0m={\n",
       "    edge_index=[2, 13285],\n",
       "    y=[13285]\n",
       "  },\n",
       "  \u001b[1m(A, harbors, B1)\u001b[0m={\n",
       "    edge_index=[2, 9677],\n",
       "    y=[9677]\n",
       "  }\n",
       ")"
      ]
     },
     "execution_count": 4,
     "metadata": {},
     "output_type": "execute_result"
    }
   ],
   "source": [
    "graph_data"
   ]
  },
  {
   "cell_type": "code",
   "execution_count": 6,
   "metadata": {},
   "outputs": [
    {
     "data": {
      "text/plain": [
       "HeteroData(\n",
       "  \u001b[1mA\u001b[0m={ x=[4530, 127] },\n",
       "  \u001b[1mB1\u001b[0m={ x=[11339, 0] },\n",
       "  \u001b[1mB2\u001b[0m={ x=[3608, 1280] },\n",
       "  \u001b[1m(B1, infects, A)\u001b[0m={\n",
       "    edge_index=[2, 6775],\n",
       "    y=[6775],\n",
       "    edge_label=[13550],\n",
       "    edge_label_index=[2, 13550]\n",
       "  },\n",
       "  \u001b[1m(B2, expressed, B1)\u001b[0m={\n",
       "    edge_index=[2, 13285],\n",
       "    y=[13285]\n",
       "  },\n",
       "  \u001b[1m(A, harbors, B1)\u001b[0m={\n",
       "    edge_index=[2, 6775],\n",
       "    y=[6775]\n",
       "  }\n",
       ")"
      ]
     },
     "execution_count": 6,
     "metadata": {},
     "output_type": "execute_result"
    }
   ],
   "source": [
    "train_data"
   ]
  },
  {
   "cell_type": "code",
   "execution_count": 5,
   "metadata": {},
   "outputs": [
    {
     "data": {
      "text/plain": [
       "{'edge_index': tensor([[5412,  445, 6170,  ..., 6648, 6831, 2580],\n",
       "        [1950,  344, 1298,  ...,  283, 2744,  498]]), 'y': tensor([1., 1., 1.,  ..., 1., 1., 1.]), 'edge_label': tensor([1., 1., 1.,  ..., 0., 0., 0.]), 'edge_label_index': tensor([[5412,  445, 6170,  ..., 6631, 9589, 7495],\n",
       "        [1950,  344, 1298,  ...,  817, 4204, 3473]])}"
      ]
     },
     "execution_count": 5,
     "metadata": {},
     "output_type": "execute_result"
    }
   ],
   "source": [
    "train_data[(\"B1\", \"infects\", \"A\")][\"edge_index\"]"
   ]
  },
  {
   "cell_type": "code",
   "execution_count": 9,
   "metadata": {},
   "outputs": [
    {
     "data": {
      "text/plain": [
       "HeteroData(\n",
       "  \u001b[1mA\u001b[0m={\n",
       "    x=[159, 127],\n",
       "    n_id=[159]\n",
       "  },\n",
       "  \u001b[1mB1\u001b[0m={\n",
       "    x=[323, 0],\n",
       "    n_id=[323]\n",
       "  },\n",
       "  \u001b[1mB2\u001b[0m={\n",
       "    x=[140, 1280],\n",
       "    n_id=[140]\n",
       "  },\n",
       "  \u001b[1m(B1, infects, A)\u001b[0m={\n",
       "    edge_index=[2, 323],\n",
       "    y=[323],\n",
       "    edge_label=[128],\n",
       "    edge_label_index=[2, 128],\n",
       "    e_id=[323],\n",
       "    input_id=[128]\n",
       "  },\n",
       "  \u001b[1m(B2, expressed, B1)\u001b[0m={\n",
       "    edge_index=[2, 177],\n",
       "    y=[177],\n",
       "    e_id=[177]\n",
       "  },\n",
       "  \u001b[1m(A, harbors, B1)\u001b[0m={\n",
       "    edge_index=[2, 133],\n",
       "    y=[133],\n",
       "    e_id=[133]\n",
       "  }\n",
       ")"
      ]
     },
     "execution_count": 9,
     "metadata": {},
     "output_type": "execute_result"
    }
   ],
   "source": [
    "sampled_data = next(iter(train_loader))\n",
    "\n",
    "sampled_data"
   ]
  },
  {
   "cell_type": "markdown",
   "metadata": {},
   "source": [
    "> That one seems to work :"
   ]
  },
  {
   "cell_type": "code",
   "execution_count": null,
   "metadata": {},
   "outputs": [],
   "source": [
    "class EdgeDecoder(torch.nn.Module):\n",
    "    def __init__(self, hidden_channels):\n",
    "        super().__init__()\n",
    "        self.lin1 = torch.nn.Linear(2 * hidden_channels, hidden_channels)\n",
    "        self.lin2 = torch.nn.Linear(hidden_channels, 1)\n",
    "\n",
    "    def forward(self, features_A, features_B1, graph_data):\n",
    "        index_B1 , index_A = graph_data[\"B1\", \"infects\", \"A\"].edge_label_index\n",
    "        z = torch.cat([features_B1[index_B1] ,features_A[index_A]], dim=-1)  # Can you explain why this line gives me an error \n",
    "        z = self.lin1(z).relu()\n",
    "        z = self.lin2(z)\n",
    "        return z.view(-1)"
   ]
  },
  {
   "cell_type": "code",
   "execution_count": 10,
   "metadata": {},
   "outputs": [],
   "source": [
    "# *****************************************************************************\n",
    "# The model : GAT dot product\n",
    "class GNN(torch.nn.Module):\n",
    "    def __init__(self, edge_type , hidden_channels, conv=GATConv): # GCNConv(-1, 64) , SAGEConv((-1, -1), 64), GATConv((-1, -1), 64)\n",
    "        super().__init__()\n",
    "        self.conv = conv((-1,-1), hidden_channels, add_self_loops = False)\n",
    "        self.hetero_conv = HeteroConv({edge_type: self.conv})\n",
    "    def forward(self, x_dict, edge_index_dict):\n",
    "        x = self.hetero_conv(x_dict, edge_index_dict)\n",
    "        return x\n",
    "\n",
    "# FNN layers product :\n",
    "class Classifier_linear(torch.nn.Module):\n",
    "    def __init__(self, hidden_channels):\n",
    "        super().__init__()\n",
    "        self.lin1 = torch.nn.Linear(2 * hidden_channels, hidden_channels)\n",
    "        self.lin2 = torch.nn.Linear(hidden_channels, 1)\n",
    "\n",
    "    def forward(self, x_dict_A, x_dict_B1, graph):\n",
    "        edge_type = (\"B1\", \"infects\", \"A\")\n",
    "        edge_feat_A = x_dict_A[\"A\"][graph[edge_type].edge_label_index[1]]\n",
    "        edge_feat_B1 = x_dict_B1[\"B1\"][graph[edge_type].edge_label_index[0]]\n",
    "        z = torch.cat([edge_feat_A ,edge_feat_B1], dim=-1)  # Can you explain why this line gives me an error \n",
    "        z = self.lin1(z).relu()\n",
    "        z = self.lin2(z)\n",
    "        return z.view(-1)\n",
    "        \n",
    "class Model(torch.nn.Module):\n",
    "    def __init__(self, out_channels , conv=GATConv):\n",
    "        super().__init__()\n",
    "        self.single_layer_model = GNN((\"B2\", \"expressed\", \"B1\") , out_channels)\n",
    "        self.second_layer_model = GNN((\"B1\", \"infects\", \"A\") , out_channels)\n",
    "        self.classifier_linear = Classifier_linear(out_channels)\n",
    "\n",
    "    def forward(self, graph_data):\n",
    "        b1_nodes = self.single_layer_model(graph_data.x_dict , graph_data.edge_index_dict)\n",
    "        updated_dict = {}\n",
    "        updated_dict[\"A\"], updated_dict[\"B2\"] = graph_data.x_dict[\"A\"], graph_data.x_dict[\"B2\"]\n",
    "        updated_dict[\"B1\"] = b1_nodes[\"B1\"]\n",
    "        a_nodes = self.second_layer_model(updated_dict , graph_data.edge_index_dict)\n",
    "        value = self.classifier_linear(a_nodes ,b1_nodes, graph_data)\n",
    "        return value\n",
    "\n"
   ]
  },
  {
   "cell_type": "code",
   "execution_count": 12,
   "metadata": {},
   "outputs": [],
   "source": [
    "class GNN(torch.nn.Module):\n",
    "    def __init__(self, edge_type , hidden_channels, conv=GATConv): # GCNConv(-1, 64) , SAGEConv((-1, -1), 64), GATConv((-1, -1), 64)\n",
    "        super().__init__()\n",
    "        self.conv = conv((-1,-1), hidden_channels, add_self_loops = False, heads = 3, dropout = 0.1)\n",
    "        self.hetero_conv = HeteroConv({edge_type: self.conv})\n",
    "    def forward(self, x_dict, edge_index_dict):\n",
    "        x = self.hetero_conv(x_dict, edge_index_dict)\n",
    "        return x\n",
    "\n",
    "# Dot product :\n",
    "class Classifier(torch.nn.Module):\n",
    "    def forward(self, x_dict_A , x_dict_B1, edge_index):\n",
    "        edge_type = (\"B1\", \"infects\", \"A\")\n",
    "        edge_feat_A = x_dict_A[\"A\"][edge_index[edge_type].edge_label_index[1]]\n",
    "        edge_feat_B1 = x_dict_B1[\"B1\"][edge_index[edge_type].edge_label_index[0]]\n",
    "        return (edge_feat_A * edge_feat_B1).sum(dim=-1)\n",
    "\n",
    "class Model(torch.nn.Module):\n",
    "    def __init__(self, out_channels , conv=SAGEConv):\n",
    "        super().__init__()\n",
    "        self.single_layer_model = GNN((\"B2\", \"expressed\", \"B1\") , out_channels)\n",
    "        self.second_layer_model = GNN((\"B1\", \"infects\", \"A\") , out_channels)\n",
    "        self.classifier_dot = Classifier()\n",
    "    # Intergrate a Leaky Relu activation function between the two layers :\n",
    "    def forward(self, graph_data):\n",
    "        b1_nodes = self.single_layer_model(graph_data.x_dict , graph_data.edge_index_dict)\n",
    "        b1_nodes_activated = {}\n",
    "        for key in b1_nodes: # Apply the ReLU activation function on each tensor\n",
    "            b1_nodes_activated[key] = F.leaky_relu(b1_nodes[key])\n",
    "        updated_dict = {}\n",
    "        updated_dict[\"A\"], updated_dict[\"B2\"] = graph_data.x_dict[\"A\"], graph_data.x_dict[\"B2\"]\n",
    "        updated_dict[\"B1\"] = b1_nodes_activated[\"B1\"]\n",
    "        a_nodes = self.second_layer_model(updated_dict , graph_data.edge_index_dict)\n",
    "        dot_product = self.classifier_dot(a_nodes ,b1_nodes , graph_data)\n",
    "        return dot_product\n"
   ]
  },
  {
   "cell_type": "code",
   "execution_count": 13,
   "metadata": {},
   "outputs": [],
   "source": [
    "model = Model(20)\n",
    "val = model(sampled_data)"
   ]
  },
  {
   "cell_type": "code",
   "execution_count": 14,
   "metadata": {},
   "outputs": [
    {
     "data": {
      "text/plain": [
       "tensor([ 0.0000,  0.0000, -0.0639,  0.0000, -0.3160,  0.0000,  0.0000,  0.1011,\n",
       "         0.0679, -0.2207,  0.0000, -0.0078,  0.0000,  0.0000,  0.0000,  0.0000,\n",
       "        -0.2258,  0.0000,  0.0000,  0.0000, -0.1813,  0.0000, -0.0290,  0.0000,\n",
       "        -0.0346,  0.0000,  0.0000,  0.0000, -0.0377, -0.0572, -0.0387, -0.0560,\n",
       "         0.0000, -0.1203, -0.1259, -0.1957,  0.0000, -0.1646, -0.0155, -0.3638,\n",
       "         0.0000, -0.1437, -0.1668,  0.0000,  0.0000, -0.2432, -0.0436,  0.0000,\n",
       "        -0.3279, -0.1003,  0.0000,  0.0876, -0.1352,  0.0000,  0.0000, -0.0655,\n",
       "         0.0000, -0.0653, -0.0644,  0.0045,  0.0000,  0.0000,  0.0000, -0.1728,\n",
       "        -0.1282, -0.0864,  0.0000,  0.0000, -0.0290, -0.0984, -0.3291, -0.3795,\n",
       "        -0.0479, -0.0167, -0.0570, -0.1127,  0.0208,  0.0000, -0.3252, -0.1368,\n",
       "         0.0000, -0.0138, -0.0428, -0.0443,  0.0000, -0.4220, -0.0928,  0.0000,\n",
       "        -0.2625, -0.0070,  0.0178, -0.1261, -0.0166,  0.0000,  0.0000,  0.0000,\n",
       "         0.0000, -0.0653, -0.0191,  0.0000,  0.0000,  0.0000, -0.1707, -0.0661,\n",
       "         0.0000, -0.3222,  0.0000,  0.0000,  0.0000,  0.0000, -0.0422,  0.0000,\n",
       "        -0.0723,  0.0000, -0.2383, -0.0651,  0.0000,  0.0000,  0.0000,  0.0000,\n",
       "         0.0000,  0.0000, -0.0750,  0.0000,  0.0000,  0.0000, -0.0723,  0.0000],\n",
       "       grad_fn=<SumBackward1>)"
      ]
     },
     "execution_count": 14,
     "metadata": {},
     "output_type": "execute_result"
    }
   ],
   "source": [
    "val"
   ]
  },
  {
   "cell_type": "code",
   "execution_count": null,
   "metadata": {},
   "outputs": [],
   "source": []
  }
 ],
 "metadata": {
  "kernelspec": {
   "display_name": "torch_geometric",
   "language": "python",
   "name": "torch_geometric"
  },
  "language_info": {
   "codemirror_mode": {
    "name": "ipython",
    "version": 3
   },
   "file_extension": ".py",
   "mimetype": "text/x-python",
   "name": "python",
   "nbconvert_exporter": "python",
   "pygments_lexer": "ipython3",
   "version": "3.11.4"
  },
  "widgets": {
   "application/vnd.jupyter.widget-state+json": {
    "state": {},
    "version_major": 2,
    "version_minor": 0
   }
  }
 },
 "nbformat": 4,
 "nbformat_minor": 4
}
