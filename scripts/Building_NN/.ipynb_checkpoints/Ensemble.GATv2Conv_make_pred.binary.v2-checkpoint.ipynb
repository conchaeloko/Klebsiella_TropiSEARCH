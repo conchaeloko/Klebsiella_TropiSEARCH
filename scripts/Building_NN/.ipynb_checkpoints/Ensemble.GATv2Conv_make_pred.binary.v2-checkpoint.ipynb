{
 "cells": [
  {
   "cell_type": "code",
   "execution_count": 1,
   "id": "1c3f7386-2112-49cc-99fd-bf8be42dfade",
   "metadata": {
    "scrolled": true
   },
   "outputs": [],
   "source": [
    "from torch_geometric.data import HeteroData, DataLoader\n",
    "import torch_geometric.transforms as T\n",
    "from torch_geometric.nn import to_hetero , HeteroConv , GATv2Conv\n",
    "from torch_geometric.utils import negative_sampling\n",
    "from torch_geometric.loader import LinkNeighborLoader\n",
    "import torch\n",
    "from torch import nn\n",
    "import torch.nn.functional as F\n",
    "import torch.optim as optim\n",
    "\n",
    "from sklearn.model_selection import train_test_split, StratifiedKFold\n",
    "from sklearn.preprocessing import LabelEncoder , label_binarize , OneHotEncoder\n",
    "from sklearn.metrics import accuracy_score, precision_score, recall_score, f1_score, roc_auc_score , matthews_corrcoef\n",
    "\n",
    "from TropiGAT_functions import *\n",
    "#from TropiGAT_functions import get_top_n_kltypes ,clean_print \n",
    "\n",
    "import os\n",
    "import json\n",
    "import pandas as pd\n",
    "import numpy as np\n",
    "from tqdm import tqdm\n",
    "from itertools import product\n",
    "import random\n",
    "from collections import Counter\n",
    "import warnings\n",
    "import logging\n",
    "from multiprocessing.pool import ThreadPool\n",
    "warnings.filterwarnings(\"ignore\")\n",
    "\n",
    "# *****************************************************************************\n",
    "# Load the Dataframes :\n",
    "path_work = \"/media/concha-eloko/Linux/PPT_clean\"\n",
    "path_ensemble = f\"{path_work}/ficheros_28032023/ensemble_1908\"\n"
   ]
  },
  {
   "cell_type": "code",
   "execution_count": 2,
   "id": "dd62344e-ca02-4a9f-a878-168489975a33",
   "metadata": {},
   "outputs": [],
   "source": [
    "# *****************************************************************************\n",
    "#logging.basicConfig(filename = f\"{path_work}/train_nn/GATv2Conv.1608.log\",format='%(asctime)s | %(levelname)s: %(message)s', level=logging.NOTSET, filemode='w')\n",
    "\n",
    "class GNN(torch.nn.Module):\n",
    "    def __init__(self, edge_type , conv, hidden_channels, heads, dropout): \n",
    "        super().__init__()\n",
    "        self.conv = conv((-1,-1), hidden_channels, add_self_loops = False, heads = heads, dropout = dropout, shared_weights = True)\n",
    "        self.hetero_conv = HeteroConv({edge_type: self.conv})\n",
    "    def forward(self, x_dict, edge_index_dict):\n",
    "        x = self.hetero_conv(x_dict, edge_index_dict)\n",
    "        return x\n",
    "\n",
    "# Classifier, Binary :\n",
    "class EdgeDecoder(torch.nn.Module):\n",
    "    def __init__(self, hidden_channels, heads):\n",
    "        super().__init__()\n",
    "        self.lin1 = torch.nn.Linear(heads*hidden_channels + 127, 512)\n",
    "        self.lin2 = torch.nn.Linear(512, 1)\n",
    "\n",
    "    def forward(self, x_dict_A , x_dict_B1, graph_data):\n",
    "        edge_type = (\"B1\", \"infects\", \"A\")\n",
    "        edge_feat_A = x_dict_A[\"A\"][graph_data[edge_type].edge_label_index[1]]\n",
    "        edge_feat_B1 = x_dict_B1[\"B1\"][graph_data[edge_type].edge_label_index[0]]\n",
    "        features_phage = torch.cat((edge_feat_A ,edge_feat_B1), dim=-1)\n",
    "        x = self.lin1(features_phage).relu()\n",
    "        x = self.lin2(x)\n",
    "        return x.view(-1)\n",
    "\n",
    "class Model(torch.nn.Module):\n",
    "    def __init__(self, conv, hidden_channels, heads, dropout):\n",
    "        super().__init__()\n",
    "        self.single_layer_model = GNN((\"B2\", \"expressed\", \"B1\") ,conv, hidden_channels,heads,dropout)\n",
    "        self.EdgeDecoder = EdgeDecoder(hidden_channels,heads)\n",
    "\n",
    "    def forward(self, graph_data):\n",
    "        b1_nodes = self.single_layer_model(graph_data.x_dict , graph_data.edge_index_dict)\n",
    "        a_nodes =  graph_data.x_dict\n",
    "        out = self.EdgeDecoder(a_nodes ,b1_nodes , graph_data)\n",
    "        return out\n"
   ]
  },
  {
   "cell_type": "markdown",
   "id": "452274b6-c2b0-46e1-a1bd-bc9ccdb8e736",
   "metadata": {},
   "source": [
    "> pre-processing"
   ]
  },
  {
   "cell_type": "code",
   "execution_count": 3,
   "id": "87f8bb36-594c-4e7e-9008-1f415eed79fe",
   "metadata": {},
   "outputs": [],
   "source": [
    "import pandas as pd \n",
    "import os \n",
    "\n",
    "path_project = \"/media/concha-eloko/Linux/77_strains_phage_project\"\n",
    "path_Dpo_domain_org = \"/media/concha-eloko/Linux/depolymerase_building/clean_77_phages_depo\"\n",
    "\n",
    "dpo_embeddings = pd.read_csv(f\"{path_project}/rbp_work/Dpo_domains_77.esm2.embedding.csv\", sep = \",\" , header = None)\n",
    "dpo_embeddings = dpo_embeddings.drop([1281] , axis = 1)\n",
    "dpo_embeddings.set_index([0], inplace = True)"
   ]
  },
  {
   "cell_type": "markdown",
   "id": "f8b4c9ba-389d-48f1-bef9-e75b9bdba8d6",
   "metadata": {},
   "source": [
    "> run the predictions "
   ]
  },
  {
   "cell_type": "code",
   "execution_count": 4,
   "id": "60087068-4631-4543-bfd2-9db933dbee8f",
   "metadata": {},
   "outputs": [
    {
     "ename": "NameError",
     "evalue": "name 'dico_kltype' is not defined",
     "output_type": "error",
     "traceback": [
      "\u001b[0;31m---------------------------------------------------------------------------\u001b[0m",
      "\u001b[0;31mNameError\u001b[0m                                 Traceback (most recent call last)",
      "Cell \u001b[0;32mIn[4], line 3\u001b[0m\n\u001b[1;32m      1\u001b[0m \u001b[38;5;66;03m# Run the predictions : \u001b[39;00m\n\u001b[1;32m      2\u001b[0m graph_test \u001b[38;5;241m=\u001b[39m graph_single_Dpo_pred(dpo_embeddings)\n\u001b[0;32m----> 3\u001b[0m r_pred \u001b[38;5;241m=\u001b[39m run_predictions(graph_test,dpo_embeddings)\n",
      "File \u001b[0;32m~/Documents/GitHub/DpoK-serotypeTropism/scripts/Building_NN/TropiGAT_functions.py:137\u001b[0m, in \u001b[0;36mrun_predictions\u001b[0;34m(graph, dpo_embeddings, ratios, path_work_f, path_ensemble_f)\u001b[0m\n\u001b[1;32m    135\u001b[0m model \u001b[38;5;241m=\u001b[39m Dpo_classifier_models[\u001b[38;5;124mf\u001b[39m\u001b[38;5;124m\"\u001b[39m\u001b[38;5;124mmodel_ratio_\u001b[39m\u001b[38;5;132;01m{\u001b[39;00mratio\u001b[38;5;132;01m}\u001b[39;00m\u001b[38;5;124m\"\u001b[39m]\n\u001b[1;32m    136\u001b[0m predictions, probabilities \u001b[38;5;241m=\u001b[39m make_predictions(model, graph)\n\u001b[0;32m--> 137\u001b[0m ids \u001b[38;5;241m=\u001b[39m get_nodes_id_single(graph[(\u001b[38;5;124m\"\u001b[39m\u001b[38;5;124mB1\u001b[39m\u001b[38;5;124m\"\u001b[39m, \u001b[38;5;124m\"\u001b[39m\u001b[38;5;124minfects\u001b[39m\u001b[38;5;124m\"\u001b[39m, \u001b[38;5;124m\"\u001b[39m\u001b[38;5;124mA\u001b[39m\u001b[38;5;124m\"\u001b[39m)]\u001b[38;5;241m.\u001b[39medge_label_index,dpo_embeddings)\n\u001b[1;32m    138\u001b[0m results \u001b[38;5;241m=\u001b[39m \u001b[38;5;28mtuple\u001b[39m(\u001b[38;5;28mzip\u001b[39m(ids,predictions\u001b[38;5;241m.\u001b[39mnumpy(),probabilities\u001b[38;5;241m.\u001b[39mnumpy()))\n\u001b[1;32m    139\u001b[0m positive_results \u001b[38;5;241m=\u001b[39m [pred \u001b[38;5;28;01mfor\u001b[39;00m pred \u001b[38;5;129;01min\u001b[39;00m results \u001b[38;5;28;01mif\u001b[39;00m \u001b[38;5;28mint\u001b[39m(pred[\u001b[38;5;241m1\u001b[39m]) \u001b[38;5;241m==\u001b[39m \u001b[38;5;241m1\u001b[39m]\n",
      "File \u001b[0;32m~/Documents/GitHub/DpoK-serotypeTropism/scripts/Building_NN/TropiGAT_functions.py:62\u001b[0m, in \u001b[0;36mget_nodes_id_single\u001b[0;34m(B1A_index_file, dpo_embeddings)\u001b[0m\n\u001b[1;32m     60\u001b[0m B1A_index_file \u001b[38;5;241m=\u001b[39m B1A_index_file\u001b[38;5;241m.\u001b[39mnumpy()\n\u001b[1;32m     61\u001b[0m B1A_index_file \u001b[38;5;241m=\u001b[39m \u001b[38;5;28mtuple\u001b[39m(\u001b[38;5;28mzip\u001b[39m(B1A_index_file[\u001b[38;5;241m0\u001b[39m],B1A_index_file[\u001b[38;5;241m1\u001b[39m]))\n\u001b[0;32m---> 62\u001b[0m id_file \u001b[38;5;241m=\u001b[39m [(dpo_embeddings\u001b[38;5;241m.\u001b[39mindex[tup[\u001b[38;5;241m0\u001b[39m]] , dico_kltype[\u001b[38;5;28mtuple\u001b[39m(pred_data_single[\u001b[38;5;124m\"\u001b[39m\u001b[38;5;124mA\u001b[39m\u001b[38;5;124m\"\u001b[39m][\u001b[38;5;124m\"\u001b[39m\u001b[38;5;124mx\u001b[39m\u001b[38;5;124m\"\u001b[39m][tup[\u001b[38;5;241m1\u001b[39m]]\u001b[38;5;241m.\u001b[39mnumpy())]) \u001b[38;5;28;01mfor\u001b[39;00m tup \u001b[38;5;129;01min\u001b[39;00m B1A_index_file]\n\u001b[1;32m     63\u001b[0m \u001b[38;5;28;01mreturn\u001b[39;00m id_file\n",
      "File \u001b[0;32m~/Documents/GitHub/DpoK-serotypeTropism/scripts/Building_NN/TropiGAT_functions.py:62\u001b[0m, in \u001b[0;36m<listcomp>\u001b[0;34m(.0)\u001b[0m\n\u001b[1;32m     60\u001b[0m B1A_index_file \u001b[38;5;241m=\u001b[39m B1A_index_file\u001b[38;5;241m.\u001b[39mnumpy()\n\u001b[1;32m     61\u001b[0m B1A_index_file \u001b[38;5;241m=\u001b[39m \u001b[38;5;28mtuple\u001b[39m(\u001b[38;5;28mzip\u001b[39m(B1A_index_file[\u001b[38;5;241m0\u001b[39m],B1A_index_file[\u001b[38;5;241m1\u001b[39m]))\n\u001b[0;32m---> 62\u001b[0m id_file \u001b[38;5;241m=\u001b[39m [(dpo_embeddings\u001b[38;5;241m.\u001b[39mindex[tup[\u001b[38;5;241m0\u001b[39m]] , dico_kltype[\u001b[38;5;28mtuple\u001b[39m(pred_data_single[\u001b[38;5;124m\"\u001b[39m\u001b[38;5;124mA\u001b[39m\u001b[38;5;124m\"\u001b[39m][\u001b[38;5;124m\"\u001b[39m\u001b[38;5;124mx\u001b[39m\u001b[38;5;124m\"\u001b[39m][tup[\u001b[38;5;241m1\u001b[39m]]\u001b[38;5;241m.\u001b[39mnumpy())]) \u001b[38;5;28;01mfor\u001b[39;00m tup \u001b[38;5;129;01min\u001b[39;00m B1A_index_file]\n\u001b[1;32m     63\u001b[0m \u001b[38;5;28;01mreturn\u001b[39;00m id_file\n",
      "\u001b[0;31mNameError\u001b[0m: name 'dico_kltype' is not defined"
     ]
    }
   ],
   "source": [
    "# Run the predictions : \n",
    "graph_test = graph_single_Dpo_pred(dpo_embeddings)\n",
    "r_pred = run_predictions(graph_test,dpo_embeddings)\n",
    "#formatted_pred = format_predictions(r_pred)\n"
   ]
  },
  {
   "cell_type": "code",
   "execution_count": null,
   "id": "3781fb97-c3fb-4f8f-98e3-1c08107e8f11",
   "metadata": {},
   "outputs": [],
   "source": [
    "graph_test"
   ]
  },
  {
   "cell_type": "code",
   "execution_count": null,
   "id": "2cdda27d-b1e8-4791-838e-6f1a789ab609",
   "metadata": {},
   "outputs": [],
   "source": [
    "# Print the predictions : "
   ]
  },
  {
   "cell_type": "code",
   "execution_count": null,
   "id": "f088dd61-6394-46ae-b05d-f4b8261b935a",
   "metadata": {
    "scrolled": true
   },
   "outputs": [],
   "source": [
    "\n",
    "round_prediction = {}\n",
    "\n",
    "for ratio in [1,2,3,4,6,7] : \n",
    "    clean_results = {} \n",
    "    model = Dpo_classifier_models[f\"model_ratio_{ratio}\"]\n",
    "    predictions, probabilities = make_predictions(model, pred_data_single)\n",
    "    ids = get_nodes_id_single(pred_data_single[(\"B1\", \"infects\", \"A\")].edge_label_index)\n",
    "    results = tuple(zip(ids,predictions.numpy(),probabilities.numpy()))\n",
    "    positive_results = [pred for pred in results if int(pred[1]) == 1]\n",
    "    for pos_res in positive_results : \n",
    "        prot = pos_res[0][0]\n",
    "        kltype = pos_res[0][1]\n",
    "        score = pos_res[2]\n",
    "        a = {}\n",
    "        a[kltype] = score\n",
    "        if score > 0.5 : \n",
    "            if prot not in clean_results : \n",
    "                clean_results[prot] = a\n",
    "            else :\n",
    "                clean_results[prot].update(a)\n",
    "    for prot in clean_results :\n",
    "        if prot not in round_prediction : \n",
    "            round_prediction[prot] = clean_results[prot]\n",
    "        else :\n",
    "            for kltype in clean_results[prot] :\n",
    "                if kltype not in round_prediction[prot] : \n",
    "                    round_prediction[prot][kltype] = clean_results[prot][kltype]\n",
    "                else :\n",
    "                    round_prediction[prot][kltype] = round_prediction[prot][kltype] + clean_results[prot][kltype]\n",
    "                    \n",
    "    #json.dump(clean_results , outfile, cls=CustomEncoder)\n",
    "\n"
   ]
  },
  {
   "cell_type": "code",
   "execution_count": null,
   "id": "06729585-e651-4a57-803c-89679bcf38ef",
   "metadata": {
    "scrolled": true
   },
   "outputs": [],
   "source": [
    "import pprint\n",
    "pp = pprint.PrettyPrinter(width = 250, sort_dicts = True, compact = True)\n",
    "pp.pprint(formatted_pred)"
   ]
  },
  {
   "cell_type": "code",
   "execution_count": null,
   "id": "9c18d56e-bf8d-456d-b17d-639c5434f9d0",
   "metadata": {
    "scrolled": true
   },
   "outputs": [],
   "source": [
    "final_results = {}\n",
    "\n",
    "for protein,hits in round_prediction.items() : \n",
    "    phage = protein.split(\"__\")[0]\n",
    "    if phage not in final_results : \n",
    "        tmp_hits = {}\n",
    "        for kltype in hits : \n",
    "            if kltype in tmp_hits and hits[kltype] > tmp_hits[kltype]:\n",
    "                tmp_hits[kltype] = hits[kltype]\n",
    "            elif kltype in tmp_hits and hits[kltype] < tmp_hits[kltype]:\n",
    "                pass\n",
    "            elif kltype not in tmp_hits : \n",
    "                tmp_hits[kltype] = hits[kltype]\n",
    "        final_results[phage] = tmp_hits\n",
    "    else :\n",
    "        for kltype in hits : \n",
    "            if kltype in final_results[phage] and hits[kltype] > final_results[phage][kltype]:\n",
    "                final_results[phage][kltype] = hits[kltype]\n",
    "            elif kltype in final_results[phage] and hits[kltype] < final_results[phage][kltype]:\n",
    "                pass\n",
    "            elif kltype not in final_results[phage] : \n",
    "                final_results[phage][kltype] = hits[kltype]\n",
    "\n",
    "import pprint\n",
    "pp = pprint.PrettyPrinter(width = 150, sort_dicts = True, compact = True)\n",
    "pp.pprint(final_results)"
   ]
  },
  {
   "cell_type": "code",
   "execution_count": null,
   "id": "3509c4d4-de72-4101-ba30-1317b6cd2e31",
   "metadata": {},
   "outputs": [],
   "source": [
    "import pprint\n",
    "pp = pprint.PrettyPrinter(width = 150, sort_dicts = True, compact = True)\n",
    "pp.pprint(output_dict)\n",
    "\n"
   ]
  },
  {
   "cell_type": "code",
   "execution_count": null,
   "id": "6521763e-7bf2-4798-9e3f-37c7f5d08e78",
   "metadata": {},
   "outputs": [],
   "source": []
  }
 ],
 "metadata": {
  "kernelspec": {
   "display_name": "torch_geometric",
   "language": "python",
   "name": "torch_geometric"
  },
  "language_info": {
   "codemirror_mode": {
    "name": "ipython",
    "version": 3
   },
   "file_extension": ".py",
   "mimetype": "text/x-python",
   "name": "python",
   "nbconvert_exporter": "python",
   "pygments_lexer": "ipython3",
   "version": "3.11.4"
  },
  "widgets": {
   "application/vnd.jupyter.widget-state+json": {
    "state": {},
    "version_major": 2,
    "version_minor": 0
   }
  }
 },
 "nbformat": 4,
 "nbformat_minor": 5
}
