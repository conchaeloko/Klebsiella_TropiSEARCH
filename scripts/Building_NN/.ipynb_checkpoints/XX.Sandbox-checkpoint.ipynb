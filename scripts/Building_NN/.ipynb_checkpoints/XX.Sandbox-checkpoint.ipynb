{
 "cells": [
  {
   "cell_type": "code",
   "execution_count": 1,
   "metadata": {},
   "outputs": [],
   "source": [
    "import torch\n",
    "from torch_geometric.data import HeteroData\n",
    "\n",
    "# Initialize the node features for each type of node\n",
    "# For this example, let's say each node A has 5 features, and nodes B1 and B2 do not have features\n",
    "num_nodes_A = 1000\n",
    "num_nodes_B1 = 500\n",
    "num_nodes_B2 = 500\n",
    "\n",
    "x_A = torch.randn((num_nodes_A, 5))  # 5 features for each node A\n",
    "x_B1 = torch.zeros((num_nodes_B1, 0))  # no features for nodes B1\n",
    "x_B2 = torch.zeros((num_nodes_B2, 0))  # no features for nodes B2\n",
    "\n",
    "# Initialize the edges for each type of edge\n",
    "# For this example, let's say we have 2000 edges between nodes A and B1, \n",
    "# and 3000 edges between nodes B1 and B2\n",
    "num_edges_A_B1 = 2000\n",
    "num_edges_B1_B2 = 3000\n",
    "\n",
    "edge_index_A_B1 = torch.randint(0, num_nodes_A, (2, num_edges_A_B1))\n",
    "edge_index_B1_B2 = torch.randint(0, num_nodes_B1, (2, num_edges_B1_B2))\n",
    "\n",
    "# Initialize the labels for each type of edge\n",
    "# For this example, let's say we're doing binary classification, so labels are 0 or 1\n",
    "y_A_B1 = torch.randint(0, 2, (num_edges_A_B1,))\n",
    "y_B1_B2 = torch.randint(0, 2, (num_edges_B1_B2,))\n",
    "\n",
    "# Create a HeteroData object\n",
    "data = HeteroData()\n",
    "\n",
    "# Add node data\n",
    "data['A'].x = x_A\n",
    "data['B1'].x = x_B1\n",
    "data['B2'].x = x_B2\n",
    "\n",
    "# Add edge data\n",
    "data['A', 'connects', 'B1'].edge_index = edge_index_A_B1\n",
    "data['A', 'connects', 'B1'].y = y_A_B1\n",
    "\n",
    "data['B1', 'connects', 'B2'].edge_index = edge_index_B1_B2\n",
    "data['B1', 'connects', 'B2'].y = y_B1_B2"
   ]
  },
  {
   "cell_type": "code",
   "execution_count": 8,
   "metadata": {},
   "outputs": [
    {
     "data": {
      "text/plain": [
       "tensor([], size=(500, 0))"
      ]
     },
     "execution_count": 8,
     "metadata": {},
     "output_type": "execute_result"
    }
   ],
   "source": [
    "x_B1"
   ]
  },
  {
   "cell_type": "code",
   "execution_count": 7,
   "metadata": {},
   "outputs": [
    {
     "data": {
      "text/plain": [
       "tensor([[173, 436, 416,  ...,  48,  74, 306],\n",
       "        [289, 254, 185,  ...,  68, 143, 399]])"
      ]
     },
     "execution_count": 7,
     "metadata": {},
     "output_type": "execute_result"
    }
   ],
   "source": [
    "data['B1', 'connects', 'B2'].edge_index"
   ]
  },
  {
   "cell_type": "code",
   "execution_count": 9,
   "metadata": {},
   "outputs": [
    {
     "data": {
      "text/plain": [
       "tensor([0, 1, 1,  ..., 0, 1, 1])"
      ]
     },
     "execution_count": 9,
     "metadata": {},
     "output_type": "execute_result"
    }
   ],
   "source": [
    "data['A', 'connects', 'B1'].y"
   ]
  },
  {
   "cell_type": "code",
   "execution_count": 10,
   "metadata": {},
   "outputs": [
    {
     "data": {
      "text/plain": [
       "tensor([1., 1., 1., 1., 1., 1., 1., 1., 1., 1.])"
      ]
     },
     "execution_count": 10,
     "metadata": {},
     "output_type": "execute_result"
    }
   ],
   "source": [
    "torch.ones(10)"
   ]
  },
  {
   "cell_type": "code",
   "execution_count": null,
   "metadata": {},
   "outputs": [],
   "source": [
    "class GNN(torch.nn.Module):\n",
    "    def __init__(self, hidden_channels, out_channels):\n",
    "        super().__init__()\n",
    "        self.conv1 = GCNConv(-1, hidden_channels, add_self_loops=False)\n",
    "        self.conv2 = GCNConv(-1, out_channels, add_self_loops=False)\n",
    "    def forward(self, x, edge_index):\n",
    "        x = F.relu(self.conv1(x, edge_index))\n",
    "        x = self.conv2(x, edge_index)\n",
    "        return x\n",
    "\n",
    "class Classifier(torch.nn.Module):\n",
    "    def forward(self, x, edge_index):\n",
    "        edge_feat_B1 = x[\"B1\"][edge_index[(\"B1\", \"infects\", \"A\")][0]]\n",
    "        edge_feat_A = x[\"A\"][edge_index[(\"B1\", \"infects\", \"A\")][1]]\n",
    "        return (edge_feat_B1 * edge_feat_A).sum(dim=-1)\n",
    "\n",
    "\n",
    "class Model(torch.nn.Module):\n",
    "    def __init__(self, hidden_channels, out_channels):\n",
    "        super().__init__()\n",
    "        self.gnn_B2_B1 = GNN(hidden_channels, out_channels)\n",
    "        self.gnn_B1_A = GNN(hidden_channels, out_channels)\n",
    "        self.classifier = Classifier()\n",
    "    def forward(self, graph_data):\n",
    "        # Propagate B2 features to B1\n",
    "        x_B2 = graph_data['B2'].x\n",
    "        edge_index_B2_B1 = graph_data[('B2', 'expressed', 'B1')].edge_index\n",
    "        x_B1_from_B2 = self.gnn_B2_B1(x_B2, edge_index_B2_B1)\n",
    "        # Propagate new B1 features to A\n",
    "        edge_index_B1_A = graph_data[('B1', 'infects', 'A')].edge_index\n",
    "        x_A_from_B1 = self.gnn_B1_A(x_B1_from_B2, edge_index_B1_A)\n",
    "        # Classification based on new features\n",
    "        x = {'B1': x_B1_from_B2, 'A': x_A_from_B1}\n",
    "        pred = self.classifier(x, edge_index_B1_A)\n",
    "        \n",
    "        return pred"
   ]
  }
 ],
 "metadata": {
  "kernelspec": {
   "display_name": "sklearn-env",
   "language": "python",
   "name": "sklearn-env"
  },
  "language_info": {
   "codemirror_mode": {
    "name": "ipython",
    "version": 3
   },
   "file_extension": ".py",
   "mimetype": "text/x-python",
   "name": "python",
   "nbconvert_exporter": "python",
   "pygments_lexer": "ipython3",
   "version": "3.8.16"
  }
 },
 "nbformat": 4,
 "nbformat_minor": 4
}
