{
 "cells": [
  {
   "cell_type": "code",
   "execution_count": 1,
   "metadata": {},
   "outputs": [],
   "source": [
    "import torch\n",
    "from torch_geometric.data import HeteroData\n",
    "\n",
    "# Initialize the node features for each type of node\n",
    "# For this example, let's say each node A has 5 features, and nodes B1 and B2 do not have features\n",
    "num_nodes_A = 1000\n",
    "num_nodes_B1 = 500\n",
    "num_nodes_B2 = 500\n",
    "\n",
    "x_A = torch.randn((num_nodes_A, 5))  # 5 features for each node A\n",
    "x_B1 = torch.zeros((num_nodes_B1, 0))  # no features for nodes B1\n",
    "x_B2 = torch.zeros((num_nodes_B2, 0))  # no features for nodes B2\n",
    "\n",
    "# Initialize the edges for each type of edge\n",
    "# For this example, let's say we have 2000 edges between nodes A and B1, \n",
    "# and 3000 edges between nodes B1 and B2\n",
    "num_edges_A_B1 = 2000\n",
    "num_edges_B1_B2 = 3000\n",
    "\n",
    "edge_index_A_B1 = torch.randint(0, num_nodes_A, (2, num_edges_A_B1))\n",
    "edge_index_B1_B2 = torch.randint(0, num_nodes_B1, (2, num_edges_B1_B2))\n",
    "\n",
    "# Initialize the labels for each type of edge\n",
    "# For this example, let's say we're doing binary classification, so labels are 0 or 1\n",
    "y_A_B1 = torch.randint(0, 2, (num_edges_A_B1,))\n",
    "y_B1_B2 = torch.randint(0, 2, (num_edges_B1_B2,))\n",
    "\n",
    "# Create a HeteroData object\n",
    "data = HeteroData()\n",
    "\n",
    "# Add node data\n",
    "data['A'].x = x_A\n",
    "data['B1'].x = x_B1\n",
    "data['B2'].x = x_B2\n",
    "\n",
    "# Add edge data\n",
    "data['A', 'connects', 'B1'].edge_index = edge_index_A_B1\n",
    "data['A', 'connects', 'B1'].y = y_A_B1\n",
    "\n",
    "data['B1', 'connects', 'B2'].edge_index = edge_index_B1_B2\n",
    "data['B1', 'connects', 'B2'].y = y_B1_B2"
   ]
  },
  {
   "cell_type": "code",
   "execution_count": 8,
   "metadata": {},
   "outputs": [
    {
     "data": {
      "text/plain": [
       "tensor([], size=(500, 0))"
      ]
     },
     "execution_count": 8,
     "metadata": {},
     "output_type": "execute_result"
    }
   ],
   "source": [
    "x_B1"
   ]
  },
  {
   "cell_type": "code",
   "execution_count": 7,
   "metadata": {},
   "outputs": [
    {
     "data": {
      "text/plain": [
       "tensor([[173, 436, 416,  ...,  48,  74, 306],\n",
       "        [289, 254, 185,  ...,  68, 143, 399]])"
      ]
     },
     "execution_count": 7,
     "metadata": {},
     "output_type": "execute_result"
    }
   ],
   "source": [
    "data['B1', 'connects', 'B2'].edge_index"
   ]
  },
  {
   "cell_type": "code",
   "execution_count": 9,
   "metadata": {},
   "outputs": [
    {
     "data": {
      "text/plain": [
       "tensor([0, 1, 1,  ..., 0, 1, 1])"
      ]
     },
     "execution_count": 9,
     "metadata": {},
     "output_type": "execute_result"
    }
   ],
   "source": [
    "data['A', 'connects', 'B1'].y"
   ]
  },
  {
   "cell_type": "code",
   "execution_count": 10,
   "metadata": {},
   "outputs": [
    {
     "data": {
      "text/plain": [
       "tensor([1., 1., 1., 1., 1., 1., 1., 1., 1., 1.])"
      ]
     },
     "execution_count": 10,
     "metadata": {},
     "output_type": "execute_result"
    }
   ],
   "source": [
    "torch.ones(10)"
   ]
  },
  {
   "cell_type": "code",
   "execution_count": null,
   "metadata": {},
   "outputs": [],
   "source": []
  }
 ],
 "metadata": {
  "kernelspec": {
   "display_name": "sklearn-env",
   "language": "python",
   "name": "sklearn-env"
  },
  "language_info": {
   "codemirror_mode": {
    "name": "ipython",
    "version": 3
   },
   "file_extension": ".py",
   "mimetype": "text/x-python",
   "name": "python",
   "nbconvert_exporter": "python",
   "pygments_lexer": "ipython3",
   "version": "3.8.16"
  }
 },
 "nbformat": 4,
 "nbformat_minor": 4
}
