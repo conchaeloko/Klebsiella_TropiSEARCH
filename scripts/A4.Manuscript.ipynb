{
 "cells": [
  {
   "cell_type": "code",
   "execution_count": null,
   "id": "6b5c2629-293d-4085-9df9-266c107c4ba4",
   "metadata": {},
   "outputs": [],
   "source": [
    "import os\n",
    "\n",
    "\n",
    "path_klebsiella=\"/home/conchae/prediction_depolymerase_tropism\"\n",
    "\n",
    "k_specie={\"k_aerogenes\" : \"Klebsiella aerogenes\",\n",
    "          \"k_africana\" : \"Klebsiella africana\",\n",
    "          \"k_grimatii\" : \"Klebsiella grimontii\",\n",
    "          \"k_huaxiensis\" : \"Klebsiella huaxiensis\",\n",
    "          \"k_indica\" : \"Klebsiella indica\",\n",
    "          \"k_michiganesis\" : \"Klebsiella michiganensis\",\n",
    "          \"k_oxytoca\" : \"Klebsiella oxytoca\",\n",
    "          \"k_pasteurii\" : \"Klebsiella pasteurii\",\n",
    "          \"k_pneumoniae\" : \"Klebsiella pneumoniae\",\n",
    "          \"k_quasipneumoniae\": \"Klebsiella quasipneumoniae\",\n",
    "          \"k_quasivariicola\" : \"Klebsiella quasivariicola\",\n",
    "          \"k_spallanzanii\" : \"Klebsiella spallanzanii\",\n",
    "          \"k_variicola\" : \"Klebsiella variicola\"}\n",
    "\n",
    "for specie in k_specie :\n",
    "    try : \n",
    "        path_genomes = f\"/home/conchae/prediction_depolymerase_tropism/{specie}/refseq/bacteria\"\n",
    "        n_genomes = len(os.listdir(path_genomes))\n",
    "        print(specie , n_genomes, sep = \"\\t\")\n",
    "    except FileNotFoundError :\n",
    "        print(specie, \"Check manually\", sep = \"\\t\")\n",
    "        "
   ]
  },
  {
   "cell_type": "raw",
   "id": "260a01cb-ec6e-45fe-aded-b56a5774fb73",
   "metadata": {},
   "source": [
    "k_aerogenes\t361\n",
    "k_africana\t3\n",
    "k_grimatii\t141\n",
    "k_huaxiensis\t3\n",
    "k_indica\t1\n",
    "k_michiganesis\t363\n",
    "k_oxytoca\t253\n",
    "k_pasteurii\t15\n",
    "k_pneumoniae\t12220\n",
    "k_quasipneumoniae\t675\n",
    "k_quasivariicola\t16\n",
    "k_spallanzanii\t4\n",
    "k_variicola\t546\n",
    "\n",
    "Total = 14601"
   ]
  },
  {
   "cell_type": "markdown",
   "id": "b9e893f3-09de-4727-ada3-9686ed265164",
   "metadata": {},
   "source": [
    "***"
   ]
  },
  {
   "cell_type": "code",
   "execution_count": null,
   "id": "ff3f797e-ceed-43e8-b9bd-3cd0157e5c8a",
   "metadata": {},
   "outputs": [],
   "source": [
    "import pandas as pd\n",
    "import os \n",
    "\n",
    "\n",
    "df_kleborate = pd.read_csv(f\"/home/conchae/prediction_depolymerase_tropism/results_kleborate_count.tsv\", sep = \"\\t\")\n"
   ]
  },
  {
   "cell_type": "markdown",
   "id": "e6d965ed-8e6b-406d-b895-b1983691edc4",
   "metadata": {},
   "source": [
    "12003 genomes"
   ]
  },
  {
   "cell_type": "markdown",
   "id": "fd09de3b-ef87-4c72-b404-8d8e6a9eb407",
   "metadata": {},
   "source": [
    "***"
   ]
  },
  {
   "cell_type": "code",
   "execution_count": null,
   "id": "e206dff9-4732-47ff-952f-942a97f0dfb8",
   "metadata": {},
   "outputs": [],
   "source": [
    "from os import system, listdir, chdir, mkdir\n",
    "from os.path import isdir\n",
    "import os\n",
    "\n",
    "path_tree = \"/home/conchae/prediction_depolymerase_tropism/iqtree_local/tree_files/basic_tree\"\n",
    "tree=[value.split(\":\")[0] for value in open(f\"{path_tree}/Klensiella_genomes_fixed.2.1.treefile\").read().split(\")\")]\n",
    "\n",
    "sh_alrt = [float(num.split(\"/\")[0]) for num in tree if num.count(\"/\")>0 and float(num.split(\"/\")[0])!=0.0]\n",
    "bootstrap = [float(num.split(\"/\")[1]) for num in tree if num.count(\"/\")>0 and float(num.split(\"/\")[0])!=0.0]\n",
    "\n",
    "sh_alrt_strict = [float(num.split(\"/\")[0]) for num in tree if num.count(\"/\")>0]\n",
    "bootstrap_strict = [float(num.split(\"/\")[1]) for num in tree if num.count(\"/\")>0]\n",
    "\n",
    "def Average(lst):\n",
    "    return sum(lst) / len(lst)\n",
    "\n",
    "import statistics\n",
    "median = statistics.median(sh_alrt_strict)\n",
    "\n",
    "###\n",
    "\n",
    "\n",
    "path_prefiles = \"/home/conchae/prediction_depolymerase_tropism/iqtree_local/pre_files\"\n",
    "\n",
    "len(open(f\"{path_prefiles}/Klebsiella_genomes.nucl.grp.aln\").read().split(\">\")[1].split(\"\\n\")[0])\n",
    "a = open(f\"{path_prefiles}/Klebsiella_genomes.nucl.grp.aln\").read().split(\">\")[1]\n",
    "\n",
    "# len = 498,179"
   ]
  }
 ],
 "metadata": {
  "kernelspec": {
   "display_name": "Python 3 (ipykernel)",
   "language": "python",
   "name": "python3"
  },
  "language_info": {
   "codemirror_mode": {
    "name": "ipython",
    "version": 3
   },
   "file_extension": ".py",
   "mimetype": "text/x-python",
   "name": "python",
   "nbconvert_exporter": "python",
   "pygments_lexer": "ipython3",
   "version": "3.11.4"
  },
  "widgets": {
   "application/vnd.jupyter.widget-state+json": {
    "state": {},
    "version_major": 2,
    "version_minor": 0
   }
  }
 },
 "nbformat": 4,
 "nbformat_minor": 5
}
