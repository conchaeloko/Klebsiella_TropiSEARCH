{
 "cells": [
  {
   "cell_type": "markdown",
   "metadata": {},
   "source": [
    "# **Domain boundaries predictions**<br>\n",
    "### Using ResDom to prediction the domain boundaries on the proteins where a hit was observed against the depolyerase domain database. The results will then be integrated with the PFAM alignments\n",
    "## 1. Generating a hmm profiles fror the proteins in the depolymerase DB\n",
    "## 2. Secondary structure predicted using SCRATCH\n",
    "## 3. The actual prediction\n",
    "## 4. Writting the fasta files\n",
    "***"
   ]
  },
  {
   "cell_type": "markdown",
   "metadata": {},
   "source": [
    "## 1. The Hhbuild command :\n"
   ]
  },
  {
   "cell_type": "code",
   "execution_count": 1,
   "metadata": {
    "collapsed": true,
    "jupyter": {
     "outputs_hidden": true
    }
   },
   "outputs": [
    {
     "ename": "SyntaxError",
     "evalue": "invalid syntax (3137951511.py, line 54)",
     "output_type": "error",
     "traceback": [
      "\u001b[0;36m  File \u001b[0;32m\"/tmp/ipykernel_131561/3137951511.py\"\u001b[0;36m, line \u001b[0;32m54\u001b[0m\n\u001b[0;31m    conda activate HH-suite3\u001b[0m\n\u001b[0m          ^\u001b[0m\n\u001b[0;31mSyntaxError\u001b[0m\u001b[0;31m:\u001b[0m invalid syntax\n"
     ]
    }
   ],
   "source": [
    "import os\n",
    "import subprocess\n",
    "from tqdm import tqdm\n",
    "from random import sample\n",
    "import time\n",
    "import pandas as pd\n",
    "from multiprocessing.pool import ThreadPool\n",
    "\n",
    "path_trunc = \"/home/conchae/prediction_depolymerase_tropism/prophage_prediction/depolymerase_decipher/Resdom/truncated_msa\"\n",
    "path_decipher = \"/home/conchae/prediction_depolymerase_tropism/prophage_prediction/prophage_decipher/phageboost/phageboost_70_20102022\"\n",
    "path_db = \"/home/conchae/prediction_depolymerase_tropism/prophage_prediction/depolymerase_decipher/15122022_session\"\n",
    "\n",
    "results_df = pd.read_csv(f\"{path_db}/Results_III_DataFrame.csv\", sep=\"\\t\", header = 0)\n",
    "sequence_df = pd.read_csv(f\"{path_db}/Results_III_sequences.csv\", sep = \"\\t\" ,names= [\"index\", \"sequence\"])\n",
    "\n",
    "def path_msa(id_seq) :\n",
    "    # PT 1 \n",
    "    df_id = results_df[results_df[\"index_seq\"]==int(id_seq)]\n",
    "    query = df_id.head(1)[\"protein_name\"].values[0]\n",
    "    \"From the protein seq_id, get a MSA\"\n",
    "    path_decipher = \"/home/conchae/prediction_depolymerase_tropism/prophage_prediction/prophage_decipher/phageboost/phageboost_70_20102022\"\n",
    "    strain , prophage = query.split(\"__\")[0], query.split(\"__\")[1]\n",
    "    path_tab = f\"{path_decipher}/{strain}/mmseqs_out/{prophage}/{query}.MSA.a2m\"\n",
    "    return path_tab, id_seq\n",
    "\n",
    "def truncate_msa(path_tab, id_seq):\n",
    "    list_seq = [\"\".join(seq.split(\"\\n\")[1:]) for seq in open(path_tab).read().split(\">\")[1:]]\n",
    "    list_seq_char = []\n",
    "    for index_l, seq_list in enumerate(list_seq) :\n",
    "        list_seq_char.append(list(seq_list))\n",
    "    list_names = [seq.split(\"\\n\")[0] for seq in open(path_tab).read().split(\">\")[1:]]\n",
    "    col_names = [str(n) for n in range(len(list_seq[0]))]\n",
    "    df_msa = pd.DataFrame(list_seq_char,index = list_names, columns = col_names)\n",
    "    query = df_msa.head(1)\n",
    "    query.transpose()\n",
    "    to_keep = []\n",
    "    for index_ , col in query.items() :\n",
    "        if col.values[0] != \"-\" :\n",
    "            to_keep.append(index_)\n",
    "    next_df = df_msa.filter(axis=1, items = to_keep)\n",
    "    with open(f\"{path_trunc}/{id_seq}.fasta\",\"w\") as outfile :\n",
    "        for index, row in next_df.iterrows() :\n",
    "            seq = []\n",
    "            for l in row :\n",
    "                seq.append(l)\n",
    "            outfile.write(f\">{index}\\n{''.join(seq)}\\n\")\n",
    "\n",
    "def generate_truncate(id_seq) :\n",
    "    path_tab , id_seq = path_msa(id_seq)\n",
    "    truncate_msa(path_tab, id_seq)\n",
    "    \n",
    "if __name__ == '__main__':\n",
    "    with ThreadPool(10) as pool:\n",
    "        pool.map(generate_truncate, sequence_df[\"index\"],chunksize = int(len(sequence_df[\"index\"])/10))\n",
    "\n",
    "def build_hmm(id_seq) :\n",
    "    path_msa = f\"/home/conchae/prediction_depolymerase_tropism/prophage_prediction/depolymerase_decipher/Resdom/truncated_msa/{id_seq}.fasta\"\n",
    "    path_hmm = \"/home/conchae/prediction_depolymerase_tropism/prophage_prediction/depolymerase_decipher/Resdom/hmm_profiles\"\n",
    "    out_path = f\"{path_hmm}/{id_seq}.ohmm\"\n",
    "    # ***********************************\n",
    "    build_cmd = f\"hhmake -o {out_path} -i {path_msa} -cons -name {id_seq}\"\n",
    "    build_subprocess = subprocess.Popen (build_cmd , shell = True, stdout = subprocess.PIPE, stderr = subprocess.STDOUT)\n",
    "    filter_out, filter_err = build_subprocess.communicate()\n",
    "    print(filter_out , filter_err)\n",
    "    \n",
    "if __name__ == '__main__':\n",
    "    with ThreadPool(10) as pool:\n",
    "        pool.map(build_hmm, sequence_df[\"index\"],chunksize = int(len(sequence_df[\"index\"])/10))\n",
    "\n",
    "            \n",
    "# *******************************************************************************************\n",
    "#!/bin/bash\n",
    "#BATCH --job-name=Uniref_\n",
    "#SBATCH --qos=long\n",
    "#SBATCH --ntasks=1 \n",
    "#SBATCH --cpus-per-task=60 \n",
    "#SBATCH --mem=120gb \n",
    "#SBATCH --time=10-00:00:00 \n",
    "#SBATCH --output=Uniref_%j.log \n",
    "\n",
    "source /storage/apps/ANACONDA/anaconda3/etc/profile.d/conda.sh\n",
    "conda activate HH-suite3\n",
    "\n",
    "\n",
    "python /home/conchae/prediction_depolymerase_tropism/prophage_prediction/depolymerase_decipher/Resdom/script_files/uniref.hmm.py"
   ]
  },
  {
   "cell_type": "markdown",
   "metadata": {},
   "source": [
    "***\n",
    "## 2. Scratch prediction"
   ]
  },
  {
   "cell_type": "code",
   "execution_count": null,
   "metadata": {},
   "outputs": [],
   "source": [
    "import os\n",
    "import random\n",
    "import subprocess\n",
    "from tqdm import tqdm\n",
    "from random import sample\n",
    "import time\n",
    "import pandas as pd\n",
    "\n",
    "path_decipher = \"/home/conchae/prediction_depolymerase_tropism/prophage_prediction/prophage_decipher/phageboost/phageboost_70_20102022\"\n",
    "path_depolymerase= \"/home/conchae/prediction_depolymerase_tropism/prophage_prediction/depolymerase_decipher/20102022_session\"\n",
    "path_pdb = \"/home/conchae/databases/pdb100_2020Mar11/pdb100_2020Mar11\"\n",
    "path_scratch = \"/home/conchae/databases/Scratch/SCRATCH-1D_1.3/bin\"\n",
    "path_out = \"/home/conchae/prediction_depolymerase_tropism/prophage_prediction/depolymerase_decipher/Resdom/scratch_prediction\"\n",
    "\n",
    "depolymerase_db = f\"{path_depolymerase}/depolymerase_proteins.DB.fasta\"\n",
    "\n",
    "    # The command line for each prot from the Elites :\n",
    "command_scratch = f\"{path_scratch}/run_SCRATCH-1D_predictors.sh {depolymerase_db} {path_out} 60\"\n",
    "scratch_subprocess = subprocess.Popen (command_scratch , shell = True, stdout = subprocess.PIPE, stderr = subprocess.STDOUT)\n",
    "scratch_out, scratch_err = scratch_subprocess.communicate()\n",
    "print(scratch_out, scratch_err)\n",
    "\n",
    "\n",
    "# **********************************************************************************************************\n",
    "#!/bin/bash\n",
    "#BATCH --job-name=scratch_\n",
    "#SBATCH --qos=long\n",
    "#SBATCH --ntasks=1 \n",
    "#SBATCH --cpus-per-task=60 \n",
    "#SBATCH --mem=150gb \n",
    "#SBATCH --time=12-00:00:00 \n",
    "#SBATCH --output=scratch_%j.log \n",
    "\n",
    "source /storage/apps/ANACONDA/anaconda3/etc/profile.d/conda.sh\n",
    "conda activate resdom\n",
    "\n",
    "/home/conchae/databases/Scratch/SCRATCH-1D_1.3/bin/run_SCRATCH-1D_predictors.sh  /home/conchae/prediction_depolymerase_tropism/prophage_prediction/depolymerase_decipher/20102022_session/depolymerase_proteins.DB.fasta /home/conchae/prediction_depolymerase_tropism/prophage_prediction/depolymerase_decipher/Resdom/scratch_prediction 60\n"
   ]
  },
  {
   "cell_type": "markdown",
   "metadata": {},
   "source": [
    "> Organize the results into convenient files"
   ]
  },
  {
   "cell_type": "code",
   "execution_count": null,
   "metadata": {},
   "outputs": [],
   "source": [
    "import os\n",
    "\n",
    "path_out = \"/home/conchae/prediction_depolymerase_tropism/prophage_prediction/depolymerase_decipher/Resdom/scratch_prediction\"\n",
    "\n",
    "scratch_acc = open(f\"{path_out}/scratch_07022023.acc\").read().split(\">\")[1:]\n",
    "scratch_ss  = open(f\"{path_out}/scratch_07022023.ss\").read().split(\">\")[1:]\n",
    "\n",
    "scratch_results = {\".acc\" : scratch_acc, \".ss\" : scratch_ss}\n",
    "\n",
    "for suffix in scratch_results :\n",
    "    for index, seq in enumerate(scratch_results[suffix]) :\n",
    "        idex_seq = seq.split(\"\\n\")[0]\n",
    "        info_seq = seq.split(\"\\n\")[1]\n",
    "        with open(f\"{path_out}/{idex_seq}{suffix}\",\"w\") as outfile :\n",
    "            outfile.write(f\">{idex_seq}\\n{info_seq}\")\n"
   ]
  },
  {
   "cell_type": "markdown",
   "metadata": {},
   "source": [
    "***\n",
    "## 3. ESM prediction \n"
   ]
  },
  {
   "cell_type": "markdown",
   "metadata": {},
   "source": [
    "> Installing the version esm2"
   ]
  },
  {
   "cell_type": "code",
   "execution_count": null,
   "metadata": {},
   "outputs": [],
   "source": [
    "python -m pip install transformers[esm2_t33_650M_UR50D] --ignore-installed certifi"
   ]
  },
  {
   "cell_type": "markdown",
   "metadata": {},
   "source": [
    ">The prediction "
   ]
  },
  {
   "cell_type": "code",
   "execution_count": null,
   "metadata": {},
   "outputs": [],
   "source": [
    "python /home/conchae/prediction_depolymerase_tropism/prophage_prediction/depolymerase_decipher/Resdom/script_files/extract.py \\\n",
    "esm1_t34_670M_UR50S \\\n",
    "/home/conchae/prediction_depolymerase_tropism/prophage_prediction/depolymerase_decipher/15122022_session/Results_III_sequences.fasta \\\n",
    "/home/conchae/prediction_depolymerase_tropism/prophage_prediction/depolymerase_decipher/Resdom/esm_prediction/esm.07022023.predict.out \\\n",
    "--truncation_seq_length 1022 \\\n",
    "--repr_layers 34 \\\n",
    "--include mean"
   ]
  },
  {
   "cell_type": "markdown",
   "metadata": {},
   "source": [
    "***\n",
    "# 4. The fasta files"
   ]
  },
  {
   "cell_type": "code",
   "execution_count": null,
   "metadata": {},
   "outputs": [],
   "source": [
    "import os\n",
    "import pandas as pd\n",
    "\n",
    "path_decipher = \"/home/conchae/prediction_depolymerase_tropism/prophage_prediction/prophage_decipher/phageboost/phageboost_70_20102022\"\n",
    "path_db = \"/home/conchae/prediction_depolymerase_tropism/prophage_prediction/depolymerase_decipher/15122022_session\"\n",
    "path_out = \"/home/conchae/prediction_depolymerase_tropism/prophage_prediction/depolymerase_decipher/Resdom/fasta_files\"\n",
    "\n",
    "sequence_df = pd.read_csv(f\"{path_db}/Results_III_sequences.csv\", sep = \"\\t\" ,names= [\"index\", \"sequence\"])\n",
    "\n",
    "for index, row in sequence_df.iterrows():\n",
    "    with open(f\"{path_out}/{row['index']}.fasta\",\"w\") as outfile :\n",
    "        outfile.write(f\">{row['index']}\\n{row['sequence']}\")\n"
   ]
  }
 ],
 "metadata": {
  "kernelspec": {
   "display_name": "Python 3",
   "language": "python",
   "name": "python3"
  },
  "language_info": {
   "codemirror_mode": {
    "name": "ipython",
    "version": 3
   },
   "file_extension": ".py",
   "mimetype": "text/x-python",
   "name": "python",
   "nbconvert_exporter": "python",
   "pygments_lexer": "ipython3",
   "version": "3.7.6"
  }
 },
 "nbformat": 4,
 "nbformat_minor": 4
}
